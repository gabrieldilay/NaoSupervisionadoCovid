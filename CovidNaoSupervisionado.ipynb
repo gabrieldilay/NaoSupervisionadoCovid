{
  "nbformat": 4,
  "nbformat_minor": 0,
  "metadata": {
    "colab": {
      "provenance": [],
      "authorship_tag": "ABX9TyPriwsLus83B5i1UTi+8I7w",
      "include_colab_link": true
    },
    "kernelspec": {
      "name": "python3",
      "display_name": "Python 3"
    },
    "language_info": {
      "name": "python"
    }
  },
  "cells": [
    {
      "cell_type": "markdown",
      "metadata": {
        "id": "view-in-github",
        "colab_type": "text"
      },
      "source": [
        "<a href=\"https://colab.research.google.com/github/gabrieldilay/NaoSupervisionadoCovid/blob/main/CovidNaoSupervisionado.ipynb\" target=\"_parent\"><img src=\"https://colab.research.google.com/assets/colab-badge.svg\" alt=\"Open In Colab\"/></a>"
      ]
    },
    {
      "cell_type": "code",
      "execution_count": null,
      "metadata": {
        "id": "ftqXh8LWID8U"
      },
      "outputs": [],
      "source": [
        "import numpy as np\n",
        "import pandas as pd"
      ]
    },
    {
      "cell_type": "code",
      "source": [
        "from google.colab import drive\n",
        "drive.mount('/content/drive')"
      ],
      "metadata": {
        "colab": {
          "base_uri": "https://localhost:8080/"
        },
        "id": "M-rr7J5zIEx0",
        "outputId": "8f0be3d0-66eb-45d8-c0a5-e991f89ab241"
      },
      "execution_count": null,
      "outputs": [
        {
          "output_type": "stream",
          "name": "stdout",
          "text": [
            "Mounted at /content/drive\n"
          ]
        }
      ]
    },
    {
      "cell_type": "code",
      "source": [
        "import warnings\n",
        "warnings.filterwarnings(\"ignore\")"
      ],
      "metadata": {
        "id": "g2t70f13IF_s"
      },
      "execution_count": null,
      "outputs": []
    },
    {
      "cell_type": "code",
      "source": [
        "df = pd.read_csv('/content/drive/MyDrive/TrabNaoSupervisionado/menor.csv',\n",
        "                    sep=';', encoding='iso-8859-1')"
      ],
      "metadata": {
        "id": "1Qf6WLhFIHQd"
      },
      "execution_count": null,
      "outputs": []
    },
    {
      "cell_type": "code",
      "source": [
        "df.head()"
      ],
      "metadata": {
        "colab": {
          "base_uri": "https://localhost:8080/",
          "height": 206
        },
        "id": "OGUI_WqRIIjU",
        "outputId": "6df634d2-c30a-456f-f181-feb25dd9d3ba"
      },
      "execution_count": null,
      "outputs": [
        {
          "output_type": "execute_result",
          "data": {
            "text/plain": [
              "  DATA INCLUSÃO/ NOTIFICAÇÃO CLASSIFICAÇÃO FINAL  IDADE (anos) SEXO  \\\n",
              "0                 11/03/2020          CONFIRMADO            54    M   \n",
              "1                 12/03/2020          CONFIRMADO            15    M   \n",
              "2                 12/03/2020          CONFIRMADO            43    M   \n",
              "3                 12/03/2020          CONFIRMADO            25    F   \n",
              "4                 12/03/2020          CONFIRMADO            58    M   \n",
              "\n",
              "       BAIRRO DISTRITO RESIDÊNCIA INTERNADO (SIM/NÃO) DATA COLETA EXAME  \\\n",
              "0  CRISTO REI                DSMZ                 NÃO        09/03/2020   \n",
              "1       XAXIM                DSBQ                 NÃO        08/03/2020   \n",
              "2       XAXIM                DSBQ                 NÃO        09/03/2020   \n",
              "3  CRISTO REI                DSMZ                 NÃO        09/03/2020   \n",
              "4      MERCÊS                DSMZ                 NÃO        09/03/2020   \n",
              "\n",
              "  DATA ÓBITO ENCERRAMENTO  \n",
              "0        NaN   RECUPERADO  \n",
              "1        NaN   RECUPERADO  \n",
              "2        NaN   RECUPERADO  \n",
              "3        NaN   RECUPERADO  \n",
              "4        NaN   RECUPERADO  "
            ],
            "text/html": [
              "\n",
              "  <div id=\"df-f1c7bee0-17e6-480c-98fa-a959435564e4\">\n",
              "    <div class=\"colab-df-container\">\n",
              "      <div>\n",
              "<style scoped>\n",
              "    .dataframe tbody tr th:only-of-type {\n",
              "        vertical-align: middle;\n",
              "    }\n",
              "\n",
              "    .dataframe tbody tr th {\n",
              "        vertical-align: top;\n",
              "    }\n",
              "\n",
              "    .dataframe thead th {\n",
              "        text-align: right;\n",
              "    }\n",
              "</style>\n",
              "<table border=\"1\" class=\"dataframe\">\n",
              "  <thead>\n",
              "    <tr style=\"text-align: right;\">\n",
              "      <th></th>\n",
              "      <th>DATA INCLUSÃO/ NOTIFICAÇÃO</th>\n",
              "      <th>CLASSIFICAÇÃO FINAL</th>\n",
              "      <th>IDADE (anos)</th>\n",
              "      <th>SEXO</th>\n",
              "      <th>BAIRRO</th>\n",
              "      <th>DISTRITO RESIDÊNCIA</th>\n",
              "      <th>INTERNADO (SIM/NÃO)</th>\n",
              "      <th>DATA COLETA EXAME</th>\n",
              "      <th>DATA ÓBITO</th>\n",
              "      <th>ENCERRAMENTO</th>\n",
              "    </tr>\n",
              "  </thead>\n",
              "  <tbody>\n",
              "    <tr>\n",
              "      <th>0</th>\n",
              "      <td>11/03/2020</td>\n",
              "      <td>CONFIRMADO</td>\n",
              "      <td>54</td>\n",
              "      <td>M</td>\n",
              "      <td>CRISTO REI</td>\n",
              "      <td>DSMZ</td>\n",
              "      <td>NÃO</td>\n",
              "      <td>09/03/2020</td>\n",
              "      <td>NaN</td>\n",
              "      <td>RECUPERADO</td>\n",
              "    </tr>\n",
              "    <tr>\n",
              "      <th>1</th>\n",
              "      <td>12/03/2020</td>\n",
              "      <td>CONFIRMADO</td>\n",
              "      <td>15</td>\n",
              "      <td>M</td>\n",
              "      <td>XAXIM</td>\n",
              "      <td>DSBQ</td>\n",
              "      <td>NÃO</td>\n",
              "      <td>08/03/2020</td>\n",
              "      <td>NaN</td>\n",
              "      <td>RECUPERADO</td>\n",
              "    </tr>\n",
              "    <tr>\n",
              "      <th>2</th>\n",
              "      <td>12/03/2020</td>\n",
              "      <td>CONFIRMADO</td>\n",
              "      <td>43</td>\n",
              "      <td>M</td>\n",
              "      <td>XAXIM</td>\n",
              "      <td>DSBQ</td>\n",
              "      <td>NÃO</td>\n",
              "      <td>09/03/2020</td>\n",
              "      <td>NaN</td>\n",
              "      <td>RECUPERADO</td>\n",
              "    </tr>\n",
              "    <tr>\n",
              "      <th>3</th>\n",
              "      <td>12/03/2020</td>\n",
              "      <td>CONFIRMADO</td>\n",
              "      <td>25</td>\n",
              "      <td>F</td>\n",
              "      <td>CRISTO REI</td>\n",
              "      <td>DSMZ</td>\n",
              "      <td>NÃO</td>\n",
              "      <td>09/03/2020</td>\n",
              "      <td>NaN</td>\n",
              "      <td>RECUPERADO</td>\n",
              "    </tr>\n",
              "    <tr>\n",
              "      <th>4</th>\n",
              "      <td>12/03/2020</td>\n",
              "      <td>CONFIRMADO</td>\n",
              "      <td>58</td>\n",
              "      <td>M</td>\n",
              "      <td>MERCÊS</td>\n",
              "      <td>DSMZ</td>\n",
              "      <td>NÃO</td>\n",
              "      <td>09/03/2020</td>\n",
              "      <td>NaN</td>\n",
              "      <td>RECUPERADO</td>\n",
              "    </tr>\n",
              "  </tbody>\n",
              "</table>\n",
              "</div>\n",
              "      <button class=\"colab-df-convert\" onclick=\"convertToInteractive('df-f1c7bee0-17e6-480c-98fa-a959435564e4')\"\n",
              "              title=\"Convert this dataframe to an interactive table.\"\n",
              "              style=\"display:none;\">\n",
              "        \n",
              "  <svg xmlns=\"http://www.w3.org/2000/svg\" height=\"24px\"viewBox=\"0 0 24 24\"\n",
              "       width=\"24px\">\n",
              "    <path d=\"M0 0h24v24H0V0z\" fill=\"none\"/>\n",
              "    <path d=\"M18.56 5.44l.94 2.06.94-2.06 2.06-.94-2.06-.94-.94-2.06-.94 2.06-2.06.94zm-11 1L8.5 8.5l.94-2.06 2.06-.94-2.06-.94L8.5 2.5l-.94 2.06-2.06.94zm10 10l.94 2.06.94-2.06 2.06-.94-2.06-.94-.94-2.06-.94 2.06-2.06.94z\"/><path d=\"M17.41 7.96l-1.37-1.37c-.4-.4-.92-.59-1.43-.59-.52 0-1.04.2-1.43.59L10.3 9.45l-7.72 7.72c-.78.78-.78 2.05 0 2.83L4 21.41c.39.39.9.59 1.41.59.51 0 1.02-.2 1.41-.59l7.78-7.78 2.81-2.81c.8-.78.8-2.07 0-2.86zM5.41 20L4 18.59l7.72-7.72 1.47 1.35L5.41 20z\"/>\n",
              "  </svg>\n",
              "      </button>\n",
              "      \n",
              "  <style>\n",
              "    .colab-df-container {\n",
              "      display:flex;\n",
              "      flex-wrap:wrap;\n",
              "      gap: 12px;\n",
              "    }\n",
              "\n",
              "    .colab-df-convert {\n",
              "      background-color: #E8F0FE;\n",
              "      border: none;\n",
              "      border-radius: 50%;\n",
              "      cursor: pointer;\n",
              "      display: none;\n",
              "      fill: #1967D2;\n",
              "      height: 32px;\n",
              "      padding: 0 0 0 0;\n",
              "      width: 32px;\n",
              "    }\n",
              "\n",
              "    .colab-df-convert:hover {\n",
              "      background-color: #E2EBFA;\n",
              "      box-shadow: 0px 1px 2px rgba(60, 64, 67, 0.3), 0px 1px 3px 1px rgba(60, 64, 67, 0.15);\n",
              "      fill: #174EA6;\n",
              "    }\n",
              "\n",
              "    [theme=dark] .colab-df-convert {\n",
              "      background-color: #3B4455;\n",
              "      fill: #D2E3FC;\n",
              "    }\n",
              "\n",
              "    [theme=dark] .colab-df-convert:hover {\n",
              "      background-color: #434B5C;\n",
              "      box-shadow: 0px 1px 3px 1px rgba(0, 0, 0, 0.15);\n",
              "      filter: drop-shadow(0px 1px 2px rgba(0, 0, 0, 0.3));\n",
              "      fill: #FFFFFF;\n",
              "    }\n",
              "  </style>\n",
              "\n",
              "      <script>\n",
              "        const buttonEl =\n",
              "          document.querySelector('#df-f1c7bee0-17e6-480c-98fa-a959435564e4 button.colab-df-convert');\n",
              "        buttonEl.style.display =\n",
              "          google.colab.kernel.accessAllowed ? 'block' : 'none';\n",
              "\n",
              "        async function convertToInteractive(key) {\n",
              "          const element = document.querySelector('#df-f1c7bee0-17e6-480c-98fa-a959435564e4');\n",
              "          const dataTable =\n",
              "            await google.colab.kernel.invokeFunction('convertToInteractive',\n",
              "                                                     [key], {});\n",
              "          if (!dataTable) return;\n",
              "\n",
              "          const docLinkHtml = 'Like what you see? Visit the ' +\n",
              "            '<a target=\"_blank\" href=https://colab.research.google.com/notebooks/data_table.ipynb>data table notebook</a>'\n",
              "            + ' to learn more about interactive tables.';\n",
              "          element.innerHTML = '';\n",
              "          dataTable['output_type'] = 'display_data';\n",
              "          await google.colab.output.renderOutput(dataTable, element);\n",
              "          const docLink = document.createElement('div');\n",
              "          docLink.innerHTML = docLinkHtml;\n",
              "          element.appendChild(docLink);\n",
              "        }\n",
              "      </script>\n",
              "    </div>\n",
              "  </div>\n",
              "  "
            ]
          },
          "metadata": {},
          "execution_count": 5
        }
      ]
    },
    {
      "cell_type": "code",
      "source": [
        "df.info()"
      ],
      "metadata": {
        "colab": {
          "base_uri": "https://localhost:8080/"
        },
        "id": "jSxOmvgkRNoW",
        "outputId": "7b75a4f2-01b7-4c69-cff4-cf97ff2ba6c5"
      },
      "execution_count": null,
      "outputs": [
        {
          "output_type": "stream",
          "name": "stdout",
          "text": [
            "<class 'pandas.core.frame.DataFrame'>\n",
            "RangeIndex: 5903 entries, 0 to 5902\n",
            "Data columns (total 10 columns):\n",
            " #   Column                      Non-Null Count  Dtype \n",
            "---  ------                      --------------  ----- \n",
            " 0   DATA INCLUSÃO/ NOTIFICAÇÃO  5903 non-null   object\n",
            " 1   CLASSIFICAÇÃO FINAL         5903 non-null   object\n",
            " 2   IDADE (anos)                5903 non-null   int64 \n",
            " 3   SEXO                        5903 non-null   object\n",
            " 4   BAIRRO                      5877 non-null   object\n",
            " 5   DISTRITO RESIDÊNCIA         5877 non-null   object\n",
            " 6   INTERNADO (SIM/NÃO)         5903 non-null   object\n",
            " 7   DATA COLETA EXAME           5903 non-null   object\n",
            " 8   DATA ÓBITO                  281 non-null    object\n",
            " 9   ENCERRAMENTO                5903 non-null   object\n",
            "dtypes: int64(1), object(9)\n",
            "memory usage: 461.3+ KB\n"
          ]
        }
      ]
    },
    {
      "cell_type": "markdown",
      "source": [
        "## Limpeza e Tratamento dos dados"
      ],
      "metadata": {
        "id": "-tAdOT4VLk8G"
      }
    },
    {
      "cell_type": "code",
      "source": [
        "#Verificar os valores unicos da coluna CLASSIFICAÇÃO FINAL\n",
        "df['CLASSIFICAÇÃO FINAL'].unique()"
      ],
      "metadata": {
        "colab": {
          "base_uri": "https://localhost:8080/"
        },
        "id": "tU3RIdL9Imad",
        "outputId": "8f5443c7-23c2-48bb-a493-3f45a6d3e041"
      },
      "execution_count": null,
      "outputs": [
        {
          "output_type": "execute_result",
          "data": {
            "text/plain": [
              "array(['CONFIRMADO'], dtype=object)"
            ]
          },
          "metadata": {},
          "execution_count": 7
        }
      ]
    },
    {
      "cell_type": "code",
      "source": [
        "#Verificar os valores unicos da coluna ENCERRAMENTO\n",
        "df['ENCERRAMENTO'].unique()"
      ],
      "metadata": {
        "colab": {
          "base_uri": "https://localhost:8080/"
        },
        "id": "eRHZPUUuIxv0",
        "outputId": "a3e4d181-6679-424e-e0b2-f55872103136"
      },
      "execution_count": null,
      "outputs": [
        {
          "output_type": "execute_result",
          "data": {
            "text/plain": [
              "array(['RECUPERADO', 'ÓBITO CONF'], dtype=object)"
            ]
          },
          "metadata": {},
          "execution_count": 8
        }
      ]
    },
    {
      "cell_type": "code",
      "source": [
        "#SUBSTITUIR OS VALORES POR NUMEROS\n",
        "#RECUPERADO = 0, OBITO = 1, ATIVO = 2\n",
        "\n",
        "df['ENCERRAMENTO'].replace({'RECUPERADO':0, 'ÓBITO CONF':1, 'ATIVO':2}, inplace=True)"
      ],
      "metadata": {
        "id": "bmLcnr5OJIAE"
      },
      "execution_count": null,
      "outputs": []
    },
    {
      "cell_type": "code",
      "source": [
        "df['ENCERRAMENTO'].unique()"
      ],
      "metadata": {
        "colab": {
          "base_uri": "https://localhost:8080/"
        },
        "id": "7MZsqO0TJQsX",
        "outputId": "a0ea5c14-5b11-4666-b5e8-1546c6c824a8"
      },
      "execution_count": null,
      "outputs": [
        {
          "output_type": "execute_result",
          "data": {
            "text/plain": [
              "array([0, 1])"
            ]
          },
          "metadata": {},
          "execution_count": 10
        }
      ]
    },
    {
      "cell_type": "code",
      "source": [
        "#TROCAR O NOME DA COLUNA ENCERRAMENTO PARA STATUS\n",
        "df.rename(columns={'ENCERRAMENTO': 'STATUS'}, inplace=True)"
      ],
      "metadata": {
        "id": "zRgUQd-DLN2-"
      },
      "execution_count": null,
      "outputs": []
    },
    {
      "cell_type": "code",
      "source": [
        "#TROCAR O NOME DA COLUNA IDADE (ANOS) PARA IDADE\n",
        "df.rename(columns={'IDADE (anos)': 'IDADE'}, inplace=True)"
      ],
      "metadata": {
        "id": "BZklvQAJJYQz"
      },
      "execution_count": null,
      "outputs": []
    },
    {
      "cell_type": "code",
      "source": [
        "#TROCAR O NOME DA COLUNA INTERNADO (SIM/NAO) PARA INTERNADO\n",
        "df.rename(columns={'INTERNADO (SIM/NÃO)': 'INTERNADO'}, inplace=True)"
      ],
      "metadata": {
        "id": "rcS1KTmbJjpb"
      },
      "execution_count": null,
      "outputs": []
    },
    {
      "cell_type": "code",
      "source": [
        "df['INTERNADO'].unique()"
      ],
      "metadata": {
        "colab": {
          "base_uri": "https://localhost:8080/"
        },
        "id": "VmU2nJNsJnql",
        "outputId": "db10c951-33b7-4ffa-e80c-278f26352a98"
      },
      "execution_count": null,
      "outputs": [
        {
          "output_type": "execute_result",
          "data": {
            "text/plain": [
              "array(['NÃO', 'SIM'], dtype=object)"
            ]
          },
          "metadata": {},
          "execution_count": 14
        }
      ]
    },
    {
      "cell_type": "code",
      "source": [
        "#TROCANDO UM VALOR ERRADO sIM para SIM\n",
        "df['INTERNADO'].replace({'sIM':'SIM'}, inplace=True)"
      ],
      "metadata": {
        "id": "lIVctyJ7JtPO"
      },
      "execution_count": null,
      "outputs": []
    },
    {
      "cell_type": "code",
      "source": [
        "df['INTERNADO'].unique()"
      ],
      "metadata": {
        "colab": {
          "base_uri": "https://localhost:8080/"
        },
        "id": "4EWAZdqUJ1C3",
        "outputId": "7b626da9-25c0-4b16-bba1-37cd0f3bc48e"
      },
      "execution_count": null,
      "outputs": [
        {
          "output_type": "execute_result",
          "data": {
            "text/plain": [
              "array(['NÃO', 'SIM'], dtype=object)"
            ]
          },
          "metadata": {},
          "execution_count": 16
        }
      ]
    },
    {
      "cell_type": "code",
      "source": [
        "#SUBSTITUIR VALORES DA COLUNA INTERNADO PARA NUMEROS\n",
        "#NAO = 0 E SIM = 1\n",
        "df['INTERNADO'].replace({'NÃO':0, 'SIM':1}, inplace=True)"
      ],
      "metadata": {
        "id": "SsUN0cDAJ3ek"
      },
      "execution_count": null,
      "outputs": []
    },
    {
      "cell_type": "code",
      "source": [
        "df['SEXO'].unique()"
      ],
      "metadata": {
        "colab": {
          "base_uri": "https://localhost:8080/"
        },
        "id": "NyMesCReNEA8",
        "outputId": "3e8b00ef-9e03-4b9a-e735-6b105b0d9583"
      },
      "execution_count": null,
      "outputs": [
        {
          "output_type": "execute_result",
          "data": {
            "text/plain": [
              "array(['M', 'F'], dtype=object)"
            ]
          },
          "metadata": {},
          "execution_count": 18
        }
      ]
    },
    {
      "cell_type": "code",
      "source": [
        "#SUBSTITUIR VALORES DA COLUNA SEXO PARA UM PADRAO\n",
        "df['SEXO'].replace({'m':'M', 'f':'F'}, inplace=True)"
      ],
      "metadata": {
        "id": "XGWbxRpCNGbs"
      },
      "execution_count": null,
      "outputs": []
    },
    {
      "cell_type": "code",
      "source": [
        "df.head()"
      ],
      "metadata": {
        "colab": {
          "base_uri": "https://localhost:8080/",
          "height": 206
        },
        "id": "z1rglFOJJ_b0",
        "outputId": "05421e8f-4e9f-4c7e-b9ef-357447c05a3f"
      },
      "execution_count": null,
      "outputs": [
        {
          "output_type": "execute_result",
          "data": {
            "text/plain": [
              "  DATA INCLUSÃO/ NOTIFICAÇÃO CLASSIFICAÇÃO FINAL  IDADE SEXO      BAIRRO  \\\n",
              "0                 11/03/2020          CONFIRMADO     54    M  CRISTO REI   \n",
              "1                 12/03/2020          CONFIRMADO     15    M       XAXIM   \n",
              "2                 12/03/2020          CONFIRMADO     43    M       XAXIM   \n",
              "3                 12/03/2020          CONFIRMADO     25    F  CRISTO REI   \n",
              "4                 12/03/2020          CONFIRMADO     58    M      MERCÊS   \n",
              "\n",
              "  DISTRITO RESIDÊNCIA  INTERNADO DATA COLETA EXAME DATA ÓBITO  STATUS  \n",
              "0                DSMZ          0        09/03/2020        NaN       0  \n",
              "1                DSBQ          0        08/03/2020        NaN       0  \n",
              "2                DSBQ          0        09/03/2020        NaN       0  \n",
              "3                DSMZ          0        09/03/2020        NaN       0  \n",
              "4                DSMZ          0        09/03/2020        NaN       0  "
            ],
            "text/html": [
              "\n",
              "  <div id=\"df-4f7f5e3c-1681-4688-9fb3-04387c47540c\">\n",
              "    <div class=\"colab-df-container\">\n",
              "      <div>\n",
              "<style scoped>\n",
              "    .dataframe tbody tr th:only-of-type {\n",
              "        vertical-align: middle;\n",
              "    }\n",
              "\n",
              "    .dataframe tbody tr th {\n",
              "        vertical-align: top;\n",
              "    }\n",
              "\n",
              "    .dataframe thead th {\n",
              "        text-align: right;\n",
              "    }\n",
              "</style>\n",
              "<table border=\"1\" class=\"dataframe\">\n",
              "  <thead>\n",
              "    <tr style=\"text-align: right;\">\n",
              "      <th></th>\n",
              "      <th>DATA INCLUSÃO/ NOTIFICAÇÃO</th>\n",
              "      <th>CLASSIFICAÇÃO FINAL</th>\n",
              "      <th>IDADE</th>\n",
              "      <th>SEXO</th>\n",
              "      <th>BAIRRO</th>\n",
              "      <th>DISTRITO RESIDÊNCIA</th>\n",
              "      <th>INTERNADO</th>\n",
              "      <th>DATA COLETA EXAME</th>\n",
              "      <th>DATA ÓBITO</th>\n",
              "      <th>STATUS</th>\n",
              "    </tr>\n",
              "  </thead>\n",
              "  <tbody>\n",
              "    <tr>\n",
              "      <th>0</th>\n",
              "      <td>11/03/2020</td>\n",
              "      <td>CONFIRMADO</td>\n",
              "      <td>54</td>\n",
              "      <td>M</td>\n",
              "      <td>CRISTO REI</td>\n",
              "      <td>DSMZ</td>\n",
              "      <td>0</td>\n",
              "      <td>09/03/2020</td>\n",
              "      <td>NaN</td>\n",
              "      <td>0</td>\n",
              "    </tr>\n",
              "    <tr>\n",
              "      <th>1</th>\n",
              "      <td>12/03/2020</td>\n",
              "      <td>CONFIRMADO</td>\n",
              "      <td>15</td>\n",
              "      <td>M</td>\n",
              "      <td>XAXIM</td>\n",
              "      <td>DSBQ</td>\n",
              "      <td>0</td>\n",
              "      <td>08/03/2020</td>\n",
              "      <td>NaN</td>\n",
              "      <td>0</td>\n",
              "    </tr>\n",
              "    <tr>\n",
              "      <th>2</th>\n",
              "      <td>12/03/2020</td>\n",
              "      <td>CONFIRMADO</td>\n",
              "      <td>43</td>\n",
              "      <td>M</td>\n",
              "      <td>XAXIM</td>\n",
              "      <td>DSBQ</td>\n",
              "      <td>0</td>\n",
              "      <td>09/03/2020</td>\n",
              "      <td>NaN</td>\n",
              "      <td>0</td>\n",
              "    </tr>\n",
              "    <tr>\n",
              "      <th>3</th>\n",
              "      <td>12/03/2020</td>\n",
              "      <td>CONFIRMADO</td>\n",
              "      <td>25</td>\n",
              "      <td>F</td>\n",
              "      <td>CRISTO REI</td>\n",
              "      <td>DSMZ</td>\n",
              "      <td>0</td>\n",
              "      <td>09/03/2020</td>\n",
              "      <td>NaN</td>\n",
              "      <td>0</td>\n",
              "    </tr>\n",
              "    <tr>\n",
              "      <th>4</th>\n",
              "      <td>12/03/2020</td>\n",
              "      <td>CONFIRMADO</td>\n",
              "      <td>58</td>\n",
              "      <td>M</td>\n",
              "      <td>MERCÊS</td>\n",
              "      <td>DSMZ</td>\n",
              "      <td>0</td>\n",
              "      <td>09/03/2020</td>\n",
              "      <td>NaN</td>\n",
              "      <td>0</td>\n",
              "    </tr>\n",
              "  </tbody>\n",
              "</table>\n",
              "</div>\n",
              "      <button class=\"colab-df-convert\" onclick=\"convertToInteractive('df-4f7f5e3c-1681-4688-9fb3-04387c47540c')\"\n",
              "              title=\"Convert this dataframe to an interactive table.\"\n",
              "              style=\"display:none;\">\n",
              "        \n",
              "  <svg xmlns=\"http://www.w3.org/2000/svg\" height=\"24px\"viewBox=\"0 0 24 24\"\n",
              "       width=\"24px\">\n",
              "    <path d=\"M0 0h24v24H0V0z\" fill=\"none\"/>\n",
              "    <path d=\"M18.56 5.44l.94 2.06.94-2.06 2.06-.94-2.06-.94-.94-2.06-.94 2.06-2.06.94zm-11 1L8.5 8.5l.94-2.06 2.06-.94-2.06-.94L8.5 2.5l-.94 2.06-2.06.94zm10 10l.94 2.06.94-2.06 2.06-.94-2.06-.94-.94-2.06-.94 2.06-2.06.94z\"/><path d=\"M17.41 7.96l-1.37-1.37c-.4-.4-.92-.59-1.43-.59-.52 0-1.04.2-1.43.59L10.3 9.45l-7.72 7.72c-.78.78-.78 2.05 0 2.83L4 21.41c.39.39.9.59 1.41.59.51 0 1.02-.2 1.41-.59l7.78-7.78 2.81-2.81c.8-.78.8-2.07 0-2.86zM5.41 20L4 18.59l7.72-7.72 1.47 1.35L5.41 20z\"/>\n",
              "  </svg>\n",
              "      </button>\n",
              "      \n",
              "  <style>\n",
              "    .colab-df-container {\n",
              "      display:flex;\n",
              "      flex-wrap:wrap;\n",
              "      gap: 12px;\n",
              "    }\n",
              "\n",
              "    .colab-df-convert {\n",
              "      background-color: #E8F0FE;\n",
              "      border: none;\n",
              "      border-radius: 50%;\n",
              "      cursor: pointer;\n",
              "      display: none;\n",
              "      fill: #1967D2;\n",
              "      height: 32px;\n",
              "      padding: 0 0 0 0;\n",
              "      width: 32px;\n",
              "    }\n",
              "\n",
              "    .colab-df-convert:hover {\n",
              "      background-color: #E2EBFA;\n",
              "      box-shadow: 0px 1px 2px rgba(60, 64, 67, 0.3), 0px 1px 3px 1px rgba(60, 64, 67, 0.15);\n",
              "      fill: #174EA6;\n",
              "    }\n",
              "\n",
              "    [theme=dark] .colab-df-convert {\n",
              "      background-color: #3B4455;\n",
              "      fill: #D2E3FC;\n",
              "    }\n",
              "\n",
              "    [theme=dark] .colab-df-convert:hover {\n",
              "      background-color: #434B5C;\n",
              "      box-shadow: 0px 1px 3px 1px rgba(0, 0, 0, 0.15);\n",
              "      filter: drop-shadow(0px 1px 2px rgba(0, 0, 0, 0.3));\n",
              "      fill: #FFFFFF;\n",
              "    }\n",
              "  </style>\n",
              "\n",
              "      <script>\n",
              "        const buttonEl =\n",
              "          document.querySelector('#df-4f7f5e3c-1681-4688-9fb3-04387c47540c button.colab-df-convert');\n",
              "        buttonEl.style.display =\n",
              "          google.colab.kernel.accessAllowed ? 'block' : 'none';\n",
              "\n",
              "        async function convertToInteractive(key) {\n",
              "          const element = document.querySelector('#df-4f7f5e3c-1681-4688-9fb3-04387c47540c');\n",
              "          const dataTable =\n",
              "            await google.colab.kernel.invokeFunction('convertToInteractive',\n",
              "                                                     [key], {});\n",
              "          if (!dataTable) return;\n",
              "\n",
              "          const docLinkHtml = 'Like what you see? Visit the ' +\n",
              "            '<a target=\"_blank\" href=https://colab.research.google.com/notebooks/data_table.ipynb>data table notebook</a>'\n",
              "            + ' to learn more about interactive tables.';\n",
              "          element.innerHTML = '';\n",
              "          dataTable['output_type'] = 'display_data';\n",
              "          await google.colab.output.renderOutput(dataTable, element);\n",
              "          const docLink = document.createElement('div');\n",
              "          docLink.innerHTML = docLinkHtml;\n",
              "          element.appendChild(docLink);\n",
              "        }\n",
              "      </script>\n",
              "    </div>\n",
              "  </div>\n",
              "  "
            ]
          },
          "metadata": {},
          "execution_count": 20
        }
      ]
    },
    {
      "cell_type": "code",
      "source": [
        "df.info()"
      ],
      "metadata": {
        "colab": {
          "base_uri": "https://localhost:8080/"
        },
        "id": "R92bUbSnKd-k",
        "outputId": "ca45d303-2654-4a22-b485-f2c978166a35"
      },
      "execution_count": null,
      "outputs": [
        {
          "output_type": "stream",
          "name": "stdout",
          "text": [
            "<class 'pandas.core.frame.DataFrame'>\n",
            "RangeIndex: 5903 entries, 0 to 5902\n",
            "Data columns (total 10 columns):\n",
            " #   Column                      Non-Null Count  Dtype \n",
            "---  ------                      --------------  ----- \n",
            " 0   DATA INCLUSÃO/ NOTIFICAÇÃO  5903 non-null   object\n",
            " 1   CLASSIFICAÇÃO FINAL         5903 non-null   object\n",
            " 2   IDADE                       5903 non-null   int64 \n",
            " 3   SEXO                        5903 non-null   object\n",
            " 4   BAIRRO                      5877 non-null   object\n",
            " 5   DISTRITO RESIDÊNCIA         5877 non-null   object\n",
            " 6   INTERNADO                   5903 non-null   int64 \n",
            " 7   DATA COLETA EXAME           5903 non-null   object\n",
            " 8   DATA ÓBITO                  281 non-null    object\n",
            " 9   STATUS                      5903 non-null   int64 \n",
            "dtypes: int64(3), object(7)\n",
            "memory usage: 461.3+ KB\n"
          ]
        }
      ]
    },
    {
      "cell_type": "code",
      "source": [
        "#CRIAR NOVO DF APENAS COM AS COLUNAS QUE IREI USAR NA ANALISE\n",
        "df2 = df.drop(columns = ['DATA INCLUSÃO/ NOTIFICAÇÃO', 'CLASSIFICAÇÃO FINAL', 'BAIRRO','DISTRITO RESIDÊNCIA', 'DATA COLETA EXAME', 'DATA ÓBITO'  ])\n",
        "df.head()"
      ],
      "metadata": {
        "colab": {
          "base_uri": "https://localhost:8080/",
          "height": 206
        },
        "id": "6P4xQCL0KVWt",
        "outputId": "5a1df551-ec97-4645-fa27-2bbd2e808a04"
      },
      "execution_count": null,
      "outputs": [
        {
          "output_type": "execute_result",
          "data": {
            "text/plain": [
              "  DATA INCLUSÃO/ NOTIFICAÇÃO CLASSIFICAÇÃO FINAL  IDADE SEXO      BAIRRO  \\\n",
              "0                 11/03/2020          CONFIRMADO     54    M  CRISTO REI   \n",
              "1                 12/03/2020          CONFIRMADO     15    M       XAXIM   \n",
              "2                 12/03/2020          CONFIRMADO     43    M       XAXIM   \n",
              "3                 12/03/2020          CONFIRMADO     25    F  CRISTO REI   \n",
              "4                 12/03/2020          CONFIRMADO     58    M      MERCÊS   \n",
              "\n",
              "  DISTRITO RESIDÊNCIA  INTERNADO DATA COLETA EXAME DATA ÓBITO  STATUS  \n",
              "0                DSMZ          0        09/03/2020        NaN       0  \n",
              "1                DSBQ          0        08/03/2020        NaN       0  \n",
              "2                DSBQ          0        09/03/2020        NaN       0  \n",
              "3                DSMZ          0        09/03/2020        NaN       0  \n",
              "4                DSMZ          0        09/03/2020        NaN       0  "
            ],
            "text/html": [
              "\n",
              "  <div id=\"df-48950d24-ecb3-4726-81c0-728371a3f98a\">\n",
              "    <div class=\"colab-df-container\">\n",
              "      <div>\n",
              "<style scoped>\n",
              "    .dataframe tbody tr th:only-of-type {\n",
              "        vertical-align: middle;\n",
              "    }\n",
              "\n",
              "    .dataframe tbody tr th {\n",
              "        vertical-align: top;\n",
              "    }\n",
              "\n",
              "    .dataframe thead th {\n",
              "        text-align: right;\n",
              "    }\n",
              "</style>\n",
              "<table border=\"1\" class=\"dataframe\">\n",
              "  <thead>\n",
              "    <tr style=\"text-align: right;\">\n",
              "      <th></th>\n",
              "      <th>DATA INCLUSÃO/ NOTIFICAÇÃO</th>\n",
              "      <th>CLASSIFICAÇÃO FINAL</th>\n",
              "      <th>IDADE</th>\n",
              "      <th>SEXO</th>\n",
              "      <th>BAIRRO</th>\n",
              "      <th>DISTRITO RESIDÊNCIA</th>\n",
              "      <th>INTERNADO</th>\n",
              "      <th>DATA COLETA EXAME</th>\n",
              "      <th>DATA ÓBITO</th>\n",
              "      <th>STATUS</th>\n",
              "    </tr>\n",
              "  </thead>\n",
              "  <tbody>\n",
              "    <tr>\n",
              "      <th>0</th>\n",
              "      <td>11/03/2020</td>\n",
              "      <td>CONFIRMADO</td>\n",
              "      <td>54</td>\n",
              "      <td>M</td>\n",
              "      <td>CRISTO REI</td>\n",
              "      <td>DSMZ</td>\n",
              "      <td>0</td>\n",
              "      <td>09/03/2020</td>\n",
              "      <td>NaN</td>\n",
              "      <td>0</td>\n",
              "    </tr>\n",
              "    <tr>\n",
              "      <th>1</th>\n",
              "      <td>12/03/2020</td>\n",
              "      <td>CONFIRMADO</td>\n",
              "      <td>15</td>\n",
              "      <td>M</td>\n",
              "      <td>XAXIM</td>\n",
              "      <td>DSBQ</td>\n",
              "      <td>0</td>\n",
              "      <td>08/03/2020</td>\n",
              "      <td>NaN</td>\n",
              "      <td>0</td>\n",
              "    </tr>\n",
              "    <tr>\n",
              "      <th>2</th>\n",
              "      <td>12/03/2020</td>\n",
              "      <td>CONFIRMADO</td>\n",
              "      <td>43</td>\n",
              "      <td>M</td>\n",
              "      <td>XAXIM</td>\n",
              "      <td>DSBQ</td>\n",
              "      <td>0</td>\n",
              "      <td>09/03/2020</td>\n",
              "      <td>NaN</td>\n",
              "      <td>0</td>\n",
              "    </tr>\n",
              "    <tr>\n",
              "      <th>3</th>\n",
              "      <td>12/03/2020</td>\n",
              "      <td>CONFIRMADO</td>\n",
              "      <td>25</td>\n",
              "      <td>F</td>\n",
              "      <td>CRISTO REI</td>\n",
              "      <td>DSMZ</td>\n",
              "      <td>0</td>\n",
              "      <td>09/03/2020</td>\n",
              "      <td>NaN</td>\n",
              "      <td>0</td>\n",
              "    </tr>\n",
              "    <tr>\n",
              "      <th>4</th>\n",
              "      <td>12/03/2020</td>\n",
              "      <td>CONFIRMADO</td>\n",
              "      <td>58</td>\n",
              "      <td>M</td>\n",
              "      <td>MERCÊS</td>\n",
              "      <td>DSMZ</td>\n",
              "      <td>0</td>\n",
              "      <td>09/03/2020</td>\n",
              "      <td>NaN</td>\n",
              "      <td>0</td>\n",
              "    </tr>\n",
              "  </tbody>\n",
              "</table>\n",
              "</div>\n",
              "      <button class=\"colab-df-convert\" onclick=\"convertToInteractive('df-48950d24-ecb3-4726-81c0-728371a3f98a')\"\n",
              "              title=\"Convert this dataframe to an interactive table.\"\n",
              "              style=\"display:none;\">\n",
              "        \n",
              "  <svg xmlns=\"http://www.w3.org/2000/svg\" height=\"24px\"viewBox=\"0 0 24 24\"\n",
              "       width=\"24px\">\n",
              "    <path d=\"M0 0h24v24H0V0z\" fill=\"none\"/>\n",
              "    <path d=\"M18.56 5.44l.94 2.06.94-2.06 2.06-.94-2.06-.94-.94-2.06-.94 2.06-2.06.94zm-11 1L8.5 8.5l.94-2.06 2.06-.94-2.06-.94L8.5 2.5l-.94 2.06-2.06.94zm10 10l.94 2.06.94-2.06 2.06-.94-2.06-.94-.94-2.06-.94 2.06-2.06.94z\"/><path d=\"M17.41 7.96l-1.37-1.37c-.4-.4-.92-.59-1.43-.59-.52 0-1.04.2-1.43.59L10.3 9.45l-7.72 7.72c-.78.78-.78 2.05 0 2.83L4 21.41c.39.39.9.59 1.41.59.51 0 1.02-.2 1.41-.59l7.78-7.78 2.81-2.81c.8-.78.8-2.07 0-2.86zM5.41 20L4 18.59l7.72-7.72 1.47 1.35L5.41 20z\"/>\n",
              "  </svg>\n",
              "      </button>\n",
              "      \n",
              "  <style>\n",
              "    .colab-df-container {\n",
              "      display:flex;\n",
              "      flex-wrap:wrap;\n",
              "      gap: 12px;\n",
              "    }\n",
              "\n",
              "    .colab-df-convert {\n",
              "      background-color: #E8F0FE;\n",
              "      border: none;\n",
              "      border-radius: 50%;\n",
              "      cursor: pointer;\n",
              "      display: none;\n",
              "      fill: #1967D2;\n",
              "      height: 32px;\n",
              "      padding: 0 0 0 0;\n",
              "      width: 32px;\n",
              "    }\n",
              "\n",
              "    .colab-df-convert:hover {\n",
              "      background-color: #E2EBFA;\n",
              "      box-shadow: 0px 1px 2px rgba(60, 64, 67, 0.3), 0px 1px 3px 1px rgba(60, 64, 67, 0.15);\n",
              "      fill: #174EA6;\n",
              "    }\n",
              "\n",
              "    [theme=dark] .colab-df-convert {\n",
              "      background-color: #3B4455;\n",
              "      fill: #D2E3FC;\n",
              "    }\n",
              "\n",
              "    [theme=dark] .colab-df-convert:hover {\n",
              "      background-color: #434B5C;\n",
              "      box-shadow: 0px 1px 3px 1px rgba(0, 0, 0, 0.15);\n",
              "      filter: drop-shadow(0px 1px 2px rgba(0, 0, 0, 0.3));\n",
              "      fill: #FFFFFF;\n",
              "    }\n",
              "  </style>\n",
              "\n",
              "      <script>\n",
              "        const buttonEl =\n",
              "          document.querySelector('#df-48950d24-ecb3-4726-81c0-728371a3f98a button.colab-df-convert');\n",
              "        buttonEl.style.display =\n",
              "          google.colab.kernel.accessAllowed ? 'block' : 'none';\n",
              "\n",
              "        async function convertToInteractive(key) {\n",
              "          const element = document.querySelector('#df-48950d24-ecb3-4726-81c0-728371a3f98a');\n",
              "          const dataTable =\n",
              "            await google.colab.kernel.invokeFunction('convertToInteractive',\n",
              "                                                     [key], {});\n",
              "          if (!dataTable) return;\n",
              "\n",
              "          const docLinkHtml = 'Like what you see? Visit the ' +\n",
              "            '<a target=\"_blank\" href=https://colab.research.google.com/notebooks/data_table.ipynb>data table notebook</a>'\n",
              "            + ' to learn more about interactive tables.';\n",
              "          element.innerHTML = '';\n",
              "          dataTable['output_type'] = 'display_data';\n",
              "          await google.colab.output.renderOutput(dataTable, element);\n",
              "          const docLink = document.createElement('div');\n",
              "          docLink.innerHTML = docLinkHtml;\n",
              "          element.appendChild(docLink);\n",
              "        }\n",
              "      </script>\n",
              "    </div>\n",
              "  </div>\n",
              "  "
            ]
          },
          "metadata": {},
          "execution_count": 22
        }
      ]
    },
    {
      "cell_type": "code",
      "source": [
        "df2.head()"
      ],
      "metadata": {
        "colab": {
          "base_uri": "https://localhost:8080/",
          "height": 206
        },
        "id": "z9XvZ_vjK_jM",
        "outputId": "0843e717-083d-4881-c315-1fc5c66f3c2e"
      },
      "execution_count": null,
      "outputs": [
        {
          "output_type": "execute_result",
          "data": {
            "text/plain": [
              "   IDADE SEXO  INTERNADO  STATUS\n",
              "0     54    M          0       0\n",
              "1     15    M          0       0\n",
              "2     43    M          0       0\n",
              "3     25    F          0       0\n",
              "4     58    M          0       0"
            ],
            "text/html": [
              "\n",
              "  <div id=\"df-8b847698-60a4-4b20-a4e4-10e3f22b7a5e\">\n",
              "    <div class=\"colab-df-container\">\n",
              "      <div>\n",
              "<style scoped>\n",
              "    .dataframe tbody tr th:only-of-type {\n",
              "        vertical-align: middle;\n",
              "    }\n",
              "\n",
              "    .dataframe tbody tr th {\n",
              "        vertical-align: top;\n",
              "    }\n",
              "\n",
              "    .dataframe thead th {\n",
              "        text-align: right;\n",
              "    }\n",
              "</style>\n",
              "<table border=\"1\" class=\"dataframe\">\n",
              "  <thead>\n",
              "    <tr style=\"text-align: right;\">\n",
              "      <th></th>\n",
              "      <th>IDADE</th>\n",
              "      <th>SEXO</th>\n",
              "      <th>INTERNADO</th>\n",
              "      <th>STATUS</th>\n",
              "    </tr>\n",
              "  </thead>\n",
              "  <tbody>\n",
              "    <tr>\n",
              "      <th>0</th>\n",
              "      <td>54</td>\n",
              "      <td>M</td>\n",
              "      <td>0</td>\n",
              "      <td>0</td>\n",
              "    </tr>\n",
              "    <tr>\n",
              "      <th>1</th>\n",
              "      <td>15</td>\n",
              "      <td>M</td>\n",
              "      <td>0</td>\n",
              "      <td>0</td>\n",
              "    </tr>\n",
              "    <tr>\n",
              "      <th>2</th>\n",
              "      <td>43</td>\n",
              "      <td>M</td>\n",
              "      <td>0</td>\n",
              "      <td>0</td>\n",
              "    </tr>\n",
              "    <tr>\n",
              "      <th>3</th>\n",
              "      <td>25</td>\n",
              "      <td>F</td>\n",
              "      <td>0</td>\n",
              "      <td>0</td>\n",
              "    </tr>\n",
              "    <tr>\n",
              "      <th>4</th>\n",
              "      <td>58</td>\n",
              "      <td>M</td>\n",
              "      <td>0</td>\n",
              "      <td>0</td>\n",
              "    </tr>\n",
              "  </tbody>\n",
              "</table>\n",
              "</div>\n",
              "      <button class=\"colab-df-convert\" onclick=\"convertToInteractive('df-8b847698-60a4-4b20-a4e4-10e3f22b7a5e')\"\n",
              "              title=\"Convert this dataframe to an interactive table.\"\n",
              "              style=\"display:none;\">\n",
              "        \n",
              "  <svg xmlns=\"http://www.w3.org/2000/svg\" height=\"24px\"viewBox=\"0 0 24 24\"\n",
              "       width=\"24px\">\n",
              "    <path d=\"M0 0h24v24H0V0z\" fill=\"none\"/>\n",
              "    <path d=\"M18.56 5.44l.94 2.06.94-2.06 2.06-.94-2.06-.94-.94-2.06-.94 2.06-2.06.94zm-11 1L8.5 8.5l.94-2.06 2.06-.94-2.06-.94L8.5 2.5l-.94 2.06-2.06.94zm10 10l.94 2.06.94-2.06 2.06-.94-2.06-.94-.94-2.06-.94 2.06-2.06.94z\"/><path d=\"M17.41 7.96l-1.37-1.37c-.4-.4-.92-.59-1.43-.59-.52 0-1.04.2-1.43.59L10.3 9.45l-7.72 7.72c-.78.78-.78 2.05 0 2.83L4 21.41c.39.39.9.59 1.41.59.51 0 1.02-.2 1.41-.59l7.78-7.78 2.81-2.81c.8-.78.8-2.07 0-2.86zM5.41 20L4 18.59l7.72-7.72 1.47 1.35L5.41 20z\"/>\n",
              "  </svg>\n",
              "      </button>\n",
              "      \n",
              "  <style>\n",
              "    .colab-df-container {\n",
              "      display:flex;\n",
              "      flex-wrap:wrap;\n",
              "      gap: 12px;\n",
              "    }\n",
              "\n",
              "    .colab-df-convert {\n",
              "      background-color: #E8F0FE;\n",
              "      border: none;\n",
              "      border-radius: 50%;\n",
              "      cursor: pointer;\n",
              "      display: none;\n",
              "      fill: #1967D2;\n",
              "      height: 32px;\n",
              "      padding: 0 0 0 0;\n",
              "      width: 32px;\n",
              "    }\n",
              "\n",
              "    .colab-df-convert:hover {\n",
              "      background-color: #E2EBFA;\n",
              "      box-shadow: 0px 1px 2px rgba(60, 64, 67, 0.3), 0px 1px 3px 1px rgba(60, 64, 67, 0.15);\n",
              "      fill: #174EA6;\n",
              "    }\n",
              "\n",
              "    [theme=dark] .colab-df-convert {\n",
              "      background-color: #3B4455;\n",
              "      fill: #D2E3FC;\n",
              "    }\n",
              "\n",
              "    [theme=dark] .colab-df-convert:hover {\n",
              "      background-color: #434B5C;\n",
              "      box-shadow: 0px 1px 3px 1px rgba(0, 0, 0, 0.15);\n",
              "      filter: drop-shadow(0px 1px 2px rgba(0, 0, 0, 0.3));\n",
              "      fill: #FFFFFF;\n",
              "    }\n",
              "  </style>\n",
              "\n",
              "      <script>\n",
              "        const buttonEl =\n",
              "          document.querySelector('#df-8b847698-60a4-4b20-a4e4-10e3f22b7a5e button.colab-df-convert');\n",
              "        buttonEl.style.display =\n",
              "          google.colab.kernel.accessAllowed ? 'block' : 'none';\n",
              "\n",
              "        async function convertToInteractive(key) {\n",
              "          const element = document.querySelector('#df-8b847698-60a4-4b20-a4e4-10e3f22b7a5e');\n",
              "          const dataTable =\n",
              "            await google.colab.kernel.invokeFunction('convertToInteractive',\n",
              "                                                     [key], {});\n",
              "          if (!dataTable) return;\n",
              "\n",
              "          const docLinkHtml = 'Like what you see? Visit the ' +\n",
              "            '<a target=\"_blank\" href=https://colab.research.google.com/notebooks/data_table.ipynb>data table notebook</a>'\n",
              "            + ' to learn more about interactive tables.';\n",
              "          element.innerHTML = '';\n",
              "          dataTable['output_type'] = 'display_data';\n",
              "          await google.colab.output.renderOutput(dataTable, element);\n",
              "          const docLink = document.createElement('div');\n",
              "          docLink.innerHTML = docLinkHtml;\n",
              "          element.appendChild(docLink);\n",
              "        }\n",
              "      </script>\n",
              "    </div>\n",
              "  </div>\n",
              "  "
            ]
          },
          "metadata": {},
          "execution_count": 23
        }
      ]
    },
    {
      "cell_type": "code",
      "source": [
        "df2.info()"
      ],
      "metadata": {
        "colab": {
          "base_uri": "https://localhost:8080/"
        },
        "id": "XjpAn3TpM0vQ",
        "outputId": "52928373-333a-4392-8675-55fa47846b1d"
      },
      "execution_count": null,
      "outputs": [
        {
          "output_type": "stream",
          "name": "stdout",
          "text": [
            "<class 'pandas.core.frame.DataFrame'>\n",
            "RangeIndex: 5903 entries, 0 to 5902\n",
            "Data columns (total 4 columns):\n",
            " #   Column     Non-Null Count  Dtype \n",
            "---  ------     --------------  ----- \n",
            " 0   IDADE      5903 non-null   int64 \n",
            " 1   SEXO       5903 non-null   object\n",
            " 2   INTERNADO  5903 non-null   int64 \n",
            " 3   STATUS     5903 non-null   int64 \n",
            "dtypes: int64(3), object(1)\n",
            "memory usage: 184.6+ KB\n"
          ]
        }
      ]
    },
    {
      "cell_type": "markdown",
      "source": [
        "## Exploração dos dados"
      ],
      "metadata": {
        "id": "NHSuTtiZNmJF"
      }
    },
    {
      "cell_type": "markdown",
      "source": [
        "**IDADE**"
      ],
      "metadata": {
        "id": "AWAnu1zoMrTs"
      }
    },
    {
      "cell_type": "code",
      "source": [
        "import plotly.express as px"
      ],
      "metadata": {
        "id": "X_xgVcFSMsb8"
      },
      "execution_count": null,
      "outputs": []
    },
    {
      "cell_type": "code",
      "source": [
        "hist =  px.histogram (df2,  x = \"IDADE\", nbins=60) \n",
        "hist.update_layout(width=600,height=400,title_text='Distribuição das idades') \n",
        "hist.show()"
      ],
      "metadata": {
        "colab": {
          "base_uri": "https://localhost:8080/",
          "height": 417
        },
        "id": "vRwwpyB_MvYk",
        "outputId": "baa7452b-13ef-4706-937c-900a736f9cef"
      },
      "execution_count": null,
      "outputs": [
        {
          "output_type": "display_data",
          "data": {
            "text/html": [
              "<html>\n",
              "<head><meta charset=\"utf-8\" /></head>\n",
              "<body>\n",
              "    <div>            <script src=\"https://cdnjs.cloudflare.com/ajax/libs/mathjax/2.7.5/MathJax.js?config=TeX-AMS-MML_SVG\"></script><script type=\"text/javascript\">if (window.MathJax) {MathJax.Hub.Config({SVG: {font: \"STIX-Web\"}});}</script>                <script type=\"text/javascript\">window.PlotlyConfig = {MathJaxConfig: 'local'};</script>\n",
              "        <script src=\"https://cdn.plot.ly/plotly-2.8.3.min.js\"></script>                <div id=\"8e9cf4fc-4c0f-4b4a-8bd2-8a46d151683d\" class=\"plotly-graph-div\" style=\"height:400px; width:600px;\"></div>            <script type=\"text/javascript\">                                    window.PLOTLYENV=window.PLOTLYENV || {};                                    if (document.getElementById(\"8e9cf4fc-4c0f-4b4a-8bd2-8a46d151683d\")) {                    Plotly.newPlot(                        \"8e9cf4fc-4c0f-4b4a-8bd2-8a46d151683d\",                        [{\"alignmentgroup\":\"True\",\"bingroup\":\"x\",\"hovertemplate\":\"IDADE=%{x}<br>count=%{y}<extra></extra>\",\"legendgroup\":\"\",\"marker\":{\"color\":\"#636efa\",\"pattern\":{\"shape\":\"\"}},\"name\":\"\",\"nbinsx\":60,\"offsetgroup\":\"\",\"orientation\":\"v\",\"showlegend\":false,\"x\":[54,15,43,25,58,57,27,26,52,22,26,48,32,36,45,26,48,53,30,32,81,58,52,44,36,28,53,30,41,73,70,42,32,38,61,36,68,28,59,79,56,59,32,54,17,41,22,69,54,10,62,62,34,78,30,51,30,46,38,28,80,41,51,31,27,40,49,66,54,56,55,29,29,35,77,58,59,39,63,30,64,29,39,29,37,45,59,69,37,75,70,74,63,61,62,59,37,65,36,54,61,32,58,36,46,35,50,50,23,62,61,56,41,43,56,68,41,31,17,44,53,29,38,63,66,55,55,86,54,68,29,64,32,88,52,49,53,60,39,93,34,28,37,35,31,78,54,57,34,41,62,41,94,29,45,47,38,68,29,36,66,37,35,37,42,54,41,77,58,85,45,25,31,56,81,35,72,56,45,54,52,48,49,23,29,47,19,30,32,22,65,43,65,48,36,96,47,33,20,35,37,23,49,70,62,47,52,55,82,39,52,34,75,30,31,29,74,56,43,42,51,30,47,33,58,62,30,31,44,50,18,70,36,37,80,88,23,62,42,75,73,87,37,24,57,24,33,30,29,31,1,20,74,39,26,71,40,69,26,32,34,43,38,51,25,25,53,85,94,62,9,31,33,25,38,59,43,24,36,53,26,64,37,57,44,57,76,62,49,48,48,38,29,79,32,36,17,30,42,79,44,40,84,69,36,30,38,49,81,74,24,40,36,31,63,75,36,31,49,59,37,34,24,22,85,32,45,89,27,46,30,64,44,26,57,69,32,57,28,52,29,59,44,54,40,46,70,29,25,37,39,55,45,26,86,38,55,71,35,56,42,72,81,28,61,45,34,72,36,31,54,36,48,46,38,49,32,40,47,54,75,56,33,25,16,36,35,35,59,59,93,47,24,31,15,38,27,57,53,54,43,45,50,39,13,23,66,41,40,67,49,17,39,63,42,24,37,58,80,3,41,30,44,45,53,40,34,45,36,44,31,59,41,64,42,26,31,65,56,54,65,42,27,29,51,80,77,69,53,71,45,62,82,32,89,21,47,38,25,26,52,40,46,38,24,82,77,65,22,50,63,21,65,24,81,51,27,80,43,72,58,89,42,53,23,37,55,30,27,55,36,38,5,34,44,34,67,60,22,35,25,41,25,80,23,31,47,44,89,31,67,46,45,29,41,62,53,48,36,68,85,42,30,45,90,49,36,53,23,36,31,3,34,57,54,67,50,52,31,3,64,3,48,20,34,27,63,42,25,44,64,50,26,62,60,63,31,39,37,42,50,55,39,39,63,47,37,42,42,43,68,61,29,69,46,46,27,46,64,34,30,31,23,27,56,36,73,62,74,56,56,12,44,27,62,58,52,55,89,38,64,26,33,31,25,56,23,53,22,1,55,28,28,50,59,35,42,50,58,9,55,53,83,30,52,0,34,76,77,52,7,38,39,49,37,55,50,22,3,54,67,55,24,50,47,78,51,42,23,59,67,39,31,38,1,33,29,43,0,63,33,82,8,55,49,16,66,66,67,56,62,34,38,76,58,40,32,38,39,70,31,33,74,79,48,44,85,85,74,55,20,43,51,37,73,52,41,30,75,56,21,38,23,27,29,90,23,24,40,65,77,45,63,27,44,54,38,39,45,34,53,51,30,27,39,41,36,66,41,37,52,65,38,37,35,56,87,31,55,67,65,52,68,73,16,88,47,22,31,40,52,39,53,37,66,89,44,49,40,58,48,45,39,40,43,41,35,32,29,30,62,27,58,61,28,56,36,47,53,52,54,42,67,45,55,60,29,36,32,41,38,38,26,41,36,23,62,46,26,33,80,51,24,58,78,45,50,32,38,37,40,76,38,60,61,60,49,36,58,69,37,38,21,70,34,79,47,44,41,48,25,24,37,48,56,48,36,56,45,58,28,52,42,33,86,71,31,6,59,16,77,36,49,24,9,23,32,57,25,19,35,48,22,13,48,62,47,5,30,60,48,50,23,9,18,34,64,31,54,37,40,56,81,75,56,62,21,28,24,68,44,65,71,73,47,31,29,40,87,42,59,42,57,34,1,66,24,23,49,36,61,40,55,8,30,62,82,58,42,47,63,54,41,46,85,26,48,46,23,30,67,81,49,77,48,53,51,50,13,5,29,67,23,75,69,33,76,62,57,38,66,70,22,52,54,61,36,35,46,69,41,54,30,9,75,72,49,53,53,59,56,21,40,13,38,62,43,81,66,63,48,24,48,41,22,22,57,39,47,24,28,26,82,34,79,30,67,62,85,20,23,54,19,47,57,55,68,40,48,50,33,82,89,51,48,67,49,29,43,85,41,46,62,43,64,38,39,30,44,59,65,74,48,49,57,57,36,38,5,27,33,54,21,30,39,55,59,46,32,61,26,56,25,37,49,33,38,36,34,61,24,48,32,49,87,81,26,23,38,42,44,18,39,33,61,64,41,24,50,25,31,82,45,65,53,36,37,50,50,38,46,58,41,25,40,43,64,29,73,20,41,41,36,30,44,50,30,44,28,42,58,42,37,49,31,60,46,47,28,29,46,91,10,42,71,29,38,51,75,70,54,32,50,25,37,64,46,39,69,31,55,45,31,36,68,66,58,66,48,41,35,93,26,34,43,48,31,47,29,37,43,55,52,57,41,46,48,19,28,37,49,64,52,58,59,44,65,75,70,69,11,20,33,22,33,54,38,22,44,56,74,37,33,54,79,50,1,68,45,78,52,31,77,62,89,39,70,48,68,19,17,42,27,30,42,40,32,37,22,28,77,55,31,61,79,61,30,59,74,41,32,38,40,39,22,59,52,39,34,57,21,64,67,28,42,41,77,77,32,75,59,56,23,34,45,36,39,57,45,62,39,43,42,49,46,49,68,48,50,76,56,87,57,57,85,59,58,64,80,69,79,61,81,69,70,45,62,48,44,76,21,51,28,22,26,50,59,73,30,55,76,33,56,29,33,69,37,32,39,41,82,36,58,17,5,61,37,74,53,39,69,48,44,81,25,49,45,47,28,44,30,34,48,55,41,58,27,73,20,29,27,30,28,40,54,34,21,32,52,44,34,46,28,23,30,2,39,27,54,59,60,36,32,40,67,73,33,35,87,64,70,49,63,68,88,31,70,90,90,82,29,88,57,47,48,38,61,72,58,17,56,40,28,49,38,45,37,48,77,37,65,37,63,54,34,71,26,29,30,63,42,59,27,51,56,28,38,45,47,40,39,50,55,27,62,48,73,38,56,22,42,27,41,70,63,24,39,66,37,39,53,40,36,22,53,24,38,47,96,49,64,41,43,70,25,12,67,36,46,49,32,66,45,55,59,50,44,45,89,49,67,31,75,57,43,42,35,23,45,46,42,22,33,28,27,30,77,75,67,18,38,60,43,39,83,45,57,34,38,49,49,56,21,80,52,29,41,51,42,9,42,50,63,58,24,85,48,48,41,48,43,20,22,20,26,44,35,57,38,68,41,57,39,37,29,90,76,26,29,67,60,52,52,67,67,75,17,40,59,61,72,61,47,55,85,81,89,47,50,75,66,44,27,35,47,60,27,46,37,36,63,24,44,68,46,50,32,30,44,27,45,47,48,43,54,38,30,87,74,64,29,84,36,67,46,52,46,60,59,48,23,77,39,22,65,62,35,28,57,38,56,31,63,35,39,48,43,37,37,58,78,58,32,30,88,47,39,40,53,71,69,67,67,52,74,77,73,37,64,3,45,78,42,49,32,63,81,42,40,45,21,38,26,49,45,50,43,49,27,58,61,45,29,30,54,44,33,90,51,37,80,60,69,41,30,66,30,49,35,50,68,75,61,40,56,43,68,70,35,50,36,21,85,44,42,52,59,33,66,33,18,53,34,62,34,42,45,61,41,42,20,28,43,36,30,70,45,57,41,42,44,54,41,36,67,50,53,73,84,64,30,86,86,44,56,69,65,75,52,57,35,35,50,29,26,36,68,38,24,61,24,69,17,52,59,69,49,27,52,14,48,63,56,46,46,46,45,31,48,43,2,27,45,27,39,19,19,19,50,41,50,14,35,32,54,36,48,87,42,79,48,41,22,43,61,63,62,53,44,28,34,55,52,43,48,3,34,39,70,22,57,63,70,44,40,40,57,35,29,3,53,66,77,22,77,59,56,54,62,29,32,55,55,64,27,36,45,39,55,48,30,34,82,38,29,1,47,34,49,40,28,40,74,35,82,57,36,76,26,68,70,50,79,62,86,71,7,54,36,45,56,26,40,28,33,49,19,29,30,41,47,63,28,57,60,20,44,39,38,35,26,45,50,21,29,47,42,44,36,33,34,31,27,35,22,73,43,40,44,45,27,64,28,23,1,41,68,43,46,35,28,35,53,42,33,42,4,46,42,37,21,58,45,37,37,64,58,43,55,23,36,46,20,26,32,18,67,27,42,60,42,50,35,72,65,43,27,88,11,33,31,62,37,37,31,35,38,43,28,46,60,60,57,48,35,51,63,55,37,68,30,42,47,63,53,50,57,64,53,39,48,61,82,46,76,28,58,38,37,41,59,50,28,33,41,49,63,68,66,49,76,52,79,39,46,27,17,43,82,43,38,75,72,51,49,27,89,63,72,53,78,36,28,33,55,65,51,53,20,46,34,21,52,45,48,36,2,82,27,42,40,57,53,54,57,76,63,49,48,14,48,67,36,66,51,26,40,39,36,23,83,53,45,29,76,37,45,24,43,48,30,33,72,63,63,74,74,40,33,41,45,34,19,38,31,50,36,54,28,42,47,70,26,13,46,51,55,61,43,71,62,72,23,59,82,69,70,83,33,71,36,33,49,24,47,32,32,5,20,56,35,20,40,31,39,82,39,39,47,38,20,25,32,51,41,40,45,20,35,24,27,45,93,37,27,34,37,46,46,32,20,57,72,50,28,31,61,72,85,37,80,59,57,66,72,24,53,34,39,82,40,43,28,37,80,46,74,55,59,66,25,59,45,28,52,63,54,22,38,21,29,45,31,15,35,56,58,59,56,31,30,24,21,35,46,24,20,0,34,7,23,55,39,42,50,57,30,46,65,43,61,36,40,40,59,20,27,38,44,28,39,38,33,29,41,58,22,52,26,64,30,36,61,37,25,46,65,34,39,44,53,7,34,29,47,46,41,43,40,37,29,1,38,27,49,79,32,28,56,14,71,33,41,33,23,44,47,40,38,57,48,40,37,50,48,38,52,65,27,38,33,36,45,57,49,36,54,54,27,43,44,37,29,68,30,0,39,37,35,39,35,27,40,60,66,32,47,38,35,37,36,46,53,29,28,34,80,61,42,1,48,23,53,26,23,20,28,32,79,51,39,50,36,35,38,19,30,46,37,24,64,55,23,40,50,47,32,29,37,31,64,53,4,66,31,52,38,74,4,1,31,45,43,20,47,42,40,25,73,46,21,30,20,48,37,54,28,24,68,62,52,65,49,39,32,26,36,43,27,72,36,52,38,62,38,28,48,26,40,45,48,57,38,23,54,35,40,46,32,52,43,32,20,51,31,20,80,28,37,27,51,16,66,20,35,22,33,49,42,37,52,57,27,43,41,36,24,55,61,23,41,34,40,27,49,39,43,60,29,29,24,25,28,62,50,46,23,49,25,62,38,15,40,30,53,19,31,38,61,43,36,74,51,45,36,38,67,25,40,35,24,37,34,53,34,36,29,24,44,32,31,34,54,31,53,31,35,27,34,66,24,42,24,47,68,88,28,29,75,25,30,4,30,57,16,74,18,57,23,30,39,48,40,36,69,44,23,43,23,68,28,26,34,19,38,35,44,75,71,22,18,27,43,43,20,26,26,77,38,20,47,20,28,56,38,36,45,55,35,16,44,39,59,39,24,46,26,42,42,25,21,32,34,18,64,42,30,59,63,66,45,35,0,71,24,43,65,42,25,33,60,57,47,50,79,83,25,44,29,48,40,25,21,37,32,58,31,58,56,44,38,67,73,76,73,63,44,40,39,33,40,29,42,41,26,45,11,35,38,42,42,59,52,49,59,46,21,47,1,88,39,79,77,37,76,31,76,51,48,24,92,54,60,79,29,49,43,32,56,66,45,46,59,32,63,65,64,43,65,23,34,32,23,69,44,23,66,1,31,65,66,41,51,45,48,27,26,55,42,25,25,40,44,36,66,48,44,54,46,86,53,64,31,38,31,31,40,27,26,38,29,62,39,46,39,35,30,30,28,64,40,65,21,27,35,22,65,61,62,32,60,71,56,62,55,74,44,50,64,54,26,42,74,75,67,66,29,41,37,41,22,48,37,29,40,46,24,63,33,32,25,35,32,44,63,26,30,52,36,34,58,49,43,45,60,66,34,69,34,55,27,24,53,55,28,85,45,41,44,39,23,47,37,34,73,26,29,22,33,32,60,53,37,6,63,28,56,33,42,35,45,51,44,20,49,28,37,45,51,41,29,43,69,53,65,17,39,40,28,28,8,29,41,40,29,40,49,37,68,14,45,0,48,80,71,54,90,50,34,72,13,26,56,59,68,56,32,32,41,33,56,56,85,11,24,13,88,44,35,36,55,59,29,64,51,31,17,40,41,29,24,35,57,24,45,40,24,40,31,81,55,32,45,46,52,38,29,46,33,28,31,24,63,59,36,43,49,39,43,28,23,31,22,14,59,33,34,38,29,54,49,50,30,51,50,56,36,40,34,64,41,24,25,17,58,66,43,28,61,40,37,37,55,29,30,34,29,33,31,23,31,43,52,14,27,22,38,82,80,53,43,33,33,32,25,60,71,46,61,30,21,57,27,55,65,34,28,39,24,22,57,73,4,33,30,53,11,49,54,67,33,60,34,45,45,70,37,29,42,11,66,47,29,32,7,59,48,57,37,53,36,32,57,37,45,31,32,27,31,45,66,27,56,3,89,28,35,60,29,67,34,51,35,47,73,63,78,27,60,59,38,41,62,31,45,73,52,42,69,42,65,81,47,51,41,43,39,55,35,45,46,33,62,58,39,0,3,27,36,8,36,26,29,44,54,51,47,63,24,63,60,48,59,79,36,56,66,62,86,76,52,49,58,72,35,22,17,17,45,37,56,39,22,24,24,3,71,66,67,59,51,58,49,59,56,65,42,85,55,91,26,40,27,39,39,7,47,24,49,43,63,70,38,33,78,39,34,70,65,43,42,6,53,52,59,41,57,62,32,23,52,37,55,63,44,56,44,59,28,13,16,67,38,41,31,49,48,52,54,43,59,49,33,29,67,26,42,40,50,45,28,2,66,25,48,22,37,59,29,42,72,61,39,12,28,32,24,65,45,65,19,36,58,30,43,31,24,63,44,47,38,57,68,31,39,25,85,54,27,24,40,60,33,43,43,60,60,24,49,26,28,43,9,33,53,54,45,51,36,32,62,52,37,22,39,38,33,41,37,1,1,49,44,48,49,39,22,40,69,49,23,34,36,39,51,42,31,36,24,39,42,41,42,23,34,68,15,68,44,20,33,34,50,37,23,36,58,26,32,26,48,39,70,38,22,44,76,28,33,26,24,67,37,35,30,39,52,39,7,48,55,56,32,40,62,59,32,45,67,23,36,18,56,22,27,29,46,78,58,33,38,26,2,40,65,63,38,58,38,35,25,21,29,33,38,27,45,62,61,31,43,29,38,68,29,40,33,30,5,32,36,41,22,57,22,28,37,29,28,12,39,25,42,55,51,33,33,34,40,37,28,36,37,19,22,33,26,27,32,34,38,45,36,52,17,70,38,43,44,37,30,34,35,23,27,33,30,67,23,42,53,57,44,47,49,32,69,42,28,43,76,33,35,54,38,87,33,60,55,46,33,20,29,19,21,33,31,50,25,57,57,44,5,37,18,27,49,43,42,32,42,56,24,40,31,65,1,35,46,31,52,80,47,30,21,34,35,31,41,35,50,36,36,66,56,77,51,48,45,70,46,76,59,71,30,75,48,75,43,34,71,47,64,50,49,44,71,74,60,51,53,28,75,45,57,73,64,53,15,56,40,35,71,59,62,17,37,33,8,32,32,37,3,24,25,14,44,45,64,25,71,24,49,20,45,45,38,68,30,48,17,50,3,49,74,46,42,59,51,32,22,69,7,52,48,25,62,68,13,42,44,11,39,30,34,22,2,54,48,68,41,50,51,48,53,31,31,72,25,48,43,5,60,34,19,45,48,41,57,49,50,46,42,50,22,70,62,38,63,57,42,36,30,55,46,35,45,33,54,54,42,58,28,46,42,36,34,49,45,20,35,35,55,47,59,38,47,36,31,73,26,24,26,45,46,42,28,54,33,27,74,16,40,31,27,33,83,37,53,59,19,15,54,24,21,18,57,39,48,40,74,40,37,20,54,2,12,31,45,42,38,47,46,25,64,43,74,51,27,34,47,38,32,86,19,30,41,43,37,24,10,57,78,63,64,34,29,60,43,85,24,20,27,62,96,15,39,48,52,71,56,14,10,54,18,36,26,24,47,29,49,66,50,64,66,29,33,47,53,49,57,85,28,53,59,40,77,63,56,58,53,55,56,36,45,27,63,39,56,71,54,38,44,80,67,27,51,65,84,66,80,80,39,36,93,50,61,44,37,20,20,60,35,27,79,33,24,56,32,52,62,51,64,12,54,68,55,28,33,41,31,26,43,46,36,70,56,24,41,28,50,19,56,46,56,47,77,42,24,49,41,43,46,46,31,42,33,34,52,26,10,25,24,45,48,49,30,23,33,58,50,56,30,29,43,23,39,24,36,71,70,25,23,32,6,70,64,55,50,58,51,47,33,25,39,53,72,34,42,56,40,54,3,39,28,38,55,39,30,59,12,39,72,49,8,57,39,62,58,57,35,43,43,26,49,78,32,43,26,37,53,32,2,33,38,47,62,42,42,62,74,34,60,48,48,55,29,60,29,65,73,65,55,53,52,38,62,13,22,27,60,25,81,66,39,25,52,42,75,54,50,32,51,33,38,28,27,25,23,67,40,34,41,52,21,42,81,21,22,50,59,30,22,40,53,63,22,42,35,37,31,41,15,74,55,62,23,26,61,88,11,24,42,50,41,9,65,48,21,20,20,18,46,48,49,56,19,36,31,38,32,50,42,51,50,53,63,53,55,74,55,50,55,22,56,0,29,69,47,44,57,88,19,38,7,41,40,70,60,25,27,37,50,33,22,42,46,38,26,24,35,34,58,32,35,50,25,28,3,34,37,39,16,17,43,36,38,30,22,50,39,40,45,28,24,49,46,19,51,68,26,41,32,65,24,76,40,36,41,29,46,68,41,42,31,36,55,28,64,56,28,55,30,11,24,57,35,34,26,53,52,64,83,56,30,50,57,78,82,47,73,50,57,43,43,90,52,66,23,90,74,24,66,33,52,68,75,53,60,88,80,39,74,44,50,20,36,51,51,58,37,58,55,36,68,42,51,23,45,37,72,41,30,37,33,26,31,38,33,35,42,56,72,35,70,34,42,36,51,32,26,31,53,39,38,15,12,18,57,34,18,37,58,65,45,66,30,34,60,28,61,52,23,21,30,45,24,77,10,57,35,65,55,37,23,24,22,21,23,24,31,25,18,62,34,38,35,22,30,48,26,38,54,52,65,60,32,31,23,51,30,33,21,58,32,36,52,39,43,18,90,36,2,28,26,54,46,56,28,30,30,92,88,67,33,32,70,34,38,29,69,32,25,32,45,29,32,34,76,62,44,42,48,51,35,31,37,40,44,40,26,28,28,36,36,37,57,27,83,33,28,35,59,47,66,26,75,38,48,42,40,28,21,74,38,55,44,30,23,30,32,31,60,40,40,51,37,62,59,27,39,48,58,52,62,12,42,22,52,15,18,22,58,42,25,51,32,12,34,4,33,23,72,39,44,42,60,26,59,48,35,54,29,53,51,56,83,80,50,81,81,55,5,39,77,41,73,69,47,50,25,90,35,59,62,9,84,62,52,79,23,21,42,61,51,39,53,45,33,31,46,23,54,50,24,19,48,22,48,20,50,45,67,35,12,26,42,30,23,25,29,51,26,37,38,37,20,39,50,47,22,43,43,36,40,0,34,23,66,46,28,48,48,41,46,39,50,27,66,50,62,47,48,23,44,23,23,30,69,28,1,58,68,28,50,43,39,23,39,22,41,31,50,21,57,8,25,22,7,53,33,57,51,41,61,52,69,32,14,39,22,30,49,41,48,47,31,30,26,31,36,34,27,69,38,31,29,29,37,26,38,38,61,26,22,42,32,28,62,38,31,43,38,37,39,33,29,30,36,3,78,37,58,16,37,23,28,27,35,54,31,3,23,60,1,42,9,33,33,45,54,59,72,66,82,8,31,26,31,39,49,28,66,59,63,38,37,20,59,63,64,68,22,58,33,66,29,45,38,34,35,23,34,79,60,55,75,64,42,54,74,40,71,87,3,81,47,69,56,65,57,39,81,25,47,26,32,37,46,22,44,59,47,77,59,35,34,26,53,30,22,25,42,27,56,35,27,32,19,49,27,56,63,34,46,39,55,45,80,73,44,59,36,85,62,51,45,20,41,45,60,59,73,50,68,43,76,68,62,86,55,51,62,49,34,80,2,18,27,32,55,53,64,59,74,61,51,36,63,71,38,0,30,56,52,20,26,47,28,37,33,37,52,27,26,30,48,34,52,26,24,32,63,59,67,54,41,43,58,58,34,40,45,54,52,31,39,34,49,30,77,76,45,57,58,47,32,35,90,48,63,51,15,79,46,51,64,77,43,42,38,19,59,24,26,24,24,55,63,28,21,49,45,17,27,25,49,15,36,20,34,21,5,45,67,24,12,3,29,36,58,34,17,75,20,31,57,40,32,33,59,45,57,30,45,67,43,44,30,27,28,52,60,33,21,32,16,36,42,58,66,46,38,34,31,24,24,69,19,62,47,9,12,53,50,62,45,72,62,63,42,35,59,84,59,35,78,63,6,35,70,30,45,50,55,24,48,65,23,57,28,26,38,19,30,51,43,44,50,30,51,20,52,46,61,38,45,36,58,52,53,33,3,69,20,28,26,69,25,44,69,29,73,39,45,54,42,34,40,32,28,38,44,4,24,43,77,38,43,19,40,28,32,25,49,43,35,27,31,35,20,22,26,48,23,38,74,47,11,47,42,74,48,67,47,62,44,40,65,50,48,45,34,20,22,51,27,37,44,63,83,26,34,35,19,26,47,10,69,36,32,67,54,40,41,23,37,39,1,47,43,38,52,54,25,44,29,40,32,35,26,46,32,45,32,23,24,47,57,44,23,57,53,2,38,43,64,29,50,21,25,22,50,63,57,50,57,50,37,41,36,31,36,60,17,31,30,46,56,42,27,53,56,37,29,36,39,58,52,16,60,47,50,1,31,52,70,10,33,26,58,40,20,35,30,31,42,33,66,43,30,44,57,46,59,28,20,33,29,64,46,28,46,18,26,41,53,25,45,38,45,24,58,39,44,34,33,30,25,68,51,39,37,40,48,54,8,29,29,50,52,41,44,37,74,44,46,34,38,39,32,46,42,28,54,25,28,43,58,18,63,24,49,58,47,27,67,11,18,38,48,70,40,56,24,28,22,24,32,47,55,30,62,57,53,28,38,64,14,43,67,21,54,35,25,63,50,83,74,43,29,74,50,26,41,50,59,45,45,32,33,7,50,30,67,39,21,57,29,41,39,46,37,42,43,18,38,38,28,17,11,54,20,44,44,63,13,0,25,35,35,43,30,23,34,50,65,45,56,54,32,36,26,30,35,44,34,51,71,49,33,32,42,20,1,26,18,75,41,34,35,55,22,38,70,39,59,44,49,42,48,21,22,35,50,34,34,51,31,49,27,33,34,37,54,27,37,29,40,36,31,48,65,8,29,82,70,53,59,38,0,31,45,30,21,28,24,46,63,66,56,57,42,22,38,80,39,28,36,28,73,33,34,35,2,44,65,50,41,19,32,33,36,41,26,45,53,69,48,57,89,68,36,83,51,61,5,45,63,44,41,72,61,46,56,68,57,34,44,70,70,64,36,48,58,49,68,49,58,32,37,40,55,39,38,77,53,33,23,38,30,66,41,26,68,77,45,23,44,33,38,37,32,45,67,34,43,65,35,32,33,25,38,29,27,46,26,20,28,40,28,54,24,33,21,59,54,28,62,45,53,20,24,46,17,66,59,4,68,33,18,28,2,19,24,31,57,78,38,13,60,25,58,74,35,46,43,38,27,43,46,50,13,45,34,41,53,45,25,42,45,20,34,0,54,25,42,60,40,43,58,39,57,47,41,57,4,45,42,17,0,43,74,26,44,32,46,60,33,50,45,26,40,79,54,61,43,16,33,40,43,23,54,46,40,24,43,26,30,27,62,65,36,58,29,35,33,38,38,34,27,33,2,15,16,28,54,16,28,41,24,7,28,58,42,37,36,51,26,25,47,41,64,30,44,61,35,64,11,44,32,55,38,33,32,4,41,41,32,36,70,69,39,51,52,65,56,47,64,32,3,59,39,62,60,23,26,30,23,53,20,45,42,58,37,35,24,66,33,43,39,38,19,27,18,30,25,26,33,37,43,32,69,49,38,57,45,44,42,46,57,38,37,36,63,47,35,27,33,30,45,53,43,54,25,16,24,39,45,3,23,42,26,39,45,56,41,41,19,46,65,45,40,17,39,87,28,54,50,42,49,57,40,60,41,49,38,50,42,24,26,55,18,39,29,35,32,22,53,25,41,61,28,53,56,36,33,39,37,21,24,54,19,40,39,21,63,41,29,31,31,36,56,22,28,26,3,62,2,60,44,60,73,48,25,26,47,57,41,69,22,61,50,46,58,48,50,43,37,49,56,56,20,28,50,56,31,66,36,28,64,35,90,30,62,80,66,78,59,96,64,29,47,36,68,62,60,83,55,58,79,59,69,59,69,24,63,84,34,60,63,86,67,58,32,35,21,21,42,44,28,36,29,70,48,47,34,24,42,38,26,38,33,5,48,36,31,32,45,55,34,70,52,77,29,39,26,43,52,29,24,61,33,70,15,43,25,53,29,54,40,53,23,62,51,50,78,1,25,69,61,43,59,35,54,38,65,47,33,17,49,18,35,64,30,39,2,51,57,22,32,52,51,23,34,39,26,0,14,40,76,39,17,26,31,45,71,24,26,19,44,43,41,4,24,22,32,36,12,68,43,50,35,65,13,24,46,33,21,51,43,57,51,24,67,77,74,53,71,24,18,38,13,24,54,37,41,56,50,57,35,24,27,41,28,42,60,33,53,38,28,55,54,48,63,53,31,51,26,32,73,44,47,60,57,30,35,21,79,43,27,35,58,67,36,30,19,36,23,39,22,62,60,30,56,54,58,35,53,61,42,44,37,47,29,24,88,1,46,23,34,70,67],\"xaxis\":\"x\",\"yaxis\":\"y\",\"type\":\"histogram\"}],                        {\"template\":{\"data\":{\"bar\":[{\"error_x\":{\"color\":\"#2a3f5f\"},\"error_y\":{\"color\":\"#2a3f5f\"},\"marker\":{\"line\":{\"color\":\"#E5ECF6\",\"width\":0.5},\"pattern\":{\"fillmode\":\"overlay\",\"size\":10,\"solidity\":0.2}},\"type\":\"bar\"}],\"barpolar\":[{\"marker\":{\"line\":{\"color\":\"#E5ECF6\",\"width\":0.5},\"pattern\":{\"fillmode\":\"overlay\",\"size\":10,\"solidity\":0.2}},\"type\":\"barpolar\"}],\"carpet\":[{\"aaxis\":{\"endlinecolor\":\"#2a3f5f\",\"gridcolor\":\"white\",\"linecolor\":\"white\",\"minorgridcolor\":\"white\",\"startlinecolor\":\"#2a3f5f\"},\"baxis\":{\"endlinecolor\":\"#2a3f5f\",\"gridcolor\":\"white\",\"linecolor\":\"white\",\"minorgridcolor\":\"white\",\"startlinecolor\":\"#2a3f5f\"},\"type\":\"carpet\"}],\"choropleth\":[{\"colorbar\":{\"outlinewidth\":0,\"ticks\":\"\"},\"type\":\"choropleth\"}],\"contour\":[{\"colorbar\":{\"outlinewidth\":0,\"ticks\":\"\"},\"colorscale\":[[0.0,\"#0d0887\"],[0.1111111111111111,\"#46039f\"],[0.2222222222222222,\"#7201a8\"],[0.3333333333333333,\"#9c179e\"],[0.4444444444444444,\"#bd3786\"],[0.5555555555555556,\"#d8576b\"],[0.6666666666666666,\"#ed7953\"],[0.7777777777777778,\"#fb9f3a\"],[0.8888888888888888,\"#fdca26\"],[1.0,\"#f0f921\"]],\"type\":\"contour\"}],\"contourcarpet\":[{\"colorbar\":{\"outlinewidth\":0,\"ticks\":\"\"},\"type\":\"contourcarpet\"}],\"heatmap\":[{\"colorbar\":{\"outlinewidth\":0,\"ticks\":\"\"},\"colorscale\":[[0.0,\"#0d0887\"],[0.1111111111111111,\"#46039f\"],[0.2222222222222222,\"#7201a8\"],[0.3333333333333333,\"#9c179e\"],[0.4444444444444444,\"#bd3786\"],[0.5555555555555556,\"#d8576b\"],[0.6666666666666666,\"#ed7953\"],[0.7777777777777778,\"#fb9f3a\"],[0.8888888888888888,\"#fdca26\"],[1.0,\"#f0f921\"]],\"type\":\"heatmap\"}],\"heatmapgl\":[{\"colorbar\":{\"outlinewidth\":0,\"ticks\":\"\"},\"colorscale\":[[0.0,\"#0d0887\"],[0.1111111111111111,\"#46039f\"],[0.2222222222222222,\"#7201a8\"],[0.3333333333333333,\"#9c179e\"],[0.4444444444444444,\"#bd3786\"],[0.5555555555555556,\"#d8576b\"],[0.6666666666666666,\"#ed7953\"],[0.7777777777777778,\"#fb9f3a\"],[0.8888888888888888,\"#fdca26\"],[1.0,\"#f0f921\"]],\"type\":\"heatmapgl\"}],\"histogram\":[{\"marker\":{\"pattern\":{\"fillmode\":\"overlay\",\"size\":10,\"solidity\":0.2}},\"type\":\"histogram\"}],\"histogram2d\":[{\"colorbar\":{\"outlinewidth\":0,\"ticks\":\"\"},\"colorscale\":[[0.0,\"#0d0887\"],[0.1111111111111111,\"#46039f\"],[0.2222222222222222,\"#7201a8\"],[0.3333333333333333,\"#9c179e\"],[0.4444444444444444,\"#bd3786\"],[0.5555555555555556,\"#d8576b\"],[0.6666666666666666,\"#ed7953\"],[0.7777777777777778,\"#fb9f3a\"],[0.8888888888888888,\"#fdca26\"],[1.0,\"#f0f921\"]],\"type\":\"histogram2d\"}],\"histogram2dcontour\":[{\"colorbar\":{\"outlinewidth\":0,\"ticks\":\"\"},\"colorscale\":[[0.0,\"#0d0887\"],[0.1111111111111111,\"#46039f\"],[0.2222222222222222,\"#7201a8\"],[0.3333333333333333,\"#9c179e\"],[0.4444444444444444,\"#bd3786\"],[0.5555555555555556,\"#d8576b\"],[0.6666666666666666,\"#ed7953\"],[0.7777777777777778,\"#fb9f3a\"],[0.8888888888888888,\"#fdca26\"],[1.0,\"#f0f921\"]],\"type\":\"histogram2dcontour\"}],\"mesh3d\":[{\"colorbar\":{\"outlinewidth\":0,\"ticks\":\"\"},\"type\":\"mesh3d\"}],\"parcoords\":[{\"line\":{\"colorbar\":{\"outlinewidth\":0,\"ticks\":\"\"}},\"type\":\"parcoords\"}],\"pie\":[{\"automargin\":true,\"type\":\"pie\"}],\"scatter\":[{\"marker\":{\"colorbar\":{\"outlinewidth\":0,\"ticks\":\"\"}},\"type\":\"scatter\"}],\"scatter3d\":[{\"line\":{\"colorbar\":{\"outlinewidth\":0,\"ticks\":\"\"}},\"marker\":{\"colorbar\":{\"outlinewidth\":0,\"ticks\":\"\"}},\"type\":\"scatter3d\"}],\"scattercarpet\":[{\"marker\":{\"colorbar\":{\"outlinewidth\":0,\"ticks\":\"\"}},\"type\":\"scattercarpet\"}],\"scattergeo\":[{\"marker\":{\"colorbar\":{\"outlinewidth\":0,\"ticks\":\"\"}},\"type\":\"scattergeo\"}],\"scattergl\":[{\"marker\":{\"colorbar\":{\"outlinewidth\":0,\"ticks\":\"\"}},\"type\":\"scattergl\"}],\"scattermapbox\":[{\"marker\":{\"colorbar\":{\"outlinewidth\":0,\"ticks\":\"\"}},\"type\":\"scattermapbox\"}],\"scatterpolar\":[{\"marker\":{\"colorbar\":{\"outlinewidth\":0,\"ticks\":\"\"}},\"type\":\"scatterpolar\"}],\"scatterpolargl\":[{\"marker\":{\"colorbar\":{\"outlinewidth\":0,\"ticks\":\"\"}},\"type\":\"scatterpolargl\"}],\"scatterternary\":[{\"marker\":{\"colorbar\":{\"outlinewidth\":0,\"ticks\":\"\"}},\"type\":\"scatterternary\"}],\"surface\":[{\"colorbar\":{\"outlinewidth\":0,\"ticks\":\"\"},\"colorscale\":[[0.0,\"#0d0887\"],[0.1111111111111111,\"#46039f\"],[0.2222222222222222,\"#7201a8\"],[0.3333333333333333,\"#9c179e\"],[0.4444444444444444,\"#bd3786\"],[0.5555555555555556,\"#d8576b\"],[0.6666666666666666,\"#ed7953\"],[0.7777777777777778,\"#fb9f3a\"],[0.8888888888888888,\"#fdca26\"],[1.0,\"#f0f921\"]],\"type\":\"surface\"}],\"table\":[{\"cells\":{\"fill\":{\"color\":\"#EBF0F8\"},\"line\":{\"color\":\"white\"}},\"header\":{\"fill\":{\"color\":\"#C8D4E3\"},\"line\":{\"color\":\"white\"}},\"type\":\"table\"}]},\"layout\":{\"annotationdefaults\":{\"arrowcolor\":\"#2a3f5f\",\"arrowhead\":0,\"arrowwidth\":1},\"autotypenumbers\":\"strict\",\"coloraxis\":{\"colorbar\":{\"outlinewidth\":0,\"ticks\":\"\"}},\"colorscale\":{\"diverging\":[[0,\"#8e0152\"],[0.1,\"#c51b7d\"],[0.2,\"#de77ae\"],[0.3,\"#f1b6da\"],[0.4,\"#fde0ef\"],[0.5,\"#f7f7f7\"],[0.6,\"#e6f5d0\"],[0.7,\"#b8e186\"],[0.8,\"#7fbc41\"],[0.9,\"#4d9221\"],[1,\"#276419\"]],\"sequential\":[[0.0,\"#0d0887\"],[0.1111111111111111,\"#46039f\"],[0.2222222222222222,\"#7201a8\"],[0.3333333333333333,\"#9c179e\"],[0.4444444444444444,\"#bd3786\"],[0.5555555555555556,\"#d8576b\"],[0.6666666666666666,\"#ed7953\"],[0.7777777777777778,\"#fb9f3a\"],[0.8888888888888888,\"#fdca26\"],[1.0,\"#f0f921\"]],\"sequentialminus\":[[0.0,\"#0d0887\"],[0.1111111111111111,\"#46039f\"],[0.2222222222222222,\"#7201a8\"],[0.3333333333333333,\"#9c179e\"],[0.4444444444444444,\"#bd3786\"],[0.5555555555555556,\"#d8576b\"],[0.6666666666666666,\"#ed7953\"],[0.7777777777777778,\"#fb9f3a\"],[0.8888888888888888,\"#fdca26\"],[1.0,\"#f0f921\"]]},\"colorway\":[\"#636efa\",\"#EF553B\",\"#00cc96\",\"#ab63fa\",\"#FFA15A\",\"#19d3f3\",\"#FF6692\",\"#B6E880\",\"#FF97FF\",\"#FECB52\"],\"font\":{\"color\":\"#2a3f5f\"},\"geo\":{\"bgcolor\":\"white\",\"lakecolor\":\"white\",\"landcolor\":\"#E5ECF6\",\"showlakes\":true,\"showland\":true,\"subunitcolor\":\"white\"},\"hoverlabel\":{\"align\":\"left\"},\"hovermode\":\"closest\",\"mapbox\":{\"style\":\"light\"},\"paper_bgcolor\":\"white\",\"plot_bgcolor\":\"#E5ECF6\",\"polar\":{\"angularaxis\":{\"gridcolor\":\"white\",\"linecolor\":\"white\",\"ticks\":\"\"},\"bgcolor\":\"#E5ECF6\",\"radialaxis\":{\"gridcolor\":\"white\",\"linecolor\":\"white\",\"ticks\":\"\"}},\"scene\":{\"xaxis\":{\"backgroundcolor\":\"#E5ECF6\",\"gridcolor\":\"white\",\"gridwidth\":2,\"linecolor\":\"white\",\"showbackground\":true,\"ticks\":\"\",\"zerolinecolor\":\"white\"},\"yaxis\":{\"backgroundcolor\":\"#E5ECF6\",\"gridcolor\":\"white\",\"gridwidth\":2,\"linecolor\":\"white\",\"showbackground\":true,\"ticks\":\"\",\"zerolinecolor\":\"white\"},\"zaxis\":{\"backgroundcolor\":\"#E5ECF6\",\"gridcolor\":\"white\",\"gridwidth\":2,\"linecolor\":\"white\",\"showbackground\":true,\"ticks\":\"\",\"zerolinecolor\":\"white\"}},\"shapedefaults\":{\"line\":{\"color\":\"#2a3f5f\"}},\"ternary\":{\"aaxis\":{\"gridcolor\":\"white\",\"linecolor\":\"white\",\"ticks\":\"\"},\"baxis\":{\"gridcolor\":\"white\",\"linecolor\":\"white\",\"ticks\":\"\"},\"bgcolor\":\"#E5ECF6\",\"caxis\":{\"gridcolor\":\"white\",\"linecolor\":\"white\",\"ticks\":\"\"}},\"title\":{\"x\":0.05},\"xaxis\":{\"automargin\":true,\"gridcolor\":\"white\",\"linecolor\":\"white\",\"ticks\":\"\",\"title\":{\"standoff\":15},\"zerolinecolor\":\"white\",\"zerolinewidth\":2},\"yaxis\":{\"automargin\":true,\"gridcolor\":\"white\",\"linecolor\":\"white\",\"ticks\":\"\",\"title\":{\"standoff\":15},\"zerolinecolor\":\"white\",\"zerolinewidth\":2}}},\"xaxis\":{\"anchor\":\"y\",\"domain\":[0.0,1.0],\"title\":{\"text\":\"IDADE\"}},\"yaxis\":{\"anchor\":\"x\",\"domain\":[0.0,1.0],\"title\":{\"text\":\"count\"}},\"legend\":{\"tracegroupgap\":0},\"margin\":{\"t\":60},\"barmode\":\"relative\",\"title\":{\"text\":\"Distribui\\u00e7\\u00e3o das idades\"},\"width\":600,\"height\":400},                        {\"responsive\": true}                    ).then(function(){\n",
              "                            \n",
              "var gd = document.getElementById('8e9cf4fc-4c0f-4b4a-8bd2-8a46d151683d');\n",
              "var x = new MutationObserver(function (mutations, observer) {{\n",
              "        var display = window.getComputedStyle(gd).display;\n",
              "        if (!display || display === 'none') {{\n",
              "            console.log([gd, 'removed!']);\n",
              "            Plotly.purge(gd);\n",
              "            observer.disconnect();\n",
              "        }}\n",
              "}});\n",
              "\n",
              "// Listen for the removal of the full notebook cells\n",
              "var notebookContainer = gd.closest('#notebook-container');\n",
              "if (notebookContainer) {{\n",
              "    x.observe(notebookContainer, {childList: true});\n",
              "}}\n",
              "\n",
              "// Listen for the clearing of the current output cell\n",
              "var outputEl = gd.closest('.output');\n",
              "if (outputEl) {{\n",
              "    x.observe(outputEl, {childList: true});\n",
              "}}\n",
              "\n",
              "                        })                };                            </script>        </div>\n",
              "</body>\n",
              "</html>"
            ]
          },
          "metadata": {}
        }
      ]
    },
    {
      "cell_type": "markdown",
      "source": [
        "**GENERO**"
      ],
      "metadata": {
        "id": "rKct10UdM8Cf"
      }
    },
    {
      "cell_type": "code",
      "source": [
        "df2['SEXO'].value_counts()"
      ],
      "metadata": {
        "colab": {
          "base_uri": "https://localhost:8080/"
        },
        "id": "fjOP5asvNZEG",
        "outputId": "0f4da628-1542-45ba-e3bc-02a806acbdff"
      },
      "execution_count": null,
      "outputs": [
        {
          "output_type": "execute_result",
          "data": {
            "text/plain": [
              "F    3099\n",
              "M    2804\n",
              "Name: SEXO, dtype: int64"
            ]
          },
          "metadata": {},
          "execution_count": 27
        }
      ]
    },
    {
      "cell_type": "code",
      "source": [
        "import seaborn as sns"
      ],
      "metadata": {
        "id": "NAKRC3UhNbe2"
      },
      "execution_count": null,
      "outputs": []
    },
    {
      "cell_type": "code",
      "source": [
        "sns.countplot(x='SEXO', data=df2);"
      ],
      "metadata": {
        "colab": {
          "base_uri": "https://localhost:8080/",
          "height": 279
        },
        "id": "LztU5d-MNdMN",
        "outputId": "124c3973-0416-4522-af45-896f5983bf58"
      },
      "execution_count": null,
      "outputs": [
        {
          "output_type": "display_data",
          "data": {
            "text/plain": [
              "<Figure size 432x288 with 1 Axes>"
            ],
            "image/png": "[encoded data removed]"
          },
          "metadata": {
            "needs_background": "light"
          }
        }
      ]
    },
    {
      "cell_type": "code",
      "source": [
        "df2.shape"
      ],
      "metadata": {
        "colab": {
          "base_uri": "https://localhost:8080/"
        },
        "id": "_4a8FO_VNe-e",
        "outputId": "23b354ab-62b3-455b-ae5d-7e6af1209d87"
      },
      "execution_count": null,
      "outputs": [
        {
          "output_type": "execute_result",
          "data": {
            "text/plain": [
              "(5903, 4)"
            ]
          },
          "metadata": {},
          "execution_count": 30
        }
      ]
    },
    {
      "cell_type": "code",
      "source": [
        "df2.describe()"
      ],
      "metadata": {
        "colab": {
          "base_uri": "https://localhost:8080/",
          "height": 300
        },
        "id": "2LtQnItKNqbs",
        "outputId": "15e54c19-c5a5-49c8-e859-14ddf20211b3"
      },
      "execution_count": null,
      "outputs": [
        {
          "output_type": "execute_result",
          "data": {
            "text/plain": [
              "             IDADE    INTERNADO       STATUS\n",
              "count  5903.000000  5903.000000  5903.000000\n",
              "mean     43.700999     0.219549     0.047603\n",
              "std      17.653127     0.413976     0.212943\n",
              "min       0.000000     0.000000     0.000000\n",
              "25%      31.000000     0.000000     0.000000\n",
              "50%      42.000000     0.000000     0.000000\n",
              "75%      56.000000     0.000000     0.000000\n",
              "max      96.000000     1.000000     1.000000"
            ],
            "text/html": [
              "\n",
              "  <div id=\"df-1db2448f-f278-45da-8dc7-406e401b6a6d\">\n",
              "    <div class=\"colab-df-container\">\n",
              "      <div>\n",
              "<style scoped>\n",
              "    .dataframe tbody tr th:only-of-type {\n",
              "        vertical-align: middle;\n",
              "    }\n",
              "\n",
              "    .dataframe tbody tr th {\n",
              "        vertical-align: top;\n",
              "    }\n",
              "\n",
              "    .dataframe thead th {\n",
              "        text-align: right;\n",
              "    }\n",
              "</style>\n",
              "<table border=\"1\" class=\"dataframe\">\n",
              "  <thead>\n",
              "    <tr style=\"text-align: right;\">\n",
              "      <th></th>\n",
              "      <th>IDADE</th>\n",
              "      <th>INTERNADO</th>\n",
              "      <th>STATUS</th>\n",
              "    </tr>\n",
              "  </thead>\n",
              "  <tbody>\n",
              "    <tr>\n",
              "      <th>count</th>\n",
              "      <td>5903.000000</td>\n",
              "      <td>5903.000000</td>\n",
              "      <td>5903.000000</td>\n",
              "    </tr>\n",
              "    <tr>\n",
              "      <th>mean</th>\n",
              "      <td>43.700999</td>\n",
              "      <td>0.219549</td>\n",
              "      <td>0.047603</td>\n",
              "    </tr>\n",
              "    <tr>\n",
              "      <th>std</th>\n",
              "      <td>17.653127</td>\n",
              "      <td>0.413976</td>\n",
              "      <td>0.212943</td>\n",
              "    </tr>\n",
              "    <tr>\n",
              "      <th>min</th>\n",
              "      <td>0.000000</td>\n",
              "      <td>0.000000</td>\n",
              "      <td>0.000000</td>\n",
              "    </tr>\n",
              "    <tr>\n",
              "      <th>25%</th>\n",
              "      <td>31.000000</td>\n",
              "      <td>0.000000</td>\n",
              "      <td>0.000000</td>\n",
              "    </tr>\n",
              "    <tr>\n",
              "      <th>50%</th>\n",
              "      <td>42.000000</td>\n",
              "      <td>0.000000</td>\n",
              "      <td>0.000000</td>\n",
              "    </tr>\n",
              "    <tr>\n",
              "      <th>75%</th>\n",
              "      <td>56.000000</td>\n",
              "      <td>0.000000</td>\n",
              "      <td>0.000000</td>\n",
              "    </tr>\n",
              "    <tr>\n",
              "      <th>max</th>\n",
              "      <td>96.000000</td>\n",
              "      <td>1.000000</td>\n",
              "      <td>1.000000</td>\n",
              "    </tr>\n",
              "  </tbody>\n",
              "</table>\n",
              "</div>\n",
              "      <button class=\"colab-df-convert\" onclick=\"convertToInteractive('df-1db2448f-f278-45da-8dc7-406e401b6a6d')\"\n",
              "              title=\"Convert this dataframe to an interactive table.\"\n",
              "              style=\"display:none;\">\n",
              "        \n",
              "  <svg xmlns=\"http://www.w3.org/2000/svg\" height=\"24px\"viewBox=\"0 0 24 24\"\n",
              "       width=\"24px\">\n",
              "    <path d=\"M0 0h24v24H0V0z\" fill=\"none\"/>\n",
              "    <path d=\"M18.56 5.44l.94 2.06.94-2.06 2.06-.94-2.06-.94-.94-2.06-.94 2.06-2.06.94zm-11 1L8.5 8.5l.94-2.06 2.06-.94-2.06-.94L8.5 2.5l-.94 2.06-2.06.94zm10 10l.94 2.06.94-2.06 2.06-.94-2.06-.94-.94-2.06-.94 2.06-2.06.94z\"/><path d=\"M17.41 7.96l-1.37-1.37c-.4-.4-.92-.59-1.43-.59-.52 0-1.04.2-1.43.59L10.3 9.45l-7.72 7.72c-.78.78-.78 2.05 0 2.83L4 21.41c.39.39.9.59 1.41.59.51 0 1.02-.2 1.41-.59l7.78-7.78 2.81-2.81c.8-.78.8-2.07 0-2.86zM5.41 20L4 18.59l7.72-7.72 1.47 1.35L5.41 20z\"/>\n",
              "  </svg>\n",
              "      </button>\n",
              "      \n",
              "  <style>\n",
              "    .colab-df-container {\n",
              "      display:flex;\n",
              "      flex-wrap:wrap;\n",
              "      gap: 12px;\n",
              "    }\n",
              "\n",
              "    .colab-df-convert {\n",
              "      background-color: #E8F0FE;\n",
              "      border: none;\n",
              "      border-radius: 50%;\n",
              "      cursor: pointer;\n",
              "      display: none;\n",
              "      fill: #1967D2;\n",
              "      height: 32px;\n",
              "      padding: 0 0 0 0;\n",
              "      width: 32px;\n",
              "    }\n",
              "\n",
              "    .colab-df-convert:hover {\n",
              "      background-color: #E2EBFA;\n",
              "      box-shadow: 0px 1px 2px rgba(60, 64, 67, 0.3), 0px 1px 3px 1px rgba(60, 64, 67, 0.15);\n",
              "      fill: #174EA6;\n",
              "    }\n",
              "\n",
              "    [theme=dark] .colab-df-convert {\n",
              "      background-color: #3B4455;\n",
              "      fill: #D2E3FC;\n",
              "    }\n",
              "\n",
              "    [theme=dark] .colab-df-convert:hover {\n",
              "      background-color: #434B5C;\n",
              "      box-shadow: 0px 1px 3px 1px rgba(0, 0, 0, 0.15);\n",
              "      filter: drop-shadow(0px 1px 2px rgba(0, 0, 0, 0.3));\n",
              "      fill: #FFFFFF;\n",
              "    }\n",
              "  </style>\n",
              "\n",
              "      <script>\n",
              "        const buttonEl =\n",
              "          document.querySelector('#df-1db2448f-f278-45da-8dc7-406e401b6a6d button.colab-df-convert');\n",
              "        buttonEl.style.display =\n",
              "          google.colab.kernel.accessAllowed ? 'block' : 'none';\n",
              "\n",
              "        async function convertToInteractive(key) {\n",
              "          const element = document.querySelector('#df-1db2448f-f278-45da-8dc7-406e401b6a6d');\n",
              "          const dataTable =\n",
              "            await google.colab.kernel.invokeFunction('convertToInteractive',\n",
              "                                                     [key], {});\n",
              "          if (!dataTable) return;\n",
              "\n",
              "          const docLinkHtml = 'Like what you see? Visit the ' +\n",
              "            '<a target=\"_blank\" href=https://colab.research.google.com/notebooks/data_table.ipynb>data table notebook</a>'\n",
              "            + ' to learn more about interactive tables.';\n",
              "          element.innerHTML = '';\n",
              "          dataTable['output_type'] = 'display_data';\n",
              "          await google.colab.output.renderOutput(dataTable, element);\n",
              "          const docLink = document.createElement('div');\n",
              "          docLink.innerHTML = docLinkHtml;\n",
              "          element.appendChild(docLink);\n",
              "        }\n",
              "      </script>\n",
              "    </div>\n",
              "  </div>\n",
              "  "
            ]
          },
          "metadata": {},
          "execution_count": 31
        }
      ]
    },
    {
      "cell_type": "markdown",
      "source": [
        "**Analise de outliers**"
      ],
      "metadata": {
        "id": "MO4ua29VN46t"
      }
    },
    {
      "cell_type": "code",
      "source": [
        "import plotly.express as px"
      ],
      "metadata": {
        "id": "8kyXHeoUN63E"
      },
      "execution_count": null,
      "outputs": []
    },
    {
      "cell_type": "code",
      "source": [
        "boxplot = px.box(df2, y=\"IDADE\")\n",
        "boxplot.show()"
      ],
      "metadata": {
        "colab": {
          "base_uri": "https://localhost:8080/",
          "height": 542
        },
        "id": "0dvFREF9OAQE",
        "outputId": "2579923a-f78d-47b8-c6ec-e4646190239f"
      },
      "execution_count": null,
      "outputs": [
        {
          "output_type": "display_data",
          "data": {
            "text/html": [
              "<html>\n",
              "<head><meta charset=\"utf-8\" /></head>\n",
              "<body>\n",
              "    <div>            <script src=\"https://cdnjs.cloudflare.com/ajax/libs/mathjax/2.7.5/MathJax.js?config=TeX-AMS-MML_SVG\"></script><script type=\"text/javascript\">if (window.MathJax) {MathJax.Hub.Config({SVG: {font: \"STIX-Web\"}});}</script>                <script type=\"text/javascript\">window.PlotlyConfig = {MathJaxConfig: 'local'};</script>\n",
              "        <script src=\"https://cdn.plot.ly/plotly-2.8.3.min.js\"></script>                <div id=\"1db5bae6-aed5-4919-a218-01cda24e1c35\" class=\"plotly-graph-div\" style=\"height:525px; width:100%;\"></div>            <script type=\"text/javascript\">                                    window.PLOTLYENV=window.PLOTLYENV || {};                                    if (document.getElementById(\"1db5bae6-aed5-4919-a218-01cda24e1c35\")) {                    Plotly.newPlot(                        \"1db5bae6-aed5-4919-a218-01cda24e1c35\",                        [{\"alignmentgroup\":\"True\",\"hovertemplate\":\"IDADE=%{y}<extra></extra>\",\"legendgroup\":\"\",\"marker\":{\"color\":\"#636efa\"},\"name\":\"\",\"notched\":false,\"offsetgroup\":\"\",\"orientation\":\"v\",\"showlegend\":false,\"x0\":\" \",\"xaxis\":\"x\",\"y\":[54,15,43,25,58,57,27,26,52,22,26,48,32,36,45,26,48,53,30,32,81,58,52,44,36,28,53,30,41,73,70,42,32,38,61,36,68,28,59,79,56,59,32,54,17,41,22,69,54,10,62,62,34,78,30,51,30,46,38,28,80,41,51,31,27,40,49,66,54,56,55,29,29,35,77,58,59,39,63,30,64,29,39,29,37,45,59,69,37,75,70,74,63,61,62,59,37,65,36,54,61,32,58,36,46,35,50,50,23,62,61,56,41,43,56,68,41,31,17,44,53,29,38,63,66,55,55,86,54,68,29,64,32,88,52,49,53,60,39,93,34,28,37,35,31,78,54,57,34,41,62,41,94,29,45,47,38,68,29,36,66,37,35,37,42,54,41,77,58,85,45,25,31,56,81,35,72,56,45,54,52,48,49,23,29,47,19,30,32,22,65,43,65,48,36,96,47,33,20,35,37,23,49,70,62,47,52,55,82,39,52,34,75,30,31,29,74,56,43,42,51,30,47,33,58,62,30,31,44,50,18,70,36,37,80,88,23,62,42,75,73,87,37,24,57,24,33,30,29,31,1,20,74,39,26,71,40,69,26,32,34,43,38,51,25,25,53,85,94,62,9,31,33,25,38,59,43,24,36,53,26,64,37,57,44,57,76,62,49,48,48,38,29,79,32,36,17,30,42,79,44,40,84,69,36,30,38,49,81,74,24,40,36,31,63,75,36,31,49,59,37,34,24,22,85,32,45,89,27,46,30,64,44,26,57,69,32,57,28,52,29,59,44,54,40,46,70,29,25,37,39,55,45,26,86,38,55,71,35,56,42,72,81,28,61,45,34,72,36,31,54,36,48,46,38,49,32,40,47,54,75,56,33,25,16,36,35,35,59,59,93,47,24,31,15,38,27,57,53,54,43,45,50,39,13,23,66,41,40,67,49,17,39,63,42,24,37,58,80,3,41,30,44,45,53,40,34,45,36,44,31,59,41,64,42,26,31,65,56,54,65,42,27,29,51,80,77,69,53,71,45,62,82,32,89,21,47,38,25,26,52,40,46,38,24,82,77,65,22,50,63,21,65,24,81,51,27,80,43,72,58,89,42,53,23,37,55,30,27,55,36,38,5,34,44,34,67,60,22,35,25,41,25,80,23,31,47,44,89,31,67,46,45,29,41,62,53,48,36,68,85,42,30,45,90,49,36,53,23,36,31,3,34,57,54,67,50,52,31,3,64,3,48,20,34,27,63,42,25,44,64,50,26,62,60,63,31,39,37,42,50,55,39,39,63,47,37,42,42,43,68,61,29,69,46,46,27,46,64,34,30,31,23,27,56,36,73,62,74,56,56,12,44,27,62,58,52,55,89,38,64,26,33,31,25,56,23,53,22,1,55,28,28,50,59,35,42,50,58,9,55,53,83,30,52,0,34,76,77,52,7,38,39,49,37,55,50,22,3,54,67,55,24,50,47,78,51,42,23,59,67,39,31,38,1,33,29,43,0,63,33,82,8,55,49,16,66,66,67,56,62,34,38,76,58,40,32,38,39,70,31,33,74,79,48,44,85,85,74,55,20,43,51,37,73,52,41,30,75,56,21,38,23,27,29,90,23,24,40,65,77,45,63,27,44,54,38,39,45,34,53,51,30,27,39,41,36,66,41,37,52,65,38,37,35,56,87,31,55,67,65,52,68,73,16,88,47,22,31,40,52,39,53,37,66,89,44,49,40,58,48,45,39,40,43,41,35,32,29,30,62,27,58,61,28,56,36,47,53,52,54,42,67,45,55,60,29,36,32,41,38,38,26,41,36,23,62,46,26,33,80,51,24,58,78,45,50,32,38,37,40,76,38,60,61,60,49,36,58,69,37,38,21,70,34,79,47,44,41,48,25,24,37,48,56,48,36,56,45,58,28,52,42,33,86,71,31,6,59,16,77,36,49,24,9,23,32,57,25,19,35,48,22,13,48,62,47,5,30,60,48,50,23,9,18,34,64,31,54,37,40,56,81,75,56,62,21,28,24,68,44,65,71,73,47,31,29,40,87,42,59,42,57,34,1,66,24,23,49,36,61,40,55,8,30,62,82,58,42,47,63,54,41,46,85,26,48,46,23,30,67,81,49,77,48,53,51,50,13,5,29,67,23,75,69,33,76,62,57,38,66,70,22,52,54,61,36,35,46,69,41,54,30,9,75,72,49,53,53,59,56,21,40,13,38,62,43,81,66,63,48,24,48,41,22,22,57,39,47,24,28,26,82,34,79,30,67,62,85,20,23,54,19,47,57,55,68,40,48,50,33,82,89,51,48,67,49,29,43,85,41,46,62,43,64,38,39,30,44,59,65,74,48,49,57,57,36,38,5,27,33,54,21,30,39,55,59,46,32,61,26,56,25,37,49,33,38,36,34,61,24,48,32,49,87,81,26,23,38,42,44,18,39,33,61,64,41,24,50,25,31,82,45,65,53,36,37,50,50,38,46,58,41,25,40,43,64,29,73,20,41,41,36,30,44,50,30,44,28,42,58,42,37,49,31,60,46,47,28,29,46,91,10,42,71,29,38,51,75,70,54,32,50,25,37,64,46,39,69,31,55,45,31,36,68,66,58,66,48,41,35,93,26,34,43,48,31,47,29,37,43,55,52,57,41,46,48,19,28,37,49,64,52,58,59,44,65,75,70,69,11,20,33,22,33,54,38,22,44,56,74,37,33,54,79,50,1,68,45,78,52,31,77,62,89,39,70,48,68,19,17,42,27,30,42,40,32,37,22,28,77,55,31,61,79,61,30,59,74,41,32,38,40,39,22,59,52,39,34,57,21,64,67,28,42,41,77,77,32,75,59,56,23,34,45,36,39,57,45,62,39,43,42,49,46,49,68,48,50,76,56,87,57,57,85,59,58,64,80,69,79,61,81,69,70,45,62,48,44,76,21,51,28,22,26,50,59,73,30,55,76,33,56,29,33,69,37,32,39,41,82,36,58,17,5,61,37,74,53,39,69,48,44,81,25,49,45,47,28,44,30,34,48,55,41,58,27,73,20,29,27,30,28,40,54,34,21,32,52,44,34,46,28,23,30,2,39,27,54,59,60,36,32,40,67,73,33,35,87,64,70,49,63,68,88,31,70,90,90,82,29,88,57,47,48,38,61,72,58,17,56,40,28,49,38,45,37,48,77,37,65,37,63,54,34,71,26,29,30,63,42,59,27,51,56,28,38,45,47,40,39,50,55,27,62,48,73,38,56,22,42,27,41,70,63,24,39,66,37,39,53,40,36,22,53,24,38,47,96,49,64,41,43,70,25,12,67,36,46,49,32,66,45,55,59,50,44,45,89,49,67,31,75,57,43,42,35,23,45,46,42,22,33,28,27,30,77,75,67,18,38,60,43,39,83,45,57,34,38,49,49,56,21,80,52,29,41,51,42,9,42,50,63,58,24,85,48,48,41,48,43,20,22,20,26,44,35,57,38,68,41,57,39,37,29,90,76,26,29,67,60,52,52,67,67,75,17,40,59,61,72,61,47,55,85,81,89,47,50,75,66,44,27,35,47,60,27,46,37,36,63,24,44,68,46,50,32,30,44,27,45,47,48,43,54,38,30,87,74,64,29,84,36,67,46,52,46,60,59,48,23,77,39,22,65,62,35,28,57,38,56,31,63,35,39,48,43,37,37,58,78,58,32,30,88,47,39,40,53,71,69,67,67,52,74,77,73,37,64,3,45,78,42,49,32,63,81,42,40,45,21,38,26,49,45,50,43,49,27,58,61,45,29,30,54,44,33,90,51,37,80,60,69,41,30,66,30,49,35,50,68,75,61,40,56,43,68,70,35,50,36,21,85,44,42,52,59,33,66,33,18,53,34,62,34,42,45,61,41,42,20,28,43,36,30,70,45,57,41,42,44,54,41,36,67,50,53,73,84,64,30,86,86,44,56,69,65,75,52,57,35,35,50,29,26,36,68,38,24,61,24,69,17,52,59,69,49,27,52,14,48,63,56,46,46,46,45,31,48,43,2,27,45,27,39,19,19,19,50,41,50,14,35,32,54,36,48,87,42,79,48,41,22,43,61,63,62,53,44,28,34,55,52,43,48,3,34,39,70,22,57,63,70,44,40,40,57,35,29,3,53,66,77,22,77,59,56,54,62,29,32,55,55,64,27,36,45,39,55,48,30,34,82,38,29,1,47,34,49,40,28,40,74,35,82,57,36,76,26,68,70,50,79,62,86,71,7,54,36,45,56,26,40,28,33,49,19,29,30,41,47,63,28,57,60,20,44,39,38,35,26,45,50,21,29,47,42,44,36,33,34,31,27,35,22,73,43,40,44,45,27,64,28,23,1,41,68,43,46,35,28,35,53,42,33,42,4,46,42,37,21,58,45,37,37,64,58,43,55,23,36,46,20,26,32,18,67,27,42,60,42,50,35,72,65,43,27,88,11,33,31,62,37,37,31,35,38,43,28,46,60,60,57,48,35,51,63,55,37,68,30,42,47,63,53,50,57,64,53,39,48,61,82,46,76,28,58,38,37,41,59,50,28,33,41,49,63,68,66,49,76,52,79,39,46,27,17,43,82,43,38,75,72,51,49,27,89,63,72,53,78,36,28,33,55,65,51,53,20,46,34,21,52,45,48,36,2,82,27,42,40,57,53,54,57,76,63,49,48,14,48,67,36,66,51,26,40,39,36,23,83,53,45,29,76,37,45,24,43,48,30,33,72,63,63,74,74,40,33,41,45,34,19,38,31,50,36,54,28,42,47,70,26,13,46,51,55,61,43,71,62,72,23,59,82,69,70,83,33,71,36,33,49,24,47,32,32,5,20,56,35,20,40,31,39,82,39,39,47,38,20,25,32,51,41,40,45,20,35,24,27,45,93,37,27,34,37,46,46,32,20,57,72,50,28,31,61,72,85,37,80,59,57,66,72,24,53,34,39,82,40,43,28,37,80,46,74,55,59,66,25,59,45,28,52,63,54,22,38,21,29,45,31,15,35,56,58,59,56,31,30,24,21,35,46,24,20,0,34,7,23,55,39,42,50,57,30,46,65,43,61,36,40,40,59,20,27,38,44,28,39,38,33,29,41,58,22,52,26,64,30,36,61,37,25,46,65,34,39,44,53,7,34,29,47,46,41,43,40,37,29,1,38,27,49,79,32,28,56,14,71,33,41,33,23,44,47,40,38,57,48,40,37,50,48,38,52,65,27,38,33,36,45,57,49,36,54,54,27,43,44,37,29,68,30,0,39,37,35,39,35,27,40,60,66,32,47,38,35,37,36,46,53,29,28,34,80,61,42,1,48,23,53,26,23,20,28,32,79,51,39,50,36,35,38,19,30,46,37,24,64,55,23,40,50,47,32,29,37,31,64,53,4,66,31,52,38,74,4,1,31,45,43,20,47,42,40,25,73,46,21,30,20,48,37,54,28,24,68,62,52,65,49,39,32,26,36,43,27,72,36,52,38,62,38,28,48,26,40,45,48,57,38,23,54,35,40,46,32,52,43,32,20,51,31,20,80,28,37,27,51,16,66,20,35,22,33,49,42,37,52,57,27,43,41,36,24,55,61,23,41,34,40,27,49,39,43,60,29,29,24,25,28,62,50,46,23,49,25,62,38,15,40,30,53,19,31,38,61,43,36,74,51,45,36,38,67,25,40,35,24,37,34,53,34,36,29,24,44,32,31,34,54,31,53,31,35,27,34,66,24,42,24,47,68,88,28,29,75,25,30,4,30,57,16,74,18,57,23,30,39,48,40,36,69,44,23,43,23,68,28,26,34,19,38,35,44,75,71,22,18,27,43,43,20,26,26,77,38,20,47,20,28,56,38,36,45,55,35,16,44,39,59,39,24,46,26,42,42,25,21,32,34,18,64,42,30,59,63,66,45,35,0,71,24,43,65,42,25,33,60,57,47,50,79,83,25,44,29,48,40,25,21,37,32,58,31,58,56,44,38,67,73,76,73,63,44,40,39,33,40,29,42,41,26,45,11,35,38,42,42,59,52,49,59,46,21,47,1,88,39,79,77,37,76,31,76,51,48,24,92,54,60,79,29,49,43,32,56,66,45,46,59,32,63,65,64,43,65,23,34,32,23,69,44,23,66,1,31,65,66,41,51,45,48,27,26,55,42,25,25,40,44,36,66,48,44,54,46,86,53,64,31,38,31,31,40,27,26,38,29,62,39,46,39,35,30,30,28,64,40,65,21,27,35,22,65,61,62,32,60,71,56,62,55,74,44,50,64,54,26,42,74,75,67,66,29,41,37,41,22,48,37,29,40,46,24,63,33,32,25,35,32,44,63,26,30,52,36,34,58,49,43,45,60,66,34,69,34,55,27,24,53,55,28,85,45,41,44,39,23,47,37,34,73,26,29,22,33,32,60,53,37,6,63,28,56,33,42,35,45,51,44,20,49,28,37,45,51,41,29,43,69,53,65,17,39,40,28,28,8,29,41,40,29,40,49,37,68,14,45,0,48,80,71,54,90,50,34,72,13,26,56,59,68,56,32,32,41,33,56,56,85,11,24,13,88,44,35,36,55,59,29,64,51,31,17,40,41,29,24,35,57,24,45,40,24,40,31,81,55,32,45,46,52,38,29,46,33,28,31,24,63,59,36,43,49,39,43,28,23,31,22,14,59,33,34,38,29,54,49,50,30,51,50,56,36,40,34,64,41,24,25,17,58,66,43,28,61,40,37,37,55,29,30,34,29,33,31,23,31,43,52,14,27,22,38,82,80,53,43,33,33,32,25,60,71,46,61,30,21,57,27,55,65,34,28,39,24,22,57,73,4,33,30,53,11,49,54,67,33,60,34,45,45,70,37,29,42,11,66,47,29,32,7,59,48,57,37,53,36,32,57,37,45,31,32,27,31,45,66,27,56,3,89,28,35,60,29,67,34,51,35,47,73,63,78,27,60,59,38,41,62,31,45,73,52,42,69,42,65,81,47,51,41,43,39,55,35,45,46,33,62,58,39,0,3,27,36,8,36,26,29,44,54,51,47,63,24,63,60,48,59,79,36,56,66,62,86,76,52,49,58,72,35,22,17,17,45,37,56,39,22,24,24,3,71,66,67,59,51,58,49,59,56,65,42,85,55,91,26,40,27,39,39,7,47,24,49,43,63,70,38,33,78,39,34,70,65,43,42,6,53,52,59,41,57,62,32,23,52,37,55,63,44,56,44,59,28,13,16,67,38,41,31,49,48,52,54,43,59,49,33,29,67,26,42,40,50,45,28,2,66,25,48,22,37,59,29,42,72,61,39,12,28,32,24,65,45,65,19,36,58,30,43,31,24,63,44,47,38,57,68,31,39,25,85,54,27,24,40,60,33,43,43,60,60,24,49,26,28,43,9,33,53,54,45,51,36,32,62,52,37,22,39,38,33,41,37,1,1,49,44,48,49,39,22,40,69,49,23,34,36,39,51,42,31,36,24,39,42,41,42,23,34,68,15,68,44,20,33,34,50,37,23,36,58,26,32,26,48,39,70,38,22,44,76,28,33,26,24,67,37,35,30,39,52,39,7,48,55,56,32,40,62,59,32,45,67,23,36,18,56,22,27,29,46,78,58,33,38,26,2,40,65,63,38,58,38,35,25,21,29,33,38,27,45,62,61,31,43,29,38,68,29,40,33,30,5,32,36,41,22,57,22,28,37,29,28,12,39,25,42,55,51,33,33,34,40,37,28,36,37,19,22,33,26,27,32,34,38,45,36,52,17,70,38,43,44,37,30,34,35,23,27,33,30,67,23,42,53,57,44,47,49,32,69,42,28,43,76,33,35,54,38,87,33,60,55,46,33,20,29,19,21,33,31,50,25,57,57,44,5,37,18,27,49,43,42,32,42,56,24,40,31,65,1,35,46,31,52,80,47,30,21,34,35,31,41,35,50,36,36,66,56,77,51,48,45,70,46,76,59,71,30,75,48,75,43,34,71,47,64,50,49,44,71,74,60,51,53,28,75,45,57,73,64,53,15,56,40,35,71,59,62,17,37,33,8,32,32,37,3,24,25,14,44,45,64,25,71,24,49,20,45,45,38,68,30,48,17,50,3,49,74,46,42,59,51,32,22,69,7,52,48,25,62,68,13,42,44,11,39,30,34,22,2,54,48,68,41,50,51,48,53,31,31,72,25,48,43,5,60,34,19,45,48,41,57,49,50,46,42,50,22,70,62,38,63,57,42,36,30,55,46,35,45,33,54,54,42,58,28,46,42,36,34,49,45,20,35,35,55,47,59,38,47,36,31,73,26,24,26,45,46,42,28,54,33,27,74,16,40,31,27,33,83,37,53,59,19,15,54,24,21,18,57,39,48,40,74,40,37,20,54,2,12,31,45,42,38,47,46,25,64,43,74,51,27,34,47,38,32,86,19,30,41,43,37,24,10,57,78,63,64,34,29,60,43,85,24,20,27,62,96,15,39,48,52,71,56,14,10,54,18,36,26,24,47,29,49,66,50,64,66,29,33,47,53,49,57,85,28,53,59,40,77,63,56,58,53,55,56,36,45,27,63,39,56,71,54,38,44,80,67,27,51,65,84,66,80,80,39,36,93,50,61,44,37,20,20,60,35,27,79,33,24,56,32,52,62,51,64,12,54,68,55,28,33,41,31,26,43,46,36,70,56,24,41,28,50,19,56,46,56,47,77,42,24,49,41,43,46,46,31,42,33,34,52,26,10,25,24,45,48,49,30,23,33,58,50,56,30,29,43,23,39,24,36,71,70,25,23,32,6,70,64,55,50,58,51,47,33,25,39,53,72,34,42,56,40,54,3,39,28,38,55,39,30,59,12,39,72,49,8,57,39,62,58,57,35,43,43,26,49,78,32,43,26,37,53,32,2,33,38,47,62,42,42,62,74,34,60,48,48,55,29,60,29,65,73,65,55,53,52,38,62,13,22,27,60,25,81,66,39,25,52,42,75,54,50,32,51,33,38,28,27,25,23,67,40,34,41,52,21,42,81,21,22,50,59,30,22,40,53,63,22,42,35,37,31,41,15,74,55,62,23,26,61,88,11,24,42,50,41,9,65,48,21,20,20,18,46,48,49,56,19,36,31,38,32,50,42,51,50,53,63,53,55,74,55,50,55,22,56,0,29,69,47,44,57,88,19,38,7,41,40,70,60,25,27,37,50,33,22,42,46,38,26,24,35,34,58,32,35,50,25,28,3,34,37,39,16,17,43,36,38,30,22,50,39,40,45,28,24,49,46,19,51,68,26,41,32,65,24,76,40,36,41,29,46,68,41,42,31,36,55,28,64,56,28,55,30,11,24,57,35,34,26,53,52,64,83,56,30,50,57,78,82,47,73,50,57,43,43,90,52,66,23,90,74,24,66,33,52,68,75,53,60,88,80,39,74,44,50,20,36,51,51,58,37,58,55,36,68,42,51,23,45,37,72,41,30,37,33,26,31,38,33,35,42,56,72,35,70,34,42,36,51,32,26,31,53,39,38,15,12,18,57,34,18,37,58,65,45,66,30,34,60,28,61,52,23,21,30,45,24,77,10,57,35,65,55,37,23,24,22,21,23,24,31,25,18,62,34,38,35,22,30,48,26,38,54,52,65,60,32,31,23,51,30,33,21,58,32,36,52,39,43,18,90,36,2,28,26,54,46,56,28,30,30,92,88,67,33,32,70,34,38,29,69,32,25,32,45,29,32,34,76,62,44,42,48,51,35,31,37,40,44,40,26,28,28,36,36,37,57,27,83,33,28,35,59,47,66,26,75,38,48,42,40,28,21,74,38,55,44,30,23,30,32,31,60,40,40,51,37,62,59,27,39,48,58,52,62,12,42,22,52,15,18,22,58,42,25,51,32,12,34,4,33,23,72,39,44,42,60,26,59,48,35,54,29,53,51,56,83,80,50,81,81,55,5,39,77,41,73,69,47,50,25,90,35,59,62,9,84,62,52,79,23,21,42,61,51,39,53,45,33,31,46,23,54,50,24,19,48,22,48,20,50,45,67,35,12,26,42,30,23,25,29,51,26,37,38,37,20,39,50,47,22,43,43,36,40,0,34,23,66,46,28,48,48,41,46,39,50,27,66,50,62,47,48,23,44,23,23,30,69,28,1,58,68,28,50,43,39,23,39,22,41,31,50,21,57,8,25,22,7,53,33,57,51,41,61,52,69,32,14,39,22,30,49,41,48,47,31,30,26,31,36,34,27,69,38,31,29,29,37,26,38,38,61,26,22,42,32,28,62,38,31,43,38,37,39,33,29,30,36,3,78,37,58,16,37,23,28,27,35,54,31,3,23,60,1,42,9,33,33,45,54,59,72,66,82,8,31,26,31,39,49,28,66,59,63,38,37,20,59,63,64,68,22,58,33,66,29,45,38,34,35,23,34,79,60,55,75,64,42,54,74,40,71,87,3,81,47,69,56,65,57,39,81,25,47,26,32,37,46,22,44,59,47,77,59,35,34,26,53,30,22,25,42,27,56,35,27,32,19,49,27,56,63,34,46,39,55,45,80,73,44,59,36,85,62,51,45,20,41,45,60,59,73,50,68,43,76,68,62,86,55,51,62,49,34,80,2,18,27,32,55,53,64,59,74,61,51,36,63,71,38,0,30,56,52,20,26,47,28,37,33,37,52,27,26,30,48,34,52,26,24,32,63,59,67,54,41,43,58,58,34,40,45,54,52,31,39,34,49,30,77,76,45,57,58,47,32,35,90,48,63,51,15,79,46,51,64,77,43,42,38,19,59,24,26,24,24,55,63,28,21,49,45,17,27,25,49,15,36,20,34,21,5,45,67,24,12,3,29,36,58,34,17,75,20,31,57,40,32,33,59,45,57,30,45,67,43,44,30,27,28,52,60,33,21,32,16,36,42,58,66,46,38,34,31,24,24,69,19,62,47,9,12,53,50,62,45,72,62,63,42,35,59,84,59,35,78,63,6,35,70,30,45,50,55,24,48,65,23,57,28,26,38,19,30,51,43,44,50,30,51,20,52,46,61,38,45,36,58,52,53,33,3,69,20,28,26,69,25,44,69,29,73,39,45,54,42,34,40,32,28,38,44,4,24,43,77,38,43,19,40,28,32,25,49,43,35,27,31,35,20,22,26,48,23,38,74,47,11,47,42,74,48,67,47,62,44,40,65,50,48,45,34,20,22,51,27,37,44,63,83,26,34,35,19,26,47,10,69,36,32,67,54,40,41,23,37,39,1,47,43,38,52,54,25,44,29,40,32,35,26,46,32,45,32,23,24,47,57,44,23,57,53,2,38,43,64,29,50,21,25,22,50,63,57,50,57,50,37,41,36,31,36,60,17,31,30,46,56,42,27,53,56,37,29,36,39,58,52,16,60,47,50,1,31,52,70,10,33,26,58,40,20,35,30,31,42,33,66,43,30,44,57,46,59,28,20,33,29,64,46,28,46,18,26,41,53,25,45,38,45,24,58,39,44,34,33,30,25,68,51,39,37,40,48,54,8,29,29,50,52,41,44,37,74,44,46,34,38,39,32,46,42,28,54,25,28,43,58,18,63,24,49,58,47,27,67,11,18,38,48,70,40,56,24,28,22,24,32,47,55,30,62,57,53,28,38,64,14,43,67,21,54,35,25,63,50,83,74,43,29,74,50,26,41,50,59,45,45,32,33,7,50,30,67,39,21,57,29,41,39,46,37,42,43,18,38,38,28,17,11,54,20,44,44,63,13,0,25,35,35,43,30,23,34,50,65,45,56,54,32,36,26,30,35,44,34,51,71,49,33,32,42,20,1,26,18,75,41,34,35,55,22,38,70,39,59,44,49,42,48,21,22,35,50,34,34,51,31,49,27,33,34,37,54,27,37,29,40,36,31,48,65,8,29,82,70,53,59,38,0,31,45,30,21,28,24,46,63,66,56,57,42,22,38,80,39,28,36,28,73,33,34,35,2,44,65,50,41,19,32,33,36,41,26,45,53,69,48,57,89,68,36,83,51,61,5,45,63,44,41,72,61,46,56,68,57,34,44,70,70,64,36,48,58,49,68,49,58,32,37,40,55,39,38,77,53,33,23,38,30,66,41,26,68,77,45,23,44,33,38,37,32,45,67,34,43,65,35,32,33,25,38,29,27,46,26,20,28,40,28,54,24,33,21,59,54,28,62,45,53,20,24,46,17,66,59,4,68,33,18,28,2,19,24,31,57,78,38,13,60,25,58,74,35,46,43,38,27,43,46,50,13,45,34,41,53,45,25,42,45,20,34,0,54,25,42,60,40,43,58,39,57,47,41,57,4,45,42,17,0,43,74,26,44,32,46,60,33,50,45,26,40,79,54,61,43,16,33,40,43,23,54,46,40,24,43,26,30,27,62,65,36,58,29,35,33,38,38,34,27,33,2,15,16,28,54,16,28,41,24,7,28,58,42,37,36,51,26,25,47,41,64,30,44,61,35,64,11,44,32,55,38,33,32,4,41,41,32,36,70,69,39,51,52,65,56,47,64,32,3,59,39,62,60,23,26,30,23,53,20,45,42,58,37,35,24,66,33,43,39,38,19,27,18,30,25,26,33,37,43,32,69,49,38,57,45,44,42,46,57,38,37,36,63,47,35,27,33,30,45,53,43,54,25,16,24,39,45,3,23,42,26,39,45,56,41,41,19,46,65,45,40,17,39,87,28,54,50,42,49,57,40,60,41,49,38,50,42,24,26,55,18,39,29,35,32,22,53,25,41,61,28,53,56,36,33,39,37,21,24,54,19,40,39,21,63,41,29,31,31,36,56,22,28,26,3,62,2,60,44,60,73,48,25,26,47,57,41,69,22,61,50,46,58,48,50,43,37,49,56,56,20,28,50,56,31,66,36,28,64,35,90,30,62,80,66,78,59,96,64,29,47,36,68,62,60,83,55,58,79,59,69,59,69,24,63,84,34,60,63,86,67,58,32,35,21,21,42,44,28,36,29,70,48,47,34,24,42,38,26,38,33,5,48,36,31,32,45,55,34,70,52,77,29,39,26,43,52,29,24,61,33,70,15,43,25,53,29,54,40,53,23,62,51,50,78,1,25,69,61,43,59,35,54,38,65,47,33,17,49,18,35,64,30,39,2,51,57,22,32,52,51,23,34,39,26,0,14,40,76,39,17,26,31,45,71,24,26,19,44,43,41,4,24,22,32,36,12,68,43,50,35,65,13,24,46,33,21,51,43,57,51,24,67,77,74,53,71,24,18,38,13,24,54,37,41,56,50,57,35,24,27,41,28,42,60,33,53,38,28,55,54,48,63,53,31,51,26,32,73,44,47,60,57,30,35,21,79,43,27,35,58,67,36,30,19,36,23,39,22,62,60,30,56,54,58,35,53,61,42,44,37,47,29,24,88,1,46,23,34,70,67],\"y0\":\" \",\"yaxis\":\"y\",\"type\":\"box\"}],                        {\"template\":{\"data\":{\"bar\":[{\"error_x\":{\"color\":\"#2a3f5f\"},\"error_y\":{\"color\":\"#2a3f5f\"},\"marker\":{\"line\":{\"color\":\"#E5ECF6\",\"width\":0.5},\"pattern\":{\"fillmode\":\"overlay\",\"size\":10,\"solidity\":0.2}},\"type\":\"bar\"}],\"barpolar\":[{\"marker\":{\"line\":{\"color\":\"#E5ECF6\",\"width\":0.5},\"pattern\":{\"fillmode\":\"overlay\",\"size\":10,\"solidity\":0.2}},\"type\":\"barpolar\"}],\"carpet\":[{\"aaxis\":{\"endlinecolor\":\"#2a3f5f\",\"gridcolor\":\"white\",\"linecolor\":\"white\",\"minorgridcolor\":\"white\",\"startlinecolor\":\"#2a3f5f\"},\"baxis\":{\"endlinecolor\":\"#2a3f5f\",\"gridcolor\":\"white\",\"linecolor\":\"white\",\"minorgridcolor\":\"white\",\"startlinecolor\":\"#2a3f5f\"},\"type\":\"carpet\"}],\"choropleth\":[{\"colorbar\":{\"outlinewidth\":0,\"ticks\":\"\"},\"type\":\"choropleth\"}],\"contour\":[{\"colorbar\":{\"outlinewidth\":0,\"ticks\":\"\"},\"colorscale\":[[0.0,\"#0d0887\"],[0.1111111111111111,\"#46039f\"],[0.2222222222222222,\"#7201a8\"],[0.3333333333333333,\"#9c179e\"],[0.4444444444444444,\"#bd3786\"],[0.5555555555555556,\"#d8576b\"],[0.6666666666666666,\"#ed7953\"],[0.7777777777777778,\"#fb9f3a\"],[0.8888888888888888,\"#fdca26\"],[1.0,\"#f0f921\"]],\"type\":\"contour\"}],\"contourcarpet\":[{\"colorbar\":{\"outlinewidth\":0,\"ticks\":\"\"},\"type\":\"contourcarpet\"}],\"heatmap\":[{\"colorbar\":{\"outlinewidth\":0,\"ticks\":\"\"},\"colorscale\":[[0.0,\"#0d0887\"],[0.1111111111111111,\"#46039f\"],[0.2222222222222222,\"#7201a8\"],[0.3333333333333333,\"#9c179e\"],[0.4444444444444444,\"#bd3786\"],[0.5555555555555556,\"#d8576b\"],[0.6666666666666666,\"#ed7953\"],[0.7777777777777778,\"#fb9f3a\"],[0.8888888888888888,\"#fdca26\"],[1.0,\"#f0f921\"]],\"type\":\"heatmap\"}],\"heatmapgl\":[{\"colorbar\":{\"outlinewidth\":0,\"ticks\":\"\"},\"colorscale\":[[0.0,\"#0d0887\"],[0.1111111111111111,\"#46039f\"],[0.2222222222222222,\"#7201a8\"],[0.3333333333333333,\"#9c179e\"],[0.4444444444444444,\"#bd3786\"],[0.5555555555555556,\"#d8576b\"],[0.6666666666666666,\"#ed7953\"],[0.7777777777777778,\"#fb9f3a\"],[0.8888888888888888,\"#fdca26\"],[1.0,\"#f0f921\"]],\"type\":\"heatmapgl\"}],\"histogram\":[{\"marker\":{\"pattern\":{\"fillmode\":\"overlay\",\"size\":10,\"solidity\":0.2}},\"type\":\"histogram\"}],\"histogram2d\":[{\"colorbar\":{\"outlinewidth\":0,\"ticks\":\"\"},\"colorscale\":[[0.0,\"#0d0887\"],[0.1111111111111111,\"#46039f\"],[0.2222222222222222,\"#7201a8\"],[0.3333333333333333,\"#9c179e\"],[0.4444444444444444,\"#bd3786\"],[0.5555555555555556,\"#d8576b\"],[0.6666666666666666,\"#ed7953\"],[0.7777777777777778,\"#fb9f3a\"],[0.8888888888888888,\"#fdca26\"],[1.0,\"#f0f921\"]],\"type\":\"histogram2d\"}],\"histogram2dcontour\":[{\"colorbar\":{\"outlinewidth\":0,\"ticks\":\"\"},\"colorscale\":[[0.0,\"#0d0887\"],[0.1111111111111111,\"#46039f\"],[0.2222222222222222,\"#7201a8\"],[0.3333333333333333,\"#9c179e\"],[0.4444444444444444,\"#bd3786\"],[0.5555555555555556,\"#d8576b\"],[0.6666666666666666,\"#ed7953\"],[0.7777777777777778,\"#fb9f3a\"],[0.8888888888888888,\"#fdca26\"],[1.0,\"#f0f921\"]],\"type\":\"histogram2dcontour\"}],\"mesh3d\":[{\"colorbar\":{\"outlinewidth\":0,\"ticks\":\"\"},\"type\":\"mesh3d\"}],\"parcoords\":[{\"line\":{\"colorbar\":{\"outlinewidth\":0,\"ticks\":\"\"}},\"type\":\"parcoords\"}],\"pie\":[{\"automargin\":true,\"type\":\"pie\"}],\"scatter\":[{\"marker\":{\"colorbar\":{\"outlinewidth\":0,\"ticks\":\"\"}},\"type\":\"scatter\"}],\"scatter3d\":[{\"line\":{\"colorbar\":{\"outlinewidth\":0,\"ticks\":\"\"}},\"marker\":{\"colorbar\":{\"outlinewidth\":0,\"ticks\":\"\"}},\"type\":\"scatter3d\"}],\"scattercarpet\":[{\"marker\":{\"colorbar\":{\"outlinewidth\":0,\"ticks\":\"\"}},\"type\":\"scattercarpet\"}],\"scattergeo\":[{\"marker\":{\"colorbar\":{\"outlinewidth\":0,\"ticks\":\"\"}},\"type\":\"scattergeo\"}],\"scattergl\":[{\"marker\":{\"colorbar\":{\"outlinewidth\":0,\"ticks\":\"\"}},\"type\":\"scattergl\"}],\"scattermapbox\":[{\"marker\":{\"colorbar\":{\"outlinewidth\":0,\"ticks\":\"\"}},\"type\":\"scattermapbox\"}],\"scatterpolar\":[{\"marker\":{\"colorbar\":{\"outlinewidth\":0,\"ticks\":\"\"}},\"type\":\"scatterpolar\"}],\"scatterpolargl\":[{\"marker\":{\"colorbar\":{\"outlinewidth\":0,\"ticks\":\"\"}},\"type\":\"scatterpolargl\"}],\"scatterternary\":[{\"marker\":{\"colorbar\":{\"outlinewidth\":0,\"ticks\":\"\"}},\"type\":\"scatterternary\"}],\"surface\":[{\"colorbar\":{\"outlinewidth\":0,\"ticks\":\"\"},\"colorscale\":[[0.0,\"#0d0887\"],[0.1111111111111111,\"#46039f\"],[0.2222222222222222,\"#7201a8\"],[0.3333333333333333,\"#9c179e\"],[0.4444444444444444,\"#bd3786\"],[0.5555555555555556,\"#d8576b\"],[0.6666666666666666,\"#ed7953\"],[0.7777777777777778,\"#fb9f3a\"],[0.8888888888888888,\"#fdca26\"],[1.0,\"#f0f921\"]],\"type\":\"surface\"}],\"table\":[{\"cells\":{\"fill\":{\"color\":\"#EBF0F8\"},\"line\":{\"color\":\"white\"}},\"header\":{\"fill\":{\"color\":\"#C8D4E3\"},\"line\":{\"color\":\"white\"}},\"type\":\"table\"}]},\"layout\":{\"annotationdefaults\":{\"arrowcolor\":\"#2a3f5f\",\"arrowhead\":0,\"arrowwidth\":1},\"autotypenumbers\":\"strict\",\"coloraxis\":{\"colorbar\":{\"outlinewidth\":0,\"ticks\":\"\"}},\"colorscale\":{\"diverging\":[[0,\"#8e0152\"],[0.1,\"#c51b7d\"],[0.2,\"#de77ae\"],[0.3,\"#f1b6da\"],[0.4,\"#fde0ef\"],[0.5,\"#f7f7f7\"],[0.6,\"#e6f5d0\"],[0.7,\"#b8e186\"],[0.8,\"#7fbc41\"],[0.9,\"#4d9221\"],[1,\"#276419\"]],\"sequential\":[[0.0,\"#0d0887\"],[0.1111111111111111,\"#46039f\"],[0.2222222222222222,\"#7201a8\"],[0.3333333333333333,\"#9c179e\"],[0.4444444444444444,\"#bd3786\"],[0.5555555555555556,\"#d8576b\"],[0.6666666666666666,\"#ed7953\"],[0.7777777777777778,\"#fb9f3a\"],[0.8888888888888888,\"#fdca26\"],[1.0,\"#f0f921\"]],\"sequentialminus\":[[0.0,\"#0d0887\"],[0.1111111111111111,\"#46039f\"],[0.2222222222222222,\"#7201a8\"],[0.3333333333333333,\"#9c179e\"],[0.4444444444444444,\"#bd3786\"],[0.5555555555555556,\"#d8576b\"],[0.6666666666666666,\"#ed7953\"],[0.7777777777777778,\"#fb9f3a\"],[0.8888888888888888,\"#fdca26\"],[1.0,\"#f0f921\"]]},\"colorway\":[\"#636efa\",\"#EF553B\",\"#00cc96\",\"#ab63fa\",\"#FFA15A\",\"#19d3f3\",\"#FF6692\",\"#B6E880\",\"#FF97FF\",\"#FECB52\"],\"font\":{\"color\":\"#2a3f5f\"},\"geo\":{\"bgcolor\":\"white\",\"lakecolor\":\"white\",\"landcolor\":\"#E5ECF6\",\"showlakes\":true,\"showland\":true,\"subunitcolor\":\"white\"},\"hoverlabel\":{\"align\":\"left\"},\"hovermode\":\"closest\",\"mapbox\":{\"style\":\"light\"},\"paper_bgcolor\":\"white\",\"plot_bgcolor\":\"#E5ECF6\",\"polar\":{\"angularaxis\":{\"gridcolor\":\"white\",\"linecolor\":\"white\",\"ticks\":\"\"},\"bgcolor\":\"#E5ECF6\",\"radialaxis\":{\"gridcolor\":\"white\",\"linecolor\":\"white\",\"ticks\":\"\"}},\"scene\":{\"xaxis\":{\"backgroundcolor\":\"#E5ECF6\",\"gridcolor\":\"white\",\"gridwidth\":2,\"linecolor\":\"white\",\"showbackground\":true,\"ticks\":\"\",\"zerolinecolor\":\"white\"},\"yaxis\":{\"backgroundcolor\":\"#E5ECF6\",\"gridcolor\":\"white\",\"gridwidth\":2,\"linecolor\":\"white\",\"showbackground\":true,\"ticks\":\"\",\"zerolinecolor\":\"white\"},\"zaxis\":{\"backgroundcolor\":\"#E5ECF6\",\"gridcolor\":\"white\",\"gridwidth\":2,\"linecolor\":\"white\",\"showbackground\":true,\"ticks\":\"\",\"zerolinecolor\":\"white\"}},\"shapedefaults\":{\"line\":{\"color\":\"#2a3f5f\"}},\"ternary\":{\"aaxis\":{\"gridcolor\":\"white\",\"linecolor\":\"white\",\"ticks\":\"\"},\"baxis\":{\"gridcolor\":\"white\",\"linecolor\":\"white\",\"ticks\":\"\"},\"bgcolor\":\"#E5ECF6\",\"caxis\":{\"gridcolor\":\"white\",\"linecolor\":\"white\",\"ticks\":\"\"}},\"title\":{\"x\":0.05},\"xaxis\":{\"automargin\":true,\"gridcolor\":\"white\",\"linecolor\":\"white\",\"ticks\":\"\",\"title\":{\"standoff\":15},\"zerolinecolor\":\"white\",\"zerolinewidth\":2},\"yaxis\":{\"automargin\":true,\"gridcolor\":\"white\",\"linecolor\":\"white\",\"ticks\":\"\",\"title\":{\"standoff\":15},\"zerolinecolor\":\"white\",\"zerolinewidth\":2}}},\"xaxis\":{\"anchor\":\"y\",\"domain\":[0.0,1.0]},\"yaxis\":{\"anchor\":\"x\",\"domain\":[0.0,1.0],\"title\":{\"text\":\"IDADE\"}},\"legend\":{\"tracegroupgap\":0},\"margin\":{\"t\":60},\"boxmode\":\"group\"},                        {\"responsive\": true}                    ).then(function(){\n",
              "                            \n",
              "var gd = document.getElementById('1db5bae6-aed5-4919-a218-01cda24e1c35');\n",
              "var x = new MutationObserver(function (mutations, observer) {{\n",
              "        var display = window.getComputedStyle(gd).display;\n",
              "        if (!display || display === 'none') {{\n",
              "            console.log([gd, 'removed!']);\n",
              "            Plotly.purge(gd);\n",
              "            observer.disconnect();\n",
              "        }}\n",
              "}});\n",
              "\n",
              "// Listen for the removal of the full notebook cells\n",
              "var notebookContainer = gd.closest('#notebook-container');\n",
              "if (notebookContainer) {{\n",
              "    x.observe(notebookContainer, {childList: true});\n",
              "}}\n",
              "\n",
              "// Listen for the clearing of the current output cell\n",
              "var outputEl = gd.closest('.output');\n",
              "if (outputEl) {{\n",
              "    x.observe(outputEl, {childList: true});\n",
              "}}\n",
              "\n",
              "                        })                };                            </script>        </div>\n",
              "</body>\n",
              "</html>"
            ]
          },
          "metadata": {}
        }
      ]
    },
    {
      "cell_type": "code",
      "source": [
        "df2.head()"
      ],
      "metadata": {
        "colab": {
          "base_uri": "https://localhost:8080/",
          "height": 206
        },
        "id": "vr1adk1NOmn8",
        "outputId": "4386711b-934b-433c-db1b-4b4cf6044f14"
      },
      "execution_count": null,
      "outputs": [
        {
          "output_type": "execute_result",
          "data": {
            "text/plain": [
              "   IDADE SEXO  INTERNADO  STATUS\n",
              "0     54    M          0       0\n",
              "1     15    M          0       0\n",
              "2     43    M          0       0\n",
              "3     25    F          0       0\n",
              "4     58    M          0       0"
            ],
            "text/html": [
              "\n",
              "  <div id=\"df-e97a602d-68fe-4859-a4fa-d350eeee1822\">\n",
              "    <div class=\"colab-df-container\">\n",
              "      <div>\n",
              "<style scoped>\n",
              "    .dataframe tbody tr th:only-of-type {\n",
              "        vertical-align: middle;\n",
              "    }\n",
              "\n",
              "    .dataframe tbody tr th {\n",
              "        vertical-align: top;\n",
              "    }\n",
              "\n",
              "    .dataframe thead th {\n",
              "        text-align: right;\n",
              "    }\n",
              "</style>\n",
              "<table border=\"1\" class=\"dataframe\">\n",
              "  <thead>\n",
              "    <tr style=\"text-align: right;\">\n",
              "      <th></th>\n",
              "      <th>IDADE</th>\n",
              "      <th>SEXO</th>\n",
              "      <th>INTERNADO</th>\n",
              "      <th>STATUS</th>\n",
              "    </tr>\n",
              "  </thead>\n",
              "  <tbody>\n",
              "    <tr>\n",
              "      <th>0</th>\n",
              "      <td>54</td>\n",
              "      <td>M</td>\n",
              "      <td>0</td>\n",
              "      <td>0</td>\n",
              "    </tr>\n",
              "    <tr>\n",
              "      <th>1</th>\n",
              "      <td>15</td>\n",
              "      <td>M</td>\n",
              "      <td>0</td>\n",
              "      <td>0</td>\n",
              "    </tr>\n",
              "    <tr>\n",
              "      <th>2</th>\n",
              "      <td>43</td>\n",
              "      <td>M</td>\n",
              "      <td>0</td>\n",
              "      <td>0</td>\n",
              "    </tr>\n",
              "    <tr>\n",
              "      <th>3</th>\n",
              "      <td>25</td>\n",
              "      <td>F</td>\n",
              "      <td>0</td>\n",
              "      <td>0</td>\n",
              "    </tr>\n",
              "    <tr>\n",
              "      <th>4</th>\n",
              "      <td>58</td>\n",
              "      <td>M</td>\n",
              "      <td>0</td>\n",
              "      <td>0</td>\n",
              "    </tr>\n",
              "  </tbody>\n",
              "</table>\n",
              "</div>\n",
              "      <button class=\"colab-df-convert\" onclick=\"convertToInteractive('df-e97a602d-68fe-4859-a4fa-d350eeee1822')\"\n",
              "              title=\"Convert this dataframe to an interactive table.\"\n",
              "              style=\"display:none;\">\n",
              "        \n",
              "  <svg xmlns=\"http://www.w3.org/2000/svg\" height=\"24px\"viewBox=\"0 0 24 24\"\n",
              "       width=\"24px\">\n",
              "    <path d=\"M0 0h24v24H0V0z\" fill=\"none\"/>\n",
              "    <path d=\"M18.56 5.44l.94 2.06.94-2.06 2.06-.94-2.06-.94-.94-2.06-.94 2.06-2.06.94zm-11 1L8.5 8.5l.94-2.06 2.06-.94-2.06-.94L8.5 2.5l-.94 2.06-2.06.94zm10 10l.94 2.06.94-2.06 2.06-.94-2.06-.94-.94-2.06-.94 2.06-2.06.94z\"/><path d=\"M17.41 7.96l-1.37-1.37c-.4-.4-.92-.59-1.43-.59-.52 0-1.04.2-1.43.59L10.3 9.45l-7.72 7.72c-.78.78-.78 2.05 0 2.83L4 21.41c.39.39.9.59 1.41.59.51 0 1.02-.2 1.41-.59l7.78-7.78 2.81-2.81c.8-.78.8-2.07 0-2.86zM5.41 20L4 18.59l7.72-7.72 1.47 1.35L5.41 20z\"/>\n",
              "  </svg>\n",
              "      </button>\n",
              "      \n",
              "  <style>\n",
              "    .colab-df-container {\n",
              "      display:flex;\n",
              "      flex-wrap:wrap;\n",
              "      gap: 12px;\n",
              "    }\n",
              "\n",
              "    .colab-df-convert {\n",
              "      background-color: #E8F0FE;\n",
              "      border: none;\n",
              "      border-radius: 50%;\n",
              "      cursor: pointer;\n",
              "      display: none;\n",
              "      fill: #1967D2;\n",
              "      height: 32px;\n",
              "      padding: 0 0 0 0;\n",
              "      width: 32px;\n",
              "    }\n",
              "\n",
              "    .colab-df-convert:hover {\n",
              "      background-color: #E2EBFA;\n",
              "      box-shadow: 0px 1px 2px rgba(60, 64, 67, 0.3), 0px 1px 3px 1px rgba(60, 64, 67, 0.15);\n",
              "      fill: #174EA6;\n",
              "    }\n",
              "\n",
              "    [theme=dark] .colab-df-convert {\n",
              "      background-color: #3B4455;\n",
              "      fill: #D2E3FC;\n",
              "    }\n",
              "\n",
              "    [theme=dark] .colab-df-convert:hover {\n",
              "      background-color: #434B5C;\n",
              "      box-shadow: 0px 1px 3px 1px rgba(0, 0, 0, 0.15);\n",
              "      filter: drop-shadow(0px 1px 2px rgba(0, 0, 0, 0.3));\n",
              "      fill: #FFFFFF;\n",
              "    }\n",
              "  </style>\n",
              "\n",
              "      <script>\n",
              "        const buttonEl =\n",
              "          document.querySelector('#df-e97a602d-68fe-4859-a4fa-d350eeee1822 button.colab-df-convert');\n",
              "        buttonEl.style.display =\n",
              "          google.colab.kernel.accessAllowed ? 'block' : 'none';\n",
              "\n",
              "        async function convertToInteractive(key) {\n",
              "          const element = document.querySelector('#df-e97a602d-68fe-4859-a4fa-d350eeee1822');\n",
              "          const dataTable =\n",
              "            await google.colab.kernel.invokeFunction('convertToInteractive',\n",
              "                                                     [key], {});\n",
              "          if (!dataTable) return;\n",
              "\n",
              "          const docLinkHtml = 'Like what you see? Visit the ' +\n",
              "            '<a target=\"_blank\" href=https://colab.research.google.com/notebooks/data_table.ipynb>data table notebook</a>'\n",
              "            + ' to learn more about interactive tables.';\n",
              "          element.innerHTML = '';\n",
              "          dataTable['output_type'] = 'display_data';\n",
              "          await google.colab.output.renderOutput(dataTable, element);\n",
              "          const docLink = document.createElement('div');\n",
              "          docLink.innerHTML = docLinkHtml;\n",
              "          element.appendChild(docLink);\n",
              "        }\n",
              "      </script>\n",
              "    </div>\n",
              "  </div>\n",
              "  "
            ]
          },
          "metadata": {},
          "execution_count": 34
        }
      ]
    },
    {
      "cell_type": "markdown",
      "source": [
        "# Transformar variaveis categoricas em numericas"
      ],
      "metadata": {
        "id": "pSrGKtBIPKw5"
      }
    },
    {
      "cell_type": "code",
      "source": [
        "df2['SEXO'].replace({'F': 0, 'M': 1}, inplace=True)"
      ],
      "metadata": {
        "id": "7UTysqUmO05k"
      },
      "execution_count": null,
      "outputs": []
    },
    {
      "cell_type": "code",
      "source": [
        "df2.head()"
      ],
      "metadata": {
        "colab": {
          "base_uri": "https://localhost:8080/",
          "height": 206
        },
        "id": "SekJrRYmPNPU",
        "outputId": "3ca33227-f0c4-4f28-d3d4-9e05d922faa0"
      },
      "execution_count": null,
      "outputs": [
        {
          "output_type": "execute_result",
          "data": {
            "text/plain": [
              "   IDADE  SEXO  INTERNADO  STATUS\n",
              "0     54     1          0       0\n",
              "1     15     1          0       0\n",
              "2     43     1          0       0\n",
              "3     25     0          0       0\n",
              "4     58     1          0       0"
            ],
            "text/html": [
              "\n",
              "  <div id=\"df-8d3fe9cc-eda6-49dd-bac6-d6f25b5fa89a\">\n",
              "    <div class=\"colab-df-container\">\n",
              "      <div>\n",
              "<style scoped>\n",
              "    .dataframe tbody tr th:only-of-type {\n",
              "        vertical-align: middle;\n",
              "    }\n",
              "\n",
              "    .dataframe tbody tr th {\n",
              "        vertical-align: top;\n",
              "    }\n",
              "\n",
              "    .dataframe thead th {\n",
              "        text-align: right;\n",
              "    }\n",
              "</style>\n",
              "<table border=\"1\" class=\"dataframe\">\n",
              "  <thead>\n",
              "    <tr style=\"text-align: right;\">\n",
              "      <th></th>\n",
              "      <th>IDADE</th>\n",
              "      <th>SEXO</th>\n",
              "      <th>INTERNADO</th>\n",
              "      <th>STATUS</th>\n",
              "    </tr>\n",
              "  </thead>\n",
              "  <tbody>\n",
              "    <tr>\n",
              "      <th>0</th>\n",
              "      <td>54</td>\n",
              "      <td>1</td>\n",
              "      <td>0</td>\n",
              "      <td>0</td>\n",
              "    </tr>\n",
              "    <tr>\n",
              "      <th>1</th>\n",
              "      <td>15</td>\n",
              "      <td>1</td>\n",
              "      <td>0</td>\n",
              "      <td>0</td>\n",
              "    </tr>\n",
              "    <tr>\n",
              "      <th>2</th>\n",
              "      <td>43</td>\n",
              "      <td>1</td>\n",
              "      <td>0</td>\n",
              "      <td>0</td>\n",
              "    </tr>\n",
              "    <tr>\n",
              "      <th>3</th>\n",
              "      <td>25</td>\n",
              "      <td>0</td>\n",
              "      <td>0</td>\n",
              "      <td>0</td>\n",
              "    </tr>\n",
              "    <tr>\n",
              "      <th>4</th>\n",
              "      <td>58</td>\n",
              "      <td>1</td>\n",
              "      <td>0</td>\n",
              "      <td>0</td>\n",
              "    </tr>\n",
              "  </tbody>\n",
              "</table>\n",
              "</div>\n",
              "      <button class=\"colab-df-convert\" onclick=\"convertToInteractive('df-8d3fe9cc-eda6-49dd-bac6-d6f25b5fa89a')\"\n",
              "              title=\"Convert this dataframe to an interactive table.\"\n",
              "              style=\"display:none;\">\n",
              "        \n",
              "  <svg xmlns=\"http://www.w3.org/2000/svg\" height=\"24px\"viewBox=\"0 0 24 24\"\n",
              "       width=\"24px\">\n",
              "    <path d=\"M0 0h24v24H0V0z\" fill=\"none\"/>\n",
              "    <path d=\"M18.56 5.44l.94 2.06.94-2.06 2.06-.94-2.06-.94-.94-2.06-.94 2.06-2.06.94zm-11 1L8.5 8.5l.94-2.06 2.06-.94-2.06-.94L8.5 2.5l-.94 2.06-2.06.94zm10 10l.94 2.06.94-2.06 2.06-.94-2.06-.94-.94-2.06-.94 2.06-2.06.94z\"/><path d=\"M17.41 7.96l-1.37-1.37c-.4-.4-.92-.59-1.43-.59-.52 0-1.04.2-1.43.59L10.3 9.45l-7.72 7.72c-.78.78-.78 2.05 0 2.83L4 21.41c.39.39.9.59 1.41.59.51 0 1.02-.2 1.41-.59l7.78-7.78 2.81-2.81c.8-.78.8-2.07 0-2.86zM5.41 20L4 18.59l7.72-7.72 1.47 1.35L5.41 20z\"/>\n",
              "  </svg>\n",
              "      </button>\n",
              "      \n",
              "  <style>\n",
              "    .colab-df-container {\n",
              "      display:flex;\n",
              "      flex-wrap:wrap;\n",
              "      gap: 12px;\n",
              "    }\n",
              "\n",
              "    .colab-df-convert {\n",
              "      background-color: #E8F0FE;\n",
              "      border: none;\n",
              "      border-radius: 50%;\n",
              "      cursor: pointer;\n",
              "      display: none;\n",
              "      fill: #1967D2;\n",
              "      height: 32px;\n",
              "      padding: 0 0 0 0;\n",
              "      width: 32px;\n",
              "    }\n",
              "\n",
              "    .colab-df-convert:hover {\n",
              "      background-color: #E2EBFA;\n",
              "      box-shadow: 0px 1px 2px rgba(60, 64, 67, 0.3), 0px 1px 3px 1px rgba(60, 64, 67, 0.15);\n",
              "      fill: #174EA6;\n",
              "    }\n",
              "\n",
              "    [theme=dark] .colab-df-convert {\n",
              "      background-color: #3B4455;\n",
              "      fill: #D2E3FC;\n",
              "    }\n",
              "\n",
              "    [theme=dark] .colab-df-convert:hover {\n",
              "      background-color: #434B5C;\n",
              "      box-shadow: 0px 1px 3px 1px rgba(0, 0, 0, 0.15);\n",
              "      filter: drop-shadow(0px 1px 2px rgba(0, 0, 0, 0.3));\n",
              "      fill: #FFFFFF;\n",
              "    }\n",
              "  </style>\n",
              "\n",
              "      <script>\n",
              "        const buttonEl =\n",
              "          document.querySelector('#df-8d3fe9cc-eda6-49dd-bac6-d6f25b5fa89a button.colab-df-convert');\n",
              "        buttonEl.style.display =\n",
              "          google.colab.kernel.accessAllowed ? 'block' : 'none';\n",
              "\n",
              "        async function convertToInteractive(key) {\n",
              "          const element = document.querySelector('#df-8d3fe9cc-eda6-49dd-bac6-d6f25b5fa89a');\n",
              "          const dataTable =\n",
              "            await google.colab.kernel.invokeFunction('convertToInteractive',\n",
              "                                                     [key], {});\n",
              "          if (!dataTable) return;\n",
              "\n",
              "          const docLinkHtml = 'Like what you see? Visit the ' +\n",
              "            '<a target=\"_blank\" href=https://colab.research.google.com/notebooks/data_table.ipynb>data table notebook</a>'\n",
              "            + ' to learn more about interactive tables.';\n",
              "          element.innerHTML = '';\n",
              "          dataTable['output_type'] = 'display_data';\n",
              "          await google.colab.output.renderOutput(dataTable, element);\n",
              "          const docLink = document.createElement('div');\n",
              "          docLink.innerHTML = docLinkHtml;\n",
              "          element.appendChild(docLink);\n",
              "        }\n",
              "      </script>\n",
              "    </div>\n",
              "  </div>\n",
              "  "
            ]
          },
          "metadata": {},
          "execution_count": 36
        }
      ]
    },
    {
      "cell_type": "markdown",
      "source": [
        "# Escalonamento"
      ],
      "metadata": {
        "id": "sIJ0pt2WPFb9"
      }
    },
    {
      "cell_type": "code",
      "source": [
        "from sklearn.preprocessing import StandardScaler"
      ],
      "metadata": {
        "id": "iWJZQeKIOuxX"
      },
      "execution_count": null,
      "outputs": []
    },
    {
      "cell_type": "code",
      "source": [
        "escala = StandardScaler()\n",
        "df2_esc = escala.fit_transform(df2)"
      ],
      "metadata": {
        "id": "GElBsouLO5lO"
      },
      "execution_count": null,
      "outputs": []
    },
    {
      "cell_type": "code",
      "source": [
        "df2_esc"
      ],
      "metadata": {
        "colab": {
          "base_uri": "https://localhost:8080/"
        },
        "id": "ruKCjlcUO7IX",
        "outputId": "a74d0294-8681-4bf1-a555-9cf855df5d7d"
      },
      "execution_count": null,
      "outputs": [
        {
          "output_type": "execute_result",
          "data": {
            "text/plain": [
              "array([[ 0.58345885,  1.05128818, -0.53038764, -0.22356702],\n",
              "       [-1.62596867,  1.05128818, -0.53038764, -0.22356702],\n",
              "       [-0.03971301,  1.05128818, -0.53038764, -0.22356702],\n",
              "       ...,\n",
              "       [-0.5495809 , -0.95121396, -0.53038764, -0.22356702],\n",
              "       [ 1.48989065,  1.05128818, -0.53038764, -0.22356702],\n",
              "       [ 1.31993469,  1.05128818, -0.53038764, -0.22356702]])"
            ]
          },
          "metadata": {},
          "execution_count": 39
        }
      ]
    },
    {
      "cell_type": "markdown",
      "source": [
        "## **K MEANS COM PCA**"
      ],
      "metadata": {
        "id": "hp_b63s5GFWk"
      }
    },
    {
      "cell_type": "code",
      "source": [
        "df2_esc"
      ],
      "metadata": {
        "colab": {
          "base_uri": "https://localhost:8080/"
        },
        "id": "U-BtnL42GH_h",
        "outputId": "cf119c42-b7a0-4cf8-96ff-396b8853037d"
      },
      "execution_count": null,
      "outputs": [
        {
          "output_type": "execute_result",
          "data": {
            "text/plain": [
              "array([[ 0.58345885,  1.05128818, -0.53038764, -0.22356702],\n",
              "       [-1.62596867,  1.05128818, -0.53038764, -0.22356702],\n",
              "       [-0.03971301,  1.05128818, -0.53038764, -0.22356702],\n",
              "       ...,\n",
              "       [-0.5495809 , -0.95121396, -0.53038764, -0.22356702],\n",
              "       [ 1.48989065,  1.05128818, -0.53038764, -0.22356702],\n",
              "       [ 1.31993469,  1.05128818, -0.53038764, -0.22356702]])"
            ]
          },
          "metadata": {},
          "execution_count": 40
        }
      ]
    },
    {
      "cell_type": "code",
      "source": [
        "df2_esc.shape"
      ],
      "metadata": {
        "colab": {
          "base_uri": "https://localhost:8080/"
        },
        "id": "GmPpFafAGMK4",
        "outputId": "b6dd6731-4830-48d7-a02d-b88866de5e1a"
      },
      "execution_count": null,
      "outputs": [
        {
          "output_type": "execute_result",
          "data": {
            "text/plain": [
              "(5903, 4)"
            ]
          },
          "metadata": {},
          "execution_count": 41
        }
      ]
    },
    {
      "cell_type": "markdown",
      "source": [
        "**Componentes Principais**"
      ],
      "metadata": {
        "id": "PEACTo3yGloc"
      }
    },
    {
      "cell_type": "code",
      "source": [
        "from sklearn.decomposition import PCA"
      ],
      "metadata": {
        "id": "_TQonMlOGmwk"
      },
      "execution_count": null,
      "outputs": []
    },
    {
      "cell_type": "code",
      "source": [
        "pca = PCA(n_components = 2)"
      ],
      "metadata": {
        "id": "NKpqajpfGpxl"
      },
      "execution_count": null,
      "outputs": []
    },
    {
      "cell_type": "code",
      "source": [
        "df2_pca = pca.fit_transform(df2_esc)"
      ],
      "metadata": {
        "id": "K-LkSaUkHgFf"
      },
      "execution_count": null,
      "outputs": []
    },
    {
      "cell_type": "code",
      "source": [
        "df2_pca"
      ],
      "metadata": {
        "colab": {
          "base_uri": "https://localhost:8080/"
        },
        "id": "CipK8dMfHizY",
        "outputId": "e93e1b2a-661e-4013-f4d3-c256af568d22"
      },
      "execution_count": null,
      "outputs": [
        {
          "output_type": "execute_result",
          "data": {
            "text/plain": [
              "array([[ 0.03064365, -0.94281916],\n",
              "       [-1.19271952, -1.3261931 ],\n",
              "       [-0.3144075 , -1.05095027],\n",
              "       ...,\n",
              "       [-0.88365326,  0.82343125],\n",
              "       [ 0.53253623, -0.78553755],\n",
              "       [ 0.43843137, -0.81502785]])"
            ]
          },
          "metadata": {},
          "execution_count": 45
        }
      ]
    },
    {
      "cell_type": "code",
      "source": [
        "# razão das variáveis explicativas\n",
        "pca.explained_variance_ratio_"
      ],
      "metadata": {
        "colab": {
          "base_uri": "https://localhost:8080/"
        },
        "id": "_MCU1lhoHl13",
        "outputId": "304d6b0d-ed7a-41c6-8362-5db1b0b1f9ab"
      },
      "execution_count": null,
      "outputs": [
        {
          "output_type": "execute_result",
          "data": {
            "text/plain": [
              "array([0.44305785, 0.247892  ])"
            ]
          },
          "metadata": {},
          "execution_count": 46
        }
      ]
    },
    {
      "cell_type": "code",
      "source": [
        "# Soma das variáveis explicativas\n",
        "pca.explained_variance_ratio_.sum()"
      ],
      "metadata": {
        "colab": {
          "base_uri": "https://localhost:8080/"
        },
        "id": "2sF4Fr75Hm4y",
        "outputId": "683e81fc-8246-4d97-9abc-d85f7ce68276"
      },
      "execution_count": null,
      "outputs": [
        {
          "output_type": "execute_result",
          "data": {
            "text/plain": [
              "0.6909498554548057"
            ]
          },
          "metadata": {},
          "execution_count": 47
        }
      ]
    },
    {
      "cell_type": "markdown",
      "source": [
        "**Elbow Method**"
      ],
      "metadata": {
        "id": "8f9HnbJgHqXv"
      }
    },
    {
      "cell_type": "code",
      "source": [
        "from sklearn.cluster import KMeans\n",
        "wcss = []\n",
        "for i in range(1, 11):\n",
        "    kmeans = KMeans(n_clusters = i, init = 'k-means++', random_state = 5, max_iter = 300)\n",
        "    kmeans.fit(df2_pca)\n",
        "# Método inertia para gerar o wcss\n",
        "    wcss.append(kmeans.inertia_)"
      ],
      "metadata": {
        "id": "-ja2w2JUHq1v"
      },
      "execution_count": null,
      "outputs": []
    },
    {
      "cell_type": "code",
      "source": [
        "import matplotlib.pyplot as plt\n",
        "import seaborn as sns"
      ],
      "metadata": {
        "id": "O7_JOIzWHwFa"
      },
      "execution_count": null,
      "outputs": []
    },
    {
      "cell_type": "code",
      "source": [
        "plt.figure(figsize=(10,5))\n",
        "sns.lineplot(range(1, 11), wcss,marker='o',color='red')\n",
        "plt.title('The Elbow Method')\n",
        "plt.xlabel('Número de clusters')\n",
        "plt.ylabel('WCSS');"
      ],
      "metadata": {
        "colab": {
          "base_uri": "https://localhost:8080/",
          "height": 350
        },
        "id": "yY84CMbmHx1A",
        "outputId": "5818fc71-ab68-43c9-ce62-9abb915dea47"
      },
      "execution_count": null,
      "outputs": [
        {
          "output_type": "display_data",
          "data": {
            "text/plain": [
              "<Figure size 720x360 with 1 Axes>"
            ],
            "image/png": "[encoded data removed]"
          },
          "metadata": {
            "needs_background": "light"
          }
        }
      ]
    },
    {
      "cell_type": "markdown",
      "source": [
        "**Agrupamento**"
      ],
      "metadata": {
        "id": "TQ3KO_6FH3ng"
      }
    },
    {
      "cell_type": "code",
      "source": [
        "kmeans = KMeans(n_clusters = 4, init = 'k-means++', random_state = 5, max_iter = 300)"
      ],
      "metadata": {
        "id": "ol146KrMH5cQ"
      },
      "execution_count": null,
      "outputs": []
    },
    {
      "cell_type": "code",
      "source": [
        "kmeans_fit = kmeans.fit(df2_pca)"
      ],
      "metadata": {
        "id": "pb4sTJeWH8xh"
      },
      "execution_count": null,
      "outputs": []
    },
    {
      "cell_type": "code",
      "source": [
        "# Coordenadas dos Centróides\n",
        "centroides = kmeans_fit.cluster_centers_\n",
        "centroides"
      ],
      "metadata": {
        "colab": {
          "base_uri": "https://localhost:8080/"
        },
        "id": "eWpky-7SH-wz",
        "outputId": "052d6579-91ea-4616-9986-44abac0335bf"
      },
      "execution_count": null,
      "outputs": [
        {
          "output_type": "execute_result",
          "data": {
            "text/plain": [
              "array([[-0.67008533,  0.87767371],\n",
              "       [-0.42235344, -1.0974081 ],\n",
              "       [ 4.48355721,  0.44061976],\n",
              "       [ 1.43571453, -0.17523494]])"
            ]
          },
          "metadata": {},
          "execution_count": 92
        }
      ]
    },
    {
      "cell_type": "code",
      "source": [
        "# Classificação dos dados\n",
        "classificacao = kmeans_fit.labels_\n",
        "classificacao"
      ],
      "metadata": {
        "colab": {
          "base_uri": "https://localhost:8080/"
        },
        "id": "mqNyWNnXIArr",
        "outputId": "96e69d0c-7891-4ee9-efb7-d483e093ab00"
      },
      "execution_count": null,
      "outputs": [
        {
          "output_type": "execute_result",
          "data": {
            "text/plain": [
              "array([1, 1, 1, ..., 0, 1, 1], dtype=int32)"
            ]
          },
          "metadata": {},
          "execution_count": 93
        }
      ]
    },
    {
      "cell_type": "code",
      "source": [
        "classificacao[2]"
      ],
      "metadata": {
        "colab": {
          "base_uri": "https://localhost:8080/"
        },
        "id": "yca5DWyJIBeM",
        "outputId": "c5a87b9d-d4ee-411f-93c6-917aacfb4266"
      },
      "execution_count": null,
      "outputs": [
        {
          "output_type": "execute_result",
          "data": {
            "text/plain": [
              "1"
            ]
          },
          "metadata": {},
          "execution_count": 101
        }
      ]
    },
    {
      "cell_type": "code",
      "source": [
        "import plotly.express as px\n",
        "import plotly.graph_objects as go"
      ],
      "metadata": {
        "id": "-tQiJyhHIDmZ"
      },
      "execution_count": null,
      "outputs": []
    },
    {
      "cell_type": "code",
      "source": [
        "graf1 = px.scatter(x = df2_pca[:,0], y = df2_pca[:,1], color=classificacao)\n",
        "graf2 = px.scatter(x = centroides[:,0], y = centroides[:,1], size = [15, 15, 15, 15])\n",
        "graf3 = go.Figure(data = graf1.data + graf2.data)\n",
        "graf3.update_layout(width=800,height=500,title_text='Agrupamento K-Means com PCA')\n",
        "graf3.update_xaxes(title = 'Componente 1')\n",
        "graf3.update_yaxes(title = 'Componente 2')\n",
        "graf3.show()"
      ],
      "metadata": {
        "colab": {
          "base_uri": "https://localhost:8080/",
          "height": 517
        },
        "id": "K1JQzXrgIF_i",
        "outputId": "01f5bc0a-eda5-48f2-83c0-b57149b613a1"
      },
      "execution_count": null,
      "outputs": [
        {
          "output_type": "display_data",
          "data": {
            "text/html": [
              "<html>\n",
              "<head><meta charset=\"utf-8\" /></head>\n",
              "<body>\n",
              "    <div>            <script src=\"https://cdnjs.cloudflare.com/ajax/libs/mathjax/2.7.5/MathJax.js?config=TeX-AMS-MML_SVG\"></script><script type=\"text/javascript\">if (window.MathJax) {MathJax.Hub.Config({SVG: {font: \"STIX-Web\"}});}</script>                <script type=\"text/javascript\">window.PlotlyConfig = {MathJaxConfig: 'local'};</script>\n",
              "        <script src=\"https://cdn.plot.ly/plotly-2.8.3.min.js\"></script>                <div id=\"66933664-f92b-41d0-9054-9649c879f4f0\" class=\"plotly-graph-div\" style=\"height:500px; width:800px;\"></div>            <script type=\"text/javascript\">                                    window.PLOTLYENV=window.PLOTLYENV || {};                                    if (document.getElementById(\"66933664-f92b-41d0-9054-9649c879f4f0\")) {                    Plotly.newPlot(                        \"66933664-f92b-41d0-9054-9649c879f4f0\",                        [{\"hovertemplate\":\"x=%{x}<br>y=%{y}<br>color=%{marker.color}<extra></extra>\",\"legendgroup\":\"\",\"marker\":{\"color\":[1,1,1,0,1,0,0,0,0,0,0,0,1,0,0,0,0,1,0,0,0,3,1,0,1,0,0,0,0,3,0,1,0,0,0,0,1,0,1,3,3,3,0,0,1,3,0,3,1,1,3,3,0,3,1,0,1,0,0,0,3,3,3,1,0,3,3,0,3,1,0,1,0,1,3,1,3,3,3,1,3,0,1,1,0,1,0,3,3,3,3,3,1,1,3,3,3,3,0,3,3,1,0,3,0,1,1,3,0,0,2,3,0,3,2,3,3,0,0,3,3,1,0,0,3,3,3,3,3,3,0,3,1,3,3,3,3,3,2,2,0,1,1,0,1,3,1,3,1,1,3,3,2,0,1,0,0,3,1,0,3,0,0,0,0,0,0,3,3,2,0,1,0,3,2,0,2,2,1,3,0,3,1,0,0,3,1,1,0,0,3,3,1,3,1,3,1,0,0,1,1,0,0,3,1,0,0,0,2,3,3,1,2,1,0,0,3,1,0,0,0,0,1,0,3,1,1,0,0,1,0,2,0,3,2,2,0,3,3,0,2,2,0,1,0,0,0,0,0,1,1,1,3,3,0,1,0,1,1,0,1,0,1,0,1,1,0,3,2,1,1,0,0,0,0,0,0,0,0,0,1,0,0,1,0,1,2,3,1,1,0,3,0,0,1,1,0,0,0,0,1,0,0,0,1,0,0,0,0,0,0,0,0,0,0,0,1,1,0,0,0,1,0,0,0,1,0,0,1,3,0,2,0,0,1,0,1,1,0,0,1,1,0,0,1,0,1,0,1,1,0,3,3,0,2,1,1,3,0,3,0,3,3,1,0,0,0,2,0,1,1,0,1,1,0,0,0,3,1,0,3,0,0,0,0,0,0,1,1,0,2,0,0,0,1,1,0,0,0,3,1,0,3,0,0,1,1,0,1,0,1,0,3,2,3,1,0,0,2,1,0,0,1,0,3,0,0,1,0,1,0,1,1,0,1,0,0,1,1,0,0,1,0,0,3,3,2,1,3,3,3,3,2,3,3,0,0,1,1,1,3,0,1,0,0,3,0,0,1,1,0,0,0,0,2,3,1,2,3,3,0,3,0,3,0,1,0,1,0,0,0,1,3,3,0,1,0,0,0,1,0,1,0,3,0,0,0,0,3,0,0,1,0,0,1,1,1,0,1,1,0,0,0,1,3,1,1,1,1,0,1,0,0,3,0,3,1,0,0,1,1,1,0,1,0,0,3,1,0,0,0,3,1,2,2,3,0,1,0,0,3,0,1,0,0,0,1,1,0,0,1,0,0,2,0,3,0,3,0,0,1,0,0,0,0,1,0,3,3,0,2,1,3,0,0,0,0,1,0,1,0,0,0,0,1,0,1,0,0,0,0,0,1,3,1,1,1,1,1,0,0,0,3,1,3,1,0,3,3,0,1,1,1,1,0,0,0,0,0,0,0,0,0,0,0,3,1,0,1,1,3,3,0,1,1,0,1,1,1,3,0,3,0,2,0,1,1,0,0,0,3,3,0,3,3,1,0,1,0,2,0,0,3,0,1,1,3,3,0,3,0,0,0,1,3,3,3,0,3,0,1,0,1,0,1,0,1,0,0,1,3,1,1,0,0,3,1,3,3,0,0,1,1,1,1,1,1,0,1,1,1,1,1,1,0,3,2,0,1,2,2,3,3,3,1,2,3,1,1,0,0,0,0,1,0,3,0,1,1,3,1,0,0,1,0,3,0,1,0,0,1,0,1,1,0,0,0,1,3,2,3,1,0,1,3,3,1,1,0,1,0,1,1,0,0,0,3,3,0,3,2,3,0,0,3,1,3,1,1,3,1,3,0,1,1,1,0,0,1,0,0,1,1,3,0,3,3,1,3,0,1,1,1,1,3,3,0,0,0,1,0,1,1,0,0,1,1,0,3,1,2,1,1,1,0,0,1,1,0,1,1,1,1,0,1,3,3,0,1,3,3,3,0,1,0,0,1,1,0,1,3,0,3,2,1,3,1,1,1,0,0,2,3,0,0,0,1,1,2,0,3,1,2,1,1,1,0,0,0,1,0,0,3,0,1,1,3,1,0,0,3,0,1,1,0,1,1,0,1,1,3,3,3,2,3,3,3,0,0,0,0,3,1,3,3,0,0,1,3,0,3,0,1,3,3,2,3,0,1,0,0,1,0,0,2,3,2,3,3,0,3,0,1,0,1,1,1,0,1,0,0,0,0,1,1,0,3,0,1,1,0,0,2,1,2,1,3,1,2,1,1,1,1,1,0,3,3,3,3,1,0,3,2,1,0,2,3,0,3,2,3,3,3,3,2,2,1,1,1,1,0,0,0,1,1,1,0,0,0,0,0,1,1,0,1,1,3,2,0,3,0,3,1,3,1,3,3,0,3,2,0,3,1,1,2,3,0,1,0,1,0,0,0,1,1,0,0,1,1,1,1,2,0,1,0,0,1,1,0,1,1,0,1,1,1,3,3,0,3,0,0,1,1,0,3,0,0,0,0,1,3,1,3,3,1,0,1,0,0,0,3,2,1,0,0,1,1,1,3,0,0,1,3,1,3,3,1,1,3,0,0,3,0,1,3,3,1,3,3,1,1,2,1,1,0,0,1,0,0,0,1,3,1,1,0,0,1,1,1,0,1,3,3,3,3,0,3,3,1,3,0,1,0,1,1,1,1,0,0,0,3,1,0,3,2,0,1,3,3,0,3,0,2,3,3,0,3,1,1,1,1,0,1,0,1,0,1,1,1,0,3,3,0,0,2,3,1,1,0,1,1,0,0,1,0,3,0,0,0,3,0,3,2,0,0,0,0,2,3,3,1,0,1,1,3,0,1,0,1,1,1,0,0,0,0,1,1,3,1,2,2,3,3,3,3,1,1,2,3,2,0,3,3,3,2,1,0,1,0,2,0,3,0,1,0,0,1,2,0,3,3,1,3,0,0,0,0,0,1,0,2,0,1,0,0,3,0,3,1,3,2,3,3,3,0,0,3,3,0,1,1,1,0,1,1,0,0,3,1,0,0,1,1,3,0,0,0,0,3,0,0,0,0,1,0,1,1,1,3,3,1,1,1,1,3,2,0,0,2,2,3,3,3,3,2,1,3,3,3,2,1,2,1,0,1,1,1,0,0,1,1,1,1,1,0,0,0,1,0,1,1,1,0,1,1,0,0,1,1,1,1,2,0,3,3,1,3,1,3,1,3,2,3,0,3,1,0,3,1,0,0,0,0,0,0,1,1,0,0,0,0,0,0,1,1,1,0,1,3,0,1,0,0,0,1,0,1,1,1,0,0,3,0,3,1,1,3,0,2,1,1,0,0,1,1,1,1,0,0,0,1,0,1,0,0,0,2,2,3,0,0,0,3,3,2,1,0,0,1,0,0,0,0,0,1,1,1,0,0,1,1,0,1,0,1,2,0,0,3,3,3,0,1,1,1,3,1,0,1,0,1,3,0,1,1,2,2,1,0,3,3,1,2,2,2,3,0,0,3,3,3,3,3,3,3,2,2,3,2,3,2,0,0,1,3,1,0,0,0,1,0,1,1,1,0,1,0,0,1,1,0,0,1,0,0,3,1,2,2,2,0,3,3,3,3,3,3,3,3,3,1,2,0,1,2,3,0,1,0,0,0,1,1,1,0,1,0,0,0,1,2,0,0,0,2,3,3,1,3,2,3,3,3,3,2,3,2,0,0,1,3,2,0,1,1,0,0,1,1,1,1,1,1,1,0,0,0,0,1,0,1,0,0,0,3,3,0,3,3,3,3,1,3,3,1,2,0,3,1,0,3,2,3,0,1,0,0,1,1,1,1,0,0,0,0,1,0,1,0,1,1,0,1,1,1,0,3,3,1,0,0,0,3,1,1,3,0,2,3,1,3,1,0,0,3,0,3,2,2,2,0,2,3,2,3,3,3,3,0,3,0,1,0,0,1,0,0,1,1,1,0,0,0,0,0,0,0,1,0,0,3,3,3,3,3,0,1,1,1,0,0,0,0,1,0,1,1,0,1,1,0,0,0,0,3,1,0,2,1,3,1,1,0,0,3,3,0,3,1,1,0,1,0,0,1,0,1,0,1,1,1,3,0,1,0,1,0,0,0,0,0,3,3,0,0,2,2,3,3,0,0,1,1,3,1,1,1,1,3,0,0,1,2,0,0,0,1,1,1,0,0,0,3,0,2,3,3,2,1,3,3,3,0,3,3,2,1,0,0,1,1,0,0,0,1,1,0,0,0,1,1,0,0,1,0,0,1,1,0,1,0,1,1,0,0,0,0,1,0,0,0,0,1,0,1,3,0,2,0,0,0,1,0,0,1,0,0,0,1,1,1,1,1,0,0,0,1,0,3,0,1,0,0,0,0,3,1,0,1,0,0,0,1,1,0,1,0,0,1,0,1,3,0,2,0,0,1,0,1,0,0,3,0,0,0,0,1,1,0,1,1,0,0,0,0,0,3,1,3,0,0,3,1,3,3,0,2,3,2,2,1,3,2,0,3,0,1,1,3,1,1,0,1,1,0,3,3,1,1,3,3,2,2,0,3,1,0,3,2,3,0,0,2,3,3,0,2,3,3,2,3,1,0,1,1,0,1,0,0,1,0,0,1,1,0,0,0,3,0,0,1,0,1,1,0,0,1,1,1,0,0,3,0,2,3,0,0,3,3,1,3,2,3,0,2,3,3,0,1,3,1,1,3,3,3,3,3,1,0,0,1,0,1,0,1,0,0,0,0,1,0,1,1,1,3,0,1,3,1,2,3,3,0,3,2,3,3,2,0,2,1,0,0,0,3,0,1,1,1,2,0,1,3,0,1,3,0,0,1,1,0,1,1,3,0,1,1,1,0,0,1,1,2,3,1,3,3,3,0,1,1,0,3,0,1,1,3,3,2,1,3,3,3,3,3,0,2,3,3,3,3,3,0,3,3,3,2,3,3,0,1,0,3,1,3,2,1,0,0,1,1,1,0,1,0,0,1,0,1,1,1,1,1,0,0,1,0,1,0,1,1,1,1,1,0,1,0,0,0,0,0,1,1,0,0,0,0,1,0,1,0,0,1,1,0,0,0,0,0,1,0,1,0,0,1,0,0,0,0,1,1,1,0,1,1,1,1,0,0,1,0,0,0,0,1,0,1,0,0,0,0,0,0,0,1,0,0,1,1,0,0,0,0,0,0,0,0,0,0,1,0,0,1,0,0,0,0,0,0,1,0,0,0,0,0,0,0,0,0,0,0,1,0,0,0,0,0,0,1,0,1,0,0,0,1,1,3,0,1,1,1,1,1,0,0,3,0,0,0,0,0,0,1,1,1,1,1,0,0,0,0,1,0,0,0,1,0,0,0,0,0,0,0,1,0,1,0,0,0,0,0,0,0,1,0,0,0,1,3,0,1,1,0,0,1,1,0,0,0,1,1,0,1,0,0,1,1,0,0,3,0,0,0,1,0,1,0,0,1,0,0,1,1,1,0,1,1,1,1,1,0,1,0,1,0,0,0,1,0,1,0,0,3,1,0,0,0,1,1,0,0,0,0,0,0,0,1,0,0,0,0,1,0,1,0,0,1,2,1,1,0,0,0,0,0,1,0,0,0,0,1,0,1,1,1,0,0,0,1,1,0,3,0,1,0,0,1,1,1,0,0,1,1,0,0,1,1,1,0,1,0,0,1,0,0,1,0,1,1,0,0,1,0,0,0,2,0,0,3,0,1,1,0,0,1,3,0,0,0,1,0,1,0,1,0,0,1,0,0,0,0,1,0,1,0,0,0,3,3,1,0,1,0,1,0,0,0,3,1,0,0,1,0,0,1,0,1,3,1,1,0,1,2,1,0,0,1,1,0,0,0,0,0,0,0,0,0,0,1,1,0,1,1,1,0,1,1,0,1,0,0,1,0,1,0,3,0,0,0,0,0,1,1,1,1,1,1,0,0,0,1,0,2,3,3,0,1,0,1,0,1,1,0,1,1,1,1,1,0,0,0,1,1,1,1,0,1,1,1,3,0,2,3,3,3,1,2,3,3,1,3,3,3,3,0,3,3,0,0,3,2,3,3,0,0,0,0,0,1,1,1,1,1,1,1,0,0,1,0,0,2,1,3,3,3,0,1,1,3,0,1,0,0,1,0,0,1,0,0,2,2,0,0,0,1,1,0,0,1,0,1,3,1,3,3,3,0,1,0,3,0,3,0,0,1,1,1,3,3,0,3,2,3,3,3,3,3,3,3,3,0,3,3,2,0,3,1,0,0,0,1,1,0,0,0,1,1,1,1,1,0,1,0,0,1,0,1,3,0,1,0,0,0,3,2,3,1,3,0,3,0,1,1,0,1,3,1,0,1,0,0,0,1,1,2,0,0,0,1,1,1,1,0,1,1,0,0,1,0,0,0,0,0,0,0,0,3,2,0,1,0,1,1,1,0,1,1,1,0,1,1,0,1,1,1,1,0,3,3,0,0,0,3,3,3,3,2,0,0,2,0,1,1,1,2,0,1,0,1,0,1,1,0,0,1,0,0,1,0,1,0,0,1,1,1,0,1,1,0,1,1,1,1,0,0,1,0,1,0,3,3,0,0,0,3,0,1,0,0,1,0,1,1,0,0,0,0,0,0,1,0,1,1,0,0,0,0,1,0,1,0,0,1,1,1,1,1,1,0,0,1,0,0,1,3,1,0,0,1,1,1,1,0,0,0,0,0,1,0,0,0,0,3,0,1,0,1,0,0,0,0,0,3,1,0,1,3,1,2,1,0,3,0,3,0,0,1,3,0,1,0,3,1,0,1,1,0,0,3,3,1,1,1,0,0,3,0,0,0,0,3,3,0,0,0,0,1,1,0,3,1,0,0,3,0,0,0,0,0,1,2,1,1,0,0,0,1,0,0,0,1,3,1,1,3,3,2,1,3,3,3,3,2,1,3,3,3,3,3,3,1,2,3,3,0,1,1,1,0,1,1,0,0,1,0,0,0,0,0,1,0,0,0,3,0,1,3,3,1,3,2,3,3,2,3,3,3,3,3,3,3,3,3,3,3,3,0,0,0,0,1,0,0,0,0,1,3,3,3,3,3,3,3,3,3,3,3,3,3,2,0,1,1,0,1,1,0,0,1,0,0,1,0,1,3,0,1,0,1,0,1,1,0,0,0,0,1,1,1,0,0,0,0,0,1,1,1,0,1,0,0,1,1,1,0,1,0,0,0,0,1,0,0,0,1,0,0,0,0,0,1,0,1,0,0,1,0,1,0,1,3,0,0,0,1,0,0,0,0,1,0,1,0,1,0,1,0,1,1,0,1,0,0,1,0,1,0,1,1,0,1,1,0,0,0,0,0,0,1,0,1,0,1,1,0,3,1,3,0,0,0,0,0,1,0,0,1,0,0,1,0,0,1,0,0,1,1,1,1,0,0,0,0,0,0,0,0,0,1,0,0,1,0,0,0,1,0,1,0,1,0,1,0,0,0,1,0,0,0,0,0,0,0,1,0,0,3,1,0,1,0,1,0,0,1,0,0,0,1,3,0,0,0,1,0,2,0,0,2,0,1,0,1,0,0,0,1,0,0,0,1,1,1,1,0,0,1,0,1,0,0,0,0,1,1,1,1,3,1,0,0,0,0,0,0,3,1,0,1,1,1,0,0,1,0,0,1,0,0,0,1,1,0,0,0,1,1,1,1,0,0,1,0,0,0,0,0,0,0,1,0,1,0,1,1,2,1,1,0,0,0,0,1,0,0,0,0,3,1,1,1,1,1,0,1,1,0,0,0,0,0,0,1,0,1,2,0,2,1,1,1,1,1,0,1,0,1,1,0,0,0,0,1,1,0,1,1,0,2,0,0,1,0,0,0,1,1,1,1,0,3,3,1,0,0,1,0,0,3,3,3,3,3,2,3,2,3,3,3,2,3,2,2,0,1,3,3,3,3,3,2,3,2,2,3,3,3,3,3,0,3,1,3,2,2,2,2,1,1,3,3,0,2,3,3,1,1,1,0,1,1,0,0,0,1,0,1,1,1,0,1,0,1,0,1,1,0,1,1,1,0,1,0,1,3,0,1,0,1,1,0,0,0,0,0,0,1,0,0,1,1,1,0,0,0,1,1,1,1,0,1,0,1,1,3,1,1,3,0,3,3,1,3,0,1,1,1,0,1,0,0,1,1,1,0,0,0,0,1,3,1,1,1,0,1,0,1,1,0,0,0,0,1,0,1,0,0,1,3,0,0,0,1,0,1,1,1,0,0,0,0,0,0,0,0,1,0,1,1,1,0,1,0,1,1,1,3,0,0,1,0,1,1,0,0,0,0,1,0,0,3,0,0,0,1,1,1,1,1,0,0,0,1,0,1,0,0,1,0,0,1,1,1,0,1,0,1,1,0,0,0,0,3,3,1,3,0,3,3,3,0,0,0,1,2,0,1,0,0,3,3,0,1,1,1,3,0,0,3,0,1,0,1,3,3,1,3,3,2,3,2,2,1,0,2,1,3,3,3,3,1,2,3,3,3,1,3,3,3,3,3,3,3,2,3,1,0,3,3,3,3,3,1,0,2,1,1,0,1,1,0,0,1,0,3,0,1,0,0,1,1,1,0,0,1,0,0,1,1,1,0,0,1,1,1,1,0,0,0,1,1,1,1,1,0,0,0,1,1,1,1,1,1,0,1,0,0,0,0,0,0,1,1,1,1,1,0,0,0,1,0,0,1,1,1,1,1,0,0,1,1,0,1,0,0,0,1,0,0,1,0,0,0,1,0,1,3,1,0,1,0,0,1,1,0,0,0,1,1,1,0,0,0,1,0,1,1,1,1,1,1,1,1,1,0,0,1,0,1,0,0,1,1,0,1,1,1,0,0,1,0,0,1,1,0,0,0,0,0,1,3,3,3,0,3,0,3,0,0,0,3,0,3,1,1,0,0,0,3,0,0,1,0,0,2,0,1,1,1,3,0,0,1,0,1,3,0,0,0,0,0,0,0,1,0,0,0,1,1,1,0,1,0,3,0,0,0,0,0,3,0,1,1,3,0,1,1,1,1,1,0,1,0,0,0,3,1,1,1,0,0,0,1,0,0,0,0,1,2,2,1,3,1,0,3,1,0,3,0,1,1,3,3,3,0,0,0,1,1,1,0,1,1,0,1,0,1,1,1,0,1,0,0,0,1,1,0,0,1,0,0,1,1,1,0,3,0,0,1,0,1,1,1,1,1,1,0,1,1,1,1,1,0,2,0,3,0,0,0,1,1,3,0,1,1,3,3,1,1,1,1,3,1,0,0,1,0,1,0,1,1,2,3,3,0,0,2,2,2,2,2,2,2,3,3,3,3,3,0,2,3,0,3,3,0,2,2,3,3,2,2,1,2,0,0,1,0,0,1,0,1,0,0,0,0,0,0,1,1,1,3,0,0,1,0,1,0,0,0,1,1,0,0,1,0,0,1,0,1,0,0,1,1,3,0,1,1,0,0,1,1,1,1,0,0,1,1,0,1,0,1,1,1,1,0,0,0,0,0,0,0,0,0,0,0,0,1,1,1,0,0,0,1,0,1,0,0,1,0,3,0,0,0,0,1,0,1,1,1,0,1,1,0,3,0,0,1,1,1,0,3,1,1,1,1,1,1,0,0,0,0,2,2,0,1,0,3,1,1,2,2,0,1,0,1,1,0,1,3,0,0,0,0,3,1,1,1,1,1,0,1,0,1,1,1,0,3,0,3,1,1,3,0,0,0,0,0,1,1,1,1,0,0,3,0,1,0,0,0,0,0,1,0,1,0,1,0,0,0,1,1,1,3,1,3,1,0,1,0,0,1,1,3,0,1,0,0,1,0,1,0,0,3,0,0,0,0,1,3,0,1,3,0,0,1,1,2,2,3,2,3,3,1,2,3,3,3,3,3,3,1,2,3,3,3,1,2,3,3,3,0,0,0,1,0,0,0,1,1,1,1,1,1,0,0,1,0,0,0,1,1,1,1,0,1,1,1,1,0,1,0,0,1,0,0,0,1,0,0,3,0,1,1,0,0,1,0,0,0,1,0,0,0,0,0,0,0,0,3,0,1,1,0,1,1,0,0,0,0,1,0,3,3,1,3,1,3,1,1,0,0,0,1,0,1,1,0,0,0,0,1,1,1,0,1,1,0,1,0,0,1,0,2,1,1,1,0,1,1,0,1,0,1,1,0,0,1,0,1,1,1,1,3,1,0,3,1,1,0,0,0,1,1,0,0,1,1,0,1,0,3,3,3,0,0,1,0,1,1,1,0,0,0,0,1,1,1,0,1,3,3,3,2,3,3,0,0,1,0,1,1,1,1,3,0,0,0,0,0,0,3,1,0,3,0,3,1,0,1,0,3,1,1,3,3,3,3,3,3,2,3,1,2,2,0,2,2,3,3,2,2,3,2,1,2,0,1,0,1,0,1,0,0,0,0,0,1,0,1,1,1,1,1,1,1,1,0,0,1,0,1,1,0,0,1,3,3,3,3,3,3,3,0,2,3,3,3,1,3,3,3,1,2,3,3,3,3,3,3,2,3,3,3,3,3,3,0,1,1,1,0,1,2,2,3,3,2,0,3,3,0,1,0,1,1,0,1,1,0,1,0,1,3,0,1,1,0,0,0,0,0,1,1,3,3,0,0,0,3,1,0,3,1,0,0,0,0,1,1,0,3,3,1,3,3,3,2,0,3,3,2,2,0,2,2,1,2,3,0,1,0,0,0,0,0,1,1,0,0,0,0,0,0,1,1,1,1,0,1,1,0,1,1,1,0,0,1,1,0,1,1,0,1,3,0,1,0,0,1,1,0,1,1,0,0,1,0,0,0,0,1,1,1,0,0,0,0,1,0,0,1,0,0,0,0,1,0,0,0,1,0,0,1,1,0,1,1,3,1,1,0,0,1,0,1,0,0,0,1,0,0,0,0,0,0,0,1,0,1,0,0,0,1,0,0,0,1,0,0,0,0,1,1,1,1,0,0,1,0,0,0,1,1,0,0,0,1,1,1,0,0,0,3,1,0,0,0,1,1,0,0,1,3,1,1,1,3,1,1,1,1,1,0,0,1,1,1,1,0,1,0,1,1,1,0,1,3,3,1,0,0,0,0,2,3,0,0,0,1,0,0,1,1,0,0,0,1,0,0,1,0,0,1,0,0,0,3,0,0,0,0,1,0,1,0,0,0,1,0,0,0,1,3,0,1,1,0,1,0,0,0,0,1,0,0,0,0,0,0,1,0,0,0,0,1,0,0,1,1,0,0,0,1,1,2,0,0,0,0,0,0,1,1,0,1,0,1,0,1,1,1,1,0,1,0,1,1,1,0,0,3,0,0,1,0,0,1,0,0,1,0,1,1,1,0,0,1,1,0,1,0,0,0,0,0,0,0,0,1,1,0,0,1,0,0,0,1,1,1,0,1,0,3,3,1,0,1,1,0,0,0,0,1,0,0,0,1,0,1,0,0,0,1,0,0,1,0,0,1,0,1,1,0,0,0,1,0,1,1,0,1,1,0,3,0,0,1,1,1,0,1,2,1,0,0,0,0,0,0,0,0,1,1,1,1,0,1,0,0,0,0,1,0,0,1,1,1,0,3,0,1,3,0,1,0,0,0,0,0,0,1,1,3,1,3,1,0,0,1,0,1,0,0,0,0,1,0,3,1,0,1,1,0,0,0,3,0,0,0,1,1,0,0,0,0,0,1,1,3,3,1,1,0,0,0,0,1,1,3,0,0,0,3,0,0,0,1,3,1,0,1,3,0,0,0,1,3,1,1,0,1,0,1,1,0,1,1,0,1,3,0,0,1,1,0,1,0,1,0,0,1,3,3,1,1,0,3,0,3,3,1,1,0,1,0,0,0,3,2,2,3,1,0,0,3,3,1,0,0,1,3,0,0,1,1,3,3,0,3,1,1,0,1,0,0,3,3,3,3,1,2,2,0,2,1,3,1,3,3,3,3,3,3,3,3,3,3,3,3,3,3,3,0,3,1,3,1,3,3,0,0,0,3,3,3,3,3,0,0,0,0,1,1,0,0,0,1,0,1,1,1,1,1,1,0,0,1,0,0,1,1,0,1,1,0,1,1,0,0,0,1,1,0,0,1,0,1,0,1,0,1,0,1,0,0,0,1,0,0,0,1,0,0,0,0,1,1,2,0,1,0,0,0,0,1,0,0,3,0,1,1,0,1,1,0,0,3,1,1,0,0,0,1,0,0,0,0,1,0,0,0,1,1,0,0,0,0,1,1,1,1,0,0,0,1,1,0,0,0,0,0,1,0,3,3,3,0,0,0,0,1,0,3,0,0,1,0,0,0,0,0,1,0,0,1,1,0,0,0,1,0,1,1,1,0,0,0,0,1,1,1,1,0,0,0,0,0,0,1,0,1,3,1,1,0,0,0,1,1,1,0,1,0,1,0,1,0,0,1,1,0,0,0,0,0,0,0,0,1,0,1,1,0,0,0,0,0,0,1,1,1,1,0,1,1,1,0,1,0,0,0,0,0,0,0,0,0,1,1,1,0,0,1,0,0,0,1,0,0,0,1,0,1,1,0,1,1,1,1,1,0,0,0,0,1,1,1,1,1,1,0,0,1,1,1,1,1,0,1,0,3,0,0,0,0,2,0,1,3,0,0,1,1,1,0,0,0,0,0,0,1,0,1,1,1,0,0,0,1,1,1,1,0,0,0,1,0,0,1,1,0,3,1,1,3,1,1,0,0,1,1,0,0,1,1,0,1,3,0,3,1,3,3,3,0,0,3,0,1,3,1,0,0,3,1,1,1,1,3,3,1,1,1,1,0,0,0,3,0,0,3,1,3,1,3,2,2,2,3,2,3,1,3,3,3,3,3,2,3,3,3,3,3,3,2,0,2,3,1,3,2,3,1,0,1,0,0,0,1,3,0,0,0,1,0,0,1,1,0,0,0,0,1,1,1,0,0,0,0,1,1,0,1,3,1,1,0,0,1,1,1,1,1,1,1,1,0,1,1,0,1,1,1,0,1,1,3,0,1,0,0,0,0,0,0,1,0,1,1,0,1,0,0,0,1,1,0,0,1,0,1,1,0,0,0,0,0,0,0,1,0,1,1,0,0,0,0,0,0,0,0,1,1,1,0,1,0,1,0,1,0,1,1,0,0,1,0,1,1,0,1,3,0,0,1,2,2,0,3,1,0,0,0,0,0,0,0,1,0,1,1,0,1,0,0,0,1,1,0,0,0,0,1,0,3,1,0,1,0,0,3,1,1,1,1,0,0,1,0,0,1,0,1,0,1,0,0,1,1,0,1,0,3,0,0,0,1,0,0,1,0,1,1,1,1,1,0,1,0,0,0,1,1],\"coloraxis\":\"coloraxis\",\"symbol\":\"circle\"},\"mode\":\"markers\",\"name\":\"\",\"showlegend\":false,\"x\":[0.030643646907915167,-1.1927195226857492,-0.3144075034902964,-1.1659678368694368,0.15611679250726754,-0.16218267207463335,-1.1032312640697615,-1.1345995504695987,-0.3190241040738214,-1.2600726960689494,-1.1345995504695987,-0.44449724967317183,-0.6594586538885101,-0.8209166864712232,-0.5386021088726846,-1.1345995504695987,-0.44449724967317183,-0.0007246394919204951,-1.0091264048702484,-0.9463898320705731,0.5906562015214688,1.3167274025902873,-0.03209292589175813,-0.5699703952725222,-0.5339855082891596,-1.0718629776699238,-0.2876558176739838,-1.0091264048702484,-0.6640752544720351,2.0741828767699144,0.24560505112325529,-0.3457757898901341,-0.9463898320705731,-0.7581801136715478,-0.03670952647528297,-0.8209166864712232,0.4697996565056434,-1.0718629776699238,0.18748507890710517,1.9754614169868765,1.2539908297906122,1.6350268671721884,0.5011519561945095,-0.2562875312741462,-1.1299829498860743,1.0703977119751114,-1.2600726960689494,1.9487097311705637,0.03064364690791713,-1.3495609546849374,1.4422005481896378,1.7291317263717008,-0.8836532592708981,0.7834825205040195,0.7253465615768976,-0.35039239047365894,-0.7221952266881853,-0.5072338224728469,-0.7581801136715478,-1.0718629776699238,2.0068297033867144,0.783466533793048,1.3840805759734873,-0.6908269402883477,-1.1032312640697615,1.0390294255752737,1.3213440031738124,0.12013190552390492,1.4781854351730004,0.09338021970759232,-0.22491924487430856,-0.7535635130880228,-1.040494691270086,-0.5653537946889973,2.199656022369265,0.15611679250726754,1.6350268671721884,0.7207299609933728,1.760500012771538,0.7253465615768976,1.791868299171376,-1.040494691270086,-0.4398806490896468,0.6939782751770601,-0.7895484000713855,-0.25167093069062135,-0.09944609927495818,1.9487097311705637,0.9449245663757612,2.13691944956959,1.693146839388338,1.8186199849876887,0.31295822450645544,0.2502216517067803,1.4422005481896378,1.348095688990125,0.9449245663757612,1.5363054073891504,-0.8209166864712232,1.4781854351730004,1.4108322617898004,-0.6594586538885101,-0.1308143856747958,0.9135562799759236,-0.5072338224728469,-0.5653537946889973,-0.09482949869143334,1.3527122895736499,-1.2287044096691118,-0.005341240075445474,4.328834926005169,1.5409220079726753,-0.6640752544720351,0.8462031065927232,3.8850623158239186,1.6304102665886633,0.783466533793048,0.4697836697946722,0.03062766019694557,1.1645025711746244,1.159885970591099,-0.7535635130880228,-0.7581801136715478,0.02602704632439215,1.5676736937889875,1.5095537215728378,1.5095537215728378,2.1950394217857405,1.4781854351730004,1.9173414447707267,0.4070470969949969,1.791868299171376,-0.6594586538885101,2.2577759945854154,1.4154488623733248,1.3213440031738124,1.159885970591099,1.3794639753899625,3.3518014470266793,5.332620090799972,-0.8836532592708981,-0.7849317994878605,-0.502617221889322,-0.8522849728710605,0.7567148479767354,1.9440931305870388,0.03064364690791713,1.5722902943725132,-0.5967220810888348,-0.3771440762899717,1.7291317263717008,1.0703977119751114,5.36398837719981,-1.040494691270086,-0.25167093069062135,-0.47586553607300947,-0.7581801136715478,1.6304102665886633,0.6939782751770601,-0.8209166864712232,1.8546048719710515,-0.7895484000713855,-0.8522849728710605,-0.7895484000713855,-0.6327069680721974,-0.2562875312741462,-0.6640752544720351,2.199656022369265,1.6036585807723505,5.081673799601272,-0.5386021088726846,0.5685051295777098,0.4697836697946722,1.5409220079726753,4.956200654001922,-0.8522849728710605,4.6738860764033845,4.171993494005982,-0.25167093069062135,1.4781854351730004,-0.3190241040738214,1.0030445385919116,-0.1261977850912709,-1.2287044096691118,-1.040494691270086,1.2586074303741372,-1.0672463770863987,-0.7221952266881853,-0.9463898320705731,-1.2600726960689494,1.823236585571214,1.1331342847747865,0.3756947973061306,1.0030445385919116,-0.5339855082891596,2.5087222857841156,-0.18893435789094612,-0.9150215456707358,-1.3228092688686242,-0.5653537946889973,-0.502617221889322,0.2188373785959712,-0.41312896327333415,1.9800780175704016,0.2815899381066178,-0.47586553607300947,-0.3190241040738214,-0.22491924487430856,4.98756894040176,1.007661139175436,1.4154488623733248,-0.5967220810888348,4.481059757420833,-0.7221952266881853,-0.9777581184704113,-1.040494691270086,2.1055511631697517,0.09338021970759232,-0.6013386816723597,-0.6327069680721974,-0.35039239047365894,-1.0091264048702484,-0.18893435789094612,-0.9150215456707358,1.6036585807723505,0.2815899381066178,-0.7221952266881853,-0.9777581184704113,-0.5699703952725222,-0.09482949869143334,-1.3855458416682997,4.324218325421645,-0.8209166864712232,0.6579933881936976,4.924832367602085,4.888847480618721,-1.2287044096691118,1.4422005481896378,1.101765998374949,0.40244648312244335,4.705254362803221,4.857479194218884,-0.7895484000713855,-0.9104049450872111,-0.16218267207463335,-1.1973361232692743,-0.9150215456707358,-1.0091264048702484,-1.040494691270086,-0.6908269402883477,-0.18433374401839245,-1.0358780906865614,1.8186199849876887,0.7207299609933728,-1.1345995504695987,0.5639045157051561,-0.6954435408718727,0.5011679429054811,-0.8476683722875358,-0.9463898320705731,-0.5967220810888348,-0.6013386816723597,-0.4712489354894845,-0.35039239047365894,-0.8790366586873734,-0.8790366586873734,-0.2876558176739838,2.163671135385902,5.077057199017747,0.2815899381066178,-1.3809292410847749,-0.9777581184704113,-0.9150215456707358,-1.1659678368694368,-0.7581801136715478,-0.09944609927495818,-0.6013386816723597,-1.1973361232692743,-0.8209166864712232,-0.2876558176739838,-0.8476683722875358,0.05739533272422979,-0.7895484000713855,0.12474850610742995,-0.5699703952725222,0.12474850610742995,4.799359222002734,1.7291317263717008,-0.1261977850912709,-0.15756607149110854,-0.44449724967317183,0.9762928527755985,-1.040494691270086,0.5279196287217937,-0.6594586538885101,-0.5339855082891596,-1.4169141280681377,-1.0091264048702484,-0.6327069680721974,0.5279196287217937,-0.2830392170904589,-0.6954435408718727,0.6847610607209819,0.2142367647234176,-0.5339855082891596,-1.0091264048702484,-0.7581801136715478,-0.41312896327333415,0.5906562015214688,0.37107819672260567,-1.1973361232692743,-0.6954435408718727,-0.8209166864712232,-0.9777581184704113,0.02602704632439215,0.40244648312244335,-0.5339855082891596,-0.6908269402883477,-0.41312896327333415,-0.09944609927495818,-0.7895484000713855,-0.5967220810888348,-1.1973361232692743,-1.2600726960689494,0.7161293471208193,-0.6594586538885101,-0.5386021088726846,0.8416024927201698,0.631241702377385,1.2272391439742991,0.4384153833948345,4.422939785204683,-0.5699703952725222,-1.1345995504695987,0.12474850610742995,0.2142367647234176,-0.6594586538885101,0.12474850610742995,-1.0718629776699238,-0.3190241040738214,-0.7535635130880228,0.18748507890710517,-0.5699703952725222,-0.2562875312741462,-0.40851236268980917,-0.5072338224728469,0.5325362293053185,0.4070470969949969,-0.8790366586873734,-0.502617221889322,-0.7268118272717101,1.2226225433907747,1.1958708575744619,-1.1345995504695987,5.11304208600111,-0.4712489354894845,0.062011933307754764,1.724515125788176,-0.8522849728710605,1.2539908297906122,-0.6327069680721974,2.0428145903700763,2.038197989786552,-0.7849317994878605,-0.03670952647528297,-0.5386021088726846,-0.8836532592708981,4.6738860764033845,-0.8209166864712232,-0.6908269402883477,0.03064364690791713,-0.8209166864712232,-0.15756607149110854,-0.22030264429078372,-0.7581801136715478,-0.41312896327333415,-0.9463898320705731,1.0390294255752737,-0.18893435789094612,-0.2562875312741462,0.6893776613045064,-0.193550958474471,-0.9150215456707358,-1.1659678368694368,-1.448282414467975,-0.8209166864712232,-0.8522849728710605,-0.5653537946889973,0.18748507890710517,-0.09944609927495818,5.045688912617909,-0.47586553607300947,0.2502056649958088,-0.9777581184704113,-1.1927195226857494,-0.4712489354894845,-1.1032312640697615,-0.16218267207463335,-0.2876558176739838,1.4781854351730004,-0.3144075034902964,-0.5386021088726846,1.3527122895736499,-0.7268118272717101,-1.5423872736674875,-0.9417732314870486,0.4070630837059682,-0.6640752544720351,-0.40851236268980917,0.15150019192374253,-0.1261977850912709,-1.4169141280681377,1.007661139175436,4.391571498804845,1.101765998374949,-0.9104049450872111,-0.7895484000713855,-0.1308143856747958,4.924832367602085,-0.12159717121871759,-0.6640752544720351,-1.0091264048702484,-0.2830392170904589,-0.5386021088726846,1.159885970591099,-0.6954435408718727,-0.8836532592708981,-0.25167093069062135,-0.8209166864712232,-0.2830392170904589,-0.9777581184704113,0.18748507890710517,-0.3771440762899717,0.05739533272422979,-0.3457757898901341,-1.1345995504695987,-0.9777581184704113,0.3756947973061306,0.09338021970759232,-0.2562875312741462,0.08876361912406727,-0.3457757898901341,-1.1032312640697615,-1.040494691270086,1.097149397791424,2.2937608815687778,4.830727508402572,0.5011679429054811,1.159885970591099,2.01144630397024,0.9089396793923984,1.7291317263717008,4.98756894040176,0.7880831343765728,2.2891442809852527,-1.2914409824687867,-0.47586553607300947,-0.4712489354894845,-0.8790366586873734,-0.8476683722875358,1.4154488623733248,-0.6954435408718727,-0.22030264429078372,-0.7581801136715478,-1.1973361232692743,0.90895566610337,0.46518305592211834,0.08876361912406727,-0.973141517886886,-0.09482949869143334,0.02602704632439215,-1.2914409824687867,0.08876361912406727,-1.1973361232692743,4.956200654001922,1.3840805759734873,-0.8163000858876982,4.637901189420021,0.8462031065927232,2.0428145903700763,-0.1308143856747958,2.5760754591673165,-0.6327069680721974,1.4468171487731627,-1.2287044096691118,-0.502617221889322,-0.22491924487430856,-0.7221952266881853,-1.1032312640697615,-0.22491924487430856,-0.8209166864712232,-0.4712489354894845,2.5722108876142644,0.850819707176248,-0.5699703952725222,-0.5967220810888348,0.15150019192374253,-0.0680778128751206,-1.2600726960689494,-0.5653537946889973,-1.1659678368694368,-0.3771440762899717,-1.1659678368694368,2.2937608815687778,-1.2287044096691118,-0.9777581184704113,-0.47586553607300947,-0.5699703952725222,2.2891442809852527,-0.9777581184704113,0.15150019192374253,-0.22030264429078372,-0.5386021088726846,-1.040494691270086,-0.3771440762899717,0.2815899381066178,-0.0007246394919204951,-0.44449724967317183,-0.5339855082891596,0.4697996565056434,0.7161293471208193,-0.6327069680721974,-1.0091264048702484,-0.25167093069062135,1.159901957302071,-0.1261977850912709,-0.5339855082891596,-0.0007246394919204951,-0.9417732314870486,-0.8209166864712232,-0.6908269402883477,-1.8560701376658635,-0.8836532592708981,1.5722902943725132,-0.2562875312741462,1.8859731583708892,-0.09482949869143334,-0.3190241040738214,-0.9777581184704113,-1.5691389594838,0.3443265109062931,-1.5691389594838,-0.44449724967317183,-1.0358780906865614,0.563888528994185,0.3443105241953216,1.4735688345894753,-0.3457757898901341,-1.1659678368694368,-0.5699703952725222,0.05739533272422979,1.3527122895736499,-0.8476683722875358,4.3602032124050085,4.297466639605332,1.760500012771538,-0.9777581184704113,-0.4398806490896468,-0.7895484000713855,-0.6327069680721974,1.3527122895736499,-0.22491924487430856,-0.4398806490896468,-0.7268118272717101,0.02602704632439215,-0.47586553607300947,-0.502617221889322,-0.3457757898901341,-0.6327069680721974,-0.6013386816723597,0.4697996565056434,-0.03670952647528297,-1.040494691270086,4.292850039021808,-0.5072338224728469,1.2272391439742991,-1.1032312640697615,0.9403079657922359,0.05739533272422979,-0.8836532592708981,-0.7221952266881853,-0.9777581184704113,-1.2287044096691118,-1.1032312640697615,-0.193550958474471,-0.5339855082891596,0.3397099103227681,1.7291317263717008,0.658009374904669,-0.193550958474471,4.171993494005982,-1.286824381885262,0.877571392992561,-1.1032312640697615,-0.005341240075445474,-0.1308143856747958,-0.3190241040738214,0.062011933307754764,0.8416024927201698,-0.4712489354894845,0.05739533272422979,-1.1345995504695987,-0.9150215456707358,-0.9777581184704113,-0.8790366586873734,-0.193550958474471,-0.9417732314870486,-0.2876558176739838,-1.2600726960689494,-1.9188067104655389,-0.22491924487430856,-1.0718629776699238,0.6626099887772225,1.0657811113915865,0.18748507890710517,-0.5653537946889973,-0.3457757898901341,-0.09482949869143334,0.15611679250726754,-1.6678604192668376,-0.22491924487430856,-0.2876558176739838,2.3878657407682904,-0.7221952266881853,1.1285176841912616,-0.21570203041823025,-0.8836532592708981,2.1682877359694275,2.199656022369265,-0.3190241040738214,-1.44366581388445,-0.4712489354894845,-0.4398806490896468,-0.1261977850912709,-0.7895484000713855,-0.22491924487430856,-0.3817606768734966,-1.2600726960689494,-1.8560701376658635,-0.2562875312741462,0.15150019192374253,-0.22491924487430856,-1.1973361232692743,-0.3817606768734966,-0.47586553607300947,0.7834825205040195,-0.0634612122915957,-0.6327069680721974,-0.9417732314870486,0.18748507890710517,1.599041980188826,0.7207299609933728,-0.9777581184704113,-0.4712489354894845,-1.6318755322834753,-0.9150215456707358,-0.7535635130880228,-0.3144075034902964,-0.21570203041823025,1.760500012771538,-0.9150215456707358,2.356497454368453,-0.2516869174015929,4.140625207606145,-0.41312896327333415,-1.1613512362859122,0.4070630837059682,0.12013190552390492,0.15150019192374253,-0.193550958474471,1.4422005481896378,0.850819707176248,-0.7581801136715478,2.1682877359694275,1.6036585807723505,-0.40851236268980917,-0.9463898320705731,-0.4712489354894845,-0.7268118272717101,4.324218325421645,-0.9777581184704113,-0.9150215456707358,1.8186199849876887,0.5279196287217937,-0.15756607149110854,-0.2830392170904589,1.0030605253028826,1.0030605253028826,0.37107819672260567,1.5095537215728378,0.12473251939645845,-0.6013386816723597,-0.35039239047365894,-0.502617221889322,0.6266410885048312,1.4154488623733248,0.783466533793048,-1.0091264048702484,2.13691944956959,-0.193550958474471,-1.0045098042867238,-0.7581801136715478,-0.9417732314870486,0.3443105241953216,0.6939782751770601,0.8729707791200074,-0.9417732314870486,-1.1973361232692743,-0.6954435408718727,0.3756947973061306,0.7521142341041818,-0.25167093069062135,0.31295822450645544,-1.1032312640697615,-0.5699703952725222,1.1912542569909368,-0.4712489354894845,1.007661139175436,0.9089396793923984,-0.8836532592708981,-0.2876558176739838,-0.0634612122915957,-0.7221952266881853,-0.8163000858876982,-0.4398806490896468,-0.3771440762899717,-0.5339855082891596,0.12013190552390492,-0.3771440762899717,-0.502617221889322,-0.03209292589175813,0.3756947973061306,-0.4712489354894845,-0.502617221889322,0.5952568153940223,1.2539908297906122,4.857479194218884,-0.9777581184704113,0.062011933307754764,4.517044644404196,4.454308071604521,1.4154488623733248,1.9173414447707267,0.6266410885048312,-1.1613512362859122,4.888847480618721,1.2586074303741372,-0.973141517886886,-0.6908269402883477,-0.6954435408718727,-0.3190241040738214,-0.7268118272717101,-0.2876558176739838,-0.502617221889322,0.12013190552390492,2.5760754591673165,-0.5699703952725222,-0.1261977850912709,-0.40851236268980917,1.3167274025902873,-0.15756607149110854,-0.5386021088726846,-0.7268118272717101,-0.40851236268980917,-0.6013386816723597,1.0703977119751114,-0.8522849728710605,-0.6594586538885101,-1.040494691270086,-1.0091264048702484,0.2815899381066178,-1.1032312640697615,0.15611679250726754,0.2502216517067803,-1.0718629776699238,-0.193550958474471,-0.8209166864712232,-0.18893435789094612,1.159885970591099,4.046520348406631,1.1912542569909368,-0.3457757898901341,0.15150019192374253,-0.25167093069062135,1.5095537215728378,1.6663951535720258,0.6939782751770601,-0.5339855082891596,-0.9463898320705731,-0.3771440762899717,-0.7581801136715478,-0.4712489354894845,-0.8476683722875358,-0.6640752544720351,-0.8209166864712232,-1.2287044096691118,1.7291317263717008,0.9403079657922359,-1.1345995504695987,0.8194514207764104,4.924832367602085,1.3840805759734873,-1.1973361232692743,-0.1308143856747958,1.9440931305870388,-0.25167093069062135,1.3527122895736499,-0.6594586538885101,-0.4712489354894845,0.9449245663757612,-0.40851236268980917,0.7207459477043442,-0.7581801136715478,0.2188533653069426,0.2502216517067803,0.2188533653069426,-0.41312896327333415,-0.8209166864712232,0.15611679250726754,0.2142367647234176,-0.7895484000713855,-0.4712489354894845,-1.0045098042867238,1.9800780175704016,-0.8836532592708981,1.9754614169868765,0.9716762521920732,-0.2830392170904589,0.783466533793048,-0.44449724967317183,-0.8790366586873734,-0.9104049450872111,-0.502617221889322,-0.15756607149110854,1.5409220079726753,1.0030445385919116,-0.8209166864712232,-0.193550958474471,-0.5386021088726846,0.15611679250726754,-1.0718629776699238,-0.03209292589175813,-0.3457757898901341,-0.9150215456707358,0.7474976335206571,0.5639045157051561,-0.6908269402883477,-1.7619652784663509,1.348095688990125,0.2861905519791712,4.543796330220507,-0.5339855082891596,-0.1261977850912709,-0.9104049450872111,-1.6678604192668376,-1.2287044096691118,-0.6594586538885101,0.12474850610742995,-1.1659678368694368,-1.0672463770863987,-0.5653537946889973,-0.15756607149110854,-0.973141517886886,-1.5423872736674875,-0.15756607149110854,1.4422005481896378,1.2586074303741372,-1.7933335648661888,-0.7221952266881853,1.6663951535720258,1.2899757167739745,1.0657811113915865,-1.2287044096691118,-1.3809292410847749,-1.3855458416682997,-0.8836532592708981,0.3443265109062931,-0.6908269402883477,-0.2562875312741462,-0.502617221889322,1.0390294255752737,-0.193550958474471,2.038197989786552,4.481059757420833,0.09338021970759232,1.4422005481896378,-1.0045098042867238,-0.7849317994878605,-0.9104049450872111,0.18286847832358022,-0.5699703952725222,4.454308071604521,1.724515125788176,0.3397099103227681,-0.47586553607300947,-0.9777581184704113,-0.7535635130880228,-0.40851236268980917,4.857479194218884,-0.6327069680721974,1.348095688990125,-0.3457757898901341,3.9164306022237563,-0.5967220810888348,-0.18433374401839245,0.4070630837059682,-1.1973361232692743,0.2188373785959712,-0.41312896327333415,-0.5339855082891596,-0.03670952647528297,-0.6954435408718727,1.2226225433907747,-1.6992287056666755,-0.7221952266881853,0.2815899381066178,2.0695662761863898,0.15611679250726754,-0.6327069680721974,-0.47586553607300947,1.760500012771538,-0.2562875312741462,-0.3771440762899717,-0.22030264429078372,0.7161293471208193,-0.8476683722875358,-0.15756607149110854,-0.5072338224728469,-0.9417732314870486,0.7253465615768976,1.8859731583708892,2.325129167968615,1.0344128249917488,4.830727508402572,1.2899757167739745,1.4468171487731627,1.3840805759734873,-0.3817606768734966,-1.5423872736674875,-1.7933335648661888,-1.040494691270086,1.599041980188826,0.5057685567780346,1.8499882713875269,1.9487097311705637,-0.9150215456707358,0.43381476952228093,0.2815899381066178,1.5722902943725132,-0.7581801136715478,1.8546048719710515,0.24560505112325529,-0.973141517886886,1.4154488623733248,1.4781854351730004,4.328834926005169,0.62662510179386,-0.8522849728710605,-0.22030264429078372,0.2142367647234176,-0.6640752544720351,0.03064364690791713,-1.0091264048702484,-1.6678604192668376,4.767990935602896,1.7558834121880136,3.665484311025056,1.4468171487731627,1.4468171487731627,-0.09944609927495818,1.5409220079726753,0.15610080579629593,-0.40851236268980917,-1.5423872736674875,-0.4712489354894845,0.2815899381066178,-0.3144075034902964,0.5906562015214688,0.4070630837059682,0.02602704632439215,-0.44449724967317183,-1.1973361232692743,-0.44449724967317183,-0.3771440762899717,-0.973141517886886,-1.2600726960689494,1.28535911619045,-0.7268118272717101,-0.18893435789094612,-0.9104049450872111,-1.0718629776699238,-1.1345995504695987,4.7006377622196975,-0.5967220810888348,4.8934640812022465,-0.7221952266881853,1.8859731583708892,0.2815899381066178,5.081673799601272,-1.0358780906865614,-0.9417732314870486,0.03064364690791713,-1.0672463770863987,-0.18893435789094612,-0.16218267207463335,1.5095537215728378,1.9173414447707267,1.0390294255752737,1.0030445385919116,-0.09482949869143334,0.5325202425943473,2.356497454368453,3.7596051569355398,-0.0634612122915957,-0.44449724967317183,4.230113466222133,1.3213440031738124,0.4070470969949969,1.1331342847747865,4.794742621419209,1.0703977119751114,1.2272391439742991,1.4422005481896378,1.1331342847747865,4.422939785204683,3.6073643388089054,-0.4398806490896468,-0.7221952266881853,-0.2830392170904589,0.18748507890710517,0.08876361912406727,0.37107819672260567,-0.44449724967317183,-0.1261977850912709,0.12474850610742995,0.12474850610742995,-0.8209166864712232,-0.7581801136715478,-1.7933335648661888,-1.1032312640697615,-0.9150215456707358,0.03064364690791713,-1.0045098042867238,-1.0091264048702484,-0.4398806490896468,0.062011933307754764,1.348095688990125,3.858310630007606,-0.9463898320705731,1.4108322617898004,0.312942237795484,1.5409220079726753,-0.8790366586873734,0.6579933881936976,-0.1261977850912709,0.8194514207764104,0.9762928527755985,-0.8209166864712232,0.850819707176248,4.328834926005169,-1.1973361232692743,1.2899757167739745,-0.6594586538885101,-0.1261977850912709,5.144410372400948,2.038197989786552,-1.1345995504695987,-0.9417732314870486,-0.7581801136715478,-0.3457757898901341,-0.5699703952725222,-1.3855458416682997,-0.7268118272717101,-0.6280903674886725,0.2502216517067803,0.05739533272422979,-0.6640752544720351,-0.9104049450872111,-0.09482949869143334,0.5685051295777098,0.7567148479767354,4.98756894040176,-0.5386021088726846,0.3756947973061306,-0.2876558176739838,-0.8209166864712232,-0.502617221889322,-0.09482949869143334,-0.3817606768734966,-0.4712489354894845,-0.22030264429078372,-0.1308143856747958,-0.3771440762899717,-0.8790366586873734,-0.40851236268980917,0.8462031065927232,1.791868299171376,0.4070470969949969,0.6266410885048312,-1.3228092688686242,-0.6640752544720351,-0.3771440762899717,-0.5339855082891596,-1.0091264048702484,0.877571392992561,-0.3817606768734966,-1.0091264048702484,-0.5699703952725222,-1.0718629776699238,-0.3457757898901341,1.6036585807723505,-0.3457757898901341,0.9449245663757612,1.3213440031738124,-0.6908269402883477,-0.0680778128751206,-0.22030264429078372,-0.47586553607300947,-1.0718629776699238,0.4070470969949969,0.9403079657922359,5.269883518000298,-1.3495609546849374,-0.6327069680721974,0.2769733375230929,-0.7535635130880228,-0.4712489354894845,-0.0634612122915957,0.6893776613045064,0.24560505112325529,-0.2562875312741462,-0.6594586538885101,1.3527122895736499,0.5685051295777098,0.6579933881936976,1.5049371209893125,-0.22030264429078372,-0.4398806490896468,1.6617785529885007,-0.9777581184704113,-0.22491924487430856,1.1958708575744619,-0.9777581184704113,-0.5339855082891596,1.9173414447707267,1.5676736937889875,0.15611679250726754,1.8546048719710515,1.2899757167739745,-0.3771440762899717,-0.5653537946889973,5.332620090799972,-0.8476683722875358,-0.5967220810888348,-0.6013386816723597,-0.44449724967317183,-0.6908269402883477,-0.47586553607300947,-1.040494691270086,-0.7895484000713855,-0.3144075034902964,1.5095537215728378,-0.03209292589175813,0.12474850610742995,-0.6640752544720351,-0.5072338224728469,-0.15756607149110854,-1.0672463770863987,-0.7849317994878605,-0.7895484000713855,-0.1261977850912709,1.791868299171376,1.4154488623733248,1.6036585807723505,1.348095688990125,-0.5699703952725222,1.823236585571214,1.8499882713875269,0.5325362293053185,1.6617785529885007,-0.15758205820207993,-1.0358780906865614,-0.9150215456707358,-0.973141517886886,-0.6280903674886725,0.03064364690791713,-0.4712489354894845,-1.2600726960689494,-0.5699703952725222,-0.193550958474471,1.8186199849876887,-0.502617221889322,-0.9150215456707358,1.4781854351730004,4.8934640812022465,-0.3817606768734966,-1.6318755322834753,1.6304102665886633,0.9089396793923984,0.49655134232195614,1.1285176841912616,0.4697836697946722,4.830727508402572,1.4422005481896378,1.128533670902233,-0.7268118272717101,1.693146839388338,-0.15756607149110854,0.4697996565056434,-1.0672463770863987,-1.1299829498860743,-0.6327069680721974,-0.8163000858876982,-1.0091264048702484,-0.3457757898901341,-0.6954435408718727,-0.6594586538885101,-0.502617221889322,-0.973141517886886,-1.0718629776699238,0.7521142341041818,1.5095537215728378,-0.9777581184704113,-0.03670952647528297,4.6065329030201845,1.4108322617898004,-0.7221952266881853,0.18748507890710517,0.37107819672260567,-0.3771440762899717,-0.6594586538885101,-0.7581801136715478,-0.6954435408718727,-0.4398806490896468,-1.2600726960689494,1.348095688990125,-0.3190241040738214,-0.7268118272717101,-0.8836532592708981,1.28535911619045,0.15610080579629593,1.791868299171376,4.230113466222133,-1.0718629776699238,-0.6327069680721974,-0.6640752544720351,0.46518305592211834,4.543796330220507,0.7880831343765728,0.6893776613045064,0.18748507890710517,-0.193550958474471,-0.9417732314870486,-0.5967220810888348,0.9089396793923984,-0.8209166864712232,-0.4398806490896468,-0.16218267207463335,-0.25167093069062135,0.2815899381066178,-0.4398806490896468,-0.6013386816723597,-0.6327069680721974,-0.41312896327333415,-0.5072338224728469,-0.1261977850912709,0.4697996565056434,1.2899757167739745,-0.09482949869143334,4.799359222002734,3.8850623158239186,2.2264077081855778,1.5722902943725132,1.28535911619045,2.450602313567966,0.18748507890710517,0.15611679250726754,4.422939785204683,2.2937608815687778,4.5797812172038705,0.5279196287217937,1.6977634399718635,2.325129167968615,1.6617785529885007,4.324218325421645,-0.25167093069062135,-0.005341240075445474,-0.15756607149110854,-0.5699703952725222,4.51242804382067,-1.2914409824687867,1.097149397791424,0.3756788105951593,-0.973141517886886,-1.1345995504695987,-0.3817606768734966,0.18748507890710517,4.705254362803221,-1.0091264048702484,1.5095537215728378,2.1682877359694275,-0.6280903674886725,1.2539908297906122,-1.040494691270086,-0.9150215456707358,0.2142367647234176,-0.7895484000713855,-0.9463898320705731,-0.4398806490896468,-0.6640752544720351,4.7006377622196975,-0.8209166864712232,0.15611679250726754,-1.4169141280681377,-1.7933335648661888,1.6977634399718635,-0.7895484000713855,1.8186199849876887,-0.0007246394919204951,1.007661139175436,4.292850039021808,1.2899757167739745,0.877571392992561,2.038197989786552,0.2815739513956463,-0.41312896327333415,1.1958708575744619,1.2586074303741372,-1.0718629776699238,-0.2830392170904589,-0.7221952266881853,-0.5967220810888348,-0.44449724967317183,0.062011933307754764,-0.3771440762899717,-0.1308143856747958,-1.1032312640697615,0.6266410885048312,-1.0358780906865614,-1.040494691270086,-1.1032312640697615,-0.7221952266881853,-0.7849317994878605,0.7520982473932102,-0.2562875312741462,-0.8836532592708981,-1.2914409824687867,-0.9463898320705731,1.1285176841912616,-0.5699703952725222,0.563888528994185,-0.5072338224728469,-1.0718629776699238,-0.9417732314870486,-1.0091264048702484,-1.600507245883638,-0.4398806490896468,-0.8163000858876982,1.4781854351730004,1.6350268671721884,0.2188533653069426,-0.5339855082891596,-0.6594586538885101,-0.40851236268980917,1.8859731583708892,4.4183231846211575,-0.9150215456707358,0.5952568153940223,5.144410372400948,4.13600860702262,1.9800780175704016,1.3213440031738124,1.760500012771538,1.9173414447707267,5.175778658800785,0.7567148479767354,1.9800780175704016,2.3205125673850904,2.6074437455671537,4.98756894040176,0.6939782751770601,4.888847480618721,0.12474850610742995,-0.47586553607300947,-0.15756607149110854,-0.4712489354894845,0.2502216517067803,0.3083416239229306,-0.1308143856747958,-1.1299829498860743,0.09338021970759232,-0.40851236268980917,-0.7849317994878605,-0.1261977850912709,-0.7581801136715478,-0.5386021088726846,-0.7895484000713855,-0.15756607149110854,0.46518305592211834,-0.502617221889322,0.3756947973061306,-0.502617221889322,0.02602704632439215,0.03064364690791713,-0.5967220810888348,0.2769733375230929,-1.1345995504695987,-0.7535635130880228,-0.7221952266881853,0.31295822450645544,-0.3457757898901341,4.2660983532054955,-1.1032312640697615,1.3840805759734873,1.2539908297906122,-0.7849317994878605,0.6893616745935353,-0.25167093069062135,0.9716762521920732,-0.40851236268980917,0.7207299609933728,3.696852597424894,1.2226225433907747,-1.1032312640697615,1.7291317263717008,-0.15756607149110854,0.3397099103227681,0.9762928527755985,0.09338021970759232,-1.2600726960689494,-0.6327069680721974,-1.1032312640697615,-0.6640752544720351,0.24560505112325529,0.02602704632439215,-0.9104049450872111,-0.4398806490896468,0.12013190552390492,-0.7895484000713855,-0.7268118272717101,-0.2876558176739838,-0.6954435408718727,-0.8209166864712232,-0.973141517886886,-0.0007246394919204951,-0.9104049450872111,-0.7581801136715478,-0.18893435789094612,1.061180497519033,-0.41312896327333415,0.3443265109062931,-0.6640752544720351,-0.6013386816723597,0.24560505112325529,-0.8790366586873734,-1.5737555600673252,0.4384313701058058,-0.5339855082891596,-0.22030264429078372,-0.41312896327333415,-0.9463898320705731,1.8546048719710515,-0.5386021088726846,1.2226225433907747,0.18748507890710517,-0.09482949869143334,1.1645025711746244,-0.5386021088726846,4.920215767018559,-0.1261977850912709,0.4384313701058058,-0.9777581184704113,0.40244648312244335,0.12474850610742995,-0.3144075034902964,-0.3457757898901341,-0.5653537946889973,-1.2287044096691118,-0.5386021088726846,-0.5072338224728469,-0.3457757898901341,-1.2600726960689494,-0.6280903674886725,0.3756788105951593,-1.1032312640697615,0.4384153833948345,4.830727508402572,4.767990935602896,1.599041980188826,-1.3855458416682997,-0.7581801136715478,-0.0680778128751206,1.1331342847747865,1.007661139175436,4.732006048619534,-0.25167093069062135,-0.16218267207463335,-0.8836532592708981,-0.4712489354894845,-0.41312896327333415,-0.41312896327333415,-0.193550958474471,-1.2914409824687867,0.5592879151216315,-0.03209292589175813,-0.7535635130880228,-0.3771440762899717,-0.35039239047365894,-0.6327069680721974,-1.3809292410847749,-0.3457757898901341,-0.3817606768734966,0.31295822450645544,-0.1308143856747958,-0.9104049450872111,5.081673799601272,-0.44449724967317183,-0.44449724967317183,0.783466533793048,1.0030445385919116,1.1331342847747865,-1.3228092688686242,-0.973141517886886,-1.0358780906865614,-0.8476683722875358,1.1645025711746244,-0.5653537946889973,-0.16218267207463335,-0.4712489354894845,0.18286847832358022,-0.3771440762899717,1.5722902943725132,-0.7268118272717101,-0.502617221889322,-0.7535635130880228,5.23851523160046,4.799359222002734,0.5998734159775471,-1.040494691270086,1.8859731583708892,1.6663951535720258,-0.03209292589175813,4.046520348406631,4.517044644404196,4.230113466222133,2.13691944956959,0.03062766019694557,-0.6954435408718727,1.6350268671721884,1.4108322617898004,1.7558834121880136,1.6977634399718635,0.9716762521920732,1.2226225433907747,2.163671135385902,4.956200654001922,4.920215767018559,0.9716762521920732,3.696852597424894,1.8499882713875269,4.485676358004358,-0.5699703952725222,-1.1032312640697615,-0.5653537946889973,0.9716762521920732,0.2188533653069426,-1.1032312640697615,-0.5072338224728469,-0.7895484000713855,-0.5339855082891596,0.02602704632439215,-0.9104049450872111,-0.2830392170904589,0.4697996565056434,-0.5072338224728469,-0.09482949869143334,-0.9463898320705731,-1.0091264048702484,-0.2830392170904589,-0.8163000858876982,-0.5386021088726846,-0.47586553607300947,-0.15756607149110854,-0.6013386816723597,-0.2562875312741462,0.9762928527755985,-0.7221952266881853,5.144410372400948,4.736622649203059,4.13600860702262,-1.040494691270086,0.9716922389030453,0.9135562799759236,1.8859731583708892,0.9403079657922359,1.1285176841912616,1.2272391439742991,1.3794639753899625,1.348095688990125,1.0030445385919116,-0.9417732314870486,4.543796330220507,-0.7268118272717101,-0.973141517886886,4.454308071604521,1.7291317263717008,-0.8522849728710605,-0.7849317994878605,-0.16218267207463335,-0.7581801136715478,-0.193550958474471,-0.6908269402883477,0.31295822450645544,-0.5653537946889973,-0.7268118272717101,-0.15756607149110854,-0.6013386816723597,-0.7895484000713855,-0.7895484000713855,0.15611679250726754,4.862095794802409,-0.1308143856747958,0.5011519561945095,-1.0091264048702484,4.888847480618721,1.2586074303741372,1.007661139175436,-0.40851236268980917,1.159885970591099,4.642517790003547,1.6617785529885007,1.599041980188826,1.8859731583708892,1.4154488623733248,4.449691471020995,2.199656022369265,4.705254362803221,-0.7895484000713855,0.05739533272422979,-1.5691389594838,0.9089396793923984,4.575164616620347,-0.6327069680721974,-0.1261977850912709,-0.6594586538885101,0.02602704632439215,0.5906562015214688,-0.3457757898901341,-0.40851236268980917,-0.25167093069062135,-1.0045098042867238,-0.4712489354894845,-0.8476683722875358,-0.1261977850912709,-0.5386021088726846,-0.3817606768734966,-0.6013386816723597,-0.41312896327333415,-0.8163000858876982,-0.1308143856747958,0.2502216517067803,-0.5386021088726846,-1.040494691270086,-1.0091264048702484,1.1912542569909368,1.1645025711746244,-0.9150215456707358,2.3205125673850904,1.3840805759734873,0.9449245663757612,0.8462190933036948,0.2188533653069426,1.6617785529885007,1.0703977119751114,-0.7221952266881853,4.485676358004358,0.4384153833948345,1.3213440031738124,-0.5653537946889973,-0.3817606768734966,1.6304102665886633,4.767990935602896,1.4108322617898004,-0.6954435408718727,0.09338021970759232,-0.6013386816723597,0.18286847832358022,0.5325362293053185,-0.5653537946889973,-0.09482949869143334,-0.5339855082891596,-1.2914409824687867,0.7161293471208193,-0.5699703952725222,-0.6327069680721974,-0.03209292589175813,-0.09944609927495818,-0.6280903674886725,0.12013190552390492,-0.6280903674886725,-1.0986146634862366,-0.2876558176739838,-0.5967220810888348,0.2815899381066178,-0.5967220810888348,-0.6327069680721974,0.9089396793923984,1.6977634399718635,-0.3771440762899717,-0.6327069680721974,-1.3228092688686242,-1.0718629776699238,1.1331342847747865,-0.5339855082891596,-0.7221952266881853,1.9800780175704016,-0.5386021088726846,4.20336178040582,0.783466533793048,-0.3457757898901341,1.1645025711746244,0.03064364690791713,-0.6640752544720351,-0.8209166864712232,1.8859731583708892,-0.3817606768734966,1.4468171487731627,4.4183231846211575,4.763374335019373,4.13600860702262,-1.0091264048702484,5.11304208600111,1.0344288117027205,3.508642879025867,1.5409220079726753,1.6617785529885007,1.5363054073891504,2.13691944956959,-0.3190241040738214,1.5722902943725132,-0.8522849728710605,-0.5653537946889973,-0.3817606768734966,-1.040494691270086,-0.8476683722875358,-0.8209166864712232,0.18286847832358022,-0.4712489354894845,-0.9104049450872111,0.2502216517067803,-1.1973361232692743,0.2142367647234176,-1.4169141280681377,-0.3190241040738214,-0.09944609927495818,0.2142367647234176,-0.41312896327333415,-0.8163000858876982,-0.3190241040738214,-1.5110189872676503,1.2899757167739745,1.4735688345894753,1.5409220079726753,0.9403079657922359,0.9403079657922359,-0.5072338224728469,-0.25167093069062135,0.7567148479767354,-0.15756607149110854,-0.6013386816723597,-1.8874384240657007,-1.1032312640697615,-0.5386021088726846,-0.8163000858876982,-0.7268118272717101,0.38029541117868404,-1.0672463770863987,-1.354177555268462,-0.09482949869143334,-0.3771440762899717,-0.3817606768734966,-1.5110189872676503,-0.8522849728710605,-0.9463898320705731,1.4781854351730004,-0.5339855082891596,-0.44449724967317183,4.857479194218884,-0.3457757898901341,2.2623925951689396,-0.15756607149110854,-0.3771440762899717,0.18746909219613356,-0.6013386816723597,1.4108322617898004,1.760500012771538,-0.005341240075445474,1.4468171487731627,-0.2830392170904589,-0.7849317994878605,-0.8836532592708981,0.062011933307754764,-0.3190241040738214,-0.6013386816723597,-0.15756607149110854,-1.8560701376658635,-0.5967220810888348,-0.7268118272717101,0.5325362293053185,-0.973141517886886,0.12474850610742995,1.4735688345894753,0.24560505112325529,-0.2830392170904589,-0.6954435408718727,-0.40851236268980917,-0.16218267207463335,-0.8522849728710605,-1.040494691270086,-1.8560701376658635,-0.2876558176739838,1.5676736937889875,2.199656022369265,-1.2600726960689494,0.46518305592211834,4.2660983532054955,4.171993494005982,1.1912542569909368,1.7291317263717008,0.4070470969949969,-0.9463898320705731,0.062011933307754764,0.062011933307754764,1.791868299171376,-0.8163000858876982,-0.5339855082891596,-0.25167093069062135,-0.4398806490896468,1.2226225433907747,-0.44449724967317183,-1.0091264048702484,-0.5967220810888348,4.98756894040176,-0.7581801136715478,-1.040494691270086,-1.9188067104655389,-0.18893435789094612,-0.5967220810888348,-0.1261977850912709,-0.6954435408718727,-1.0718629776699238,-0.6954435408718727,0.658009374904669,-0.8522849728710605,4.98756894040176,1.28535911619045,0.9135562799759236,4.799359222002734,-0.8476683722875358,1.9173414447707267,1.693146839388338,1.3527122895736499,0.5279196287217937,1.7291317263717008,2.1950394217857405,4.642517790003547,-1.44366581388445,-0.2562875312741462,-0.8209166864712232,-0.25167093069062135,0.09338021970759232,-1.1345995504695987,-0.6954435408718727,-1.0718629776699238,-0.6280903674886725,-0.1261977850912709,-1.354177555268462,-1.040494691270086,-1.0091264048702484,-0.3771440762899717,-0.18893435789094612,0.02602704632439215,-1.0718629776699238,0.12474850610742995,-0.0680778128751206,-1.3228092688686242,-0.2830392170904589,-0.4398806490896468,-0.7581801136715478,-0.5653537946889973,-1.1345995504695987,-0.25167093069062135,-0.09482949869143334,-1.2914409824687867,-1.040494691270086,-0.47586553607300947,-0.6327069680721974,-0.2830392170904589,-0.8209166864712232,-0.9150215456707358,-0.8836532592708981,-0.9777581184704113,-0.8163000858876982,-0.8522849728710605,-0.973141517886886,0.6266410885048312,-0.6013386816723597,3.670100911608581,-0.5699703952725222,-0.5386021088726846,-1.1032312640697615,0.3443265109062931,-1.0718629776699238,-1.2287044096691118,-1.6318755322834753,-0.6640752544720351,0.18286847832358022,-0.6013386816723597,-0.22030264429078372,-0.5653537946889973,-0.7849317994878605,-0.5653537946889973,-0.0007246394919204951,-0.6327069680721974,-0.9150215456707358,-0.6327069680721974,-1.5377706730839629,-0.5072338224728469,1.101765998374949,-0.7895484000713855,-1.0045098042867238,-0.1308143856747958,-0.5386021088726846,-0.7895484000713855,-0.7895484000713855,1.5049371209893125,0.15611679250726754,-0.6013386816723597,0.062011933307754764,-1.2287044096691118,-0.8209166864712232,-0.5072338224728469,-1.0358780906865614,-0.8476683722875358,-0.9463898320705731,-1.0986146634862366,0.15150019192374253,-1.1032312640697615,-0.3457757898901341,-0.0680778128751206,-0.3457757898901341,1.3527122895736499,0.5952568153940223,4.6738860764033845,0.08876361912406727,-0.6013386816723597,-0.8163000858876982,0.810234206320332,-1.3181926682850995,-0.9150215456707358,-0.9777581184704113,1.4422005481896378,-0.7895484000713855,-0.7895484000713855,-0.9777581184704113,0.5952568153940223,-0.4712489354894845,-0.3144075034902964,0.3756788105951593,-0.22030264429078372,0.2188533653069426,-0.0680778128751206,-0.16218267207463335,-0.44449724967317183,-0.8522849728710605,-0.35039239047365894,1.4735688345894753,0.062011933307754764,0.6579933881936976,0.18286847832358022,-1.0091264048702484,1.101765998374949,-0.18893435789094612,1.4735688345894753,1.159885970591099,-0.3817606768734966,4.20336178040582,1.791868299171376,4.0778886348064685,3.638732625208742,-0.15756607149110854,1.6977634399718635,4.7006377622196975,-0.5072338224728469,2.1682877359694275,-1.0718629776699238,0.15611679250726754,-0.4712489354894845,0.6579933881936976,-0.3771440762899717,0.18748507890710517,-0.3817606768734966,-0.7849317994878605,-0.6280903674886725,-0.6640752544720351,1.0344128249917488,1.760500012771538,0.4697996565056434,0.4070630837059682,1.3213440031738124,1.8813565577873643,4.046520348406631,4.6065329030201845,-0.7268118272717101,2.410768841742523,0.631241702377385,-1.4169141280681377,1.1331342847747865,4.98756894040176,1.1331342847747865,-0.7581801136715478,0.40244648312244335,4.6738860764033845,1.3840805759734873,1.3213440031738124,-1.1032312640697615,4.920215767018559,1.4735688345894753,2.0428145903700763,4.0778886348064685,1.9440931305870388,-0.5339855082891596,-1.0718629776699238,-0.6280903674886725,0.062011933307754764,0.08876361912406727,-0.0634612122915957,-0.2876558176739838,-1.3228092688686242,-0.22030264429078372,-0.8836532592708981,-1.2914409824687867,-0.03209292589175813,-0.25167093069062135,-0.44449724967317183,-0.8209166864712232,-1.8874384240657007,0.90895566610337,-1.1032312640697615,-0.6327069680721974,-0.40851236268980917,-0.16218267207463335,-0.0007246394919204951,0.03064364690791713,-0.16218267207463335,0.43381476952228093,0.31295822450645544,-0.1261977850912709,-0.15756607149110854,-1.5110189872676503,-0.44449724967317183,1.8859731583708892,-0.8209166864712232,4.198745179822295,1.097149397791424,-1.1345995504695987,-0.6954435408718727,1.007661139175436,0.9135562799759236,0.5057685567780346,2.3878657407682904,4.0778886348064685,0.9089396793923984,-1.040494691270086,4.799359222002734,0.9449245663757612,0.9089396793923984,0.2502056649958088,-0.3144075034902964,1.0030445385919116,0.7253465615768976,-0.6280903674886725,2.0428145903700763,1.4735688345894753,1.4735688345894753,2.1055511631697517,1.8186199849876887,-0.40851236268980917,-0.9150215456707358,-0.6640752544720351,-0.25167093069062135,-0.8836532592708981,-1.0672463770863987,-0.7581801136715478,-0.6908269402883477,-0.3817606768734966,-0.8209166864712232,-0.2562875312741462,-1.0718629776699238,-0.3457757898901341,-0.47586553607300947,0.5325362293053185,-0.8476683722875358,-1.2554560954854246,0.9403079657922359,-0.35039239047365894,0.062011933307754764,1.4108322617898004,-0.3144075034902964,4.642517790003547,1.4422005481896378,2.0428145903700763,0.2188373785959712,1.6350268671721884,4.7006377622196975,1.9487097311705637,1.693146839388338,5.018937226801597,-0.9150215456707358,4.642517790003547,-0.5339855082891596,-0.9150215456707358,-0.41312896327333415,-1.1973361232692743,0.9716762521920732,-0.9463898320705731,-0.6594586538885101,-1.5064023866841254,-1.0358780906865614,3.8850623158239186,0.5952568153940223,0.41166369757852167,1.0390294255752737,-0.9777581184704113,-0.4398806490896468,0.90895566610337,-0.7268118272717101,-0.7268118272717101,-0.18893435789094612,-0.4712489354894845,-1.3228092688686242,-0.8790366586873734,-0.6594586538885101,1.3840805759734873,-0.6640752544720351,-0.40851236268980917,-0.25167093069062135,-1.0358780906865614,-0.8522849728710605,-1.1973361232692743,-0.8163000858876982,-0.25167093069062135,5.045688912617909,0.9449245663757612,-0.8163000858876982,0.850819707176248,0.9449245663757612,1.2272391439742991,-0.5072338224728469,-0.6594586538885101,-1.0358780906865614,-0.16218267207463335,0.5952728021049937,-0.3817606768734966,-0.7849317994878605,-0.6908269402883477,1.6977634399718635,1.7558834121880136,5.081673799601272,-0.502617221889322,2.2937608815687778,1.348095688990125,1.5722902943725132,1.5676736937889875,1.7558834121880136,-1.1973361232692743,4.0778886348064685,0.850819707176248,0.7207299609933728,2.356497454368453,0.7520982473932102,1.1331342847747865,0.3756788105951593,0.9449245663757612,2.2937608815687778,1.2272391439742991,4.736622649203059,1.2226225433907747,1.348095688990125,0.12013190552390492,0.5685051295777098,-0.09944609927495818,1.1958708575744619,-0.7849317994878605,1.1285176841912616,4.104640320622783,0.03064364690791713,-1.2600726960689494,-0.7581801136715478,-1.0045098042867238,-0.7535635130880228,-0.25167093069062135,-0.9777581184704113,-1.1927195226857494,-0.8522849728710605,-0.193550958474471,0.15611679250726754,-0.09944609927495818,0.09338021970759232,-0.6908269402883477,-0.7221952266881853,-0.9104049450872111,-1.0045098042867238,-0.8522849728710605,-0.5072338224728469,-0.9104049450872111,-1.3228092688686242,-1.6632438186833132,-0.8836532592708981,-1.44366581388445,-0.9417732314870486,0.062011933307754764,-0.4398806490896468,-0.3457757898901341,-0.3817606768734966,0.12474850610742995,-1.0091264048702484,-0.5072338224728469,0.08876361912406727,-0.6013386816723597,-0.03670952647528297,-0.5339855082891596,-0.40851236268980917,-0.6954435408718727,-0.09944609927495818,-1.3228092688686242,-1.1032312640697615,-0.4712489354894845,-0.5699703952725222,-0.7849317994878605,-0.7268118272717101,-0.7581801136715478,-0.6280903674886725,-0.7535635130880228,-0.6640752544720351,-0.1308143856747958,-1.2600726960689494,-0.3190241040738214,-1.1345995504695987,0.3443265109062931,-1.0091264048702484,-0.5339855082891596,-0.03670952647528297,-0.7895484000713855,-0.8790366586873734,-0.5072338224728469,0.08876361912406727,-0.8836532592708981,-0.7268118272717101,-0.2830392170904589,-0.0007246394919204951,-1.44366581388445,-0.8836532592708981,-0.7535635130880228,-0.18893435789094612,-0.22030264429078372,-0.3771440762899717,-0.6013386816723597,-0.6954435408718727,-0.502617221889322,-1.040494691270086,-1.9188067104655389,-0.7581801136715478,-1.1032312640697615,-0.1261977850912709,0.5279196287217937,-0.6594586538885101,-1.0718629776699238,-0.193550958474471,-1.5110189872676503,0.2769733375230929,-0.9150215456707358,-0.6640752544720351,-0.9150215456707358,-0.9417732314870486,-0.5699703952725222,-0.47586553607300947,-0.40851236268980917,-0.4712489354894845,-0.16218267207463335,-0.44449724967317183,-0.6954435408718727,-0.7895484000713855,-0.3817606768734966,-0.44449724967317183,-0.7581801136715478,-0.3190241040738214,0.08876361912406727,-1.1032312640697615,-0.4712489354894845,-0.9150215456707358,-0.8209166864712232,-0.25167093069062135,-0.16218267207463335,-0.41312896327333415,-0.8209166864712232,-0.2562875312741462,-0.2562875312741462,-1.1032312640697615,-0.3144075034902964,-0.5699703952725222,-0.7895484000713855,-1.040494691270086,0.18286847832358022,-1.0091264048702484,-1.9501749968653768,-0.7268118272717101,-0.7895484000713855,-0.8522849728710605,-0.7268118272717101,-0.8522849728710605,-0.8163000858876982,-0.6954435408718727,-0.0680778128751206,0.12013190552390492,-0.9463898320705731,-0.47586553607300947,-0.7581801136715478,-0.5653537946889973,-0.7895484000713855,-0.5339855082891596,-0.5072338224728469,-0.2876558176739838,-1.040494691270086,-0.7849317994878605,-0.5967220810888348,0.8462190933036948,-0.03670952647528297,-0.3457757898901341,-1.6318755322834753,-0.15756607149110854,-0.9417732314870486,-0.0007246394919204951,-1.1345995504695987,-1.2287044096691118,2.7558040054297646,-1.0718629776699238,-0.9463898320705731,0.5279196287217937,-0.35039239047365894,-0.7268118272717101,-0.3817606768734966,-0.5339855082891596,-0.5653537946889973,-0.4712489354894845,-1.0672463770863987,-0.7221952266881853,-0.5072338224728469,-0.7895484000713855,-1.1973361232692743,0.05739533272422979,0.062011933307754764,-1.2287044096691118,-0.6954435408718727,-0.3817606768734966,-0.18893435789094612,-0.9463898320705731,-1.040494691270086,-0.7895484000713855,-0.9777581184704113,0.05739533272422979,-0.2876558176739838,-1.824701851266026,0.4070630837059682,-0.9777581184704113,-0.03209292589175813,-0.7581801136715478,0.37107819672260567,-1.824701851266026,-1.9188067104655389,-0.9777581184704113,-0.5386021088726846,-0.6013386816723597,-1.0358780906865614,-0.47586553607300947,-0.6327069680721974,-0.6954435408718727,-0.8790366586873734,0.6266410885048312,-0.5072338224728469,-1.0045098042867238,-0.7221952266881853,-1.3228092688686242,-0.44449724967317183,-0.502617221889322,0.03064364690791713,-1.0718629776699238,-1.1973361232692743,0.18286847832358022,0.2815899381066178,-0.03209292589175813,0.08876361912406727,-0.1261977850912709,-0.7268118272717101,-0.9463898320705731,-0.8476683722875358,-0.5339855082891596,-0.6013386816723597,-1.1032312640697615,0.5952728021049937,-0.8209166864712232,-0.3190241040738214,-0.7581801136715478,0.2815899381066178,-0.7581801136715478,-0.7849317994878605,-0.44449724967317183,-1.1345995504695987,-0.40851236268980917,-0.5386021088726846,-0.44449724967317183,0.12474850610742995,-0.4712489354894845,-0.9417732314870486,-0.2562875312741462,-0.5653537946889973,-0.40851236268980917,-0.22030264429078372,-0.6594586538885101,-0.03209292589175813,-0.6013386816723597,-0.6594586538885101,-1.3228092688686242,-0.0634612122915957,-0.9777581184704113,-1.3228092688686242,0.5592879151216315,-0.7849317994878605,-0.7895484000713855,-0.8163000858876982,-0.35039239047365894,-1.448282414467975,1.8546048719710515,-1.0358780906865614,-0.8522849728710605,-1.2600726960689494,-0.9150215456707358,-0.1261977850912709,-0.3457757898901341,-0.7895484000713855,-0.3190241040738214,-0.16218267207463335,-1.1032312640697615,-0.6013386816723597,-0.6640752544720351,-0.8209166864712232,-0.9104049450872111,-0.22491924487430856,-0.03670952647528297,-1.2287044096691118,-0.6640752544720351,-0.5967220810888348,-0.6954435408718727,-0.8163000858876982,-0.41312896327333415,-0.7268118272717101,-0.3144075034902964,4.297466639605332,-0.7535635130880228,-0.7535635130880228,-1.1973361232692743,-1.1659678368694368,-1.0718629776699238,-0.005341240075445474,-0.3817606768734966,-0.22030264429078372,-1.2287044096691118,-0.41312896327333415,-1.1659678368694368,-0.005341240075445474,-0.4712489354894845,-1.4796507008678124,-0.40851236268980917,-0.7221952266881853,-0.0007246394919204951,-1.354177555268462,-0.9777581184704113,-0.7581801136715478,0.2502216517067803,-0.3144075034902964,-0.8209166864712232,0.658009374904669,-0.35039239047365894,-0.25167093069062135,-0.8209166864712232,-0.7581801136715478,0.4384313701058058,-0.8790366586873734,-0.40851236268980917,-0.8522849728710605,-1.1973361232692743,-0.502617221889322,-0.5967220810888348,-0.2876558176739838,-0.8836532592708981,-0.5339855082891596,-0.7535635130880228,-0.9104049450872111,-0.5699703952725222,-0.6594586538885101,-0.9777581184704113,-0.8836532592708981,0.03064364690791713,-0.9777581184704113,-0.2876558176739838,-0.6908269402883477,-0.8522849728710605,-0.8163000858876982,-0.5967220810888348,0.12013190552390492,-1.1973361232692743,-0.3457757898901341,-1.1973361232692743,-0.47586553607300947,0.18286847832358022,4.888847480618721,-1.0718629776699238,-1.040494691270086,1.8499882713875269,-1.1659678368694368,-0.7221952266881853,-1.5377706730839629,-1.0091264048702484,-0.16218267207463335,-1.1613512362859122,0.658009374904669,-1.3855458416682997,-0.16218267207463335,-1.2287044096691118,-0.7221952266881853,-0.7268118272717101,-0.15756607149110854,-0.6954435408718727,-0.5339855082891596,0.2142367647234176,-0.5699703952725222,-0.9417732314870486,-0.6013386816723597,0.2188373785959712,0.18286847832358022,-1.0718629776699238,-0.8476683722875358,-0.8836532592708981,-1.0672463770863987,-0.7581801136715478,-0.8522849728710605,-0.5699703952725222,1.8499882713875269,1.724515125788176,-0.973141517886886,-1.3855458416682997,-0.8163000858876982,-0.6013386816723597,-0.3144075034902964,-1.3228092688686242,-1.1345995504695987,-1.1345995504695987,2.199656022369265,-0.4712489354894845,-1.3228092688686242,-0.47586553607300947,-1.0358780906865614,-1.0718629776699238,-0.193550958474471,-0.4712489354894845,-0.8209166864712232,-0.25167093069062135,1.5095537215728378,-0.5653537946889973,-1.1613512362859122,-0.5699703952725222,-0.4398806490896468,3.9791671750234308,-0.4398806490896468,-1.1973361232692743,-0.5072338224728469,-0.8476683722875358,-0.3457757898901341,-0.6327069680721974,-1.1659678368694368,-1.2914409824687867,-0.9463898320705731,-0.8836532592708981,-1.3855458416682997,0.05739533272422979,-0.6327069680721974,-1.0091264048702484,-0.09944609927495818,0.31295822450645544,0.4070630837059682,-0.5386021088726846,-0.5653537946889973,-1.6632438186833132,0.5639045157051561,-1.1973361232692743,-0.3144075034902964,0.3756947973061306,-0.6327069680721974,-0.8790366586873734,-0.9150215456707358,-0.0680778128751206,0.12474850610742995,-0.47586553607300947,-0.09482949869143334,0.5279196287217937,2.1009345625862275,-1.1659678368694368,-0.5699703952725222,-1.040494691270086,-0.44449724967317183,-0.6954435408718727,-0.8790366586873734,-1.0045098042867238,-0.502617221889322,-0.6594586538885101,0.15611679250726754,-0.6908269402883477,-0.1308143856747958,-0.193550958474471,-0.5699703952725222,-0.4712489354894845,0.15150019192374253,4.4183231846211575,2.1682877359694275,2.0741828767699144,0.02602704632439215,-0.2830392170904589,-0.6954435408718727,-0.4398806490896468,-0.9150215456707358,-0.40851236268980917,-0.7535635130880228,-0.6327069680721974,-0.3771440762899717,-0.8476683722875358,-0.25167093069062135,-1.3181926682850995,-0.5653537946889973,-0.7581801136715478,-0.6327069680721974,-0.6327069680721974,0.18748507890710517,-0.03209292589175813,-0.1261977850912709,0.18748507890710517,-0.5072338224728469,-1.0045098042867238,-0.18893435789094612,-1.6318755322834753,2.5447071727674784,-0.7268118272717101,4.8934640812022465,1.9127248441872016,0.6579933881936976,1.8813565577873643,-0.6908269402883477,4.51242804382067,1.3840805759734873,1.2899757167739745,-0.9104049450872111,2.383249140184766,1.1912542569909368,1.6663951535720258,1.9754614169868765,0.4070470969949969,1.3213440031738124,0.8462031065927232,-0.9463898320705731,-0.193550958474471,1.8546048719710515,3.826942343607769,0.9403079657922359,1.6350268671721884,-0.9463898320705731,0.02602704632439215,0.08876361912406727,0.05739533272422979,-0.6013386816723597,0.3756947973061306,-0.9417732314870486,-0.5967220810888348,-0.6594586538885101,0.5057685567780346,0.5011679429054811,-0.2830392170904589,-1.2287044096691118,0.12013190552390492,-1.6318755322834753,-0.9777581184704113,0.08876361912406727,4.485676358004358,-0.3771440762899717,1.3840805759734873,1.1958708575744619,1.2899757167739745,-1.1032312640697615,-0.8476683722875358,0.062011933307754764,0.8148348201928857,-1.1659678368694368,-0.8790366586873734,-0.6954435408718727,-0.5699703952725222,-0.5339855082891596,0.12013190552390492,-0.44449724967317183,-0.2830392170904589,-0.2562875312741462,-0.5072338224728469,4.826110907819047,3.7909574566244064,0.05739533272422979,0.4697836697946722,-0.7581801136715478,-0.6908269402883477,-0.6908269402883477,-0.6954435408718727,-1.1032312640697615,-0.8476683722875358,-0.7581801136715478,-0.7535635130880228,1.7291317263717008,-0.4398806490896468,0.9403079657922359,1.007661139175436,0.8821879935760856,-1.0091264048702484,-0.7221952266881853,-1.0718629776699238,1.791868299171376,-0.6954435408718727,1.5363054073891504,-1.2914409824687867,-1.1032312640697615,-0.5653537946889973,-0.973141517886886,0.3756947973061306,1.6977634399718635,1.7291317263717008,0.5011519561945095,1.6663951535720258,2.9080448235564,1.2539908297906122,1.4422005481896378,1.5095537215728378,1.8186199849876887,1.1645025711746244,1.0657811113915865,1.791868299171376,1.4781854351730004,-1.1345995504695987,1.101765998374949,2.1055511631697517,4.481059757420833,0.15150019192374253,1.8546048719710515,-0.7535635130880228,-0.6640752544720351,-0.7895484000713855,-0.6640752544720351,-0.973141517886886,-0.15756607149110854,-0.7895484000713855,-1.040494691270086,-0.6954435408718727,-0.22030264429078372,-0.9104049450872111,0.31295822450645544,-0.6280903674886725,-0.6594586538885101,-1.1659678368694368,-0.5653537946889973,-0.9463898320705731,-0.5699703952725222,0.31295822450645544,-1.1345995504695987,-0.7221952266881853,1.4154488623733248,-0.8209166864712232,-0.5967220810888348,-0.1308143856747958,-0.41312896327333415,-0.6013386816723597,1.1958708575744619,4.297466639605332,1.8546048719710515,-0.5967220810888348,1.9487097311705637,-0.8836532592708981,1.2226225433907747,-1.1032312640697615,-0.9104049450872111,-0.0007246394919204951,-0.22491924487430856,-0.7849317994878605,2.450602313567966,-0.25167093069062135,-0.6640752544720351,-0.2830392170904589,-0.7268118272717101,-1.2287044096691118,-0.47586553607300947,-0.502617221889322,-0.5967220810888348,2.9707813963560747,-1.1345995504695987,-1.040494691270086,-1.2600726960689494,-0.6280903674886725,-0.6594586538885101,0.2188533653069426,-0.0007246394919204951,-0.7895484000713855,-1.4750341002842877,0.31295822450645544,-1.0718629776699238,-0.193550958474471,-0.6280903674886725,-0.6327069680721974,-0.8522849728710605,-0.5386021088726846,-0.35039239047365894,-0.5699703952725222,-1.3228092688686242,-0.41312896327333415,-1.0718629776699238,0.9449245663757612,3.826942343607769,-0.35039239047365894,-0.3771440762899717,-1.040494691270086,-0.3144075034902964,0.5011679429054811,-0.0007246394919204951,0.08876361912406727,-1.1299829498860743,-0.4398806490896468,-0.40851236268980917,-1.0718629776699238,-0.7849317994878605,-1.4122975274846123,-1.040494691270086,-0.3771440762899717,-0.40851236268980917,-0.7535635130880228,-0.40851236268980917,-0.41312896327333415,0.9449245663757612,1.6304102665886633,-1.5110189872676503,-0.5386021088726846,-1.9501749968653768,1.0030445385919116,2.2937608815687778,2.01144630397024,1.4781854351730004,4.9515840534183955,-0.3817606768734966,0.563888528994185,4.6738860764033845,-1.5423872736674875,-0.8476683722875358,0.09338021970759232,0.18748507890710517,4.548412930804033,-0.193550958474471,-0.6594586538885101,-0.9463898320705731,-0.3771440762899717,-0.9150215456707358,0.09338021970759232,0.09338021970759232,0.7161293471208193,-1.6051238464671627,-0.9104049450872111,-1.5423872736674875,0.810234206320332,-0.2830392170904589,-0.8522849728710605,-0.5339855082891596,-0.22491924487430856,-0.09944609927495818,-0.7535635130880228,0.3443265109062931,-0.0634612122915957,-0.9777581184704113,-1.1299829498860743,-0.40851236268980917,-0.6640752544720351,-0.7535635130880228,-0.9104049450872111,-0.5653537946889973,0.12474850610742995,-1.1973361232692743,-0.5386021088726846,-0.40851236268980917,0.2502056649958088,-0.40851236268980917,-0.9777581184704113,2.325129167968615,1.5095537215728378,-0.9463898320705731,-0.5386021088726846,-0.5072338224728469,1.4154488623733248,-0.7581801136715478,-0.7535635130880228,-0.5072338224728469,-0.9150215456707358,-0.7849317994878605,-0.9777581184704113,-0.9104049450872111,0.31295822450645544,-0.09944609927495818,-0.8209166864712232,-0.6013386816723597,-0.41312896327333415,-0.7268118272717101,-0.6013386816723597,-0.7849317994878605,-1.2287044096691118,-0.6908269402883477,-0.973141517886886,-1.5110189872676503,-0.09944609927495818,-0.9150215456707358,-0.8836532592708981,-0.4712489354894845,-1.040494691270086,0.03064364690791713,-0.41312896327333415,-0.3817606768734966,-0.7221952266881853,-0.0634612122915957,-0.09482949869143334,0.09338021970759232,-0.5339855082891596,-0.40851236268980917,-0.8836532592708981,0.05739533272422979,-0.3771440762899717,-1.1973361232692743,-1.1659678368694368,-1.1299829498860743,1.6036585807723505,0.4070630837059682,-0.6013386816723597,-1.0718629776699238,0.2502216517067803,-0.40851236268980917,-0.502617221889322,-0.502617221889322,-0.22491924487430856,-1.040494691270086,-1.0091264048702484,-0.8836532592708981,-1.040494691270086,-0.6280903674886725,-0.9777581184704113,0.2188373785959712,-0.9777581184704113,-0.6013386816723597,1.4154488623733248,-1.5110189872676503,-0.8163000858876982,-1.2600726960689494,-0.4712489354894845,0.6220244879213066,0.5592879151216315,-0.2876558176739838,-0.6013386816723597,0.5325202425943473,0.8194514207764104,-0.6594586538885101,-1.1659678368694368,0.2188533653069426,1.724515125788176,-0.22030264429078372,4.041903747823106,-0.7221952266881853,-1.2914409824687867,1.28535911619045,-1.1032312640697615,1.2226225433907747,0.08876361912406727,-0.8836532592708981,-0.7849317994878605,0.7207299609933728,-1.1973361232692743,-0.973141517886886,-0.16218267207463335,2.0741828767699144,-1.5377706730839629,-0.9150215456707358,-0.7221952266881853,-0.0007246394919204951,-1.6051238464671627,-0.41312896327333415,1.4781854351730004,1.8859731583708892,-0.6280903674886725,0.2188533653069426,-0.5967220810888348,-0.5386021088726846,-0.5386021088726846,1.9800780175704016,-0.7895484000713855,-1.040494691270086,-0.6327069680721974,-1.6051238464671627,1.8546048719710515,1.2586074303741372,-1.040494691270086,-0.9463898320705731,-1.7305969920665136,-0.09944609927495818,-0.15756607149110854,0.12474850610742995,-0.7895484000713855,1.159885970591099,-0.5339855082891596,-0.9463898320705731,-0.16218267207463335,0.6579933881936976,-0.5386021088726846,-0.9777581184704113,-0.9463898320705731,-1.1032312640697615,-0.9777581184704113,-0.25167093069062135,4.485676358004358,-0.8163000858876982,0.09338021970759232,-1.8560701376658635,0.8416024927201698,-1.0718629776699238,-0.5653537946889973,-0.0680778128751206,-1.040494691270086,0.15150019192374253,-0.5967220810888348,1.3840805759734873,-0.5653537946889973,-0.18893435789094612,1.7872516985878513,1.4735688345894753,4.575164616620347,0.631241702377385,1.6663951535720258,1.6350268671721884,0.9762928527755985,1.0703977119751114,4.3602032124050085,0.7567148479767354,0.9089396793923984,2.0741828767699144,1.4154488623733248,1.101765998374949,1.6617785529885007,0.8148348201928857,0.3756947973061306,4.956200654001922,0.9716762521920732,1.3840805759734873,-0.6640752544720351,-0.3144075034902964,-0.4398806490896468,0.062011933307754764,-0.8522849728710605,-0.25167093069062135,-0.22030264429078372,-0.9150215456707358,-0.005341240075445474,0.15611679250726754,-0.7268118272717101,-1.9501749968653768,-1.8560701376658635,-1.1032312640697615,-0.8209166864712232,-1.4122975274846123,-0.8209166864712232,-1.1345995504695987,-1.040494691270086,1.1645025711746244,-0.2562875312741462,-0.0634612122915957,1.2586074303741372,1.760500012771538,0.5371368431778722,1.4735688345894753,4.297466639605332,1.2899757167739745,1.348095688990125,4.6065329030201845,0.9135562799759236,1.5409220079726753,1.5676736937889875,1.4422005481896378,2.4819705999678034,2.1682877359694275,1.4154488623733248,1.0344128249917488,1.6036585807723505,2.0428145903700763,0.8821879935760856,3.1054717564115037,-1.4169141280681377,-1.4169141280681377,-0.5386021088726846,-0.7895484000713855,0.09338021970759232,-0.7268118272717101,-1.2600726960689494,-1.1973361232692743,-1.1973361232692743,-1.5691389594838,1.724515125788176,1.5676736937889875,1.8859731583708892,1.348095688990125,1.3840805759734873,1.6036585807723505,1.3213440031738124,1.348095688990125,1.5409220079726753,1.823236585571214,1.101765998374949,2.163671135385902,1.2226225433907747,4.982952339818233,-1.1345995504695987,-0.40851236268980917,-0.8163000858876982,-0.7268118272717101,-0.4398806490896468,-1.44366581388445,-0.47586553607300947,0.2502056649958088,-0.1261977850912709,-0.6013386816723597,0.02602704632439215,0.5325362293053185,-0.7581801136715478,-0.6280903674886725,0.7834825205040195,-0.7268118272717101,-0.5967220810888348,0.24560505112325529,0.3756947973061306,-0.6013386816723597,-0.3457757898901341,-1.4750341002842877,-0.2876558176739838,-0.3190241040738214,-0.09944609927495818,-0.6640752544720351,0.12474850610742995,0.2815899381066178,-0.6594586538885101,-1.2287044096691118,-0.3190241040738214,-0.7895484000713855,-0.22491924487430856,0.02602704632439215,-0.2830392170904589,0.09338021970759232,-0.2830392170904589,-0.09944609927495818,-0.7849317994878605,-1.5423872736674875,-1.448282414467975,0.4384313701058058,-0.4712489354894845,-0.3771440762899717,-0.9777581184704113,-0.1261977850912709,-0.44449724967317183,-0.3190241040738214,-0.2562875312741462,-0.6013386816723597,0.18748507890710517,-0.41312896327333415,-0.9150215456707358,-1.040494691270086,0.4384313701058058,-1.1345995504695987,-0.6327069680721974,-0.6954435408718727,-0.3817606768734966,-0.5386021088726846,-0.7849317994878605,-1.8874384240657007,0.4070630837059682,-1.1659678368694368,-0.44449724967317183,-0.973141517886886,-0.7895484000713855,0.18748507890710517,-1.040494691270086,-0.3457757898901341,0.5952728021049937,-0.03670952647528297,-0.7268118272717101,-1.5737555600673252,-0.7849317994878605,-0.9463898320705731,-1.1973361232692743,0.08876361912406727,-0.5386021088726846,0.3756947973061306,-1.354177555268462,-0.5339855082891596,-0.1308143856747958,-0.7221952266881853,-0.6013386816723597,-0.6908269402883477,-1.1973361232692743,0.31295822450645544,-0.2830392170904589,-0.47586553607300947,-0.4712489354894845,-0.16218267207463335,0.18286847832358022,-0.6908269402883477,-0.7268118272717101,-0.8790366586873734,0.7161293471208193,0.03064364690791713,-0.8163000858876982,-1.1973361232692743,-0.40851236268980917,0.2188533653069426,-0.9150215456707358,-0.6013386816723597,-0.6013386816723597,-0.0680778128751206,-0.0680778128751206,-1.1973361232692743,-0.1261977850912709,-1.1345995504695987,-0.7849317994878605,-0.6013386816723597,-1.3809292410847749,-0.6280903674886725,-0.2876558176739838,1.4781854351730004,-0.25167093069062135,1.3840805759734873,-0.8209166864712232,-0.9463898320705731,-0.005341240075445474,-0.3190241040738214,-0.7895484000713855,-0.973141517886886,-0.7268118272717101,-0.7581801136715478,-0.6280903674886725,-0.6640752544720351,-0.7895484000713855,-1.6318755322834753,-1.9188067104655389,-0.41312896327333415,-0.2830392170904589,-0.44449724967317183,-0.41312896327333415,-0.4398806490896468,-0.973141517886886,-0.40851236268980917,0.5011679429054811,-0.41312896327333415,-1.2287044096691118,-0.8836532592708981,-0.8209166864712232,-0.7268118272717101,-0.35039239047365894,-0.6327069680721974,-0.9777581184704113,-0.8209166864712232,-0.9104049450872111,-0.7268118272717101,-0.6327069680721974,-0.3771440762899717,-0.6327069680721974,-1.2287044096691118,-0.8836532592708981,0.4697996565056434,-1.4796507008678124,0.4697996565056434,-0.5699703952725222,-1.0358780906865614,-0.9150215456707358,-0.5967220810888348,-0.3817606768734966,-0.7895484000713855,-1.2287044096691118,-0.5339855082891596,-0.1308143856747958,-1.1345995504695987,-0.9463898320705731,-1.1345995504695987,-0.44449724967317183,-0.7268118272717101,0.24560505112325529,-0.4712489354894845,-1.2600726960689494,-0.5699703952725222,0.7207459477043442,-0.7849317994878605,-0.9150215456707358,-0.8476683722875358,-1.1973361232692743,0.4384313701058058,-0.7895484000713855,-0.8522849728710605,-0.7221952266881853,-0.7268118272717101,-0.3190241040738214,-0.7268118272717101,-1.44366581388445,1.0030445385919116,-0.22491924487430856,-0.193550958474471,-0.9463898320705731,-0.40851236268980917,-0.005341240075445474,3.9791671750234308,-0.9463898320705731,-0.5386021088726846,4.517044644404196,-1.2287044096691118,-0.5339855082891596,-1.3855458416682997,0.09338021970759232,-1.2600726960689494,-1.1032312640697615,-1.040494691270086,-0.22030264429078372,0.49655134232195614,-0.1308143856747958,-0.9150215456707358,-0.4712489354894845,-0.8476683722875358,-1.600507245883638,-0.40851236268980917,0.08876361912406727,0.02602704632439215,-0.4712489354894845,-0.1308143856747958,-0.4712489354894845,-0.8522849728710605,-1.1659678368694368,-1.2914409824687867,-1.040494691270086,-0.6280903674886725,-0.4712489354894845,-0.8163000858876982,-0.25167093069062135,1.7291317263717008,0.2502216517067803,-0.9777581184704113,-0.6013386816723597,-1.040494691270086,-0.7581801136715478,0.18286847832358022,-1.040494691270086,0.7520982473932102,-0.6280903674886725,-1.0091264048702484,-1.5064023866841254,-0.6594586538885101,-0.5339855082891596,-0.6640752544720351,-1.2600726960689494,0.12474850610742995,-1.2600726960689494,-1.0718629776699238,-0.502617221889322,-1.040494691270086,-1.0718629776699238,-1.5737555600673252,-0.4398806490896468,-0.8790366586873734,-0.6327069680721974,-0.22491924487430856,-0.35039239047365894,-0.6280903674886725,-0.6280903674886725,-0.5967220810888348,-0.40851236268980917,-0.7895484000713855,-1.0718629776699238,-0.5339855082891596,-0.7895484000713855,-1.354177555268462,-1.2600726960689494,-0.9150215456707358,-1.1345995504695987,-1.1032312640697615,-0.9463898320705731,-0.5967220810888348,-0.7581801136715478,-0.25167093069062135,-0.8209166864712232,-0.03209292589175813,-1.1299829498860743,4.324218325421645,-0.4712489354894845,-0.3144075034902964,-0.5699703952725222,-0.7895484000713855,-1.0091264048702484,-0.8836532592708981,-0.5653537946889973,-1.2287044096691118,-1.1032312640697615,-0.9150215456707358,-1.0091264048702484,1.599041980188826,-0.9417732314870486,-0.3457757898901341,-0.0007246394919204951,0.12474850610742995,-0.2830392170904589,-0.47586553607300947,-0.1261977850912709,-0.6594586538885101,0.2142367647234176,-0.6327069680721974,-1.0718629776699238,-0.6013386816723597,0.43381476952228093,-0.9150215456707358,-0.5653537946889973,-0.2562875312741462,-0.4712489354894845,4.857479194218884,0.5325202425943473,4.297466639605332,0.062011933307754764,-0.22030264429078372,-0.6280903674886725,-1.0358780906865614,-0.7535635130880228,-1.354177555268462,-1.0045098042867238,-0.9150215456707358,-0.6908269402883477,-0.09482949869143334,-1.1659678368694368,-0.16218267207463335,-0.16218267207463335,-0.5699703952725222,-1.5064023866841254,-0.502617221889322,-1.3855458416682997,-0.8163000858876982,-0.1261977850912709,-0.6013386816723597,3.7328374844082557,-0.9463898320705731,-0.6327069680721974,0.09338021970759232,-1.1973361232692743,-0.6954435408718727,-0.9777581184704113,0.3756947973061306,-1.6318755322834753,-0.5653537946889973,-0.22030264429078372,-0.9777581184704113,1.4154488623733248,2.0068297033867144,-0.18893435789094612,-1.0091264048702484,0.15610080579629593,-0.5967220810888348,-0.8522849728710605,-0.9777581184704113,0.783466533793048,0.8821879935760856,1.0657811113915865,0.9135562799759236,0.9135562799759236,4.198745179822295,1.5409220079726753,4.543796330220507,1.097149397791424,1.2899757167739745,1.1958708575744619,4.611149503603707,1.2272391439742991,4.799359222002734,3.9791671750234308,0.2769733375230929,0.7253465615768976,1.8499882713875269,1.2899757167739745,1.8499882713875269,1.1331342847747865,0.850819707176248,2.9080448235564,1.2586074303741372,4.422939785204683,3.696852597424894,1.3213440031738124,0.877571392992561,1.724515125788176,1.8186199849876887,1.3794639753899625,-0.35039239047365894,1.4468171487731627,0.6626099887772225,2.13691944956959,3.540011165425706,3.9164306022237563,4.4183231846211575,4.13600860702262,-0.0007246394919204951,0.25482226557933363,1.2539908297906122,1.0390294255752737,-0.8522849728710605,4.642517790003547,1.6350268671721884,1.4422005481896378,-1.1299829498860743,-0.502617221889322,-0.6280903674886725,-1.6992287056666755,-0.6594586538885101,-0.6594586538885101,-0.7895484000713855,-1.8560701376658635,-1.1973361232692743,-0.8790366586873734,-1.5110189872676503,-0.2830392170904589,-0.25167093069062135,0.3443265109062931,-1.1659678368694368,0.5639045157051561,-1.1973361232692743,-0.1261977850912709,-1.3228092688686242,-0.25167093069062135,-0.25167093069062135,-0.7581801136715478,0.4697996565056434,-0.7221952266881853,-0.15756607149110854,-1.4169141280681377,-0.09482949869143334,-1.8560701376658635,-0.1261977850912709,0.658009374904669,-0.5072338224728469,-0.3457757898901341,-0.09944609927495818,-0.0634612122915957,-0.6594586538885101,-1.2600726960689494,0.2142367647234176,-1.7305969920665136,-0.3190241040738214,-0.44449724967317183,-1.1659678368694368,0.2815899381066178,0.18286847832358022,-1.5423872736674875,-0.3457757898901341,-0.2830392170904589,-1.3181926682850995,-0.7268118272717101,-1.0091264048702484,-0.8836532592708981,-0.973141517886886,-1.600507245883638,0.03064364690791713,-0.15756607149110854,0.18286847832358022,-0.3771440762899717,-0.3817606768734966,-0.0634612122915957,-0.15756607149110854,1.159885970591099,-0.6908269402883477,-0.6908269402883477,0.5952728021049937,-1.1659678368694368,1.2899757167739745,1.1331342847747865,-1.5064023866841254,1.3794639753899625,0.563888528994185,-1.0672463770863987,-0.25167093069062135,-0.15756607149110854,-0.6640752544720351,0.12474850610742995,-0.41312896327333415,-0.3817606768734966,-0.22030264429078372,-0.3457757898901341,-0.09482949869143334,-1.2600726960689494,0.24560505112325529,-0.005341240075445474,-0.7581801136715478,0.31295822450645544,1.28535911619045,-0.3457757898901341,-0.5339855082891596,-0.7221952266881853,-0.22491924487430856,-0.22030264429078372,-0.8522849728710605,-0.25167093069062135,-0.6280903674886725,-0.2562875312741462,-0.2562875312741462,-0.6327069680721974,-0.1308143856747958,-0.7849317994878605,-0.5072338224728469,-0.3457757898901341,-0.8209166864712232,-0.8836532592708981,-0.1261977850912709,0.9089396793923984,-1.3228092688686242,-0.8522849728710605,-0.8522849728710605,0.062011933307754764,-0.47586553607300947,0.18748507890710517,-0.4712489354894845,-0.18893435789094612,-0.8209166864712232,-0.9777581184704113,0.3397099103227681,-1.1345995504695987,-1.1973361232692743,-1.1345995504695987,-0.5386021088726846,-0.5072338224728469,-0.3457757898901341,-1.0718629776699238,0.03064364690791713,-0.6280903674886725,-0.8163000858876982,0.37107819672260567,-1.1613512362859122,-0.6954435408718727,-0.6908269402883477,-0.8163000858876982,-0.6280903674886725,0.9403239525032078,-0.7895484000713855,-0.2876558176739838,0.18748507890710517,-1.354177555268462,-1.1927195226857494,0.03064364690791713,-1.1973361232692743,-1.2914409824687867,-1.3855458416682997,-0.16218267207463335,-0.4398806490896468,-0.44449724967317183,-0.6954435408718727,0.658009374904669,-0.6954435408718727,-0.7895484000713855,-1.3228092688686242,0.03064364690791713,-1.600507245883638,-1.286824381885262,-0.6908269402883477,-0.25167093069062135,-0.6327069680721974,-0.7581801136715478,-0.47586553607300947,-0.22030264429078372,-1.1659678368694368,0.3443265109062931,-0.6013386816723597,0.37107819672260567,-0.0634612122915957,-1.1032312640697615,-0.8836532592708981,-0.18893435789094612,-0.4712489354894845,-0.6594586538885101,0.7474976335206571,-1.0672463770863987,-1.0091264048702484,-0.3771440762899717,-0.3144075034902964,-0.7895484000713855,-1.1973361232692743,-1.6364921328670003,-0.16218267207463335,0.7834825205040195,1.4735688345894753,0.3443265109062931,0.850819707176248,-1.040494691270086,1.3794639753899625,0.8462031065927232,2.163671135385902,-1.1973361232692743,-1.3228092688686242,-1.1032312640697615,0.2815899381066178,5.139793771817423,-0.032108912602729564,-0.4398806490896468,-0.44449724967317183,-0.3190241040738214,1.724515125788176,1.2539908297906122,-1.5110189872676503,0.09798083358014568,0.03064364690791713,-1.0986146634862366,0.62662510179386,-1.1345995504695987,-1.1973361232692743,1.2586074303741372,-1.040494691270086,-0.1261977850912709,0.12013190552390492,-0.09482949869143334,1.5049371209893125,1.5676736937889875,0.6939782751770601,0.8194514207764104,0.9716762521920732,4.0778886348064685,1.3213440031738124,4.20336178040582,4.794742621419209,0.6626099887772225,-0.2876558176739838,4.2660983532054955,-0.40851236268980917,2.199656022369265,1.760500012771538,1.5409220079726753,1.6036585807723505,-0.0007246394919204951,4.140625207606145,1.2539908297906122,0.9135562799759236,1.1958708575744619,0.631241702377385,1.760500012771538,1.007661139175436,1.5409220079726753,2.01144630397024,1.4781854351730004,0.6893616745935353,1.1645025711746244,4.637901189420021,1.599041980188826,0.631241702377385,-0.35039239047365894,1.823236585571214,2.4192340271681285,3.038134569739275,2.0068297033867144,2.2937608815687778,-0.4398806490896468,-0.8209166864712232,5.332620090799972,-0.09482949869143334,0.2502216517067803,-0.5699703952725222,-0.502617221889322,-1.0358780906865614,-1.3228092688686242,-0.0680778128751206,-0.5653537946889973,-1.1032312640697615,0.814850806903857,-0.9150215456707358,-0.9104049450872111,-0.193550958474471,-0.9463898320705731,-0.03209292589175813,0.2815899381066178,-0.0634612122915957,0.05739533272422979,-1.5737555600673252,0.03064364690791713,0.18286847832358022,-0.22491924487430856,-0.7849317994878605,-0.6280903674886725,-0.3771440762899717,-0.9777581184704113,-1.1345995504695987,-0.3144075034902964,-0.22030264429078372,-0.5339855082891596,0.5325362293053185,-0.193550958474471,-1.1973361232692743,-0.6640752544720351,-0.7849317994878605,-0.09482949869143334,-1.0672463770863987,0.09338021970759232,-0.22030264429078372,-0.193550958474471,-0.47586553607300947,0.46518305592211834,-0.3457757898901341,-0.9104049450872111,-0.1261977850912709,-0.3771440762899717,-0.3144075034902964,-0.22030264429078372,-0.5072338224728469,-0.6908269402883477,-0.6327069680721974,-0.9150215456707358,-0.8836532592708981,-0.3190241040738214,-1.1345995504695987,-1.6364921328670003,-0.8790366586873734,-0.9104049450872111,-0.25167093069062135,-0.15756607149110854,-0.1261977850912709,-1.0091264048702484,-1.2287044096691118,-0.9150215456707358,0.15611679250726754,-0.3817606768734966,-0.193550958474471,-0.7221952266881853,-0.7535635130880228,-0.3144075034902964,-0.9417732314870486,-0.4398806490896468,-1.1973361232692743,-0.8209166864712232,0.5639045157051561,0.5325362293053185,-1.1659678368694368,-0.9417732314870486,-0.9463898320705731,-1.7619652784663509,0.24560505112325529,0.3443265109062931,-0.22491924487430856,-0.3817606768734966,0.15611679250726754,-0.35039239047365894,-0.47586553607300947,-0.9150215456707358,-0.8790366586873734,-0.7268118272717101,-0.0007246394919204951,0.5952728021049937,-0.5967220810888348,-0.6327069680721974,0.09338021970759232,-0.6954435408718727,-0.2562875312741462,-1.5691389594838,-0.4398806490896468,0.3756788105951593,-0.7581801136715478,-0.22491924487430856,-0.4398806490896468,-0.7221952266881853,0.18748507890710517,-1.5737555600673252,-0.7268118272717101,0.3083416239229306,-0.1261977850912709,-1.6992287056666755,0.12474850610742995,-0.4398806490896468,0.2815899381066178,0.15611679250726754,0.12474850610742995,-0.5653537946889973,-0.3144075034902964,-0.3144075034902964,-0.8476683722875358,-0.41312896327333415,0.49655134232195614,-0.6594586538885101,-0.6013386816723597,-0.8476683722875358,-0.7895484000713855,-0.2876558176739838,-0.6594586538885101,-1.600507245883638,-0.9150215456707358,-0.4712489354894845,-0.18893435789094612,0.2815899381066178,-0.6327069680721974,-0.6327069680721974,0.2815899381066178,0.37107819672260567,-0.8836532592708981,0.2188533653069426,-0.15756607149110854,-0.44449724967317183,-0.22491924487430856,-1.040494691270086,-0.0680778128751206,-1.040494691270086,0.3756947973061306,2.0741828767699144,1.823236585571214,1.5095537215728378,-0.2876558176739838,1.4154488623733248,-0.7581801136715478,1.7291317263717008,-1.5423872736674875,-1.2600726960689494,-1.1032312640697615,1.3794639753899625,-1.1659678368694368,0.8775873797035322,0.4070630837059682,-0.4398806490896468,-1.1659678368694368,-0.3190241040738214,-0.6327069680721974,0.6893776613045064,-0.2562875312741462,-0.3817606768734966,-0.6594586538885101,-0.35039239047365894,-0.9150215456707358,3.6073643388089054,-1.0718629776699238,-0.8163000858876982,-0.8790366586873734,-0.9417732314870486,1.8859731583708892,-0.6954435408718727,-0.8836532592708981,-0.3771440762899717,-0.3190241040738214,-1.0045098042867238,1.101765998374949,0.5906562015214688,-1.2914409824687867,-1.2600726960689494,-0.3817606768734966,-0.09944609927495818,-1.0091264048702484,-1.2600726960689494,-0.40851236268980917,-0.2876558176739838,0.02602704632439215,-1.2600726960689494,-0.3457757898901341,-0.5653537946889973,-0.502617221889322,-0.9777581184704113,-0.3771440762899717,-1.4796507008678124,0.658009374904669,-0.22491924487430856,-0.005341240075445474,-1.2287044096691118,-1.1345995504695987,-0.03670952647528297,2.2577759945854154,-1.6051238464671627,-0.9104049450872111,-0.3457757898901341,1.0657811113915865,-0.6640752544720351,-1.3809292410847749,0.3756947973061306,-0.15756607149110854,-1.0045098042867238,-1.0358780906865614,-1.3228092688686242,-1.0986146634862366,-0.5072338224728469,-0.44449724967317183,-0.41312896327333415,1.2539908297906122,-1.0672463770863987,-0.5339855082891596,-0.6908269402883477,-0.7581801136715478,-0.9463898320705731,-0.3817606768734966,-0.3457757898901341,-0.35039239047365894,-0.3817606768734966,-0.2876558176739838,0.02602704632439215,-0.0007246394919204951,4.140625207606145,4.736622649203059,0.062011933307754764,1.0657811113915865,0.062011933307754764,-1.2600726960689494,1.2539908297906122,-0.21570203041823025,0.4070470969949969,1.9487097311705637,-0.47586553607300947,-0.2830392170904589,0.12474850610742995,2.2577759945854154,3.0113668972119907,0.6893616745935353,-1.7305969920665136,-0.6640752544720351,-0.6954435408718727,0.5325362293053185,0.2188533653069426,-0.8790366586873734,-1.1032312640697615,-0.502617221889322,-0.09482949869143334,-0.9150215456707358,-0.973141517886886,-0.6327069680721974,-0.22030264429078372,-0.4712489354894845,-0.8476683722875358,-1.1973361232692743,-0.5653537946889973,-0.8836532592708981,-0.1308143856747958,-0.9463898320705731,-0.5653537946889973,-0.09482949869143334,-1.1659678368694368,-1.0718629776699238,-1.5691389594838,-0.8836532592708981,-0.7895484000713855,-0.4398806490896468,-1.1613512362859122,-1.1299829498860743,-0.6013386816723597,0.9135562799759236,-0.7581801136715478,-1.0091264048702484,-0.973141517886886,-0.3817606768734966,-0.4398806490896468,-0.40851236268980917,-0.25167093069062135,-0.7849317994878605,-0.9104049450872111,-0.1261977850912709,-0.5072338224728469,-1.0672463770863987,-0.0634612122915957,0.4697996565056434,-0.8476683722875358,-0.3771440762899717,-0.9463898320705731,4.167376893422458,-1.1973361232692743,1.8813565577873643,-0.6954435408718727,-0.8209166864712232,-0.6640752544720351,-0.7535635130880228,-0.22030264429078372,1.9173414447707267,-0.6640752544720351,-0.3457757898901341,-0.6908269402883477,0.9135562799759236,1.5095537215728378,-0.7849317994878605,0.3443265109062931,0.09338021970759232,-0.7849317994878605,1.2226225433907747,-0.7221952266881853,-1.6051238464671627,-1.1973361232692743,0.12474850610742995,-0.8522849728710605,-0.5967220810888348,-1.1345995504695987,-0.0007246394919204951,-0.03209292589175813,4.13600860702262,2.3878657407682904,1.2539908297906122,0.4384153833948345,-0.3817606768734966,4.20336178040582,4.862095794802409,4.98756894040176,3.8896789164074446,4.4183231846211575,3.983783775606958,4.20336178040582,1.1331342847747865,1.1331342847747865,2.6074437455671537,1.4154488623733248,1.5676736937889875,0.2188373785959712,5.23851523160046,2.1055511631697517,0.2502056649958088,1.5676736937889875,0.8194514207764104,-0.3190241040738214,4.548412930804033,4.481059757420833,1.159885970591099,1.3794639753899625,4.888847480618721,4.924832367602085,-0.4398806490896468,4.449691471020995,-0.5699703952725222,-0.3817606768734966,-1.0358780906865614,-0.8209166864712232,-0.35039239047365894,-0.0634612122915957,-0.1308143856747958,-0.502617221889322,-0.1308143856747958,-0.22491924487430856,-0.8209166864712232,0.18286847832358022,-0.6327069680721974,-0.35039239047365894,-0.9417732314870486,-0.25167093069062135,-0.502617221889322,0.5952728021049937,-0.6640752544720351,-1.0091264048702484,-0.502617221889322,-0.9150215456707358,-0.8476683722875358,-0.9777581184704113,-0.7581801136715478,-0.9150215456707358,-0.5653537946889973,-0.3457757898901341,-0.193550958474471,0.3083416239229306,-0.5653537946889973,0.24560505112325529,-0.8836532592708981,-0.3457757898901341,-0.8209166864712232,-0.0634612122915957,-0.9463898320705731,-1.1345995504695987,-0.6908269402883477,-0.0007246394919204951,0.7207299609933728,-0.7581801136715478,-1.1927195226857494,-1.286824381885262,-1.3855458416682997,-0.16218267207463335,-0.5967220810888348,-1.0986146634862366,-0.502617221889322,0.15611679250726754,0.08876361912406727,-0.5386021088726846,0.4070630837059682,-0.7221952266881853,-0.8836532592708981,0.2188533653069426,-1.0718629776699238,0.2502216517067803,-0.03209292589175813,-0.9417732314870486,-1.0045098042867238,-1.0091264048702484,-0.5386021088726846,-1.1973361232692743,0.46518305592211834,-1.6364921328670003,-0.16218267207463335,-0.8522849728710605,0.08876361912406727,-0.22491924487430856,-0.7895484000713855,-1.2287044096691118,-1.1973361232692743,-0.973141517886886,-1.0045098042867238,-0.9417732314870486,-1.1973361232692743,-0.9777581184704113,-1.1659678368694368,-1.0986146634862366,-0.005341240075445474,-0.5967220810888348,-0.7581801136715478,-0.8522849728710605,0.4744002703781968,-1.0091264048702484,1.0030445385919116,-1.1345995504695987,-0.7581801136715478,-0.2562875312741462,-0.3190241040738214,0.3756947973061306,-0.0680778128751206,-0.6594586538885101,-0.6908269402883477,-0.9417732314870486,-0.35039239047365894,-0.7221952266881853,-0.6280903674886725,0.15610080579629593,1.6036585807723505,-0.9463898320705731,-0.8209166864712232,-0.03209292589175813,-0.4398806490896468,-0.3144075034902964,-1.3855458416682997,1.159901957302071,-0.5339855082891596,-1.600507245883638,-0.7849317994878605,-0.8476683722875358,0.03064364690791713,-0.22030264429078372,-0.193550958474471,-1.0718629776699238,-1.0091264048702484,-1.0091264048702484,5.3012518044001355,4.888847480618721,0.15150019192374253,-0.6280903674886725,-0.9463898320705731,1.693146839388338,-0.5967220810888348,-0.4712489354894845,3.0381185830283033,4.292850039021808,0.5011519561945095,-0.8790366586873734,-0.9463898320705731,-0.25167093069062135,-0.7535635130880228,-0.9463898320705731,-0.5967220810888348,2.1682877359694275,-0.005341240075445474,-0.5699703952725222,-0.6327069680721974,-0.44449724967317183,1.3840805759734873,-0.5653537946889973,-0.6908269402883477,-0.502617221889322,-0.40851236268980917,-0.2830392170904589,-0.6954435408718727,-0.8476683722875358,-1.0718629776699238,-0.7849317994878605,-0.5339855082891596,-0.5339855082891596,-0.7895484000713855,1.28535911619045,-1.1032312640697615,2.1009345625862275,-0.6280903674886725,-0.7849317994878605,0.8821879935760856,-0.09944609927495818,-0.47586553607300947,0.12013190552390492,-1.1345995504695987,0.40244648312244335,-0.4712489354894845,-0.15756607149110854,-0.3457757898901341,-0.40851236268980917,-1.0718629776699238,-1.2914409824687867,0.658009374904669,-0.7581801136715478,0.062011933307754764,-0.5699703952725222,-1.0091264048702484,-1.2287044096691118,-1.0091264048702484,-0.9463898320705731,-0.6908269402883477,-0.0680778128751206,-0.40851236268980917,-0.6954435408718727,-0.0634612122915957,-0.7895484000713855,-0.005341240075445474,-0.09944609927495818,-0.8163000858876982,-0.4398806490896468,-0.15756607149110854,1.3167274025902873,-0.03209292589175813,1.4422005481896378,0.1607174063798208,-0.6327069680721974,-0.973141517886886,-0.3190241040738214,-1.4796507008678124,-1.0986146634862366,-0.973141517886886,1.6036585807723505,-0.6327069680721974,-0.8790366586873734,-0.35039239047365894,-0.9463898320705731,-1.286824381885262,-0.8836532592708981,-0.09022888481887982,-0.9150215456707358,-1.2287044096691118,2.0428145903700763,-0.7268118272717101,-0.5699703952725222,-0.6327069680721974,-0.0680778128751206,-0.8476683722875358,1.6350268671721884,-0.44449724967317183,-0.5653537946889973,1.4781854351730004,-1.040494691270086,-0.2876558176739838,-0.0634612122915957,0.09338021970759232,5.018937226801597,4.637901189420021,1.3527122895736499,4.669269475819859,2.325129167968615,1.2226225433907747,-0.05886059841904237,3.638732625208742,2.199656022369265,1.0703977119751114,2.0741828767699144,1.6617785529885007,1.2586074303741372,1.3527122895736499,0.5685051295777098,5.23851523160046,0.8821879935760856,1.6350268671721884,1.7291317263717008,-1.3809292410847749,5.050305513201434,1.4422005481896378,1.1285176841912616,2.2623925951689396,-1.2287044096691118,-1.2914409824687867,-0.6327069680721974,0.2502216517067803,-0.35039239047365894,-0.7268118272717101,-0.2876558176739838,-0.25167093069062135,-0.6280903674886725,-0.6908269402883477,-0.22030264429078372,-0.9417732314870486,0.03064364690791713,-0.3817606768734966,-1.1973361232692743,-1.0672463770863987,-0.44449724967317183,-1.2600726960689494,-0.44449724967317183,-1.0358780906865614,-0.09482949869143334,-0.25167093069062135,0.4384313701058058,-0.8522849728710605,-1.286824381885262,-0.8476683722875358,-0.3457757898901341,-0.7221952266881853,-1.2287044096691118,-0.8790366586873734,-1.040494691270086,-0.35039239047365894,-0.8476683722875358,-0.7895484000713855,-0.7581801136715478,-0.7895484000713855,-1.0358780906865614,-0.7268118272717101,-0.3817606768734966,1.2586074303741372,-1.2600726960689494,-0.3144075034902964,-0.3144075034902964,-0.8209166864712232,-0.6954435408718727,-1.6632438186833132,-0.8836532592708981,-1.2287044096691118,0.12013190552390492,-0.22030264429078372,-1.0718629776699238,-0.44449724967317183,-0.44449724967317183,-0.6640752544720351,-0.5072338224728469,-0.7268118272717101,-0.3817606768734966,-1.1032312640697615,1.5676736937889875,-0.3817606768734966,0.2815899381066178,-0.18893435789094612,-0.44449724967317183,-0.9417732314870486,-0.2830392170904589,-1.2287044096691118,-1.2287044096691118,-1.0091264048702484,0.2142367647234176,-0.7849317994878605,-1.9188067104655389,1.6036585807723505,1.6304102665886633,0.6626099887772225,1.3527122895736499,-0.3144075034902964,1.007661139175436,-0.9417732314870486,-0.4398806490896468,-1.2600726960689494,-0.6640752544720351,-0.9777581184704113,-0.09482949869143334,-1.2914409824687867,0.12474850610742995,-1.4122975274846123,-1.1659678368694368,-1.2600726960689494,-1.7305969920665136,-0.2876558176739838,-0.6280903674886725,0.12474850610742995,-0.0634612122915957,-0.6640752544720351,0.2502216517067803,-0.03209292589175813,0.2142367647234176,-0.6594586538885101,-1.5110189872676503,-0.7268118272717101,-0.973141517886886,-1.0091264048702484,3.9524154892071195,-0.3771440762899717,-0.15756607149110854,-0.18893435789094612,-0.9777581184704113,-0.7221952266881853,-0.8476683722875358,-0.9777581184704113,-0.5339855082891596,-0.8836532592708981,-0.8163000858876982,0.5011679429054811,-0.7581801136715478,-0.9777581184704113,-0.7535635130880228,-1.040494691270086,-0.502617221889322,-0.8476683722875358,-0.4712489354894845,-0.4712489354894845,1.6977634399718635,-0.8476683722875358,-1.2600726960689494,0.8148348201928857,-0.6594586538885101,-0.7849317994878605,-0.005341240075445474,-0.7581801136715478,-0.9777581184704113,-0.3144075034902964,-0.4712489354894845,-0.7895484000713855,-0.7268118272717101,-0.6280903674886725,-0.7535635130880228,-1.0091264048702484,-0.5339855082891596,-1.8560701376658635,2.2310243087691024,0.9449245663757612,1.6036585807723505,-1.448282414467975,-0.7895484000713855,-0.9417732314870486,-1.0718629776699238,-0.8163000858876982,-0.5653537946889973,0.03064364690791713,-0.9777581184704113,-1.8560701376658635,-1.2287044096691118,-0.0680778128751206,-1.6318755322834753,-0.3457757898901341,-1.3809292410847749,-0.9150215456707358,-0.6280903674886725,1.1958708575744619,1.4781854351730004,1.348095688990125,4.386954898221321,1.8546048719710515,2.356497454368453,-1.6992287056666755,-0.9777581184704113,-0.8476683722875358,-0.9777581184704113,-0.4398806490896468,-0.1261977850912709,-0.7849317994878605,0.4070630837059682,1.6350268671721884,0.02602704632439215,-0.7581801136715478,-0.7895484000713855,-1.3228092688686242,-0.09944609927495818,0.02602704632439215,1.791868299171376,0.4697996565056434,-1.2600726960689494,1.6036585807723505,-0.9150215456707358,1.8546048719710515,-0.7535635130880228,-0.5386021088726846,-0.4712489354894845,-0.8836532592708981,0.8821879935760856,-0.9417732314870486,-0.5967220810888348,1.9754614169868765,1.6663951535720258,1.5095537215728378,1.8499882713875269,1.5049371209893125,1.101765998374949,3.822325743024244,1.8186199849876887,-0.40851236268980917,4.642517790003547,4.857479194218884,-1.8560701376658635,3.5086588657368383,3.8896789164074446,1.9487097311705637,1.2539908297906122,4.167376893422458,3.9164306022237563,1.007661139175436,4.956200654001922,-0.8790366586873734,3.8896789164074446,-1.1345995504695987,-0.6594586538885101,-0.7895484000713855,-0.22030264429078372,-1.2600726960689494,-0.2830392170904589,-0.09944609927495818,-0.47586553607300947,0.46518305592211834,-0.09944609927495818,-0.8522849728710605,-0.5967220810888348,-1.1345995504695987,-0.0007246394919204951,-0.7221952266881853,-0.973141517886886,-0.8790366586873734,-0.3457757898901341,-0.8163000858876982,0.09338021970759232,-0.5653537946889973,-1.1032312640697615,-0.9463898320705731,-1.0672463770863987,-0.41312896327333415,-0.8163000858876982,0.09338021970759232,0.02602704632439215,-0.8836532592708981,-0.22030264429078372,0.7207299609933728,1.2226225433907747,1.1958708575744619,2.2937608815687778,1.7872516985878513,1.1645025711746244,1.348095688990125,-0.8209166864712232,4.794742621419209,1.4422005481896378,1.3840805759734873,0.9089396793923984,-1.0358780906865614,0.783466533793048,0.9089396793923984,1.6663951535720258,0.18748507890710517,4.705254362803221,1.3527122895736499,1.9173414447707267,0.8462031065927232,1.8813565577873643,1.6304102665886633,1.7291317263717008,3.3785691195539633,1.5095537215728378,1.3840805759734873,1.4422005481896378,1.3213440031738124,0.850819707176248,2.2937608815687778,-1.8874384240657007,-1.0986146634862366,-0.8163000858876982,-0.6594586538885101,-0.22491924487430856,-0.0007246394919204951,4.13600860702262,3.9791671750234308,2.1055511631697517,1.6977634399718635,4.015152062006793,-0.8209166864712232,1.760500012771538,1.724515125788176,-0.7581801136715478,-1.6632438186833132,-1.0091264048702484,0.09338021970759232,-0.03209292589175813,-1.3228092688686242,-0.8476683722875358,-0.18893435789094612,-1.0718629776699238,-0.502617221889322,-0.9150215456707358,-0.502617221889322,1.4154488623733248,-1.1032312640697615,-0.8476683722875358,-0.7221952266881853,-0.44449724967317183,-0.8836532592708981,-0.3190241040738214,-1.1345995504695987,-1.1973361232692743,-0.6594586538885101,0.31295822450645544,1.348095688990125,1.599041980188826,-0.2562875312741462,-0.6640752544720351,-0.6013386816723597,1.6036585807723505,0.15611679250726754,-0.8836532592708981,0.7520982473932102,-0.25167093069062135,-0.2562875312741462,-0.3190241040738214,-0.9777581184704113,-0.7268118272717101,-0.5967220810888348,-0.1261977850912709,-1.0091264048702484,1.9127248441872016,2.1682877359694275,-0.25167093069062135,1.5722902943725132,1.3167274025902873,1.2586074303741372,3.4191546204098797,0.5952568153940223,2.3205125673850904,1.2899757167739745,4.391571498804845,4.015152062006793,-0.032108912602729564,4.8934640812022465,3.858310630007606,-0.0634612122915957,4.422939785204683,2.199656022369265,-0.6013386816723597,-0.3457757898901341,-0.7581801136715478,-1.354177555268462,-0.09944609927495818,-1.1973361232692743,-1.1345995504695987,-0.9104049450872111,-0.9104049450872111,-0.22491924487430856,0.02602704632439215,-1.0718629776699238,-1.2914409824687867,-0.41312896327333415,-0.5386021088726846,-1.1299829498860743,-0.8163000858876982,-0.8790366586873734,-0.1261977850912709,-1.4796507008678124,-0.5339855082891596,-1.0358780906865614,-0.8836532592708981,-1.0045098042867238,-1.5064023866841254,-0.25167093069062135,0.15150019192374253,-1.1973361232692743,-1.286824381885262,-1.5691389594838,-1.040494691270086,-0.5339855082891596,0.15611679250726754,-0.8836532592708981,-1.1299829498860743,0.6893776613045064,-1.3228092688686242,-0.6908269402883477,-0.16218267207463335,-0.6954435408718727,-0.6594586538885101,-0.6280903674886725,-0.09944609927495818,-0.25167093069062135,0.12474850610742995,-1.0091264048702484,-0.5386021088726846,0.4384313701058058,-0.6013386816723597,-0.5699703952725222,-1.0091264048702484,-1.1032312640697615,-0.7849317994878605,-0.03209292589175813,0.2188533653069426,-0.9150215456707358,0.15610080579629593,-0.9463898320705731,-1.448282414467975,-0.5339855082891596,-0.6327069680721974,-0.1308143856747958,0.4070630837059682,-0.5072338224728469,-0.7581801136715478,-0.8836532592708981,-0.9777581184704113,-0.9104049450872111,-1.1973361232692743,0.2142367647234176,-1.354177555268462,0.2815899381066178,-0.47586553607300947,-1.6678604192668376,-1.286824381885262,-0.0007246394919204951,-0.3817606768734966,0.2815899381066178,-0.25167093069062135,0.5952728021049937,0.2815899381066178,0.31295822450645544,-0.6327069680721974,-0.8522849728710605,0.18748507890710517,0.6847610607209819,0.18748507890710517,-0.8522849728710605,0.49655134232195614,0.02602704632439215,-1.4750341002842877,-0.8522849728710605,0.24560505112325529,-1.0091264048702484,-0.5386021088726846,-0.3817606768734966,-0.22491924487430856,-1.1973361232692743,-0.15756607149110854,0.08876361912406727,-0.9417732314870486,-0.16218267207463335,-1.0718629776699238,-1.1345995504695987,-0.4712489354894845,-1.354177555268462,-1.0091264048702484,-0.35039239047365894,-0.3144075034902964,-0.5699703952725222,-0.3817606768734966,-1.0091264048702484,-0.35039239047365894,-1.0358780906865614,-0.03209292589175813,-0.22030264429078372,0.2502216517067803,-0.7581801136715478,-0.5386021088726846,-0.5339855082891596,-0.1308143856747958,-0.3190241040738214,-0.2876558176739838,-0.6280903674886725,-1.5691389594838,0.2142367647234176,-1.3228092688686242,-1.0718629776699238,-0.8476683722875358,0.5011679429054811,-0.8790366586873734,-0.5699703952725222,0.2142367647234176,-1.040494691270086,0.6266410885048312,-0.4398806490896468,-0.5386021088726846,-0.2562875312741462,-0.6327069680721974,-0.5967220810888348,-0.40851236268980917,-0.9463898320705731,-1.0718629776699238,-0.4712489354894845,0.877571392992561,-1.5377706730839629,-0.9104049450872111,-0.3144075034902964,0.7521142341041818,-0.4712489354894845,-0.3144075034902964,-1.0672463770863987,-0.40851236268980917,-0.7849317994878605,-0.9463898320705731,-1.1659678368694368,-0.1261977850912709,-0.3144075034902964,-0.5653537946889973,-0.8163000858876982,-0.9777581184704113,-0.5653537946889973,-1.3228092688686242,-0.973141517886886,-0.8476683722875358,-0.15756607149110854,-1.2287044096691118,-0.4712489354894845,2.1055511631697517,0.9716762521920732,-1.3181926682850995,-0.47586553607300947,-0.6327069680721974,0.37107819672260567,-0.44449724967317183,4.517044644404196,1.2586074303741372,-0.005341240075445474,-0.5699703952725222,-0.6954435408718727,0.3756947973061306,-0.3817606768734966,-0.44449724967317183,-0.25167093069062135,-0.5967220810888348,-1.3228092688686242,-1.2600726960689494,-0.35039239047365894,-0.8163000858876982,-0.7895484000713855,-0.5699703952725222,0.31295822450645544,0.6533927743211441,-1.1345995504695987,-0.5967220810888348,-0.8522849728710605,-1.354177555268462,-1.1345995504695987,1.2586074303741372,-1.6364921328670003,0.2142367647234176,-0.8209166864712232,-0.9463898320705731,0.4384313701058058,-0.2562875312741462,-0.40851236268980917,-0.6640752544720351,-1.2287044096691118,-0.7895484000713855,-0.4398806490896468,-1.9188067104655389,-0.47586553607300947,-0.6013386816723597,-0.4712489354894845,1.4154488623733248,-0.2562875312741462,-0.8790366586873734,-0.2830392170904589,-1.040494691270086,-0.40851236268980917,-0.9463898320705731,-0.8522849728710605,-1.1345995504695987,-0.5072338224728469,-0.6594586538885101,-0.5386021088726846,-0.9463898320705731,-1.2287044096691118,-1.1973361232692743,-0.47586553607300947,-0.16218267207463335,-0.2830392170904589,-1.2287044096691118,-0.16218267207463335,-0.2876558176739838,-1.8874384240657007,-0.4712489354894845,-0.6013386816723597,0.05739533272422979,-0.7535635130880228,-0.09482949869143334,-1.2914409824687867,-1.1659678368694368,-1.2600726960689494,-0.09482949869143334,0.31295822450645544,4.20336178040582,-0.3817606768734966,-0.16218267207463335,-0.3817606768734966,-0.7895484000713855,-0.6640752544720351,-0.8209166864712232,-0.6908269402883477,-0.5339855082891596,-0.0680778128751206,-1.1299829498860743,-0.9777581184704113,-0.7221952266881853,-0.5072338224728469,0.09338021970759232,-0.3457757898901341,-0.8163000858876982,-0.0007246394919204951,-0.193550958474471,-0.502617221889322,-1.040494691270086,-0.5339855082891596,-0.4398806490896468,0.15611679250726754,-0.3190241040738214,-1.448282414467975,1.3794639753899625,-0.47586553607300947,-0.3817606768734966,-1.6318755322834753,-0.9777581184704113,-0.3190241040738214,0.5325362293053185,-1.6364921328670003,-0.9150215456707358,-0.8476683722875358,-0.1308143856747958,-0.40851236268980917,-1.0358780906865614,-0.5653537946889973,-1.0091264048702484,-0.9777581184704113,-0.3457757898901341,-0.6280903674886725,0.12013190552390492,-0.3144075034902964,-1.0091264048702484,-0.5699703952725222,-0.16218267207463335,-0.5072338224728469,-0.09944609927495818,-1.0718629776699238,-1.3228092688686242,-0.9150215456707358,-0.7535635130880228,0.3443265109062931,-0.5072338224728469,-1.0718629776699238,-0.22030264429078372,-1.3855458416682997,-1.1345995504695987,-0.6640752544720351,-0.0007246394919204951,-0.8790366586873734,-0.25167093069062135,-0.7581801136715478,-0.25167093069062135,-1.1973361232692743,1.6036585807723505,1.007661139175436,-0.2830392170904589,-0.8836532592708981,-0.6280903674886725,-0.7221952266881853,-1.1659678368694368,0.18286847832358022,-0.35039239047365894,-0.7268118272717101,-0.502617221889322,-0.6954435408718727,-0.44449724967317183,-0.2562875312741462,-1.4122975274846123,-1.040494691270086,-0.7535635130880228,-0.3817606768734966,-0.3190241040738214,-0.6640752544720351,-0.2830392170904589,-0.7895484000713855,0.37107819672260567,-0.2830392170904589,-0.5072338224728469,-0.8836532592708981,-0.4712489354894845,-0.7268118272717101,-0.6594586538885101,-0.22030264429078372,-0.6327069680721974,-1.0718629776699238,-0.2562875312741462,-0.8790366586873734,-1.0718629776699238,-0.3144075034902964,0.15611679250726754,-1.3855458416682997,0.31295822450645544,-0.9104049450872111,-0.41312896327333415,1.6036585807723505,-0.47586553607300947,-1.1032312640697615,0.4384313701058058,-1.3181926682850995,-1.0986146634862366,-0.7581801136715478,-0.15756607149110854,4.611149503603707,-0.40851236268980917,-0.193550958474471,-1.1973361232692743,-1.0718629776699238,-1.2600726960689494,-1.1973361232692743,-0.9463898320705731,-0.47586553607300947,-0.22491924487430856,-0.7221952266881853,0.2815899381066178,0.12474850610742995,-0.0007246394919204951,-1.0718629776699238,-0.4712489354894845,0.05739533272422979,-1.5110189872676503,-0.6013386816723597,0.15150019192374253,-1.0045098042867238,-0.2562875312741462,-0.8522849728710605,-0.8790366586873734,0.31295822450645544,-0.09482949869143334,0.6533927743211441,0.658009374904669,-0.6013386816723597,-0.7535635130880228,0.658009374904669,-0.3817606768734966,-0.8476683722875358,-0.6640752544720351,-0.3817606768734966,-0.09944609927495818,-0.5386021088726846,-0.5386021088726846,-0.9463898320705731,-0.6280903674886725,-1.44366581388445,1.3527122895736499,-0.7221952266881853,1.599041980188826,-0.4398806490896468,-1.2914409824687867,-0.16218267207463335,-0.7535635130880228,-0.6640752544720351,-0.4398806490896468,-0.5072338224728469,-0.7895484000713855,-0.6327069680721974,-0.6013386816723597,-1.0986146634862366,-0.7581801136715478,0.9762928527755985,-0.7849317994878605,-1.4169141280681377,-1.3181926682850995,0.03064364690791713,-1.3228092688686242,-0.5699703952725222,-0.5699703952725222,1.760500012771538,-1.5423872736674875,-1.9501749968653768,-1.1659678368694368,-0.5653537946889973,-0.5653537946889973,-0.6013386816723597,-1.0091264048702484,-1.2287044096691118,-0.8836532592708981,-0.3817606768734966,0.3756947973061306,-0.25167093069062135,1.2539908297906122,1.1912542569909368,-0.6594586538885101,-0.5339855082891596,-1.1345995504695987,-1.0091264048702484,-0.8522849728710605,-0.5699703952725222,-0.5967220810888348,-0.0634612122915957,1.724515125788176,-0.41312896327333415,-0.9150215456707358,-0.9463898320705731,1.101765998374949,-1.3228092688686242,-1.9188067104655389,-1.1345995504695987,-1.0986146634862366,0.6893776613045064,-0.3771440762899717,-0.8836532592708981,-0.5653537946889973,1.5095537215728378,-1.2600726960689494,-0.7581801136715478,0.24560505112325529,-0.4398806490896468,1.6350268671721884,-0.2830392170904589,-0.1261977850912709,-0.6327069680721974,-0.15756607149110854,-1.2914409824687867,-0.973141517886886,-0.5653537946889973,-0.3817606768734966,-0.5967220810888348,-0.5967220810888348,-0.35039239047365894,-0.6908269402883477,1.3213440031738124,-1.1032312640697615,-0.9150215456707358,-0.5967220810888348,-0.502617221889322,-0.2562875312741462,-0.8163000858876982,-0.7895484000713855,-0.7535635130880228,-0.6954435408718727,-0.8209166864712232,-0.6908269402883477,1.2899757167739745,1.823236585571214,-1.4122975274846123,-0.7535635130880228,0.6220244879213066,1.693146839388338,-0.2876558176739838,1.348095688990125,0.9762928527755985,-0.21570203041823025,-0.6908269402883477,-0.5386021088726846,-0.7221952266881853,-1.2914409824687867,-1.0718629776699238,-1.1973361232692743,0.9403079657922359,4.391571498804845,4.485676358004358,1.2539908297906122,0.12474850610742995,-0.6327069680721974,-1.2600726960689494,0.9762928527755985,2.0068297033867144,-0.4398806490896468,-1.0718629776699238,-0.8209166864712232,-0.7849317994878605,2.0741828767699144,-0.9150215456707358,-0.8836532592708981,-0.5653537946889973,-1.600507245883638,1.1645025711746244,1.5363054073891504,-0.3817606768734966,1.0703977119751114,-1.0672463770863987,-0.6594586538885101,-0.9150215456707358,-0.5339855082891596,-0.6640752544720351,-1.1345995504695987,1.1958708575744619,1.4468171487731627,1.6617785529885007,1.2899757167739745,0.12474850610742995,4.920215767018559,4.548412930804033,-0.8209166864712232,4.732006048619534,-0.0634612122915957,1.4108322617898004,-1.5064023866841254,1.1958708575744619,1.760500012771538,0.877571392992561,1.0703977119751114,2.0428145903700763,1.6977634399718635,1.2272391439742991,1.5409220079726753,1.6304102665886633,1.5722902943725132,0.850819707176248,1.1645025711746244,1.693146839388338,1.693146839388338,1.791868299171376,-0.8209166864712232,1.0030445385919116,0.15611679250726754,1.0344128249917488,0.4697996565056434,1.0344128249917488,1.3167274025902873,0.5011519561945095,-0.7895484000713855,-0.6954435408718727,1.5095537215728378,1.007661139175436,0.6893616745935353,1.9127248441872016,1.4468171487731627,-0.9150215456707358,-1.2287044096691118,-0.7581801136715478,-1.0091264048702484,0.4070630837059682,-0.3771440762899717,-1.1345995504695987,0.18286847832358022,0.46518305592211834,-0.25167093069062135,-1.2287044096691118,-0.2830392170904589,-0.6280903674886725,-0.4712489354894845,-0.502617221889322,-0.6594586538885101,-0.25167093069062135,0.15150019192374253,-0.8836532592708981,-0.3144075034902964,0.08876361912406727,-0.8522849728710605,-0.6594586538885101,-0.6280903674886725,-1.1659678368694368,-0.4712489354894845,-0.7535635130880228,-1.1032312640697615,-0.22030264429078372,-0.8476683722875358,-1.3228092688686242,-1.0718629776699238,-0.6954435408718727,-0.7849317994878605,0.03064364690791713,-1.1973361232692743,-0.9150215456707358,-1.0045098042867238,-0.09944609927495818,0.03064364690791713,-1.0718629776699238,0.2815899381066178,-0.5386021088726846,-0.0007246394919204951,-1.3228092688686242,-0.9104049450872111,-0.5072338224728469,-1.4169141280681377,0.12013190552390492,0.18748507890710517,-1.824701851266026,0.18286847832358022,-0.9150215456707358,-1.0986146634862366,-1.0718629776699238,-1.8874384240657007,-1.354177555268462,-1.1973361232692743,-0.6908269402883477,0.12474850610742995,4.862095794802409,-0.7581801136715478,-1.2554560954854246,-0.0680778128751206,-1.1659678368694368,-0.1308143856747958,0.37107819672260567,-0.5653537946889973,-0.5072338224728469,-0.6013386816723597,0.9762928527755985,-1.1032312640697615,-0.3144075034902964,-0.22030264429078372,-0.3817606768734966,-1.2554560954854246,-0.25167093069062135,-0.8836532592708981,-0.6640752544720351,1.4468171487731627,-0.25167093069062135,-0.8790366586873734,-0.6327069680721974,-0.5386021088726846,-1.3228092688686242,-0.5967220810888348,-1.9501749968653768,-0.2562875312741462,-1.1659678368694368,-0.6327069680721974,0.2188533653069426,-0.6954435408718727,-0.6013386816723597,-0.1308143856747958,-0.4398806490896468,0.12474850610742995,-0.47586553607300947,-0.6640752544720351,-0.16218267207463335,-1.824701851266026,-0.25167093069062135,-0.3457757898901341,-1.1299829498860743,-1.6632438186833132,-0.6013386816723597,0.37107819672260567,-1.1345995504695987,-0.2830392170904589,-0.6594586538885101,-0.5072338224728469,-0.0680778128751206,-0.9150215456707358,-0.3817606768734966,-0.5386021088726846,-0.8476683722875358,-0.6954435408718727,1.9754614169868765,1.1912542569909368,1.4108322617898004,-0.6013386816723597,-1.448282414467975,-0.9150215456707358,-0.6954435408718727,-0.3144075034902964,-1.2287044096691118,1.1912542569909368,-0.5072338224728469,-0.6954435408718727,-0.9104049450872111,-0.6013386816723597,-1.1345995504695987,-1.0091264048702484,-1.1032312640697615,-0.005341240075445474,0.3756947973061306,-0.8209166864712232,-0.1308143856747958,-0.7535635130880228,-0.5653537946889973,-0.9150215456707358,-0.7581801136715478,-0.7581801136715478,-0.5967220810888348,-1.1032312640697615,-0.6280903674886725,-1.600507245883638,-1.1927195226857494,-1.448282414467975,-1.0718629776699238,-0.2562875312741462,-1.448282414467975,-0.7849317994878605,-0.3771440762899717,-0.9104049450872111,-1.44366581388445,-1.0718629776699238,-0.1308143856747958,-0.6327069680721974,-0.7895484000713855,-0.8209166864712232,-0.35039239047365894,-0.8476683722875358,-1.1659678368694368,-0.18893435789094612,1.0703977119751114,0.3443265109062931,-0.7221952266881853,-0.5699703952725222,-0.03670952647528297,-0.8522849728710605,0.3443265109062931,-1.3181926682850995,-0.2830392170904589,-0.9463898320705731,0.062011933307754764,-0.7581801136715478,-0.6280903674886725,-0.9463898320705731,-1.5377706730839629,-0.6640752544720351,-0.6640752544720351,-0.6594586538885101,-0.5339855082891596,0.24560505112325529,0.2142367647234176,-0.7268118272717101,-0.35039239047365894,-0.3190241040738214,0.08876361912406727,-0.193550958474471,-0.47586553607300947,0.3443265109062931,-0.9463898320705731,-1.5691389594838,0.18748507890710517,-0.7268118272717101,-0.005341240075445474,-0.0680778128751206,-1.2287044096691118,-1.1345995504695987,-1.0091264048702484,-0.9417732314870486,-0.0007246394919204951,-1.0358780906865614,-0.25167093069062135,-0.6327069680721974,0.15611679250726754,-0.502617221889322,-0.5653537946889973,-1.1973361232692743,0.4070630837059682,-0.9150215456707358,-0.6013386816723597,-0.7268118272717101,-0.7581801136715478,-1.354177555268462,-1.1032312640697615,-1.3855458416682997,-1.0091264048702484,-1.1659678368694368,-0.8476683722875358,-0.6280903674886725,-0.502617221889322,-0.6013386816723597,-0.9463898320705731,0.5011679429054811,-0.41312896327333415,-0.7581801136715478,-0.16218267207463335,-0.25167093069062135,-0.5699703952725222,-0.6327069680721974,-0.5072338224728469,0.12474850610742995,-0.7581801136715478,-0.502617221889322,-0.5339855082891596,0.02602704632439215,-0.18893435789094612,-0.5653537946889973,-0.8163000858876982,-0.6280903674886725,-0.7221952266881853,-0.5386021088726846,-0.2876558176739838,-0.6013386816723597,-0.2562875312741462,-0.8790366586873734,-1.1613512362859122,-0.9104049450872111,-0.4398806490896468,-0.25167093069062135,-1.5691389594838,-1.2287044096691118,-0.6327069680721974,-0.8476683722875358,-0.4398806490896468,-0.25167093069062135,0.09338021970759232,-0.3771440762899717,-0.6640752544720351,-1.0672463770863987,-0.5072338224728469,1.823236585571214,-0.5386021088726846,-0.6954435408718727,-1.4169141280681377,-0.7268118272717101,5.144410372400948,-1.0718629776699238,0.03064364690791713,1.3527122895736499,-0.6327069680721974,-0.41312896327333415,0.12474850610742995,-0.40851236268980917,0.2188533653069426,-0.6640752544720351,-0.41312896327333415,-0.7581801136715478,-0.3817606768734966,-0.6327069680721974,-1.1973361232692743,-0.8476683722875358,-0.22491924487430856,-1.0986146634862366,-0.4398806490896468,-0.7535635130880228,-0.8522849728710605,-0.9463898320705731,-1.2600726960689494,-0.0007246394919204951,-0.8790366586873734,-0.3771440762899717,0.2502216517067803,-1.0718629776699238,-0.2876558176739838,-0.193550958474471,-0.5339855082891596,-0.9150215456707358,-0.7268118272717101,-0.502617221889322,-1.0045098042867238,-1.1973361232692743,1.1912542569909368,-1.0672463770863987,-0.40851236268980917,1.007661139175436,-1.0045098042867238,0.31295822450645544,-0.6640752544720351,-1.040494691270086,-0.6908269402883477,-0.6908269402883477,-0.8209166864712232,-0.193550958474471,-0.973141517886886,-0.7849317994878605,-1.1345995504695987,-1.5691389594838,1.7291317263717008,-1.8874384240657007,1.6663951535720258,-0.2830392170904589,1.6663951535720258,2.0741828767699144,1.2899757167739745,-1.1659678368694368,0.312942237795484,0.9716762521920732,-0.16218267207463335,-0.3771440762899717,1.9487097311705637,-0.973141517886886,-0.03670952647528297,-0.3817606768734966,1.2272391439742991,0.15611679250726754,-0.15756607149110854,-0.09482949869143334,-0.3144075034902964,0.9449245663757612,2.504873700942036,0.09338021970759232,0.09338021970759232,-1.0358780906865614,-0.7849317994878605,-0.3817606768734966,-0.193550958474471,-0.9777581184704113,1.8546048719710515,-0.8209166864712232,-1.0718629776699238,1.791868299171376,-0.5653537946889973,2.6074437455671537,0.7253465615768976,1.4422005481896378,4.637901189420021,4.485676358004358,4.575164616620347,1.6350268671721884,5.139793771817423,1.791868299171376,0.6939782751770601,1.2586074303741372,0.9135562799759236,1.9173414447707267,1.7291317263717008,1.6663951535720258,5.018937226801597,1.2226225433907747,1.3167274025902873,1.9754614169868765,1.348095688990125,1.9487097311705637,1.348095688990125,4.292850039021808,-1.1973361232692743,4.391571498804845,2.4192340271681285,-0.5967220810888348,1.6663951535720258,4.104640320622783,2.1950394217857405,0.4384313701058058,-0.1308143856747958,-0.6594586538885101,-0.8522849728710605,-1.2914409824687867,-1.2914409824687867,-0.3457757898901341,1.1645025711746244,-1.0718629776699238,-0.8209166864712232,-1.040494691270086,0.5325362293053185,-0.44449724967317183,-0.47586553607300947,-0.5967220810888348,-0.9104049450872111,-0.6327069680721974,-0.7581801136715478,-1.1345995504695987,-0.7581801136715478,-0.6280903674886725,-1.5064023866841254,-0.15756607149110854,-0.8209166864712232,-0.9777581184704113,-0.9463898320705731,-0.5386021088726846,0.062011933307754764,-0.5967220810888348,0.24560505112325529,-0.03209292589175813,0.7521142341041818,-0.7535635130880228,-0.4398806490896468,-1.1345995504695987,-0.6013386816723597,-0.03209292589175813,-0.7535635130880228,-0.9104049450872111,0.2502216517067803,-0.6280903674886725,0.5325362293053185,-1.1927195226857494,-0.3144075034902964,-1.1659678368694368,-0.0007246394919204951,-0.7535635130880228,-0.2562875312741462,-0.40851236268980917,-0.0007246394919204951,-0.9417732314870486,-0.005341240075445474,-0.0634612122915957,-0.09482949869143334,1.9440931305870388,-1.9188067104655389,-0.8790366586873734,0.2142367647234176,-0.03670952647528297,-0.6013386816723597,-0.09944609927495818,-0.8522849728710605,-0.2562875312741462,-0.4712489354894845,0.08876361912406727,-0.18893435789094612,-0.6280903674886725,-1.4169141280681377,-0.1261977850912709,-1.3855458416682997,-0.8522849728710605,0.05739533272422979,-0.7221952266881853,-0.4398806490896468,-1.8874384240657007,-0.35039239047365894,0.12474850610742995,-1.2600726960689494,-0.6594586538885101,-0.03209292589175813,-0.35039239047365894,-1.2287044096691118,-0.8836532592708981,-0.7268118272717101,-1.1345995504695987,-1.9501749968653768,-1.5110189872676503,-0.40851236268980917,0.43381476952228093,-0.4398806490896468,-1.1299829498860743,-1.1345995504695987,-0.9777581184704113,-0.5386021088726846,0.2769733375230929,-1.1973361232692743,-1.1345995504695987,-1.354177555268462,-0.5699703952725222,-0.3144075034902964,-0.3771440762899717,-1.5377706730839629,-1.1973361232692743,-0.973141517886886,-0.9463898320705731,-0.5339855082891596,-1.5737555600673252,0.4697996565056434,-0.6013386816723597,-0.09482949869143334,-0.5653537946889973,0.08876361912406727,-1.5423872736674875,-0.9104049450872111,-0.5072338224728469,-0.6280903674886725,-1.0045098042867238,-0.35039239047365894,-0.3144075034902964,1.28535911619045,-0.35039239047365894,-1.1973361232692743,0.4384313701058058,4.543796330220507,4.736622649203059,-0.2876558176739838,2.01144630397024,-0.9104049450872111,-1.3855458416682997,-0.7581801136715478,-1.5423872736674875,-1.1973361232692743,-0.2562875312741462,-0.7895484000713855,-0.6640752544720351,0.09338021970759232,-0.3817606768734966,0.12474850610742995,-0.5653537946889973,-1.1973361232692743,-0.8163000858876982,-0.6640752544720351,-1.0718629776699238,-0.6327069680721974,0.2188533653069426,-0.6280903674886725,-0.2876558176739838,-0.7581801136715478,-1.0718629776699238,-0.22491924487430856,0.03064364690791713,-0.44449724967317183,1.4735688345894753,-0.0007246394919204951,-0.9777581184704113,-0.0634612122915957,-1.1345995504695987,-0.9463898320705731,0.6266410885048312,-0.2830392170904589,-0.18893435789094612,0.2188533653069426,0.12474850610742995,-1.0091264048702484,-0.8522849728710605,-1.0045098042867238,0.5279196287217937,-0.6013386816723597,-0.8163000858876982,-0.8522849728710605,0.15611679250726754,0.15150019192374253,-0.5339855082891596,-1.0091264048702484,-1.354177555268462,-0.5339855082891596,-0.9417732314870486,-0.7268118272717101,-0.973141517886886,-0.005341240075445474,1.3794639753899625,-1.0091264048702484,-0.193550958474471,-0.2562875312741462,0.15611679250726754,-0.8522849728710605,-0.2876558176739838,0.2502216517067803,-0.6327069680721974,-0.2830392170904589,-0.502617221889322,-0.18893435789094612,-0.7535635130880228,-0.9104049450872111,0.810234206320332,-1.6318755322834753,-0.5072338224728469,-1.2287044096691118,-0.8836532592708981,0.5325362293053185,0.4384313701058058],\"xaxis\":\"x\",\"y\":[-0.9428191641847752,-1.3261930995574966,-1.0509502741617047,0.7349603401913143,-0.9034987605568132,1.0495235692150844,0.7546205420052998,0.7447904410983072,1.0003730646801205,0.7054700374703358,0.7447904410983072,0.961052661052149,-1.1590813841386267,0.8430914501682354,0.9315623583311707,0.7447904410983072,0.961052661052149,-0.9526492650917774,0.7841108447262783,0.8037710465402641,1.2854459909829123,1.025174034692817,-0.9624793659987702,0.9217322574241777,-1.1197609805106554,0.7644506429122926,1.0102031655871133,0.7841108447262783,0.8922419547031994,-0.7902268823811814,1.1773148810059912,-1.0607803750686986,0.8037710465402641,0.8627516519822209,1.088843972843056,0.8430914501682354,-0.805197751486885,0.7644506429122926,-0.8936686596498202,1.2316061537396659,1.0055138328788311,-0.9278482950790811,0.7695914111110034,1.020033266494106,-1.306532897743519,-1.1047901114049519,0.7054700374703358,-0.8295472860091527,-0.9428191641847846,-1.3753436040924687,1.0644944383207882,-0.8983579923581025,0.8234312483542497,-0.706896742416957,-1.212921221381873,0.9905429637731278,-1.1787415859526122,0.9413924592381635,0.8627516519822209,0.7644506429122926,1.2414362546466589,0.8580623192739388,-1.0064891023350235,-1.1689114850456195,0.7546205420052998,-1.1146202123119446,-1.0261493041490095,1.13799447737802,-0.9769987996140448,-0.9231589623707989,1.0298633674010989,-1.188571686859605,0.7742807438192854,-1.1295910814176482,-0.7509064787532103,-0.9034987605568132,-0.9278482950790811,0.8384021174599534,-0.8885278914511098,-1.212921221381873,-0.878697790544117,0.7742807438192854,-1.090270677789677,-1.2227513222888657,0.852921551075228,-1.03129007234772,1.0691837710290704,-0.8295472860091527,-1.1441105150329232,-0.7705666805671959,1.1431352455767307,1.182455649204702,-0.8543482560218493,-0.8740084578358349,1.0644944383207882,1.0350041355998099,-1.1441105150329232,1.0939847410417665,0.8430914501682354,-0.9769987996140448,1.0546643374137954,-1.1590813841386267,1.0593536701220772,-1.153940615939916,0.9413924592381635,-1.1295910814176482,-0.9821395678127559,-1.0163192032420165,0.7153001383773286,1.0986740737500489,-0.4651288916072596,-0.9573385978000597,0.8922419547031994,0.8777225210879245,1.4485730345366672,1.123475043762745,0.8580623192739388,0.7597613102040105,0.6221398975061112,-1.0752998086839733,0.9760235301578526,-1.188571686859605,0.8627516519822209,1.1085041746570417,1.1038148419487592,-0.9671686987070524,-0.9671686987070524,1.300416860088616,-0.9769987996140448,-0.8393773869161455,0.740101108390025,-0.878697790544117,-1.1590813841386267,1.320077061902601,-0.9966590014280309,-1.0261493041490095,0.9760235301578526,1.0448342365068026,1.281461319117789,-0.15056566258348936,0.8234312483542497,-1.198401787766598,-1.1099308796036624,0.8332613492612423,-1.2030911204748802,1.2217760528326733,-0.9428191641847846,-0.9475084968930666,-1.1394211823246412,-1.0706104759756914,-0.8983579923581025,-1.1047901114049519,-0.1407355616764966,0.7742807438192854,-1.03129007234772,0.9512225601451563,0.8627516519822209,1.123475043762745,-1.2227513222888657,0.8430914501682354,-0.8590375887301313,0.852921551075228,0.8332613492612423,0.852921551075228,0.9020720556101922,1.020033266494106,0.8922419547031994,-0.7509064787532103,-0.9376783959860739,-0.22920646983943185,0.9315623583311707,-1.2620717259168373,0.7597613102040105,-0.9573385978000597,-0.268526873467403,0.8332613492612423,-0.3569977816303385,-0.5142793961422237,-1.03129007234772,-0.9769987996140448,1.0003730646801205,0.9268730256228886,-0.9919696687197487,0.7153001383773286,0.7742807438192854,-1.045809505962995,-1.2868726959295331,-1.1787415859526122,0.8037710465402641,0.7054700374703358,-0.8688676896371239,-1.0851299095909666,-0.8346880542078635,0.9268730256228886,-1.1197609805106554,1.3987178691585442,-1.0116298705337343,0.8136011474472569,0.68580983565635,-1.1295910814176482,-1.1099308796036624,0.681120502948068,0.9708827619591421,-0.8197171851021601,-0.8641783569288422,0.9512225601451563,1.0003730646801205,1.0298633674010989,-0.25869677256041024,-1.1244503132189374,-0.9966590014280309,-1.1394211823246412,1.6353449517695304,-1.1787415859526122,0.7939409456332711,0.7742807438192854,-0.7803967814741889,-0.9231589623707989,0.9119021565171851,0.9020720556101922,0.9905429637731278,0.7841108447262783,-1.0116298705337343,0.8136011474472569,-0.9376783959860739,-0.8641783569288422,-1.1787415859526122,0.7939409456332711,0.9217322574241777,-0.9821395678127559,0.6661496338423646,1.5861944472345662,0.8430914501682354,0.8187419156459675,-0.27835697437439594,1.7631362635604373,0.7153001383773286,1.0644944383207882,-1.0949600104979593,1.226465385540955,-0.34716768072334575,1.7533061626534445,0.852921551075228,-1.2377221913945693,1.0495235692150844,0.7251302392843214,0.8136011474472569,0.7841108447262783,0.7742807438192854,-1.1689114850456195,-1.4979941476846643,-1.2770425950225406,1.182455649204702,0.8384021174599534,0.7447904410983072,-0.7757074487659066,0.8824118537962067,-0.795367650579892,-1.2180619895805835,0.8037710465402641,-1.1394211823246412,0.9119021565171851,-1.1001007786966697,0.9905429637731278,-1.2278920904875765,-1.2278920904875765,1.0102031655871133,1.2905867591816234,1.8221168690023943,-0.8641783569288422,-1.385173704999462,0.7939409456332711,0.8136011474472569,0.7349603401913143,0.8627516519822209,1.0691837710290704,0.9119021565171851,0.7251302392843214,0.8430914501682354,1.0102031655871133,-1.2180619895805835,1.1183342755640344,0.852921551075228,-0.9133288614638062,0.9217322574241777,-0.9133288614638062,-0.3176773780023672,-0.8983579923581025,-0.9919696687197487,-1.0017997696267416,0.961052661052149,-1.1342804141259302,0.7742807438192854,1.2657857891689264,-1.1590813841386267,-1.1197609805106554,0.6563195329353717,0.7841108447262783,0.9020720556101922,1.2657857891689264,-1.0411201732547128,0.8824118537962067,1.314936293703891,1.1674847800989985,-1.1197609805106554,0.7841108447262783,0.8627516519822209,0.9708827619591421,1.2854459909829123,1.2166352846339623,0.7251302392843214,0.8824118537962067,0.8430914501682354,0.7939409456332711,1.1085041746570417,1.226465385540955,-1.1197609805106554,-1.1689114850456195,0.9708827619591421,1.0691837710290704,0.852921551075228,-1.1394211823246412,0.7251302392843214,0.7054700374703358,1.3247663946108836,-1.1590813841386267,0.9315623583311707,1.3640867982388551,-1.2424115241028515,-1.0556396068699876,0.7499312092970177,-0.4356385888862813,0.9217322574241777,0.7447904410983072,-0.9133288614638062,1.1674847800989985,-1.1590813841386267,-0.9133288614638062,0.7644506429122926,1.0003730646801205,-1.188571686859605,-0.8936686596498202,0.9217322574241777,1.020033266494106,-1.0804405768826841,0.9413924592381635,-0.7855375496728995,0.740101108390025,-1.2278920904875765,-1.1099308796036624,0.8725817528892138,0.9956837319718385,-1.0654697077769806,0.7447904410983072,-0.21937636893243917,-1.1001007786966697,-0.9329890632777917,1.1529653464837235,0.8332613492612423,1.0055138328788311,0.9020720556101922,-0.8000569832881741,1.251266355553652,-1.198401787766598,1.088843972843056,0.9315623583311707,0.8234312483542497,-0.3569977816303385,0.8430914501682354,-1.1689114850456195,-0.9428191641847846,0.8430914501682354,-1.0017997696267416,-1.021459971440727,0.8627516519822209,0.9708827619591421,0.8037710465402641,-1.1146202123119446,-1.0116298705337343,1.020033266494106,-0.7363870451379353,1.0396934683080916,0.8136011474472569,0.7349603401913143,0.6464894320283787,0.8430914501682354,0.8332613492612423,-1.1295910814176482,-0.8936686596498202,1.0691837710290704,1.8122867680954018,0.9512225601451563,0.6909506038550609,0.7939409456332711,-1.3261930995575046,-1.1001007786966697,0.7546205420052998,1.0495235692150844,1.0102031655871133,-0.9769987996140448,-1.0509502741617058,0.9315623583311707,-1.0163192032420165,0.8725817528892138,0.6169991293074003,-1.247552292301562,-0.8248579533008707,0.8922419547031994,-1.0804405768826841,1.147824578285013,-0.9919696687197487,0.6563195329353717,-1.1244503132189374,-0.44546868979327425,-1.0949600104979593,-1.2377221913945693,0.852921551075228,1.0593536701220772,-0.27835697437439594,-1.4783339458706795,0.8922419547031994,0.7841108447262783,-1.0411201732547128,0.9315623583311707,0.9760235301578526,0.8824118537962067,0.8234312483542497,-1.03129007234772,0.8430914501682354,-1.0411201732547128,0.7939409456332711,-0.8936686596498202,-1.0706104759756914,1.1183342755640344,-1.0607803750686986,0.7447904410983072,0.7939409456332711,-0.8346880542078635,-0.9231589623707989,1.020033266494106,1.1281643764710272,-1.0607803750686986,0.7546205420052998,0.7742807438192854,0.956363328343867,-0.7214161760322318,-0.3078472770953744,-0.795367650579892,0.9760235301578526,-0.8098870841951672,0.8973827229019102,-0.8983579923581025,-0.25869677256041024,-1.1932610195678872,1.3299071628095944,0.6956399365633431,0.9512225601451563,-1.1001007786966697,-1.2278920904875765,-1.2180619895805835,-0.9966590014280309,0.8824118537962067,-1.021459971440727,0.8627516519822209,0.7251302392843214,-0.6675763387889856,1.246125587354941,1.1281643764710272,-1.2573823932085553,-0.9821395678127559,1.1085041746570417,0.6956399365633431,1.1281643764710272,0.7251302392843214,-0.268526873467403,-1.0064891023350235,-1.2082318886735905,1.684495456304495,0.8777225210879245,-0.8000569832881741,1.0593536701220772,-0.6329452678692964,0.9020720556101922,-0.986828900521038,0.7153001383773286,-1.1099308796036624,1.0298633674010989,-1.1787415859526122,0.7546205420052998,1.0298633674010989,0.8430914501682354,-1.1001007786966697,-1.0156145423988578,-1.1736008177539017,0.9217322574241777,-1.1394211823246412,1.147824578285013,1.0790138719360631,0.7054700374703358,-1.1295910814176482,0.7349603401913143,-1.0706104759756914,0.7349603401913143,-0.7214161760322318,0.7153001383773286,0.7939409456332711,0.9512225601451563,0.9217322574241777,1.3299071628095944,0.7939409456332711,1.147824578285013,-1.021459971440727,0.9315623583311707,0.7742807438192854,-1.0706104759756914,-0.8641783569288422,-0.9526492650917774,0.961052661052149,-1.1197609805106554,-0.805197751486885,1.3247663946108836,0.9020720556101922,0.7841108447262783,-1.03129007234772,-0.5889355315330429,-0.9919696687197487,-1.1197609805106554,-0.9526492650917774,-1.247552292301562,0.8430914501682354,-1.1689114850456195,0.5186981202374721,0.8234312483542497,-0.9475084968930666,1.020033266494106,-0.8492074878231383,-0.9821395678127559,1.0003730646801205,0.7939409456332711,-1.4441543104414187,-0.8445181551148565,-1.4441543104414187,0.961052661052149,-1.2770425950225406,0.7892516129249892,0.7204409065760393,1.0743245392277807,-1.0607803750686986,0.7349603401913143,0.9217322574241777,1.1183342755640344,-1.0163192032420165,-1.2180619895805835,-0.45529879070026713,-0.4749589925142526,-0.8885278914511098,0.7939409456332711,-1.090270677789677,0.852921551075228,0.9020720556101922,-1.0163192032420165,1.0298633674010989,-1.090270677789677,0.8725817528892138,1.1085041746570417,0.9512225601451563,-1.1099308796036624,-1.0607803750686986,0.9020720556101922,0.9119021565171851,-0.805197751486885,1.088843972843056,0.7742807438192854,1.5763643463275732,0.9413924592381635,-1.0556396068699876,0.7546205420052998,0.9072128238089029,1.1183342755640344,0.8234312483542497,-1.1787415859526122,0.7939409456332711,0.7153001383773286,0.7546205420052998,1.0396934683080916,-1.1197609805106554,1.2068051837269698,-0.8983579923581025,-0.7462171460449281,1.0396934683080916,-0.5142793961422237,-1.3556834022784832,0.8875526219949174,0.7546205420052998,1.0986740737500489,1.0593536701220772,1.0003730646801205,-0.9329890632777917,1.3640867982388551,-1.1001007786966697,1.1183342755640344,0.7447904410983072,0.8136011474472569,0.7939409456332711,-1.2278920904875765,1.0396934683080916,-1.247552292301562,1.0102031655871133,0.7054700374703358,0.49903791842348644,1.0298633674010989,0.7644506429122926,-1.2325814231958585,0.9465332274368744,-0.8936686596498202,-1.1295910814176482,-1.0607803750686986,-0.9821395678127559,-0.9034987605568132,0.577678725679429,1.0298633674010989,1.0102031655871133,-0.6919258733112534,-1.1787415859526122,0.96619342925086,-1.5078242485916575,0.8234312483542497,-0.7607365796602031,-0.7509064787532103,1.0003730646801205,-1.4048339068134474,-1.1001007786966697,-1.090270677789677,-0.9919696687197487,0.852921551075228,1.0298633674010989,0.9807128628661349,0.7054700374703358,0.5186981202374721,1.020033266494106,1.147824578285013,1.0298633674010989,0.7251302392843214,0.9807128628661349,0.9512225601451563,-0.706896742416957,-0.972309466905763,0.9020720556101922,-1.247552292301562,-0.8936686596498202,1.1136449428557524,0.8384021174599534,0.7939409456332711,-1.1001007786966697,-1.4638145122554043,0.8136011474472569,-1.188571686859605,-1.0509502741617058,-1.5078242485916575,-0.8885278914511098,0.8136011474472569,-0.7017559742182462,0.5336689893431757,-0.5241094970492165,0.9708827619591421,-1.3163629986505119,-0.8248579533008707,1.13799447737802,1.147824578285013,1.0396934683080916,1.0644944383207882,-1.1736008177539017,0.8627516519822209,-0.7607365796602031,-0.9376783959860739,-1.0804405768826841,0.8037710465402641,-1.1001007786966697,0.8725817528892138,1.5861944472345662,0.7939409456332711,0.8136011474472569,1.182455649204702,1.2657857891689264,-1.0017997696267416,-1.0411201732547128,-0.6380860360680074,-0.6380860360680074,1.2166352846339623,-0.9671686987070524,0.6516302002270894,0.9119021565171851,0.9905429637731278,-1.1099308796036624,-0.7560472469519212,-0.9966590014280309,0.8580623192739388,0.7841108447262783,-0.7705666805671959,1.0396934683080916,-1.2672124941155476,0.8627516519822209,-1.247552292301562,0.7204409065760393,-1.2227513222888657,1.3739168991458477,-1.247552292301562,0.7251302392843214,0.8824118537962067,-0.8346880542078635,-0.7167268433239494,-1.03129007234772,-0.8543482560218493,0.7546205420052998,0.9217322574241777,0.9858536310648457,-1.1001007786966697,-1.1244503132189374,0.8973827229019102,0.8234312483542497,1.0102031655871133,-0.972309466905763,-1.1787415859526122,-1.2082318886735905,-1.090270677789677,-1.0706104759756914,-1.1197609805106554,1.13799447737802,-1.0706104759756914,-1.1099308796036624,-0.9624793659987702,-0.8346880542078635,-1.1001007786966697,-1.1099308796036624,0.799081713831982,1.0055138328788311,1.7533061626534445,0.7939409456332711,-0.9329890632777917,-0.40614828616530285,-0.42580848797928855,-0.9966590014280309,-0.8393773869161455,-0.7560472469519212,-1.3163629986505119,1.7631362635604373,-1.045809505962995,-1.2573823932085553,-1.1689114850456195,0.8824118537962067,1.0003730646801205,0.8725817528892138,1.0102031655871133,-1.1099308796036624,1.13799447737802,-0.6329452678692964,0.9217322574241777,-0.9919696687197487,-1.0804405768826841,1.025174034692817,-1.0017997696267416,0.9315623583311707,0.8725817528892138,-1.0804405768826841,0.9119021565171851,-1.1047901114049519,0.8332613492612423,-1.1590813841386267,0.7742807438192854,0.7841108447262783,-0.8641783569288422,0.7546205420052998,-0.9034987605568132,-0.8740084578358349,0.7644506429122926,1.0396934683080916,0.8430914501682354,-1.0116298705337343,0.9760235301578526,-0.5535997997701951,0.9858536310648457,-1.0607803750686986,1.147824578285013,-1.03129007234772,-0.9671686987070524,-0.9180181941720883,-1.2227513222888657,-1.1197609805106554,0.8037710465402641,-1.0706104759756914,0.8627516519822209,-1.1001007786966697,-1.2180619895805835,0.8922419547031994,0.8430914501682354,0.7153001383773286,-0.8983579923581025,0.9072128238089029,0.7447904410983072,-1.1834309186608947,-0.27835697437439594,-1.0064891023350235,0.7251302392843214,1.0593536701220772,1.2217760528326733,-1.03129007234772,-1.0163192032420165,-1.1590813841386267,-1.1001007786966697,-1.1441105150329232,-1.0804405768826841,-0.7265569442309426,0.8627516519822209,-0.8838385587428277,-0.8740084578358349,-0.8838385587428277,0.9708827619591421,0.8430914501682354,-0.9034987605568132,1.1674847800989985,0.852921551075228,-1.1001007786966697,-1.2672124941155476,-0.8197171851021601,0.8234312483542497,1.2316061537396659,0.9170429247158959,-1.0411201732547128,0.8580623192739388,0.961052661052149,-1.2278920904875765,-1.2377221913945693,-1.1099308796036624,-1.0017997696267416,-0.9573385978000597,0.9268730256228886,0.8430914501682354,1.0396934683080916,0.9315623583311707,-0.9034987605568132,0.7644506429122926,-0.9624793659987702,-1.0607803750686986,0.8136011474472569,1.3345964955178764,-0.7757074487659066,-1.1689114850456195,0.5481884229584506,1.0350041355998099,-1.3505426340797724,1.6550051535835164,-1.1197609805106554,-0.9919696687197487,-1.2377221913945693,0.577678725679429,0.7153001383773286,-1.1590813841386267,-0.9133288614638062,0.7349603401913143,-1.2868726959295331,-1.1295910814176482,-1.0017997696267416,-1.2573823932085553,0.6169991293074003,-1.0017997696267416,1.0644944383207882,-1.045809505962995,0.5383583220514577,-1.1787415859526122,-0.9180181941720883,-1.035979405056002,0.9465332274368744,0.7153001383773286,-1.385173704999462,0.6661496338423646,0.8234312483542497,-0.8445181551148565,-1.1689114850456195,1.020033266494106,-1.1099308796036624,-1.1146202123119446,1.0396934683080916,1.251266355553652,1.6353449517695304,-0.9231589623707989,1.0644944383207882,-1.2672124941155476,-1.198401787766598,-1.2377221913945693,1.1576546791920055,0.9217322574241777,-0.42580848797928855,1.1529653464837235,1.2068051837269698,0.9512225601451563,0.7939409456332711,-1.188571686859605,-1.0804405768826841,1.7533061626534445,0.9020720556101922,1.0350041355998099,-1.0607803750686986,1.4584031354436595,-1.1394211823246412,-1.4979941476846643,-0.8248579533008707,0.7251302392843214,0.681120502948068,0.9708827619591421,-1.1197609805106554,1.088843972843056,0.8824118537962067,0.9956837319718385,0.5678486247724363,-1.1787415859526122,-0.8641783569288422,1.2610964564606446,-0.9034987605568132,0.9020720556101922,0.9512225601451563,-0.8885278914511098,1.020033266494106,-1.0706104759756914,-1.021459971440727,1.3247663946108836,-1.2180619895805835,-1.0017997696267416,0.9413924592381635,-1.247552292301562,-1.212921221381873,-0.8492074878231383,-0.711586075125239,0.9367031265298817,-0.3078472770953744,-1.035979405056002,-0.986828900521038,-1.0064891023350235,0.9807128628661349,0.6169991293074003,0.5383583220514577,0.7742807438192854,1.1136449428557524,-1.2817319277308226,1.1922857501116948,-0.8295472860091527,0.8136011474472569,1.2362954864479483,-0.8641783569288422,-0.9475084968930666,0.8627516519822209,-0.8590375887301313,1.1773148810059912,-1.2573823932085553,-0.9966590014280309,-0.9769987996140448,-0.4651288916072596,0.8089118147389749,0.8332613492612423,-1.021459971440727,1.1674847800989985,0.8922419547031994,-0.9428191641847846,0.7841108447262783,0.577678725679429,-0.32750747890936016,1.1627954473907165,1.3797623281877172,-0.986828900521038,-0.986828900521038,1.0691837710290704,-0.9573385978000597,0.6614603011340825,-1.0804405768826841,0.6169991293074003,-1.1001007786966697,-0.8641783569288422,-1.0509502741617058,1.2854459909829123,-0.8248579533008707,1.1085041746570417,0.961052661052149,0.7251302392843214,0.961052661052149,-1.0706104759756914,-1.2573823932085553,0.7054700374703358,1.0153439337858239,0.8725817528892138,-1.0116298705337343,-1.2377221913945693,0.7644506429122926,0.7447904410983072,1.7041556581184802,-1.1394211823246412,-0.28818707528138904,-1.1787415859526122,-0.8492074878231383,-0.8641783569288422,-0.22920646983943185,-1.2770425950225406,-1.247552292301562,-0.9428191641847846,-1.2868726959295331,-1.0116298705337343,1.0495235692150844,-0.9671686987070524,-0.8393773869161455,-1.1146202123119446,0.9268730256228886,-0.9821395678127559,0.7794215120179963,-0.7017559742182462,-0.1557064307822002,-0.972309466905763,0.961052661052149,1.556704144513588,-1.0261493041490095,0.740101108390025,-1.0851299095909666,1.7336459608394592,-1.1047901114049519,-1.0556396068699876,1.0644944383207882,-1.0851299095909666,-0.4356385888862813,-0.691221212468095,-1.090270677789677,-1.1787415859526122,-1.0411201732547128,-0.8936686596498202,1.1281643764710272,1.2166352846339623,0.961052661052149,-0.9919696687197487,-0.9133288614638062,-0.9133288614638062,0.8430914501682354,0.8627516519822209,0.5383583220514577,0.7546205420052998,0.8136011474472569,-0.9428191641847846,-1.2672124941155476,0.7841108447262783,-1.090270677789677,-0.9329890632777917,1.0350041355998099,-0.6125804052121521,0.8037710465402641,1.0546643374137954,0.7106108056690466,-0.9573385978000597,-1.2278920904875765,0.8187419156459675,-0.9919696687197487,-1.1834309186608947,-1.1342804141259302,0.8430914501682354,-1.1736008177539017,-0.4651288916072596,0.7251302392843214,-1.035979405056002,-1.1590813841386267,-0.9919696687197487,-0.2095462680254462,1.251266355553652,0.7447904410983072,-1.247552292301562,0.8627516519822209,-1.0607803750686986,0.9217322574241777,0.6661496338423646,0.8725817528892138,-1.149251283231634,-0.8740084578358349,1.1183342755640344,0.8922419547031994,-1.2377221913945693,-0.9821395678127559,-1.2620717259168373,-1.2030911204748802,-0.25869677256041024,0.9315623583311707,-0.8346880542078635,1.0102031655871133,0.8430914501682354,-1.1099308796036624,-0.9821395678127559,0.9807128628661349,-1.1001007786966697,-1.021459971440727,1.0593536701220772,-1.0706104759756914,-1.2278920904875765,-1.0804405768826841,0.8777225210879245,-0.878697790544117,0.740101108390025,-0.7560472469519212,0.68580983565635,0.8922419547031994,-1.0706104759756914,-1.1197609805106554,0.7841108447262783,0.8875526219949174,0.9807128628661349,0.7841108447262783,0.9217322574241777,0.7644506429122926,-1.0607803750686986,-0.9376783959860739,-1.0607803750686986,-1.1441105150329232,-1.0261493041490095,-1.1689114850456195,1.0790138719360631,-1.021459971440727,0.9512225601451563,0.7644506429122926,0.740101108390025,0.9072128238089029,-0.17022586439747497,-1.3753436040924687,0.9020720556101922,1.187144981912984,-1.188571686859605,-1.1001007786966697,-0.972309466905763,-0.7363870451379353,1.1773148810059912,1.020033266494106,-1.1590813841386267,-1.0163192032420165,-1.2620717259168373,0.8187419156459675,1.0841546401347735,-1.021459971440727,-1.090270677789677,1.133305144669738,0.7939409456332711,1.0298633674010989,-1.0654697077769806,0.7939409456332711,-1.1197609805106554,-0.8393773869161455,1.1038148419487592,-0.9034987605568132,-0.8590375887301313,-1.035979405056002,-1.0706104759756914,-1.1295910814176482,-0.15056566258348936,-1.2180619895805835,-1.1394211823246412,0.9119021565171851,0.961052661052149,-1.1689114850456195,0.9512225601451563,0.7742807438192854,0.852921551075228,-1.0509502741617058,-0.9671686987070524,-0.9624793659987702,-0.9133288614638062,0.8922419547031994,0.9413924592381635,-1.0017997696267416,-1.2868726959295331,-1.198401787766598,0.852921551075228,-0.9919696687197487,-0.878697790544117,-0.9966590014280309,-0.9376783959860739,1.0350041355998099,0.9217322574241777,-0.8688676896371239,1.1922857501116948,-0.7855375496728995,1.133305144669738,0.5631592920641542,-1.2770425950225406,0.8136011474472569,-1.2573823932085553,-1.149251283231634,-0.9428191641847846,-1.1001007786966697,0.7054700374703358,0.9217322574241777,1.0396934683080916,1.182455649204702,-1.1099308796036624,0.8136011474472569,-0.9769987996140448,-0.28818707528138904,0.9807128628661349,-1.4638145122554043,1.123475043762745,0.8973827229019102,1.255955688261934,0.96619342925086,0.7597613102040105,-0.3078472770953744,1.0644944383207882,-0.5987656324400359,0.8725817528892138,1.1431352455767307,-1.0017997696267416,-0.805197751486885,-1.2868726959295331,-1.306532897743519,0.9020720556101922,-1.2082318886735905,0.7841108447262783,-1.0607803750686986,0.8824118537962067,-1.1590813841386267,-1.1099308796036624,-1.2573823932085553,0.7644506429122926,-0.7167268433239494,-0.9671686987070524,0.7939409456332711,1.088843972843056,1.6746653553975022,1.0546643374137954,-1.1787415859526122,-0.8936686596498202,1.2166352846339623,-1.0706104759756914,-1.1590813841386267,0.8627516519822209,0.8824118537962067,-1.090270677789677,0.7054700374703358,1.0350041355998099,1.0003730646801205,0.8725817528892138,0.8234312483542497,1.0153439337858239,0.6614603011340825,-0.878697790544117,1.556704144513588,0.7644506429122926,0.9020720556101922,0.8922419547031994,1.246125587354941,1.6550051535835164,-1.1932610195678872,-0.7363870451379353,-0.8936686596498202,1.0396934683080916,-1.247552292301562,-1.1394211823246412,0.8973827229019102,0.8430914501682354,-1.090270677789677,1.0495235692150844,-1.03129007234772,-0.8641783569288422,-1.090270677789677,0.9119021565171851,0.9020720556101922,0.9708827619591421,0.9413924592381635,-0.9919696687197487,-0.805197751486885,-1.035979405056002,-0.9821395678127559,-0.3176773780023672,1.4485730345366672,1.3102469609956087,-0.9475084968930666,1.0153439337858239,-0.672265671497268,-0.8936686596498202,-0.9034987605568132,-0.4356385888862813,-0.7214161760322318,-0.3864880843513173,1.2657857891689264,-0.9081880932650955,-0.711586075125239,1.133305144669738,1.5861944472345662,-1.03129007234772,1.0986740737500489,-1.0017997696267416,0.9217322574241777,1.6451750526765232,0.6956399365633431,0.956363328343867,0.7302710074830321,-1.2573823932085553,0.7447904410983072,0.9807128628661349,-0.8936686596498202,-0.34716768072334575,0.7841108447262783,-0.9671686987070524,-0.7607365796602031,-1.149251283231634,1.0055138328788311,0.7742807438192854,0.8136011474472569,1.1674847800989985,0.852921551075228,0.8037710465402641,-1.090270677789677,0.8922419547031994,1.7041556581184802,0.8430914501682354,-0.9034987605568132,0.6563195329353717,0.5383583220514577,-0.9081880932650955,0.852921551075228,1.182455649204702,-0.9526492650917774,-1.1244503132189374,1.5763643463275732,-1.035979405056002,0.8875526219949174,1.251266355553652,0.7007807047620536,0.9708827619591421,-1.0654697077769806,-1.045809505962995,0.7644506429122926,-1.0411201732547128,-1.1787415859526122,-1.1394211823246412,0.961052661052149,-0.9329890632777917,-1.0706104759756914,1.0593536701220772,0.7546205420052998,-0.7560472469519212,-1.2770425950225406,0.7742807438192854,0.7546205420052998,-1.1787415859526122,-1.198401787766598,0.8482322183669461,1.020033266494106,0.8234312483542497,0.6956399365633431,0.8037710465402641,0.96619342925086,0.9217322574241777,0.7892516129249892,0.9413924592381635,0.7644506429122926,-1.247552292301562,0.7841108447262783,-1.4539844113484115,-1.090270677789677,-1.2082318886735905,-0.9769987996140448,-0.9278482950790811,-0.8838385587428277,-1.1197609805106554,-1.1590813841386267,-1.0804405768826841,-0.8492074878231383,1.6156847499555451,0.8136011474472569,0.799081713831982,-0.2095462680254462,1.527213841792609,-0.8197171851021601,-1.0261493041490095,-0.8885278914511098,-0.8393773869161455,-0.1997161671184535,-1.2030911204748802,-0.8197171851021601,1.339737263716587,-0.6231151669623035,-0.25869677256041024,-1.2227513222888657,1.7631362635604373,-0.9133288614638062,0.9512225601451563,-1.0017997696267416,-1.1001007786966697,-0.8740084578358349,1.1969750828199772,1.0593536701220772,-1.306532897743519,-0.9231589623707989,-1.0804405768826841,-1.198401787766598,-0.9919696687197487,0.8627516519822209,0.9315623583311707,0.852921551075228,-1.0017997696267416,1.246125587354941,-1.1099308796036624,-0.8346880542078635,-1.1099308796036624,1.1085041746570417,-0.9428191641847846,-1.1394211823246412,1.187144981912984,0.7447904410983072,-1.188571686859605,-1.1787415859526122,-0.8543482560218493,-1.0607803750686986,-0.48478909342124543,0.7546205420052998,-1.0064891023350235,1.0055138328788311,-1.198401787766598,0.8285720165529604,-1.03129007234772,0.9170429247158959,-1.0804405768826841,0.8384021174599534,1.3895924290947104,0.9956837319718385,0.7546205420052998,-0.8983579923581025,-1.0017997696267416,1.2068051837269698,-1.1342804141259302,-0.9231589623707989,0.7054700374703358,0.9020720556101922,0.7546205420052998,0.8922419547031994,1.1773148810059912,1.1085041746570417,-1.2377221913945693,-1.090270677789677,1.13799447737802,0.852921551075228,0.8725817528892138,1.0102031655871133,0.8824118537962067,0.8430914501682354,-1.2573823932085553,-0.9526492650917774,-1.2377221913945693,0.8627516519822209,-1.0116298705337343,1.4328975045878047,0.9708827619591421,-0.8445181551148565,0.8922419547031994,0.9119021565171851,1.1773148810059912,-1.2278920904875765,0.6071690284004074,-0.8150278523938778,-1.1197609805106554,-1.021459971440727,0.9708827619591421,0.8037710465402641,-0.8590375887301313,0.9315623583311707,0.9956837319718385,-0.8936686596498202,-0.9821395678127559,-1.0752998086839733,0.9315623583311707,1.7729663644674296,-0.9919696687197487,-0.8150278523938778,0.7939409456332711,1.226465385540955,-0.9133288614638062,-1.0509502741617058,-1.0607803750686986,-1.1295910814176482,0.7153001383773286,0.9315623583311707,0.9413924592381635,-1.0607803750686986,0.7054700374703358,-1.149251283231634,0.7302710074830321,0.7546205420052998,0.7499312092970177,-0.3078472770953744,-0.32750747890936016,1.1136449428557524,0.6661496338423646,0.8627516519822209,1.0790138719360631,-1.0851299095909666,-1.1244503132189374,1.7139857590254732,-1.03129007234772,1.0495235692150844,0.8234312483542497,-1.1001007786966697,0.9708827619591421,0.9708827619591421,1.0396934683080916,0.6956399365633431,1.2756158900759196,-0.9624793659987702,-1.188571686859605,-1.0706104759756914,0.9905429637731278,0.9020720556101922,-1.385173704999462,-1.0607803750686986,0.9807128628661349,-0.8543482560218493,1.0593536701220772,-1.2377221913945693,-0.22920646983943185,0.961052661052149,0.961052661052149,0.8580623192739388,0.9268730256228886,-1.0851299095909666,0.68580983565635,-1.2573823932085553,-1.2770425950225406,-1.2180619895805835,-1.0752998086839733,-1.1295910814176482,1.0495235692150844,-1.1001007786966697,1.1576546791920055,-1.0706104759756914,-0.9475084968930666,0.8725817528892138,-1.1099308796036624,-1.188571686859605,-0.18005596530446788,-0.3176773780023672,-1.2522416250098445,0.7742807438192854,-0.8492074878231383,-0.9180181941720883,-0.9624793659987702,-0.5535997997701951,-0.40614828616530285,1.556704144513588,-0.7705666805671959,0.6221398975061112,0.8824118537962067,-0.9278482950790811,1.0546643374137954,1.1627954473907165,-0.9081880932650955,0.9170429247158959,0.9956837319718385,1.2905867591816234,-0.268526873467403,1.7729663644674296,0.9170429247158959,1.3895924290947104,1.1922857501116948,-0.4159783870722957,0.9217322574241777,0.7546205420052998,-1.1295910814176482,0.9170429247158959,-0.8838385587428277,0.7546205420052998,0.9413924592381635,0.852921551075228,-1.1197609805106554,1.1085041746570417,-1.2377221913945693,-1.0411201732547128,-0.805197751486885,0.9413924592381635,-0.9821395678127559,0.8037710465402641,0.7841108447262783,-1.0411201732547128,-1.2082318886735905,0.9315623583311707,0.9512225601451563,-1.0017997696267416,0.9119021565171851,1.020033266494106,-1.1342804141259302,-1.1787415859526122,-0.2095462680254462,-0.337337579816353,1.527213841792609,0.7742807438192854,-0.647916136975,-1.153940615939916,-0.8492074878231383,0.9072128238089029,0.96619342925086,-1.0556396068699876,1.0448342365068026,1.0350041355998099,0.9268730256228886,-1.247552292301562,1.6550051535835164,0.8725817528892138,-1.2573823932085553,-0.42580848797928855,-0.8983579923581025,0.8332613492612423,-1.198401787766598,1.0495235692150844,0.8627516519822209,1.0396934683080916,-1.1689114850456195,-0.8543482560218493,-1.1295910814176482,0.8725817528892138,-1.0017997696267416,0.9119021565171851,0.852921551075228,0.852921551075228,-0.9034987605568132,-0.29801717618838164,1.0593536701220772,0.7695914111110034,0.7841108447262783,1.7631362635604373,-1.045809505962995,-1.1244503132189374,-1.0804405768826841,0.9760235301578526,-0.3668278825373314,1.133305144669738,1.1136449428557524,-0.8492074878231383,-0.9966590014280309,1.6255148508625383,-0.7509064787532103,-0.34716768072334575,0.852921551075228,1.1183342755640344,-1.4441543104414187,0.8973827229019102,1.6648352544905094,0.9020720556101922,-0.9919696687197487,-1.1590813841386267,1.1085041746570417,1.2854459909829123,-1.0607803750686986,-1.0804405768826841,-1.03129007234772,-1.2672124941155476,-1.1001007786966697,-1.2180619895805835,-0.9919696687197487,0.9315623583311707,0.9807128628661349,0.9119021565171851,0.9708827619591421,-1.2082318886735905,1.0593536701220772,-0.8740084578358349,0.9315623583311707,0.7742807438192854,0.7841108447262783,0.9858536310648457,-1.0752998086839733,0.8136011474472569,1.339737263716587,-1.0064891023350235,-1.1441105150329232,-0.6872365406029713,-0.8838385587428277,1.133305144669738,-1.1047901114049519,-1.1787415859526122,-0.4159783870722957,0.7499312092970177,-1.0261493041490095,-1.1295910814176482,0.9807128628661349,1.123475043762745,-0.32750747890936016,1.0546643374137954,0.8824118537962067,-0.9231589623707989,0.9119021565171851,1.1576546791920055,-0.7855375496728995,-1.1295910814176482,-0.9821395678127559,-1.1197609805106554,0.6956399365633431,1.3247663946108836,0.9217322574241777,0.9020720556101922,-0.9624793659987702,1.0691837710290704,-1.149251283231634,1.13799447737802,-1.149251283231634,-1.2967027968365263,1.0102031655871133,-1.1394211823246412,-0.8641783569288422,-1.1394211823246412,0.9020720556101922,0.8973827229019102,-0.9081880932650955,-1.0706104759756914,0.9020720556101922,0.68580983565635,0.7644506429122926,-1.0851299095909666,-1.1197609805106554,-1.1787415859526122,-0.8197171851021601,0.9315623583311707,-0.504449295235231,0.8580623192739388,-1.0607803750686986,-1.0752998086839733,-0.9428191641847846,0.8922419547031994,0.8430914501682354,-0.8492074878231383,0.9807128628661349,-0.986828900521038,1.6156847499555451,1.7238158599324658,1.527213841792609,0.7841108447262783,-0.21937636893243917,-0.6282559351610142,1.3306118236527535,-0.9573385978000597,1.133305144669738,1.0939847410417665,-0.7705666805671959,1.0003730646801205,-0.9475084968930666,0.8332613492612423,-1.1295910814176482,0.9807128628661349,0.7742807438192854,-1.2180619895805835,0.8430914501682354,1.1576546791920055,-1.1001007786966697,-1.2377221913945693,-0.8740084578358349,0.7251302392843214,1.1674847800989985,0.6563195329353717,1.0003730646801205,1.0691837710290704,1.1674847800989985,0.9708827619591421,-1.2082318886735905,1.0003730646801205,0.6268292302143933,-1.035979405056002,1.0743245392277807,-0.9573385978000597,0.9072128238089029,0.9072128238089029,0.9413924592381635,-1.03129007234772,-1.2030911204748802,-1.0017997696267416,0.9119021565171851,0.5088680193304791,0.7546205420052998,0.9315623583311707,-1.2082318886735905,0.8725817528892138,-1.3210523313587936,-1.2868726959295331,0.6759797347493575,-0.9821395678127559,-1.0706104759756914,0.9807128628661349,0.6268292302143933,0.8332613492612423,0.8037710465402641,-0.9769987996140448,-1.1197609805106554,0.961052661052149,1.7533061626534445,-1.0607803750686986,-0.7312462769392246,-1.0017997696267416,-1.0706104759756914,0.6712904020410752,0.9119021565171851,1.0546643374137954,-0.8885278914511098,1.0986740737500489,-0.986828900521038,-1.0411201732547128,-1.198401787766598,0.8234312483542497,-0.9329890632777917,1.0003730646801205,0.9119021565171851,-1.0017997696267416,0.5186981202374721,-1.1394211823246412,0.8725817528892138,-0.7855375496728995,-1.2573823932085553,-0.9133288614638062,1.0743245392277807,1.1773148810059912,-1.0411201732547128,0.8824118537962067,-1.0804405768826841,1.0495235692150844,0.8332613492612423,0.7742807438192854,0.5186981202374721,1.0102031655871133,1.1038148419487592,-0.7509064787532103,0.7054700374703358,1.246125587354941,-0.48478909342124543,-0.5142793961422237,0.9858536310648457,-0.8983579923581025,0.740101108390025,0.8037710465402641,-0.9329890632777917,-0.9329890632777917,-0.878697790544117,-1.2082318886735905,-1.1197609805106554,-1.03129007234772,-1.090270677789677,0.9956837319718385,0.961052661052149,0.7841108447262783,-1.1394211823246412,-0.25869677256041024,0.8627516519822209,0.7742807438192854,0.49903791842348644,-1.0116298705337343,-1.1394211823246412,-0.9919696687197487,0.8824118537962067,0.7644506429122926,0.8824118537962067,-0.7462171460449281,0.8332613492612423,-0.25869677256041024,1.0153439337858239,-1.153940615939916,-0.3176773780023672,-1.2180619895805835,-0.8393773869161455,1.1431352455767307,-1.0163192032420165,1.2657857891689264,-0.8983579923581025,1.300416860088616,-0.3668278825373314,-1.4048339068134474,1.020033266494106,0.8430914501682354,-1.03129007234772,-0.9231589623707989,0.7447904410983072,0.8824118537962067,0.7644506429122926,-1.149251283231634,-0.9919696687197487,0.6759797347493575,0.7742807438192854,0.7841108447262783,-1.0706104759756914,-1.0116298705337343,1.1085041746570417,0.7644506429122926,-0.9133288614638062,1.0790138719360631,0.68580983565635,-1.0411201732547128,-1.090270677789677,0.8627516519822209,-1.1295910814176482,0.7447904410983072,-1.03129007234772,-0.9821395678127559,0.6956399365633431,0.7742807438192854,0.9512225601451563,0.9020720556101922,-1.0411201732547128,0.8430914501682354,0.8136011474472569,0.8234312483542497,0.7939409456332711,-1.2082318886735905,0.8332613492612423,-1.2573823932085553,-0.7560472469519212,0.9119021565171851,-0.6715610106541088,0.9217322574241777,0.9315623583311707,0.7546205420052998,-0.8445181551148565,0.7644506429122926,0.7153001383773286,-1.4638145122554043,0.8922419547031994,1.1576546791920055,0.9119021565171851,-1.021459971440727,-1.1295910814176482,-1.198401787766598,-1.1295910814176482,-0.9526492650917774,0.9020720556101922,0.8136011474472569,0.9020720556101922,-1.434324209534426,0.9413924592381635,-1.0949600104979593,0.852921551075228,-1.2672124941155476,1.0593536701220772,0.9315623583311707,0.852921551075228,0.852921551075228,1.0841546401347735,-0.9034987605568132,0.9119021565171851,-0.9329890632777917,0.7153001383773286,0.8430914501682354,0.9413924592381635,-1.2770425950225406,-1.2180619895805835,0.8037710465402641,-1.2967027968365263,1.147824578285013,0.7546205420052998,-1.0607803750686986,1.0790138719360631,-1.0607803750686986,-1.0163192032420165,0.799081713831982,-0.3569977816303385,1.1281643764710272,0.9119021565171851,-1.2082318886735905,1.3542566973318622,-1.3655135031854762,0.8136011474472569,0.7939409456332711,1.0644944383207882,0.852921551075228,0.852921551075228,0.7939409456332711,0.799081713831982,-1.1001007786966697,-1.0509502741617058,0.7302710074830321,-1.021459971440727,-0.8838385587428277,1.0790138719360631,1.0495235692150844,0.961052661052149,0.8332613492612423,0.9905429637731278,1.0743245392277807,-0.9329890632777917,0.8187419156459675,1.1576546791920055,0.7841108447262783,-1.0949600104979593,-1.0116298705337343,1.0743245392277807,0.9760235301578526,0.9807128628661349,-0.504449295235231,-0.878697790544117,-0.5437696988632024,-0.6813911115611015,-1.0017997696267416,-0.9081880932650955,1.7041556581184802,0.9413924592381635,-0.7607365796602031,0.7644506429122926,-0.9034987605568132,-1.1001007786966697,0.8187419156459675,-1.0706104759756914,-0.8936686596498202,0.9807128628661349,-1.198401787766598,-1.149251283231634,0.8922419547031994,0.9367031265298817,-0.8885278914511098,-0.805197751486885,-0.8248579533008707,-1.0261493041490095,1.2021158510186876,-0.5535997997701951,1.6746653553975022,0.8725817528892138,-0.5784007697828915,-1.2424115241028515,0.6563195329353717,-1.0851299095909666,-0.25869677256041024,-1.0851299095909666,0.8627516519822209,1.226465385540955,-0.3569977816303385,-1.0064891023350235,-1.0261493041490095,0.7546205420052998,1.7729663644674296,1.0743245392277807,-0.8000569832881741,-0.5437696988632024,1.2217760528326733,-1.1197609805106554,0.7644506429122926,-1.149251283231634,-0.9329890632777917,1.1281643764710272,-0.972309466905763,1.0102031655871133,0.68580983565635,-1.021459971440727,0.8234312483542497,0.6956399365633431,-0.9624793659987702,-1.03129007234772,0.961052661052149,0.8430914501682354,0.5088680193304791,-0.6675763387889856,0.7546205420052998,0.9020720556101922,-1.0804405768826841,1.0495235692150844,-0.9526492650917774,-0.9428191641847846,1.0495235692150844,1.2362954864479483,-0.8543482560218493,-0.9919696687197487,-1.0017997696267416,0.6268292302143933,0.961052661052149,-0.8492074878231383,0.8430914501682354,1.5468740436065949,0.956363328343867,0.7447904410983072,0.8824118537962067,-1.1244503132189374,-1.153940615939916,-1.2817319277308226,-0.6919258733112534,-0.5437696988632024,0.8973827229019102,0.7742807438192854,-0.3176773780023672,-1.1441105150329232,0.8973827229019102,0.6909506038550609,-1.0509502741617058,0.9268730256228886,-1.212921221381873,-1.149251283231634,-0.8000569832881741,1.0743245392277807,1.0743245392277807,-0.7803967814741889,1.182455649204702,-1.0804405768826841,0.8136011474472569,0.8922419547031994,-1.03129007234772,0.8234312483542497,-1.2868726959295331,0.8627516519822209,-1.1689114850456195,0.9807128628661349,0.8430914501682354,1.020033266494106,0.7644506429122926,-1.0607803750686986,0.9512225601451563,-0.7855375496728995,-1.2180619895805835,-1.3458533013714906,0.9072128238089029,0.9905429637731278,-0.9329890632777917,1.0546643374137954,-1.0509502741617058,-0.3668278825373314,1.0644944383207882,-0.8000569832881741,0.681120502948068,-0.9278482950790811,1.7041556581184802,-0.8295472860091527,1.1431352455767307,-0.24886667165341758,0.8136011474472569,-0.3668278825373314,-1.1197609805106554,0.8136011474472569,0.9708827619591421,0.7251302392843214,0.9170429247158959,0.8037710465402641,-1.1590813841386267,-1.424494108627433,-1.2770425950225406,1.4485730345366672,0.799081713831982,-1.3112222304518009,-1.1146202123119446,0.7939409456332711,-1.090270677789677,-0.6675763387889856,0.8725817528892138,0.8725817528892138,-1.0116298705337343,-1.1001007786966697,0.68580983565635,-1.2278920904875765,-1.1590813841386267,-1.0064891023350235,0.8922419547031994,-1.0804405768826841,-1.03129007234772,-1.2770425950225406,0.8332613492612423,0.7251302392843214,-1.2082318886735905,-1.03129007234772,1.8122867680954018,-1.1441105150329232,-1.2082318886735905,-1.1736008177539017,-1.1441105150329232,-1.0556396068699876,0.9413924592381635,-1.1590813841386267,-1.2770425950225406,1.0495235692150844,-0.7658773478589136,0.9807128628661349,-1.198401787766598,-1.1689114850456195,-0.9081880932650955,1.1627954473907165,-0.22920646983943185,-1.1099308796036624,-0.7214161760322318,1.0350041355998099,-0.9475084968930666,1.1038148419487592,1.1627954473907165,0.7251302392843214,-0.5437696988632024,-1.1736008177539017,0.8384021174599534,-0.7017559742182462,0.8482322183669461,-1.0851299095909666,0.7302710074830321,-1.1441105150329232,-0.7214161760322318,-1.0556396068699876,-0.337337579816353,0.9956837319718385,1.0350041355998099,1.13799447737802,-1.2620717259168373,1.0691837710290704,-1.0654697077769806,-1.198401787766598,0.96619342925086,1.5173837408856163,-0.9428191641847846,0.7054700374703358,0.8627516519822209,-1.2672124941155476,-1.188571686859605,-1.03129007234772,0.7939409456332711,-1.3261930995575046,0.8332613492612423,1.0396934683080916,-0.9034987605568132,1.0691837710290704,-0.9231589623707989,-1.1689114850456195,-1.1787415859526122,-1.2377221913945693,-1.2672124941155476,0.8332613492612423,0.9413924592381635,-1.2377221913945693,0.68580983565635,-1.4736446131623973,0.8234312483542497,-1.4048339068134474,-1.247552292301562,-0.9329890632777917,-1.090270677789677,-1.0607803750686986,0.9807128628661349,-0.9133288614638062,0.7841108447262783,0.9413924592381635,1.1281643764710272,0.9119021565171851,1.088843972843056,-1.1197609805106554,-1.0804405768826841,0.8824118537962067,1.0691837710290704,0.68580983565635,0.7546205420052998,-1.1001007786966697,0.9217322574241777,-1.198401787766598,0.8725817528892138,0.8627516519822209,-1.149251283231634,-1.188571686859605,0.8922419547031994,1.0593536701220772,0.7054700374703358,1.0003730646801205,0.7447904410983072,-0.8445181551148565,0.7841108447262783,-1.1197609805106554,1.088843972843056,0.852921551075228,-1.2278920904875765,0.9413924592381635,1.1281643764710272,0.8234312483542497,0.8725817528892138,-1.0411201732547128,-0.9526492650917774,-1.4048339068134474,0.8234312483542497,-1.188571686859605,-1.0116298705337343,-1.021459971440727,-1.0706104759756914,0.9119021565171851,0.8824118537962067,-1.1099308796036624,0.7742807438192854,0.49903791842348644,0.8627516519822209,0.7546205420052998,-0.9919696687197487,1.2657857891689264,-1.1590813841386267,0.7644506429122926,1.0396934683080916,0.6268292302143933,1.187144981912984,0.8136011474472569,0.8922419547031994,0.8136011474472569,-1.247552292301562,0.9217322574241777,0.9512225601451563,-1.0804405768826841,-1.1001007786966697,1.0495235692150844,0.961052661052149,0.8824118537962067,0.852921551075228,0.9807128628661349,0.961052661052149,0.8627516519822209,1.0003730646801205,1.1281643764710272,0.7546205420052998,-1.1001007786966697,0.8136011474472569,0.8430914501682354,-1.03129007234772,1.0495235692150844,0.9708827619591421,0.8430914501682354,1.020033266494106,1.020033266494106,0.7546205420052998,-1.0509502741617058,0.9217322574241777,0.852921551075228,0.7742807438192854,1.1576546791920055,0.7841108447262783,0.48920781751649384,0.8725817528892138,0.852921551075228,0.8332613492612423,0.8725817528892138,0.8332613492612423,-1.2082318886735905,0.8824118537962067,1.0790138719360631,1.13799447737802,0.8037710465402641,0.9512225601451563,0.8627516519822209,-1.1295910814176482,0.852921551075228,-1.1197609805106554,0.9413924592381635,1.0102031655871133,0.7742807438192854,-1.198401787766598,-1.1394211823246412,-0.6872365406029713,1.088843972843056,-1.0607803750686986,-1.4638145122554043,-1.0017997696267416,-1.247552292301562,-0.9526492650917774,0.7447904410983072,0.7153001383773286,1.0946894018849254,0.7644506429122926,0.8037710465402641,1.2657857891689264,0.9905429637731278,0.8725817528892138,0.9807128628661349,-1.1197609805106554,-1.1295910814176482,-1.1001007786966697,-1.2868726959295331,-1.1787415859526122,0.9413924592381635,0.852921551075228,0.7251302392843214,1.1183342755640344,-0.9329890632777917,0.7153001383773286,0.8824118537962067,0.9807128628661349,-1.0116298705337343,0.8037710465402641,0.7742807438192854,0.852921551075228,0.7939409456332711,1.1183342755640344,1.0102031655871133,0.5285282211444648,-0.8248579533008707,0.7939409456332711,-0.9624793659987702,0.8627516519822209,1.2166352846339623,0.5285282211444648,0.49903791842348644,0.7939409456332711,0.9315623583311707,0.9119021565171851,-1.2770425950225406,0.9512225601451563,0.9020720556101922,0.8824118537962067,-1.2278920904875765,-0.7560472469519212,0.9413924592381635,-1.2672124941155476,-1.1787415859526122,0.68580983565635,0.961052661052149,-1.1099308796036624,-0.9428191641847846,0.7644506429122926,0.7251302392843214,1.1576546791920055,-0.8641783569288422,-0.9624793659987702,1.1281643764710272,-0.9919696687197487,0.8725817528892138,0.8037710465402641,-1.2180619895805835,-1.1197609805106554,0.9119021565171851,0.7546205420052998,-0.7658773478589136,0.8430914501682354,1.0003730646801205,0.8627516519822209,-0.8641783569288422,0.8627516519822209,-1.198401787766598,0.961052661052149,0.7447904410983072,-1.0804405768826841,0.9315623583311707,0.961052661052149,-0.9133288614638062,-1.1001007786966697,-1.247552292301562,1.020033266494106,-1.1295910814176482,-1.0804405768826841,-1.021459971440727,-1.1590813841386267,-0.9624793659987702,0.9119021565171851,-1.1590813841386267,0.68580983565635,-0.972309466905763,0.7939409456332711,0.68580983565635,1.2756158900759196,-1.198401787766598,0.852921551075228,-1.2082318886735905,0.9905429637731278,0.6464894320283787,-0.8590375887301313,-1.2770425950225406,0.8332613492612423,0.7054700374703358,0.8136011474472569,-0.9919696687197487,-1.0607803750686986,0.852921551075228,1.0003730646801205,1.0495235692150844,0.7546205420052998,0.9119021565171851,0.8922419547031994,0.8430914501682354,-1.2377221913945693,1.0298633674010989,1.088843972843056,0.7153001383773286,0.8922419547031994,-1.1394211823246412,0.8824118537962067,-1.2082318886735905,0.9708827619591421,0.8725817528892138,-1.0509502741617058,-0.4749589925142526,-1.188571686859605,-1.188571686859605,0.7251302392843214,0.7349603401913143,0.7644506429122926,1.0986740737500489,0.9807128628661349,-1.021459971440727,0.7153001383773286,0.9708827619591421,0.7349603401913143,1.0986740737500489,-1.1001007786966697,0.636659331121386,-1.0804405768826841,-1.1787415859526122,-0.9526492650917774,0.6759797347493575,0.7939409456332711,0.8627516519822209,-0.8740084578358349,-1.0509502741617058,0.8430914501682354,-0.7462171460449281,0.9905429637731278,-1.03129007234772,0.8430914501682354,0.8627516519822209,-0.8150278523938778,-1.2278920904875765,-1.0804405768826841,0.8332613492612423,0.7251302392843214,-1.1099308796036624,-1.1394211823246412,1.0102031655871133,0.8234312483542497,-1.1197609805106554,-1.188571686859605,-1.2377221913945693,0.9217322574241777,-1.1590813841386267,0.7939409456332711,0.8234312483542497,-0.9428191641847846,0.7939409456332711,1.0102031655871133,-1.1689114850456195,0.8332613492612423,-1.2082318886735905,-1.1394211823246412,1.13799447737802,0.7251302392843214,-1.0607803750686986,0.7251302392843214,0.9512225601451563,1.1576546791920055,1.7631362635604373,0.7644506429122926,0.7742807438192854,1.1922857501116948,0.7349603401913143,-1.1787415859526122,-1.434324209534426,0.7841108447262783,1.0495235692150844,-1.3163629986505119,-0.7462171460449281,0.6661496338423646,1.0495235692150844,0.7153001383773286,-1.1787415859526122,0.8725817528892138,-1.0017997696267416,0.8824118537962067,-1.1197609805106554,1.1674847800989985,0.9217322574241777,-1.247552292301562,0.9119021565171851,0.681120502948068,1.1576546791920055,0.7644506429122926,-1.2180619895805835,0.8234312483542497,-1.2868726959295331,0.8627516519822209,0.8332613492612423,0.9217322574241777,1.1922857501116948,1.1529653464837235,-1.2573823932085553,0.6661496338423646,-1.2082318886735905,0.9119021565171851,-1.0509502741617058,0.68580983565635,0.7447904410983072,0.7447904410983072,-0.7509064787532103,-1.1001007786966697,0.68580983565635,0.9512225601451563,-1.2770425950225406,0.7644506429122926,1.0396934683080916,-1.1001007786966697,0.8430914501682354,-1.03129007234772,-0.9671686987070524,-1.1295910814176482,-1.3163629986505119,0.9217322574241777,-1.090270677789677,1.4780633372576455,-1.090270677789677,0.7251302392843214,0.9413924592381635,-1.2180619895805835,-1.0607803750686986,0.9020720556101922,0.7349603401913143,0.6956399365633431,0.8037710465402641,0.8234312483542497,0.6661496338423646,1.1183342755640344,0.9020720556101922,0.7841108447262783,1.0691837710290704,-0.8543482560218493,-0.8248579533008707,0.9315623583311707,-1.1295910814176482,-1.4736446131623973,-0.7757074487659066,0.7251302392843214,-1.0509502741617058,-0.8346880542078635,0.9020720556101922,-1.2278920904875765,0.8136011474472569,1.0790138719360631,-0.9133288614638062,0.9512225601451563,-0.9821395678127559,1.2657857891689264,1.2709265573676376,0.7349603401913143,0.9217322574241777,0.7742807438192854,0.961052661052149,0.8824118537962067,-1.2278920904875765,-1.2672124941155476,-1.1099308796036624,-1.1590813841386267,-0.9034987605568132,-1.1689114850456195,1.0593536701220772,1.0396934683080916,0.9217322574241777,-1.1001007786966697,1.147824578285013,1.6156847499555451,-0.7607365796602031,-0.7902268823811814,1.1085041746570417,-1.0411201732547128,0.8824118537962067,-1.090270677789677,0.8136011474472569,-1.0804405768826841,-1.188571686859605,0.9020720556101922,-1.0706104759756914,-1.2180619895805835,-1.03129007234772,-1.3655135031854762,-1.1295910814176482,0.8627516519822209,0.9020720556101922,0.9020720556101922,-0.8936686596498202,-0.9624793659987702,-0.9919696687197487,-0.8936686596498202,0.9413924592381635,-1.2672124941155476,-1.0116298705337343,-1.4638145122554043,-0.6427753687762892,0.8725817528892138,-0.28818707528138904,1.2119459519256803,0.8187419156459675,1.2021158510186876,-1.1689114850456195,1.6451750526765232,-1.0064891023350235,-1.035979405056002,-1.2377221913945693,1.3593974655305727,0.9858536310648457,-0.9180181941720883,1.2316061537396659,0.740101108390025,-1.0261493041490095,0.8777225210879245,0.8037710465402641,1.0396934683080916,-0.8590375887301313,-0.622410506119145,0.9072128238089029,-0.9278482950790811,0.8037710465402641,1.1085041746570417,1.1281643764710272,1.1183342755640344,0.9119021565171851,-0.8346880542078635,-1.247552292301562,-1.1394211823246412,-1.1590813841386267,-1.2817319277308226,-0.795367650579892,-1.0411201732547128,0.7153001383773286,1.13799447737802,-1.4638145122554043,0.7939409456332711,1.1281643764710272,-0.4159783870722957,-1.0706104759756914,-1.0064891023350235,-1.0654697077769806,-1.035979405056002,0.7546205420052998,-1.2180619895805835,-0.9329890632777917,0.8678924201809317,0.7349603401913143,-1.2278920904875765,0.8824118537962067,0.9217322574241777,-1.1197609805106554,1.13799447737802,0.961052661052149,-1.0411201732547128,1.020033266494106,0.9413924592381635,1.7434760617464513,1.4190827318156882,1.1183342755640344,0.7597613102040105,0.8627516519822209,-1.1689114850456195,-1.1689114850456195,0.8824118537962067,0.7546205420052998,-1.2180619895805835,0.8627516519822209,-1.188571686859605,-0.8983579923581025,-1.090270677789677,0.9072128238089029,-1.1244503132189374,-1.1637707168469087,0.7841108447262783,-1.1787415859526122,0.7644506429122926,-0.878697790544117,0.8824118537962067,1.0939847410417665,0.6956399365633431,0.7546205420052998,-1.1295910814176482,-1.2573823932085553,-0.8346880542078635,-0.9081880932650955,-0.8983579923581025,0.7695914111110034,-0.9180181941720883,1.63020418357082,1.0055138328788311,1.0644944383207882,-0.9671686987070524,1.182455649204702,-1.0752998086839733,0.9465332274368744,-0.878697790544117,-0.9769987996140448,0.7447904410983072,-1.0949600104979593,-0.7803967814741889,1.6353449517695304,1.147824578285013,-0.8590375887301313,-1.188571686859605,0.8922419547031994,0.852921551075228,0.8922419547031994,-1.2573823932085553,-1.0017997696267416,0.852921551075228,0.7742807438192854,0.8824118537962067,-1.021459971440727,-1.2377221913945693,-0.8543482560218493,-1.149251283231634,-1.1590813841386267,0.7349603401913143,-1.1295910814176482,0.8037710465402641,0.9217322574241777,-0.8543482560218493,0.7447904410983072,-1.1787415859526122,-0.9966590014280309,0.8430914501682354,-1.1394211823246412,1.0593536701220772,0.9708827619591421,0.9119021565171851,-1.0654697077769806,-0.4749589925142526,-0.8590375887301313,-1.1394211823246412,-0.8295472860091527,0.8234312483542497,0.9956837319718385,0.7546205420052998,-1.2377221913945693,-0.9526492650917774,1.0298633674010989,-1.198401787766598,-0.672265671497268,-1.03129007234772,0.8922419547031994,-1.0411201732547128,0.8725817528892138,0.7153001383773286,0.9512225601451563,-1.1099308796036624,-1.1394211823246412,1.6498643853848054,0.7447904410983072,0.7742807438192854,0.7054700374703358,-1.149251283231634,-1.1590813841386267,-0.8838385587428277,-0.9526492650917774,0.852921551075228,-1.41466400772044,-0.8543482560218493,0.7644506429122926,1.0396934683080916,-1.149251283231634,0.9020720556101922,0.8332613492612423,0.9315623583311707,0.9905429637731278,0.9217322574241777,0.68580983565635,0.9708827619591421,0.7644506429122926,-1.1441105150329232,-0.622410506119145,0.9905429637731278,-1.0706104759756914,0.7742807438192854,-1.0509502741617058,-0.795367650579892,-0.9526492650917774,1.1281643764710272,-1.306532897743519,-1.090270677789677,-1.0804405768826841,0.7644506429122926,-1.198401787766598,-1.3950038059064545,0.7742807438192854,-1.0706104759756914,-1.0804405768826841,-1.188571686859605,-1.0804405768826841,0.9708827619591421,-1.1441105150329232,1.123475043762745,0.6268292302143933,0.9315623583311707,0.48920781751649384,0.9268730256228886,-0.7214161760322318,-0.8098870841951672,-0.9769987996140448,1.782796465374423,0.9807128628661349,0.7892516129249892,-0.3569977816303385,0.6169991293074003,-1.2180619895805835,-0.9231589623707989,-0.8936686596498202,-0.3963181852583099,1.0396934683080916,-1.1590813841386267,0.8037710465402641,-1.0706104759756914,0.8136011474472569,-0.9231589623707989,-0.9231589623707989,1.3247663946108836,0.5973389274934148,-1.2377221913945693,0.6169991293074003,1.3542566973318622,-1.0411201732547128,0.8332613492612423,-1.1197609805106554,1.0298633674010989,1.0691837710290704,-1.188571686859605,-0.8445181551148565,-0.972309466905763,0.7939409456332711,-1.306532897743519,-1.0804405768826841,0.8922419547031994,-1.188571686859605,-1.2377221913945693,-1.1295910814176482,-0.9133288614638062,0.7251302392843214,0.9315623583311707,-1.0804405768826841,0.6909506038550609,-1.0804405768826841,0.7939409456332711,-0.711586075125239,-0.9671686987070524,0.8037710465402641,0.9315623583311707,0.9413924592381635,-0.9966590014280309,0.8627516519822209,-1.188571686859605,0.9413924592381635,0.8136011474472569,-1.198401787766598,0.7939409456332711,-1.2377221913945693,-0.8543482560218493,1.0691837710290704,0.8430914501682354,0.9119021565171851,0.9708827619591421,0.8725817528892138,0.9119021565171851,-1.198401787766598,0.7153001383773286,-1.1689114850456195,-1.2573823932085553,0.6268292302143933,1.0691837710290704,0.8136011474472569,0.8234312483542497,-1.1001007786966697,0.7742807438192854,-0.9428191641847846,0.9708827619591421,0.9807128628661349,-1.1787415859526122,-0.972309466905763,-0.9821395678127559,-0.9231589623707989,-1.1197609805106554,-1.0804405768826841,0.8234312483542497,1.1183342755640344,-1.0706104759756914,0.7251302392843214,0.7349603401913143,-1.306532897743519,-0.9376783959860739,-0.8248579533008707,0.9119021565171851,0.7644506429122926,-0.8740084578358349,-1.0804405768826841,-1.1099308796036624,-1.1099308796036624,1.0298633674010989,0.7742807438192854,0.7841108447262783,0.8234312483542497,0.7742807438192854,-1.149251283231634,0.7939409456332711,0.681120502948068,0.7939409456332711,0.9119021565171851,-0.9966590014280309,0.6268292302143933,-1.2082318886735905,0.7054700374703358,-1.1001007786966697,1.2952760918899053,1.2756158900759196,1.0102031655871133,0.9119021565171851,0.7794215120179963,-1.1834309186608947,-1.1590813841386267,0.7349603401913143,-0.8838385587428277,1.1529653464837235,-1.021459971440727,1.4977235390716315,-1.1787415859526122,0.6956399365633431,1.0153439337858239,0.7546205420052998,0.9956837319718385,1.1281643764710272,0.8234312483542497,-1.198401787766598,0.8384021174599534,0.7251302392843214,-1.2573823932085553,1.0495235692150844,-0.7902268823811814,-1.434324209534426,0.8136011474472569,-1.1787415859526122,-0.9526492650917774,0.5973389274934148,0.9708827619591421,-0.9769987996140448,-0.8492074878231383,-1.149251283231634,-0.8838385587428277,-1.1394211823246412,0.9315623583311707,0.9315623583311707,-0.8197171851021601,0.852921551075228,0.7742807438192854,0.9020720556101922,0.5973389274934148,-0.8590375887301313,-1.045809505962995,0.7742807438192854,0.8037710465402641,0.5580185238654435,1.0691837710290704,-1.0017997696267416,-0.9133288614638062,0.852921551075228,0.9760235301578526,-1.1197609805106554,0.8037710465402641,1.0495235692150844,0.8187419156459675,0.9315623583311707,0.7939409456332711,0.8037710465402641,0.7546205420052998,0.7939409456332711,-1.03129007234772,-0.4159783870722957,-1.2082318886735905,-0.9231589623707989,0.5186981202374721,1.3640867982388551,0.7644506429122926,-1.1295910814176482,1.0790138719360631,0.7742807438192854,1.147824578285013,-1.1394211823246412,-1.0064891023350235,-1.1295910814176482,-1.0116298705337343,1.172625548297709,1.0743245392277807,1.6648352544905094,-1.2424115241028515,-0.9180181941720883,-0.9278482950790811,-1.1342804141259302,-1.1047901114049519,-0.45529879070026713,-1.2030911204748802,0.8973827229019102,-0.7902268823811814,-0.9966590014280309,-1.0949600104979593,1.133305144669738,0.8678924201809317,-0.8346880542078635,-0.268526873467403,0.9170429247158959,-1.0064891023350235,0.8922419547031994,-1.0509502741617058,-1.090270677789677,-0.9329890632777917,0.8332613492612423,-1.03129007234772,-1.021459971440727,0.8136011474472569,1.0986740737500489,-0.9034987605568132,0.8725817528892138,0.48920781751649384,0.5186981202374721,0.7546205420052998,0.8430914501682354,-1.3950038059064545,0.8430914501682354,0.7447904410983072,0.7742807438192854,-1.0752998086839733,1.020033266494106,-0.972309466905763,-1.045809505962995,-0.8885278914511098,-1.2719018268238298,1.0743245392277807,-0.4749589925142526,-1.035979405056002,1.0350041355998099,1.6746653553975022,-1.153940615939916,-0.9573385978000597,1.1038148419487592,1.0644944383207882,-0.6624355705902752,-0.7607365796602031,-0.9966590014280309,0.9367031265298817,-0.9376783959860739,-0.8000569832881741,-1.1637707168469087,-0.8485028269799797,0.6563195329353717,0.6563195329353717,0.9315623583311707,0.852921551075228,-0.9231589623707989,0.8725817528892138,0.7054700374703358,0.7251302392843214,0.7251302392843214,-1.4441543104414187,1.1529653464837235,1.1038148419487592,-0.8492074878231383,1.0350041355998099,-1.0064891023350235,-0.9376783959860739,-1.0261493041490095,1.0350041355998099,-0.9573385978000597,-0.8688676896371239,-1.0949600104979593,1.2905867591816234,0.9956837319718385,1.7926265662814156,0.7447904410983072,-1.0804405768826841,-1.2082318886735905,0.8725817528892138,-1.090270677789677,-1.4048339068134474,0.9512225601451563,0.6909506038550609,-0.9919696687197487,0.9119021565171851,1.1085041746570417,-0.7855375496728995,0.8627516519822209,-1.149251283231634,-0.706896742416957,0.8725817528892138,-1.1394211823246412,1.1773148810059912,-0.8346880542078635,0.9119021565171851,-1.0607803750686986,-1.41466400772044,1.0102031655871133,1.0003730646801205,1.0691837710290704,0.8922419547031994,-0.9133288614638062,-0.8641783569288422,-1.1590813841386267,0.7153001383773286,1.0003730646801205,0.852921551075228,1.0298633674010989,1.1085041746570417,-1.0411201732547128,-0.9231589623707989,-1.0411201732547128,1.0691837710290704,-1.198401787766598,0.6169991293074003,0.6464894320283787,-0.8150278523938778,-1.1001007786966697,-1.0706104759756914,0.7939409456332711,-0.9919696687197487,0.961052661052149,1.0003730646801205,1.020033266494106,0.9119021565171851,-0.8936686596498202,0.9708827619591421,0.8136011474472569,0.7742807438192854,-0.8150278523938778,0.7447904410983072,0.9020720556101922,0.8824118537962067,0.9807128628661349,0.9315623583311707,-1.198401787766598,0.5088680193304791,-0.8248579533008707,0.7349603401913143,0.961052661052149,-1.2573823932085553,0.852921551075228,-0.8936686596498202,0.7742807438192854,-1.0607803750686986,-0.7658773478589136,1.088843972843056,0.8725817528892138,0.6071690284004074,-1.198401787766598,0.8037710465402641,0.7251302392843214,1.1281643764710272,0.9315623583311707,-0.8346880542078635,0.6759797347493575,-1.1197609805106554,1.0593536701220772,-1.1787415859526122,0.9119021565171851,-1.1689114850456195,0.7251302392843214,-0.8543482560218493,-1.0411201732547128,0.9512225601451563,-1.1001007786966697,1.0495235692150844,1.1576546791920055,-1.1689114850456195,0.8725817528892138,-1.2278920904875765,1.3247663946108836,-0.9428191641847846,-1.2082318886735905,0.7251302392843214,-1.0804405768826841,-0.8838385587428277,0.8136011474472569,0.9119021565171851,0.9119021565171851,1.0790138719360631,1.0790138719360631,0.7251302392843214,-0.9919696687197487,0.7447904410983072,-1.198401787766598,0.9119021565171851,-1.385173704999462,-1.149251283231634,1.0102031655871133,-0.9769987996140448,-1.03129007234772,-1.0064891023350235,0.8430914501682354,0.8037710465402641,1.0986740737500489,1.0003730646801205,0.852921551075228,-1.2573823932085553,0.8725817528892138,0.8627516519822209,-1.149251283231634,0.8922419547031994,0.852921551075228,-1.4638145122554043,0.49903791842348644,0.9708827619591421,-1.0411201732547128,0.961052661052149,0.9708827619591421,-1.090270677789677,-1.2573823932085553,-1.0804405768826841,-0.795367650579892,0.9708827619591421,0.7153001383773286,0.8234312483542497,0.8430914501682354,0.8725817528892138,0.9905429637731278,0.9020720556101922,0.7939409456332711,0.8430914501682354,-1.2377221913945693,0.8725817528892138,0.9020720556101922,-1.0706104759756914,0.9020720556101922,0.7153001383773286,0.8234312483542497,-0.805197751486885,0.636659331121386,-0.805197751486885,0.9217322574241777,-1.2770425950225406,0.8136011474472569,-1.1394211823246412,0.9807128628661349,0.852921551075228,0.7153001383773286,-1.1197609805106554,1.0593536701220772,0.7447904410983072,0.8037710465402641,0.7447904410983072,0.961052661052149,0.8725817528892138,1.1773148810059912,-1.1001007786966697,0.7054700374703358,0.9217322574241777,-0.7265569442309426,-1.198401787766598,0.8136011474472569,-1.2180619895805835,0.7251302392843214,-0.8150278523938778,0.852921551075228,0.8332613492612423,-1.1787415859526122,0.8725817528892138,1.0003730646801205,0.8725817528892138,-1.4048339068134474,0.9268730256228886,1.0298633674010989,1.0396934683080916,0.8037710465402641,-1.0804405768826841,1.0986740737500489,1.4780633372576455,0.8037710465402641,0.9315623583311707,-0.40614828616530285,0.7153001383773286,-1.1197609805106554,0.6661496338423646,-0.9231589623707989,0.7054700374703358,0.7546205420052998,0.7742807438192854,-1.021459971440727,1.255955688261934,1.0593536701220772,0.8136011474472569,-1.1001007786966697,-1.2180619895805835,-1.4539844113484115,-1.0804405768826841,1.1281643764710272,1.1085041746570417,-1.1001007786966697,1.0593536701220772,-1.1001007786966697,0.8332613492612423,0.7349603401913143,0.6956399365633431,0.7742807438192854,-1.149251283231634,-1.1001007786966697,-1.2082318886735905,-1.03129007234772,-0.8983579923581025,-0.8740084578358349,0.7939409456332711,0.9119021565171851,0.7742807438192854,0.8627516519822209,1.1576546791920055,0.7742807438192854,0.8482322183669461,-1.149251283231634,0.7841108447262783,-1.424494108627433,-1.1590813841386267,-1.1197609805106554,0.8922419547031994,0.7054700374703358,-0.9133288614638062,0.7054700374703358,0.7644506429122926,-1.1099308796036624,0.7742807438192854,0.7644506429122926,0.6071690284004074,-1.090270677789677,-1.2278920904875765,0.9020720556101922,1.0298633674010989,0.9905429637731278,-1.149251283231634,-1.149251283231634,-1.1394211823246412,-1.0804405768826841,0.852921551075228,0.7644506429122926,-1.1197609805106554,0.852921551075228,0.6759797347493575,0.7054700374703358,0.8136011474472569,0.7447904410983072,0.7546205420052998,0.8037710465402641,-1.1394211823246412,0.8627516519822209,-1.03129007234772,0.8430914501682354,-0.9624793659987702,-1.306532897743519,1.5861944472345662,-1.1001007786966697,-1.0509502741617058,0.9217322574241777,0.852921551075228,0.7841108447262783,0.8234312483542497,-1.1295910814176482,0.7153001383773286,0.7546205420052998,0.8136011474472569,0.7841108447262783,1.1136449428557524,-1.247552292301562,-1.0607803750686986,-0.9526492650917774,-0.9133288614638062,-1.0411201732547128,0.9512225601451563,-0.9919696687197487,-1.1590813841386267,1.1674847800989985,0.9020720556101922,0.7644506429122926,0.9119021565171851,1.2362954864479483,0.8136011474472569,-1.1295910814176482,1.020033266494106,-1.1001007786966697,1.7533061626534445,0.7794215120179963,-0.4749589925142526,-0.9329890632777917,-1.021459971440727,-1.149251283231634,-1.2770425950225406,-1.188571686859605,0.6759797347493575,-1.2672124941155476,0.8136011474472569,-1.1689114850456195,-0.9821395678127559,0.7349603401913143,1.0495235692150844,1.0495235692150844,0.9217322574241777,-1.424494108627433,-1.1099308796036624,0.6661496338423646,-1.2082318886735905,-0.9919696687197487,0.9119021565171851,-0.6519008088401236,0.8037710465402641,0.9020720556101922,-0.9231589623707989,0.7251302392843214,0.8824118537962067,0.7939409456332711,-0.8346880542078635,-1.4638145122554043,-1.1295910814176482,-1.021459971440727,0.7939409456332711,-0.9966590014280309,1.2414362546466589,-1.0116298705337343,0.7841108447262783,0.6614603011340825,-1.1394211823246412,0.8332613492612423,0.7939409456332711,0.8580623192739388,-1.1637707168469087,0.9465332274368744,-1.153940615939916,-1.153940615939916,1.5468740436065949,-0.9573385978000597,1.6550051535835164,0.956363328343867,-1.035979405056002,-1.0654697077769806,-0.37665798344432433,-1.0556396068699876,-0.3176773780023672,1.4780633372576455,1.187144981912984,-1.212921221381873,1.1922857501116948,-1.035979405056002,1.1922857501116948,-1.0851299095909666,-1.1736008177539017,1.63020418357082,-1.045809505962995,-0.4356385888862813,1.3895924290947104,-1.0261493041490095,0.8875526219949174,1.1529653464837235,1.182455649204702,1.0448342365068026,0.9905429637731278,-0.986828900521038,-1.2325814231958585,-0.7705666805671959,1.3404419245597459,1.4584031354436595,1.6156847499555451,1.527213841792609,-0.9526492650917774,-1.3603727349867654,1.0055138328788311,-1.1146202123119446,0.8332613492612423,-0.3668278825373314,-0.9278482950790811,1.0644944383207882,-1.306532897743519,-1.1099308796036624,-1.149251283231634,0.5678486247724363,-1.1590813841386267,-1.1590813841386267,0.852921551075228,0.5186981202374721,0.7251302392843214,-1.2278920904875765,0.6268292302143933,-1.0411201732547128,-1.03129007234772,-0.8445181551148565,0.7349603401913143,-0.7757074487659066,0.7251302392843214,-0.9919696687197487,0.68580983565635,-1.03129007234772,-1.03129007234772,0.8627516519822209,-0.805197751486885,-1.1787415859526122,-1.0017997696267416,0.6563195329353717,-0.9821395678127559,0.5186981202374721,-0.9919696687197487,-0.7462171460449281,0.9413924592381635,-1.0607803750686986,1.0691837710290704,-0.972309466905763,-1.1590813841386267,0.7054700374703358,1.1674847800989985,0.5580185238654435,1.0003730646801205,0.961052661052149,0.7349603401913143,-0.8641783569288422,1.1576546791920055,0.6169991293074003,-1.0607803750686986,-1.0411201732547128,-1.3655135031854762,0.8725817528892138,0.7841108447262783,0.8234312483542497,-1.2573823932085553,-1.4539844113484115,-0.9428191641847846,-1.0017997696267416,1.1576546791920055,-1.0706104759756914,0.9807128628661349,-0.972309466905763,-1.0017997696267416,0.9760235301578526,-1.1689114850456195,-1.1689114850456195,-0.7658773478589136,0.7349603401913143,-1.035979405056002,-1.0851299095909666,-1.424494108627433,1.0448342365068026,0.7892516129249892,-1.2868726959295331,-1.03129007234772,-1.0017997696267416,0.8922419547031994,-0.9133288614638062,0.9708827619591421,0.9807128628661349,-1.021459971440727,-1.0607803750686986,-0.9821395678127559,0.7054700374703358,1.1773148810059912,1.0986740737500489,0.8627516519822209,-0.8543482560218493,1.0153439337858239,-1.0607803750686986,-1.1197609805106554,-1.1787415859526122,1.0298633674010989,-1.021459971440727,0.8332613492612423,-1.03129007234772,-1.149251283231634,1.020033266494106,1.020033266494106,0.9020720556101922,1.0593536701220772,-1.198401787766598,0.9413924592381635,-1.0607803750686986,0.8430914501682354,0.8234312483542497,-0.9919696687197487,0.8973827229019102,0.68580983565635,0.8332613492612423,0.8332613492612423,-0.9329890632777917,0.9512225601451563,-0.8936686596498202,-1.1001007786966697,-1.0116298705337343,0.8430914501682354,0.7939409456332711,1.2068051837269698,0.7447904410983072,0.7251302392843214,0.7447904410983072,0.9315623583311707,0.9413924592381635,-1.0607803750686986,0.7644506429122926,-0.9428191641847846,-1.149251283231634,-1.2082318886735905,1.2166352846339623,-1.3163629986505119,0.8824118537962067,-1.1689114850456195,-1.2082318886735905,-1.149251283231634,-0.6577462378819927,0.852921551075228,1.0102031655871133,-0.8936686596498202,0.6759797347493575,-1.3261930995575046,-0.9428191641847846,0.7251302392843214,0.6956399365633431,0.6661496338423646,1.0495235692150844,-1.090270677789677,0.961052661052149,0.8824118537962067,-0.7462171460449281,0.8824118537962067,0.852921551075228,0.68580983565635,-0.9428191641847846,-1.4539844113484115,-1.3556834022784832,-1.1689114850456195,-1.03129007234772,0.9020720556101922,0.8627516519822209,0.9512225601451563,-1.021459971440727,0.7349603401913143,-0.8445181551148565,0.9119021565171851,1.2166352846339623,-0.972309466905763,0.7546205420052998,0.8234312483542497,-1.0116298705337343,-1.1001007786966697,-1.1590813841386267,1.3345964955178764,-1.2868726959295331,0.7841108447262783,-1.0706104759756914,-1.0509502741617058,0.852921551075228,0.7251302392843214,0.5875088265864218,1.0495235692150844,-0.706896742416957,1.0743245392277807,-0.8445181551148565,-1.1736008177539017,0.7742807438192854,1.0448342365068026,0.8777225210879245,1.2905867591816234,0.7251302392843214,0.68580983565635,0.7546205420052998,-0.8641783569288422,1.84177707081638,0.6024796956921253,-1.090270677789677,0.961052661052149,1.0003730646801205,1.1529653464837235,1.0055138328788311,0.6268292302143933,-1.4095232395217292,-0.9428191641847846,-1.2967027968365263,0.8089118147389749,0.7447904410983072,0.7251302392843214,-1.045809505962995,0.7742807438192854,-0.9919696687197487,1.13799447737802,-0.9821395678127559,1.0841546401347735,1.1038148419487592,-1.2227513222888657,-1.1834309186608947,0.9170429247158959,-0.5437696988632024,-1.0261493041490095,-0.504449295235231,1.7336459608394592,-1.2325814231958585,1.0102031655871133,-0.48478909342124543,-1.0804405768826841,-0.7509064787532103,-0.8885278914511098,-0.9573385978000597,-0.9376783959860739,-0.9526492650917774,-0.5241094970492165,1.0055138328788311,-1.153940615939916,-1.0654697077769806,-1.2424115241028515,-0.8885278914511098,-1.1244503132189374,-0.9573385978000597,-0.8098870841951672,-0.9769987996140448,0.8285720165529604,-1.0752998086839733,1.684495456304495,1.1136449428557524,-1.2424115241028515,0.9905429637731278,-0.8688676896371239,-0.6820957724042603,-0.3817987516430352,1.2414362546466589,-0.7214161760322318,-1.090270677789677,0.8430914501682354,-0.15056566258348936,-0.9821395678127559,-0.8740084578358349,0.9217322574241777,-1.1099308796036624,-1.2770425950225406,0.68580983565635,1.0790138719360631,-1.1295910814176482,0.7546205420052998,-0.6970666415099643,0.8136011474472569,-1.2377221913945693,1.0396934683080916,0.8037710465402641,-0.9624793659987702,-0.8641783569288422,-0.972309466905763,1.1183342755640344,0.6071690284004074,-0.9428191641847846,1.1576546791920055,1.0298633674010989,-1.198401787766598,-1.149251283231634,-1.0706104759756914,0.7939409456332711,0.7447904410983072,-1.0509502741617058,-1.021459971440727,-1.1197609805106554,-0.7855375496728995,1.0396934683080916,0.7251302392843214,0.8922419547031994,-1.198401787766598,-0.9821395678127559,-1.2868726959295331,-0.9231589623707989,-1.021459971440727,1.0396934683080916,0.9512225601451563,1.246125587354941,-1.0607803750686986,-1.2377221913945693,-0.9919696687197487,-1.0706104759756914,-1.0509502741617058,-1.021459971440727,0.9413924592381635,-1.1689114850456195,0.9020720556101922,0.8136011474472569,0.8234312483542497,1.0003730646801205,0.7447904410983072,0.5875088265864218,-1.2278920904875765,-1.2377221913945693,-1.03129007234772,-1.0017997696267416,-0.9919696687197487,0.7841108447262783,0.7153001383773286,0.8136011474472569,-0.9034987605568132,0.9807128628661349,1.0396934683080916,-1.1787415859526122,-1.188571686859605,-1.0509502741617058,-1.247552292301562,-1.090270677789677,0.7251302392843214,0.8430914501682354,-0.7757074487659066,-0.7855375496728995,0.7349603401913143,-1.247552292301562,0.8037710465402641,0.5481884229584506,1.1773148810059912,-0.8445181551148565,1.0298633674010989,0.9807128628661349,-0.9034987605568132,0.9905429637731278,0.9512225601451563,0.8136011474472569,-1.2278920904875765,0.8725817528892138,-0.9526492650917774,-0.7658773478589136,-1.1394211823246412,0.9020720556101922,-0.9231589623707989,0.8824118537962067,1.020033266494106,-1.4441543104414187,-1.090270677789677,0.7302710074830321,0.8627516519822209,1.0298633674010989,-1.090270677789677,-1.1787415859526122,-0.8936686596498202,0.6071690284004074,0.8725817528892138,1.1969750828199772,-0.9919696687197487,0.5678486247724363,-0.9133288614638062,-1.090270677789677,-0.8641783569288422,-0.9034987605568132,-0.9133288614638062,-1.1295910814176482,-1.0509502741617058,-1.0509502741617058,-1.2180619895805835,0.9708827619591421,1.255955688261934,-1.1590813841386267,0.9119021565171851,-1.2180619895805835,0.852921551075228,1.0102031655871133,-1.1590813841386267,-1.4539844113484115,0.8136011474472569,-1.1001007786966697,-1.0116298705337343,-0.8641783569288422,0.9020720556101922,0.9020720556101922,-0.8641783569288422,1.2166352846339623,0.8234312483542497,-0.8838385587428277,-1.0017997696267416,0.961052661052149,1.0298633674010989,0.7742807438192854,1.0790138719360631,0.7742807438192854,-0.8346880542078635,-0.7902268823811814,-0.8688676896371239,-0.9671686987070524,1.0102031655871133,-0.9966590014280309,0.8627516519822209,-0.8983579923581025,0.6169991293074003,0.7054700374703358,0.7546205420052998,1.0448342365068026,0.7349603401913143,-0.6774064396959786,-0.8248579533008707,-1.090270677789677,0.7349603401913143,1.0003730646801205,0.9020720556101922,-0.7363870451379353,1.020033266494106,0.9807128628661349,-1.1590813841386267,0.9905429637731278,0.8136011474472569,-0.691221212468095,0.7644506429122926,-1.2082318886735905,-1.2278920904875765,-1.247552292301562,-0.8492074878231383,0.8824118537962067,0.8234312483542497,-1.0706104759756914,1.0003730646801205,-1.2672124941155476,-1.0949600104979593,1.2854459909829123,0.6956399365633431,0.7054700374703358,0.9807128628661349,1.0691837710290704,0.7841108447262783,0.7054700374703358,-1.0804405768826841,1.0102031655871133,1.1085041746570417,0.7054700374703358,-1.0607803750686986,-1.1295910814176482,-1.1099308796036624,0.7939409456332711,-1.0706104759756914,0.636659331121386,-0.7462171460449281,1.0298633674010989,1.0986740737500489,0.7153001383773286,0.7447904410983072,1.088843972843056,1.320077061902601,0.5973389274934148,-1.2377221913945693,-1.0607803750686986,0.9465332274368744,0.8922419547031994,-1.385173704999462,-0.8346880542078635,-1.0017997696267416,-1.2672124941155476,-1.2770425950225406,0.68580983565635,-1.2967027968365263,0.9413924592381635,0.961052661052149,0.9708827619591421,1.0055138328788311,-1.2868726959295331,-1.1197609805106554,-1.1689114850456195,0.8627516519822209,0.8037710465402641,0.9807128628661349,-1.0607803750686986,0.9905429637731278,0.9807128628661349,1.0102031655871133,1.1085041746570417,-0.9526492650917774,-0.5241094970492165,-0.337337579816353,-0.9329890632777917,0.9465332274368744,-0.9329890632777917,0.7054700374703358,1.0055138328788311,-1.5078242485916575,0.740101108390025,-0.8295472860091527,0.9512225601451563,-1.0411201732547128,-0.9133288614638062,1.320077061902601,-0.8779931297009583,0.8285720165529604,0.5580185238654435,0.8922419547031994,0.8824118537962067,-0.7855375496728995,-0.8838385587428277,-1.2278920904875765,0.7546205420052998,-1.1099308796036624,-0.9821395678127559,0.8136011474472569,-1.2573823932085553,0.9020720556101922,-1.021459971440727,-1.1001007786966697,-1.2180619895805835,0.7251302392843214,-1.1295910814176482,0.8234312483542497,1.0593536701220772,0.8037710465402641,-1.1295910814176482,-0.9821395678127559,0.7349603401913143,0.7644506429122926,-1.4441543104414187,0.8234312483542497,0.852921551075228,-1.090270677789677,-1.3163629986505119,-1.306532897743519,0.9119021565171851,-1.153940615939916,0.8627516519822209,0.7841108447262783,-1.2573823932085553,0.9807128628661349,-1.090270677789677,-1.0804405768826841,-1.03129007234772,-1.198401787766598,-1.2377221913945693,-0.9919696687197487,0.9413924592381635,-1.2868726959295331,-0.972309466905763,-0.805197751486885,-1.2180619895805835,-1.0706104759756914,0.8037710465402641,1.537043942699602,0.7251302392843214,1.2021158510186876,0.8824118537962067,0.8430914501682354,0.8922419547031994,-1.188571686859605,-1.021459971440727,-0.8393773869161455,0.8922419547031994,-1.0607803750686986,-1.1689114850456195,-1.153940615939916,-0.9671686987070524,-1.198401787766598,-0.8445181551148565,-0.9231589623707989,-1.198401787766598,0.9956837319718385,-1.1787415859526122,0.5973389274934148,0.7251302392843214,-0.9133288614638062,0.8332613492612423,-1.1394211823246412,0.7447904410983072,-0.9526492650917774,-0.9624793659987702,1.527213841792609,-0.6919258733112534,1.0055138328788311,0.7499312092970177,0.9807128628661349,-0.504449295235231,-0.29801717618838164,-0.25869677256041024,-0.6027503043051592,1.6156847499555451,-0.5732600015841807,-0.504449295235231,-1.0851299095909666,-1.0851299095909666,-0.6231151669623035,-0.9966590014280309,1.1038148419487592,0.681120502948068,-0.18005596530446788,-0.7803967814741889,0.6909506038550609,1.1038148419487592,-1.1834309186608947,1.0003730646801205,-0.3963181852583099,1.6353449517695304,0.9760235301578526,1.0448342365068026,1.7631362635604373,-0.27835697437439594,-1.090270677789677,1.6255148508625383,0.9217322574241777,0.9807128628661349,-1.2770425950225406,0.8430914501682354,0.9905429637731278,-0.972309466905763,1.0593536701220772,-1.1099308796036624,1.0593536701220772,1.0298633674010989,0.8430914501682354,1.1576546791920055,0.9020720556101922,0.9905429637731278,-1.247552292301562,-1.03129007234772,-1.1099308796036624,-0.7658773478589136,0.8922419547031994,0.7841108447262783,-1.1099308796036624,0.8136011474472569,-1.2180619895805835,0.7939409456332711,0.8627516519822209,0.8136011474472569,-1.1295910814176482,-1.0607803750686986,1.0396934683080916,1.1969750828199772,-1.1295910814176482,1.1773148810059912,0.8234312483542497,-1.0607803750686986,0.8430914501682354,-0.972309466905763,0.8037710465402641,0.7447904410983072,-1.1689114850456195,-0.9526492650917774,0.8384021174599534,0.8627516519822209,-1.3261930995575046,-1.3556834022784832,0.6661496338423646,1.0495235692150844,-1.1394211823246412,-1.2967027968365263,-1.1099308796036624,-0.9034987605568132,1.1281643764710272,0.9315623583311707,-0.8248579533008707,-1.1787415859526122,0.8234312483542497,-0.8838385587428277,0.7644506429122926,-0.8740084578358349,-0.9624793659987702,-1.247552292301562,-1.2672124941155476,0.7841108447262783,0.9315623583311707,0.7251302392843214,1.246125587354941,0.5875088265864218,1.0495235692150844,0.8332613492612423,1.1281643764710272,1.0298633674010989,0.852921551075228,0.7153001383773286,0.7251302392843214,-1.2573823932085553,-1.2672124941155476,-1.247552292301562,0.7251302392843214,0.7939409456332711,0.7349603401913143,-1.2967027968365263,1.0986740737500489,-1.1394211823246412,0.8627516519822209,0.8332613492612423,-1.2915620286378158,0.7841108447262783,0.9268730256228886,0.7447904410983072,0.8627516519822209,1.020033266494106,1.0003730646801205,-0.8346880542078635,1.0790138719360631,-1.1590813841386267,-1.1689114850456195,-1.247552292301562,0.9905429637731278,-1.1787415859526122,-1.149251283231634,0.6614603011340825,-0.9376783959860739,0.8037710465402641,0.8430914501682354,-0.9624793659987702,-1.090270677789677,-1.0509502741617058,0.6661496338423646,-0.5889355315330429,-1.1197609805106554,-1.4539844113484115,-1.198401787766598,-1.2180619895805835,-0.9428191641847846,-1.021459971440727,1.0396934683080916,0.7644506429122926,0.7841108447262783,0.7841108447262783,-0.16039576349048215,1.7631362635604373,1.147824578285013,-1.149251283231634,0.8037710465402641,1.1431352455767307,-1.1394211823246412,-1.1001007786966697,1.1831603100478612,1.5763643463275732,0.7695914111110034,-1.2278920904875765,0.8037710465402641,-1.03129007234772,-1.188571686859605,0.8037710465402641,-1.1394211823246412,-0.7607365796602031,1.0986740737500489,0.9217322574241777,0.9020720556101922,0.961052661052149,-1.0064891023350235,-1.1295910814176482,-1.1689114850456195,-1.1099308796036624,-1.0804405768826841,-1.0411201732547128,0.8824118537962067,-1.2180619895805835,0.7644506429122926,-1.198401787766598,-1.1197609805106554,-1.1197609805106554,0.852921551075228,1.0153439337858239,0.7546205420052998,1.2709265573676376,-1.149251283231634,-1.198401787766598,-1.1637707168469087,1.0691837710290704,0.9512225601451563,1.13799447737802,0.7447904410983072,1.226465385540955,-1.1001007786966697,-1.0017997696267416,-1.0607803750686986,-1.0804405768826841,0.7644506429122926,0.6956399365633431,-0.7462171460449281,0.8627516519822209,-0.9329890632777917,0.9217322574241777,0.7841108447262783,0.7153001383773286,0.7841108447262783,0.8037710465402641,-1.1689114850456195,1.0790138719360631,-1.0804405768826841,0.8824118537962067,-0.972309466905763,0.852921551075228,1.0986740737500489,1.0691837710290704,-1.2082318886735905,-1.090270677789677,-1.0017997696267416,1.025174034692817,-0.9624793659987702,1.0644944383207882,-1.3898630377077437,0.9020720556101922,-1.2573823932085553,1.0003730646801205,0.636659331121386,-1.2967027968365263,-1.2573823932085553,-0.9376783959860739,0.9020720556101922,-1.2278920904875765,0.9905429637731278,0.8037710465402641,-1.3556834022784832,0.8234312483542497,-1.4685038449636862,0.8136011474472569,0.7153001383773286,-0.8000569832881741,0.8725817528892138,0.9217322574241777,0.9020720556101922,1.0790138719360631,-1.2180619895805835,-0.9278482950790811,0.961052661052149,-1.1295910814176482,-0.9769987996140448,0.7742807438192854,1.0102031655871133,-0.972309466905763,-0.9231589623707989,-0.24886667165341758,1.684495456304495,-1.0163192032420165,1.694325557211488,-0.711586075125239,0.9956837319718385,-1.4586737440566937,-0.6813911115611015,-0.7509064787532103,-1.1047901114049519,-0.7902268823811814,1.133305144669738,-1.045809505962995,-1.0163192032420165,-1.2620717259168373,-0.18005596530446788,-1.1637707168469087,-0.9278482950790811,-0.8983579923581025,-1.385173704999462,-0.23903657074642473,1.0644944383207882,0.96619342925086,-0.7312462769392246,0.7153001383773286,0.6956399365633431,0.9020720556101922,-0.8740084578358349,0.9905429637731278,0.8725817528892138,1.0102031655871133,-1.03129007234772,-1.149251283231634,-1.1689114850456195,-1.021459971440727,-1.247552292301562,-0.9428191641847846,0.9807128628661349,0.7251302392843214,-1.2868726959295331,0.961052661052149,0.7054700374703358,0.961052661052149,-1.2770425950225406,-0.9821395678127559,-1.03129007234772,-0.8150278523938778,0.8332613492612423,-1.3556834022784832,-1.2180619895805835,-1.0607803750686986,-1.1787415859526122,0.7153001383773286,-1.2278920904875765,0.7742807438192854,0.9905429637731278,-1.2180619895805835,0.852921551075228,0.8627516519822209,0.852921551075228,-1.2770425950225406,0.8725817528892138,0.9807128628661349,-1.045809505962995,0.7054700374703358,-1.0509502741617058,-1.0509502741617058,0.8430914501682354,0.8824118537962067,-1.4736446131623973,0.8234312483542497,0.7153001383773286,1.13799447737802,-1.021459971440727,0.7644506429122926,0.961052661052149,0.961052661052149,0.8922419547031994,0.9413924592381635,0.8725817528892138,0.9807128628661349,0.7546205420052998,1.1038148419487592,0.9807128628661349,-0.8641783569288422,-1.0116298705337343,0.961052661052149,-1.247552292301562,-1.0411201732547128,0.7153001383773286,0.7153001383773286,0.7841108447262783,1.1674847800989985,-1.198401787766598,0.49903791842348644,-0.9376783959860739,1.123475043762745,-1.2325814231958585,-1.0163192032420165,-1.0509502741617058,-1.1244503132189374,-1.247552292301562,-1.090270677789677,0.7054700374703358,0.8922419547031994,0.7939409456332711,-0.9821395678127559,0.6956399365633431,-0.9133288614638062,-1.3950038059064545,0.7349603401913143,0.7054700374703358,0.5580185238654435,1.0102031655871133,-1.149251283231634,-0.9133288614638062,-0.972309466905763,0.8922419547031994,-0.8740084578358349,-0.9624793659987702,1.1674847800989985,-1.1590813841386267,0.6268292302143933,0.8725817528892138,-1.2573823932085553,0.7841108447262783,-0.5830901024911735,-1.0706104759756914,-1.0017997696267416,-1.0116298705337343,0.7939409456332711,-1.1787415859526122,-1.2180619895805835,0.7939409456332711,-1.1197609805106554,0.8234312483542497,-1.2082318886735905,-0.795367650579892,0.8627516519822209,0.7939409456332711,-1.188571686859605,0.7742807438192854,-1.1099308796036624,-1.2180619895805835,-1.1001007786966697,-1.1001007786966697,-0.9081880932650955,-1.2180619895805835,0.7054700374703358,0.8678924201809317,-1.1590813841386267,-1.198401787766598,1.0986740737500489,0.8627516519822209,0.7939409456332711,-1.0509502741617058,-1.1001007786966697,0.852921551075228,0.8725817528892138,-1.149251283231634,-1.188571686859605,0.7841108447262783,-1.1197609805106554,0.5186981202374721,-0.7410763778462175,-1.1441105150329232,-0.9376783959860739,0.6464894320283787,0.852921551075228,-1.247552292301562,0.7644506429122926,-1.2082318886735905,-1.1295910814176482,-0.9428191641847846,0.7939409456332711,0.5186981202374721,0.7153001383773286,1.0790138719360631,-1.4638145122554043,-1.0607803750686986,-1.385173704999462,0.8136011474472569,-1.149251283231634,-1.0654697077769806,-0.9769987996140448,1.0350041355998099,1.6058546490485521,-0.8590375887301313,-0.7017559742182462,0.5678486247724363,0.7939409456332711,-1.2180619895805835,0.7939409456332711,-1.090270677789677,-0.9919696687197487,-1.198401787766598,-0.8248579533008707,-0.9278482950790811,1.1085041746570417,0.8627516519822209,0.852921551075228,0.68580983565635,1.0691837710290704,1.1085041746570417,-0.878697790544117,-0.805197751486885,0.7054700374703358,-0.9376783959860739,0.8136011474472569,-0.8590375887301313,-1.188571686859605,0.9315623583311707,-1.1001007786966697,0.8234312483542497,-1.1637707168469087,-1.247552292301562,-1.1394211823246412,1.2316061537396659,-0.9180181941720883,-0.9671686987070524,1.1922857501116948,1.0841546401347735,-1.0949600104979593,1.4289128327226814,1.182455649204702,-1.0804405768826841,-0.3668278825373314,1.7533061626534445,0.5186981202374721,-0.23434723803814259,-0.6027503043051592,-0.8295472860091527,1.0055138328788311,1.537043942699602,1.4584031354436595,-1.1244503132189374,-0.268526873467403,-1.2278920904875765,-0.6027503043051592,0.7447904410983072,-1.1590813841386267,0.852921551075228,-1.021459971440727,0.7054700374703358,-1.0411201732547128,1.0691837710290704,0.9512225601451563,1.246125587354941,1.0691837710290704,0.8332613492612423,-1.1394211823246412,0.7447904410983072,-0.9526492650917774,-1.1787415859526122,-1.2573823932085553,-1.2278920904875765,-1.0607803750686986,-1.2082318886735905,-0.9231589623707989,-1.1295910814176482,0.7546205420052998,0.8037710465402641,-1.2868726959295331,0.9708827619591421,-1.2082318886735905,-0.9231589623707989,1.1085041746570417,0.8234312483542497,-1.021459971440727,0.8384021174599534,0.9956837319718385,-1.0654697077769806,-0.7214161760322318,1.172625548297709,-1.0752998086839733,1.0350041355998099,0.8430914501682354,1.7336459608394592,1.0644944383207882,-1.0064891023350235,0.8973827229019102,-1.2770425950225406,0.8580623192739388,0.8973827229019102,-0.9180181941720883,-0.8936686596498202,-0.34716768072334575,-1.0163192032420165,-0.8393773869161455,0.8777225210879245,1.2021158510186876,1.123475043762745,-0.8983579923581025,1.777655697175712,-0.9671686987070524,-1.0064891023350235,1.0644944383207882,-1.0261493041490095,-1.1736008177539017,-0.7214161760322318,0.5088680193304791,-1.2967027968365263,-1.2082318886735905,-1.1590813841386267,1.0298633674010989,-0.9526492650917774,1.527213841792609,1.4780633372576455,-0.7803967814741889,-0.9081880932650955,-0.5634299006771879,0.8430914501682354,-0.8885278914511098,1.1529653464837235,0.8627516519822209,-1.4736446131623973,0.7841108447262783,-0.9231589623707989,-0.9624793659987702,0.68580983565635,-1.2180619895805835,-1.0116298705337343,0.7644506429122926,-1.1099308796036624,0.8136011474472569,-1.1099308796036624,-0.9966590014280309,0.7546205420052998,-1.2180619895805835,-1.1787415859526122,0.961052661052149,0.8234312483542497,1.0003730646801205,0.7447904410983072,0.7251302392843214,-1.1590813841386267,-0.8543482560218493,1.0350041355998099,1.1136449428557524,1.020033266494106,0.8922419547031994,0.9119021565171851,-0.9376783959860739,-0.9034987605568132,0.8234312483542497,0.8482322183669461,-1.03129007234772,1.020033266494106,1.0003730646801205,0.7939409456332711,0.8725817528892138,-1.1394211823246412,-0.9919696687197487,0.7841108447262783,1.2119459519256803,-0.7607365796602031,-1.03129007234772,-0.9475084968930666,1.025174034692817,-1.045809505962995,-0.7502018179100518,0.799081713831982,1.339737263716587,-1.035979405056002,-0.44546868979327425,-0.5634299006771879,0.6024796956921253,-0.28818707528138904,-0.6125804052121521,-0.972309466905763,-0.4356385888862813,-0.7509064787532103,0.9119021565171851,-1.0607803750686986,0.8627516519822209,0.6759797347493575,1.0691837710290704,0.7251302392843214,0.7447904410983072,-1.2377221913945693,-1.2377221913945693,1.0298633674010989,1.1085041746570417,0.7644506429122926,0.6956399365633431,0.9708827619591421,0.9315623583311707,-1.306532897743519,-1.2082318886735905,-1.2278920904875765,-0.9919696687197487,0.636659331121386,-1.1197609805106554,-1.2770425950225406,0.8234312483542497,-1.2672124941155476,-1.424494108627433,-1.03129007234772,1.147824578285013,0.7251302392843214,-1.3556834022784832,-1.4441543104414187,0.7742807438192854,-1.1197609805106554,-0.9034987605568132,0.8234312483542497,-1.306532897743519,-0.7363870451379353,0.68580983565635,-1.1689114850456195,1.0495235692150844,0.8824118537962067,-1.1590813841386267,-1.149251283231634,1.0691837710290704,-1.03129007234772,-0.9133288614638062,0.7841108447262783,0.9315623583311707,-0.8150278523938778,0.9119021565171851,0.9217322574241777,0.7841108447262783,0.7546205420052998,-1.198401787766598,-0.9624793659987702,-0.8838385587428277,0.8136011474472569,0.6614603011340825,0.8037710465402641,0.6464894320283787,-1.1197609805106554,0.9020720556101922,1.0593536701220772,-0.8248579533008707,0.9413924592381635,0.8627516519822209,0.8234312483542497,0.7939409456332711,-1.2377221913945693,0.7251302392843214,1.1674847800989985,0.6759797347493575,-0.8641783569288422,0.9512225601451563,0.577678725679429,-1.3556834022784832,-0.9526492650917774,0.9807128628661349,-0.8641783569288422,-1.03129007234772,-0.7658773478589136,-0.8641783569288422,-0.8543482560218493,0.9020720556101922,0.8332613492612423,-0.8936686596498202,1.314936293703891,-0.8936686596498202,0.8332613492612423,1.255955688261934,1.1085041746570417,-1.41466400772044,0.8332613492612423,1.1773148810059912,0.7841108447262783,0.9315623583311707,0.9807128628661349,1.0298633674010989,0.7251302392843214,-1.0017997696267416,1.1281643764710272,-1.247552292301562,1.0495235692150844,0.7644506429122926,0.7447904410983072,-1.1001007786966697,0.6759797347493575,0.7841108447262783,0.9905429637731278,-1.0509502741617058,0.9217322574241777,0.9807128628661349,0.7841108447262783,0.9905429637731278,-1.2770425950225406,-0.9624793659987702,-1.021459971440727,-0.8740084578358349,0.8627516519822209,0.9315623583311707,-1.1197609805106554,1.0593536701220772,1.0003730646801205,1.0102031655871133,-1.149251283231634,-1.4441543104414187,1.1674847800989985,0.68580983565635,0.7644506429122926,-1.2180619895805835,-0.795367650579892,-1.2278920904875765,0.9217322574241777,1.1674847800989985,0.7742807438192854,-0.7560472469519212,-1.090270677789677,0.9315623583311707,1.020033266494106,0.9020720556101922,-1.1394211823246412,-1.0804405768826841,0.8037710465402641,0.7644506429122926,-1.1001007786966697,0.8875526219949174,-1.434324209534426,-1.2377221913945693,-1.0509502741617058,-0.7167268433239494,-1.1001007786966697,-1.0509502741617058,-1.2868726959295331,-1.0804405768826841,-1.198401787766598,0.8037710465402641,0.7349603401913143,-0.9919696687197487,-1.0509502741617058,-1.1295910814176482,-1.2082318886735905,0.7939409456332711,-1.1295910814176482,0.68580983565635,-1.2573823932085553,-1.2180619895805835,-1.0017997696267416,0.7153001383773286,-1.1001007786966697,-0.7803967814741889,0.9170429247158959,-1.3655135031854762,0.9512225601451563,0.9020720556101922,1.2166352846339623,0.961052661052149,-0.40614828616530285,-1.045809505962995,1.0986740737500489,0.9217322574241777,0.8824118537962067,-0.8346880542078635,0.9807128628661349,0.961052661052149,-1.03129007234772,-1.1394211823246412,0.68580983565635,0.7054700374703358,0.9905429637731278,-1.2082318886735905,0.852921551075228,0.9217322574241777,-0.8543482560218493,1.3051061927968979,0.7447904410983072,-1.1394211823246412,0.8332613492612423,0.6759797347493575,0.7447904410983072,-1.045809505962995,0.5875088265864218,1.1674847800989985,0.8430914501682354,0.8037710465402641,-0.8150278523938778,1.020033266494106,-1.0804405768826841,0.8922419547031994,0.7153001383773286,0.852921551075228,-1.090270677789677,0.49903791842348644,0.9512225601451563,0.9119021565171851,-1.1001007786966697,-0.9966590014280309,1.020033266494106,-1.2278920904875765,-1.0411201732547128,0.7742807438192854,-1.0804405768826841,0.8037710465402641,0.8332613492612423,0.7447904410983072,0.9413924592381635,-1.1590813841386267,0.9315623583311707,0.8037710465402641,0.7153001383773286,0.7251302392843214,0.9512225601451563,1.0495235692150844,-1.0411201732547128,0.7153001383773286,1.0495235692150844,1.0102031655871133,0.5088680193304791,-1.1001007786966697,0.9119021565171851,1.1183342755640344,-1.188571686859605,-0.9821395678127559,0.6956399365633431,0.7349603401913143,0.7054700374703358,-0.9821395678127559,-0.8543482560218493,-0.504449295235231,0.9807128628661349,1.0495235692150844,0.9807128628661349,0.852921551075228,0.8922419547031994,0.8430914501682354,-1.1689114850456195,-1.1197609805106554,1.0790138719360631,-1.306532897743519,0.7939409456332711,-1.1787415859526122,0.9413924592381635,-0.9231589623707989,-1.0607803750686986,-1.2082318886735905,-0.9526492650917774,1.0396934683080916,-1.1099308796036624,0.7742807438192854,-1.1197609805106554,-1.090270677789677,-0.9034987605568132,1.0003730646801205,0.6464894320283787,1.0448342365068026,0.9512225601451563,0.9807128628661349,-1.4638145122554043,0.7939409456332711,1.0003730646801205,-0.7855375496728995,0.5875088265864218,0.8136011474472569,-1.2180619895805835,1.0593536701220772,-1.0804405768826841,-1.2770425950225406,-1.1295910814176482,0.7841108447262783,0.7939409456332711,-1.0607803750686986,-1.149251283231634,1.13799447737802,-1.0509502741617058,0.7841108447262783,0.9217322574241777,1.0495235692150844,0.9413924592381635,1.0691837710290704,0.7644506429122926,0.68580983565635,0.8136011474472569,-1.188571686859605,-0.8445181551148565,0.9413924592381635,0.7644506429122926,-1.021459971440727,0.6661496338423646,0.7447904410983072,0.8922419547031994,-0.9526492650917774,-1.2278920904875765,-1.03129007234772,0.8627516519822209,-1.03129007234772,0.7251302392843214,-0.9376783959860739,-1.1244503132189374,-1.0411201732547128,0.8234312483542497,-1.149251283231634,-1.1787415859526122,0.7349603401913143,1.1576546791920055,0.9905429637731278,0.8725817528892138,-1.1099308796036624,0.8824118537962067,0.961052661052149,1.020033266494106,-1.3950038059064545,0.7742807438192854,-1.188571686859605,0.9807128628661349,1.0003730646801205,0.8922419547031994,-1.0411201732547128,0.852921551075228,1.2166352846339623,-1.0411201732547128,0.9413924592381635,0.8234312483542497,-1.1001007786966697,0.8725817528892138,-1.1590813841386267,-1.021459971440727,0.9020720556101922,0.7644506429122926,1.020033266494106,-1.2278920904875765,0.7644506429122926,-1.0509502741617058,-0.9034987605568132,0.6661496338423646,-0.8543482560218493,-1.2377221913945693,0.9708827619591421,-0.9376783959860739,0.9512225601451563,0.7546205420052998,-0.8150278523938778,-1.3655135031854762,-1.2967027968365263,0.8627516519822209,-1.0017997696267416,-0.37665798344432433,-1.0804405768826841,1.0396934683080916,0.7251302392843214,0.7644506429122926,0.7054700374703358,0.7251302392843214,0.8037710465402641,0.9512225601451563,1.0298633674010989,-1.1787415859526122,-0.8641783569288422,-0.9133288614638062,-0.9526492650917774,0.7644506429122926,-1.1001007786966697,1.1183342755640344,0.6268292302143933,0.9119021565171851,1.147824578285013,-1.2672124941155476,1.020033266494106,0.8332613492612423,-1.2278920904875765,-0.8543482560218493,-0.9821395678127559,1.3051061927968979,-0.7462171460449281,0.9119021565171851,-1.188571686859605,-0.7462171460449281,0.9807128628661349,-1.2180619895805835,0.8922419547031994,0.9807128628661349,1.0691837710290704,0.9315623583311707,0.9315623583311707,0.8037710465402641,-1.149251283231634,-1.4048339068134474,-1.0163192032420165,-1.1787415859526122,1.1136449428557524,-1.090270677789677,0.6956399365633431,1.0495235692150844,-1.188571686859605,0.8922419547031994,-1.090270677789677,0.9413924592381635,0.852921551075228,0.9020720556101922,0.9119021565171851,-1.2967027968365263,0.8627516519822209,-1.1342804141259302,-1.198401787766598,0.6563195329353717,-1.3655135031854762,-0.9428191641847846,0.68580983565635,0.9217322574241777,0.9217322574241777,-0.8885278914511098,0.6169991293074003,0.48920781751649384,0.7349603401913143,-1.1295910814176482,-1.1295910814176482,0.9119021565171851,0.7841108447262783,0.7153001383773286,0.8234312483542497,0.9807128628661349,-0.8346880542078635,-1.03129007234772,1.0055138328788311,0.9858536310648457,-1.1590813841386267,-1.1197609805106554,0.7447904410983072,0.7841108447262783,0.8332613492612423,0.9217322574241777,-1.1394211823246412,-0.972309466905763,1.1529653464837235,0.9708827619591421,0.8136011474472569,0.8037710465402641,-1.0949600104979593,0.68580983565635,0.49903791842348644,0.7447904410983072,-1.2967027968365263,-0.7363870451379353,-1.0706104759756914,0.8234312483542497,-1.1295910814176482,-0.9671686987070524,0.7054700374703358,0.8627516519822209,1.1773148810059912,-1.090270677789677,-0.9278482950790811,-1.0411201732547128,-0.9919696687197487,0.9020720556101922,-1.0017997696267416,0.6956399365633431,-1.2573823932085553,-1.1295910814176482,0.9807128628661349,-1.1394211823246412,-1.1394211823246412,0.9905429637731278,-1.1689114850456195,-1.0261493041490095,0.7546205420052998,0.8136011474472569,-1.1394211823246412,-1.1099308796036624,1.020033266494106,-1.2082318886735905,0.852921551075228,-1.188571686859605,0.8824118537962067,0.8430914501682354,-1.1689114850456195,-1.035979405056002,-0.8688676896371239,-1.3950038059064545,-1.188571686859605,1.2952760918899053,1.1431352455767307,1.0102031655871133,1.0350041355998099,-1.1342804141259302,-1.5078242485916575,-1.1689114850456195,0.9315623583311707,-1.1787415859526122,0.6956399365633431,0.7644506429122926,0.7251302392843214,0.9072128238089029,-0.44546868979327425,-0.4159783870722957,1.0055138328788311,-0.9133288614638062,0.9020720556101922,0.7054700374703358,-1.1342804141259302,1.2414362546466589,-1.090270677789677,0.7644506429122926,0.8430914501682354,-1.198401787766598,-0.7902268823811814,0.8136011474472569,0.8234312483542497,-1.1295910814176482,-1.4539844113484115,-1.0752998086839733,1.0939847410417665,0.9807128628661349,-1.1047901114049519,-1.2868726959295331,-1.1590813841386267,0.8136011474472569,-1.1197609805106554,0.8922419547031994,0.7447904410983072,-1.0654697077769806,-0.986828900521038,1.133305144669738,-1.035979405056002,-0.9133288614638062,1.7729663644674296,-0.3963181852583099,0.8430914501682354,1.7139857590254732,-0.972309466905763,1.0546643374137954,-1.424494108627433,-1.0654697077769806,-0.8885278914511098,0.8875526219949174,-1.1047901114049519,-0.8000569832881741,-0.9081880932650955,-1.0556396068699876,-0.9573385978000597,1.123475043762745,-0.9475084968930666,-1.1736008177539017,-1.0752998086839733,1.1431352455767307,1.1431352455767307,-0.878697790544117,0.8430914501682354,0.9268730256228886,-0.9034987605568132,0.9367031265298817,-0.805197751486885,0.9367031265298817,1.025174034692817,0.7695914111110034,0.852921551075228,0.8824118537962067,-0.9671686987070524,-1.1244503132189374,0.8285720165529604,1.2119459519256803,-0.986828900521038,0.8136011474472569,0.7153001383773286,0.8627516519822209,0.7841108447262783,-0.8248579533008707,-1.0706104759756914,0.7447904410983072,1.1576546791920055,1.246125587354941,-1.03129007234772,0.7153001383773286,-1.0411201732547128,-1.149251283231634,-1.1001007786966697,-1.1099308796036624,-1.1590813841386267,-1.03129007234772,1.147824578285013,0.8234312483542497,-1.0509502741617058,1.1281643764710272,0.8332613492612423,-1.1590813841386267,-1.149251283231634,0.7349603401913143,-1.1001007786966697,-1.188571686859605,0.7546205420052998,-1.021459971440727,-1.2180619895805835,0.68580983565635,0.7644506429122926,0.8824118537962067,-1.198401787766598,-0.9428191641847846,0.7251302392843214,0.8136011474472569,-1.2672124941155476,1.0691837710290704,-0.9428191641847846,0.7644506429122926,-0.8641783569288422,0.9315623583311707,-0.9526492650917774,0.68580983565635,-1.2377221913945693,0.9413924592381635,0.6563195329353717,1.13799447737802,-0.8936686596498202,0.5285282211444648,1.1576546791920055,0.8136011474472569,-1.2967027968365263,0.7644506429122926,0.5088680193304791,0.6759797347493575,0.7251302392843214,-1.1689114850456195,-0.9133288614638062,-0.29801717618838164,0.8627516519822209,-1.3458533013714906,1.0790138719360631,0.7349603401913143,1.0593536701220772,1.2166352846339623,-1.1295910814176482,0.9413924592381635,0.9119021565171851,-1.1342804141259302,0.7546205420052998,-1.0509502741617058,-1.021459971440727,0.9807128628661349,-1.3458533013714906,-1.03129007234772,0.8234312483542497,0.8922419547031994,-0.986828900521038,-1.03129007234772,-1.2278920904875765,0.9020720556101922,0.9315623583311707,0.68580983565635,-1.1394211823246412,0.48920781751649384,1.020033266494106,0.7349603401913143,0.9020720556101922,-0.8838385587428277,0.8824118537962067,0.9119021565171851,1.0593536701220772,-1.090270677789677,-0.9133288614638062,0.9512225601451563,0.8922419547031994,1.0495235692150844,0.5285282211444648,-1.03129007234772,-1.0607803750686986,-1.306532897743519,-1.4736446131623973,0.9119021565171851,1.2166352846339623,0.7447904410983072,-1.0411201732547128,-1.1590813841386267,0.9413924592381635,1.0790138719360631,0.8136011474472569,0.9807128628661349,0.9315623583311707,-1.2180619895805835,0.8824118537962067,1.2316061537396659,0.9858536310648457,1.0546643374137954,0.9119021565171851,0.6464894320283787,0.8136011474472569,0.8824118537962067,-1.0509502741617058,0.7153001383773286,0.9858536310648457,0.9413924592381635,0.8824118537962067,-1.2377221913945693,0.9119021565171851,0.7447904410983072,0.7841108447262783,0.7546205420052998,1.0986740737500489,-0.8346880542078635,0.8430914501682354,1.0593536701220772,-1.188571686859605,-1.1295910814176482,0.8136011474472569,0.8627516519822209,0.8627516519822209,-1.1394211823246412,0.7546205420052998,-1.149251283231634,-1.4539844113484115,-1.3261930995575046,0.6464894320283787,0.7644506429122926,1.020033266494106,0.6464894320283787,-1.198401787766598,-1.0706104759756914,-1.2377221913945693,-1.4048339068134474,0.7644506429122926,1.0593536701220772,0.9020720556101922,0.852921551075228,0.8430914501682354,0.9905429637731278,-1.2180619895805835,0.7349603401913143,-1.0116298705337343,-1.1047901114049519,-0.8445181551148565,-1.1787415859526122,0.9217322574241777,1.088843972843056,0.8332613492612423,-0.8445181551148565,-1.3655135031854762,-1.0411201732547128,0.8037710465402641,-0.9329890632777917,0.8627516519822209,-1.149251283231634,0.8037710465402641,-1.434324209534426,0.8922419547031994,0.8922419547031994,-1.1590813841386267,-1.1197609805106554,1.1773148810059912,1.1674847800989985,0.8725817528892138,0.9905429637731278,1.0003730646801205,1.1281643764710272,1.0396934683080916,0.9512225601451563,-0.8445181551148565,0.8037710465402641,-1.4441543104414187,-0.8936686596498202,0.8725817528892138,1.0986740737500489,1.0790138719360631,0.7153001383773286,0.7447904410983072,0.7841108447262783,-1.247552292301562,-0.9526492650917774,-1.2770425950225406,-1.03129007234772,0.9020720556101922,-0.9034987605568132,-1.1099308796036624,-1.1295910814176482,0.7251302392843214,-0.8248579533008707,0.8136011474472569,0.9119021565171851,0.8725817528892138,0.8627516519822209,0.6759797347493575,0.7546205420052998,0.6661496338423646,0.7841108447262783,0.7349603401913143,-1.2180619895805835,-1.149251283231634,-1.1099308796036624,0.9119021565171851,0.8037710465402641,-0.795367650579892,0.9708827619591421,0.8627516519822209,1.0495235692150844,-1.03129007234772,0.9217322574241777,0.9020720556101922,0.9413924592381635,-0.9133288614638062,0.8627516519822209,-1.1099308796036624,-1.1197609805106554,1.1085041746570417,-1.0116298705337343,-1.1295910814176482,-1.2082318886735905,-1.149251283231634,-1.1787415859526122,0.9315623583311707,1.0102031655871133,0.9119021565171851,1.020033266494106,-1.2278920904875765,-1.3163629986505119,-1.2377221913945693,-1.090270677789677,-1.03129007234772,-1.4441543104414187,0.7153001383773286,0.9020720556101922,-1.2180619895805835,-1.090270677789677,-1.03129007234772,-0.9231589623707989,-1.0706104759756914,0.8922419547031994,-1.2868726959295331,0.9413924592381635,-0.8688676896371239,0.9315623583311707,0.8824118537962067,0.6563195329353717,0.8725817528892138,-0.2095462680254462,0.7644506429122926,-0.9428191641847846,-1.0163192032420165,0.9020720556101922,0.9708827619591421,-0.9133288614638062,-1.0804405768826841,-0.8838385587428277,0.8922419547031994,0.9708827619591421,0.8627516519822209,0.9807128628661349,0.9020720556101922,0.7251302392843214,-1.2180619895805835,1.0298633674010989,-1.2967027968365263,-1.090270677789677,-1.188571686859605,0.8332613492612423,0.8037710465402641,0.7054700374703358,-0.9526492650917774,-1.2278920904875765,-1.0706104759756914,-0.8740084578358349,0.7644506429122926,1.0102031655871133,1.0396934683080916,-1.1197609805106554,0.8136011474472569,0.8725817528892138,-1.1099308796036624,-1.2672124941155476,0.7251302392843214,0.9858536310648457,-1.2868726959295331,-1.0804405768826841,-1.1244503132189374,-1.2672124941155476,-0.8543482560218493,0.8922419547031994,0.7742807438192854,-1.1689114850456195,-1.1689114850456195,0.8430914501682354,1.0396934683080916,-1.2573823932085553,-1.198401787766598,0.7447904410983072,-1.4441543104414187,-0.8983579923581025,0.5088680193304791,-0.9180181941720883,-1.0411201732547128,-0.9180181941720883,-0.7902268823811814,-1.035979405056002,0.7349603401913143,0.7106108056690466,0.9170429247158959,1.0495235692150844,-1.0706104759756914,-0.8295472860091527,-1.2573823932085553,1.088843972843056,0.9807128628661349,-1.0556396068699876,-0.9034987605568132,-1.0017997696267416,-0.9821395678127559,-1.0509502741617058,-1.1441105150329232,-0.5489104670619133,-0.9231589623707989,-0.9231589623707989,-1.2770425950225406,-1.198401787766598,0.9807128628661349,1.0396934683080916,0.7939409456332711,-0.8590375887301313,0.8430914501682354,0.7644506429122926,-0.878697790544117,-1.1295910814176482,-0.6231151669623035,-1.212921221381873,1.0644944383207882,1.684495456304495,-0.4159783870722957,1.6648352544905094,-0.9278482950790811,1.84177707081638,-0.878697790544117,-1.2227513222888657,-1.045809505962995,-1.153940615939916,-0.8393773869161455,-0.8983579923581025,-0.9180181941720883,-0.24886667165341758,0.9956837319718385,1.025174034692817,1.2316061537396659,1.0350041355998099,-0.8295472860091527,1.0350041355998099,1.5763643463275732,0.7251302392843214,-0.44546868979327425,-0.6820957724042603,-1.1394211823246412,-0.9180181941720883,1.5173837408856163,1.300416860088616,-0.8150278523938778,1.0593536701220772,-1.1590813841386267,0.8332613492612423,0.6956399365633431,0.6956399365633431,-1.0607803750686986,-1.0752998086839733,0.7644506429122926,0.8430914501682354,0.7742807438192854,-0.7855375496728995,0.961052661052149,0.9512225601451563,-1.1394211823246412,-1.2377221913945693,0.9020720556101922,0.8627516519822209,0.7447904410983072,0.8627516519822209,-1.149251283231634,-1.424494108627433,-1.0017997696267416,0.8430914501682354,0.7939409456332711,0.8037710465402641,0.9315623583311707,-0.9329890632777917,-1.1394211823246412,1.1773148810059912,-0.9624793659987702,-0.7167268433239494,-1.188571686859605,-1.090270677789677,0.7447904410983072,0.9119021565171851,-0.9624793659987702,-1.188571686859605,-1.2377221913945693,-0.8740084578358349,-1.149251283231634,-0.7855375496728995,-1.3261930995575046,-1.0509502741617058,0.7349603401913143,-0.9526492650917774,-1.188571686859605,1.020033266494106,-1.0804405768826841,-0.9526492650917774,-1.247552292301562,1.0986740737500489,-0.972309466905763,-0.9821395678127559,1.2217760528326733,0.49903791842348644,-1.2278920904875765,1.1674847800989985,1.088843972843056,0.9119021565171851,1.0691837710290704,0.8332613492612423,1.020033266494106,-1.1001007786966697,1.1281643764710272,-1.0116298705337343,-1.149251283231634,0.6563195329353717,-0.9919696687197487,0.6661496338423646,0.8332613492612423,1.1183342755640344,-1.1787415859526122,-1.090270677789677,0.5088680193304791,0.9905429637731278,-0.9133288614638062,0.7054700374703358,-1.1590813841386267,-0.9624793659987702,0.9905429637731278,0.7153001383773286,0.8234312483542497,0.8725817528892138,0.7447904410983072,0.48920781751649384,0.6268292302143933,-1.0804405768826841,1.2362954864479483,-1.090270677789677,-1.306532897743519,0.7447904410983072,0.7939409456332711,0.9315623583311707,1.187144981912984,0.7251302392843214,0.7447904410983072,0.6759797347493575,0.9217322574241777,-1.0509502741617058,-1.0706104759756914,-1.434324209534426,0.7251302392843214,-1.2573823932085553,0.8037710465402641,-1.1197609805106554,0.6071690284004074,-0.805197751486885,0.9119021565171851,-0.9821395678127559,-1.1295910814176482,1.1281643764710272,0.6169991293074003,-1.2377221913945693,0.9413924592381635,-1.149251283231634,-1.2672124941155476,0.9905429637731278,-1.0509502741617058,1.0153439337858239,0.9905429637731278,0.7251302392843214,-0.8150278523938778,1.6550051535835164,-0.337337579816353,1.0102031655871133,-0.8098870841951672,-1.2377221913945693,0.6661496338423646,0.8627516519822209,0.6169991293074003,0.7251302392843214,1.020033266494106,0.852921551075228,0.8922419547031994,-0.9231589623707989,0.9807128628661349,-0.9133288614638062,-1.1295910814176482,0.7251302392843214,-1.2082318886735905,0.8922419547031994,0.7644506429122926,0.9020720556101922,-0.8838385587428277,-1.149251283231634,1.0102031655871133,0.8627516519822209,0.7644506429122926,1.0298633674010989,-0.9428191641847846,0.961052661052149,1.0743245392277807,-0.9526492650917774,0.7939409456332711,-0.972309466905763,0.7447904410983072,0.8037710465402641,-0.7560472469519212,-1.0411201732547128,-1.0116298705337343,-0.8838385587428277,-0.9133288614638062,0.7841108447262783,0.8332613492612423,-1.2672124941155476,1.2657857891689264,0.9119021565171851,-1.2082318886735905,0.8332613492612423,-0.9034987605568132,1.147824578285013,-1.1197609805106554,0.7841108447262783,0.6759797347493575,-1.1197609805106554,-1.247552292301562,0.8725817528892138,-1.2573823932085553,1.0986740737500489,1.0448342365068026,0.7841108447262783,1.0396934683080916,1.020033266494106,-0.9034987605568132,0.8332613492612423,1.0102031655871133,-0.8740084578358349,0.9020720556101922,-1.0411201732547128,-1.1099308796036624,-1.0116298705337343,-1.1885716868596052,-1.2377221913945693,1.3542566973318622,-1.4638145122554043,0.9413924592381635,0.7153001383773286,0.8234312483542497,-0.7855375496728995,-0.8150278523938778],\"yaxis\":\"y\",\"type\":\"scattergl\"},{\"hovertemplate\":\"x=%{x}<br>y=%{y}<br>size=%{marker.size}<extra></extra>\",\"legendgroup\":\"\",\"marker\":{\"color\":\"#636efa\",\"size\":[15,15,15,15],\"sizemode\":\"area\",\"sizeref\":0.0375,\"symbol\":\"circle\"},\"mode\":\"markers\",\"name\":\"\",\"orientation\":\"v\",\"showlegend\":false,\"x\":[-0.670085331950805,-0.4223534356624551,4.483557205319782,1.4357145311218014],\"xaxis\":\"x\",\"y\":[0.8776737128639077,-1.0974081042961037,0.4406197620194013,-0.17523493737158385],\"yaxis\":\"y\",\"type\":\"scatter\"}],                        {\"template\":{\"data\":{\"bar\":[{\"error_x\":{\"color\":\"#2a3f5f\"},\"error_y\":{\"color\":\"#2a3f5f\"},\"marker\":{\"line\":{\"color\":\"#E5ECF6\",\"width\":0.5},\"pattern\":{\"fillmode\":\"overlay\",\"size\":10,\"solidity\":0.2}},\"type\":\"bar\"}],\"barpolar\":[{\"marker\":{\"line\":{\"color\":\"#E5ECF6\",\"width\":0.5},\"pattern\":{\"fillmode\":\"overlay\",\"size\":10,\"solidity\":0.2}},\"type\":\"barpolar\"}],\"carpet\":[{\"aaxis\":{\"endlinecolor\":\"#2a3f5f\",\"gridcolor\":\"white\",\"linecolor\":\"white\",\"minorgridcolor\":\"white\",\"startlinecolor\":\"#2a3f5f\"},\"baxis\":{\"endlinecolor\":\"#2a3f5f\",\"gridcolor\":\"white\",\"linecolor\":\"white\",\"minorgridcolor\":\"white\",\"startlinecolor\":\"#2a3f5f\"},\"type\":\"carpet\"}],\"choropleth\":[{\"colorbar\":{\"outlinewidth\":0,\"ticks\":\"\"},\"type\":\"choropleth\"}],\"contour\":[{\"colorbar\":{\"outlinewidth\":0,\"ticks\":\"\"},\"colorscale\":[[0.0,\"#0d0887\"],[0.1111111111111111,\"#46039f\"],[0.2222222222222222,\"#7201a8\"],[0.3333333333333333,\"#9c179e\"],[0.4444444444444444,\"#bd3786\"],[0.5555555555555556,\"#d8576b\"],[0.6666666666666666,\"#ed7953\"],[0.7777777777777778,\"#fb9f3a\"],[0.8888888888888888,\"#fdca26\"],[1.0,\"#f0f921\"]],\"type\":\"contour\"}],\"contourcarpet\":[{\"colorbar\":{\"outlinewidth\":0,\"ticks\":\"\"},\"type\":\"contourcarpet\"}],\"heatmap\":[{\"colorbar\":{\"outlinewidth\":0,\"ticks\":\"\"},\"colorscale\":[[0.0,\"#0d0887\"],[0.1111111111111111,\"#46039f\"],[0.2222222222222222,\"#7201a8\"],[0.3333333333333333,\"#9c179e\"],[0.4444444444444444,\"#bd3786\"],[0.5555555555555556,\"#d8576b\"],[0.6666666666666666,\"#ed7953\"],[0.7777777777777778,\"#fb9f3a\"],[0.8888888888888888,\"#fdca26\"],[1.0,\"#f0f921\"]],\"type\":\"heatmap\"}],\"heatmapgl\":[{\"colorbar\":{\"outlinewidth\":0,\"ticks\":\"\"},\"colorscale\":[[0.0,\"#0d0887\"],[0.1111111111111111,\"#46039f\"],[0.2222222222222222,\"#7201a8\"],[0.3333333333333333,\"#9c179e\"],[0.4444444444444444,\"#bd3786\"],[0.5555555555555556,\"#d8576b\"],[0.6666666666666666,\"#ed7953\"],[0.7777777777777778,\"#fb9f3a\"],[0.8888888888888888,\"#fdca26\"],[1.0,\"#f0f921\"]],\"type\":\"heatmapgl\"}],\"histogram\":[{\"marker\":{\"pattern\":{\"fillmode\":\"overlay\",\"size\":10,\"solidity\":0.2}},\"type\":\"histogram\"}],\"histogram2d\":[{\"colorbar\":{\"outlinewidth\":0,\"ticks\":\"\"},\"colorscale\":[[0.0,\"#0d0887\"],[0.1111111111111111,\"#46039f\"],[0.2222222222222222,\"#7201a8\"],[0.3333333333333333,\"#9c179e\"],[0.4444444444444444,\"#bd3786\"],[0.5555555555555556,\"#d8576b\"],[0.6666666666666666,\"#ed7953\"],[0.7777777777777778,\"#fb9f3a\"],[0.8888888888888888,\"#fdca26\"],[1.0,\"#f0f921\"]],\"type\":\"histogram2d\"}],\"histogram2dcontour\":[{\"colorbar\":{\"outlinewidth\":0,\"ticks\":\"\"},\"colorscale\":[[0.0,\"#0d0887\"],[0.1111111111111111,\"#46039f\"],[0.2222222222222222,\"#7201a8\"],[0.3333333333333333,\"#9c179e\"],[0.4444444444444444,\"#bd3786\"],[0.5555555555555556,\"#d8576b\"],[0.6666666666666666,\"#ed7953\"],[0.7777777777777778,\"#fb9f3a\"],[0.8888888888888888,\"#fdca26\"],[1.0,\"#f0f921\"]],\"type\":\"histogram2dcontour\"}],\"mesh3d\":[{\"colorbar\":{\"outlinewidth\":0,\"ticks\":\"\"},\"type\":\"mesh3d\"}],\"parcoords\":[{\"line\":{\"colorbar\":{\"outlinewidth\":0,\"ticks\":\"\"}},\"type\":\"parcoords\"}],\"pie\":[{\"automargin\":true,\"type\":\"pie\"}],\"scatter\":[{\"marker\":{\"colorbar\":{\"outlinewidth\":0,\"ticks\":\"\"}},\"type\":\"scatter\"}],\"scatter3d\":[{\"line\":{\"colorbar\":{\"outlinewidth\":0,\"ticks\":\"\"}},\"marker\":{\"colorbar\":{\"outlinewidth\":0,\"ticks\":\"\"}},\"type\":\"scatter3d\"}],\"scattercarpet\":[{\"marker\":{\"colorbar\":{\"outlinewidth\":0,\"ticks\":\"\"}},\"type\":\"scattercarpet\"}],\"scattergeo\":[{\"marker\":{\"colorbar\":{\"outlinewidth\":0,\"ticks\":\"\"}},\"type\":\"scattergeo\"}],\"scattergl\":[{\"marker\":{\"colorbar\":{\"outlinewidth\":0,\"ticks\":\"\"}},\"type\":\"scattergl\"}],\"scattermapbox\":[{\"marker\":{\"colorbar\":{\"outlinewidth\":0,\"ticks\":\"\"}},\"type\":\"scattermapbox\"}],\"scatterpolar\":[{\"marker\":{\"colorbar\":{\"outlinewidth\":0,\"ticks\":\"\"}},\"type\":\"scatterpolar\"}],\"scatterpolargl\":[{\"marker\":{\"colorbar\":{\"outlinewidth\":0,\"ticks\":\"\"}},\"type\":\"scatterpolargl\"}],\"scatterternary\":[{\"marker\":{\"colorbar\":{\"outlinewidth\":0,\"ticks\":\"\"}},\"type\":\"scatterternary\"}],\"surface\":[{\"colorbar\":{\"outlinewidth\":0,\"ticks\":\"\"},\"colorscale\":[[0.0,\"#0d0887\"],[0.1111111111111111,\"#46039f\"],[0.2222222222222222,\"#7201a8\"],[0.3333333333333333,\"#9c179e\"],[0.4444444444444444,\"#bd3786\"],[0.5555555555555556,\"#d8576b\"],[0.6666666666666666,\"#ed7953\"],[0.7777777777777778,\"#fb9f3a\"],[0.8888888888888888,\"#fdca26\"],[1.0,\"#f0f921\"]],\"type\":\"surface\"}],\"table\":[{\"cells\":{\"fill\":{\"color\":\"#EBF0F8\"},\"line\":{\"color\":\"white\"}},\"header\":{\"fill\":{\"color\":\"#C8D4E3\"},\"line\":{\"color\":\"white\"}},\"type\":\"table\"}]},\"layout\":{\"annotationdefaults\":{\"arrowcolor\":\"#2a3f5f\",\"arrowhead\":0,\"arrowwidth\":1},\"autotypenumbers\":\"strict\",\"coloraxis\":{\"colorbar\":{\"outlinewidth\":0,\"ticks\":\"\"}},\"colorscale\":{\"diverging\":[[0,\"#8e0152\"],[0.1,\"#c51b7d\"],[0.2,\"#de77ae\"],[0.3,\"#f1b6da\"],[0.4,\"#fde0ef\"],[0.5,\"#f7f7f7\"],[0.6,\"#e6f5d0\"],[0.7,\"#b8e186\"],[0.8,\"#7fbc41\"],[0.9,\"#4d9221\"],[1,\"#276419\"]],\"sequential\":[[0.0,\"#0d0887\"],[0.1111111111111111,\"#46039f\"],[0.2222222222222222,\"#7201a8\"],[0.3333333333333333,\"#9c179e\"],[0.4444444444444444,\"#bd3786\"],[0.5555555555555556,\"#d8576b\"],[0.6666666666666666,\"#ed7953\"],[0.7777777777777778,\"#fb9f3a\"],[0.8888888888888888,\"#fdca26\"],[1.0,\"#f0f921\"]],\"sequentialminus\":[[0.0,\"#0d0887\"],[0.1111111111111111,\"#46039f\"],[0.2222222222222222,\"#7201a8\"],[0.3333333333333333,\"#9c179e\"],[0.4444444444444444,\"#bd3786\"],[0.5555555555555556,\"#d8576b\"],[0.6666666666666666,\"#ed7953\"],[0.7777777777777778,\"#fb9f3a\"],[0.8888888888888888,\"#fdca26\"],[1.0,\"#f0f921\"]]},\"colorway\":[\"#636efa\",\"#EF553B\",\"#00cc96\",\"#ab63fa\",\"#FFA15A\",\"#19d3f3\",\"#FF6692\",\"#B6E880\",\"#FF97FF\",\"#FECB52\"],\"font\":{\"color\":\"#2a3f5f\"},\"geo\":{\"bgcolor\":\"white\",\"lakecolor\":\"white\",\"landcolor\":\"#E5ECF6\",\"showlakes\":true,\"showland\":true,\"subunitcolor\":\"white\"},\"hoverlabel\":{\"align\":\"left\"},\"hovermode\":\"closest\",\"mapbox\":{\"style\":\"light\"},\"paper_bgcolor\":\"white\",\"plot_bgcolor\":\"#E5ECF6\",\"polar\":{\"angularaxis\":{\"gridcolor\":\"white\",\"linecolor\":\"white\",\"ticks\":\"\"},\"bgcolor\":\"#E5ECF6\",\"radialaxis\":{\"gridcolor\":\"white\",\"linecolor\":\"white\",\"ticks\":\"\"}},\"scene\":{\"xaxis\":{\"backgroundcolor\":\"#E5ECF6\",\"gridcolor\":\"white\",\"gridwidth\":2,\"linecolor\":\"white\",\"showbackground\":true,\"ticks\":\"\",\"zerolinecolor\":\"white\"},\"yaxis\":{\"backgroundcolor\":\"#E5ECF6\",\"gridcolor\":\"white\",\"gridwidth\":2,\"linecolor\":\"white\",\"showbackground\":true,\"ticks\":\"\",\"zerolinecolor\":\"white\"},\"zaxis\":{\"backgroundcolor\":\"#E5ECF6\",\"gridcolor\":\"white\",\"gridwidth\":2,\"linecolor\":\"white\",\"showbackground\":true,\"ticks\":\"\",\"zerolinecolor\":\"white\"}},\"shapedefaults\":{\"line\":{\"color\":\"#2a3f5f\"}},\"ternary\":{\"aaxis\":{\"gridcolor\":\"white\",\"linecolor\":\"white\",\"ticks\":\"\"},\"baxis\":{\"gridcolor\":\"white\",\"linecolor\":\"white\",\"ticks\":\"\"},\"bgcolor\":\"#E5ECF6\",\"caxis\":{\"gridcolor\":\"white\",\"linecolor\":\"white\",\"ticks\":\"\"}},\"title\":{\"x\":0.05},\"xaxis\":{\"automargin\":true,\"gridcolor\":\"white\",\"linecolor\":\"white\",\"ticks\":\"\",\"title\":{\"standoff\":15},\"zerolinecolor\":\"white\",\"zerolinewidth\":2},\"yaxis\":{\"automargin\":true,\"gridcolor\":\"white\",\"linecolor\":\"white\",\"ticks\":\"\",\"title\":{\"standoff\":15},\"zerolinecolor\":\"white\",\"zerolinewidth\":2}}},\"title\":{\"text\":\"Agrupamento K-Means com PCA\"},\"width\":800,\"height\":500,\"xaxis\":{\"title\":{\"text\":\"Componente 1\"}},\"yaxis\":{\"title\":{\"text\":\"Componente 2\"}}},                        {\"responsive\": true}                    ).then(function(){\n",
              "                            \n",
              "var gd = document.getElementById('66933664-f92b-41d0-9054-9649c879f4f0');\n",
              "var x = new MutationObserver(function (mutations, observer) {{\n",
              "        var display = window.getComputedStyle(gd).display;\n",
              "        if (!display || display === 'none') {{\n",
              "            console.log([gd, 'removed!']);\n",
              "            Plotly.purge(gd);\n",
              "            observer.disconnect();\n",
              "        }}\n",
              "}});\n",
              "\n",
              "// Listen for the removal of the full notebook cells\n",
              "var notebookContainer = gd.closest('#notebook-container');\n",
              "if (notebookContainer) {{\n",
              "    x.observe(notebookContainer, {childList: true});\n",
              "}}\n",
              "\n",
              "// Listen for the clearing of the current output cell\n",
              "var outputEl = gd.closest('.output');\n",
              "if (outputEl) {{\n",
              "    x.observe(outputEl, {childList: true});\n",
              "}}\n",
              "\n",
              "                        })                };                            </script>        </div>\n",
              "</body>\n",
              "</html>"
            ]
          },
          "metadata": {}
        }
      ]
    },
    {
      "cell_type": "code",
      "source": [
        "agrupamento = pd.DataFrame(classificacao, columns = ['Grupo'])\n",
        "agrupamento"
      ],
      "metadata": {
        "colab": {
          "base_uri": "https://localhost:8080/",
          "height": 424
        },
        "id": "-3j6MfrjKvtd",
        "outputId": "ba0eccf8-2e2e-4edf-ae02-f8b9b372396e"
      },
      "execution_count": null,
      "outputs": [
        {
          "output_type": "execute_result",
          "data": {
            "text/plain": [
              "      Grupo\n",
              "0         1\n",
              "1         1\n",
              "2         1\n",
              "3         0\n",
              "4         1\n",
              "...     ...\n",
              "5898      0\n",
              "5899      0\n",
              "5900      0\n",
              "5901      1\n",
              "5902      1\n",
              "\n",
              "[5903 rows x 1 columns]"
            ],
            "text/html": [
              "\n",
              "  <div id=\"df-b6fd8850-3f8b-431d-88e7-c13e3081821c\">\n",
              "    <div class=\"colab-df-container\">\n",
              "      <div>\n",
              "<style scoped>\n",
              "    .dataframe tbody tr th:only-of-type {\n",
              "        vertical-align: middle;\n",
              "    }\n",
              "\n",
              "    .dataframe tbody tr th {\n",
              "        vertical-align: top;\n",
              "    }\n",
              "\n",
              "    .dataframe thead th {\n",
              "        text-align: right;\n",
              "    }\n",
              "</style>\n",
              "<table border=\"1\" class=\"dataframe\">\n",
              "  <thead>\n",
              "    <tr style=\"text-align: right;\">\n",
              "      <th></th>\n",
              "      <th>Grupo</th>\n",
              "    </tr>\n",
              "  </thead>\n",
              "  <tbody>\n",
              "    <tr>\n",
              "      <th>0</th>\n",
              "      <td>1</td>\n",
              "    </tr>\n",
              "    <tr>\n",
              "      <th>1</th>\n",
              "      <td>1</td>\n",
              "    </tr>\n",
              "    <tr>\n",
              "      <th>2</th>\n",
              "      <td>1</td>\n",
              "    </tr>\n",
              "    <tr>\n",
              "      <th>3</th>\n",
              "      <td>0</td>\n",
              "    </tr>\n",
              "    <tr>\n",
              "      <th>4</th>\n",
              "      <td>1</td>\n",
              "    </tr>\n",
              "    <tr>\n",
              "      <th>...</th>\n",
              "      <td>...</td>\n",
              "    </tr>\n",
              "    <tr>\n",
              "      <th>5898</th>\n",
              "      <td>0</td>\n",
              "    </tr>\n",
              "    <tr>\n",
              "      <th>5899</th>\n",
              "      <td>0</td>\n",
              "    </tr>\n",
              "    <tr>\n",
              "      <th>5900</th>\n",
              "      <td>0</td>\n",
              "    </tr>\n",
              "    <tr>\n",
              "      <th>5901</th>\n",
              "      <td>1</td>\n",
              "    </tr>\n",
              "    <tr>\n",
              "      <th>5902</th>\n",
              "      <td>1</td>\n",
              "    </tr>\n",
              "  </tbody>\n",
              "</table>\n",
              "<p>5903 rows × 1 columns</p>\n",
              "</div>\n",
              "      <button class=\"colab-df-convert\" onclick=\"convertToInteractive('df-b6fd8850-3f8b-431d-88e7-c13e3081821c')\"\n",
              "              title=\"Convert this dataframe to an interactive table.\"\n",
              "              style=\"display:none;\">\n",
              "        \n",
              "  <svg xmlns=\"http://www.w3.org/2000/svg\" height=\"24px\"viewBox=\"0 0 24 24\"\n",
              "       width=\"24px\">\n",
              "    <path d=\"M0 0h24v24H0V0z\" fill=\"none\"/>\n",
              "    <path d=\"M18.56 5.44l.94 2.06.94-2.06 2.06-.94-2.06-.94-.94-2.06-.94 2.06-2.06.94zm-11 1L8.5 8.5l.94-2.06 2.06-.94-2.06-.94L8.5 2.5l-.94 2.06-2.06.94zm10 10l.94 2.06.94-2.06 2.06-.94-2.06-.94-.94-2.06-.94 2.06-2.06.94z\"/><path d=\"M17.41 7.96l-1.37-1.37c-.4-.4-.92-.59-1.43-.59-.52 0-1.04.2-1.43.59L10.3 9.45l-7.72 7.72c-.78.78-.78 2.05 0 2.83L4 21.41c.39.39.9.59 1.41.59.51 0 1.02-.2 1.41-.59l7.78-7.78 2.81-2.81c.8-.78.8-2.07 0-2.86zM5.41 20L4 18.59l7.72-7.72 1.47 1.35L5.41 20z\"/>\n",
              "  </svg>\n",
              "      </button>\n",
              "      \n",
              "  <style>\n",
              "    .colab-df-container {\n",
              "      display:flex;\n",
              "      flex-wrap:wrap;\n",
              "      gap: 12px;\n",
              "    }\n",
              "\n",
              "    .colab-df-convert {\n",
              "      background-color: #E8F0FE;\n",
              "      border: none;\n",
              "      border-radius: 50%;\n",
              "      cursor: pointer;\n",
              "      display: none;\n",
              "      fill: #1967D2;\n",
              "      height: 32px;\n",
              "      padding: 0 0 0 0;\n",
              "      width: 32px;\n",
              "    }\n",
              "\n",
              "    .colab-df-convert:hover {\n",
              "      background-color: #E2EBFA;\n",
              "      box-shadow: 0px 1px 2px rgba(60, 64, 67, 0.3), 0px 1px 3px 1px rgba(60, 64, 67, 0.15);\n",
              "      fill: #174EA6;\n",
              "    }\n",
              "\n",
              "    [theme=dark] .colab-df-convert {\n",
              "      background-color: #3B4455;\n",
              "      fill: #D2E3FC;\n",
              "    }\n",
              "\n",
              "    [theme=dark] .colab-df-convert:hover {\n",
              "      background-color: #434B5C;\n",
              "      box-shadow: 0px 1px 3px 1px rgba(0, 0, 0, 0.15);\n",
              "      filter: drop-shadow(0px 1px 2px rgba(0, 0, 0, 0.3));\n",
              "      fill: #FFFFFF;\n",
              "    }\n",
              "  </style>\n",
              "\n",
              "      <script>\n",
              "        const buttonEl =\n",
              "          document.querySelector('#df-b6fd8850-3f8b-431d-88e7-c13e3081821c button.colab-df-convert');\n",
              "        buttonEl.style.display =\n",
              "          google.colab.kernel.accessAllowed ? 'block' : 'none';\n",
              "\n",
              "        async function convertToInteractive(key) {\n",
              "          const element = document.querySelector('#df-b6fd8850-3f8b-431d-88e7-c13e3081821c');\n",
              "          const dataTable =\n",
              "            await google.colab.kernel.invokeFunction('convertToInteractive',\n",
              "                                                     [key], {});\n",
              "          if (!dataTable) return;\n",
              "\n",
              "          const docLinkHtml = 'Like what you see? Visit the ' +\n",
              "            '<a target=\"_blank\" href=https://colab.research.google.com/notebooks/data_table.ipynb>data table notebook</a>'\n",
              "            + ' to learn more about interactive tables.';\n",
              "          element.innerHTML = '';\n",
              "          dataTable['output_type'] = 'display_data';\n",
              "          await google.colab.output.renderOutput(dataTable, element);\n",
              "          const docLink = document.createElement('div');\n",
              "          docLink.innerHTML = docLinkHtml;\n",
              "          element.appendChild(docLink);\n",
              "        }\n",
              "      </script>\n",
              "    </div>\n",
              "  </div>\n",
              "  "
            ]
          },
          "metadata": {},
          "execution_count": 58
        }
      ]
    },
    {
      "cell_type": "code",
      "source": [
        "df2 = pd.concat([df2, agrupamento],axis=1)\n",
        "df2"
      ],
      "metadata": {
        "colab": {
          "base_uri": "https://localhost:8080/",
          "height": 424
        },
        "id": "gbqY11NOKyBG",
        "outputId": "0cac708e-e6a5-447c-a438-f995522da1d6"
      },
      "execution_count": null,
      "outputs": [
        {
          "output_type": "execute_result",
          "data": {
            "text/plain": [
              "      IDADE  SEXO  INTERNADO  STATUS  Grupo\n",
              "0        54     1          0       0      1\n",
              "1        15     1          0       0      1\n",
              "2        43     1          0       0      1\n",
              "3        25     0          0       0      0\n",
              "4        58     1          0       0      1\n",
              "...     ...   ...        ...     ...    ...\n",
              "5898     46     0          0       0      0\n",
              "5899     23     0          0       0      0\n",
              "5900     34     0          0       0      0\n",
              "5901     70     1          0       0      1\n",
              "5902     67     1          0       0      1\n",
              "\n",
              "[5903 rows x 5 columns]"
            ],
            "text/html": [
              "\n",
              "  <div id=\"df-e1ee4113-38c9-4f89-ba53-b678094dcaa4\">\n",
              "    <div class=\"colab-df-container\">\n",
              "      <div>\n",
              "<style scoped>\n",
              "    .dataframe tbody tr th:only-of-type {\n",
              "        vertical-align: middle;\n",
              "    }\n",
              "\n",
              "    .dataframe tbody tr th {\n",
              "        vertical-align: top;\n",
              "    }\n",
              "\n",
              "    .dataframe thead th {\n",
              "        text-align: right;\n",
              "    }\n",
              "</style>\n",
              "<table border=\"1\" class=\"dataframe\">\n",
              "  <thead>\n",
              "    <tr style=\"text-align: right;\">\n",
              "      <th></th>\n",
              "      <th>IDADE</th>\n",
              "      <th>SEXO</th>\n",
              "      <th>INTERNADO</th>\n",
              "      <th>STATUS</th>\n",
              "      <th>Grupo</th>\n",
              "    </tr>\n",
              "  </thead>\n",
              "  <tbody>\n",
              "    <tr>\n",
              "      <th>0</th>\n",
              "      <td>54</td>\n",
              "      <td>1</td>\n",
              "      <td>0</td>\n",
              "      <td>0</td>\n",
              "      <td>1</td>\n",
              "    </tr>\n",
              "    <tr>\n",
              "      <th>1</th>\n",
              "      <td>15</td>\n",
              "      <td>1</td>\n",
              "      <td>0</td>\n",
              "      <td>0</td>\n",
              "      <td>1</td>\n",
              "    </tr>\n",
              "    <tr>\n",
              "      <th>2</th>\n",
              "      <td>43</td>\n",
              "      <td>1</td>\n",
              "      <td>0</td>\n",
              "      <td>0</td>\n",
              "      <td>1</td>\n",
              "    </tr>\n",
              "    <tr>\n",
              "      <th>3</th>\n",
              "      <td>25</td>\n",
              "      <td>0</td>\n",
              "      <td>0</td>\n",
              "      <td>0</td>\n",
              "      <td>0</td>\n",
              "    </tr>\n",
              "    <tr>\n",
              "      <th>4</th>\n",
              "      <td>58</td>\n",
              "      <td>1</td>\n",
              "      <td>0</td>\n",
              "      <td>0</td>\n",
              "      <td>1</td>\n",
              "    </tr>\n",
              "    <tr>\n",
              "      <th>...</th>\n",
              "      <td>...</td>\n",
              "      <td>...</td>\n",
              "      <td>...</td>\n",
              "      <td>...</td>\n",
              "      <td>...</td>\n",
              "    </tr>\n",
              "    <tr>\n",
              "      <th>5898</th>\n",
              "      <td>46</td>\n",
              "      <td>0</td>\n",
              "      <td>0</td>\n",
              "      <td>0</td>\n",
              "      <td>0</td>\n",
              "    </tr>\n",
              "    <tr>\n",
              "      <th>5899</th>\n",
              "      <td>23</td>\n",
              "      <td>0</td>\n",
              "      <td>0</td>\n",
              "      <td>0</td>\n",
              "      <td>0</td>\n",
              "    </tr>\n",
              "    <tr>\n",
              "      <th>5900</th>\n",
              "      <td>34</td>\n",
              "      <td>0</td>\n",
              "      <td>0</td>\n",
              "      <td>0</td>\n",
              "      <td>0</td>\n",
              "    </tr>\n",
              "    <tr>\n",
              "      <th>5901</th>\n",
              "      <td>70</td>\n",
              "      <td>1</td>\n",
              "      <td>0</td>\n",
              "      <td>0</td>\n",
              "      <td>1</td>\n",
              "    </tr>\n",
              "    <tr>\n",
              "      <th>5902</th>\n",
              "      <td>67</td>\n",
              "      <td>1</td>\n",
              "      <td>0</td>\n",
              "      <td>0</td>\n",
              "      <td>1</td>\n",
              "    </tr>\n",
              "  </tbody>\n",
              "</table>\n",
              "<p>5903 rows × 5 columns</p>\n",
              "</div>\n",
              "      <button class=\"colab-df-convert\" onclick=\"convertToInteractive('df-e1ee4113-38c9-4f89-ba53-b678094dcaa4')\"\n",
              "              title=\"Convert this dataframe to an interactive table.\"\n",
              "              style=\"display:none;\">\n",
              "        \n",
              "  <svg xmlns=\"http://www.w3.org/2000/svg\" height=\"24px\"viewBox=\"0 0 24 24\"\n",
              "       width=\"24px\">\n",
              "    <path d=\"M0 0h24v24H0V0z\" fill=\"none\"/>\n",
              "    <path d=\"M18.56 5.44l.94 2.06.94-2.06 2.06-.94-2.06-.94-.94-2.06-.94 2.06-2.06.94zm-11 1L8.5 8.5l.94-2.06 2.06-.94-2.06-.94L8.5 2.5l-.94 2.06-2.06.94zm10 10l.94 2.06.94-2.06 2.06-.94-2.06-.94-.94-2.06-.94 2.06-2.06.94z\"/><path d=\"M17.41 7.96l-1.37-1.37c-.4-.4-.92-.59-1.43-.59-.52 0-1.04.2-1.43.59L10.3 9.45l-7.72 7.72c-.78.78-.78 2.05 0 2.83L4 21.41c.39.39.9.59 1.41.59.51 0 1.02-.2 1.41-.59l7.78-7.78 2.81-2.81c.8-.78.8-2.07 0-2.86zM5.41 20L4 18.59l7.72-7.72 1.47 1.35L5.41 20z\"/>\n",
              "  </svg>\n",
              "      </button>\n",
              "      \n",
              "  <style>\n",
              "    .colab-df-container {\n",
              "      display:flex;\n",
              "      flex-wrap:wrap;\n",
              "      gap: 12px;\n",
              "    }\n",
              "\n",
              "    .colab-df-convert {\n",
              "      background-color: #E8F0FE;\n",
              "      border: none;\n",
              "      border-radius: 50%;\n",
              "      cursor: pointer;\n",
              "      display: none;\n",
              "      fill: #1967D2;\n",
              "      height: 32px;\n",
              "      padding: 0 0 0 0;\n",
              "      width: 32px;\n",
              "    }\n",
              "\n",
              "    .colab-df-convert:hover {\n",
              "      background-color: #E2EBFA;\n",
              "      box-shadow: 0px 1px 2px rgba(60, 64, 67, 0.3), 0px 1px 3px 1px rgba(60, 64, 67, 0.15);\n",
              "      fill: #174EA6;\n",
              "    }\n",
              "\n",
              "    [theme=dark] .colab-df-convert {\n",
              "      background-color: #3B4455;\n",
              "      fill: #D2E3FC;\n",
              "    }\n",
              "\n",
              "    [theme=dark] .colab-df-convert:hover {\n",
              "      background-color: #434B5C;\n",
              "      box-shadow: 0px 1px 3px 1px rgba(0, 0, 0, 0.15);\n",
              "      filter: drop-shadow(0px 1px 2px rgba(0, 0, 0, 0.3));\n",
              "      fill: #FFFFFF;\n",
              "    }\n",
              "  </style>\n",
              "\n",
              "      <script>\n",
              "        const buttonEl =\n",
              "          document.querySelector('#df-e1ee4113-38c9-4f89-ba53-b678094dcaa4 button.colab-df-convert');\n",
              "        buttonEl.style.display =\n",
              "          google.colab.kernel.accessAllowed ? 'block' : 'none';\n",
              "\n",
              "        async function convertToInteractive(key) {\n",
              "          const element = document.querySelector('#df-e1ee4113-38c9-4f89-ba53-b678094dcaa4');\n",
              "          const dataTable =\n",
              "            await google.colab.kernel.invokeFunction('convertToInteractive',\n",
              "                                                     [key], {});\n",
              "          if (!dataTable) return;\n",
              "\n",
              "          const docLinkHtml = 'Like what you see? Visit the ' +\n",
              "            '<a target=\"_blank\" href=https://colab.research.google.com/notebooks/data_table.ipynb>data table notebook</a>'\n",
              "            + ' to learn more about interactive tables.';\n",
              "          element.innerHTML = '';\n",
              "          dataTable['output_type'] = 'display_data';\n",
              "          await google.colab.output.renderOutput(dataTable, element);\n",
              "          const docLink = document.createElement('div');\n",
              "          docLink.innerHTML = docLinkHtml;\n",
              "          element.appendChild(docLink);\n",
              "        }\n",
              "      </script>\n",
              "    </div>\n",
              "  </div>\n",
              "  "
            ]
          },
          "metadata": {},
          "execution_count": 59
        }
      ]
    },
    {
      "cell_type": "code",
      "source": [
        "df2.iloc[125 , :]"
      ],
      "metadata": {
        "colab": {
          "base_uri": "https://localhost:8080/"
        },
        "id": "0zuc1fU3K08u",
        "outputId": "7f743d3a-d89c-49ce-a9b9-c05cd3dcc8c4"
      },
      "execution_count": null,
      "outputs": [
        {
          "output_type": "execute_result",
          "data": {
            "text/plain": [
              "IDADE        55\n",
              "SEXO          1\n",
              "INTERNADO     1\n",
              "STATUS        0\n",
              "Grupo         3\n",
              "Name: 125, dtype: int64"
            ]
          },
          "metadata": {},
          "execution_count": 60
        }
      ]
    },
    {
      "cell_type": "code",
      "source": [
        "grupo0 = df2.loc[df2.Grupo == 0]\n",
        "grupo0 "
      ],
      "metadata": {
        "colab": {
          "base_uri": "https://localhost:8080/",
          "height": 424
        },
        "id": "bniLTyyXLJSO",
        "outputId": "51ce803f-39d9-495c-da18-2249a797230f"
      },
      "execution_count": null,
      "outputs": [
        {
          "output_type": "execute_result",
          "data": {
            "text/plain": [
              "      IDADE  SEXO  INTERNADO  STATUS  Grupo\n",
              "3        25     0          0       0      0\n",
              "5        57     0          0       0      0\n",
              "6        27     0          0       0      0\n",
              "7        26     0          0       0      0\n",
              "8        52     0          0       0      0\n",
              "...     ...   ...        ...     ...    ...\n",
              "5890     42     0          0       0      0\n",
              "5896     88     0          0       0      0\n",
              "5898     46     0          0       0      0\n",
              "5899     23     0          0       0      0\n",
              "5900     34     0          0       0      0\n",
              "\n",
              "[2615 rows x 5 columns]"
            ],
            "text/html": [
              "\n",
              "  <div id=\"df-d28e132a-1b96-4986-af29-232c8e5a9351\">\n",
              "    <div class=\"colab-df-container\">\n",
              "      <div>\n",
              "<style scoped>\n",
              "    .dataframe tbody tr th:only-of-type {\n",
              "        vertical-align: middle;\n",
              "    }\n",
              "\n",
              "    .dataframe tbody tr th {\n",
              "        vertical-align: top;\n",
              "    }\n",
              "\n",
              "    .dataframe thead th {\n",
              "        text-align: right;\n",
              "    }\n",
              "</style>\n",
              "<table border=\"1\" class=\"dataframe\">\n",
              "  <thead>\n",
              "    <tr style=\"text-align: right;\">\n",
              "      <th></th>\n",
              "      <th>IDADE</th>\n",
              "      <th>SEXO</th>\n",
              "      <th>INTERNADO</th>\n",
              "      <th>STATUS</th>\n",
              "      <th>Grupo</th>\n",
              "    </tr>\n",
              "  </thead>\n",
              "  <tbody>\n",
              "    <tr>\n",
              "      <th>3</th>\n",
              "      <td>25</td>\n",
              "      <td>0</td>\n",
              "      <td>0</td>\n",
              "      <td>0</td>\n",
              "      <td>0</td>\n",
              "    </tr>\n",
              "    <tr>\n",
              "      <th>5</th>\n",
              "      <td>57</td>\n",
              "      <td>0</td>\n",
              "      <td>0</td>\n",
              "      <td>0</td>\n",
              "      <td>0</td>\n",
              "    </tr>\n",
              "    <tr>\n",
              "      <th>6</th>\n",
              "      <td>27</td>\n",
              "      <td>0</td>\n",
              "      <td>0</td>\n",
              "      <td>0</td>\n",
              "      <td>0</td>\n",
              "    </tr>\n",
              "    <tr>\n",
              "      <th>7</th>\n",
              "      <td>26</td>\n",
              "      <td>0</td>\n",
              "      <td>0</td>\n",
              "      <td>0</td>\n",
              "      <td>0</td>\n",
              "    </tr>\n",
              "    <tr>\n",
              "      <th>8</th>\n",
              "      <td>52</td>\n",
              "      <td>0</td>\n",
              "      <td>0</td>\n",
              "      <td>0</td>\n",
              "      <td>0</td>\n",
              "    </tr>\n",
              "    <tr>\n",
              "      <th>...</th>\n",
              "      <td>...</td>\n",
              "      <td>...</td>\n",
              "      <td>...</td>\n",
              "      <td>...</td>\n",
              "      <td>...</td>\n",
              "    </tr>\n",
              "    <tr>\n",
              "      <th>5890</th>\n",
              "      <td>42</td>\n",
              "      <td>0</td>\n",
              "      <td>0</td>\n",
              "      <td>0</td>\n",
              "      <td>0</td>\n",
              "    </tr>\n",
              "    <tr>\n",
              "      <th>5896</th>\n",
              "      <td>88</td>\n",
              "      <td>0</td>\n",
              "      <td>0</td>\n",
              "      <td>0</td>\n",
              "      <td>0</td>\n",
              "    </tr>\n",
              "    <tr>\n",
              "      <th>5898</th>\n",
              "      <td>46</td>\n",
              "      <td>0</td>\n",
              "      <td>0</td>\n",
              "      <td>0</td>\n",
              "      <td>0</td>\n",
              "    </tr>\n",
              "    <tr>\n",
              "      <th>5899</th>\n",
              "      <td>23</td>\n",
              "      <td>0</td>\n",
              "      <td>0</td>\n",
              "      <td>0</td>\n",
              "      <td>0</td>\n",
              "    </tr>\n",
              "    <tr>\n",
              "      <th>5900</th>\n",
              "      <td>34</td>\n",
              "      <td>0</td>\n",
              "      <td>0</td>\n",
              "      <td>0</td>\n",
              "      <td>0</td>\n",
              "    </tr>\n",
              "  </tbody>\n",
              "</table>\n",
              "<p>2615 rows × 5 columns</p>\n",
              "</div>\n",
              "      <button class=\"colab-df-convert\" onclick=\"convertToInteractive('df-d28e132a-1b96-4986-af29-232c8e5a9351')\"\n",
              "              title=\"Convert this dataframe to an interactive table.\"\n",
              "              style=\"display:none;\">\n",
              "        \n",
              "  <svg xmlns=\"http://www.w3.org/2000/svg\" height=\"24px\"viewBox=\"0 0 24 24\"\n",
              "       width=\"24px\">\n",
              "    <path d=\"M0 0h24v24H0V0z\" fill=\"none\"/>\n",
              "    <path d=\"M18.56 5.44l.94 2.06.94-2.06 2.06-.94-2.06-.94-.94-2.06-.94 2.06-2.06.94zm-11 1L8.5 8.5l.94-2.06 2.06-.94-2.06-.94L8.5 2.5l-.94 2.06-2.06.94zm10 10l.94 2.06.94-2.06 2.06-.94-2.06-.94-.94-2.06-.94 2.06-2.06.94z\"/><path d=\"M17.41 7.96l-1.37-1.37c-.4-.4-.92-.59-1.43-.59-.52 0-1.04.2-1.43.59L10.3 9.45l-7.72 7.72c-.78.78-.78 2.05 0 2.83L4 21.41c.39.39.9.59 1.41.59.51 0 1.02-.2 1.41-.59l7.78-7.78 2.81-2.81c.8-.78.8-2.07 0-2.86zM5.41 20L4 18.59l7.72-7.72 1.47 1.35L5.41 20z\"/>\n",
              "  </svg>\n",
              "      </button>\n",
              "      \n",
              "  <style>\n",
              "    .colab-df-container {\n",
              "      display:flex;\n",
              "      flex-wrap:wrap;\n",
              "      gap: 12px;\n",
              "    }\n",
              "\n",
              "    .colab-df-convert {\n",
              "      background-color: #E8F0FE;\n",
              "      border: none;\n",
              "      border-radius: 50%;\n",
              "      cursor: pointer;\n",
              "      display: none;\n",
              "      fill: #1967D2;\n",
              "      height: 32px;\n",
              "      padding: 0 0 0 0;\n",
              "      width: 32px;\n",
              "    }\n",
              "\n",
              "    .colab-df-convert:hover {\n",
              "      background-color: #E2EBFA;\n",
              "      box-shadow: 0px 1px 2px rgba(60, 64, 67, 0.3), 0px 1px 3px 1px rgba(60, 64, 67, 0.15);\n",
              "      fill: #174EA6;\n",
              "    }\n",
              "\n",
              "    [theme=dark] .colab-df-convert {\n",
              "      background-color: #3B4455;\n",
              "      fill: #D2E3FC;\n",
              "    }\n",
              "\n",
              "    [theme=dark] .colab-df-convert:hover {\n",
              "      background-color: #434B5C;\n",
              "      box-shadow: 0px 1px 3px 1px rgba(0, 0, 0, 0.15);\n",
              "      filter: drop-shadow(0px 1px 2px rgba(0, 0, 0, 0.3));\n",
              "      fill: #FFFFFF;\n",
              "    }\n",
              "  </style>\n",
              "\n",
              "      <script>\n",
              "        const buttonEl =\n",
              "          document.querySelector('#df-d28e132a-1b96-4986-af29-232c8e5a9351 button.colab-df-convert');\n",
              "        buttonEl.style.display =\n",
              "          google.colab.kernel.accessAllowed ? 'block' : 'none';\n",
              "\n",
              "        async function convertToInteractive(key) {\n",
              "          const element = document.querySelector('#df-d28e132a-1b96-4986-af29-232c8e5a9351');\n",
              "          const dataTable =\n",
              "            await google.colab.kernel.invokeFunction('convertToInteractive',\n",
              "                                                     [key], {});\n",
              "          if (!dataTable) return;\n",
              "\n",
              "          const docLinkHtml = 'Like what you see? Visit the ' +\n",
              "            '<a target=\"_blank\" href=https://colab.research.google.com/notebooks/data_table.ipynb>data table notebook</a>'\n",
              "            + ' to learn more about interactive tables.';\n",
              "          element.innerHTML = '';\n",
              "          dataTable['output_type'] = 'display_data';\n",
              "          await google.colab.output.renderOutput(dataTable, element);\n",
              "          const docLink = document.createElement('div');\n",
              "          docLink.innerHTML = docLinkHtml;\n",
              "          element.appendChild(docLink);\n",
              "        }\n",
              "      </script>\n",
              "    </div>\n",
              "  </div>\n",
              "  "
            ]
          },
          "metadata": {},
          "execution_count": 61
        }
      ]
    },
    {
      "cell_type": "code",
      "source": [
        "grupo0.shape"
      ],
      "metadata": {
        "id": "1wwQ6CVmLPR0",
        "outputId": "6a5465b8-1c95-4046-a3f5-5ed1f79020cc",
        "colab": {
          "base_uri": "https://localhost:8080/"
        }
      },
      "execution_count": null,
      "outputs": [
        {
          "output_type": "execute_result",
          "data": {
            "text/plain": [
              "(2615, 5)"
            ]
          },
          "metadata": {},
          "execution_count": 62
        }
      ]
    },
    {
      "cell_type": "markdown",
      "source": [
        "## **Agrupamento Hierárquico com PCA**\n"
      ],
      "metadata": {
        "id": "T7W8zqGpMKpg"
      }
    },
    {
      "cell_type": "code",
      "source": [
        "df2_esc"
      ],
      "metadata": {
        "colab": {
          "base_uri": "https://localhost:8080/"
        },
        "id": "zQDQcy_5MNvn",
        "outputId": "503e1193-5156-4f66-de74-3972ed599794"
      },
      "execution_count": null,
      "outputs": [
        {
          "output_type": "execute_result",
          "data": {
            "text/plain": [
              "array([[ 0.58345885,  1.05128818, -0.53038764, -0.22356702],\n",
              "       [-1.62596867,  1.05128818, -0.53038764, -0.22356702],\n",
              "       [-0.03971301,  1.05128818, -0.53038764, -0.22356702],\n",
              "       ...,\n",
              "       [-0.5495809 , -0.95121396, -0.53038764, -0.22356702],\n",
              "       [ 1.48989065,  1.05128818, -0.53038764, -0.22356702],\n",
              "       [ 1.31993469,  1.05128818, -0.53038764, -0.22356702]])"
            ]
          },
          "metadata": {},
          "execution_count": 63
        }
      ]
    },
    {
      "cell_type": "code",
      "source": [
        "df2_esc.shape"
      ],
      "metadata": {
        "colab": {
          "base_uri": "https://localhost:8080/"
        },
        "id": "p9wPmw2eMQFX",
        "outputId": "a4faaa61-0547-4fa1-fefe-772a4417b343"
      },
      "execution_count": null,
      "outputs": [
        {
          "output_type": "execute_result",
          "data": {
            "text/plain": [
              "(5903, 4)"
            ]
          },
          "metadata": {},
          "execution_count": 64
        }
      ]
    },
    {
      "cell_type": "markdown",
      "source": [
        "**Componentes Principais**"
      ],
      "metadata": {
        "id": "EgXgd6xQMSgP"
      }
    },
    {
      "cell_type": "code",
      "source": [
        "from sklearn.decomposition import PCA"
      ],
      "metadata": {
        "id": "4iSLpG8aMUwk"
      },
      "execution_count": null,
      "outputs": []
    },
    {
      "cell_type": "code",
      "source": [
        "pca = PCA(n_components = 2)"
      ],
      "metadata": {
        "id": "dccxe3GAMYgn"
      },
      "execution_count": null,
      "outputs": []
    },
    {
      "cell_type": "code",
      "source": [
        "df2_pca = pca.fit_transform(df2_esc)"
      ],
      "metadata": {
        "id": "T9j8ZcO4MaDG"
      },
      "execution_count": null,
      "outputs": []
    },
    {
      "cell_type": "code",
      "source": [
        "df2_pca"
      ],
      "metadata": {
        "colab": {
          "base_uri": "https://localhost:8080/"
        },
        "id": "pkXBW_AbMbfO",
        "outputId": "9de96b99-aef5-4f95-95e2-1df9f801cc68"
      },
      "execution_count": null,
      "outputs": [
        {
          "output_type": "execute_result",
          "data": {
            "text/plain": [
              "array([[ 0.03064365, -0.94281916],\n",
              "       [-1.19271952, -1.3261931 ],\n",
              "       [-0.3144075 , -1.05095027],\n",
              "       ...,\n",
              "       [-0.88365326,  0.82343125],\n",
              "       [ 0.53253623, -0.78553755],\n",
              "       [ 0.43843137, -0.81502785]])"
            ]
          },
          "metadata": {},
          "execution_count": 68
        }
      ]
    },
    {
      "cell_type": "code",
      "source": [
        "pca.explained_variance_ratio_"
      ],
      "metadata": {
        "colab": {
          "base_uri": "https://localhost:8080/"
        },
        "id": "Su6LBM7rMdwe",
        "outputId": "82444add-1460-44d4-a81c-b2419b2d9161"
      },
      "execution_count": null,
      "outputs": [
        {
          "output_type": "execute_result",
          "data": {
            "text/plain": [
              "array([0.44305785, 0.247892  ])"
            ]
          },
          "metadata": {},
          "execution_count": 69
        }
      ]
    },
    {
      "cell_type": "code",
      "source": [
        "pca.explained_variance_ratio_.sum()"
      ],
      "metadata": {
        "colab": {
          "base_uri": "https://localhost:8080/"
        },
        "id": "QpQA3x8nMfW-",
        "outputId": "2fb202b2-475b-4c9a-8397-2d6fe041700d"
      },
      "execution_count": null,
      "outputs": [
        {
          "output_type": "execute_result",
          "data": {
            "text/plain": [
              "0.6909498554548053"
            ]
          },
          "metadata": {},
          "execution_count": 70
        }
      ]
    },
    {
      "cell_type": "markdown",
      "source": [
        "**Dendograma**"
      ],
      "metadata": {
        "id": "WB1NE-6eMhka"
      }
    },
    {
      "cell_type": "code",
      "source": [
        "import matplotlib.pyplot as plt\n",
        "from scipy.cluster.hierarchy import dendrogram, linkage"
      ],
      "metadata": {
        "id": "n4RCdGs8Mi-F"
      },
      "execution_count": null,
      "outputs": []
    },
    {
      "cell_type": "code",
      "source": [
        "plt.figure(figsize=(10, 10))\n",
        "dendrograma = dendrogram(linkage(df2_pca, method = 'ward')) #complete, single e ward (dados dispersos)"
      ],
      "metadata": {
        "colab": {
          "base_uri": "https://localhost:8080/",
          "height": 594
        },
        "id": "ssvPfHieOWrI",
        "outputId": "53d98192-563e-48c0-9861-65f678650413"
      },
      "execution_count": null,
      "outputs": [
        {
          "output_type": "display_data",
          "data": {
            "text/plain": [
              "<Figure size 720x720 with 1 Axes>"
            ],
            "image/png": "[encoded data removed]"
          },
          "metadata": {
            "needs_background": "light"
          }
        }
      ]
    },
    {
      "cell_type": "code",
      "source": [
        "from sklearn.cluster import AgglomerativeClustering"
      ],
      "metadata": {
        "id": "z0_C1ifkPCEZ"
      },
      "execution_count": null,
      "outputs": []
    },
    {
      "cell_type": "code",
      "source": [
        "hier = AgglomerativeClustering(n_clusters=3, affinity='euclidean', linkage = 'complete')\n",
        "classificacao = hier.fit_predict(df2_pca)"
      ],
      "metadata": {
        "id": "WTADh-4sPFsO"
      },
      "execution_count": null,
      "outputs": []
    },
    {
      "cell_type": "code",
      "source": [
        "classificacao"
      ],
      "metadata": {
        "colab": {
          "base_uri": "https://localhost:8080/"
        },
        "id": "N_hUOg1uPI_0",
        "outputId": "82206cfb-7145-4479-d937-b1a1f24ef878"
      },
      "execution_count": null,
      "outputs": [
        {
          "output_type": "execute_result",
          "data": {
            "text/plain": [
              "array([0, 2, 0, ..., 2, 0, 0])"
            ]
          },
          "metadata": {},
          "execution_count": 75
        }
      ]
    },
    {
      "cell_type": "code",
      "source": [
        "import plotly.express as px"
      ],
      "metadata": {
        "id": "ai57PchlPRH4"
      },
      "execution_count": null,
      "outputs": []
    },
    {
      "cell_type": "code",
      "source": [
        "graf = px.scatter(x = df2_pca[:,0], y = df2_pca[:,1], color=classificacao)\n",
        "graf.update_layout(width=800,height=500,title_text='Agrupamento Hierárquico')\n",
        "graf.show()"
      ],
      "metadata": {
        "colab": {
          "base_uri": "https://localhost:8080/",
          "height": 517
        },
        "id": "V3DkPh7FPUWF",
        "outputId": "41f7d183-9dae-4153-99f7-90ebb0d8b5bc"
      },
      "execution_count": null,
      "outputs": [
        {
          "output_type": "display_data",
          "data": {
            "text/html": [
              "<html>\n",
              "<head><meta charset=\"utf-8\" /></head>\n",
              "<body>\n",
              "    <div>            <script src=\"https://cdnjs.cloudflare.com/ajax/libs/mathjax/2.7.5/MathJax.js?config=TeX-AMS-MML_SVG\"></script><script type=\"text/javascript\">if (window.MathJax) {MathJax.Hub.Config({SVG: {font: \"STIX-Web\"}});}</script>                <script type=\"text/javascript\">window.PlotlyConfig = {MathJaxConfig: 'local'};</script>\n",
              "        <script src=\"https://cdn.plot.ly/plotly-2.8.3.min.js\"></script>                <div id=\"af5a6e55-1e9b-4c14-ab02-d9c227c47352\" class=\"plotly-graph-div\" style=\"height:500px; width:800px;\"></div>            <script type=\"text/javascript\">                                    window.PLOTLYENV=window.PLOTLYENV || {};                                    if (document.getElementById(\"af5a6e55-1e9b-4c14-ab02-d9c227c47352\")) {                    Plotly.newPlot(                        \"af5a6e55-1e9b-4c14-ab02-d9c227c47352\",                        [{\"hovertemplate\":\"x=%{x}<br>y=%{y}<br>color=%{marker.color}<extra></extra>\",\"legendgroup\":\"\",\"marker\":{\"color\":[0,2,0,2,0,2,2,2,2,2,2,2,2,2,2,2,2,0,2,2,0,0,0,2,2,2,2,2,2,0,0,2,2,2,2,2,0,2,0,0,0,0,0,2,2,0,2,0,0,2,0,0,2,0,0,2,2,2,2,2,0,0,0,2,2,0,0,0,0,0,2,2,2,2,0,0,0,0,0,0,0,2,2,0,2,0,2,0,0,0,0,0,0,0,0,0,0,0,2,0,0,2,2,0,2,2,0,0,2,2,1,0,2,0,1,0,0,0,2,0,0,2,2,0,0,0,0,0,0,0,0,0,2,0,0,0,0,0,1,1,2,2,2,2,0,0,0,0,2,2,0,0,1,2,0,2,2,0,0,2,0,2,2,2,2,2,2,0,0,1,2,0,0,0,1,2,1,1,0,0,2,0,0,2,2,0,2,2,2,2,0,0,0,0,2,0,0,2,2,2,2,0,2,0,0,2,2,2,1,0,0,2,1,2,2,2,0,0,2,2,2,2,0,2,0,0,2,2,2,0,2,1,2,0,1,1,2,0,0,0,1,1,2,2,2,2,2,2,2,2,0,2,0,0,2,0,2,0,2,2,2,2,2,2,2,2,2,0,1,0,2,2,2,2,2,2,2,2,2,2,2,0,2,0,2,0,1,0,0,0,2,0,2,0,2,2,2,2,2,0,0,2,0,0,2,2,2,2,0,0,2,2,2,2,0,0,2,2,2,2,2,2,2,2,0,2,2,0,0,0,0,1,2,2,0,0,2,0,2,2,2,0,2,2,2,2,0,0,2,2,2,0,0,2,1,2,0,0,2,0,2,0,0,2,2,2,2,1,2,2,0,2,0,0,2,2,2,0,0,2,0,2,2,2,2,2,2,2,0,2,1,2,0,2,2,2,2,2,2,0,0,2,0,2,2,2,0,2,2,0,0,2,0,1,0,2,2,2,1,0,2,2,0,2,0,2,2,0,2,0,2,0,2,0,2,2,2,0,0,2,0,2,2,2,0,0,1,0,0,0,0,0,1,0,0,2,2,2,2,2,0,2,0,2,2,0,0,0,2,0,0,2,0,2,1,0,2,1,0,0,2,0,2,0,2,2,2,2,2,2,2,2,0,0,2,2,0,2,2,2,2,2,2,0,2,2,2,2,0,2,0,0,2,2,2,0,0,2,2,0,0,2,2,0,0,0,2,0,2,2,2,2,2,0,2,0,0,2,2,2,0,2,2,2,0,0,0,2,2,2,0,0,2,1,1,0,2,2,2,2,0,2,2,2,0,2,2,2,2,2,0,2,2,1,2,0,2,0,0,2,2,2,2,2,2,2,0,0,0,2,1,2,0,2,2,2,2,0,0,2,0,2,2,2,2,2,2,2,2,2,2,2,0,0,0,2,2,0,0,2,2,2,0,2,0,0,2,0,0,2,2,2,2,0,2,2,2,2,2,2,0,2,2,2,2,0,0,2,2,0,0,0,2,2,2,2,2,0,0,0,2,0,2,1,2,2,0,0,0,2,0,0,2,0,0,2,2,2,2,1,2,2,0,0,0,0,0,0,0,0,0,2,2,2,0,0,0,2,0,2,2,2,2,0,0,0,2,2,2,0,0,0,0,2,2,0,2,0,0,2,2,0,2,2,2,2,2,0,2,2,0,0,2,2,0,0,1,2,0,1,1,0,0,0,2,1,0,2,2,2,2,2,2,2,0,0,2,0,2,0,0,2,2,2,2,0,2,2,2,2,0,2,0,0,2,2,2,0,0,1,0,2,0,0,0,0,0,2,2,2,2,2,2,2,2,2,0,0,2,0,1,0,2,2,0,0,0,2,2,0,2,0,2,0,0,0,2,2,0,0,2,2,2,0,2,0,0,0,0,2,2,2,2,0,0,0,2,2,2,0,2,0,2,2,0,0,2,2,0,0,1,2,0,2,2,2,2,0,2,2,2,0,2,2,0,0,0,2,2,0,0,0,2,2,2,2,0,2,2,2,0,2,0,1,0,0,2,2,2,0,2,1,0,0,2,2,2,2,1,2,0,2,1,2,0,0,2,0,2,2,2,2,0,2,2,0,0,0,2,2,0,2,2,0,0,2,0,2,2,0,0,0,0,1,0,0,0,2,2,2,2,0,0,0,0,2,0,0,0,2,0,0,2,0,0,1,0,2,0,0,2,0,2,2,1,0,1,0,0,2,0,0,2,2,2,0,0,0,0,0,2,2,2,2,2,2,0,2,0,2,2,2,1,2,1,2,0,0,1,2,2,0,2,0,2,0,0,0,0,0,0,0,1,0,2,1,0,0,0,1,0,0,0,0,1,1,2,2,0,0,0,0,2,0,0,0,2,2,2,2,2,0,2,2,2,0,0,1,2,0,0,0,2,0,0,0,0,2,0,1,2,0,2,0,1,0,2,2,2,2,2,2,2,2,0,0,2,2,0,0,0,1,2,0,2,2,2,0,2,2,0,2,2,2,2,0,0,0,0,2,2,2,2,2,0,2,2,2,2,2,0,2,0,0,2,2,0,2,2,0,0,1,2,2,0,2,2,0,0,0,2,2,0,0,0,0,0,2,0,2,2,0,2,2,0,0,0,0,0,2,2,1,2,2,2,2,2,2,2,2,0,0,0,0,2,2,0,2,2,2,0,0,0,0,0,2,0,0,0,0,2,2,2,2,2,0,2,2,2,2,0,2,2,0,1,2,2,0,0,0,0,0,1,0,0,2,0,0,0,2,2,2,2,2,2,2,2,2,2,2,0,0,2,2,1,0,2,0,0,2,2,2,2,2,2,0,2,2,2,0,0,0,1,2,2,2,0,1,0,0,0,2,2,2,0,2,2,2,0,0,2,2,2,2,2,0,0,0,0,1,1,0,0,0,0,0,0,1,0,1,0,0,0,0,1,0,2,0,2,1,2,0,0,2,2,2,0,1,2,0,0,2,0,2,2,0,2,2,2,2,1,2,0,2,2,0,2,0,0,0,1,0,0,0,0,2,0,0,2,0,2,2,2,0,2,2,2,0,2,2,2,2,2,0,2,2,2,2,0,2,0,2,2,2,2,2,2,2,0,0,0,2,2,2,0,1,2,0,1,1,0,0,0,0,1,0,0,0,0,1,0,1,0,2,0,2,0,0,2,2,0,2,2,0,2,2,2,0,0,2,0,2,0,0,2,0,2,2,2,0,2,1,2,0,0,2,0,0,0,2,0,1,0,2,0,0,0,0,0,2,2,2,2,0,0,2,2,0,2,2,2,2,2,2,0,2,2,0,0,2,0,2,2,0,2,2,0,2,0,2,2,0,2,0,0,0,0,2,1,0,0,2,0,0,0,2,2,2,2,2,2,2,2,0,2,0,1,1,0,2,2,2,0,0,1,0,2,2,2,2,2,2,2,0,0,2,2,2,2,2,2,2,0,2,2,1,2,2,0,0,0,2,2,2,2,0,2,2,2,0,2,0,2,2,2,1,1,0,2,0,0,0,1,1,1,0,2,2,0,0,0,0,0,0,0,1,1,0,1,0,1,2,2,2,0,0,2,2,2,2,0,2,0,0,2,0,2,2,0,2,2,2,0,2,2,0,2,1,1,1,2,0,0,0,0,0,0,0,0,0,2,1,2,2,1,0,2,2,2,2,2,2,0,2,2,0,2,2,2,0,1,2,0,2,1,0,0,2,0,1,0,0,0,0,1,0,1,2,0,2,0,1,2,0,2,0,0,2,2,0,2,2,2,0,2,2,2,2,2,2,0,2,2,2,0,0,2,0,0,0,0,0,0,0,2,1,0,0,2,2,0,1,0,2,0,2,0,0,2,0,2,2,0,2,2,0,2,2,0,2,2,2,2,0,2,2,0,0,2,2,2,2,0,2,2,0,2,1,0,2,0,0,2,2,0,2,0,1,1,1,2,1,0,1,0,0,0,0,2,0,2,2,2,2,2,2,0,2,2,0,2,0,2,2,2,0,2,2,2,2,0,0,0,0,0,2,0,0,0,2,2,2,2,2,2,0,2,2,0,2,2,2,2,2,0,2,2,1,2,0,0,2,0,2,0,0,2,0,0,2,2,0,2,2,0,2,2,2,0,2,0,0,0,0,2,2,2,2,2,2,2,0,0,2,0,1,1,0,0,0,2,0,0,0,2,2,0,2,0,2,2,2,1,2,2,2,0,2,0,2,2,2,0,2,1,0,0,1,2,0,0,0,0,0,0,1,2,2,2,0,0,2,2,2,2,0,2,2,2,2,0,0,2,0,2,2,0,2,2,2,2,0,0,2,2,2,2,0,2,2,2,2,2,2,2,0,2,1,2,2,2,0,2,2,2,2,0,2,0,2,2,2,0,2,2,2,2,2,0,2,2,2,2,2,2,0,0,2,0,2,2,2,2,2,2,2,0,2,2,2,2,0,0,1,0,2,2,0,2,2,2,0,2,2,2,0,2,0,0,0,0,2,2,2,2,2,0,0,0,0,2,0,0,0,0,2,1,0,1,1,0,0,1,2,0,2,0,2,0,2,0,2,2,2,2,0,0,0,0,0,0,1,1,2,0,0,2,0,1,0,2,0,1,0,0,2,1,0,0,1,0,2,2,2,0,0,0,2,2,0,2,2,0,0,2,2,2,0,2,2,2,2,0,0,2,0,0,0,0,2,2,0,2,1,0,2,2,0,0,0,0,1,0,2,1,0,0,0,0,0,0,2,0,0,0,0,0,2,2,2,0,2,2,2,2,2,2,2,2,2,2,0,2,2,0,2,0,0,0,1,0,0,0,0,1,0,0,1,2,1,2,2,2,2,0,2,2,2,2,1,0,0,0,2,2,0,2,2,0,2,2,2,2,0,2,2,0,2,2,2,2,0,1,0,2,0,0,0,2,2,2,2,0,2,2,2,0,0,1,2,0,0,0,0,0,2,1,0,0,0,0,0,0,0,0,0,1,0,0,0,0,2,0,2,0,1,0,2,2,2,2,0,2,2,2,2,0,2,0,2,2,2,2,2,2,2,2,2,2,2,2,0,2,2,2,0,2,2,0,2,2,2,2,2,2,2,2,2,2,2,2,2,2,2,2,2,2,2,2,0,2,2,2,2,2,2,0,2,2,0,0,2,2,2,0,0,2,2,2,2,2,2,2,2,0,0,2,2,2,2,0,2,2,2,2,2,2,2,2,2,2,2,2,2,2,2,2,0,2,2,2,2,0,2,2,2,2,2,2,0,2,2,2,0,2,2,2,2,2,2,2,2,2,2,0,2,2,2,2,2,2,2,2,2,2,2,0,2,2,2,0,2,0,2,2,1,2,2,0,2,2,2,2,2,2,2,2,2,2,2,0,0,2,2,2,0,2,2,2,2,0,2,2,0,2,0,2,0,2,2,2,2,2,2,2,2,2,2,0,2,2,2,2,2,2,0,2,2,0,0,0,0,0,2,2,2,2,2,2,0,2,2,2,0,2,2,2,2,2,2,2,0,2,2,2,2,2,0,2,0,2,2,2,0,2,2,0,2,2,2,2,2,0,2,2,2,2,0,2,2,2,2,2,2,2,2,2,2,2,2,2,2,2,2,2,2,0,1,2,2,2,2,2,2,2,0,2,2,2,2,2,2,2,2,0,2,2,2,0,0,2,0,2,0,2,2,0,2,2,2,2,2,2,2,2,2,2,2,2,2,2,2,0,2,2,2,2,2,2,0,2,2,2,2,0,1,2,2,0,2,2,2,2,2,2,0,2,2,2,2,2,0,2,2,0,2,2,2,0,0,2,2,2,2,2,2,2,0,0,2,2,2,2,0,2,2,2,0,2,2,2,2,2,2,2,2,0,0,2,2,2,2,1,2,2,2,2,2,2,2,2,2,2,2,0,2,2,2,0,0,2,2,2,0,2,0,0,2,2,2,2,0,2,0,0,0,2,2,2,2,2,2,2,2,2,0,2,2,2,2,2,0,1,0,0,0,0,2,2,2,2,2,2,2,2,0,2,2,2,2,2,0,0,0,0,2,2,0,2,0,2,1,0,0,0,2,1,0,0,2,0,0,0,0,0,0,0,2,2,0,1,0,0,2,0,0,0,2,0,2,2,2,0,0,0,2,0,2,2,0,1,2,0,0,0,2,2,0,0,2,2,2,2,2,0,2,0,2,2,1,1,0,0,2,2,2,2,2,2,2,2,0,2,0,0,0,2,2,2,0,2,0,2,2,2,2,0,0,0,0,0,1,0,0,0,0,0,0,0,0,2,0,0,1,0,0,2,2,2,2,2,0,2,2,2,0,2,0,2,2,2,2,2,2,0,2,2,0,2,2,2,2,2,0,1,0,2,0,2,0,2,2,0,2,2,0,0,2,0,2,2,2,2,2,1,2,2,2,2,2,0,0,2,2,0,2,2,2,2,2,2,2,2,2,2,2,0,1,2,2,2,0,0,0,0,2,2,2,2,2,2,2,2,2,2,2,2,0,0,2,2,2,0,0,0,0,1,2,0,1,2,2,0,0,1,2,2,2,2,2,0,0,0,2,2,2,0,0,2,2,2,2,2,0,0,2,2,2,2,2,2,2,0,2,2,2,0,2,2,0,0,2,2,2,0,2,2,2,2,2,2,2,0,2,2,2,2,2,2,2,2,2,2,2,2,2,2,2,2,0,2,2,2,0,0,0,2,2,2,0,2,2,2,2,0,0,2,2,0,2,2,2,2,2,2,2,2,2,2,0,2,2,0,2,2,2,2,0,0,2,2,0,0,2,2,0,0,0,1,2,2,0,2,0,0,2,2,0,2,2,2,0,2,2,2,0,2,2,0,0,2,0,2,2,2,0,2,2,2,2,0,0,2,2,2,2,0,0,2,0,2,2,2,0,2,2,2,2,2,0,1,2,0,2,0,2,2,2,2,0,2,0,2,0,0,0,1,0,0,0,0,0,1,0,0,0,0,0,0,0,0,1,0,0,2,0,2,0,2,0,0,2,2,0,2,2,2,2,2,2,2,2,2,0,2,0,0,0,0,0,1,0,0,1,0,0,0,0,0,0,0,0,0,0,0,0,2,2,2,2,0,2,2,2,2,2,0,0,0,0,0,0,0,0,0,0,0,0,0,1,2,2,2,2,2,2,2,0,0,2,0,0,2,2,0,2,2,0,0,2,2,2,2,2,2,2,0,0,2,2,2,2,2,0,0,0,0,2,2,2,2,0,2,2,2,0,2,2,2,2,0,2,2,2,0,2,2,2,2,2,2,2,0,2,2,2,2,0,2,2,0,2,2,2,2,2,2,0,2,0,2,2,2,2,2,2,2,0,0,2,2,2,0,2,2,2,0,0,2,2,2,0,2,2,2,2,2,2,0,2,2,2,2,2,2,0,0,0,2,2,2,2,2,2,2,2,2,2,2,2,2,2,0,2,2,2,2,2,0,2,2,2,2,2,2,2,2,2,2,2,2,2,2,2,2,0,2,0,2,2,2,2,2,2,2,2,2,2,2,2,2,2,0,2,2,2,0,2,2,2,2,0,2,2,2,2,2,2,2,0,2,2,2,2,2,1,2,2,1,2,2,2,0,2,2,2,0,0,2,2,2,2,2,2,0,0,2,2,2,2,2,2,2,2,2,2,0,0,0,2,2,2,2,0,2,0,2,2,2,2,2,2,2,0,2,2,2,2,2,2,2,2,2,2,2,2,2,2,2,2,2,2,2,2,2,2,2,2,2,2,2,0,2,0,2,1,2,0,2,2,2,2,2,2,2,2,2,0,2,2,0,0,0,2,0,2,0,2,2,2,0,2,2,2,2,1,0,1,0,0,2,2,2,2,2,2,2,0,2,2,2,2,2,2,2,2,0,2,1,2,2,0,2,2,2,0,2,2,0,2,0,0,0,2,0,2,2,2,0,0,0,0,0,1,0,1,0,0,0,1,0,1,1,0,0,0,0,0,0,0,1,0,1,1,0,0,0,0,0,2,0,0,0,1,1,1,1,0,0,0,0,2,1,0,0,2,2,2,2,2,2,2,2,2,2,2,0,0,0,2,0,2,0,2,0,0,2,0,2,0,2,0,2,0,0,2,2,2,0,2,2,0,2,2,2,2,0,0,2,2,0,2,2,2,2,2,2,0,0,0,2,2,0,0,0,2,2,0,2,0,0,2,0,0,2,0,0,2,0,2,2,0,2,0,2,0,2,2,0,0,2,2,2,2,0,2,0,2,2,2,2,2,2,2,2,2,2,0,0,2,2,2,0,2,0,2,0,2,2,0,2,2,2,2,2,2,2,0,2,2,0,2,2,2,2,2,0,2,2,0,2,2,0,2,2,2,2,2,2,2,0,2,2,2,0,2,2,2,0,2,2,2,0,2,0,2,0,0,2,2,0,2,2,0,2,2,2,0,2,2,2,2,0,0,0,0,2,0,0,0,2,2,2,0,1,2,2,2,2,0,0,2,0,0,2,0,2,2,0,2,0,0,0,0,0,0,0,0,1,0,1,1,0,2,1,2,0,0,0,0,0,1,0,0,0,0,0,0,0,0,0,0,0,1,0,0,2,0,0,0,0,0,2,2,1,0,0,2,2,2,2,2,2,2,0,2,2,2,2,0,0,0,0,2,0,0,2,2,2,2,2,2,0,0,2,0,2,2,2,2,0,2,0,0,2,2,0,2,2,0,2,0,0,2,2,2,2,2,2,2,2,2,2,0,0,0,2,2,2,0,2,2,2,2,0,2,2,2,2,0,0,2,2,2,2,0,0,2,2,0,2,2,2,2,2,0,0,2,2,0,2,2,2,2,0,2,2,2,2,0,2,2,0,0,2,0,2,0,0,0,2,0,0,2,2,0,2,2,2,2,2,2,2,2,2,0,0,2,2,0,0,2,0,0,2,2,2,2,2,0,0,0,0,2,0,2,0,2,2,2,0,2,0,0,2,2,2,2,0,2,2,2,2,2,1,2,2,2,2,0,2,2,2,2,2,0,0,2,2,2,2,2,2,2,2,0,2,2,2,2,2,2,2,0,2,2,2,2,2,0,2,2,2,0,2,2,0,0,2,2,2,2,2,2,2,0,2,2,2,2,2,2,2,2,2,2,0,0,1,1,0,0,0,2,0,0,0,0,2,0,0,0,0,0,2,2,2,0,0,2,2,2,0,2,2,2,0,2,2,2,2,2,2,2,2,0,2,2,2,2,2,2,2,2,2,0,2,2,2,2,2,2,0,2,2,0,2,2,0,0,2,2,2,1,2,0,2,2,2,2,0,0,2,2,2,0,0,2,0,0,2,0,2,2,2,0,2,2,2,0,0,1,0,0,0,2,1,1,1,1,1,1,1,0,0,0,0,0,0,1,0,0,0,0,2,1,1,0,0,1,1,2,1,2,2,2,2,2,0,2,2,2,2,2,0,2,2,2,0,2,0,2,2,2,2,2,2,2,2,2,2,2,0,2,0,2,2,2,0,2,2,2,0,0,2,2,2,2,2,2,2,2,0,0,2,0,2,2,0,2,0,0,2,2,2,2,2,0,2,2,2,0,2,2,2,2,2,2,2,2,2,2,2,2,2,2,2,0,2,0,2,2,2,2,0,2,2,2,2,2,2,2,0,0,2,2,0,2,0,2,0,2,2,2,2,0,0,2,2,2,2,1,1,0,2,2,0,2,2,1,1,0,2,2,0,2,2,2,0,2,2,2,2,0,2,2,2,2,0,2,2,2,2,2,2,2,0,2,0,2,2,0,2,2,0,2,0,2,0,2,2,2,2,0,2,0,2,2,2,2,2,2,2,2,2,0,2,2,2,2,2,0,0,0,0,0,2,2,2,2,2,2,0,2,2,2,2,2,2,0,2,2,0,2,2,2,2,2,0,2,2,0,2,2,0,0,1,1,0,1,0,0,0,1,0,0,0,0,0,0,0,1,0,0,0,2,1,0,0,0,2,2,2,0,2,2,2,0,2,2,0,2,0,2,2,2,2,2,2,2,0,0,0,2,2,2,2,2,2,2,2,2,2,2,2,2,2,2,2,0,2,0,0,2,2,2,2,2,0,0,2,2,2,2,2,2,2,2,0,2,0,0,2,2,0,2,2,2,0,2,2,0,0,0,0,0,0,2,2,2,2,2,0,2,0,2,2,2,2,2,2,0,0,2,0,0,0,2,2,2,2,2,1,2,0,0,2,2,2,2,2,2,2,0,2,2,2,2,2,2,2,2,0,2,2,0,2,2,2,2,2,0,2,2,2,2,2,2,2,2,0,0,0,2,2,2,2,2,2,0,2,2,2,2,2,2,2,2,2,0,0,0,1,0,0,2,2,2,2,2,0,2,0,0,0,2,2,2,2,0,0,0,2,0,2,0,2,2,2,2,0,2,2,0,0,0,0,0,0,1,0,2,1,1,2,1,1,0,0,1,1,0,1,2,1,2,2,2,0,2,0,2,2,0,2,2,2,2,0,2,2,2,2,2,0,2,2,2,2,2,2,0,0,2,0,0,0,0,0,0,0,0,2,1,0,0,0,2,0,0,0,0,1,0,0,0,0,0,0,1,0,0,0,0,0,0,2,2,2,2,2,0,1,1,0,0,1,2,0,0,2,2,2,0,0,2,2,0,2,2,2,2,0,2,2,2,2,2,2,2,2,2,0,0,0,2,2,2,0,0,2,0,0,2,2,2,2,2,0,2,0,0,0,0,0,0,1,0,0,0,1,1,2,1,1,0,1,0,2,2,2,2,2,2,2,2,2,2,0,2,2,2,2,2,2,2,0,2,2,2,2,2,2,0,0,2,2,2,2,2,0,2,2,0,2,2,2,2,2,2,2,0,0,2,2,0,2,2,2,2,2,0,0,2,0,2,2,2,2,2,0,2,2,2,2,2,2,0,2,0,2,2,2,0,2,0,0,0,0,0,2,2,0,0,0,2,0,0,2,2,0,2,2,2,2,2,0,0,2,2,2,2,2,2,2,2,0,2,2,2,2,2,0,0,0,2,2,2,2,2,2,2,2,0,2,2,2,0,2,2,0,2,0,2,2,2,2,2,2,2,2,2,0,2,2,0,0,2,0,2,2,2,2,2,0,0,2,2,2,2,2,2,2,0,2,2,0,0,2,2,2,0,2,1,0,2,2,2,0,2,2,0,2,2,2,2,2,2,2,0,0,2,2,2,2,2,0,2,0,2,2,0,2,2,2,2,2,2,2,2,2,2,0,2,2,0,2,2,2,2,2,2,2,2,2,2,2,2,2,0,2,2,2,2,2,2,0,2,0,2,2,2,0,0,1,2,2,2,2,2,2,2,2,2,2,2,2,2,0,2,2,0,2,2,2,2,2,0,2,2,0,2,2,2,2,2,0,2,2,2,2,2,2,2,2,2,2,2,0,0,2,2,2,2,2,2,2,2,2,0,2,2,0,2,2,2,0,2,0,2,0,2,0,0,0,2,2,2,2,0,2,2,2,2,2,2,2,2,2,2,2,2,0,2,0,0,2,2,2,2,2,0,2,2,2,2,2,0,0,2,0,2,2,0,2,2,0,2,2,2,0,1,2,2,2,2,2,2,2,2,2,2,0,0,0,2,2,0,2,2,0,2,2,2,2,0,0,0,0,2,2,0,2,2,2,2,2,2,2,2,2,2,0,2,0,2,2,2,2,2,2,2,2,2,2,2,2,0,2,2,2,0,2,2,2,0,2,2,2,2,2,2,2,2,2,2,0,0,0,0,2,2,2,2,2,2,2,0,0,2,2,2,0,2,2,2,2,0,2,2,2,0,2,2,0,2,0,0,0,2,0,2,2,2,2,2,2,2,2,0,2,2,2,2,2,2,2,2,2,2,2,0,0,2,2,0,0,2,0,0,0,2,2,2,2,2,2,0,1,1,0,0,2,2,0,0,2,2,2,2,0,2,2,2,2,0,0,2,0,2,2,2,2,2,2,0,0,0,0,0,1,1,2,1,0,0,2,0,0,0,0,0,0,0,0,0,0,0,0,0,0,0,2,0,0,0,0,0,0,0,2,2,0,0,0,0,0,2,2,2,2,0,2,2,0,0,0,2,0,2,2,2,2,0,0,2,0,0,2,2,2,2,2,2,2,0,2,2,2,2,2,0,2,2,2,2,0,2,0,2,0,2,2,2,2,0,0,2,0,2,2,2,2,2,2,2,0,1,2,2,2,2,2,0,2,2,2,0,2,0,0,2,2,0,2,2,0,0,2,2,2,2,2,2,2,2,2,0,2,2,2,2,0,2,2,2,2,0,2,2,2,2,0,2,0,2,2,2,2,2,2,2,2,0,0,0,2,2,2,2,0,2,0,2,2,2,2,2,2,2,2,0,2,2,2,2,2,2,2,2,2,2,2,2,2,2,2,2,2,2,2,2,2,2,2,2,2,2,2,2,0,0,0,2,2,2,2,0,2,0,2,0,2,2,2,2,2,2,2,2,0,0,2,2,2,0,2,2,0,2,2,0,2,2,2,2,2,2,2,0,2,0,2,0,2,2,2,0,2,2,2,2,2,2,2,2,2,2,2,2,2,2,0,2,2,2,0,2,2,2,0,2,2,2,0,0,2,2,2,2,2,2,2,2,2,2,2,2,0,2,2,2,2,2,0,0,2,2,2,2,0,2,2,2,2,1,2,0,0,2,2,0,2,0,2,2,2,2,2,2,2,2,2,2,2,2,2,2,0,2,2,0,2,2,2,2,2,2,2,2,2,0,2,2,0,2,0,2,2,2,2,2,2,2,2,2,2,0,2,0,0,0,0,0,2,0,0,2,2,0,2,2,2,0,0,0,0,0,0,0,0,0,2,2,2,2,2,0,2,2,0,2,0,0,0,1,1,1,0,1,0,0,0,0,0,0,0,1,0,0,0,0,0,0,1,2,1,0,2,0,1,0,0,2,2,2,2,2,2,0,2,2,2,0,2,2,2,2,2,2,2,2,2,2,0,2,2,2,2,0,2,0,0,0,2,2,2,2,0,2,2,0,2,0,2,0,2,0,2,2,2,0,2,2,0,0,0,2,2,0,2,2,2,2,2,2,0,0,2,2,0,2,2,0,2,2,2,2,0,2,2,0,2,2,2,2,2,2,2,2,0,2,2,2,2,2,0,2,2,2,2,0,2,2,2,2,2,2,2,0,2,0,2,0,2,2,2,2,2,2,0,0,2,2,0,1,1,2,0,2,2,2,2,2,2,2,2,0,2,0,2,2,2,2,2,2,0,2,2,2,2,2,0,2,0,0,2,0,2,2,0,0,0,0,0,2,2,2,0,2,2,2,0,0,2,2,2,2,2,2,2,2,0,2,2,2,0,2,2,0,2,0,2,0,2,2,0,2,2,2,2,0,0],\"coloraxis\":\"coloraxis\",\"symbol\":\"circle\"},\"mode\":\"markers\",\"name\":\"\",\"showlegend\":false,\"x\":[0.030643646907915167,-1.1927195226857492,-0.3144075034902964,-1.1659678368694368,0.15611679250726754,-0.16218267207463335,-1.1032312640697615,-1.1345995504695987,-0.3190241040738214,-1.2600726960689494,-1.1345995504695987,-0.44449724967317183,-0.6594586538885101,-0.8209166864712232,-0.5386021088726846,-1.1345995504695987,-0.44449724967317183,-0.0007246394919204951,-1.0091264048702484,-0.9463898320705731,0.5906562015214688,1.3167274025902873,-0.03209292589175813,-0.5699703952725222,-0.5339855082891596,-1.0718629776699238,-0.2876558176739838,-1.0091264048702484,-0.6640752544720351,2.0741828767699144,0.24560505112325529,-0.3457757898901341,-0.9463898320705731,-0.7581801136715478,-0.03670952647528297,-0.8209166864712232,0.4697996565056434,-1.0718629776699238,0.18748507890710517,1.9754614169868765,1.2539908297906122,1.6350268671721884,0.5011519561945095,-0.2562875312741462,-1.1299829498860743,1.0703977119751114,-1.2600726960689494,1.9487097311705637,0.03064364690791713,-1.3495609546849374,1.4422005481896378,1.7291317263717008,-0.8836532592708981,0.7834825205040195,0.7253465615768976,-0.35039239047365894,-0.7221952266881853,-0.5072338224728469,-0.7581801136715478,-1.0718629776699238,2.0068297033867144,0.783466533793048,1.3840805759734873,-0.6908269402883477,-1.1032312640697615,1.0390294255752737,1.3213440031738124,0.12013190552390492,1.4781854351730004,0.09338021970759232,-0.22491924487430856,-0.7535635130880228,-1.040494691270086,-0.5653537946889973,2.199656022369265,0.15611679250726754,1.6350268671721884,0.7207299609933728,1.760500012771538,0.7253465615768976,1.791868299171376,-1.040494691270086,-0.4398806490896468,0.6939782751770601,-0.7895484000713855,-0.25167093069062135,-0.09944609927495818,1.9487097311705637,0.9449245663757612,2.13691944956959,1.693146839388338,1.8186199849876887,0.31295822450645544,0.2502216517067803,1.4422005481896378,1.348095688990125,0.9449245663757612,1.5363054073891504,-0.8209166864712232,1.4781854351730004,1.4108322617898004,-0.6594586538885101,-0.1308143856747958,0.9135562799759236,-0.5072338224728469,-0.5653537946889973,-0.09482949869143334,1.3527122895736499,-1.2287044096691118,-0.005341240075445474,4.328834926005169,1.5409220079726753,-0.6640752544720351,0.8462031065927232,3.8850623158239186,1.6304102665886633,0.783466533793048,0.4697836697946722,0.03062766019694557,1.1645025711746244,1.159885970591099,-0.7535635130880228,-0.7581801136715478,0.02602704632439215,1.5676736937889875,1.5095537215728378,1.5095537215728378,2.1950394217857405,1.4781854351730004,1.9173414447707267,0.4070470969949969,1.791868299171376,-0.6594586538885101,2.2577759945854154,1.4154488623733248,1.3213440031738124,1.159885970591099,1.3794639753899625,3.3518014470266793,5.332620090799972,-0.8836532592708981,-0.7849317994878605,-0.502617221889322,-0.8522849728710605,0.7567148479767354,1.9440931305870388,0.03064364690791713,1.5722902943725132,-0.5967220810888348,-0.3771440762899717,1.7291317263717008,1.0703977119751114,5.36398837719981,-1.040494691270086,-0.25167093069062135,-0.47586553607300947,-0.7581801136715478,1.6304102665886633,0.6939782751770601,-0.8209166864712232,1.8546048719710515,-0.7895484000713855,-0.8522849728710605,-0.7895484000713855,-0.6327069680721974,-0.2562875312741462,-0.6640752544720351,2.199656022369265,1.6036585807723505,5.081673799601272,-0.5386021088726846,0.5685051295777098,0.4697836697946722,1.5409220079726753,4.956200654001922,-0.8522849728710605,4.6738860764033845,4.171993494005982,-0.25167093069062135,1.4781854351730004,-0.3190241040738214,1.0030445385919116,-0.1261977850912709,-1.2287044096691118,-1.040494691270086,1.2586074303741372,-1.0672463770863987,-0.7221952266881853,-0.9463898320705731,-1.2600726960689494,1.823236585571214,1.1331342847747865,0.3756947973061306,1.0030445385919116,-0.5339855082891596,2.5087222857841156,-0.18893435789094612,-0.9150215456707358,-1.3228092688686242,-0.5653537946889973,-0.502617221889322,0.2188373785959712,-0.41312896327333415,1.9800780175704016,0.2815899381066178,-0.47586553607300947,-0.3190241040738214,-0.22491924487430856,4.98756894040176,1.007661139175436,1.4154488623733248,-0.5967220810888348,4.481059757420833,-0.7221952266881853,-0.9777581184704113,-1.040494691270086,2.1055511631697517,0.09338021970759232,-0.6013386816723597,-0.6327069680721974,-0.35039239047365894,-1.0091264048702484,-0.18893435789094612,-0.9150215456707358,1.6036585807723505,0.2815899381066178,-0.7221952266881853,-0.9777581184704113,-0.5699703952725222,-0.09482949869143334,-1.3855458416682997,4.324218325421645,-0.8209166864712232,0.6579933881936976,4.924832367602085,4.888847480618721,-1.2287044096691118,1.4422005481896378,1.101765998374949,0.40244648312244335,4.705254362803221,4.857479194218884,-0.7895484000713855,-0.9104049450872111,-0.16218267207463335,-1.1973361232692743,-0.9150215456707358,-1.0091264048702484,-1.040494691270086,-0.6908269402883477,-0.18433374401839245,-1.0358780906865614,1.8186199849876887,0.7207299609933728,-1.1345995504695987,0.5639045157051561,-0.6954435408718727,0.5011679429054811,-0.8476683722875358,-0.9463898320705731,-0.5967220810888348,-0.6013386816723597,-0.4712489354894845,-0.35039239047365894,-0.8790366586873734,-0.8790366586873734,-0.2876558176739838,2.163671135385902,5.077057199017747,0.2815899381066178,-1.3809292410847749,-0.9777581184704113,-0.9150215456707358,-1.1659678368694368,-0.7581801136715478,-0.09944609927495818,-0.6013386816723597,-1.1973361232692743,-0.8209166864712232,-0.2876558176739838,-0.8476683722875358,0.05739533272422979,-0.7895484000713855,0.12474850610742995,-0.5699703952725222,0.12474850610742995,4.799359222002734,1.7291317263717008,-0.1261977850912709,-0.15756607149110854,-0.44449724967317183,0.9762928527755985,-1.040494691270086,0.5279196287217937,-0.6594586538885101,-0.5339855082891596,-1.4169141280681377,-1.0091264048702484,-0.6327069680721974,0.5279196287217937,-0.2830392170904589,-0.6954435408718727,0.6847610607209819,0.2142367647234176,-0.5339855082891596,-1.0091264048702484,-0.7581801136715478,-0.41312896327333415,0.5906562015214688,0.37107819672260567,-1.1973361232692743,-0.6954435408718727,-0.8209166864712232,-0.9777581184704113,0.02602704632439215,0.40244648312244335,-0.5339855082891596,-0.6908269402883477,-0.41312896327333415,-0.09944609927495818,-0.7895484000713855,-0.5967220810888348,-1.1973361232692743,-1.2600726960689494,0.7161293471208193,-0.6594586538885101,-0.5386021088726846,0.8416024927201698,0.631241702377385,1.2272391439742991,0.4384153833948345,4.422939785204683,-0.5699703952725222,-1.1345995504695987,0.12474850610742995,0.2142367647234176,-0.6594586538885101,0.12474850610742995,-1.0718629776699238,-0.3190241040738214,-0.7535635130880228,0.18748507890710517,-0.5699703952725222,-0.2562875312741462,-0.40851236268980917,-0.5072338224728469,0.5325362293053185,0.4070470969949969,-0.8790366586873734,-0.502617221889322,-0.7268118272717101,1.2226225433907747,1.1958708575744619,-1.1345995504695987,5.11304208600111,-0.4712489354894845,0.062011933307754764,1.724515125788176,-0.8522849728710605,1.2539908297906122,-0.6327069680721974,2.0428145903700763,2.038197989786552,-0.7849317994878605,-0.03670952647528297,-0.5386021088726846,-0.8836532592708981,4.6738860764033845,-0.8209166864712232,-0.6908269402883477,0.03064364690791713,-0.8209166864712232,-0.15756607149110854,-0.22030264429078372,-0.7581801136715478,-0.41312896327333415,-0.9463898320705731,1.0390294255752737,-0.18893435789094612,-0.2562875312741462,0.6893776613045064,-0.193550958474471,-0.9150215456707358,-1.1659678368694368,-1.448282414467975,-0.8209166864712232,-0.8522849728710605,-0.5653537946889973,0.18748507890710517,-0.09944609927495818,5.045688912617909,-0.47586553607300947,0.2502056649958088,-0.9777581184704113,-1.1927195226857494,-0.4712489354894845,-1.1032312640697615,-0.16218267207463335,-0.2876558176739838,1.4781854351730004,-0.3144075034902964,-0.5386021088726846,1.3527122895736499,-0.7268118272717101,-1.5423872736674875,-0.9417732314870486,0.4070630837059682,-0.6640752544720351,-0.40851236268980917,0.15150019192374253,-0.1261977850912709,-1.4169141280681377,1.007661139175436,4.391571498804845,1.101765998374949,-0.9104049450872111,-0.7895484000713855,-0.1308143856747958,4.924832367602085,-0.12159717121871759,-0.6640752544720351,-1.0091264048702484,-0.2830392170904589,-0.5386021088726846,1.159885970591099,-0.6954435408718727,-0.8836532592708981,-0.25167093069062135,-0.8209166864712232,-0.2830392170904589,-0.9777581184704113,0.18748507890710517,-0.3771440762899717,0.05739533272422979,-0.3457757898901341,-1.1345995504695987,-0.9777581184704113,0.3756947973061306,0.09338021970759232,-0.2562875312741462,0.08876361912406727,-0.3457757898901341,-1.1032312640697615,-1.040494691270086,1.097149397791424,2.2937608815687778,4.830727508402572,0.5011679429054811,1.159885970591099,2.01144630397024,0.9089396793923984,1.7291317263717008,4.98756894040176,0.7880831343765728,2.2891442809852527,-1.2914409824687867,-0.47586553607300947,-0.4712489354894845,-0.8790366586873734,-0.8476683722875358,1.4154488623733248,-0.6954435408718727,-0.22030264429078372,-0.7581801136715478,-1.1973361232692743,0.90895566610337,0.46518305592211834,0.08876361912406727,-0.973141517886886,-0.09482949869143334,0.02602704632439215,-1.2914409824687867,0.08876361912406727,-1.1973361232692743,4.956200654001922,1.3840805759734873,-0.8163000858876982,4.637901189420021,0.8462031065927232,2.0428145903700763,-0.1308143856747958,2.5760754591673165,-0.6327069680721974,1.4468171487731627,-1.2287044096691118,-0.502617221889322,-0.22491924487430856,-0.7221952266881853,-1.1032312640697615,-0.22491924487430856,-0.8209166864712232,-0.4712489354894845,2.5722108876142644,0.850819707176248,-0.5699703952725222,-0.5967220810888348,0.15150019192374253,-0.0680778128751206,-1.2600726960689494,-0.5653537946889973,-1.1659678368694368,-0.3771440762899717,-1.1659678368694368,2.2937608815687778,-1.2287044096691118,-0.9777581184704113,-0.47586553607300947,-0.5699703952725222,2.2891442809852527,-0.9777581184704113,0.15150019192374253,-0.22030264429078372,-0.5386021088726846,-1.040494691270086,-0.3771440762899717,0.2815899381066178,-0.0007246394919204951,-0.44449724967317183,-0.5339855082891596,0.4697996565056434,0.7161293471208193,-0.6327069680721974,-1.0091264048702484,-0.25167093069062135,1.159901957302071,-0.1261977850912709,-0.5339855082891596,-0.0007246394919204951,-0.9417732314870486,-0.8209166864712232,-0.6908269402883477,-1.8560701376658635,-0.8836532592708981,1.5722902943725132,-0.2562875312741462,1.8859731583708892,-0.09482949869143334,-0.3190241040738214,-0.9777581184704113,-1.5691389594838,0.3443265109062931,-1.5691389594838,-0.44449724967317183,-1.0358780906865614,0.563888528994185,0.3443105241953216,1.4735688345894753,-0.3457757898901341,-1.1659678368694368,-0.5699703952725222,0.05739533272422979,1.3527122895736499,-0.8476683722875358,4.3602032124050085,4.297466639605332,1.760500012771538,-0.9777581184704113,-0.4398806490896468,-0.7895484000713855,-0.6327069680721974,1.3527122895736499,-0.22491924487430856,-0.4398806490896468,-0.7268118272717101,0.02602704632439215,-0.47586553607300947,-0.502617221889322,-0.3457757898901341,-0.6327069680721974,-0.6013386816723597,0.4697996565056434,-0.03670952647528297,-1.040494691270086,4.292850039021808,-0.5072338224728469,1.2272391439742991,-1.1032312640697615,0.9403079657922359,0.05739533272422979,-0.8836532592708981,-0.7221952266881853,-0.9777581184704113,-1.2287044096691118,-1.1032312640697615,-0.193550958474471,-0.5339855082891596,0.3397099103227681,1.7291317263717008,0.658009374904669,-0.193550958474471,4.171993494005982,-1.286824381885262,0.877571392992561,-1.1032312640697615,-0.005341240075445474,-0.1308143856747958,-0.3190241040738214,0.062011933307754764,0.8416024927201698,-0.4712489354894845,0.05739533272422979,-1.1345995504695987,-0.9150215456707358,-0.9777581184704113,-0.8790366586873734,-0.193550958474471,-0.9417732314870486,-0.2876558176739838,-1.2600726960689494,-1.9188067104655389,-0.22491924487430856,-1.0718629776699238,0.6626099887772225,1.0657811113915865,0.18748507890710517,-0.5653537946889973,-0.3457757898901341,-0.09482949869143334,0.15611679250726754,-1.6678604192668376,-0.22491924487430856,-0.2876558176739838,2.3878657407682904,-0.7221952266881853,1.1285176841912616,-0.21570203041823025,-0.8836532592708981,2.1682877359694275,2.199656022369265,-0.3190241040738214,-1.44366581388445,-0.4712489354894845,-0.4398806490896468,-0.1261977850912709,-0.7895484000713855,-0.22491924487430856,-0.3817606768734966,-1.2600726960689494,-1.8560701376658635,-0.2562875312741462,0.15150019192374253,-0.22491924487430856,-1.1973361232692743,-0.3817606768734966,-0.47586553607300947,0.7834825205040195,-0.0634612122915957,-0.6327069680721974,-0.9417732314870486,0.18748507890710517,1.599041980188826,0.7207299609933728,-0.9777581184704113,-0.4712489354894845,-1.6318755322834753,-0.9150215456707358,-0.7535635130880228,-0.3144075034902964,-0.21570203041823025,1.760500012771538,-0.9150215456707358,2.356497454368453,-0.2516869174015929,4.140625207606145,-0.41312896327333415,-1.1613512362859122,0.4070630837059682,0.12013190552390492,0.15150019192374253,-0.193550958474471,1.4422005481896378,0.850819707176248,-0.7581801136715478,2.1682877359694275,1.6036585807723505,-0.40851236268980917,-0.9463898320705731,-0.4712489354894845,-0.7268118272717101,4.324218325421645,-0.9777581184704113,-0.9150215456707358,1.8186199849876887,0.5279196287217937,-0.15756607149110854,-0.2830392170904589,1.0030605253028826,1.0030605253028826,0.37107819672260567,1.5095537215728378,0.12473251939645845,-0.6013386816723597,-0.35039239047365894,-0.502617221889322,0.6266410885048312,1.4154488623733248,0.783466533793048,-1.0091264048702484,2.13691944956959,-0.193550958474471,-1.0045098042867238,-0.7581801136715478,-0.9417732314870486,0.3443105241953216,0.6939782751770601,0.8729707791200074,-0.9417732314870486,-1.1973361232692743,-0.6954435408718727,0.3756947973061306,0.7521142341041818,-0.25167093069062135,0.31295822450645544,-1.1032312640697615,-0.5699703952725222,1.1912542569909368,-0.4712489354894845,1.007661139175436,0.9089396793923984,-0.8836532592708981,-0.2876558176739838,-0.0634612122915957,-0.7221952266881853,-0.8163000858876982,-0.4398806490896468,-0.3771440762899717,-0.5339855082891596,0.12013190552390492,-0.3771440762899717,-0.502617221889322,-0.03209292589175813,0.3756947973061306,-0.4712489354894845,-0.502617221889322,0.5952568153940223,1.2539908297906122,4.857479194218884,-0.9777581184704113,0.062011933307754764,4.517044644404196,4.454308071604521,1.4154488623733248,1.9173414447707267,0.6266410885048312,-1.1613512362859122,4.888847480618721,1.2586074303741372,-0.973141517886886,-0.6908269402883477,-0.6954435408718727,-0.3190241040738214,-0.7268118272717101,-0.2876558176739838,-0.502617221889322,0.12013190552390492,2.5760754591673165,-0.5699703952725222,-0.1261977850912709,-0.40851236268980917,1.3167274025902873,-0.15756607149110854,-0.5386021088726846,-0.7268118272717101,-0.40851236268980917,-0.6013386816723597,1.0703977119751114,-0.8522849728710605,-0.6594586538885101,-1.040494691270086,-1.0091264048702484,0.2815899381066178,-1.1032312640697615,0.15611679250726754,0.2502216517067803,-1.0718629776699238,-0.193550958474471,-0.8209166864712232,-0.18893435789094612,1.159885970591099,4.046520348406631,1.1912542569909368,-0.3457757898901341,0.15150019192374253,-0.25167093069062135,1.5095537215728378,1.6663951535720258,0.6939782751770601,-0.5339855082891596,-0.9463898320705731,-0.3771440762899717,-0.7581801136715478,-0.4712489354894845,-0.8476683722875358,-0.6640752544720351,-0.8209166864712232,-1.2287044096691118,1.7291317263717008,0.9403079657922359,-1.1345995504695987,0.8194514207764104,4.924832367602085,1.3840805759734873,-1.1973361232692743,-0.1308143856747958,1.9440931305870388,-0.25167093069062135,1.3527122895736499,-0.6594586538885101,-0.4712489354894845,0.9449245663757612,-0.40851236268980917,0.7207459477043442,-0.7581801136715478,0.2188533653069426,0.2502216517067803,0.2188533653069426,-0.41312896327333415,-0.8209166864712232,0.15611679250726754,0.2142367647234176,-0.7895484000713855,-0.4712489354894845,-1.0045098042867238,1.9800780175704016,-0.8836532592708981,1.9754614169868765,0.9716762521920732,-0.2830392170904589,0.783466533793048,-0.44449724967317183,-0.8790366586873734,-0.9104049450872111,-0.502617221889322,-0.15756607149110854,1.5409220079726753,1.0030445385919116,-0.8209166864712232,-0.193550958474471,-0.5386021088726846,0.15611679250726754,-1.0718629776699238,-0.03209292589175813,-0.3457757898901341,-0.9150215456707358,0.7474976335206571,0.5639045157051561,-0.6908269402883477,-1.7619652784663509,1.348095688990125,0.2861905519791712,4.543796330220507,-0.5339855082891596,-0.1261977850912709,-0.9104049450872111,-1.6678604192668376,-1.2287044096691118,-0.6594586538885101,0.12474850610742995,-1.1659678368694368,-1.0672463770863987,-0.5653537946889973,-0.15756607149110854,-0.973141517886886,-1.5423872736674875,-0.15756607149110854,1.4422005481896378,1.2586074303741372,-1.7933335648661888,-0.7221952266881853,1.6663951535720258,1.2899757167739745,1.0657811113915865,-1.2287044096691118,-1.3809292410847749,-1.3855458416682997,-0.8836532592708981,0.3443265109062931,-0.6908269402883477,-0.2562875312741462,-0.502617221889322,1.0390294255752737,-0.193550958474471,2.038197989786552,4.481059757420833,0.09338021970759232,1.4422005481896378,-1.0045098042867238,-0.7849317994878605,-0.9104049450872111,0.18286847832358022,-0.5699703952725222,4.454308071604521,1.724515125788176,0.3397099103227681,-0.47586553607300947,-0.9777581184704113,-0.7535635130880228,-0.40851236268980917,4.857479194218884,-0.6327069680721974,1.348095688990125,-0.3457757898901341,3.9164306022237563,-0.5967220810888348,-0.18433374401839245,0.4070630837059682,-1.1973361232692743,0.2188373785959712,-0.41312896327333415,-0.5339855082891596,-0.03670952647528297,-0.6954435408718727,1.2226225433907747,-1.6992287056666755,-0.7221952266881853,0.2815899381066178,2.0695662761863898,0.15611679250726754,-0.6327069680721974,-0.47586553607300947,1.760500012771538,-0.2562875312741462,-0.3771440762899717,-0.22030264429078372,0.7161293471208193,-0.8476683722875358,-0.15756607149110854,-0.5072338224728469,-0.9417732314870486,0.7253465615768976,1.8859731583708892,2.325129167968615,1.0344128249917488,4.830727508402572,1.2899757167739745,1.4468171487731627,1.3840805759734873,-0.3817606768734966,-1.5423872736674875,-1.7933335648661888,-1.040494691270086,1.599041980188826,0.5057685567780346,1.8499882713875269,1.9487097311705637,-0.9150215456707358,0.43381476952228093,0.2815899381066178,1.5722902943725132,-0.7581801136715478,1.8546048719710515,0.24560505112325529,-0.973141517886886,1.4154488623733248,1.4781854351730004,4.328834926005169,0.62662510179386,-0.8522849728710605,-0.22030264429078372,0.2142367647234176,-0.6640752544720351,0.03064364690791713,-1.0091264048702484,-1.6678604192668376,4.767990935602896,1.7558834121880136,3.665484311025056,1.4468171487731627,1.4468171487731627,-0.09944609927495818,1.5409220079726753,0.15610080579629593,-0.40851236268980917,-1.5423872736674875,-0.4712489354894845,0.2815899381066178,-0.3144075034902964,0.5906562015214688,0.4070630837059682,0.02602704632439215,-0.44449724967317183,-1.1973361232692743,-0.44449724967317183,-0.3771440762899717,-0.973141517886886,-1.2600726960689494,1.28535911619045,-0.7268118272717101,-0.18893435789094612,-0.9104049450872111,-1.0718629776699238,-1.1345995504695987,4.7006377622196975,-0.5967220810888348,4.8934640812022465,-0.7221952266881853,1.8859731583708892,0.2815899381066178,5.081673799601272,-1.0358780906865614,-0.9417732314870486,0.03064364690791713,-1.0672463770863987,-0.18893435789094612,-0.16218267207463335,1.5095537215728378,1.9173414447707267,1.0390294255752737,1.0030445385919116,-0.09482949869143334,0.5325202425943473,2.356497454368453,3.7596051569355398,-0.0634612122915957,-0.44449724967317183,4.230113466222133,1.3213440031738124,0.4070470969949969,1.1331342847747865,4.794742621419209,1.0703977119751114,1.2272391439742991,1.4422005481896378,1.1331342847747865,4.422939785204683,3.6073643388089054,-0.4398806490896468,-0.7221952266881853,-0.2830392170904589,0.18748507890710517,0.08876361912406727,0.37107819672260567,-0.44449724967317183,-0.1261977850912709,0.12474850610742995,0.12474850610742995,-0.8209166864712232,-0.7581801136715478,-1.7933335648661888,-1.1032312640697615,-0.9150215456707358,0.03064364690791713,-1.0045098042867238,-1.0091264048702484,-0.4398806490896468,0.062011933307754764,1.348095688990125,3.858310630007606,-0.9463898320705731,1.4108322617898004,0.312942237795484,1.5409220079726753,-0.8790366586873734,0.6579933881936976,-0.1261977850912709,0.8194514207764104,0.9762928527755985,-0.8209166864712232,0.850819707176248,4.328834926005169,-1.1973361232692743,1.2899757167739745,-0.6594586538885101,-0.1261977850912709,5.144410372400948,2.038197989786552,-1.1345995504695987,-0.9417732314870486,-0.7581801136715478,-0.3457757898901341,-0.5699703952725222,-1.3855458416682997,-0.7268118272717101,-0.6280903674886725,0.2502216517067803,0.05739533272422979,-0.6640752544720351,-0.9104049450872111,-0.09482949869143334,0.5685051295777098,0.7567148479767354,4.98756894040176,-0.5386021088726846,0.3756947973061306,-0.2876558176739838,-0.8209166864712232,-0.502617221889322,-0.09482949869143334,-0.3817606768734966,-0.4712489354894845,-0.22030264429078372,-0.1308143856747958,-0.3771440762899717,-0.8790366586873734,-0.40851236268980917,0.8462031065927232,1.791868299171376,0.4070470969949969,0.6266410885048312,-1.3228092688686242,-0.6640752544720351,-0.3771440762899717,-0.5339855082891596,-1.0091264048702484,0.877571392992561,-0.3817606768734966,-1.0091264048702484,-0.5699703952725222,-1.0718629776699238,-0.3457757898901341,1.6036585807723505,-0.3457757898901341,0.9449245663757612,1.3213440031738124,-0.6908269402883477,-0.0680778128751206,-0.22030264429078372,-0.47586553607300947,-1.0718629776699238,0.4070470969949969,0.9403079657922359,5.269883518000298,-1.3495609546849374,-0.6327069680721974,0.2769733375230929,-0.7535635130880228,-0.4712489354894845,-0.0634612122915957,0.6893776613045064,0.24560505112325529,-0.2562875312741462,-0.6594586538885101,1.3527122895736499,0.5685051295777098,0.6579933881936976,1.5049371209893125,-0.22030264429078372,-0.4398806490896468,1.6617785529885007,-0.9777581184704113,-0.22491924487430856,1.1958708575744619,-0.9777581184704113,-0.5339855082891596,1.9173414447707267,1.5676736937889875,0.15611679250726754,1.8546048719710515,1.2899757167739745,-0.3771440762899717,-0.5653537946889973,5.332620090799972,-0.8476683722875358,-0.5967220810888348,-0.6013386816723597,-0.44449724967317183,-0.6908269402883477,-0.47586553607300947,-1.040494691270086,-0.7895484000713855,-0.3144075034902964,1.5095537215728378,-0.03209292589175813,0.12474850610742995,-0.6640752544720351,-0.5072338224728469,-0.15756607149110854,-1.0672463770863987,-0.7849317994878605,-0.7895484000713855,-0.1261977850912709,1.791868299171376,1.4154488623733248,1.6036585807723505,1.348095688990125,-0.5699703952725222,1.823236585571214,1.8499882713875269,0.5325362293053185,1.6617785529885007,-0.15758205820207993,-1.0358780906865614,-0.9150215456707358,-0.973141517886886,-0.6280903674886725,0.03064364690791713,-0.4712489354894845,-1.2600726960689494,-0.5699703952725222,-0.193550958474471,1.8186199849876887,-0.502617221889322,-0.9150215456707358,1.4781854351730004,4.8934640812022465,-0.3817606768734966,-1.6318755322834753,1.6304102665886633,0.9089396793923984,0.49655134232195614,1.1285176841912616,0.4697836697946722,4.830727508402572,1.4422005481896378,1.128533670902233,-0.7268118272717101,1.693146839388338,-0.15756607149110854,0.4697996565056434,-1.0672463770863987,-1.1299829498860743,-0.6327069680721974,-0.8163000858876982,-1.0091264048702484,-0.3457757898901341,-0.6954435408718727,-0.6594586538885101,-0.502617221889322,-0.973141517886886,-1.0718629776699238,0.7521142341041818,1.5095537215728378,-0.9777581184704113,-0.03670952647528297,4.6065329030201845,1.4108322617898004,-0.7221952266881853,0.18748507890710517,0.37107819672260567,-0.3771440762899717,-0.6594586538885101,-0.7581801136715478,-0.6954435408718727,-0.4398806490896468,-1.2600726960689494,1.348095688990125,-0.3190241040738214,-0.7268118272717101,-0.8836532592708981,1.28535911619045,0.15610080579629593,1.791868299171376,4.230113466222133,-1.0718629776699238,-0.6327069680721974,-0.6640752544720351,0.46518305592211834,4.543796330220507,0.7880831343765728,0.6893776613045064,0.18748507890710517,-0.193550958474471,-0.9417732314870486,-0.5967220810888348,0.9089396793923984,-0.8209166864712232,-0.4398806490896468,-0.16218267207463335,-0.25167093069062135,0.2815899381066178,-0.4398806490896468,-0.6013386816723597,-0.6327069680721974,-0.41312896327333415,-0.5072338224728469,-0.1261977850912709,0.4697996565056434,1.2899757167739745,-0.09482949869143334,4.799359222002734,3.8850623158239186,2.2264077081855778,1.5722902943725132,1.28535911619045,2.450602313567966,0.18748507890710517,0.15611679250726754,4.422939785204683,2.2937608815687778,4.5797812172038705,0.5279196287217937,1.6977634399718635,2.325129167968615,1.6617785529885007,4.324218325421645,-0.25167093069062135,-0.005341240075445474,-0.15756607149110854,-0.5699703952725222,4.51242804382067,-1.2914409824687867,1.097149397791424,0.3756788105951593,-0.973141517886886,-1.1345995504695987,-0.3817606768734966,0.18748507890710517,4.705254362803221,-1.0091264048702484,1.5095537215728378,2.1682877359694275,-0.6280903674886725,1.2539908297906122,-1.040494691270086,-0.9150215456707358,0.2142367647234176,-0.7895484000713855,-0.9463898320705731,-0.4398806490896468,-0.6640752544720351,4.7006377622196975,-0.8209166864712232,0.15611679250726754,-1.4169141280681377,-1.7933335648661888,1.6977634399718635,-0.7895484000713855,1.8186199849876887,-0.0007246394919204951,1.007661139175436,4.292850039021808,1.2899757167739745,0.877571392992561,2.038197989786552,0.2815739513956463,-0.41312896327333415,1.1958708575744619,1.2586074303741372,-1.0718629776699238,-0.2830392170904589,-0.7221952266881853,-0.5967220810888348,-0.44449724967317183,0.062011933307754764,-0.3771440762899717,-0.1308143856747958,-1.1032312640697615,0.6266410885048312,-1.0358780906865614,-1.040494691270086,-1.1032312640697615,-0.7221952266881853,-0.7849317994878605,0.7520982473932102,-0.2562875312741462,-0.8836532592708981,-1.2914409824687867,-0.9463898320705731,1.1285176841912616,-0.5699703952725222,0.563888528994185,-0.5072338224728469,-1.0718629776699238,-0.9417732314870486,-1.0091264048702484,-1.600507245883638,-0.4398806490896468,-0.8163000858876982,1.4781854351730004,1.6350268671721884,0.2188533653069426,-0.5339855082891596,-0.6594586538885101,-0.40851236268980917,1.8859731583708892,4.4183231846211575,-0.9150215456707358,0.5952568153940223,5.144410372400948,4.13600860702262,1.9800780175704016,1.3213440031738124,1.760500012771538,1.9173414447707267,5.175778658800785,0.7567148479767354,1.9800780175704016,2.3205125673850904,2.6074437455671537,4.98756894040176,0.6939782751770601,4.888847480618721,0.12474850610742995,-0.47586553607300947,-0.15756607149110854,-0.4712489354894845,0.2502216517067803,0.3083416239229306,-0.1308143856747958,-1.1299829498860743,0.09338021970759232,-0.40851236268980917,-0.7849317994878605,-0.1261977850912709,-0.7581801136715478,-0.5386021088726846,-0.7895484000713855,-0.15756607149110854,0.46518305592211834,-0.502617221889322,0.3756947973061306,-0.502617221889322,0.02602704632439215,0.03064364690791713,-0.5967220810888348,0.2769733375230929,-1.1345995504695987,-0.7535635130880228,-0.7221952266881853,0.31295822450645544,-0.3457757898901341,4.2660983532054955,-1.1032312640697615,1.3840805759734873,1.2539908297906122,-0.7849317994878605,0.6893616745935353,-0.25167093069062135,0.9716762521920732,-0.40851236268980917,0.7207299609933728,3.696852597424894,1.2226225433907747,-1.1032312640697615,1.7291317263717008,-0.15756607149110854,0.3397099103227681,0.9762928527755985,0.09338021970759232,-1.2600726960689494,-0.6327069680721974,-1.1032312640697615,-0.6640752544720351,0.24560505112325529,0.02602704632439215,-0.9104049450872111,-0.4398806490896468,0.12013190552390492,-0.7895484000713855,-0.7268118272717101,-0.2876558176739838,-0.6954435408718727,-0.8209166864712232,-0.973141517886886,-0.0007246394919204951,-0.9104049450872111,-0.7581801136715478,-0.18893435789094612,1.061180497519033,-0.41312896327333415,0.3443265109062931,-0.6640752544720351,-0.6013386816723597,0.24560505112325529,-0.8790366586873734,-1.5737555600673252,0.4384313701058058,-0.5339855082891596,-0.22030264429078372,-0.41312896327333415,-0.9463898320705731,1.8546048719710515,-0.5386021088726846,1.2226225433907747,0.18748507890710517,-0.09482949869143334,1.1645025711746244,-0.5386021088726846,4.920215767018559,-0.1261977850912709,0.4384313701058058,-0.9777581184704113,0.40244648312244335,0.12474850610742995,-0.3144075034902964,-0.3457757898901341,-0.5653537946889973,-1.2287044096691118,-0.5386021088726846,-0.5072338224728469,-0.3457757898901341,-1.2600726960689494,-0.6280903674886725,0.3756788105951593,-1.1032312640697615,0.4384153833948345,4.830727508402572,4.767990935602896,1.599041980188826,-1.3855458416682997,-0.7581801136715478,-0.0680778128751206,1.1331342847747865,1.007661139175436,4.732006048619534,-0.25167093069062135,-0.16218267207463335,-0.8836532592708981,-0.4712489354894845,-0.41312896327333415,-0.41312896327333415,-0.193550958474471,-1.2914409824687867,0.5592879151216315,-0.03209292589175813,-0.7535635130880228,-0.3771440762899717,-0.35039239047365894,-0.6327069680721974,-1.3809292410847749,-0.3457757898901341,-0.3817606768734966,0.31295822450645544,-0.1308143856747958,-0.9104049450872111,5.081673799601272,-0.44449724967317183,-0.44449724967317183,0.783466533793048,1.0030445385919116,1.1331342847747865,-1.3228092688686242,-0.973141517886886,-1.0358780906865614,-0.8476683722875358,1.1645025711746244,-0.5653537946889973,-0.16218267207463335,-0.4712489354894845,0.18286847832358022,-0.3771440762899717,1.5722902943725132,-0.7268118272717101,-0.502617221889322,-0.7535635130880228,5.23851523160046,4.799359222002734,0.5998734159775471,-1.040494691270086,1.8859731583708892,1.6663951535720258,-0.03209292589175813,4.046520348406631,4.517044644404196,4.230113466222133,2.13691944956959,0.03062766019694557,-0.6954435408718727,1.6350268671721884,1.4108322617898004,1.7558834121880136,1.6977634399718635,0.9716762521920732,1.2226225433907747,2.163671135385902,4.956200654001922,4.920215767018559,0.9716762521920732,3.696852597424894,1.8499882713875269,4.485676358004358,-0.5699703952725222,-1.1032312640697615,-0.5653537946889973,0.9716762521920732,0.2188533653069426,-1.1032312640697615,-0.5072338224728469,-0.7895484000713855,-0.5339855082891596,0.02602704632439215,-0.9104049450872111,-0.2830392170904589,0.4697996565056434,-0.5072338224728469,-0.09482949869143334,-0.9463898320705731,-1.0091264048702484,-0.2830392170904589,-0.8163000858876982,-0.5386021088726846,-0.47586553607300947,-0.15756607149110854,-0.6013386816723597,-0.2562875312741462,0.9762928527755985,-0.7221952266881853,5.144410372400948,4.736622649203059,4.13600860702262,-1.040494691270086,0.9716922389030453,0.9135562799759236,1.8859731583708892,0.9403079657922359,1.1285176841912616,1.2272391439742991,1.3794639753899625,1.348095688990125,1.0030445385919116,-0.9417732314870486,4.543796330220507,-0.7268118272717101,-0.973141517886886,4.454308071604521,1.7291317263717008,-0.8522849728710605,-0.7849317994878605,-0.16218267207463335,-0.7581801136715478,-0.193550958474471,-0.6908269402883477,0.31295822450645544,-0.5653537946889973,-0.7268118272717101,-0.15756607149110854,-0.6013386816723597,-0.7895484000713855,-0.7895484000713855,0.15611679250726754,4.862095794802409,-0.1308143856747958,0.5011519561945095,-1.0091264048702484,4.888847480618721,1.2586074303741372,1.007661139175436,-0.40851236268980917,1.159885970591099,4.642517790003547,1.6617785529885007,1.599041980188826,1.8859731583708892,1.4154488623733248,4.449691471020995,2.199656022369265,4.705254362803221,-0.7895484000713855,0.05739533272422979,-1.5691389594838,0.9089396793923984,4.575164616620347,-0.6327069680721974,-0.1261977850912709,-0.6594586538885101,0.02602704632439215,0.5906562015214688,-0.3457757898901341,-0.40851236268980917,-0.25167093069062135,-1.0045098042867238,-0.4712489354894845,-0.8476683722875358,-0.1261977850912709,-0.5386021088726846,-0.3817606768734966,-0.6013386816723597,-0.41312896327333415,-0.8163000858876982,-0.1308143856747958,0.2502216517067803,-0.5386021088726846,-1.040494691270086,-1.0091264048702484,1.1912542569909368,1.1645025711746244,-0.9150215456707358,2.3205125673850904,1.3840805759734873,0.9449245663757612,0.8462190933036948,0.2188533653069426,1.6617785529885007,1.0703977119751114,-0.7221952266881853,4.485676358004358,0.4384153833948345,1.3213440031738124,-0.5653537946889973,-0.3817606768734966,1.6304102665886633,4.767990935602896,1.4108322617898004,-0.6954435408718727,0.09338021970759232,-0.6013386816723597,0.18286847832358022,0.5325362293053185,-0.5653537946889973,-0.09482949869143334,-0.5339855082891596,-1.2914409824687867,0.7161293471208193,-0.5699703952725222,-0.6327069680721974,-0.03209292589175813,-0.09944609927495818,-0.6280903674886725,0.12013190552390492,-0.6280903674886725,-1.0986146634862366,-0.2876558176739838,-0.5967220810888348,0.2815899381066178,-0.5967220810888348,-0.6327069680721974,0.9089396793923984,1.6977634399718635,-0.3771440762899717,-0.6327069680721974,-1.3228092688686242,-1.0718629776699238,1.1331342847747865,-0.5339855082891596,-0.7221952266881853,1.9800780175704016,-0.5386021088726846,4.20336178040582,0.783466533793048,-0.3457757898901341,1.1645025711746244,0.03064364690791713,-0.6640752544720351,-0.8209166864712232,1.8859731583708892,-0.3817606768734966,1.4468171487731627,4.4183231846211575,4.763374335019373,4.13600860702262,-1.0091264048702484,5.11304208600111,1.0344288117027205,3.508642879025867,1.5409220079726753,1.6617785529885007,1.5363054073891504,2.13691944956959,-0.3190241040738214,1.5722902943725132,-0.8522849728710605,-0.5653537946889973,-0.3817606768734966,-1.040494691270086,-0.8476683722875358,-0.8209166864712232,0.18286847832358022,-0.4712489354894845,-0.9104049450872111,0.2502216517067803,-1.1973361232692743,0.2142367647234176,-1.4169141280681377,-0.3190241040738214,-0.09944609927495818,0.2142367647234176,-0.41312896327333415,-0.8163000858876982,-0.3190241040738214,-1.5110189872676503,1.2899757167739745,1.4735688345894753,1.5409220079726753,0.9403079657922359,0.9403079657922359,-0.5072338224728469,-0.25167093069062135,0.7567148479767354,-0.15756607149110854,-0.6013386816723597,-1.8874384240657007,-1.1032312640697615,-0.5386021088726846,-0.8163000858876982,-0.7268118272717101,0.38029541117868404,-1.0672463770863987,-1.354177555268462,-0.09482949869143334,-0.3771440762899717,-0.3817606768734966,-1.5110189872676503,-0.8522849728710605,-0.9463898320705731,1.4781854351730004,-0.5339855082891596,-0.44449724967317183,4.857479194218884,-0.3457757898901341,2.2623925951689396,-0.15756607149110854,-0.3771440762899717,0.18746909219613356,-0.6013386816723597,1.4108322617898004,1.760500012771538,-0.005341240075445474,1.4468171487731627,-0.2830392170904589,-0.7849317994878605,-0.8836532592708981,0.062011933307754764,-0.3190241040738214,-0.6013386816723597,-0.15756607149110854,-1.8560701376658635,-0.5967220810888348,-0.7268118272717101,0.5325362293053185,-0.973141517886886,0.12474850610742995,1.4735688345894753,0.24560505112325529,-0.2830392170904589,-0.6954435408718727,-0.40851236268980917,-0.16218267207463335,-0.8522849728710605,-1.040494691270086,-1.8560701376658635,-0.2876558176739838,1.5676736937889875,2.199656022369265,-1.2600726960689494,0.46518305592211834,4.2660983532054955,4.171993494005982,1.1912542569909368,1.7291317263717008,0.4070470969949969,-0.9463898320705731,0.062011933307754764,0.062011933307754764,1.791868299171376,-0.8163000858876982,-0.5339855082891596,-0.25167093069062135,-0.4398806490896468,1.2226225433907747,-0.44449724967317183,-1.0091264048702484,-0.5967220810888348,4.98756894040176,-0.7581801136715478,-1.040494691270086,-1.9188067104655389,-0.18893435789094612,-0.5967220810888348,-0.1261977850912709,-0.6954435408718727,-1.0718629776699238,-0.6954435408718727,0.658009374904669,-0.8522849728710605,4.98756894040176,1.28535911619045,0.9135562799759236,4.799359222002734,-0.8476683722875358,1.9173414447707267,1.693146839388338,1.3527122895736499,0.5279196287217937,1.7291317263717008,2.1950394217857405,4.642517790003547,-1.44366581388445,-0.2562875312741462,-0.8209166864712232,-0.25167093069062135,0.09338021970759232,-1.1345995504695987,-0.6954435408718727,-1.0718629776699238,-0.6280903674886725,-0.1261977850912709,-1.354177555268462,-1.040494691270086,-1.0091264048702484,-0.3771440762899717,-0.18893435789094612,0.02602704632439215,-1.0718629776699238,0.12474850610742995,-0.0680778128751206,-1.3228092688686242,-0.2830392170904589,-0.4398806490896468,-0.7581801136715478,-0.5653537946889973,-1.1345995504695987,-0.25167093069062135,-0.09482949869143334,-1.2914409824687867,-1.040494691270086,-0.47586553607300947,-0.6327069680721974,-0.2830392170904589,-0.8209166864712232,-0.9150215456707358,-0.8836532592708981,-0.9777581184704113,-0.8163000858876982,-0.8522849728710605,-0.973141517886886,0.6266410885048312,-0.6013386816723597,3.670100911608581,-0.5699703952725222,-0.5386021088726846,-1.1032312640697615,0.3443265109062931,-1.0718629776699238,-1.2287044096691118,-1.6318755322834753,-0.6640752544720351,0.18286847832358022,-0.6013386816723597,-0.22030264429078372,-0.5653537946889973,-0.7849317994878605,-0.5653537946889973,-0.0007246394919204951,-0.6327069680721974,-0.9150215456707358,-0.6327069680721974,-1.5377706730839629,-0.5072338224728469,1.101765998374949,-0.7895484000713855,-1.0045098042867238,-0.1308143856747958,-0.5386021088726846,-0.7895484000713855,-0.7895484000713855,1.5049371209893125,0.15611679250726754,-0.6013386816723597,0.062011933307754764,-1.2287044096691118,-0.8209166864712232,-0.5072338224728469,-1.0358780906865614,-0.8476683722875358,-0.9463898320705731,-1.0986146634862366,0.15150019192374253,-1.1032312640697615,-0.3457757898901341,-0.0680778128751206,-0.3457757898901341,1.3527122895736499,0.5952568153940223,4.6738860764033845,0.08876361912406727,-0.6013386816723597,-0.8163000858876982,0.810234206320332,-1.3181926682850995,-0.9150215456707358,-0.9777581184704113,1.4422005481896378,-0.7895484000713855,-0.7895484000713855,-0.9777581184704113,0.5952568153940223,-0.4712489354894845,-0.3144075034902964,0.3756788105951593,-0.22030264429078372,0.2188533653069426,-0.0680778128751206,-0.16218267207463335,-0.44449724967317183,-0.8522849728710605,-0.35039239047365894,1.4735688345894753,0.062011933307754764,0.6579933881936976,0.18286847832358022,-1.0091264048702484,1.101765998374949,-0.18893435789094612,1.4735688345894753,1.159885970591099,-0.3817606768734966,4.20336178040582,1.791868299171376,4.0778886348064685,3.638732625208742,-0.15756607149110854,1.6977634399718635,4.7006377622196975,-0.5072338224728469,2.1682877359694275,-1.0718629776699238,0.15611679250726754,-0.4712489354894845,0.6579933881936976,-0.3771440762899717,0.18748507890710517,-0.3817606768734966,-0.7849317994878605,-0.6280903674886725,-0.6640752544720351,1.0344128249917488,1.760500012771538,0.4697996565056434,0.4070630837059682,1.3213440031738124,1.8813565577873643,4.046520348406631,4.6065329030201845,-0.7268118272717101,2.410768841742523,0.631241702377385,-1.4169141280681377,1.1331342847747865,4.98756894040176,1.1331342847747865,-0.7581801136715478,0.40244648312244335,4.6738860764033845,1.3840805759734873,1.3213440031738124,-1.1032312640697615,4.920215767018559,1.4735688345894753,2.0428145903700763,4.0778886348064685,1.9440931305870388,-0.5339855082891596,-1.0718629776699238,-0.6280903674886725,0.062011933307754764,0.08876361912406727,-0.0634612122915957,-0.2876558176739838,-1.3228092688686242,-0.22030264429078372,-0.8836532592708981,-1.2914409824687867,-0.03209292589175813,-0.25167093069062135,-0.44449724967317183,-0.8209166864712232,-1.8874384240657007,0.90895566610337,-1.1032312640697615,-0.6327069680721974,-0.40851236268980917,-0.16218267207463335,-0.0007246394919204951,0.03064364690791713,-0.16218267207463335,0.43381476952228093,0.31295822450645544,-0.1261977850912709,-0.15756607149110854,-1.5110189872676503,-0.44449724967317183,1.8859731583708892,-0.8209166864712232,4.198745179822295,1.097149397791424,-1.1345995504695987,-0.6954435408718727,1.007661139175436,0.9135562799759236,0.5057685567780346,2.3878657407682904,4.0778886348064685,0.9089396793923984,-1.040494691270086,4.799359222002734,0.9449245663757612,0.9089396793923984,0.2502056649958088,-0.3144075034902964,1.0030445385919116,0.7253465615768976,-0.6280903674886725,2.0428145903700763,1.4735688345894753,1.4735688345894753,2.1055511631697517,1.8186199849876887,-0.40851236268980917,-0.9150215456707358,-0.6640752544720351,-0.25167093069062135,-0.8836532592708981,-1.0672463770863987,-0.7581801136715478,-0.6908269402883477,-0.3817606768734966,-0.8209166864712232,-0.2562875312741462,-1.0718629776699238,-0.3457757898901341,-0.47586553607300947,0.5325362293053185,-0.8476683722875358,-1.2554560954854246,0.9403079657922359,-0.35039239047365894,0.062011933307754764,1.4108322617898004,-0.3144075034902964,4.642517790003547,1.4422005481896378,2.0428145903700763,0.2188373785959712,1.6350268671721884,4.7006377622196975,1.9487097311705637,1.693146839388338,5.018937226801597,-0.9150215456707358,4.642517790003547,-0.5339855082891596,-0.9150215456707358,-0.41312896327333415,-1.1973361232692743,0.9716762521920732,-0.9463898320705731,-0.6594586538885101,-1.5064023866841254,-1.0358780906865614,3.8850623158239186,0.5952568153940223,0.41166369757852167,1.0390294255752737,-0.9777581184704113,-0.4398806490896468,0.90895566610337,-0.7268118272717101,-0.7268118272717101,-0.18893435789094612,-0.4712489354894845,-1.3228092688686242,-0.8790366586873734,-0.6594586538885101,1.3840805759734873,-0.6640752544720351,-0.40851236268980917,-0.25167093069062135,-1.0358780906865614,-0.8522849728710605,-1.1973361232692743,-0.8163000858876982,-0.25167093069062135,5.045688912617909,0.9449245663757612,-0.8163000858876982,0.850819707176248,0.9449245663757612,1.2272391439742991,-0.5072338224728469,-0.6594586538885101,-1.0358780906865614,-0.16218267207463335,0.5952728021049937,-0.3817606768734966,-0.7849317994878605,-0.6908269402883477,1.6977634399718635,1.7558834121880136,5.081673799601272,-0.502617221889322,2.2937608815687778,1.348095688990125,1.5722902943725132,1.5676736937889875,1.7558834121880136,-1.1973361232692743,4.0778886348064685,0.850819707176248,0.7207299609933728,2.356497454368453,0.7520982473932102,1.1331342847747865,0.3756788105951593,0.9449245663757612,2.2937608815687778,1.2272391439742991,4.736622649203059,1.2226225433907747,1.348095688990125,0.12013190552390492,0.5685051295777098,-0.09944609927495818,1.1958708575744619,-0.7849317994878605,1.1285176841912616,4.104640320622783,0.03064364690791713,-1.2600726960689494,-0.7581801136715478,-1.0045098042867238,-0.7535635130880228,-0.25167093069062135,-0.9777581184704113,-1.1927195226857494,-0.8522849728710605,-0.193550958474471,0.15611679250726754,-0.09944609927495818,0.09338021970759232,-0.6908269402883477,-0.7221952266881853,-0.9104049450872111,-1.0045098042867238,-0.8522849728710605,-0.5072338224728469,-0.9104049450872111,-1.3228092688686242,-1.6632438186833132,-0.8836532592708981,-1.44366581388445,-0.9417732314870486,0.062011933307754764,-0.4398806490896468,-0.3457757898901341,-0.3817606768734966,0.12474850610742995,-1.0091264048702484,-0.5072338224728469,0.08876361912406727,-0.6013386816723597,-0.03670952647528297,-0.5339855082891596,-0.40851236268980917,-0.6954435408718727,-0.09944609927495818,-1.3228092688686242,-1.1032312640697615,-0.4712489354894845,-0.5699703952725222,-0.7849317994878605,-0.7268118272717101,-0.7581801136715478,-0.6280903674886725,-0.7535635130880228,-0.6640752544720351,-0.1308143856747958,-1.2600726960689494,-0.3190241040738214,-1.1345995504695987,0.3443265109062931,-1.0091264048702484,-0.5339855082891596,-0.03670952647528297,-0.7895484000713855,-0.8790366586873734,-0.5072338224728469,0.08876361912406727,-0.8836532592708981,-0.7268118272717101,-0.2830392170904589,-0.0007246394919204951,-1.44366581388445,-0.8836532592708981,-0.7535635130880228,-0.18893435789094612,-0.22030264429078372,-0.3771440762899717,-0.6013386816723597,-0.6954435408718727,-0.502617221889322,-1.040494691270086,-1.9188067104655389,-0.7581801136715478,-1.1032312640697615,-0.1261977850912709,0.5279196287217937,-0.6594586538885101,-1.0718629776699238,-0.193550958474471,-1.5110189872676503,0.2769733375230929,-0.9150215456707358,-0.6640752544720351,-0.9150215456707358,-0.9417732314870486,-0.5699703952725222,-0.47586553607300947,-0.40851236268980917,-0.4712489354894845,-0.16218267207463335,-0.44449724967317183,-0.6954435408718727,-0.7895484000713855,-0.3817606768734966,-0.44449724967317183,-0.7581801136715478,-0.3190241040738214,0.08876361912406727,-1.1032312640697615,-0.4712489354894845,-0.9150215456707358,-0.8209166864712232,-0.25167093069062135,-0.16218267207463335,-0.41312896327333415,-0.8209166864712232,-0.2562875312741462,-0.2562875312741462,-1.1032312640697615,-0.3144075034902964,-0.5699703952725222,-0.7895484000713855,-1.040494691270086,0.18286847832358022,-1.0091264048702484,-1.9501749968653768,-0.7268118272717101,-0.7895484000713855,-0.8522849728710605,-0.7268118272717101,-0.8522849728710605,-0.8163000858876982,-0.6954435408718727,-0.0680778128751206,0.12013190552390492,-0.9463898320705731,-0.47586553607300947,-0.7581801136715478,-0.5653537946889973,-0.7895484000713855,-0.5339855082891596,-0.5072338224728469,-0.2876558176739838,-1.040494691270086,-0.7849317994878605,-0.5967220810888348,0.8462190933036948,-0.03670952647528297,-0.3457757898901341,-1.6318755322834753,-0.15756607149110854,-0.9417732314870486,-0.0007246394919204951,-1.1345995504695987,-1.2287044096691118,2.7558040054297646,-1.0718629776699238,-0.9463898320705731,0.5279196287217937,-0.35039239047365894,-0.7268118272717101,-0.3817606768734966,-0.5339855082891596,-0.5653537946889973,-0.4712489354894845,-1.0672463770863987,-0.7221952266881853,-0.5072338224728469,-0.7895484000713855,-1.1973361232692743,0.05739533272422979,0.062011933307754764,-1.2287044096691118,-0.6954435408718727,-0.3817606768734966,-0.18893435789094612,-0.9463898320705731,-1.040494691270086,-0.7895484000713855,-0.9777581184704113,0.05739533272422979,-0.2876558176739838,-1.824701851266026,0.4070630837059682,-0.9777581184704113,-0.03209292589175813,-0.7581801136715478,0.37107819672260567,-1.824701851266026,-1.9188067104655389,-0.9777581184704113,-0.5386021088726846,-0.6013386816723597,-1.0358780906865614,-0.47586553607300947,-0.6327069680721974,-0.6954435408718727,-0.8790366586873734,0.6266410885048312,-0.5072338224728469,-1.0045098042867238,-0.7221952266881853,-1.3228092688686242,-0.44449724967317183,-0.502617221889322,0.03064364690791713,-1.0718629776699238,-1.1973361232692743,0.18286847832358022,0.2815899381066178,-0.03209292589175813,0.08876361912406727,-0.1261977850912709,-0.7268118272717101,-0.9463898320705731,-0.8476683722875358,-0.5339855082891596,-0.6013386816723597,-1.1032312640697615,0.5952728021049937,-0.8209166864712232,-0.3190241040738214,-0.7581801136715478,0.2815899381066178,-0.7581801136715478,-0.7849317994878605,-0.44449724967317183,-1.1345995504695987,-0.40851236268980917,-0.5386021088726846,-0.44449724967317183,0.12474850610742995,-0.4712489354894845,-0.9417732314870486,-0.2562875312741462,-0.5653537946889973,-0.40851236268980917,-0.22030264429078372,-0.6594586538885101,-0.03209292589175813,-0.6013386816723597,-0.6594586538885101,-1.3228092688686242,-0.0634612122915957,-0.9777581184704113,-1.3228092688686242,0.5592879151216315,-0.7849317994878605,-0.7895484000713855,-0.8163000858876982,-0.35039239047365894,-1.448282414467975,1.8546048719710515,-1.0358780906865614,-0.8522849728710605,-1.2600726960689494,-0.9150215456707358,-0.1261977850912709,-0.3457757898901341,-0.7895484000713855,-0.3190241040738214,-0.16218267207463335,-1.1032312640697615,-0.6013386816723597,-0.6640752544720351,-0.8209166864712232,-0.9104049450872111,-0.22491924487430856,-0.03670952647528297,-1.2287044096691118,-0.6640752544720351,-0.5967220810888348,-0.6954435408718727,-0.8163000858876982,-0.41312896327333415,-0.7268118272717101,-0.3144075034902964,4.297466639605332,-0.7535635130880228,-0.7535635130880228,-1.1973361232692743,-1.1659678368694368,-1.0718629776699238,-0.005341240075445474,-0.3817606768734966,-0.22030264429078372,-1.2287044096691118,-0.41312896327333415,-1.1659678368694368,-0.005341240075445474,-0.4712489354894845,-1.4796507008678124,-0.40851236268980917,-0.7221952266881853,-0.0007246394919204951,-1.354177555268462,-0.9777581184704113,-0.7581801136715478,0.2502216517067803,-0.3144075034902964,-0.8209166864712232,0.658009374904669,-0.35039239047365894,-0.25167093069062135,-0.8209166864712232,-0.7581801136715478,0.4384313701058058,-0.8790366586873734,-0.40851236268980917,-0.8522849728710605,-1.1973361232692743,-0.502617221889322,-0.5967220810888348,-0.2876558176739838,-0.8836532592708981,-0.5339855082891596,-0.7535635130880228,-0.9104049450872111,-0.5699703952725222,-0.6594586538885101,-0.9777581184704113,-0.8836532592708981,0.03064364690791713,-0.9777581184704113,-0.2876558176739838,-0.6908269402883477,-0.8522849728710605,-0.8163000858876982,-0.5967220810888348,0.12013190552390492,-1.1973361232692743,-0.3457757898901341,-1.1973361232692743,-0.47586553607300947,0.18286847832358022,4.888847480618721,-1.0718629776699238,-1.040494691270086,1.8499882713875269,-1.1659678368694368,-0.7221952266881853,-1.5377706730839629,-1.0091264048702484,-0.16218267207463335,-1.1613512362859122,0.658009374904669,-1.3855458416682997,-0.16218267207463335,-1.2287044096691118,-0.7221952266881853,-0.7268118272717101,-0.15756607149110854,-0.6954435408718727,-0.5339855082891596,0.2142367647234176,-0.5699703952725222,-0.9417732314870486,-0.6013386816723597,0.2188373785959712,0.18286847832358022,-1.0718629776699238,-0.8476683722875358,-0.8836532592708981,-1.0672463770863987,-0.7581801136715478,-0.8522849728710605,-0.5699703952725222,1.8499882713875269,1.724515125788176,-0.973141517886886,-1.3855458416682997,-0.8163000858876982,-0.6013386816723597,-0.3144075034902964,-1.3228092688686242,-1.1345995504695987,-1.1345995504695987,2.199656022369265,-0.4712489354894845,-1.3228092688686242,-0.47586553607300947,-1.0358780906865614,-1.0718629776699238,-0.193550958474471,-0.4712489354894845,-0.8209166864712232,-0.25167093069062135,1.5095537215728378,-0.5653537946889973,-1.1613512362859122,-0.5699703952725222,-0.4398806490896468,3.9791671750234308,-0.4398806490896468,-1.1973361232692743,-0.5072338224728469,-0.8476683722875358,-0.3457757898901341,-0.6327069680721974,-1.1659678368694368,-1.2914409824687867,-0.9463898320705731,-0.8836532592708981,-1.3855458416682997,0.05739533272422979,-0.6327069680721974,-1.0091264048702484,-0.09944609927495818,0.31295822450645544,0.4070630837059682,-0.5386021088726846,-0.5653537946889973,-1.6632438186833132,0.5639045157051561,-1.1973361232692743,-0.3144075034902964,0.3756947973061306,-0.6327069680721974,-0.8790366586873734,-0.9150215456707358,-0.0680778128751206,0.12474850610742995,-0.47586553607300947,-0.09482949869143334,0.5279196287217937,2.1009345625862275,-1.1659678368694368,-0.5699703952725222,-1.040494691270086,-0.44449724967317183,-0.6954435408718727,-0.8790366586873734,-1.0045098042867238,-0.502617221889322,-0.6594586538885101,0.15611679250726754,-0.6908269402883477,-0.1308143856747958,-0.193550958474471,-0.5699703952725222,-0.4712489354894845,0.15150019192374253,4.4183231846211575,2.1682877359694275,2.0741828767699144,0.02602704632439215,-0.2830392170904589,-0.6954435408718727,-0.4398806490896468,-0.9150215456707358,-0.40851236268980917,-0.7535635130880228,-0.6327069680721974,-0.3771440762899717,-0.8476683722875358,-0.25167093069062135,-1.3181926682850995,-0.5653537946889973,-0.7581801136715478,-0.6327069680721974,-0.6327069680721974,0.18748507890710517,-0.03209292589175813,-0.1261977850912709,0.18748507890710517,-0.5072338224728469,-1.0045098042867238,-0.18893435789094612,-1.6318755322834753,2.5447071727674784,-0.7268118272717101,4.8934640812022465,1.9127248441872016,0.6579933881936976,1.8813565577873643,-0.6908269402883477,4.51242804382067,1.3840805759734873,1.2899757167739745,-0.9104049450872111,2.383249140184766,1.1912542569909368,1.6663951535720258,1.9754614169868765,0.4070470969949969,1.3213440031738124,0.8462031065927232,-0.9463898320705731,-0.193550958474471,1.8546048719710515,3.826942343607769,0.9403079657922359,1.6350268671721884,-0.9463898320705731,0.02602704632439215,0.08876361912406727,0.05739533272422979,-0.6013386816723597,0.3756947973061306,-0.9417732314870486,-0.5967220810888348,-0.6594586538885101,0.5057685567780346,0.5011679429054811,-0.2830392170904589,-1.2287044096691118,0.12013190552390492,-1.6318755322834753,-0.9777581184704113,0.08876361912406727,4.485676358004358,-0.3771440762899717,1.3840805759734873,1.1958708575744619,1.2899757167739745,-1.1032312640697615,-0.8476683722875358,0.062011933307754764,0.8148348201928857,-1.1659678368694368,-0.8790366586873734,-0.6954435408718727,-0.5699703952725222,-0.5339855082891596,0.12013190552390492,-0.44449724967317183,-0.2830392170904589,-0.2562875312741462,-0.5072338224728469,4.826110907819047,3.7909574566244064,0.05739533272422979,0.4697836697946722,-0.7581801136715478,-0.6908269402883477,-0.6908269402883477,-0.6954435408718727,-1.1032312640697615,-0.8476683722875358,-0.7581801136715478,-0.7535635130880228,1.7291317263717008,-0.4398806490896468,0.9403079657922359,1.007661139175436,0.8821879935760856,-1.0091264048702484,-0.7221952266881853,-1.0718629776699238,1.791868299171376,-0.6954435408718727,1.5363054073891504,-1.2914409824687867,-1.1032312640697615,-0.5653537946889973,-0.973141517886886,0.3756947973061306,1.6977634399718635,1.7291317263717008,0.5011519561945095,1.6663951535720258,2.9080448235564,1.2539908297906122,1.4422005481896378,1.5095537215728378,1.8186199849876887,1.1645025711746244,1.0657811113915865,1.791868299171376,1.4781854351730004,-1.1345995504695987,1.101765998374949,2.1055511631697517,4.481059757420833,0.15150019192374253,1.8546048719710515,-0.7535635130880228,-0.6640752544720351,-0.7895484000713855,-0.6640752544720351,-0.973141517886886,-0.15756607149110854,-0.7895484000713855,-1.040494691270086,-0.6954435408718727,-0.22030264429078372,-0.9104049450872111,0.31295822450645544,-0.6280903674886725,-0.6594586538885101,-1.1659678368694368,-0.5653537946889973,-0.9463898320705731,-0.5699703952725222,0.31295822450645544,-1.1345995504695987,-0.7221952266881853,1.4154488623733248,-0.8209166864712232,-0.5967220810888348,-0.1308143856747958,-0.41312896327333415,-0.6013386816723597,1.1958708575744619,4.297466639605332,1.8546048719710515,-0.5967220810888348,1.9487097311705637,-0.8836532592708981,1.2226225433907747,-1.1032312640697615,-0.9104049450872111,-0.0007246394919204951,-0.22491924487430856,-0.7849317994878605,2.450602313567966,-0.25167093069062135,-0.6640752544720351,-0.2830392170904589,-0.7268118272717101,-1.2287044096691118,-0.47586553607300947,-0.502617221889322,-0.5967220810888348,2.9707813963560747,-1.1345995504695987,-1.040494691270086,-1.2600726960689494,-0.6280903674886725,-0.6594586538885101,0.2188533653069426,-0.0007246394919204951,-0.7895484000713855,-1.4750341002842877,0.31295822450645544,-1.0718629776699238,-0.193550958474471,-0.6280903674886725,-0.6327069680721974,-0.8522849728710605,-0.5386021088726846,-0.35039239047365894,-0.5699703952725222,-1.3228092688686242,-0.41312896327333415,-1.0718629776699238,0.9449245663757612,3.826942343607769,-0.35039239047365894,-0.3771440762899717,-1.040494691270086,-0.3144075034902964,0.5011679429054811,-0.0007246394919204951,0.08876361912406727,-1.1299829498860743,-0.4398806490896468,-0.40851236268980917,-1.0718629776699238,-0.7849317994878605,-1.4122975274846123,-1.040494691270086,-0.3771440762899717,-0.40851236268980917,-0.7535635130880228,-0.40851236268980917,-0.41312896327333415,0.9449245663757612,1.6304102665886633,-1.5110189872676503,-0.5386021088726846,-1.9501749968653768,1.0030445385919116,2.2937608815687778,2.01144630397024,1.4781854351730004,4.9515840534183955,-0.3817606768734966,0.563888528994185,4.6738860764033845,-1.5423872736674875,-0.8476683722875358,0.09338021970759232,0.18748507890710517,4.548412930804033,-0.193550958474471,-0.6594586538885101,-0.9463898320705731,-0.3771440762899717,-0.9150215456707358,0.09338021970759232,0.09338021970759232,0.7161293471208193,-1.6051238464671627,-0.9104049450872111,-1.5423872736674875,0.810234206320332,-0.2830392170904589,-0.8522849728710605,-0.5339855082891596,-0.22491924487430856,-0.09944609927495818,-0.7535635130880228,0.3443265109062931,-0.0634612122915957,-0.9777581184704113,-1.1299829498860743,-0.40851236268980917,-0.6640752544720351,-0.7535635130880228,-0.9104049450872111,-0.5653537946889973,0.12474850610742995,-1.1973361232692743,-0.5386021088726846,-0.40851236268980917,0.2502056649958088,-0.40851236268980917,-0.9777581184704113,2.325129167968615,1.5095537215728378,-0.9463898320705731,-0.5386021088726846,-0.5072338224728469,1.4154488623733248,-0.7581801136715478,-0.7535635130880228,-0.5072338224728469,-0.9150215456707358,-0.7849317994878605,-0.9777581184704113,-0.9104049450872111,0.31295822450645544,-0.09944609927495818,-0.8209166864712232,-0.6013386816723597,-0.41312896327333415,-0.7268118272717101,-0.6013386816723597,-0.7849317994878605,-1.2287044096691118,-0.6908269402883477,-0.973141517886886,-1.5110189872676503,-0.09944609927495818,-0.9150215456707358,-0.8836532592708981,-0.4712489354894845,-1.040494691270086,0.03064364690791713,-0.41312896327333415,-0.3817606768734966,-0.7221952266881853,-0.0634612122915957,-0.09482949869143334,0.09338021970759232,-0.5339855082891596,-0.40851236268980917,-0.8836532592708981,0.05739533272422979,-0.3771440762899717,-1.1973361232692743,-1.1659678368694368,-1.1299829498860743,1.6036585807723505,0.4070630837059682,-0.6013386816723597,-1.0718629776699238,0.2502216517067803,-0.40851236268980917,-0.502617221889322,-0.502617221889322,-0.22491924487430856,-1.040494691270086,-1.0091264048702484,-0.8836532592708981,-1.040494691270086,-0.6280903674886725,-0.9777581184704113,0.2188373785959712,-0.9777581184704113,-0.6013386816723597,1.4154488623733248,-1.5110189872676503,-0.8163000858876982,-1.2600726960689494,-0.4712489354894845,0.6220244879213066,0.5592879151216315,-0.2876558176739838,-0.6013386816723597,0.5325202425943473,0.8194514207764104,-0.6594586538885101,-1.1659678368694368,0.2188533653069426,1.724515125788176,-0.22030264429078372,4.041903747823106,-0.7221952266881853,-1.2914409824687867,1.28535911619045,-1.1032312640697615,1.2226225433907747,0.08876361912406727,-0.8836532592708981,-0.7849317994878605,0.7207299609933728,-1.1973361232692743,-0.973141517886886,-0.16218267207463335,2.0741828767699144,-1.5377706730839629,-0.9150215456707358,-0.7221952266881853,-0.0007246394919204951,-1.6051238464671627,-0.41312896327333415,1.4781854351730004,1.8859731583708892,-0.6280903674886725,0.2188533653069426,-0.5967220810888348,-0.5386021088726846,-0.5386021088726846,1.9800780175704016,-0.7895484000713855,-1.040494691270086,-0.6327069680721974,-1.6051238464671627,1.8546048719710515,1.2586074303741372,-1.040494691270086,-0.9463898320705731,-1.7305969920665136,-0.09944609927495818,-0.15756607149110854,0.12474850610742995,-0.7895484000713855,1.159885970591099,-0.5339855082891596,-0.9463898320705731,-0.16218267207463335,0.6579933881936976,-0.5386021088726846,-0.9777581184704113,-0.9463898320705731,-1.1032312640697615,-0.9777581184704113,-0.25167093069062135,4.485676358004358,-0.8163000858876982,0.09338021970759232,-1.8560701376658635,0.8416024927201698,-1.0718629776699238,-0.5653537946889973,-0.0680778128751206,-1.040494691270086,0.15150019192374253,-0.5967220810888348,1.3840805759734873,-0.5653537946889973,-0.18893435789094612,1.7872516985878513,1.4735688345894753,4.575164616620347,0.631241702377385,1.6663951535720258,1.6350268671721884,0.9762928527755985,1.0703977119751114,4.3602032124050085,0.7567148479767354,0.9089396793923984,2.0741828767699144,1.4154488623733248,1.101765998374949,1.6617785529885007,0.8148348201928857,0.3756947973061306,4.956200654001922,0.9716762521920732,1.3840805759734873,-0.6640752544720351,-0.3144075034902964,-0.4398806490896468,0.062011933307754764,-0.8522849728710605,-0.25167093069062135,-0.22030264429078372,-0.9150215456707358,-0.005341240075445474,0.15611679250726754,-0.7268118272717101,-1.9501749968653768,-1.8560701376658635,-1.1032312640697615,-0.8209166864712232,-1.4122975274846123,-0.8209166864712232,-1.1345995504695987,-1.040494691270086,1.1645025711746244,-0.2562875312741462,-0.0634612122915957,1.2586074303741372,1.760500012771538,0.5371368431778722,1.4735688345894753,4.297466639605332,1.2899757167739745,1.348095688990125,4.6065329030201845,0.9135562799759236,1.5409220079726753,1.5676736937889875,1.4422005481896378,2.4819705999678034,2.1682877359694275,1.4154488623733248,1.0344128249917488,1.6036585807723505,2.0428145903700763,0.8821879935760856,3.1054717564115037,-1.4169141280681377,-1.4169141280681377,-0.5386021088726846,-0.7895484000713855,0.09338021970759232,-0.7268118272717101,-1.2600726960689494,-1.1973361232692743,-1.1973361232692743,-1.5691389594838,1.724515125788176,1.5676736937889875,1.8859731583708892,1.348095688990125,1.3840805759734873,1.6036585807723505,1.3213440031738124,1.348095688990125,1.5409220079726753,1.823236585571214,1.101765998374949,2.163671135385902,1.2226225433907747,4.982952339818233,-1.1345995504695987,-0.40851236268980917,-0.8163000858876982,-0.7268118272717101,-0.4398806490896468,-1.44366581388445,-0.47586553607300947,0.2502056649958088,-0.1261977850912709,-0.6013386816723597,0.02602704632439215,0.5325362293053185,-0.7581801136715478,-0.6280903674886725,0.7834825205040195,-0.7268118272717101,-0.5967220810888348,0.24560505112325529,0.3756947973061306,-0.6013386816723597,-0.3457757898901341,-1.4750341002842877,-0.2876558176739838,-0.3190241040738214,-0.09944609927495818,-0.6640752544720351,0.12474850610742995,0.2815899381066178,-0.6594586538885101,-1.2287044096691118,-0.3190241040738214,-0.7895484000713855,-0.22491924487430856,0.02602704632439215,-0.2830392170904589,0.09338021970759232,-0.2830392170904589,-0.09944609927495818,-0.7849317994878605,-1.5423872736674875,-1.448282414467975,0.4384313701058058,-0.4712489354894845,-0.3771440762899717,-0.9777581184704113,-0.1261977850912709,-0.44449724967317183,-0.3190241040738214,-0.2562875312741462,-0.6013386816723597,0.18748507890710517,-0.41312896327333415,-0.9150215456707358,-1.040494691270086,0.4384313701058058,-1.1345995504695987,-0.6327069680721974,-0.6954435408718727,-0.3817606768734966,-0.5386021088726846,-0.7849317994878605,-1.8874384240657007,0.4070630837059682,-1.1659678368694368,-0.44449724967317183,-0.973141517886886,-0.7895484000713855,0.18748507890710517,-1.040494691270086,-0.3457757898901341,0.5952728021049937,-0.03670952647528297,-0.7268118272717101,-1.5737555600673252,-0.7849317994878605,-0.9463898320705731,-1.1973361232692743,0.08876361912406727,-0.5386021088726846,0.3756947973061306,-1.354177555268462,-0.5339855082891596,-0.1308143856747958,-0.7221952266881853,-0.6013386816723597,-0.6908269402883477,-1.1973361232692743,0.31295822450645544,-0.2830392170904589,-0.47586553607300947,-0.4712489354894845,-0.16218267207463335,0.18286847832358022,-0.6908269402883477,-0.7268118272717101,-0.8790366586873734,0.7161293471208193,0.03064364690791713,-0.8163000858876982,-1.1973361232692743,-0.40851236268980917,0.2188533653069426,-0.9150215456707358,-0.6013386816723597,-0.6013386816723597,-0.0680778128751206,-0.0680778128751206,-1.1973361232692743,-0.1261977850912709,-1.1345995504695987,-0.7849317994878605,-0.6013386816723597,-1.3809292410847749,-0.6280903674886725,-0.2876558176739838,1.4781854351730004,-0.25167093069062135,1.3840805759734873,-0.8209166864712232,-0.9463898320705731,-0.005341240075445474,-0.3190241040738214,-0.7895484000713855,-0.973141517886886,-0.7268118272717101,-0.7581801136715478,-0.6280903674886725,-0.6640752544720351,-0.7895484000713855,-1.6318755322834753,-1.9188067104655389,-0.41312896327333415,-0.2830392170904589,-0.44449724967317183,-0.41312896327333415,-0.4398806490896468,-0.973141517886886,-0.40851236268980917,0.5011679429054811,-0.41312896327333415,-1.2287044096691118,-0.8836532592708981,-0.8209166864712232,-0.7268118272717101,-0.35039239047365894,-0.6327069680721974,-0.9777581184704113,-0.8209166864712232,-0.9104049450872111,-0.7268118272717101,-0.6327069680721974,-0.3771440762899717,-0.6327069680721974,-1.2287044096691118,-0.8836532592708981,0.4697996565056434,-1.4796507008678124,0.4697996565056434,-0.5699703952725222,-1.0358780906865614,-0.9150215456707358,-0.5967220810888348,-0.3817606768734966,-0.7895484000713855,-1.2287044096691118,-0.5339855082891596,-0.1308143856747958,-1.1345995504695987,-0.9463898320705731,-1.1345995504695987,-0.44449724967317183,-0.7268118272717101,0.24560505112325529,-0.4712489354894845,-1.2600726960689494,-0.5699703952725222,0.7207459477043442,-0.7849317994878605,-0.9150215456707358,-0.8476683722875358,-1.1973361232692743,0.4384313701058058,-0.7895484000713855,-0.8522849728710605,-0.7221952266881853,-0.7268118272717101,-0.3190241040738214,-0.7268118272717101,-1.44366581388445,1.0030445385919116,-0.22491924487430856,-0.193550958474471,-0.9463898320705731,-0.40851236268980917,-0.005341240075445474,3.9791671750234308,-0.9463898320705731,-0.5386021088726846,4.517044644404196,-1.2287044096691118,-0.5339855082891596,-1.3855458416682997,0.09338021970759232,-1.2600726960689494,-1.1032312640697615,-1.040494691270086,-0.22030264429078372,0.49655134232195614,-0.1308143856747958,-0.9150215456707358,-0.4712489354894845,-0.8476683722875358,-1.600507245883638,-0.40851236268980917,0.08876361912406727,0.02602704632439215,-0.4712489354894845,-0.1308143856747958,-0.4712489354894845,-0.8522849728710605,-1.1659678368694368,-1.2914409824687867,-1.040494691270086,-0.6280903674886725,-0.4712489354894845,-0.8163000858876982,-0.25167093069062135,1.7291317263717008,0.2502216517067803,-0.9777581184704113,-0.6013386816723597,-1.040494691270086,-0.7581801136715478,0.18286847832358022,-1.040494691270086,0.7520982473932102,-0.6280903674886725,-1.0091264048702484,-1.5064023866841254,-0.6594586538885101,-0.5339855082891596,-0.6640752544720351,-1.2600726960689494,0.12474850610742995,-1.2600726960689494,-1.0718629776699238,-0.502617221889322,-1.040494691270086,-1.0718629776699238,-1.5737555600673252,-0.4398806490896468,-0.8790366586873734,-0.6327069680721974,-0.22491924487430856,-0.35039239047365894,-0.6280903674886725,-0.6280903674886725,-0.5967220810888348,-0.40851236268980917,-0.7895484000713855,-1.0718629776699238,-0.5339855082891596,-0.7895484000713855,-1.354177555268462,-1.2600726960689494,-0.9150215456707358,-1.1345995504695987,-1.1032312640697615,-0.9463898320705731,-0.5967220810888348,-0.7581801136715478,-0.25167093069062135,-0.8209166864712232,-0.03209292589175813,-1.1299829498860743,4.324218325421645,-0.4712489354894845,-0.3144075034902964,-0.5699703952725222,-0.7895484000713855,-1.0091264048702484,-0.8836532592708981,-0.5653537946889973,-1.2287044096691118,-1.1032312640697615,-0.9150215456707358,-1.0091264048702484,1.599041980188826,-0.9417732314870486,-0.3457757898901341,-0.0007246394919204951,0.12474850610742995,-0.2830392170904589,-0.47586553607300947,-0.1261977850912709,-0.6594586538885101,0.2142367647234176,-0.6327069680721974,-1.0718629776699238,-0.6013386816723597,0.43381476952228093,-0.9150215456707358,-0.5653537946889973,-0.2562875312741462,-0.4712489354894845,4.857479194218884,0.5325202425943473,4.297466639605332,0.062011933307754764,-0.22030264429078372,-0.6280903674886725,-1.0358780906865614,-0.7535635130880228,-1.354177555268462,-1.0045098042867238,-0.9150215456707358,-0.6908269402883477,-0.09482949869143334,-1.1659678368694368,-0.16218267207463335,-0.16218267207463335,-0.5699703952725222,-1.5064023866841254,-0.502617221889322,-1.3855458416682997,-0.8163000858876982,-0.1261977850912709,-0.6013386816723597,3.7328374844082557,-0.9463898320705731,-0.6327069680721974,0.09338021970759232,-1.1973361232692743,-0.6954435408718727,-0.9777581184704113,0.3756947973061306,-1.6318755322834753,-0.5653537946889973,-0.22030264429078372,-0.9777581184704113,1.4154488623733248,2.0068297033867144,-0.18893435789094612,-1.0091264048702484,0.15610080579629593,-0.5967220810888348,-0.8522849728710605,-0.9777581184704113,0.783466533793048,0.8821879935760856,1.0657811113915865,0.9135562799759236,0.9135562799759236,4.198745179822295,1.5409220079726753,4.543796330220507,1.097149397791424,1.2899757167739745,1.1958708575744619,4.611149503603707,1.2272391439742991,4.799359222002734,3.9791671750234308,0.2769733375230929,0.7253465615768976,1.8499882713875269,1.2899757167739745,1.8499882713875269,1.1331342847747865,0.850819707176248,2.9080448235564,1.2586074303741372,4.422939785204683,3.696852597424894,1.3213440031738124,0.877571392992561,1.724515125788176,1.8186199849876887,1.3794639753899625,-0.35039239047365894,1.4468171487731627,0.6626099887772225,2.13691944956959,3.540011165425706,3.9164306022237563,4.4183231846211575,4.13600860702262,-0.0007246394919204951,0.25482226557933363,1.2539908297906122,1.0390294255752737,-0.8522849728710605,4.642517790003547,1.6350268671721884,1.4422005481896378,-1.1299829498860743,-0.502617221889322,-0.6280903674886725,-1.6992287056666755,-0.6594586538885101,-0.6594586538885101,-0.7895484000713855,-1.8560701376658635,-1.1973361232692743,-0.8790366586873734,-1.5110189872676503,-0.2830392170904589,-0.25167093069062135,0.3443265109062931,-1.1659678368694368,0.5639045157051561,-1.1973361232692743,-0.1261977850912709,-1.3228092688686242,-0.25167093069062135,-0.25167093069062135,-0.7581801136715478,0.4697996565056434,-0.7221952266881853,-0.15756607149110854,-1.4169141280681377,-0.09482949869143334,-1.8560701376658635,-0.1261977850912709,0.658009374904669,-0.5072338224728469,-0.3457757898901341,-0.09944609927495818,-0.0634612122915957,-0.6594586538885101,-1.2600726960689494,0.2142367647234176,-1.7305969920665136,-0.3190241040738214,-0.44449724967317183,-1.1659678368694368,0.2815899381066178,0.18286847832358022,-1.5423872736674875,-0.3457757898901341,-0.2830392170904589,-1.3181926682850995,-0.7268118272717101,-1.0091264048702484,-0.8836532592708981,-0.973141517886886,-1.600507245883638,0.03064364690791713,-0.15756607149110854,0.18286847832358022,-0.3771440762899717,-0.3817606768734966,-0.0634612122915957,-0.15756607149110854,1.159885970591099,-0.6908269402883477,-0.6908269402883477,0.5952728021049937,-1.1659678368694368,1.2899757167739745,1.1331342847747865,-1.5064023866841254,1.3794639753899625,0.563888528994185,-1.0672463770863987,-0.25167093069062135,-0.15756607149110854,-0.6640752544720351,0.12474850610742995,-0.41312896327333415,-0.3817606768734966,-0.22030264429078372,-0.3457757898901341,-0.09482949869143334,-1.2600726960689494,0.24560505112325529,-0.005341240075445474,-0.7581801136715478,0.31295822450645544,1.28535911619045,-0.3457757898901341,-0.5339855082891596,-0.7221952266881853,-0.22491924487430856,-0.22030264429078372,-0.8522849728710605,-0.25167093069062135,-0.6280903674886725,-0.2562875312741462,-0.2562875312741462,-0.6327069680721974,-0.1308143856747958,-0.7849317994878605,-0.5072338224728469,-0.3457757898901341,-0.8209166864712232,-0.8836532592708981,-0.1261977850912709,0.9089396793923984,-1.3228092688686242,-0.8522849728710605,-0.8522849728710605,0.062011933307754764,-0.47586553607300947,0.18748507890710517,-0.4712489354894845,-0.18893435789094612,-0.8209166864712232,-0.9777581184704113,0.3397099103227681,-1.1345995504695987,-1.1973361232692743,-1.1345995504695987,-0.5386021088726846,-0.5072338224728469,-0.3457757898901341,-1.0718629776699238,0.03064364690791713,-0.6280903674886725,-0.8163000858876982,0.37107819672260567,-1.1613512362859122,-0.6954435408718727,-0.6908269402883477,-0.8163000858876982,-0.6280903674886725,0.9403239525032078,-0.7895484000713855,-0.2876558176739838,0.18748507890710517,-1.354177555268462,-1.1927195226857494,0.03064364690791713,-1.1973361232692743,-1.2914409824687867,-1.3855458416682997,-0.16218267207463335,-0.4398806490896468,-0.44449724967317183,-0.6954435408718727,0.658009374904669,-0.6954435408718727,-0.7895484000713855,-1.3228092688686242,0.03064364690791713,-1.600507245883638,-1.286824381885262,-0.6908269402883477,-0.25167093069062135,-0.6327069680721974,-0.7581801136715478,-0.47586553607300947,-0.22030264429078372,-1.1659678368694368,0.3443265109062931,-0.6013386816723597,0.37107819672260567,-0.0634612122915957,-1.1032312640697615,-0.8836532592708981,-0.18893435789094612,-0.4712489354894845,-0.6594586538885101,0.7474976335206571,-1.0672463770863987,-1.0091264048702484,-0.3771440762899717,-0.3144075034902964,-0.7895484000713855,-1.1973361232692743,-1.6364921328670003,-0.16218267207463335,0.7834825205040195,1.4735688345894753,0.3443265109062931,0.850819707176248,-1.040494691270086,1.3794639753899625,0.8462031065927232,2.163671135385902,-1.1973361232692743,-1.3228092688686242,-1.1032312640697615,0.2815899381066178,5.139793771817423,-0.032108912602729564,-0.4398806490896468,-0.44449724967317183,-0.3190241040738214,1.724515125788176,1.2539908297906122,-1.5110189872676503,0.09798083358014568,0.03064364690791713,-1.0986146634862366,0.62662510179386,-1.1345995504695987,-1.1973361232692743,1.2586074303741372,-1.040494691270086,-0.1261977850912709,0.12013190552390492,-0.09482949869143334,1.5049371209893125,1.5676736937889875,0.6939782751770601,0.8194514207764104,0.9716762521920732,4.0778886348064685,1.3213440031738124,4.20336178040582,4.794742621419209,0.6626099887772225,-0.2876558176739838,4.2660983532054955,-0.40851236268980917,2.199656022369265,1.760500012771538,1.5409220079726753,1.6036585807723505,-0.0007246394919204951,4.140625207606145,1.2539908297906122,0.9135562799759236,1.1958708575744619,0.631241702377385,1.760500012771538,1.007661139175436,1.5409220079726753,2.01144630397024,1.4781854351730004,0.6893616745935353,1.1645025711746244,4.637901189420021,1.599041980188826,0.631241702377385,-0.35039239047365894,1.823236585571214,2.4192340271681285,3.038134569739275,2.0068297033867144,2.2937608815687778,-0.4398806490896468,-0.8209166864712232,5.332620090799972,-0.09482949869143334,0.2502216517067803,-0.5699703952725222,-0.502617221889322,-1.0358780906865614,-1.3228092688686242,-0.0680778128751206,-0.5653537946889973,-1.1032312640697615,0.814850806903857,-0.9150215456707358,-0.9104049450872111,-0.193550958474471,-0.9463898320705731,-0.03209292589175813,0.2815899381066178,-0.0634612122915957,0.05739533272422979,-1.5737555600673252,0.03064364690791713,0.18286847832358022,-0.22491924487430856,-0.7849317994878605,-0.6280903674886725,-0.3771440762899717,-0.9777581184704113,-1.1345995504695987,-0.3144075034902964,-0.22030264429078372,-0.5339855082891596,0.5325362293053185,-0.193550958474471,-1.1973361232692743,-0.6640752544720351,-0.7849317994878605,-0.09482949869143334,-1.0672463770863987,0.09338021970759232,-0.22030264429078372,-0.193550958474471,-0.47586553607300947,0.46518305592211834,-0.3457757898901341,-0.9104049450872111,-0.1261977850912709,-0.3771440762899717,-0.3144075034902964,-0.22030264429078372,-0.5072338224728469,-0.6908269402883477,-0.6327069680721974,-0.9150215456707358,-0.8836532592708981,-0.3190241040738214,-1.1345995504695987,-1.6364921328670003,-0.8790366586873734,-0.9104049450872111,-0.25167093069062135,-0.15756607149110854,-0.1261977850912709,-1.0091264048702484,-1.2287044096691118,-0.9150215456707358,0.15611679250726754,-0.3817606768734966,-0.193550958474471,-0.7221952266881853,-0.7535635130880228,-0.3144075034902964,-0.9417732314870486,-0.4398806490896468,-1.1973361232692743,-0.8209166864712232,0.5639045157051561,0.5325362293053185,-1.1659678368694368,-0.9417732314870486,-0.9463898320705731,-1.7619652784663509,0.24560505112325529,0.3443265109062931,-0.22491924487430856,-0.3817606768734966,0.15611679250726754,-0.35039239047365894,-0.47586553607300947,-0.9150215456707358,-0.8790366586873734,-0.7268118272717101,-0.0007246394919204951,0.5952728021049937,-0.5967220810888348,-0.6327069680721974,0.09338021970759232,-0.6954435408718727,-0.2562875312741462,-1.5691389594838,-0.4398806490896468,0.3756788105951593,-0.7581801136715478,-0.22491924487430856,-0.4398806490896468,-0.7221952266881853,0.18748507890710517,-1.5737555600673252,-0.7268118272717101,0.3083416239229306,-0.1261977850912709,-1.6992287056666755,0.12474850610742995,-0.4398806490896468,0.2815899381066178,0.15611679250726754,0.12474850610742995,-0.5653537946889973,-0.3144075034902964,-0.3144075034902964,-0.8476683722875358,-0.41312896327333415,0.49655134232195614,-0.6594586538885101,-0.6013386816723597,-0.8476683722875358,-0.7895484000713855,-0.2876558176739838,-0.6594586538885101,-1.600507245883638,-0.9150215456707358,-0.4712489354894845,-0.18893435789094612,0.2815899381066178,-0.6327069680721974,-0.6327069680721974,0.2815899381066178,0.37107819672260567,-0.8836532592708981,0.2188533653069426,-0.15756607149110854,-0.44449724967317183,-0.22491924487430856,-1.040494691270086,-0.0680778128751206,-1.040494691270086,0.3756947973061306,2.0741828767699144,1.823236585571214,1.5095537215728378,-0.2876558176739838,1.4154488623733248,-0.7581801136715478,1.7291317263717008,-1.5423872736674875,-1.2600726960689494,-1.1032312640697615,1.3794639753899625,-1.1659678368694368,0.8775873797035322,0.4070630837059682,-0.4398806490896468,-1.1659678368694368,-0.3190241040738214,-0.6327069680721974,0.6893776613045064,-0.2562875312741462,-0.3817606768734966,-0.6594586538885101,-0.35039239047365894,-0.9150215456707358,3.6073643388089054,-1.0718629776699238,-0.8163000858876982,-0.8790366586873734,-0.9417732314870486,1.8859731583708892,-0.6954435408718727,-0.8836532592708981,-0.3771440762899717,-0.3190241040738214,-1.0045098042867238,1.101765998374949,0.5906562015214688,-1.2914409824687867,-1.2600726960689494,-0.3817606768734966,-0.09944609927495818,-1.0091264048702484,-1.2600726960689494,-0.40851236268980917,-0.2876558176739838,0.02602704632439215,-1.2600726960689494,-0.3457757898901341,-0.5653537946889973,-0.502617221889322,-0.9777581184704113,-0.3771440762899717,-1.4796507008678124,0.658009374904669,-0.22491924487430856,-0.005341240075445474,-1.2287044096691118,-1.1345995504695987,-0.03670952647528297,2.2577759945854154,-1.6051238464671627,-0.9104049450872111,-0.3457757898901341,1.0657811113915865,-0.6640752544720351,-1.3809292410847749,0.3756947973061306,-0.15756607149110854,-1.0045098042867238,-1.0358780906865614,-1.3228092688686242,-1.0986146634862366,-0.5072338224728469,-0.44449724967317183,-0.41312896327333415,1.2539908297906122,-1.0672463770863987,-0.5339855082891596,-0.6908269402883477,-0.7581801136715478,-0.9463898320705731,-0.3817606768734966,-0.3457757898901341,-0.35039239047365894,-0.3817606768734966,-0.2876558176739838,0.02602704632439215,-0.0007246394919204951,4.140625207606145,4.736622649203059,0.062011933307754764,1.0657811113915865,0.062011933307754764,-1.2600726960689494,1.2539908297906122,-0.21570203041823025,0.4070470969949969,1.9487097311705637,-0.47586553607300947,-0.2830392170904589,0.12474850610742995,2.2577759945854154,3.0113668972119907,0.6893616745935353,-1.7305969920665136,-0.6640752544720351,-0.6954435408718727,0.5325362293053185,0.2188533653069426,-0.8790366586873734,-1.1032312640697615,-0.502617221889322,-0.09482949869143334,-0.9150215456707358,-0.973141517886886,-0.6327069680721974,-0.22030264429078372,-0.4712489354894845,-0.8476683722875358,-1.1973361232692743,-0.5653537946889973,-0.8836532592708981,-0.1308143856747958,-0.9463898320705731,-0.5653537946889973,-0.09482949869143334,-1.1659678368694368,-1.0718629776699238,-1.5691389594838,-0.8836532592708981,-0.7895484000713855,-0.4398806490896468,-1.1613512362859122,-1.1299829498860743,-0.6013386816723597,0.9135562799759236,-0.7581801136715478,-1.0091264048702484,-0.973141517886886,-0.3817606768734966,-0.4398806490896468,-0.40851236268980917,-0.25167093069062135,-0.7849317994878605,-0.9104049450872111,-0.1261977850912709,-0.5072338224728469,-1.0672463770863987,-0.0634612122915957,0.4697996565056434,-0.8476683722875358,-0.3771440762899717,-0.9463898320705731,4.167376893422458,-1.1973361232692743,1.8813565577873643,-0.6954435408718727,-0.8209166864712232,-0.6640752544720351,-0.7535635130880228,-0.22030264429078372,1.9173414447707267,-0.6640752544720351,-0.3457757898901341,-0.6908269402883477,0.9135562799759236,1.5095537215728378,-0.7849317994878605,0.3443265109062931,0.09338021970759232,-0.7849317994878605,1.2226225433907747,-0.7221952266881853,-1.6051238464671627,-1.1973361232692743,0.12474850610742995,-0.8522849728710605,-0.5967220810888348,-1.1345995504695987,-0.0007246394919204951,-0.03209292589175813,4.13600860702262,2.3878657407682904,1.2539908297906122,0.4384153833948345,-0.3817606768734966,4.20336178040582,4.862095794802409,4.98756894040176,3.8896789164074446,4.4183231846211575,3.983783775606958,4.20336178040582,1.1331342847747865,1.1331342847747865,2.6074437455671537,1.4154488623733248,1.5676736937889875,0.2188373785959712,5.23851523160046,2.1055511631697517,0.2502056649958088,1.5676736937889875,0.8194514207764104,-0.3190241040738214,4.548412930804033,4.481059757420833,1.159885970591099,1.3794639753899625,4.888847480618721,4.924832367602085,-0.4398806490896468,4.449691471020995,-0.5699703952725222,-0.3817606768734966,-1.0358780906865614,-0.8209166864712232,-0.35039239047365894,-0.0634612122915957,-0.1308143856747958,-0.502617221889322,-0.1308143856747958,-0.22491924487430856,-0.8209166864712232,0.18286847832358022,-0.6327069680721974,-0.35039239047365894,-0.9417732314870486,-0.25167093069062135,-0.502617221889322,0.5952728021049937,-0.6640752544720351,-1.0091264048702484,-0.502617221889322,-0.9150215456707358,-0.8476683722875358,-0.9777581184704113,-0.7581801136715478,-0.9150215456707358,-0.5653537946889973,-0.3457757898901341,-0.193550958474471,0.3083416239229306,-0.5653537946889973,0.24560505112325529,-0.8836532592708981,-0.3457757898901341,-0.8209166864712232,-0.0634612122915957,-0.9463898320705731,-1.1345995504695987,-0.6908269402883477,-0.0007246394919204951,0.7207299609933728,-0.7581801136715478,-1.1927195226857494,-1.286824381885262,-1.3855458416682997,-0.16218267207463335,-0.5967220810888348,-1.0986146634862366,-0.502617221889322,0.15611679250726754,0.08876361912406727,-0.5386021088726846,0.4070630837059682,-0.7221952266881853,-0.8836532592708981,0.2188533653069426,-1.0718629776699238,0.2502216517067803,-0.03209292589175813,-0.9417732314870486,-1.0045098042867238,-1.0091264048702484,-0.5386021088726846,-1.1973361232692743,0.46518305592211834,-1.6364921328670003,-0.16218267207463335,-0.8522849728710605,0.08876361912406727,-0.22491924487430856,-0.7895484000713855,-1.2287044096691118,-1.1973361232692743,-0.973141517886886,-1.0045098042867238,-0.9417732314870486,-1.1973361232692743,-0.9777581184704113,-1.1659678368694368,-1.0986146634862366,-0.005341240075445474,-0.5967220810888348,-0.7581801136715478,-0.8522849728710605,0.4744002703781968,-1.0091264048702484,1.0030445385919116,-1.1345995504695987,-0.7581801136715478,-0.2562875312741462,-0.3190241040738214,0.3756947973061306,-0.0680778128751206,-0.6594586538885101,-0.6908269402883477,-0.9417732314870486,-0.35039239047365894,-0.7221952266881853,-0.6280903674886725,0.15610080579629593,1.6036585807723505,-0.9463898320705731,-0.8209166864712232,-0.03209292589175813,-0.4398806490896468,-0.3144075034902964,-1.3855458416682997,1.159901957302071,-0.5339855082891596,-1.600507245883638,-0.7849317994878605,-0.8476683722875358,0.03064364690791713,-0.22030264429078372,-0.193550958474471,-1.0718629776699238,-1.0091264048702484,-1.0091264048702484,5.3012518044001355,4.888847480618721,0.15150019192374253,-0.6280903674886725,-0.9463898320705731,1.693146839388338,-0.5967220810888348,-0.4712489354894845,3.0381185830283033,4.292850039021808,0.5011519561945095,-0.8790366586873734,-0.9463898320705731,-0.25167093069062135,-0.7535635130880228,-0.9463898320705731,-0.5967220810888348,2.1682877359694275,-0.005341240075445474,-0.5699703952725222,-0.6327069680721974,-0.44449724967317183,1.3840805759734873,-0.5653537946889973,-0.6908269402883477,-0.502617221889322,-0.40851236268980917,-0.2830392170904589,-0.6954435408718727,-0.8476683722875358,-1.0718629776699238,-0.7849317994878605,-0.5339855082891596,-0.5339855082891596,-0.7895484000713855,1.28535911619045,-1.1032312640697615,2.1009345625862275,-0.6280903674886725,-0.7849317994878605,0.8821879935760856,-0.09944609927495818,-0.47586553607300947,0.12013190552390492,-1.1345995504695987,0.40244648312244335,-0.4712489354894845,-0.15756607149110854,-0.3457757898901341,-0.40851236268980917,-1.0718629776699238,-1.2914409824687867,0.658009374904669,-0.7581801136715478,0.062011933307754764,-0.5699703952725222,-1.0091264048702484,-1.2287044096691118,-1.0091264048702484,-0.9463898320705731,-0.6908269402883477,-0.0680778128751206,-0.40851236268980917,-0.6954435408718727,-0.0634612122915957,-0.7895484000713855,-0.005341240075445474,-0.09944609927495818,-0.8163000858876982,-0.4398806490896468,-0.15756607149110854,1.3167274025902873,-0.03209292589175813,1.4422005481896378,0.1607174063798208,-0.6327069680721974,-0.973141517886886,-0.3190241040738214,-1.4796507008678124,-1.0986146634862366,-0.973141517886886,1.6036585807723505,-0.6327069680721974,-0.8790366586873734,-0.35039239047365894,-0.9463898320705731,-1.286824381885262,-0.8836532592708981,-0.09022888481887982,-0.9150215456707358,-1.2287044096691118,2.0428145903700763,-0.7268118272717101,-0.5699703952725222,-0.6327069680721974,-0.0680778128751206,-0.8476683722875358,1.6350268671721884,-0.44449724967317183,-0.5653537946889973,1.4781854351730004,-1.040494691270086,-0.2876558176739838,-0.0634612122915957,0.09338021970759232,5.018937226801597,4.637901189420021,1.3527122895736499,4.669269475819859,2.325129167968615,1.2226225433907747,-0.05886059841904237,3.638732625208742,2.199656022369265,1.0703977119751114,2.0741828767699144,1.6617785529885007,1.2586074303741372,1.3527122895736499,0.5685051295777098,5.23851523160046,0.8821879935760856,1.6350268671721884,1.7291317263717008,-1.3809292410847749,5.050305513201434,1.4422005481896378,1.1285176841912616,2.2623925951689396,-1.2287044096691118,-1.2914409824687867,-0.6327069680721974,0.2502216517067803,-0.35039239047365894,-0.7268118272717101,-0.2876558176739838,-0.25167093069062135,-0.6280903674886725,-0.6908269402883477,-0.22030264429078372,-0.9417732314870486,0.03064364690791713,-0.3817606768734966,-1.1973361232692743,-1.0672463770863987,-0.44449724967317183,-1.2600726960689494,-0.44449724967317183,-1.0358780906865614,-0.09482949869143334,-0.25167093069062135,0.4384313701058058,-0.8522849728710605,-1.286824381885262,-0.8476683722875358,-0.3457757898901341,-0.7221952266881853,-1.2287044096691118,-0.8790366586873734,-1.040494691270086,-0.35039239047365894,-0.8476683722875358,-0.7895484000713855,-0.7581801136715478,-0.7895484000713855,-1.0358780906865614,-0.7268118272717101,-0.3817606768734966,1.2586074303741372,-1.2600726960689494,-0.3144075034902964,-0.3144075034902964,-0.8209166864712232,-0.6954435408718727,-1.6632438186833132,-0.8836532592708981,-1.2287044096691118,0.12013190552390492,-0.22030264429078372,-1.0718629776699238,-0.44449724967317183,-0.44449724967317183,-0.6640752544720351,-0.5072338224728469,-0.7268118272717101,-0.3817606768734966,-1.1032312640697615,1.5676736937889875,-0.3817606768734966,0.2815899381066178,-0.18893435789094612,-0.44449724967317183,-0.9417732314870486,-0.2830392170904589,-1.2287044096691118,-1.2287044096691118,-1.0091264048702484,0.2142367647234176,-0.7849317994878605,-1.9188067104655389,1.6036585807723505,1.6304102665886633,0.6626099887772225,1.3527122895736499,-0.3144075034902964,1.007661139175436,-0.9417732314870486,-0.4398806490896468,-1.2600726960689494,-0.6640752544720351,-0.9777581184704113,-0.09482949869143334,-1.2914409824687867,0.12474850610742995,-1.4122975274846123,-1.1659678368694368,-1.2600726960689494,-1.7305969920665136,-0.2876558176739838,-0.6280903674886725,0.12474850610742995,-0.0634612122915957,-0.6640752544720351,0.2502216517067803,-0.03209292589175813,0.2142367647234176,-0.6594586538885101,-1.5110189872676503,-0.7268118272717101,-0.973141517886886,-1.0091264048702484,3.9524154892071195,-0.3771440762899717,-0.15756607149110854,-0.18893435789094612,-0.9777581184704113,-0.7221952266881853,-0.8476683722875358,-0.9777581184704113,-0.5339855082891596,-0.8836532592708981,-0.8163000858876982,0.5011679429054811,-0.7581801136715478,-0.9777581184704113,-0.7535635130880228,-1.040494691270086,-0.502617221889322,-0.8476683722875358,-0.4712489354894845,-0.4712489354894845,1.6977634399718635,-0.8476683722875358,-1.2600726960689494,0.8148348201928857,-0.6594586538885101,-0.7849317994878605,-0.005341240075445474,-0.7581801136715478,-0.9777581184704113,-0.3144075034902964,-0.4712489354894845,-0.7895484000713855,-0.7268118272717101,-0.6280903674886725,-0.7535635130880228,-1.0091264048702484,-0.5339855082891596,-1.8560701376658635,2.2310243087691024,0.9449245663757612,1.6036585807723505,-1.448282414467975,-0.7895484000713855,-0.9417732314870486,-1.0718629776699238,-0.8163000858876982,-0.5653537946889973,0.03064364690791713,-0.9777581184704113,-1.8560701376658635,-1.2287044096691118,-0.0680778128751206,-1.6318755322834753,-0.3457757898901341,-1.3809292410847749,-0.9150215456707358,-0.6280903674886725,1.1958708575744619,1.4781854351730004,1.348095688990125,4.386954898221321,1.8546048719710515,2.356497454368453,-1.6992287056666755,-0.9777581184704113,-0.8476683722875358,-0.9777581184704113,-0.4398806490896468,-0.1261977850912709,-0.7849317994878605,0.4070630837059682,1.6350268671721884,0.02602704632439215,-0.7581801136715478,-0.7895484000713855,-1.3228092688686242,-0.09944609927495818,0.02602704632439215,1.791868299171376,0.4697996565056434,-1.2600726960689494,1.6036585807723505,-0.9150215456707358,1.8546048719710515,-0.7535635130880228,-0.5386021088726846,-0.4712489354894845,-0.8836532592708981,0.8821879935760856,-0.9417732314870486,-0.5967220810888348,1.9754614169868765,1.6663951535720258,1.5095537215728378,1.8499882713875269,1.5049371209893125,1.101765998374949,3.822325743024244,1.8186199849876887,-0.40851236268980917,4.642517790003547,4.857479194218884,-1.8560701376658635,3.5086588657368383,3.8896789164074446,1.9487097311705637,1.2539908297906122,4.167376893422458,3.9164306022237563,1.007661139175436,4.956200654001922,-0.8790366586873734,3.8896789164074446,-1.1345995504695987,-0.6594586538885101,-0.7895484000713855,-0.22030264429078372,-1.2600726960689494,-0.2830392170904589,-0.09944609927495818,-0.47586553607300947,0.46518305592211834,-0.09944609927495818,-0.8522849728710605,-0.5967220810888348,-1.1345995504695987,-0.0007246394919204951,-0.7221952266881853,-0.973141517886886,-0.8790366586873734,-0.3457757898901341,-0.8163000858876982,0.09338021970759232,-0.5653537946889973,-1.1032312640697615,-0.9463898320705731,-1.0672463770863987,-0.41312896327333415,-0.8163000858876982,0.09338021970759232,0.02602704632439215,-0.8836532592708981,-0.22030264429078372,0.7207299609933728,1.2226225433907747,1.1958708575744619,2.2937608815687778,1.7872516985878513,1.1645025711746244,1.348095688990125,-0.8209166864712232,4.794742621419209,1.4422005481896378,1.3840805759734873,0.9089396793923984,-1.0358780906865614,0.783466533793048,0.9089396793923984,1.6663951535720258,0.18748507890710517,4.705254362803221,1.3527122895736499,1.9173414447707267,0.8462031065927232,1.8813565577873643,1.6304102665886633,1.7291317263717008,3.3785691195539633,1.5095537215728378,1.3840805759734873,1.4422005481896378,1.3213440031738124,0.850819707176248,2.2937608815687778,-1.8874384240657007,-1.0986146634862366,-0.8163000858876982,-0.6594586538885101,-0.22491924487430856,-0.0007246394919204951,4.13600860702262,3.9791671750234308,2.1055511631697517,1.6977634399718635,4.015152062006793,-0.8209166864712232,1.760500012771538,1.724515125788176,-0.7581801136715478,-1.6632438186833132,-1.0091264048702484,0.09338021970759232,-0.03209292589175813,-1.3228092688686242,-0.8476683722875358,-0.18893435789094612,-1.0718629776699238,-0.502617221889322,-0.9150215456707358,-0.502617221889322,1.4154488623733248,-1.1032312640697615,-0.8476683722875358,-0.7221952266881853,-0.44449724967317183,-0.8836532592708981,-0.3190241040738214,-1.1345995504695987,-1.1973361232692743,-0.6594586538885101,0.31295822450645544,1.348095688990125,1.599041980188826,-0.2562875312741462,-0.6640752544720351,-0.6013386816723597,1.6036585807723505,0.15611679250726754,-0.8836532592708981,0.7520982473932102,-0.25167093069062135,-0.2562875312741462,-0.3190241040738214,-0.9777581184704113,-0.7268118272717101,-0.5967220810888348,-0.1261977850912709,-1.0091264048702484,1.9127248441872016,2.1682877359694275,-0.25167093069062135,1.5722902943725132,1.3167274025902873,1.2586074303741372,3.4191546204098797,0.5952568153940223,2.3205125673850904,1.2899757167739745,4.391571498804845,4.015152062006793,-0.032108912602729564,4.8934640812022465,3.858310630007606,-0.0634612122915957,4.422939785204683,2.199656022369265,-0.6013386816723597,-0.3457757898901341,-0.7581801136715478,-1.354177555268462,-0.09944609927495818,-1.1973361232692743,-1.1345995504695987,-0.9104049450872111,-0.9104049450872111,-0.22491924487430856,0.02602704632439215,-1.0718629776699238,-1.2914409824687867,-0.41312896327333415,-0.5386021088726846,-1.1299829498860743,-0.8163000858876982,-0.8790366586873734,-0.1261977850912709,-1.4796507008678124,-0.5339855082891596,-1.0358780906865614,-0.8836532592708981,-1.0045098042867238,-1.5064023866841254,-0.25167093069062135,0.15150019192374253,-1.1973361232692743,-1.286824381885262,-1.5691389594838,-1.040494691270086,-0.5339855082891596,0.15611679250726754,-0.8836532592708981,-1.1299829498860743,0.6893776613045064,-1.3228092688686242,-0.6908269402883477,-0.16218267207463335,-0.6954435408718727,-0.6594586538885101,-0.6280903674886725,-0.09944609927495818,-0.25167093069062135,0.12474850610742995,-1.0091264048702484,-0.5386021088726846,0.4384313701058058,-0.6013386816723597,-0.5699703952725222,-1.0091264048702484,-1.1032312640697615,-0.7849317994878605,-0.03209292589175813,0.2188533653069426,-0.9150215456707358,0.15610080579629593,-0.9463898320705731,-1.448282414467975,-0.5339855082891596,-0.6327069680721974,-0.1308143856747958,0.4070630837059682,-0.5072338224728469,-0.7581801136715478,-0.8836532592708981,-0.9777581184704113,-0.9104049450872111,-1.1973361232692743,0.2142367647234176,-1.354177555268462,0.2815899381066178,-0.47586553607300947,-1.6678604192668376,-1.286824381885262,-0.0007246394919204951,-0.3817606768734966,0.2815899381066178,-0.25167093069062135,0.5952728021049937,0.2815899381066178,0.31295822450645544,-0.6327069680721974,-0.8522849728710605,0.18748507890710517,0.6847610607209819,0.18748507890710517,-0.8522849728710605,0.49655134232195614,0.02602704632439215,-1.4750341002842877,-0.8522849728710605,0.24560505112325529,-1.0091264048702484,-0.5386021088726846,-0.3817606768734966,-0.22491924487430856,-1.1973361232692743,-0.15756607149110854,0.08876361912406727,-0.9417732314870486,-0.16218267207463335,-1.0718629776699238,-1.1345995504695987,-0.4712489354894845,-1.354177555268462,-1.0091264048702484,-0.35039239047365894,-0.3144075034902964,-0.5699703952725222,-0.3817606768734966,-1.0091264048702484,-0.35039239047365894,-1.0358780906865614,-0.03209292589175813,-0.22030264429078372,0.2502216517067803,-0.7581801136715478,-0.5386021088726846,-0.5339855082891596,-0.1308143856747958,-0.3190241040738214,-0.2876558176739838,-0.6280903674886725,-1.5691389594838,0.2142367647234176,-1.3228092688686242,-1.0718629776699238,-0.8476683722875358,0.5011679429054811,-0.8790366586873734,-0.5699703952725222,0.2142367647234176,-1.040494691270086,0.6266410885048312,-0.4398806490896468,-0.5386021088726846,-0.2562875312741462,-0.6327069680721974,-0.5967220810888348,-0.40851236268980917,-0.9463898320705731,-1.0718629776699238,-0.4712489354894845,0.877571392992561,-1.5377706730839629,-0.9104049450872111,-0.3144075034902964,0.7521142341041818,-0.4712489354894845,-0.3144075034902964,-1.0672463770863987,-0.40851236268980917,-0.7849317994878605,-0.9463898320705731,-1.1659678368694368,-0.1261977850912709,-0.3144075034902964,-0.5653537946889973,-0.8163000858876982,-0.9777581184704113,-0.5653537946889973,-1.3228092688686242,-0.973141517886886,-0.8476683722875358,-0.15756607149110854,-1.2287044096691118,-0.4712489354894845,2.1055511631697517,0.9716762521920732,-1.3181926682850995,-0.47586553607300947,-0.6327069680721974,0.37107819672260567,-0.44449724967317183,4.517044644404196,1.2586074303741372,-0.005341240075445474,-0.5699703952725222,-0.6954435408718727,0.3756947973061306,-0.3817606768734966,-0.44449724967317183,-0.25167093069062135,-0.5967220810888348,-1.3228092688686242,-1.2600726960689494,-0.35039239047365894,-0.8163000858876982,-0.7895484000713855,-0.5699703952725222,0.31295822450645544,0.6533927743211441,-1.1345995504695987,-0.5967220810888348,-0.8522849728710605,-1.354177555268462,-1.1345995504695987,1.2586074303741372,-1.6364921328670003,0.2142367647234176,-0.8209166864712232,-0.9463898320705731,0.4384313701058058,-0.2562875312741462,-0.40851236268980917,-0.6640752544720351,-1.2287044096691118,-0.7895484000713855,-0.4398806490896468,-1.9188067104655389,-0.47586553607300947,-0.6013386816723597,-0.4712489354894845,1.4154488623733248,-0.2562875312741462,-0.8790366586873734,-0.2830392170904589,-1.040494691270086,-0.40851236268980917,-0.9463898320705731,-0.8522849728710605,-1.1345995504695987,-0.5072338224728469,-0.6594586538885101,-0.5386021088726846,-0.9463898320705731,-1.2287044096691118,-1.1973361232692743,-0.47586553607300947,-0.16218267207463335,-0.2830392170904589,-1.2287044096691118,-0.16218267207463335,-0.2876558176739838,-1.8874384240657007,-0.4712489354894845,-0.6013386816723597,0.05739533272422979,-0.7535635130880228,-0.09482949869143334,-1.2914409824687867,-1.1659678368694368,-1.2600726960689494,-0.09482949869143334,0.31295822450645544,4.20336178040582,-0.3817606768734966,-0.16218267207463335,-0.3817606768734966,-0.7895484000713855,-0.6640752544720351,-0.8209166864712232,-0.6908269402883477,-0.5339855082891596,-0.0680778128751206,-1.1299829498860743,-0.9777581184704113,-0.7221952266881853,-0.5072338224728469,0.09338021970759232,-0.3457757898901341,-0.8163000858876982,-0.0007246394919204951,-0.193550958474471,-0.502617221889322,-1.040494691270086,-0.5339855082891596,-0.4398806490896468,0.15611679250726754,-0.3190241040738214,-1.448282414467975,1.3794639753899625,-0.47586553607300947,-0.3817606768734966,-1.6318755322834753,-0.9777581184704113,-0.3190241040738214,0.5325362293053185,-1.6364921328670003,-0.9150215456707358,-0.8476683722875358,-0.1308143856747958,-0.40851236268980917,-1.0358780906865614,-0.5653537946889973,-1.0091264048702484,-0.9777581184704113,-0.3457757898901341,-0.6280903674886725,0.12013190552390492,-0.3144075034902964,-1.0091264048702484,-0.5699703952725222,-0.16218267207463335,-0.5072338224728469,-0.09944609927495818,-1.0718629776699238,-1.3228092688686242,-0.9150215456707358,-0.7535635130880228,0.3443265109062931,-0.5072338224728469,-1.0718629776699238,-0.22030264429078372,-1.3855458416682997,-1.1345995504695987,-0.6640752544720351,-0.0007246394919204951,-0.8790366586873734,-0.25167093069062135,-0.7581801136715478,-0.25167093069062135,-1.1973361232692743,1.6036585807723505,1.007661139175436,-0.2830392170904589,-0.8836532592708981,-0.6280903674886725,-0.7221952266881853,-1.1659678368694368,0.18286847832358022,-0.35039239047365894,-0.7268118272717101,-0.502617221889322,-0.6954435408718727,-0.44449724967317183,-0.2562875312741462,-1.4122975274846123,-1.040494691270086,-0.7535635130880228,-0.3817606768734966,-0.3190241040738214,-0.6640752544720351,-0.2830392170904589,-0.7895484000713855,0.37107819672260567,-0.2830392170904589,-0.5072338224728469,-0.8836532592708981,-0.4712489354894845,-0.7268118272717101,-0.6594586538885101,-0.22030264429078372,-0.6327069680721974,-1.0718629776699238,-0.2562875312741462,-0.8790366586873734,-1.0718629776699238,-0.3144075034902964,0.15611679250726754,-1.3855458416682997,0.31295822450645544,-0.9104049450872111,-0.41312896327333415,1.6036585807723505,-0.47586553607300947,-1.1032312640697615,0.4384313701058058,-1.3181926682850995,-1.0986146634862366,-0.7581801136715478,-0.15756607149110854,4.611149503603707,-0.40851236268980917,-0.193550958474471,-1.1973361232692743,-1.0718629776699238,-1.2600726960689494,-1.1973361232692743,-0.9463898320705731,-0.47586553607300947,-0.22491924487430856,-0.7221952266881853,0.2815899381066178,0.12474850610742995,-0.0007246394919204951,-1.0718629776699238,-0.4712489354894845,0.05739533272422979,-1.5110189872676503,-0.6013386816723597,0.15150019192374253,-1.0045098042867238,-0.2562875312741462,-0.8522849728710605,-0.8790366586873734,0.31295822450645544,-0.09482949869143334,0.6533927743211441,0.658009374904669,-0.6013386816723597,-0.7535635130880228,0.658009374904669,-0.3817606768734966,-0.8476683722875358,-0.6640752544720351,-0.3817606768734966,-0.09944609927495818,-0.5386021088726846,-0.5386021088726846,-0.9463898320705731,-0.6280903674886725,-1.44366581388445,1.3527122895736499,-0.7221952266881853,1.599041980188826,-0.4398806490896468,-1.2914409824687867,-0.16218267207463335,-0.7535635130880228,-0.6640752544720351,-0.4398806490896468,-0.5072338224728469,-0.7895484000713855,-0.6327069680721974,-0.6013386816723597,-1.0986146634862366,-0.7581801136715478,0.9762928527755985,-0.7849317994878605,-1.4169141280681377,-1.3181926682850995,0.03064364690791713,-1.3228092688686242,-0.5699703952725222,-0.5699703952725222,1.760500012771538,-1.5423872736674875,-1.9501749968653768,-1.1659678368694368,-0.5653537946889973,-0.5653537946889973,-0.6013386816723597,-1.0091264048702484,-1.2287044096691118,-0.8836532592708981,-0.3817606768734966,0.3756947973061306,-0.25167093069062135,1.2539908297906122,1.1912542569909368,-0.6594586538885101,-0.5339855082891596,-1.1345995504695987,-1.0091264048702484,-0.8522849728710605,-0.5699703952725222,-0.5967220810888348,-0.0634612122915957,1.724515125788176,-0.41312896327333415,-0.9150215456707358,-0.9463898320705731,1.101765998374949,-1.3228092688686242,-1.9188067104655389,-1.1345995504695987,-1.0986146634862366,0.6893776613045064,-0.3771440762899717,-0.8836532592708981,-0.5653537946889973,1.5095537215728378,-1.2600726960689494,-0.7581801136715478,0.24560505112325529,-0.4398806490896468,1.6350268671721884,-0.2830392170904589,-0.1261977850912709,-0.6327069680721974,-0.15756607149110854,-1.2914409824687867,-0.973141517886886,-0.5653537946889973,-0.3817606768734966,-0.5967220810888348,-0.5967220810888348,-0.35039239047365894,-0.6908269402883477,1.3213440031738124,-1.1032312640697615,-0.9150215456707358,-0.5967220810888348,-0.502617221889322,-0.2562875312741462,-0.8163000858876982,-0.7895484000713855,-0.7535635130880228,-0.6954435408718727,-0.8209166864712232,-0.6908269402883477,1.2899757167739745,1.823236585571214,-1.4122975274846123,-0.7535635130880228,0.6220244879213066,1.693146839388338,-0.2876558176739838,1.348095688990125,0.9762928527755985,-0.21570203041823025,-0.6908269402883477,-0.5386021088726846,-0.7221952266881853,-1.2914409824687867,-1.0718629776699238,-1.1973361232692743,0.9403079657922359,4.391571498804845,4.485676358004358,1.2539908297906122,0.12474850610742995,-0.6327069680721974,-1.2600726960689494,0.9762928527755985,2.0068297033867144,-0.4398806490896468,-1.0718629776699238,-0.8209166864712232,-0.7849317994878605,2.0741828767699144,-0.9150215456707358,-0.8836532592708981,-0.5653537946889973,-1.600507245883638,1.1645025711746244,1.5363054073891504,-0.3817606768734966,1.0703977119751114,-1.0672463770863987,-0.6594586538885101,-0.9150215456707358,-0.5339855082891596,-0.6640752544720351,-1.1345995504695987,1.1958708575744619,1.4468171487731627,1.6617785529885007,1.2899757167739745,0.12474850610742995,4.920215767018559,4.548412930804033,-0.8209166864712232,4.732006048619534,-0.0634612122915957,1.4108322617898004,-1.5064023866841254,1.1958708575744619,1.760500012771538,0.877571392992561,1.0703977119751114,2.0428145903700763,1.6977634399718635,1.2272391439742991,1.5409220079726753,1.6304102665886633,1.5722902943725132,0.850819707176248,1.1645025711746244,1.693146839388338,1.693146839388338,1.791868299171376,-0.8209166864712232,1.0030445385919116,0.15611679250726754,1.0344128249917488,0.4697996565056434,1.0344128249917488,1.3167274025902873,0.5011519561945095,-0.7895484000713855,-0.6954435408718727,1.5095537215728378,1.007661139175436,0.6893616745935353,1.9127248441872016,1.4468171487731627,-0.9150215456707358,-1.2287044096691118,-0.7581801136715478,-1.0091264048702484,0.4070630837059682,-0.3771440762899717,-1.1345995504695987,0.18286847832358022,0.46518305592211834,-0.25167093069062135,-1.2287044096691118,-0.2830392170904589,-0.6280903674886725,-0.4712489354894845,-0.502617221889322,-0.6594586538885101,-0.25167093069062135,0.15150019192374253,-0.8836532592708981,-0.3144075034902964,0.08876361912406727,-0.8522849728710605,-0.6594586538885101,-0.6280903674886725,-1.1659678368694368,-0.4712489354894845,-0.7535635130880228,-1.1032312640697615,-0.22030264429078372,-0.8476683722875358,-1.3228092688686242,-1.0718629776699238,-0.6954435408718727,-0.7849317994878605,0.03064364690791713,-1.1973361232692743,-0.9150215456707358,-1.0045098042867238,-0.09944609927495818,0.03064364690791713,-1.0718629776699238,0.2815899381066178,-0.5386021088726846,-0.0007246394919204951,-1.3228092688686242,-0.9104049450872111,-0.5072338224728469,-1.4169141280681377,0.12013190552390492,0.18748507890710517,-1.824701851266026,0.18286847832358022,-0.9150215456707358,-1.0986146634862366,-1.0718629776699238,-1.8874384240657007,-1.354177555268462,-1.1973361232692743,-0.6908269402883477,0.12474850610742995,4.862095794802409,-0.7581801136715478,-1.2554560954854246,-0.0680778128751206,-1.1659678368694368,-0.1308143856747958,0.37107819672260567,-0.5653537946889973,-0.5072338224728469,-0.6013386816723597,0.9762928527755985,-1.1032312640697615,-0.3144075034902964,-0.22030264429078372,-0.3817606768734966,-1.2554560954854246,-0.25167093069062135,-0.8836532592708981,-0.6640752544720351,1.4468171487731627,-0.25167093069062135,-0.8790366586873734,-0.6327069680721974,-0.5386021088726846,-1.3228092688686242,-0.5967220810888348,-1.9501749968653768,-0.2562875312741462,-1.1659678368694368,-0.6327069680721974,0.2188533653069426,-0.6954435408718727,-0.6013386816723597,-0.1308143856747958,-0.4398806490896468,0.12474850610742995,-0.47586553607300947,-0.6640752544720351,-0.16218267207463335,-1.824701851266026,-0.25167093069062135,-0.3457757898901341,-1.1299829498860743,-1.6632438186833132,-0.6013386816723597,0.37107819672260567,-1.1345995504695987,-0.2830392170904589,-0.6594586538885101,-0.5072338224728469,-0.0680778128751206,-0.9150215456707358,-0.3817606768734966,-0.5386021088726846,-0.8476683722875358,-0.6954435408718727,1.9754614169868765,1.1912542569909368,1.4108322617898004,-0.6013386816723597,-1.448282414467975,-0.9150215456707358,-0.6954435408718727,-0.3144075034902964,-1.2287044096691118,1.1912542569909368,-0.5072338224728469,-0.6954435408718727,-0.9104049450872111,-0.6013386816723597,-1.1345995504695987,-1.0091264048702484,-1.1032312640697615,-0.005341240075445474,0.3756947973061306,-0.8209166864712232,-0.1308143856747958,-0.7535635130880228,-0.5653537946889973,-0.9150215456707358,-0.7581801136715478,-0.7581801136715478,-0.5967220810888348,-1.1032312640697615,-0.6280903674886725,-1.600507245883638,-1.1927195226857494,-1.448282414467975,-1.0718629776699238,-0.2562875312741462,-1.448282414467975,-0.7849317994878605,-0.3771440762899717,-0.9104049450872111,-1.44366581388445,-1.0718629776699238,-0.1308143856747958,-0.6327069680721974,-0.7895484000713855,-0.8209166864712232,-0.35039239047365894,-0.8476683722875358,-1.1659678368694368,-0.18893435789094612,1.0703977119751114,0.3443265109062931,-0.7221952266881853,-0.5699703952725222,-0.03670952647528297,-0.8522849728710605,0.3443265109062931,-1.3181926682850995,-0.2830392170904589,-0.9463898320705731,0.062011933307754764,-0.7581801136715478,-0.6280903674886725,-0.9463898320705731,-1.5377706730839629,-0.6640752544720351,-0.6640752544720351,-0.6594586538885101,-0.5339855082891596,0.24560505112325529,0.2142367647234176,-0.7268118272717101,-0.35039239047365894,-0.3190241040738214,0.08876361912406727,-0.193550958474471,-0.47586553607300947,0.3443265109062931,-0.9463898320705731,-1.5691389594838,0.18748507890710517,-0.7268118272717101,-0.005341240075445474,-0.0680778128751206,-1.2287044096691118,-1.1345995504695987,-1.0091264048702484,-0.9417732314870486,-0.0007246394919204951,-1.0358780906865614,-0.25167093069062135,-0.6327069680721974,0.15611679250726754,-0.502617221889322,-0.5653537946889973,-1.1973361232692743,0.4070630837059682,-0.9150215456707358,-0.6013386816723597,-0.7268118272717101,-0.7581801136715478,-1.354177555268462,-1.1032312640697615,-1.3855458416682997,-1.0091264048702484,-1.1659678368694368,-0.8476683722875358,-0.6280903674886725,-0.502617221889322,-0.6013386816723597,-0.9463898320705731,0.5011679429054811,-0.41312896327333415,-0.7581801136715478,-0.16218267207463335,-0.25167093069062135,-0.5699703952725222,-0.6327069680721974,-0.5072338224728469,0.12474850610742995,-0.7581801136715478,-0.502617221889322,-0.5339855082891596,0.02602704632439215,-0.18893435789094612,-0.5653537946889973,-0.8163000858876982,-0.6280903674886725,-0.7221952266881853,-0.5386021088726846,-0.2876558176739838,-0.6013386816723597,-0.2562875312741462,-0.8790366586873734,-1.1613512362859122,-0.9104049450872111,-0.4398806490896468,-0.25167093069062135,-1.5691389594838,-1.2287044096691118,-0.6327069680721974,-0.8476683722875358,-0.4398806490896468,-0.25167093069062135,0.09338021970759232,-0.3771440762899717,-0.6640752544720351,-1.0672463770863987,-0.5072338224728469,1.823236585571214,-0.5386021088726846,-0.6954435408718727,-1.4169141280681377,-0.7268118272717101,5.144410372400948,-1.0718629776699238,0.03064364690791713,1.3527122895736499,-0.6327069680721974,-0.41312896327333415,0.12474850610742995,-0.40851236268980917,0.2188533653069426,-0.6640752544720351,-0.41312896327333415,-0.7581801136715478,-0.3817606768734966,-0.6327069680721974,-1.1973361232692743,-0.8476683722875358,-0.22491924487430856,-1.0986146634862366,-0.4398806490896468,-0.7535635130880228,-0.8522849728710605,-0.9463898320705731,-1.2600726960689494,-0.0007246394919204951,-0.8790366586873734,-0.3771440762899717,0.2502216517067803,-1.0718629776699238,-0.2876558176739838,-0.193550958474471,-0.5339855082891596,-0.9150215456707358,-0.7268118272717101,-0.502617221889322,-1.0045098042867238,-1.1973361232692743,1.1912542569909368,-1.0672463770863987,-0.40851236268980917,1.007661139175436,-1.0045098042867238,0.31295822450645544,-0.6640752544720351,-1.040494691270086,-0.6908269402883477,-0.6908269402883477,-0.8209166864712232,-0.193550958474471,-0.973141517886886,-0.7849317994878605,-1.1345995504695987,-1.5691389594838,1.7291317263717008,-1.8874384240657007,1.6663951535720258,-0.2830392170904589,1.6663951535720258,2.0741828767699144,1.2899757167739745,-1.1659678368694368,0.312942237795484,0.9716762521920732,-0.16218267207463335,-0.3771440762899717,1.9487097311705637,-0.973141517886886,-0.03670952647528297,-0.3817606768734966,1.2272391439742991,0.15611679250726754,-0.15756607149110854,-0.09482949869143334,-0.3144075034902964,0.9449245663757612,2.504873700942036,0.09338021970759232,0.09338021970759232,-1.0358780906865614,-0.7849317994878605,-0.3817606768734966,-0.193550958474471,-0.9777581184704113,1.8546048719710515,-0.8209166864712232,-1.0718629776699238,1.791868299171376,-0.5653537946889973,2.6074437455671537,0.7253465615768976,1.4422005481896378,4.637901189420021,4.485676358004358,4.575164616620347,1.6350268671721884,5.139793771817423,1.791868299171376,0.6939782751770601,1.2586074303741372,0.9135562799759236,1.9173414447707267,1.7291317263717008,1.6663951535720258,5.018937226801597,1.2226225433907747,1.3167274025902873,1.9754614169868765,1.348095688990125,1.9487097311705637,1.348095688990125,4.292850039021808,-1.1973361232692743,4.391571498804845,2.4192340271681285,-0.5967220810888348,1.6663951535720258,4.104640320622783,2.1950394217857405,0.4384313701058058,-0.1308143856747958,-0.6594586538885101,-0.8522849728710605,-1.2914409824687867,-1.2914409824687867,-0.3457757898901341,1.1645025711746244,-1.0718629776699238,-0.8209166864712232,-1.040494691270086,0.5325362293053185,-0.44449724967317183,-0.47586553607300947,-0.5967220810888348,-0.9104049450872111,-0.6327069680721974,-0.7581801136715478,-1.1345995504695987,-0.7581801136715478,-0.6280903674886725,-1.5064023866841254,-0.15756607149110854,-0.8209166864712232,-0.9777581184704113,-0.9463898320705731,-0.5386021088726846,0.062011933307754764,-0.5967220810888348,0.24560505112325529,-0.03209292589175813,0.7521142341041818,-0.7535635130880228,-0.4398806490896468,-1.1345995504695987,-0.6013386816723597,-0.03209292589175813,-0.7535635130880228,-0.9104049450872111,0.2502216517067803,-0.6280903674886725,0.5325362293053185,-1.1927195226857494,-0.3144075034902964,-1.1659678368694368,-0.0007246394919204951,-0.7535635130880228,-0.2562875312741462,-0.40851236268980917,-0.0007246394919204951,-0.9417732314870486,-0.005341240075445474,-0.0634612122915957,-0.09482949869143334,1.9440931305870388,-1.9188067104655389,-0.8790366586873734,0.2142367647234176,-0.03670952647528297,-0.6013386816723597,-0.09944609927495818,-0.8522849728710605,-0.2562875312741462,-0.4712489354894845,0.08876361912406727,-0.18893435789094612,-0.6280903674886725,-1.4169141280681377,-0.1261977850912709,-1.3855458416682997,-0.8522849728710605,0.05739533272422979,-0.7221952266881853,-0.4398806490896468,-1.8874384240657007,-0.35039239047365894,0.12474850610742995,-1.2600726960689494,-0.6594586538885101,-0.03209292589175813,-0.35039239047365894,-1.2287044096691118,-0.8836532592708981,-0.7268118272717101,-1.1345995504695987,-1.9501749968653768,-1.5110189872676503,-0.40851236268980917,0.43381476952228093,-0.4398806490896468,-1.1299829498860743,-1.1345995504695987,-0.9777581184704113,-0.5386021088726846,0.2769733375230929,-1.1973361232692743,-1.1345995504695987,-1.354177555268462,-0.5699703952725222,-0.3144075034902964,-0.3771440762899717,-1.5377706730839629,-1.1973361232692743,-0.973141517886886,-0.9463898320705731,-0.5339855082891596,-1.5737555600673252,0.4697996565056434,-0.6013386816723597,-0.09482949869143334,-0.5653537946889973,0.08876361912406727,-1.5423872736674875,-0.9104049450872111,-0.5072338224728469,-0.6280903674886725,-1.0045098042867238,-0.35039239047365894,-0.3144075034902964,1.28535911619045,-0.35039239047365894,-1.1973361232692743,0.4384313701058058,4.543796330220507,4.736622649203059,-0.2876558176739838,2.01144630397024,-0.9104049450872111,-1.3855458416682997,-0.7581801136715478,-1.5423872736674875,-1.1973361232692743,-0.2562875312741462,-0.7895484000713855,-0.6640752544720351,0.09338021970759232,-0.3817606768734966,0.12474850610742995,-0.5653537946889973,-1.1973361232692743,-0.8163000858876982,-0.6640752544720351,-1.0718629776699238,-0.6327069680721974,0.2188533653069426,-0.6280903674886725,-0.2876558176739838,-0.7581801136715478,-1.0718629776699238,-0.22491924487430856,0.03064364690791713,-0.44449724967317183,1.4735688345894753,-0.0007246394919204951,-0.9777581184704113,-0.0634612122915957,-1.1345995504695987,-0.9463898320705731,0.6266410885048312,-0.2830392170904589,-0.18893435789094612,0.2188533653069426,0.12474850610742995,-1.0091264048702484,-0.8522849728710605,-1.0045098042867238,0.5279196287217937,-0.6013386816723597,-0.8163000858876982,-0.8522849728710605,0.15611679250726754,0.15150019192374253,-0.5339855082891596,-1.0091264048702484,-1.354177555268462,-0.5339855082891596,-0.9417732314870486,-0.7268118272717101,-0.973141517886886,-0.005341240075445474,1.3794639753899625,-1.0091264048702484,-0.193550958474471,-0.2562875312741462,0.15611679250726754,-0.8522849728710605,-0.2876558176739838,0.2502216517067803,-0.6327069680721974,-0.2830392170904589,-0.502617221889322,-0.18893435789094612,-0.7535635130880228,-0.9104049450872111,0.810234206320332,-1.6318755322834753,-0.5072338224728469,-1.2287044096691118,-0.8836532592708981,0.5325362293053185,0.4384313701058058],\"xaxis\":\"x\",\"y\":[-0.9428191641847752,-1.3261930995574966,-1.0509502741617047,0.7349603401913143,-0.9034987605568132,1.0495235692150844,0.7546205420052998,0.7447904410983072,1.0003730646801205,0.7054700374703358,0.7447904410983072,0.961052661052149,-1.1590813841386267,0.8430914501682354,0.9315623583311707,0.7447904410983072,0.961052661052149,-0.9526492650917774,0.7841108447262783,0.8037710465402641,1.2854459909829123,1.025174034692817,-0.9624793659987702,0.9217322574241777,-1.1197609805106554,0.7644506429122926,1.0102031655871133,0.7841108447262783,0.8922419547031994,-0.7902268823811814,1.1773148810059912,-1.0607803750686986,0.8037710465402641,0.8627516519822209,1.088843972843056,0.8430914501682354,-0.805197751486885,0.7644506429122926,-0.8936686596498202,1.2316061537396659,1.0055138328788311,-0.9278482950790811,0.7695914111110034,1.020033266494106,-1.306532897743519,-1.1047901114049519,0.7054700374703358,-0.8295472860091527,-0.9428191641847846,-1.3753436040924687,1.0644944383207882,-0.8983579923581025,0.8234312483542497,-0.706896742416957,-1.212921221381873,0.9905429637731278,-1.1787415859526122,0.9413924592381635,0.8627516519822209,0.7644506429122926,1.2414362546466589,0.8580623192739388,-1.0064891023350235,-1.1689114850456195,0.7546205420052998,-1.1146202123119446,-1.0261493041490095,1.13799447737802,-0.9769987996140448,-0.9231589623707989,1.0298633674010989,-1.188571686859605,0.7742807438192854,-1.1295910814176482,-0.7509064787532103,-0.9034987605568132,-0.9278482950790811,0.8384021174599534,-0.8885278914511098,-1.212921221381873,-0.878697790544117,0.7742807438192854,-1.090270677789677,-1.2227513222888657,0.852921551075228,-1.03129007234772,1.0691837710290704,-0.8295472860091527,-1.1441105150329232,-0.7705666805671959,1.1431352455767307,1.182455649204702,-0.8543482560218493,-0.8740084578358349,1.0644944383207882,1.0350041355998099,-1.1441105150329232,1.0939847410417665,0.8430914501682354,-0.9769987996140448,1.0546643374137954,-1.1590813841386267,1.0593536701220772,-1.153940615939916,0.9413924592381635,-1.1295910814176482,-0.9821395678127559,-1.0163192032420165,0.7153001383773286,1.0986740737500489,-0.4651288916072596,-0.9573385978000597,0.8922419547031994,0.8777225210879245,1.4485730345366672,1.123475043762745,0.8580623192739388,0.7597613102040105,0.6221398975061112,-1.0752998086839733,0.9760235301578526,-1.188571686859605,0.8627516519822209,1.1085041746570417,1.1038148419487592,-0.9671686987070524,-0.9671686987070524,1.300416860088616,-0.9769987996140448,-0.8393773869161455,0.740101108390025,-0.878697790544117,-1.1590813841386267,1.320077061902601,-0.9966590014280309,-1.0261493041490095,0.9760235301578526,1.0448342365068026,1.281461319117789,-0.15056566258348936,0.8234312483542497,-1.198401787766598,-1.1099308796036624,0.8332613492612423,-1.2030911204748802,1.2217760528326733,-0.9428191641847846,-0.9475084968930666,-1.1394211823246412,-1.0706104759756914,-0.8983579923581025,-1.1047901114049519,-0.1407355616764966,0.7742807438192854,-1.03129007234772,0.9512225601451563,0.8627516519822209,1.123475043762745,-1.2227513222888657,0.8430914501682354,-0.8590375887301313,0.852921551075228,0.8332613492612423,0.852921551075228,0.9020720556101922,1.020033266494106,0.8922419547031994,-0.7509064787532103,-0.9376783959860739,-0.22920646983943185,0.9315623583311707,-1.2620717259168373,0.7597613102040105,-0.9573385978000597,-0.268526873467403,0.8332613492612423,-0.3569977816303385,-0.5142793961422237,-1.03129007234772,-0.9769987996140448,1.0003730646801205,0.9268730256228886,-0.9919696687197487,0.7153001383773286,0.7742807438192854,-1.045809505962995,-1.2868726959295331,-1.1787415859526122,0.8037710465402641,0.7054700374703358,-0.8688676896371239,-1.0851299095909666,-0.8346880542078635,0.9268730256228886,-1.1197609805106554,1.3987178691585442,-1.0116298705337343,0.8136011474472569,0.68580983565635,-1.1295910814176482,-1.1099308796036624,0.681120502948068,0.9708827619591421,-0.8197171851021601,-0.8641783569288422,0.9512225601451563,1.0003730646801205,1.0298633674010989,-0.25869677256041024,-1.1244503132189374,-0.9966590014280309,-1.1394211823246412,1.6353449517695304,-1.1787415859526122,0.7939409456332711,0.7742807438192854,-0.7803967814741889,-0.9231589623707989,0.9119021565171851,0.9020720556101922,0.9905429637731278,0.7841108447262783,-1.0116298705337343,0.8136011474472569,-0.9376783959860739,-0.8641783569288422,-1.1787415859526122,0.7939409456332711,0.9217322574241777,-0.9821395678127559,0.6661496338423646,1.5861944472345662,0.8430914501682354,0.8187419156459675,-0.27835697437439594,1.7631362635604373,0.7153001383773286,1.0644944383207882,-1.0949600104979593,1.226465385540955,-0.34716768072334575,1.7533061626534445,0.852921551075228,-1.2377221913945693,1.0495235692150844,0.7251302392843214,0.8136011474472569,0.7841108447262783,0.7742807438192854,-1.1689114850456195,-1.4979941476846643,-1.2770425950225406,1.182455649204702,0.8384021174599534,0.7447904410983072,-0.7757074487659066,0.8824118537962067,-0.795367650579892,-1.2180619895805835,0.8037710465402641,-1.1394211823246412,0.9119021565171851,-1.1001007786966697,0.9905429637731278,-1.2278920904875765,-1.2278920904875765,1.0102031655871133,1.2905867591816234,1.8221168690023943,-0.8641783569288422,-1.385173704999462,0.7939409456332711,0.8136011474472569,0.7349603401913143,0.8627516519822209,1.0691837710290704,0.9119021565171851,0.7251302392843214,0.8430914501682354,1.0102031655871133,-1.2180619895805835,1.1183342755640344,0.852921551075228,-0.9133288614638062,0.9217322574241777,-0.9133288614638062,-0.3176773780023672,-0.8983579923581025,-0.9919696687197487,-1.0017997696267416,0.961052661052149,-1.1342804141259302,0.7742807438192854,1.2657857891689264,-1.1590813841386267,-1.1197609805106554,0.6563195329353717,0.7841108447262783,0.9020720556101922,1.2657857891689264,-1.0411201732547128,0.8824118537962067,1.314936293703891,1.1674847800989985,-1.1197609805106554,0.7841108447262783,0.8627516519822209,0.9708827619591421,1.2854459909829123,1.2166352846339623,0.7251302392843214,0.8824118537962067,0.8430914501682354,0.7939409456332711,1.1085041746570417,1.226465385540955,-1.1197609805106554,-1.1689114850456195,0.9708827619591421,1.0691837710290704,0.852921551075228,-1.1394211823246412,0.7251302392843214,0.7054700374703358,1.3247663946108836,-1.1590813841386267,0.9315623583311707,1.3640867982388551,-1.2424115241028515,-1.0556396068699876,0.7499312092970177,-0.4356385888862813,0.9217322574241777,0.7447904410983072,-0.9133288614638062,1.1674847800989985,-1.1590813841386267,-0.9133288614638062,0.7644506429122926,1.0003730646801205,-1.188571686859605,-0.8936686596498202,0.9217322574241777,1.020033266494106,-1.0804405768826841,0.9413924592381635,-0.7855375496728995,0.740101108390025,-1.2278920904875765,-1.1099308796036624,0.8725817528892138,0.9956837319718385,-1.0654697077769806,0.7447904410983072,-0.21937636893243917,-1.1001007786966697,-0.9329890632777917,1.1529653464837235,0.8332613492612423,1.0055138328788311,0.9020720556101922,-0.8000569832881741,1.251266355553652,-1.198401787766598,1.088843972843056,0.9315623583311707,0.8234312483542497,-0.3569977816303385,0.8430914501682354,-1.1689114850456195,-0.9428191641847846,0.8430914501682354,-1.0017997696267416,-1.021459971440727,0.8627516519822209,0.9708827619591421,0.8037710465402641,-1.1146202123119446,-1.0116298705337343,1.020033266494106,-0.7363870451379353,1.0396934683080916,0.8136011474472569,0.7349603401913143,0.6464894320283787,0.8430914501682354,0.8332613492612423,-1.1295910814176482,-0.8936686596498202,1.0691837710290704,1.8122867680954018,0.9512225601451563,0.6909506038550609,0.7939409456332711,-1.3261930995575046,-1.1001007786966697,0.7546205420052998,1.0495235692150844,1.0102031655871133,-0.9769987996140448,-1.0509502741617058,0.9315623583311707,-1.0163192032420165,0.8725817528892138,0.6169991293074003,-1.247552292301562,-0.8248579533008707,0.8922419547031994,-1.0804405768826841,1.147824578285013,-0.9919696687197487,0.6563195329353717,-1.1244503132189374,-0.44546868979327425,-1.0949600104979593,-1.2377221913945693,0.852921551075228,1.0593536701220772,-0.27835697437439594,-1.4783339458706795,0.8922419547031994,0.7841108447262783,-1.0411201732547128,0.9315623583311707,0.9760235301578526,0.8824118537962067,0.8234312483542497,-1.03129007234772,0.8430914501682354,-1.0411201732547128,0.7939409456332711,-0.8936686596498202,-1.0706104759756914,1.1183342755640344,-1.0607803750686986,0.7447904410983072,0.7939409456332711,-0.8346880542078635,-0.9231589623707989,1.020033266494106,1.1281643764710272,-1.0607803750686986,0.7546205420052998,0.7742807438192854,0.956363328343867,-0.7214161760322318,-0.3078472770953744,-0.795367650579892,0.9760235301578526,-0.8098870841951672,0.8973827229019102,-0.8983579923581025,-0.25869677256041024,-1.1932610195678872,1.3299071628095944,0.6956399365633431,0.9512225601451563,-1.1001007786966697,-1.2278920904875765,-1.2180619895805835,-0.9966590014280309,0.8824118537962067,-1.021459971440727,0.8627516519822209,0.7251302392843214,-0.6675763387889856,1.246125587354941,1.1281643764710272,-1.2573823932085553,-0.9821395678127559,1.1085041746570417,0.6956399365633431,1.1281643764710272,0.7251302392843214,-0.268526873467403,-1.0064891023350235,-1.2082318886735905,1.684495456304495,0.8777225210879245,-0.8000569832881741,1.0593536701220772,-0.6329452678692964,0.9020720556101922,-0.986828900521038,0.7153001383773286,-1.1099308796036624,1.0298633674010989,-1.1787415859526122,0.7546205420052998,1.0298633674010989,0.8430914501682354,-1.1001007786966697,-1.0156145423988578,-1.1736008177539017,0.9217322574241777,-1.1394211823246412,1.147824578285013,1.0790138719360631,0.7054700374703358,-1.1295910814176482,0.7349603401913143,-1.0706104759756914,0.7349603401913143,-0.7214161760322318,0.7153001383773286,0.7939409456332711,0.9512225601451563,0.9217322574241777,1.3299071628095944,0.7939409456332711,1.147824578285013,-1.021459971440727,0.9315623583311707,0.7742807438192854,-1.0706104759756914,-0.8641783569288422,-0.9526492650917774,0.961052661052149,-1.1197609805106554,-0.805197751486885,1.3247663946108836,0.9020720556101922,0.7841108447262783,-1.03129007234772,-0.5889355315330429,-0.9919696687197487,-1.1197609805106554,-0.9526492650917774,-1.247552292301562,0.8430914501682354,-1.1689114850456195,0.5186981202374721,0.8234312483542497,-0.9475084968930666,1.020033266494106,-0.8492074878231383,-0.9821395678127559,1.0003730646801205,0.7939409456332711,-1.4441543104414187,-0.8445181551148565,-1.4441543104414187,0.961052661052149,-1.2770425950225406,0.7892516129249892,0.7204409065760393,1.0743245392277807,-1.0607803750686986,0.7349603401913143,0.9217322574241777,1.1183342755640344,-1.0163192032420165,-1.2180619895805835,-0.45529879070026713,-0.4749589925142526,-0.8885278914511098,0.7939409456332711,-1.090270677789677,0.852921551075228,0.9020720556101922,-1.0163192032420165,1.0298633674010989,-1.090270677789677,0.8725817528892138,1.1085041746570417,0.9512225601451563,-1.1099308796036624,-1.0607803750686986,0.9020720556101922,0.9119021565171851,-0.805197751486885,1.088843972843056,0.7742807438192854,1.5763643463275732,0.9413924592381635,-1.0556396068699876,0.7546205420052998,0.9072128238089029,1.1183342755640344,0.8234312483542497,-1.1787415859526122,0.7939409456332711,0.7153001383773286,0.7546205420052998,1.0396934683080916,-1.1197609805106554,1.2068051837269698,-0.8983579923581025,-0.7462171460449281,1.0396934683080916,-0.5142793961422237,-1.3556834022784832,0.8875526219949174,0.7546205420052998,1.0986740737500489,1.0593536701220772,1.0003730646801205,-0.9329890632777917,1.3640867982388551,-1.1001007786966697,1.1183342755640344,0.7447904410983072,0.8136011474472569,0.7939409456332711,-1.2278920904875765,1.0396934683080916,-1.247552292301562,1.0102031655871133,0.7054700374703358,0.49903791842348644,1.0298633674010989,0.7644506429122926,-1.2325814231958585,0.9465332274368744,-0.8936686596498202,-1.1295910814176482,-1.0607803750686986,-0.9821395678127559,-0.9034987605568132,0.577678725679429,1.0298633674010989,1.0102031655871133,-0.6919258733112534,-1.1787415859526122,0.96619342925086,-1.5078242485916575,0.8234312483542497,-0.7607365796602031,-0.7509064787532103,1.0003730646801205,-1.4048339068134474,-1.1001007786966697,-1.090270677789677,-0.9919696687197487,0.852921551075228,1.0298633674010989,0.9807128628661349,0.7054700374703358,0.5186981202374721,1.020033266494106,1.147824578285013,1.0298633674010989,0.7251302392843214,0.9807128628661349,0.9512225601451563,-0.706896742416957,-0.972309466905763,0.9020720556101922,-1.247552292301562,-0.8936686596498202,1.1136449428557524,0.8384021174599534,0.7939409456332711,-1.1001007786966697,-1.4638145122554043,0.8136011474472569,-1.188571686859605,-1.0509502741617058,-1.5078242485916575,-0.8885278914511098,0.8136011474472569,-0.7017559742182462,0.5336689893431757,-0.5241094970492165,0.9708827619591421,-1.3163629986505119,-0.8248579533008707,1.13799447737802,1.147824578285013,1.0396934683080916,1.0644944383207882,-1.1736008177539017,0.8627516519822209,-0.7607365796602031,-0.9376783959860739,-1.0804405768826841,0.8037710465402641,-1.1001007786966697,0.8725817528892138,1.5861944472345662,0.7939409456332711,0.8136011474472569,1.182455649204702,1.2657857891689264,-1.0017997696267416,-1.0411201732547128,-0.6380860360680074,-0.6380860360680074,1.2166352846339623,-0.9671686987070524,0.6516302002270894,0.9119021565171851,0.9905429637731278,-1.1099308796036624,-0.7560472469519212,-0.9966590014280309,0.8580623192739388,0.7841108447262783,-0.7705666805671959,1.0396934683080916,-1.2672124941155476,0.8627516519822209,-1.247552292301562,0.7204409065760393,-1.2227513222888657,1.3739168991458477,-1.247552292301562,0.7251302392843214,0.8824118537962067,-0.8346880542078635,-0.7167268433239494,-1.03129007234772,-0.8543482560218493,0.7546205420052998,0.9217322574241777,0.9858536310648457,-1.1001007786966697,-1.1244503132189374,0.8973827229019102,0.8234312483542497,1.0102031655871133,-0.972309466905763,-1.1787415859526122,-1.2082318886735905,-1.090270677789677,-1.0706104759756914,-1.1197609805106554,1.13799447737802,-1.0706104759756914,-1.1099308796036624,-0.9624793659987702,-0.8346880542078635,-1.1001007786966697,-1.1099308796036624,0.799081713831982,1.0055138328788311,1.7533061626534445,0.7939409456332711,-0.9329890632777917,-0.40614828616530285,-0.42580848797928855,-0.9966590014280309,-0.8393773869161455,-0.7560472469519212,-1.3163629986505119,1.7631362635604373,-1.045809505962995,-1.2573823932085553,-1.1689114850456195,0.8824118537962067,1.0003730646801205,0.8725817528892138,1.0102031655871133,-1.1099308796036624,1.13799447737802,-0.6329452678692964,0.9217322574241777,-0.9919696687197487,-1.0804405768826841,1.025174034692817,-1.0017997696267416,0.9315623583311707,0.8725817528892138,-1.0804405768826841,0.9119021565171851,-1.1047901114049519,0.8332613492612423,-1.1590813841386267,0.7742807438192854,0.7841108447262783,-0.8641783569288422,0.7546205420052998,-0.9034987605568132,-0.8740084578358349,0.7644506429122926,1.0396934683080916,0.8430914501682354,-1.0116298705337343,0.9760235301578526,-0.5535997997701951,0.9858536310648457,-1.0607803750686986,1.147824578285013,-1.03129007234772,-0.9671686987070524,-0.9180181941720883,-1.2227513222888657,-1.1197609805106554,0.8037710465402641,-1.0706104759756914,0.8627516519822209,-1.1001007786966697,-1.2180619895805835,0.8922419547031994,0.8430914501682354,0.7153001383773286,-0.8983579923581025,0.9072128238089029,0.7447904410983072,-1.1834309186608947,-0.27835697437439594,-1.0064891023350235,0.7251302392843214,1.0593536701220772,1.2217760528326733,-1.03129007234772,-1.0163192032420165,-1.1590813841386267,-1.1001007786966697,-1.1441105150329232,-1.0804405768826841,-0.7265569442309426,0.8627516519822209,-0.8838385587428277,-0.8740084578358349,-0.8838385587428277,0.9708827619591421,0.8430914501682354,-0.9034987605568132,1.1674847800989985,0.852921551075228,-1.1001007786966697,-1.2672124941155476,-0.8197171851021601,0.8234312483542497,1.2316061537396659,0.9170429247158959,-1.0411201732547128,0.8580623192739388,0.961052661052149,-1.2278920904875765,-1.2377221913945693,-1.1099308796036624,-1.0017997696267416,-0.9573385978000597,0.9268730256228886,0.8430914501682354,1.0396934683080916,0.9315623583311707,-0.9034987605568132,0.7644506429122926,-0.9624793659987702,-1.0607803750686986,0.8136011474472569,1.3345964955178764,-0.7757074487659066,-1.1689114850456195,0.5481884229584506,1.0350041355998099,-1.3505426340797724,1.6550051535835164,-1.1197609805106554,-0.9919696687197487,-1.2377221913945693,0.577678725679429,0.7153001383773286,-1.1590813841386267,-0.9133288614638062,0.7349603401913143,-1.2868726959295331,-1.1295910814176482,-1.0017997696267416,-1.2573823932085553,0.6169991293074003,-1.0017997696267416,1.0644944383207882,-1.045809505962995,0.5383583220514577,-1.1787415859526122,-0.9180181941720883,-1.035979405056002,0.9465332274368744,0.7153001383773286,-1.385173704999462,0.6661496338423646,0.8234312483542497,-0.8445181551148565,-1.1689114850456195,1.020033266494106,-1.1099308796036624,-1.1146202123119446,1.0396934683080916,1.251266355553652,1.6353449517695304,-0.9231589623707989,1.0644944383207882,-1.2672124941155476,-1.198401787766598,-1.2377221913945693,1.1576546791920055,0.9217322574241777,-0.42580848797928855,1.1529653464837235,1.2068051837269698,0.9512225601451563,0.7939409456332711,-1.188571686859605,-1.0804405768826841,1.7533061626534445,0.9020720556101922,1.0350041355998099,-1.0607803750686986,1.4584031354436595,-1.1394211823246412,-1.4979941476846643,-0.8248579533008707,0.7251302392843214,0.681120502948068,0.9708827619591421,-1.1197609805106554,1.088843972843056,0.8824118537962067,0.9956837319718385,0.5678486247724363,-1.1787415859526122,-0.8641783569288422,1.2610964564606446,-0.9034987605568132,0.9020720556101922,0.9512225601451563,-0.8885278914511098,1.020033266494106,-1.0706104759756914,-1.021459971440727,1.3247663946108836,-1.2180619895805835,-1.0017997696267416,0.9413924592381635,-1.247552292301562,-1.212921221381873,-0.8492074878231383,-0.711586075125239,0.9367031265298817,-0.3078472770953744,-1.035979405056002,-0.986828900521038,-1.0064891023350235,0.9807128628661349,0.6169991293074003,0.5383583220514577,0.7742807438192854,1.1136449428557524,-1.2817319277308226,1.1922857501116948,-0.8295472860091527,0.8136011474472569,1.2362954864479483,-0.8641783569288422,-0.9475084968930666,0.8627516519822209,-0.8590375887301313,1.1773148810059912,-1.2573823932085553,-0.9966590014280309,-0.9769987996140448,-0.4651288916072596,0.8089118147389749,0.8332613492612423,-1.021459971440727,1.1674847800989985,0.8922419547031994,-0.9428191641847846,0.7841108447262783,0.577678725679429,-0.32750747890936016,1.1627954473907165,1.3797623281877172,-0.986828900521038,-0.986828900521038,1.0691837710290704,-0.9573385978000597,0.6614603011340825,-1.0804405768826841,0.6169991293074003,-1.1001007786966697,-0.8641783569288422,-1.0509502741617058,1.2854459909829123,-0.8248579533008707,1.1085041746570417,0.961052661052149,0.7251302392843214,0.961052661052149,-1.0706104759756914,-1.2573823932085553,0.7054700374703358,1.0153439337858239,0.8725817528892138,-1.0116298705337343,-1.2377221913945693,0.7644506429122926,0.7447904410983072,1.7041556581184802,-1.1394211823246412,-0.28818707528138904,-1.1787415859526122,-0.8492074878231383,-0.8641783569288422,-0.22920646983943185,-1.2770425950225406,-1.247552292301562,-0.9428191641847846,-1.2868726959295331,-1.0116298705337343,1.0495235692150844,-0.9671686987070524,-0.8393773869161455,-1.1146202123119446,0.9268730256228886,-0.9821395678127559,0.7794215120179963,-0.7017559742182462,-0.1557064307822002,-0.972309466905763,0.961052661052149,1.556704144513588,-1.0261493041490095,0.740101108390025,-1.0851299095909666,1.7336459608394592,-1.1047901114049519,-1.0556396068699876,1.0644944383207882,-1.0851299095909666,-0.4356385888862813,-0.691221212468095,-1.090270677789677,-1.1787415859526122,-1.0411201732547128,-0.8936686596498202,1.1281643764710272,1.2166352846339623,0.961052661052149,-0.9919696687197487,-0.9133288614638062,-0.9133288614638062,0.8430914501682354,0.8627516519822209,0.5383583220514577,0.7546205420052998,0.8136011474472569,-0.9428191641847846,-1.2672124941155476,0.7841108447262783,-1.090270677789677,-0.9329890632777917,1.0350041355998099,-0.6125804052121521,0.8037710465402641,1.0546643374137954,0.7106108056690466,-0.9573385978000597,-1.2278920904875765,0.8187419156459675,-0.9919696687197487,-1.1834309186608947,-1.1342804141259302,0.8430914501682354,-1.1736008177539017,-0.4651288916072596,0.7251302392843214,-1.035979405056002,-1.1590813841386267,-0.9919696687197487,-0.2095462680254462,1.251266355553652,0.7447904410983072,-1.247552292301562,0.8627516519822209,-1.0607803750686986,0.9217322574241777,0.6661496338423646,0.8725817528892138,-1.149251283231634,-0.8740084578358349,1.1183342755640344,0.8922419547031994,-1.2377221913945693,-0.9821395678127559,-1.2620717259168373,-1.2030911204748802,-0.25869677256041024,0.9315623583311707,-0.8346880542078635,1.0102031655871133,0.8430914501682354,-1.1099308796036624,-0.9821395678127559,0.9807128628661349,-1.1001007786966697,-1.021459971440727,1.0593536701220772,-1.0706104759756914,-1.2278920904875765,-1.0804405768826841,0.8777225210879245,-0.878697790544117,0.740101108390025,-0.7560472469519212,0.68580983565635,0.8922419547031994,-1.0706104759756914,-1.1197609805106554,0.7841108447262783,0.8875526219949174,0.9807128628661349,0.7841108447262783,0.9217322574241777,0.7644506429122926,-1.0607803750686986,-0.9376783959860739,-1.0607803750686986,-1.1441105150329232,-1.0261493041490095,-1.1689114850456195,1.0790138719360631,-1.021459971440727,0.9512225601451563,0.7644506429122926,0.740101108390025,0.9072128238089029,-0.17022586439747497,-1.3753436040924687,0.9020720556101922,1.187144981912984,-1.188571686859605,-1.1001007786966697,-0.972309466905763,-0.7363870451379353,1.1773148810059912,1.020033266494106,-1.1590813841386267,-1.0163192032420165,-1.2620717259168373,0.8187419156459675,1.0841546401347735,-1.021459971440727,-1.090270677789677,1.133305144669738,0.7939409456332711,1.0298633674010989,-1.0654697077769806,0.7939409456332711,-1.1197609805106554,-0.8393773869161455,1.1038148419487592,-0.9034987605568132,-0.8590375887301313,-1.035979405056002,-1.0706104759756914,-1.1295910814176482,-0.15056566258348936,-1.2180619895805835,-1.1394211823246412,0.9119021565171851,0.961052661052149,-1.1689114850456195,0.9512225601451563,0.7742807438192854,0.852921551075228,-1.0509502741617058,-0.9671686987070524,-0.9624793659987702,-0.9133288614638062,0.8922419547031994,0.9413924592381635,-1.0017997696267416,-1.2868726959295331,-1.198401787766598,0.852921551075228,-0.9919696687197487,-0.878697790544117,-0.9966590014280309,-0.9376783959860739,1.0350041355998099,0.9217322574241777,-0.8688676896371239,1.1922857501116948,-0.7855375496728995,1.133305144669738,0.5631592920641542,-1.2770425950225406,0.8136011474472569,-1.2573823932085553,-1.149251283231634,-0.9428191641847846,-1.1001007786966697,0.7054700374703358,0.9217322574241777,1.0396934683080916,1.182455649204702,-1.1099308796036624,0.8136011474472569,-0.9769987996140448,-0.28818707528138904,0.9807128628661349,-1.4638145122554043,1.123475043762745,0.8973827229019102,1.255955688261934,0.96619342925086,0.7597613102040105,-0.3078472770953744,1.0644944383207882,-0.5987656324400359,0.8725817528892138,1.1431352455767307,-1.0017997696267416,-0.805197751486885,-1.2868726959295331,-1.306532897743519,0.9020720556101922,-1.2082318886735905,0.7841108447262783,-1.0607803750686986,0.8824118537962067,-1.1590813841386267,-1.1099308796036624,-1.2573823932085553,0.7644506429122926,-0.7167268433239494,-0.9671686987070524,0.7939409456332711,1.088843972843056,1.6746653553975022,1.0546643374137954,-1.1787415859526122,-0.8936686596498202,1.2166352846339623,-1.0706104759756914,-1.1590813841386267,0.8627516519822209,0.8824118537962067,-1.090270677789677,0.7054700374703358,1.0350041355998099,1.0003730646801205,0.8725817528892138,0.8234312483542497,1.0153439337858239,0.6614603011340825,-0.878697790544117,1.556704144513588,0.7644506429122926,0.9020720556101922,0.8922419547031994,1.246125587354941,1.6550051535835164,-1.1932610195678872,-0.7363870451379353,-0.8936686596498202,1.0396934683080916,-1.247552292301562,-1.1394211823246412,0.8973827229019102,0.8430914501682354,-1.090270677789677,1.0495235692150844,-1.03129007234772,-0.8641783569288422,-1.090270677789677,0.9119021565171851,0.9020720556101922,0.9708827619591421,0.9413924592381635,-0.9919696687197487,-0.805197751486885,-1.035979405056002,-0.9821395678127559,-0.3176773780023672,1.4485730345366672,1.3102469609956087,-0.9475084968930666,1.0153439337858239,-0.672265671497268,-0.8936686596498202,-0.9034987605568132,-0.4356385888862813,-0.7214161760322318,-0.3864880843513173,1.2657857891689264,-0.9081880932650955,-0.711586075125239,1.133305144669738,1.5861944472345662,-1.03129007234772,1.0986740737500489,-1.0017997696267416,0.9217322574241777,1.6451750526765232,0.6956399365633431,0.956363328343867,0.7302710074830321,-1.2573823932085553,0.7447904410983072,0.9807128628661349,-0.8936686596498202,-0.34716768072334575,0.7841108447262783,-0.9671686987070524,-0.7607365796602031,-1.149251283231634,1.0055138328788311,0.7742807438192854,0.8136011474472569,1.1674847800989985,0.852921551075228,0.8037710465402641,-1.090270677789677,0.8922419547031994,1.7041556581184802,0.8430914501682354,-0.9034987605568132,0.6563195329353717,0.5383583220514577,-0.9081880932650955,0.852921551075228,1.182455649204702,-0.9526492650917774,-1.1244503132189374,1.5763643463275732,-1.035979405056002,0.8875526219949174,1.251266355553652,0.7007807047620536,0.9708827619591421,-1.0654697077769806,-1.045809505962995,0.7644506429122926,-1.0411201732547128,-1.1787415859526122,-1.1394211823246412,0.961052661052149,-0.9329890632777917,-1.0706104759756914,1.0593536701220772,0.7546205420052998,-0.7560472469519212,-1.2770425950225406,0.7742807438192854,0.7546205420052998,-1.1787415859526122,-1.198401787766598,0.8482322183669461,1.020033266494106,0.8234312483542497,0.6956399365633431,0.8037710465402641,0.96619342925086,0.9217322574241777,0.7892516129249892,0.9413924592381635,0.7644506429122926,-1.247552292301562,0.7841108447262783,-1.4539844113484115,-1.090270677789677,-1.2082318886735905,-0.9769987996140448,-0.9278482950790811,-0.8838385587428277,-1.1197609805106554,-1.1590813841386267,-1.0804405768826841,-0.8492074878231383,1.6156847499555451,0.8136011474472569,0.799081713831982,-0.2095462680254462,1.527213841792609,-0.8197171851021601,-1.0261493041490095,-0.8885278914511098,-0.8393773869161455,-0.1997161671184535,-1.2030911204748802,-0.8197171851021601,1.339737263716587,-0.6231151669623035,-0.25869677256041024,-1.2227513222888657,1.7631362635604373,-0.9133288614638062,0.9512225601451563,-1.0017997696267416,-1.1001007786966697,-0.8740084578358349,1.1969750828199772,1.0593536701220772,-1.306532897743519,-0.9231589623707989,-1.0804405768826841,-1.198401787766598,-0.9919696687197487,0.8627516519822209,0.9315623583311707,0.852921551075228,-1.0017997696267416,1.246125587354941,-1.1099308796036624,-0.8346880542078635,-1.1099308796036624,1.1085041746570417,-0.9428191641847846,-1.1394211823246412,1.187144981912984,0.7447904410983072,-1.188571686859605,-1.1787415859526122,-0.8543482560218493,-1.0607803750686986,-0.48478909342124543,0.7546205420052998,-1.0064891023350235,1.0055138328788311,-1.198401787766598,0.8285720165529604,-1.03129007234772,0.9170429247158959,-1.0804405768826841,0.8384021174599534,1.3895924290947104,0.9956837319718385,0.7546205420052998,-0.8983579923581025,-1.0017997696267416,1.2068051837269698,-1.1342804141259302,-0.9231589623707989,0.7054700374703358,0.9020720556101922,0.7546205420052998,0.8922419547031994,1.1773148810059912,1.1085041746570417,-1.2377221913945693,-1.090270677789677,1.13799447737802,0.852921551075228,0.8725817528892138,1.0102031655871133,0.8824118537962067,0.8430914501682354,-1.2573823932085553,-0.9526492650917774,-1.2377221913945693,0.8627516519822209,-1.0116298705337343,1.4328975045878047,0.9708827619591421,-0.8445181551148565,0.8922419547031994,0.9119021565171851,1.1773148810059912,-1.2278920904875765,0.6071690284004074,-0.8150278523938778,-1.1197609805106554,-1.021459971440727,0.9708827619591421,0.8037710465402641,-0.8590375887301313,0.9315623583311707,0.9956837319718385,-0.8936686596498202,-0.9821395678127559,-1.0752998086839733,0.9315623583311707,1.7729663644674296,-0.9919696687197487,-0.8150278523938778,0.7939409456332711,1.226465385540955,-0.9133288614638062,-1.0509502741617058,-1.0607803750686986,-1.1295910814176482,0.7153001383773286,0.9315623583311707,0.9413924592381635,-1.0607803750686986,0.7054700374703358,-1.149251283231634,0.7302710074830321,0.7546205420052998,0.7499312092970177,-0.3078472770953744,-0.32750747890936016,1.1136449428557524,0.6661496338423646,0.8627516519822209,1.0790138719360631,-1.0851299095909666,-1.1244503132189374,1.7139857590254732,-1.03129007234772,1.0495235692150844,0.8234312483542497,-1.1001007786966697,0.9708827619591421,0.9708827619591421,1.0396934683080916,0.6956399365633431,1.2756158900759196,-0.9624793659987702,-1.188571686859605,-1.0706104759756914,0.9905429637731278,0.9020720556101922,-1.385173704999462,-1.0607803750686986,0.9807128628661349,-0.8543482560218493,1.0593536701220772,-1.2377221913945693,-0.22920646983943185,0.961052661052149,0.961052661052149,0.8580623192739388,0.9268730256228886,-1.0851299095909666,0.68580983565635,-1.2573823932085553,-1.2770425950225406,-1.2180619895805835,-1.0752998086839733,-1.1295910814176482,1.0495235692150844,-1.1001007786966697,1.1576546791920055,-1.0706104759756914,-0.9475084968930666,0.8725817528892138,-1.1099308796036624,-1.188571686859605,-0.18005596530446788,-0.3176773780023672,-1.2522416250098445,0.7742807438192854,-0.8492074878231383,-0.9180181941720883,-0.9624793659987702,-0.5535997997701951,-0.40614828616530285,1.556704144513588,-0.7705666805671959,0.6221398975061112,0.8824118537962067,-0.9278482950790811,1.0546643374137954,1.1627954473907165,-0.9081880932650955,0.9170429247158959,0.9956837319718385,1.2905867591816234,-0.268526873467403,1.7729663644674296,0.9170429247158959,1.3895924290947104,1.1922857501116948,-0.4159783870722957,0.9217322574241777,0.7546205420052998,-1.1295910814176482,0.9170429247158959,-0.8838385587428277,0.7546205420052998,0.9413924592381635,0.852921551075228,-1.1197609805106554,1.1085041746570417,-1.2377221913945693,-1.0411201732547128,-0.805197751486885,0.9413924592381635,-0.9821395678127559,0.8037710465402641,0.7841108447262783,-1.0411201732547128,-1.2082318886735905,0.9315623583311707,0.9512225601451563,-1.0017997696267416,0.9119021565171851,1.020033266494106,-1.1342804141259302,-1.1787415859526122,-0.2095462680254462,-0.337337579816353,1.527213841792609,0.7742807438192854,-0.647916136975,-1.153940615939916,-0.8492074878231383,0.9072128238089029,0.96619342925086,-1.0556396068699876,1.0448342365068026,1.0350041355998099,0.9268730256228886,-1.247552292301562,1.6550051535835164,0.8725817528892138,-1.2573823932085553,-0.42580848797928855,-0.8983579923581025,0.8332613492612423,-1.198401787766598,1.0495235692150844,0.8627516519822209,1.0396934683080916,-1.1689114850456195,-0.8543482560218493,-1.1295910814176482,0.8725817528892138,-1.0017997696267416,0.9119021565171851,0.852921551075228,0.852921551075228,-0.9034987605568132,-0.29801717618838164,1.0593536701220772,0.7695914111110034,0.7841108447262783,1.7631362635604373,-1.045809505962995,-1.1244503132189374,-1.0804405768826841,0.9760235301578526,-0.3668278825373314,1.133305144669738,1.1136449428557524,-0.8492074878231383,-0.9966590014280309,1.6255148508625383,-0.7509064787532103,-0.34716768072334575,0.852921551075228,1.1183342755640344,-1.4441543104414187,0.8973827229019102,1.6648352544905094,0.9020720556101922,-0.9919696687197487,-1.1590813841386267,1.1085041746570417,1.2854459909829123,-1.0607803750686986,-1.0804405768826841,-1.03129007234772,-1.2672124941155476,-1.1001007786966697,-1.2180619895805835,-0.9919696687197487,0.9315623583311707,0.9807128628661349,0.9119021565171851,0.9708827619591421,-1.2082318886735905,1.0593536701220772,-0.8740084578358349,0.9315623583311707,0.7742807438192854,0.7841108447262783,0.9858536310648457,-1.0752998086839733,0.8136011474472569,1.339737263716587,-1.0064891023350235,-1.1441105150329232,-0.6872365406029713,-0.8838385587428277,1.133305144669738,-1.1047901114049519,-1.1787415859526122,-0.4159783870722957,0.7499312092970177,-1.0261493041490095,-1.1295910814176482,0.9807128628661349,1.123475043762745,-0.32750747890936016,1.0546643374137954,0.8824118537962067,-0.9231589623707989,0.9119021565171851,1.1576546791920055,-0.7855375496728995,-1.1295910814176482,-0.9821395678127559,-1.1197609805106554,0.6956399365633431,1.3247663946108836,0.9217322574241777,0.9020720556101922,-0.9624793659987702,1.0691837710290704,-1.149251283231634,1.13799447737802,-1.149251283231634,-1.2967027968365263,1.0102031655871133,-1.1394211823246412,-0.8641783569288422,-1.1394211823246412,0.9020720556101922,0.8973827229019102,-0.9081880932650955,-1.0706104759756914,0.9020720556101922,0.68580983565635,0.7644506429122926,-1.0851299095909666,-1.1197609805106554,-1.1787415859526122,-0.8197171851021601,0.9315623583311707,-0.504449295235231,0.8580623192739388,-1.0607803750686986,-1.0752998086839733,-0.9428191641847846,0.8922419547031994,0.8430914501682354,-0.8492074878231383,0.9807128628661349,-0.986828900521038,1.6156847499555451,1.7238158599324658,1.527213841792609,0.7841108447262783,-0.21937636893243917,-0.6282559351610142,1.3306118236527535,-0.9573385978000597,1.133305144669738,1.0939847410417665,-0.7705666805671959,1.0003730646801205,-0.9475084968930666,0.8332613492612423,-1.1295910814176482,0.9807128628661349,0.7742807438192854,-1.2180619895805835,0.8430914501682354,1.1576546791920055,-1.1001007786966697,-1.2377221913945693,-0.8740084578358349,0.7251302392843214,1.1674847800989985,0.6563195329353717,1.0003730646801205,1.0691837710290704,1.1674847800989985,0.9708827619591421,-1.2082318886735905,1.0003730646801205,0.6268292302143933,-1.035979405056002,1.0743245392277807,-0.9573385978000597,0.9072128238089029,0.9072128238089029,0.9413924592381635,-1.03129007234772,-1.2030911204748802,-1.0017997696267416,0.9119021565171851,0.5088680193304791,0.7546205420052998,0.9315623583311707,-1.2082318886735905,0.8725817528892138,-1.3210523313587936,-1.2868726959295331,0.6759797347493575,-0.9821395678127559,-1.0706104759756914,0.9807128628661349,0.6268292302143933,0.8332613492612423,0.8037710465402641,-0.9769987996140448,-1.1197609805106554,0.961052661052149,1.7533061626534445,-1.0607803750686986,-0.7312462769392246,-1.0017997696267416,-1.0706104759756914,0.6712904020410752,0.9119021565171851,1.0546643374137954,-0.8885278914511098,1.0986740737500489,-0.986828900521038,-1.0411201732547128,-1.198401787766598,0.8234312483542497,-0.9329890632777917,1.0003730646801205,0.9119021565171851,-1.0017997696267416,0.5186981202374721,-1.1394211823246412,0.8725817528892138,-0.7855375496728995,-1.2573823932085553,-0.9133288614638062,1.0743245392277807,1.1773148810059912,-1.0411201732547128,0.8824118537962067,-1.0804405768826841,1.0495235692150844,0.8332613492612423,0.7742807438192854,0.5186981202374721,1.0102031655871133,1.1038148419487592,-0.7509064787532103,0.7054700374703358,1.246125587354941,-0.48478909342124543,-0.5142793961422237,0.9858536310648457,-0.8983579923581025,0.740101108390025,0.8037710465402641,-0.9329890632777917,-0.9329890632777917,-0.878697790544117,-1.2082318886735905,-1.1197609805106554,-1.03129007234772,-1.090270677789677,0.9956837319718385,0.961052661052149,0.7841108447262783,-1.1394211823246412,-0.25869677256041024,0.8627516519822209,0.7742807438192854,0.49903791842348644,-1.0116298705337343,-1.1394211823246412,-0.9919696687197487,0.8824118537962067,0.7644506429122926,0.8824118537962067,-0.7462171460449281,0.8332613492612423,-0.25869677256041024,1.0153439337858239,-1.153940615939916,-0.3176773780023672,-1.2180619895805835,-0.8393773869161455,1.1431352455767307,-1.0163192032420165,1.2657857891689264,-0.8983579923581025,1.300416860088616,-0.3668278825373314,-1.4048339068134474,1.020033266494106,0.8430914501682354,-1.03129007234772,-0.9231589623707989,0.7447904410983072,0.8824118537962067,0.7644506429122926,-1.149251283231634,-0.9919696687197487,0.6759797347493575,0.7742807438192854,0.7841108447262783,-1.0706104759756914,-1.0116298705337343,1.1085041746570417,0.7644506429122926,-0.9133288614638062,1.0790138719360631,0.68580983565635,-1.0411201732547128,-1.090270677789677,0.8627516519822209,-1.1295910814176482,0.7447904410983072,-1.03129007234772,-0.9821395678127559,0.6956399365633431,0.7742807438192854,0.9512225601451563,0.9020720556101922,-1.0411201732547128,0.8430914501682354,0.8136011474472569,0.8234312483542497,0.7939409456332711,-1.2082318886735905,0.8332613492612423,-1.2573823932085553,-0.7560472469519212,0.9119021565171851,-0.6715610106541088,0.9217322574241777,0.9315623583311707,0.7546205420052998,-0.8445181551148565,0.7644506429122926,0.7153001383773286,-1.4638145122554043,0.8922419547031994,1.1576546791920055,0.9119021565171851,-1.021459971440727,-1.1295910814176482,-1.198401787766598,-1.1295910814176482,-0.9526492650917774,0.9020720556101922,0.8136011474472569,0.9020720556101922,-1.434324209534426,0.9413924592381635,-1.0949600104979593,0.852921551075228,-1.2672124941155476,1.0593536701220772,0.9315623583311707,0.852921551075228,0.852921551075228,1.0841546401347735,-0.9034987605568132,0.9119021565171851,-0.9329890632777917,0.7153001383773286,0.8430914501682354,0.9413924592381635,-1.2770425950225406,-1.2180619895805835,0.8037710465402641,-1.2967027968365263,1.147824578285013,0.7546205420052998,-1.0607803750686986,1.0790138719360631,-1.0607803750686986,-1.0163192032420165,0.799081713831982,-0.3569977816303385,1.1281643764710272,0.9119021565171851,-1.2082318886735905,1.3542566973318622,-1.3655135031854762,0.8136011474472569,0.7939409456332711,1.0644944383207882,0.852921551075228,0.852921551075228,0.7939409456332711,0.799081713831982,-1.1001007786966697,-1.0509502741617058,0.7302710074830321,-1.021459971440727,-0.8838385587428277,1.0790138719360631,1.0495235692150844,0.961052661052149,0.8332613492612423,0.9905429637731278,1.0743245392277807,-0.9329890632777917,0.8187419156459675,1.1576546791920055,0.7841108447262783,-1.0949600104979593,-1.0116298705337343,1.0743245392277807,0.9760235301578526,0.9807128628661349,-0.504449295235231,-0.878697790544117,-0.5437696988632024,-0.6813911115611015,-1.0017997696267416,-0.9081880932650955,1.7041556581184802,0.9413924592381635,-0.7607365796602031,0.7644506429122926,-0.9034987605568132,-1.1001007786966697,0.8187419156459675,-1.0706104759756914,-0.8936686596498202,0.9807128628661349,-1.198401787766598,-1.149251283231634,0.8922419547031994,0.9367031265298817,-0.8885278914511098,-0.805197751486885,-0.8248579533008707,-1.0261493041490095,1.2021158510186876,-0.5535997997701951,1.6746653553975022,0.8725817528892138,-0.5784007697828915,-1.2424115241028515,0.6563195329353717,-1.0851299095909666,-0.25869677256041024,-1.0851299095909666,0.8627516519822209,1.226465385540955,-0.3569977816303385,-1.0064891023350235,-1.0261493041490095,0.7546205420052998,1.7729663644674296,1.0743245392277807,-0.8000569832881741,-0.5437696988632024,1.2217760528326733,-1.1197609805106554,0.7644506429122926,-1.149251283231634,-0.9329890632777917,1.1281643764710272,-0.972309466905763,1.0102031655871133,0.68580983565635,-1.021459971440727,0.8234312483542497,0.6956399365633431,-0.9624793659987702,-1.03129007234772,0.961052661052149,0.8430914501682354,0.5088680193304791,-0.6675763387889856,0.7546205420052998,0.9020720556101922,-1.0804405768826841,1.0495235692150844,-0.9526492650917774,-0.9428191641847846,1.0495235692150844,1.2362954864479483,-0.8543482560218493,-0.9919696687197487,-1.0017997696267416,0.6268292302143933,0.961052661052149,-0.8492074878231383,0.8430914501682354,1.5468740436065949,0.956363328343867,0.7447904410983072,0.8824118537962067,-1.1244503132189374,-1.153940615939916,-1.2817319277308226,-0.6919258733112534,-0.5437696988632024,0.8973827229019102,0.7742807438192854,-0.3176773780023672,-1.1441105150329232,0.8973827229019102,0.6909506038550609,-1.0509502741617058,0.9268730256228886,-1.212921221381873,-1.149251283231634,-0.8000569832881741,1.0743245392277807,1.0743245392277807,-0.7803967814741889,1.182455649204702,-1.0804405768826841,0.8136011474472569,0.8922419547031994,-1.03129007234772,0.8234312483542497,-1.2868726959295331,0.8627516519822209,-1.1689114850456195,0.9807128628661349,0.8430914501682354,1.020033266494106,0.7644506429122926,-1.0607803750686986,0.9512225601451563,-0.7855375496728995,-1.2180619895805835,-1.3458533013714906,0.9072128238089029,0.9905429637731278,-0.9329890632777917,1.0546643374137954,-1.0509502741617058,-0.3668278825373314,1.0644944383207882,-0.8000569832881741,0.681120502948068,-0.9278482950790811,1.7041556581184802,-0.8295472860091527,1.1431352455767307,-0.24886667165341758,0.8136011474472569,-0.3668278825373314,-1.1197609805106554,0.8136011474472569,0.9708827619591421,0.7251302392843214,0.9170429247158959,0.8037710465402641,-1.1590813841386267,-1.424494108627433,-1.2770425950225406,1.4485730345366672,0.799081713831982,-1.3112222304518009,-1.1146202123119446,0.7939409456332711,-1.090270677789677,-0.6675763387889856,0.8725817528892138,0.8725817528892138,-1.0116298705337343,-1.1001007786966697,0.68580983565635,-1.2278920904875765,-1.1590813841386267,-1.0064891023350235,0.8922419547031994,-1.0804405768826841,-1.03129007234772,-1.2770425950225406,0.8332613492612423,0.7251302392843214,-1.2082318886735905,-1.03129007234772,1.8122867680954018,-1.1441105150329232,-1.2082318886735905,-1.1736008177539017,-1.1441105150329232,-1.0556396068699876,0.9413924592381635,-1.1590813841386267,-1.2770425950225406,1.0495235692150844,-0.7658773478589136,0.9807128628661349,-1.198401787766598,-1.1689114850456195,-0.9081880932650955,1.1627954473907165,-0.22920646983943185,-1.1099308796036624,-0.7214161760322318,1.0350041355998099,-0.9475084968930666,1.1038148419487592,1.1627954473907165,0.7251302392843214,-0.5437696988632024,-1.1736008177539017,0.8384021174599534,-0.7017559742182462,0.8482322183669461,-1.0851299095909666,0.7302710074830321,-1.1441105150329232,-0.7214161760322318,-1.0556396068699876,-0.337337579816353,0.9956837319718385,1.0350041355998099,1.13799447737802,-1.2620717259168373,1.0691837710290704,-1.0654697077769806,-1.198401787766598,0.96619342925086,1.5173837408856163,-0.9428191641847846,0.7054700374703358,0.8627516519822209,-1.2672124941155476,-1.188571686859605,-1.03129007234772,0.7939409456332711,-1.3261930995575046,0.8332613492612423,1.0396934683080916,-0.9034987605568132,1.0691837710290704,-0.9231589623707989,-1.1689114850456195,-1.1787415859526122,-1.2377221913945693,-1.2672124941155476,0.8332613492612423,0.9413924592381635,-1.2377221913945693,0.68580983565635,-1.4736446131623973,0.8234312483542497,-1.4048339068134474,-1.247552292301562,-0.9329890632777917,-1.090270677789677,-1.0607803750686986,0.9807128628661349,-0.9133288614638062,0.7841108447262783,0.9413924592381635,1.1281643764710272,0.9119021565171851,1.088843972843056,-1.1197609805106554,-1.0804405768826841,0.8824118537962067,1.0691837710290704,0.68580983565635,0.7546205420052998,-1.1001007786966697,0.9217322574241777,-1.198401787766598,0.8725817528892138,0.8627516519822209,-1.149251283231634,-1.188571686859605,0.8922419547031994,1.0593536701220772,0.7054700374703358,1.0003730646801205,0.7447904410983072,-0.8445181551148565,0.7841108447262783,-1.1197609805106554,1.088843972843056,0.852921551075228,-1.2278920904875765,0.9413924592381635,1.1281643764710272,0.8234312483542497,0.8725817528892138,-1.0411201732547128,-0.9526492650917774,-1.4048339068134474,0.8234312483542497,-1.188571686859605,-1.0116298705337343,-1.021459971440727,-1.0706104759756914,0.9119021565171851,0.8824118537962067,-1.1099308796036624,0.7742807438192854,0.49903791842348644,0.8627516519822209,0.7546205420052998,-0.9919696687197487,1.2657857891689264,-1.1590813841386267,0.7644506429122926,1.0396934683080916,0.6268292302143933,1.187144981912984,0.8136011474472569,0.8922419547031994,0.8136011474472569,-1.247552292301562,0.9217322574241777,0.9512225601451563,-1.0804405768826841,-1.1001007786966697,1.0495235692150844,0.961052661052149,0.8824118537962067,0.852921551075228,0.9807128628661349,0.961052661052149,0.8627516519822209,1.0003730646801205,1.1281643764710272,0.7546205420052998,-1.1001007786966697,0.8136011474472569,0.8430914501682354,-1.03129007234772,1.0495235692150844,0.9708827619591421,0.8430914501682354,1.020033266494106,1.020033266494106,0.7546205420052998,-1.0509502741617058,0.9217322574241777,0.852921551075228,0.7742807438192854,1.1576546791920055,0.7841108447262783,0.48920781751649384,0.8725817528892138,0.852921551075228,0.8332613492612423,0.8725817528892138,0.8332613492612423,-1.2082318886735905,0.8824118537962067,1.0790138719360631,1.13799447737802,0.8037710465402641,0.9512225601451563,0.8627516519822209,-1.1295910814176482,0.852921551075228,-1.1197609805106554,0.9413924592381635,1.0102031655871133,0.7742807438192854,-1.198401787766598,-1.1394211823246412,-0.6872365406029713,1.088843972843056,-1.0607803750686986,-1.4638145122554043,-1.0017997696267416,-1.247552292301562,-0.9526492650917774,0.7447904410983072,0.7153001383773286,1.0946894018849254,0.7644506429122926,0.8037710465402641,1.2657857891689264,0.9905429637731278,0.8725817528892138,0.9807128628661349,-1.1197609805106554,-1.1295910814176482,-1.1001007786966697,-1.2868726959295331,-1.1787415859526122,0.9413924592381635,0.852921551075228,0.7251302392843214,1.1183342755640344,-0.9329890632777917,0.7153001383773286,0.8824118537962067,0.9807128628661349,-1.0116298705337343,0.8037710465402641,0.7742807438192854,0.852921551075228,0.7939409456332711,1.1183342755640344,1.0102031655871133,0.5285282211444648,-0.8248579533008707,0.7939409456332711,-0.9624793659987702,0.8627516519822209,1.2166352846339623,0.5285282211444648,0.49903791842348644,0.7939409456332711,0.9315623583311707,0.9119021565171851,-1.2770425950225406,0.9512225601451563,0.9020720556101922,0.8824118537962067,-1.2278920904875765,-0.7560472469519212,0.9413924592381635,-1.2672124941155476,-1.1787415859526122,0.68580983565635,0.961052661052149,-1.1099308796036624,-0.9428191641847846,0.7644506429122926,0.7251302392843214,1.1576546791920055,-0.8641783569288422,-0.9624793659987702,1.1281643764710272,-0.9919696687197487,0.8725817528892138,0.8037710465402641,-1.2180619895805835,-1.1197609805106554,0.9119021565171851,0.7546205420052998,-0.7658773478589136,0.8430914501682354,1.0003730646801205,0.8627516519822209,-0.8641783569288422,0.8627516519822209,-1.198401787766598,0.961052661052149,0.7447904410983072,-1.0804405768826841,0.9315623583311707,0.961052661052149,-0.9133288614638062,-1.1001007786966697,-1.247552292301562,1.020033266494106,-1.1295910814176482,-1.0804405768826841,-1.021459971440727,-1.1590813841386267,-0.9624793659987702,0.9119021565171851,-1.1590813841386267,0.68580983565635,-0.972309466905763,0.7939409456332711,0.68580983565635,1.2756158900759196,-1.198401787766598,0.852921551075228,-1.2082318886735905,0.9905429637731278,0.6464894320283787,-0.8590375887301313,-1.2770425950225406,0.8332613492612423,0.7054700374703358,0.8136011474472569,-0.9919696687197487,-1.0607803750686986,0.852921551075228,1.0003730646801205,1.0495235692150844,0.7546205420052998,0.9119021565171851,0.8922419547031994,0.8430914501682354,-1.2377221913945693,1.0298633674010989,1.088843972843056,0.7153001383773286,0.8922419547031994,-1.1394211823246412,0.8824118537962067,-1.2082318886735905,0.9708827619591421,0.8725817528892138,-1.0509502741617058,-0.4749589925142526,-1.188571686859605,-1.188571686859605,0.7251302392843214,0.7349603401913143,0.7644506429122926,1.0986740737500489,0.9807128628661349,-1.021459971440727,0.7153001383773286,0.9708827619591421,0.7349603401913143,1.0986740737500489,-1.1001007786966697,0.636659331121386,-1.0804405768826841,-1.1787415859526122,-0.9526492650917774,0.6759797347493575,0.7939409456332711,0.8627516519822209,-0.8740084578358349,-1.0509502741617058,0.8430914501682354,-0.7462171460449281,0.9905429637731278,-1.03129007234772,0.8430914501682354,0.8627516519822209,-0.8150278523938778,-1.2278920904875765,-1.0804405768826841,0.8332613492612423,0.7251302392843214,-1.1099308796036624,-1.1394211823246412,1.0102031655871133,0.8234312483542497,-1.1197609805106554,-1.188571686859605,-1.2377221913945693,0.9217322574241777,-1.1590813841386267,0.7939409456332711,0.8234312483542497,-0.9428191641847846,0.7939409456332711,1.0102031655871133,-1.1689114850456195,0.8332613492612423,-1.2082318886735905,-1.1394211823246412,1.13799447737802,0.7251302392843214,-1.0607803750686986,0.7251302392843214,0.9512225601451563,1.1576546791920055,1.7631362635604373,0.7644506429122926,0.7742807438192854,1.1922857501116948,0.7349603401913143,-1.1787415859526122,-1.434324209534426,0.7841108447262783,1.0495235692150844,-1.3163629986505119,-0.7462171460449281,0.6661496338423646,1.0495235692150844,0.7153001383773286,-1.1787415859526122,0.8725817528892138,-1.0017997696267416,0.8824118537962067,-1.1197609805106554,1.1674847800989985,0.9217322574241777,-1.247552292301562,0.9119021565171851,0.681120502948068,1.1576546791920055,0.7644506429122926,-1.2180619895805835,0.8234312483542497,-1.2868726959295331,0.8627516519822209,0.8332613492612423,0.9217322574241777,1.1922857501116948,1.1529653464837235,-1.2573823932085553,0.6661496338423646,-1.2082318886735905,0.9119021565171851,-1.0509502741617058,0.68580983565635,0.7447904410983072,0.7447904410983072,-0.7509064787532103,-1.1001007786966697,0.68580983565635,0.9512225601451563,-1.2770425950225406,0.7644506429122926,1.0396934683080916,-1.1001007786966697,0.8430914501682354,-1.03129007234772,-0.9671686987070524,-1.1295910814176482,-1.3163629986505119,0.9217322574241777,-1.090270677789677,1.4780633372576455,-1.090270677789677,0.7251302392843214,0.9413924592381635,-1.2180619895805835,-1.0607803750686986,0.9020720556101922,0.7349603401913143,0.6956399365633431,0.8037710465402641,0.8234312483542497,0.6661496338423646,1.1183342755640344,0.9020720556101922,0.7841108447262783,1.0691837710290704,-0.8543482560218493,-0.8248579533008707,0.9315623583311707,-1.1295910814176482,-1.4736446131623973,-0.7757074487659066,0.7251302392843214,-1.0509502741617058,-0.8346880542078635,0.9020720556101922,-1.2278920904875765,0.8136011474472569,1.0790138719360631,-0.9133288614638062,0.9512225601451563,-0.9821395678127559,1.2657857891689264,1.2709265573676376,0.7349603401913143,0.9217322574241777,0.7742807438192854,0.961052661052149,0.8824118537962067,-1.2278920904875765,-1.2672124941155476,-1.1099308796036624,-1.1590813841386267,-0.9034987605568132,-1.1689114850456195,1.0593536701220772,1.0396934683080916,0.9217322574241777,-1.1001007786966697,1.147824578285013,1.6156847499555451,-0.7607365796602031,-0.7902268823811814,1.1085041746570417,-1.0411201732547128,0.8824118537962067,-1.090270677789677,0.8136011474472569,-1.0804405768826841,-1.188571686859605,0.9020720556101922,-1.0706104759756914,-1.2180619895805835,-1.03129007234772,-1.3655135031854762,-1.1295910814176482,0.8627516519822209,0.9020720556101922,0.9020720556101922,-0.8936686596498202,-0.9624793659987702,-0.9919696687197487,-0.8936686596498202,0.9413924592381635,-1.2672124941155476,-1.0116298705337343,-1.4638145122554043,-0.6427753687762892,0.8725817528892138,-0.28818707528138904,1.2119459519256803,0.8187419156459675,1.2021158510186876,-1.1689114850456195,1.6451750526765232,-1.0064891023350235,-1.035979405056002,-1.2377221913945693,1.3593974655305727,0.9858536310648457,-0.9180181941720883,1.2316061537396659,0.740101108390025,-1.0261493041490095,0.8777225210879245,0.8037710465402641,1.0396934683080916,-0.8590375887301313,-0.622410506119145,0.9072128238089029,-0.9278482950790811,0.8037710465402641,1.1085041746570417,1.1281643764710272,1.1183342755640344,0.9119021565171851,-0.8346880542078635,-1.247552292301562,-1.1394211823246412,-1.1590813841386267,-1.2817319277308226,-0.795367650579892,-1.0411201732547128,0.7153001383773286,1.13799447737802,-1.4638145122554043,0.7939409456332711,1.1281643764710272,-0.4159783870722957,-1.0706104759756914,-1.0064891023350235,-1.0654697077769806,-1.035979405056002,0.7546205420052998,-1.2180619895805835,-0.9329890632777917,0.8678924201809317,0.7349603401913143,-1.2278920904875765,0.8824118537962067,0.9217322574241777,-1.1197609805106554,1.13799447737802,0.961052661052149,-1.0411201732547128,1.020033266494106,0.9413924592381635,1.7434760617464513,1.4190827318156882,1.1183342755640344,0.7597613102040105,0.8627516519822209,-1.1689114850456195,-1.1689114850456195,0.8824118537962067,0.7546205420052998,-1.2180619895805835,0.8627516519822209,-1.188571686859605,-0.8983579923581025,-1.090270677789677,0.9072128238089029,-1.1244503132189374,-1.1637707168469087,0.7841108447262783,-1.1787415859526122,0.7644506429122926,-0.878697790544117,0.8824118537962067,1.0939847410417665,0.6956399365633431,0.7546205420052998,-1.1295910814176482,-1.2573823932085553,-0.8346880542078635,-0.9081880932650955,-0.8983579923581025,0.7695914111110034,-0.9180181941720883,1.63020418357082,1.0055138328788311,1.0644944383207882,-0.9671686987070524,1.182455649204702,-1.0752998086839733,0.9465332274368744,-0.878697790544117,-0.9769987996140448,0.7447904410983072,-1.0949600104979593,-0.7803967814741889,1.6353449517695304,1.147824578285013,-0.8590375887301313,-1.188571686859605,0.8922419547031994,0.852921551075228,0.8922419547031994,-1.2573823932085553,-1.0017997696267416,0.852921551075228,0.7742807438192854,0.8824118537962067,-1.021459971440727,-1.2377221913945693,-0.8543482560218493,-1.149251283231634,-1.1590813841386267,0.7349603401913143,-1.1295910814176482,0.8037710465402641,0.9217322574241777,-0.8543482560218493,0.7447904410983072,-1.1787415859526122,-0.9966590014280309,0.8430914501682354,-1.1394211823246412,1.0593536701220772,0.9708827619591421,0.9119021565171851,-1.0654697077769806,-0.4749589925142526,-0.8590375887301313,-1.1394211823246412,-0.8295472860091527,0.8234312483542497,0.9956837319718385,0.7546205420052998,-1.2377221913945693,-0.9526492650917774,1.0298633674010989,-1.198401787766598,-0.672265671497268,-1.03129007234772,0.8922419547031994,-1.0411201732547128,0.8725817528892138,0.7153001383773286,0.9512225601451563,-1.1099308796036624,-1.1394211823246412,1.6498643853848054,0.7447904410983072,0.7742807438192854,0.7054700374703358,-1.149251283231634,-1.1590813841386267,-0.8838385587428277,-0.9526492650917774,0.852921551075228,-1.41466400772044,-0.8543482560218493,0.7644506429122926,1.0396934683080916,-1.149251283231634,0.9020720556101922,0.8332613492612423,0.9315623583311707,0.9905429637731278,0.9217322574241777,0.68580983565635,0.9708827619591421,0.7644506429122926,-1.1441105150329232,-0.622410506119145,0.9905429637731278,-1.0706104759756914,0.7742807438192854,-1.0509502741617058,-0.795367650579892,-0.9526492650917774,1.1281643764710272,-1.306532897743519,-1.090270677789677,-1.0804405768826841,0.7644506429122926,-1.198401787766598,-1.3950038059064545,0.7742807438192854,-1.0706104759756914,-1.0804405768826841,-1.188571686859605,-1.0804405768826841,0.9708827619591421,-1.1441105150329232,1.123475043762745,0.6268292302143933,0.9315623583311707,0.48920781751649384,0.9268730256228886,-0.7214161760322318,-0.8098870841951672,-0.9769987996140448,1.782796465374423,0.9807128628661349,0.7892516129249892,-0.3569977816303385,0.6169991293074003,-1.2180619895805835,-0.9231589623707989,-0.8936686596498202,-0.3963181852583099,1.0396934683080916,-1.1590813841386267,0.8037710465402641,-1.0706104759756914,0.8136011474472569,-0.9231589623707989,-0.9231589623707989,1.3247663946108836,0.5973389274934148,-1.2377221913945693,0.6169991293074003,1.3542566973318622,-1.0411201732547128,0.8332613492612423,-1.1197609805106554,1.0298633674010989,1.0691837710290704,-1.188571686859605,-0.8445181551148565,-0.972309466905763,0.7939409456332711,-1.306532897743519,-1.0804405768826841,0.8922419547031994,-1.188571686859605,-1.2377221913945693,-1.1295910814176482,-0.9133288614638062,0.7251302392843214,0.9315623583311707,-1.0804405768826841,0.6909506038550609,-1.0804405768826841,0.7939409456332711,-0.711586075125239,-0.9671686987070524,0.8037710465402641,0.9315623583311707,0.9413924592381635,-0.9966590014280309,0.8627516519822209,-1.188571686859605,0.9413924592381635,0.8136011474472569,-1.198401787766598,0.7939409456332711,-1.2377221913945693,-0.8543482560218493,1.0691837710290704,0.8430914501682354,0.9119021565171851,0.9708827619591421,0.8725817528892138,0.9119021565171851,-1.198401787766598,0.7153001383773286,-1.1689114850456195,-1.2573823932085553,0.6268292302143933,1.0691837710290704,0.8136011474472569,0.8234312483542497,-1.1001007786966697,0.7742807438192854,-0.9428191641847846,0.9708827619591421,0.9807128628661349,-1.1787415859526122,-0.972309466905763,-0.9821395678127559,-0.9231589623707989,-1.1197609805106554,-1.0804405768826841,0.8234312483542497,1.1183342755640344,-1.0706104759756914,0.7251302392843214,0.7349603401913143,-1.306532897743519,-0.9376783959860739,-0.8248579533008707,0.9119021565171851,0.7644506429122926,-0.8740084578358349,-1.0804405768826841,-1.1099308796036624,-1.1099308796036624,1.0298633674010989,0.7742807438192854,0.7841108447262783,0.8234312483542497,0.7742807438192854,-1.149251283231634,0.7939409456332711,0.681120502948068,0.7939409456332711,0.9119021565171851,-0.9966590014280309,0.6268292302143933,-1.2082318886735905,0.7054700374703358,-1.1001007786966697,1.2952760918899053,1.2756158900759196,1.0102031655871133,0.9119021565171851,0.7794215120179963,-1.1834309186608947,-1.1590813841386267,0.7349603401913143,-0.8838385587428277,1.1529653464837235,-1.021459971440727,1.4977235390716315,-1.1787415859526122,0.6956399365633431,1.0153439337858239,0.7546205420052998,0.9956837319718385,1.1281643764710272,0.8234312483542497,-1.198401787766598,0.8384021174599534,0.7251302392843214,-1.2573823932085553,1.0495235692150844,-0.7902268823811814,-1.434324209534426,0.8136011474472569,-1.1787415859526122,-0.9526492650917774,0.5973389274934148,0.9708827619591421,-0.9769987996140448,-0.8492074878231383,-1.149251283231634,-0.8838385587428277,-1.1394211823246412,0.9315623583311707,0.9315623583311707,-0.8197171851021601,0.852921551075228,0.7742807438192854,0.9020720556101922,0.5973389274934148,-0.8590375887301313,-1.045809505962995,0.7742807438192854,0.8037710465402641,0.5580185238654435,1.0691837710290704,-1.0017997696267416,-0.9133288614638062,0.852921551075228,0.9760235301578526,-1.1197609805106554,0.8037710465402641,1.0495235692150844,0.8187419156459675,0.9315623583311707,0.7939409456332711,0.8037710465402641,0.7546205420052998,0.7939409456332711,-1.03129007234772,-0.4159783870722957,-1.2082318886735905,-0.9231589623707989,0.5186981202374721,1.3640867982388551,0.7644506429122926,-1.1295910814176482,1.0790138719360631,0.7742807438192854,1.147824578285013,-1.1394211823246412,-1.0064891023350235,-1.1295910814176482,-1.0116298705337343,1.172625548297709,1.0743245392277807,1.6648352544905094,-1.2424115241028515,-0.9180181941720883,-0.9278482950790811,-1.1342804141259302,-1.1047901114049519,-0.45529879070026713,-1.2030911204748802,0.8973827229019102,-0.7902268823811814,-0.9966590014280309,-1.0949600104979593,1.133305144669738,0.8678924201809317,-0.8346880542078635,-0.268526873467403,0.9170429247158959,-1.0064891023350235,0.8922419547031994,-1.0509502741617058,-1.090270677789677,-0.9329890632777917,0.8332613492612423,-1.03129007234772,-1.021459971440727,0.8136011474472569,1.0986740737500489,-0.9034987605568132,0.8725817528892138,0.48920781751649384,0.5186981202374721,0.7546205420052998,0.8430914501682354,-1.3950038059064545,0.8430914501682354,0.7447904410983072,0.7742807438192854,-1.0752998086839733,1.020033266494106,-0.972309466905763,-1.045809505962995,-0.8885278914511098,-1.2719018268238298,1.0743245392277807,-0.4749589925142526,-1.035979405056002,1.0350041355998099,1.6746653553975022,-1.153940615939916,-0.9573385978000597,1.1038148419487592,1.0644944383207882,-0.6624355705902752,-0.7607365796602031,-0.9966590014280309,0.9367031265298817,-0.9376783959860739,-0.8000569832881741,-1.1637707168469087,-0.8485028269799797,0.6563195329353717,0.6563195329353717,0.9315623583311707,0.852921551075228,-0.9231589623707989,0.8725817528892138,0.7054700374703358,0.7251302392843214,0.7251302392843214,-1.4441543104414187,1.1529653464837235,1.1038148419487592,-0.8492074878231383,1.0350041355998099,-1.0064891023350235,-0.9376783959860739,-1.0261493041490095,1.0350041355998099,-0.9573385978000597,-0.8688676896371239,-1.0949600104979593,1.2905867591816234,0.9956837319718385,1.7926265662814156,0.7447904410983072,-1.0804405768826841,-1.2082318886735905,0.8725817528892138,-1.090270677789677,-1.4048339068134474,0.9512225601451563,0.6909506038550609,-0.9919696687197487,0.9119021565171851,1.1085041746570417,-0.7855375496728995,0.8627516519822209,-1.149251283231634,-0.706896742416957,0.8725817528892138,-1.1394211823246412,1.1773148810059912,-0.8346880542078635,0.9119021565171851,-1.0607803750686986,-1.41466400772044,1.0102031655871133,1.0003730646801205,1.0691837710290704,0.8922419547031994,-0.9133288614638062,-0.8641783569288422,-1.1590813841386267,0.7153001383773286,1.0003730646801205,0.852921551075228,1.0298633674010989,1.1085041746570417,-1.0411201732547128,-0.9231589623707989,-1.0411201732547128,1.0691837710290704,-1.198401787766598,0.6169991293074003,0.6464894320283787,-0.8150278523938778,-1.1001007786966697,-1.0706104759756914,0.7939409456332711,-0.9919696687197487,0.961052661052149,1.0003730646801205,1.020033266494106,0.9119021565171851,-0.8936686596498202,0.9708827619591421,0.8136011474472569,0.7742807438192854,-0.8150278523938778,0.7447904410983072,0.9020720556101922,0.8824118537962067,0.9807128628661349,0.9315623583311707,-1.198401787766598,0.5088680193304791,-0.8248579533008707,0.7349603401913143,0.961052661052149,-1.2573823932085553,0.852921551075228,-0.8936686596498202,0.7742807438192854,-1.0607803750686986,-0.7658773478589136,1.088843972843056,0.8725817528892138,0.6071690284004074,-1.198401787766598,0.8037710465402641,0.7251302392843214,1.1281643764710272,0.9315623583311707,-0.8346880542078635,0.6759797347493575,-1.1197609805106554,1.0593536701220772,-1.1787415859526122,0.9119021565171851,-1.1689114850456195,0.7251302392843214,-0.8543482560218493,-1.0411201732547128,0.9512225601451563,-1.1001007786966697,1.0495235692150844,1.1576546791920055,-1.1689114850456195,0.8725817528892138,-1.2278920904875765,1.3247663946108836,-0.9428191641847846,-1.2082318886735905,0.7251302392843214,-1.0804405768826841,-0.8838385587428277,0.8136011474472569,0.9119021565171851,0.9119021565171851,1.0790138719360631,1.0790138719360631,0.7251302392843214,-0.9919696687197487,0.7447904410983072,-1.198401787766598,0.9119021565171851,-1.385173704999462,-1.149251283231634,1.0102031655871133,-0.9769987996140448,-1.03129007234772,-1.0064891023350235,0.8430914501682354,0.8037710465402641,1.0986740737500489,1.0003730646801205,0.852921551075228,-1.2573823932085553,0.8725817528892138,0.8627516519822209,-1.149251283231634,0.8922419547031994,0.852921551075228,-1.4638145122554043,0.49903791842348644,0.9708827619591421,-1.0411201732547128,0.961052661052149,0.9708827619591421,-1.090270677789677,-1.2573823932085553,-1.0804405768826841,-0.795367650579892,0.9708827619591421,0.7153001383773286,0.8234312483542497,0.8430914501682354,0.8725817528892138,0.9905429637731278,0.9020720556101922,0.7939409456332711,0.8430914501682354,-1.2377221913945693,0.8725817528892138,0.9020720556101922,-1.0706104759756914,0.9020720556101922,0.7153001383773286,0.8234312483542497,-0.805197751486885,0.636659331121386,-0.805197751486885,0.9217322574241777,-1.2770425950225406,0.8136011474472569,-1.1394211823246412,0.9807128628661349,0.852921551075228,0.7153001383773286,-1.1197609805106554,1.0593536701220772,0.7447904410983072,0.8037710465402641,0.7447904410983072,0.961052661052149,0.8725817528892138,1.1773148810059912,-1.1001007786966697,0.7054700374703358,0.9217322574241777,-0.7265569442309426,-1.198401787766598,0.8136011474472569,-1.2180619895805835,0.7251302392843214,-0.8150278523938778,0.852921551075228,0.8332613492612423,-1.1787415859526122,0.8725817528892138,1.0003730646801205,0.8725817528892138,-1.4048339068134474,0.9268730256228886,1.0298633674010989,1.0396934683080916,0.8037710465402641,-1.0804405768826841,1.0986740737500489,1.4780633372576455,0.8037710465402641,0.9315623583311707,-0.40614828616530285,0.7153001383773286,-1.1197609805106554,0.6661496338423646,-0.9231589623707989,0.7054700374703358,0.7546205420052998,0.7742807438192854,-1.021459971440727,1.255955688261934,1.0593536701220772,0.8136011474472569,-1.1001007786966697,-1.2180619895805835,-1.4539844113484115,-1.0804405768826841,1.1281643764710272,1.1085041746570417,-1.1001007786966697,1.0593536701220772,-1.1001007786966697,0.8332613492612423,0.7349603401913143,0.6956399365633431,0.7742807438192854,-1.149251283231634,-1.1001007786966697,-1.2082318886735905,-1.03129007234772,-0.8983579923581025,-0.8740084578358349,0.7939409456332711,0.9119021565171851,0.7742807438192854,0.8627516519822209,1.1576546791920055,0.7742807438192854,0.8482322183669461,-1.149251283231634,0.7841108447262783,-1.424494108627433,-1.1590813841386267,-1.1197609805106554,0.8922419547031994,0.7054700374703358,-0.9133288614638062,0.7054700374703358,0.7644506429122926,-1.1099308796036624,0.7742807438192854,0.7644506429122926,0.6071690284004074,-1.090270677789677,-1.2278920904875765,0.9020720556101922,1.0298633674010989,0.9905429637731278,-1.149251283231634,-1.149251283231634,-1.1394211823246412,-1.0804405768826841,0.852921551075228,0.7644506429122926,-1.1197609805106554,0.852921551075228,0.6759797347493575,0.7054700374703358,0.8136011474472569,0.7447904410983072,0.7546205420052998,0.8037710465402641,-1.1394211823246412,0.8627516519822209,-1.03129007234772,0.8430914501682354,-0.9624793659987702,-1.306532897743519,1.5861944472345662,-1.1001007786966697,-1.0509502741617058,0.9217322574241777,0.852921551075228,0.7841108447262783,0.8234312483542497,-1.1295910814176482,0.7153001383773286,0.7546205420052998,0.8136011474472569,0.7841108447262783,1.1136449428557524,-1.247552292301562,-1.0607803750686986,-0.9526492650917774,-0.9133288614638062,-1.0411201732547128,0.9512225601451563,-0.9919696687197487,-1.1590813841386267,1.1674847800989985,0.9020720556101922,0.7644506429122926,0.9119021565171851,1.2362954864479483,0.8136011474472569,-1.1295910814176482,1.020033266494106,-1.1001007786966697,1.7533061626534445,0.7794215120179963,-0.4749589925142526,-0.9329890632777917,-1.021459971440727,-1.149251283231634,-1.2770425950225406,-1.188571686859605,0.6759797347493575,-1.2672124941155476,0.8136011474472569,-1.1689114850456195,-0.9821395678127559,0.7349603401913143,1.0495235692150844,1.0495235692150844,0.9217322574241777,-1.424494108627433,-1.1099308796036624,0.6661496338423646,-1.2082318886735905,-0.9919696687197487,0.9119021565171851,-0.6519008088401236,0.8037710465402641,0.9020720556101922,-0.9231589623707989,0.7251302392843214,0.8824118537962067,0.7939409456332711,-0.8346880542078635,-1.4638145122554043,-1.1295910814176482,-1.021459971440727,0.7939409456332711,-0.9966590014280309,1.2414362546466589,-1.0116298705337343,0.7841108447262783,0.6614603011340825,-1.1394211823246412,0.8332613492612423,0.7939409456332711,0.8580623192739388,-1.1637707168469087,0.9465332274368744,-1.153940615939916,-1.153940615939916,1.5468740436065949,-0.9573385978000597,1.6550051535835164,0.956363328343867,-1.035979405056002,-1.0654697077769806,-0.37665798344432433,-1.0556396068699876,-0.3176773780023672,1.4780633372576455,1.187144981912984,-1.212921221381873,1.1922857501116948,-1.035979405056002,1.1922857501116948,-1.0851299095909666,-1.1736008177539017,1.63020418357082,-1.045809505962995,-0.4356385888862813,1.3895924290947104,-1.0261493041490095,0.8875526219949174,1.1529653464837235,1.182455649204702,1.0448342365068026,0.9905429637731278,-0.986828900521038,-1.2325814231958585,-0.7705666805671959,1.3404419245597459,1.4584031354436595,1.6156847499555451,1.527213841792609,-0.9526492650917774,-1.3603727349867654,1.0055138328788311,-1.1146202123119446,0.8332613492612423,-0.3668278825373314,-0.9278482950790811,1.0644944383207882,-1.306532897743519,-1.1099308796036624,-1.149251283231634,0.5678486247724363,-1.1590813841386267,-1.1590813841386267,0.852921551075228,0.5186981202374721,0.7251302392843214,-1.2278920904875765,0.6268292302143933,-1.0411201732547128,-1.03129007234772,-0.8445181551148565,0.7349603401913143,-0.7757074487659066,0.7251302392843214,-0.9919696687197487,0.68580983565635,-1.03129007234772,-1.03129007234772,0.8627516519822209,-0.805197751486885,-1.1787415859526122,-1.0017997696267416,0.6563195329353717,-0.9821395678127559,0.5186981202374721,-0.9919696687197487,-0.7462171460449281,0.9413924592381635,-1.0607803750686986,1.0691837710290704,-0.972309466905763,-1.1590813841386267,0.7054700374703358,1.1674847800989985,0.5580185238654435,1.0003730646801205,0.961052661052149,0.7349603401913143,-0.8641783569288422,1.1576546791920055,0.6169991293074003,-1.0607803750686986,-1.0411201732547128,-1.3655135031854762,0.8725817528892138,0.7841108447262783,0.8234312483542497,-1.2573823932085553,-1.4539844113484115,-0.9428191641847846,-1.0017997696267416,1.1576546791920055,-1.0706104759756914,0.9807128628661349,-0.972309466905763,-1.0017997696267416,0.9760235301578526,-1.1689114850456195,-1.1689114850456195,-0.7658773478589136,0.7349603401913143,-1.035979405056002,-1.0851299095909666,-1.424494108627433,1.0448342365068026,0.7892516129249892,-1.2868726959295331,-1.03129007234772,-1.0017997696267416,0.8922419547031994,-0.9133288614638062,0.9708827619591421,0.9807128628661349,-1.021459971440727,-1.0607803750686986,-0.9821395678127559,0.7054700374703358,1.1773148810059912,1.0986740737500489,0.8627516519822209,-0.8543482560218493,1.0153439337858239,-1.0607803750686986,-1.1197609805106554,-1.1787415859526122,1.0298633674010989,-1.021459971440727,0.8332613492612423,-1.03129007234772,-1.149251283231634,1.020033266494106,1.020033266494106,0.9020720556101922,1.0593536701220772,-1.198401787766598,0.9413924592381635,-1.0607803750686986,0.8430914501682354,0.8234312483542497,-0.9919696687197487,0.8973827229019102,0.68580983565635,0.8332613492612423,0.8332613492612423,-0.9329890632777917,0.9512225601451563,-0.8936686596498202,-1.1001007786966697,-1.0116298705337343,0.8430914501682354,0.7939409456332711,1.2068051837269698,0.7447904410983072,0.7251302392843214,0.7447904410983072,0.9315623583311707,0.9413924592381635,-1.0607803750686986,0.7644506429122926,-0.9428191641847846,-1.149251283231634,-1.2082318886735905,1.2166352846339623,-1.3163629986505119,0.8824118537962067,-1.1689114850456195,-1.2082318886735905,-1.149251283231634,-0.6577462378819927,0.852921551075228,1.0102031655871133,-0.8936686596498202,0.6759797347493575,-1.3261930995575046,-0.9428191641847846,0.7251302392843214,0.6956399365633431,0.6661496338423646,1.0495235692150844,-1.090270677789677,0.961052661052149,0.8824118537962067,-0.7462171460449281,0.8824118537962067,0.852921551075228,0.68580983565635,-0.9428191641847846,-1.4539844113484115,-1.3556834022784832,-1.1689114850456195,-1.03129007234772,0.9020720556101922,0.8627516519822209,0.9512225601451563,-1.021459971440727,0.7349603401913143,-0.8445181551148565,0.9119021565171851,1.2166352846339623,-0.972309466905763,0.7546205420052998,0.8234312483542497,-1.0116298705337343,-1.1001007786966697,-1.1590813841386267,1.3345964955178764,-1.2868726959295331,0.7841108447262783,-1.0706104759756914,-1.0509502741617058,0.852921551075228,0.7251302392843214,0.5875088265864218,1.0495235692150844,-0.706896742416957,1.0743245392277807,-0.8445181551148565,-1.1736008177539017,0.7742807438192854,1.0448342365068026,0.8777225210879245,1.2905867591816234,0.7251302392843214,0.68580983565635,0.7546205420052998,-0.8641783569288422,1.84177707081638,0.6024796956921253,-1.090270677789677,0.961052661052149,1.0003730646801205,1.1529653464837235,1.0055138328788311,0.6268292302143933,-1.4095232395217292,-0.9428191641847846,-1.2967027968365263,0.8089118147389749,0.7447904410983072,0.7251302392843214,-1.045809505962995,0.7742807438192854,-0.9919696687197487,1.13799447737802,-0.9821395678127559,1.0841546401347735,1.1038148419487592,-1.2227513222888657,-1.1834309186608947,0.9170429247158959,-0.5437696988632024,-1.0261493041490095,-0.504449295235231,1.7336459608394592,-1.2325814231958585,1.0102031655871133,-0.48478909342124543,-1.0804405768826841,-0.7509064787532103,-0.8885278914511098,-0.9573385978000597,-0.9376783959860739,-0.9526492650917774,-0.5241094970492165,1.0055138328788311,-1.153940615939916,-1.0654697077769806,-1.2424115241028515,-0.8885278914511098,-1.1244503132189374,-0.9573385978000597,-0.8098870841951672,-0.9769987996140448,0.8285720165529604,-1.0752998086839733,1.684495456304495,1.1136449428557524,-1.2424115241028515,0.9905429637731278,-0.8688676896371239,-0.6820957724042603,-0.3817987516430352,1.2414362546466589,-0.7214161760322318,-1.090270677789677,0.8430914501682354,-0.15056566258348936,-0.9821395678127559,-0.8740084578358349,0.9217322574241777,-1.1099308796036624,-1.2770425950225406,0.68580983565635,1.0790138719360631,-1.1295910814176482,0.7546205420052998,-0.6970666415099643,0.8136011474472569,-1.2377221913945693,1.0396934683080916,0.8037710465402641,-0.9624793659987702,-0.8641783569288422,-0.972309466905763,1.1183342755640344,0.6071690284004074,-0.9428191641847846,1.1576546791920055,1.0298633674010989,-1.198401787766598,-1.149251283231634,-1.0706104759756914,0.7939409456332711,0.7447904410983072,-1.0509502741617058,-1.021459971440727,-1.1197609805106554,-0.7855375496728995,1.0396934683080916,0.7251302392843214,0.8922419547031994,-1.198401787766598,-0.9821395678127559,-1.2868726959295331,-0.9231589623707989,-1.021459971440727,1.0396934683080916,0.9512225601451563,1.246125587354941,-1.0607803750686986,-1.2377221913945693,-0.9919696687197487,-1.0706104759756914,-1.0509502741617058,-1.021459971440727,0.9413924592381635,-1.1689114850456195,0.9020720556101922,0.8136011474472569,0.8234312483542497,1.0003730646801205,0.7447904410983072,0.5875088265864218,-1.2278920904875765,-1.2377221913945693,-1.03129007234772,-1.0017997696267416,-0.9919696687197487,0.7841108447262783,0.7153001383773286,0.8136011474472569,-0.9034987605568132,0.9807128628661349,1.0396934683080916,-1.1787415859526122,-1.188571686859605,-1.0509502741617058,-1.247552292301562,-1.090270677789677,0.7251302392843214,0.8430914501682354,-0.7757074487659066,-0.7855375496728995,0.7349603401913143,-1.247552292301562,0.8037710465402641,0.5481884229584506,1.1773148810059912,-0.8445181551148565,1.0298633674010989,0.9807128628661349,-0.9034987605568132,0.9905429637731278,0.9512225601451563,0.8136011474472569,-1.2278920904875765,0.8725817528892138,-0.9526492650917774,-0.7658773478589136,-1.1394211823246412,0.9020720556101922,-0.9231589623707989,0.8824118537962067,1.020033266494106,-1.4441543104414187,-1.090270677789677,0.7302710074830321,0.8627516519822209,1.0298633674010989,-1.090270677789677,-1.1787415859526122,-0.8936686596498202,0.6071690284004074,0.8725817528892138,1.1969750828199772,-0.9919696687197487,0.5678486247724363,-0.9133288614638062,-1.090270677789677,-0.8641783569288422,-0.9034987605568132,-0.9133288614638062,-1.1295910814176482,-1.0509502741617058,-1.0509502741617058,-1.2180619895805835,0.9708827619591421,1.255955688261934,-1.1590813841386267,0.9119021565171851,-1.2180619895805835,0.852921551075228,1.0102031655871133,-1.1590813841386267,-1.4539844113484115,0.8136011474472569,-1.1001007786966697,-1.0116298705337343,-0.8641783569288422,0.9020720556101922,0.9020720556101922,-0.8641783569288422,1.2166352846339623,0.8234312483542497,-0.8838385587428277,-1.0017997696267416,0.961052661052149,1.0298633674010989,0.7742807438192854,1.0790138719360631,0.7742807438192854,-0.8346880542078635,-0.7902268823811814,-0.8688676896371239,-0.9671686987070524,1.0102031655871133,-0.9966590014280309,0.8627516519822209,-0.8983579923581025,0.6169991293074003,0.7054700374703358,0.7546205420052998,1.0448342365068026,0.7349603401913143,-0.6774064396959786,-0.8248579533008707,-1.090270677789677,0.7349603401913143,1.0003730646801205,0.9020720556101922,-0.7363870451379353,1.020033266494106,0.9807128628661349,-1.1590813841386267,0.9905429637731278,0.8136011474472569,-0.691221212468095,0.7644506429122926,-1.2082318886735905,-1.2278920904875765,-1.247552292301562,-0.8492074878231383,0.8824118537962067,0.8234312483542497,-1.0706104759756914,1.0003730646801205,-1.2672124941155476,-1.0949600104979593,1.2854459909829123,0.6956399365633431,0.7054700374703358,0.9807128628661349,1.0691837710290704,0.7841108447262783,0.7054700374703358,-1.0804405768826841,1.0102031655871133,1.1085041746570417,0.7054700374703358,-1.0607803750686986,-1.1295910814176482,-1.1099308796036624,0.7939409456332711,-1.0706104759756914,0.636659331121386,-0.7462171460449281,1.0298633674010989,1.0986740737500489,0.7153001383773286,0.7447904410983072,1.088843972843056,1.320077061902601,0.5973389274934148,-1.2377221913945693,-1.0607803750686986,0.9465332274368744,0.8922419547031994,-1.385173704999462,-0.8346880542078635,-1.0017997696267416,-1.2672124941155476,-1.2770425950225406,0.68580983565635,-1.2967027968365263,0.9413924592381635,0.961052661052149,0.9708827619591421,1.0055138328788311,-1.2868726959295331,-1.1197609805106554,-1.1689114850456195,0.8627516519822209,0.8037710465402641,0.9807128628661349,-1.0607803750686986,0.9905429637731278,0.9807128628661349,1.0102031655871133,1.1085041746570417,-0.9526492650917774,-0.5241094970492165,-0.337337579816353,-0.9329890632777917,0.9465332274368744,-0.9329890632777917,0.7054700374703358,1.0055138328788311,-1.5078242485916575,0.740101108390025,-0.8295472860091527,0.9512225601451563,-1.0411201732547128,-0.9133288614638062,1.320077061902601,-0.8779931297009583,0.8285720165529604,0.5580185238654435,0.8922419547031994,0.8824118537962067,-0.7855375496728995,-0.8838385587428277,-1.2278920904875765,0.7546205420052998,-1.1099308796036624,-0.9821395678127559,0.8136011474472569,-1.2573823932085553,0.9020720556101922,-1.021459971440727,-1.1001007786966697,-1.2180619895805835,0.7251302392843214,-1.1295910814176482,0.8234312483542497,1.0593536701220772,0.8037710465402641,-1.1295910814176482,-0.9821395678127559,0.7349603401913143,0.7644506429122926,-1.4441543104414187,0.8234312483542497,0.852921551075228,-1.090270677789677,-1.3163629986505119,-1.306532897743519,0.9119021565171851,-1.153940615939916,0.8627516519822209,0.7841108447262783,-1.2573823932085553,0.9807128628661349,-1.090270677789677,-1.0804405768826841,-1.03129007234772,-1.198401787766598,-1.2377221913945693,-0.9919696687197487,0.9413924592381635,-1.2868726959295331,-0.972309466905763,-0.805197751486885,-1.2180619895805835,-1.0706104759756914,0.8037710465402641,1.537043942699602,0.7251302392843214,1.2021158510186876,0.8824118537962067,0.8430914501682354,0.8922419547031994,-1.188571686859605,-1.021459971440727,-0.8393773869161455,0.8922419547031994,-1.0607803750686986,-1.1689114850456195,-1.153940615939916,-0.9671686987070524,-1.198401787766598,-0.8445181551148565,-0.9231589623707989,-1.198401787766598,0.9956837319718385,-1.1787415859526122,0.5973389274934148,0.7251302392843214,-0.9133288614638062,0.8332613492612423,-1.1394211823246412,0.7447904410983072,-0.9526492650917774,-0.9624793659987702,1.527213841792609,-0.6919258733112534,1.0055138328788311,0.7499312092970177,0.9807128628661349,-0.504449295235231,-0.29801717618838164,-0.25869677256041024,-0.6027503043051592,1.6156847499555451,-0.5732600015841807,-0.504449295235231,-1.0851299095909666,-1.0851299095909666,-0.6231151669623035,-0.9966590014280309,1.1038148419487592,0.681120502948068,-0.18005596530446788,-0.7803967814741889,0.6909506038550609,1.1038148419487592,-1.1834309186608947,1.0003730646801205,-0.3963181852583099,1.6353449517695304,0.9760235301578526,1.0448342365068026,1.7631362635604373,-0.27835697437439594,-1.090270677789677,1.6255148508625383,0.9217322574241777,0.9807128628661349,-1.2770425950225406,0.8430914501682354,0.9905429637731278,-0.972309466905763,1.0593536701220772,-1.1099308796036624,1.0593536701220772,1.0298633674010989,0.8430914501682354,1.1576546791920055,0.9020720556101922,0.9905429637731278,-1.247552292301562,-1.03129007234772,-1.1099308796036624,-0.7658773478589136,0.8922419547031994,0.7841108447262783,-1.1099308796036624,0.8136011474472569,-1.2180619895805835,0.7939409456332711,0.8627516519822209,0.8136011474472569,-1.1295910814176482,-1.0607803750686986,1.0396934683080916,1.1969750828199772,-1.1295910814176482,1.1773148810059912,0.8234312483542497,-1.0607803750686986,0.8430914501682354,-0.972309466905763,0.8037710465402641,0.7447904410983072,-1.1689114850456195,-0.9526492650917774,0.8384021174599534,0.8627516519822209,-1.3261930995575046,-1.3556834022784832,0.6661496338423646,1.0495235692150844,-1.1394211823246412,-1.2967027968365263,-1.1099308796036624,-0.9034987605568132,1.1281643764710272,0.9315623583311707,-0.8248579533008707,-1.1787415859526122,0.8234312483542497,-0.8838385587428277,0.7644506429122926,-0.8740084578358349,-0.9624793659987702,-1.247552292301562,-1.2672124941155476,0.7841108447262783,0.9315623583311707,0.7251302392843214,1.246125587354941,0.5875088265864218,1.0495235692150844,0.8332613492612423,1.1281643764710272,1.0298633674010989,0.852921551075228,0.7153001383773286,0.7251302392843214,-1.2573823932085553,-1.2672124941155476,-1.247552292301562,0.7251302392843214,0.7939409456332711,0.7349603401913143,-1.2967027968365263,1.0986740737500489,-1.1394211823246412,0.8627516519822209,0.8332613492612423,-1.2915620286378158,0.7841108447262783,0.9268730256228886,0.7447904410983072,0.8627516519822209,1.020033266494106,1.0003730646801205,-0.8346880542078635,1.0790138719360631,-1.1590813841386267,-1.1689114850456195,-1.247552292301562,0.9905429637731278,-1.1787415859526122,-1.149251283231634,0.6614603011340825,-0.9376783959860739,0.8037710465402641,0.8430914501682354,-0.9624793659987702,-1.090270677789677,-1.0509502741617058,0.6661496338423646,-0.5889355315330429,-1.1197609805106554,-1.4539844113484115,-1.198401787766598,-1.2180619895805835,-0.9428191641847846,-1.021459971440727,1.0396934683080916,0.7644506429122926,0.7841108447262783,0.7841108447262783,-0.16039576349048215,1.7631362635604373,1.147824578285013,-1.149251283231634,0.8037710465402641,1.1431352455767307,-1.1394211823246412,-1.1001007786966697,1.1831603100478612,1.5763643463275732,0.7695914111110034,-1.2278920904875765,0.8037710465402641,-1.03129007234772,-1.188571686859605,0.8037710465402641,-1.1394211823246412,-0.7607365796602031,1.0986740737500489,0.9217322574241777,0.9020720556101922,0.961052661052149,-1.0064891023350235,-1.1295910814176482,-1.1689114850456195,-1.1099308796036624,-1.0804405768826841,-1.0411201732547128,0.8824118537962067,-1.2180619895805835,0.7644506429122926,-1.198401787766598,-1.1197609805106554,-1.1197609805106554,0.852921551075228,1.0153439337858239,0.7546205420052998,1.2709265573676376,-1.149251283231634,-1.198401787766598,-1.1637707168469087,1.0691837710290704,0.9512225601451563,1.13799447737802,0.7447904410983072,1.226465385540955,-1.1001007786966697,-1.0017997696267416,-1.0607803750686986,-1.0804405768826841,0.7644506429122926,0.6956399365633431,-0.7462171460449281,0.8627516519822209,-0.9329890632777917,0.9217322574241777,0.7841108447262783,0.7153001383773286,0.7841108447262783,0.8037710465402641,-1.1689114850456195,1.0790138719360631,-1.0804405768826841,0.8824118537962067,-0.972309466905763,0.852921551075228,1.0986740737500489,1.0691837710290704,-1.2082318886735905,-1.090270677789677,-1.0017997696267416,1.025174034692817,-0.9624793659987702,1.0644944383207882,-1.3898630377077437,0.9020720556101922,-1.2573823932085553,1.0003730646801205,0.636659331121386,-1.2967027968365263,-1.2573823932085553,-0.9376783959860739,0.9020720556101922,-1.2278920904875765,0.9905429637731278,0.8037710465402641,-1.3556834022784832,0.8234312483542497,-1.4685038449636862,0.8136011474472569,0.7153001383773286,-0.8000569832881741,0.8725817528892138,0.9217322574241777,0.9020720556101922,1.0790138719360631,-1.2180619895805835,-0.9278482950790811,0.961052661052149,-1.1295910814176482,-0.9769987996140448,0.7742807438192854,1.0102031655871133,-0.972309466905763,-0.9231589623707989,-0.24886667165341758,1.684495456304495,-1.0163192032420165,1.694325557211488,-0.711586075125239,0.9956837319718385,-1.4586737440566937,-0.6813911115611015,-0.7509064787532103,-1.1047901114049519,-0.7902268823811814,1.133305144669738,-1.045809505962995,-1.0163192032420165,-1.2620717259168373,-0.18005596530446788,-1.1637707168469087,-0.9278482950790811,-0.8983579923581025,-1.385173704999462,-0.23903657074642473,1.0644944383207882,0.96619342925086,-0.7312462769392246,0.7153001383773286,0.6956399365633431,0.9020720556101922,-0.8740084578358349,0.9905429637731278,0.8725817528892138,1.0102031655871133,-1.03129007234772,-1.149251283231634,-1.1689114850456195,-1.021459971440727,-1.247552292301562,-0.9428191641847846,0.9807128628661349,0.7251302392843214,-1.2868726959295331,0.961052661052149,0.7054700374703358,0.961052661052149,-1.2770425950225406,-0.9821395678127559,-1.03129007234772,-0.8150278523938778,0.8332613492612423,-1.3556834022784832,-1.2180619895805835,-1.0607803750686986,-1.1787415859526122,0.7153001383773286,-1.2278920904875765,0.7742807438192854,0.9905429637731278,-1.2180619895805835,0.852921551075228,0.8627516519822209,0.852921551075228,-1.2770425950225406,0.8725817528892138,0.9807128628661349,-1.045809505962995,0.7054700374703358,-1.0509502741617058,-1.0509502741617058,0.8430914501682354,0.8824118537962067,-1.4736446131623973,0.8234312483542497,0.7153001383773286,1.13799447737802,-1.021459971440727,0.7644506429122926,0.961052661052149,0.961052661052149,0.8922419547031994,0.9413924592381635,0.8725817528892138,0.9807128628661349,0.7546205420052998,1.1038148419487592,0.9807128628661349,-0.8641783569288422,-1.0116298705337343,0.961052661052149,-1.247552292301562,-1.0411201732547128,0.7153001383773286,0.7153001383773286,0.7841108447262783,1.1674847800989985,-1.198401787766598,0.49903791842348644,-0.9376783959860739,1.123475043762745,-1.2325814231958585,-1.0163192032420165,-1.0509502741617058,-1.1244503132189374,-1.247552292301562,-1.090270677789677,0.7054700374703358,0.8922419547031994,0.7939409456332711,-0.9821395678127559,0.6956399365633431,-0.9133288614638062,-1.3950038059064545,0.7349603401913143,0.7054700374703358,0.5580185238654435,1.0102031655871133,-1.149251283231634,-0.9133288614638062,-0.972309466905763,0.8922419547031994,-0.8740084578358349,-0.9624793659987702,1.1674847800989985,-1.1590813841386267,0.6268292302143933,0.8725817528892138,-1.2573823932085553,0.7841108447262783,-0.5830901024911735,-1.0706104759756914,-1.0017997696267416,-1.0116298705337343,0.7939409456332711,-1.1787415859526122,-1.2180619895805835,0.7939409456332711,-1.1197609805106554,0.8234312483542497,-1.2082318886735905,-0.795367650579892,0.8627516519822209,0.7939409456332711,-1.188571686859605,0.7742807438192854,-1.1099308796036624,-1.2180619895805835,-1.1001007786966697,-1.1001007786966697,-0.9081880932650955,-1.2180619895805835,0.7054700374703358,0.8678924201809317,-1.1590813841386267,-1.198401787766598,1.0986740737500489,0.8627516519822209,0.7939409456332711,-1.0509502741617058,-1.1001007786966697,0.852921551075228,0.8725817528892138,-1.149251283231634,-1.188571686859605,0.7841108447262783,-1.1197609805106554,0.5186981202374721,-0.7410763778462175,-1.1441105150329232,-0.9376783959860739,0.6464894320283787,0.852921551075228,-1.247552292301562,0.7644506429122926,-1.2082318886735905,-1.1295910814176482,-0.9428191641847846,0.7939409456332711,0.5186981202374721,0.7153001383773286,1.0790138719360631,-1.4638145122554043,-1.0607803750686986,-1.385173704999462,0.8136011474472569,-1.149251283231634,-1.0654697077769806,-0.9769987996140448,1.0350041355998099,1.6058546490485521,-0.8590375887301313,-0.7017559742182462,0.5678486247724363,0.7939409456332711,-1.2180619895805835,0.7939409456332711,-1.090270677789677,-0.9919696687197487,-1.198401787766598,-0.8248579533008707,-0.9278482950790811,1.1085041746570417,0.8627516519822209,0.852921551075228,0.68580983565635,1.0691837710290704,1.1085041746570417,-0.878697790544117,-0.805197751486885,0.7054700374703358,-0.9376783959860739,0.8136011474472569,-0.8590375887301313,-1.188571686859605,0.9315623583311707,-1.1001007786966697,0.8234312483542497,-1.1637707168469087,-1.247552292301562,-1.1394211823246412,1.2316061537396659,-0.9180181941720883,-0.9671686987070524,1.1922857501116948,1.0841546401347735,-1.0949600104979593,1.4289128327226814,1.182455649204702,-1.0804405768826841,-0.3668278825373314,1.7533061626534445,0.5186981202374721,-0.23434723803814259,-0.6027503043051592,-0.8295472860091527,1.0055138328788311,1.537043942699602,1.4584031354436595,-1.1244503132189374,-0.268526873467403,-1.2278920904875765,-0.6027503043051592,0.7447904410983072,-1.1590813841386267,0.852921551075228,-1.021459971440727,0.7054700374703358,-1.0411201732547128,1.0691837710290704,0.9512225601451563,1.246125587354941,1.0691837710290704,0.8332613492612423,-1.1394211823246412,0.7447904410983072,-0.9526492650917774,-1.1787415859526122,-1.2573823932085553,-1.2278920904875765,-1.0607803750686986,-1.2082318886735905,-0.9231589623707989,-1.1295910814176482,0.7546205420052998,0.8037710465402641,-1.2868726959295331,0.9708827619591421,-1.2082318886735905,-0.9231589623707989,1.1085041746570417,0.8234312483542497,-1.021459971440727,0.8384021174599534,0.9956837319718385,-1.0654697077769806,-0.7214161760322318,1.172625548297709,-1.0752998086839733,1.0350041355998099,0.8430914501682354,1.7336459608394592,1.0644944383207882,-1.0064891023350235,0.8973827229019102,-1.2770425950225406,0.8580623192739388,0.8973827229019102,-0.9180181941720883,-0.8936686596498202,-0.34716768072334575,-1.0163192032420165,-0.8393773869161455,0.8777225210879245,1.2021158510186876,1.123475043762745,-0.8983579923581025,1.777655697175712,-0.9671686987070524,-1.0064891023350235,1.0644944383207882,-1.0261493041490095,-1.1736008177539017,-0.7214161760322318,0.5088680193304791,-1.2967027968365263,-1.2082318886735905,-1.1590813841386267,1.0298633674010989,-0.9526492650917774,1.527213841792609,1.4780633372576455,-0.7803967814741889,-0.9081880932650955,-0.5634299006771879,0.8430914501682354,-0.8885278914511098,1.1529653464837235,0.8627516519822209,-1.4736446131623973,0.7841108447262783,-0.9231589623707989,-0.9624793659987702,0.68580983565635,-1.2180619895805835,-1.0116298705337343,0.7644506429122926,-1.1099308796036624,0.8136011474472569,-1.1099308796036624,-0.9966590014280309,0.7546205420052998,-1.2180619895805835,-1.1787415859526122,0.961052661052149,0.8234312483542497,1.0003730646801205,0.7447904410983072,0.7251302392843214,-1.1590813841386267,-0.8543482560218493,1.0350041355998099,1.1136449428557524,1.020033266494106,0.8922419547031994,0.9119021565171851,-0.9376783959860739,-0.9034987605568132,0.8234312483542497,0.8482322183669461,-1.03129007234772,1.020033266494106,1.0003730646801205,0.7939409456332711,0.8725817528892138,-1.1394211823246412,-0.9919696687197487,0.7841108447262783,1.2119459519256803,-0.7607365796602031,-1.03129007234772,-0.9475084968930666,1.025174034692817,-1.045809505962995,-0.7502018179100518,0.799081713831982,1.339737263716587,-1.035979405056002,-0.44546868979327425,-0.5634299006771879,0.6024796956921253,-0.28818707528138904,-0.6125804052121521,-0.972309466905763,-0.4356385888862813,-0.7509064787532103,0.9119021565171851,-1.0607803750686986,0.8627516519822209,0.6759797347493575,1.0691837710290704,0.7251302392843214,0.7447904410983072,-1.2377221913945693,-1.2377221913945693,1.0298633674010989,1.1085041746570417,0.7644506429122926,0.6956399365633431,0.9708827619591421,0.9315623583311707,-1.306532897743519,-1.2082318886735905,-1.2278920904875765,-0.9919696687197487,0.636659331121386,-1.1197609805106554,-1.2770425950225406,0.8234312483542497,-1.2672124941155476,-1.424494108627433,-1.03129007234772,1.147824578285013,0.7251302392843214,-1.3556834022784832,-1.4441543104414187,0.7742807438192854,-1.1197609805106554,-0.9034987605568132,0.8234312483542497,-1.306532897743519,-0.7363870451379353,0.68580983565635,-1.1689114850456195,1.0495235692150844,0.8824118537962067,-1.1590813841386267,-1.149251283231634,1.0691837710290704,-1.03129007234772,-0.9133288614638062,0.7841108447262783,0.9315623583311707,-0.8150278523938778,0.9119021565171851,0.9217322574241777,0.7841108447262783,0.7546205420052998,-1.198401787766598,-0.9624793659987702,-0.8838385587428277,0.8136011474472569,0.6614603011340825,0.8037710465402641,0.6464894320283787,-1.1197609805106554,0.9020720556101922,1.0593536701220772,-0.8248579533008707,0.9413924592381635,0.8627516519822209,0.8234312483542497,0.7939409456332711,-1.2377221913945693,0.7251302392843214,1.1674847800989985,0.6759797347493575,-0.8641783569288422,0.9512225601451563,0.577678725679429,-1.3556834022784832,-0.9526492650917774,0.9807128628661349,-0.8641783569288422,-1.03129007234772,-0.7658773478589136,-0.8641783569288422,-0.8543482560218493,0.9020720556101922,0.8332613492612423,-0.8936686596498202,1.314936293703891,-0.8936686596498202,0.8332613492612423,1.255955688261934,1.1085041746570417,-1.41466400772044,0.8332613492612423,1.1773148810059912,0.7841108447262783,0.9315623583311707,0.9807128628661349,1.0298633674010989,0.7251302392843214,-1.0017997696267416,1.1281643764710272,-1.247552292301562,1.0495235692150844,0.7644506429122926,0.7447904410983072,-1.1001007786966697,0.6759797347493575,0.7841108447262783,0.9905429637731278,-1.0509502741617058,0.9217322574241777,0.9807128628661349,0.7841108447262783,0.9905429637731278,-1.2770425950225406,-0.9624793659987702,-1.021459971440727,-0.8740084578358349,0.8627516519822209,0.9315623583311707,-1.1197609805106554,1.0593536701220772,1.0003730646801205,1.0102031655871133,-1.149251283231634,-1.4441543104414187,1.1674847800989985,0.68580983565635,0.7644506429122926,-1.2180619895805835,-0.795367650579892,-1.2278920904875765,0.9217322574241777,1.1674847800989985,0.7742807438192854,-0.7560472469519212,-1.090270677789677,0.9315623583311707,1.020033266494106,0.9020720556101922,-1.1394211823246412,-1.0804405768826841,0.8037710465402641,0.7644506429122926,-1.1001007786966697,0.8875526219949174,-1.434324209534426,-1.2377221913945693,-1.0509502741617058,-0.7167268433239494,-1.1001007786966697,-1.0509502741617058,-1.2868726959295331,-1.0804405768826841,-1.198401787766598,0.8037710465402641,0.7349603401913143,-0.9919696687197487,-1.0509502741617058,-1.1295910814176482,-1.2082318886735905,0.7939409456332711,-1.1295910814176482,0.68580983565635,-1.2573823932085553,-1.2180619895805835,-1.0017997696267416,0.7153001383773286,-1.1001007786966697,-0.7803967814741889,0.9170429247158959,-1.3655135031854762,0.9512225601451563,0.9020720556101922,1.2166352846339623,0.961052661052149,-0.40614828616530285,-1.045809505962995,1.0986740737500489,0.9217322574241777,0.8824118537962067,-0.8346880542078635,0.9807128628661349,0.961052661052149,-1.03129007234772,-1.1394211823246412,0.68580983565635,0.7054700374703358,0.9905429637731278,-1.2082318886735905,0.852921551075228,0.9217322574241777,-0.8543482560218493,1.3051061927968979,0.7447904410983072,-1.1394211823246412,0.8332613492612423,0.6759797347493575,0.7447904410983072,-1.045809505962995,0.5875088265864218,1.1674847800989985,0.8430914501682354,0.8037710465402641,-0.8150278523938778,1.020033266494106,-1.0804405768826841,0.8922419547031994,0.7153001383773286,0.852921551075228,-1.090270677789677,0.49903791842348644,0.9512225601451563,0.9119021565171851,-1.1001007786966697,-0.9966590014280309,1.020033266494106,-1.2278920904875765,-1.0411201732547128,0.7742807438192854,-1.0804405768826841,0.8037710465402641,0.8332613492612423,0.7447904410983072,0.9413924592381635,-1.1590813841386267,0.9315623583311707,0.8037710465402641,0.7153001383773286,0.7251302392843214,0.9512225601451563,1.0495235692150844,-1.0411201732547128,0.7153001383773286,1.0495235692150844,1.0102031655871133,0.5088680193304791,-1.1001007786966697,0.9119021565171851,1.1183342755640344,-1.188571686859605,-0.9821395678127559,0.6956399365633431,0.7349603401913143,0.7054700374703358,-0.9821395678127559,-0.8543482560218493,-0.504449295235231,0.9807128628661349,1.0495235692150844,0.9807128628661349,0.852921551075228,0.8922419547031994,0.8430914501682354,-1.1689114850456195,-1.1197609805106554,1.0790138719360631,-1.306532897743519,0.7939409456332711,-1.1787415859526122,0.9413924592381635,-0.9231589623707989,-1.0607803750686986,-1.2082318886735905,-0.9526492650917774,1.0396934683080916,-1.1099308796036624,0.7742807438192854,-1.1197609805106554,-1.090270677789677,-0.9034987605568132,1.0003730646801205,0.6464894320283787,1.0448342365068026,0.9512225601451563,0.9807128628661349,-1.4638145122554043,0.7939409456332711,1.0003730646801205,-0.7855375496728995,0.5875088265864218,0.8136011474472569,-1.2180619895805835,1.0593536701220772,-1.0804405768826841,-1.2770425950225406,-1.1295910814176482,0.7841108447262783,0.7939409456332711,-1.0607803750686986,-1.149251283231634,1.13799447737802,-1.0509502741617058,0.7841108447262783,0.9217322574241777,1.0495235692150844,0.9413924592381635,1.0691837710290704,0.7644506429122926,0.68580983565635,0.8136011474472569,-1.188571686859605,-0.8445181551148565,0.9413924592381635,0.7644506429122926,-1.021459971440727,0.6661496338423646,0.7447904410983072,0.8922419547031994,-0.9526492650917774,-1.2278920904875765,-1.03129007234772,0.8627516519822209,-1.03129007234772,0.7251302392843214,-0.9376783959860739,-1.1244503132189374,-1.0411201732547128,0.8234312483542497,-1.149251283231634,-1.1787415859526122,0.7349603401913143,1.1576546791920055,0.9905429637731278,0.8725817528892138,-1.1099308796036624,0.8824118537962067,0.961052661052149,1.020033266494106,-1.3950038059064545,0.7742807438192854,-1.188571686859605,0.9807128628661349,1.0003730646801205,0.8922419547031994,-1.0411201732547128,0.852921551075228,1.2166352846339623,-1.0411201732547128,0.9413924592381635,0.8234312483542497,-1.1001007786966697,0.8725817528892138,-1.1590813841386267,-1.021459971440727,0.9020720556101922,0.7644506429122926,1.020033266494106,-1.2278920904875765,0.7644506429122926,-1.0509502741617058,-0.9034987605568132,0.6661496338423646,-0.8543482560218493,-1.2377221913945693,0.9708827619591421,-0.9376783959860739,0.9512225601451563,0.7546205420052998,-0.8150278523938778,-1.3655135031854762,-1.2967027968365263,0.8627516519822209,-1.0017997696267416,-0.37665798344432433,-1.0804405768826841,1.0396934683080916,0.7251302392843214,0.7644506429122926,0.7054700374703358,0.7251302392843214,0.8037710465402641,0.9512225601451563,1.0298633674010989,-1.1787415859526122,-0.8641783569288422,-0.9133288614638062,-0.9526492650917774,0.7644506429122926,-1.1001007786966697,1.1183342755640344,0.6268292302143933,0.9119021565171851,1.147824578285013,-1.2672124941155476,1.020033266494106,0.8332613492612423,-1.2278920904875765,-0.8543482560218493,-0.9821395678127559,1.3051061927968979,-0.7462171460449281,0.9119021565171851,-1.188571686859605,-0.7462171460449281,0.9807128628661349,-1.2180619895805835,0.8922419547031994,0.9807128628661349,1.0691837710290704,0.9315623583311707,0.9315623583311707,0.8037710465402641,-1.149251283231634,-1.4048339068134474,-1.0163192032420165,-1.1787415859526122,1.1136449428557524,-1.090270677789677,0.6956399365633431,1.0495235692150844,-1.188571686859605,0.8922419547031994,-1.090270677789677,0.9413924592381635,0.852921551075228,0.9020720556101922,0.9119021565171851,-1.2967027968365263,0.8627516519822209,-1.1342804141259302,-1.198401787766598,0.6563195329353717,-1.3655135031854762,-0.9428191641847846,0.68580983565635,0.9217322574241777,0.9217322574241777,-0.8885278914511098,0.6169991293074003,0.48920781751649384,0.7349603401913143,-1.1295910814176482,-1.1295910814176482,0.9119021565171851,0.7841108447262783,0.7153001383773286,0.8234312483542497,0.9807128628661349,-0.8346880542078635,-1.03129007234772,1.0055138328788311,0.9858536310648457,-1.1590813841386267,-1.1197609805106554,0.7447904410983072,0.7841108447262783,0.8332613492612423,0.9217322574241777,-1.1394211823246412,-0.972309466905763,1.1529653464837235,0.9708827619591421,0.8136011474472569,0.8037710465402641,-1.0949600104979593,0.68580983565635,0.49903791842348644,0.7447904410983072,-1.2967027968365263,-0.7363870451379353,-1.0706104759756914,0.8234312483542497,-1.1295910814176482,-0.9671686987070524,0.7054700374703358,0.8627516519822209,1.1773148810059912,-1.090270677789677,-0.9278482950790811,-1.0411201732547128,-0.9919696687197487,0.9020720556101922,-1.0017997696267416,0.6956399365633431,-1.2573823932085553,-1.1295910814176482,0.9807128628661349,-1.1394211823246412,-1.1394211823246412,0.9905429637731278,-1.1689114850456195,-1.0261493041490095,0.7546205420052998,0.8136011474472569,-1.1394211823246412,-1.1099308796036624,1.020033266494106,-1.2082318886735905,0.852921551075228,-1.188571686859605,0.8824118537962067,0.8430914501682354,-1.1689114850456195,-1.035979405056002,-0.8688676896371239,-1.3950038059064545,-1.188571686859605,1.2952760918899053,1.1431352455767307,1.0102031655871133,1.0350041355998099,-1.1342804141259302,-1.5078242485916575,-1.1689114850456195,0.9315623583311707,-1.1787415859526122,0.6956399365633431,0.7644506429122926,0.7251302392843214,0.9072128238089029,-0.44546868979327425,-0.4159783870722957,1.0055138328788311,-0.9133288614638062,0.9020720556101922,0.7054700374703358,-1.1342804141259302,1.2414362546466589,-1.090270677789677,0.7644506429122926,0.8430914501682354,-1.198401787766598,-0.7902268823811814,0.8136011474472569,0.8234312483542497,-1.1295910814176482,-1.4539844113484115,-1.0752998086839733,1.0939847410417665,0.9807128628661349,-1.1047901114049519,-1.2868726959295331,-1.1590813841386267,0.8136011474472569,-1.1197609805106554,0.8922419547031994,0.7447904410983072,-1.0654697077769806,-0.986828900521038,1.133305144669738,-1.035979405056002,-0.9133288614638062,1.7729663644674296,-0.3963181852583099,0.8430914501682354,1.7139857590254732,-0.972309466905763,1.0546643374137954,-1.424494108627433,-1.0654697077769806,-0.8885278914511098,0.8875526219949174,-1.1047901114049519,-0.8000569832881741,-0.9081880932650955,-1.0556396068699876,-0.9573385978000597,1.123475043762745,-0.9475084968930666,-1.1736008177539017,-1.0752998086839733,1.1431352455767307,1.1431352455767307,-0.878697790544117,0.8430914501682354,0.9268730256228886,-0.9034987605568132,0.9367031265298817,-0.805197751486885,0.9367031265298817,1.025174034692817,0.7695914111110034,0.852921551075228,0.8824118537962067,-0.9671686987070524,-1.1244503132189374,0.8285720165529604,1.2119459519256803,-0.986828900521038,0.8136011474472569,0.7153001383773286,0.8627516519822209,0.7841108447262783,-0.8248579533008707,-1.0706104759756914,0.7447904410983072,1.1576546791920055,1.246125587354941,-1.03129007234772,0.7153001383773286,-1.0411201732547128,-1.149251283231634,-1.1001007786966697,-1.1099308796036624,-1.1590813841386267,-1.03129007234772,1.147824578285013,0.8234312483542497,-1.0509502741617058,1.1281643764710272,0.8332613492612423,-1.1590813841386267,-1.149251283231634,0.7349603401913143,-1.1001007786966697,-1.188571686859605,0.7546205420052998,-1.021459971440727,-1.2180619895805835,0.68580983565635,0.7644506429122926,0.8824118537962067,-1.198401787766598,-0.9428191641847846,0.7251302392843214,0.8136011474472569,-1.2672124941155476,1.0691837710290704,-0.9428191641847846,0.7644506429122926,-0.8641783569288422,0.9315623583311707,-0.9526492650917774,0.68580983565635,-1.2377221913945693,0.9413924592381635,0.6563195329353717,1.13799447737802,-0.8936686596498202,0.5285282211444648,1.1576546791920055,0.8136011474472569,-1.2967027968365263,0.7644506429122926,0.5088680193304791,0.6759797347493575,0.7251302392843214,-1.1689114850456195,-0.9133288614638062,-0.29801717618838164,0.8627516519822209,-1.3458533013714906,1.0790138719360631,0.7349603401913143,1.0593536701220772,1.2166352846339623,-1.1295910814176482,0.9413924592381635,0.9119021565171851,-1.1342804141259302,0.7546205420052998,-1.0509502741617058,-1.021459971440727,0.9807128628661349,-1.3458533013714906,-1.03129007234772,0.8234312483542497,0.8922419547031994,-0.986828900521038,-1.03129007234772,-1.2278920904875765,0.9020720556101922,0.9315623583311707,0.68580983565635,-1.1394211823246412,0.48920781751649384,1.020033266494106,0.7349603401913143,0.9020720556101922,-0.8838385587428277,0.8824118537962067,0.9119021565171851,1.0593536701220772,-1.090270677789677,-0.9133288614638062,0.9512225601451563,0.8922419547031994,1.0495235692150844,0.5285282211444648,-1.03129007234772,-1.0607803750686986,-1.306532897743519,-1.4736446131623973,0.9119021565171851,1.2166352846339623,0.7447904410983072,-1.0411201732547128,-1.1590813841386267,0.9413924592381635,1.0790138719360631,0.8136011474472569,0.9807128628661349,0.9315623583311707,-1.2180619895805835,0.8824118537962067,1.2316061537396659,0.9858536310648457,1.0546643374137954,0.9119021565171851,0.6464894320283787,0.8136011474472569,0.8824118537962067,-1.0509502741617058,0.7153001383773286,0.9858536310648457,0.9413924592381635,0.8824118537962067,-1.2377221913945693,0.9119021565171851,0.7447904410983072,0.7841108447262783,0.7546205420052998,1.0986740737500489,-0.8346880542078635,0.8430914501682354,1.0593536701220772,-1.188571686859605,-1.1295910814176482,0.8136011474472569,0.8627516519822209,0.8627516519822209,-1.1394211823246412,0.7546205420052998,-1.149251283231634,-1.4539844113484115,-1.3261930995575046,0.6464894320283787,0.7644506429122926,1.020033266494106,0.6464894320283787,-1.198401787766598,-1.0706104759756914,-1.2377221913945693,-1.4048339068134474,0.7644506429122926,1.0593536701220772,0.9020720556101922,0.852921551075228,0.8430914501682354,0.9905429637731278,-1.2180619895805835,0.7349603401913143,-1.0116298705337343,-1.1047901114049519,-0.8445181551148565,-1.1787415859526122,0.9217322574241777,1.088843972843056,0.8332613492612423,-0.8445181551148565,-1.3655135031854762,-1.0411201732547128,0.8037710465402641,-0.9329890632777917,0.8627516519822209,-1.149251283231634,0.8037710465402641,-1.434324209534426,0.8922419547031994,0.8922419547031994,-1.1590813841386267,-1.1197609805106554,1.1773148810059912,1.1674847800989985,0.8725817528892138,0.9905429637731278,1.0003730646801205,1.1281643764710272,1.0396934683080916,0.9512225601451563,-0.8445181551148565,0.8037710465402641,-1.4441543104414187,-0.8936686596498202,0.8725817528892138,1.0986740737500489,1.0790138719360631,0.7153001383773286,0.7447904410983072,0.7841108447262783,-1.247552292301562,-0.9526492650917774,-1.2770425950225406,-1.03129007234772,0.9020720556101922,-0.9034987605568132,-1.1099308796036624,-1.1295910814176482,0.7251302392843214,-0.8248579533008707,0.8136011474472569,0.9119021565171851,0.8725817528892138,0.8627516519822209,0.6759797347493575,0.7546205420052998,0.6661496338423646,0.7841108447262783,0.7349603401913143,-1.2180619895805835,-1.149251283231634,-1.1099308796036624,0.9119021565171851,0.8037710465402641,-0.795367650579892,0.9708827619591421,0.8627516519822209,1.0495235692150844,-1.03129007234772,0.9217322574241777,0.9020720556101922,0.9413924592381635,-0.9133288614638062,0.8627516519822209,-1.1099308796036624,-1.1197609805106554,1.1085041746570417,-1.0116298705337343,-1.1295910814176482,-1.2082318886735905,-1.149251283231634,-1.1787415859526122,0.9315623583311707,1.0102031655871133,0.9119021565171851,1.020033266494106,-1.2278920904875765,-1.3163629986505119,-1.2377221913945693,-1.090270677789677,-1.03129007234772,-1.4441543104414187,0.7153001383773286,0.9020720556101922,-1.2180619895805835,-1.090270677789677,-1.03129007234772,-0.9231589623707989,-1.0706104759756914,0.8922419547031994,-1.2868726959295331,0.9413924592381635,-0.8688676896371239,0.9315623583311707,0.8824118537962067,0.6563195329353717,0.8725817528892138,-0.2095462680254462,0.7644506429122926,-0.9428191641847846,-1.0163192032420165,0.9020720556101922,0.9708827619591421,-0.9133288614638062,-1.0804405768826841,-0.8838385587428277,0.8922419547031994,0.9708827619591421,0.8627516519822209,0.9807128628661349,0.9020720556101922,0.7251302392843214,-1.2180619895805835,1.0298633674010989,-1.2967027968365263,-1.090270677789677,-1.188571686859605,0.8332613492612423,0.8037710465402641,0.7054700374703358,-0.9526492650917774,-1.2278920904875765,-1.0706104759756914,-0.8740084578358349,0.7644506429122926,1.0102031655871133,1.0396934683080916,-1.1197609805106554,0.8136011474472569,0.8725817528892138,-1.1099308796036624,-1.2672124941155476,0.7251302392843214,0.9858536310648457,-1.2868726959295331,-1.0804405768826841,-1.1244503132189374,-1.2672124941155476,-0.8543482560218493,0.8922419547031994,0.7742807438192854,-1.1689114850456195,-1.1689114850456195,0.8430914501682354,1.0396934683080916,-1.2573823932085553,-1.198401787766598,0.7447904410983072,-1.4441543104414187,-0.8983579923581025,0.5088680193304791,-0.9180181941720883,-1.0411201732547128,-0.9180181941720883,-0.7902268823811814,-1.035979405056002,0.7349603401913143,0.7106108056690466,0.9170429247158959,1.0495235692150844,-1.0706104759756914,-0.8295472860091527,-1.2573823932085553,1.088843972843056,0.9807128628661349,-1.0556396068699876,-0.9034987605568132,-1.0017997696267416,-0.9821395678127559,-1.0509502741617058,-1.1441105150329232,-0.5489104670619133,-0.9231589623707989,-0.9231589623707989,-1.2770425950225406,-1.198401787766598,0.9807128628661349,1.0396934683080916,0.7939409456332711,-0.8590375887301313,0.8430914501682354,0.7644506429122926,-0.878697790544117,-1.1295910814176482,-0.6231151669623035,-1.212921221381873,1.0644944383207882,1.684495456304495,-0.4159783870722957,1.6648352544905094,-0.9278482950790811,1.84177707081638,-0.878697790544117,-1.2227513222888657,-1.045809505962995,-1.153940615939916,-0.8393773869161455,-0.8983579923581025,-0.9180181941720883,-0.24886667165341758,0.9956837319718385,1.025174034692817,1.2316061537396659,1.0350041355998099,-0.8295472860091527,1.0350041355998099,1.5763643463275732,0.7251302392843214,-0.44546868979327425,-0.6820957724042603,-1.1394211823246412,-0.9180181941720883,1.5173837408856163,1.300416860088616,-0.8150278523938778,1.0593536701220772,-1.1590813841386267,0.8332613492612423,0.6956399365633431,0.6956399365633431,-1.0607803750686986,-1.0752998086839733,0.7644506429122926,0.8430914501682354,0.7742807438192854,-0.7855375496728995,0.961052661052149,0.9512225601451563,-1.1394211823246412,-1.2377221913945693,0.9020720556101922,0.8627516519822209,0.7447904410983072,0.8627516519822209,-1.149251283231634,-1.424494108627433,-1.0017997696267416,0.8430914501682354,0.7939409456332711,0.8037710465402641,0.9315623583311707,-0.9329890632777917,-1.1394211823246412,1.1773148810059912,-0.9624793659987702,-0.7167268433239494,-1.188571686859605,-1.090270677789677,0.7447904410983072,0.9119021565171851,-0.9624793659987702,-1.188571686859605,-1.2377221913945693,-0.8740084578358349,-1.149251283231634,-0.7855375496728995,-1.3261930995575046,-1.0509502741617058,0.7349603401913143,-0.9526492650917774,-1.188571686859605,1.020033266494106,-1.0804405768826841,-0.9526492650917774,-1.247552292301562,1.0986740737500489,-0.972309466905763,-0.9821395678127559,1.2217760528326733,0.49903791842348644,-1.2278920904875765,1.1674847800989985,1.088843972843056,0.9119021565171851,1.0691837710290704,0.8332613492612423,1.020033266494106,-1.1001007786966697,1.1281643764710272,-1.0116298705337343,-1.149251283231634,0.6563195329353717,-0.9919696687197487,0.6661496338423646,0.8332613492612423,1.1183342755640344,-1.1787415859526122,-1.090270677789677,0.5088680193304791,0.9905429637731278,-0.9133288614638062,0.7054700374703358,-1.1590813841386267,-0.9624793659987702,0.9905429637731278,0.7153001383773286,0.8234312483542497,0.8725817528892138,0.7447904410983072,0.48920781751649384,0.6268292302143933,-1.0804405768826841,1.2362954864479483,-1.090270677789677,-1.306532897743519,0.7447904410983072,0.7939409456332711,0.9315623583311707,1.187144981912984,0.7251302392843214,0.7447904410983072,0.6759797347493575,0.9217322574241777,-1.0509502741617058,-1.0706104759756914,-1.434324209534426,0.7251302392843214,-1.2573823932085553,0.8037710465402641,-1.1197609805106554,0.6071690284004074,-0.805197751486885,0.9119021565171851,-0.9821395678127559,-1.1295910814176482,1.1281643764710272,0.6169991293074003,-1.2377221913945693,0.9413924592381635,-1.149251283231634,-1.2672124941155476,0.9905429637731278,-1.0509502741617058,1.0153439337858239,0.9905429637731278,0.7251302392843214,-0.8150278523938778,1.6550051535835164,-0.337337579816353,1.0102031655871133,-0.8098870841951672,-1.2377221913945693,0.6661496338423646,0.8627516519822209,0.6169991293074003,0.7251302392843214,1.020033266494106,0.852921551075228,0.8922419547031994,-0.9231589623707989,0.9807128628661349,-0.9133288614638062,-1.1295910814176482,0.7251302392843214,-1.2082318886735905,0.8922419547031994,0.7644506429122926,0.9020720556101922,-0.8838385587428277,-1.149251283231634,1.0102031655871133,0.8627516519822209,0.7644506429122926,1.0298633674010989,-0.9428191641847846,0.961052661052149,1.0743245392277807,-0.9526492650917774,0.7939409456332711,-0.972309466905763,0.7447904410983072,0.8037710465402641,-0.7560472469519212,-1.0411201732547128,-1.0116298705337343,-0.8838385587428277,-0.9133288614638062,0.7841108447262783,0.8332613492612423,-1.2672124941155476,1.2657857891689264,0.9119021565171851,-1.2082318886735905,0.8332613492612423,-0.9034987605568132,1.147824578285013,-1.1197609805106554,0.7841108447262783,0.6759797347493575,-1.1197609805106554,-1.247552292301562,0.8725817528892138,-1.2573823932085553,1.0986740737500489,1.0448342365068026,0.7841108447262783,1.0396934683080916,1.020033266494106,-0.9034987605568132,0.8332613492612423,1.0102031655871133,-0.8740084578358349,0.9020720556101922,-1.0411201732547128,-1.1099308796036624,-1.0116298705337343,-1.1885716868596052,-1.2377221913945693,1.3542566973318622,-1.4638145122554043,0.9413924592381635,0.7153001383773286,0.8234312483542497,-0.7855375496728995,-0.8150278523938778],\"yaxis\":\"y\",\"type\":\"scattergl\"}],                        {\"template\":{\"data\":{\"bar\":[{\"error_x\":{\"color\":\"#2a3f5f\"},\"error_y\":{\"color\":\"#2a3f5f\"},\"marker\":{\"line\":{\"color\":\"#E5ECF6\",\"width\":0.5},\"pattern\":{\"fillmode\":\"overlay\",\"size\":10,\"solidity\":0.2}},\"type\":\"bar\"}],\"barpolar\":[{\"marker\":{\"line\":{\"color\":\"#E5ECF6\",\"width\":0.5},\"pattern\":{\"fillmode\":\"overlay\",\"size\":10,\"solidity\":0.2}},\"type\":\"barpolar\"}],\"carpet\":[{\"aaxis\":{\"endlinecolor\":\"#2a3f5f\",\"gridcolor\":\"white\",\"linecolor\":\"white\",\"minorgridcolor\":\"white\",\"startlinecolor\":\"#2a3f5f\"},\"baxis\":{\"endlinecolor\":\"#2a3f5f\",\"gridcolor\":\"white\",\"linecolor\":\"white\",\"minorgridcolor\":\"white\",\"startlinecolor\":\"#2a3f5f\"},\"type\":\"carpet\"}],\"choropleth\":[{\"colorbar\":{\"outlinewidth\":0,\"ticks\":\"\"},\"type\":\"choropleth\"}],\"contour\":[{\"colorbar\":{\"outlinewidth\":0,\"ticks\":\"\"},\"colorscale\":[[0.0,\"#0d0887\"],[0.1111111111111111,\"#46039f\"],[0.2222222222222222,\"#7201a8\"],[0.3333333333333333,\"#9c179e\"],[0.4444444444444444,\"#bd3786\"],[0.5555555555555556,\"#d8576b\"],[0.6666666666666666,\"#ed7953\"],[0.7777777777777778,\"#fb9f3a\"],[0.8888888888888888,\"#fdca26\"],[1.0,\"#f0f921\"]],\"type\":\"contour\"}],\"contourcarpet\":[{\"colorbar\":{\"outlinewidth\":0,\"ticks\":\"\"},\"type\":\"contourcarpet\"}],\"heatmap\":[{\"colorbar\":{\"outlinewidth\":0,\"ticks\":\"\"},\"colorscale\":[[0.0,\"#0d0887\"],[0.1111111111111111,\"#46039f\"],[0.2222222222222222,\"#7201a8\"],[0.3333333333333333,\"#9c179e\"],[0.4444444444444444,\"#bd3786\"],[0.5555555555555556,\"#d8576b\"],[0.6666666666666666,\"#ed7953\"],[0.7777777777777778,\"#fb9f3a\"],[0.8888888888888888,\"#fdca26\"],[1.0,\"#f0f921\"]],\"type\":\"heatmap\"}],\"heatmapgl\":[{\"colorbar\":{\"outlinewidth\":0,\"ticks\":\"\"},\"colorscale\":[[0.0,\"#0d0887\"],[0.1111111111111111,\"#46039f\"],[0.2222222222222222,\"#7201a8\"],[0.3333333333333333,\"#9c179e\"],[0.4444444444444444,\"#bd3786\"],[0.5555555555555556,\"#d8576b\"],[0.6666666666666666,\"#ed7953\"],[0.7777777777777778,\"#fb9f3a\"],[0.8888888888888888,\"#fdca26\"],[1.0,\"#f0f921\"]],\"type\":\"heatmapgl\"}],\"histogram\":[{\"marker\":{\"pattern\":{\"fillmode\":\"overlay\",\"size\":10,\"solidity\":0.2}},\"type\":\"histogram\"}],\"histogram2d\":[{\"colorbar\":{\"outlinewidth\":0,\"ticks\":\"\"},\"colorscale\":[[0.0,\"#0d0887\"],[0.1111111111111111,\"#46039f\"],[0.2222222222222222,\"#7201a8\"],[0.3333333333333333,\"#9c179e\"],[0.4444444444444444,\"#bd3786\"],[0.5555555555555556,\"#d8576b\"],[0.6666666666666666,\"#ed7953\"],[0.7777777777777778,\"#fb9f3a\"],[0.8888888888888888,\"#fdca26\"],[1.0,\"#f0f921\"]],\"type\":\"histogram2d\"}],\"histogram2dcontour\":[{\"colorbar\":{\"outlinewidth\":0,\"ticks\":\"\"},\"colorscale\":[[0.0,\"#0d0887\"],[0.1111111111111111,\"#46039f\"],[0.2222222222222222,\"#7201a8\"],[0.3333333333333333,\"#9c179e\"],[0.4444444444444444,\"#bd3786\"],[0.5555555555555556,\"#d8576b\"],[0.6666666666666666,\"#ed7953\"],[0.7777777777777778,\"#fb9f3a\"],[0.8888888888888888,\"#fdca26\"],[1.0,\"#f0f921\"]],\"type\":\"histogram2dcontour\"}],\"mesh3d\":[{\"colorbar\":{\"outlinewidth\":0,\"ticks\":\"\"},\"type\":\"mesh3d\"}],\"parcoords\":[{\"line\":{\"colorbar\":{\"outlinewidth\":0,\"ticks\":\"\"}},\"type\":\"parcoords\"}],\"pie\":[{\"automargin\":true,\"type\":\"pie\"}],\"scatter\":[{\"marker\":{\"colorbar\":{\"outlinewidth\":0,\"ticks\":\"\"}},\"type\":\"scatter\"}],\"scatter3d\":[{\"line\":{\"colorbar\":{\"outlinewidth\":0,\"ticks\":\"\"}},\"marker\":{\"colorbar\":{\"outlinewidth\":0,\"ticks\":\"\"}},\"type\":\"scatter3d\"}],\"scattercarpet\":[{\"marker\":{\"colorbar\":{\"outlinewidth\":0,\"ticks\":\"\"}},\"type\":\"scattercarpet\"}],\"scattergeo\":[{\"marker\":{\"colorbar\":{\"outlinewidth\":0,\"ticks\":\"\"}},\"type\":\"scattergeo\"}],\"scattergl\":[{\"marker\":{\"colorbar\":{\"outlinewidth\":0,\"ticks\":\"\"}},\"type\":\"scattergl\"}],\"scattermapbox\":[{\"marker\":{\"colorbar\":{\"outlinewidth\":0,\"ticks\":\"\"}},\"type\":\"scattermapbox\"}],\"scatterpolar\":[{\"marker\":{\"colorbar\":{\"outlinewidth\":0,\"ticks\":\"\"}},\"type\":\"scatterpolar\"}],\"scatterpolargl\":[{\"marker\":{\"colorbar\":{\"outlinewidth\":0,\"ticks\":\"\"}},\"type\":\"scatterpolargl\"}],\"scatterternary\":[{\"marker\":{\"colorbar\":{\"outlinewidth\":0,\"ticks\":\"\"}},\"type\":\"scatterternary\"}],\"surface\":[{\"colorbar\":{\"outlinewidth\":0,\"ticks\":\"\"},\"colorscale\":[[0.0,\"#0d0887\"],[0.1111111111111111,\"#46039f\"],[0.2222222222222222,\"#7201a8\"],[0.3333333333333333,\"#9c179e\"],[0.4444444444444444,\"#bd3786\"],[0.5555555555555556,\"#d8576b\"],[0.6666666666666666,\"#ed7953\"],[0.7777777777777778,\"#fb9f3a\"],[0.8888888888888888,\"#fdca26\"],[1.0,\"#f0f921\"]],\"type\":\"surface\"}],\"table\":[{\"cells\":{\"fill\":{\"color\":\"#EBF0F8\"},\"line\":{\"color\":\"white\"}},\"header\":{\"fill\":{\"color\":\"#C8D4E3\"},\"line\":{\"color\":\"white\"}},\"type\":\"table\"}]},\"layout\":{\"annotationdefaults\":{\"arrowcolor\":\"#2a3f5f\",\"arrowhead\":0,\"arrowwidth\":1},\"autotypenumbers\":\"strict\",\"coloraxis\":{\"colorbar\":{\"outlinewidth\":0,\"ticks\":\"\"}},\"colorscale\":{\"diverging\":[[0,\"#8e0152\"],[0.1,\"#c51b7d\"],[0.2,\"#de77ae\"],[0.3,\"#f1b6da\"],[0.4,\"#fde0ef\"],[0.5,\"#f7f7f7\"],[0.6,\"#e6f5d0\"],[0.7,\"#b8e186\"],[0.8,\"#7fbc41\"],[0.9,\"#4d9221\"],[1,\"#276419\"]],\"sequential\":[[0.0,\"#0d0887\"],[0.1111111111111111,\"#46039f\"],[0.2222222222222222,\"#7201a8\"],[0.3333333333333333,\"#9c179e\"],[0.4444444444444444,\"#bd3786\"],[0.5555555555555556,\"#d8576b\"],[0.6666666666666666,\"#ed7953\"],[0.7777777777777778,\"#fb9f3a\"],[0.8888888888888888,\"#fdca26\"],[1.0,\"#f0f921\"]],\"sequentialminus\":[[0.0,\"#0d0887\"],[0.1111111111111111,\"#46039f\"],[0.2222222222222222,\"#7201a8\"],[0.3333333333333333,\"#9c179e\"],[0.4444444444444444,\"#bd3786\"],[0.5555555555555556,\"#d8576b\"],[0.6666666666666666,\"#ed7953\"],[0.7777777777777778,\"#fb9f3a\"],[0.8888888888888888,\"#fdca26\"],[1.0,\"#f0f921\"]]},\"colorway\":[\"#636efa\",\"#EF553B\",\"#00cc96\",\"#ab63fa\",\"#FFA15A\",\"#19d3f3\",\"#FF6692\",\"#B6E880\",\"#FF97FF\",\"#FECB52\"],\"font\":{\"color\":\"#2a3f5f\"},\"geo\":{\"bgcolor\":\"white\",\"lakecolor\":\"white\",\"landcolor\":\"#E5ECF6\",\"showlakes\":true,\"showland\":true,\"subunitcolor\":\"white\"},\"hoverlabel\":{\"align\":\"left\"},\"hovermode\":\"closest\",\"mapbox\":{\"style\":\"light\"},\"paper_bgcolor\":\"white\",\"plot_bgcolor\":\"#E5ECF6\",\"polar\":{\"angularaxis\":{\"gridcolor\":\"white\",\"linecolor\":\"white\",\"ticks\":\"\"},\"bgcolor\":\"#E5ECF6\",\"radialaxis\":{\"gridcolor\":\"white\",\"linecolor\":\"white\",\"ticks\":\"\"}},\"scene\":{\"xaxis\":{\"backgroundcolor\":\"#E5ECF6\",\"gridcolor\":\"white\",\"gridwidth\":2,\"linecolor\":\"white\",\"showbackground\":true,\"ticks\":\"\",\"zerolinecolor\":\"white\"},\"yaxis\":{\"backgroundcolor\":\"#E5ECF6\",\"gridcolor\":\"white\",\"gridwidth\":2,\"linecolor\":\"white\",\"showbackground\":true,\"ticks\":\"\",\"zerolinecolor\":\"white\"},\"zaxis\":{\"backgroundcolor\":\"#E5ECF6\",\"gridcolor\":\"white\",\"gridwidth\":2,\"linecolor\":\"white\",\"showbackground\":true,\"ticks\":\"\",\"zerolinecolor\":\"white\"}},\"shapedefaults\":{\"line\":{\"color\":\"#2a3f5f\"}},\"ternary\":{\"aaxis\":{\"gridcolor\":\"white\",\"linecolor\":\"white\",\"ticks\":\"\"},\"baxis\":{\"gridcolor\":\"white\",\"linecolor\":\"white\",\"ticks\":\"\"},\"bgcolor\":\"#E5ECF6\",\"caxis\":{\"gridcolor\":\"white\",\"linecolor\":\"white\",\"ticks\":\"\"}},\"title\":{\"x\":0.05},\"xaxis\":{\"automargin\":true,\"gridcolor\":\"white\",\"linecolor\":\"white\",\"ticks\":\"\",\"title\":{\"standoff\":15},\"zerolinecolor\":\"white\",\"zerolinewidth\":2},\"yaxis\":{\"automargin\":true,\"gridcolor\":\"white\",\"linecolor\":\"white\",\"ticks\":\"\",\"title\":{\"standoff\":15},\"zerolinecolor\":\"white\",\"zerolinewidth\":2}}},\"xaxis\":{\"anchor\":\"y\",\"domain\":[0.0,1.0],\"title\":{\"text\":\"x\"}},\"yaxis\":{\"anchor\":\"x\",\"domain\":[0.0,1.0],\"title\":{\"text\":\"y\"}},\"coloraxis\":{\"colorbar\":{\"title\":{\"text\":\"color\"}},\"colorscale\":[[0.0,\"#0d0887\"],[0.1111111111111111,\"#46039f\"],[0.2222222222222222,\"#7201a8\"],[0.3333333333333333,\"#9c179e\"],[0.4444444444444444,\"#bd3786\"],[0.5555555555555556,\"#d8576b\"],[0.6666666666666666,\"#ed7953\"],[0.7777777777777778,\"#fb9f3a\"],[0.8888888888888888,\"#fdca26\"],[1.0,\"#f0f921\"]]},\"legend\":{\"tracegroupgap\":0},\"margin\":{\"t\":60},\"title\":{\"text\":\"Agrupamento Hier\\u00e1rquico\"},\"width\":800,\"height\":500},                        {\"responsive\": true}                    ).then(function(){\n",
              "                            \n",
              "var gd = document.getElementById('af5a6e55-1e9b-4c14-ab02-d9c227c47352');\n",
              "var x = new MutationObserver(function (mutations, observer) {{\n",
              "        var display = window.getComputedStyle(gd).display;\n",
              "        if (!display || display === 'none') {{\n",
              "            console.log([gd, 'removed!']);\n",
              "            Plotly.purge(gd);\n",
              "            observer.disconnect();\n",
              "        }}\n",
              "}});\n",
              "\n",
              "// Listen for the removal of the full notebook cells\n",
              "var notebookContainer = gd.closest('#notebook-container');\n",
              "if (notebookContainer) {{\n",
              "    x.observe(notebookContainer, {childList: true});\n",
              "}}\n",
              "\n",
              "// Listen for the clearing of the current output cell\n",
              "var outputEl = gd.closest('.output');\n",
              "if (outputEl) {{\n",
              "    x.observe(outputEl, {childList: true});\n",
              "}}\n",
              "\n",
              "                        })                };                            </script>        </div>\n",
              "</body>\n",
              "</html>"
            ]
          },
          "metadata": {}
        }
      ]
    },
    {
      "cell_type": "markdown",
      "source": [
        "**Agrupamento**"
      ],
      "metadata": {
        "id": "1hIOXXiSPbKd"
      }
    },
    {
      "cell_type": "code",
      "source": [
        "agrupamento = pd.DataFrame(classificacao, columns = ['Grupo2'])\n",
        "agrupamento"
      ],
      "metadata": {
        "colab": {
          "base_uri": "https://localhost:8080/",
          "height": 424
        },
        "id": "hjI5bz5kSbpo",
        "outputId": "6d8a9196-aa86-4ed9-f078-a53222c7e25b"
      },
      "execution_count": null,
      "outputs": [
        {
          "output_type": "execute_result",
          "data": {
            "text/plain": [
              "      Grupo2\n",
              "0          0\n",
              "1          2\n",
              "2          0\n",
              "3          2\n",
              "4          0\n",
              "...      ...\n",
              "5898       2\n",
              "5899       2\n",
              "5900       2\n",
              "5901       0\n",
              "5902       0\n",
              "\n",
              "[5903 rows x 1 columns]"
            ],
            "text/html": [
              "\n",
              "  <div id=\"df-b2fd8b2f-dfab-47ae-b24e-5748fb665c4f\">\n",
              "    <div class=\"colab-df-container\">\n",
              "      <div>\n",
              "<style scoped>\n",
              "    .dataframe tbody tr th:only-of-type {\n",
              "        vertical-align: middle;\n",
              "    }\n",
              "\n",
              "    .dataframe tbody tr th {\n",
              "        vertical-align: top;\n",
              "    }\n",
              "\n",
              "    .dataframe thead th {\n",
              "        text-align: right;\n",
              "    }\n",
              "</style>\n",
              "<table border=\"1\" class=\"dataframe\">\n",
              "  <thead>\n",
              "    <tr style=\"text-align: right;\">\n",
              "      <th></th>\n",
              "      <th>Grupo2</th>\n",
              "    </tr>\n",
              "  </thead>\n",
              "  <tbody>\n",
              "    <tr>\n",
              "      <th>0</th>\n",
              "      <td>0</td>\n",
              "    </tr>\n",
              "    <tr>\n",
              "      <th>1</th>\n",
              "      <td>2</td>\n",
              "    </tr>\n",
              "    <tr>\n",
              "      <th>2</th>\n",
              "      <td>0</td>\n",
              "    </tr>\n",
              "    <tr>\n",
              "      <th>3</th>\n",
              "      <td>2</td>\n",
              "    </tr>\n",
              "    <tr>\n",
              "      <th>4</th>\n",
              "      <td>0</td>\n",
              "    </tr>\n",
              "    <tr>\n",
              "      <th>...</th>\n",
              "      <td>...</td>\n",
              "    </tr>\n",
              "    <tr>\n",
              "      <th>5898</th>\n",
              "      <td>2</td>\n",
              "    </tr>\n",
              "    <tr>\n",
              "      <th>5899</th>\n",
              "      <td>2</td>\n",
              "    </tr>\n",
              "    <tr>\n",
              "      <th>5900</th>\n",
              "      <td>2</td>\n",
              "    </tr>\n",
              "    <tr>\n",
              "      <th>5901</th>\n",
              "      <td>0</td>\n",
              "    </tr>\n",
              "    <tr>\n",
              "      <th>5902</th>\n",
              "      <td>0</td>\n",
              "    </tr>\n",
              "  </tbody>\n",
              "</table>\n",
              "<p>5903 rows × 1 columns</p>\n",
              "</div>\n",
              "      <button class=\"colab-df-convert\" onclick=\"convertToInteractive('df-b2fd8b2f-dfab-47ae-b24e-5748fb665c4f')\"\n",
              "              title=\"Convert this dataframe to an interactive table.\"\n",
              "              style=\"display:none;\">\n",
              "        \n",
              "  <svg xmlns=\"http://www.w3.org/2000/svg\" height=\"24px\"viewBox=\"0 0 24 24\"\n",
              "       width=\"24px\">\n",
              "    <path d=\"M0 0h24v24H0V0z\" fill=\"none\"/>\n",
              "    <path d=\"M18.56 5.44l.94 2.06.94-2.06 2.06-.94-2.06-.94-.94-2.06-.94 2.06-2.06.94zm-11 1L8.5 8.5l.94-2.06 2.06-.94-2.06-.94L8.5 2.5l-.94 2.06-2.06.94zm10 10l.94 2.06.94-2.06 2.06-.94-2.06-.94-.94-2.06-.94 2.06-2.06.94z\"/><path d=\"M17.41 7.96l-1.37-1.37c-.4-.4-.92-.59-1.43-.59-.52 0-1.04.2-1.43.59L10.3 9.45l-7.72 7.72c-.78.78-.78 2.05 0 2.83L4 21.41c.39.39.9.59 1.41.59.51 0 1.02-.2 1.41-.59l7.78-7.78 2.81-2.81c.8-.78.8-2.07 0-2.86zM5.41 20L4 18.59l7.72-7.72 1.47 1.35L5.41 20z\"/>\n",
              "  </svg>\n",
              "      </button>\n",
              "      \n",
              "  <style>\n",
              "    .colab-df-container {\n",
              "      display:flex;\n",
              "      flex-wrap:wrap;\n",
              "      gap: 12px;\n",
              "    }\n",
              "\n",
              "    .colab-df-convert {\n",
              "      background-color: #E8F0FE;\n",
              "      border: none;\n",
              "      border-radius: 50%;\n",
              "      cursor: pointer;\n",
              "      display: none;\n",
              "      fill: #1967D2;\n",
              "      height: 32px;\n",
              "      padding: 0 0 0 0;\n",
              "      width: 32px;\n",
              "    }\n",
              "\n",
              "    .colab-df-convert:hover {\n",
              "      background-color: #E2EBFA;\n",
              "      box-shadow: 0px 1px 2px rgba(60, 64, 67, 0.3), 0px 1px 3px 1px rgba(60, 64, 67, 0.15);\n",
              "      fill: #174EA6;\n",
              "    }\n",
              "\n",
              "    [theme=dark] .colab-df-convert {\n",
              "      background-color: #3B4455;\n",
              "      fill: #D2E3FC;\n",
              "    }\n",
              "\n",
              "    [theme=dark] .colab-df-convert:hover {\n",
              "      background-color: #434B5C;\n",
              "      box-shadow: 0px 1px 3px 1px rgba(0, 0, 0, 0.15);\n",
              "      filter: drop-shadow(0px 1px 2px rgba(0, 0, 0, 0.3));\n",
              "      fill: #FFFFFF;\n",
              "    }\n",
              "  </style>\n",
              "\n",
              "      <script>\n",
              "        const buttonEl =\n",
              "          document.querySelector('#df-b2fd8b2f-dfab-47ae-b24e-5748fb665c4f button.colab-df-convert');\n",
              "        buttonEl.style.display =\n",
              "          google.colab.kernel.accessAllowed ? 'block' : 'none';\n",
              "\n",
              "        async function convertToInteractive(key) {\n",
              "          const element = document.querySelector('#df-b2fd8b2f-dfab-47ae-b24e-5748fb665c4f');\n",
              "          const dataTable =\n",
              "            await google.colab.kernel.invokeFunction('convertToInteractive',\n",
              "                                                     [key], {});\n",
              "          if (!dataTable) return;\n",
              "\n",
              "          const docLinkHtml = 'Like what you see? Visit the ' +\n",
              "            '<a target=\"_blank\" href=https://colab.research.google.com/notebooks/data_table.ipynb>data table notebook</a>'\n",
              "            + ' to learn more about interactive tables.';\n",
              "          element.innerHTML = '';\n",
              "          dataTable['output_type'] = 'display_data';\n",
              "          await google.colab.output.renderOutput(dataTable, element);\n",
              "          const docLink = document.createElement('div');\n",
              "          docLink.innerHTML = docLinkHtml;\n",
              "          element.appendChild(docLink);\n",
              "        }\n",
              "      </script>\n",
              "    </div>\n",
              "  </div>\n",
              "  "
            ]
          },
          "metadata": {},
          "execution_count": 78
        }
      ]
    },
    {
      "cell_type": "code",
      "source": [
        "df_hc = pd.concat([df2, agrupamento],axis=1)\n",
        "df_hc"
      ],
      "metadata": {
        "colab": {
          "base_uri": "https://localhost:8080/",
          "height": 424
        },
        "id": "NQtAYBeoSfdK",
        "outputId": "9f132308-e4f0-4dac-a9f5-58386d0f640e"
      },
      "execution_count": null,
      "outputs": [
        {
          "output_type": "execute_result",
          "data": {
            "text/plain": [
              "      IDADE  SEXO  INTERNADO  STATUS  Grupo  Grupo2\n",
              "0        54     1          0       0      1       0\n",
              "1        15     1          0       0      1       2\n",
              "2        43     1          0       0      1       0\n",
              "3        25     0          0       0      0       2\n",
              "4        58     1          0       0      1       0\n",
              "...     ...   ...        ...     ...    ...     ...\n",
              "5898     46     0          0       0      0       2\n",
              "5899     23     0          0       0      0       2\n",
              "5900     34     0          0       0      0       2\n",
              "5901     70     1          0       0      1       0\n",
              "5902     67     1          0       0      1       0\n",
              "\n",
              "[5903 rows x 6 columns]"
            ],
            "text/html": [
              "\n",
              "  <div id=\"df-c90dee36-bfb3-4a89-ad2c-414e47df1141\">\n",
              "    <div class=\"colab-df-container\">\n",
              "      <div>\n",
              "<style scoped>\n",
              "    .dataframe tbody tr th:only-of-type {\n",
              "        vertical-align: middle;\n",
              "    }\n",
              "\n",
              "    .dataframe tbody tr th {\n",
              "        vertical-align: top;\n",
              "    }\n",
              "\n",
              "    .dataframe thead th {\n",
              "        text-align: right;\n",
              "    }\n",
              "</style>\n",
              "<table border=\"1\" class=\"dataframe\">\n",
              "  <thead>\n",
              "    <tr style=\"text-align: right;\">\n",
              "      <th></th>\n",
              "      <th>IDADE</th>\n",
              "      <th>SEXO</th>\n",
              "      <th>INTERNADO</th>\n",
              "      <th>STATUS</th>\n",
              "      <th>Grupo</th>\n",
              "      <th>Grupo2</th>\n",
              "    </tr>\n",
              "  </thead>\n",
              "  <tbody>\n",
              "    <tr>\n",
              "      <th>0</th>\n",
              "      <td>54</td>\n",
              "      <td>1</td>\n",
              "      <td>0</td>\n",
              "      <td>0</td>\n",
              "      <td>1</td>\n",
              "      <td>0</td>\n",
              "    </tr>\n",
              "    <tr>\n",
              "      <th>1</th>\n",
              "      <td>15</td>\n",
              "      <td>1</td>\n",
              "      <td>0</td>\n",
              "      <td>0</td>\n",
              "      <td>1</td>\n",
              "      <td>2</td>\n",
              "    </tr>\n",
              "    <tr>\n",
              "      <th>2</th>\n",
              "      <td>43</td>\n",
              "      <td>1</td>\n",
              "      <td>0</td>\n",
              "      <td>0</td>\n",
              "      <td>1</td>\n",
              "      <td>0</td>\n",
              "    </tr>\n",
              "    <tr>\n",
              "      <th>3</th>\n",
              "      <td>25</td>\n",
              "      <td>0</td>\n",
              "      <td>0</td>\n",
              "      <td>0</td>\n",
              "      <td>0</td>\n",
              "      <td>2</td>\n",
              "    </tr>\n",
              "    <tr>\n",
              "      <th>4</th>\n",
              "      <td>58</td>\n",
              "      <td>1</td>\n",
              "      <td>0</td>\n",
              "      <td>0</td>\n",
              "      <td>1</td>\n",
              "      <td>0</td>\n",
              "    </tr>\n",
              "    <tr>\n",
              "      <th>...</th>\n",
              "      <td>...</td>\n",
              "      <td>...</td>\n",
              "      <td>...</td>\n",
              "      <td>...</td>\n",
              "      <td>...</td>\n",
              "      <td>...</td>\n",
              "    </tr>\n",
              "    <tr>\n",
              "      <th>5898</th>\n",
              "      <td>46</td>\n",
              "      <td>0</td>\n",
              "      <td>0</td>\n",
              "      <td>0</td>\n",
              "      <td>0</td>\n",
              "      <td>2</td>\n",
              "    </tr>\n",
              "    <tr>\n",
              "      <th>5899</th>\n",
              "      <td>23</td>\n",
              "      <td>0</td>\n",
              "      <td>0</td>\n",
              "      <td>0</td>\n",
              "      <td>0</td>\n",
              "      <td>2</td>\n",
              "    </tr>\n",
              "    <tr>\n",
              "      <th>5900</th>\n",
              "      <td>34</td>\n",
              "      <td>0</td>\n",
              "      <td>0</td>\n",
              "      <td>0</td>\n",
              "      <td>0</td>\n",
              "      <td>2</td>\n",
              "    </tr>\n",
              "    <tr>\n",
              "      <th>5901</th>\n",
              "      <td>70</td>\n",
              "      <td>1</td>\n",
              "      <td>0</td>\n",
              "      <td>0</td>\n",
              "      <td>1</td>\n",
              "      <td>0</td>\n",
              "    </tr>\n",
              "    <tr>\n",
              "      <th>5902</th>\n",
              "      <td>67</td>\n",
              "      <td>1</td>\n",
              "      <td>0</td>\n",
              "      <td>0</td>\n",
              "      <td>1</td>\n",
              "      <td>0</td>\n",
              "    </tr>\n",
              "  </tbody>\n",
              "</table>\n",
              "<p>5903 rows × 6 columns</p>\n",
              "</div>\n",
              "      <button class=\"colab-df-convert\" onclick=\"convertToInteractive('df-c90dee36-bfb3-4a89-ad2c-414e47df1141')\"\n",
              "              title=\"Convert this dataframe to an interactive table.\"\n",
              "              style=\"display:none;\">\n",
              "        \n",
              "  <svg xmlns=\"http://www.w3.org/2000/svg\" height=\"24px\"viewBox=\"0 0 24 24\"\n",
              "       width=\"24px\">\n",
              "    <path d=\"M0 0h24v24H0V0z\" fill=\"none\"/>\n",
              "    <path d=\"M18.56 5.44l.94 2.06.94-2.06 2.06-.94-2.06-.94-.94-2.06-.94 2.06-2.06.94zm-11 1L8.5 8.5l.94-2.06 2.06-.94-2.06-.94L8.5 2.5l-.94 2.06-2.06.94zm10 10l.94 2.06.94-2.06 2.06-.94-2.06-.94-.94-2.06-.94 2.06-2.06.94z\"/><path d=\"M17.41 7.96l-1.37-1.37c-.4-.4-.92-.59-1.43-.59-.52 0-1.04.2-1.43.59L10.3 9.45l-7.72 7.72c-.78.78-.78 2.05 0 2.83L4 21.41c.39.39.9.59 1.41.59.51 0 1.02-.2 1.41-.59l7.78-7.78 2.81-2.81c.8-.78.8-2.07 0-2.86zM5.41 20L4 18.59l7.72-7.72 1.47 1.35L5.41 20z\"/>\n",
              "  </svg>\n",
              "      </button>\n",
              "      \n",
              "  <style>\n",
              "    .colab-df-container {\n",
              "      display:flex;\n",
              "      flex-wrap:wrap;\n",
              "      gap: 12px;\n",
              "    }\n",
              "\n",
              "    .colab-df-convert {\n",
              "      background-color: #E8F0FE;\n",
              "      border: none;\n",
              "      border-radius: 50%;\n",
              "      cursor: pointer;\n",
              "      display: none;\n",
              "      fill: #1967D2;\n",
              "      height: 32px;\n",
              "      padding: 0 0 0 0;\n",
              "      width: 32px;\n",
              "    }\n",
              "\n",
              "    .colab-df-convert:hover {\n",
              "      background-color: #E2EBFA;\n",
              "      box-shadow: 0px 1px 2px rgba(60, 64, 67, 0.3), 0px 1px 3px 1px rgba(60, 64, 67, 0.15);\n",
              "      fill: #174EA6;\n",
              "    }\n",
              "\n",
              "    [theme=dark] .colab-df-convert {\n",
              "      background-color: #3B4455;\n",
              "      fill: #D2E3FC;\n",
              "    }\n",
              "\n",
              "    [theme=dark] .colab-df-convert:hover {\n",
              "      background-color: #434B5C;\n",
              "      box-shadow: 0px 1px 3px 1px rgba(0, 0, 0, 0.15);\n",
              "      filter: drop-shadow(0px 1px 2px rgba(0, 0, 0, 0.3));\n",
              "      fill: #FFFFFF;\n",
              "    }\n",
              "  </style>\n",
              "\n",
              "      <script>\n",
              "        const buttonEl =\n",
              "          document.querySelector('#df-c90dee36-bfb3-4a89-ad2c-414e47df1141 button.colab-df-convert');\n",
              "        buttonEl.style.display =\n",
              "          google.colab.kernel.accessAllowed ? 'block' : 'none';\n",
              "\n",
              "        async function convertToInteractive(key) {\n",
              "          const element = document.querySelector('#df-c90dee36-bfb3-4a89-ad2c-414e47df1141');\n",
              "          const dataTable =\n",
              "            await google.colab.kernel.invokeFunction('convertToInteractive',\n",
              "                                                     [key], {});\n",
              "          if (!dataTable) return;\n",
              "\n",
              "          const docLinkHtml = 'Like what you see? Visit the ' +\n",
              "            '<a target=\"_blank\" href=https://colab.research.google.com/notebooks/data_table.ipynb>data table notebook</a>'\n",
              "            + ' to learn more about interactive tables.';\n",
              "          element.innerHTML = '';\n",
              "          dataTable['output_type'] = 'display_data';\n",
              "          await google.colab.output.renderOutput(dataTable, element);\n",
              "          const docLink = document.createElement('div');\n",
              "          docLink.innerHTML = docLinkHtml;\n",
              "          element.appendChild(docLink);\n",
              "        }\n",
              "      </script>\n",
              "    </div>\n",
              "  </div>\n",
              "  "
            ]
          },
          "metadata": {},
          "execution_count": 79
        }
      ]
    }
  ]
}