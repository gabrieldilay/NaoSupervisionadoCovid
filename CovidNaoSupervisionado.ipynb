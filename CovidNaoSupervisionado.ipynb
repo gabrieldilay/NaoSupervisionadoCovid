{
  "nbformat": 4,
  "nbformat_minor": 0,
  "metadata": {
    "colab": {
      "provenance": [],
      "authorship_tag": "ABX9TyPriwsLus83B5i1UTi+8I7w",
      "include_colab_link": true
    },
    "kernelspec": {
      "name": "python3",
      "display_name": "Python 3"
    },
    "language_info": {
      "name": "python"
    }
  },
  "cells": [
    {
      "cell_type": "markdown",
      "metadata": {
        "id": "view-in-github",
        "colab_type": "text"
      },
      "source": [
        "<a href=\"https://colab.research.google.com/github/gabrieldilay/NaoSupervisionadoCovid/blob/main/CovidNaoSupervisionado.ipynb\" target=\"_parent\"><img src=\"https://colab.research.google.com/assets/colab-badge.svg\" alt=\"Open In Colab\"/></a>"
      ]
    },
    {
      "cell_type": "code",
      "execution_count": 254,
      "metadata": {
        "id": "ftqXh8LWID8U"
      },
      "outputs": [],
      "source": [
        "import numpy as np\n",
        "import pandas as pd"
      ]
    },
    {
      "cell_type": "code",
      "source": [
        "from google.colab import drive\n",
        "drive.mount('/content/drive')"
      ],
      "metadata": {
        "colab": {
          "base_uri": "https://localhost:8080/"
        },
        "id": "M-rr7J5zIEx0",
        "outputId": "43bed3d1-d2d4-4fa1-8b7c-2667ceb4740f"
      },
      "execution_count": 255,
      "outputs": [
        {
          "output_type": "stream",
          "name": "stdout",
          "text": [
            "Drive already mounted at /content/drive; to attempt to forcibly remount, call drive.mount(\"/content/drive\", force_remount=True).\n"
          ]
        }
      ]
    },
    {
      "cell_type": "code",
      "source": [
        "import warnings\n",
        "warnings.filterwarnings(\"ignore\")"
      ],
      "metadata": {
        "id": "g2t70f13IF_s"
      },
      "execution_count": 256,
      "outputs": []
    },
    {
      "cell_type": "code",
      "source": [
        "df = pd.read_csv('/content/drive/MyDrive/TrabNaoSupervisionado/menor.csv',\n",
        "                    sep=';', encoding='iso-8859-1')"
      ],
      "metadata": {
        "id": "1Qf6WLhFIHQd"
      },
      "execution_count": 257,
      "outputs": []
    },
    {
      "cell_type": "code",
      "source": [
        "df.head()"
      ],
      "metadata": {
        "colab": {
          "base_uri": "https://localhost:8080/",
          "height": 206
        },
        "id": "OGUI_WqRIIjU",
        "outputId": "93fcfc93-d4c3-4279-b47f-aef8e822f0b9"
      },
      "execution_count": 258,
      "outputs": [
        {
          "output_type": "execute_result",
          "data": {
            "text/plain": [
              "  DATA INCLUSÃO/ NOTIFICAÇÃO CLASSIFICAÇÃO FINAL  IDADE (anos) SEXO  \\\n",
              "0                 11/03/2020          CONFIRMADO            54    M   \n",
              "1                 12/03/2020          CONFIRMADO            15    M   \n",
              "2                 12/03/2020          CONFIRMADO            43    M   \n",
              "3                 12/03/2020          CONFIRMADO            25    F   \n",
              "4                 12/03/2020          CONFIRMADO            58    M   \n",
              "\n",
              "       BAIRRO DISTRITO RESIDÊNCIA INTERNADO (SIM/NÃO) DATA COLETA EXAME  \\\n",
              "0  CRISTO REI                DSMZ                 NÃO        09/03/2020   \n",
              "1       XAXIM                DSBQ                 NÃO        08/03/2020   \n",
              "2       XAXIM                DSBQ                 NÃO        09/03/2020   \n",
              "3  CRISTO REI                DSMZ                 NÃO        09/03/2020   \n",
              "4      MERCÊS                DSMZ                 NÃO        09/03/2020   \n",
              "\n",
              "  DATA ÓBITO ENCERRAMENTO  \n",
              "0        NaN   RECUPERADO  \n",
              "1        NaN   RECUPERADO  \n",
              "2        NaN   RECUPERADO  \n",
              "3        NaN   RECUPERADO  \n",
              "4        NaN   RECUPERADO  "
            ],
            "text/html": [
              "\n",
              "  <div id=\"df-9699fa35-d90d-4da3-adc8-f93c96bd8e4b\">\n",
              "    <div class=\"colab-df-container\">\n",
              "      <div>\n",
              "<style scoped>\n",
              "    .dataframe tbody tr th:only-of-type {\n",
              "        vertical-align: middle;\n",
              "    }\n",
              "\n",
              "    .dataframe tbody tr th {\n",
              "        vertical-align: top;\n",
              "    }\n",
              "\n",
              "    .dataframe thead th {\n",
              "        text-align: right;\n",
              "    }\n",
              "</style>\n",
              "<table border=\"1\" class=\"dataframe\">\n",
              "  <thead>\n",
              "    <tr style=\"text-align: right;\">\n",
              "      <th></th>\n",
              "      <th>DATA INCLUSÃO/ NOTIFICAÇÃO</th>\n",
              "      <th>CLASSIFICAÇÃO FINAL</th>\n",
              "      <th>IDADE (anos)</th>\n",
              "      <th>SEXO</th>\n",
              "      <th>BAIRRO</th>\n",
              "      <th>DISTRITO RESIDÊNCIA</th>\n",
              "      <th>INTERNADO (SIM/NÃO)</th>\n",
              "      <th>DATA COLETA EXAME</th>\n",
              "      <th>DATA ÓBITO</th>\n",
              "      <th>ENCERRAMENTO</th>\n",
              "    </tr>\n",
              "  </thead>\n",
              "  <tbody>\n",
              "    <tr>\n",
              "      <th>0</th>\n",
              "      <td>11/03/2020</td>\n",
              "      <td>CONFIRMADO</td>\n",
              "      <td>54</td>\n",
              "      <td>M</td>\n",
              "      <td>CRISTO REI</td>\n",
              "      <td>DSMZ</td>\n",
              "      <td>NÃO</td>\n",
              "      <td>09/03/2020</td>\n",
              "      <td>NaN</td>\n",
              "      <td>RECUPERADO</td>\n",
              "    </tr>\n",
              "    <tr>\n",
              "      <th>1</th>\n",
              "      <td>12/03/2020</td>\n",
              "      <td>CONFIRMADO</td>\n",
              "      <td>15</td>\n",
              "      <td>M</td>\n",
              "      <td>XAXIM</td>\n",
              "      <td>DSBQ</td>\n",
              "      <td>NÃO</td>\n",
              "      <td>08/03/2020</td>\n",
              "      <td>NaN</td>\n",
              "      <td>RECUPERADO</td>\n",
              "    </tr>\n",
              "    <tr>\n",
              "      <th>2</th>\n",
              "      <td>12/03/2020</td>\n",
              "      <td>CONFIRMADO</td>\n",
              "      <td>43</td>\n",
              "      <td>M</td>\n",
              "      <td>XAXIM</td>\n",
              "      <td>DSBQ</td>\n",
              "      <td>NÃO</td>\n",
              "      <td>09/03/2020</td>\n",
              "      <td>NaN</td>\n",
              "      <td>RECUPERADO</td>\n",
              "    </tr>\n",
              "    <tr>\n",
              "      <th>3</th>\n",
              "      <td>12/03/2020</td>\n",
              "      <td>CONFIRMADO</td>\n",
              "      <td>25</td>\n",
              "      <td>F</td>\n",
              "      <td>CRISTO REI</td>\n",
              "      <td>DSMZ</td>\n",
              "      <td>NÃO</td>\n",
              "      <td>09/03/2020</td>\n",
              "      <td>NaN</td>\n",
              "      <td>RECUPERADO</td>\n",
              "    </tr>\n",
              "    <tr>\n",
              "      <th>4</th>\n",
              "      <td>12/03/2020</td>\n",
              "      <td>CONFIRMADO</td>\n",
              "      <td>58</td>\n",
              "      <td>M</td>\n",
              "      <td>MERCÊS</td>\n",
              "      <td>DSMZ</td>\n",
              "      <td>NÃO</td>\n",
              "      <td>09/03/2020</td>\n",
              "      <td>NaN</td>\n",
              "      <td>RECUPERADO</td>\n",
              "    </tr>\n",
              "  </tbody>\n",
              "</table>\n",
              "</div>\n",
              "      <button class=\"colab-df-convert\" onclick=\"convertToInteractive('df-9699fa35-d90d-4da3-adc8-f93c96bd8e4b')\"\n",
              "              title=\"Convert this dataframe to an interactive table.\"\n",
              "              style=\"display:none;\">\n",
              "        \n",
              "  <svg xmlns=\"http://www.w3.org/2000/svg\" height=\"24px\"viewBox=\"0 0 24 24\"\n",
              "       width=\"24px\">\n",
              "    <path d=\"M0 0h24v24H0V0z\" fill=\"none\"/>\n",
              "    <path d=\"M18.56 5.44l.94 2.06.94-2.06 2.06-.94-2.06-.94-.94-2.06-.94 2.06-2.06.94zm-11 1L8.5 8.5l.94-2.06 2.06-.94-2.06-.94L8.5 2.5l-.94 2.06-2.06.94zm10 10l.94 2.06.94-2.06 2.06-.94-2.06-.94-.94-2.06-.94 2.06-2.06.94z\"/><path d=\"M17.41 7.96l-1.37-1.37c-.4-.4-.92-.59-1.43-.59-.52 0-1.04.2-1.43.59L10.3 9.45l-7.72 7.72c-.78.78-.78 2.05 0 2.83L4 21.41c.39.39.9.59 1.41.59.51 0 1.02-.2 1.41-.59l7.78-7.78 2.81-2.81c.8-.78.8-2.07 0-2.86zM5.41 20L4 18.59l7.72-7.72 1.47 1.35L5.41 20z\"/>\n",
              "  </svg>\n",
              "      </button>\n",
              "      \n",
              "  <style>\n",
              "    .colab-df-container {\n",
              "      display:flex;\n",
              "      flex-wrap:wrap;\n",
              "      gap: 12px;\n",
              "    }\n",
              "\n",
              "    .colab-df-convert {\n",
              "      background-color: #E8F0FE;\n",
              "      border: none;\n",
              "      border-radius: 50%;\n",
              "      cursor: pointer;\n",
              "      display: none;\n",
              "      fill: #1967D2;\n",
              "      height: 32px;\n",
              "      padding: 0 0 0 0;\n",
              "      width: 32px;\n",
              "    }\n",
              "\n",
              "    .colab-df-convert:hover {\n",
              "      background-color: #E2EBFA;\n",
              "      box-shadow: 0px 1px 2px rgba(60, 64, 67, 0.3), 0px 1px 3px 1px rgba(60, 64, 67, 0.15);\n",
              "      fill: #174EA6;\n",
              "    }\n",
              "\n",
              "    [theme=dark] .colab-df-convert {\n",
              "      background-color: #3B4455;\n",
              "      fill: #D2E3FC;\n",
              "    }\n",
              "\n",
              "    [theme=dark] .colab-df-convert:hover {\n",
              "      background-color: #434B5C;\n",
              "      box-shadow: 0px 1px 3px 1px rgba(0, 0, 0, 0.15);\n",
              "      filter: drop-shadow(0px 1px 2px rgba(0, 0, 0, 0.3));\n",
              "      fill: #FFFFFF;\n",
              "    }\n",
              "  </style>\n",
              "\n",
              "      <script>\n",
              "        const buttonEl =\n",
              "          document.querySelector('#df-9699fa35-d90d-4da3-adc8-f93c96bd8e4b button.colab-df-convert');\n",
              "        buttonEl.style.display =\n",
              "          google.colab.kernel.accessAllowed ? 'block' : 'none';\n",
              "\n",
              "        async function convertToInteractive(key) {\n",
              "          const element = document.querySelector('#df-9699fa35-d90d-4da3-adc8-f93c96bd8e4b');\n",
              "          const dataTable =\n",
              "            await google.colab.kernel.invokeFunction('convertToInteractive',\n",
              "                                                     [key], {});\n",
              "          if (!dataTable) return;\n",
              "\n",
              "          const docLinkHtml = 'Like what you see? Visit the ' +\n",
              "            '<a target=\"_blank\" href=https://colab.research.google.com/notebooks/data_table.ipynb>data table notebook</a>'\n",
              "            + ' to learn more about interactive tables.';\n",
              "          element.innerHTML = '';\n",
              "          dataTable['output_type'] = 'display_data';\n",
              "          await google.colab.output.renderOutput(dataTable, element);\n",
              "          const docLink = document.createElement('div');\n",
              "          docLink.innerHTML = docLinkHtml;\n",
              "          element.appendChild(docLink);\n",
              "        }\n",
              "      </script>\n",
              "    </div>\n",
              "  </div>\n",
              "  "
            ]
          },
          "metadata": {},
          "execution_count": 258
        }
      ]
    },
    {
      "cell_type": "code",
      "source": [
        "df.info()"
      ],
      "metadata": {
        "colab": {
          "base_uri": "https://localhost:8080/"
        },
        "id": "jSxOmvgkRNoW",
        "outputId": "8c76146c-c3f4-4984-89fb-e7d34f34992c"
      },
      "execution_count": 259,
      "outputs": [
        {
          "output_type": "stream",
          "name": "stdout",
          "text": [
            "<class 'pandas.core.frame.DataFrame'>\n",
            "RangeIndex: 5903 entries, 0 to 5902\n",
            "Data columns (total 10 columns):\n",
            " #   Column                      Non-Null Count  Dtype \n",
            "---  ------                      --------------  ----- \n",
            " 0   DATA INCLUSÃO/ NOTIFICAÇÃO  5903 non-null   object\n",
            " 1   CLASSIFICAÇÃO FINAL         5903 non-null   object\n",
            " 2   IDADE (anos)                5903 non-null   int64 \n",
            " 3   SEXO                        5903 non-null   object\n",
            " 4   BAIRRO                      5877 non-null   object\n",
            " 5   DISTRITO RESIDÊNCIA         5877 non-null   object\n",
            " 6   INTERNADO (SIM/NÃO)         5903 non-null   object\n",
            " 7   DATA COLETA EXAME           5903 non-null   object\n",
            " 8   DATA ÓBITO                  281 non-null    object\n",
            " 9   ENCERRAMENTO                5903 non-null   object\n",
            "dtypes: int64(1), object(9)\n",
            "memory usage: 461.3+ KB\n"
          ]
        }
      ]
    },
    {
      "cell_type": "markdown",
      "source": [
        "## Limpeza e Tratamento dos dados"
      ],
      "metadata": {
        "id": "-tAdOT4VLk8G"
      }
    },
    {
      "cell_type": "code",
      "source": [
        "#Verificar os valores unicos da coluna CLASSIFICAÇÃO FINAL\n",
        "df['CLASSIFICAÇÃO FINAL'].unique()"
      ],
      "metadata": {
        "colab": {
          "base_uri": "https://localhost:8080/"
        },
        "id": "tU3RIdL9Imad",
        "outputId": "19a18487-de03-43a8-d268-afe0d122c7c4"
      },
      "execution_count": 260,
      "outputs": [
        {
          "output_type": "execute_result",
          "data": {
            "text/plain": [
              "array(['CONFIRMADO'], dtype=object)"
            ]
          },
          "metadata": {},
          "execution_count": 260
        }
      ]
    },
    {
      "cell_type": "code",
      "source": [
        "#Verificar os valores unicos da coluna ENCERRAMENTO\n",
        "df['ENCERRAMENTO'].unique()"
      ],
      "metadata": {
        "colab": {
          "base_uri": "https://localhost:8080/"
        },
        "id": "eRHZPUUuIxv0",
        "outputId": "546a9104-22aa-43b3-97a9-9ce170dd5250"
      },
      "execution_count": 261,
      "outputs": [
        {
          "output_type": "execute_result",
          "data": {
            "text/plain": [
              "array(['RECUPERADO', 'ÓBITO CONF'], dtype=object)"
            ]
          },
          "metadata": {},
          "execution_count": 261
        }
      ]
    },
    {
      "cell_type": "code",
      "source": [
        "#SUBSTITUIR OS VALORES POR NUMEROS\n",
        "#RECUPERADO = 0, OBITO = 1, ATIVO = 2\n",
        "\n",
        "df['ENCERRAMENTO'].replace({'RECUPERADO':0, 'ÓBITO CONF':1, 'ATIVO':2}, inplace=True)"
      ],
      "metadata": {
        "id": "bmLcnr5OJIAE"
      },
      "execution_count": 262,
      "outputs": []
    },
    {
      "cell_type": "code",
      "source": [
        "df['ENCERRAMENTO'].unique()"
      ],
      "metadata": {
        "colab": {
          "base_uri": "https://localhost:8080/"
        },
        "id": "7MZsqO0TJQsX",
        "outputId": "f044234b-11c7-4541-8d25-96f2b5cf90bf"
      },
      "execution_count": 263,
      "outputs": [
        {
          "output_type": "execute_result",
          "data": {
            "text/plain": [
              "array([0, 1])"
            ]
          },
          "metadata": {},
          "execution_count": 263
        }
      ]
    },
    {
      "cell_type": "code",
      "source": [
        "#TROCAR O NOME DA COLUNA ENCERRAMENTO PARA STATUS\n",
        "df.rename(columns={'ENCERRAMENTO': 'STATUS'}, inplace=True)"
      ],
      "metadata": {
        "id": "zRgUQd-DLN2-"
      },
      "execution_count": 264,
      "outputs": []
    },
    {
      "cell_type": "code",
      "source": [
        "#TROCAR O NOME DA COLUNA IDADE (ANOS) PARA IDADE\n",
        "df.rename(columns={'IDADE (anos)': 'IDADE'}, inplace=True)"
      ],
      "metadata": {
        "id": "BZklvQAJJYQz"
      },
      "execution_count": 265,
      "outputs": []
    },
    {
      "cell_type": "code",
      "source": [
        "#TROCAR O NOME DA COLUNA INTERNADO (SIM/NAO) PARA INTERNADO\n",
        "df.rename(columns={'INTERNADO (SIM/NÃO)': 'INTERNADO'}, inplace=True)"
      ],
      "metadata": {
        "id": "rcS1KTmbJjpb"
      },
      "execution_count": 266,
      "outputs": []
    },
    {
      "cell_type": "code",
      "source": [
        "df['INTERNADO'].unique()"
      ],
      "metadata": {
        "colab": {
          "base_uri": "https://localhost:8080/"
        },
        "id": "VmU2nJNsJnql",
        "outputId": "933fc3f7-b551-4a7a-99b8-9b99f5c09e66"
      },
      "execution_count": 267,
      "outputs": [
        {
          "output_type": "execute_result",
          "data": {
            "text/plain": [
              "array(['NÃO', 'SIM'], dtype=object)"
            ]
          },
          "metadata": {},
          "execution_count": 267
        }
      ]
    },
    {
      "cell_type": "code",
      "source": [
        "#TROCANDO UM VALOR ERRADO sIM para SIM\n",
        "df['INTERNADO'].replace({'sIM':'SIM'}, inplace=True)"
      ],
      "metadata": {
        "id": "lIVctyJ7JtPO"
      },
      "execution_count": 268,
      "outputs": []
    },
    {
      "cell_type": "code",
      "source": [
        "df['INTERNADO'].unique()"
      ],
      "metadata": {
        "colab": {
          "base_uri": "https://localhost:8080/"
        },
        "id": "4EWAZdqUJ1C3",
        "outputId": "1d3accc1-6981-4e3e-8473-d821c4d21b85"
      },
      "execution_count": 269,
      "outputs": [
        {
          "output_type": "execute_result",
          "data": {
            "text/plain": [
              "array(['NÃO', 'SIM'], dtype=object)"
            ]
          },
          "metadata": {},
          "execution_count": 269
        }
      ]
    },
    {
      "cell_type": "code",
      "source": [
        "#SUBSTITUIR VALORES DA COLUNA INTERNADO PARA NUMEROS\n",
        "#NAO = 0 E SIM = 1\n",
        "df['INTERNADO'].replace({'NÃO':0, 'SIM':1}, inplace=True)"
      ],
      "metadata": {
        "id": "SsUN0cDAJ3ek"
      },
      "execution_count": 270,
      "outputs": []
    },
    {
      "cell_type": "code",
      "source": [
        "df['SEXO'].unique()"
      ],
      "metadata": {
        "colab": {
          "base_uri": "https://localhost:8080/"
        },
        "id": "NyMesCReNEA8",
        "outputId": "bef855b5-c43a-4a1d-af46-786291339d2a"
      },
      "execution_count": 271,
      "outputs": [
        {
          "output_type": "execute_result",
          "data": {
            "text/plain": [
              "array(['M', 'F'], dtype=object)"
            ]
          },
          "metadata": {},
          "execution_count": 271
        }
      ]
    },
    {
      "cell_type": "code",
      "source": [
        "#SUBSTITUIR VALORES DA COLUNA SEXO PARA UM PADRAO\n",
        "df['SEXO'].replace({'m':'M', 'f':'F'}, inplace=True)"
      ],
      "metadata": {
        "id": "XGWbxRpCNGbs"
      },
      "execution_count": 272,
      "outputs": []
    },
    {
      "cell_type": "code",
      "source": [
        "df.head()"
      ],
      "metadata": {
        "colab": {
          "base_uri": "https://localhost:8080/",
          "height": 0
        },
        "id": "z1rglFOJJ_b0",
        "outputId": "2c0b7055-7110-4bef-dcc0-4de3a68c9322"
      },
      "execution_count": 273,
      "outputs": [
        {
          "output_type": "execute_result",
          "data": {
            "text/plain": [
              "  DATA INCLUSÃO/ NOTIFICAÇÃO CLASSIFICAÇÃO FINAL  IDADE SEXO      BAIRRO  \\\n",
              "0                 11/03/2020          CONFIRMADO     54    M  CRISTO REI   \n",
              "1                 12/03/2020          CONFIRMADO     15    M       XAXIM   \n",
              "2                 12/03/2020          CONFIRMADO     43    M       XAXIM   \n",
              "3                 12/03/2020          CONFIRMADO     25    F  CRISTO REI   \n",
              "4                 12/03/2020          CONFIRMADO     58    M      MERCÊS   \n",
              "\n",
              "  DISTRITO RESIDÊNCIA  INTERNADO DATA COLETA EXAME DATA ÓBITO  STATUS  \n",
              "0                DSMZ          0        09/03/2020        NaN       0  \n",
              "1                DSBQ          0        08/03/2020        NaN       0  \n",
              "2                DSBQ          0        09/03/2020        NaN       0  \n",
              "3                DSMZ          0        09/03/2020        NaN       0  \n",
              "4                DSMZ          0        09/03/2020        NaN       0  "
            ],
            "text/html": [
              "\n",
              "  <div id=\"df-7eb9bb11-b374-4f90-935f-cd2e4eb4733a\">\n",
              "    <div class=\"colab-df-container\">\n",
              "      <div>\n",
              "<style scoped>\n",
              "    .dataframe tbody tr th:only-of-type {\n",
              "        vertical-align: middle;\n",
              "    }\n",
              "\n",
              "    .dataframe tbody tr th {\n",
              "        vertical-align: top;\n",
              "    }\n",
              "\n",
              "    .dataframe thead th {\n",
              "        text-align: right;\n",
              "    }\n",
              "</style>\n",
              "<table border=\"1\" class=\"dataframe\">\n",
              "  <thead>\n",
              "    <tr style=\"text-align: right;\">\n",
              "      <th></th>\n",
              "      <th>DATA INCLUSÃO/ NOTIFICAÇÃO</th>\n",
              "      <th>CLASSIFICAÇÃO FINAL</th>\n",
              "      <th>IDADE</th>\n",
              "      <th>SEXO</th>\n",
              "      <th>BAIRRO</th>\n",
              "      <th>DISTRITO RESIDÊNCIA</th>\n",
              "      <th>INTERNADO</th>\n",
              "      <th>DATA COLETA EXAME</th>\n",
              "      <th>DATA ÓBITO</th>\n",
              "      <th>STATUS</th>\n",
              "    </tr>\n",
              "  </thead>\n",
              "  <tbody>\n",
              "    <tr>\n",
              "      <th>0</th>\n",
              "      <td>11/03/2020</td>\n",
              "      <td>CONFIRMADO</td>\n",
              "      <td>54</td>\n",
              "      <td>M</td>\n",
              "      <td>CRISTO REI</td>\n",
              "      <td>DSMZ</td>\n",
              "      <td>0</td>\n",
              "      <td>09/03/2020</td>\n",
              "      <td>NaN</td>\n",
              "      <td>0</td>\n",
              "    </tr>\n",
              "    <tr>\n",
              "      <th>1</th>\n",
              "      <td>12/03/2020</td>\n",
              "      <td>CONFIRMADO</td>\n",
              "      <td>15</td>\n",
              "      <td>M</td>\n",
              "      <td>XAXIM</td>\n",
              "      <td>DSBQ</td>\n",
              "      <td>0</td>\n",
              "      <td>08/03/2020</td>\n",
              "      <td>NaN</td>\n",
              "      <td>0</td>\n",
              "    </tr>\n",
              "    <tr>\n",
              "      <th>2</th>\n",
              "      <td>12/03/2020</td>\n",
              "      <td>CONFIRMADO</td>\n",
              "      <td>43</td>\n",
              "      <td>M</td>\n",
              "      <td>XAXIM</td>\n",
              "      <td>DSBQ</td>\n",
              "      <td>0</td>\n",
              "      <td>09/03/2020</td>\n",
              "      <td>NaN</td>\n",
              "      <td>0</td>\n",
              "    </tr>\n",
              "    <tr>\n",
              "      <th>3</th>\n",
              "      <td>12/03/2020</td>\n",
              "      <td>CONFIRMADO</td>\n",
              "      <td>25</td>\n",
              "      <td>F</td>\n",
              "      <td>CRISTO REI</td>\n",
              "      <td>DSMZ</td>\n",
              "      <td>0</td>\n",
              "      <td>09/03/2020</td>\n",
              "      <td>NaN</td>\n",
              "      <td>0</td>\n",
              "    </tr>\n",
              "    <tr>\n",
              "      <th>4</th>\n",
              "      <td>12/03/2020</td>\n",
              "      <td>CONFIRMADO</td>\n",
              "      <td>58</td>\n",
              "      <td>M</td>\n",
              "      <td>MERCÊS</td>\n",
              "      <td>DSMZ</td>\n",
              "      <td>0</td>\n",
              "      <td>09/03/2020</td>\n",
              "      <td>NaN</td>\n",
              "      <td>0</td>\n",
              "    </tr>\n",
              "  </tbody>\n",
              "</table>\n",
              "</div>\n",
              "      <button class=\"colab-df-convert\" onclick=\"convertToInteractive('df-7eb9bb11-b374-4f90-935f-cd2e4eb4733a')\"\n",
              "              title=\"Convert this dataframe to an interactive table.\"\n",
              "              style=\"display:none;\">\n",
              "        \n",
              "  <svg xmlns=\"http://www.w3.org/2000/svg\" height=\"24px\"viewBox=\"0 0 24 24\"\n",
              "       width=\"24px\">\n",
              "    <path d=\"M0 0h24v24H0V0z\" fill=\"none\"/>\n",
              "    <path d=\"M18.56 5.44l.94 2.06.94-2.06 2.06-.94-2.06-.94-.94-2.06-.94 2.06-2.06.94zm-11 1L8.5 8.5l.94-2.06 2.06-.94-2.06-.94L8.5 2.5l-.94 2.06-2.06.94zm10 10l.94 2.06.94-2.06 2.06-.94-2.06-.94-.94-2.06-.94 2.06-2.06.94z\"/><path d=\"M17.41 7.96l-1.37-1.37c-.4-.4-.92-.59-1.43-.59-.52 0-1.04.2-1.43.59L10.3 9.45l-7.72 7.72c-.78.78-.78 2.05 0 2.83L4 21.41c.39.39.9.59 1.41.59.51 0 1.02-.2 1.41-.59l7.78-7.78 2.81-2.81c.8-.78.8-2.07 0-2.86zM5.41 20L4 18.59l7.72-7.72 1.47 1.35L5.41 20z\"/>\n",
              "  </svg>\n",
              "      </button>\n",
              "      \n",
              "  <style>\n",
              "    .colab-df-container {\n",
              "      display:flex;\n",
              "      flex-wrap:wrap;\n",
              "      gap: 12px;\n",
              "    }\n",
              "\n",
              "    .colab-df-convert {\n",
              "      background-color: #E8F0FE;\n",
              "      border: none;\n",
              "      border-radius: 50%;\n",
              "      cursor: pointer;\n",
              "      display: none;\n",
              "      fill: #1967D2;\n",
              "      height: 32px;\n",
              "      padding: 0 0 0 0;\n",
              "      width: 32px;\n",
              "    }\n",
              "\n",
              "    .colab-df-convert:hover {\n",
              "      background-color: #E2EBFA;\n",
              "      box-shadow: 0px 1px 2px rgba(60, 64, 67, 0.3), 0px 1px 3px 1px rgba(60, 64, 67, 0.15);\n",
              "      fill: #174EA6;\n",
              "    }\n",
              "\n",
              "    [theme=dark] .colab-df-convert {\n",
              "      background-color: #3B4455;\n",
              "      fill: #D2E3FC;\n",
              "    }\n",
              "\n",
              "    [theme=dark] .colab-df-convert:hover {\n",
              "      background-color: #434B5C;\n",
              "      box-shadow: 0px 1px 3px 1px rgba(0, 0, 0, 0.15);\n",
              "      filter: drop-shadow(0px 1px 2px rgba(0, 0, 0, 0.3));\n",
              "      fill: #FFFFFF;\n",
              "    }\n",
              "  </style>\n",
              "\n",
              "      <script>\n",
              "        const buttonEl =\n",
              "          document.querySelector('#df-7eb9bb11-b374-4f90-935f-cd2e4eb4733a button.colab-df-convert');\n",
              "        buttonEl.style.display =\n",
              "          google.colab.kernel.accessAllowed ? 'block' : 'none';\n",
              "\n",
              "        async function convertToInteractive(key) {\n",
              "          const element = document.querySelector('#df-7eb9bb11-b374-4f90-935f-cd2e4eb4733a');\n",
              "          const dataTable =\n",
              "            await google.colab.kernel.invokeFunction('convertToInteractive',\n",
              "                                                     [key], {});\n",
              "          if (!dataTable) return;\n",
              "\n",
              "          const docLinkHtml = 'Like what you see? Visit the ' +\n",
              "            '<a target=\"_blank\" href=https://colab.research.google.com/notebooks/data_table.ipynb>data table notebook</a>'\n",
              "            + ' to learn more about interactive tables.';\n",
              "          element.innerHTML = '';\n",
              "          dataTable['output_type'] = 'display_data';\n",
              "          await google.colab.output.renderOutput(dataTable, element);\n",
              "          const docLink = document.createElement('div');\n",
              "          docLink.innerHTML = docLinkHtml;\n",
              "          element.appendChild(docLink);\n",
              "        }\n",
              "      </script>\n",
              "    </div>\n",
              "  </div>\n",
              "  "
            ]
          },
          "metadata": {},
          "execution_count": 273
        }
      ]
    },
    {
      "cell_type": "code",
      "source": [
        "df.info()"
      ],
      "metadata": {
        "colab": {
          "base_uri": "https://localhost:8080/"
        },
        "id": "R92bUbSnKd-k",
        "outputId": "2ab414c5-1727-4be2-d03c-a81cf2473c7d"
      },
      "execution_count": 274,
      "outputs": [
        {
          "output_type": "stream",
          "name": "stdout",
          "text": [
            "<class 'pandas.core.frame.DataFrame'>\n",
            "RangeIndex: 5903 entries, 0 to 5902\n",
            "Data columns (total 10 columns):\n",
            " #   Column                      Non-Null Count  Dtype \n",
            "---  ------                      --------------  ----- \n",
            " 0   DATA INCLUSÃO/ NOTIFICAÇÃO  5903 non-null   object\n",
            " 1   CLASSIFICAÇÃO FINAL         5903 non-null   object\n",
            " 2   IDADE                       5903 non-null   int64 \n",
            " 3   SEXO                        5903 non-null   object\n",
            " 4   BAIRRO                      5877 non-null   object\n",
            " 5   DISTRITO RESIDÊNCIA         5877 non-null   object\n",
            " 6   INTERNADO                   5903 non-null   int64 \n",
            " 7   DATA COLETA EXAME           5903 non-null   object\n",
            " 8   DATA ÓBITO                  281 non-null    object\n",
            " 9   STATUS                      5903 non-null   int64 \n",
            "dtypes: int64(3), object(7)\n",
            "memory usage: 461.3+ KB\n"
          ]
        }
      ]
    },
    {
      "cell_type": "code",
      "source": [
        "#CRIAR NOVO DF APENAS COM AS COLUNAS QUE IREI USAR NA ANALISE\n",
        "df2 = df.drop(columns = ['DATA INCLUSÃO/ NOTIFICAÇÃO', 'CLASSIFICAÇÃO FINAL', 'BAIRRO','DISTRITO RESIDÊNCIA', 'DATA COLETA EXAME', 'DATA ÓBITO'  ])\n",
        "df.head()"
      ],
      "metadata": {
        "colab": {
          "base_uri": "https://localhost:8080/",
          "height": 0
        },
        "id": "6P4xQCL0KVWt",
        "outputId": "49da7f8d-e915-42cf-b9a1-26fca597249c"
      },
      "execution_count": 275,
      "outputs": [
        {
          "output_type": "execute_result",
          "data": {
            "text/plain": [
              "  DATA INCLUSÃO/ NOTIFICAÇÃO CLASSIFICAÇÃO FINAL  IDADE SEXO      BAIRRO  \\\n",
              "0                 11/03/2020          CONFIRMADO     54    M  CRISTO REI   \n",
              "1                 12/03/2020          CONFIRMADO     15    M       XAXIM   \n",
              "2                 12/03/2020          CONFIRMADO     43    M       XAXIM   \n",
              "3                 12/03/2020          CONFIRMADO     25    F  CRISTO REI   \n",
              "4                 12/03/2020          CONFIRMADO     58    M      MERCÊS   \n",
              "\n",
              "  DISTRITO RESIDÊNCIA  INTERNADO DATA COLETA EXAME DATA ÓBITO  STATUS  \n",
              "0                DSMZ          0        09/03/2020        NaN       0  \n",
              "1                DSBQ          0        08/03/2020        NaN       0  \n",
              "2                DSBQ          0        09/03/2020        NaN       0  \n",
              "3                DSMZ          0        09/03/2020        NaN       0  \n",
              "4                DSMZ          0        09/03/2020        NaN       0  "
            ],
            "text/html": [
              "\n",
              "  <div id=\"df-a7609a5c-8255-43f4-b54c-5e727f2ea22b\">\n",
              "    <div class=\"colab-df-container\">\n",
              "      <div>\n",
              "<style scoped>\n",
              "    .dataframe tbody tr th:only-of-type {\n",
              "        vertical-align: middle;\n",
              "    }\n",
              "\n",
              "    .dataframe tbody tr th {\n",
              "        vertical-align: top;\n",
              "    }\n",
              "\n",
              "    .dataframe thead th {\n",
              "        text-align: right;\n",
              "    }\n",
              "</style>\n",
              "<table border=\"1\" class=\"dataframe\">\n",
              "  <thead>\n",
              "    <tr style=\"text-align: right;\">\n",
              "      <th></th>\n",
              "      <th>DATA INCLUSÃO/ NOTIFICAÇÃO</th>\n",
              "      <th>CLASSIFICAÇÃO FINAL</th>\n",
              "      <th>IDADE</th>\n",
              "      <th>SEXO</th>\n",
              "      <th>BAIRRO</th>\n",
              "      <th>DISTRITO RESIDÊNCIA</th>\n",
              "      <th>INTERNADO</th>\n",
              "      <th>DATA COLETA EXAME</th>\n",
              "      <th>DATA ÓBITO</th>\n",
              "      <th>STATUS</th>\n",
              "    </tr>\n",
              "  </thead>\n",
              "  <tbody>\n",
              "    <tr>\n",
              "      <th>0</th>\n",
              "      <td>11/03/2020</td>\n",
              "      <td>CONFIRMADO</td>\n",
              "      <td>54</td>\n",
              "      <td>M</td>\n",
              "      <td>CRISTO REI</td>\n",
              "      <td>DSMZ</td>\n",
              "      <td>0</td>\n",
              "      <td>09/03/2020</td>\n",
              "      <td>NaN</td>\n",
              "      <td>0</td>\n",
              "    </tr>\n",
              "    <tr>\n",
              "      <th>1</th>\n",
              "      <td>12/03/2020</td>\n",
              "      <td>CONFIRMADO</td>\n",
              "      <td>15</td>\n",
              "      <td>M</td>\n",
              "      <td>XAXIM</td>\n",
              "      <td>DSBQ</td>\n",
              "      <td>0</td>\n",
              "      <td>08/03/2020</td>\n",
              "      <td>NaN</td>\n",
              "      <td>0</td>\n",
              "    </tr>\n",
              "    <tr>\n",
              "      <th>2</th>\n",
              "      <td>12/03/2020</td>\n",
              "      <td>CONFIRMADO</td>\n",
              "      <td>43</td>\n",
              "      <td>M</td>\n",
              "      <td>XAXIM</td>\n",
              "      <td>DSBQ</td>\n",
              "      <td>0</td>\n",
              "      <td>09/03/2020</td>\n",
              "      <td>NaN</td>\n",
              "      <td>0</td>\n",
              "    </tr>\n",
              "    <tr>\n",
              "      <th>3</th>\n",
              "      <td>12/03/2020</td>\n",
              "      <td>CONFIRMADO</td>\n",
              "      <td>25</td>\n",
              "      <td>F</td>\n",
              "      <td>CRISTO REI</td>\n",
              "      <td>DSMZ</td>\n",
              "      <td>0</td>\n",
              "      <td>09/03/2020</td>\n",
              "      <td>NaN</td>\n",
              "      <td>0</td>\n",
              "    </tr>\n",
              "    <tr>\n",
              "      <th>4</th>\n",
              "      <td>12/03/2020</td>\n",
              "      <td>CONFIRMADO</td>\n",
              "      <td>58</td>\n",
              "      <td>M</td>\n",
              "      <td>MERCÊS</td>\n",
              "      <td>DSMZ</td>\n",
              "      <td>0</td>\n",
              "      <td>09/03/2020</td>\n",
              "      <td>NaN</td>\n",
              "      <td>0</td>\n",
              "    </tr>\n",
              "  </tbody>\n",
              "</table>\n",
              "</div>\n",
              "      <button class=\"colab-df-convert\" onclick=\"convertToInteractive('df-a7609a5c-8255-43f4-b54c-5e727f2ea22b')\"\n",
              "              title=\"Convert this dataframe to an interactive table.\"\n",
              "              style=\"display:none;\">\n",
              "        \n",
              "  <svg xmlns=\"http://www.w3.org/2000/svg\" height=\"24px\"viewBox=\"0 0 24 24\"\n",
              "       width=\"24px\">\n",
              "    <path d=\"M0 0h24v24H0V0z\" fill=\"none\"/>\n",
              "    <path d=\"M18.56 5.44l.94 2.06.94-2.06 2.06-.94-2.06-.94-.94-2.06-.94 2.06-2.06.94zm-11 1L8.5 8.5l.94-2.06 2.06-.94-2.06-.94L8.5 2.5l-.94 2.06-2.06.94zm10 10l.94 2.06.94-2.06 2.06-.94-2.06-.94-.94-2.06-.94 2.06-2.06.94z\"/><path d=\"M17.41 7.96l-1.37-1.37c-.4-.4-.92-.59-1.43-.59-.52 0-1.04.2-1.43.59L10.3 9.45l-7.72 7.72c-.78.78-.78 2.05 0 2.83L4 21.41c.39.39.9.59 1.41.59.51 0 1.02-.2 1.41-.59l7.78-7.78 2.81-2.81c.8-.78.8-2.07 0-2.86zM5.41 20L4 18.59l7.72-7.72 1.47 1.35L5.41 20z\"/>\n",
              "  </svg>\n",
              "      </button>\n",
              "      \n",
              "  <style>\n",
              "    .colab-df-container {\n",
              "      display:flex;\n",
              "      flex-wrap:wrap;\n",
              "      gap: 12px;\n",
              "    }\n",
              "\n",
              "    .colab-df-convert {\n",
              "      background-color: #E8F0FE;\n",
              "      border: none;\n",
              "      border-radius: 50%;\n",
              "      cursor: pointer;\n",
              "      display: none;\n",
              "      fill: #1967D2;\n",
              "      height: 32px;\n",
              "      padding: 0 0 0 0;\n",
              "      width: 32px;\n",
              "    }\n",
              "\n",
              "    .colab-df-convert:hover {\n",
              "      background-color: #E2EBFA;\n",
              "      box-shadow: 0px 1px 2px rgba(60, 64, 67, 0.3), 0px 1px 3px 1px rgba(60, 64, 67, 0.15);\n",
              "      fill: #174EA6;\n",
              "    }\n",
              "\n",
              "    [theme=dark] .colab-df-convert {\n",
              "      background-color: #3B4455;\n",
              "      fill: #D2E3FC;\n",
              "    }\n",
              "\n",
              "    [theme=dark] .colab-df-convert:hover {\n",
              "      background-color: #434B5C;\n",
              "      box-shadow: 0px 1px 3px 1px rgba(0, 0, 0, 0.15);\n",
              "      filter: drop-shadow(0px 1px 2px rgba(0, 0, 0, 0.3));\n",
              "      fill: #FFFFFF;\n",
              "    }\n",
              "  </style>\n",
              "\n",
              "      <script>\n",
              "        const buttonEl =\n",
              "          document.querySelector('#df-a7609a5c-8255-43f4-b54c-5e727f2ea22b button.colab-df-convert');\n",
              "        buttonEl.style.display =\n",
              "          google.colab.kernel.accessAllowed ? 'block' : 'none';\n",
              "\n",
              "        async function convertToInteractive(key) {\n",
              "          const element = document.querySelector('#df-a7609a5c-8255-43f4-b54c-5e727f2ea22b');\n",
              "          const dataTable =\n",
              "            await google.colab.kernel.invokeFunction('convertToInteractive',\n",
              "                                                     [key], {});\n",
              "          if (!dataTable) return;\n",
              "\n",
              "          const docLinkHtml = 'Like what you see? Visit the ' +\n",
              "            '<a target=\"_blank\" href=https://colab.research.google.com/notebooks/data_table.ipynb>data table notebook</a>'\n",
              "            + ' to learn more about interactive tables.';\n",
              "          element.innerHTML = '';\n",
              "          dataTable['output_type'] = 'display_data';\n",
              "          await google.colab.output.renderOutput(dataTable, element);\n",
              "          const docLink = document.createElement('div');\n",
              "          docLink.innerHTML = docLinkHtml;\n",
              "          element.appendChild(docLink);\n",
              "        }\n",
              "      </script>\n",
              "    </div>\n",
              "  </div>\n",
              "  "
            ]
          },
          "metadata": {},
          "execution_count": 275
        }
      ]
    },
    {
      "cell_type": "code",
      "source": [
        "df2.head()"
      ],
      "metadata": {
        "colab": {
          "base_uri": "https://localhost:8080/",
          "height": 0
        },
        "id": "z9XvZ_vjK_jM",
        "outputId": "4be23518-d241-43d7-8c25-ee1a5bc554dc"
      },
      "execution_count": 276,
      "outputs": [
        {
          "output_type": "execute_result",
          "data": {
            "text/plain": [
              "   IDADE SEXO  INTERNADO  STATUS\n",
              "0     54    M          0       0\n",
              "1     15    M          0       0\n",
              "2     43    M          0       0\n",
              "3     25    F          0       0\n",
              "4     58    M          0       0"
            ],
            "text/html": [
              "\n",
              "  <div id=\"df-46651783-fcce-402c-9611-511f336d6d0a\">\n",
              "    <div class=\"colab-df-container\">\n",
              "      <div>\n",
              "<style scoped>\n",
              "    .dataframe tbody tr th:only-of-type {\n",
              "        vertical-align: middle;\n",
              "    }\n",
              "\n",
              "    .dataframe tbody tr th {\n",
              "        vertical-align: top;\n",
              "    }\n",
              "\n",
              "    .dataframe thead th {\n",
              "        text-align: right;\n",
              "    }\n",
              "</style>\n",
              "<table border=\"1\" class=\"dataframe\">\n",
              "  <thead>\n",
              "    <tr style=\"text-align: right;\">\n",
              "      <th></th>\n",
              "      <th>IDADE</th>\n",
              "      <th>SEXO</th>\n",
              "      <th>INTERNADO</th>\n",
              "      <th>STATUS</th>\n",
              "    </tr>\n",
              "  </thead>\n",
              "  <tbody>\n",
              "    <tr>\n",
              "      <th>0</th>\n",
              "      <td>54</td>\n",
              "      <td>M</td>\n",
              "      <td>0</td>\n",
              "      <td>0</td>\n",
              "    </tr>\n",
              "    <tr>\n",
              "      <th>1</th>\n",
              "      <td>15</td>\n",
              "      <td>M</td>\n",
              "      <td>0</td>\n",
              "      <td>0</td>\n",
              "    </tr>\n",
              "    <tr>\n",
              "      <th>2</th>\n",
              "      <td>43</td>\n",
              "      <td>M</td>\n",
              "      <td>0</td>\n",
              "      <td>0</td>\n",
              "    </tr>\n",
              "    <tr>\n",
              "      <th>3</th>\n",
              "      <td>25</td>\n",
              "      <td>F</td>\n",
              "      <td>0</td>\n",
              "      <td>0</td>\n",
              "    </tr>\n",
              "    <tr>\n",
              "      <th>4</th>\n",
              "      <td>58</td>\n",
              "      <td>M</td>\n",
              "      <td>0</td>\n",
              "      <td>0</td>\n",
              "    </tr>\n",
              "  </tbody>\n",
              "</table>\n",
              "</div>\n",
              "      <button class=\"colab-df-convert\" onclick=\"convertToInteractive('df-46651783-fcce-402c-9611-511f336d6d0a')\"\n",
              "              title=\"Convert this dataframe to an interactive table.\"\n",
              "              style=\"display:none;\">\n",
              "        \n",
              "  <svg xmlns=\"http://www.w3.org/2000/svg\" height=\"24px\"viewBox=\"0 0 24 24\"\n",
              "       width=\"24px\">\n",
              "    <path d=\"M0 0h24v24H0V0z\" fill=\"none\"/>\n",
              "    <path d=\"M18.56 5.44l.94 2.06.94-2.06 2.06-.94-2.06-.94-.94-2.06-.94 2.06-2.06.94zm-11 1L8.5 8.5l.94-2.06 2.06-.94-2.06-.94L8.5 2.5l-.94 2.06-2.06.94zm10 10l.94 2.06.94-2.06 2.06-.94-2.06-.94-.94-2.06-.94 2.06-2.06.94z\"/><path d=\"M17.41 7.96l-1.37-1.37c-.4-.4-.92-.59-1.43-.59-.52 0-1.04.2-1.43.59L10.3 9.45l-7.72 7.72c-.78.78-.78 2.05 0 2.83L4 21.41c.39.39.9.59 1.41.59.51 0 1.02-.2 1.41-.59l7.78-7.78 2.81-2.81c.8-.78.8-2.07 0-2.86zM5.41 20L4 18.59l7.72-7.72 1.47 1.35L5.41 20z\"/>\n",
              "  </svg>\n",
              "      </button>\n",
              "      \n",
              "  <style>\n",
              "    .colab-df-container {\n",
              "      display:flex;\n",
              "      flex-wrap:wrap;\n",
              "      gap: 12px;\n",
              "    }\n",
              "\n",
              "    .colab-df-convert {\n",
              "      background-color: #E8F0FE;\n",
              "      border: none;\n",
              "      border-radius: 50%;\n",
              "      cursor: pointer;\n",
              "      display: none;\n",
              "      fill: #1967D2;\n",
              "      height: 32px;\n",
              "      padding: 0 0 0 0;\n",
              "      width: 32px;\n",
              "    }\n",
              "\n",
              "    .colab-df-convert:hover {\n",
              "      background-color: #E2EBFA;\n",
              "      box-shadow: 0px 1px 2px rgba(60, 64, 67, 0.3), 0px 1px 3px 1px rgba(60, 64, 67, 0.15);\n",
              "      fill: #174EA6;\n",
              "    }\n",
              "\n",
              "    [theme=dark] .colab-df-convert {\n",
              "      background-color: #3B4455;\n",
              "      fill: #D2E3FC;\n",
              "    }\n",
              "\n",
              "    [theme=dark] .colab-df-convert:hover {\n",
              "      background-color: #434B5C;\n",
              "      box-shadow: 0px 1px 3px 1px rgba(0, 0, 0, 0.15);\n",
              "      filter: drop-shadow(0px 1px 2px rgba(0, 0, 0, 0.3));\n",
              "      fill: #FFFFFF;\n",
              "    }\n",
              "  </style>\n",
              "\n",
              "      <script>\n",
              "        const buttonEl =\n",
              "          document.querySelector('#df-46651783-fcce-402c-9611-511f336d6d0a button.colab-df-convert');\n",
              "        buttonEl.style.display =\n",
              "          google.colab.kernel.accessAllowed ? 'block' : 'none';\n",
              "\n",
              "        async function convertToInteractive(key) {\n",
              "          const element = document.querySelector('#df-46651783-fcce-402c-9611-511f336d6d0a');\n",
              "          const dataTable =\n",
              "            await google.colab.kernel.invokeFunction('convertToInteractive',\n",
              "                                                     [key], {});\n",
              "          if (!dataTable) return;\n",
              "\n",
              "          const docLinkHtml = 'Like what you see? Visit the ' +\n",
              "            '<a target=\"_blank\" href=https://colab.research.google.com/notebooks/data_table.ipynb>data table notebook</a>'\n",
              "            + ' to learn more about interactive tables.';\n",
              "          element.innerHTML = '';\n",
              "          dataTable['output_type'] = 'display_data';\n",
              "          await google.colab.output.renderOutput(dataTable, element);\n",
              "          const docLink = document.createElement('div');\n",
              "          docLink.innerHTML = docLinkHtml;\n",
              "          element.appendChild(docLink);\n",
              "        }\n",
              "      </script>\n",
              "    </div>\n",
              "  </div>\n",
              "  "
            ]
          },
          "metadata": {},
          "execution_count": 276
        }
      ]
    },
    {
      "cell_type": "code",
      "source": [
        "df2.info()"
      ],
      "metadata": {
        "colab": {
          "base_uri": "https://localhost:8080/"
        },
        "id": "XjpAn3TpM0vQ",
        "outputId": "6174c527-e090-4270-a511-3de4dae23673"
      },
      "execution_count": 277,
      "outputs": [
        {
          "output_type": "stream",
          "name": "stdout",
          "text": [
            "<class 'pandas.core.frame.DataFrame'>\n",
            "RangeIndex: 5903 entries, 0 to 5902\n",
            "Data columns (total 4 columns):\n",
            " #   Column     Non-Null Count  Dtype \n",
            "---  ------     --------------  ----- \n",
            " 0   IDADE      5903 non-null   int64 \n",
            " 1   SEXO       5903 non-null   object\n",
            " 2   INTERNADO  5903 non-null   int64 \n",
            " 3   STATUS     5903 non-null   int64 \n",
            "dtypes: int64(3), object(1)\n",
            "memory usage: 184.6+ KB\n"
          ]
        }
      ]
    },
    {
      "cell_type": "markdown",
      "source": [
        "## Exploração dos dados"
      ],
      "metadata": {
        "id": "NHSuTtiZNmJF"
      }
    },
    {
      "cell_type": "markdown",
      "source": [
        "**IDADE**"
      ],
      "metadata": {
        "id": "AWAnu1zoMrTs"
      }
    },
    {
      "cell_type": "code",
      "source": [
        "import plotly.express as px"
      ],
      "metadata": {
        "id": "X_xgVcFSMsb8"
      },
      "execution_count": 278,
      "outputs": []
    },
    {
      "cell_type": "code",
      "source": [
        "hist =  px.histogram (df2,  x = \"IDADE\", nbins=60) \n",
        "hist.update_layout(width=600,height=400,title_text='Distribuição das idades') \n",
        "hist.show()"
      ],
      "metadata": {
        "colab": {
          "base_uri": "https://localhost:8080/",
          "height": 0
        },
        "id": "vRwwpyB_MvYk",
        "outputId": "2c8933f1-fec0-49b0-88fc-0ace09079b0f"
      },
      "execution_count": 279,
      "outputs": [
        {
          "output_type": "display_data",
          "data": {
            "text/html": [
              "<html>\n",
              "<head><meta charset=\"utf-8\" /></head>\n",
              "<body>\n",
              "    <div>            <script src=\"https://cdnjs.cloudflare.com/ajax/libs/mathjax/2.7.5/MathJax.js?config=TeX-AMS-MML_SVG\"></script><script type=\"text/javascript\">if (window.MathJax) {MathJax.Hub.Config({SVG: {font: \"STIX-Web\"}});}</script>                <script type=\"text/javascript\">window.PlotlyConfig = {MathJaxConfig: 'local'};</script>\n",
              "        <script src=\"https://cdn.plot.ly/plotly-2.8.3.min.js\"></script>                <div id=\"0ea6b140-17aa-4887-8572-0d8191c21683\" class=\"plotly-graph-div\" style=\"height:400px; width:600px;\"></div>            <script type=\"text/javascript\">                                    window.PLOTLYENV=window.PLOTLYENV || {};                                    if (document.getElementById(\"0ea6b140-17aa-4887-8572-0d8191c21683\")) {                    Plotly.newPlot(                        \"0ea6b140-17aa-4887-8572-0d8191c21683\",                        [{\"alignmentgroup\":\"True\",\"bingroup\":\"x\",\"hovertemplate\":\"IDADE=%{x}<br>count=%{y}<extra></extra>\",\"legendgroup\":\"\",\"marker\":{\"color\":\"#636efa\",\"pattern\":{\"shape\":\"\"}},\"name\":\"\",\"nbinsx\":60,\"offsetgroup\":\"\",\"orientation\":\"v\",\"showlegend\":false,\"x\":[54,15,43,25,58,57,27,26,52,22,26,48,32,36,45,26,48,53,30,32,81,58,52,44,36,28,53,30,41,73,70,42,32,38,61,36,68,28,59,79,56,59,32,54,17,41,22,69,54,10,62,62,34,78,30,51,30,46,38,28,80,41,51,31,27,40,49,66,54,56,55,29,29,35,77,58,59,39,63,30,64,29,39,29,37,45,59,69,37,75,70,74,63,61,62,59,37,65,36,54,61,32,58,36,46,35,50,50,23,62,61,56,41,43,56,68,41,31,17,44,53,29,38,63,66,55,55,86,54,68,29,64,32,88,52,49,53,60,39,93,34,28,37,35,31,78,54,57,34,41,62,41,94,29,45,47,38,68,29,36,66,37,35,37,42,54,41,77,58,85,45,25,31,56,81,35,72,56,45,54,52,48,49,23,29,47,19,30,32,22,65,43,65,48,36,96,47,33,20,35,37,23,49,70,62,47,52,55,82,39,52,34,75,30,31,29,74,56,43,42,51,30,47,33,58,62,30,31,44,50,18,70,36,37,80,88,23,62,42,75,73,87,37,24,57,24,33,30,29,31,1,20,74,39,26,71,40,69,26,32,34,43,38,51,25,25,53,85,94,62,9,31,33,25,38,59,43,24,36,53,26,64,37,57,44,57,76,62,49,48,48,38,29,79,32,36,17,30,42,79,44,40,84,69,36,30,38,49,81,74,24,40,36,31,63,75,36,31,49,59,37,34,24,22,85,32,45,89,27,46,30,64,44,26,57,69,32,57,28,52,29,59,44,54,40,46,70,29,25,37,39,55,45,26,86,38,55,71,35,56,42,72,81,28,61,45,34,72,36,31,54,36,48,46,38,49,32,40,47,54,75,56,33,25,16,36,35,35,59,59,93,47,24,31,15,38,27,57,53,54,43,45,50,39,13,23,66,41,40,67,49,17,39,63,42,24,37,58,80,3,41,30,44,45,53,40,34,45,36,44,31,59,41,64,42,26,31,65,56,54,65,42,27,29,51,80,77,69,53,71,45,62,82,32,89,21,47,38,25,26,52,40,46,38,24,82,77,65,22,50,63,21,65,24,81,51,27,80,43,72,58,89,42,53,23,37,55,30,27,55,36,38,5,34,44,34,67,60,22,35,25,41,25,80,23,31,47,44,89,31,67,46,45,29,41,62,53,48,36,68,85,42,30,45,90,49,36,53,23,36,31,3,34,57,54,67,50,52,31,3,64,3,48,20,34,27,63,42,25,44,64,50,26,62,60,63,31,39,37,42,50,55,39,39,63,47,37,42,42,43,68,61,29,69,46,46,27,46,64,34,30,31,23,27,56,36,73,62,74,56,56,12,44,27,62,58,52,55,89,38,64,26,33,31,25,56,23,53,22,1,55,28,28,50,59,35,42,50,58,9,55,53,83,30,52,0,34,76,77,52,7,38,39,49,37,55,50,22,3,54,67,55,24,50,47,78,51,42,23,59,67,39,31,38,1,33,29,43,0,63,33,82,8,55,49,16,66,66,67,56,62,34,38,76,58,40,32,38,39,70,31,33,74,79,48,44,85,85,74,55,20,43,51,37,73,52,41,30,75,56,21,38,23,27,29,90,23,24,40,65,77,45,63,27,44,54,38,39,45,34,53,51,30,27,39,41,36,66,41,37,52,65,38,37,35,56,87,31,55,67,65,52,68,73,16,88,47,22,31,40,52,39,53,37,66,89,44,49,40,58,48,45,39,40,43,41,35,32,29,30,62,27,58,61,28,56,36,47,53,52,54,42,67,45,55,60,29,36,32,41,38,38,26,41,36,23,62,46,26,33,80,51,24,58,78,45,50,32,38,37,40,76,38,60,61,60,49,36,58,69,37,38,21,70,34,79,47,44,41,48,25,24,37,48,56,48,36,56,45,58,28,52,42,33,86,71,31,6,59,16,77,36,49,24,9,23,32,57,25,19,35,48,22,13,48,62,47,5,30,60,48,50,23,9,18,34,64,31,54,37,40,56,81,75,56,62,21,28,24,68,44,65,71,73,47,31,29,40,87,42,59,42,57,34,1,66,24,23,49,36,61,40,55,8,30,62,82,58,42,47,63,54,41,46,85,26,48,46,23,30,67,81,49,77,48,53,51,50,13,5,29,67,23,75,69,33,76,62,57,38,66,70,22,52,54,61,36,35,46,69,41,54,30,9,75,72,49,53,53,59,56,21,40,13,38,62,43,81,66,63,48,24,48,41,22,22,57,39,47,24,28,26,82,34,79,30,67,62,85,20,23,54,19,47,57,55,68,40,48,50,33,82,89,51,48,67,49,29,43,85,41,46,62,43,64,38,39,30,44,59,65,74,48,49,57,57,36,38,5,27,33,54,21,30,39,55,59,46,32,61,26,56,25,37,49,33,38,36,34,61,24,48,32,49,87,81,26,23,38,42,44,18,39,33,61,64,41,24,50,25,31,82,45,65,53,36,37,50,50,38,46,58,41,25,40,43,64,29,73,20,41,41,36,30,44,50,30,44,28,42,58,42,37,49,31,60,46,47,28,29,46,91,10,42,71,29,38,51,75,70,54,32,50,25,37,64,46,39,69,31,55,45,31,36,68,66,58,66,48,41,35,93,26,34,43,48,31,47,29,37,43,55,52,57,41,46,48,19,28,37,49,64,52,58,59,44,65,75,70,69,11,20,33,22,33,54,38,22,44,56,74,37,33,54,79,50,1,68,45,78,52,31,77,62,89,39,70,48,68,19,17,42,27,30,42,40,32,37,22,28,77,55,31,61,79,61,30,59,74,41,32,38,40,39,22,59,52,39,34,57,21,64,67,28,42,41,77,77,32,75,59,56,23,34,45,36,39,57,45,62,39,43,42,49,46,49,68,48,50,76,56,87,57,57,85,59,58,64,80,69,79,61,81,69,70,45,62,48,44,76,21,51,28,22,26,50,59,73,30,55,76,33,56,29,33,69,37,32,39,41,82,36,58,17,5,61,37,74,53,39,69,48,44,81,25,49,45,47,28,44,30,34,48,55,41,58,27,73,20,29,27,30,28,40,54,34,21,32,52,44,34,46,28,23,30,2,39,27,54,59,60,36,32,40,67,73,33,35,87,64,70,49,63,68,88,31,70,90,90,82,29,88,57,47,48,38,61,72,58,17,56,40,28,49,38,45,37,48,77,37,65,37,63,54,34,71,26,29,30,63,42,59,27,51,56,28,38,45,47,40,39,50,55,27,62,48,73,38,56,22,42,27,41,70,63,24,39,66,37,39,53,40,36,22,53,24,38,47,96,49,64,41,43,70,25,12,67,36,46,49,32,66,45,55,59,50,44,45,89,49,67,31,75,57,43,42,35,23,45,46,42,22,33,28,27,30,77,75,67,18,38,60,43,39,83,45,57,34,38,49,49,56,21,80,52,29,41,51,42,9,42,50,63,58,24,85,48,48,41,48,43,20,22,20,26,44,35,57,38,68,41,57,39,37,29,90,76,26,29,67,60,52,52,67,67,75,17,40,59,61,72,61,47,55,85,81,89,47,50,75,66,44,27,35,47,60,27,46,37,36,63,24,44,68,46,50,32,30,44,27,45,47,48,43,54,38,30,87,74,64,29,84,36,67,46,52,46,60,59,48,23,77,39,22,65,62,35,28,57,38,56,31,63,35,39,48,43,37,37,58,78,58,32,30,88,47,39,40,53,71,69,67,67,52,74,77,73,37,64,3,45,78,42,49,32,63,81,42,40,45,21,38,26,49,45,50,43,49,27,58,61,45,29,30,54,44,33,90,51,37,80,60,69,41,30,66,30,49,35,50,68,75,61,40,56,43,68,70,35,50,36,21,85,44,42,52,59,33,66,33,18,53,34,62,34,42,45,61,41,42,20,28,43,36,30,70,45,57,41,42,44,54,41,36,67,50,53,73,84,64,30,86,86,44,56,69,65,75,52,57,35,35,50,29,26,36,68,38,24,61,24,69,17,52,59,69,49,27,52,14,48,63,56,46,46,46,45,31,48,43,2,27,45,27,39,19,19,19,50,41,50,14,35,32,54,36,48,87,42,79,48,41,22,43,61,63,62,53,44,28,34,55,52,43,48,3,34,39,70,22,57,63,70,44,40,40,57,35,29,3,53,66,77,22,77,59,56,54,62,29,32,55,55,64,27,36,45,39,55,48,30,34,82,38,29,1,47,34,49,40,28,40,74,35,82,57,36,76,26,68,70,50,79,62,86,71,7,54,36,45,56,26,40,28,33,49,19,29,30,41,47,63,28,57,60,20,44,39,38,35,26,45,50,21,29,47,42,44,36,33,34,31,27,35,22,73,43,40,44,45,27,64,28,23,1,41,68,43,46,35,28,35,53,42,33,42,4,46,42,37,21,58,45,37,37,64,58,43,55,23,36,46,20,26,32,18,67,27,42,60,42,50,35,72,65,43,27,88,11,33,31,62,37,37,31,35,38,43,28,46,60,60,57,48,35,51,63,55,37,68,30,42,47,63,53,50,57,64,53,39,48,61,82,46,76,28,58,38,37,41,59,50,28,33,41,49,63,68,66,49,76,52,79,39,46,27,17,43,82,43,38,75,72,51,49,27,89,63,72,53,78,36,28,33,55,65,51,53,20,46,34,21,52,45,48,36,2,82,27,42,40,57,53,54,57,76,63,49,48,14,48,67,36,66,51,26,40,39,36,23,83,53,45,29,76,37,45,24,43,48,30,33,72,63,63,74,74,40,33,41,45,34,19,38,31,50,36,54,28,42,47,70,26,13,46,51,55,61,43,71,62,72,23,59,82,69,70,83,33,71,36,33,49,24,47,32,32,5,20,56,35,20,40,31,39,82,39,39,47,38,20,25,32,51,41,40,45,20,35,24,27,45,93,37,27,34,37,46,46,32,20,57,72,50,28,31,61,72,85,37,80,59,57,66,72,24,53,34,39,82,40,43,28,37,80,46,74,55,59,66,25,59,45,28,52,63,54,22,38,21,29,45,31,15,35,56,58,59,56,31,30,24,21,35,46,24,20,0,34,7,23,55,39,42,50,57,30,46,65,43,61,36,40,40,59,20,27,38,44,28,39,38,33,29,41,58,22,52,26,64,30,36,61,37,25,46,65,34,39,44,53,7,34,29,47,46,41,43,40,37,29,1,38,27,49,79,32,28,56,14,71,33,41,33,23,44,47,40,38,57,48,40,37,50,48,38,52,65,27,38,33,36,45,57,49,36,54,54,27,43,44,37,29,68,30,0,39,37,35,39,35,27,40,60,66,32,47,38,35,37,36,46,53,29,28,34,80,61,42,1,48,23,53,26,23,20,28,32,79,51,39,50,36,35,38,19,30,46,37,24,64,55,23,40,50,47,32,29,37,31,64,53,4,66,31,52,38,74,4,1,31,45,43,20,47,42,40,25,73,46,21,30,20,48,37,54,28,24,68,62,52,65,49,39,32,26,36,43,27,72,36,52,38,62,38,28,48,26,40,45,48,57,38,23,54,35,40,46,32,52,43,32,20,51,31,20,80,28,37,27,51,16,66,20,35,22,33,49,42,37,52,57,27,43,41,36,24,55,61,23,41,34,40,27,49,39,43,60,29,29,24,25,28,62,50,46,23,49,25,62,38,15,40,30,53,19,31,38,61,43,36,74,51,45,36,38,67,25,40,35,24,37,34,53,34,36,29,24,44,32,31,34,54,31,53,31,35,27,34,66,24,42,24,47,68,88,28,29,75,25,30,4,30,57,16,74,18,57,23,30,39,48,40,36,69,44,23,43,23,68,28,26,34,19,38,35,44,75,71,22,18,27,43,43,20,26,26,77,38,20,47,20,28,56,38,36,45,55,35,16,44,39,59,39,24,46,26,42,42,25,21,32,34,18,64,42,30,59,63,66,45,35,0,71,24,43,65,42,25,33,60,57,47,50,79,83,25,44,29,48,40,25,21,37,32,58,31,58,56,44,38,67,73,76,73,63,44,40,39,33,40,29,42,41,26,45,11,35,38,42,42,59,52,49,59,46,21,47,1,88,39,79,77,37,76,31,76,51,48,24,92,54,60,79,29,49,43,32,56,66,45,46,59,32,63,65,64,43,65,23,34,32,23,69,44,23,66,1,31,65,66,41,51,45,48,27,26,55,42,25,25,40,44,36,66,48,44,54,46,86,53,64,31,38,31,31,40,27,26,38,29,62,39,46,39,35,30,30,28,64,40,65,21,27,35,22,65,61,62,32,60,71,56,62,55,74,44,50,64,54,26,42,74,75,67,66,29,41,37,41,22,48,37,29,40,46,24,63,33,32,25,35,32,44,63,26,30,52,36,34,58,49,43,45,60,66,34,69,34,55,27,24,53,55,28,85,45,41,44,39,23,47,37,34,73,26,29,22,33,32,60,53,37,6,63,28,56,33,42,35,45,51,44,20,49,28,37,45,51,41,29,43,69,53,65,17,39,40,28,28,8,29,41,40,29,40,49,37,68,14,45,0,48,80,71,54,90,50,34,72,13,26,56,59,68,56,32,32,41,33,56,56,85,11,24,13,88,44,35,36,55,59,29,64,51,31,17,40,41,29,24,35,57,24,45,40,24,40,31,81,55,32,45,46,52,38,29,46,33,28,31,24,63,59,36,43,49,39,43,28,23,31,22,14,59,33,34,38,29,54,49,50,30,51,50,56,36,40,34,64,41,24,25,17,58,66,43,28,61,40,37,37,55,29,30,34,29,33,31,23,31,43,52,14,27,22,38,82,80,53,43,33,33,32,25,60,71,46,61,30,21,57,27,55,65,34,28,39,24,22,57,73,4,33,30,53,11,49,54,67,33,60,34,45,45,70,37,29,42,11,66,47,29,32,7,59,48,57,37,53,36,32,57,37,45,31,32,27,31,45,66,27,56,3,89,28,35,60,29,67,34,51,35,47,73,63,78,27,60,59,38,41,62,31,45,73,52,42,69,42,65,81,47,51,41,43,39,55,35,45,46,33,62,58,39,0,3,27,36,8,36,26,29,44,54,51,47,63,24,63,60,48,59,79,36,56,66,62,86,76,52,49,58,72,35,22,17,17,45,37,56,39,22,24,24,3,71,66,67,59,51,58,49,59,56,65,42,85,55,91,26,40,27,39,39,7,47,24,49,43,63,70,38,33,78,39,34,70,65,43,42,6,53,52,59,41,57,62,32,23,52,37,55,63,44,56,44,59,28,13,16,67,38,41,31,49,48,52,54,43,59,49,33,29,67,26,42,40,50,45,28,2,66,25,48,22,37,59,29,42,72,61,39,12,28,32,24,65,45,65,19,36,58,30,43,31,24,63,44,47,38,57,68,31,39,25,85,54,27,24,40,60,33,43,43,60,60,24,49,26,28,43,9,33,53,54,45,51,36,32,62,52,37,22,39,38,33,41,37,1,1,49,44,48,49,39,22,40,69,49,23,34,36,39,51,42,31,36,24,39,42,41,42,23,34,68,15,68,44,20,33,34,50,37,23,36,58,26,32,26,48,39,70,38,22,44,76,28,33,26,24,67,37,35,30,39,52,39,7,48,55,56,32,40,62,59,32,45,67,23,36,18,56,22,27,29,46,78,58,33,38,26,2,40,65,63,38,58,38,35,25,21,29,33,38,27,45,62,61,31,43,29,38,68,29,40,33,30,5,32,36,41,22,57,22,28,37,29,28,12,39,25,42,55,51,33,33,34,40,37,28,36,37,19,22,33,26,27,32,34,38,45,36,52,17,70,38,43,44,37,30,34,35,23,27,33,30,67,23,42,53,57,44,47,49,32,69,42,28,43,76,33,35,54,38,87,33,60,55,46,33,20,29,19,21,33,31,50,25,57,57,44,5,37,18,27,49,43,42,32,42,56,24,40,31,65,1,35,46,31,52,80,47,30,21,34,35,31,41,35,50,36,36,66,56,77,51,48,45,70,46,76,59,71,30,75,48,75,43,34,71,47,64,50,49,44,71,74,60,51,53,28,75,45,57,73,64,53,15,56,40,35,71,59,62,17,37,33,8,32,32,37,3,24,25,14,44,45,64,25,71,24,49,20,45,45,38,68,30,48,17,50,3,49,74,46,42,59,51,32,22,69,7,52,48,25,62,68,13,42,44,11,39,30,34,22,2,54,48,68,41,50,51,48,53,31,31,72,25,48,43,5,60,34,19,45,48,41,57,49,50,46,42,50,22,70,62,38,63,57,42,36,30,55,46,35,45,33,54,54,42,58,28,46,42,36,34,49,45,20,35,35,55,47,59,38,47,36,31,73,26,24,26,45,46,42,28,54,33,27,74,16,40,31,27,33,83,37,53,59,19,15,54,24,21,18,57,39,48,40,74,40,37,20,54,2,12,31,45,42,38,47,46,25,64,43,74,51,27,34,47,38,32,86,19,30,41,43,37,24,10,57,78,63,64,34,29,60,43,85,24,20,27,62,96,15,39,48,52,71,56,14,10,54,18,36,26,24,47,29,49,66,50,64,66,29,33,47,53,49,57,85,28,53,59,40,77,63,56,58,53,55,56,36,45,27,63,39,56,71,54,38,44,80,67,27,51,65,84,66,80,80,39,36,93,50,61,44,37,20,20,60,35,27,79,33,24,56,32,52,62,51,64,12,54,68,55,28,33,41,31,26,43,46,36,70,56,24,41,28,50,19,56,46,56,47,77,42,24,49,41,43,46,46,31,42,33,34,52,26,10,25,24,45,48,49,30,23,33,58,50,56,30,29,43,23,39,24,36,71,70,25,23,32,6,70,64,55,50,58,51,47,33,25,39,53,72,34,42,56,40,54,3,39,28,38,55,39,30,59,12,39,72,49,8,57,39,62,58,57,35,43,43,26,49,78,32,43,26,37,53,32,2,33,38,47,62,42,42,62,74,34,60,48,48,55,29,60,29,65,73,65,55,53,52,38,62,13,22,27,60,25,81,66,39,25,52,42,75,54,50,32,51,33,38,28,27,25,23,67,40,34,41,52,21,42,81,21,22,50,59,30,22,40,53,63,22,42,35,37,31,41,15,74,55,62,23,26,61,88,11,24,42,50,41,9,65,48,21,20,20,18,46,48,49,56,19,36,31,38,32,50,42,51,50,53,63,53,55,74,55,50,55,22,56,0,29,69,47,44,57,88,19,38,7,41,40,70,60,25,27,37,50,33,22,42,46,38,26,24,35,34,58,32,35,50,25,28,3,34,37,39,16,17,43,36,38,30,22,50,39,40,45,28,24,49,46,19,51,68,26,41,32,65,24,76,40,36,41,29,46,68,41,42,31,36,55,28,64,56,28,55,30,11,24,57,35,34,26,53,52,64,83,56,30,50,57,78,82,47,73,50,57,43,43,90,52,66,23,90,74,24,66,33,52,68,75,53,60,88,80,39,74,44,50,20,36,51,51,58,37,58,55,36,68,42,51,23,45,37,72,41,30,37,33,26,31,38,33,35,42,56,72,35,70,34,42,36,51,32,26,31,53,39,38,15,12,18,57,34,18,37,58,65,45,66,30,34,60,28,61,52,23,21,30,45,24,77,10,57,35,65,55,37,23,24,22,21,23,24,31,25,18,62,34,38,35,22,30,48,26,38,54,52,65,60,32,31,23,51,30,33,21,58,32,36,52,39,43,18,90,36,2,28,26,54,46,56,28,30,30,92,88,67,33,32,70,34,38,29,69,32,25,32,45,29,32,34,76,62,44,42,48,51,35,31,37,40,44,40,26,28,28,36,36,37,57,27,83,33,28,35,59,47,66,26,75,38,48,42,40,28,21,74,38,55,44,30,23,30,32,31,60,40,40,51,37,62,59,27,39,48,58,52,62,12,42,22,52,15,18,22,58,42,25,51,32,12,34,4,33,23,72,39,44,42,60,26,59,48,35,54,29,53,51,56,83,80,50,81,81,55,5,39,77,41,73,69,47,50,25,90,35,59,62,9,84,62,52,79,23,21,42,61,51,39,53,45,33,31,46,23,54,50,24,19,48,22,48,20,50,45,67,35,12,26,42,30,23,25,29,51,26,37,38,37,20,39,50,47,22,43,43,36,40,0,34,23,66,46,28,48,48,41,46,39,50,27,66,50,62,47,48,23,44,23,23,30,69,28,1,58,68,28,50,43,39,23,39,22,41,31,50,21,57,8,25,22,7,53,33,57,51,41,61,52,69,32,14,39,22,30,49,41,48,47,31,30,26,31,36,34,27,69,38,31,29,29,37,26,38,38,61,26,22,42,32,28,62,38,31,43,38,37,39,33,29,30,36,3,78,37,58,16,37,23,28,27,35,54,31,3,23,60,1,42,9,33,33,45,54,59,72,66,82,8,31,26,31,39,49,28,66,59,63,38,37,20,59,63,64,68,22,58,33,66,29,45,38,34,35,23,34,79,60,55,75,64,42,54,74,40,71,87,3,81,47,69,56,65,57,39,81,25,47,26,32,37,46,22,44,59,47,77,59,35,34,26,53,30,22,25,42,27,56,35,27,32,19,49,27,56,63,34,46,39,55,45,80,73,44,59,36,85,62,51,45,20,41,45,60,59,73,50,68,43,76,68,62,86,55,51,62,49,34,80,2,18,27,32,55,53,64,59,74,61,51,36,63,71,38,0,30,56,52,20,26,47,28,37,33,37,52,27,26,30,48,34,52,26,24,32,63,59,67,54,41,43,58,58,34,40,45,54,52,31,39,34,49,30,77,76,45,57,58,47,32,35,90,48,63,51,15,79,46,51,64,77,43,42,38,19,59,24,26,24,24,55,63,28,21,49,45,17,27,25,49,15,36,20,34,21,5,45,67,24,12,3,29,36,58,34,17,75,20,31,57,40,32,33,59,45,57,30,45,67,43,44,30,27,28,52,60,33,21,32,16,36,42,58,66,46,38,34,31,24,24,69,19,62,47,9,12,53,50,62,45,72,62,63,42,35,59,84,59,35,78,63,6,35,70,30,45,50,55,24,48,65,23,57,28,26,38,19,30,51,43,44,50,30,51,20,52,46,61,38,45,36,58,52,53,33,3,69,20,28,26,69,25,44,69,29,73,39,45,54,42,34,40,32,28,38,44,4,24,43,77,38,43,19,40,28,32,25,49,43,35,27,31,35,20,22,26,48,23,38,74,47,11,47,42,74,48,67,47,62,44,40,65,50,48,45,34,20,22,51,27,37,44,63,83,26,34,35,19,26,47,10,69,36,32,67,54,40,41,23,37,39,1,47,43,38,52,54,25,44,29,40,32,35,26,46,32,45,32,23,24,47,57,44,23,57,53,2,38,43,64,29,50,21,25,22,50,63,57,50,57,50,37,41,36,31,36,60,17,31,30,46,56,42,27,53,56,37,29,36,39,58,52,16,60,47,50,1,31,52,70,10,33,26,58,40,20,35,30,31,42,33,66,43,30,44,57,46,59,28,20,33,29,64,46,28,46,18,26,41,53,25,45,38,45,24,58,39,44,34,33,30,25,68,51,39,37,40,48,54,8,29,29,50,52,41,44,37,74,44,46,34,38,39,32,46,42,28,54,25,28,43,58,18,63,24,49,58,47,27,67,11,18,38,48,70,40,56,24,28,22,24,32,47,55,30,62,57,53,28,38,64,14,43,67,21,54,35,25,63,50,83,74,43,29,74,50,26,41,50,59,45,45,32,33,7,50,30,67,39,21,57,29,41,39,46,37,42,43,18,38,38,28,17,11,54,20,44,44,63,13,0,25,35,35,43,30,23,34,50,65,45,56,54,32,36,26,30,35,44,34,51,71,49,33,32,42,20,1,26,18,75,41,34,35,55,22,38,70,39,59,44,49,42,48,21,22,35,50,34,34,51,31,49,27,33,34,37,54,27,37,29,40,36,31,48,65,8,29,82,70,53,59,38,0,31,45,30,21,28,24,46,63,66,56,57,42,22,38,80,39,28,36,28,73,33,34,35,2,44,65,50,41,19,32,33,36,41,26,45,53,69,48,57,89,68,36,83,51,61,5,45,63,44,41,72,61,46,56,68,57,34,44,70,70,64,36,48,58,49,68,49,58,32,37,40,55,39,38,77,53,33,23,38,30,66,41,26,68,77,45,23,44,33,38,37,32,45,67,34,43,65,35,32,33,25,38,29,27,46,26,20,28,40,28,54,24,33,21,59,54,28,62,45,53,20,24,46,17,66,59,4,68,33,18,28,2,19,24,31,57,78,38,13,60,25,58,74,35,46,43,38,27,43,46,50,13,45,34,41,53,45,25,42,45,20,34,0,54,25,42,60,40,43,58,39,57,47,41,57,4,45,42,17,0,43,74,26,44,32,46,60,33,50,45,26,40,79,54,61,43,16,33,40,43,23,54,46,40,24,43,26,30,27,62,65,36,58,29,35,33,38,38,34,27,33,2,15,16,28,54,16,28,41,24,7,28,58,42,37,36,51,26,25,47,41,64,30,44,61,35,64,11,44,32,55,38,33,32,4,41,41,32,36,70,69,39,51,52,65,56,47,64,32,3,59,39,62,60,23,26,30,23,53,20,45,42,58,37,35,24,66,33,43,39,38,19,27,18,30,25,26,33,37,43,32,69,49,38,57,45,44,42,46,57,38,37,36,63,47,35,27,33,30,45,53,43,54,25,16,24,39,45,3,23,42,26,39,45,56,41,41,19,46,65,45,40,17,39,87,28,54,50,42,49,57,40,60,41,49,38,50,42,24,26,55,18,39,29,35,32,22,53,25,41,61,28,53,56,36,33,39,37,21,24,54,19,40,39,21,63,41,29,31,31,36,56,22,28,26,3,62,2,60,44,60,73,48,25,26,47,57,41,69,22,61,50,46,58,48,50,43,37,49,56,56,20,28,50,56,31,66,36,28,64,35,90,30,62,80,66,78,59,96,64,29,47,36,68,62,60,83,55,58,79,59,69,59,69,24,63,84,34,60,63,86,67,58,32,35,21,21,42,44,28,36,29,70,48,47,34,24,42,38,26,38,33,5,48,36,31,32,45,55,34,70,52,77,29,39,26,43,52,29,24,61,33,70,15,43,25,53,29,54,40,53,23,62,51,50,78,1,25,69,61,43,59,35,54,38,65,47,33,17,49,18,35,64,30,39,2,51,57,22,32,52,51,23,34,39,26,0,14,40,76,39,17,26,31,45,71,24,26,19,44,43,41,4,24,22,32,36,12,68,43,50,35,65,13,24,46,33,21,51,43,57,51,24,67,77,74,53,71,24,18,38,13,24,54,37,41,56,50,57,35,24,27,41,28,42,60,33,53,38,28,55,54,48,63,53,31,51,26,32,73,44,47,60,57,30,35,21,79,43,27,35,58,67,36,30,19,36,23,39,22,62,60,30,56,54,58,35,53,61,42,44,37,47,29,24,88,1,46,23,34,70,67],\"xaxis\":\"x\",\"yaxis\":\"y\",\"type\":\"histogram\"}],                        {\"template\":{\"data\":{\"bar\":[{\"error_x\":{\"color\":\"#2a3f5f\"},\"error_y\":{\"color\":\"#2a3f5f\"},\"marker\":{\"line\":{\"color\":\"#E5ECF6\",\"width\":0.5},\"pattern\":{\"fillmode\":\"overlay\",\"size\":10,\"solidity\":0.2}},\"type\":\"bar\"}],\"barpolar\":[{\"marker\":{\"line\":{\"color\":\"#E5ECF6\",\"width\":0.5},\"pattern\":{\"fillmode\":\"overlay\",\"size\":10,\"solidity\":0.2}},\"type\":\"barpolar\"}],\"carpet\":[{\"aaxis\":{\"endlinecolor\":\"#2a3f5f\",\"gridcolor\":\"white\",\"linecolor\":\"white\",\"minorgridcolor\":\"white\",\"startlinecolor\":\"#2a3f5f\"},\"baxis\":{\"endlinecolor\":\"#2a3f5f\",\"gridcolor\":\"white\",\"linecolor\":\"white\",\"minorgridcolor\":\"white\",\"startlinecolor\":\"#2a3f5f\"},\"type\":\"carpet\"}],\"choropleth\":[{\"colorbar\":{\"outlinewidth\":0,\"ticks\":\"\"},\"type\":\"choropleth\"}],\"contour\":[{\"colorbar\":{\"outlinewidth\":0,\"ticks\":\"\"},\"colorscale\":[[0.0,\"#0d0887\"],[0.1111111111111111,\"#46039f\"],[0.2222222222222222,\"#7201a8\"],[0.3333333333333333,\"#9c179e\"],[0.4444444444444444,\"#bd3786\"],[0.5555555555555556,\"#d8576b\"],[0.6666666666666666,\"#ed7953\"],[0.7777777777777778,\"#fb9f3a\"],[0.8888888888888888,\"#fdca26\"],[1.0,\"#f0f921\"]],\"type\":\"contour\"}],\"contourcarpet\":[{\"colorbar\":{\"outlinewidth\":0,\"ticks\":\"\"},\"type\":\"contourcarpet\"}],\"heatmap\":[{\"colorbar\":{\"outlinewidth\":0,\"ticks\":\"\"},\"colorscale\":[[0.0,\"#0d0887\"],[0.1111111111111111,\"#46039f\"],[0.2222222222222222,\"#7201a8\"],[0.3333333333333333,\"#9c179e\"],[0.4444444444444444,\"#bd3786\"],[0.5555555555555556,\"#d8576b\"],[0.6666666666666666,\"#ed7953\"],[0.7777777777777778,\"#fb9f3a\"],[0.8888888888888888,\"#fdca26\"],[1.0,\"#f0f921\"]],\"type\":\"heatmap\"}],\"heatmapgl\":[{\"colorbar\":{\"outlinewidth\":0,\"ticks\":\"\"},\"colorscale\":[[0.0,\"#0d0887\"],[0.1111111111111111,\"#46039f\"],[0.2222222222222222,\"#7201a8\"],[0.3333333333333333,\"#9c179e\"],[0.4444444444444444,\"#bd3786\"],[0.5555555555555556,\"#d8576b\"],[0.6666666666666666,\"#ed7953\"],[0.7777777777777778,\"#fb9f3a\"],[0.8888888888888888,\"#fdca26\"],[1.0,\"#f0f921\"]],\"type\":\"heatmapgl\"}],\"histogram\":[{\"marker\":{\"pattern\":{\"fillmode\":\"overlay\",\"size\":10,\"solidity\":0.2}},\"type\":\"histogram\"}],\"histogram2d\":[{\"colorbar\":{\"outlinewidth\":0,\"ticks\":\"\"},\"colorscale\":[[0.0,\"#0d0887\"],[0.1111111111111111,\"#46039f\"],[0.2222222222222222,\"#7201a8\"],[0.3333333333333333,\"#9c179e\"],[0.4444444444444444,\"#bd3786\"],[0.5555555555555556,\"#d8576b\"],[0.6666666666666666,\"#ed7953\"],[0.7777777777777778,\"#fb9f3a\"],[0.8888888888888888,\"#fdca26\"],[1.0,\"#f0f921\"]],\"type\":\"histogram2d\"}],\"histogram2dcontour\":[{\"colorbar\":{\"outlinewidth\":0,\"ticks\":\"\"},\"colorscale\":[[0.0,\"#0d0887\"],[0.1111111111111111,\"#46039f\"],[0.2222222222222222,\"#7201a8\"],[0.3333333333333333,\"#9c179e\"],[0.4444444444444444,\"#bd3786\"],[0.5555555555555556,\"#d8576b\"],[0.6666666666666666,\"#ed7953\"],[0.7777777777777778,\"#fb9f3a\"],[0.8888888888888888,\"#fdca26\"],[1.0,\"#f0f921\"]],\"type\":\"histogram2dcontour\"}],\"mesh3d\":[{\"colorbar\":{\"outlinewidth\":0,\"ticks\":\"\"},\"type\":\"mesh3d\"}],\"parcoords\":[{\"line\":{\"colorbar\":{\"outlinewidth\":0,\"ticks\":\"\"}},\"type\":\"parcoords\"}],\"pie\":[{\"automargin\":true,\"type\":\"pie\"}],\"scatter\":[{\"marker\":{\"colorbar\":{\"outlinewidth\":0,\"ticks\":\"\"}},\"type\":\"scatter\"}],\"scatter3d\":[{\"line\":{\"colorbar\":{\"outlinewidth\":0,\"ticks\":\"\"}},\"marker\":{\"colorbar\":{\"outlinewidth\":0,\"ticks\":\"\"}},\"type\":\"scatter3d\"}],\"scattercarpet\":[{\"marker\":{\"colorbar\":{\"outlinewidth\":0,\"ticks\":\"\"}},\"type\":\"scattercarpet\"}],\"scattergeo\":[{\"marker\":{\"colorbar\":{\"outlinewidth\":0,\"ticks\":\"\"}},\"type\":\"scattergeo\"}],\"scattergl\":[{\"marker\":{\"colorbar\":{\"outlinewidth\":0,\"ticks\":\"\"}},\"type\":\"scattergl\"}],\"scattermapbox\":[{\"marker\":{\"colorbar\":{\"outlinewidth\":0,\"ticks\":\"\"}},\"type\":\"scattermapbox\"}],\"scatterpolar\":[{\"marker\":{\"colorbar\":{\"outlinewidth\":0,\"ticks\":\"\"}},\"type\":\"scatterpolar\"}],\"scatterpolargl\":[{\"marker\":{\"colorbar\":{\"outlinewidth\":0,\"ticks\":\"\"}},\"type\":\"scatterpolargl\"}],\"scatterternary\":[{\"marker\":{\"colorbar\":{\"outlinewidth\":0,\"ticks\":\"\"}},\"type\":\"scatterternary\"}],\"surface\":[{\"colorbar\":{\"outlinewidth\":0,\"ticks\":\"\"},\"colorscale\":[[0.0,\"#0d0887\"],[0.1111111111111111,\"#46039f\"],[0.2222222222222222,\"#7201a8\"],[0.3333333333333333,\"#9c179e\"],[0.4444444444444444,\"#bd3786\"],[0.5555555555555556,\"#d8576b\"],[0.6666666666666666,\"#ed7953\"],[0.7777777777777778,\"#fb9f3a\"],[0.8888888888888888,\"#fdca26\"],[1.0,\"#f0f921\"]],\"type\":\"surface\"}],\"table\":[{\"cells\":{\"fill\":{\"color\":\"#EBF0F8\"},\"line\":{\"color\":\"white\"}},\"header\":{\"fill\":{\"color\":\"#C8D4E3\"},\"line\":{\"color\":\"white\"}},\"type\":\"table\"}]},\"layout\":{\"annotationdefaults\":{\"arrowcolor\":\"#2a3f5f\",\"arrowhead\":0,\"arrowwidth\":1},\"autotypenumbers\":\"strict\",\"coloraxis\":{\"colorbar\":{\"outlinewidth\":0,\"ticks\":\"\"}},\"colorscale\":{\"diverging\":[[0,\"#8e0152\"],[0.1,\"#c51b7d\"],[0.2,\"#de77ae\"],[0.3,\"#f1b6da\"],[0.4,\"#fde0ef\"],[0.5,\"#f7f7f7\"],[0.6,\"#e6f5d0\"],[0.7,\"#b8e186\"],[0.8,\"#7fbc41\"],[0.9,\"#4d9221\"],[1,\"#276419\"]],\"sequential\":[[0.0,\"#0d0887\"],[0.1111111111111111,\"#46039f\"],[0.2222222222222222,\"#7201a8\"],[0.3333333333333333,\"#9c179e\"],[0.4444444444444444,\"#bd3786\"],[0.5555555555555556,\"#d8576b\"],[0.6666666666666666,\"#ed7953\"],[0.7777777777777778,\"#fb9f3a\"],[0.8888888888888888,\"#fdca26\"],[1.0,\"#f0f921\"]],\"sequentialminus\":[[0.0,\"#0d0887\"],[0.1111111111111111,\"#46039f\"],[0.2222222222222222,\"#7201a8\"],[0.3333333333333333,\"#9c179e\"],[0.4444444444444444,\"#bd3786\"],[0.5555555555555556,\"#d8576b\"],[0.6666666666666666,\"#ed7953\"],[0.7777777777777778,\"#fb9f3a\"],[0.8888888888888888,\"#fdca26\"],[1.0,\"#f0f921\"]]},\"colorway\":[\"#636efa\",\"#EF553B\",\"#00cc96\",\"#ab63fa\",\"#FFA15A\",\"#19d3f3\",\"#FF6692\",\"#B6E880\",\"#FF97FF\",\"#FECB52\"],\"font\":{\"color\":\"#2a3f5f\"},\"geo\":{\"bgcolor\":\"white\",\"lakecolor\":\"white\",\"landcolor\":\"#E5ECF6\",\"showlakes\":true,\"showland\":true,\"subunitcolor\":\"white\"},\"hoverlabel\":{\"align\":\"left\"},\"hovermode\":\"closest\",\"mapbox\":{\"style\":\"light\"},\"paper_bgcolor\":\"white\",\"plot_bgcolor\":\"#E5ECF6\",\"polar\":{\"angularaxis\":{\"gridcolor\":\"white\",\"linecolor\":\"white\",\"ticks\":\"\"},\"bgcolor\":\"#E5ECF6\",\"radialaxis\":{\"gridcolor\":\"white\",\"linecolor\":\"white\",\"ticks\":\"\"}},\"scene\":{\"xaxis\":{\"backgroundcolor\":\"#E5ECF6\",\"gridcolor\":\"white\",\"gridwidth\":2,\"linecolor\":\"white\",\"showbackground\":true,\"ticks\":\"\",\"zerolinecolor\":\"white\"},\"yaxis\":{\"backgroundcolor\":\"#E5ECF6\",\"gridcolor\":\"white\",\"gridwidth\":2,\"linecolor\":\"white\",\"showbackground\":true,\"ticks\":\"\",\"zerolinecolor\":\"white\"},\"zaxis\":{\"backgroundcolor\":\"#E5ECF6\",\"gridcolor\":\"white\",\"gridwidth\":2,\"linecolor\":\"white\",\"showbackground\":true,\"ticks\":\"\",\"zerolinecolor\":\"white\"}},\"shapedefaults\":{\"line\":{\"color\":\"#2a3f5f\"}},\"ternary\":{\"aaxis\":{\"gridcolor\":\"white\",\"linecolor\":\"white\",\"ticks\":\"\"},\"baxis\":{\"gridcolor\":\"white\",\"linecolor\":\"white\",\"ticks\":\"\"},\"bgcolor\":\"#E5ECF6\",\"caxis\":{\"gridcolor\":\"white\",\"linecolor\":\"white\",\"ticks\":\"\"}},\"title\":{\"x\":0.05},\"xaxis\":{\"automargin\":true,\"gridcolor\":\"white\",\"linecolor\":\"white\",\"ticks\":\"\",\"title\":{\"standoff\":15},\"zerolinecolor\":\"white\",\"zerolinewidth\":2},\"yaxis\":{\"automargin\":true,\"gridcolor\":\"white\",\"linecolor\":\"white\",\"ticks\":\"\",\"title\":{\"standoff\":15},\"zerolinecolor\":\"white\",\"zerolinewidth\":2}}},\"xaxis\":{\"anchor\":\"y\",\"domain\":[0.0,1.0],\"title\":{\"text\":\"IDADE\"}},\"yaxis\":{\"anchor\":\"x\",\"domain\":[0.0,1.0],\"title\":{\"text\":\"count\"}},\"legend\":{\"tracegroupgap\":0},\"margin\":{\"t\":60},\"barmode\":\"relative\",\"title\":{\"text\":\"Distribui\\u00e7\\u00e3o das idades\"},\"width\":600,\"height\":400},                        {\"responsive\": true}                    ).then(function(){\n",
              "                            \n",
              "var gd = document.getElementById('0ea6b140-17aa-4887-8572-0d8191c21683');\n",
              "var x = new MutationObserver(function (mutations, observer) {{\n",
              "        var display = window.getComputedStyle(gd).display;\n",
              "        if (!display || display === 'none') {{\n",
              "            console.log([gd, 'removed!']);\n",
              "            Plotly.purge(gd);\n",
              "            observer.disconnect();\n",
              "        }}\n",
              "}});\n",
              "\n",
              "// Listen for the removal of the full notebook cells\n",
              "var notebookContainer = gd.closest('#notebook-container');\n",
              "if (notebookContainer) {{\n",
              "    x.observe(notebookContainer, {childList: true});\n",
              "}}\n",
              "\n",
              "// Listen for the clearing of the current output cell\n",
              "var outputEl = gd.closest('.output');\n",
              "if (outputEl) {{\n",
              "    x.observe(outputEl, {childList: true});\n",
              "}}\n",
              "\n",
              "                        })                };                            </script>        </div>\n",
              "</body>\n",
              "</html>"
            ]
          },
          "metadata": {}
        }
      ]
    },
    {
      "cell_type": "markdown",
      "source": [
        "**GENERO**"
      ],
      "metadata": {
        "id": "rKct10UdM8Cf"
      }
    },
    {
      "cell_type": "code",
      "source": [
        "df2['SEXO'].value_counts()"
      ],
      "metadata": {
        "colab": {
          "base_uri": "https://localhost:8080/"
        },
        "id": "fjOP5asvNZEG",
        "outputId": "2500fb2a-4b4f-46c6-96de-b539f4264253"
      },
      "execution_count": 280,
      "outputs": [
        {
          "output_type": "execute_result",
          "data": {
            "text/plain": [
              "F    3099\n",
              "M    2804\n",
              "Name: SEXO, dtype: int64"
            ]
          },
          "metadata": {},
          "execution_count": 280
        }
      ]
    },
    {
      "cell_type": "code",
      "source": [
        "import seaborn as sns"
      ],
      "metadata": {
        "id": "NAKRC3UhNbe2"
      },
      "execution_count": 281,
      "outputs": []
    },
    {
      "cell_type": "code",
      "source": [
        "sns.countplot(x='SEXO', data=df2);"
      ],
      "metadata": {
        "colab": {
          "base_uri": "https://localhost:8080/",
          "height": 0
        },
        "id": "LztU5d-MNdMN",
        "outputId": "b7d9e3f3-690f-4a07-b946-e31eda34631e"
      },
      "execution_count": 282,
      "outputs": [
        {
          "output_type": "display_data",
          "data": {
            "text/plain": [
              "<Figure size 432x288 with 1 Axes>"
            ],
            "image/png": "[encoded data removed]"
          },
          "metadata": {
            "needs_background": "light"
          }
        }
      ]
    },
    {
      "cell_type": "code",
      "source": [
        "df2.shape"
      ],
      "metadata": {
        "colab": {
          "base_uri": "https://localhost:8080/"
        },
        "id": "_4a8FO_VNe-e",
        "outputId": "fcbd28ee-aafa-4223-86b3-3cfe58df2e63"
      },
      "execution_count": 283,
      "outputs": [
        {
          "output_type": "execute_result",
          "data": {
            "text/plain": [
              "(5903, 4)"
            ]
          },
          "metadata": {},
          "execution_count": 283
        }
      ]
    },
    {
      "cell_type": "code",
      "source": [
        "df2.describe()"
      ],
      "metadata": {
        "colab": {
          "base_uri": "https://localhost:8080/",
          "height": 0
        },
        "id": "2LtQnItKNqbs",
        "outputId": "f6ba2b30-cbaa-4417-a7a5-adda84736775"
      },
      "execution_count": 284,
      "outputs": [
        {
          "output_type": "execute_result",
          "data": {
            "text/plain": [
              "             IDADE    INTERNADO       STATUS\n",
              "count  5903.000000  5903.000000  5903.000000\n",
              "mean     43.700999     0.219549     0.047603\n",
              "std      17.653127     0.413976     0.212943\n",
              "min       0.000000     0.000000     0.000000\n",
              "25%      31.000000     0.000000     0.000000\n",
              "50%      42.000000     0.000000     0.000000\n",
              "75%      56.000000     0.000000     0.000000\n",
              "max      96.000000     1.000000     1.000000"
            ],
            "text/html": [
              "\n",
              "  <div id=\"df-a70a9d5f-4d28-4b4a-bc1d-28112a96eb66\">\n",
              "    <div class=\"colab-df-container\">\n",
              "      <div>\n",
              "<style scoped>\n",
              "    .dataframe tbody tr th:only-of-type {\n",
              "        vertical-align: middle;\n",
              "    }\n",
              "\n",
              "    .dataframe tbody tr th {\n",
              "        vertical-align: top;\n",
              "    }\n",
              "\n",
              "    .dataframe thead th {\n",
              "        text-align: right;\n",
              "    }\n",
              "</style>\n",
              "<table border=\"1\" class=\"dataframe\">\n",
              "  <thead>\n",
              "    <tr style=\"text-align: right;\">\n",
              "      <th></th>\n",
              "      <th>IDADE</th>\n",
              "      <th>INTERNADO</th>\n",
              "      <th>STATUS</th>\n",
              "    </tr>\n",
              "  </thead>\n",
              "  <tbody>\n",
              "    <tr>\n",
              "      <th>count</th>\n",
              "      <td>5903.000000</td>\n",
              "      <td>5903.000000</td>\n",
              "      <td>5903.000000</td>\n",
              "    </tr>\n",
              "    <tr>\n",
              "      <th>mean</th>\n",
              "      <td>43.700999</td>\n",
              "      <td>0.219549</td>\n",
              "      <td>0.047603</td>\n",
              "    </tr>\n",
              "    <tr>\n",
              "      <th>std</th>\n",
              "      <td>17.653127</td>\n",
              "      <td>0.413976</td>\n",
              "      <td>0.212943</td>\n",
              "    </tr>\n",
              "    <tr>\n",
              "      <th>min</th>\n",
              "      <td>0.000000</td>\n",
              "      <td>0.000000</td>\n",
              "      <td>0.000000</td>\n",
              "    </tr>\n",
              "    <tr>\n",
              "      <th>25%</th>\n",
              "      <td>31.000000</td>\n",
              "      <td>0.000000</td>\n",
              "      <td>0.000000</td>\n",
              "    </tr>\n",
              "    <tr>\n",
              "      <th>50%</th>\n",
              "      <td>42.000000</td>\n",
              "      <td>0.000000</td>\n",
              "      <td>0.000000</td>\n",
              "    </tr>\n",
              "    <tr>\n",
              "      <th>75%</th>\n",
              "      <td>56.000000</td>\n",
              "      <td>0.000000</td>\n",
              "      <td>0.000000</td>\n",
              "    </tr>\n",
              "    <tr>\n",
              "      <th>max</th>\n",
              "      <td>96.000000</td>\n",
              "      <td>1.000000</td>\n",
              "      <td>1.000000</td>\n",
              "    </tr>\n",
              "  </tbody>\n",
              "</table>\n",
              "</div>\n",
              "      <button class=\"colab-df-convert\" onclick=\"convertToInteractive('df-a70a9d5f-4d28-4b4a-bc1d-28112a96eb66')\"\n",
              "              title=\"Convert this dataframe to an interactive table.\"\n",
              "              style=\"display:none;\">\n",
              "        \n",
              "  <svg xmlns=\"http://www.w3.org/2000/svg\" height=\"24px\"viewBox=\"0 0 24 24\"\n",
              "       width=\"24px\">\n",
              "    <path d=\"M0 0h24v24H0V0z\" fill=\"none\"/>\n",
              "    <path d=\"M18.56 5.44l.94 2.06.94-2.06 2.06-.94-2.06-.94-.94-2.06-.94 2.06-2.06.94zm-11 1L8.5 8.5l.94-2.06 2.06-.94-2.06-.94L8.5 2.5l-.94 2.06-2.06.94zm10 10l.94 2.06.94-2.06 2.06-.94-2.06-.94-.94-2.06-.94 2.06-2.06.94z\"/><path d=\"M17.41 7.96l-1.37-1.37c-.4-.4-.92-.59-1.43-.59-.52 0-1.04.2-1.43.59L10.3 9.45l-7.72 7.72c-.78.78-.78 2.05 0 2.83L4 21.41c.39.39.9.59 1.41.59.51 0 1.02-.2 1.41-.59l7.78-7.78 2.81-2.81c.8-.78.8-2.07 0-2.86zM5.41 20L4 18.59l7.72-7.72 1.47 1.35L5.41 20z\"/>\n",
              "  </svg>\n",
              "      </button>\n",
              "      \n",
              "  <style>\n",
              "    .colab-df-container {\n",
              "      display:flex;\n",
              "      flex-wrap:wrap;\n",
              "      gap: 12px;\n",
              "    }\n",
              "\n",
              "    .colab-df-convert {\n",
              "      background-color: #E8F0FE;\n",
              "      border: none;\n",
              "      border-radius: 50%;\n",
              "      cursor: pointer;\n",
              "      display: none;\n",
              "      fill: #1967D2;\n",
              "      height: 32px;\n",
              "      padding: 0 0 0 0;\n",
              "      width: 32px;\n",
              "    }\n",
              "\n",
              "    .colab-df-convert:hover {\n",
              "      background-color: #E2EBFA;\n",
              "      box-shadow: 0px 1px 2px rgba(60, 64, 67, 0.3), 0px 1px 3px 1px rgba(60, 64, 67, 0.15);\n",
              "      fill: #174EA6;\n",
              "    }\n",
              "\n",
              "    [theme=dark] .colab-df-convert {\n",
              "      background-color: #3B4455;\n",
              "      fill: #D2E3FC;\n",
              "    }\n",
              "\n",
              "    [theme=dark] .colab-df-convert:hover {\n",
              "      background-color: #434B5C;\n",
              "      box-shadow: 0px 1px 3px 1px rgba(0, 0, 0, 0.15);\n",
              "      filter: drop-shadow(0px 1px 2px rgba(0, 0, 0, 0.3));\n",
              "      fill: #FFFFFF;\n",
              "    }\n",
              "  </style>\n",
              "\n",
              "      <script>\n",
              "        const buttonEl =\n",
              "          document.querySelector('#df-a70a9d5f-4d28-4b4a-bc1d-28112a96eb66 button.colab-df-convert');\n",
              "        buttonEl.style.display =\n",
              "          google.colab.kernel.accessAllowed ? 'block' : 'none';\n",
              "\n",
              "        async function convertToInteractive(key) {\n",
              "          const element = document.querySelector('#df-a70a9d5f-4d28-4b4a-bc1d-28112a96eb66');\n",
              "          const dataTable =\n",
              "            await google.colab.kernel.invokeFunction('convertToInteractive',\n",
              "                                                     [key], {});\n",
              "          if (!dataTable) return;\n",
              "\n",
              "          const docLinkHtml = 'Like what you see? Visit the ' +\n",
              "            '<a target=\"_blank\" href=https://colab.research.google.com/notebooks/data_table.ipynb>data table notebook</a>'\n",
              "            + ' to learn more about interactive tables.';\n",
              "          element.innerHTML = '';\n",
              "          dataTable['output_type'] = 'display_data';\n",
              "          await google.colab.output.renderOutput(dataTable, element);\n",
              "          const docLink = document.createElement('div');\n",
              "          docLink.innerHTML = docLinkHtml;\n",
              "          element.appendChild(docLink);\n",
              "        }\n",
              "      </script>\n",
              "    </div>\n",
              "  </div>\n",
              "  "
            ]
          },
          "metadata": {},
          "execution_count": 284
        }
      ]
    },
    {
      "cell_type": "markdown",
      "source": [
        "**Analise de outliers**"
      ],
      "metadata": {
        "id": "MO4ua29VN46t"
      }
    },
    {
      "cell_type": "code",
      "source": [
        "import plotly.express as px"
      ],
      "metadata": {
        "id": "8kyXHeoUN63E"
      },
      "execution_count": 285,
      "outputs": []
    },
    {
      "cell_type": "code",
      "source": [
        "boxplot = px.box(df2, y=\"IDADE\")\n",
        "boxplot.show()"
      ],
      "metadata": {
        "colab": {
          "base_uri": "https://localhost:8080/",
          "height": 0
        },
        "id": "0dvFREF9OAQE",
        "outputId": "7b48cebe-47b4-4a4b-e862-36d8b34e56f0"
      },
      "execution_count": 286,
      "outputs": [
        {
          "output_type": "display_data",
          "data": {
            "text/html": [
              "<html>\n",
              "<head><meta charset=\"utf-8\" /></head>\n",
              "<body>\n",
              "    <div>            <script src=\"https://cdnjs.cloudflare.com/ajax/libs/mathjax/2.7.5/MathJax.js?config=TeX-AMS-MML_SVG\"></script><script type=\"text/javascript\">if (window.MathJax) {MathJax.Hub.Config({SVG: {font: \"STIX-Web\"}});}</script>                <script type=\"text/javascript\">window.PlotlyConfig = {MathJaxConfig: 'local'};</script>\n",
              "        <script src=\"https://cdn.plot.ly/plotly-2.8.3.min.js\"></script>                <div id=\"24fa8d20-00a1-4aeb-a157-c395c82c5fd5\" class=\"plotly-graph-div\" style=\"height:525px; width:100%;\"></div>            <script type=\"text/javascript\">                                    window.PLOTLYENV=window.PLOTLYENV || {};                                    if (document.getElementById(\"24fa8d20-00a1-4aeb-a157-c395c82c5fd5\")) {                    Plotly.newPlot(                        \"24fa8d20-00a1-4aeb-a157-c395c82c5fd5\",                        [{\"alignmentgroup\":\"True\",\"hovertemplate\":\"IDADE=%{y}<extra></extra>\",\"legendgroup\":\"\",\"marker\":{\"color\":\"#636efa\"},\"name\":\"\",\"notched\":false,\"offsetgroup\":\"\",\"orientation\":\"v\",\"showlegend\":false,\"x0\":\" \",\"xaxis\":\"x\",\"y\":[54,15,43,25,58,57,27,26,52,22,26,48,32,36,45,26,48,53,30,32,81,58,52,44,36,28,53,30,41,73,70,42,32,38,61,36,68,28,59,79,56,59,32,54,17,41,22,69,54,10,62,62,34,78,30,51,30,46,38,28,80,41,51,31,27,40,49,66,54,56,55,29,29,35,77,58,59,39,63,30,64,29,39,29,37,45,59,69,37,75,70,74,63,61,62,59,37,65,36,54,61,32,58,36,46,35,50,50,23,62,61,56,41,43,56,68,41,31,17,44,53,29,38,63,66,55,55,86,54,68,29,64,32,88,52,49,53,60,39,93,34,28,37,35,31,78,54,57,34,41,62,41,94,29,45,47,38,68,29,36,66,37,35,37,42,54,41,77,58,85,45,25,31,56,81,35,72,56,45,54,52,48,49,23,29,47,19,30,32,22,65,43,65,48,36,96,47,33,20,35,37,23,49,70,62,47,52,55,82,39,52,34,75,30,31,29,74,56,43,42,51,30,47,33,58,62,30,31,44,50,18,70,36,37,80,88,23,62,42,75,73,87,37,24,57,24,33,30,29,31,1,20,74,39,26,71,40,69,26,32,34,43,38,51,25,25,53,85,94,62,9,31,33,25,38,59,43,24,36,53,26,64,37,57,44,57,76,62,49,48,48,38,29,79,32,36,17,30,42,79,44,40,84,69,36,30,38,49,81,74,24,40,36,31,63,75,36,31,49,59,37,34,24,22,85,32,45,89,27,46,30,64,44,26,57,69,32,57,28,52,29,59,44,54,40,46,70,29,25,37,39,55,45,26,86,38,55,71,35,56,42,72,81,28,61,45,34,72,36,31,54,36,48,46,38,49,32,40,47,54,75,56,33,25,16,36,35,35,59,59,93,47,24,31,15,38,27,57,53,54,43,45,50,39,13,23,66,41,40,67,49,17,39,63,42,24,37,58,80,3,41,30,44,45,53,40,34,45,36,44,31,59,41,64,42,26,31,65,56,54,65,42,27,29,51,80,77,69,53,71,45,62,82,32,89,21,47,38,25,26,52,40,46,38,24,82,77,65,22,50,63,21,65,24,81,51,27,80,43,72,58,89,42,53,23,37,55,30,27,55,36,38,5,34,44,34,67,60,22,35,25,41,25,80,23,31,47,44,89,31,67,46,45,29,41,62,53,48,36,68,85,42,30,45,90,49,36,53,23,36,31,3,34,57,54,67,50,52,31,3,64,3,48,20,34,27,63,42,25,44,64,50,26,62,60,63,31,39,37,42,50,55,39,39,63,47,37,42,42,43,68,61,29,69,46,46,27,46,64,34,30,31,23,27,56,36,73,62,74,56,56,12,44,27,62,58,52,55,89,38,64,26,33,31,25,56,23,53,22,1,55,28,28,50,59,35,42,50,58,9,55,53,83,30,52,0,34,76,77,52,7,38,39,49,37,55,50,22,3,54,67,55,24,50,47,78,51,42,23,59,67,39,31,38,1,33,29,43,0,63,33,82,8,55,49,16,66,66,67,56,62,34,38,76,58,40,32,38,39,70,31,33,74,79,48,44,85,85,74,55,20,43,51,37,73,52,41,30,75,56,21,38,23,27,29,90,23,24,40,65,77,45,63,27,44,54,38,39,45,34,53,51,30,27,39,41,36,66,41,37,52,65,38,37,35,56,87,31,55,67,65,52,68,73,16,88,47,22,31,40,52,39,53,37,66,89,44,49,40,58,48,45,39,40,43,41,35,32,29,30,62,27,58,61,28,56,36,47,53,52,54,42,67,45,55,60,29,36,32,41,38,38,26,41,36,23,62,46,26,33,80,51,24,58,78,45,50,32,38,37,40,76,38,60,61,60,49,36,58,69,37,38,21,70,34,79,47,44,41,48,25,24,37,48,56,48,36,56,45,58,28,52,42,33,86,71,31,6,59,16,77,36,49,24,9,23,32,57,25,19,35,48,22,13,48,62,47,5,30,60,48,50,23,9,18,34,64,31,54,37,40,56,81,75,56,62,21,28,24,68,44,65,71,73,47,31,29,40,87,42,59,42,57,34,1,66,24,23,49,36,61,40,55,8,30,62,82,58,42,47,63,54,41,46,85,26,48,46,23,30,67,81,49,77,48,53,51,50,13,5,29,67,23,75,69,33,76,62,57,38,66,70,22,52,54,61,36,35,46,69,41,54,30,9,75,72,49,53,53,59,56,21,40,13,38,62,43,81,66,63,48,24,48,41,22,22,57,39,47,24,28,26,82,34,79,30,67,62,85,20,23,54,19,47,57,55,68,40,48,50,33,82,89,51,48,67,49,29,43,85,41,46,62,43,64,38,39,30,44,59,65,74,48,49,57,57,36,38,5,27,33,54,21,30,39,55,59,46,32,61,26,56,25,37,49,33,38,36,34,61,24,48,32,49,87,81,26,23,38,42,44,18,39,33,61,64,41,24,50,25,31,82,45,65,53,36,37,50,50,38,46,58,41,25,40,43,64,29,73,20,41,41,36,30,44,50,30,44,28,42,58,42,37,49,31,60,46,47,28,29,46,91,10,42,71,29,38,51,75,70,54,32,50,25,37,64,46,39,69,31,55,45,31,36,68,66,58,66,48,41,35,93,26,34,43,48,31,47,29,37,43,55,52,57,41,46,48,19,28,37,49,64,52,58,59,44,65,75,70,69,11,20,33,22,33,54,38,22,44,56,74,37,33,54,79,50,1,68,45,78,52,31,77,62,89,39,70,48,68,19,17,42,27,30,42,40,32,37,22,28,77,55,31,61,79,61,30,59,74,41,32,38,40,39,22,59,52,39,34,57,21,64,67,28,42,41,77,77,32,75,59,56,23,34,45,36,39,57,45,62,39,43,42,49,46,49,68,48,50,76,56,87,57,57,85,59,58,64,80,69,79,61,81,69,70,45,62,48,44,76,21,51,28,22,26,50,59,73,30,55,76,33,56,29,33,69,37,32,39,41,82,36,58,17,5,61,37,74,53,39,69,48,44,81,25,49,45,47,28,44,30,34,48,55,41,58,27,73,20,29,27,30,28,40,54,34,21,32,52,44,34,46,28,23,30,2,39,27,54,59,60,36,32,40,67,73,33,35,87,64,70,49,63,68,88,31,70,90,90,82,29,88,57,47,48,38,61,72,58,17,56,40,28,49,38,45,37,48,77,37,65,37,63,54,34,71,26,29,30,63,42,59,27,51,56,28,38,45,47,40,39,50,55,27,62,48,73,38,56,22,42,27,41,70,63,24,39,66,37,39,53,40,36,22,53,24,38,47,96,49,64,41,43,70,25,12,67,36,46,49,32,66,45,55,59,50,44,45,89,49,67,31,75,57,43,42,35,23,45,46,42,22,33,28,27,30,77,75,67,18,38,60,43,39,83,45,57,34,38,49,49,56,21,80,52,29,41,51,42,9,42,50,63,58,24,85,48,48,41,48,43,20,22,20,26,44,35,57,38,68,41,57,39,37,29,90,76,26,29,67,60,52,52,67,67,75,17,40,59,61,72,61,47,55,85,81,89,47,50,75,66,44,27,35,47,60,27,46,37,36,63,24,44,68,46,50,32,30,44,27,45,47,48,43,54,38,30,87,74,64,29,84,36,67,46,52,46,60,59,48,23,77,39,22,65,62,35,28,57,38,56,31,63,35,39,48,43,37,37,58,78,58,32,30,88,47,39,40,53,71,69,67,67,52,74,77,73,37,64,3,45,78,42,49,32,63,81,42,40,45,21,38,26,49,45,50,43,49,27,58,61,45,29,30,54,44,33,90,51,37,80,60,69,41,30,66,30,49,35,50,68,75,61,40,56,43,68,70,35,50,36,21,85,44,42,52,59,33,66,33,18,53,34,62,34,42,45,61,41,42,20,28,43,36,30,70,45,57,41,42,44,54,41,36,67,50,53,73,84,64,30,86,86,44,56,69,65,75,52,57,35,35,50,29,26,36,68,38,24,61,24,69,17,52,59,69,49,27,52,14,48,63,56,46,46,46,45,31,48,43,2,27,45,27,39,19,19,19,50,41,50,14,35,32,54,36,48,87,42,79,48,41,22,43,61,63,62,53,44,28,34,55,52,43,48,3,34,39,70,22,57,63,70,44,40,40,57,35,29,3,53,66,77,22,77,59,56,54,62,29,32,55,55,64,27,36,45,39,55,48,30,34,82,38,29,1,47,34,49,40,28,40,74,35,82,57,36,76,26,68,70,50,79,62,86,71,7,54,36,45,56,26,40,28,33,49,19,29,30,41,47,63,28,57,60,20,44,39,38,35,26,45,50,21,29,47,42,44,36,33,34,31,27,35,22,73,43,40,44,45,27,64,28,23,1,41,68,43,46,35,28,35,53,42,33,42,4,46,42,37,21,58,45,37,37,64,58,43,55,23,36,46,20,26,32,18,67,27,42,60,42,50,35,72,65,43,27,88,11,33,31,62,37,37,31,35,38,43,28,46,60,60,57,48,35,51,63,55,37,68,30,42,47,63,53,50,57,64,53,39,48,61,82,46,76,28,58,38,37,41,59,50,28,33,41,49,63,68,66,49,76,52,79,39,46,27,17,43,82,43,38,75,72,51,49,27,89,63,72,53,78,36,28,33,55,65,51,53,20,46,34,21,52,45,48,36,2,82,27,42,40,57,53,54,57,76,63,49,48,14,48,67,36,66,51,26,40,39,36,23,83,53,45,29,76,37,45,24,43,48,30,33,72,63,63,74,74,40,33,41,45,34,19,38,31,50,36,54,28,42,47,70,26,13,46,51,55,61,43,71,62,72,23,59,82,69,70,83,33,71,36,33,49,24,47,32,32,5,20,56,35,20,40,31,39,82,39,39,47,38,20,25,32,51,41,40,45,20,35,24,27,45,93,37,27,34,37,46,46,32,20,57,72,50,28,31,61,72,85,37,80,59,57,66,72,24,53,34,39,82,40,43,28,37,80,46,74,55,59,66,25,59,45,28,52,63,54,22,38,21,29,45,31,15,35,56,58,59,56,31,30,24,21,35,46,24,20,0,34,7,23,55,39,42,50,57,30,46,65,43,61,36,40,40,59,20,27,38,44,28,39,38,33,29,41,58,22,52,26,64,30,36,61,37,25,46,65,34,39,44,53,7,34,29,47,46,41,43,40,37,29,1,38,27,49,79,32,28,56,14,71,33,41,33,23,44,47,40,38,57,48,40,37,50,48,38,52,65,27,38,33,36,45,57,49,36,54,54,27,43,44,37,29,68,30,0,39,37,35,39,35,27,40,60,66,32,47,38,35,37,36,46,53,29,28,34,80,61,42,1,48,23,53,26,23,20,28,32,79,51,39,50,36,35,38,19,30,46,37,24,64,55,23,40,50,47,32,29,37,31,64,53,4,66,31,52,38,74,4,1,31,45,43,20,47,42,40,25,73,46,21,30,20,48,37,54,28,24,68,62,52,65,49,39,32,26,36,43,27,72,36,52,38,62,38,28,48,26,40,45,48,57,38,23,54,35,40,46,32,52,43,32,20,51,31,20,80,28,37,27,51,16,66,20,35,22,33,49,42,37,52,57,27,43,41,36,24,55,61,23,41,34,40,27,49,39,43,60,29,29,24,25,28,62,50,46,23,49,25,62,38,15,40,30,53,19,31,38,61,43,36,74,51,45,36,38,67,25,40,35,24,37,34,53,34,36,29,24,44,32,31,34,54,31,53,31,35,27,34,66,24,42,24,47,68,88,28,29,75,25,30,4,30,57,16,74,18,57,23,30,39,48,40,36,69,44,23,43,23,68,28,26,34,19,38,35,44,75,71,22,18,27,43,43,20,26,26,77,38,20,47,20,28,56,38,36,45,55,35,16,44,39,59,39,24,46,26,42,42,25,21,32,34,18,64,42,30,59,63,66,45,35,0,71,24,43,65,42,25,33,60,57,47,50,79,83,25,44,29,48,40,25,21,37,32,58,31,58,56,44,38,67,73,76,73,63,44,40,39,33,40,29,42,41,26,45,11,35,38,42,42,59,52,49,59,46,21,47,1,88,39,79,77,37,76,31,76,51,48,24,92,54,60,79,29,49,43,32,56,66,45,46,59,32,63,65,64,43,65,23,34,32,23,69,44,23,66,1,31,65,66,41,51,45,48,27,26,55,42,25,25,40,44,36,66,48,44,54,46,86,53,64,31,38,31,31,40,27,26,38,29,62,39,46,39,35,30,30,28,64,40,65,21,27,35,22,65,61,62,32,60,71,56,62,55,74,44,50,64,54,26,42,74,75,67,66,29,41,37,41,22,48,37,29,40,46,24,63,33,32,25,35,32,44,63,26,30,52,36,34,58,49,43,45,60,66,34,69,34,55,27,24,53,55,28,85,45,41,44,39,23,47,37,34,73,26,29,22,33,32,60,53,37,6,63,28,56,33,42,35,45,51,44,20,49,28,37,45,51,41,29,43,69,53,65,17,39,40,28,28,8,29,41,40,29,40,49,37,68,14,45,0,48,80,71,54,90,50,34,72,13,26,56,59,68,56,32,32,41,33,56,56,85,11,24,13,88,44,35,36,55,59,29,64,51,31,17,40,41,29,24,35,57,24,45,40,24,40,31,81,55,32,45,46,52,38,29,46,33,28,31,24,63,59,36,43,49,39,43,28,23,31,22,14,59,33,34,38,29,54,49,50,30,51,50,56,36,40,34,64,41,24,25,17,58,66,43,28,61,40,37,37,55,29,30,34,29,33,31,23,31,43,52,14,27,22,38,82,80,53,43,33,33,32,25,60,71,46,61,30,21,57,27,55,65,34,28,39,24,22,57,73,4,33,30,53,11,49,54,67,33,60,34,45,45,70,37,29,42,11,66,47,29,32,7,59,48,57,37,53,36,32,57,37,45,31,32,27,31,45,66,27,56,3,89,28,35,60,29,67,34,51,35,47,73,63,78,27,60,59,38,41,62,31,45,73,52,42,69,42,65,81,47,51,41,43,39,55,35,45,46,33,62,58,39,0,3,27,36,8,36,26,29,44,54,51,47,63,24,63,60,48,59,79,36,56,66,62,86,76,52,49,58,72,35,22,17,17,45,37,56,39,22,24,24,3,71,66,67,59,51,58,49,59,56,65,42,85,55,91,26,40,27,39,39,7,47,24,49,43,63,70,38,33,78,39,34,70,65,43,42,6,53,52,59,41,57,62,32,23,52,37,55,63,44,56,44,59,28,13,16,67,38,41,31,49,48,52,54,43,59,49,33,29,67,26,42,40,50,45,28,2,66,25,48,22,37,59,29,42,72,61,39,12,28,32,24,65,45,65,19,36,58,30,43,31,24,63,44,47,38,57,68,31,39,25,85,54,27,24,40,60,33,43,43,60,60,24,49,26,28,43,9,33,53,54,45,51,36,32,62,52,37,22,39,38,33,41,37,1,1,49,44,48,49,39,22,40,69,49,23,34,36,39,51,42,31,36,24,39,42,41,42,23,34,68,15,68,44,20,33,34,50,37,23,36,58,26,32,26,48,39,70,38,22,44,76,28,33,26,24,67,37,35,30,39,52,39,7,48,55,56,32,40,62,59,32,45,67,23,36,18,56,22,27,29,46,78,58,33,38,26,2,40,65,63,38,58,38,35,25,21,29,33,38,27,45,62,61,31,43,29,38,68,29,40,33,30,5,32,36,41,22,57,22,28,37,29,28,12,39,25,42,55,51,33,33,34,40,37,28,36,37,19,22,33,26,27,32,34,38,45,36,52,17,70,38,43,44,37,30,34,35,23,27,33,30,67,23,42,53,57,44,47,49,32,69,42,28,43,76,33,35,54,38,87,33,60,55,46,33,20,29,19,21,33,31,50,25,57,57,44,5,37,18,27,49,43,42,32,42,56,24,40,31,65,1,35,46,31,52,80,47,30,21,34,35,31,41,35,50,36,36,66,56,77,51,48,45,70,46,76,59,71,30,75,48,75,43,34,71,47,64,50,49,44,71,74,60,51,53,28,75,45,57,73,64,53,15,56,40,35,71,59,62,17,37,33,8,32,32,37,3,24,25,14,44,45,64,25,71,24,49,20,45,45,38,68,30,48,17,50,3,49,74,46,42,59,51,32,22,69,7,52,48,25,62,68,13,42,44,11,39,30,34,22,2,54,48,68,41,50,51,48,53,31,31,72,25,48,43,5,60,34,19,45,48,41,57,49,50,46,42,50,22,70,62,38,63,57,42,36,30,55,46,35,45,33,54,54,42,58,28,46,42,36,34,49,45,20,35,35,55,47,59,38,47,36,31,73,26,24,26,45,46,42,28,54,33,27,74,16,40,31,27,33,83,37,53,59,19,15,54,24,21,18,57,39,48,40,74,40,37,20,54,2,12,31,45,42,38,47,46,25,64,43,74,51,27,34,47,38,32,86,19,30,41,43,37,24,10,57,78,63,64,34,29,60,43,85,24,20,27,62,96,15,39,48,52,71,56,14,10,54,18,36,26,24,47,29,49,66,50,64,66,29,33,47,53,49,57,85,28,53,59,40,77,63,56,58,53,55,56,36,45,27,63,39,56,71,54,38,44,80,67,27,51,65,84,66,80,80,39,36,93,50,61,44,37,20,20,60,35,27,79,33,24,56,32,52,62,51,64,12,54,68,55,28,33,41,31,26,43,46,36,70,56,24,41,28,50,19,56,46,56,47,77,42,24,49,41,43,46,46,31,42,33,34,52,26,10,25,24,45,48,49,30,23,33,58,50,56,30,29,43,23,39,24,36,71,70,25,23,32,6,70,64,55,50,58,51,47,33,25,39,53,72,34,42,56,40,54,3,39,28,38,55,39,30,59,12,39,72,49,8,57,39,62,58,57,35,43,43,26,49,78,32,43,26,37,53,32,2,33,38,47,62,42,42,62,74,34,60,48,48,55,29,60,29,65,73,65,55,53,52,38,62,13,22,27,60,25,81,66,39,25,52,42,75,54,50,32,51,33,38,28,27,25,23,67,40,34,41,52,21,42,81,21,22,50,59,30,22,40,53,63,22,42,35,37,31,41,15,74,55,62,23,26,61,88,11,24,42,50,41,9,65,48,21,20,20,18,46,48,49,56,19,36,31,38,32,50,42,51,50,53,63,53,55,74,55,50,55,22,56,0,29,69,47,44,57,88,19,38,7,41,40,70,60,25,27,37,50,33,22,42,46,38,26,24,35,34,58,32,35,50,25,28,3,34,37,39,16,17,43,36,38,30,22,50,39,40,45,28,24,49,46,19,51,68,26,41,32,65,24,76,40,36,41,29,46,68,41,42,31,36,55,28,64,56,28,55,30,11,24,57,35,34,26,53,52,64,83,56,30,50,57,78,82,47,73,50,57,43,43,90,52,66,23,90,74,24,66,33,52,68,75,53,60,88,80,39,74,44,50,20,36,51,51,58,37,58,55,36,68,42,51,23,45,37,72,41,30,37,33,26,31,38,33,35,42,56,72,35,70,34,42,36,51,32,26,31,53,39,38,15,12,18,57,34,18,37,58,65,45,66,30,34,60,28,61,52,23,21,30,45,24,77,10,57,35,65,55,37,23,24,22,21,23,24,31,25,18,62,34,38,35,22,30,48,26,38,54,52,65,60,32,31,23,51,30,33,21,58,32,36,52,39,43,18,90,36,2,28,26,54,46,56,28,30,30,92,88,67,33,32,70,34,38,29,69,32,25,32,45,29,32,34,76,62,44,42,48,51,35,31,37,40,44,40,26,28,28,36,36,37,57,27,83,33,28,35,59,47,66,26,75,38,48,42,40,28,21,74,38,55,44,30,23,30,32,31,60,40,40,51,37,62,59,27,39,48,58,52,62,12,42,22,52,15,18,22,58,42,25,51,32,12,34,4,33,23,72,39,44,42,60,26,59,48,35,54,29,53,51,56,83,80,50,81,81,55,5,39,77,41,73,69,47,50,25,90,35,59,62,9,84,62,52,79,23,21,42,61,51,39,53,45,33,31,46,23,54,50,24,19,48,22,48,20,50,45,67,35,12,26,42,30,23,25,29,51,26,37,38,37,20,39,50,47,22,43,43,36,40,0,34,23,66,46,28,48,48,41,46,39,50,27,66,50,62,47,48,23,44,23,23,30,69,28,1,58,68,28,50,43,39,23,39,22,41,31,50,21,57,8,25,22,7,53,33,57,51,41,61,52,69,32,14,39,22,30,49,41,48,47,31,30,26,31,36,34,27,69,38,31,29,29,37,26,38,38,61,26,22,42,32,28,62,38,31,43,38,37,39,33,29,30,36,3,78,37,58,16,37,23,28,27,35,54,31,3,23,60,1,42,9,33,33,45,54,59,72,66,82,8,31,26,31,39,49,28,66,59,63,38,37,20,59,63,64,68,22,58,33,66,29,45,38,34,35,23,34,79,60,55,75,64,42,54,74,40,71,87,3,81,47,69,56,65,57,39,81,25,47,26,32,37,46,22,44,59,47,77,59,35,34,26,53,30,22,25,42,27,56,35,27,32,19,49,27,56,63,34,46,39,55,45,80,73,44,59,36,85,62,51,45,20,41,45,60,59,73,50,68,43,76,68,62,86,55,51,62,49,34,80,2,18,27,32,55,53,64,59,74,61,51,36,63,71,38,0,30,56,52,20,26,47,28,37,33,37,52,27,26,30,48,34,52,26,24,32,63,59,67,54,41,43,58,58,34,40,45,54,52,31,39,34,49,30,77,76,45,57,58,47,32,35,90,48,63,51,15,79,46,51,64,77,43,42,38,19,59,24,26,24,24,55,63,28,21,49,45,17,27,25,49,15,36,20,34,21,5,45,67,24,12,3,29,36,58,34,17,75,20,31,57,40,32,33,59,45,57,30,45,67,43,44,30,27,28,52,60,33,21,32,16,36,42,58,66,46,38,34,31,24,24,69,19,62,47,9,12,53,50,62,45,72,62,63,42,35,59,84,59,35,78,63,6,35,70,30,45,50,55,24,48,65,23,57,28,26,38,19,30,51,43,44,50,30,51,20,52,46,61,38,45,36,58,52,53,33,3,69,20,28,26,69,25,44,69,29,73,39,45,54,42,34,40,32,28,38,44,4,24,43,77,38,43,19,40,28,32,25,49,43,35,27,31,35,20,22,26,48,23,38,74,47,11,47,42,74,48,67,47,62,44,40,65,50,48,45,34,20,22,51,27,37,44,63,83,26,34,35,19,26,47,10,69,36,32,67,54,40,41,23,37,39,1,47,43,38,52,54,25,44,29,40,32,35,26,46,32,45,32,23,24,47,57,44,23,57,53,2,38,43,64,29,50,21,25,22,50,63,57,50,57,50,37,41,36,31,36,60,17,31,30,46,56,42,27,53,56,37,29,36,39,58,52,16,60,47,50,1,31,52,70,10,33,26,58,40,20,35,30,31,42,33,66,43,30,44,57,46,59,28,20,33,29,64,46,28,46,18,26,41,53,25,45,38,45,24,58,39,44,34,33,30,25,68,51,39,37,40,48,54,8,29,29,50,52,41,44,37,74,44,46,34,38,39,32,46,42,28,54,25,28,43,58,18,63,24,49,58,47,27,67,11,18,38,48,70,40,56,24,28,22,24,32,47,55,30,62,57,53,28,38,64,14,43,67,21,54,35,25,63,50,83,74,43,29,74,50,26,41,50,59,45,45,32,33,7,50,30,67,39,21,57,29,41,39,46,37,42,43,18,38,38,28,17,11,54,20,44,44,63,13,0,25,35,35,43,30,23,34,50,65,45,56,54,32,36,26,30,35,44,34,51,71,49,33,32,42,20,1,26,18,75,41,34,35,55,22,38,70,39,59,44,49,42,48,21,22,35,50,34,34,51,31,49,27,33,34,37,54,27,37,29,40,36,31,48,65,8,29,82,70,53,59,38,0,31,45,30,21,28,24,46,63,66,56,57,42,22,38,80,39,28,36,28,73,33,34,35,2,44,65,50,41,19,32,33,36,41,26,45,53,69,48,57,89,68,36,83,51,61,5,45,63,44,41,72,61,46,56,68,57,34,44,70,70,64,36,48,58,49,68,49,58,32,37,40,55,39,38,77,53,33,23,38,30,66,41,26,68,77,45,23,44,33,38,37,32,45,67,34,43,65,35,32,33,25,38,29,27,46,26,20,28,40,28,54,24,33,21,59,54,28,62,45,53,20,24,46,17,66,59,4,68,33,18,28,2,19,24,31,57,78,38,13,60,25,58,74,35,46,43,38,27,43,46,50,13,45,34,41,53,45,25,42,45,20,34,0,54,25,42,60,40,43,58,39,57,47,41,57,4,45,42,17,0,43,74,26,44,32,46,60,33,50,45,26,40,79,54,61,43,16,33,40,43,23,54,46,40,24,43,26,30,27,62,65,36,58,29,35,33,38,38,34,27,33,2,15,16,28,54,16,28,41,24,7,28,58,42,37,36,51,26,25,47,41,64,30,44,61,35,64,11,44,32,55,38,33,32,4,41,41,32,36,70,69,39,51,52,65,56,47,64,32,3,59,39,62,60,23,26,30,23,53,20,45,42,58,37,35,24,66,33,43,39,38,19,27,18,30,25,26,33,37,43,32,69,49,38,57,45,44,42,46,57,38,37,36,63,47,35,27,33,30,45,53,43,54,25,16,24,39,45,3,23,42,26,39,45,56,41,41,19,46,65,45,40,17,39,87,28,54,50,42,49,57,40,60,41,49,38,50,42,24,26,55,18,39,29,35,32,22,53,25,41,61,28,53,56,36,33,39,37,21,24,54,19,40,39,21,63,41,29,31,31,36,56,22,28,26,3,62,2,60,44,60,73,48,25,26,47,57,41,69,22,61,50,46,58,48,50,43,37,49,56,56,20,28,50,56,31,66,36,28,64,35,90,30,62,80,66,78,59,96,64,29,47,36,68,62,60,83,55,58,79,59,69,59,69,24,63,84,34,60,63,86,67,58,32,35,21,21,42,44,28,36,29,70,48,47,34,24,42,38,26,38,33,5,48,36,31,32,45,55,34,70,52,77,29,39,26,43,52,29,24,61,33,70,15,43,25,53,29,54,40,53,23,62,51,50,78,1,25,69,61,43,59,35,54,38,65,47,33,17,49,18,35,64,30,39,2,51,57,22,32,52,51,23,34,39,26,0,14,40,76,39,17,26,31,45,71,24,26,19,44,43,41,4,24,22,32,36,12,68,43,50,35,65,13,24,46,33,21,51,43,57,51,24,67,77,74,53,71,24,18,38,13,24,54,37,41,56,50,57,35,24,27,41,28,42,60,33,53,38,28,55,54,48,63,53,31,51,26,32,73,44,47,60,57,30,35,21,79,43,27,35,58,67,36,30,19,36,23,39,22,62,60,30,56,54,58,35,53,61,42,44,37,47,29,24,88,1,46,23,34,70,67],\"y0\":\" \",\"yaxis\":\"y\",\"type\":\"box\"}],                        {\"template\":{\"data\":{\"bar\":[{\"error_x\":{\"color\":\"#2a3f5f\"},\"error_y\":{\"color\":\"#2a3f5f\"},\"marker\":{\"line\":{\"color\":\"#E5ECF6\",\"width\":0.5},\"pattern\":{\"fillmode\":\"overlay\",\"size\":10,\"solidity\":0.2}},\"type\":\"bar\"}],\"barpolar\":[{\"marker\":{\"line\":{\"color\":\"#E5ECF6\",\"width\":0.5},\"pattern\":{\"fillmode\":\"overlay\",\"size\":10,\"solidity\":0.2}},\"type\":\"barpolar\"}],\"carpet\":[{\"aaxis\":{\"endlinecolor\":\"#2a3f5f\",\"gridcolor\":\"white\",\"linecolor\":\"white\",\"minorgridcolor\":\"white\",\"startlinecolor\":\"#2a3f5f\"},\"baxis\":{\"endlinecolor\":\"#2a3f5f\",\"gridcolor\":\"white\",\"linecolor\":\"white\",\"minorgridcolor\":\"white\",\"startlinecolor\":\"#2a3f5f\"},\"type\":\"carpet\"}],\"choropleth\":[{\"colorbar\":{\"outlinewidth\":0,\"ticks\":\"\"},\"type\":\"choropleth\"}],\"contour\":[{\"colorbar\":{\"outlinewidth\":0,\"ticks\":\"\"},\"colorscale\":[[0.0,\"#0d0887\"],[0.1111111111111111,\"#46039f\"],[0.2222222222222222,\"#7201a8\"],[0.3333333333333333,\"#9c179e\"],[0.4444444444444444,\"#bd3786\"],[0.5555555555555556,\"#d8576b\"],[0.6666666666666666,\"#ed7953\"],[0.7777777777777778,\"#fb9f3a\"],[0.8888888888888888,\"#fdca26\"],[1.0,\"#f0f921\"]],\"type\":\"contour\"}],\"contourcarpet\":[{\"colorbar\":{\"outlinewidth\":0,\"ticks\":\"\"},\"type\":\"contourcarpet\"}],\"heatmap\":[{\"colorbar\":{\"outlinewidth\":0,\"ticks\":\"\"},\"colorscale\":[[0.0,\"#0d0887\"],[0.1111111111111111,\"#46039f\"],[0.2222222222222222,\"#7201a8\"],[0.3333333333333333,\"#9c179e\"],[0.4444444444444444,\"#bd3786\"],[0.5555555555555556,\"#d8576b\"],[0.6666666666666666,\"#ed7953\"],[0.7777777777777778,\"#fb9f3a\"],[0.8888888888888888,\"#fdca26\"],[1.0,\"#f0f921\"]],\"type\":\"heatmap\"}],\"heatmapgl\":[{\"colorbar\":{\"outlinewidth\":0,\"ticks\":\"\"},\"colorscale\":[[0.0,\"#0d0887\"],[0.1111111111111111,\"#46039f\"],[0.2222222222222222,\"#7201a8\"],[0.3333333333333333,\"#9c179e\"],[0.4444444444444444,\"#bd3786\"],[0.5555555555555556,\"#d8576b\"],[0.6666666666666666,\"#ed7953\"],[0.7777777777777778,\"#fb9f3a\"],[0.8888888888888888,\"#fdca26\"],[1.0,\"#f0f921\"]],\"type\":\"heatmapgl\"}],\"histogram\":[{\"marker\":{\"pattern\":{\"fillmode\":\"overlay\",\"size\":10,\"solidity\":0.2}},\"type\":\"histogram\"}],\"histogram2d\":[{\"colorbar\":{\"outlinewidth\":0,\"ticks\":\"\"},\"colorscale\":[[0.0,\"#0d0887\"],[0.1111111111111111,\"#46039f\"],[0.2222222222222222,\"#7201a8\"],[0.3333333333333333,\"#9c179e\"],[0.4444444444444444,\"#bd3786\"],[0.5555555555555556,\"#d8576b\"],[0.6666666666666666,\"#ed7953\"],[0.7777777777777778,\"#fb9f3a\"],[0.8888888888888888,\"#fdca26\"],[1.0,\"#f0f921\"]],\"type\":\"histogram2d\"}],\"histogram2dcontour\":[{\"colorbar\":{\"outlinewidth\":0,\"ticks\":\"\"},\"colorscale\":[[0.0,\"#0d0887\"],[0.1111111111111111,\"#46039f\"],[0.2222222222222222,\"#7201a8\"],[0.3333333333333333,\"#9c179e\"],[0.4444444444444444,\"#bd3786\"],[0.5555555555555556,\"#d8576b\"],[0.6666666666666666,\"#ed7953\"],[0.7777777777777778,\"#fb9f3a\"],[0.8888888888888888,\"#fdca26\"],[1.0,\"#f0f921\"]],\"type\":\"histogram2dcontour\"}],\"mesh3d\":[{\"colorbar\":{\"outlinewidth\":0,\"ticks\":\"\"},\"type\":\"mesh3d\"}],\"parcoords\":[{\"line\":{\"colorbar\":{\"outlinewidth\":0,\"ticks\":\"\"}},\"type\":\"parcoords\"}],\"pie\":[{\"automargin\":true,\"type\":\"pie\"}],\"scatter\":[{\"marker\":{\"colorbar\":{\"outlinewidth\":0,\"ticks\":\"\"}},\"type\":\"scatter\"}],\"scatter3d\":[{\"line\":{\"colorbar\":{\"outlinewidth\":0,\"ticks\":\"\"}},\"marker\":{\"colorbar\":{\"outlinewidth\":0,\"ticks\":\"\"}},\"type\":\"scatter3d\"}],\"scattercarpet\":[{\"marker\":{\"colorbar\":{\"outlinewidth\":0,\"ticks\":\"\"}},\"type\":\"scattercarpet\"}],\"scattergeo\":[{\"marker\":{\"colorbar\":{\"outlinewidth\":0,\"ticks\":\"\"}},\"type\":\"scattergeo\"}],\"scattergl\":[{\"marker\":{\"colorbar\":{\"outlinewidth\":0,\"ticks\":\"\"}},\"type\":\"scattergl\"}],\"scattermapbox\":[{\"marker\":{\"colorbar\":{\"outlinewidth\":0,\"ticks\":\"\"}},\"type\":\"scattermapbox\"}],\"scatterpolar\":[{\"marker\":{\"colorbar\":{\"outlinewidth\":0,\"ticks\":\"\"}},\"type\":\"scatterpolar\"}],\"scatterpolargl\":[{\"marker\":{\"colorbar\":{\"outlinewidth\":0,\"ticks\":\"\"}},\"type\":\"scatterpolargl\"}],\"scatterternary\":[{\"marker\":{\"colorbar\":{\"outlinewidth\":0,\"ticks\":\"\"}},\"type\":\"scatterternary\"}],\"surface\":[{\"colorbar\":{\"outlinewidth\":0,\"ticks\":\"\"},\"colorscale\":[[0.0,\"#0d0887\"],[0.1111111111111111,\"#46039f\"],[0.2222222222222222,\"#7201a8\"],[0.3333333333333333,\"#9c179e\"],[0.4444444444444444,\"#bd3786\"],[0.5555555555555556,\"#d8576b\"],[0.6666666666666666,\"#ed7953\"],[0.7777777777777778,\"#fb9f3a\"],[0.8888888888888888,\"#fdca26\"],[1.0,\"#f0f921\"]],\"type\":\"surface\"}],\"table\":[{\"cells\":{\"fill\":{\"color\":\"#EBF0F8\"},\"line\":{\"color\":\"white\"}},\"header\":{\"fill\":{\"color\":\"#C8D4E3\"},\"line\":{\"color\":\"white\"}},\"type\":\"table\"}]},\"layout\":{\"annotationdefaults\":{\"arrowcolor\":\"#2a3f5f\",\"arrowhead\":0,\"arrowwidth\":1},\"autotypenumbers\":\"strict\",\"coloraxis\":{\"colorbar\":{\"outlinewidth\":0,\"ticks\":\"\"}},\"colorscale\":{\"diverging\":[[0,\"#8e0152\"],[0.1,\"#c51b7d\"],[0.2,\"#de77ae\"],[0.3,\"#f1b6da\"],[0.4,\"#fde0ef\"],[0.5,\"#f7f7f7\"],[0.6,\"#e6f5d0\"],[0.7,\"#b8e186\"],[0.8,\"#7fbc41\"],[0.9,\"#4d9221\"],[1,\"#276419\"]],\"sequential\":[[0.0,\"#0d0887\"],[0.1111111111111111,\"#46039f\"],[0.2222222222222222,\"#7201a8\"],[0.3333333333333333,\"#9c179e\"],[0.4444444444444444,\"#bd3786\"],[0.5555555555555556,\"#d8576b\"],[0.6666666666666666,\"#ed7953\"],[0.7777777777777778,\"#fb9f3a\"],[0.8888888888888888,\"#fdca26\"],[1.0,\"#f0f921\"]],\"sequentialminus\":[[0.0,\"#0d0887\"],[0.1111111111111111,\"#46039f\"],[0.2222222222222222,\"#7201a8\"],[0.3333333333333333,\"#9c179e\"],[0.4444444444444444,\"#bd3786\"],[0.5555555555555556,\"#d8576b\"],[0.6666666666666666,\"#ed7953\"],[0.7777777777777778,\"#fb9f3a\"],[0.8888888888888888,\"#fdca26\"],[1.0,\"#f0f921\"]]},\"colorway\":[\"#636efa\",\"#EF553B\",\"#00cc96\",\"#ab63fa\",\"#FFA15A\",\"#19d3f3\",\"#FF6692\",\"#B6E880\",\"#FF97FF\",\"#FECB52\"],\"font\":{\"color\":\"#2a3f5f\"},\"geo\":{\"bgcolor\":\"white\",\"lakecolor\":\"white\",\"landcolor\":\"#E5ECF6\",\"showlakes\":true,\"showland\":true,\"subunitcolor\":\"white\"},\"hoverlabel\":{\"align\":\"left\"},\"hovermode\":\"closest\",\"mapbox\":{\"style\":\"light\"},\"paper_bgcolor\":\"white\",\"plot_bgcolor\":\"#E5ECF6\",\"polar\":{\"angularaxis\":{\"gridcolor\":\"white\",\"linecolor\":\"white\",\"ticks\":\"\"},\"bgcolor\":\"#E5ECF6\",\"radialaxis\":{\"gridcolor\":\"white\",\"linecolor\":\"white\",\"ticks\":\"\"}},\"scene\":{\"xaxis\":{\"backgroundcolor\":\"#E5ECF6\",\"gridcolor\":\"white\",\"gridwidth\":2,\"linecolor\":\"white\",\"showbackground\":true,\"ticks\":\"\",\"zerolinecolor\":\"white\"},\"yaxis\":{\"backgroundcolor\":\"#E5ECF6\",\"gridcolor\":\"white\",\"gridwidth\":2,\"linecolor\":\"white\",\"showbackground\":true,\"ticks\":\"\",\"zerolinecolor\":\"white\"},\"zaxis\":{\"backgroundcolor\":\"#E5ECF6\",\"gridcolor\":\"white\",\"gridwidth\":2,\"linecolor\":\"white\",\"showbackground\":true,\"ticks\":\"\",\"zerolinecolor\":\"white\"}},\"shapedefaults\":{\"line\":{\"color\":\"#2a3f5f\"}},\"ternary\":{\"aaxis\":{\"gridcolor\":\"white\",\"linecolor\":\"white\",\"ticks\":\"\"},\"baxis\":{\"gridcolor\":\"white\",\"linecolor\":\"white\",\"ticks\":\"\"},\"bgcolor\":\"#E5ECF6\",\"caxis\":{\"gridcolor\":\"white\",\"linecolor\":\"white\",\"ticks\":\"\"}},\"title\":{\"x\":0.05},\"xaxis\":{\"automargin\":true,\"gridcolor\":\"white\",\"linecolor\":\"white\",\"ticks\":\"\",\"title\":{\"standoff\":15},\"zerolinecolor\":\"white\",\"zerolinewidth\":2},\"yaxis\":{\"automargin\":true,\"gridcolor\":\"white\",\"linecolor\":\"white\",\"ticks\":\"\",\"title\":{\"standoff\":15},\"zerolinecolor\":\"white\",\"zerolinewidth\":2}}},\"xaxis\":{\"anchor\":\"y\",\"domain\":[0.0,1.0]},\"yaxis\":{\"anchor\":\"x\",\"domain\":[0.0,1.0],\"title\":{\"text\":\"IDADE\"}},\"legend\":{\"tracegroupgap\":0},\"margin\":{\"t\":60},\"boxmode\":\"group\"},                        {\"responsive\": true}                    ).then(function(){\n",
              "                            \n",
              "var gd = document.getElementById('24fa8d20-00a1-4aeb-a157-c395c82c5fd5');\n",
              "var x = new MutationObserver(function (mutations, observer) {{\n",
              "        var display = window.getComputedStyle(gd).display;\n",
              "        if (!display || display === 'none') {{\n",
              "            console.log([gd, 'removed!']);\n",
              "            Plotly.purge(gd);\n",
              "            observer.disconnect();\n",
              "        }}\n",
              "}});\n",
              "\n",
              "// Listen for the removal of the full notebook cells\n",
              "var notebookContainer = gd.closest('#notebook-container');\n",
              "if (notebookContainer) {{\n",
              "    x.observe(notebookContainer, {childList: true});\n",
              "}}\n",
              "\n",
              "// Listen for the clearing of the current output cell\n",
              "var outputEl = gd.closest('.output');\n",
              "if (outputEl) {{\n",
              "    x.observe(outputEl, {childList: true});\n",
              "}}\n",
              "\n",
              "                        })                };                            </script>        </div>\n",
              "</body>\n",
              "</html>"
            ]
          },
          "metadata": {}
        }
      ]
    },
    {
      "cell_type": "code",
      "source": [
        "df2.head()"
      ],
      "metadata": {
        "colab": {
          "base_uri": "https://localhost:8080/",
          "height": 0
        },
        "id": "vr1adk1NOmn8",
        "outputId": "c2c84e41-c01c-46c1-edad-58ba3d20aebe"
      },
      "execution_count": 287,
      "outputs": [
        {
          "output_type": "execute_result",
          "data": {
            "text/plain": [
              "   IDADE SEXO  INTERNADO  STATUS\n",
              "0     54    M          0       0\n",
              "1     15    M          0       0\n",
              "2     43    M          0       0\n",
              "3     25    F          0       0\n",
              "4     58    M          0       0"
            ],
            "text/html": [
              "\n",
              "  <div id=\"df-b79203f7-4799-4b5f-8a87-4aac9b1985a9\">\n",
              "    <div class=\"colab-df-container\">\n",
              "      <div>\n",
              "<style scoped>\n",
              "    .dataframe tbody tr th:only-of-type {\n",
              "        vertical-align: middle;\n",
              "    }\n",
              "\n",
              "    .dataframe tbody tr th {\n",
              "        vertical-align: top;\n",
              "    }\n",
              "\n",
              "    .dataframe thead th {\n",
              "        text-align: right;\n",
              "    }\n",
              "</style>\n",
              "<table border=\"1\" class=\"dataframe\">\n",
              "  <thead>\n",
              "    <tr style=\"text-align: right;\">\n",
              "      <th></th>\n",
              "      <th>IDADE</th>\n",
              "      <th>SEXO</th>\n",
              "      <th>INTERNADO</th>\n",
              "      <th>STATUS</th>\n",
              "    </tr>\n",
              "  </thead>\n",
              "  <tbody>\n",
              "    <tr>\n",
              "      <th>0</th>\n",
              "      <td>54</td>\n",
              "      <td>M</td>\n",
              "      <td>0</td>\n",
              "      <td>0</td>\n",
              "    </tr>\n",
              "    <tr>\n",
              "      <th>1</th>\n",
              "      <td>15</td>\n",
              "      <td>M</td>\n",
              "      <td>0</td>\n",
              "      <td>0</td>\n",
              "    </tr>\n",
              "    <tr>\n",
              "      <th>2</th>\n",
              "      <td>43</td>\n",
              "      <td>M</td>\n",
              "      <td>0</td>\n",
              "      <td>0</td>\n",
              "    </tr>\n",
              "    <tr>\n",
              "      <th>3</th>\n",
              "      <td>25</td>\n",
              "      <td>F</td>\n",
              "      <td>0</td>\n",
              "      <td>0</td>\n",
              "    </tr>\n",
              "    <tr>\n",
              "      <th>4</th>\n",
              "      <td>58</td>\n",
              "      <td>M</td>\n",
              "      <td>0</td>\n",
              "      <td>0</td>\n",
              "    </tr>\n",
              "  </tbody>\n",
              "</table>\n",
              "</div>\n",
              "      <button class=\"colab-df-convert\" onclick=\"convertToInteractive('df-b79203f7-4799-4b5f-8a87-4aac9b1985a9')\"\n",
              "              title=\"Convert this dataframe to an interactive table.\"\n",
              "              style=\"display:none;\">\n",
              "        \n",
              "  <svg xmlns=\"http://www.w3.org/2000/svg\" height=\"24px\"viewBox=\"0 0 24 24\"\n",
              "       width=\"24px\">\n",
              "    <path d=\"M0 0h24v24H0V0z\" fill=\"none\"/>\n",
              "    <path d=\"M18.56 5.44l.94 2.06.94-2.06 2.06-.94-2.06-.94-.94-2.06-.94 2.06-2.06.94zm-11 1L8.5 8.5l.94-2.06 2.06-.94-2.06-.94L8.5 2.5l-.94 2.06-2.06.94zm10 10l.94 2.06.94-2.06 2.06-.94-2.06-.94-.94-2.06-.94 2.06-2.06.94z\"/><path d=\"M17.41 7.96l-1.37-1.37c-.4-.4-.92-.59-1.43-.59-.52 0-1.04.2-1.43.59L10.3 9.45l-7.72 7.72c-.78.78-.78 2.05 0 2.83L4 21.41c.39.39.9.59 1.41.59.51 0 1.02-.2 1.41-.59l7.78-7.78 2.81-2.81c.8-.78.8-2.07 0-2.86zM5.41 20L4 18.59l7.72-7.72 1.47 1.35L5.41 20z\"/>\n",
              "  </svg>\n",
              "      </button>\n",
              "      \n",
              "  <style>\n",
              "    .colab-df-container {\n",
              "      display:flex;\n",
              "      flex-wrap:wrap;\n",
              "      gap: 12px;\n",
              "    }\n",
              "\n",
              "    .colab-df-convert {\n",
              "      background-color: #E8F0FE;\n",
              "      border: none;\n",
              "      border-radius: 50%;\n",
              "      cursor: pointer;\n",
              "      display: none;\n",
              "      fill: #1967D2;\n",
              "      height: 32px;\n",
              "      padding: 0 0 0 0;\n",
              "      width: 32px;\n",
              "    }\n",
              "\n",
              "    .colab-df-convert:hover {\n",
              "      background-color: #E2EBFA;\n",
              "      box-shadow: 0px 1px 2px rgba(60, 64, 67, 0.3), 0px 1px 3px 1px rgba(60, 64, 67, 0.15);\n",
              "      fill: #174EA6;\n",
              "    }\n",
              "\n",
              "    [theme=dark] .colab-df-convert {\n",
              "      background-color: #3B4455;\n",
              "      fill: #D2E3FC;\n",
              "    }\n",
              "\n",
              "    [theme=dark] .colab-df-convert:hover {\n",
              "      background-color: #434B5C;\n",
              "      box-shadow: 0px 1px 3px 1px rgba(0, 0, 0, 0.15);\n",
              "      filter: drop-shadow(0px 1px 2px rgba(0, 0, 0, 0.3));\n",
              "      fill: #FFFFFF;\n",
              "    }\n",
              "  </style>\n",
              "\n",
              "      <script>\n",
              "        const buttonEl =\n",
              "          document.querySelector('#df-b79203f7-4799-4b5f-8a87-4aac9b1985a9 button.colab-df-convert');\n",
              "        buttonEl.style.display =\n",
              "          google.colab.kernel.accessAllowed ? 'block' : 'none';\n",
              "\n",
              "        async function convertToInteractive(key) {\n",
              "          const element = document.querySelector('#df-b79203f7-4799-4b5f-8a87-4aac9b1985a9');\n",
              "          const dataTable =\n",
              "            await google.colab.kernel.invokeFunction('convertToInteractive',\n",
              "                                                     [key], {});\n",
              "          if (!dataTable) return;\n",
              "\n",
              "          const docLinkHtml = 'Like what you see? Visit the ' +\n",
              "            '<a target=\"_blank\" href=https://colab.research.google.com/notebooks/data_table.ipynb>data table notebook</a>'\n",
              "            + ' to learn more about interactive tables.';\n",
              "          element.innerHTML = '';\n",
              "          dataTable['output_type'] = 'display_data';\n",
              "          await google.colab.output.renderOutput(dataTable, element);\n",
              "          const docLink = document.createElement('div');\n",
              "          docLink.innerHTML = docLinkHtml;\n",
              "          element.appendChild(docLink);\n",
              "        }\n",
              "      </script>\n",
              "    </div>\n",
              "  </div>\n",
              "  "
            ]
          },
          "metadata": {},
          "execution_count": 287
        }
      ]
    },
    {
      "cell_type": "markdown",
      "source": [
        "# Transformar variaveis categoricas em numericas"
      ],
      "metadata": {
        "id": "pSrGKtBIPKw5"
      }
    },
    {
      "cell_type": "code",
      "source": [
        "df2['SEXO'].replace({'F': 0, 'M': 1}, inplace=True)"
      ],
      "metadata": {
        "id": "7UTysqUmO05k"
      },
      "execution_count": 288,
      "outputs": []
    },
    {
      "cell_type": "code",
      "source": [
        "df2.head()"
      ],
      "metadata": {
        "colab": {
          "base_uri": "https://localhost:8080/",
          "height": 0
        },
        "id": "SekJrRYmPNPU",
        "outputId": "07937143-8d9f-4e9d-cb8e-fa381635f212"
      },
      "execution_count": 289,
      "outputs": [
        {
          "output_type": "execute_result",
          "data": {
            "text/plain": [
              "   IDADE  SEXO  INTERNADO  STATUS\n",
              "0     54     1          0       0\n",
              "1     15     1          0       0\n",
              "2     43     1          0       0\n",
              "3     25     0          0       0\n",
              "4     58     1          0       0"
            ],
            "text/html": [
              "\n",
              "  <div id=\"df-b16c32ee-7c18-4822-91e8-d87134a4409e\">\n",
              "    <div class=\"colab-df-container\">\n",
              "      <div>\n",
              "<style scoped>\n",
              "    .dataframe tbody tr th:only-of-type {\n",
              "        vertical-align: middle;\n",
              "    }\n",
              "\n",
              "    .dataframe tbody tr th {\n",
              "        vertical-align: top;\n",
              "    }\n",
              "\n",
              "    .dataframe thead th {\n",
              "        text-align: right;\n",
              "    }\n",
              "</style>\n",
              "<table border=\"1\" class=\"dataframe\">\n",
              "  <thead>\n",
              "    <tr style=\"text-align: right;\">\n",
              "      <th></th>\n",
              "      <th>IDADE</th>\n",
              "      <th>SEXO</th>\n",
              "      <th>INTERNADO</th>\n",
              "      <th>STATUS</th>\n",
              "    </tr>\n",
              "  </thead>\n",
              "  <tbody>\n",
              "    <tr>\n",
              "      <th>0</th>\n",
              "      <td>54</td>\n",
              "      <td>1</td>\n",
              "      <td>0</td>\n",
              "      <td>0</td>\n",
              "    </tr>\n",
              "    <tr>\n",
              "      <th>1</th>\n",
              "      <td>15</td>\n",
              "      <td>1</td>\n",
              "      <td>0</td>\n",
              "      <td>0</td>\n",
              "    </tr>\n",
              "    <tr>\n",
              "      <th>2</th>\n",
              "      <td>43</td>\n",
              "      <td>1</td>\n",
              "      <td>0</td>\n",
              "      <td>0</td>\n",
              "    </tr>\n",
              "    <tr>\n",
              "      <th>3</th>\n",
              "      <td>25</td>\n",
              "      <td>0</td>\n",
              "      <td>0</td>\n",
              "      <td>0</td>\n",
              "    </tr>\n",
              "    <tr>\n",
              "      <th>4</th>\n",
              "      <td>58</td>\n",
              "      <td>1</td>\n",
              "      <td>0</td>\n",
              "      <td>0</td>\n",
              "    </tr>\n",
              "  </tbody>\n",
              "</table>\n",
              "</div>\n",
              "      <button class=\"colab-df-convert\" onclick=\"convertToInteractive('df-b16c32ee-7c18-4822-91e8-d87134a4409e')\"\n",
              "              title=\"Convert this dataframe to an interactive table.\"\n",
              "              style=\"display:none;\">\n",
              "        \n",
              "  <svg xmlns=\"http://www.w3.org/2000/svg\" height=\"24px\"viewBox=\"0 0 24 24\"\n",
              "       width=\"24px\">\n",
              "    <path d=\"M0 0h24v24H0V0z\" fill=\"none\"/>\n",
              "    <path d=\"M18.56 5.44l.94 2.06.94-2.06 2.06-.94-2.06-.94-.94-2.06-.94 2.06-2.06.94zm-11 1L8.5 8.5l.94-2.06 2.06-.94-2.06-.94L8.5 2.5l-.94 2.06-2.06.94zm10 10l.94 2.06.94-2.06 2.06-.94-2.06-.94-.94-2.06-.94 2.06-2.06.94z\"/><path d=\"M17.41 7.96l-1.37-1.37c-.4-.4-.92-.59-1.43-.59-.52 0-1.04.2-1.43.59L10.3 9.45l-7.72 7.72c-.78.78-.78 2.05 0 2.83L4 21.41c.39.39.9.59 1.41.59.51 0 1.02-.2 1.41-.59l7.78-7.78 2.81-2.81c.8-.78.8-2.07 0-2.86zM5.41 20L4 18.59l7.72-7.72 1.47 1.35L5.41 20z\"/>\n",
              "  </svg>\n",
              "      </button>\n",
              "      \n",
              "  <style>\n",
              "    .colab-df-container {\n",
              "      display:flex;\n",
              "      flex-wrap:wrap;\n",
              "      gap: 12px;\n",
              "    }\n",
              "\n",
              "    .colab-df-convert {\n",
              "      background-color: #E8F0FE;\n",
              "      border: none;\n",
              "      border-radius: 50%;\n",
              "      cursor: pointer;\n",
              "      display: none;\n",
              "      fill: #1967D2;\n",
              "      height: 32px;\n",
              "      padding: 0 0 0 0;\n",
              "      width: 32px;\n",
              "    }\n",
              "\n",
              "    .colab-df-convert:hover {\n",
              "      background-color: #E2EBFA;\n",
              "      box-shadow: 0px 1px 2px rgba(60, 64, 67, 0.3), 0px 1px 3px 1px rgba(60, 64, 67, 0.15);\n",
              "      fill: #174EA6;\n",
              "    }\n",
              "\n",
              "    [theme=dark] .colab-df-convert {\n",
              "      background-color: #3B4455;\n",
              "      fill: #D2E3FC;\n",
              "    }\n",
              "\n",
              "    [theme=dark] .colab-df-convert:hover {\n",
              "      background-color: #434B5C;\n",
              "      box-shadow: 0px 1px 3px 1px rgba(0, 0, 0, 0.15);\n",
              "      filter: drop-shadow(0px 1px 2px rgba(0, 0, 0, 0.3));\n",
              "      fill: #FFFFFF;\n",
              "    }\n",
              "  </style>\n",
              "\n",
              "      <script>\n",
              "        const buttonEl =\n",
              "          document.querySelector('#df-b16c32ee-7c18-4822-91e8-d87134a4409e button.colab-df-convert');\n",
              "        buttonEl.style.display =\n",
              "          google.colab.kernel.accessAllowed ? 'block' : 'none';\n",
              "\n",
              "        async function convertToInteractive(key) {\n",
              "          const element = document.querySelector('#df-b16c32ee-7c18-4822-91e8-d87134a4409e');\n",
              "          const dataTable =\n",
              "            await google.colab.kernel.invokeFunction('convertToInteractive',\n",
              "                                                     [key], {});\n",
              "          if (!dataTable) return;\n",
              "\n",
              "          const docLinkHtml = 'Like what you see? Visit the ' +\n",
              "            '<a target=\"_blank\" href=https://colab.research.google.com/notebooks/data_table.ipynb>data table notebook</a>'\n",
              "            + ' to learn more about interactive tables.';\n",
              "          element.innerHTML = '';\n",
              "          dataTable['output_type'] = 'display_data';\n",
              "          await google.colab.output.renderOutput(dataTable, element);\n",
              "          const docLink = document.createElement('div');\n",
              "          docLink.innerHTML = docLinkHtml;\n",
              "          element.appendChild(docLink);\n",
              "        }\n",
              "      </script>\n",
              "    </div>\n",
              "  </div>\n",
              "  "
            ]
          },
          "metadata": {},
          "execution_count": 289
        }
      ]
    },
    {
      "cell_type": "markdown",
      "source": [
        "# Escalonamento"
      ],
      "metadata": {
        "id": "sIJ0pt2WPFb9"
      }
    },
    {
      "cell_type": "code",
      "source": [
        "from sklearn.preprocessing import StandardScaler"
      ],
      "metadata": {
        "id": "iWJZQeKIOuxX"
      },
      "execution_count": 290,
      "outputs": []
    },
    {
      "cell_type": "code",
      "source": [
        "escala = StandardScaler()\n",
        "df2_esc = escala.fit_transform(df2)"
      ],
      "metadata": {
        "id": "GElBsouLO5lO"
      },
      "execution_count": 291,
      "outputs": []
    },
    {
      "cell_type": "code",
      "source": [
        "df2_esc"
      ],
      "metadata": {
        "colab": {
          "base_uri": "https://localhost:8080/"
        },
        "id": "ruKCjlcUO7IX",
        "outputId": "cc7cc358-65f4-468a-fb39-0c55fe03a61a"
      },
      "execution_count": 292,
      "outputs": [
        {
          "output_type": "execute_result",
          "data": {
            "text/plain": [
              "array([[ 0.58345885,  1.05128818, -0.53038764, -0.22356702],\n",
              "       [-1.62596867,  1.05128818, -0.53038764, -0.22356702],\n",
              "       [-0.03971301,  1.05128818, -0.53038764, -0.22356702],\n",
              "       ...,\n",
              "       [-0.5495809 , -0.95121396, -0.53038764, -0.22356702],\n",
              "       [ 1.48989065,  1.05128818, -0.53038764, -0.22356702],\n",
              "       [ 1.31993469,  1.05128818, -0.53038764, -0.22356702]])"
            ]
          },
          "metadata": {},
          "execution_count": 292
        }
      ]
    },
    {
      "cell_type": "markdown",
      "source": [
        "## **K MEANS COM PCA**"
      ],
      "metadata": {
        "id": "hp_b63s5GFWk"
      }
    },
    {
      "cell_type": "code",
      "source": [
        "df2_esc"
      ],
      "metadata": {
        "colab": {
          "base_uri": "https://localhost:8080/"
        },
        "id": "U-BtnL42GH_h",
        "outputId": "52b2bb0b-f617-438a-ccf5-6ff677c43699"
      },
      "execution_count": 293,
      "outputs": [
        {
          "output_type": "execute_result",
          "data": {
            "text/plain": [
              "array([[ 0.58345885,  1.05128818, -0.53038764, -0.22356702],\n",
              "       [-1.62596867,  1.05128818, -0.53038764, -0.22356702],\n",
              "       [-0.03971301,  1.05128818, -0.53038764, -0.22356702],\n",
              "       ...,\n",
              "       [-0.5495809 , -0.95121396, -0.53038764, -0.22356702],\n",
              "       [ 1.48989065,  1.05128818, -0.53038764, -0.22356702],\n",
              "       [ 1.31993469,  1.05128818, -0.53038764, -0.22356702]])"
            ]
          },
          "metadata": {},
          "execution_count": 293
        }
      ]
    },
    {
      "cell_type": "code",
      "source": [
        "df2_esc.shape"
      ],
      "metadata": {
        "colab": {
          "base_uri": "https://localhost:8080/"
        },
        "id": "GmPpFafAGMK4",
        "outputId": "0f29706f-7994-4051-91f2-3f7eb02d233d"
      },
      "execution_count": 294,
      "outputs": [
        {
          "output_type": "execute_result",
          "data": {
            "text/plain": [
              "(5903, 4)"
            ]
          },
          "metadata": {},
          "execution_count": 294
        }
      ]
    },
    {
      "cell_type": "markdown",
      "source": [
        "**Componentes Principais**"
      ],
      "metadata": {
        "id": "PEACTo3yGloc"
      }
    },
    {
      "cell_type": "code",
      "source": [
        "from sklearn.decomposition import PCA"
      ],
      "metadata": {
        "id": "_TQonMlOGmwk"
      },
      "execution_count": 295,
      "outputs": []
    },
    {
      "cell_type": "code",
      "source": [
        "pca = PCA(n_components = 2)"
      ],
      "metadata": {
        "id": "NKpqajpfGpxl"
      },
      "execution_count": 296,
      "outputs": []
    },
    {
      "cell_type": "code",
      "source": [
        "df2_pca = pca.fit_transform(df2_esc)"
      ],
      "metadata": {
        "id": "K-LkSaUkHgFf"
      },
      "execution_count": 297,
      "outputs": []
    },
    {
      "cell_type": "code",
      "source": [
        "df2_pca"
      ],
      "metadata": {
        "colab": {
          "base_uri": "https://localhost:8080/"
        },
        "id": "CipK8dMfHizY",
        "outputId": "043b0e76-dd41-4761-9c8e-11c60ff19e7d"
      },
      "execution_count": 298,
      "outputs": [
        {
          "output_type": "execute_result",
          "data": {
            "text/plain": [
              "array([[ 0.03064365, -0.94281916],\n",
              "       [-1.19271952, -1.3261931 ],\n",
              "       [-0.3144075 , -1.05095027],\n",
              "       ...,\n",
              "       [-0.88365326,  0.82343125],\n",
              "       [ 0.53253623, -0.78553755],\n",
              "       [ 0.43843137, -0.81502785]])"
            ]
          },
          "metadata": {},
          "execution_count": 298
        }
      ]
    },
    {
      "cell_type": "code",
      "source": [
        "# razão das variáveis explicativas\n",
        "pca.explained_variance_ratio_"
      ],
      "metadata": {
        "colab": {
          "base_uri": "https://localhost:8080/"
        },
        "id": "_MCU1lhoHl13",
        "outputId": "9ed96eb6-dc2c-465c-a0d7-bc916da83a32"
      },
      "execution_count": 299,
      "outputs": [
        {
          "output_type": "execute_result",
          "data": {
            "text/plain": [
              "array([0.44305785, 0.247892  ])"
            ]
          },
          "metadata": {},
          "execution_count": 299
        }
      ]
    },
    {
      "cell_type": "code",
      "source": [
        "# Soma das variáveis explicativas\n",
        "pca.explained_variance_ratio_.sum()"
      ],
      "metadata": {
        "colab": {
          "base_uri": "https://localhost:8080/"
        },
        "id": "2sF4Fr75Hm4y",
        "outputId": "98ed7a7f-cd19-462e-aa18-a339118c33d6"
      },
      "execution_count": 300,
      "outputs": [
        {
          "output_type": "execute_result",
          "data": {
            "text/plain": [
              "0.6909498554548059"
            ]
          },
          "metadata": {},
          "execution_count": 300
        }
      ]
    },
    {
      "cell_type": "markdown",
      "source": [
        "**Elbow Method**"
      ],
      "metadata": {
        "id": "8f9HnbJgHqXv"
      }
    },
    {
      "cell_type": "code",
      "source": [
        "from sklearn.cluster import KMeans\n",
        "wcss = []\n",
        "for i in range(1, 11):\n",
        "    kmeans = KMeans(n_clusters = i, init = 'k-means++', random_state = 5, max_iter = 300)\n",
        "    kmeans.fit(df2_pca)\n",
        "# Método inertia para gerar o wcss\n",
        "    wcss.append(kmeans.inertia_)"
      ],
      "metadata": {
        "id": "-ja2w2JUHq1v"
      },
      "execution_count": 301,
      "outputs": []
    },
    {
      "cell_type": "code",
      "source": [
        "import matplotlib.pyplot as plt\n",
        "import seaborn as sns"
      ],
      "metadata": {
        "id": "O7_JOIzWHwFa"
      },
      "execution_count": 302,
      "outputs": []
    },
    {
      "cell_type": "code",
      "source": [
        "plt.figure(figsize=(10,5))\n",
        "sns.lineplot(range(1, 11), wcss,marker='o',color='red')\n",
        "plt.title('The Elbow Method')\n",
        "plt.xlabel('Número de clusters')\n",
        "plt.ylabel('WCSS');"
      ],
      "metadata": {
        "colab": {
          "base_uri": "https://localhost:8080/",
          "height": 0
        },
        "id": "yY84CMbmHx1A",
        "outputId": "5a3db42e-41f6-4c8e-a491-03a9f5d18cea"
      },
      "execution_count": 303,
      "outputs": [
        {
          "output_type": "display_data",
          "data": {
            "text/plain": [
              "<Figure size 720x360 with 1 Axes>"
            ],
            "image/png": "[encoded data removed]"
          },
          "metadata": {
            "needs_background": "light"
          }
        }
      ]
    },
    {
      "cell_type": "markdown",
      "source": [
        "**Agrupamento**"
      ],
      "metadata": {
        "id": "TQ3KO_6FH3ng"
      }
    },
    {
      "cell_type": "code",
      "source": [
        "kmeans = KMeans(n_clusters = 4, init = 'k-means++', random_state = 5, max_iter = 300)"
      ],
      "metadata": {
        "id": "ol146KrMH5cQ"
      },
      "execution_count": 304,
      "outputs": []
    },
    {
      "cell_type": "code",
      "source": [
        "kmeans_fit = kmeans.fit(df2_pca)"
      ],
      "metadata": {
        "id": "pb4sTJeWH8xh"
      },
      "execution_count": 305,
      "outputs": []
    },
    {
      "cell_type": "code",
      "source": [
        "# Coordenadas dos Centróides\n",
        "centroides = kmeans_fit.cluster_centers_\n",
        "centroides"
      ],
      "metadata": {
        "colab": {
          "base_uri": "https://localhost:8080/"
        },
        "id": "eWpky-7SH-wz",
        "outputId": "382cfe69-b5d1-4c14-ff6f-3af1b6855f9f"
      },
      "execution_count": 306,
      "outputs": [
        {
          "output_type": "execute_result",
          "data": {
            "text/plain": [
              "array([[-0.67008533,  0.87767371],\n",
              "       [-0.42235344, -1.0974081 ],\n",
              "       [ 4.48355721,  0.44061976],\n",
              "       [ 1.43571453, -0.17523494]])"
            ]
          },
          "metadata": {},
          "execution_count": 306
        }
      ]
    },
    {
      "cell_type": "code",
      "source": [
        "# Classificação dos dados\n",
        "classificacao = kmeans_fit.labels_\n",
        "classificacao"
      ],
      "metadata": {
        "colab": {
          "base_uri": "https://localhost:8080/"
        },
        "id": "mqNyWNnXIArr",
        "outputId": "0df3c299-9c39-465e-c241-685dc84d9eba"
      },
      "execution_count": 307,
      "outputs": [
        {
          "output_type": "execute_result",
          "data": {
            "text/plain": [
              "array([1, 1, 1, ..., 0, 1, 1], dtype=int32)"
            ]
          },
          "metadata": {},
          "execution_count": 307
        }
      ]
    },
    {
      "cell_type": "code",
      "source": [
        "classificacao[2]"
      ],
      "metadata": {
        "colab": {
          "base_uri": "https://localhost:8080/"
        },
        "id": "yca5DWyJIBeM",
        "outputId": "3dc671e6-aedd-4b30-9336-93e97bdc58b1"
      },
      "execution_count": 308,
      "outputs": [
        {
          "output_type": "execute_result",
          "data": {
            "text/plain": [
              "1"
            ]
          },
          "metadata": {},
          "execution_count": 308
        }
      ]
    },
    {
      "cell_type": "code",
      "source": [
        "import plotly.express as px\n",
        "import plotly.graph_objects as go"
      ],
      "metadata": {
        "id": "-tQiJyhHIDmZ"
      },
      "execution_count": 309,
      "outputs": []
    },
    {
      "cell_type": "code",
      "source": [
        "graf1 = px.scatter(x = df2_pca[:,0], y = df2_pca[:,1], color=classificacao)\n",
        "graf2 = px.scatter(x = centroides[:,0], y = centroides[:,1], size = [15, 15, 15, 15])\n",
        "graf3 = go.Figure(data = graf1.data + graf2.data)\n",
        "graf3.update_layout(width=800,height=500,title_text='Agrupamento K-Means com PCA')\n",
        "graf3.update_xaxes(title = 'Componente 1')\n",
        "graf3.update_yaxes(title = 'Componente 2')\n",
        "graf3.show()"
      ],
      "metadata": {
        "colab": {
          "base_uri": "https://localhost:8080/",
          "height": 0
        },
        "id": "K1JQzXrgIF_i",
        "outputId": "8030dcc8-abbd-4d20-f6f2-1210bc33867d"
      },
      "execution_count": 310,
      "outputs": [
        {
          "output_type": "display_data",
          "data": {
            "text/html": [
              "<html>\n",
              "<head><meta charset=\"utf-8\" /></head>\n",
              "<body>\n",
              "    <div>            <script src=\"https://cdnjs.cloudflare.com/ajax/libs/mathjax/2.7.5/MathJax.js?config=TeX-AMS-MML_SVG\"></script><script type=\"text/javascript\">if (window.MathJax) {MathJax.Hub.Config({SVG: {font: \"STIX-Web\"}});}</script>                <script type=\"text/javascript\">window.PlotlyConfig = {MathJaxConfig: 'local'};</script>\n",
              "        <script src=\"https://cdn.plot.ly/plotly-2.8.3.min.js\"></script>                <div id=\"c192791c-88d1-42e2-9947-4b27b5c45010\" class=\"plotly-graph-div\" style=\"height:500px; width:800px;\"></div>            <script type=\"text/javascript\">                                    window.PLOTLYENV=window.PLOTLYENV || {};                                    if (document.getElementById(\"c192791c-88d1-42e2-9947-4b27b5c45010\")) {                    Plotly.newPlot(                        \"c192791c-88d1-42e2-9947-4b27b5c45010\",                        [{\"hovertemplate\":\"x=%{x}<br>y=%{y}<br>color=%{marker.color}<extra></extra>\",\"legendgroup\":\"\",\"marker\":{\"color\":[1,1,1,0,1,0,0,0,0,0,0,0,1,0,0,0,0,1,0,0,0,3,1,0,1,0,0,0,0,3,0,1,0,0,0,0,1,0,1,3,3,3,0,0,1,3,0,3,1,1,3,3,0,3,1,0,1,0,0,0,3,3,3,1,0,3,3,0,3,1,0,1,0,1,3,1,3,3,3,1,3,0,1,1,0,1,0,3,3,3,3,3,1,1,3,3,3,3,0,3,3,1,0,3,0,1,1,3,0,0,2,3,0,3,2,3,3,0,0,3,3,1,0,0,3,3,3,3,3,3,0,3,1,3,3,3,3,3,2,2,0,1,1,0,1,3,1,3,1,1,3,3,2,0,1,0,0,3,1,0,3,0,0,0,0,0,0,3,3,2,0,1,0,3,2,0,2,2,1,3,0,3,1,0,0,3,1,1,0,0,3,3,1,3,1,3,1,0,0,1,1,0,0,3,1,0,0,0,2,3,3,1,2,1,0,0,3,1,0,0,0,0,1,0,3,1,1,0,0,1,0,2,0,3,2,2,0,3,3,0,2,2,0,1,0,0,0,0,0,1,1,1,3,3,0,1,0,1,1,0,1,0,1,0,1,1,0,3,2,1,1,0,0,0,0,0,0,0,0,0,1,0,0,1,0,1,2,3,1,1,0,3,0,0,1,1,0,0,0,0,1,0,0,0,1,0,0,0,0,0,0,0,0,0,0,0,1,1,0,0,0,1,0,0,0,1,0,0,1,3,0,2,0,0,1,0,1,1,0,0,1,1,0,0,1,0,1,0,1,1,0,3,3,0,2,1,1,3,0,3,0,3,3,1,0,0,0,2,0,1,1,0,1,1,0,0,0,3,1,0,3,0,0,0,0,0,0,1,1,0,2,0,0,0,1,1,0,0,0,3,1,0,3,0,0,1,1,0,1,0,1,0,3,2,3,1,0,0,2,1,0,0,1,0,3,0,0,1,0,1,0,1,1,0,1,0,0,1,1,0,0,1,0,0,3,3,2,1,3,3,3,3,2,3,3,0,0,1,1,1,3,0,1,0,0,3,0,0,1,1,0,0,0,0,2,3,1,2,3,3,0,3,0,3,0,1,0,1,0,0,0,1,3,3,0,1,0,0,0,1,0,1,0,3,0,0,0,0,3,0,0,1,0,0,1,1,1,0,1,1,0,0,0,1,3,1,1,1,1,0,1,0,0,3,0,3,1,0,0,1,1,1,0,1,0,0,3,1,0,0,0,3,1,2,2,3,0,1,0,0,3,0,1,0,0,0,1,1,0,0,1,0,0,2,0,3,0,3,0,0,1,0,0,0,0,1,0,3,3,0,2,1,3,0,0,0,0,1,0,1,0,0,0,0,1,0,1,0,0,0,0,0,1,3,1,1,1,1,1,0,0,0,3,1,3,1,0,3,3,0,1,1,1,1,0,0,0,0,0,0,0,0,0,0,0,3,1,0,1,1,3,3,0,1,1,0,1,1,1,3,0,3,0,2,0,1,1,0,0,0,3,3,0,3,3,1,0,1,0,2,0,0,3,0,1,1,3,3,0,3,0,0,0,1,3,3,3,0,3,0,1,0,1,0,1,0,1,0,0,1,3,1,1,0,0,3,1,3,3,0,0,1,1,1,1,1,1,0,1,1,1,1,1,1,0,3,2,0,1,2,2,3,3,3,1,2,3,1,1,0,0,0,0,1,0,3,0,1,1,3,1,0,0,1,0,3,0,1,0,0,1,0,1,1,0,0,0,1,3,2,3,1,0,1,3,3,1,1,0,1,0,1,1,0,0,0,3,3,0,3,2,3,0,0,3,1,3,1,1,3,1,3,0,1,1,1,0,0,1,0,0,1,1,3,0,3,3,1,3,0,1,1,1,1,3,3,0,0,0,1,0,1,1,0,0,1,1,0,3,1,2,1,1,1,0,0,1,1,0,1,1,1,1,0,1,3,3,0,1,3,3,3,0,1,0,0,1,1,0,1,3,0,3,2,1,3,1,1,1,0,0,2,3,0,0,0,1,1,2,0,3,1,2,1,1,1,0,0,0,1,0,0,3,0,1,1,3,1,0,0,3,0,1,1,0,1,1,0,1,1,3,3,3,2,3,3,3,0,0,0,0,3,1,3,3,0,0,1,3,0,3,0,1,3,3,2,3,0,1,0,0,1,0,0,2,3,2,3,3,0,3,0,1,0,1,1,1,0,1,0,0,0,0,1,1,0,3,0,1,1,0,0,2,1,2,1,3,1,2,1,1,1,1,1,0,3,3,3,3,1,0,3,2,1,0,2,3,0,3,2,3,3,3,3,2,2,1,1,1,1,0,0,0,1,1,1,0,0,0,0,0,1,1,0,1,1,3,2,0,3,0,3,1,3,1,3,3,0,3,2,0,3,1,1,2,3,0,1,0,1,0,0,0,1,1,0,0,1,1,1,1,2,0,1,0,0,1,1,0,1,1,0,1,1,1,3,3,0,3,0,0,1,1,0,3,0,0,0,0,1,3,1,3,3,1,0,1,0,0,0,3,2,1,0,0,1,1,1,3,0,0,1,3,1,3,3,1,1,3,0,0,3,0,1,3,3,1,3,3,1,1,2,1,1,0,0,1,0,0,0,1,3,1,1,0,0,1,1,1,0,1,3,3,3,3,0,3,3,1,3,0,1,0,1,1,1,1,0,0,0,3,1,0,3,2,0,1,3,3,0,3,0,2,3,3,0,3,1,1,1,1,0,1,0,1,0,1,1,1,0,3,3,0,0,2,3,1,1,0,1,1,0,0,1,0,3,0,0,0,3,0,3,2,0,0,0,0,2,3,3,1,0,1,1,3,0,1,0,1,1,1,0,0,0,0,1,1,3,1,2,2,3,3,3,3,1,1,2,3,2,0,3,3,3,2,1,0,1,0,2,0,3,0,1,0,0,1,2,0,3,3,1,3,0,0,0,0,0,1,0,2,0,1,0,0,3,0,3,1,3,2,3,3,3,0,0,3,3,0,1,1,1,0,1,1,0,0,3,1,0,0,1,1,3,0,0,0,0,3,0,0,0,0,1,0,1,1,1,3,3,1,1,1,1,3,2,0,0,2,2,3,3,3,3,2,1,3,3,3,2,1,2,1,0,1,1,1,0,0,1,1,1,1,1,0,0,0,1,0,1,1,1,0,1,1,0,0,1,1,1,1,2,0,3,3,1,3,1,3,1,3,2,3,0,3,1,0,3,1,0,0,0,0,0,0,1,1,0,0,0,0,0,0,1,1,1,0,1,3,0,1,0,0,0,1,0,1,1,1,0,0,3,0,3,1,1,3,0,2,1,1,0,0,1,1,1,1,0,0,0,1,0,1,0,0,0,2,2,3,0,0,0,3,3,2,1,0,0,1,0,0,0,0,0,1,1,1,0,0,1,1,0,1,0,1,2,0,0,3,3,3,0,1,1,1,3,1,0,1,0,1,3,0,1,1,2,2,1,0,3,3,1,2,2,2,3,0,0,3,3,3,3,3,3,3,2,2,3,2,3,2,0,0,1,3,1,0,0,0,1,0,1,1,1,0,1,0,0,1,1,0,0,1,0,0,3,1,2,2,2,0,3,3,3,3,3,3,3,3,3,1,2,0,1,2,3,0,1,0,0,0,1,1,1,0,1,0,0,0,1,2,0,0,0,2,3,3,1,3,2,3,3,3,3,2,3,2,0,0,1,3,2,0,1,1,0,0,1,1,1,1,1,1,1,0,0,0,0,1,0,1,0,0,0,3,3,0,3,3,3,3,1,3,3,1,2,0,3,1,0,3,2,3,0,1,0,0,1,1,1,1,0,0,0,0,1,0,1,0,1,1,0,1,1,1,0,3,3,1,0,0,0,3,1,1,3,0,2,3,1,3,1,0,0,3,0,3,2,2,2,0,2,3,2,3,3,3,3,0,3,0,1,0,0,1,0,0,1,1,1,0,0,0,0,0,0,0,1,0,0,3,3,3,3,3,0,1,1,1,0,0,0,0,1,0,1,1,0,1,1,0,0,0,0,3,1,0,2,1,3,1,1,0,0,3,3,0,3,1,1,0,1,0,0,1,0,1,0,1,1,1,3,0,1,0,1,0,0,0,0,0,3,3,0,0,2,2,3,3,0,0,1,1,3,1,1,1,1,3,0,0,1,2,0,0,0,1,1,1,0,0,0,3,0,2,3,3,2,1,3,3,3,0,3,3,2,1,0,0,1,1,0,0,0,1,1,0,0,0,1,1,0,0,1,0,0,1,1,0,1,0,1,1,0,0,0,0,1,0,0,0,0,1,0,1,3,0,2,0,0,0,1,0,0,1,0,0,0,1,1,1,1,1,0,0,0,1,0,3,0,1,0,0,0,0,3,1,0,1,0,0,0,1,1,0,1,0,0,1,0,1,3,0,2,0,0,1,0,1,0,0,3,0,0,0,0,1,1,0,1,1,0,0,0,0,0,3,1,3,0,0,3,1,3,3,0,2,3,2,2,1,3,2,0,3,0,1,1,3,1,1,0,1,1,0,3,3,1,1,3,3,2,2,0,3,1,0,3,2,3,0,0,2,3,3,0,2,3,3,2,3,1,0,1,1,0,1,0,0,1,0,0,1,1,0,0,0,3,0,0,1,0,1,1,0,0,1,1,1,0,0,3,0,2,3,0,0,3,3,1,3,2,3,0,2,3,3,0,1,3,1,1,3,3,3,3,3,1,0,0,1,0,1,0,1,0,0,0,0,1,0,1,1,1,3,0,1,3,1,2,3,3,0,3,2,3,3,2,0,2,1,0,0,0,3,0,1,1,1,2,0,1,3,0,1,3,0,0,1,1,0,1,1,3,0,1,1,1,0,0,1,1,2,3,1,3,3,3,0,1,1,0,3,0,1,1,3,3,2,1,3,3,3,3,3,0,2,3,3,3,3,3,0,3,3,3,2,3,3,0,1,0,3,1,3,2,1,0,0,1,1,1,0,1,0,0,1,0,1,1,1,1,1,0,0,1,0,1,0,1,1,1,1,1,0,1,0,0,0,0,0,1,1,0,0,0,0,1,0,1,0,0,1,1,0,0,0,0,0,1,0,1,0,0,1,0,0,0,0,1,1,1,0,1,1,1,1,0,0,1,0,0,0,0,1,0,1,0,0,0,0,0,0,0,1,0,0,1,1,0,0,0,0,0,0,0,0,0,0,1,0,0,1,0,0,0,0,0,0,1,0,0,0,0,0,0,0,0,0,0,0,1,0,0,0,0,0,0,1,0,1,0,0,0,1,1,3,0,1,1,1,1,1,0,0,3,0,0,0,0,0,0,1,1,1,1,1,0,0,0,0,1,0,0,0,1,0,0,0,0,0,0,0,1,0,1,0,0,0,0,0,0,0,1,0,0,0,1,3,0,1,1,0,0,1,1,0,0,0,1,1,0,1,0,0,1,1,0,0,3,0,0,0,1,0,1,0,0,1,0,0,1,1,1,0,1,1,1,1,1,0,1,0,1,0,0,0,1,0,1,0,0,3,1,0,0,0,1,1,0,0,0,0,0,0,0,1,0,0,0,0,1,0,1,0,0,1,2,1,1,0,0,0,0,0,1,0,0,0,0,1,0,1,1,1,0,0,0,1,1,0,3,0,1,0,0,1,1,1,0,0,1,1,0,0,1,1,1,0,1,0,0,1,0,0,1,0,1,1,0,0,1,0,0,0,2,0,0,3,0,1,1,0,0,1,3,0,0,0,1,0,1,0,1,0,0,1,0,0,0,0,1,0,1,0,0,0,3,3,1,0,1,0,1,0,0,0,3,1,0,0,1,0,0,1,0,1,3,1,1,0,1,2,1,0,0,1,1,0,0,0,0,0,0,0,0,0,0,1,1,0,1,1,1,0,1,1,0,1,0,0,1,0,1,0,3,0,0,0,0,0,1,1,1,1,1,1,0,0,0,1,0,2,3,3,0,1,0,1,0,1,1,0,1,1,1,1,1,0,0,0,1,1,1,1,0,1,1,1,3,0,2,3,3,3,1,2,3,3,1,3,3,3,3,0,3,3,0,0,3,2,3,3,0,0,0,0,0,1,1,1,1,1,1,1,0,0,1,0,0,2,1,3,3,3,0,1,1,3,0,1,0,0,1,0,0,1,0,0,2,2,0,0,0,1,1,0,0,1,0,1,3,1,3,3,3,0,1,0,3,0,3,0,0,1,1,1,3,3,0,3,2,3,3,3,3,3,3,3,3,0,3,3,2,0,3,1,0,0,0,1,1,0,0,0,1,1,1,1,1,0,1,0,0,1,0,1,3,0,1,0,0,0,3,2,3,1,3,0,3,0,1,1,0,1,3,1,0,1,0,0,0,1,1,2,0,0,0,1,1,1,1,0,1,1,0,0,1,0,0,0,0,0,0,0,0,3,2,0,1,0,1,1,1,0,1,1,1,0,1,1,0,1,1,1,1,0,3,3,0,0,0,3,3,3,3,2,0,0,2,0,1,1,1,2,0,1,0,1,0,1,1,0,0,1,0,0,1,0,1,0,0,1,1,1,0,1,1,0,1,1,1,1,0,0,1,0,1,0,3,3,0,0,0,3,0,1,0,0,1,0,1,1,0,0,0,0,0,0,1,0,1,1,0,0,0,0,1,0,1,0,0,1,1,1,1,1,1,0,0,1,0,0,1,3,1,0,0,1,1,1,1,0,0,0,0,0,1,0,0,0,0,3,0,1,0,1,0,0,0,0,0,3,1,0,1,3,1,2,1,0,3,0,3,0,0,1,3,0,1,0,3,1,0,1,1,0,0,3,3,1,1,1,0,0,3,0,0,0,0,3,3,0,0,0,0,1,1,0,3,1,0,0,3,0,0,0,0,0,1,2,1,1,0,0,0,1,0,0,0,1,3,1,1,3,3,2,1,3,3,3,3,2,1,3,3,3,3,3,3,1,2,3,3,0,1,1,1,0,1,1,0,0,1,0,0,0,0,0,1,0,0,0,3,0,1,3,3,1,3,2,3,3,2,3,3,3,3,3,3,3,3,3,3,3,3,0,0,0,0,1,0,0,0,0,1,3,3,3,3,3,3,3,3,3,3,3,3,3,2,0,1,1,0,1,1,0,0,1,0,0,1,0,1,3,0,1,0,1,0,1,1,0,0,0,0,1,1,1,0,0,0,0,0,1,1,1,0,1,0,0,1,1,1,0,1,0,0,0,0,1,0,0,0,1,0,0,0,0,0,1,0,1,0,0,1,0,1,0,1,3,0,0,0,1,0,0,0,0,1,0,1,0,1,0,1,0,1,1,0,1,0,0,1,0,1,0,1,1,0,1,1,0,0,0,0,0,0,1,0,1,0,1,1,0,3,1,3,0,0,0,0,0,1,0,0,1,0,0,1,0,0,1,0,0,1,1,1,1,0,0,0,0,0,0,0,0,0,1,0,0,1,0,0,0,1,0,1,0,1,0,1,0,0,0,1,0,0,0,0,0,0,0,1,0,0,3,1,0,1,0,1,0,0,1,0,0,0,1,3,0,0,0,1,0,2,0,0,2,0,1,0,1,0,0,0,1,0,0,0,1,1,1,1,0,0,1,0,1,0,0,0,0,1,1,1,1,3,1,0,0,0,0,0,0,3,1,0,1,1,1,0,0,1,0,0,1,0,0,0,1,1,0,0,0,1,1,1,1,0,0,1,0,0,0,0,0,0,0,1,0,1,0,1,1,2,1,1,0,0,0,0,1,0,0,0,0,3,1,1,1,1,1,0,1,1,0,0,0,0,0,0,1,0,1,2,0,2,1,1,1,1,1,0,1,0,1,1,0,0,0,0,1,1,0,1,1,0,2,0,0,1,0,0,0,1,1,1,1,0,3,3,1,0,0,1,0,0,3,3,3,3,3,2,3,2,3,3,3,2,3,2,2,0,1,3,3,3,3,3,2,3,2,2,3,3,3,3,3,0,3,1,3,2,2,2,2,1,1,3,3,0,2,3,3,1,1,1,0,1,1,0,0,0,1,0,1,1,1,0,1,0,1,0,1,1,0,1,1,1,0,1,0,1,3,0,1,0,1,1,0,0,0,0,0,0,1,0,0,1,1,1,0,0,0,1,1,1,1,0,1,0,1,1,3,1,1,3,0,3,3,1,3,0,1,1,1,0,1,0,0,1,1,1,0,0,0,0,1,3,1,1,1,0,1,0,1,1,0,0,0,0,1,0,1,0,0,1,3,0,0,0,1,0,1,1,1,0,0,0,0,0,0,0,0,1,0,1,1,1,0,1,0,1,1,1,3,0,0,1,0,1,1,0,0,0,0,1,0,0,3,0,0,0,1,1,1,1,1,0,0,0,1,0,1,0,0,1,0,0,1,1,1,0,1,0,1,1,0,0,0,0,3,3,1,3,0,3,3,3,0,0,0,1,2,0,1,0,0,3,3,0,1,1,1,3,0,0,3,0,1,0,1,3,3,1,3,3,2,3,2,2,1,0,2,1,3,3,3,3,1,2,3,3,3,1,3,3,3,3,3,3,3,2,3,1,0,3,3,3,3,3,1,0,2,1,1,0,1,1,0,0,1,0,3,0,1,0,0,1,1,1,0,0,1,0,0,1,1,1,0,0,1,1,1,1,0,0,0,1,1,1,1,1,0,0,0,1,1,1,1,1,1,0,1,0,0,0,0,0,0,1,1,1,1,1,0,0,0,1,0,0,1,1,1,1,1,0,0,1,1,0,1,0,0,0,1,0,0,1,0,0,0,1,0,1,3,1,0,1,0,0,1,1,0,0,0,1,1,1,0,0,0,1,0,1,1,1,1,1,1,1,1,1,0,0,1,0,1,0,0,1,1,0,1,1,1,0,0,1,0,0,1,1,0,0,0,0,0,1,3,3,3,0,3,0,3,0,0,0,3,0,3,1,1,0,0,0,3,0,0,1,0,0,2,0,1,1,1,3,0,0,1,0,1,3,0,0,0,0,0,0,0,1,0,0,0,1,1,1,0,1,0,3,0,0,0,0,0,3,0,1,1,3,0,1,1,1,1,1,0,1,0,0,0,3,1,1,1,0,0,0,1,0,0,0,0,1,2,2,1,3,1,0,3,1,0,3,0,1,1,3,3,3,0,0,0,1,1,1,0,1,1,0,1,0,1,1,1,0,1,0,0,0,1,1,0,0,1,0,0,1,1,1,0,3,0,0,1,0,1,1,1,1,1,1,0,1,1,1,1,1,0,2,0,3,0,0,0,1,1,3,0,1,1,3,3,1,1,1,1,3,1,0,0,1,0,1,0,1,1,2,3,3,0,0,2,2,2,2,2,2,2,3,3,3,3,3,0,2,3,0,3,3,0,2,2,3,3,2,2,1,2,0,0,1,0,0,1,0,1,0,0,0,0,0,0,1,1,1,3,0,0,1,0,1,0,0,0,1,1,0,0,1,0,0,1,0,1,0,0,1,1,3,0,1,1,0,0,1,1,1,1,0,0,1,1,0,1,0,1,1,1,1,0,0,0,0,0,0,0,0,0,0,0,0,1,1,1,0,0,0,1,0,1,0,0,1,0,3,0,0,0,0,1,0,1,1,1,0,1,1,0,3,0,0,1,1,1,0,3,1,1,1,1,1,1,0,0,0,0,2,2,0,1,0,3,1,1,2,2,0,1,0,1,1,0,1,3,0,0,0,0,3,1,1,1,1,1,0,1,0,1,1,1,0,3,0,3,1,1,3,0,0,0,0,0,1,1,1,1,0,0,3,0,1,0,0,0,0,0,1,0,1,0,1,0,0,0,1,1,1,3,1,3,1,0,1,0,0,1,1,3,0,1,0,0,1,0,1,0,0,3,0,0,0,0,1,3,0,1,3,0,0,1,1,2,2,3,2,3,3,1,2,3,3,3,3,3,3,1,2,3,3,3,1,2,3,3,3,0,0,0,1,0,0,0,1,1,1,1,1,1,0,0,1,0,0,0,1,1,1,1,0,1,1,1,1,0,1,0,0,1,0,0,0,1,0,0,3,0,1,1,0,0,1,0,0,0,1,0,0,0,0,0,0,0,0,3,0,1,1,0,1,1,0,0,0,0,1,0,3,3,1,3,1,3,1,1,0,0,0,1,0,1,1,0,0,0,0,1,1,1,0,1,1,0,1,0,0,1,0,2,1,1,1,0,1,1,0,1,0,1,1,0,0,1,0,1,1,1,1,3,1,0,3,1,1,0,0,0,1,1,0,0,1,1,0,1,0,3,3,3,0,0,1,0,1,1,1,0,0,0,0,1,1,1,0,1,3,3,3,2,3,3,0,0,1,0,1,1,1,1,3,0,0,0,0,0,0,3,1,0,3,0,3,1,0,1,0,3,1,1,3,3,3,3,3,3,2,3,1,2,2,0,2,2,3,3,2,2,3,2,1,2,0,1,0,1,0,1,0,0,0,0,0,1,0,1,1,1,1,1,1,1,1,0,0,1,0,1,1,0,0,1,3,3,3,3,3,3,3,0,2,3,3,3,1,3,3,3,1,2,3,3,3,3,3,3,2,3,3,3,3,3,3,0,1,1,1,0,1,2,2,3,3,2,0,3,3,0,1,0,1,1,0,1,1,0,1,0,1,3,0,1,1,0,0,0,0,0,1,1,3,3,0,0,0,3,1,0,3,1,0,0,0,0,1,1,0,3,3,1,3,3,3,2,0,3,3,2,2,0,2,2,1,2,3,0,1,0,0,0,0,0,1,1,0,0,0,0,0,0,1,1,1,1,0,1,1,0,1,1,1,0,0,1,1,0,1,1,0,1,3,0,1,0,0,1,1,0,1,1,0,0,1,0,0,0,0,1,1,1,0,0,0,0,1,0,0,1,0,0,0,0,1,0,0,0,1,0,0,1,1,0,1,1,3,1,1,0,0,1,0,1,0,0,0,1,0,0,0,0,0,0,0,1,0,1,0,0,0,1,0,0,0,1,0,0,0,0,1,1,1,1,0,0,1,0,0,0,1,1,0,0,0,1,1,1,0,0,0,3,1,0,0,0,1,1,0,0,1,3,1,1,1,3,1,1,1,1,1,0,0,1,1,1,1,0,1,0,1,1,1,0,1,3,3,1,0,0,0,0,2,3,0,0,0,1,0,0,1,1,0,0,0,1,0,0,1,0,0,1,0,0,0,3,0,0,0,0,1,0,1,0,0,0,1,0,0,0,1,3,0,1,1,0,1,0,0,0,0,1,0,0,0,0,0,0,1,0,0,0,0,1,0,0,1,1,0,0,0,1,1,2,0,0,0,0,0,0,1,1,0,1,0,1,0,1,1,1,1,0,1,0,1,1,1,0,0,3,0,0,1,0,0,1,0,0,1,0,1,1,1,0,0,1,1,0,1,0,0,0,0,0,0,0,0,1,1,0,0,1,0,0,0,1,1,1,0,1,0,3,3,1,0,1,1,0,0,0,0,1,0,0,0,1,0,1,0,0,0,1,0,0,1,0,0,1,0,1,1,0,0,0,1,0,1,1,0,1,1,0,3,0,0,1,1,1,0,1,2,1,0,0,0,0,0,0,0,0,1,1,1,1,0,1,0,0,0,0,1,0,0,1,1,1,0,3,0,1,3,0,1,0,0,0,0,0,0,1,1,3,1,3,1,0,0,1,0,1,0,0,0,0,1,0,3,1,0,1,1,0,0,0,3,0,0,0,1,1,0,0,0,0,0,1,1,3,3,1,1,0,0,0,0,1,1,3,0,0,0,3,0,0,0,1,3,1,0,1,3,0,0,0,1,3,1,1,0,1,0,1,1,0,1,1,0,1,3,0,0,1,1,0,1,0,1,0,0,1,3,3,1,1,0,3,0,3,3,1,1,0,1,0,0,0,3,2,2,3,1,0,0,3,3,1,0,0,1,3,0,0,1,1,3,3,0,3,1,1,0,1,0,0,3,3,3,3,1,2,2,0,2,1,3,1,3,3,3,3,3,3,3,3,3,3,3,3,3,3,3,0,3,1,3,1,3,3,0,0,0,3,3,3,3,3,0,0,0,0,1,1,0,0,0,1,0,1,1,1,1,1,1,0,0,1,0,0,1,1,0,1,1,0,1,1,0,0,0,1,1,0,0,1,0,1,0,1,0,1,0,1,0,0,0,1,0,0,0,1,0,0,0,0,1,1,2,0,1,0,0,0,0,1,0,0,3,0,1,1,0,1,1,0,0,3,1,1,0,0,0,1,0,0,0,0,1,0,0,0,1,1,0,0,0,0,1,1,1,1,0,0,0,1,1,0,0,0,0,0,1,0,3,3,3,0,0,0,0,1,0,3,0,0,1,0,0,0,0,0,1,0,0,1,1,0,0,0,1,0,1,1,1,0,0,0,0,1,1,1,1,0,0,0,0,0,0,1,0,1,3,1,1,0,0,0,1,1,1,0,1,0,1,0,1,0,0,1,1,0,0,0,0,0,0,0,0,1,0,1,1,0,0,0,0,0,0,1,1,1,1,0,1,1,1,0,1,0,0,0,0,0,0,0,0,0,1,1,1,0,0,1,0,0,0,1,0,0,0,1,0,1,1,0,1,1,1,1,1,0,0,0,0,1,1,1,1,1,1,0,0,1,1,1,1,1,0,1,0,3,0,0,0,0,2,0,1,3,0,0,1,1,1,0,0,0,0,0,0,1,0,1,1,1,0,0,0,1,1,1,1,0,0,0,1,0,0,1,1,0,3,1,1,3,1,1,0,0,1,1,0,0,1,1,0,1,3,0,3,1,3,3,3,0,0,3,0,1,3,1,0,0,3,1,1,1,1,3,3,1,1,1,1,0,0,0,3,0,0,3,1,3,1,3,2,2,2,3,2,3,1,3,3,3,3,3,2,3,3,3,3,3,3,2,0,2,3,1,3,2,3,1,0,1,0,0,0,1,3,0,0,0,1,0,0,1,1,0,0,0,0,1,1,1,0,0,0,0,1,1,0,1,3,1,1,0,0,1,1,1,1,1,1,1,1,0,1,1,0,1,1,1,0,1,1,3,0,1,0,0,0,0,0,0,1,0,1,1,0,1,0,0,0,1,1,0,0,1,0,1,1,0,0,0,0,0,0,0,1,0,1,1,0,0,0,0,0,0,0,0,1,1,1,0,1,0,1,0,1,0,1,1,0,0,1,0,1,1,0,1,3,0,0,1,2,2,0,3,1,0,0,0,0,0,0,0,1,0,1,1,0,1,0,0,0,1,1,0,0,0,0,1,0,3,1,0,1,0,0,3,1,1,1,1,0,0,1,0,0,1,0,1,0,1,0,0,1,1,0,1,0,3,0,0,0,1,0,0,1,0,1,1,1,1,1,0,1,0,0,0,1,1],\"coloraxis\":\"coloraxis\",\"symbol\":\"circle\"},\"mode\":\"markers\",\"name\":\"\",\"showlegend\":false,\"x\":[0.030643646907928923,-1.1927195226857457,-0.31440750349029617,-1.1659678368694366,0.15611679250726687,-0.16218267207463552,-1.1032312640697617,-1.1345995504695991,-0.3190241040738232,-1.2600726960689494,-1.1345995504695991,-0.4444972496731732,-0.659458653888509,-0.8209166864712236,-0.5386021088726858,-1.1345995504695991,-0.4444972496731732,-0.0007246394919209758,-1.0091264048702488,-0.946389832070574,0.5906562015214651,1.3167274025902864,-0.03209292589175854,-0.5699703952725235,-0.533985508289159,-1.0718629776699238,-0.2876558176739856,-1.0091264048702488,-0.6640752544720361,2.0741828767699135,0.24560505112325243,-0.34577578989013363,-0.946389832070574,-0.7581801136715486,-0.03670952647528532,-0.8209166864712236,0.4697996565056421,-1.0718629776699238,0.18748507890710436,1.975461416986874,1.2539908297906113,1.6350268671721886,0.5011519561945105,-0.2562875312741481,-1.1299829498860725,1.0703977119751131,-1.2600726960689494,1.9487097311705637,0.030643646907916627,-1.349560954684935,1.4422005481896365,1.7291317263717008,-0.8836532592708988,0.7834825205040172,0.7253465615769,-0.35039239047366066,-0.7221952266881843,-0.5072338224728483,-0.7581801136715486,-1.0718629776699238,2.006829703386712,0.783466533793048,1.3840805759734882,-0.6908269402883465,-1.1032312640697617,1.0390294255752752,1.321344003173813,0.12013190552390213,1.478185435173001,0.0933802197075917,-0.22491924487431064,-0.7535635130880216,-1.0404946912700865,-0.5653537946889964,2.1996560223692643,0.15611679250726687,1.6350268671721886,0.720729960993373,1.7605000127715387,0.7253465615769,1.791868299171376,-1.0404946912700865,-0.43988064908964636,0.6939782751770625,-0.7895484000713862,-0.2516709306906212,-0.09944609927496034,1.9487097311705637,0.9449245663757629,2.136919449569589,1.6931468393883364,1.8186199849876863,0.3129582245064544,0.2502216517067794,1.4422005481896365,1.3480956889901239,0.9449245663757629,1.5363054073891484,-0.8209166864712236,1.478185435173001,1.4108322617897986,-0.659458653888509,-0.13081438567479792,0.9135562799759253,-0.5072338224728483,-0.5653537946889964,-0.09482949869143346,1.3527122895736508,-1.2287044096691118,-0.005341240075447863,4.328834926005177,1.5409220079726758,-0.6640752544720361,0.8462031065927231,3.8850623158239244,1.6304102665886617,0.783466533793048,0.4697836697946728,0.030627660196947324,1.1645025711746255,1.1598859705910984,-0.7535635130880216,-0.7581801136715486,0.026027046324389697,1.5676736937889864,1.5095537215728383,1.5095537215728383,2.1950394217857365,1.478185435173001,1.9173414447707258,0.40704709699499775,1.791868299171376,-0.659458653888509,2.2577759945854123,1.4154488623733257,1.321344003173813,1.1598859705910984,1.3794639753899611,3.351801447026687,5.332620090799977,-0.8836532592708988,-0.7849317994878593,-0.5026172218893213,-0.8522849728710612,0.7567148479767377,1.9440931305870368,0.030643646907916627,1.5722902943725134,-0.5967220810888341,-0.3771440762899712,1.7291317263717008,1.0703977119751131,5.363988377199816,-1.0404946912700865,-0.2516709306906212,-0.47586553607301096,-0.7581801136715486,1.6304102665886617,0.6939782751770625,-0.8209166864712236,1.854604871971051,-0.7895484000713862,-0.8522849728710612,-0.7895484000713862,-0.6327069680721986,-0.2562875312741481,-0.6640752544720361,2.1996560223692643,1.603658580772351,5.081673799601278,-0.5386021088726858,0.5685051295777123,0.4697836697946728,1.5409220079726758,4.956200654001927,-0.8522849728710612,4.673886076403388,4.171993494005989,-0.2516709306906212,1.478185435173001,-0.3190241040738232,1.0030445385919107,-0.12619778509127108,-1.2287044096691118,-1.0404946912700865,1.2586074303741381,-1.067246377086397,-0.7221952266881843,-0.946389832070574,-1.2600726960689494,1.8232365855712132,1.133134284774788,0.37569479730612954,1.0030445385919107,-0.533985508289159,2.508722285784112,-0.18893435789094618,-0.9150215456707362,-1.322809268868624,-0.5653537946889964,-0.5026172218893213,0.21883737859597235,-0.4131289632733358,1.980078017570401,0.2815899381066168,-0.47586553607301096,-0.3190241040738232,-0.22491924487431064,4.987568940401764,1.0076611391754378,1.4154488623733257,-0.5967220810888341,4.481059757420837,-0.7221952266881843,-0.9777581184704112,-1.0404946912700865,2.105551163169751,0.0933802197075917,-0.601338681672361,-0.6327069680721986,-0.35039239047366066,-1.0091264048702488,-0.18893435789094618,-0.9150215456707362,1.603658580772351,0.2815899381066168,-0.7221952266881843,-0.9777581184704112,-0.5699703952725235,-0.09482949869143346,-1.3855458416682995,4.32421832542165,-0.8209166864712236,0.657993388193698,4.92483236760209,4.888847480618725,-1.2287044096691118,1.4422005481896365,1.1017659983749504,0.4024464831224399,4.705254362803226,4.857479194218889,-0.7895484000713862,-0.9104049450872095,-0.16218267207463552,-1.197336123269274,-0.9150215456707362,-1.0091264048702488,-1.0404946912700865,-0.6908269402883465,-0.1843337440183885,-1.0358780906865597,1.8186199849876863,0.720729960993373,-1.1345995504695991,0.5639045157051545,-0.6954435408718735,0.5011679429054795,-0.8476683722875343,-0.946389832070574,-0.5967220810888341,-0.601338681672361,-0.47124893548948404,-0.35039239047366066,-0.8790366586873719,-0.8790366586873719,-0.2876558176739856,2.1636711353858997,5.07705719901775,0.2815899381066168,-1.3809292410847724,-0.9777581184704112,-0.9150215456707362,-1.1659678368694366,-0.7581801136715486,-0.09944609927496034,-0.601338681672361,-1.197336123269274,-0.8209166864712236,-0.2876558176739856,-0.8476683722875343,0.05739533272422714,-0.7895484000713862,0.12474850610742923,-0.5699703952725235,0.12474850610742923,4.799359222002739,1.7291317263717008,-0.12619778509127108,-0.15756607149110852,-0.4444972496731732,0.9762928527756004,-1.0404946912700865,0.5279196287217901,-0.659458653888509,-0.533985508289159,-1.416914128068137,-1.0091264048702488,-0.6327069680721986,0.5279196287217901,-0.28303921709045865,-0.6954435408718735,0.6847610607209776,0.21423676472341485,-0.533985508289159,-1.0091264048702488,-0.7581801136715486,-0.4131289632733358,0.5906562015214651,0.3710781967226025,-1.197336123269274,-0.6954435408718735,-0.8209166864712236,-0.9777581184704112,0.026027046324389697,0.4024464831224399,-0.533985508289159,-0.6908269402883465,-0.4131289632733358,-0.09944609927496034,-0.7895484000713862,-0.5967220810888341,-1.197336123269274,-1.2600726960689494,0.7161293471208154,-0.659458653888509,-0.5386021088726858,0.8416024927201655,0.6312417023773874,1.2272391439743007,0.4384153833948352,4.422939785204689,-0.5699703952725235,-1.1345995504695991,0.12474850610742923,0.21423676472341485,-0.659458653888509,0.12474850610742923,-1.0718629776699238,-0.3190241040738232,-0.7535635130880216,0.18748507890710436,-0.5699703952725235,-0.2562875312741481,-0.408512362689809,-0.5072338224728483,0.5325362293053171,0.40704709699499775,-0.8790366586873719,-0.5026172218893213,-0.7268118272717112,1.2226225433907736,1.195870857574463,-1.1345995504695991,5.113042086001115,-0.47124893548948404,0.062011933307754064,1.7245151257881746,-0.8522849728710612,1.2539908297906113,-0.6327069680721986,2.0428145903700763,2.038197989786549,-0.7849317994878593,-0.03670952647528532,-0.5386021088726858,-0.8836532592708988,4.673886076403388,-0.8209166864712236,-0.6908269402883465,0.030643646907916627,-0.8209166864712236,-0.15756607149110852,-0.22030264429078364,-0.7581801136715486,-0.4131289632733358,-0.946389832070574,1.0390294255752752,-0.18893435789094618,-0.2562875312741481,0.6893776613045046,-0.19355095847447312,-0.9150215456707362,-1.1659678368694366,-1.4482824144679745,-0.8209166864712236,-0.8522849728710612,-0.5653537946889964,0.18748507890710436,-0.09944609927496034,5.045688912617912,-0.47586553607301096,0.2502056649958101,-0.9777581184704112,-1.1927195226857472,-0.47124893548948404,-1.1032312640697617,-0.16218267207463552,-0.2876558176739856,1.478185435173001,-0.3144075034902962,-0.5386021088726858,1.3527122895736508,-0.7268118272717112,-1.5423872736674873,-0.941773231487047,0.40706308370596683,-0.6640752544720361,-0.408512362689809,0.15150019192373973,-0.12619778509127108,-1.416914128068137,1.0076611391754378,4.391571498804851,1.1017659983749504,-0.9104049450872095,-0.7895484000713862,-0.13081438567479792,4.92483236760209,-0.1215971712187132,-0.6640752544720361,-1.0091264048702488,-0.28303921709045865,-0.5386021088726858,1.1598859705910984,-0.6954435408718735,-0.8836532592708988,-0.2516709306906212,-0.8209166864712236,-0.28303921709045865,-0.9777581184704112,0.18748507890710436,-0.3771440762899712,0.05739533272422714,-0.34577578989013363,-1.1345995504695991,-0.9777581184704112,0.37569479730612954,0.0933802197075917,-0.2562875312741481,0.08876361912406475,-0.34577578989013363,-1.1032312640697617,-1.0404946912700865,1.0971493977914233,2.293760881568777,4.830727508402577,0.5011679429054795,1.1598859705910984,2.0114463039702386,0.9089396793923982,1.7291317263717008,4.987568940401764,0.7880831343765751,2.289144280985249,-1.2914409824687871,-0.47586553607301096,-0.47124893548948404,-0.8790366586873719,-0.8476683722875343,1.4154488623733257,-0.6954435408718735,-0.22030264429078364,-0.7581801136715486,-1.197336123269274,0.9089556661033674,0.4651830559221152,0.08876361912406475,-0.9731415178868846,-0.09482949869143346,0.026027046324389697,-1.2914409824687871,0.08876361912406475,-1.197336123269274,4.956200654001927,1.3840805759734882,-0.8163000858876965,4.637901189420025,0.8462031065927231,2.0428145903700763,-0.13081438567479792,2.5760754591673147,-0.6327069680721986,1.4468171487731634,-1.2287044096691118,-0.5026172218893213,-0.22491924487431064,-0.7221952266881843,-1.1032312640697617,-0.22491924487431064,-0.8209166864712236,-0.47124893548948404,2.572210887614274,0.8508197071762501,-0.5699703952725235,-0.5967220810888341,0.15150019192373973,-0.06807781287512292,-1.2600726960689494,-0.5653537946889964,-1.1659678368694366,-0.3771440762899712,-1.1659678368694366,2.293760881568777,-1.2287044096691118,-0.9777581184704112,-0.47586553607301096,-0.5699703952725235,2.289144280985249,-0.9777581184704112,0.15150019192373973,-0.22030264429078364,-0.5386021088726858,-1.0404946912700865,-0.3771440762899712,0.2815899381066168,-0.0007246394919209758,-0.4444972496731732,-0.533985508289159,0.4697996565056421,0.7161293471208154,-0.6327069680721986,-1.0091264048702488,-0.2516709306906212,1.1599019573020681,-0.12619778509127108,-0.533985508289159,-0.0007246394919209758,-0.941773231487047,-0.8209166864712236,-0.6908269402883465,-1.8560701376658624,-0.8836532592708988,1.5722902943725134,-0.2562875312741481,1.8859731583708887,-0.09482949869143346,-0.3190241040738232,-0.9777581184704112,-1.5691389594837977,0.3443265109062919,-1.5691389594837977,-0.4444972496731732,-1.0358780906865597,0.5638885289941856,0.34431052419532276,1.473568834589474,-0.34577578989013363,-1.1659678368694366,-0.5699703952725235,0.05739533272422714,1.3527122895736508,-0.8476683722875343,4.360203212405015,4.2974666396053385,1.7605000127715387,-0.9777581184704112,-0.43988064908964636,-0.7895484000713862,-0.6327069680721986,1.3527122895736508,-0.22491924487431064,-0.43988064908964636,-0.7268118272717112,0.026027046324389697,-0.47586553607301096,-0.5026172218893213,-0.34577578989013363,-0.6327069680721986,-0.601338681672361,0.4697996565056421,-0.03670952647528532,-1.0404946912700865,4.292850039021812,-0.5072338224728483,1.2272391439743007,-1.1032312640697617,0.9403079657922359,0.05739533272422714,-0.8836532592708988,-0.7221952266881843,-0.9777581184704112,-1.2287044096691118,-1.1032312640697617,-0.19355095847447312,-0.533985508289159,0.3397099103227649,1.7291317263717008,0.658009374904667,-0.19355095847447312,4.171993494005989,-1.2868243818852598,0.8775713929925606,-1.1032312640697617,-0.005341240075447863,-0.13081438567479792,-0.3190241040738232,0.062011933307754064,0.8416024927201655,-0.47124893548948404,0.05739533272422714,-1.1345995504695991,-0.9150215456707362,-0.9777581184704112,-0.8790366586873719,-0.19355095847447312,-0.941773231487047,-0.2876558176739856,-1.2600726960689494,-1.918806710465538,-0.22491924487431064,-1.0718629776699238,0.6626099887772249,1.065781111391586,0.18748507890710436,-0.5653537946889964,-0.34577578989013363,-0.09482949869143346,0.15611679250726687,-1.6678604192668374,-0.22491924487431064,-0.2876558176739856,2.387865740768289,-0.7221952266881843,1.128517684191261,-0.2157020304182259,-0.8836532592708988,2.1682877359694266,2.1996560223692643,-0.3190241040738232,-1.4436658138844476,-0.47124893548948404,-0.43988064908964636,-0.12619778509127108,-0.7895484000713862,-0.22491924487431064,-0.38176067687349813,-1.2600726960689494,-1.8560701376658624,-0.2562875312741481,0.15150019192373973,-0.22491924487431064,-1.197336123269274,-0.38176067687349813,-0.47586553607301096,0.7834825205040172,-0.06346121229159599,-0.6327069680721986,-0.941773231487047,0.18748507890710436,1.599041980188824,0.720729960993373,-0.9777581184704112,-0.47124893548948404,-1.6318755322834726,-0.9150215456707362,-0.7535635130880216,-0.3144075034902962,-0.2157020304182259,1.7605000127715387,-0.9150215456707362,2.356497454368452,-0.2516869174015905,4.140625207606151,-0.4131289632733358,-1.16135123628591,0.40706308370596683,0.12013190552390213,0.15150019192373973,-0.19355095847447312,1.4422005481896365,0.8508197071762501,-0.7581801136715486,2.1682877359694266,1.603658580772351,-0.408512362689809,-0.946389832070574,-0.47124893548948404,-0.7268118272717112,4.32421832542165,-0.9777581184704112,-0.9150215456707362,1.8186199849876863,0.5279196287217901,-0.15756607149110852,-0.28303921709045865,1.00306052530288,1.00306052530288,0.3710781967226025,1.5095537215728383,0.1247325193964598,-0.601338681672361,-0.35039239047366066,-0.5026172218893213,0.6266410885048296,1.4154488623733257,0.783466533793048,-1.0091264048702488,2.136919449569589,-0.19355095847447312,-1.0045098042867222,-0.7581801136715486,-0.941773231487047,0.34431052419532276,0.6939782751770625,0.8729707791200031,-0.941773231487047,-1.197336123269274,-0.6954435408718735,0.37569479730612954,0.7521142341041799,-0.2516709306906212,0.3129582245064544,-1.1032312640697617,-0.5699703952725235,1.1912542569909361,-0.47124893548948404,1.0076611391754378,0.9089396793923982,-0.8836532592708988,-0.2876558176739856,-0.06346121229159599,-0.7221952266881843,-0.8163000858876965,-0.43988064908964636,-0.3771440762899712,-0.533985508289159,0.12013190552390213,-0.3771440762899712,-0.5026172218893213,-0.03209292589175854,0.37569479730612954,-0.47124893548948404,-0.5026172218893213,0.5952568153940231,1.2539908297906113,4.857479194218889,-0.9777581184704112,0.062011933307754064,4.517044644404201,4.454308071604527,1.4154488623733257,1.9173414447707258,0.6266410885048296,-1.16135123628591,4.888847480618725,1.2586074303741381,-0.9731415178868846,-0.6908269402883465,-0.6954435408718735,-0.3190241040738232,-0.7268118272717112,-0.2876558176739856,-0.5026172218893213,0.12013190552390213,2.5760754591673147,-0.5699703952725235,-0.12619778509127108,-0.408512362689809,1.3167274025902864,-0.15756607149110852,-0.5386021088726858,-0.7268118272717112,-0.408512362689809,-0.601338681672361,1.0703977119751131,-0.8522849728710612,-0.659458653888509,-1.0404946912700865,-1.0091264048702488,0.2815899381066168,-1.1032312640697617,0.15611679250726687,0.2502216517067794,-1.0718629776699238,-0.19355095847447312,-0.8209166864712236,-0.18893435789094618,1.1598859705910984,4.046520348406638,1.1912542569909361,-0.34577578989013363,0.15150019192373973,-0.2516709306906212,1.5095537215728383,1.6663951535720258,0.6939782751770625,-0.533985508289159,-0.946389832070574,-0.3771440762899712,-0.7581801136715486,-0.47124893548948404,-0.8476683722875343,-0.6640752544720361,-0.8209166864712236,-1.2287044096691118,1.7291317263717008,0.9403079657922359,-1.1345995504695991,0.8194514207764126,4.92483236760209,1.3840805759734882,-1.197336123269274,-0.13081438567479792,1.9440931305870368,-0.2516709306906212,1.3527122895736508,-0.659458653888509,-0.47124893548948404,0.9449245663757629,-0.408512362689809,0.7207459477043421,-0.7581801136715486,0.2188533653069418,0.2502216517067794,0.2188533653069418,-0.4131289632733358,-0.8209166864712236,0.15611679250726687,0.21423676472341485,-0.7895484000713862,-0.47124893548948404,-1.0045098042867222,1.980078017570401,-0.8836532592708988,1.975461416986874,0.9716762521920734,-0.28303921709045865,0.783466533793048,-0.4444972496731732,-0.8790366586873719,-0.9104049450872095,-0.5026172218893213,-0.15756607149110852,1.5409220079726758,1.0030445385919107,-0.8209166864712236,-0.19355095847447312,-0.5386021088726858,0.15611679250726687,-1.0718629776699238,-0.03209292589175854,-0.34577578989013363,-0.9150215456707362,0.7474976335206529,0.5639045157051545,-0.6908269402883465,-1.7619652784663495,1.3480956889901239,0.28619055197917437,4.543796330220513,-0.533985508289159,-0.12619778509127108,-0.9104049450872095,-1.6678604192668374,-1.2287044096691118,-0.659458653888509,0.12474850610742923,-1.1659678368694366,-1.067246377086397,-0.5653537946889964,-0.15756607149110852,-0.9731415178868846,-1.5423872736674873,-0.15756607149110852,1.4422005481896365,1.2586074303741381,-1.7933335648661872,-0.7221952266881843,1.6663951535720258,1.2899757167739754,1.065781111391586,-1.2287044096691118,-1.3809292410847724,-1.3855458416682995,-0.8836532592708988,0.3443265109062919,-0.6908269402883465,-0.2562875312741481,-0.5026172218893213,1.0390294255752752,-0.19355095847447312,2.038197989786549,4.481059757420837,0.0933802197075917,1.4422005481896365,-1.0045098042867222,-0.7849317994878593,-0.9104049450872095,0.18286847832357747,-0.5699703952725235,4.454308071604527,1.7245151257881746,0.3397099103227649,-0.47586553607301096,-0.9777581184704112,-0.7535635130880216,-0.408512362689809,4.857479194218889,-0.6327069680721986,1.3480956889901239,-0.34577578989013363,3.916430602223762,-0.5967220810888341,-0.1843337440183885,0.40706308370596683,-1.197336123269274,0.21883737859597235,-0.4131289632733358,-0.533985508289159,-0.03670952647528532,-0.6954435408718735,1.2226225433907736,-1.6992287056666748,-0.7221952266881843,0.2815899381066168,2.0695662761863867,0.15611679250726687,-0.6327069680721986,-0.47586553607301096,1.7605000127715387,-0.2562875312741481,-0.3771440762899712,-0.22030264429078364,0.7161293471208154,-0.8476683722875343,-0.15756607149110852,-0.5072338224728483,-0.941773231487047,0.7253465615769,1.8859731583708887,2.325129167968614,1.034412824991748,4.830727508402577,1.2899757167739754,1.4468171487731634,1.3840805759734882,-0.38176067687349813,-1.5423872736674873,-1.7933335648661872,-1.0404946912700865,1.599041980188824,0.5057685567780372,1.8499882713875246,1.9487097311705637,-0.9150215456707362,0.43381476952227754,0.2815899381066168,1.5722902943725134,-0.7581801136715486,1.854604871971051,0.24560505112325243,-0.9731415178868846,1.4154488623733257,1.478185435173001,4.328834926005177,0.6266251017938606,-0.8522849728710612,-0.22030264429078364,0.21423676472341485,-0.6640752544720361,0.030643646907916627,-1.0091264048702488,-1.6678604192668374,4.767990935602901,1.7558834121880118,3.6654843110250614,1.4468171487731634,1.4468171487731634,-0.09944609927496034,1.5409220079726758,0.15610080579629723,-0.408512362689809,-1.5423872736674873,-0.47124893548948404,0.2815899381066168,-0.3144075034902962,0.5906562015214651,0.40706308370596683,0.026027046324389697,-0.4444972496731732,-1.197336123269274,-0.4444972496731732,-0.3771440762899712,-0.9731415178868846,-1.2600726960689494,1.2853591161904485,-0.7268118272717112,-0.18893435789094618,-0.9104049450872095,-1.0718629776699238,-1.1345995504695991,4.700637762219699,-0.5967220810888341,4.893464081202251,-0.7221952266881843,1.8859731583708887,0.2815899381066168,5.081673799601278,-1.0358780906865597,-0.941773231487047,0.030643646907916627,-1.067246377086397,-0.18893435789094618,-0.16218267207463552,1.5095537215728383,1.9173414447707258,1.0390294255752752,1.0030445385919107,-0.09482949869143346,0.5325202425943479,2.356497454368452,3.7596051569355438,-0.06346121229159599,-0.4444972496731732,4.230113466222138,1.321344003173813,0.40704709699499775,1.133134284774788,4.7947426214192115,1.0703977119751131,1.2272391439743007,1.4422005481896365,1.133134284774788,4.422939785204689,3.607364338808913,-0.43988064908964636,-0.7221952266881843,-0.28303921709045865,0.18748507890710436,0.08876361912406475,0.3710781967226025,-0.4444972496731732,-0.12619778509127108,0.12474850610742923,0.12474850610742923,-0.8209166864712236,-0.7581801136715486,-1.7933335648661872,-1.1032312640697617,-0.9150215456707362,0.030643646907916627,-1.0045098042867222,-1.0091264048702488,-0.43988064908964636,0.062011933307754064,1.3480956889901239,3.858310630007613,-0.946389832070574,1.4108322617897986,0.3129422377954852,1.5409220079726758,-0.8790366586873719,0.657993388193698,-0.12619778509127108,0.8194514207764126,0.9762928527756004,-0.8209166864712236,0.8508197071762501,4.328834926005177,-1.197336123269274,1.2899757167739754,-0.659458653888509,-0.12619778509127108,5.144410372400952,2.038197989786549,-1.1345995504695991,-0.941773231487047,-0.7581801136715486,-0.34577578989013363,-0.5699703952725235,-1.3855458416682995,-0.7268118272717112,-0.6280903674886715,0.2502216517067794,0.05739533272422714,-0.6640752544720361,-0.9104049450872095,-0.09482949869143346,0.5685051295777123,0.7567148479767377,4.987568940401764,-0.5386021088726858,0.37569479730612954,-0.2876558176739856,-0.8209166864712236,-0.5026172218893213,-0.09482949869143346,-0.38176067687349813,-0.47124893548948404,-0.22030264429078364,-0.13081438567479792,-0.3771440762899712,-0.8790366586873719,-0.408512362689809,0.8462031065927231,1.791868299171376,0.40704709699499775,0.6266410885048296,-1.322809268868624,-0.6640752544720361,-0.3771440762899712,-0.533985508289159,-1.0091264048702488,0.8775713929925606,-0.38176067687349813,-1.0091264048702488,-0.5699703952725235,-1.0718629776699238,-0.34577578989013363,1.603658580772351,-0.34577578989013363,0.9449245663757629,1.321344003173813,-0.6908269402883465,-0.06807781287512292,-0.22030264429078364,-0.47586553607301096,-1.0718629776699238,0.40704709699499775,0.9403079657922359,5.269883518000304,-1.349560954684935,-0.6327069680721986,0.27697333752308984,-0.7535635130880216,-0.47124893548948404,-0.06346121229159599,0.6893776613045046,0.24560505112325243,-0.2562875312741481,-0.659458653888509,1.3527122895736508,0.5685051295777123,0.657993388193698,1.5049371209893114,-0.22030264429078364,-0.43988064908964636,1.661778552988499,-0.9777581184704112,-0.22491924487431064,1.195870857574463,-0.9777581184704112,-0.533985508289159,1.9173414447707258,1.5676736937889864,0.15611679250726687,1.854604871971051,1.2899757167739754,-0.3771440762899712,-0.5653537946889964,5.332620090799977,-0.8476683722875343,-0.5967220810888341,-0.601338681672361,-0.4444972496731732,-0.6908269402883465,-0.47586553607301096,-1.0404946912700865,-0.7895484000713862,-0.3144075034902962,1.5095537215728383,-0.03209292589175854,0.12474850610742923,-0.6640752544720361,-0.5072338224728483,-0.15756607149110852,-1.067246377086397,-0.7849317994878593,-0.7895484000713862,-0.12619778509127108,1.791868299171376,1.4154488623733257,1.603658580772351,1.3480956889901239,-0.5699703952725235,1.8232365855712132,1.8499882713875246,0.5325362293053171,1.661778552988499,-0.15758205820207785,-1.0358780906865597,-0.9150215456707362,-0.9731415178868846,-0.6280903674886715,0.030643646907916627,-0.47124893548948404,-1.2600726960689494,-0.5699703952725235,-0.19355095847447312,1.8186199849876863,-0.5026172218893213,-0.9150215456707362,1.478185435173001,4.893464081202251,-0.38176067687349813,-1.6318755322834726,1.6304102665886617,0.9089396793923982,0.4965513423219525,1.128517684191261,0.4697836697946728,4.830727508402577,1.4422005481896365,1.1285336709022302,-0.7268118272717112,1.6931468393883364,-0.15756607149110852,0.4697996565056421,-1.067246377086397,-1.1299829498860725,-0.6327069680721986,-0.8163000858876965,-1.0091264048702488,-0.34577578989013363,-0.6954435408718735,-0.659458653888509,-0.5026172218893213,-0.9731415178868846,-1.0718629776699238,0.7521142341041799,1.5095537215728383,-0.9777581184704112,-0.03670952647528532,4.606532903020187,1.4108322617897986,-0.7221952266881843,0.18748507890710436,0.3710781967226025,-0.3771440762899712,-0.659458653888509,-0.7581801136715486,-0.6954435408718735,-0.43988064908964636,-1.2600726960689494,1.3480956889901239,-0.3190241040738232,-0.7268118272717112,-0.8836532592708988,1.2853591161904485,0.15610080579629723,1.791868299171376,4.230113466222138,-1.0718629776699238,-0.6327069680721986,-0.6640752544720361,0.4651830559221152,4.543796330220513,0.7880831343765751,0.6893776613045046,0.18748507890710436,-0.19355095847447312,-0.941773231487047,-0.5967220810888341,0.9089396793923982,-0.8209166864712236,-0.43988064908964636,-0.16218267207463552,-0.2516709306906212,0.2815899381066168,-0.43988064908964636,-0.601338681672361,-0.6327069680721986,-0.4131289632733358,-0.5072338224728483,-0.12619778509127108,0.4697996565056421,1.2899757167739754,-0.09482949869143346,4.799359222002739,3.8850623158239244,2.226407708185575,1.5722902943725134,1.2853591161904485,2.4506023135679644,0.18748507890710436,0.15611679250726687,4.422939785204689,2.293760881568777,4.579781217203876,0.5279196287217901,1.6977634399718637,2.325129167968614,1.661778552988499,4.32421832542165,-0.2516709306906212,-0.005341240075447863,-0.15756607149110852,-0.5699703952725235,4.512428043820674,-1.2914409824687871,1.0971493977914233,0.37567881059516023,-0.9731415178868846,-1.1345995504695991,-0.38176067687349813,0.18748507890710436,4.705254362803226,-1.0091264048702488,1.5095537215728383,2.1682877359694266,-0.6280903674886715,1.2539908297906113,-1.0404946912700865,-0.9150215456707362,0.21423676472341485,-0.7895484000713862,-0.946389832070574,-0.43988064908964636,-0.6640752544720361,4.700637762219699,-0.8209166864712236,0.15611679250726687,-1.416914128068137,-1.7933335648661872,1.6977634399718637,-0.7895484000713862,1.8186199849876863,-0.0007246394919209758,1.0076611391754378,4.292850039021812,1.2899757167739754,0.8775713929925606,2.038197989786549,0.2815739513956475,-0.4131289632733358,1.195870857574463,1.2586074303741381,-1.0718629776699238,-0.28303921709045865,-0.7221952266881843,-0.5967220810888341,-0.4444972496731732,0.062011933307754064,-0.3771440762899712,-0.13081438567479792,-1.1032312640697617,0.6266410885048296,-1.0358780906865597,-1.0404946912700865,-1.1032312640697617,-0.7221952266881843,-0.7849317994878593,0.7520982473932109,-0.2562875312741481,-0.8836532592708988,-1.2914409824687871,-0.946389832070574,1.128517684191261,-0.5699703952725235,0.5638885289941856,-0.5072338224728483,-1.0718629776699238,-0.941773231487047,-1.0091264048702488,-1.6005072458836354,-0.43988064908964636,-0.8163000858876965,1.478185435173001,1.6350268671721886,0.2188533653069418,-0.533985508289159,-0.659458653888509,-0.408512362689809,1.8859731583708887,4.418323184621162,-0.9150215456707362,0.5952568153940231,5.144410372400952,4.136008607022624,1.980078017570401,1.321344003173813,1.7605000127715387,1.9173414447707258,5.175778658800789,0.7567148479767377,1.980078017570401,2.3205125673850877,2.6074437455671515,4.987568940401764,0.6939782751770625,4.888847480618725,0.12474850610742923,-0.47586553607301096,-0.15756607149110852,-0.47124893548948404,0.2502216517067794,0.30834162392292747,-0.13081438567479792,-1.1299829498860725,0.0933802197075917,-0.408512362689809,-0.7849317994878593,-0.12619778509127108,-0.7581801136715486,-0.5386021088726858,-0.7895484000713862,-0.15756607149110852,0.4651830559221152,-0.5026172218893213,0.37569479730612954,-0.5026172218893213,0.026027046324389697,0.030643646907916627,-0.5967220810888341,0.27697333752308984,-1.1345995504695991,-0.7535635130880216,-0.7221952266881843,0.3129582245064544,-0.34577578989013363,4.266098353205502,-1.1032312640697617,1.3840805759734882,1.2539908297906113,-0.7849317994878593,0.6893616745935356,-0.2516709306906212,0.9716762521920734,-0.408512362689809,0.720729960993373,3.696852597424899,1.2226225433907736,-1.1032312640697617,1.7291317263717008,-0.15756607149110852,0.3397099103227649,0.9762928527756004,0.0933802197075917,-1.2600726960689494,-0.6327069680721986,-1.1032312640697617,-0.6640752544720361,0.24560505112325243,0.026027046324389697,-0.9104049450872095,-0.43988064908964636,0.12013190552390213,-0.7895484000713862,-0.7268118272717112,-0.2876558176739856,-0.6954435408718735,-0.8209166864712236,-0.9731415178868846,-0.0007246394919209758,-0.9104049450872095,-0.7581801136715486,-0.18893435789094618,1.0611804975190282,-0.4131289632733358,0.3443265109062919,-0.6640752544720361,-0.601338681672361,0.24560505112325243,-0.8790366586873719,-1.5737555600673248,0.43843137010580446,-0.533985508289159,-0.22030264429078364,-0.4131289632733358,-0.946389832070574,1.854604871971051,-0.5386021088726858,1.2226225433907736,0.18748507890710436,-0.09482949869143346,1.1645025711746255,-0.5386021088726858,4.920215767018563,-0.12619778509127108,0.43843137010580446,-0.9777581184704112,0.4024464831224399,0.12474850610742923,-0.3144075034902962,-0.34577578989013363,-0.5653537946889964,-1.2287044096691118,-0.5386021088726858,-0.5072338224728483,-0.34577578989013363,-1.2600726960689494,-0.6280903674886715,0.37567881059516023,-1.1032312640697617,0.4384153833948352,4.830727508402577,4.767990935602901,1.599041980188824,-1.3855458416682995,-0.7581801136715486,-0.06807781287512292,1.133134284774788,1.0076611391754378,4.732006048619537,-0.2516709306906212,-0.16218267207463552,-0.8836532592708988,-0.47124893548948404,-0.4131289632733358,-0.4131289632733358,-0.19355095847447312,-1.2914409824687871,0.5592879151216276,-0.03209292589175854,-0.7535635130880216,-0.3771440762899712,-0.35039239047366066,-0.6327069680721986,-1.3809292410847724,-0.34577578989013363,-0.38176067687349813,0.3129582245064544,-0.13081438567479792,-0.9104049450872095,5.081673799601278,-0.4444972496731732,-0.4444972496731732,0.783466533793048,1.0030445385919107,1.133134284774788,-1.322809268868624,-0.9731415178868846,-1.0358780906865597,-0.8476683722875343,1.1645025711746255,-0.5653537946889964,-0.16218267207463552,-0.47124893548948404,0.18286847832357747,-0.3771440762899712,1.5722902943725134,-0.7268118272717112,-0.5026172218893213,-0.7535635130880216,5.238515231600465,4.799359222002739,0.5998734159775497,-1.0404946912700865,1.8859731583708887,1.6663951535720258,-0.03209292589175854,4.046520348406638,4.517044644404201,4.230113466222138,2.136919449569589,0.030627660196947324,-0.6954435408718735,1.6350268671721886,1.4108322617897986,1.7558834121880118,1.6977634399718637,0.9716762521920734,1.2226225433907736,2.1636711353858997,4.956200654001927,4.920215767018563,0.9716762521920734,3.696852597424899,1.8499882713875246,4.485676358004364,-0.5699703952725235,-1.1032312640697617,-0.5653537946889964,0.9716762521920734,0.2188533653069418,-1.1032312640697617,-0.5072338224728483,-0.7895484000713862,-0.533985508289159,0.026027046324389697,-0.9104049450872095,-0.28303921709045865,0.4697996565056421,-0.5072338224728483,-0.09482949869143346,-0.946389832070574,-1.0091264048702488,-0.28303921709045865,-0.8163000858876965,-0.5386021088726858,-0.47586553607301096,-0.15756607149110852,-0.601338681672361,-0.2562875312741481,0.9762928527756004,-0.7221952266881843,5.144410372400952,4.736622649203063,4.136008607022624,-1.0404946912700865,0.9716922389030426,0.9135562799759253,1.8859731583708887,0.9403079657922359,1.128517684191261,1.2272391439743007,1.3794639753899611,1.3480956889901239,1.0030445385919107,-0.941773231487047,4.543796330220513,-0.7268118272717112,-0.9731415178868846,4.454308071604527,1.7291317263717008,-0.8522849728710612,-0.7849317994878593,-0.16218267207463552,-0.7581801136715486,-0.19355095847447312,-0.6908269402883465,0.3129582245064544,-0.5653537946889964,-0.7268118272717112,-0.15756607149110852,-0.601338681672361,-0.7895484000713862,-0.7895484000713862,0.15611679250726687,4.862095794802414,-0.13081438567479792,0.5011519561945105,-1.0091264048702488,4.888847480618725,1.2586074303741381,1.0076611391754378,-0.408512362689809,1.1598859705910984,4.642517790003552,1.661778552988499,1.599041980188824,1.8859731583708887,1.4154488623733257,4.449691471021,2.1996560223692643,4.705254362803226,-0.7895484000713862,0.05739533272422714,-1.5691389594837977,0.9089396793923982,4.5751646166203495,-0.6327069680721986,-0.12619778509127108,-0.659458653888509,0.026027046324389697,0.5906562015214651,-0.34577578989013363,-0.408512362689809,-0.2516709306906212,-1.0045098042867222,-0.47124893548948404,-0.8476683722875343,-0.12619778509127108,-0.5386021088726858,-0.38176067687349813,-0.601338681672361,-0.4131289632733358,-0.8163000858876965,-0.13081438567479792,0.2502216517067794,-0.5386021088726858,-1.0404946912700865,-1.0091264048702488,1.1912542569909361,1.1645025711746255,-0.9150215456707362,2.3205125673850877,1.3840805759734882,0.9449245663757629,0.8462190933036924,0.2188533653069418,1.661778552988499,1.0703977119751131,-0.7221952266881843,4.485676358004364,0.4384153833948352,1.321344003173813,-0.5653537946889964,-0.38176067687349813,1.6304102665886617,4.767990935602901,1.4108322617897986,-0.6954435408718735,0.0933802197075917,-0.601338681672361,0.18286847832357747,0.5325362293053171,-0.5653537946889964,-0.09482949869143346,-0.533985508289159,-1.2914409824687871,0.7161293471208154,-0.5699703952725235,-0.6327069680721986,-0.03209292589175854,-0.09944609927496034,-0.6280903674886715,0.12013190552390213,-0.6280903674886715,-1.0986146634862348,-0.2876558176739856,-0.5967220810888341,0.2815899381066168,-0.5967220810888341,-0.6327069680721986,0.9089396793923982,1.6977634399718637,-0.3771440762899712,-0.6327069680721986,-1.322809268868624,-1.0718629776699238,1.133134284774788,-0.533985508289159,-0.7221952266881843,1.980078017570401,-0.5386021088726858,4.203361780405825,0.783466533793048,-0.34577578989013363,1.1645025711746255,0.030643646907916627,-0.6640752544720361,-0.8209166864712236,1.8859731583708887,-0.38176067687349813,1.4468171487731634,4.418323184621162,4.763374335019373,4.136008607022624,-1.0091264048702488,5.113042086001115,1.0344288117027176,3.508642879025873,1.5409220079726758,1.661778552988499,1.5363054073891484,2.136919449569589,-0.3190241040738232,1.5722902943725134,-0.8522849728710612,-0.5653537946889964,-0.38176067687349813,-1.0404946912700865,-0.8476683722875343,-0.8209166864712236,0.18286847832357747,-0.47124893548948404,-0.9104049450872095,0.2502216517067794,-1.197336123269274,0.21423676472341485,-1.416914128068137,-0.3190241040738232,-0.09944609927496034,0.21423676472341485,-0.4131289632733358,-0.8163000858876965,-0.3190241040738232,-1.5110189872676492,1.2899757167739754,1.473568834589474,1.5409220079726758,0.9403079657922359,0.9403079657922359,-0.5072338224728483,-0.2516709306906212,0.7567148479767377,-0.15756607149110852,-0.601338681672361,-1.8874384240656998,-1.1032312640697617,-0.5386021088726858,-0.8163000858876965,-0.7268118272717112,0.38029541117868704,-1.067246377086397,-1.354177555268462,-0.09482949869143346,-0.3771440762899712,-0.38176067687349813,-1.5110189872676492,-0.8522849728710612,-0.946389832070574,1.478185435173001,-0.533985508289159,-0.4444972496731732,4.857479194218889,-0.34577578989013363,2.2623925951689388,-0.15756607149110852,-0.3771440762899712,0.18746909219613483,-0.601338681672361,1.4108322617897986,1.7605000127715387,-0.005341240075447863,1.4468171487731634,-0.28303921709045865,-0.7849317994878593,-0.8836532592708988,0.062011933307754064,-0.3190241040738232,-0.601338681672361,-0.15756607149110852,-1.8560701376658624,-0.5967220810888341,-0.7268118272717112,0.5325362293053171,-0.9731415178868846,0.12474850610742923,1.473568834589474,0.24560505112325243,-0.28303921709045865,-0.6954435408718735,-0.408512362689809,-0.16218267207463552,-0.8522849728710612,-1.0404946912700865,-1.8560701376658624,-0.2876558176739856,1.5676736937889864,2.1996560223692643,-1.2600726960689494,0.4651830559221152,4.266098353205502,4.171993494005989,1.1912542569909361,1.7291317263717008,0.40704709699499775,-0.946389832070574,0.062011933307754064,0.062011933307754064,1.791868299171376,-0.8163000858876965,-0.533985508289159,-0.2516709306906212,-0.43988064908964636,1.2226225433907736,-0.4444972496731732,-1.0091264048702488,-0.5967220810888341,4.987568940401764,-0.7581801136715486,-1.0404946912700865,-1.918806710465538,-0.18893435789094618,-0.5967220810888341,-0.12619778509127108,-0.6954435408718735,-1.0718629776699238,-0.6954435408718735,0.658009374904667,-0.8522849728710612,4.987568940401764,1.2853591161904485,0.9135562799759253,4.799359222002739,-0.8476683722875343,1.9173414447707258,1.6931468393883364,1.3527122895736508,0.5279196287217901,1.7291317263717008,2.1950394217857365,4.642517790003552,-1.4436658138844476,-0.2562875312741481,-0.8209166864712236,-0.2516709306906212,0.0933802197075917,-1.1345995504695991,-0.6954435408718735,-1.0718629776699238,-0.6280903674886715,-0.12619778509127108,-1.354177555268462,-1.0404946912700865,-1.0091264048702488,-0.3771440762899712,-0.18893435789094618,0.026027046324389697,-1.0718629776699238,0.12474850610742923,-0.06807781287512292,-1.322809268868624,-0.28303921709045865,-0.43988064908964636,-0.7581801136715486,-0.5653537946889964,-1.1345995504695991,-0.2516709306906212,-0.09482949869143346,-1.2914409824687871,-1.0404946912700865,-0.47586553607301096,-0.6327069680721986,-0.28303921709045865,-0.8209166864712236,-0.9150215456707362,-0.8836532592708988,-0.9777581184704112,-0.8163000858876965,-0.8522849728710612,-0.9731415178868846,0.6266410885048296,-0.601338681672361,3.6701009116085874,-0.5699703952725235,-0.5386021088726858,-1.1032312640697617,0.3443265109062919,-1.0718629776699238,-1.2287044096691118,-1.6318755322834726,-0.6640752544720361,0.18286847832357747,-0.601338681672361,-0.22030264429078364,-0.5653537946889964,-0.7849317994878593,-0.5653537946889964,-0.0007246394919209758,-0.6327069680721986,-0.9150215456707362,-0.6327069680721986,-1.53777067308396,-0.5072338224728483,1.1017659983749504,-0.7895484000713862,-1.0045098042867222,-0.13081438567479792,-0.5386021088726858,-0.7895484000713862,-0.7895484000713862,1.5049371209893114,0.15611679250726687,-0.601338681672361,0.062011933307754064,-1.2287044096691118,-0.8209166864712236,-0.5072338224728483,-1.0358780906865597,-0.8476683722875343,-0.946389832070574,-1.0986146634862348,0.15150019192373973,-1.1032312640697617,-0.34577578989013363,-0.06807781287512292,-0.34577578989013363,1.3527122895736508,0.5952568153940231,4.673886076403388,0.08876361912406475,-0.601338681672361,-0.8163000858876965,0.810234206320328,-1.3181926682850973,-0.9150215456707362,-0.9777581184704112,1.4422005481896365,-0.7895484000713862,-0.7895484000713862,-0.9777581184704112,0.5952568153940231,-0.47124893548948404,-0.3144075034902962,0.37567881059516023,-0.22030264429078364,0.2188533653069418,-0.06807781287512292,-0.16218267207463552,-0.4444972496731732,-0.8522849728710612,-0.35039239047366066,1.473568834589474,0.062011933307754064,0.657993388193698,0.18286847832357747,-1.0091264048702488,1.1017659983749504,-0.18893435789094618,1.473568834589474,1.1598859705910984,-0.38176067687349813,4.203361780405825,1.791868299171376,4.077888634806476,3.6387326252087506,-0.15756607149110852,1.6977634399718637,4.700637762219699,-0.5072338224728483,2.1682877359694266,-1.0718629776699238,0.15611679250726687,-0.47124893548948404,0.657993388193698,-0.3771440762899712,0.18748507890710436,-0.38176067687349813,-0.7849317994878593,-0.6280903674886715,-0.6640752544720361,1.034412824991748,1.7605000127715387,0.4697996565056421,0.40706308370596683,1.321344003173813,1.8813565577873614,4.046520348406638,4.606532903020187,-0.7268118272717112,2.410768841742529,0.6312417023773874,-1.416914128068137,1.133134284774788,4.987568940401764,1.133134284774788,-0.7581801136715486,0.4024464831224399,4.673886076403388,1.3840805759734882,1.321344003173813,-1.1032312640697617,4.920215767018563,1.473568834589474,2.0428145903700763,4.077888634806476,1.9440931305870368,-0.533985508289159,-1.0718629776699238,-0.6280903674886715,0.062011933307754064,0.08876361912406475,-0.06346121229159599,-0.2876558176739856,-1.322809268868624,-0.22030264429078364,-0.8836532592708988,-1.2914409824687871,-0.03209292589175854,-0.2516709306906212,-0.4444972496731732,-0.8209166864712236,-1.8874384240656998,0.9089556661033674,-1.1032312640697617,-0.6327069680721986,-0.408512362689809,-0.16218267207463552,-0.0007246394919209758,0.030643646907916627,-0.16218267207463552,0.43381476952227754,0.3129582245064544,-0.12619778509127108,-0.15756607149110852,-1.5110189872676492,-0.4444972496731732,1.8859731583708887,-0.8209166864712236,4.198745179822299,1.0971493977914233,-1.1345995504695991,-0.6954435408718735,1.0076611391754378,0.9135562799759253,0.5057685567780372,2.387865740768289,4.077888634806476,0.9089396793923982,-1.0404946912700865,4.799359222002739,0.9449245663757629,0.9089396793923982,0.2502056649958101,-0.3144075034902962,1.0030445385919107,0.7253465615769,-0.6280903674886715,2.0428145903700763,1.473568834589474,1.473568834589474,2.105551163169751,1.8186199849876863,-0.408512362689809,-0.9150215456707362,-0.6640752544720361,-0.2516709306906212,-0.8836532592708988,-1.067246377086397,-0.7581801136715486,-0.6908269402883465,-0.38176067687349813,-0.8209166864712236,-0.2562875312741481,-1.0718629776699238,-0.34577578989013363,-0.47586553607301096,0.5325362293053171,-0.8476683722875343,-1.2554560954854226,0.9403079657922359,-0.35039239047366066,0.062011933307754064,1.4108322617897986,-0.3144075034902962,4.642517790003552,1.4422005481896365,2.0428145903700763,0.21883737859597235,1.6350268671721886,4.700637762219699,1.9487097311705637,1.6931468393883364,5.018937226801603,-0.9150215456707362,4.642517790003552,-0.533985508289159,-0.9150215456707362,-0.4131289632733358,-1.197336123269274,0.9716762521920734,-0.946389832070574,-0.659458653888509,-1.5064023866841223,-1.0358780906865597,3.8850623158239244,0.5952568153940231,0.41166369757852467,1.0390294255752752,-0.9777581184704112,-0.43988064908964636,0.9089556661033674,-0.7268118272717112,-0.7268118272717112,-0.18893435789094618,-0.47124893548948404,-1.322809268868624,-0.8790366586873719,-0.659458653888509,1.3840805759734882,-0.6640752544720361,-0.408512362689809,-0.2516709306906212,-1.0358780906865597,-0.8522849728710612,-1.197336123269274,-0.8163000858876965,-0.2516709306906212,5.045688912617912,0.9449245663757629,-0.8163000858876965,0.8508197071762501,0.9449245663757629,1.2272391439743007,-0.5072338224728483,-0.659458653888509,-1.0358780906865597,-0.16218267207463552,0.5952728021049921,-0.38176067687349813,-0.7849317994878593,-0.6908269402883465,1.6977634399718637,1.7558834121880118,5.081673799601278,-0.5026172218893213,2.293760881568777,1.3480956889901239,1.5722902943725134,1.5676736937889864,1.7558834121880118,-1.197336123269274,4.077888634806476,0.8508197071762501,0.720729960993373,2.356497454368452,0.7520982473932109,1.133134284774788,0.37567881059516023,0.9449245663757629,2.293760881568777,1.2272391439743007,4.736622649203063,1.2226225433907736,1.3480956889901239,0.12013190552390213,0.5685051295777123,-0.09944609927496034,1.195870857574463,-0.7849317994878593,1.128517684191261,4.104640320622787,0.030643646907916627,-1.2600726960689494,-0.7581801136715486,-1.0045098042867222,-0.7535635130880216,-0.2516709306906212,-0.9777581184704112,-1.1927195226857472,-0.8522849728710612,-0.19355095847447312,0.15611679250726687,-0.09944609927496034,0.0933802197075917,-0.6908269402883465,-0.7221952266881843,-0.9104049450872095,-1.0045098042867222,-0.8522849728710612,-0.5072338224728483,-0.9104049450872095,-1.322809268868624,-1.6632438186833105,-0.8836532592708988,-1.4436658138844476,-0.941773231487047,0.062011933307754064,-0.43988064908964636,-0.34577578989013363,-0.38176067687349813,0.12474850610742923,-1.0091264048702488,-0.5072338224728483,0.08876361912406475,-0.601338681672361,-0.03670952647528532,-0.533985508289159,-0.408512362689809,-0.6954435408718735,-0.09944609927496034,-1.322809268868624,-1.1032312640697617,-0.47124893548948404,-0.5699703952725235,-0.7849317994878593,-0.7268118272717112,-0.7581801136715486,-0.6280903674886715,-0.7535635130880216,-0.6640752544720361,-0.13081438567479792,-1.2600726960689494,-0.3190241040738232,-1.1345995504695991,0.3443265109062919,-1.0091264048702488,-0.533985508289159,-0.03670952647528532,-0.7895484000713862,-0.8790366586873719,-0.5072338224728483,0.08876361912406475,-0.8836532592708988,-0.7268118272717112,-0.28303921709045865,-0.0007246394919209758,-1.4436658138844476,-0.8836532592708988,-0.7535635130880216,-0.18893435789094618,-0.22030264429078364,-0.3771440762899712,-0.601338681672361,-0.6954435408718735,-0.5026172218893213,-1.0404946912700865,-1.918806710465538,-0.7581801136715486,-1.1032312640697617,-0.12619778509127108,0.5279196287217901,-0.659458653888509,-1.0718629776699238,-0.19355095847447312,-1.5110189872676492,0.27697333752308984,-0.9150215456707362,-0.6640752544720361,-0.9150215456707362,-0.941773231487047,-0.5699703952725235,-0.47586553607301096,-0.408512362689809,-0.47124893548948404,-0.16218267207463552,-0.4444972496731732,-0.6954435408718735,-0.7895484000713862,-0.38176067687349813,-0.4444972496731732,-0.7581801136715486,-0.3190241040738232,0.08876361912406475,-1.1032312640697617,-0.47124893548948404,-0.9150215456707362,-0.8209166864712236,-0.2516709306906212,-0.16218267207463552,-0.4131289632733358,-0.8209166864712236,-0.2562875312741481,-0.2562875312741481,-1.1032312640697617,-0.3144075034902962,-0.5699703952725235,-0.7895484000713862,-1.0404946912700865,0.18286847832357747,-1.0091264048702488,-1.950174996865375,-0.7268118272717112,-0.7895484000713862,-0.8522849728710612,-0.7268118272717112,-0.8522849728710612,-0.8163000858876965,-0.6954435408718735,-0.06807781287512292,0.12013190552390213,-0.946389832070574,-0.47586553607301096,-0.7581801136715486,-0.5653537946889964,-0.7895484000713862,-0.533985508289159,-0.5072338224728483,-0.2876558176739856,-1.0404946912700865,-0.7849317994878593,-0.5967220810888341,0.8462190933036924,-0.03670952647528532,-0.34577578989013363,-1.6318755322834726,-0.15756607149110852,-0.941773231487047,-0.0007246394919209758,-1.1345995504695991,-1.2287044096691118,2.7558040054297726,-1.0718629776699238,-0.946389832070574,0.5279196287217901,-0.35039239047366066,-0.7268118272717112,-0.38176067687349813,-0.533985508289159,-0.5653537946889964,-0.47124893548948404,-1.067246377086397,-0.7221952266881843,-0.5072338224728483,-0.7895484000713862,-1.197336123269274,0.05739533272422714,0.062011933307754064,-1.2287044096691118,-0.6954435408718735,-0.38176067687349813,-0.18893435789094618,-0.946389832070574,-1.0404946912700865,-0.7895484000713862,-0.9777581184704112,0.05739533272422714,-0.2876558176739856,-1.8247018512660251,0.40706308370596683,-0.9777581184704112,-0.03209292589175854,-0.7581801136715486,0.3710781967226025,-1.8247018512660251,-1.918806710465538,-0.9777581184704112,-0.5386021088726858,-0.601338681672361,-1.0358780906865597,-0.47586553607301096,-0.6327069680721986,-0.6954435408718735,-0.8790366586873719,0.6266410885048296,-0.5072338224728483,-1.0045098042867222,-0.7221952266881843,-1.322809268868624,-0.4444972496731732,-0.5026172218893213,0.030643646907916627,-1.0718629776699238,-1.197336123269274,0.18286847832357747,0.2815899381066168,-0.03209292589175854,0.08876361912406475,-0.12619778509127108,-0.7268118272717112,-0.946389832070574,-0.8476683722875343,-0.533985508289159,-0.601338681672361,-1.1032312640697617,0.5952728021049921,-0.8209166864712236,-0.3190241040738232,-0.7581801136715486,0.2815899381066168,-0.7581801136715486,-0.7849317994878593,-0.4444972496731732,-1.1345995504695991,-0.408512362689809,-0.5386021088726858,-0.4444972496731732,0.12474850610742923,-0.47124893548948404,-0.941773231487047,-0.2562875312741481,-0.5653537946889964,-0.408512362689809,-0.22030264429078364,-0.659458653888509,-0.03209292589175854,-0.601338681672361,-0.659458653888509,-1.322809268868624,-0.06346121229159599,-0.9777581184704112,-1.322809268868624,0.5592879151216276,-0.7849317994878593,-0.7895484000713862,-0.8163000858876965,-0.35039239047366066,-1.4482824144679745,1.854604871971051,-1.0358780906865597,-0.8522849728710612,-1.2600726960689494,-0.9150215456707362,-0.12619778509127108,-0.34577578989013363,-0.7895484000713862,-0.3190241040738232,-0.16218267207463552,-1.1032312640697617,-0.601338681672361,-0.6640752544720361,-0.8209166864712236,-0.9104049450872095,-0.22491924487431064,-0.03670952647528532,-1.2287044096691118,-0.6640752544720361,-0.5967220810888341,-0.6954435408718735,-0.8163000858876965,-0.4131289632733358,-0.7268118272717112,-0.3144075034902962,4.2974666396053385,-0.7535635130880216,-0.7535635130880216,-1.197336123269274,-1.1659678368694366,-1.0718629776699238,-0.005341240075447863,-0.38176067687349813,-0.22030264429078364,-1.2287044096691118,-0.4131289632733358,-1.1659678368694366,-0.005341240075447863,-0.47124893548948404,-1.479650700867812,-0.408512362689809,-0.7221952266881843,-0.0007246394919209758,-1.354177555268462,-0.9777581184704112,-0.7581801136715486,0.2502216517067794,-0.3144075034902962,-0.8209166864712236,0.658009374904667,-0.35039239047366066,-0.2516709306906212,-0.8209166864712236,-0.7581801136715486,0.43843137010580446,-0.8790366586873719,-0.408512362689809,-0.8522849728710612,-1.197336123269274,-0.5026172218893213,-0.5967220810888341,-0.2876558176739856,-0.8836532592708988,-0.533985508289159,-0.7535635130880216,-0.9104049450872095,-0.5699703952725235,-0.659458653888509,-0.9777581184704112,-0.8836532592708988,0.030643646907916627,-0.9777581184704112,-0.2876558176739856,-0.6908269402883465,-0.8522849728710612,-0.8163000858876965,-0.5967220810888341,0.12013190552390213,-1.197336123269274,-0.34577578989013363,-1.197336123269274,-0.47586553607301096,0.18286847832357747,4.888847480618725,-1.0718629776699238,-1.0404946912700865,1.8499882713875246,-1.1659678368694366,-0.7221952266881843,-1.53777067308396,-1.0091264048702488,-0.16218267207463552,-1.16135123628591,0.658009374904667,-1.3855458416682995,-0.16218267207463552,-1.2287044096691118,-0.7221952266881843,-0.7268118272717112,-0.15756607149110852,-0.6954435408718735,-0.533985508289159,0.21423676472341485,-0.5699703952725235,-0.941773231487047,-0.601338681672361,0.21883737859597235,0.18286847832357747,-1.0718629776699238,-0.8476683722875343,-0.8836532592708988,-1.067246377086397,-0.7581801136715486,-0.8522849728710612,-0.5699703952725235,1.8499882713875246,1.7245151257881746,-0.9731415178868846,-1.3855458416682995,-0.8163000858876965,-0.601338681672361,-0.3144075034902962,-1.322809268868624,-1.1345995504695991,-1.1345995504695991,2.1996560223692643,-0.47124893548948404,-1.322809268868624,-0.47586553607301096,-1.0358780906865597,-1.0718629776699238,-0.19355095847447312,-0.47124893548948404,-0.8209166864712236,-0.2516709306906212,1.5095537215728383,-0.5653537946889964,-1.16135123628591,-0.5699703952725235,-0.43988064908964636,3.979167175023437,-0.43988064908964636,-1.197336123269274,-0.5072338224728483,-0.8476683722875343,-0.34577578989013363,-0.6327069680721986,-1.1659678368694366,-1.2914409824687871,-0.946389832070574,-0.8836532592708988,-1.3855458416682995,0.05739533272422714,-0.6327069680721986,-1.0091264048702488,-0.09944609927496034,0.3129582245064544,0.40706308370596683,-0.5386021088726858,-0.5653537946889964,-1.6632438186833105,0.5639045157051545,-1.197336123269274,-0.3144075034902962,0.37569479730612954,-0.6327069680721986,-0.8790366586873719,-0.9150215456707362,-0.06807781287512292,0.12474850610742923,-0.47586553607301096,-0.09482949869143346,0.5279196287217901,2.1009345625862244,-1.1659678368694366,-0.5699703952725235,-1.0404946912700865,-0.4444972496731732,-0.6954435408718735,-0.8790366586873719,-1.0045098042867222,-0.5026172218893213,-0.659458653888509,0.15611679250726687,-0.6908269402883465,-0.13081438567479792,-0.19355095847447312,-0.5699703952725235,-0.47124893548948404,0.15150019192373973,4.418323184621162,2.1682877359694266,2.0741828767699135,0.026027046324389697,-0.28303921709045865,-0.6954435408718735,-0.43988064908964636,-0.9150215456707362,-0.408512362689809,-0.7535635130880216,-0.6327069680721986,-0.3771440762899712,-0.8476683722875343,-0.2516709306906212,-1.3181926682850973,-0.5653537946889964,-0.7581801136715486,-0.6327069680721986,-0.6327069680721986,0.18748507890710436,-0.03209292589175854,-0.12619778509127108,0.18748507890710436,-0.5072338224728483,-1.0045098042867222,-0.18893435789094618,-1.6318755322834726,2.5447071727674775,-0.7268118272717112,4.893464081202251,1.9127248441871991,0.657993388193698,1.8813565577873614,-0.6908269402883465,4.512428043820674,1.3840805759734882,1.2899757167739754,-0.9104049450872095,2.383249140184762,1.1912542569909361,1.6663951535720258,1.975461416986874,0.40704709699499775,1.321344003173813,0.8462031065927231,-0.946389832070574,-0.19355095847447312,1.854604871971051,3.8269423436077763,0.9403079657922359,1.6350268671721886,-0.946389832070574,0.026027046324389697,0.08876361912406475,0.05739533272422714,-0.601338681672361,0.37569479730612954,-0.941773231487047,-0.5967220810888341,-0.659458653888509,0.5057685567780372,0.5011679429054795,-0.28303921709045865,-1.2287044096691118,0.12013190552390213,-1.6318755322834726,-0.9777581184704112,0.08876361912406475,4.485676358004364,-0.3771440762899712,1.3840805759734882,1.195870857574463,1.2899757167739754,-1.1032312640697617,-0.8476683722875343,0.062011933307754064,0.8148348201928857,-1.1659678368694366,-0.8790366586873719,-0.6954435408718735,-0.5699703952725235,-0.533985508289159,0.12013190552390213,-0.4444972496731732,-0.28303921709045865,-0.2562875312741481,-0.5072338224728483,4.826110907819051,3.790957456624412,0.05739533272422714,0.4697836697946728,-0.7581801136715486,-0.6908269402883465,-0.6908269402883465,-0.6954435408718735,-1.1032312640697617,-0.8476683722875343,-0.7581801136715486,-0.7535635130880216,1.7291317263717008,-0.43988064908964636,0.9403079657922359,1.0076611391754378,0.8821879935760877,-1.0091264048702488,-0.7221952266881843,-1.0718629776699238,1.791868299171376,-0.6954435408718735,1.5363054073891484,-1.2914409824687871,-1.1032312640697617,-0.5653537946889964,-0.9731415178868846,0.37569479730612954,1.6977634399718637,1.7291317263717008,0.5011519561945105,1.6663951535720258,2.9080448235564025,1.2539908297906113,1.4422005481896365,1.5095537215728383,1.8186199849876863,1.1645025711746255,1.065781111391586,1.791868299171376,1.478185435173001,-1.1345995504695991,1.1017659983749504,2.105551163169751,4.481059757420837,0.15150019192373973,1.854604871971051,-0.7535635130880216,-0.6640752544720361,-0.7895484000713862,-0.6640752544720361,-0.9731415178868846,-0.15756607149110852,-0.7895484000713862,-1.0404946912700865,-0.6954435408718735,-0.22030264429078364,-0.9104049450872095,0.3129582245064544,-0.6280903674886715,-0.659458653888509,-1.1659678368694366,-0.5653537946889964,-0.946389832070574,-0.5699703952725235,0.3129582245064544,-1.1345995504695991,-0.7221952266881843,1.4154488623733257,-0.8209166864712236,-0.5967220810888341,-0.13081438567479792,-0.4131289632733358,-0.601338681672361,1.195870857574463,4.2974666396053385,1.854604871971051,-0.5967220810888341,1.9487097311705637,-0.8836532592708988,1.2226225433907736,-1.1032312640697617,-0.9104049450872095,-0.0007246394919209758,-0.22491924487431064,-0.7849317994878593,2.4506023135679644,-0.2516709306906212,-0.6640752544720361,-0.28303921709045865,-0.7268118272717112,-1.2287044096691118,-0.47586553607301096,-0.5026172218893213,-0.5967220810888341,2.9707813963560783,-1.1345995504695991,-1.0404946912700865,-1.2600726960689494,-0.6280903674886715,-0.659458653888509,0.2188533653069418,-0.0007246394919209758,-0.7895484000713862,-1.4750341002842853,0.3129582245064544,-1.0718629776699238,-0.19355095847447312,-0.6280903674886715,-0.6327069680721986,-0.8522849728710612,-0.5386021088726858,-0.35039239047366066,-0.5699703952725235,-1.322809268868624,-0.4131289632733358,-1.0718629776699238,0.9449245663757629,3.8269423436077763,-0.35039239047366066,-0.3771440762899712,-1.0404946912700865,-0.3144075034902962,0.5011679429054795,-0.0007246394919209758,0.08876361912406475,-1.1299829498860725,-0.43988064908964636,-0.408512362689809,-1.0718629776699238,-0.7849317994878593,-1.4122975274846097,-1.0404946912700865,-0.3771440762899712,-0.408512362689809,-0.7535635130880216,-0.408512362689809,-0.4131289632733358,0.9449245663757629,1.6304102665886617,-1.5110189872676492,-0.5386021088726858,-1.950174996865375,1.0030445385919107,2.293760881568777,2.0114463039702386,1.478185435173001,4.951584053418401,-0.38176067687349813,0.5638885289941856,4.673886076403388,-1.5423872736674873,-0.8476683722875343,0.0933802197075917,0.18748507890710436,4.548412930804039,-0.19355095847447312,-0.659458653888509,-0.946389832070574,-0.3771440762899712,-0.9150215456707362,0.0933802197075917,0.0933802197075917,0.7161293471208154,-1.6051238464671622,-0.9104049450872095,-1.5423872736674873,0.810234206320328,-0.28303921709045865,-0.8522849728710612,-0.533985508289159,-0.22491924487431064,-0.09944609927496034,-0.7535635130880216,0.3443265109062919,-0.06346121229159599,-0.9777581184704112,-1.1299829498860725,-0.408512362689809,-0.6640752544720361,-0.7535635130880216,-0.9104049450872095,-0.5653537946889964,0.12474850610742923,-1.197336123269274,-0.5386021088726858,-0.408512362689809,0.2502056649958101,-0.408512362689809,-0.9777581184704112,2.325129167968614,1.5095537215728383,-0.946389832070574,-0.5386021088726858,-0.5072338224728483,1.4154488623733257,-0.7581801136715486,-0.7535635130880216,-0.5072338224728483,-0.9150215456707362,-0.7849317994878593,-0.9777581184704112,-0.9104049450872095,0.3129582245064544,-0.09944609927496034,-0.8209166864712236,-0.601338681672361,-0.4131289632733358,-0.7268118272717112,-0.601338681672361,-0.7849317994878593,-1.2287044096691118,-0.6908269402883465,-0.9731415178868846,-1.5110189872676492,-0.09944609927496034,-0.9150215456707362,-0.8836532592708988,-0.47124893548948404,-1.0404946912700865,0.030643646907916627,-0.4131289632733358,-0.38176067687349813,-0.7221952266881843,-0.06346121229159599,-0.09482949869143346,0.0933802197075917,-0.533985508289159,-0.408512362689809,-0.8836532592708988,0.05739533272422714,-0.3771440762899712,-1.197336123269274,-1.1659678368694366,-1.1299829498860725,1.603658580772351,0.40706308370596683,-0.601338681672361,-1.0718629776699238,0.2502216517067794,-0.408512362689809,-0.5026172218893213,-0.5026172218893213,-0.22491924487431064,-1.0404946912700865,-1.0091264048702488,-0.8836532592708988,-1.0404946912700865,-0.6280903674886715,-0.9777581184704112,0.21883737859597235,-0.9777581184704112,-0.601338681672361,1.4154488623733257,-1.5110189872676492,-0.8163000858876965,-1.2600726960689494,-0.47124893548948404,0.6220244879213029,0.5592879151216276,-0.2876558176739856,-0.601338681672361,0.5325202425943479,0.8194514207764126,-0.659458653888509,-1.1659678368694366,0.2188533653069418,1.7245151257881746,-0.22030264429078364,4.041903747823111,-0.7221952266881843,-1.2914409824687871,1.2853591161904485,-1.1032312640697617,1.2226225433907736,0.08876361912406475,-0.8836532592708988,-0.7849317994878593,0.720729960993373,-1.197336123269274,-0.9731415178868846,-0.16218267207463552,2.0741828767699135,-1.53777067308396,-0.9150215456707362,-0.7221952266881843,-0.0007246394919209758,-1.6051238464671622,-0.4131289632733358,1.478185435173001,1.8859731583708887,-0.6280903674886715,0.2188533653069418,-0.5967220810888341,-0.5386021088726858,-0.5386021088726858,1.980078017570401,-0.7895484000713862,-1.0404946912700865,-0.6327069680721986,-1.6051238464671622,1.854604871971051,1.2586074303741381,-1.0404946912700865,-0.946389832070574,-1.7305969920665123,-0.09944609927496034,-0.15756607149110852,0.12474850610742923,-0.7895484000713862,1.1598859705910984,-0.533985508289159,-0.946389832070574,-0.16218267207463552,0.657993388193698,-0.5386021088726858,-0.9777581184704112,-0.946389832070574,-1.1032312640697617,-0.9777581184704112,-0.2516709306906212,4.485676358004364,-0.8163000858876965,0.0933802197075917,-1.8560701376658624,0.8416024927201655,-1.0718629776699238,-0.5653537946889964,-0.06807781287512292,-1.0404946912700865,0.15150019192373973,-0.5967220810888341,1.3840805759734882,-0.5653537946889964,-0.18893435789094618,1.787251698587849,1.473568834589474,4.5751646166203495,0.6312417023773874,1.6663951535720258,1.6350268671721886,0.9762928527756004,1.0703977119751131,4.360203212405015,0.7567148479767377,0.9089396793923982,2.0741828767699135,1.4154488623733257,1.1017659983749504,1.661778552988499,0.8148348201928857,0.37569479730612954,4.956200654001927,0.9716762521920734,1.3840805759734882,-0.6640752544720361,-0.3144075034902962,-0.43988064908964636,0.062011933307754064,-0.8522849728710612,-0.2516709306906212,-0.22030264429078364,-0.9150215456707362,-0.005341240075447863,0.15611679250726687,-0.7268118272717112,-1.950174996865375,-1.8560701376658624,-1.1032312640697617,-0.8209166864712236,-1.4122975274846097,-0.8209166864712236,-1.1345995504695991,-1.0404946912700865,1.1645025711746255,-0.2562875312741481,-0.06346121229159599,1.2586074303741381,1.7605000127715387,0.5371368431778747,1.473568834589474,4.2974666396053385,1.2899757167739754,1.3480956889901239,4.606532903020187,0.9135562799759253,1.5409220079726758,1.5676736937889864,1.4422005481896365,2.4819705999678017,2.1682877359694266,1.4154488623733257,1.034412824991748,1.603658580772351,2.0428145903700763,0.8821879935760877,3.1054717564115126,-1.416914128068137,-1.416914128068137,-0.5386021088726858,-0.7895484000713862,0.0933802197075917,-0.7268118272717112,-1.2600726960689494,-1.197336123269274,-1.197336123269274,-1.5691389594837977,1.7245151257881746,1.5676736937889864,1.8859731583708887,1.3480956889901239,1.3840805759734882,1.603658580772351,1.321344003173813,1.3480956889901239,1.5409220079726758,1.8232365855712132,1.1017659983749504,2.1636711353858997,1.2226225433907736,4.982952339818238,-1.1345995504695991,-0.408512362689809,-0.8163000858876965,-0.7268118272717112,-0.43988064908964636,-1.4436658138844476,-0.47586553607301096,0.2502056649958101,-0.12619778509127108,-0.601338681672361,0.026027046324389697,0.5325362293053171,-0.7581801136715486,-0.6280903674886715,0.7834825205040172,-0.7268118272717112,-0.5967220810888341,0.24560505112325243,0.37569479730612954,-0.601338681672361,-0.34577578989013363,-1.4750341002842853,-0.2876558176739856,-0.3190241040738232,-0.09944609927496034,-0.6640752544720361,0.12474850610742923,0.2815899381066168,-0.659458653888509,-1.2287044096691118,-0.3190241040738232,-0.7895484000713862,-0.22491924487431064,0.026027046324389697,-0.28303921709045865,0.0933802197075917,-0.28303921709045865,-0.09944609927496034,-0.7849317994878593,-1.5423872736674873,-1.4482824144679745,0.43843137010580446,-0.47124893548948404,-0.3771440762899712,-0.9777581184704112,-0.12619778509127108,-0.4444972496731732,-0.3190241040738232,-0.2562875312741481,-0.601338681672361,0.18748507890710436,-0.4131289632733358,-0.9150215456707362,-1.0404946912700865,0.43843137010580446,-1.1345995504695991,-0.6327069680721986,-0.6954435408718735,-0.38176067687349813,-0.5386021088726858,-0.7849317994878593,-1.8874384240656998,0.40706308370596683,-1.1659678368694366,-0.4444972496731732,-0.9731415178868846,-0.7895484000713862,0.18748507890710436,-1.0404946912700865,-0.34577578989013363,0.5952728021049921,-0.03670952647528532,-0.7268118272717112,-1.5737555600673248,-0.7849317994878593,-0.946389832070574,-1.197336123269274,0.08876361912406475,-0.5386021088726858,0.37569479730612954,-1.354177555268462,-0.533985508289159,-0.13081438567479792,-0.7221952266881843,-0.601338681672361,-0.6908269402883465,-1.197336123269274,0.3129582245064544,-0.28303921709045865,-0.47586553607301096,-0.47124893548948404,-0.16218267207463552,0.18286847832357747,-0.6908269402883465,-0.7268118272717112,-0.8790366586873719,0.7161293471208154,0.030643646907916627,-0.8163000858876965,-1.197336123269274,-0.408512362689809,0.2188533653069418,-0.9150215456707362,-0.601338681672361,-0.601338681672361,-0.06807781287512292,-0.06807781287512292,-1.197336123269274,-0.12619778509127108,-1.1345995504695991,-0.7849317994878593,-0.601338681672361,-1.3809292410847724,-0.6280903674886715,-0.2876558176739856,1.478185435173001,-0.2516709306906212,1.3840805759734882,-0.8209166864712236,-0.946389832070574,-0.005341240075447863,-0.3190241040738232,-0.7895484000713862,-0.9731415178868846,-0.7268118272717112,-0.7581801136715486,-0.6280903674886715,-0.6640752544720361,-0.7895484000713862,-1.6318755322834726,-1.918806710465538,-0.4131289632733358,-0.28303921709045865,-0.4444972496731732,-0.4131289632733358,-0.43988064908964636,-0.9731415178868846,-0.408512362689809,0.5011679429054795,-0.4131289632733358,-1.2287044096691118,-0.8836532592708988,-0.8209166864712236,-0.7268118272717112,-0.35039239047366066,-0.6327069680721986,-0.9777581184704112,-0.8209166864712236,-0.9104049450872095,-0.7268118272717112,-0.6327069680721986,-0.3771440762899712,-0.6327069680721986,-1.2287044096691118,-0.8836532592708988,0.4697996565056421,-1.479650700867812,0.4697996565056421,-0.5699703952725235,-1.0358780906865597,-0.9150215456707362,-0.5967220810888341,-0.38176067687349813,-0.7895484000713862,-1.2287044096691118,-0.533985508289159,-0.13081438567479792,-1.1345995504695991,-0.946389832070574,-1.1345995504695991,-0.4444972496731732,-0.7268118272717112,0.24560505112325243,-0.47124893548948404,-1.2600726960689494,-0.5699703952725235,0.7207459477043421,-0.7849317994878593,-0.9150215456707362,-0.8476683722875343,-1.197336123269274,0.43843137010580446,-0.7895484000713862,-0.8522849728710612,-0.7221952266881843,-0.7268118272717112,-0.3190241040738232,-0.7268118272717112,-1.4436658138844476,1.0030445385919107,-0.22491924487431064,-0.19355095847447312,-0.946389832070574,-0.408512362689809,-0.005341240075447863,3.979167175023437,-0.946389832070574,-0.5386021088726858,4.517044644404201,-1.2287044096691118,-0.533985508289159,-1.3855458416682995,0.0933802197075917,-1.2600726960689494,-1.1032312640697617,-1.0404946912700865,-0.22030264429078364,0.4965513423219525,-0.13081438567479792,-0.9150215456707362,-0.47124893548948404,-0.8476683722875343,-1.6005072458836354,-0.408512362689809,0.08876361912406475,0.026027046324389697,-0.47124893548948404,-0.13081438567479792,-0.47124893548948404,-0.8522849728710612,-1.1659678368694366,-1.2914409824687871,-1.0404946912700865,-0.6280903674886715,-0.47124893548948404,-0.8163000858876965,-0.2516709306906212,1.7291317263717008,0.2502216517067794,-0.9777581184704112,-0.601338681672361,-1.0404946912700865,-0.7581801136715486,0.18286847832357747,-1.0404946912700865,0.7520982473932109,-0.6280903674886715,-1.0091264048702488,-1.5064023866841223,-0.659458653888509,-0.533985508289159,-0.6640752544720361,-1.2600726960689494,0.12474850610742923,-1.2600726960689494,-1.0718629776699238,-0.5026172218893213,-1.0404946912700865,-1.0718629776699238,-1.5737555600673248,-0.43988064908964636,-0.8790366586873719,-0.6327069680721986,-0.22491924487431064,-0.35039239047366066,-0.6280903674886715,-0.6280903674886715,-0.5967220810888341,-0.408512362689809,-0.7895484000713862,-1.0718629776699238,-0.533985508289159,-0.7895484000713862,-1.354177555268462,-1.2600726960689494,-0.9150215456707362,-1.1345995504695991,-1.1032312640697617,-0.946389832070574,-0.5967220810888341,-0.7581801136715486,-0.2516709306906212,-0.8209166864712236,-0.03209292589175854,-1.1299829498860725,4.32421832542165,-0.47124893548948404,-0.3144075034902962,-0.5699703952725235,-0.7895484000713862,-1.0091264048702488,-0.8836532592708988,-0.5653537946889964,-1.2287044096691118,-1.1032312640697617,-0.9150215456707362,-1.0091264048702488,1.599041980188824,-0.941773231487047,-0.34577578989013363,-0.0007246394919209758,0.12474850610742923,-0.28303921709045865,-0.47586553607301096,-0.12619778509127108,-0.659458653888509,0.21423676472341485,-0.6327069680721986,-1.0718629776699238,-0.601338681672361,0.43381476952227754,-0.9150215456707362,-0.5653537946889964,-0.2562875312741481,-0.47124893548948404,4.857479194218889,0.5325202425943479,4.2974666396053385,0.062011933307754064,-0.22030264429078364,-0.6280903674886715,-1.0358780906865597,-0.7535635130880216,-1.354177555268462,-1.0045098042867222,-0.9150215456707362,-0.6908269402883465,-0.09482949869143346,-1.1659678368694366,-0.16218267207463552,-0.16218267207463552,-0.5699703952725235,-1.5064023866841223,-0.5026172218893213,-1.3855458416682995,-0.8163000858876965,-0.12619778509127108,-0.601338681672361,3.732837484408263,-0.946389832070574,-0.6327069680721986,0.0933802197075917,-1.197336123269274,-0.6954435408718735,-0.9777581184704112,0.37569479730612954,-1.6318755322834726,-0.5653537946889964,-0.22030264429078364,-0.9777581184704112,1.4154488623733257,2.006829703386712,-0.18893435789094618,-1.0091264048702488,0.15610080579629723,-0.5967220810888341,-0.8522849728710612,-0.9777581184704112,0.783466533793048,0.8821879935760877,1.065781111391586,0.9135562799759253,0.9135562799759253,4.198745179822299,1.5409220079726758,4.543796330220513,1.0971493977914233,1.2899757167739754,1.195870857574463,4.6111495036037145,1.2272391439743007,4.799359222002739,3.979167175023437,0.27697333752308984,0.7253465615769,1.8499882713875246,1.2899757167739754,1.8499882713875246,1.133134284774788,0.8508197071762501,2.9080448235564025,1.2586074303741381,4.422939785204689,3.696852597424899,1.321344003173813,0.8775713929925606,1.7245151257881746,1.8186199849876863,1.3794639753899611,-0.35039239047366066,1.4468171487731634,0.6626099887772249,2.136919449569589,3.540011165425711,3.916430602223762,4.418323184621162,4.136008607022624,-0.0007246394919209758,0.2548222655793369,1.2539908297906113,1.0390294255752752,-0.8522849728710612,4.642517790003552,1.6350268671721886,1.4422005481896365,-1.1299829498860725,-0.5026172218893213,-0.6280903674886715,-1.6992287056666748,-0.659458653888509,-0.659458653888509,-0.7895484000713862,-1.8560701376658624,-1.197336123269274,-0.8790366586873719,-1.5110189872676492,-0.28303921709045865,-0.2516709306906212,0.3443265109062919,-1.1659678368694366,0.5639045157051545,-1.197336123269274,-0.12619778509127108,-1.322809268868624,-0.2516709306906212,-0.2516709306906212,-0.7581801136715486,0.4697996565056421,-0.7221952266881843,-0.15756607149110852,-1.416914128068137,-0.09482949869143346,-1.8560701376658624,-0.12619778509127108,0.658009374904667,-0.5072338224728483,-0.34577578989013363,-0.09944609927496034,-0.06346121229159599,-0.659458653888509,-1.2600726960689494,0.21423676472341485,-1.7305969920665123,-0.3190241040738232,-0.4444972496731732,-1.1659678368694366,0.2815899381066168,0.18286847832357747,-1.5423872736674873,-0.34577578989013363,-0.28303921709045865,-1.3181926682850973,-0.7268118272717112,-1.0091264048702488,-0.8836532592708988,-0.9731415178868846,-1.6005072458836354,0.030643646907916627,-0.15756607149110852,0.18286847832357747,-0.3771440762899712,-0.38176067687349813,-0.06346121229159599,-0.15756607149110852,1.1598859705910984,-0.6908269402883465,-0.6908269402883465,0.5952728021049921,-1.1659678368694366,1.2899757167739754,1.133134284774788,-1.5064023866841223,1.3794639753899611,0.5638885289941856,-1.067246377086397,-0.2516709306906212,-0.15756607149110852,-0.6640752544720361,0.12474850610742923,-0.4131289632733358,-0.38176067687349813,-0.22030264429078364,-0.34577578989013363,-0.09482949869143346,-1.2600726960689494,0.24560505112325243,-0.005341240075447863,-0.7581801136715486,0.3129582245064544,1.2853591161904485,-0.34577578989013363,-0.533985508289159,-0.7221952266881843,-0.22491924487431064,-0.22030264429078364,-0.8522849728710612,-0.2516709306906212,-0.6280903674886715,-0.2562875312741481,-0.2562875312741481,-0.6327069680721986,-0.13081438567479792,-0.7849317994878593,-0.5072338224728483,-0.34577578989013363,-0.8209166864712236,-0.8836532592708988,-0.12619778509127108,0.9089396793923982,-1.322809268868624,-0.8522849728710612,-0.8522849728710612,0.062011933307754064,-0.47586553607301096,0.18748507890710436,-0.47124893548948404,-0.18893435789094618,-0.8209166864712236,-0.9777581184704112,0.3397099103227649,-1.1345995504695991,-1.197336123269274,-1.1345995504695991,-0.5386021088726858,-0.5072338224728483,-0.34577578989013363,-1.0718629776699238,0.030643646907916627,-0.6280903674886715,-0.8163000858876965,0.3710781967226025,-1.16135123628591,-0.6954435408718735,-0.6908269402883465,-0.8163000858876965,-0.6280903674886715,0.9403239525032049,-0.7895484000713862,-0.2876558176739856,0.18748507890710436,-1.354177555268462,-1.1927195226857472,0.030643646907916627,-1.197336123269274,-1.2914409824687871,-1.3855458416682995,-0.16218267207463552,-0.43988064908964636,-0.4444972496731732,-0.6954435408718735,0.658009374904667,-0.6954435408718735,-0.7895484000713862,-1.322809268868624,0.030643646907916627,-1.6005072458836354,-1.2868243818852598,-0.6908269402883465,-0.2516709306906212,-0.6327069680721986,-0.7581801136715486,-0.47586553607301096,-0.22030264429078364,-1.1659678368694366,0.3443265109062919,-0.601338681672361,0.3710781967226025,-0.06346121229159599,-1.1032312640697617,-0.8836532592708988,-0.18893435789094618,-0.47124893548948404,-0.659458653888509,0.7474976335206529,-1.067246377086397,-1.0091264048702488,-0.3771440762899712,-0.3144075034902962,-0.7895484000713862,-1.197336123269274,-1.6364921328669995,-0.16218267207463552,0.7834825205040172,1.473568834589474,0.3443265109062919,0.8508197071762501,-1.0404946912700865,1.3794639753899611,0.8462031065927231,2.1636711353858997,-1.197336123269274,-1.322809268868624,-1.1032312640697617,0.2815899381066168,5.139793771817425,-0.03210891260272771,-0.43988064908964636,-0.4444972496731732,-0.3190241040738232,1.7245151257881746,1.2539908297906113,-1.5110189872676492,0.09798083358014922,0.030643646907916627,-1.0986146634862348,0.6266251017938606,-1.1345995504695991,-1.197336123269274,1.2586074303741381,-1.0404946912700865,-0.12619778509127108,0.12013190552390213,-0.09482949869143346,1.5049371209893114,1.5676736937889864,0.6939782751770625,0.8194514207764126,0.9716762521920734,4.077888634806476,1.321344003173813,4.203361780405825,4.7947426214192115,0.6626099887772249,-0.2876558176739856,4.266098353205502,-0.408512362689809,2.1996560223692643,1.7605000127715387,1.5409220079726758,1.603658580772351,-0.0007246394919209758,4.140625207606151,1.2539908297906113,0.9135562799759253,1.195870857574463,0.6312417023773874,1.7605000127715387,1.0076611391754378,1.5409220079726758,2.0114463039702386,1.478185435173001,0.6893616745935356,1.1645025711746255,4.637901189420025,1.599041980188824,0.6312417023773874,-0.35039239047366066,1.8232365855712132,2.4192340271681263,3.0381345697392796,2.006829703386712,2.293760881568777,-0.43988064908964636,-0.8209166864712236,5.332620090799977,-0.09482949869143346,0.2502216517067794,-0.5699703952725235,-0.5026172218893213,-1.0358780906865597,-1.322809268868624,-0.06807781287512292,-0.5653537946889964,-1.1032312640697617,0.814850806903855,-0.9150215456707362,-0.9104049450872095,-0.19355095847447312,-0.946389832070574,-0.03209292589175854,0.2815899381066168,-0.06346121229159599,0.05739533272422714,-1.5737555600673248,0.030643646907916627,0.18286847832357747,-0.22491924487431064,-0.7849317994878593,-0.6280903674886715,-0.3771440762899712,-0.9777581184704112,-1.1345995504695991,-0.3144075034902962,-0.22030264429078364,-0.533985508289159,0.5325362293053171,-0.19355095847447312,-1.197336123269274,-0.6640752544720361,-0.7849317994878593,-0.09482949869143346,-1.067246377086397,0.0933802197075917,-0.22030264429078364,-0.19355095847447312,-0.47586553607301096,0.4651830559221152,-0.34577578989013363,-0.9104049450872095,-0.12619778509127108,-0.3771440762899712,-0.3144075034902962,-0.22030264429078364,-0.5072338224728483,-0.6908269402883465,-0.6327069680721986,-0.9150215456707362,-0.8836532592708988,-0.3190241040738232,-1.1345995504695991,-1.6364921328669995,-0.8790366586873719,-0.9104049450872095,-0.2516709306906212,-0.15756607149110852,-0.12619778509127108,-1.0091264048702488,-1.2287044096691118,-0.9150215456707362,0.15611679250726687,-0.38176067687349813,-0.19355095847447312,-0.7221952266881843,-0.7535635130880216,-0.3144075034902962,-0.941773231487047,-0.43988064908964636,-1.197336123269274,-0.8209166864712236,0.5639045157051545,0.5325362293053171,-1.1659678368694366,-0.941773231487047,-0.946389832070574,-1.7619652784663495,0.24560505112325243,0.3443265109062919,-0.22491924487431064,-0.38176067687349813,0.15611679250726687,-0.35039239047366066,-0.47586553607301096,-0.9150215456707362,-0.8790366586873719,-0.7268118272717112,-0.0007246394919209758,0.5952728021049921,-0.5967220810888341,-0.6327069680721986,0.0933802197075917,-0.6954435408718735,-0.2562875312741481,-1.5691389594837977,-0.43988064908964636,0.37567881059516023,-0.7581801136715486,-0.22491924487431064,-0.43988064908964636,-0.7221952266881843,0.18748507890710436,-1.5737555600673248,-0.7268118272717112,0.30834162392292747,-0.12619778509127108,-1.6992287056666748,0.12474850610742923,-0.43988064908964636,0.2815899381066168,0.15611679250726687,0.12474850610742923,-0.5653537946889964,-0.3144075034902962,-0.3144075034902962,-0.8476683722875343,-0.4131289632733358,0.4965513423219525,-0.659458653888509,-0.601338681672361,-0.8476683722875343,-0.7895484000713862,-0.2876558176739856,-0.659458653888509,-1.6005072458836354,-0.9150215456707362,-0.47124893548948404,-0.18893435789094618,0.2815899381066168,-0.6327069680721986,-0.6327069680721986,0.2815899381066168,0.3710781967226025,-0.8836532592708988,0.2188533653069418,-0.15756607149110852,-0.4444972496731732,-0.22491924487431064,-1.0404946912700865,-0.06807781287512292,-1.0404946912700865,0.37569479730612954,2.0741828767699135,1.8232365855712132,1.5095537215728383,-0.2876558176739856,1.4154488623733257,-0.7581801136715486,1.7291317263717008,-1.5423872736674873,-1.2600726960689494,-1.1032312640697617,1.3794639753899611,-1.1659678368694366,0.8775873797035301,0.40706308370596683,-0.43988064908964636,-1.1659678368694366,-0.3190241040738232,-0.6327069680721986,0.6893776613045046,-0.2562875312741481,-0.38176067687349813,-0.659458653888509,-0.35039239047366066,-0.9150215456707362,3.607364338808913,-1.0718629776699238,-0.8163000858876965,-0.8790366586873719,-0.941773231487047,1.8859731583708887,-0.6954435408718735,-0.8836532592708988,-0.3771440762899712,-0.3190241040738232,-1.0045098042867222,1.1017659983749504,0.5906562015214651,-1.2914409824687871,-1.2600726960689494,-0.38176067687349813,-0.09944609927496034,-1.0091264048702488,-1.2600726960689494,-0.408512362689809,-0.2876558176739856,0.026027046324389697,-1.2600726960689494,-0.34577578989013363,-0.5653537946889964,-0.5026172218893213,-0.9777581184704112,-0.3771440762899712,-1.479650700867812,0.658009374904667,-0.22491924487431064,-0.005341240075447863,-1.2287044096691118,-1.1345995504695991,-0.03670952647528532,2.2577759945854123,-1.6051238464671622,-0.9104049450872095,-0.34577578989013363,1.065781111391586,-0.6640752544720361,-1.3809292410847724,0.37569479730612954,-0.15756607149110852,-1.0045098042867222,-1.0358780906865597,-1.322809268868624,-1.0986146634862348,-0.5072338224728483,-0.4444972496731732,-0.4131289632733358,1.2539908297906113,-1.067246377086397,-0.533985508289159,-0.6908269402883465,-0.7581801136715486,-0.946389832070574,-0.38176067687349813,-0.34577578989013363,-0.35039239047366066,-0.38176067687349813,-0.2876558176739856,0.026027046324389697,-0.0007246394919209758,4.140625207606151,4.736622649203063,0.062011933307754064,1.065781111391586,0.062011933307754064,-1.2600726960689494,1.2539908297906113,-0.2157020304182259,0.40704709699499775,1.9487097311705637,-0.47586553607301096,-0.28303921709045865,0.12474850610742923,2.2577759945854123,3.0113668972119996,0.6893616745935356,-1.7305969920665123,-0.6640752544720361,-0.6954435408718735,0.5325362293053171,0.2188533653069418,-0.8790366586873719,-1.1032312640697617,-0.5026172218893213,-0.09482949869143346,-0.9150215456707362,-0.9731415178868846,-0.6327069680721986,-0.22030264429078364,-0.47124893548948404,-0.8476683722875343,-1.197336123269274,-0.5653537946889964,-0.8836532592708988,-0.13081438567479792,-0.946389832070574,-0.5653537946889964,-0.09482949869143346,-1.1659678368694366,-1.0718629776699238,-1.5691389594837977,-0.8836532592708988,-0.7895484000713862,-0.43988064908964636,-1.16135123628591,-1.1299829498860725,-0.601338681672361,0.9135562799759253,-0.7581801136715486,-1.0091264048702488,-0.9731415178868846,-0.38176067687349813,-0.43988064908964636,-0.408512362689809,-0.2516709306906212,-0.7849317994878593,-0.9104049450872095,-0.12619778509127108,-0.5072338224728483,-1.067246377086397,-0.06346121229159599,0.4697996565056421,-0.8476683722875343,-0.3771440762899712,-0.946389832070574,4.167376893422461,-1.197336123269274,1.8813565577873614,-0.6954435408718735,-0.8209166864712236,-0.6640752544720361,-0.7535635130880216,-0.22030264429078364,1.9173414447707258,-0.6640752544720361,-0.34577578989013363,-0.6908269402883465,0.9135562799759253,1.5095537215728383,-0.7849317994878593,0.3443265109062919,0.0933802197075917,-0.7849317994878593,1.2226225433907736,-0.7221952266881843,-1.6051238464671622,-1.197336123269274,0.12474850610742923,-0.8522849728710612,-0.5967220810888341,-1.1345995504695991,-0.0007246394919209758,-0.03209292589175854,4.136008607022624,2.387865740768289,1.2539908297906113,0.4384153833948352,-0.38176067687349813,4.203361780405825,4.862095794802414,4.987568940401764,3.889678916407451,4.418323184621162,3.983783775606964,4.203361780405825,1.133134284774788,1.133134284774788,2.6074437455671515,1.4154488623733257,1.5676736937889864,0.21883737859597235,5.238515231600465,2.105551163169751,0.2502056649958101,1.5676736937889864,0.8194514207764126,-0.3190241040738232,4.548412930804039,4.481059757420837,1.1598859705910984,1.3794639753899611,4.888847480618725,4.92483236760209,-0.43988064908964636,4.449691471021,-0.5699703952725235,-0.38176067687349813,-1.0358780906865597,-0.8209166864712236,-0.35039239047366066,-0.06346121229159599,-0.13081438567479792,-0.5026172218893213,-0.13081438567479792,-0.22491924487431064,-0.8209166864712236,0.18286847832357747,-0.6327069680721986,-0.35039239047366066,-0.941773231487047,-0.2516709306906212,-0.5026172218893213,0.5952728021049921,-0.6640752544720361,-1.0091264048702488,-0.5026172218893213,-0.9150215456707362,-0.8476683722875343,-0.9777581184704112,-0.7581801136715486,-0.9150215456707362,-0.5653537946889964,-0.34577578989013363,-0.19355095847447312,0.30834162392292747,-0.5653537946889964,0.24560505112325243,-0.8836532592708988,-0.34577578989013363,-0.8209166864712236,-0.06346121229159599,-0.946389832070574,-1.1345995504695991,-0.6908269402883465,-0.0007246394919209758,0.720729960993373,-0.7581801136715486,-1.1927195226857472,-1.2868243818852598,-1.3855458416682995,-0.16218267207463552,-0.5967220810888341,-1.0986146634862348,-0.5026172218893213,0.15611679250726687,0.08876361912406475,-0.5386021088726858,0.40706308370596683,-0.7221952266881843,-0.8836532592708988,0.2188533653069418,-1.0718629776699238,0.2502216517067794,-0.03209292589175854,-0.941773231487047,-1.0045098042867222,-1.0091264048702488,-0.5386021088726858,-1.197336123269274,0.4651830559221152,-1.6364921328669995,-0.16218267207463552,-0.8522849728710612,0.08876361912406475,-0.22491924487431064,-0.7895484000713862,-1.2287044096691118,-1.197336123269274,-0.9731415178868846,-1.0045098042867222,-0.941773231487047,-1.197336123269274,-0.9777581184704112,-1.1659678368694366,-1.0986146634862348,-0.005341240075447863,-0.5967220810888341,-0.7581801136715486,-0.8522849728710612,0.4744002703781997,-1.0091264048702488,1.0030445385919107,-1.1345995504695991,-0.7581801136715486,-0.2562875312741481,-0.3190241040738232,0.37569479730612954,-0.06807781287512292,-0.659458653888509,-0.6908269402883465,-0.941773231487047,-0.35039239047366066,-0.7221952266881843,-0.6280903674886715,0.15610080579629723,1.603658580772351,-0.946389832070574,-0.8209166864712236,-0.03209292589175854,-0.43988064908964636,-0.3144075034902962,-1.3855458416682995,1.1599019573020681,-0.533985508289159,-1.6005072458836354,-0.7849317994878593,-0.8476683722875343,0.030643646907916627,-0.22030264429078364,-0.19355095847447312,-1.0718629776699238,-1.0091264048702488,-1.0091264048702488,5.301251804400139,4.888847480618725,0.15150019192373973,-0.6280903674886715,-0.946389832070574,1.6931468393883364,-0.5967220810888341,-0.47124893548948404,3.0381185830283104,4.292850039021812,0.5011519561945105,-0.8790366586873719,-0.946389832070574,-0.2516709306906212,-0.7535635130880216,-0.946389832070574,-0.5967220810888341,2.1682877359694266,-0.005341240075447863,-0.5699703952725235,-0.6327069680721986,-0.4444972496731732,1.3840805759734882,-0.5653537946889964,-0.6908269402883465,-0.5026172218893213,-0.408512362689809,-0.28303921709045865,-0.6954435408718735,-0.8476683722875343,-1.0718629776699238,-0.7849317994878593,-0.533985508289159,-0.533985508289159,-0.7895484000713862,1.2853591161904485,-1.1032312640697617,2.1009345625862244,-0.6280903674886715,-0.7849317994878593,0.8821879935760877,-0.09944609927496034,-0.47586553607301096,0.12013190552390213,-1.1345995504695991,0.4024464831224399,-0.47124893548948404,-0.15756607149110852,-0.34577578989013363,-0.408512362689809,-1.0718629776699238,-1.2914409824687871,0.658009374904667,-0.7581801136715486,0.062011933307754064,-0.5699703952725235,-1.0091264048702488,-1.2287044096691118,-1.0091264048702488,-0.946389832070574,-0.6908269402883465,-0.06807781287512292,-0.408512362689809,-0.6954435408718735,-0.06346121229159599,-0.7895484000713862,-0.005341240075447863,-0.09944609927496034,-0.8163000858876965,-0.43988064908964636,-0.15756607149110852,1.3167274025902864,-0.03209292589175854,1.4422005481896365,0.16071740637982426,-0.6327069680721986,-0.9731415178868846,-0.3190241040738232,-1.479650700867812,-1.0986146634862348,-0.9731415178868846,1.603658580772351,-0.6327069680721986,-0.8790366586873719,-0.35039239047366066,-0.946389832070574,-1.2868243818852598,-0.8836532592708988,-0.09022888481887564,-0.9150215456707362,-1.2287044096691118,2.0428145903700763,-0.7268118272717112,-0.5699703952725235,-0.6327069680721986,-0.06807781287512292,-0.8476683722875343,1.6350268671721886,-0.4444972496731732,-0.5653537946889964,1.478185435173001,-1.0404946912700865,-0.2876558176739856,-0.06346121229159599,0.0933802197075917,5.018937226801603,4.637901189420025,1.3527122895736508,4.669269475819862,2.325129167968614,1.2226225433907736,-0.058860598419038034,3.6387326252087506,2.1996560223692643,1.0703977119751131,2.0741828767699135,1.661778552988499,1.2586074303741381,1.3527122895736508,0.5685051295777123,5.238515231600465,0.8821879935760877,1.6350268671721886,1.7291317263717008,-1.3809292410847724,5.050305513201439,1.4422005481896365,1.128517684191261,2.2623925951689388,-1.2287044096691118,-1.2914409824687871,-0.6327069680721986,0.2502216517067794,-0.35039239047366066,-0.7268118272717112,-0.2876558176739856,-0.2516709306906212,-0.6280903674886715,-0.6908269402883465,-0.22030264429078364,-0.941773231487047,0.030643646907916627,-0.38176067687349813,-1.197336123269274,-1.067246377086397,-0.4444972496731732,-1.2600726960689494,-0.4444972496731732,-1.0358780906865597,-0.09482949869143346,-0.2516709306906212,0.43843137010580446,-0.8522849728710612,-1.2868243818852598,-0.8476683722875343,-0.34577578989013363,-0.7221952266881843,-1.2287044096691118,-0.8790366586873719,-1.0404946912700865,-0.35039239047366066,-0.8476683722875343,-0.7895484000713862,-0.7581801136715486,-0.7895484000713862,-1.0358780906865597,-0.7268118272717112,-0.38176067687349813,1.2586074303741381,-1.2600726960689494,-0.3144075034902962,-0.3144075034902962,-0.8209166864712236,-0.6954435408718735,-1.6632438186833105,-0.8836532592708988,-1.2287044096691118,0.12013190552390213,-0.22030264429078364,-1.0718629776699238,-0.4444972496731732,-0.4444972496731732,-0.6640752544720361,-0.5072338224728483,-0.7268118272717112,-0.38176067687349813,-1.1032312640697617,1.5676736937889864,-0.38176067687349813,0.2815899381066168,-0.18893435789094618,-0.4444972496731732,-0.941773231487047,-0.28303921709045865,-1.2287044096691118,-1.2287044096691118,-1.0091264048702488,0.21423676472341485,-0.7849317994878593,-1.918806710465538,1.603658580772351,1.6304102665886617,0.6626099887772249,1.3527122895736508,-0.3144075034902962,1.0076611391754378,-0.941773231487047,-0.43988064908964636,-1.2600726960689494,-0.6640752544720361,-0.9777581184704112,-0.09482949869143346,-1.2914409824687871,0.12474850610742923,-1.4122975274846097,-1.1659678368694366,-1.2600726960689494,-1.7305969920665123,-0.2876558176739856,-0.6280903674886715,0.12474850610742923,-0.06346121229159599,-0.6640752544720361,0.2502216517067794,-0.03209292589175854,0.21423676472341485,-0.659458653888509,-1.5110189872676492,-0.7268118272717112,-0.9731415178868846,-1.0091264048702488,3.952415489207126,-0.3771440762899712,-0.15756607149110852,-0.18893435789094618,-0.9777581184704112,-0.7221952266881843,-0.8476683722875343,-0.9777581184704112,-0.533985508289159,-0.8836532592708988,-0.8163000858876965,0.5011679429054795,-0.7581801136715486,-0.9777581184704112,-0.7535635130880216,-1.0404946912700865,-0.5026172218893213,-0.8476683722875343,-0.47124893548948404,-0.47124893548948404,1.6977634399718637,-0.8476683722875343,-1.2600726960689494,0.8148348201928857,-0.659458653888509,-0.7849317994878593,-0.005341240075447863,-0.7581801136715486,-0.9777581184704112,-0.3144075034902962,-0.47124893548948404,-0.7895484000713862,-0.7268118272717112,-0.6280903674886715,-0.7535635130880216,-1.0091264048702488,-0.533985508289159,-1.8560701376658624,2.231024308769101,0.9449245663757629,1.603658580772351,-1.4482824144679745,-0.7895484000713862,-0.941773231487047,-1.0718629776699238,-0.8163000858876965,-0.5653537946889964,0.030643646907916627,-0.9777581184704112,-1.8560701376658624,-1.2287044096691118,-0.06807781287512292,-1.6318755322834726,-0.34577578989013363,-1.3809292410847724,-0.9150215456707362,-0.6280903674886715,1.195870857574463,1.478185435173001,1.3480956889901239,4.386954898221324,1.854604871971051,2.356497454368452,-1.6992287056666748,-0.9777581184704112,-0.8476683722875343,-0.9777581184704112,-0.43988064908964636,-0.12619778509127108,-0.7849317994878593,0.40706308370596683,1.6350268671721886,0.026027046324389697,-0.7581801136715486,-0.7895484000713862,-1.322809268868624,-0.09944609927496034,0.026027046324389697,1.791868299171376,0.4697996565056421,-1.2600726960689494,1.603658580772351,-0.9150215456707362,1.854604871971051,-0.7535635130880216,-0.5386021088726858,-0.47124893548948404,-0.8836532592708988,0.8821879935760877,-0.941773231487047,-0.5967220810888341,1.975461416986874,1.6663951535720258,1.5095537215728383,1.8499882713875246,1.5049371209893114,1.1017659983749504,3.82232574302425,1.8186199849876863,-0.408512362689809,4.642517790003552,4.857479194218889,-1.8560701376658624,3.508658865736843,3.889678916407451,1.9487097311705637,1.2539908297906113,4.167376893422461,3.916430602223762,1.0076611391754378,4.956200654001927,-0.8790366586873719,3.889678916407451,-1.1345995504695991,-0.659458653888509,-0.7895484000713862,-0.22030264429078364,-1.2600726960689494,-0.28303921709045865,-0.09944609927496034,-0.47586553607301096,0.4651830559221152,-0.09944609927496034,-0.8522849728710612,-0.5967220810888341,-1.1345995504695991,-0.0007246394919209758,-0.7221952266881843,-0.9731415178868846,-0.8790366586873719,-0.34577578989013363,-0.8163000858876965,0.0933802197075917,-0.5653537946889964,-1.1032312640697617,-0.946389832070574,-1.067246377086397,-0.4131289632733358,-0.8163000858876965,0.0933802197075917,0.026027046324389697,-0.8836532592708988,-0.22030264429078364,0.720729960993373,1.2226225433907736,1.195870857574463,2.293760881568777,1.787251698587849,1.1645025711746255,1.3480956889901239,-0.8209166864712236,4.7947426214192115,1.4422005481896365,1.3840805759734882,0.9089396793923982,-1.0358780906865597,0.783466533793048,0.9089396793923982,1.6663951535720258,0.18748507890710436,4.705254362803226,1.3527122895736508,1.9173414447707258,0.8462031065927231,1.8813565577873614,1.6304102665886617,1.7291317263717008,3.378569119553965,1.5095537215728383,1.3840805759734882,1.4422005481896365,1.321344003173813,0.8508197071762501,2.293760881568777,-1.8874384240656998,-1.0986146634862348,-0.8163000858876965,-0.659458653888509,-0.22491924487431064,-0.0007246394919209758,4.136008607022624,3.979167175023437,2.105551163169751,1.6977634399718637,4.015152062006801,-0.8209166864712236,1.7605000127715387,1.7245151257881746,-0.7581801136715486,-1.6632438186833105,-1.0091264048702488,0.0933802197075917,-0.03209292589175854,-1.322809268868624,-0.8476683722875343,-0.18893435789094618,-1.0718629776699238,-0.5026172218893213,-0.9150215456707362,-0.5026172218893213,1.4154488623733257,-1.1032312640697617,-0.8476683722875343,-0.7221952266881843,-0.4444972496731732,-0.8836532592708988,-0.3190241040738232,-1.1345995504695991,-1.197336123269274,-0.659458653888509,0.3129582245064544,1.3480956889901239,1.599041980188824,-0.2562875312741481,-0.6640752544720361,-0.601338681672361,1.603658580772351,0.15611679250726687,-0.8836532592708988,0.7520982473932109,-0.2516709306906212,-0.2562875312741481,-0.3190241040738232,-0.9777581184704112,-0.7268118272717112,-0.5967220810888341,-0.12619778509127108,-1.0091264048702488,1.9127248441871991,2.1682877359694266,-0.2516709306906212,1.5722902943725134,1.3167274025902864,1.2586074303741381,3.4191546204098873,0.5952568153940231,2.3205125673850877,1.2899757167739754,4.391571498804851,4.015152062006801,-0.03210891260272771,4.893464081202251,3.858310630007613,-0.06346121229159599,4.422939785204689,2.1996560223692643,-0.601338681672361,-0.34577578989013363,-0.7581801136715486,-1.354177555268462,-0.09944609927496034,-1.197336123269274,-1.1345995504695991,-0.9104049450872095,-0.9104049450872095,-0.22491924487431064,0.026027046324389697,-1.0718629776699238,-1.2914409824687871,-0.4131289632733358,-0.5386021088726858,-1.1299829498860725,-0.8163000858876965,-0.8790366586873719,-0.12619778509127108,-1.479650700867812,-0.533985508289159,-1.0358780906865597,-0.8836532592708988,-1.0045098042867222,-1.5064023866841223,-0.2516709306906212,0.15150019192373973,-1.197336123269274,-1.2868243818852598,-1.5691389594837977,-1.0404946912700865,-0.533985508289159,0.15611679250726687,-0.8836532592708988,-1.1299829498860725,0.6893776613045046,-1.322809268868624,-0.6908269402883465,-0.16218267207463552,-0.6954435408718735,-0.659458653888509,-0.6280903674886715,-0.09944609927496034,-0.2516709306906212,0.12474850610742923,-1.0091264048702488,-0.5386021088726858,0.43843137010580446,-0.601338681672361,-0.5699703952725235,-1.0091264048702488,-1.1032312640697617,-0.7849317994878593,-0.03209292589175854,0.2188533653069418,-0.9150215456707362,0.15610080579629723,-0.946389832070574,-1.4482824144679745,-0.533985508289159,-0.6327069680721986,-0.13081438567479792,0.40706308370596683,-0.5072338224728483,-0.7581801136715486,-0.8836532592708988,-0.9777581184704112,-0.9104049450872095,-1.197336123269274,0.21423676472341485,-1.354177555268462,0.2815899381066168,-0.47586553607301096,-1.6678604192668374,-1.2868243818852598,-0.0007246394919209758,-0.38176067687349813,0.2815899381066168,-0.2516709306906212,0.5952728021049921,0.2815899381066168,0.3129582245064544,-0.6327069680721986,-0.8522849728710612,0.18748507890710436,0.6847610607209776,0.18748507890710436,-0.8522849728710612,0.4965513423219525,0.026027046324389697,-1.4750341002842853,-0.8522849728710612,0.24560505112325243,-1.0091264048702488,-0.5386021088726858,-0.38176067687349813,-0.22491924487431064,-1.197336123269274,-0.15756607149110852,0.08876361912406475,-0.941773231487047,-0.16218267207463552,-1.0718629776699238,-1.1345995504695991,-0.47124893548948404,-1.354177555268462,-1.0091264048702488,-0.35039239047366066,-0.3144075034902962,-0.5699703952725235,-0.38176067687349813,-1.0091264048702488,-0.35039239047366066,-1.0358780906865597,-0.03209292589175854,-0.22030264429078364,0.2502216517067794,-0.7581801136715486,-0.5386021088726858,-0.533985508289159,-0.13081438567479792,-0.3190241040738232,-0.2876558176739856,-0.6280903674886715,-1.5691389594837977,0.21423676472341485,-1.322809268868624,-1.0718629776699238,-0.8476683722875343,0.5011679429054795,-0.8790366586873719,-0.5699703952725235,0.21423676472341485,-1.0404946912700865,0.6266410885048296,-0.43988064908964636,-0.5386021088726858,-0.2562875312741481,-0.6327069680721986,-0.5967220810888341,-0.408512362689809,-0.946389832070574,-1.0718629776699238,-0.47124893548948404,0.8775713929925606,-1.53777067308396,-0.9104049450872095,-0.3144075034902962,0.7521142341041799,-0.47124893548948404,-0.3144075034902962,-1.067246377086397,-0.408512362689809,-0.7849317994878593,-0.946389832070574,-1.1659678368694366,-0.12619778509127108,-0.3144075034902962,-0.5653537946889964,-0.8163000858876965,-0.9777581184704112,-0.5653537946889964,-1.322809268868624,-0.9731415178868846,-0.8476683722875343,-0.15756607149110852,-1.2287044096691118,-0.47124893548948404,2.105551163169751,0.9716762521920734,-1.3181926682850973,-0.47586553607301096,-0.6327069680721986,0.3710781967226025,-0.4444972496731732,4.517044644404201,1.2586074303741381,-0.005341240075447863,-0.5699703952725235,-0.6954435408718735,0.37569479730612954,-0.38176067687349813,-0.4444972496731732,-0.2516709306906212,-0.5967220810888341,-1.322809268868624,-1.2600726960689494,-0.35039239047366066,-0.8163000858876965,-0.7895484000713862,-0.5699703952725235,0.3129582245064544,0.6533927743211403,-1.1345995504695991,-0.5967220810888341,-0.8522849728710612,-1.354177555268462,-1.1345995504695991,1.2586074303741381,-1.6364921328669995,0.21423676472341485,-0.8209166864712236,-0.946389832070574,0.43843137010580446,-0.2562875312741481,-0.408512362689809,-0.6640752544720361,-1.2287044096691118,-0.7895484000713862,-0.43988064908964636,-1.918806710465538,-0.47586553607301096,-0.601338681672361,-0.47124893548948404,1.4154488623733257,-0.2562875312741481,-0.8790366586873719,-0.28303921709045865,-1.0404946912700865,-0.408512362689809,-0.946389832070574,-0.8522849728710612,-1.1345995504695991,-0.5072338224728483,-0.659458653888509,-0.5386021088726858,-0.946389832070574,-1.2287044096691118,-1.197336123269274,-0.47586553607301096,-0.16218267207463552,-0.28303921709045865,-1.2287044096691118,-0.16218267207463552,-0.2876558176739856,-1.8874384240656998,-0.47124893548948404,-0.601338681672361,0.05739533272422714,-0.7535635130880216,-0.09482949869143346,-1.2914409824687871,-1.1659678368694366,-1.2600726960689494,-0.09482949869143346,0.3129582245064544,4.203361780405825,-0.38176067687349813,-0.16218267207463552,-0.38176067687349813,-0.7895484000713862,-0.6640752544720361,-0.8209166864712236,-0.6908269402883465,-0.533985508289159,-0.06807781287512292,-1.1299829498860725,-0.9777581184704112,-0.7221952266881843,-0.5072338224728483,0.0933802197075917,-0.34577578989013363,-0.8163000858876965,-0.0007246394919209758,-0.19355095847447312,-0.5026172218893213,-1.0404946912700865,-0.533985508289159,-0.43988064908964636,0.15611679250726687,-0.3190241040738232,-1.4482824144679745,1.3794639753899611,-0.47586553607301096,-0.38176067687349813,-1.6318755322834726,-0.9777581184704112,-0.3190241040738232,0.5325362293053171,-1.6364921328669995,-0.9150215456707362,-0.8476683722875343,-0.13081438567479792,-0.408512362689809,-1.0358780906865597,-0.5653537946889964,-1.0091264048702488,-0.9777581184704112,-0.34577578989013363,-0.6280903674886715,0.12013190552390213,-0.3144075034902962,-1.0091264048702488,-0.5699703952725235,-0.16218267207463552,-0.5072338224728483,-0.09944609927496034,-1.0718629776699238,-1.322809268868624,-0.9150215456707362,-0.7535635130880216,0.3443265109062919,-0.5072338224728483,-1.0718629776699238,-0.22030264429078364,-1.3855458416682995,-1.1345995504695991,-0.6640752544720361,-0.0007246394919209758,-0.8790366586873719,-0.2516709306906212,-0.7581801136715486,-0.2516709306906212,-1.197336123269274,1.603658580772351,1.0076611391754378,-0.28303921709045865,-0.8836532592708988,-0.6280903674886715,-0.7221952266881843,-1.1659678368694366,0.18286847832357747,-0.35039239047366066,-0.7268118272717112,-0.5026172218893213,-0.6954435408718735,-0.4444972496731732,-0.2562875312741481,-1.4122975274846097,-1.0404946912700865,-0.7535635130880216,-0.38176067687349813,-0.3190241040738232,-0.6640752544720361,-0.28303921709045865,-0.7895484000713862,0.3710781967226025,-0.28303921709045865,-0.5072338224728483,-0.8836532592708988,-0.47124893548948404,-0.7268118272717112,-0.659458653888509,-0.22030264429078364,-0.6327069680721986,-1.0718629776699238,-0.2562875312741481,-0.8790366586873719,-1.0718629776699238,-0.3144075034902962,0.15611679250726687,-1.3855458416682995,0.3129582245064544,-0.9104049450872095,-0.4131289632733358,1.603658580772351,-0.47586553607301096,-1.1032312640697617,0.43843137010580446,-1.3181926682850973,-1.0986146634862348,-0.7581801136715486,-0.15756607149110852,4.6111495036037145,-0.408512362689809,-0.19355095847447312,-1.197336123269274,-1.0718629776699238,-1.2600726960689494,-1.197336123269274,-0.946389832070574,-0.47586553607301096,-0.22491924487431064,-0.7221952266881843,0.2815899381066168,0.12474850610742923,-0.0007246394919209758,-1.0718629776699238,-0.47124893548948404,0.05739533272422714,-1.5110189872676492,-0.601338681672361,0.15150019192373973,-1.0045098042867222,-0.2562875312741481,-0.8522849728710612,-0.8790366586873719,0.3129582245064544,-0.09482949869143346,0.6533927743211403,0.658009374904667,-0.601338681672361,-0.7535635130880216,0.658009374904667,-0.38176067687349813,-0.8476683722875343,-0.6640752544720361,-0.38176067687349813,-0.09944609927496034,-0.5386021088726858,-0.5386021088726858,-0.946389832070574,-0.6280903674886715,-1.4436658138844476,1.3527122895736508,-0.7221952266881843,1.599041980188824,-0.43988064908964636,-1.2914409824687871,-0.16218267207463552,-0.7535635130880216,-0.6640752544720361,-0.43988064908964636,-0.5072338224728483,-0.7895484000713862,-0.6327069680721986,-0.601338681672361,-1.0986146634862348,-0.7581801136715486,0.9762928527756004,-0.7849317994878593,-1.416914128068137,-1.3181926682850973,0.030643646907916627,-1.322809268868624,-0.5699703952725235,-0.5699703952725235,1.7605000127715387,-1.5423872736674873,-1.950174996865375,-1.1659678368694366,-0.5653537946889964,-0.5653537946889964,-0.601338681672361,-1.0091264048702488,-1.2287044096691118,-0.8836532592708988,-0.38176067687349813,0.37569479730612954,-0.2516709306906212,1.2539908297906113,1.1912542569909361,-0.659458653888509,-0.533985508289159,-1.1345995504695991,-1.0091264048702488,-0.8522849728710612,-0.5699703952725235,-0.5967220810888341,-0.06346121229159599,1.7245151257881746,-0.4131289632733358,-0.9150215456707362,-0.946389832070574,1.1017659983749504,-1.322809268868624,-1.918806710465538,-1.1345995504695991,-1.0986146634862348,0.6893776613045046,-0.3771440762899712,-0.8836532592708988,-0.5653537946889964,1.5095537215728383,-1.2600726960689494,-0.7581801136715486,0.24560505112325243,-0.43988064908964636,1.6350268671721886,-0.28303921709045865,-0.12619778509127108,-0.6327069680721986,-0.15756607149110852,-1.2914409824687871,-0.9731415178868846,-0.5653537946889964,-0.38176067687349813,-0.5967220810888341,-0.5967220810888341,-0.35039239047366066,-0.6908269402883465,1.321344003173813,-1.1032312640697617,-0.9150215456707362,-0.5967220810888341,-0.5026172218893213,-0.2562875312741481,-0.8163000858876965,-0.7895484000713862,-0.7535635130880216,-0.6954435408718735,-0.8209166864712236,-0.6908269402883465,1.2899757167739754,1.8232365855712132,-1.4122975274846097,-0.7535635130880216,0.6220244879213029,1.6931468393883364,-0.2876558176739856,1.3480956889901239,0.9762928527756004,-0.2157020304182259,-0.6908269402883465,-0.5386021088726858,-0.7221952266881843,-1.2914409824687871,-1.0718629776699238,-1.197336123269274,0.9403079657922359,4.391571498804851,4.485676358004364,1.2539908297906113,0.12474850610742923,-0.6327069680721986,-1.2600726960689494,0.9762928527756004,2.006829703386712,-0.43988064908964636,-1.0718629776699238,-0.8209166864712236,-0.7849317994878593,2.0741828767699135,-0.9150215456707362,-0.8836532592708988,-0.5653537946889964,-1.6005072458836354,1.1645025711746255,1.5363054073891484,-0.38176067687349813,1.0703977119751131,-1.067246377086397,-0.659458653888509,-0.9150215456707362,-0.533985508289159,-0.6640752544720361,-1.1345995504695991,1.195870857574463,1.4468171487731634,1.661778552988499,1.2899757167739754,0.12474850610742923,4.920215767018563,4.548412930804039,-0.8209166864712236,4.732006048619537,-0.06346121229159599,1.4108322617897986,-1.5064023866841223,1.195870857574463,1.7605000127715387,0.8775713929925606,1.0703977119751131,2.0428145903700763,1.6977634399718637,1.2272391439743007,1.5409220079726758,1.6304102665886617,1.5722902943725134,0.8508197071762501,1.1645025711746255,1.6931468393883364,1.6931468393883364,1.791868299171376,-0.8209166864712236,1.0030445385919107,0.15611679250726687,1.034412824991748,0.4697996565056421,1.034412824991748,1.3167274025902864,0.5011519561945105,-0.7895484000713862,-0.6954435408718735,1.5095537215728383,1.0076611391754378,0.6893616745935356,1.9127248441871991,1.4468171487731634,-0.9150215456707362,-1.2287044096691118,-0.7581801136715486,-1.0091264048702488,0.40706308370596683,-0.3771440762899712,-1.1345995504695991,0.18286847832357747,0.4651830559221152,-0.2516709306906212,-1.2287044096691118,-0.28303921709045865,-0.6280903674886715,-0.47124893548948404,-0.5026172218893213,-0.659458653888509,-0.2516709306906212,0.15150019192373973,-0.8836532592708988,-0.3144075034902962,0.08876361912406475,-0.8522849728710612,-0.659458653888509,-0.6280903674886715,-1.1659678368694366,-0.47124893548948404,-0.7535635130880216,-1.1032312640697617,-0.22030264429078364,-0.8476683722875343,-1.322809268868624,-1.0718629776699238,-0.6954435408718735,-0.7849317994878593,0.030643646907916627,-1.197336123269274,-0.9150215456707362,-1.0045098042867222,-0.09944609927496034,0.030643646907916627,-1.0718629776699238,0.2815899381066168,-0.5386021088726858,-0.0007246394919209758,-1.322809268868624,-0.9104049450872095,-0.5072338224728483,-1.416914128068137,0.12013190552390213,0.18748507890710436,-1.8247018512660251,0.18286847832357747,-0.9150215456707362,-1.0986146634862348,-1.0718629776699238,-1.8874384240656998,-1.354177555268462,-1.197336123269274,-0.6908269402883465,0.12474850610742923,4.862095794802414,-0.7581801136715486,-1.2554560954854226,-0.06807781287512292,-1.1659678368694366,-0.13081438567479792,0.3710781967226025,-0.5653537946889964,-0.5072338224728483,-0.601338681672361,0.9762928527756004,-1.1032312640697617,-0.3144075034902962,-0.22030264429078364,-0.38176067687349813,-1.2554560954854226,-0.2516709306906212,-0.8836532592708988,-0.6640752544720361,1.4468171487731634,-0.2516709306906212,-0.8790366586873719,-0.6327069680721986,-0.5386021088726858,-1.322809268868624,-0.5967220810888341,-1.950174996865375,-0.2562875312741481,-1.1659678368694366,-0.6327069680721986,0.2188533653069418,-0.6954435408718735,-0.601338681672361,-0.13081438567479792,-0.43988064908964636,0.12474850610742923,-0.47586553607301096,-0.6640752544720361,-0.16218267207463552,-1.8247018512660251,-0.2516709306906212,-0.34577578989013363,-1.1299829498860725,-1.6632438186833105,-0.601338681672361,0.3710781967226025,-1.1345995504695991,-0.28303921709045865,-0.659458653888509,-0.5072338224728483,-0.06807781287512292,-0.9150215456707362,-0.38176067687349813,-0.5386021088726858,-0.8476683722875343,-0.6954435408718735,1.975461416986874,1.1912542569909361,1.4108322617897986,-0.601338681672361,-1.4482824144679745,-0.9150215456707362,-0.6954435408718735,-0.3144075034902962,-1.2287044096691118,1.1912542569909361,-0.5072338224728483,-0.6954435408718735,-0.9104049450872095,-0.601338681672361,-1.1345995504695991,-1.0091264048702488,-1.1032312640697617,-0.005341240075447863,0.37569479730612954,-0.8209166864712236,-0.13081438567479792,-0.7535635130880216,-0.5653537946889964,-0.9150215456707362,-0.7581801136715486,-0.7581801136715486,-0.5967220810888341,-1.1032312640697617,-0.6280903674886715,-1.6005072458836354,-1.1927195226857472,-1.4482824144679745,-1.0718629776699238,-0.2562875312741481,-1.4482824144679745,-0.7849317994878593,-0.3771440762899712,-0.9104049450872095,-1.4436658138844476,-1.0718629776699238,-0.13081438567479792,-0.6327069680721986,-0.7895484000713862,-0.8209166864712236,-0.35039239047366066,-0.8476683722875343,-1.1659678368694366,-0.18893435789094618,1.0703977119751131,0.3443265109062919,-0.7221952266881843,-0.5699703952725235,-0.03670952647528532,-0.8522849728710612,0.3443265109062919,-1.3181926682850973,-0.28303921709045865,-0.946389832070574,0.062011933307754064,-0.7581801136715486,-0.6280903674886715,-0.946389832070574,-1.53777067308396,-0.6640752544720361,-0.6640752544720361,-0.659458653888509,-0.533985508289159,0.24560505112325243,0.21423676472341485,-0.7268118272717112,-0.35039239047366066,-0.3190241040738232,0.08876361912406475,-0.19355095847447312,-0.47586553607301096,0.3443265109062919,-0.946389832070574,-1.5691389594837977,0.18748507890710436,-0.7268118272717112,-0.005341240075447863,-0.06807781287512292,-1.2287044096691118,-1.1345995504695991,-1.0091264048702488,-0.941773231487047,-0.0007246394919209758,-1.0358780906865597,-0.2516709306906212,-0.6327069680721986,0.15611679250726687,-0.5026172218893213,-0.5653537946889964,-1.197336123269274,0.40706308370596683,-0.9150215456707362,-0.601338681672361,-0.7268118272717112,-0.7581801136715486,-1.354177555268462,-1.1032312640697617,-1.3855458416682995,-1.0091264048702488,-1.1659678368694366,-0.8476683722875343,-0.6280903674886715,-0.5026172218893213,-0.601338681672361,-0.946389832070574,0.5011679429054795,-0.4131289632733358,-0.7581801136715486,-0.16218267207463552,-0.2516709306906212,-0.5699703952725235,-0.6327069680721986,-0.5072338224728483,0.12474850610742923,-0.7581801136715486,-0.5026172218893213,-0.533985508289159,0.026027046324389697,-0.18893435789094618,-0.5653537946889964,-0.8163000858876965,-0.6280903674886715,-0.7221952266881843,-0.5386021088726858,-0.2876558176739856,-0.601338681672361,-0.2562875312741481,-0.8790366586873719,-1.16135123628591,-0.9104049450872095,-0.43988064908964636,-0.2516709306906212,-1.5691389594837977,-1.2287044096691118,-0.6327069680721986,-0.8476683722875343,-0.43988064908964636,-0.2516709306906212,0.0933802197075917,-0.3771440762899712,-0.6640752544720361,-1.067246377086397,-0.5072338224728483,1.8232365855712132,-0.5386021088726858,-0.6954435408718735,-1.416914128068137,-0.7268118272717112,5.144410372400952,-1.0718629776699238,0.030643646907916627,1.3527122895736508,-0.6327069680721986,-0.4131289632733358,0.12474850610742923,-0.408512362689809,0.2188533653069418,-0.6640752544720361,-0.4131289632733358,-0.7581801136715486,-0.38176067687349813,-0.6327069680721986,-1.197336123269274,-0.8476683722875343,-0.22491924487431064,-1.0986146634862348,-0.43988064908964636,-0.7535635130880216,-0.8522849728710612,-0.946389832070574,-1.2600726960689494,-0.0007246394919209758,-0.8790366586873719,-0.3771440762899712,0.2502216517067794,-1.0718629776699238,-0.2876558176739856,-0.19355095847447312,-0.533985508289159,-0.9150215456707362,-0.7268118272717112,-0.5026172218893213,-1.0045098042867222,-1.197336123269274,1.1912542569909361,-1.067246377086397,-0.408512362689809,1.0076611391754378,-1.0045098042867222,0.3129582245064544,-0.6640752544720361,-1.0404946912700865,-0.6908269402883465,-0.6908269402883465,-0.8209166864712236,-0.19355095847447312,-0.9731415178868846,-0.7849317994878593,-1.1345995504695991,-1.5691389594837977,1.7291317263717008,-1.8874384240656998,1.6663951535720258,-0.28303921709045865,1.6663951535720258,2.0741828767699135,1.2899757167739754,-1.1659678368694366,0.3129422377954852,0.9716762521920734,-0.16218267207463552,-0.3771440762899712,1.9487097311705637,-0.9731415178868846,-0.03670952647528532,-0.38176067687349813,1.2272391439743007,0.15611679250726687,-0.15756607149110852,-0.09482949869143346,-0.3144075034902962,0.9449245663757629,2.504873700942042,0.0933802197075917,0.0933802197075917,-1.0358780906865597,-0.7849317994878593,-0.38176067687349813,-0.19355095847447312,-0.9777581184704112,1.854604871971051,-0.8209166864712236,-1.0718629776699238,1.791868299171376,-0.5653537946889964,2.6074437455671515,0.7253465615769,1.4422005481896365,4.637901189420025,4.485676358004364,4.5751646166203495,1.6350268671721886,5.139793771817425,1.791868299171376,0.6939782751770625,1.2586074303741381,0.9135562799759253,1.9173414447707258,1.7291317263717008,1.6663951535720258,5.018937226801603,1.2226225433907736,1.3167274025902864,1.975461416986874,1.3480956889901239,1.9487097311705637,1.3480956889901239,4.292850039021812,-1.197336123269274,4.391571498804851,2.4192340271681263,-0.5967220810888341,1.6663951535720258,4.104640320622787,2.1950394217857365,0.43843137010580446,-0.13081438567479792,-0.659458653888509,-0.8522849728710612,-1.2914409824687871,-1.2914409824687871,-0.34577578989013363,1.1645025711746255,-1.0718629776699238,-0.8209166864712236,-1.0404946912700865,0.5325362293053171,-0.4444972496731732,-0.47586553607301096,-0.5967220810888341,-0.9104049450872095,-0.6327069680721986,-0.7581801136715486,-1.1345995504695991,-0.7581801136715486,-0.6280903674886715,-1.5064023866841223,-0.15756607149110852,-0.8209166864712236,-0.9777581184704112,-0.946389832070574,-0.5386021088726858,0.062011933307754064,-0.5967220810888341,0.24560505112325243,-0.03209292589175854,0.7521142341041799,-0.7535635130880216,-0.43988064908964636,-1.1345995504695991,-0.601338681672361,-0.03209292589175854,-0.7535635130880216,-0.9104049450872095,0.2502216517067794,-0.6280903674886715,0.5325362293053171,-1.1927195226857472,-0.3144075034902962,-1.1659678368694366,-0.0007246394919209758,-0.7535635130880216,-0.2562875312741481,-0.408512362689809,-0.0007246394919209758,-0.941773231487047,-0.005341240075447863,-0.06346121229159599,-0.09482949869143346,1.9440931305870368,-1.918806710465538,-0.8790366586873719,0.21423676472341485,-0.03670952647528532,-0.601338681672361,-0.09944609927496034,-0.8522849728710612,-0.2562875312741481,-0.47124893548948404,0.08876361912406475,-0.18893435789094618,-0.6280903674886715,-1.416914128068137,-0.12619778509127108,-1.3855458416682995,-0.8522849728710612,0.05739533272422714,-0.7221952266881843,-0.43988064908964636,-1.8874384240656998,-0.35039239047366066,0.12474850610742923,-1.2600726960689494,-0.659458653888509,-0.03209292589175854,-0.35039239047366066,-1.2287044096691118,-0.8836532592708988,-0.7268118272717112,-1.1345995504695991,-1.950174996865375,-1.5110189872676492,-0.408512362689809,0.43381476952227754,-0.43988064908964636,-1.1299829498860725,-1.1345995504695991,-0.9777581184704112,-0.5386021088726858,0.27697333752308984,-1.197336123269274,-1.1345995504695991,-1.354177555268462,-0.5699703952725235,-0.3144075034902962,-0.3771440762899712,-1.53777067308396,-1.197336123269274,-0.9731415178868846,-0.946389832070574,-0.533985508289159,-1.5737555600673248,0.4697996565056421,-0.601338681672361,-0.09482949869143346,-0.5653537946889964,0.08876361912406475,-1.5423872736674873,-0.9104049450872095,-0.5072338224728483,-0.6280903674886715,-1.0045098042867222,-0.35039239047366066,-0.3144075034902962,1.2853591161904485,-0.35039239047366066,-1.197336123269274,0.43843137010580446,4.543796330220513,4.736622649203063,-0.2876558176739856,2.0114463039702386,-0.9104049450872095,-1.3855458416682995,-0.7581801136715486,-1.5423872736674873,-1.197336123269274,-0.2562875312741481,-0.7895484000713862,-0.6640752544720361,0.0933802197075917,-0.38176067687349813,0.12474850610742923,-0.5653537946889964,-1.197336123269274,-0.8163000858876965,-0.6640752544720361,-1.0718629776699238,-0.6327069680721986,0.2188533653069418,-0.6280903674886715,-0.2876558176739856,-0.7581801136715486,-1.0718629776699238,-0.22491924487431064,0.030643646907916627,-0.4444972496731732,1.473568834589474,-0.0007246394919209758,-0.9777581184704112,-0.06346121229159599,-1.1345995504695991,-0.946389832070574,0.6266410885048296,-0.28303921709045865,-0.18893435789094618,0.2188533653069418,0.12474850610742923,-1.0091264048702488,-0.8522849728710612,-1.0045098042867222,0.5279196287217901,-0.601338681672361,-0.8163000858876965,-0.8522849728710612,0.15611679250726687,0.15150019192373973,-0.533985508289159,-1.0091264048702488,-1.354177555268462,-0.533985508289159,-0.941773231487047,-0.7268118272717112,-0.9731415178868846,-0.005341240075447863,1.3794639753899611,-1.0091264048702488,-0.19355095847447312,-0.2562875312741481,0.15611679250726687,-0.8522849728710612,-0.2876558176739856,0.2502216517067794,-0.6327069680721986,-0.28303921709045865,-0.5026172218893213,-0.18893435789094618,-0.7535635130880216,-0.9104049450872095,0.810234206320328,-1.6318755322834726,-0.5072338224728483,-1.2287044096691118,-0.8836532592708988,0.5325362293053171,0.43843137010580446],\"xaxis\":\"x\",\"y\":[-0.9428191641847936,-1.3261930995575095,-1.0509502741617065,0.734960340191315,-0.903498760556814,1.0495235692150853,0.7546205420053002,0.7447904410983075,1.000373064680121,0.7054700374703363,0.7447904410983075,0.9610526610521496,-1.1590813841386276,0.8430914501682356,0.9315623583311712,0.7447904410983075,0.9610526610521496,-0.9526492650917778,0.7841108447262788,0.8037710465402645,1.2854459909829132,1.0251740346928175,-0.9624793659987706,0.9217322574241784,-1.119760980510656,0.7644506429122933,1.0102031655871138,0.7841108447262788,0.8922419547031999,-0.7902268823811817,1.1773148810059921,-1.060780375068699,0.8037710465402645,0.8627516519822216,1.0888439728430563,0.8430914501682356,-0.8051977514868852,0.7644506429122933,-0.8936686596498211,1.231606153739667,1.005513832878832,-0.9278482950790812,0.769591411111004,1.0200332664941065,-1.3065328977435198,-1.104790111404952,0.7054700374703363,-0.8295472860091532,-0.9428191641847852,-1.3753436040924698,1.064494438320789,-0.8983579923581029,0.8234312483542501,-0.7068967424169572,-1.2129212213818734,0.990542963773128,-1.178741585952613,0.9413924592381641,0.8627516519822216,0.7644506429122933,1.24143625464666,0.8580623192739397,-1.0064891023350238,-1.1689114850456204,0.7546205420053002,-1.1146202123119449,-1.0261493041490093,1.1379944773780206,-0.9769987996140452,-0.9231589623707996,1.0298633674010995,-1.188571686859606,0.7742807438192859,-1.1295910814176489,-0.7509064787532106,-0.903498760556814,-0.9278482950790812,0.838402117459954,-0.8885278914511099,-1.2129212213818734,-0.8786977905441171,0.7742807438192859,-1.0902706777896776,-1.2227513222888662,0.8529215510752285,-1.0312900723477205,1.0691837710290708,-0.8295472860091532,-1.1441105150329234,-0.7705666805671961,1.1431352455767316,1.182455649204703,-0.8543482560218495,-0.8740084578358353,1.064494438320789,1.0350041355998105,-1.1441105150329234,1.0939847410417674,0.8430914501682356,-0.9769987996140452,1.054664337413796,-1.1590813841386276,1.0593536701220778,-1.1539406159399161,0.9413924592381641,-1.1295910814176489,-0.9821395678127565,-1.0163192032420167,0.7153001383773291,1.0986740737500493,-0.4651288916072612,-0.9573385978000599,0.8922419547031999,0.8777225210879253,1.4485730345366665,1.123475043762746,0.8580623192739397,0.7597613102040113,0.6221398975061116,-1.0752998086839738,0.9760235301578535,-1.188571686859606,0.8627516519822216,1.1085041746570423,1.1038148419487603,-0.9671686987070527,-0.9671686987070527,1.300416860088617,-0.9769987996140452,-0.8393773869161456,0.7401011083900255,-0.8786977905441171,-1.1590813841386276,1.3200770619026028,-0.9966590014280309,-1.0261493041490093,0.9760235301578535,1.0448342365068033,1.2814613191177888,-0.1505656625834905,0.8234312483542501,-1.1984017877665984,-1.1099308796036633,0.8332613492612428,-1.2030911204748806,1.2217760528326744,-0.9428191641847852,-0.9475084968930669,-1.1394211823246418,-1.0706104759756918,-0.8983579923581029,-1.104790111404952,-0.1407355616764979,0.7742807438192859,-1.0312900723477205,0.9512225601451569,0.8627516519822216,1.123475043762746,-1.2227513222888662,0.8430914501682356,-0.8590375887301315,0.8529215510752285,0.8332613492612428,0.8529215510752285,0.9020720556101928,1.0200332664941065,0.8922419547031999,-0.7509064787532106,-0.9376783959860742,-0.22920646983943313,0.9315623583311712,-1.2620717259168375,0.7597613102040113,-0.9573385978000599,-0.26852687346740467,0.8332613492612428,-0.35699778163034,-0.5142793961422255,-1.0312900723477205,-0.9769987996140452,1.000373064680121,0.9268730256228895,-0.9919696687197491,0.7153001383773291,0.7742807438192859,-1.045809505962995,-1.286872695929534,-1.178741585952613,0.8037710465402645,0.7054700374703363,-0.8688676896371245,-1.0851299095909666,-0.834688054207864,0.9268730256228895,-1.119760980510656,1.3987178691585451,-1.0116298705337348,0.8136011474472573,0.6858098356563507,-1.1295910814176489,-1.1099308796036633,0.6811205029480688,0.9708827619591425,-0.8197171851021601,-0.8641783569288425,0.9512225601451569,1.000373064680121,1.0298633674010995,-0.2586967725604116,-1.124450313218938,-0.9966590014280309,-1.1394211823246418,1.6353449517695304,-1.178741585952613,0.7939409456332714,0.7742807438192859,-0.7803967814741888,-0.9231589623707996,0.9119021565171855,0.9020720556101928,0.990542963773128,0.7841108447262788,-1.0116298705337348,0.8136011474472573,-0.9376783959860742,-0.8641783569288425,-1.178741585952613,0.7939409456332714,0.9217322574241784,-0.9821395678127565,0.6661496338423649,1.5861944472345662,0.8430914501682356,0.8187419156459683,-0.2783569743743975,1.7631362635604373,0.7153001383773291,1.064494438320789,-1.0949600104979593,1.2264653855409562,-0.3471676807233473,1.7533061626534443,0.8529215510752285,-1.2377221913945704,1.0495235692150853,0.7251302392843219,0.8136011474472573,0.7841108447262788,0.7742807438192859,-1.1689114850456204,-1.4979941476846654,-1.2770425950225415,1.182455649204703,0.838402117459954,0.7447904410983075,-0.775707448765907,0.882411853796207,-0.7953676505798928,-1.2180619895805844,0.8037710465402645,-1.1394211823246418,0.9119021565171855,-1.1001007786966701,0.990542963773128,-1.2278920904875772,-1.2278920904875772,1.0102031655871138,1.2905867591816242,1.822116869002394,-0.8641783569288425,-1.3851737049994624,0.7939409456332714,0.8136011474472573,0.7349603401913148,0.8627516519822216,1.0691837710290708,0.9119021565171855,0.7251302392843219,0.8430914501682356,1.0102031655871138,-1.2180619895805844,1.1183342755640349,0.8529215510752285,-0.9133288614638064,0.9217322574241784,-0.9133288614638064,-0.3176773780023686,-0.8983579923581029,-0.9919696687197491,-1.001799769626742,0.9610526610521496,-1.1342804141259304,0.7742807438192859,1.2657857891689275,-1.1590813841386276,-1.119760980510656,0.656319532935372,0.7841108447262788,0.9020720556101928,1.2657857891689275,-1.0411201732547133,0.882411853796207,1.3149362937038915,1.167484780098999,-1.119760980510656,0.7841108447262788,0.8627516519822216,0.9708827619591425,1.2854459909829132,1.2166352846339632,0.7251302392843219,0.882411853796207,0.8430914501682356,0.7939409456332714,1.1085041746570423,1.2264653855409562,-1.119760980510656,-1.1689114850456204,0.9708827619591425,1.0691837710290708,0.8529215510752285,-1.1394211823246418,0.7251302392843219,0.7054700374703363,1.3247663946108843,-1.1590813841386276,0.9315623583311712,1.3640867982388556,-1.2424115241028515,-1.055639606869988,0.7499312092970185,-0.4356385888862828,0.9217322574241784,0.7447904410983075,-0.9133288614638064,1.167484780098999,-1.1590813841386276,-0.9133288614638064,0.7644506429122933,1.000373064680121,-1.188571686859606,-0.8936686596498211,0.9217322574241784,1.0200332664941065,-1.0804405768826846,0.9413924592381641,-0.7855375496728996,0.7401011083900255,-1.2278920904875772,-1.1099308796036633,0.8725817528892142,0.9956837319718391,-1.0654697077769806,0.7447904410983075,-0.2193763689324403,-1.1001007786966701,-0.932989063277792,1.1529653464837244,0.8332613492612428,1.005513832878832,0.9020720556101928,-0.8000569832881744,1.2512663555536527,-1.1984017877665984,1.0888439728430563,0.9315623583311712,0.8234312483542501,-0.35699778163034,0.8430914501682356,-1.1689114850456204,-0.9428191641847852,0.8430914501682356,-1.001799769626742,-1.0214599714407278,0.8627516519822216,0.9708827619591425,0.8037710465402645,-1.1146202123119449,-1.0116298705337348,1.0200332664941065,-0.7363870451379356,1.0396934683080923,0.8136011474472573,0.7349603401913148,0.6464894320283792,0.8430914501682356,0.8332613492612428,-1.1295910814176489,-0.8936686596498211,1.0691837710290708,1.812286768095401,0.9512225601451569,0.6909506038550616,0.7939409456332714,-1.3261930995575053,-1.1001007786966701,0.7546205420053002,1.0495235692150853,1.0102031655871138,-0.9769987996140452,-1.050950274161706,0.9315623583311712,-1.0163192032420167,0.8725817528892142,0.6169991293074005,-1.2475522923015627,-0.8248579533008711,0.8922419547031999,-1.0804405768826846,1.1478245782850134,-0.9919696687197491,0.656319532935372,-1.124450313218938,-0.44546868979327525,-1.0949600104979593,-1.2377221913945704,0.8529215510752285,1.0593536701220778,-0.2783569743743975,-1.47833394587068,0.8922419547031999,0.7841108447262788,-1.0411201732547133,0.9315623583311712,0.9760235301578535,0.882411853796207,0.8234312483542501,-1.0312900723477205,0.8430914501682356,-1.0411201732547133,0.7939409456332714,-0.8936686596498211,-1.0706104759756918,1.1183342755640349,-1.060780375068699,0.7447904410983075,0.7939409456332714,-0.834688054207864,-0.9231589623707996,1.0200332664941065,1.1281643764710279,-1.060780375068699,0.7546205420053002,0.7742807438192859,0.9563633283438678,-0.7214161760322317,-0.30784727709537585,-0.7953676505798928,0.9760235301578535,-0.8098870841951673,0.8973827229019109,-0.8983579923581029,-0.2586967725604116,-1.1932610195678874,1.329907162809595,0.6956399365633436,0.9512225601451569,-1.1001007786966701,-1.2278920904875772,-1.2180619895805844,-0.9966590014280309,0.882411853796207,-1.0214599714407278,0.8627516519822216,0.7251302392843219,-0.6675763387889859,1.2461255873549415,1.1281643764710279,-1.257382393208556,-0.9821395678127565,1.1085041746570423,0.6956399365633436,1.1281643764710279,0.7251302392843219,-0.26852687346740467,-1.0064891023350238,-1.2082318886735917,1.6844954563044943,0.8777225210879253,-0.8000569832881744,1.0593536701220778,-0.6329452678692963,0.9020720556101928,-0.986828900521038,0.7153001383773291,-1.1099308796036633,1.0298633674010995,-1.178741585952613,0.7546205420053002,1.0298633674010995,0.8430914501682356,-1.1001007786966701,-1.0156145423988594,-1.173600817753902,0.9217322574241784,-1.1394211823246418,1.1478245782850134,1.0790138719360638,0.7054700374703363,-1.1295910814176489,0.7349603401913148,-1.0706104759756918,0.7349603401913148,-0.7214161760322317,0.7153001383773291,0.7939409456332714,0.9512225601451569,0.9217322574241784,1.329907162809595,0.7939409456332714,1.1478245782850134,-1.0214599714407278,0.9315623583311712,0.7742807438192859,-1.0706104759756918,-0.8641783569288425,-0.9526492650917778,0.9610526610521496,-1.119760980510656,-0.8051977514868852,1.3247663946108843,0.9020720556101928,0.7841108447262788,-1.0312900723477205,-0.5889355315330435,-0.9919696687197491,-1.119760980510656,-0.9526492650917778,-1.2475522923015627,0.8430914501682356,-1.1689114850456204,0.5186981202374723,0.8234312483542501,-0.9475084968930669,1.0200332664941065,-0.8492074878231386,-0.9821395678127565,1.000373064680121,0.7939409456332714,-1.4441543104414194,-0.8445181551148572,-1.4441543104414194,0.9610526610521496,-1.2770425950225415,0.7892516129249899,0.72044090657604,1.074324539227782,-1.060780375068699,0.7349603401913148,0.9217322574241784,1.1183342755640349,-1.0163192032420167,-1.2180619895805844,-0.4552987907002683,-0.47495899251425383,-0.8885278914511099,0.7939409456332714,-1.0902706777896776,0.8529215510752285,0.9020720556101928,-1.0163192032420167,1.0298633674010995,-1.0902706777896776,0.8725817528892142,1.1085041746570423,0.9512225601451569,-1.1099308796036633,-1.060780375068699,0.9020720556101928,0.9119021565171855,-0.8051977514868852,1.0888439728430563,0.7742807438192859,1.5763643463275732,0.9413924592381641,-1.055639606869988,0.7546205420053002,0.9072128238089038,1.1183342755640349,0.8234312483542501,-1.178741585952613,0.7939409456332714,0.7153001383773291,0.7546205420053002,1.0396934683080923,-1.119760980510656,1.2068051837269702,-0.8983579923581029,-0.7462171460449283,1.0396934683080923,-0.5142793961422255,-1.355683402278484,0.8875526219949181,0.7546205420053002,1.0986740737500493,1.0593536701220778,1.000373064680121,-0.932989063277792,1.3640867982388556,-1.1001007786966701,1.1183342755640349,0.7447904410983075,0.8136011474472573,0.7939409456332714,-1.2278920904875772,1.0396934683080923,-1.2475522923015627,1.0102031655871138,0.7054700374703363,0.4990379184234868,1.0298633674010995,0.7644506429122933,-1.2325814231958592,0.9465332274368747,-0.8936686596498211,-1.1295910814176489,-1.060780375068699,-0.9821395678127565,-0.903498760556814,0.5776787256794295,1.0298633674010995,1.0102031655871138,-0.6919258733112537,-1.178741585952613,0.9661934292508608,-1.5078242485916582,0.8234312483542501,-0.7607365796602031,-0.7509064787532106,1.000373064680121,-1.4048339068134479,-1.1001007786966701,-1.0902706777896776,-0.9919696687197491,0.8529215510752285,1.0298633674010995,0.9807128628661352,0.7054700374703363,0.5186981202374723,1.0200332664941065,1.1478245782850134,1.0298633674010995,0.7251302392843219,0.9807128628661352,0.9512225601451569,-0.7068967424169572,-0.9723094669057636,0.9020720556101928,-1.2475522923015627,-0.8936686596498211,1.113644942855753,0.838402117459954,0.7939409456332714,-1.1001007786966701,-1.4638145122554052,0.8136011474472573,-1.188571686859606,-1.050950274161706,-1.5078242485916582,-0.8885278914511099,0.8136011474472573,-0.701755974218246,0.5336689893431763,-0.5241094970492179,0.9708827619591425,-1.3163629986505128,-0.8248579533008711,1.1379944773780206,1.1478245782850134,1.0396934683080923,1.064494438320789,-1.173600817753902,0.8627516519822216,-0.7607365796602031,-0.9376783959860742,-1.0804405768826846,0.8037710465402645,-1.1001007786966701,0.8725817528892142,1.5861944472345662,0.7939409456332714,0.8136011474472573,1.182455649204703,1.2657857891689275,-1.001799769626742,-1.0411201732547133,-0.6380860360680074,-0.6380860360680074,1.2166352846339632,-0.9671686987070527,0.6516302002270901,0.9119021565171855,0.990542963773128,-1.1099308796036633,-0.7560472469519215,-0.9966590014280309,0.8580623192739397,0.7841108447262788,-0.7705666805671961,1.0396934683080923,-1.2672124941155485,0.8627516519822216,-1.2475522923015627,0.72044090657604,-1.2227513222888662,1.3739168991458481,-1.2475522923015627,0.7251302392843219,0.882411853796207,-0.834688054207864,-0.71672684332395,-1.0312900723477205,-0.8543482560218495,0.7546205420053002,0.9217322574241784,0.9858536310648465,-1.1001007786966701,-1.124450313218938,0.8973827229019109,0.8234312483542501,1.0102031655871138,-0.9723094669057636,-1.178741585952613,-1.2082318886735917,-1.0902706777896776,-1.0706104759756918,-1.119760980510656,1.1379944773780206,-1.0706104759756918,-1.1099308796036633,-0.9624793659987706,-0.834688054207864,-1.1001007786966701,-1.1099308796036633,0.7990817138319827,1.005513832878832,1.7533061626534443,0.7939409456332714,-0.932989063277792,-0.40614828616530413,-0.4258084879792896,-0.9966590014280309,-0.8393773869161456,-0.7560472469519215,-1.3163629986505128,1.7631362635604373,-1.045809505962995,-1.257382393208556,-1.1689114850456204,0.882411853796207,1.000373064680121,0.8725817528892142,1.0102031655871138,-1.1099308796036633,1.1379944773780206,-0.6329452678692963,0.9217322574241784,-0.9919696687197491,-1.0804405768826846,1.0251740346928175,-1.001799769626742,0.9315623583311712,0.8725817528892142,-1.0804405768826846,0.9119021565171855,-1.104790111404952,0.8332613492612428,-1.1590813841386276,0.7742807438192859,0.7841108447262788,-0.8641783569288425,0.7546205420053002,-0.903498760556814,-0.8740084578358353,0.7644506429122933,1.0396934683080923,0.8430914501682356,-1.0116298705337348,0.9760235301578535,-0.5535997997701966,0.9858536310648465,-1.060780375068699,1.1478245782850134,-1.0312900723477205,-0.9671686987070527,-0.9180181941720884,-1.2227513222888662,-1.119760980510656,0.8037710465402645,-1.0706104759756918,0.8627516519822216,-1.1001007786966701,-1.2180619895805844,0.8922419547031999,0.8430914501682356,0.7153001383773291,-0.8983579923581029,0.9072128238089038,0.7447904410983075,-1.1834309186608951,-0.2783569743743975,-1.0064891023350238,0.7251302392843219,1.0593536701220778,1.2217760528326744,-1.0312900723477205,-1.0163192032420167,-1.1590813841386276,-1.1001007786966701,-1.1441105150329234,-1.0804405768826846,-0.7265569442309427,0.8627516519822216,-0.883838558742828,-0.8740084578358353,-0.883838558742828,0.9708827619591425,0.8430914501682356,-0.903498760556814,1.167484780098999,0.8529215510752285,-1.1001007786966701,-1.2672124941155485,-0.8197171851021601,0.8234312483542501,1.231606153739667,0.9170429247158964,-1.0411201732547133,0.8580623192739397,0.9610526610521496,-1.2278920904875772,-1.2377221913945704,-1.1099308796036633,-1.001799769626742,-0.9573385978000599,0.9268730256228895,0.8430914501682356,1.0396934683080923,0.9315623583311712,-0.903498760556814,0.7644506429122933,-0.9624793659987706,-1.060780375068699,0.8136011474472573,1.334596495517877,-0.775707448765907,-1.1689114850456204,0.548188422958451,1.0350041355998105,-1.3505426340797728,1.6550051535835162,-1.119760980510656,-0.9919696687197491,-1.2377221913945704,0.5776787256794295,0.7153001383773291,-1.1590813841386276,-0.9133288614638064,0.7349603401913148,-1.286872695929534,-1.1295910814176489,-1.001799769626742,-1.257382393208556,0.6169991293074005,-1.001799769626742,1.064494438320789,-1.045809505962995,0.538358322051458,-1.178741585952613,-0.9180181941720884,-1.0359794050560023,0.9465332274368747,0.7153001383773291,-1.3851737049994624,0.6661496338423649,0.8234312483542501,-0.8445181551148572,-1.1689114850456204,1.0200332664941065,-1.1099308796036633,-1.1146202123119449,1.0396934683080923,1.2512663555536527,1.6353449517695304,-0.9231589623707996,1.064494438320789,-1.2672124941155485,-1.1984017877665984,-1.2377221913945704,1.1576546791920062,0.9217322574241784,-0.4258084879792896,1.1529653464837244,1.2068051837269702,0.9512225601451569,0.7939409456332714,-1.188571686859606,-1.0804405768826846,1.7533061626534443,0.9020720556101928,1.0350041355998105,-1.060780375068699,1.4584031354436593,-1.1394211823246418,-1.4979941476846654,-0.8248579533008711,0.7251302392843219,0.6811205029480688,0.9708827619591425,-1.119760980510656,1.0888439728430563,0.882411853796207,0.9956837319718391,0.5678486247724365,-1.178741585952613,-0.8641783569288425,1.2610964564606457,-0.903498760556814,0.9020720556101928,0.9512225601451569,-0.8885278914511099,1.0200332664941065,-1.0706104759756918,-1.0214599714407278,1.3247663946108843,-1.2180619895805844,-1.001799769626742,0.9413924592381641,-1.2475522923015627,-1.2129212213818734,-0.8492074878231386,-0.7115860751252392,0.9367031265298821,-0.30784727709537585,-1.0359794050560023,-0.986828900521038,-1.0064891023350238,0.9807128628661352,0.6169991293074005,0.538358322051458,0.7742807438192859,1.113644942855753,-1.2817319277308232,1.1922857501116957,-0.8295472860091532,0.8136011474472573,1.2362954864479487,-0.8641783569288425,-0.9475084968930669,0.8627516519822216,-0.8590375887301315,1.1773148810059921,-1.257382393208556,-0.9966590014280309,-0.9769987996140452,-0.4651288916072612,0.8089118147389756,0.8332613492612428,-1.0214599714407278,1.167484780098999,0.8922419547031999,-0.9428191641847852,0.7841108447262788,0.5776787256794295,-0.32750747890936166,1.1627954473907174,1.3797623281877167,-0.986828900521038,-0.986828900521038,1.0691837710290708,-0.9573385978000599,0.6614603011340833,-1.0804405768826846,0.6169991293074005,-1.1001007786966701,-0.8641783569288425,-1.050950274161706,1.2854459909829132,-0.8248579533008711,1.1085041746570423,0.9610526610521496,0.7251302392843219,0.9610526610521496,-1.0706104759756918,-1.257382393208556,0.7054700374703363,1.015343933785825,0.8725817528892142,-1.0116298705337348,-1.2377221913945704,0.7644506429122933,0.7447904410983075,1.70415565811848,-1.1394211823246418,-0.2881870752813904,-1.178741585952613,-0.8492074878231386,-0.8641783569288425,-0.22920646983943313,-1.2770425950225415,-1.2475522923015627,-0.9428191641847852,-1.286872695929534,-1.0116298705337348,1.0495235692150853,-0.9671686987070527,-0.8393773869161456,-1.1146202123119449,0.9268730256228895,-0.9821395678127565,0.7794215120179969,-0.701755974218246,-0.1557064307822016,-0.9723094669057636,0.9610526610521496,1.5567041445135876,-1.0261493041490093,0.7401011083900255,-1.0851299095909666,1.7336459608394585,-1.104790111404952,-1.055639606869988,1.064494438320789,-1.0851299095909666,-0.4356385888862828,-0.6912212124680958,-1.0902706777896776,-1.178741585952613,-1.0411201732547133,-0.8936686596498211,1.1281643764710279,1.2166352846339632,0.9610526610521496,-0.9919696687197491,-0.9133288614638064,-0.9133288614638064,0.8430914501682356,0.8627516519822216,0.538358322051458,0.7546205420053002,0.8136011474472573,-0.9428191641847852,-1.2672124941155485,0.7841108447262788,-1.0902706777896776,-0.932989063277792,1.0350041355998105,-0.6125804052121533,0.8037710465402645,1.054664337413796,0.7106108056690471,-0.9573385978000599,-1.2278920904875772,0.8187419156459683,-0.9919696687197491,-1.1834309186608951,-1.1342804141259304,0.8430914501682356,-1.173600817753902,-0.4651288916072612,0.7251302392843219,-1.0359794050560023,-1.1590813841386276,-0.9919696687197491,-0.20954626802544774,1.2512663555536527,0.7447904410983075,-1.2475522923015627,0.8627516519822216,-1.060780375068699,0.9217322574241784,0.6661496338423649,0.8725817528892142,-1.1492512832316346,-0.8740084578358353,1.1183342755640349,0.8922419547031999,-1.2377221913945704,-0.9821395678127565,-1.2620717259168375,-1.2030911204748806,-0.2586967725604116,0.9315623583311712,-0.834688054207864,1.0102031655871138,0.8430914501682356,-1.1099308796036633,-0.9821395678127565,0.9807128628661352,-1.1001007786966701,-1.0214599714407278,1.0593536701220778,-1.0706104759756918,-1.2278920904875772,-1.0804405768826846,0.8777225210879253,-0.8786977905441171,0.7401011083900255,-0.7560472469519215,0.6858098356563507,0.8922419547031999,-1.0706104759756918,-1.119760980510656,0.7841108447262788,0.8875526219949181,0.9807128628661352,0.7841108447262788,0.9217322574241784,0.7644506429122933,-1.060780375068699,-0.9376783959860742,-1.060780375068699,-1.1441105150329234,-1.0261493041490093,-1.1689114850456204,1.0790138719360638,-1.0214599714407278,0.9512225601451569,0.7644506429122933,0.7401011083900255,0.9072128238089038,-0.17022586439747606,-1.3753436040924698,0.9020720556101928,1.1871449819129845,-1.188571686859606,-1.1001007786966701,-0.9723094669057636,-0.7363870451379356,1.1773148810059921,1.0200332664941065,-1.1590813841386276,-1.0163192032420167,-1.2620717259168375,0.8187419156459683,1.0841546401347746,-1.0214599714407278,-1.0902706777896776,1.1333051446697386,0.7939409456332714,1.0298633674010995,-1.0654697077769806,0.7939409456332714,-1.119760980510656,-0.8393773869161456,1.1038148419487603,-0.903498760556814,-0.8590375887301315,-1.0359794050560023,-1.0706104759756918,-1.1295910814176489,-0.1505656625834905,-1.2180619895805844,-1.1394211823246418,0.9119021565171855,0.9610526610521496,-1.1689114850456204,0.9512225601451569,0.7742807438192859,0.8529215510752285,-1.050950274161706,-0.9671686987070527,-0.9624793659987706,-0.9133288614638064,0.8922419547031999,0.9413924592381641,-1.001799769626742,-1.286872695929534,-1.1984017877665984,0.8529215510752285,-0.9919696687197491,-0.8786977905441171,-0.9966590014280309,-0.9376783959860742,1.0350041355998105,0.9217322574241784,-0.8688676896371245,1.1922857501116957,-0.7855375496728996,1.1333051446697386,0.5631592920641548,-1.2770425950225415,0.8136011474472573,-1.257382393208556,-1.1492512832316346,-0.9428191641847852,-1.1001007786966701,0.7054700374703363,0.9217322574241784,1.0396934683080923,1.182455649204703,-1.1099308796036633,0.8136011474472573,-0.9769987996140452,-0.2881870752813904,0.9807128628661352,-1.4638145122554052,1.123475043762746,0.8973827229019109,1.2559556882619345,0.9661934292508608,0.7597613102040113,-0.30784727709537585,1.064494438320789,-0.598765632440036,0.8725817528892142,1.1431352455767316,-1.001799769626742,-0.8051977514868852,-1.286872695929534,-1.3065328977435198,0.9020720556101928,-1.2082318886735917,0.7841108447262788,-1.060780375068699,0.882411853796207,-1.1590813841386276,-1.1099308796036633,-1.257382393208556,0.7644506429122933,-0.71672684332395,-0.9671686987070527,0.7939409456332714,1.0888439728430563,1.6746653553975017,1.054664337413796,-1.178741585952613,-0.8936686596498211,1.2166352846339632,-1.0706104759756918,-1.1590813841386276,0.8627516519822216,0.882411853796207,-1.0902706777896776,0.7054700374703363,1.0350041355998105,1.000373064680121,0.8725817528892142,0.8234312483542501,1.015343933785825,0.6614603011340833,-0.8786977905441171,1.5567041445135876,0.7644506429122933,0.9020720556101928,0.8922419547031999,1.2461255873549415,1.6550051535835162,-1.1932610195678874,-0.7363870451379356,-0.8936686596498211,1.0396934683080923,-1.2475522923015627,-1.1394211823246418,0.8973827229019109,0.8430914501682356,-1.0902706777896776,1.0495235692150853,-1.0312900723477205,-0.8641783569288425,-1.0902706777896776,0.9119021565171855,0.9020720556101928,0.9708827619591425,0.9413924592381641,-0.9919696687197491,-0.8051977514868852,-1.0359794050560023,-0.9821395678127565,-0.3176773780023686,1.4485730345366665,1.3102469609956096,-0.9475084968930669,1.015343933785825,-0.672265671497268,-0.8936686596498211,-0.903498760556814,-0.4356385888862828,-0.7214161760322317,-0.3864880843513186,1.2657857891689275,-0.9081880932650956,-0.7115860751252392,1.1333051446697386,1.5861944472345662,-1.0312900723477205,1.0986740737500493,-1.001799769626742,0.9217322574241784,1.6451750526765228,0.6956399365633436,0.9563633283438678,0.7302710074830328,-1.257382393208556,0.7447904410983075,0.9807128628661352,-0.8936686596498211,-0.3471676807233473,0.7841108447262788,-0.9671686987070527,-0.7607365796602031,-1.1492512832316346,1.005513832878832,0.7742807438192859,0.8136011474472573,1.167484780098999,0.8529215510752285,0.8037710465402645,-1.0902706777896776,0.8922419547031999,1.70415565811848,0.8430914501682356,-0.903498760556814,0.656319532935372,0.538358322051458,-0.9081880932650956,0.8529215510752285,1.182455649204703,-0.9526492650917778,-1.124450313218938,1.5763643463275732,-1.0359794050560023,0.8875526219949181,1.2512663555536527,0.7007807047620543,0.9708827619591425,-1.0654697077769806,-1.045809505962995,0.7644506429122933,-1.0411201732547133,-1.178741585952613,-1.1394211823246418,0.9610526610521496,-0.932989063277792,-1.0706104759756918,1.0593536701220778,0.7546205420053002,-0.7560472469519215,-1.2770425950225415,0.7742807438192859,0.7546205420053002,-1.178741585952613,-1.1984017877665984,0.848232218366947,1.0200332664941065,0.8234312483542501,0.6956399365633436,0.8037710465402645,0.9661934292508608,0.9217322574241784,0.7892516129249899,0.9413924592381641,0.7644506429122933,-1.2475522923015627,0.7841108447262788,-1.4539844113484122,-1.0902706777896776,-1.2082318886735917,-0.9769987996140452,-0.9278482950790812,-0.883838558742828,-1.119760980510656,-1.1590813841386276,-1.0804405768826846,-0.8492074878231386,1.615684749955545,0.8136011474472573,0.7990817138319827,-0.20954626802544774,1.5272138417926093,-0.8197171851021601,-1.0261493041490093,-0.8885278914511099,-0.8393773869161456,-0.19971616711845463,-1.2030911204748806,-0.8197171851021601,1.339737263716588,-0.6231151669623036,-0.2586967725604116,-1.2227513222888662,1.7631362635604373,-0.9133288614638064,0.9512225601451569,-1.001799769626742,-1.1001007786966701,-0.8740084578358353,1.1969750828199774,1.0593536701220778,-1.3065328977435198,-0.9231589623707996,-1.0804405768826846,-1.1984017877665984,-0.9919696687197491,0.8627516519822216,0.9315623583311712,0.8529215510752285,-1.001799769626742,1.2461255873549415,-1.1099308796036633,-0.834688054207864,-1.1099308796036633,1.1085041746570423,-0.9428191641847852,-1.1394211823246418,1.1871449819129845,0.7447904410983075,-1.188571686859606,-1.178741585952613,-0.8543482560218495,-1.060780375068699,-0.48478909342124676,0.7546205420053002,-1.0064891023350238,1.005513832878832,-1.1984017877665984,0.8285720165529613,-1.0312900723477205,0.9170429247158964,-1.0804405768826846,0.838402117459954,1.3895924290947095,0.9956837319718391,0.7546205420053002,-0.8983579923581029,-1.001799769626742,1.2068051837269702,-1.1342804141259304,-0.9231589623707996,0.7054700374703363,0.9020720556101928,0.7546205420053002,0.8922419547031999,1.1773148810059921,1.1085041746570423,-1.2377221913945704,-1.0902706777896776,1.1379944773780206,0.8529215510752285,0.8725817528892142,1.0102031655871138,0.882411853796207,0.8430914501682356,-1.257382393208556,-0.9526492650917778,-1.2377221913945704,0.8627516519822216,-1.0116298705337348,1.4328975045878054,0.9708827619591425,-0.8445181551148572,0.8922419547031999,0.9119021565171855,1.1773148810059921,-1.2278920904875772,0.607169028400408,-0.8150278523938782,-1.119760980510656,-1.0214599714407278,0.9708827619591425,0.8037710465402645,-0.8590375887301315,0.9315623583311712,0.9956837319718391,-0.8936686596498211,-0.9821395678127565,-1.0752998086839738,0.9315623583311712,1.7729663644674298,-0.9919696687197491,-0.8150278523938782,0.7939409456332714,1.2264653855409562,-0.9133288614638064,-1.050950274161706,-1.060780375068699,-1.1295910814176489,0.7153001383773291,0.9315623583311712,0.9413924592381641,-1.060780375068699,0.7054700374703363,-1.1492512832316346,0.7302710074830328,0.7546205420053002,0.7499312092970185,-0.30784727709537585,-0.32750747890936166,1.113644942855753,0.6661496338423649,0.8627516519822216,1.0790138719360638,-1.0851299095909666,-1.124450313218938,1.7139857590254728,-1.0312900723477205,1.0495235692150853,0.8234312483542501,-1.1001007786966701,0.9708827619591425,0.9708827619591425,1.0396934683080923,0.6956399365633436,1.2756158900759202,-0.9624793659987706,-1.188571686859606,-1.0706104759756918,0.990542963773128,0.9020720556101928,-1.3851737049994624,-1.060780375068699,0.9807128628661352,-0.8543482560218495,1.0593536701220778,-1.2377221913945704,-0.22920646983943313,0.9610526610521496,0.9610526610521496,0.8580623192739397,0.9268730256228895,-1.0851299095909666,0.6858098356563507,-1.257382393208556,-1.2770425950225415,-1.2180619895805844,-1.0752998086839738,-1.1295910814176489,1.0495235692150853,-1.1001007786966701,1.1576546791920062,-1.0706104759756918,-0.9475084968930669,0.8725817528892142,-1.1099308796036633,-1.188571686859606,-0.18005596530446877,-0.3176773780023686,-1.2522416250098447,0.7742807438192859,-0.8492074878231386,-0.9180181941720884,-0.9624793659987706,-0.5535997997701966,-0.40614828616530413,1.5567041445135876,-0.7705666805671961,0.6221398975061116,0.882411853796207,-0.9278482950790812,1.054664337413796,1.1627954473907174,-0.9081880932650956,0.9170429247158964,0.9956837319718391,1.2905867591816242,-0.26852687346740467,1.7729663644674298,0.9170429247158964,1.3895924290947095,1.1922857501116957,-0.4159783870722968,0.9217322574241784,0.7546205420053002,-1.1295910814176489,0.9170429247158964,-0.883838558742828,0.7546205420053002,0.9413924592381641,0.8529215510752285,-1.119760980510656,1.1085041746570423,-1.2377221913945704,-1.0411201732547133,-0.8051977514868852,0.9413924592381641,-0.9821395678127565,0.8037710465402645,0.7841108447262788,-1.0411201732547133,-1.2082318886735917,0.9315623583311712,0.9512225601451569,-1.001799769626742,0.9119021565171855,1.0200332664941065,-1.1342804141259304,-1.178741585952613,-0.20954626802544774,-0.3373375798163543,1.5272138417926093,0.7742807438192859,-0.6479161369750003,-1.1539406159399161,-0.8492074878231386,0.9072128238089038,0.9661934292508608,-1.055639606869988,1.0448342365068033,1.0350041355998105,0.9268730256228895,-1.2475522923015627,1.6550051535835162,0.8725817528892142,-1.257382393208556,-0.4258084879792896,-0.8983579923581029,0.8332613492612428,-1.1984017877665984,1.0495235692150853,0.8627516519822216,1.0396934683080923,-1.1689114850456204,-0.8543482560218495,-1.1295910814176489,0.8725817528892142,-1.001799769626742,0.9119021565171855,0.8529215510752285,0.8529215510752285,-0.903498760556814,-0.298017176188383,1.0593536701220778,0.769591411111004,0.7841108447262788,1.7631362635604373,-1.045809505962995,-1.124450313218938,-1.0804405768826846,0.9760235301578535,-0.3668278825373328,1.1333051446697386,1.113644942855753,-0.8492074878231386,-0.9966590014280309,1.6255148508625372,-0.7509064787532106,-0.3471676807233473,0.8529215510752285,1.1183342755640349,-1.4441543104414194,0.8973827229019109,1.6648352544905087,0.9020720556101928,-0.9919696687197491,-1.1590813841386276,1.1085041746570423,1.2854459909829132,-1.060780375068699,-1.0804405768826846,-1.0312900723477205,-1.2672124941155485,-1.1001007786966701,-1.2180619895805844,-0.9919696687197491,0.9315623583311712,0.9807128628661352,0.9119021565171855,0.9708827619591425,-1.2082318886735917,1.0593536701220778,-0.8740084578358353,0.9315623583311712,0.7742807438192859,0.7841108447262788,0.9858536310648465,-1.0752998086839738,0.8136011474472573,1.339737263716588,-1.0064891023350238,-1.1441105150329234,-0.6872365406029716,-0.883838558742828,1.1333051446697386,-1.104790111404952,-1.178741585952613,-0.4159783870722968,0.7499312092970185,-1.0261493041490093,-1.1295910814176489,0.9807128628661352,1.123475043762746,-0.32750747890936166,1.054664337413796,0.882411853796207,-0.9231589623707996,0.9119021565171855,1.1576546791920062,-0.7855375496728996,-1.1295910814176489,-0.9821395678127565,-1.119760980510656,0.6956399365633436,1.3247663946108843,0.9217322574241784,0.9020720556101928,-0.9624793659987706,1.0691837710290708,-1.1492512832316346,1.1379944773780206,-1.1492512832316346,-1.296702796836527,1.0102031655871138,-1.1394211823246418,-0.8641783569288425,-1.1394211823246418,0.9020720556101928,0.8973827229019109,-0.9081880932650956,-1.0706104759756918,0.9020720556101928,0.6858098356563507,0.7644506429122933,-1.0851299095909666,-1.119760980510656,-1.178741585952613,-0.8197171851021601,0.9315623583311712,-0.5044492952352325,0.8580623192739397,-1.060780375068699,-1.0752998086839738,-0.9428191641847852,0.8922419547031999,0.8430914501682356,-0.8492074878231386,0.9807128628661352,-0.986828900521038,1.615684749955545,1.7238158599324656,1.5272138417926093,0.7841108447262788,-0.2193763689324403,-0.6282559351610146,1.3306118236527527,-0.9573385978000599,1.1333051446697386,1.0939847410417674,-0.7705666805671961,1.000373064680121,-0.9475084968930669,0.8332613492612428,-1.1295910814176489,0.9807128628661352,0.7742807438192859,-1.2180619895805844,0.8430914501682356,1.1576546791920062,-1.1001007786966701,-1.2377221913945704,-0.8740084578358353,0.7251302392843219,1.167484780098999,0.656319532935372,1.000373064680121,1.0691837710290708,1.167484780098999,0.9708827619591425,-1.2082318886735917,1.000373064680121,0.6268292302143935,-1.0359794050560023,1.074324539227782,-0.9573385978000599,0.9072128238089038,0.9072128238089038,0.9413924592381641,-1.0312900723477205,-1.2030911204748806,-1.001799769626742,0.9119021565171855,0.5088680193304796,0.7546205420053002,0.9315623583311712,-1.2082318886735917,0.8725817528892142,-1.3210523313587943,-1.286872695929534,0.6759797347493579,-0.9821395678127565,-1.0706104759756918,0.9807128628661352,0.6268292302143935,0.8332613492612428,0.8037710465402645,-0.9769987996140452,-1.119760980510656,0.9610526610521496,1.7533061626534443,-1.060780375068699,-0.731246276939225,-1.001799769626742,-1.0706104759756918,0.6712904020410758,0.9119021565171855,1.054664337413796,-0.8885278914511099,1.0986740737500493,-0.986828900521038,-1.0411201732547133,-1.1984017877665984,0.8234312483542501,-0.932989063277792,1.000373064680121,0.9119021565171855,-1.001799769626742,0.5186981202374723,-1.1394211823246418,0.8725817528892142,-0.7855375496728996,-1.257382393208556,-0.9133288614638064,1.074324539227782,1.1773148810059921,-1.0411201732547133,0.882411853796207,-1.0804405768826846,1.0495235692150853,0.8332613492612428,0.7742807438192859,0.5186981202374723,1.0102031655871138,1.1038148419487603,-0.7509064787532106,0.7054700374703363,1.2461255873549415,-0.48478909342124676,-0.5142793961422255,0.9858536310648465,-0.8983579923581029,0.7401011083900255,0.8037710465402645,-0.932989063277792,-0.932989063277792,-0.8786977905441171,-1.2082318886735917,-1.119760980510656,-1.0312900723477205,-1.0902706777896776,0.9956837319718391,0.9610526610521496,0.7841108447262788,-1.1394211823246418,-0.2586967725604116,0.8627516519822216,0.7742807438192859,0.4990379184234868,-1.0116298705337348,-1.1394211823246418,-0.9919696687197491,0.882411853796207,0.7644506429122933,0.882411853796207,-0.7462171460449283,0.8332613492612428,-0.2586967725604116,1.015343933785825,-1.1539406159399161,-0.3176773780023686,-1.2180619895805844,-0.8393773869161456,1.1431352455767316,-1.0163192032420167,1.2657857891689275,-0.8983579923581029,1.300416860088617,-0.3668278825373328,-1.4048339068134479,1.0200332664941065,0.8430914501682356,-1.0312900723477205,-0.9231589623707996,0.7447904410983075,0.882411853796207,0.7644506429122933,-1.1492512832316346,-0.9919696687197491,0.6759797347493579,0.7742807438192859,0.7841108447262788,-1.0706104759756918,-1.0116298705337348,1.1085041746570423,0.7644506429122933,-0.9133288614638064,1.0790138719360638,0.6858098356563507,-1.0411201732547133,-1.0902706777896776,0.8627516519822216,-1.1295910814176489,0.7447904410983075,-1.0312900723477205,-0.9821395678127565,0.6956399365633436,0.7742807438192859,0.9512225601451569,0.9020720556101928,-1.0411201732547133,0.8430914501682356,0.8136011474472573,0.8234312483542501,0.7939409456332714,-1.2082318886735917,0.8332613492612428,-1.257382393208556,-0.7560472469519215,0.9119021565171855,-0.6715610106541102,0.9217322574241784,0.9315623583311712,0.7546205420053002,-0.8445181551148572,0.7644506429122933,0.7153001383773291,-1.4638145122554052,0.8922419547031999,1.1576546791920062,0.9119021565171855,-1.0214599714407278,-1.1295910814176489,-1.1984017877665984,-1.1295910814176489,-0.9526492650917778,0.9020720556101928,0.8136011474472573,0.9020720556101928,-1.4343242095344269,0.9413924592381641,-1.0949600104979593,0.8529215510752285,-1.2672124941155485,1.0593536701220778,0.9315623583311712,0.8529215510752285,0.8529215510752285,1.0841546401347746,-0.903498760556814,0.9119021565171855,-0.932989063277792,0.7153001383773291,0.8430914501682356,0.9413924592381641,-1.2770425950225415,-1.2180619895805844,0.8037710465402645,-1.296702796836527,1.1478245782850134,0.7546205420053002,-1.060780375068699,1.0790138719360638,-1.060780375068699,-1.0163192032420167,0.7990817138319827,-0.35699778163034,1.1281643764710279,0.9119021565171855,-1.2082318886735917,1.354256697331863,-1.3655135031854766,0.8136011474472573,0.7939409456332714,1.064494438320789,0.8529215510752285,0.8529215510752285,0.7939409456332714,0.7990817138319827,-1.1001007786966701,-1.050950274161706,0.7302710074830328,-1.0214599714407278,-0.883838558742828,1.0790138719360638,1.0495235692150853,0.9610526610521496,0.8332613492612428,0.990542963773128,1.074324539227782,-0.932989063277792,0.8187419156459683,1.1576546791920062,0.7841108447262788,-1.0949600104979593,-1.0116298705337348,1.074324539227782,0.9760235301578535,0.9807128628661352,-0.5044492952352325,-0.8786977905441171,-0.5437696988632038,-0.6813911115611033,-1.001799769626742,-0.9081880932650956,1.70415565811848,0.9413924592381641,-0.7607365796602031,0.7644506429122933,-0.903498760556814,-1.1001007786966701,0.8187419156459683,-1.0706104759756918,-0.8936686596498211,0.9807128628661352,-1.1984017877665984,-1.1492512832316346,0.8922419547031999,0.9367031265298821,-0.8885278914511099,-0.8051977514868852,-0.8248579533008711,-1.0261493041490093,1.2021158510186887,-0.5535997997701966,1.6746653553975017,0.8725817528892142,-0.5784007697828933,-1.2424115241028515,0.656319532935372,-1.0851299095909666,-0.2586967725604116,-1.0851299095909666,0.8627516519822216,1.2264653855409562,-0.35699778163034,-1.0064891023350238,-1.0261493041490093,0.7546205420053002,1.7729663644674298,1.074324539227782,-0.8000569832881744,-0.5437696988632038,1.2217760528326744,-1.119760980510656,0.7644506429122933,-1.1492512832316346,-0.932989063277792,1.1281643764710279,-0.9723094669057636,1.0102031655871138,0.6858098356563507,-1.0214599714407278,0.8234312483542501,0.6956399365633436,-0.9624793659987706,-1.0312900723477205,0.9610526610521496,0.8430914501682356,0.5088680193304796,-0.6675763387889859,0.7546205420053002,0.9020720556101928,-1.0804405768826846,1.0495235692150853,-0.9526492650917778,-0.9428191641847852,1.0495235692150853,1.2362954864479487,-0.8543482560218495,-0.9919696687197491,-1.001799769626742,0.6268292302143935,0.9610526610521496,-0.8492074878231386,0.8430914501682356,1.5468740436065949,0.9563633283438678,0.7447904410983075,0.882411853796207,-1.124450313218938,-1.1539406159399161,-1.2817319277308232,-0.6919258733112537,-0.5437696988632038,0.8973827229019109,0.7742807438192859,-0.3176773780023686,-1.1441105150329234,0.8973827229019109,0.6909506038550616,-1.050950274161706,0.9268730256228895,-1.2129212213818734,-1.1492512832316346,-0.8000569832881744,1.074324539227782,1.074324539227782,-0.7803967814741888,1.182455649204703,-1.0804405768826846,0.8136011474472573,0.8922419547031999,-1.0312900723477205,0.8234312483542501,-1.286872695929534,0.8627516519822216,-1.1689114850456204,0.9807128628661352,0.8430914501682356,1.0200332664941065,0.7644506429122933,-1.060780375068699,0.9512225601451569,-0.7855375496728996,-1.2180619895805844,-1.3458533013714913,0.9072128238089038,0.990542963773128,-0.932989063277792,1.054664337413796,-1.050950274161706,-0.3668278825373328,1.064494438320789,-0.8000569832881744,0.6811205029480688,-0.9278482950790812,1.70415565811848,-0.8295472860091532,1.1431352455767316,-0.24886667165341883,0.8136011474472573,-0.3668278825373328,-1.119760980510656,0.8136011474472573,0.9708827619591425,0.7251302392843219,0.9170429247158964,0.8037710465402645,-1.1590813841386276,-1.4244941086274339,-1.2770425950225415,1.4485730345366665,0.7990817138319827,-1.3112222304518018,-1.1146202123119449,0.7939409456332714,-1.0902706777896776,-0.6675763387889859,0.8725817528892142,0.8725817528892142,-1.0116298705337348,-1.1001007786966701,0.6858098356563507,-1.2278920904875772,-1.1590813841386276,-1.0064891023350238,0.8922419547031999,-1.0804405768826846,-1.0312900723477205,-1.2770425950225415,0.8332613492612428,0.7251302392843219,-1.2082318886735917,-1.0312900723477205,1.812286768095401,-1.1441105150329234,-1.2082318886735917,-1.173600817753902,-1.1441105150329234,-1.055639606869988,0.9413924592381641,-1.1590813841386276,-1.2770425950225415,1.0495235692150853,-0.7658773478589143,0.9807128628661352,-1.1984017877665984,-1.1689114850456204,-0.9081880932650956,1.1627954473907174,-0.22920646983943313,-1.1099308796036633,-0.7214161760322317,1.0350041355998105,-0.9475084968930669,1.1038148419487603,1.1627954473907174,0.7251302392843219,-0.5437696988632038,-1.173600817753902,0.838402117459954,-0.701755974218246,0.848232218366947,-1.0851299095909666,0.7302710074830328,-1.1441105150329234,-0.7214161760322317,-1.055639606869988,-0.3373375798163543,0.9956837319718391,1.0350041355998105,1.1379944773780206,-1.2620717259168375,1.0691837710290708,-1.0654697077769806,-1.1984017877665984,0.9661934292508608,1.5173837408856163,-0.9428191641847852,0.7054700374703363,0.8627516519822216,-1.2672124941155485,-1.188571686859606,-1.0312900723477205,0.7939409456332714,-1.3261930995575053,0.8332613492612428,1.0396934683080923,-0.903498760556814,1.0691837710290708,-0.9231589623707996,-1.1689114850456204,-1.178741585952613,-1.2377221913945704,-1.2672124941155485,0.8332613492612428,0.9413924592381641,-1.2377221913945704,0.6858098356563507,-1.473644613162398,0.8234312483542501,-1.4048339068134479,-1.2475522923015627,-0.932989063277792,-1.0902706777896776,-1.060780375068699,0.9807128628661352,-0.9133288614638064,0.7841108447262788,0.9413924592381641,1.1281643764710279,0.9119021565171855,1.0888439728430563,-1.119760980510656,-1.0804405768826846,0.882411853796207,1.0691837710290708,0.6858098356563507,0.7546205420053002,-1.1001007786966701,0.9217322574241784,-1.1984017877665984,0.8725817528892142,0.8627516519822216,-1.1492512832316346,-1.188571686859606,0.8922419547031999,1.0593536701220778,0.7054700374703363,1.000373064680121,0.7447904410983075,-0.8445181551148572,0.7841108447262788,-1.119760980510656,1.0888439728430563,0.8529215510752285,-1.2278920904875772,0.9413924592381641,1.1281643764710279,0.8234312483542501,0.8725817528892142,-1.0411201732547133,-0.9526492650917778,-1.4048339068134479,0.8234312483542501,-1.188571686859606,-1.0116298705337348,-1.0214599714407278,-1.0706104759756918,0.9119021565171855,0.882411853796207,-1.1099308796036633,0.7742807438192859,0.4990379184234868,0.8627516519822216,0.7546205420053002,-0.9919696687197491,1.2657857891689275,-1.1590813841386276,0.7644506429122933,1.0396934683080923,0.6268292302143935,1.1871449819129845,0.8136011474472573,0.8922419547031999,0.8136011474472573,-1.2475522923015627,0.9217322574241784,0.9512225601451569,-1.0804405768826846,-1.1001007786966701,1.0495235692150853,0.9610526610521496,0.882411853796207,0.8529215510752285,0.9807128628661352,0.9610526610521496,0.8627516519822216,1.000373064680121,1.1281643764710279,0.7546205420053002,-1.1001007786966701,0.8136011474472573,0.8430914501682356,-1.0312900723477205,1.0495235692150853,0.9708827619591425,0.8430914501682356,1.0200332664941065,1.0200332664941065,0.7546205420053002,-1.050950274161706,0.9217322574241784,0.8529215510752285,0.7742807438192859,1.1576546791920062,0.7841108447262788,0.4892078175164942,0.8725817528892142,0.8529215510752285,0.8332613492612428,0.8725817528892142,0.8332613492612428,-1.2082318886735917,0.882411853796207,1.0790138719360638,1.1379944773780206,0.8037710465402645,0.9512225601451569,0.8627516519822216,-1.1295910814176489,0.8529215510752285,-1.119760980510656,0.9413924592381641,1.0102031655871138,0.7742807438192859,-1.1984017877665984,-1.1394211823246418,-0.6872365406029716,1.0888439728430563,-1.060780375068699,-1.4638145122554052,-1.001799769626742,-1.2475522923015627,-0.9526492650917778,0.7447904410983075,0.7153001383773291,1.0946894018849247,0.7644506429122933,0.8037710465402645,1.2657857891689275,0.990542963773128,0.8725817528892142,0.9807128628661352,-1.119760980510656,-1.1295910814176489,-1.1001007786966701,-1.286872695929534,-1.178741585952613,0.9413924592381641,0.8529215510752285,0.7251302392843219,1.1183342755640349,-0.932989063277792,0.7153001383773291,0.882411853796207,0.9807128628661352,-1.0116298705337348,0.8037710465402645,0.7742807438192859,0.8529215510752285,0.7939409456332714,1.1183342755640349,1.0102031655871138,0.5285282211444655,-0.8248579533008711,0.7939409456332714,-0.9624793659987706,0.8627516519822216,1.2166352846339632,0.5285282211444655,0.4990379184234868,0.7939409456332714,0.9315623583311712,0.9119021565171855,-1.2770425950225415,0.9512225601451569,0.9020720556101928,0.882411853796207,-1.2278920904875772,-0.7560472469519215,0.9413924592381641,-1.2672124941155485,-1.178741585952613,0.6858098356563507,0.9610526610521496,-1.1099308796036633,-0.9428191641847852,0.7644506429122933,0.7251302392843219,1.1576546791920062,-0.8641783569288425,-0.9624793659987706,1.1281643764710279,-0.9919696687197491,0.8725817528892142,0.8037710465402645,-1.2180619895805844,-1.119760980510656,0.9119021565171855,0.7546205420053002,-0.7658773478589143,0.8430914501682356,1.000373064680121,0.8627516519822216,-0.8641783569288425,0.8627516519822216,-1.1984017877665984,0.9610526610521496,0.7447904410983075,-1.0804405768826846,0.9315623583311712,0.9610526610521496,-0.9133288614638064,-1.1001007786966701,-1.2475522923015627,1.0200332664941065,-1.1295910814176489,-1.0804405768826846,-1.0214599714407278,-1.1590813841386276,-0.9624793659987706,0.9119021565171855,-1.1590813841386276,0.6858098356563507,-0.9723094669057636,0.7939409456332714,0.6858098356563507,1.2756158900759202,-1.1984017877665984,0.8529215510752285,-1.2082318886735917,0.990542963773128,0.6464894320283792,-0.8590375887301315,-1.2770425950225415,0.8332613492612428,0.7054700374703363,0.8136011474472573,-0.9919696687197491,-1.060780375068699,0.8529215510752285,1.000373064680121,1.0495235692150853,0.7546205420053002,0.9119021565171855,0.8922419547031999,0.8430914501682356,-1.2377221913945704,1.0298633674010995,1.0888439728430563,0.7153001383773291,0.8922419547031999,-1.1394211823246418,0.882411853796207,-1.2082318886735917,0.9708827619591425,0.8725817528892142,-1.050950274161706,-0.47495899251425383,-1.188571686859606,-1.188571686859606,0.7251302392843219,0.7349603401913148,0.7644506429122933,1.0986740737500493,0.9807128628661352,-1.0214599714407278,0.7153001383773291,0.9708827619591425,0.7349603401913148,1.0986740737500493,-1.1001007786966701,0.6366593311213864,-1.0804405768826846,-1.178741585952613,-0.9526492650917778,0.6759797347493579,0.7939409456332714,0.8627516519822216,-0.8740084578358353,-1.050950274161706,0.8430914501682356,-0.7462171460449283,0.990542963773128,-1.0312900723477205,0.8430914501682356,0.8627516519822216,-0.8150278523938782,-1.2278920904875772,-1.0804405768826846,0.8332613492612428,0.7251302392843219,-1.1099308796036633,-1.1394211823246418,1.0102031655871138,0.8234312483542501,-1.119760980510656,-1.188571686859606,-1.2377221913945704,0.9217322574241784,-1.1590813841386276,0.7939409456332714,0.8234312483542501,-0.9428191641847852,0.7939409456332714,1.0102031655871138,-1.1689114850456204,0.8332613492612428,-1.2082318886735917,-1.1394211823246418,1.1379944773780206,0.7251302392843219,-1.060780375068699,0.7251302392843219,0.9512225601451569,1.1576546791920062,1.7631362635604373,0.7644506429122933,0.7742807438192859,1.1922857501116957,0.7349603401913148,-1.178741585952613,-1.4343242095344269,0.7841108447262788,1.0495235692150853,-1.3163629986505128,-0.7462171460449283,0.6661496338423649,1.0495235692150853,0.7153001383773291,-1.178741585952613,0.8725817528892142,-1.001799769626742,0.882411853796207,-1.119760980510656,1.167484780098999,0.9217322574241784,-1.2475522923015627,0.9119021565171855,0.6811205029480688,1.1576546791920062,0.7644506429122933,-1.2180619895805844,0.8234312483542501,-1.286872695929534,0.8627516519822216,0.8332613492612428,0.9217322574241784,1.1922857501116957,1.1529653464837244,-1.257382393208556,0.6661496338423649,-1.2082318886735917,0.9119021565171855,-1.050950274161706,0.6858098356563507,0.7447904410983075,0.7447904410983075,-0.7509064787532106,-1.1001007786966701,0.6858098356563507,0.9512225601451569,-1.2770425950225415,0.7644506429122933,1.0396934683080923,-1.1001007786966701,0.8430914501682356,-1.0312900723477205,-0.9671686987070527,-1.1295910814176489,-1.3163629986505128,0.9217322574241784,-1.0902706777896776,1.4780633372576453,-1.0902706777896776,0.7251302392843219,0.9413924592381641,-1.2180619895805844,-1.060780375068699,0.9020720556101928,0.7349603401913148,0.6956399365633436,0.8037710465402645,0.8234312483542501,0.6661496338423649,1.1183342755640349,0.9020720556101928,0.7841108447262788,1.0691837710290708,-0.8543482560218495,-0.8248579533008711,0.9315623583311712,-1.1295910814176489,-1.473644613162398,-0.775707448765907,0.7251302392843219,-1.050950274161706,-0.834688054207864,0.9020720556101928,-1.2278920904875772,0.8136011474472573,1.0790138719360638,-0.9133288614638064,0.9512225601451569,-0.9821395678127565,1.2657857891689275,1.2709265573676383,0.7349603401913148,0.9217322574241784,0.7742807438192859,0.9610526610521496,0.882411853796207,-1.2278920904875772,-1.2672124941155485,-1.1099308796036633,-1.1590813841386276,-0.903498760556814,-1.1689114850456204,1.0593536701220778,1.0396934683080923,0.9217322574241784,-1.1001007786966701,1.1478245782850134,1.615684749955545,-0.7607365796602031,-0.7902268823811817,1.1085041746570423,-1.0411201732547133,0.882411853796207,-1.0902706777896776,0.8136011474472573,-1.0804405768826846,-1.188571686859606,0.9020720556101928,-1.0706104759756918,-1.2180619895805844,-1.0312900723477205,-1.3655135031854766,-1.1295910814176489,0.8627516519822216,0.9020720556101928,0.9020720556101928,-0.8936686596498211,-0.9624793659987706,-0.9919696687197491,-0.8936686596498211,0.9413924592381641,-1.2672124941155485,-1.0116298705337348,-1.4638145122554052,-0.6427753687762892,0.8725817528892142,-0.2881870752813904,1.2119459519256814,0.8187419156459683,1.2021158510186887,-1.1689114850456204,1.6451750526765228,-1.0064891023350238,-1.0359794050560023,-1.2377221913945704,1.3593974655305738,0.9858536310648465,-0.9180181941720884,1.231606153739667,0.7401011083900255,-1.0261493041490093,0.8777225210879253,0.8037710465402645,1.0396934683080923,-0.8590375887301315,-0.6224105061191462,0.9072128238089038,-0.9278482950790812,0.8037710465402645,1.1085041746570423,1.1281643764710279,1.1183342755640349,0.9119021565171855,-0.834688054207864,-1.2475522923015627,-1.1394211823246418,-1.1590813841386276,-1.2817319277308232,-0.7953676505798928,-1.0411201732547133,0.7153001383773291,1.1379944773780206,-1.4638145122554052,0.7939409456332714,1.1281643764710279,-0.4159783870722968,-1.0706104759756918,-1.0064891023350238,-1.0654697077769806,-1.0359794050560023,0.7546205420053002,-1.2180619895805844,-0.932989063277792,0.8678924201809325,0.7349603401913148,-1.2278920904875772,0.882411853796207,0.9217322574241784,-1.119760980510656,1.1379944773780206,0.9610526610521496,-1.0411201732547133,1.0200332664941065,0.9413924592381641,1.7434760617464513,1.419082731815688,1.1183342755640349,0.7597613102040113,0.8627516519822216,-1.1689114850456204,-1.1689114850456204,0.882411853796207,0.7546205420053002,-1.2180619895805844,0.8627516519822216,-1.188571686859606,-0.8983579923581029,-1.0902706777896776,0.9072128238089038,-1.124450313218938,-1.163770716846909,0.7841108447262788,-1.178741585952613,0.7644506429122933,-0.8786977905441171,0.882411853796207,1.0939847410417674,0.6956399365633436,0.7546205420053002,-1.1295910814176489,-1.257382393208556,-0.834688054207864,-0.9081880932650956,-0.8983579923581029,0.769591411111004,-0.9180181941720884,1.6302041835708194,1.005513832878832,1.064494438320789,-0.9671686987070527,1.182455649204703,-1.0752998086839738,0.9465332274368747,-0.8786977905441171,-0.9769987996140452,0.7447904410983075,-1.0949600104979593,-0.7803967814741888,1.6353449517695304,1.1478245782850134,-0.8590375887301315,-1.188571686859606,0.8922419547031999,0.8529215510752285,0.8922419547031999,-1.257382393208556,-1.001799769626742,0.8529215510752285,0.7742807438192859,0.882411853796207,-1.0214599714407278,-1.2377221913945704,-0.8543482560218495,-1.1492512832316346,-1.1590813841386276,0.7349603401913148,-1.1295910814176489,0.8037710465402645,0.9217322574241784,-0.8543482560218495,0.7447904410983075,-1.178741585952613,-0.9966590014280309,0.8430914501682356,-1.1394211823246418,1.0593536701220778,0.9708827619591425,0.9119021565171855,-1.0654697077769806,-0.47495899251425383,-0.8590375887301315,-1.1394211823246418,-0.8295472860091532,0.8234312483542501,0.9956837319718391,0.7546205420053002,-1.2377221913945704,-0.9526492650917778,1.0298633674010995,-1.1984017877665984,-0.672265671497268,-1.0312900723477205,0.8922419547031999,-1.0411201732547133,0.8725817528892142,0.7153001383773291,0.9512225601451569,-1.1099308796036633,-1.1394211823246418,1.649864385384805,0.7447904410983075,0.7742807438192859,0.7054700374703363,-1.1492512832316346,-1.1590813841386276,-0.883838558742828,-0.9526492650917778,0.8529215510752285,-1.414664007720441,-0.8543482560218495,0.7644506429122933,1.0396934683080923,-1.1492512832316346,0.9020720556101928,0.8332613492612428,0.9315623583311712,0.990542963773128,0.9217322574241784,0.6858098356563507,0.9708827619591425,0.7644506429122933,-1.1441105150329234,-0.6224105061191462,0.990542963773128,-1.0706104759756918,0.7742807438192859,-1.050950274161706,-0.7953676505798928,-0.9526492650917778,1.1281643764710279,-1.3065328977435198,-1.0902706777896776,-1.0804405768826846,0.7644506429122933,-1.1984017877665984,-1.3950038059064553,0.7742807438192859,-1.0706104759756918,-1.0804405768826846,-1.188571686859606,-1.0804405768826846,0.9708827619591425,-1.1441105150329234,1.123475043762746,0.6268292302143935,0.9315623583311712,0.4892078175164942,0.9268730256228895,-0.7214161760322317,-0.8098870841951673,-0.9769987996140452,1.7827964653744224,0.9807128628661352,0.7892516129249899,-0.35699778163034,0.6169991293074005,-1.2180619895805844,-0.9231589623707996,-0.8936686596498211,-0.3963181852583112,1.0396934683080923,-1.1590813841386276,0.8037710465402645,-1.0706104759756918,0.8136011474472573,-0.9231589623707996,-0.9231589623707996,1.3247663946108843,0.597338927493415,-1.2377221913945704,0.6169991293074005,1.354256697331863,-1.0411201732547133,0.8332613492612428,-1.119760980510656,1.0298633674010995,1.0691837710290708,-1.188571686859606,-0.8445181551148572,-0.9723094669057636,0.7939409456332714,-1.3065328977435198,-1.0804405768826846,0.8922419547031999,-1.188571686859606,-1.2377221913945704,-1.1295910814176489,-0.9133288614638064,0.7251302392843219,0.9315623583311712,-1.0804405768826846,0.6909506038550616,-1.0804405768826846,0.7939409456332714,-0.7115860751252392,-0.9671686987070527,0.8037710465402645,0.9315623583311712,0.9413924592381641,-0.9966590014280309,0.8627516519822216,-1.188571686859606,0.9413924592381641,0.8136011474472573,-1.1984017877665984,0.7939409456332714,-1.2377221913945704,-0.8543482560218495,1.0691837710290708,0.8430914501682356,0.9119021565171855,0.9708827619591425,0.8725817528892142,0.9119021565171855,-1.1984017877665984,0.7153001383773291,-1.1689114850456204,-1.257382393208556,0.6268292302143935,1.0691837710290708,0.8136011474472573,0.8234312483542501,-1.1001007786966701,0.7742807438192859,-0.9428191641847852,0.9708827619591425,0.9807128628661352,-1.178741585952613,-0.9723094669057636,-0.9821395678127565,-0.9231589623707996,-1.119760980510656,-1.0804405768826846,0.8234312483542501,1.1183342755640349,-1.0706104759756918,0.7251302392843219,0.7349603401913148,-1.3065328977435198,-0.9376783959860742,-0.8248579533008711,0.9119021565171855,0.7644506429122933,-0.8740084578358353,-1.0804405768826846,-1.1099308796036633,-1.1099308796036633,1.0298633674010995,0.7742807438192859,0.7841108447262788,0.8234312483542501,0.7742807438192859,-1.1492512832316346,0.7939409456332714,0.6811205029480688,0.7939409456332714,0.9119021565171855,-0.9966590014280309,0.6268292302143935,-1.2082318886735917,0.7054700374703363,-1.1001007786966701,1.2952760918899058,1.2756158900759202,1.0102031655871138,0.9119021565171855,0.7794215120179969,-1.1834309186608951,-1.1590813841386276,0.7349603401913148,-0.883838558742828,1.1529653464837244,-1.0214599714407278,1.4977235390716306,-1.178741585952613,0.6956399365633436,1.015343933785825,0.7546205420053002,0.9956837319718391,1.1281643764710279,0.8234312483542501,-1.1984017877665984,0.838402117459954,0.7251302392843219,-1.257382393208556,1.0495235692150853,-0.7902268823811817,-1.4343242095344269,0.8136011474472573,-1.178741585952613,-0.9526492650917778,0.597338927493415,0.9708827619591425,-0.9769987996140452,-0.8492074878231386,-1.1492512832316346,-0.883838558742828,-1.1394211823246418,0.9315623583311712,0.9315623583311712,-0.8197171851021601,0.8529215510752285,0.7742807438192859,0.9020720556101928,0.597338927493415,-0.8590375887301315,-1.045809505962995,0.7742807438192859,0.8037710465402645,0.5580185238654438,1.0691837710290708,-1.001799769626742,-0.9133288614638064,0.8529215510752285,0.9760235301578535,-1.119760980510656,0.8037710465402645,1.0495235692150853,0.8187419156459683,0.9315623583311712,0.7939409456332714,0.8037710465402645,0.7546205420053002,0.7939409456332714,-1.0312900723477205,-0.4159783870722968,-1.2082318886735917,-0.9231589623707996,0.5186981202374723,1.3640867982388556,0.7644506429122933,-1.1295910814176489,1.0790138719360638,0.7742807438192859,1.1478245782850134,-1.1394211823246418,-1.0064891023350238,-1.1295910814176489,-1.0116298705337348,1.17262554829771,1.074324539227782,1.6648352544905087,-1.2424115241028515,-0.9180181941720884,-0.9278482950790812,-1.1342804141259304,-1.104790111404952,-0.4552987907002683,-1.2030911204748806,0.8973827229019109,-0.7902268823811817,-0.9966590014280309,-1.0949600104979593,1.1333051446697386,0.8678924201809325,-0.834688054207864,-0.26852687346740467,0.9170429247158964,-1.0064891023350238,0.8922419547031999,-1.050950274161706,-1.0902706777896776,-0.932989063277792,0.8332613492612428,-1.0312900723477205,-1.0214599714407278,0.8136011474472573,1.0986740737500493,-0.903498760556814,0.8725817528892142,0.4892078175164942,0.5186981202374723,0.7546205420053002,0.8430914501682356,-1.3950038059064553,0.8430914501682356,0.7447904410983075,0.7742807438192859,-1.0752998086839738,1.0200332664941065,-0.9723094669057636,-1.045809505962995,-0.8885278914511099,-1.2719018268238305,1.074324539227782,-0.47495899251425383,-1.0359794050560023,1.0350041355998105,1.6746653553975017,-1.1539406159399161,-0.9573385978000599,1.1038148419487603,1.064494438320789,-0.6624355705902749,-0.7607365796602031,-0.9966590014280309,0.9367031265298821,-0.9376783959860742,-0.8000569832881744,-1.163770716846909,-0.8485028269799816,0.656319532935372,0.656319532935372,0.9315623583311712,0.8529215510752285,-0.9231589623707996,0.8725817528892142,0.7054700374703363,0.7251302392843219,0.7251302392843219,-1.4441543104414194,1.1529653464837244,1.1038148419487603,-0.8492074878231386,1.0350041355998105,-1.0064891023350238,-0.9376783959860742,-1.0261493041490093,1.0350041355998105,-0.9573385978000599,-0.8688676896371245,-1.0949600104979593,1.2905867591816242,0.9956837319718391,1.7926265662814156,0.7447904410983075,-1.0804405768826846,-1.2082318886735917,0.8725817528892142,-1.0902706777896776,-1.4048339068134479,0.9512225601451569,0.6909506038550616,-0.9919696687197491,0.9119021565171855,1.1085041746570423,-0.7855375496728996,0.8627516519822216,-1.1492512832316346,-0.7068967424169572,0.8725817528892142,-1.1394211823246418,1.1773148810059921,-0.834688054207864,0.9119021565171855,-1.060780375068699,-1.414664007720441,1.0102031655871138,1.000373064680121,1.0691837710290708,0.8922419547031999,-0.9133288614638064,-0.8641783569288425,-1.1590813841386276,0.7153001383773291,1.000373064680121,0.8529215510752285,1.0298633674010995,1.1085041746570423,-1.0411201732547133,-0.9231589623707996,-1.0411201732547133,1.0691837710290708,-1.1984017877665984,0.6169991293074005,0.6464894320283792,-0.8150278523938782,-1.1001007786966701,-1.0706104759756918,0.7939409456332714,-0.9919696687197491,0.9610526610521496,1.000373064680121,1.0200332664941065,0.9119021565171855,-0.8936686596498211,0.9708827619591425,0.8136011474472573,0.7742807438192859,-0.8150278523938782,0.7447904410983075,0.9020720556101928,0.882411853796207,0.9807128628661352,0.9315623583311712,-1.1984017877665984,0.5088680193304796,-0.8248579533008711,0.7349603401913148,0.9610526610521496,-1.257382393208556,0.8529215510752285,-0.8936686596498211,0.7742807438192859,-1.060780375068699,-0.7658773478589143,1.0888439728430563,0.8725817528892142,0.607169028400408,-1.1984017877665984,0.8037710465402645,0.7251302392843219,1.1281643764710279,0.9315623583311712,-0.834688054207864,0.6759797347493579,-1.119760980510656,1.0593536701220778,-1.178741585952613,0.9119021565171855,-1.1689114850456204,0.7251302392843219,-0.8543482560218495,-1.0411201732547133,0.9512225601451569,-1.1001007786966701,1.0495235692150853,1.1576546791920062,-1.1689114850456204,0.8725817528892142,-1.2278920904875772,1.3247663946108843,-0.9428191641847852,-1.2082318886735917,0.7251302392843219,-1.0804405768826846,-0.883838558742828,0.8136011474472573,0.9119021565171855,0.9119021565171855,1.0790138719360638,1.0790138719360638,0.7251302392843219,-0.9919696687197491,0.7447904410983075,-1.1984017877665984,0.9119021565171855,-1.3851737049994624,-1.1492512832316346,1.0102031655871138,-0.9769987996140452,-1.0312900723477205,-1.0064891023350238,0.8430914501682356,0.8037710465402645,1.0986740737500493,1.000373064680121,0.8529215510752285,-1.257382393208556,0.8725817528892142,0.8627516519822216,-1.1492512832316346,0.8922419547031999,0.8529215510752285,-1.4638145122554052,0.4990379184234868,0.9708827619591425,-1.0411201732547133,0.9610526610521496,0.9708827619591425,-1.0902706777896776,-1.257382393208556,-1.0804405768826846,-0.7953676505798928,0.9708827619591425,0.7153001383773291,0.8234312483542501,0.8430914501682356,0.8725817528892142,0.990542963773128,0.9020720556101928,0.7939409456332714,0.8430914501682356,-1.2377221913945704,0.8725817528892142,0.9020720556101928,-1.0706104759756918,0.9020720556101928,0.7153001383773291,0.8234312483542501,-0.8051977514868852,0.6366593311213864,-0.8051977514868852,0.9217322574241784,-1.2770425950225415,0.8136011474472573,-1.1394211823246418,0.9807128628661352,0.8529215510752285,0.7153001383773291,-1.119760980510656,1.0593536701220778,0.7447904410983075,0.8037710465402645,0.7447904410983075,0.9610526610521496,0.8725817528892142,1.1773148810059921,-1.1001007786966701,0.7054700374703363,0.9217322574241784,-0.7265569442309427,-1.1984017877665984,0.8136011474472573,-1.2180619895805844,0.7251302392843219,-0.8150278523938782,0.8529215510752285,0.8332613492612428,-1.178741585952613,0.8725817528892142,1.000373064680121,0.8725817528892142,-1.4048339068134479,0.9268730256228895,1.0298633674010995,1.0396934683080923,0.8037710465402645,-1.0804405768826846,1.0986740737500493,1.4780633372576453,0.8037710465402645,0.9315623583311712,-0.40614828616530413,0.7153001383773291,-1.119760980510656,0.6661496338423649,-0.9231589623707996,0.7054700374703363,0.7546205420053002,0.7742807438192859,-1.0214599714407278,1.2559556882619345,1.0593536701220778,0.8136011474472573,-1.1001007786966701,-1.2180619895805844,-1.4539844113484122,-1.0804405768826846,1.1281643764710279,1.1085041746570423,-1.1001007786966701,1.0593536701220778,-1.1001007786966701,0.8332613492612428,0.7349603401913148,0.6956399365633436,0.7742807438192859,-1.1492512832316346,-1.1001007786966701,-1.2082318886735917,-1.0312900723477205,-0.8983579923581029,-0.8740084578358353,0.7939409456332714,0.9119021565171855,0.7742807438192859,0.8627516519822216,1.1576546791920062,0.7742807438192859,0.848232218366947,-1.1492512832316346,0.7841108447262788,-1.4244941086274339,-1.1590813841386276,-1.119760980510656,0.8922419547031999,0.7054700374703363,-0.9133288614638064,0.7054700374703363,0.7644506429122933,-1.1099308796036633,0.7742807438192859,0.7644506429122933,0.607169028400408,-1.0902706777896776,-1.2278920904875772,0.9020720556101928,1.0298633674010995,0.990542963773128,-1.1492512832316346,-1.1492512832316346,-1.1394211823246418,-1.0804405768826846,0.8529215510752285,0.7644506429122933,-1.119760980510656,0.8529215510752285,0.6759797347493579,0.7054700374703363,0.8136011474472573,0.7447904410983075,0.7546205420053002,0.8037710465402645,-1.1394211823246418,0.8627516519822216,-1.0312900723477205,0.8430914501682356,-0.9624793659987706,-1.3065328977435198,1.5861944472345662,-1.1001007786966701,-1.050950274161706,0.9217322574241784,0.8529215510752285,0.7841108447262788,0.8234312483542501,-1.1295910814176489,0.7153001383773291,0.7546205420053002,0.8136011474472573,0.7841108447262788,1.113644942855753,-1.2475522923015627,-1.060780375068699,-0.9526492650917778,-0.9133288614638064,-1.0411201732547133,0.9512225601451569,-0.9919696687197491,-1.1590813841386276,1.167484780098999,0.9020720556101928,0.7644506429122933,0.9119021565171855,1.2362954864479487,0.8136011474472573,-1.1295910814176489,1.0200332664941065,-1.1001007786966701,1.7533061626534443,0.7794215120179969,-0.47495899251425383,-0.932989063277792,-1.0214599714407278,-1.1492512832316346,-1.2770425950225415,-1.188571686859606,0.6759797347493579,-1.2672124941155485,0.8136011474472573,-1.1689114850456204,-0.9821395678127565,0.7349603401913148,1.0495235692150853,1.0495235692150853,0.9217322574241784,-1.4244941086274339,-1.1099308796036633,0.6661496338423649,-1.2082318886735917,-0.9919696687197491,0.9119021565171855,-0.6519008088401249,0.8037710465402645,0.9020720556101928,-0.9231589623707996,0.7251302392843219,0.882411853796207,0.7939409456332714,-0.834688054207864,-1.4638145122554052,-1.1295910814176489,-1.0214599714407278,0.7939409456332714,-0.9966590014280309,1.24143625464666,-1.0116298705337348,0.7841108447262788,0.6614603011340833,-1.1394211823246418,0.8332613492612428,0.7939409456332714,0.8580623192739397,-1.163770716846909,0.9465332274368747,-1.1539406159399161,-1.1539406159399161,1.5468740436065949,-0.9573385978000599,1.6550051535835162,0.9563633283438678,-1.0359794050560023,-1.0654697077769806,-0.37665798344432555,-1.055639606869988,-0.3176773780023686,1.4780633372576453,1.1871449819129845,-1.2129212213818734,1.1922857501116957,-1.0359794050560023,1.1922857501116957,-1.0851299095909666,-1.173600817753902,1.6302041835708194,-1.045809505962995,-0.4356385888862828,1.3895924290947095,-1.0261493041490093,0.8875526219949181,1.1529653464837244,1.182455649204703,1.0448342365068033,0.990542963773128,-0.986828900521038,-1.2325814231958592,-0.7705666805671961,1.3404419245597452,1.4584031354436593,1.615684749955545,1.5272138417926093,-0.9526492650917778,-1.3603727349867658,1.005513832878832,-1.1146202123119449,0.8332613492612428,-0.3668278825373328,-0.9278482950790812,1.064494438320789,-1.3065328977435198,-1.1099308796036633,-1.1492512832316346,0.5678486247724365,-1.1590813841386276,-1.1590813841386276,0.8529215510752285,0.5186981202374723,0.7251302392843219,-1.2278920904875772,0.6268292302143935,-1.0411201732547133,-1.0312900723477205,-0.8445181551148572,0.7349603401913148,-0.775707448765907,0.7251302392843219,-0.9919696687197491,0.6858098356563507,-1.0312900723477205,-1.0312900723477205,0.8627516519822216,-0.8051977514868852,-1.178741585952613,-1.001799769626742,0.656319532935372,-0.9821395678127565,0.5186981202374723,-0.9919696687197491,-0.7462171460449283,0.9413924592381641,-1.060780375068699,1.0691837710290708,-0.9723094669057636,-1.1590813841386276,0.7054700374703363,1.167484780098999,0.5580185238654438,1.000373064680121,0.9610526610521496,0.7349603401913148,-0.8641783569288425,1.1576546791920062,0.6169991293074005,-1.060780375068699,-1.0411201732547133,-1.3655135031854766,0.8725817528892142,0.7841108447262788,0.8234312483542501,-1.257382393208556,-1.4539844113484122,-0.9428191641847852,-1.001799769626742,1.1576546791920062,-1.0706104759756918,0.9807128628661352,-0.9723094669057636,-1.001799769626742,0.9760235301578535,-1.1689114850456204,-1.1689114850456204,-0.7658773478589143,0.7349603401913148,-1.0359794050560023,-1.0851299095909666,-1.4244941086274339,1.0448342365068033,0.7892516129249899,-1.286872695929534,-1.0312900723477205,-1.001799769626742,0.8922419547031999,-0.9133288614638064,0.9708827619591425,0.9807128628661352,-1.0214599714407278,-1.060780375068699,-0.9821395678127565,0.7054700374703363,1.1773148810059921,1.0986740737500493,0.8627516519822216,-0.8543482560218495,1.015343933785825,-1.060780375068699,-1.119760980510656,-1.178741585952613,1.0298633674010995,-1.0214599714407278,0.8332613492612428,-1.0312900723477205,-1.1492512832316346,1.0200332664941065,1.0200332664941065,0.9020720556101928,1.0593536701220778,-1.1984017877665984,0.9413924592381641,-1.060780375068699,0.8430914501682356,0.8234312483542501,-0.9919696687197491,0.8973827229019109,0.6858098356563507,0.8332613492612428,0.8332613492612428,-0.932989063277792,0.9512225601451569,-0.8936686596498211,-1.1001007786966701,-1.0116298705337348,0.8430914501682356,0.7939409456332714,1.2068051837269702,0.7447904410983075,0.7251302392843219,0.7447904410983075,0.9315623583311712,0.9413924592381641,-1.060780375068699,0.7644506429122933,-0.9428191641847852,-1.1492512832316346,-1.2082318886735917,1.2166352846339632,-1.3163629986505128,0.882411853796207,-1.1689114850456204,-1.2082318886735917,-1.1492512832316346,-0.6577462378819932,0.8529215510752285,1.0102031655871138,-0.8936686596498211,0.6759797347493579,-1.3261930995575053,-0.9428191641847852,0.7251302392843219,0.6956399365633436,0.6661496338423649,1.0495235692150853,-1.0902706777896776,0.9610526610521496,0.882411853796207,-0.7462171460449283,0.882411853796207,0.8529215510752285,0.6858098356563507,-0.9428191641847852,-1.4539844113484122,-1.355683402278484,-1.1689114850456204,-1.0312900723477205,0.9020720556101928,0.8627516519822216,0.9512225601451569,-1.0214599714407278,0.7349603401913148,-0.8445181551148572,0.9119021565171855,1.2166352846339632,-0.9723094669057636,0.7546205420053002,0.8234312483542501,-1.0116298705337348,-1.1001007786966701,-1.1590813841386276,1.334596495517877,-1.286872695929534,0.7841108447262788,-1.0706104759756918,-1.050950274161706,0.8529215510752285,0.7251302392843219,0.5875088265864225,1.0495235692150853,-0.7068967424169572,1.074324539227782,-0.8445181551148572,-1.173600817753902,0.7742807438192859,1.0448342365068033,0.8777225210879253,1.2905867591816242,0.7251302392843219,0.6858098356563507,0.7546205420053002,-0.8641783569288425,1.8417770708163796,0.6024796956921259,-1.0902706777896776,0.9610526610521496,1.000373064680121,1.1529653464837244,1.005513832878832,0.6268292302143935,-1.4095232395217296,-0.9428191641847852,-1.296702796836527,0.8089118147389756,0.7447904410983075,0.7251302392843219,-1.045809505962995,0.7742807438192859,-0.9919696687197491,1.1379944773780206,-0.9821395678127565,1.0841546401347746,1.1038148419487603,-1.2227513222888662,-1.1834309186608951,0.9170429247158964,-0.5437696988632038,-1.0261493041490093,-0.5044492952352325,1.7336459608394585,-1.2325814231958592,1.0102031655871138,-0.48478909342124676,-1.0804405768826846,-0.7509064787532106,-0.8885278914511099,-0.9573385978000599,-0.9376783959860742,-0.9526492650917778,-0.5241094970492179,1.005513832878832,-1.1539406159399161,-1.0654697077769806,-1.2424115241028515,-0.8885278914511099,-1.124450313218938,-0.9573385978000599,-0.8098870841951673,-0.9769987996140452,0.8285720165529613,-1.0752998086839738,1.6844954563044943,1.113644942855753,-1.2424115241028515,0.990542963773128,-0.8688676896371245,-0.6820957724042603,-0.38179875164303645,1.24143625464666,-0.7214161760322317,-1.0902706777896776,0.8430914501682356,-0.1505656625834905,-0.9821395678127565,-0.8740084578358353,0.9217322574241784,-1.1099308796036633,-1.2770425950225415,0.6858098356563507,1.0790138719360638,-1.1295910814176489,0.7546205420053002,-0.6970666415099646,0.8136011474472573,-1.2377221913945704,1.0396934683080923,0.8037710465402645,-0.9624793659987706,-0.8641783569288425,-0.9723094669057636,1.1183342755640349,0.607169028400408,-0.9428191641847852,1.1576546791920062,1.0298633674010995,-1.1984017877665984,-1.1492512832316346,-1.0706104759756918,0.7939409456332714,0.7447904410983075,-1.050950274161706,-1.0214599714407278,-1.119760980510656,-0.7855375496728996,1.0396934683080923,0.7251302392843219,0.8922419547031999,-1.1984017877665984,-0.9821395678127565,-1.286872695929534,-0.9231589623707996,-1.0214599714407278,1.0396934683080923,0.9512225601451569,1.2461255873549415,-1.060780375068699,-1.2377221913945704,-0.9919696687197491,-1.0706104759756918,-1.050950274161706,-1.0214599714407278,0.9413924592381641,-1.1689114850456204,0.9020720556101928,0.8136011474472573,0.8234312483542501,1.000373064680121,0.7447904410983075,0.5875088265864225,-1.2278920904875772,-1.2377221913945704,-1.0312900723477205,-1.001799769626742,-0.9919696687197491,0.7841108447262788,0.7153001383773291,0.8136011474472573,-0.903498760556814,0.9807128628661352,1.0396934683080923,-1.178741585952613,-1.188571686859606,-1.050950274161706,-1.2475522923015627,-1.0902706777896776,0.7251302392843219,0.8430914501682356,-0.775707448765907,-0.7855375496728996,0.7349603401913148,-1.2475522923015627,0.8037710465402645,0.548188422958451,1.1773148810059921,-0.8445181551148572,1.0298633674010995,0.9807128628661352,-0.903498760556814,0.990542963773128,0.9512225601451569,0.8136011474472573,-1.2278920904875772,0.8725817528892142,-0.9526492650917778,-0.7658773478589143,-1.1394211823246418,0.9020720556101928,-0.9231589623707996,0.882411853796207,1.0200332664941065,-1.4441543104414194,-1.0902706777896776,0.7302710074830328,0.8627516519822216,1.0298633674010995,-1.0902706777896776,-1.178741585952613,-0.8936686596498211,0.607169028400408,0.8725817528892142,1.1969750828199774,-0.9919696687197491,0.5678486247724365,-0.9133288614638064,-1.0902706777896776,-0.8641783569288425,-0.903498760556814,-0.9133288614638064,-1.1295910814176489,-1.050950274161706,-1.050950274161706,-1.2180619895805844,0.9708827619591425,1.2559556882619345,-1.1590813841386276,0.9119021565171855,-1.2180619895805844,0.8529215510752285,1.0102031655871138,-1.1590813841386276,-1.4539844113484122,0.8136011474472573,-1.1001007786966701,-1.0116298705337348,-0.8641783569288425,0.9020720556101928,0.9020720556101928,-0.8641783569288425,1.2166352846339632,0.8234312483542501,-0.883838558742828,-1.001799769626742,0.9610526610521496,1.0298633674010995,0.7742807438192859,1.0790138719360638,0.7742807438192859,-0.834688054207864,-0.7902268823811817,-0.8688676896371245,-0.9671686987070527,1.0102031655871138,-0.9966590014280309,0.8627516519822216,-0.8983579923581029,0.6169991293074005,0.7054700374703363,0.7546205420053002,1.0448342365068033,0.7349603401913148,-0.6774064396959788,-0.8248579533008711,-1.0902706777896776,0.7349603401913148,1.000373064680121,0.9020720556101928,-0.7363870451379356,1.0200332664941065,0.9807128628661352,-1.1590813841386276,0.990542963773128,0.8136011474472573,-0.6912212124680958,0.7644506429122933,-1.2082318886735917,-1.2278920904875772,-1.2475522923015627,-0.8492074878231386,0.882411853796207,0.8234312483542501,-1.0706104759756918,1.000373064680121,-1.2672124941155485,-1.0949600104979593,1.2854459909829132,0.6956399365633436,0.7054700374703363,0.9807128628661352,1.0691837710290708,0.7841108447262788,0.7054700374703363,-1.0804405768826846,1.0102031655871138,1.1085041746570423,0.7054700374703363,-1.060780375068699,-1.1295910814176489,-1.1099308796036633,0.7939409456332714,-1.0706104759756918,0.6366593311213864,-0.7462171460449283,1.0298633674010995,1.0986740737500493,0.7153001383773291,0.7447904410983075,1.0888439728430563,1.3200770619026028,0.597338927493415,-1.2377221913945704,-1.060780375068699,0.9465332274368747,0.8922419547031999,-1.3851737049994624,-0.834688054207864,-1.001799769626742,-1.2672124941155485,-1.2770425950225415,0.6858098356563507,-1.296702796836527,0.9413924592381641,0.9610526610521496,0.9708827619591425,1.005513832878832,-1.286872695929534,-1.119760980510656,-1.1689114850456204,0.8627516519822216,0.8037710465402645,0.9807128628661352,-1.060780375068699,0.990542963773128,0.9807128628661352,1.0102031655871138,1.1085041746570423,-0.9526492650917778,-0.5241094970492179,-0.3373375798163543,-0.932989063277792,0.9465332274368747,-0.932989063277792,0.7054700374703363,1.005513832878832,-1.5078242485916582,0.7401011083900255,-0.8295472860091532,0.9512225601451569,-1.0411201732547133,-0.9133288614638064,1.3200770619026028,-0.8779931297009598,0.8285720165529613,0.5580185238654438,0.8922419547031999,0.882411853796207,-0.7855375496728996,-0.883838558742828,-1.2278920904875772,0.7546205420053002,-1.1099308796036633,-0.9821395678127565,0.8136011474472573,-1.257382393208556,0.9020720556101928,-1.0214599714407278,-1.1001007786966701,-1.2180619895805844,0.7251302392843219,-1.1295910814176489,0.8234312483542501,1.0593536701220778,0.8037710465402645,-1.1295910814176489,-0.9821395678127565,0.7349603401913148,0.7644506429122933,-1.4441543104414194,0.8234312483542501,0.8529215510752285,-1.0902706777896776,-1.3163629986505128,-1.3065328977435198,0.9119021565171855,-1.1539406159399161,0.8627516519822216,0.7841108447262788,-1.257382393208556,0.9807128628661352,-1.0902706777896776,-1.0804405768826846,-1.0312900723477205,-1.1984017877665984,-1.2377221913945704,-0.9919696687197491,0.9413924592381641,-1.286872695929534,-0.9723094669057636,-0.8051977514868852,-1.2180619895805844,-1.0706104759756918,0.8037710465402645,1.5370439426996019,0.7251302392843219,1.2021158510186887,0.882411853796207,0.8430914501682356,0.8922419547031999,-1.188571686859606,-1.0214599714407278,-0.8393773869161456,0.8922419547031999,-1.060780375068699,-1.1689114850456204,-1.1539406159399161,-0.9671686987070527,-1.1984017877665984,-0.8445181551148572,-0.9231589623707996,-1.1984017877665984,0.9956837319718391,-1.178741585952613,0.597338927493415,0.7251302392843219,-0.9133288614638064,0.8332613492612428,-1.1394211823246418,0.7447904410983075,-0.9526492650917778,-0.9624793659987706,1.5272138417926093,-0.6919258733112537,1.005513832878832,0.7499312092970185,0.9807128628661352,-0.5044492952352325,-0.298017176188383,-0.2586967725604116,-0.6027503043051606,1.615684749955545,-0.5732600015841824,-0.5044492952352325,-1.0851299095909666,-1.0851299095909666,-0.6231151669623036,-0.9966590014280309,1.1038148419487603,0.6811205029480688,-0.18005596530446877,-0.7803967814741888,0.6909506038550616,1.1038148419487603,-1.1834309186608951,1.000373064680121,-0.3963181852583112,1.6353449517695304,0.9760235301578535,1.0448342365068033,1.7631362635604373,-0.2783569743743975,-1.0902706777896776,1.6255148508625372,0.9217322574241784,0.9807128628661352,-1.2770425950225415,0.8430914501682356,0.990542963773128,-0.9723094669057636,1.0593536701220778,-1.1099308796036633,1.0593536701220778,1.0298633674010995,0.8430914501682356,1.1576546791920062,0.9020720556101928,0.990542963773128,-1.2475522923015627,-1.0312900723477205,-1.1099308796036633,-0.7658773478589143,0.8922419547031999,0.7841108447262788,-1.1099308796036633,0.8136011474472573,-1.2180619895805844,0.7939409456332714,0.8627516519822216,0.8136011474472573,-1.1295910814176489,-1.060780375068699,1.0396934683080923,1.1969750828199774,-1.1295910814176489,1.1773148810059921,0.8234312483542501,-1.060780375068699,0.8430914501682356,-0.9723094669057636,0.8037710465402645,0.7447904410983075,-1.1689114850456204,-0.9526492650917778,0.838402117459954,0.8627516519822216,-1.3261930995575053,-1.355683402278484,0.6661496338423649,1.0495235692150853,-1.1394211823246418,-1.296702796836527,-1.1099308796036633,-0.903498760556814,1.1281643764710279,0.9315623583311712,-0.8248579533008711,-1.178741585952613,0.8234312483542501,-0.883838558742828,0.7644506429122933,-0.8740084578358353,-0.9624793659987706,-1.2475522923015627,-1.2672124941155485,0.7841108447262788,0.9315623583311712,0.7251302392843219,1.2461255873549415,0.5875088265864225,1.0495235692150853,0.8332613492612428,1.1281643764710279,1.0298633674010995,0.8529215510752285,0.7153001383773291,0.7251302392843219,-1.257382393208556,-1.2672124941155485,-1.2475522923015627,0.7251302392843219,0.7939409456332714,0.7349603401913148,-1.296702796836527,1.0986740737500493,-1.1394211823246418,0.8627516519822216,0.8332613492612428,-1.2915620286378162,0.7841108447262788,0.9268730256228895,0.7447904410983075,0.8627516519822216,1.0200332664941065,1.000373064680121,-0.834688054207864,1.0790138719360638,-1.1590813841386276,-1.1689114850456204,-1.2475522923015627,0.990542963773128,-1.178741585952613,-1.1492512832316346,0.6614603011340833,-0.9376783959860742,0.8037710465402645,0.8430914501682356,-0.9624793659987706,-1.0902706777896776,-1.050950274161706,0.6661496338423649,-0.5889355315330435,-1.119760980510656,-1.4539844113484122,-1.1984017877665984,-1.2180619895805844,-0.9428191641847852,-1.0214599714407278,1.0396934683080923,0.7644506429122933,0.7841108447262788,0.7841108447262788,-0.1603957634904836,1.7631362635604373,1.1478245782850134,-1.1492512832316346,0.8037710465402645,1.1431352455767316,-1.1394211823246418,-1.1001007786966701,1.18316031004786,1.5763643463275732,0.769591411111004,-1.2278920904875772,0.8037710465402645,-1.0312900723477205,-1.188571686859606,0.8037710465402645,-1.1394211823246418,-0.7607365796602031,1.0986740737500493,0.9217322574241784,0.9020720556101928,0.9610526610521496,-1.0064891023350238,-1.1295910814176489,-1.1689114850456204,-1.1099308796036633,-1.0804405768826846,-1.0411201732547133,0.882411853796207,-1.2180619895805844,0.7644506429122933,-1.1984017877665984,-1.119760980510656,-1.119760980510656,0.8529215510752285,1.015343933785825,0.7546205420053002,1.2709265573676383,-1.1492512832316346,-1.1984017877665984,-1.163770716846909,1.0691837710290708,0.9512225601451569,1.1379944773780206,0.7447904410983075,1.2264653855409562,-1.1001007786966701,-1.001799769626742,-1.060780375068699,-1.0804405768826846,0.7644506429122933,0.6956399365633436,-0.7462171460449283,0.8627516519822216,-0.932989063277792,0.9217322574241784,0.7841108447262788,0.7153001383773291,0.7841108447262788,0.8037710465402645,-1.1689114850456204,1.0790138719360638,-1.0804405768826846,0.882411853796207,-0.9723094669057636,0.8529215510752285,1.0986740737500493,1.0691837710290708,-1.2082318886735917,-1.0902706777896776,-1.001799769626742,1.0251740346928175,-0.9624793659987706,1.064494438320789,-1.3898630377077443,0.9020720556101928,-1.257382393208556,1.000373064680121,0.6366593311213864,-1.296702796836527,-1.257382393208556,-0.9376783959860742,0.9020720556101928,-1.2278920904875772,0.990542963773128,0.8037710465402645,-1.355683402278484,0.8234312483542501,-1.4685038449636867,0.8136011474472573,0.7153001383773291,-0.8000569832881744,0.8725817528892142,0.9217322574241784,0.9020720556101928,1.0790138719360638,-1.2180619895805844,-0.9278482950790812,0.9610526610521496,-1.1295910814176489,-0.9769987996140452,0.7742807438192859,1.0102031655871138,-0.9723094669057636,-0.9231589623707996,-0.24886667165341883,1.6844954563044943,-1.0163192032420167,1.6943255572114875,-0.7115860751252392,0.9956837319718391,-1.4586737440566941,-0.6813911115611033,-0.7509064787532106,-1.104790111404952,-0.7902268823811817,1.1333051446697386,-1.045809505962995,-1.0163192032420167,-1.2620717259168375,-0.18005596530446877,-1.163770716846909,-0.9278482950790812,-0.8983579923581029,-1.3851737049994624,-0.2390365707464261,1.064494438320789,0.9661934292508608,-0.731246276939225,0.7153001383773291,0.6956399365633436,0.9020720556101928,-0.8740084578358353,0.990542963773128,0.8725817528892142,1.0102031655871138,-1.0312900723477205,-1.1492512832316346,-1.1689114850456204,-1.0214599714407278,-1.2475522923015627,-0.9428191641847852,0.9807128628661352,0.7251302392843219,-1.286872695929534,0.9610526610521496,0.7054700374703363,0.9610526610521496,-1.2770425950225415,-0.9821395678127565,-1.0312900723477205,-0.8150278523938782,0.8332613492612428,-1.355683402278484,-1.2180619895805844,-1.060780375068699,-1.178741585952613,0.7153001383773291,-1.2278920904875772,0.7742807438192859,0.990542963773128,-1.2180619895805844,0.8529215510752285,0.8627516519822216,0.8529215510752285,-1.2770425950225415,0.8725817528892142,0.9807128628661352,-1.045809505962995,0.7054700374703363,-1.050950274161706,-1.050950274161706,0.8430914501682356,0.882411853796207,-1.473644613162398,0.8234312483542501,0.7153001383773291,1.1379944773780206,-1.0214599714407278,0.7644506429122933,0.9610526610521496,0.9610526610521496,0.8922419547031999,0.9413924592381641,0.8725817528892142,0.9807128628661352,0.7546205420053002,1.1038148419487603,0.9807128628661352,-0.8641783569288425,-1.0116298705337348,0.9610526610521496,-1.2475522923015627,-1.0411201732547133,0.7153001383773291,0.7153001383773291,0.7841108447262788,1.167484780098999,-1.1984017877665984,0.4990379184234868,-0.9376783959860742,1.123475043762746,-1.2325814231958592,-1.0163192032420167,-1.050950274161706,-1.124450313218938,-1.2475522923015627,-1.0902706777896776,0.7054700374703363,0.8922419547031999,0.7939409456332714,-0.9821395678127565,0.6956399365633436,-0.9133288614638064,-1.3950038059064553,0.7349603401913148,0.7054700374703363,0.5580185238654438,1.0102031655871138,-1.1492512832316346,-0.9133288614638064,-0.9723094669057636,0.8922419547031999,-0.8740084578358353,-0.9624793659987706,1.167484780098999,-1.1590813841386276,0.6268292302143935,0.8725817528892142,-1.257382393208556,0.7841108447262788,-0.5830901024911749,-1.0706104759756918,-1.001799769626742,-1.0116298705337348,0.7939409456332714,-1.178741585952613,-1.2180619895805844,0.7939409456332714,-1.119760980510656,0.8234312483542501,-1.2082318886735917,-0.7953676505798928,0.8627516519822216,0.7939409456332714,-1.188571686859606,0.7742807438192859,-1.1099308796036633,-1.2180619895805844,-1.1001007786966701,-1.1001007786966701,-0.9081880932650956,-1.2180619895805844,0.7054700374703363,0.8678924201809325,-1.1590813841386276,-1.1984017877665984,1.0986740737500493,0.8627516519822216,0.7939409456332714,-1.050950274161706,-1.1001007786966701,0.8529215510752285,0.8725817528892142,-1.1492512832316346,-1.188571686859606,0.7841108447262788,-1.119760980510656,0.5186981202374723,-0.7410763778462175,-1.1441105150329234,-0.9376783959860742,0.6464894320283792,0.8529215510752285,-1.2475522923015627,0.7644506429122933,-1.2082318886735917,-1.1295910814176489,-0.9428191641847852,0.7939409456332714,0.5186981202374723,0.7153001383773291,1.0790138719360638,-1.4638145122554052,-1.060780375068699,-1.3851737049994624,0.8136011474472573,-1.1492512832316346,-1.0654697077769806,-0.9769987996140452,1.0350041355998105,1.6058546490485517,-0.8590375887301315,-0.701755974218246,0.5678486247724365,0.7939409456332714,-1.2180619895805844,0.7939409456332714,-1.0902706777896776,-0.9919696687197491,-1.1984017877665984,-0.8248579533008711,-0.9278482950790812,1.1085041746570423,0.8627516519822216,0.8529215510752285,0.6858098356563507,1.0691837710290708,1.1085041746570423,-0.8786977905441171,-0.8051977514868852,0.7054700374703363,-0.9376783959860742,0.8136011474472573,-0.8590375887301315,-1.188571686859606,0.9315623583311712,-1.1001007786966701,0.8234312483542501,-1.163770716846909,-1.2475522923015627,-1.1394211823246418,1.231606153739667,-0.9180181941720884,-0.9671686987070527,1.1922857501116957,1.0841546401347746,-1.0949600104979593,1.4289128327226808,1.182455649204703,-1.0804405768826846,-0.3668278825373328,1.7533061626534443,0.5186981202374723,-0.2343472380381443,-0.6027503043051606,-0.8295472860091532,1.005513832878832,1.5370439426996019,1.4584031354436593,-1.124450313218938,-0.26852687346740467,-1.2278920904875772,-0.6027503043051606,0.7447904410983075,-1.1590813841386276,0.8529215510752285,-1.0214599714407278,0.7054700374703363,-1.0411201732547133,1.0691837710290708,0.9512225601451569,1.2461255873549415,1.0691837710290708,0.8332613492612428,-1.1394211823246418,0.7447904410983075,-0.9526492650917778,-1.178741585952613,-1.257382393208556,-1.2278920904875772,-1.060780375068699,-1.2082318886735917,-0.9231589623707996,-1.1295910814176489,0.7546205420053002,0.8037710465402645,-1.286872695929534,0.9708827619591425,-1.2082318886735917,-0.9231589623707996,1.1085041746570423,0.8234312483542501,-1.0214599714407278,0.838402117459954,0.9956837319718391,-1.0654697077769806,-0.7214161760322317,1.17262554829771,-1.0752998086839738,1.0350041355998105,0.8430914501682356,1.7336459608394585,1.064494438320789,-1.0064891023350238,0.8973827229019109,-1.2770425950225415,0.8580623192739397,0.8973827229019109,-0.9180181941720884,-0.8936686596498211,-0.3471676807233473,-1.0163192032420167,-0.8393773869161456,0.8777225210879253,1.2021158510186887,1.123475043762746,-0.8983579923581029,1.7776556971757111,-0.9671686987070527,-1.0064891023350238,1.064494438320789,-1.0261493041490093,-1.173600817753902,-0.7214161760322317,0.5088680193304796,-1.296702796836527,-1.2082318886735917,-1.1590813841386276,1.0298633674010995,-0.9526492650917778,1.5272138417926093,1.4780633372576453,-0.7803967814741888,-0.9081880932650956,-0.5634299006771892,0.8430914501682356,-0.8885278914511099,1.1529653464837244,0.8627516519822216,-1.473644613162398,0.7841108447262788,-0.9231589623707996,-0.9624793659987706,0.6858098356563507,-1.2180619895805844,-1.0116298705337348,0.7644506429122933,-1.1099308796036633,0.8136011474472573,-1.1099308796036633,-0.9966590014280309,0.7546205420053002,-1.2180619895805844,-1.178741585952613,0.9610526610521496,0.8234312483542501,1.000373064680121,0.7447904410983075,0.7251302392843219,-1.1590813841386276,-0.8543482560218495,1.0350041355998105,1.113644942855753,1.0200332664941065,0.8922419547031999,0.9119021565171855,-0.9376783959860742,-0.903498760556814,0.8234312483542501,0.848232218366947,-1.0312900723477205,1.0200332664941065,1.000373064680121,0.7939409456332714,0.8725817528892142,-1.1394211823246418,-0.9919696687197491,0.7841108447262788,1.2119459519256814,-0.7607365796602031,-1.0312900723477205,-0.9475084968930669,1.0251740346928175,-1.045809505962995,-0.7502018179100529,0.7990817138319827,1.339737263716588,-1.0359794050560023,-0.44546868979327525,-0.5634299006771892,0.6024796956921259,-0.2881870752813904,-0.6125804052121533,-0.9723094669057636,-0.4356385888862828,-0.7509064787532106,0.9119021565171855,-1.060780375068699,0.8627516519822216,0.6759797347493579,1.0691837710290708,0.7251302392843219,0.7447904410983075,-1.2377221913945704,-1.2377221913945704,1.0298633674010995,1.1085041746570423,0.7644506429122933,0.6956399365633436,0.9708827619591425,0.9315623583311712,-1.3065328977435198,-1.2082318886735917,-1.2278920904875772,-0.9919696687197491,0.6366593311213864,-1.119760980510656,-1.2770425950225415,0.8234312483542501,-1.2672124941155485,-1.4244941086274339,-1.0312900723477205,1.1478245782850134,0.7251302392843219,-1.355683402278484,-1.4441543104414194,0.7742807438192859,-1.119760980510656,-0.903498760556814,0.8234312483542501,-1.3065328977435198,-0.7363870451379356,0.6858098356563507,-1.1689114850456204,1.0495235692150853,0.882411853796207,-1.1590813841386276,-1.1492512832316346,1.0691837710290708,-1.0312900723477205,-0.9133288614638064,0.7841108447262788,0.9315623583311712,-0.8150278523938782,0.9119021565171855,0.9217322574241784,0.7841108447262788,0.7546205420053002,-1.1984017877665984,-0.9624793659987706,-0.883838558742828,0.8136011474472573,0.6614603011340833,0.8037710465402645,0.6464894320283792,-1.119760980510656,0.9020720556101928,1.0593536701220778,-0.8248579533008711,0.9413924592381641,0.8627516519822216,0.8234312483542501,0.7939409456332714,-1.2377221913945704,0.7251302392843219,1.167484780098999,0.6759797347493579,-0.8641783569288425,0.9512225601451569,0.5776787256794295,-1.355683402278484,-0.9526492650917778,0.9807128628661352,-0.8641783569288425,-1.0312900723477205,-0.7658773478589143,-0.8641783569288425,-0.8543482560218495,0.9020720556101928,0.8332613492612428,-0.8936686596498211,1.3149362937038915,-0.8936686596498211,0.8332613492612428,1.2559556882619345,1.1085041746570423,-1.414664007720441,0.8332613492612428,1.1773148810059921,0.7841108447262788,0.9315623583311712,0.9807128628661352,1.0298633674010995,0.7251302392843219,-1.001799769626742,1.1281643764710279,-1.2475522923015627,1.0495235692150853,0.7644506429122933,0.7447904410983075,-1.1001007786966701,0.6759797347493579,0.7841108447262788,0.990542963773128,-1.050950274161706,0.9217322574241784,0.9807128628661352,0.7841108447262788,0.990542963773128,-1.2770425950225415,-0.9624793659987706,-1.0214599714407278,-0.8740084578358353,0.8627516519822216,0.9315623583311712,-1.119760980510656,1.0593536701220778,1.000373064680121,1.0102031655871138,-1.1492512832316346,-1.4441543104414194,1.167484780098999,0.6858098356563507,0.7644506429122933,-1.2180619895805844,-0.7953676505798928,-1.2278920904875772,0.9217322574241784,1.167484780098999,0.7742807438192859,-0.7560472469519215,-1.0902706777896776,0.9315623583311712,1.0200332664941065,0.9020720556101928,-1.1394211823246418,-1.0804405768826846,0.8037710465402645,0.7644506429122933,-1.1001007786966701,0.8875526219949181,-1.4343242095344269,-1.2377221913945704,-1.050950274161706,-0.71672684332395,-1.1001007786966701,-1.050950274161706,-1.286872695929534,-1.0804405768826846,-1.1984017877665984,0.8037710465402645,0.7349603401913148,-0.9919696687197491,-1.050950274161706,-1.1295910814176489,-1.2082318886735917,0.7939409456332714,-1.1295910814176489,0.6858098356563507,-1.257382393208556,-1.2180619895805844,-1.001799769626742,0.7153001383773291,-1.1001007786966701,-0.7803967814741888,0.9170429247158964,-1.3655135031854766,0.9512225601451569,0.9020720556101928,1.2166352846339632,0.9610526610521496,-0.40614828616530413,-1.045809505962995,1.0986740737500493,0.9217322574241784,0.882411853796207,-0.834688054207864,0.9807128628661352,0.9610526610521496,-1.0312900723477205,-1.1394211823246418,0.6858098356563507,0.7054700374703363,0.990542963773128,-1.2082318886735917,0.8529215510752285,0.9217322574241784,-0.8543482560218495,1.3051061927968988,0.7447904410983075,-1.1394211823246418,0.8332613492612428,0.6759797347493579,0.7447904410983075,-1.045809505962995,0.5875088265864225,1.167484780098999,0.8430914501682356,0.8037710465402645,-0.8150278523938782,1.0200332664941065,-1.0804405768826846,0.8922419547031999,0.7153001383773291,0.8529215510752285,-1.0902706777896776,0.4990379184234868,0.9512225601451569,0.9119021565171855,-1.1001007786966701,-0.9966590014280309,1.0200332664941065,-1.2278920904875772,-1.0411201732547133,0.7742807438192859,-1.0804405768826846,0.8037710465402645,0.8332613492612428,0.7447904410983075,0.9413924592381641,-1.1590813841386276,0.9315623583311712,0.8037710465402645,0.7153001383773291,0.7251302392843219,0.9512225601451569,1.0495235692150853,-1.0411201732547133,0.7153001383773291,1.0495235692150853,1.0102031655871138,0.5088680193304796,-1.1001007786966701,0.9119021565171855,1.1183342755640349,-1.188571686859606,-0.9821395678127565,0.6956399365633436,0.7349603401913148,0.7054700374703363,-0.9821395678127565,-0.8543482560218495,-0.5044492952352325,0.9807128628661352,1.0495235692150853,0.9807128628661352,0.8529215510752285,0.8922419547031999,0.8430914501682356,-1.1689114850456204,-1.119760980510656,1.0790138719360638,-1.3065328977435198,0.7939409456332714,-1.178741585952613,0.9413924592381641,-0.9231589623707996,-1.060780375068699,-1.2082318886735917,-0.9526492650917778,1.0396934683080923,-1.1099308796036633,0.7742807438192859,-1.119760980510656,-1.0902706777896776,-0.903498760556814,1.000373064680121,0.6464894320283792,1.0448342365068033,0.9512225601451569,0.9807128628661352,-1.4638145122554052,0.7939409456332714,1.000373064680121,-0.7855375496728996,0.5875088265864225,0.8136011474472573,-1.2180619895805844,1.0593536701220778,-1.0804405768826846,-1.2770425950225415,-1.1295910814176489,0.7841108447262788,0.7939409456332714,-1.060780375068699,-1.1492512832316346,1.1379944773780206,-1.050950274161706,0.7841108447262788,0.9217322574241784,1.0495235692150853,0.9413924592381641,1.0691837710290708,0.7644506429122933,0.6858098356563507,0.8136011474472573,-1.188571686859606,-0.8445181551148572,0.9413924592381641,0.7644506429122933,-1.0214599714407278,0.6661496338423649,0.7447904410983075,0.8922419547031999,-0.9526492650917778,-1.2278920904875772,-1.0312900723477205,0.8627516519822216,-1.0312900723477205,0.7251302392843219,-0.9376783959860742,-1.124450313218938,-1.0411201732547133,0.8234312483542501,-1.1492512832316346,-1.178741585952613,0.7349603401913148,1.1576546791920062,0.990542963773128,0.8725817528892142,-1.1099308796036633,0.882411853796207,0.9610526610521496,1.0200332664941065,-1.3950038059064553,0.7742807438192859,-1.188571686859606,0.9807128628661352,1.000373064680121,0.8922419547031999,-1.0411201732547133,0.8529215510752285,1.2166352846339632,-1.0411201732547133,0.9413924592381641,0.8234312483542501,-1.1001007786966701,0.8725817528892142,-1.1590813841386276,-1.0214599714407278,0.9020720556101928,0.7644506429122933,1.0200332664941065,-1.2278920904875772,0.7644506429122933,-1.050950274161706,-0.903498760556814,0.6661496338423649,-0.8543482560218495,-1.2377221913945704,0.9708827619591425,-0.9376783959860742,0.9512225601451569,0.7546205420053002,-0.8150278523938782,-1.3655135031854766,-1.296702796836527,0.8627516519822216,-1.001799769626742,-0.37665798344432555,-1.0804405768826846,1.0396934683080923,0.7251302392843219,0.7644506429122933,0.7054700374703363,0.7251302392843219,0.8037710465402645,0.9512225601451569,1.0298633674010995,-1.178741585952613,-0.8641783569288425,-0.9133288614638064,-0.9526492650917778,0.7644506429122933,-1.1001007786966701,1.1183342755640349,0.6268292302143935,0.9119021565171855,1.1478245782850134,-1.2672124941155485,1.0200332664941065,0.8332613492612428,-1.2278920904875772,-0.8543482560218495,-0.9821395678127565,1.3051061927968988,-0.7462171460449283,0.9119021565171855,-1.188571686859606,-0.7462171460449283,0.9807128628661352,-1.2180619895805844,0.8922419547031999,0.9807128628661352,1.0691837710290708,0.9315623583311712,0.9315623583311712,0.8037710465402645,-1.1492512832316346,-1.4048339068134479,-1.0163192032420167,-1.178741585952613,1.113644942855753,-1.0902706777896776,0.6956399365633436,1.0495235692150853,-1.188571686859606,0.8922419547031999,-1.0902706777896776,0.9413924592381641,0.8529215510752285,0.9020720556101928,0.9119021565171855,-1.296702796836527,0.8627516519822216,-1.1342804141259304,-1.1984017877665984,0.656319532935372,-1.3655135031854766,-0.9428191641847852,0.6858098356563507,0.9217322574241784,0.9217322574241784,-0.8885278914511099,0.6169991293074005,0.4892078175164942,0.7349603401913148,-1.1295910814176489,-1.1295910814176489,0.9119021565171855,0.7841108447262788,0.7153001383773291,0.8234312483542501,0.9807128628661352,-0.834688054207864,-1.0312900723477205,1.005513832878832,0.9858536310648465,-1.1590813841386276,-1.119760980510656,0.7447904410983075,0.7841108447262788,0.8332613492612428,0.9217322574241784,-1.1394211823246418,-0.9723094669057636,1.1529653464837244,0.9708827619591425,0.8136011474472573,0.8037710465402645,-1.0949600104979593,0.6858098356563507,0.4990379184234868,0.7447904410983075,-1.296702796836527,-0.7363870451379356,-1.0706104759756918,0.8234312483542501,-1.1295910814176489,-0.9671686987070527,0.7054700374703363,0.8627516519822216,1.1773148810059921,-1.0902706777896776,-0.9278482950790812,-1.0411201732547133,-0.9919696687197491,0.9020720556101928,-1.001799769626742,0.6956399365633436,-1.257382393208556,-1.1295910814176489,0.9807128628661352,-1.1394211823246418,-1.1394211823246418,0.990542963773128,-1.1689114850456204,-1.0261493041490093,0.7546205420053002,0.8136011474472573,-1.1394211823246418,-1.1099308796036633,1.0200332664941065,-1.2082318886735917,0.8529215510752285,-1.188571686859606,0.882411853796207,0.8430914501682356,-1.1689114850456204,-1.0359794050560023,-0.8688676896371245,-1.3950038059064553,-1.188571686859606,1.2952760918899058,1.1431352455767316,1.0102031655871138,1.0350041355998105,-1.1342804141259304,-1.5078242485916582,-1.1689114850456204,0.9315623583311712,-1.178741585952613,0.6956399365633436,0.7644506429122933,0.7251302392843219,0.9072128238089038,-0.44546868979327525,-0.4159783870722968,1.005513832878832,-0.9133288614638064,0.9020720556101928,0.7054700374703363,-1.1342804141259304,1.24143625464666,-1.0902706777896776,0.7644506429122933,0.8430914501682356,-1.1984017877665984,-0.7902268823811817,0.8136011474472573,0.8234312483542501,-1.1295910814176489,-1.4539844113484122,-1.0752998086839738,1.0939847410417674,0.9807128628661352,-1.104790111404952,-1.286872695929534,-1.1590813841386276,0.8136011474472573,-1.119760980510656,0.8922419547031999,0.7447904410983075,-1.0654697077769806,-0.986828900521038,1.1333051446697386,-1.0359794050560023,-0.9133288614638064,1.7729663644674298,-0.3963181852583112,0.8430914501682356,1.7139857590254728,-0.9723094669057636,1.054664337413796,-1.4244941086274339,-1.0654697077769806,-0.8885278914511099,0.8875526219949181,-1.104790111404952,-0.8000569832881744,-0.9081880932650956,-1.055639606869988,-0.9573385978000599,1.123475043762746,-0.9475084968930669,-1.173600817753902,-1.0752998086839738,1.1431352455767316,1.1431352455767316,-0.8786977905441171,0.8430914501682356,0.9268730256228895,-0.903498760556814,0.9367031265298821,-0.8051977514868852,0.9367031265298821,1.0251740346928175,0.769591411111004,0.8529215510752285,0.882411853796207,-0.9671686987070527,-1.124450313218938,0.8285720165529613,1.2119459519256814,-0.986828900521038,0.8136011474472573,0.7153001383773291,0.8627516519822216,0.7841108447262788,-0.8248579533008711,-1.0706104759756918,0.7447904410983075,1.1576546791920062,1.2461255873549415,-1.0312900723477205,0.7153001383773291,-1.0411201732547133,-1.1492512832316346,-1.1001007786966701,-1.1099308796036633,-1.1590813841386276,-1.0312900723477205,1.1478245782850134,0.8234312483542501,-1.050950274161706,1.1281643764710279,0.8332613492612428,-1.1590813841386276,-1.1492512832316346,0.7349603401913148,-1.1001007786966701,-1.188571686859606,0.7546205420053002,-1.0214599714407278,-1.2180619895805844,0.6858098356563507,0.7644506429122933,0.882411853796207,-1.1984017877665984,-0.9428191641847852,0.7251302392843219,0.8136011474472573,-1.2672124941155485,1.0691837710290708,-0.9428191641847852,0.7644506429122933,-0.8641783569288425,0.9315623583311712,-0.9526492650917778,0.6858098356563507,-1.2377221913945704,0.9413924592381641,0.656319532935372,1.1379944773780206,-0.8936686596498211,0.5285282211444655,1.1576546791920062,0.8136011474472573,-1.296702796836527,0.7644506429122933,0.5088680193304796,0.6759797347493579,0.7251302392843219,-1.1689114850456204,-0.9133288614638064,-0.298017176188383,0.8627516519822216,-1.3458533013714913,1.0790138719360638,0.7349603401913148,1.0593536701220778,1.2166352846339632,-1.1295910814176489,0.9413924592381641,0.9119021565171855,-1.1342804141259304,0.7546205420053002,-1.050950274161706,-1.0214599714407278,0.9807128628661352,-1.3458533013714913,-1.0312900723477205,0.8234312483542501,0.8922419547031999,-0.986828900521038,-1.0312900723477205,-1.2278920904875772,0.9020720556101928,0.9315623583311712,0.6858098356563507,-1.1394211823246418,0.4892078175164942,1.0200332664941065,0.7349603401913148,0.9020720556101928,-0.883838558742828,0.882411853796207,0.9119021565171855,1.0593536701220778,-1.0902706777896776,-0.9133288614638064,0.9512225601451569,0.8922419547031999,1.0495235692150853,0.5285282211444655,-1.0312900723477205,-1.060780375068699,-1.3065328977435198,-1.473644613162398,0.9119021565171855,1.2166352846339632,0.7447904410983075,-1.0411201732547133,-1.1590813841386276,0.9413924592381641,1.0790138719360638,0.8136011474472573,0.9807128628661352,0.9315623583311712,-1.2180619895805844,0.882411853796207,1.231606153739667,0.9858536310648465,1.054664337413796,0.9119021565171855,0.6464894320283792,0.8136011474472573,0.882411853796207,-1.050950274161706,0.7153001383773291,0.9858536310648465,0.9413924592381641,0.882411853796207,-1.2377221913945704,0.9119021565171855,0.7447904410983075,0.7841108447262788,0.7546205420053002,1.0986740737500493,-0.834688054207864,0.8430914501682356,1.0593536701220778,-1.188571686859606,-1.1295910814176489,0.8136011474472573,0.8627516519822216,0.8627516519822216,-1.1394211823246418,0.7546205420053002,-1.1492512832316346,-1.4539844113484122,-1.3261930995575053,0.6464894320283792,0.7644506429122933,1.0200332664941065,0.6464894320283792,-1.1984017877665984,-1.0706104759756918,-1.2377221913945704,-1.4048339068134479,0.7644506429122933,1.0593536701220778,0.9020720556101928,0.8529215510752285,0.8430914501682356,0.990542963773128,-1.2180619895805844,0.7349603401913148,-1.0116298705337348,-1.104790111404952,-0.8445181551148572,-1.178741585952613,0.9217322574241784,1.0888439728430563,0.8332613492612428,-0.8445181551148572,-1.3655135031854766,-1.0411201732547133,0.8037710465402645,-0.932989063277792,0.8627516519822216,-1.1492512832316346,0.8037710465402645,-1.4343242095344269,0.8922419547031999,0.8922419547031999,-1.1590813841386276,-1.119760980510656,1.1773148810059921,1.167484780098999,0.8725817528892142,0.990542963773128,1.000373064680121,1.1281643764710279,1.0396934683080923,0.9512225601451569,-0.8445181551148572,0.8037710465402645,-1.4441543104414194,-0.8936686596498211,0.8725817528892142,1.0986740737500493,1.0790138719360638,0.7153001383773291,0.7447904410983075,0.7841108447262788,-1.2475522923015627,-0.9526492650917778,-1.2770425950225415,-1.0312900723477205,0.9020720556101928,-0.903498760556814,-1.1099308796036633,-1.1295910814176489,0.7251302392843219,-0.8248579533008711,0.8136011474472573,0.9119021565171855,0.8725817528892142,0.8627516519822216,0.6759797347493579,0.7546205420053002,0.6661496338423649,0.7841108447262788,0.7349603401913148,-1.2180619895805844,-1.1492512832316346,-1.1099308796036633,0.9119021565171855,0.8037710465402645,-0.7953676505798928,0.9708827619591425,0.8627516519822216,1.0495235692150853,-1.0312900723477205,0.9217322574241784,0.9020720556101928,0.9413924592381641,-0.9133288614638064,0.8627516519822216,-1.1099308796036633,-1.119760980510656,1.1085041746570423,-1.0116298705337348,-1.1295910814176489,-1.2082318886735917,-1.1492512832316346,-1.178741585952613,0.9315623583311712,1.0102031655871138,0.9119021565171855,1.0200332664941065,-1.2278920904875772,-1.3163629986505128,-1.2377221913945704,-1.0902706777896776,-1.0312900723477205,-1.4441543104414194,0.7153001383773291,0.9020720556101928,-1.2180619895805844,-1.0902706777896776,-1.0312900723477205,-0.9231589623707996,-1.0706104759756918,0.8922419547031999,-1.286872695929534,0.9413924592381641,-0.8688676896371245,0.9315623583311712,0.882411853796207,0.656319532935372,0.8725817528892142,-0.20954626802544774,0.7644506429122933,-0.9428191641847852,-1.0163192032420167,0.9020720556101928,0.9708827619591425,-0.9133288614638064,-1.0804405768826846,-0.883838558742828,0.8922419547031999,0.9708827619591425,0.8627516519822216,0.9807128628661352,0.9020720556101928,0.7251302392843219,-1.2180619895805844,1.0298633674010995,-1.296702796836527,-1.0902706777896776,-1.188571686859606,0.8332613492612428,0.8037710465402645,0.7054700374703363,-0.9526492650917778,-1.2278920904875772,-1.0706104759756918,-0.8740084578358353,0.7644506429122933,1.0102031655871138,1.0396934683080923,-1.119760980510656,0.8136011474472573,0.8725817528892142,-1.1099308796036633,-1.2672124941155485,0.7251302392843219,0.9858536310648465,-1.286872695929534,-1.0804405768826846,-1.124450313218938,-1.2672124941155485,-0.8543482560218495,0.8922419547031999,0.7742807438192859,-1.1689114850456204,-1.1689114850456204,0.8430914501682356,1.0396934683080923,-1.257382393208556,-1.1984017877665984,0.7447904410983075,-1.4441543104414194,-0.8983579923581029,0.5088680193304796,-0.9180181941720884,-1.0411201732547133,-0.9180181941720884,-0.7902268823811817,-1.0359794050560023,0.7349603401913148,0.7106108056690471,0.9170429247158964,1.0495235692150853,-1.0706104759756918,-0.8295472860091532,-1.257382393208556,1.0888439728430563,0.9807128628661352,-1.055639606869988,-0.903498760556814,-1.001799769626742,-0.9821395678127565,-1.050950274161706,-1.1441105150329234,-0.5489104670619145,-0.9231589623707996,-0.9231589623707996,-1.2770425950225415,-1.1984017877665984,0.9807128628661352,1.0396934683080923,0.7939409456332714,-0.8590375887301315,0.8430914501682356,0.7644506429122933,-0.8786977905441171,-1.1295910814176489,-0.6231151669623036,-1.2129212213818734,1.064494438320789,1.6844954563044943,-0.4159783870722968,1.6648352544905087,-0.9278482950790812,1.8417770708163796,-0.8786977905441171,-1.2227513222888662,-1.045809505962995,-1.1539406159399161,-0.8393773869161456,-0.8983579923581029,-0.9180181941720884,-0.24886667165341883,0.9956837319718391,1.0251740346928175,1.231606153739667,1.0350041355998105,-0.8295472860091532,1.0350041355998105,1.5763643463275732,0.7251302392843219,-0.44546868979327525,-0.6820957724042603,-1.1394211823246418,-0.9180181941720884,1.5173837408856163,1.300416860088617,-0.8150278523938782,1.0593536701220778,-1.1590813841386276,0.8332613492612428,0.6956399365633436,0.6956399365633436,-1.060780375068699,-1.0752998086839738,0.7644506429122933,0.8430914501682356,0.7742807438192859,-0.7855375496728996,0.9610526610521496,0.9512225601451569,-1.1394211823246418,-1.2377221913945704,0.9020720556101928,0.8627516519822216,0.7447904410983075,0.8627516519822216,-1.1492512832316346,-1.4244941086274339,-1.001799769626742,0.8430914501682356,0.7939409456332714,0.8037710465402645,0.9315623583311712,-0.932989063277792,-1.1394211823246418,1.1773148810059921,-0.9624793659987706,-0.71672684332395,-1.188571686859606,-1.0902706777896776,0.7447904410983075,0.9119021565171855,-0.9624793659987706,-1.188571686859606,-1.2377221913945704,-0.8740084578358353,-1.1492512832316346,-0.7855375496728996,-1.3261930995575053,-1.050950274161706,0.7349603401913148,-0.9526492650917778,-1.188571686859606,1.0200332664941065,-1.0804405768826846,-0.9526492650917778,-1.2475522923015627,1.0986740737500493,-0.9723094669057636,-0.9821395678127565,1.2217760528326744,0.4990379184234868,-1.2278920904875772,1.167484780098999,1.0888439728430563,0.9119021565171855,1.0691837710290708,0.8332613492612428,1.0200332664941065,-1.1001007786966701,1.1281643764710279,-1.0116298705337348,-1.1492512832316346,0.656319532935372,-0.9919696687197491,0.6661496338423649,0.8332613492612428,1.1183342755640349,-1.178741585952613,-1.0902706777896776,0.5088680193304796,0.990542963773128,-0.9133288614638064,0.7054700374703363,-1.1590813841386276,-0.9624793659987706,0.990542963773128,0.7153001383773291,0.8234312483542501,0.8725817528892142,0.7447904410983075,0.4892078175164942,0.6268292302143935,-1.0804405768826846,1.2362954864479487,-1.0902706777896776,-1.3065328977435198,0.7447904410983075,0.7939409456332714,0.9315623583311712,1.1871449819129845,0.7251302392843219,0.7447904410983075,0.6759797347493579,0.9217322574241784,-1.050950274161706,-1.0706104759756918,-1.4343242095344269,0.7251302392843219,-1.257382393208556,0.8037710465402645,-1.119760980510656,0.607169028400408,-0.8051977514868852,0.9119021565171855,-0.9821395678127565,-1.1295910814176489,1.1281643764710279,0.6169991293074005,-1.2377221913945704,0.9413924592381641,-1.1492512832316346,-1.2672124941155485,0.990542963773128,-1.050950274161706,1.015343933785825,0.990542963773128,0.7251302392843219,-0.8150278523938782,1.6550051535835162,-0.3373375798163543,1.0102031655871138,-0.8098870841951673,-1.2377221913945704,0.6661496338423649,0.8627516519822216,0.6169991293074005,0.7251302392843219,1.0200332664941065,0.8529215510752285,0.8922419547031999,-0.9231589623707996,0.9807128628661352,-0.9133288614638064,-1.1295910814176489,0.7251302392843219,-1.2082318886735917,0.8922419547031999,0.7644506429122933,0.9020720556101928,-0.883838558742828,-1.1492512832316346,1.0102031655871138,0.8627516519822216,0.7644506429122933,1.0298633674010995,-0.9428191641847852,0.9610526610521496,1.074324539227782,-0.9526492650917778,0.7939409456332714,-0.9723094669057636,0.7447904410983075,0.8037710465402645,-0.7560472469519215,-1.0411201732547133,-1.0116298705337348,-0.883838558742828,-0.9133288614638064,0.7841108447262788,0.8332613492612428,-1.2672124941155485,1.2657857891689275,0.9119021565171855,-1.2082318886735917,0.8332613492612428,-0.903498760556814,1.1478245782850134,-1.119760980510656,0.7841108447262788,0.6759797347493579,-1.119760980510656,-1.2475522923015627,0.8725817528892142,-1.257382393208556,1.0986740737500493,1.0448342365068033,0.7841108447262788,1.0396934683080923,1.0200332664941065,-0.903498760556814,0.8332613492612428,1.0102031655871138,-0.8740084578358353,0.9020720556101928,-1.0411201732547133,-1.1099308796036633,-1.0116298705337348,-1.188571686859606,-1.2377221913945704,1.354256697331863,-1.4638145122554052,0.9413924592381641,0.7153001383773291,0.8234312483542501,-0.7855375496728996,-0.8150278523938782],\"yaxis\":\"y\",\"type\":\"scattergl\"},{\"hovertemplate\":\"x=%{x}<br>y=%{y}<br>size=%{marker.size}<extra></extra>\",\"legendgroup\":\"\",\"marker\":{\"color\":\"#636efa\",\"size\":[15,15,15,15],\"sizemode\":\"area\",\"sizeref\":0.0375,\"symbol\":\"circle\"},\"mode\":\"markers\",\"name\":\"\",\"orientation\":\"v\",\"showlegend\":false,\"x\":[-0.6700853319508058,-0.42235343566245476,4.483557205319789,1.435714531121801],\"xaxis\":\"x\",\"y\":[0.8776737128639077,-1.097408104296104,0.4406197620194004,-0.17523493737158355],\"yaxis\":\"y\",\"type\":\"scatter\"}],                        {\"template\":{\"data\":{\"bar\":[{\"error_x\":{\"color\":\"#2a3f5f\"},\"error_y\":{\"color\":\"#2a3f5f\"},\"marker\":{\"line\":{\"color\":\"#E5ECF6\",\"width\":0.5},\"pattern\":{\"fillmode\":\"overlay\",\"size\":10,\"solidity\":0.2}},\"type\":\"bar\"}],\"barpolar\":[{\"marker\":{\"line\":{\"color\":\"#E5ECF6\",\"width\":0.5},\"pattern\":{\"fillmode\":\"overlay\",\"size\":10,\"solidity\":0.2}},\"type\":\"barpolar\"}],\"carpet\":[{\"aaxis\":{\"endlinecolor\":\"#2a3f5f\",\"gridcolor\":\"white\",\"linecolor\":\"white\",\"minorgridcolor\":\"white\",\"startlinecolor\":\"#2a3f5f\"},\"baxis\":{\"endlinecolor\":\"#2a3f5f\",\"gridcolor\":\"white\",\"linecolor\":\"white\",\"minorgridcolor\":\"white\",\"startlinecolor\":\"#2a3f5f\"},\"type\":\"carpet\"}],\"choropleth\":[{\"colorbar\":{\"outlinewidth\":0,\"ticks\":\"\"},\"type\":\"choropleth\"}],\"contour\":[{\"colorbar\":{\"outlinewidth\":0,\"ticks\":\"\"},\"colorscale\":[[0.0,\"#0d0887\"],[0.1111111111111111,\"#46039f\"],[0.2222222222222222,\"#7201a8\"],[0.3333333333333333,\"#9c179e\"],[0.4444444444444444,\"#bd3786\"],[0.5555555555555556,\"#d8576b\"],[0.6666666666666666,\"#ed7953\"],[0.7777777777777778,\"#fb9f3a\"],[0.8888888888888888,\"#fdca26\"],[1.0,\"#f0f921\"]],\"type\":\"contour\"}],\"contourcarpet\":[{\"colorbar\":{\"outlinewidth\":0,\"ticks\":\"\"},\"type\":\"contourcarpet\"}],\"heatmap\":[{\"colorbar\":{\"outlinewidth\":0,\"ticks\":\"\"},\"colorscale\":[[0.0,\"#0d0887\"],[0.1111111111111111,\"#46039f\"],[0.2222222222222222,\"#7201a8\"],[0.3333333333333333,\"#9c179e\"],[0.4444444444444444,\"#bd3786\"],[0.5555555555555556,\"#d8576b\"],[0.6666666666666666,\"#ed7953\"],[0.7777777777777778,\"#fb9f3a\"],[0.8888888888888888,\"#fdca26\"],[1.0,\"#f0f921\"]],\"type\":\"heatmap\"}],\"heatmapgl\":[{\"colorbar\":{\"outlinewidth\":0,\"ticks\":\"\"},\"colorscale\":[[0.0,\"#0d0887\"],[0.1111111111111111,\"#46039f\"],[0.2222222222222222,\"#7201a8\"],[0.3333333333333333,\"#9c179e\"],[0.4444444444444444,\"#bd3786\"],[0.5555555555555556,\"#d8576b\"],[0.6666666666666666,\"#ed7953\"],[0.7777777777777778,\"#fb9f3a\"],[0.8888888888888888,\"#fdca26\"],[1.0,\"#f0f921\"]],\"type\":\"heatmapgl\"}],\"histogram\":[{\"marker\":{\"pattern\":{\"fillmode\":\"overlay\",\"size\":10,\"solidity\":0.2}},\"type\":\"histogram\"}],\"histogram2d\":[{\"colorbar\":{\"outlinewidth\":0,\"ticks\":\"\"},\"colorscale\":[[0.0,\"#0d0887\"],[0.1111111111111111,\"#46039f\"],[0.2222222222222222,\"#7201a8\"],[0.3333333333333333,\"#9c179e\"],[0.4444444444444444,\"#bd3786\"],[0.5555555555555556,\"#d8576b\"],[0.6666666666666666,\"#ed7953\"],[0.7777777777777778,\"#fb9f3a\"],[0.8888888888888888,\"#fdca26\"],[1.0,\"#f0f921\"]],\"type\":\"histogram2d\"}],\"histogram2dcontour\":[{\"colorbar\":{\"outlinewidth\":0,\"ticks\":\"\"},\"colorscale\":[[0.0,\"#0d0887\"],[0.1111111111111111,\"#46039f\"],[0.2222222222222222,\"#7201a8\"],[0.3333333333333333,\"#9c179e\"],[0.4444444444444444,\"#bd3786\"],[0.5555555555555556,\"#d8576b\"],[0.6666666666666666,\"#ed7953\"],[0.7777777777777778,\"#fb9f3a\"],[0.8888888888888888,\"#fdca26\"],[1.0,\"#f0f921\"]],\"type\":\"histogram2dcontour\"}],\"mesh3d\":[{\"colorbar\":{\"outlinewidth\":0,\"ticks\":\"\"},\"type\":\"mesh3d\"}],\"parcoords\":[{\"line\":{\"colorbar\":{\"outlinewidth\":0,\"ticks\":\"\"}},\"type\":\"parcoords\"}],\"pie\":[{\"automargin\":true,\"type\":\"pie\"}],\"scatter\":[{\"marker\":{\"colorbar\":{\"outlinewidth\":0,\"ticks\":\"\"}},\"type\":\"scatter\"}],\"scatter3d\":[{\"line\":{\"colorbar\":{\"outlinewidth\":0,\"ticks\":\"\"}},\"marker\":{\"colorbar\":{\"outlinewidth\":0,\"ticks\":\"\"}},\"type\":\"scatter3d\"}],\"scattercarpet\":[{\"marker\":{\"colorbar\":{\"outlinewidth\":0,\"ticks\":\"\"}},\"type\":\"scattercarpet\"}],\"scattergeo\":[{\"marker\":{\"colorbar\":{\"outlinewidth\":0,\"ticks\":\"\"}},\"type\":\"scattergeo\"}],\"scattergl\":[{\"marker\":{\"colorbar\":{\"outlinewidth\":0,\"ticks\":\"\"}},\"type\":\"scattergl\"}],\"scattermapbox\":[{\"marker\":{\"colorbar\":{\"outlinewidth\":0,\"ticks\":\"\"}},\"type\":\"scattermapbox\"}],\"scatterpolar\":[{\"marker\":{\"colorbar\":{\"outlinewidth\":0,\"ticks\":\"\"}},\"type\":\"scatterpolar\"}],\"scatterpolargl\":[{\"marker\":{\"colorbar\":{\"outlinewidth\":0,\"ticks\":\"\"}},\"type\":\"scatterpolargl\"}],\"scatterternary\":[{\"marker\":{\"colorbar\":{\"outlinewidth\":0,\"ticks\":\"\"}},\"type\":\"scatterternary\"}],\"surface\":[{\"colorbar\":{\"outlinewidth\":0,\"ticks\":\"\"},\"colorscale\":[[0.0,\"#0d0887\"],[0.1111111111111111,\"#46039f\"],[0.2222222222222222,\"#7201a8\"],[0.3333333333333333,\"#9c179e\"],[0.4444444444444444,\"#bd3786\"],[0.5555555555555556,\"#d8576b\"],[0.6666666666666666,\"#ed7953\"],[0.7777777777777778,\"#fb9f3a\"],[0.8888888888888888,\"#fdca26\"],[1.0,\"#f0f921\"]],\"type\":\"surface\"}],\"table\":[{\"cells\":{\"fill\":{\"color\":\"#EBF0F8\"},\"line\":{\"color\":\"white\"}},\"header\":{\"fill\":{\"color\":\"#C8D4E3\"},\"line\":{\"color\":\"white\"}},\"type\":\"table\"}]},\"layout\":{\"annotationdefaults\":{\"arrowcolor\":\"#2a3f5f\",\"arrowhead\":0,\"arrowwidth\":1},\"autotypenumbers\":\"strict\",\"coloraxis\":{\"colorbar\":{\"outlinewidth\":0,\"ticks\":\"\"}},\"colorscale\":{\"diverging\":[[0,\"#8e0152\"],[0.1,\"#c51b7d\"],[0.2,\"#de77ae\"],[0.3,\"#f1b6da\"],[0.4,\"#fde0ef\"],[0.5,\"#f7f7f7\"],[0.6,\"#e6f5d0\"],[0.7,\"#b8e186\"],[0.8,\"#7fbc41\"],[0.9,\"#4d9221\"],[1,\"#276419\"]],\"sequential\":[[0.0,\"#0d0887\"],[0.1111111111111111,\"#46039f\"],[0.2222222222222222,\"#7201a8\"],[0.3333333333333333,\"#9c179e\"],[0.4444444444444444,\"#bd3786\"],[0.5555555555555556,\"#d8576b\"],[0.6666666666666666,\"#ed7953\"],[0.7777777777777778,\"#fb9f3a\"],[0.8888888888888888,\"#fdca26\"],[1.0,\"#f0f921\"]],\"sequentialminus\":[[0.0,\"#0d0887\"],[0.1111111111111111,\"#46039f\"],[0.2222222222222222,\"#7201a8\"],[0.3333333333333333,\"#9c179e\"],[0.4444444444444444,\"#bd3786\"],[0.5555555555555556,\"#d8576b\"],[0.6666666666666666,\"#ed7953\"],[0.7777777777777778,\"#fb9f3a\"],[0.8888888888888888,\"#fdca26\"],[1.0,\"#f0f921\"]]},\"colorway\":[\"#636efa\",\"#EF553B\",\"#00cc96\",\"#ab63fa\",\"#FFA15A\",\"#19d3f3\",\"#FF6692\",\"#B6E880\",\"#FF97FF\",\"#FECB52\"],\"font\":{\"color\":\"#2a3f5f\"},\"geo\":{\"bgcolor\":\"white\",\"lakecolor\":\"white\",\"landcolor\":\"#E5ECF6\",\"showlakes\":true,\"showland\":true,\"subunitcolor\":\"white\"},\"hoverlabel\":{\"align\":\"left\"},\"hovermode\":\"closest\",\"mapbox\":{\"style\":\"light\"},\"paper_bgcolor\":\"white\",\"plot_bgcolor\":\"#E5ECF6\",\"polar\":{\"angularaxis\":{\"gridcolor\":\"white\",\"linecolor\":\"white\",\"ticks\":\"\"},\"bgcolor\":\"#E5ECF6\",\"radialaxis\":{\"gridcolor\":\"white\",\"linecolor\":\"white\",\"ticks\":\"\"}},\"scene\":{\"xaxis\":{\"backgroundcolor\":\"#E5ECF6\",\"gridcolor\":\"white\",\"gridwidth\":2,\"linecolor\":\"white\",\"showbackground\":true,\"ticks\":\"\",\"zerolinecolor\":\"white\"},\"yaxis\":{\"backgroundcolor\":\"#E5ECF6\",\"gridcolor\":\"white\",\"gridwidth\":2,\"linecolor\":\"white\",\"showbackground\":true,\"ticks\":\"\",\"zerolinecolor\":\"white\"},\"zaxis\":{\"backgroundcolor\":\"#E5ECF6\",\"gridcolor\":\"white\",\"gridwidth\":2,\"linecolor\":\"white\",\"showbackground\":true,\"ticks\":\"\",\"zerolinecolor\":\"white\"}},\"shapedefaults\":{\"line\":{\"color\":\"#2a3f5f\"}},\"ternary\":{\"aaxis\":{\"gridcolor\":\"white\",\"linecolor\":\"white\",\"ticks\":\"\"},\"baxis\":{\"gridcolor\":\"white\",\"linecolor\":\"white\",\"ticks\":\"\"},\"bgcolor\":\"#E5ECF6\",\"caxis\":{\"gridcolor\":\"white\",\"linecolor\":\"white\",\"ticks\":\"\"}},\"title\":{\"x\":0.05},\"xaxis\":{\"automargin\":true,\"gridcolor\":\"white\",\"linecolor\":\"white\",\"ticks\":\"\",\"title\":{\"standoff\":15},\"zerolinecolor\":\"white\",\"zerolinewidth\":2},\"yaxis\":{\"automargin\":true,\"gridcolor\":\"white\",\"linecolor\":\"white\",\"ticks\":\"\",\"title\":{\"standoff\":15},\"zerolinecolor\":\"white\",\"zerolinewidth\":2}}},\"title\":{\"text\":\"Agrupamento K-Means com PCA\"},\"width\":800,\"height\":500,\"xaxis\":{\"title\":{\"text\":\"Componente 1\"}},\"yaxis\":{\"title\":{\"text\":\"Componente 2\"}}},                        {\"responsive\": true}                    ).then(function(){\n",
              "                            \n",
              "var gd = document.getElementById('c192791c-88d1-42e2-9947-4b27b5c45010');\n",
              "var x = new MutationObserver(function (mutations, observer) {{\n",
              "        var display = window.getComputedStyle(gd).display;\n",
              "        if (!display || display === 'none') {{\n",
              "            console.log([gd, 'removed!']);\n",
              "            Plotly.purge(gd);\n",
              "            observer.disconnect();\n",
              "        }}\n",
              "}});\n",
              "\n",
              "// Listen for the removal of the full notebook cells\n",
              "var notebookContainer = gd.closest('#notebook-container');\n",
              "if (notebookContainer) {{\n",
              "    x.observe(notebookContainer, {childList: true});\n",
              "}}\n",
              "\n",
              "// Listen for the clearing of the current output cell\n",
              "var outputEl = gd.closest('.output');\n",
              "if (outputEl) {{\n",
              "    x.observe(outputEl, {childList: true});\n",
              "}}\n",
              "\n",
              "                        })                };                            </script>        </div>\n",
              "</body>\n",
              "</html>"
            ]
          },
          "metadata": {}
        }
      ]
    },
    {
      "cell_type": "code",
      "source": [
        "agrupamento = pd.DataFrame(classificacao, columns = ['Grupo'])\n",
        "agrupamento"
      ],
      "metadata": {
        "colab": {
          "base_uri": "https://localhost:8080/",
          "height": 0
        },
        "id": "-3j6MfrjKvtd",
        "outputId": "6b1ce7fd-7633-4cf0-e8cd-38363e9a0776"
      },
      "execution_count": 311,
      "outputs": [
        {
          "output_type": "execute_result",
          "data": {
            "text/plain": [
              "      Grupo\n",
              "0         1\n",
              "1         1\n",
              "2         1\n",
              "3         0\n",
              "4         1\n",
              "...     ...\n",
              "5898      0\n",
              "5899      0\n",
              "5900      0\n",
              "5901      1\n",
              "5902      1\n",
              "\n",
              "[5903 rows x 1 columns]"
            ],
            "text/html": [
              "\n",
              "  <div id=\"df-a8ae6a11-b14e-4cb3-a688-aab3e5c26678\">\n",
              "    <div class=\"colab-df-container\">\n",
              "      <div>\n",
              "<style scoped>\n",
              "    .dataframe tbody tr th:only-of-type {\n",
              "        vertical-align: middle;\n",
              "    }\n",
              "\n",
              "    .dataframe tbody tr th {\n",
              "        vertical-align: top;\n",
              "    }\n",
              "\n",
              "    .dataframe thead th {\n",
              "        text-align: right;\n",
              "    }\n",
              "</style>\n",
              "<table border=\"1\" class=\"dataframe\">\n",
              "  <thead>\n",
              "    <tr style=\"text-align: right;\">\n",
              "      <th></th>\n",
              "      <th>Grupo</th>\n",
              "    </tr>\n",
              "  </thead>\n",
              "  <tbody>\n",
              "    <tr>\n",
              "      <th>0</th>\n",
              "      <td>1</td>\n",
              "    </tr>\n",
              "    <tr>\n",
              "      <th>1</th>\n",
              "      <td>1</td>\n",
              "    </tr>\n",
              "    <tr>\n",
              "      <th>2</th>\n",
              "      <td>1</td>\n",
              "    </tr>\n",
              "    <tr>\n",
              "      <th>3</th>\n",
              "      <td>0</td>\n",
              "    </tr>\n",
              "    <tr>\n",
              "      <th>4</th>\n",
              "      <td>1</td>\n",
              "    </tr>\n",
              "    <tr>\n",
              "      <th>...</th>\n",
              "      <td>...</td>\n",
              "    </tr>\n",
              "    <tr>\n",
              "      <th>5898</th>\n",
              "      <td>0</td>\n",
              "    </tr>\n",
              "    <tr>\n",
              "      <th>5899</th>\n",
              "      <td>0</td>\n",
              "    </tr>\n",
              "    <tr>\n",
              "      <th>5900</th>\n",
              "      <td>0</td>\n",
              "    </tr>\n",
              "    <tr>\n",
              "      <th>5901</th>\n",
              "      <td>1</td>\n",
              "    </tr>\n",
              "    <tr>\n",
              "      <th>5902</th>\n",
              "      <td>1</td>\n",
              "    </tr>\n",
              "  </tbody>\n",
              "</table>\n",
              "<p>5903 rows × 1 columns</p>\n",
              "</div>\n",
              "      <button class=\"colab-df-convert\" onclick=\"convertToInteractive('df-a8ae6a11-b14e-4cb3-a688-aab3e5c26678')\"\n",
              "              title=\"Convert this dataframe to an interactive table.\"\n",
              "              style=\"display:none;\">\n",
              "        \n",
              "  <svg xmlns=\"http://www.w3.org/2000/svg\" height=\"24px\"viewBox=\"0 0 24 24\"\n",
              "       width=\"24px\">\n",
              "    <path d=\"M0 0h24v24H0V0z\" fill=\"none\"/>\n",
              "    <path d=\"M18.56 5.44l.94 2.06.94-2.06 2.06-.94-2.06-.94-.94-2.06-.94 2.06-2.06.94zm-11 1L8.5 8.5l.94-2.06 2.06-.94-2.06-.94L8.5 2.5l-.94 2.06-2.06.94zm10 10l.94 2.06.94-2.06 2.06-.94-2.06-.94-.94-2.06-.94 2.06-2.06.94z\"/><path d=\"M17.41 7.96l-1.37-1.37c-.4-.4-.92-.59-1.43-.59-.52 0-1.04.2-1.43.59L10.3 9.45l-7.72 7.72c-.78.78-.78 2.05 0 2.83L4 21.41c.39.39.9.59 1.41.59.51 0 1.02-.2 1.41-.59l7.78-7.78 2.81-2.81c.8-.78.8-2.07 0-2.86zM5.41 20L4 18.59l7.72-7.72 1.47 1.35L5.41 20z\"/>\n",
              "  </svg>\n",
              "      </button>\n",
              "      \n",
              "  <style>\n",
              "    .colab-df-container {\n",
              "      display:flex;\n",
              "      flex-wrap:wrap;\n",
              "      gap: 12px;\n",
              "    }\n",
              "\n",
              "    .colab-df-convert {\n",
              "      background-color: #E8F0FE;\n",
              "      border: none;\n",
              "      border-radius: 50%;\n",
              "      cursor: pointer;\n",
              "      display: none;\n",
              "      fill: #1967D2;\n",
              "      height: 32px;\n",
              "      padding: 0 0 0 0;\n",
              "      width: 32px;\n",
              "    }\n",
              "\n",
              "    .colab-df-convert:hover {\n",
              "      background-color: #E2EBFA;\n",
              "      box-shadow: 0px 1px 2px rgba(60, 64, 67, 0.3), 0px 1px 3px 1px rgba(60, 64, 67, 0.15);\n",
              "      fill: #174EA6;\n",
              "    }\n",
              "\n",
              "    [theme=dark] .colab-df-convert {\n",
              "      background-color: #3B4455;\n",
              "      fill: #D2E3FC;\n",
              "    }\n",
              "\n",
              "    [theme=dark] .colab-df-convert:hover {\n",
              "      background-color: #434B5C;\n",
              "      box-shadow: 0px 1px 3px 1px rgba(0, 0, 0, 0.15);\n",
              "      filter: drop-shadow(0px 1px 2px rgba(0, 0, 0, 0.3));\n",
              "      fill: #FFFFFF;\n",
              "    }\n",
              "  </style>\n",
              "\n",
              "      <script>\n",
              "        const buttonEl =\n",
              "          document.querySelector('#df-a8ae6a11-b14e-4cb3-a688-aab3e5c26678 button.colab-df-convert');\n",
              "        buttonEl.style.display =\n",
              "          google.colab.kernel.accessAllowed ? 'block' : 'none';\n",
              "\n",
              "        async function convertToInteractive(key) {\n",
              "          const element = document.querySelector('#df-a8ae6a11-b14e-4cb3-a688-aab3e5c26678');\n",
              "          const dataTable =\n",
              "            await google.colab.kernel.invokeFunction('convertToInteractive',\n",
              "                                                     [key], {});\n",
              "          if (!dataTable) return;\n",
              "\n",
              "          const docLinkHtml = 'Like what you see? Visit the ' +\n",
              "            '<a target=\"_blank\" href=https://colab.research.google.com/notebooks/data_table.ipynb>data table notebook</a>'\n",
              "            + ' to learn more about interactive tables.';\n",
              "          element.innerHTML = '';\n",
              "          dataTable['output_type'] = 'display_data';\n",
              "          await google.colab.output.renderOutput(dataTable, element);\n",
              "          const docLink = document.createElement('div');\n",
              "          docLink.innerHTML = docLinkHtml;\n",
              "          element.appendChild(docLink);\n",
              "        }\n",
              "      </script>\n",
              "    </div>\n",
              "  </div>\n",
              "  "
            ]
          },
          "metadata": {},
          "execution_count": 311
        }
      ]
    },
    {
      "cell_type": "code",
      "source": [
        "df2 = pd.concat([df2, agrupamento],axis=1)\n",
        "df2"
      ],
      "metadata": {
        "colab": {
          "base_uri": "https://localhost:8080/",
          "height": 0
        },
        "id": "gbqY11NOKyBG",
        "outputId": "70a51e7c-a007-46a1-b4b1-7cbdc0c3f518"
      },
      "execution_count": 312,
      "outputs": [
        {
          "output_type": "execute_result",
          "data": {
            "text/plain": [
              "      IDADE  SEXO  INTERNADO  STATUS  Grupo\n",
              "0        54     1          0       0      1\n",
              "1        15     1          0       0      1\n",
              "2        43     1          0       0      1\n",
              "3        25     0          0       0      0\n",
              "4        58     1          0       0      1\n",
              "...     ...   ...        ...     ...    ...\n",
              "5898     46     0          0       0      0\n",
              "5899     23     0          0       0      0\n",
              "5900     34     0          0       0      0\n",
              "5901     70     1          0       0      1\n",
              "5902     67     1          0       0      1\n",
              "\n",
              "[5903 rows x 5 columns]"
            ],
            "text/html": [
              "\n",
              "  <div id=\"df-5e9a4a8a-a471-46b2-af91-24179ab47116\">\n",
              "    <div class=\"colab-df-container\">\n",
              "      <div>\n",
              "<style scoped>\n",
              "    .dataframe tbody tr th:only-of-type {\n",
              "        vertical-align: middle;\n",
              "    }\n",
              "\n",
              "    .dataframe tbody tr th {\n",
              "        vertical-align: top;\n",
              "    }\n",
              "\n",
              "    .dataframe thead th {\n",
              "        text-align: right;\n",
              "    }\n",
              "</style>\n",
              "<table border=\"1\" class=\"dataframe\">\n",
              "  <thead>\n",
              "    <tr style=\"text-align: right;\">\n",
              "      <th></th>\n",
              "      <th>IDADE</th>\n",
              "      <th>SEXO</th>\n",
              "      <th>INTERNADO</th>\n",
              "      <th>STATUS</th>\n",
              "      <th>Grupo</th>\n",
              "    </tr>\n",
              "  </thead>\n",
              "  <tbody>\n",
              "    <tr>\n",
              "      <th>0</th>\n",
              "      <td>54</td>\n",
              "      <td>1</td>\n",
              "      <td>0</td>\n",
              "      <td>0</td>\n",
              "      <td>1</td>\n",
              "    </tr>\n",
              "    <tr>\n",
              "      <th>1</th>\n",
              "      <td>15</td>\n",
              "      <td>1</td>\n",
              "      <td>0</td>\n",
              "      <td>0</td>\n",
              "      <td>1</td>\n",
              "    </tr>\n",
              "    <tr>\n",
              "      <th>2</th>\n",
              "      <td>43</td>\n",
              "      <td>1</td>\n",
              "      <td>0</td>\n",
              "      <td>0</td>\n",
              "      <td>1</td>\n",
              "    </tr>\n",
              "    <tr>\n",
              "      <th>3</th>\n",
              "      <td>25</td>\n",
              "      <td>0</td>\n",
              "      <td>0</td>\n",
              "      <td>0</td>\n",
              "      <td>0</td>\n",
              "    </tr>\n",
              "    <tr>\n",
              "      <th>4</th>\n",
              "      <td>58</td>\n",
              "      <td>1</td>\n",
              "      <td>0</td>\n",
              "      <td>0</td>\n",
              "      <td>1</td>\n",
              "    </tr>\n",
              "    <tr>\n",
              "      <th>...</th>\n",
              "      <td>...</td>\n",
              "      <td>...</td>\n",
              "      <td>...</td>\n",
              "      <td>...</td>\n",
              "      <td>...</td>\n",
              "    </tr>\n",
              "    <tr>\n",
              "      <th>5898</th>\n",
              "      <td>46</td>\n",
              "      <td>0</td>\n",
              "      <td>0</td>\n",
              "      <td>0</td>\n",
              "      <td>0</td>\n",
              "    </tr>\n",
              "    <tr>\n",
              "      <th>5899</th>\n",
              "      <td>23</td>\n",
              "      <td>0</td>\n",
              "      <td>0</td>\n",
              "      <td>0</td>\n",
              "      <td>0</td>\n",
              "    </tr>\n",
              "    <tr>\n",
              "      <th>5900</th>\n",
              "      <td>34</td>\n",
              "      <td>0</td>\n",
              "      <td>0</td>\n",
              "      <td>0</td>\n",
              "      <td>0</td>\n",
              "    </tr>\n",
              "    <tr>\n",
              "      <th>5901</th>\n",
              "      <td>70</td>\n",
              "      <td>1</td>\n",
              "      <td>0</td>\n",
              "      <td>0</td>\n",
              "      <td>1</td>\n",
              "    </tr>\n",
              "    <tr>\n",
              "      <th>5902</th>\n",
              "      <td>67</td>\n",
              "      <td>1</td>\n",
              "      <td>0</td>\n",
              "      <td>0</td>\n",
              "      <td>1</td>\n",
              "    </tr>\n",
              "  </tbody>\n",
              "</table>\n",
              "<p>5903 rows × 5 columns</p>\n",
              "</div>\n",
              "      <button class=\"colab-df-convert\" onclick=\"convertToInteractive('df-5e9a4a8a-a471-46b2-af91-24179ab47116')\"\n",
              "              title=\"Convert this dataframe to an interactive table.\"\n",
              "              style=\"display:none;\">\n",
              "        \n",
              "  <svg xmlns=\"http://www.w3.org/2000/svg\" height=\"24px\"viewBox=\"0 0 24 24\"\n",
              "       width=\"24px\">\n",
              "    <path d=\"M0 0h24v24H0V0z\" fill=\"none\"/>\n",
              "    <path d=\"M18.56 5.44l.94 2.06.94-2.06 2.06-.94-2.06-.94-.94-2.06-.94 2.06-2.06.94zm-11 1L8.5 8.5l.94-2.06 2.06-.94-2.06-.94L8.5 2.5l-.94 2.06-2.06.94zm10 10l.94 2.06.94-2.06 2.06-.94-2.06-.94-.94-2.06-.94 2.06-2.06.94z\"/><path d=\"M17.41 7.96l-1.37-1.37c-.4-.4-.92-.59-1.43-.59-.52 0-1.04.2-1.43.59L10.3 9.45l-7.72 7.72c-.78.78-.78 2.05 0 2.83L4 21.41c.39.39.9.59 1.41.59.51 0 1.02-.2 1.41-.59l7.78-7.78 2.81-2.81c.8-.78.8-2.07 0-2.86zM5.41 20L4 18.59l7.72-7.72 1.47 1.35L5.41 20z\"/>\n",
              "  </svg>\n",
              "      </button>\n",
              "      \n",
              "  <style>\n",
              "    .colab-df-container {\n",
              "      display:flex;\n",
              "      flex-wrap:wrap;\n",
              "      gap: 12px;\n",
              "    }\n",
              "\n",
              "    .colab-df-convert {\n",
              "      background-color: #E8F0FE;\n",
              "      border: none;\n",
              "      border-radius: 50%;\n",
              "      cursor: pointer;\n",
              "      display: none;\n",
              "      fill: #1967D2;\n",
              "      height: 32px;\n",
              "      padding: 0 0 0 0;\n",
              "      width: 32px;\n",
              "    }\n",
              "\n",
              "    .colab-df-convert:hover {\n",
              "      background-color: #E2EBFA;\n",
              "      box-shadow: 0px 1px 2px rgba(60, 64, 67, 0.3), 0px 1px 3px 1px rgba(60, 64, 67, 0.15);\n",
              "      fill: #174EA6;\n",
              "    }\n",
              "\n",
              "    [theme=dark] .colab-df-convert {\n",
              "      background-color: #3B4455;\n",
              "      fill: #D2E3FC;\n",
              "    }\n",
              "\n",
              "    [theme=dark] .colab-df-convert:hover {\n",
              "      background-color: #434B5C;\n",
              "      box-shadow: 0px 1px 3px 1px rgba(0, 0, 0, 0.15);\n",
              "      filter: drop-shadow(0px 1px 2px rgba(0, 0, 0, 0.3));\n",
              "      fill: #FFFFFF;\n",
              "    }\n",
              "  </style>\n",
              "\n",
              "      <script>\n",
              "        const buttonEl =\n",
              "          document.querySelector('#df-5e9a4a8a-a471-46b2-af91-24179ab47116 button.colab-df-convert');\n",
              "        buttonEl.style.display =\n",
              "          google.colab.kernel.accessAllowed ? 'block' : 'none';\n",
              "\n",
              "        async function convertToInteractive(key) {\n",
              "          const element = document.querySelector('#df-5e9a4a8a-a471-46b2-af91-24179ab47116');\n",
              "          const dataTable =\n",
              "            await google.colab.kernel.invokeFunction('convertToInteractive',\n",
              "                                                     [key], {});\n",
              "          if (!dataTable) return;\n",
              "\n",
              "          const docLinkHtml = 'Like what you see? Visit the ' +\n",
              "            '<a target=\"_blank\" href=https://colab.research.google.com/notebooks/data_table.ipynb>data table notebook</a>'\n",
              "            + ' to learn more about interactive tables.';\n",
              "          element.innerHTML = '';\n",
              "          dataTable['output_type'] = 'display_data';\n",
              "          await google.colab.output.renderOutput(dataTable, element);\n",
              "          const docLink = document.createElement('div');\n",
              "          docLink.innerHTML = docLinkHtml;\n",
              "          element.appendChild(docLink);\n",
              "        }\n",
              "      </script>\n",
              "    </div>\n",
              "  </div>\n",
              "  "
            ]
          },
          "metadata": {},
          "execution_count": 312
        }
      ]
    },
    {
      "cell_type": "code",
      "source": [
        "df2.iloc[125 , :]"
      ],
      "metadata": {
        "colab": {
          "base_uri": "https://localhost:8080/"
        },
        "id": "0zuc1fU3K08u",
        "outputId": "cc6c8bab-6dd9-45c1-82c8-581c14236a7d"
      },
      "execution_count": 313,
      "outputs": [
        {
          "output_type": "execute_result",
          "data": {
            "text/plain": [
              "IDADE        55\n",
              "SEXO          1\n",
              "INTERNADO     1\n",
              "STATUS        0\n",
              "Grupo         3\n",
              "Name: 125, dtype: int64"
            ]
          },
          "metadata": {},
          "execution_count": 313
        }
      ]
    },
    {
      "cell_type": "code",
      "source": [
        "grupo0 = df2.loc[df2.Grupo == 0]\n",
        "grupo0 "
      ],
      "metadata": {
        "colab": {
          "base_uri": "https://localhost:8080/",
          "height": 0
        },
        "id": "bniLTyyXLJSO",
        "outputId": "f918c01e-fbf6-49bf-afe8-8feccd1d23aa"
      },
      "execution_count": 314,
      "outputs": [
        {
          "output_type": "execute_result",
          "data": {
            "text/plain": [
              "      IDADE  SEXO  INTERNADO  STATUS  Grupo\n",
              "3        25     0          0       0      0\n",
              "5        57     0          0       0      0\n",
              "6        27     0          0       0      0\n",
              "7        26     0          0       0      0\n",
              "8        52     0          0       0      0\n",
              "...     ...   ...        ...     ...    ...\n",
              "5890     42     0          0       0      0\n",
              "5896     88     0          0       0      0\n",
              "5898     46     0          0       0      0\n",
              "5899     23     0          0       0      0\n",
              "5900     34     0          0       0      0\n",
              "\n",
              "[2615 rows x 5 columns]"
            ],
            "text/html": [
              "\n",
              "  <div id=\"df-c19fb8b6-b742-448a-b7f4-0235fb00a9a5\">\n",
              "    <div class=\"colab-df-container\">\n",
              "      <div>\n",
              "<style scoped>\n",
              "    .dataframe tbody tr th:only-of-type {\n",
              "        vertical-align: middle;\n",
              "    }\n",
              "\n",
              "    .dataframe tbody tr th {\n",
              "        vertical-align: top;\n",
              "    }\n",
              "\n",
              "    .dataframe thead th {\n",
              "        text-align: right;\n",
              "    }\n",
              "</style>\n",
              "<table border=\"1\" class=\"dataframe\">\n",
              "  <thead>\n",
              "    <tr style=\"text-align: right;\">\n",
              "      <th></th>\n",
              "      <th>IDADE</th>\n",
              "      <th>SEXO</th>\n",
              "      <th>INTERNADO</th>\n",
              "      <th>STATUS</th>\n",
              "      <th>Grupo</th>\n",
              "    </tr>\n",
              "  </thead>\n",
              "  <tbody>\n",
              "    <tr>\n",
              "      <th>3</th>\n",
              "      <td>25</td>\n",
              "      <td>0</td>\n",
              "      <td>0</td>\n",
              "      <td>0</td>\n",
              "      <td>0</td>\n",
              "    </tr>\n",
              "    <tr>\n",
              "      <th>5</th>\n",
              "      <td>57</td>\n",
              "      <td>0</td>\n",
              "      <td>0</td>\n",
              "      <td>0</td>\n",
              "      <td>0</td>\n",
              "    </tr>\n",
              "    <tr>\n",
              "      <th>6</th>\n",
              "      <td>27</td>\n",
              "      <td>0</td>\n",
              "      <td>0</td>\n",
              "      <td>0</td>\n",
              "      <td>0</td>\n",
              "    </tr>\n",
              "    <tr>\n",
              "      <th>7</th>\n",
              "      <td>26</td>\n",
              "      <td>0</td>\n",
              "      <td>0</td>\n",
              "      <td>0</td>\n",
              "      <td>0</td>\n",
              "    </tr>\n",
              "    <tr>\n",
              "      <th>8</th>\n",
              "      <td>52</td>\n",
              "      <td>0</td>\n",
              "      <td>0</td>\n",
              "      <td>0</td>\n",
              "      <td>0</td>\n",
              "    </tr>\n",
              "    <tr>\n",
              "      <th>...</th>\n",
              "      <td>...</td>\n",
              "      <td>...</td>\n",
              "      <td>...</td>\n",
              "      <td>...</td>\n",
              "      <td>...</td>\n",
              "    </tr>\n",
              "    <tr>\n",
              "      <th>5890</th>\n",
              "      <td>42</td>\n",
              "      <td>0</td>\n",
              "      <td>0</td>\n",
              "      <td>0</td>\n",
              "      <td>0</td>\n",
              "    </tr>\n",
              "    <tr>\n",
              "      <th>5896</th>\n",
              "      <td>88</td>\n",
              "      <td>0</td>\n",
              "      <td>0</td>\n",
              "      <td>0</td>\n",
              "      <td>0</td>\n",
              "    </tr>\n",
              "    <tr>\n",
              "      <th>5898</th>\n",
              "      <td>46</td>\n",
              "      <td>0</td>\n",
              "      <td>0</td>\n",
              "      <td>0</td>\n",
              "      <td>0</td>\n",
              "    </tr>\n",
              "    <tr>\n",
              "      <th>5899</th>\n",
              "      <td>23</td>\n",
              "      <td>0</td>\n",
              "      <td>0</td>\n",
              "      <td>0</td>\n",
              "      <td>0</td>\n",
              "    </tr>\n",
              "    <tr>\n",
              "      <th>5900</th>\n",
              "      <td>34</td>\n",
              "      <td>0</td>\n",
              "      <td>0</td>\n",
              "      <td>0</td>\n",
              "      <td>0</td>\n",
              "    </tr>\n",
              "  </tbody>\n",
              "</table>\n",
              "<p>2615 rows × 5 columns</p>\n",
              "</div>\n",
              "      <button class=\"colab-df-convert\" onclick=\"convertToInteractive('df-c19fb8b6-b742-448a-b7f4-0235fb00a9a5')\"\n",
              "              title=\"Convert this dataframe to an interactive table.\"\n",
              "              style=\"display:none;\">\n",
              "        \n",
              "  <svg xmlns=\"http://www.w3.org/2000/svg\" height=\"24px\"viewBox=\"0 0 24 24\"\n",
              "       width=\"24px\">\n",
              "    <path d=\"M0 0h24v24H0V0z\" fill=\"none\"/>\n",
              "    <path d=\"M18.56 5.44l.94 2.06.94-2.06 2.06-.94-2.06-.94-.94-2.06-.94 2.06-2.06.94zm-11 1L8.5 8.5l.94-2.06 2.06-.94-2.06-.94L8.5 2.5l-.94 2.06-2.06.94zm10 10l.94 2.06.94-2.06 2.06-.94-2.06-.94-.94-2.06-.94 2.06-2.06.94z\"/><path d=\"M17.41 7.96l-1.37-1.37c-.4-.4-.92-.59-1.43-.59-.52 0-1.04.2-1.43.59L10.3 9.45l-7.72 7.72c-.78.78-.78 2.05 0 2.83L4 21.41c.39.39.9.59 1.41.59.51 0 1.02-.2 1.41-.59l7.78-7.78 2.81-2.81c.8-.78.8-2.07 0-2.86zM5.41 20L4 18.59l7.72-7.72 1.47 1.35L5.41 20z\"/>\n",
              "  </svg>\n",
              "      </button>\n",
              "      \n",
              "  <style>\n",
              "    .colab-df-container {\n",
              "      display:flex;\n",
              "      flex-wrap:wrap;\n",
              "      gap: 12px;\n",
              "    }\n",
              "\n",
              "    .colab-df-convert {\n",
              "      background-color: #E8F0FE;\n",
              "      border: none;\n",
              "      border-radius: 50%;\n",
              "      cursor: pointer;\n",
              "      display: none;\n",
              "      fill: #1967D2;\n",
              "      height: 32px;\n",
              "      padding: 0 0 0 0;\n",
              "      width: 32px;\n",
              "    }\n",
              "\n",
              "    .colab-df-convert:hover {\n",
              "      background-color: #E2EBFA;\n",
              "      box-shadow: 0px 1px 2px rgba(60, 64, 67, 0.3), 0px 1px 3px 1px rgba(60, 64, 67, 0.15);\n",
              "      fill: #174EA6;\n",
              "    }\n",
              "\n",
              "    [theme=dark] .colab-df-convert {\n",
              "      background-color: #3B4455;\n",
              "      fill: #D2E3FC;\n",
              "    }\n",
              "\n",
              "    [theme=dark] .colab-df-convert:hover {\n",
              "      background-color: #434B5C;\n",
              "      box-shadow: 0px 1px 3px 1px rgba(0, 0, 0, 0.15);\n",
              "      filter: drop-shadow(0px 1px 2px rgba(0, 0, 0, 0.3));\n",
              "      fill: #FFFFFF;\n",
              "    }\n",
              "  </style>\n",
              "\n",
              "      <script>\n",
              "        const buttonEl =\n",
              "          document.querySelector('#df-c19fb8b6-b742-448a-b7f4-0235fb00a9a5 button.colab-df-convert');\n",
              "        buttonEl.style.display =\n",
              "          google.colab.kernel.accessAllowed ? 'block' : 'none';\n",
              "\n",
              "        async function convertToInteractive(key) {\n",
              "          const element = document.querySelector('#df-c19fb8b6-b742-448a-b7f4-0235fb00a9a5');\n",
              "          const dataTable =\n",
              "            await google.colab.kernel.invokeFunction('convertToInteractive',\n",
              "                                                     [key], {});\n",
              "          if (!dataTable) return;\n",
              "\n",
              "          const docLinkHtml = 'Like what you see? Visit the ' +\n",
              "            '<a target=\"_blank\" href=https://colab.research.google.com/notebooks/data_table.ipynb>data table notebook</a>'\n",
              "            + ' to learn more about interactive tables.';\n",
              "          element.innerHTML = '';\n",
              "          dataTable['output_type'] = 'display_data';\n",
              "          await google.colab.output.renderOutput(dataTable, element);\n",
              "          const docLink = document.createElement('div');\n",
              "          docLink.innerHTML = docLinkHtml;\n",
              "          element.appendChild(docLink);\n",
              "        }\n",
              "      </script>\n",
              "    </div>\n",
              "  </div>\n",
              "  "
            ]
          },
          "metadata": {},
          "execution_count": 314
        }
      ]
    },
    {
      "cell_type": "code",
      "source": [
        "grupo0.shape"
      ],
      "metadata": {
        "id": "1wwQ6CVmLPR0",
        "outputId": "188d93cb-e3c7-4fd9-8a66-3787f7e6fd8d",
        "colab": {
          "base_uri": "https://localhost:8080/"
        }
      },
      "execution_count": 315,
      "outputs": [
        {
          "output_type": "execute_result",
          "data": {
            "text/plain": [
              "(2615, 5)"
            ]
          },
          "metadata": {},
          "execution_count": 315
        }
      ]
    },
    {
      "cell_type": "markdown",
      "source": [
        "## **Agrupamento Hierárquico com PCA**\n"
      ],
      "metadata": {
        "id": "T7W8zqGpMKpg"
      }
    },
    {
      "cell_type": "code",
      "source": [
        "df2_esc"
      ],
      "metadata": {
        "colab": {
          "base_uri": "https://localhost:8080/"
        },
        "id": "zQDQcy_5MNvn",
        "outputId": "d0a5b896-9291-4696-8b93-438a100f18f7"
      },
      "execution_count": 316,
      "outputs": [
        {
          "output_type": "execute_result",
          "data": {
            "text/plain": [
              "array([[ 0.58345885,  1.05128818, -0.53038764, -0.22356702],\n",
              "       [-1.62596867,  1.05128818, -0.53038764, -0.22356702],\n",
              "       [-0.03971301,  1.05128818, -0.53038764, -0.22356702],\n",
              "       ...,\n",
              "       [-0.5495809 , -0.95121396, -0.53038764, -0.22356702],\n",
              "       [ 1.48989065,  1.05128818, -0.53038764, -0.22356702],\n",
              "       [ 1.31993469,  1.05128818, -0.53038764, -0.22356702]])"
            ]
          },
          "metadata": {},
          "execution_count": 316
        }
      ]
    },
    {
      "cell_type": "code",
      "source": [
        "df2_esc.shape"
      ],
      "metadata": {
        "colab": {
          "base_uri": "https://localhost:8080/"
        },
        "id": "p9wPmw2eMQFX",
        "outputId": "12f2980f-3d5b-47ae-c5be-38360a7914cb"
      },
      "execution_count": 317,
      "outputs": [
        {
          "output_type": "execute_result",
          "data": {
            "text/plain": [
              "(5903, 4)"
            ]
          },
          "metadata": {},
          "execution_count": 317
        }
      ]
    },
    {
      "cell_type": "markdown",
      "source": [
        "**Componentes Principais**"
      ],
      "metadata": {
        "id": "EgXgd6xQMSgP"
      }
    },
    {
      "cell_type": "code",
      "source": [
        "from sklearn.decomposition import PCA"
      ],
      "metadata": {
        "id": "4iSLpG8aMUwk"
      },
      "execution_count": 318,
      "outputs": []
    },
    {
      "cell_type": "code",
      "source": [
        "pca = PCA(n_components = 2)"
      ],
      "metadata": {
        "id": "dccxe3GAMYgn"
      },
      "execution_count": 319,
      "outputs": []
    },
    {
      "cell_type": "code",
      "source": [
        "df2_pca = pca.fit_transform(df2_esc)"
      ],
      "metadata": {
        "id": "T9j8ZcO4MaDG"
      },
      "execution_count": 320,
      "outputs": []
    },
    {
      "cell_type": "code",
      "source": [
        "df2_pca"
      ],
      "metadata": {
        "colab": {
          "base_uri": "https://localhost:8080/"
        },
        "id": "pkXBW_AbMbfO",
        "outputId": "e5315358-17bd-4de5-a2d6-e6b80082e86a"
      },
      "execution_count": 321,
      "outputs": [
        {
          "output_type": "execute_result",
          "data": {
            "text/plain": [
              "array([[ 0.03064365, -0.94281916],\n",
              "       [-1.19271952, -1.3261931 ],\n",
              "       [-0.3144075 , -1.05095027],\n",
              "       ...,\n",
              "       [-0.88365326,  0.82343125],\n",
              "       [ 0.53253623, -0.78553755],\n",
              "       [ 0.43843137, -0.81502785]])"
            ]
          },
          "metadata": {},
          "execution_count": 321
        }
      ]
    },
    {
      "cell_type": "code",
      "source": [
        "pca.explained_variance_ratio_"
      ],
      "metadata": {
        "colab": {
          "base_uri": "https://localhost:8080/"
        },
        "id": "Su6LBM7rMdwe",
        "outputId": "fc29e600-349f-44fa-b062-25d41efbbf55"
      },
      "execution_count": 322,
      "outputs": [
        {
          "output_type": "execute_result",
          "data": {
            "text/plain": [
              "array([0.44305785, 0.247892  ])"
            ]
          },
          "metadata": {},
          "execution_count": 322
        }
      ]
    },
    {
      "cell_type": "code",
      "source": [
        "pca.explained_variance_ratio_.sum()"
      ],
      "metadata": {
        "colab": {
          "base_uri": "https://localhost:8080/"
        },
        "id": "QpQA3x8nMfW-",
        "outputId": "a35d551b-a8a0-4f5a-b771-25a96183dcba"
      },
      "execution_count": 323,
      "outputs": [
        {
          "output_type": "execute_result",
          "data": {
            "text/plain": [
              "0.6909498554548064"
            ]
          },
          "metadata": {},
          "execution_count": 323
        }
      ]
    },
    {
      "cell_type": "markdown",
      "source": [
        "**Dendograma**"
      ],
      "metadata": {
        "id": "WB1NE-6eMhka"
      }
    },
    {
      "cell_type": "code",
      "source": [
        "import matplotlib.pyplot as plt\n",
        "from scipy.cluster.hierarchy import dendrogram, linkage"
      ],
      "metadata": {
        "id": "n4RCdGs8Mi-F"
      },
      "execution_count": 324,
      "outputs": []
    },
    {
      "cell_type": "code",
      "source": [
        "plt.figure(figsize=(10, 10))\n",
        "dendrograma = dendrogram(linkage(df2_pca, method = 'ward')) #complete, single e ward (dados dispersos)"
      ],
      "metadata": {
        "colab": {
          "base_uri": "https://localhost:8080/",
          "height": 0
        },
        "id": "ssvPfHieOWrI",
        "outputId": "06b3d4d7-34a7-4e89-dfa5-e39bae20524e"
      },
      "execution_count": 325,
      "outputs": [
        {
          "output_type": "display_data",
          "data": {
            "text/plain": [
              "<Figure size 720x720 with 1 Axes>"
            ],
            "image/png": "[encoded data removed]"
          },
          "metadata": {
            "needs_background": "light"
          }
        }
      ]
    },
    {
      "cell_type": "code",
      "source": [
        "from sklearn.cluster import AgglomerativeClustering"
      ],
      "metadata": {
        "id": "z0_C1ifkPCEZ"
      },
      "execution_count": 326,
      "outputs": []
    },
    {
      "cell_type": "code",
      "source": [
        "hier = AgglomerativeClustering(n_clusters=3, affinity='euclidean', linkage = 'complete')\n",
        "classificacao = hier.fit_predict(df2_pca)"
      ],
      "metadata": {
        "id": "WTADh-4sPFsO"
      },
      "execution_count": 327,
      "outputs": []
    },
    {
      "cell_type": "code",
      "source": [
        "classificacao"
      ],
      "metadata": {
        "colab": {
          "base_uri": "https://localhost:8080/"
        },
        "id": "N_hUOg1uPI_0",
        "outputId": "cab51d21-b8db-4302-8eba-cc003baf8293"
      },
      "execution_count": 328,
      "outputs": [
        {
          "output_type": "execute_result",
          "data": {
            "text/plain": [
              "array([0, 1, 1, ..., 1, 0, 0])"
            ]
          },
          "metadata": {},
          "execution_count": 328
        }
      ]
    },
    {
      "cell_type": "code",
      "source": [
        "import plotly.express as px"
      ],
      "metadata": {
        "id": "ai57PchlPRH4"
      },
      "execution_count": 329,
      "outputs": []
    },
    {
      "cell_type": "code",
      "source": [
        "graf = px.scatter(x = df2_pca[:,0], y = df2_pca[:,1], color=classificacao)\n",
        "graf.update_layout(width=800,height=500,title_text='Agrupamento Hierárquico')\n",
        "graf.show()"
      ],
      "metadata": {
        "colab": {
          "base_uri": "https://localhost:8080/",
          "height": 0
        },
        "id": "V3DkPh7FPUWF",
        "outputId": "f89558cc-89c6-4b82-86b5-74521cefb355"
      },
      "execution_count": 330,
      "outputs": [
        {
          "output_type": "display_data",
          "data": {
            "text/html": [
              "<html>\n",
              "<head><meta charset=\"utf-8\" /></head>\n",
              "<body>\n",
              "    <div>            <script src=\"https://cdnjs.cloudflare.com/ajax/libs/mathjax/2.7.5/MathJax.js?config=TeX-AMS-MML_SVG\"></script><script type=\"text/javascript\">if (window.MathJax) {MathJax.Hub.Config({SVG: {font: \"STIX-Web\"}});}</script>                <script type=\"text/javascript\">window.PlotlyConfig = {MathJaxConfig: 'local'};</script>\n",
              "        <script src=\"https://cdn.plot.ly/plotly-2.8.3.min.js\"></script>                <div id=\"89d4a72d-73b6-4849-a14f-7fd86d940249\" class=\"plotly-graph-div\" style=\"height:500px; width:800px;\"></div>            <script type=\"text/javascript\">                                    window.PLOTLYENV=window.PLOTLYENV || {};                                    if (document.getElementById(\"89d4a72d-73b6-4849-a14f-7fd86d940249\")) {                    Plotly.newPlot(                        \"89d4a72d-73b6-4849-a14f-7fd86d940249\",                        [{\"hovertemplate\":\"x=%{x}<br>y=%{y}<br>color=%{marker.color}<extra></extra>\",\"legendgroup\":\"\",\"marker\":{\"color\":[0,1,1,1,0,1,1,1,1,1,1,1,1,1,1,1,1,1,1,1,0,0,1,1,1,1,1,1,1,0,0,1,1,1,1,1,0,1,0,0,0,0,0,1,1,0,1,0,0,1,0,0,1,0,0,1,1,1,1,1,0,0,0,1,1,0,0,1,0,0,1,1,1,1,0,0,0,0,0,0,0,1,1,0,1,1,1,0,0,0,0,0,0,0,0,0,0,0,1,0,0,1,1,0,1,1,1,0,1,1,2,0,1,0,2,0,0,0,1,0,0,1,1,1,0,0,0,0,0,0,0,0,1,0,0,0,0,0,2,2,1,1,1,1,0,0,0,0,1,1,0,0,2,1,1,1,1,0,0,1,0,1,1,1,1,1,1,0,0,2,1,0,0,0,2,1,2,2,1,0,1,0,1,1,1,0,1,1,1,1,0,0,0,0,1,0,1,1,1,1,1,0,1,0,0,1,1,1,2,0,0,1,2,1,1,1,0,0,1,1,1,1,1,1,0,0,1,1,1,1,1,2,1,0,2,2,1,0,0,0,2,2,1,1,1,1,1,1,1,1,1,1,0,0,1,0,1,0,1,1,1,1,1,1,1,1,1,0,2,0,1,1,1,1,1,1,1,1,1,1,1,1,1,0,1,0,2,0,1,1,1,0,1,0,1,1,1,1,1,0,1,1,0,0,1,1,1,1,0,0,1,1,1,1,1,0,1,1,1,1,1,1,1,1,0,1,1,0,0,0,0,2,1,1,0,0,1,0,1,1,1,0,1,1,1,1,0,0,1,1,1,0,0,1,2,1,0,0,1,0,1,0,0,1,1,1,1,2,1,1,0,1,1,1,1,1,1,0,1,1,0,1,1,1,1,1,1,1,0,1,2,1,0,1,1,1,1,1,1,0,1,1,0,1,1,1,0,1,1,0,1,1,0,2,0,1,1,1,2,1,1,1,1,1,0,1,1,1,1,1,1,0,1,1,1,1,1,0,0,1,1,1,1,1,0,0,2,0,0,0,0,0,2,0,0,1,1,1,1,1,0,1,1,1,1,0,0,1,1,1,1,1,1,1,2,0,1,2,0,0,1,0,1,0,1,1,1,1,1,1,1,1,0,0,1,1,0,1,1,1,1,1,1,0,1,1,1,1,0,1,0,1,1,1,1,0,1,1,1,0,0,1,1,1,0,1,1,1,1,1,1,1,1,0,1,0,1,1,1,1,0,1,1,1,0,0,0,1,1,1,1,0,1,2,2,0,1,1,1,1,0,1,1,1,1,1,1,1,1,1,0,1,1,2,1,0,1,0,1,1,1,1,1,1,1,1,0,0,0,1,2,1,0,1,1,1,1,0,0,1,1,1,1,1,1,1,1,1,1,1,1,1,0,0,0,1,1,1,0,1,1,1,0,1,0,1,1,0,0,1,1,1,1,1,1,1,1,1,1,1,0,1,1,1,1,0,1,1,1,0,0,0,1,1,1,1,1,1,1,0,1,0,1,2,1,1,0,1,0,1,0,0,1,0,0,1,1,1,1,2,1,1,0,0,1,1,0,0,0,0,0,1,1,1,0,0,0,1,0,1,1,1,1,0,0,0,1,1,1,0,0,1,0,1,1,0,1,0,0,1,1,1,1,1,1,1,1,1,1,1,1,0,1,1,0,0,2,1,0,2,2,0,0,0,1,2,0,1,1,1,1,1,1,1,1,0,1,1,1,0,1,1,1,1,1,0,1,1,1,1,0,1,0,0,1,1,1,1,0,2,0,1,0,1,0,0,0,1,1,1,1,1,1,1,1,1,0,0,1,0,2,0,1,1,0,1,0,1,1,0,1,0,1,0,0,0,1,1,0,0,1,1,1,0,1,0,0,1,0,1,1,1,1,1,0,0,1,1,1,0,1,1,1,1,0,0,1,1,0,1,2,1,1,1,1,1,1,0,1,1,1,1,1,1,1,0,0,1,1,0,0,0,1,1,1,1,0,1,1,1,0,1,0,2,0,0,1,1,1,0,1,2,0,0,1,1,1,1,2,1,0,1,2,1,1,0,1,0,1,1,1,1,0,1,1,0,0,0,1,1,0,1,1,1,0,1,1,1,1,0,0,0,0,2,0,0,0,1,1,1,1,0,0,0,0,1,0,0,0,1,0,0,1,0,0,2,0,1,1,0,1,0,1,1,2,0,2,0,0,1,0,0,1,1,1,0,1,0,0,1,1,1,1,1,1,1,0,1,1,1,1,1,2,1,2,1,0,0,2,1,1,0,1,1,1,0,0,0,0,1,0,0,2,1,1,2,0,0,0,2,0,0,0,0,2,2,1,1,1,0,1,0,1,1,0,0,1,1,1,1,1,0,1,1,1,0,0,2,1,0,0,0,1,0,1,0,0,1,0,2,1,0,1,1,2,0,1,1,1,1,1,1,1,1,0,1,1,1,1,0,0,2,1,0,1,1,1,1,1,1,1,1,1,1,1,0,0,0,0,1,1,1,1,1,0,1,1,1,1,1,0,1,0,0,1,1,1,1,1,0,0,2,1,1,0,1,1,1,0,0,1,1,0,0,0,0,1,1,0,1,1,0,1,1,0,0,0,0,0,1,1,2,1,1,1,1,1,1,1,1,1,0,1,0,1,1,1,1,1,1,1,0,0,0,0,1,0,0,0,0,1,1,1,1,1,0,1,1,1,1,0,1,1,0,2,1,1,0,0,0,0,0,2,0,0,1,0,1,0,1,1,1,1,1,1,1,1,1,1,1,0,0,1,1,2,0,1,0,0,1,1,1,1,1,1,0,1,1,1,0,0,0,2,1,1,1,0,2,0,0,0,1,1,1,0,1,1,1,1,0,1,1,1,1,1,1,0,0,1,2,2,0,0,0,0,0,0,2,0,2,0,0,0,0,2,1,1,1,1,2,1,0,0,1,1,1,0,2,1,0,0,1,0,1,1,0,1,1,1,1,2,1,0,1,1,0,1,0,1,0,2,0,0,0,0,1,0,0,1,1,1,1,1,0,1,1,1,0,1,1,1,1,1,0,1,1,1,1,0,1,0,1,1,1,1,1,1,1,0,0,0,1,1,1,0,2,1,0,2,2,0,0,0,0,2,0,0,0,0,2,0,2,0,1,1,1,0,0,1,1,0,1,1,1,1,1,1,1,0,1,0,1,1,0,1,0,1,1,1,0,1,2,1,0,0,1,0,1,0,1,0,2,0,1,0,1,0,0,0,1,1,1,1,0,1,1,1,1,1,1,1,1,1,1,1,1,1,1,0,1,0,1,1,0,1,1,0,1,1,1,1,0,1,0,0,1,0,1,2,1,0,1,0,0,1,1,1,1,1,1,1,1,1,0,1,0,2,2,0,1,1,1,0,0,2,1,1,1,1,1,1,1,1,0,1,1,1,1,1,1,1,1,0,1,1,2,1,1,0,0,0,1,1,1,1,0,1,1,1,0,1,0,1,1,1,2,2,0,1,0,0,1,2,2,2,0,1,1,0,0,0,0,0,0,0,2,2,0,2,0,2,1,1,1,0,0,1,1,1,1,1,1,1,0,1,1,1,1,1,1,1,1,1,1,1,0,1,2,2,2,1,0,0,0,0,0,0,0,0,0,1,2,1,1,2,0,1,1,1,1,1,1,0,1,1,1,1,1,1,0,2,1,0,1,2,0,0,1,0,2,0,0,0,0,2,0,2,1,1,1,0,2,1,1,1,1,0,1,1,1,1,1,1,1,1,1,1,1,1,1,0,1,1,1,0,0,1,0,0,0,0,0,0,0,1,2,0,0,1,1,0,2,0,1,0,1,0,0,1,1,1,1,0,1,1,1,1,1,1,1,1,1,1,0,1,1,0,0,1,1,1,1,0,1,1,0,1,2,0,1,0,0,1,1,0,1,0,2,2,2,1,2,0,2,0,0,0,0,1,0,1,1,1,1,1,1,0,1,1,0,1,0,1,1,1,0,1,1,1,1,0,0,0,0,0,1,1,0,1,1,1,1,1,1,1,0,1,1,1,1,1,1,1,1,0,1,1,2,1,0,1,1,0,1,0,0,1,0,1,1,1,0,1,1,1,1,1,1,0,1,0,0,0,1,1,1,1,1,1,1,1,0,0,1,0,2,2,0,0,0,1,0,0,0,1,1,1,1,0,1,1,1,2,1,1,1,1,1,1,1,1,1,0,1,2,0,0,2,1,0,0,0,0,0,0,2,1,1,1,1,0,1,1,1,1,1,1,1,1,1,1,1,1,0,1,1,1,1,1,1,1,1,1,1,1,1,1,1,1,1,1,1,1,1,1,0,1,2,1,1,1,0,1,1,1,1,0,1,1,1,1,1,1,1,1,1,1,1,0,1,1,1,1,1,1,0,0,1,0,1,1,1,1,1,1,1,0,1,1,1,1,0,0,2,1,1,1,0,1,1,1,0,1,1,1,0,1,1,0,1,0,1,1,1,1,1,0,0,0,0,1,0,1,0,0,1,2,0,2,2,1,0,2,1,0,1,0,1,0,1,0,1,1,1,1,0,0,0,0,0,0,2,2,1,0,0,1,0,2,0,1,0,2,0,0,1,2,0,0,2,0,1,1,1,0,1,1,1,1,1,1,1,1,1,1,1,1,0,1,1,1,1,1,0,1,0,0,1,1,1,1,0,1,2,0,1,1,0,0,0,0,2,0,1,2,0,0,0,1,0,0,1,0,0,0,0,0,1,1,1,1,1,1,1,1,1,1,1,1,1,1,0,1,1,0,1,0,0,1,2,0,0,0,0,2,0,0,2,1,2,1,1,1,1,0,1,1,1,1,2,0,0,0,1,1,0,1,1,1,1,1,1,1,0,1,1,1,1,1,1,1,1,2,0,1,0,0,0,1,1,1,1,0,1,1,1,0,0,2,1,0,0,0,0,0,1,2,0,0,0,0,0,0,0,0,0,2,0,0,1,0,1,0,1,0,2,0,1,1,1,1,1,1,1,1,1,0,1,0,1,1,1,1,1,1,1,1,1,1,1,1,0,1,1,1,0,1,1,1,1,1,1,1,1,1,1,1,1,1,1,1,1,1,1,1,1,1,1,1,0,1,1,1,1,1,1,1,1,1,1,1,1,1,1,1,1,1,1,1,1,1,1,1,1,1,0,1,1,1,1,0,1,1,1,1,1,1,1,1,1,1,1,1,1,1,1,1,1,1,1,1,1,1,1,1,1,1,1,1,1,1,1,1,0,1,1,1,1,1,1,1,1,1,1,1,1,1,1,1,1,1,1,1,1,1,1,0,1,1,1,1,1,1,1,1,0,1,1,0,1,1,1,1,1,1,1,1,1,1,1,1,0,1,1,1,1,1,1,1,1,1,1,1,0,1,1,1,0,1,1,1,1,1,1,1,1,1,1,0,1,1,1,1,1,1,0,1,1,0,0,1,1,1,1,1,1,1,1,1,0,1,1,1,0,1,1,1,1,1,1,1,0,1,1,1,1,1,1,1,1,1,1,1,1,1,1,0,1,1,1,1,1,0,1,1,1,1,1,1,1,1,1,1,1,1,1,1,1,1,1,1,1,1,1,1,1,1,2,1,1,1,1,1,1,1,1,1,1,1,1,1,1,1,1,1,1,1,1,0,1,1,0,1,1,1,1,0,1,1,1,1,1,1,1,1,1,1,1,1,1,1,1,0,1,1,1,1,1,1,1,1,1,1,1,0,2,1,1,0,1,1,1,1,1,1,0,1,1,1,1,1,1,1,1,0,1,1,1,0,0,1,1,1,1,1,1,1,0,0,1,1,1,1,1,1,1,1,0,1,1,1,1,1,1,1,1,1,0,1,1,1,1,2,1,1,1,1,1,1,1,1,1,1,1,1,1,1,1,0,0,1,1,1,0,1,1,0,1,1,1,1,0,1,1,0,0,1,1,1,1,1,1,1,1,1,0,1,1,1,1,1,0,2,0,0,1,1,1,1,1,1,1,1,1,1,1,1,1,1,1,1,0,1,1,0,1,1,1,1,0,1,2,0,0,0,1,2,0,0,1,0,0,0,0,0,0,0,1,1,0,2,0,0,1,1,1,1,1,0,1,1,1,0,0,1,1,1,1,1,1,2,1,0,0,0,1,1,0,0,1,1,1,1,1,1,1,1,1,1,2,2,1,0,1,1,1,1,1,1,1,1,0,1,0,0,0,1,1,1,0,1,0,1,1,1,1,0,0,0,0,0,0,0,0,0,0,0,0,0,0,1,0,0,2,0,0,1,1,1,1,1,1,1,1,1,1,1,0,1,1,1,1,1,1,0,1,1,0,1,1,1,1,1,0,2,0,1,0,1,0,1,1,1,1,1,0,1,1,1,1,1,1,1,1,0,1,1,1,1,1,0,1,1,1,0,1,1,1,1,1,1,1,1,1,1,1,0,2,1,1,1,1,0,1,1,1,1,1,1,1,1,1,1,1,1,1,1,0,0,1,1,1,0,0,0,0,2,1,0,2,1,1,0,0,2,1,1,1,1,1,0,0,0,1,1,1,0,1,1,1,1,1,1,0,1,1,1,1,1,1,1,1,0,1,1,1,0,1,1,0,0,1,1,1,0,1,1,1,1,1,1,1,0,1,1,1,1,1,1,1,1,1,1,1,1,1,1,1,1,0,1,1,1,1,1,0,1,1,1,1,1,1,1,1,0,0,1,1,0,1,1,1,1,1,1,1,1,1,1,0,1,1,0,1,1,1,1,0,0,1,1,0,0,1,1,0,0,1,2,1,1,0,1,0,1,1,1,0,1,1,1,0,1,1,1,1,1,1,0,0,1,0,1,1,1,0,1,1,1,1,0,0,1,1,1,1,1,0,1,0,1,1,1,0,1,1,1,1,1,1,2,1,0,1,0,1,1,1,1,0,1,0,1,1,0,0,2,0,0,0,0,0,2,0,0,0,0,0,0,0,0,2,0,0,1,1,1,0,1,1,1,1,1,0,1,1,1,1,1,1,1,1,1,0,1,1,0,0,0,0,2,0,0,2,0,0,0,0,0,0,0,0,0,0,0,0,1,1,1,1,0,1,1,1,1,1,0,0,0,0,0,0,0,0,0,0,0,0,0,2,1,1,1,1,1,1,1,0,1,1,1,0,1,1,0,1,1,0,0,1,1,1,1,1,1,1,0,0,1,1,1,1,1,1,1,0,1,1,1,1,1,0,1,1,1,1,1,1,1,1,0,1,1,1,0,1,1,1,1,1,1,1,0,1,1,1,1,0,1,1,0,1,1,1,1,1,1,1,1,0,1,1,1,1,1,1,1,0,1,1,1,1,0,1,1,1,0,0,1,1,1,0,1,1,1,1,1,1,1,1,1,1,1,1,1,0,1,0,1,1,1,1,1,1,1,1,1,1,1,1,1,1,1,1,1,1,1,1,0,1,1,1,1,1,1,1,1,1,1,1,1,1,1,1,1,0,1,0,1,1,1,1,1,1,1,1,1,1,1,1,1,1,0,1,1,1,0,1,1,1,1,0,1,1,1,1,1,1,1,0,1,1,1,1,1,2,1,1,2,1,1,1,0,1,1,1,1,0,1,1,1,1,1,1,1,1,1,1,1,1,1,1,1,1,1,1,1,0,0,1,1,1,1,0,1,0,1,1,1,1,1,1,1,0,1,1,1,1,1,1,1,1,1,1,1,1,1,1,1,1,1,1,1,1,1,1,1,1,1,1,1,1,1,1,1,2,1,1,1,1,1,1,1,1,1,1,1,0,1,1,1,0,1,1,1,1,0,1,1,1,0,1,1,1,1,2,0,2,0,1,1,1,1,1,1,1,1,1,1,1,1,1,1,1,1,1,1,1,2,1,1,0,1,1,1,0,1,1,1,1,0,0,1,1,0,1,1,1,0,0,0,0,0,2,0,2,0,0,0,2,0,2,2,0,0,0,0,0,0,0,0,0,2,2,0,0,0,0,0,1,0,0,0,2,2,2,2,1,1,0,0,1,2,0,0,1,1,1,1,1,1,1,1,1,1,1,1,1,0,1,0,1,1,1,1,1,1,0,1,1,1,1,1,1,0,1,1,1,1,1,1,0,1,1,1,1,0,0,1,1,1,1,1,1,1,1,1,0,1,0,1,1,1,1,0,1,1,0,1,0,0,1,0,0,1,1,1,1,0,1,1,1,1,1,1,0,1,1,0,0,1,1,1,1,1,1,1,1,1,1,1,1,1,1,1,1,1,1,0,1,1,1,0,1,0,1,1,1,1,0,1,1,1,1,1,1,1,0,1,1,0,1,1,1,1,1,0,1,1,0,1,1,0,1,1,1,1,1,1,1,0,1,1,1,0,1,1,1,1,1,1,1,1,1,0,1,0,1,1,1,1,1,1,0,1,1,1,1,1,1,1,1,0,0,0,0,1,0,0,0,1,1,1,0,2,1,1,1,1,0,0,1,1,0,1,0,1,1,0,1,1,1,1,0,0,0,0,0,2,0,2,2,0,1,2,1,0,0,0,0,1,2,0,0,0,0,0,0,0,0,0,0,0,2,0,0,1,0,0,0,0,0,1,1,2,1,0,1,1,1,1,1,1,1,0,1,1,1,1,1,0,1,1,1,0,0,1,1,1,1,1,1,1,1,1,0,1,1,1,1,1,1,0,1,1,1,0,1,1,1,1,1,1,1,1,1,1,1,1,1,1,1,1,1,1,1,1,1,1,0,1,1,1,1,1,1,1,1,1,0,0,1,1,1,1,0,0,1,1,0,1,1,1,1,1,1,0,1,1,0,1,1,1,1,0,1,1,1,1,0,1,1,0,1,1,0,1,0,0,0,1,1,1,1,1,0,1,1,1,1,1,1,1,1,1,1,0,1,1,0,0,1,0,1,1,1,1,1,1,0,0,0,0,1,0,1,0,1,1,1,0,1,0,0,1,1,1,1,0,1,1,1,1,1,2,1,1,1,1,0,1,1,1,1,1,0,0,1,1,1,1,1,1,1,1,1,1,1,1,1,1,1,1,0,1,1,1,1,1,0,1,1,1,0,1,1,0,1,1,1,1,1,1,1,1,0,1,1,1,1,1,1,1,1,1,1,1,1,2,2,0,0,0,1,0,1,0,0,1,1,0,0,0,0,1,1,1,0,0,1,1,1,1,1,1,1,1,1,1,1,1,1,1,1,1,1,1,1,1,1,1,1,1,1,1,0,1,1,1,1,1,1,1,1,1,1,1,1,1,0,1,1,1,2,1,0,1,1,1,1,1,0,1,1,1,0,0,1,0,0,1,0,1,1,1,0,1,1,1,1,1,2,0,0,0,1,2,2,2,2,2,2,2,0,0,0,0,0,0,2,0,0,0,0,1,2,2,0,0,2,2,1,2,1,1,1,1,1,1,1,1,1,1,1,0,1,1,1,1,1,0,1,1,1,1,1,1,1,1,1,1,1,0,1,0,1,1,1,1,1,1,1,1,0,1,1,1,1,1,1,1,1,0,1,1,0,1,1,0,1,0,1,1,1,1,1,1,0,1,1,1,1,1,1,1,1,1,1,1,1,1,1,1,1,1,1,1,0,1,0,1,1,1,1,0,1,1,1,1,1,1,1,0,0,1,1,1,1,1,1,0,1,1,1,1,0,1,1,1,1,1,2,2,0,1,1,0,1,1,0,2,0,1,1,1,1,1,1,0,1,1,1,1,0,1,1,1,1,1,1,1,1,1,1,1,1,0,1,0,1,1,0,1,1,1,1,0,1,1,1,1,1,1,0,1,0,1,1,1,1,1,1,1,1,1,1,1,1,1,1,1,1,0,1,0,1,1,1,1,1,1,1,0,1,1,1,1,1,1,1,1,1,0,1,1,1,1,1,0,1,1,0,1,1,1,0,2,2,0,2,0,0,1,2,0,0,0,0,0,0,0,2,0,0,0,1,2,0,0,0,1,1,1,0,1,1,1,1,1,1,1,1,0,1,1,1,1,1,1,1,1,1,0,1,1,1,1,1,1,1,1,1,1,1,1,1,1,1,1,0,1,1,1,1,1,1,1,1,1,1,1,1,1,1,1,1,1,1,0,1,0,1,1,1,1,1,1,1,0,1,1,0,0,0,0,1,0,1,1,1,1,1,1,1,0,1,1,1,1,1,1,0,1,1,0,1,0,1,1,1,1,1,2,1,1,1,1,1,1,1,1,1,1,0,1,1,1,1,1,1,1,1,0,1,1,0,1,1,1,1,1,1,1,1,1,1,1,1,1,1,0,0,0,1,1,1,1,1,1,0,1,1,1,1,1,1,1,1,1,0,0,0,2,0,0,1,1,1,1,1,1,1,0,0,1,1,1,1,1,1,0,0,1,0,1,0,1,1,1,1,0,1,1,0,0,0,0,0,0,2,0,1,2,2,1,2,2,0,0,2,2,0,2,1,2,1,1,1,1,1,1,1,1,0,1,1,1,1,1,1,1,1,1,1,0,1,1,1,1,1,1,0,1,1,1,0,0,0,0,0,0,0,1,2,0,0,0,1,0,0,0,0,2,0,0,0,0,0,0,0,0,0,0,0,0,0,1,1,1,1,1,1,2,2,0,0,2,1,0,0,1,1,1,0,1,1,1,1,1,1,1,1,0,1,1,1,1,1,1,1,1,1,0,0,0,1,1,1,0,0,1,0,1,1,1,1,1,1,1,1,0,0,1,0,0,0,2,0,0,0,2,2,1,2,2,1,2,0,1,1,1,1,1,1,1,1,1,1,1,1,1,1,1,1,1,1,1,1,1,1,1,1,1,1,0,1,1,1,1,1,0,1,1,0,1,1,1,1,1,1,1,1,0,1,1,0,1,1,1,1,1,1,0,1,0,1,1,1,1,1,0,1,1,1,1,1,1,0,1,0,1,1,1,1,1,0,1,0,0,0,1,1,0,0,0,1,0,1,1,1,0,1,1,1,1,1,1,1,1,1,1,1,1,1,1,1,1,1,1,1,1,1,1,1,0,1,1,1,1,1,1,1,1,0,1,1,1,0,1,1,0,1,0,1,1,1,1,1,1,1,1,1,0,1,1,1,0,1,1,1,1,1,1,1,1,1,1,1,1,1,1,1,1,1,1,1,0,0,1,1,1,0,1,2,0,1,1,1,0,1,1,1,1,1,1,1,1,1,1,0,0,1,1,1,1,1,0,1,0,1,1,0,1,1,1,1,1,1,1,1,1,1,0,1,1,1,1,1,1,1,1,1,1,1,1,1,1,1,1,1,1,1,1,1,1,1,1,1,1,1,1,1,1,0,2,1,1,1,1,1,1,1,1,1,1,1,1,1,0,1,1,1,1,1,1,1,1,0,1,1,0,1,1,1,1,1,0,1,1,1,1,1,1,1,1,1,1,1,1,1,1,1,1,1,1,1,1,1,1,0,1,1,1,1,1,1,1,1,1,1,1,1,0,0,1,1,1,1,1,0,1,1,1,1,1,1,1,1,1,1,1,1,1,1,0,1,1,1,1,1,1,1,1,1,1,1,1,1,0,1,0,1,1,0,1,1,0,1,1,1,1,2,1,1,1,1,1,1,1,1,1,1,0,0,1,1,1,1,1,1,0,1,1,1,1,0,1,0,0,1,1,0,1,1,1,1,1,1,1,1,1,1,0,1,0,1,1,1,1,1,1,1,1,1,1,1,1,0,1,1,1,0,1,1,1,0,1,1,1,1,1,1,1,1,1,1,0,1,0,0,1,1,1,1,1,1,1,1,0,1,1,1,0,1,1,1,1,0,1,1,1,0,1,1,0,1,0,1,1,1,1,1,1,1,1,1,1,1,1,0,1,1,1,1,1,1,1,1,1,1,1,0,0,1,1,0,0,1,0,0,1,1,1,1,1,1,1,0,2,2,0,0,1,1,0,0,1,1,1,1,0,1,1,1,1,0,0,1,0,1,1,1,1,1,1,0,0,0,0,0,2,2,1,2,1,0,1,0,0,0,0,0,0,0,0,0,0,0,0,0,0,0,1,0,0,0,0,0,0,0,1,1,0,0,0,0,0,1,1,1,1,0,1,1,0,0,1,1,1,1,1,1,1,1,0,1,1,1,1,1,1,1,1,1,1,1,1,1,1,1,1,0,1,1,1,1,0,1,0,1,1,1,1,1,1,1,0,1,0,1,1,1,1,1,1,1,0,2,1,1,1,1,1,0,1,1,1,0,1,1,1,1,1,1,1,1,0,1,1,1,1,1,1,1,1,1,1,0,1,1,1,1,0,1,1,1,1,1,1,1,1,1,0,1,1,1,1,1,1,1,1,1,1,0,0,0,1,1,1,1,1,1,0,1,1,1,1,1,1,1,1,0,1,1,1,1,1,1,1,1,1,1,1,1,1,1,1,1,1,1,1,1,1,1,1,1,1,1,1,1,1,0,0,1,1,1,1,0,1,1,1,0,1,1,1,1,1,1,1,1,0,0,1,1,1,1,1,1,0,1,1,0,1,1,1,1,1,1,1,1,1,1,1,0,1,1,1,0,1,1,1,1,1,1,1,1,1,1,1,1,1,1,0,1,1,1,1,1,1,1,0,1,1,1,1,1,1,1,1,1,1,1,1,1,1,1,1,1,1,1,1,1,1,1,1,0,1,1,1,1,0,1,1,1,1,2,1,0,0,1,1,0,1,0,1,1,1,1,1,1,1,1,1,1,1,1,1,1,1,1,1,0,1,1,1,1,1,1,1,1,1,0,1,1,0,1,0,1,1,1,1,1,1,1,1,1,1,0,1,0,1,0,0,0,1,0,0,1,1,0,1,1,1,0,0,1,1,1,0,0,0,0,1,1,1,1,1,0,1,1,0,1,0,0,0,2,2,2,0,2,0,0,0,0,0,0,0,2,0,0,0,0,0,0,2,1,2,0,1,0,2,0,0,1,1,1,1,1,1,0,1,1,1,0,1,1,1,1,1,1,1,1,1,1,1,1,1,1,1,0,1,0,1,0,1,1,1,1,1,1,1,0,1,0,1,1,1,1,1,1,1,1,1,1,1,1,0,1,1,0,1,1,1,1,1,1,1,1,1,1,1,1,1,1,1,1,1,1,0,1,1,1,1,1,1,1,1,1,1,1,0,1,1,1,1,1,0,1,1,1,1,1,1,1,1,1,1,1,1,0,1,1,1,1,1,1,1,1,1,1,1,0,1,1,0,2,2,1,0,1,1,1,1,1,1,1,1,0,1,0,1,1,1,1,1,1,0,1,1,1,1,1,0,1,0,1,1,1,1,1,0,1,1,0,0,1,1,1,0,1,1,1,0,0,1,1,1,1,1,1,1,1,0,1,1,1,0,1,1,0,1,1,1,1,1,1,0,1,1,1,1,0,0],\"coloraxis\":\"coloraxis\",\"symbol\":\"circle\"},\"mode\":\"markers\",\"name\":\"\",\"showlegend\":false,\"x\":[0.03064364690791363,-1.1927195226857532,-0.31440750349029717,-1.1659678368694375,0.15611679250726707,-0.16218267207463427,-1.1032312640697621,-1.1345995504696,-0.3190241040738224,-1.2600726960689501,-1.1345995504696,-0.4444972496731726,-0.6594586538885104,-0.820916686471224,-0.5386021088726854,-1.1345995504696,-0.4444972496731726,-0.0007246394919209842,-1.0091264048702495,-0.9463898320705743,0.590656201521468,1.3167274025902882,-0.03209292589175851,-0.5699703952725229,-0.5339855082891602,-1.0718629776699249,-0.2876558176739847,-1.0091264048702495,-0.6640752544720359,2.074182876769916,0.24560505112325426,-0.3457757898901345,-0.9463898320705743,-0.7581801136715487,-0.03670952647528373,-0.820916686471224,0.4697996565056431,-1.0718629776699249,0.18748507890710464,1.9754614169868774,1.253990829790613,1.6350268671721895,0.5011519561945106,-0.2562875312741471,-1.1299829498860743,1.0703977119751127,-1.2600726960689501,1.9487097311705652,0.030643646907916735,-1.3495609546849372,1.4422005481896383,1.7291317263717016,-0.883653259270899,0.783482520504019,0.7253465615768991,-0.35039239047365994,-0.7221952266881858,-0.5072338224728479,-0.7581801136715487,-1.0718629776699249,2.0068297033867153,0.7834665337930488,1.3840805759734887,-0.690826940288348,-1.1032312640697621,1.039029425575275,1.3213440031738133,0.12013190552390374,1.4781854351730015,0.09338021970759197,-0.2249192448743095,-0.7535635130880234,-1.0404946912700872,-0.5653537946889976,2.1996560223692665,0.15611679250726707,1.6350268671721895,0.7207299609933738,1.7605000127715398,0.7253465615768991,1.791868299171377,-1.0404946912700872,-0.43988064908964714,0.6939782751770615,-0.7895484000713862,-0.2516709306906215,-0.09944609927495907,1.9487097311705652,0.944924566375762,2.136919449569591,1.6931468393883389,1.8186199849876894,0.31295822450645494,0.25022165170677985,1.4422005481896383,1.3480956889901257,0.944924566375762,1.5363054073891511,-0.820916686471224,1.4781854351730015,1.4108322617898008,-0.6594586538885104,-0.13081438567479658,0.9135562799759245,-0.5072338224728479,-0.5653537946889976,-0.09482949869143366,1.352712289573651,-1.2287044096691129,-0.005341240075446471,4.328834926005176,1.5409220079726764,-0.6640752544720359,0.846203106592724,3.8850623158239257,1.6304102665886633,0.7834665337930488,0.469783669794673,0.030627660196946436,1.1645025711746257,1.1598859705911002,-0.7535635130880234,-0.7581801136715487,0.02602704632439115,1.5676736937889886,1.509553721572839,1.509553721572839,2.1950394217857405,1.4781854351730015,1.9173414447707275,0.40704709699499764,1.791868299171377,-0.6594586538885104,2.2577759945854154,1.4154488623733263,1.3213440031738133,1.1598859705911002,1.3794639753899631,3.351801447026687,5.33262009079998,-0.883653259270899,-0.7849317994878608,-0.5026172218893225,-0.8522849728710615,0.7567148479767364,1.9440931305870397,0.030643646907916735,1.5722902943725143,-0.5967220810888351,-0.37714407628997215,1.7291317263717016,1.0703977119751127,5.363988377199818,-1.0404946912700872,-0.2516709306906215,-0.4758655360730102,-0.7581801136715487,1.6304102665886633,0.6939782751770615,-0.820916686471224,1.8546048719710522,-0.7895484000713862,-0.8522849728710615,-0.7895484000713862,-0.6327069680721983,-0.2562875312741471,-0.6640752544720359,2.1996560223692665,1.6036585807723516,5.08167379960128,-0.5386021088726854,0.5685051295777109,0.469783669794673,1.5409220079726764,4.95620065400193,-0.8522849728710615,4.673886076403391,4.171993494005989,-0.2516709306906215,1.4781854351730015,-0.3190241040738224,1.003044538591912,-0.12619778509127128,-1.2287044096691129,-1.0404946912700872,1.2586074303741381,-1.067246377086399,-0.7221952266881858,-0.9463898320705743,-1.2600726960689501,1.823236585571215,1.1331342847747878,0.3756947973061302,1.003044538591912,-0.5339855082891602,2.5087222857841165,-0.18893435789094642,-0.9150215456707367,-1.3228092688686257,-0.5653537946889976,-0.5026172218893225,0.21883737859597202,-0.4131289632733351,1.9800780175704027,0.2815899381066173,-0.4758655360730102,-0.3190241040738224,-0.2249192448743095,4.987568940401767,1.0076611391754373,1.4154488623733263,-0.5967220810888351,4.481059757420839,-0.7221952266881858,-0.9777581184704119,-1.0404946912700872,2.105551163169754,0.09338021970759197,-0.6013386816723608,-0.6327069680721983,-0.35039239047365994,-1.0091264048702495,-0.18893435789094642,-0.9150215456707367,1.6036585807723516,0.2815899381066173,-0.7221952266881858,-0.9777581184704119,-0.5699703952725229,-0.09482949869143366,-1.3855458416683006,4.324218325421652,-0.820916686471224,0.6579933881936986,4.924832367602091,4.888847480618729,-1.2287044096691129,1.4422005481896383,1.1017659983749502,0.4024464831224423,4.705254362803228,4.857479194218891,-0.7895484000713862,-0.9104049450872109,-0.16218267207463427,-1.1973361232692752,-0.9150215456707367,-1.0091264048702495,-1.0404946912700872,-0.690826940288348,-0.18433374401839106,-1.0358780906865614,1.8186199849876894,0.7207299609933738,-1.1345995504696,0.5639045157051557,-0.6954435408718735,0.5011679429054807,-0.8476683722875359,-0.9463898320705743,-0.5967220810888351,-0.6013386816723608,-0.47124893548948465,-0.35039239047365994,-0.8790366586873734,-0.8790366586873734,-0.2876558176739847,2.1636711353859033,5.077057199017753,0.2815899381066173,-1.3809292410847749,-0.9777581184704119,-0.9150215456707367,-1.1659678368694375,-0.7581801136715487,-0.09944609927495907,-0.6013386816723608,-1.1973361232692752,-0.820916686471224,-0.2876558176739847,-0.8476683722875359,0.05739533272422877,-0.7895484000713862,0.12474850610742956,-0.5699703952725229,0.12474850610742956,4.799359222002741,1.7291317263717016,-0.12619778509127128,-0.15756607149110888,-0.4444972496731726,0.9762928527755999,-1.0404946912700872,0.5279196287217928,-0.6594586538885104,-0.5339855082891602,-1.4169141280681383,-1.0091264048702495,-0.6327069680721983,0.5279196287217928,-0.28303921709045926,-0.6954435408718735,0.6847610607209809,0.21423676472341688,-0.5339855082891602,-1.0091264048702495,-0.7581801136715487,-0.4131289632733351,0.590656201521468,0.3710781967226046,-1.1973361232692752,-0.6954435408718735,-0.820916686471224,-0.9777581184704119,0.02602704632439115,0.4024464831224423,-0.5339855082891602,-0.690826940288348,-0.4131289632733351,-0.09944609927495907,-0.7895484000713862,-0.5967220810888351,-1.1973361232692752,-1.2600726960689501,0.7161293471208183,-0.6594586538885104,-0.5386021088726854,0.8416024927201691,0.6312417023773863,1.2272391439743007,0.4384153833948354,4.422939785204689,-0.5699703952725229,-1.1345995504696,0.12474850610742956,0.21423676472341688,-0.6594586538885104,0.12474850610742956,-1.0718629776699249,-0.3190241040738224,-0.7535635130880234,0.18748507890710464,-0.5699703952725229,-0.2562875312741471,-0.4085123626898098,-0.5072338224728479,0.5325362293053183,0.40704709699499764,-0.8790366586873734,-0.5026172218893225,-0.7268118272717109,1.2226225433907751,1.1958708575744632,-1.1345995504696,5.113042086001118,-0.47124893548948465,0.06201193330775429,1.7245151257881766,-0.8522849728710615,1.253990829790613,-0.6327069680721983,2.0428145903700785,2.0381979897865534,-0.7849317994878608,-0.03670952647528373,-0.5386021088726854,-0.883653259270899,4.673886076403391,-0.820916686471224,-0.690826940288348,0.030643646907916735,-0.820916686471224,-0.15756607149110888,-0.22030264429078403,-0.7581801136715487,-0.4131289632733351,-0.9463898320705743,1.039029425575275,-0.18893435789094642,-0.2562875312741471,0.6893776613045062,-0.1935509584744719,-0.9150215456707367,-1.1659678368694375,-1.4482824144679758,-0.820916686471224,-0.8522849728710615,-0.5653537946889976,0.18748507890710464,-0.09944609927495907,5.0456889126179165,-0.4758655360730102,0.2502056649958096,-0.9777581184704119,-1.1927195226857494,-0.47124893548948465,-1.1032312640697621,-0.16218267207463427,-0.2876558176739847,1.4781854351730015,-0.3144075034902968,-0.5386021088726854,1.352712289573651,-0.7268118272717109,-1.5423872736674884,-0.9417732314870487,0.40706308370596783,-0.6640752544720359,-0.4085123626898098,0.15150019192374148,-0.12619778509127128,-1.4169141280681383,1.0076611391754373,4.391571498804852,1.1017659983749502,-0.9104049450872109,-0.7895484000713862,-0.13081438567479658,4.924832367602091,-0.1215971712187162,-0.6640752544720359,-1.0091264048702495,-0.28303921709045926,-0.5386021088726854,1.1598859705911002,-0.6954435408718735,-0.883653259270899,-0.2516709306906215,-0.820916686471224,-0.28303921709045926,-0.9777581184704119,0.18748507890710464,-0.37714407628997215,0.05739533272422877,-0.3457757898901345,-1.1345995504696,-0.9777581184704119,0.3756947973061302,0.09338021970759197,-0.2562875312741471,0.0887636191240663,-0.3457757898901345,-1.1032312640697621,-1.0404946912700872,1.097149397791425,2.293760881568779,4.830727508402579,0.5011679429054807,1.1598859705911002,2.0114463039702404,0.9089396793923992,1.7291317263717016,4.987568940401767,0.7880831343765743,2.2891442809852536,-1.2914409824687876,-0.4758655360730102,-0.47124893548948465,-0.8790366586873734,-0.8476683722875359,1.4154488623733263,-0.6954435408718735,-0.22030264429078403,-0.7581801136715487,-1.1973361232692752,0.9089556661033693,0.46518305592211756,0.0887636191240663,-0.9731415178868862,-0.09482949869143366,0.02602704632439115,-1.2914409824687876,0.0887636191240663,-1.1973361232692752,4.95620065400193,1.3840805759734887,-0.8163000858876982,4.637901189420028,0.846203106592724,2.0428145903700785,-0.13081438567479658,2.5760754591673174,-0.6327069680721983,1.4468171487731636,-1.2287044096691129,-0.5026172218893225,-0.2249192448743095,-0.7221952266881858,-1.1032312640697621,-0.2249192448743095,-0.820916686471224,-0.47124893548948465,2.5722108876142715,0.8508197071762493,-0.5699703952725229,-0.5967220810888351,0.15150019192374148,-0.06807781287512144,-1.2600726960689501,-0.5653537946889976,-1.1659678368694375,-0.37714407628997215,-1.1659678368694375,2.293760881568779,-1.2287044096691129,-0.9777581184704119,-0.4758655360730102,-0.5699703952725229,2.2891442809852536,-0.9777581184704119,0.15150019192374148,-0.22030264429078403,-0.5386021088726854,-1.0404946912700872,-0.37714407628997215,0.2815899381066173,-0.0007246394919209842,-0.4444972496731726,-0.5339855082891602,0.4697996565056431,0.7161293471208183,-0.6327069680721983,-1.0091264048702495,-0.2516709306906215,1.1599019573020701,-0.12619778509127128,-0.5339855082891602,-0.0007246394919209842,-0.9417732314870487,-0.820916686471224,-0.690826940288348,-1.8560701376658646,-0.883653259270899,1.5722902943725143,-0.2562875312741471,1.8859731583708899,-0.09482949869143366,-0.3190241040738224,-0.9777581184704119,-1.5691389594838006,0.3443265109062925,-1.5691389594838006,-0.4444972496731726,-1.0358780906865614,0.5638885289941856,0.34431052419532254,1.4735688345894762,-0.3457757898901345,-1.1659678368694375,-0.5699703952725229,0.05739533272422877,1.352712289573651,-0.8476683722875359,4.360203212405014,4.2974666396053385,1.7605000127715398,-0.9777581184704119,-0.43988064908964714,-0.7895484000713862,-0.6327069680721983,1.352712289573651,-0.2249192448743095,-0.43988064908964714,-0.7268118272717109,0.02602704632439115,-0.4758655360730102,-0.5026172218893225,-0.3457757898901345,-0.6327069680721983,-0.6013386816723608,0.4697996565056431,-0.03670952647528373,-1.0404946912700872,4.292850039021815,-0.5072338224728479,1.2272391439743007,-1.1032312640697621,0.940307965792237,0.05739533272422877,-0.883653259270899,-0.7221952266881858,-0.9777581184704119,-1.2287044096691129,-1.1032312640697621,-0.1935509584744719,-0.5339855082891602,0.33970991032276715,1.7291317263717016,0.6580093749046685,-0.1935509584744719,4.171993494005989,-1.2868243818852623,0.8775713929925617,-1.1032312640697621,-0.005341240075446471,-0.13081438567479658,-0.3190241040738224,0.06201193330775429,0.8416024927201691,-0.47124893548948465,0.05739533272422877,-1.1345995504696,-0.9150215456707367,-0.9777581184704119,-0.8790366586873734,-0.1935509584744719,-0.9417732314870487,-0.2876558176739847,-1.2600726960689501,-1.9188067104655395,-0.2249192448743095,-1.0718629776699249,0.6626099887772239,1.0657811113915874,0.18748507890710464,-0.5653537946889976,-0.3457757898901345,-0.09482949869143366,0.15611679250726707,-1.667860419266839,-0.2249192448743095,-0.2876558176739847,2.387865740768292,-0.7221952266881858,1.1285176841912625,-0.21570203041822897,-0.883653259270899,2.1682877359694284,2.1996560223692665,-0.3190241040738224,-1.4436658138844503,-0.47124893548948465,-0.43988064908964714,-0.12619778509127128,-0.7895484000713862,-0.2249192448743095,-0.38176067687349735,-1.2600726960689501,-1.8560701376658646,-0.2562875312741471,0.15150019192374148,-0.2249192448743095,-1.1973361232692752,-0.38176067687349735,-0.4758655360730102,0.783482520504019,-0.06346121229159613,-0.6327069680721983,-0.9417732314870487,0.18748507890710464,1.5990419801888267,0.7207299609933738,-0.9777581184704119,-0.47124893548948465,-1.6318755322834757,-0.9150215456707367,-0.7535635130880234,-0.3144075034902968,-0.21570203041822897,1.7605000127715398,-0.9150215456707367,2.356497454368454,-0.25168691740159177,4.140625207606151,-0.4131289632733351,-1.1613512362859117,0.40706308370596783,0.12013190552390374,0.15150019192374148,-0.1935509584744719,1.4422005481896383,0.8508197071762493,-0.7581801136715487,2.1682877359694284,1.6036585807723516,-0.4085123626898098,-0.9463898320705743,-0.47124893548948465,-0.7268118272717109,4.324218325421652,-0.9777581184704119,-0.9150215456707367,1.8186199849876894,0.5279196287217928,-0.15756607149110888,-0.28303921709045926,1.0030605253028821,1.0030605253028821,0.3710781967226046,1.509553721572839,0.12473251939645927,-0.6013386816723608,-0.35039239047365994,-0.5026172218893225,0.6266410885048309,1.4154488623733263,0.7834665337930488,-1.0091264048702495,2.136919449569591,-0.1935509584744719,-1.0045098042867238,-0.7581801136715487,-0.9417732314870487,0.34431052419532254,0.6939782751770615,0.8729707791200065,-0.9417732314870487,-1.1973361232692752,-0.6954435408718735,0.3756947973061302,0.7521142341041815,-0.2516709306906215,0.31295822450645494,-1.1032312640697621,-0.5699703952725229,1.1912542569909377,-0.47124893548948465,1.0076611391754373,0.9089396793923992,-0.883653259270899,-0.2876558176739847,-0.06346121229159613,-0.7221952266881858,-0.8163000858876982,-0.43988064908964714,-0.37714407628997215,-0.5339855082891602,0.12013190552390374,-0.37714407628997215,-0.5026172218893225,-0.03209292589175851,0.3756947973061302,-0.47124893548948465,-0.5026172218893225,0.5952568153940233,1.253990829790613,4.857479194218891,-0.9777581184704119,0.06201193330775429,4.517044644404203,4.454308071604528,1.4154488623733263,1.9173414447707275,0.6266410885048309,-1.1613512362859117,4.888847480618729,1.2586074303741381,-0.9731415178868862,-0.690826940288348,-0.6954435408718735,-0.3190241040738224,-0.7268118272717109,-0.2876558176739847,-0.5026172218893225,0.12013190552390374,2.5760754591673174,-0.5699703952725229,-0.12619778509127128,-0.4085123626898098,1.3167274025902882,-0.15756607149110888,-0.5386021088726854,-0.7268118272717109,-0.4085123626898098,-0.6013386816723608,1.0703977119751127,-0.8522849728710615,-0.6594586538885104,-1.0404946912700872,-1.0091264048702495,0.2815899381066173,-1.1032312640697621,0.15611679250726707,0.25022165170677985,-1.0718629776699249,-0.1935509584744719,-0.820916686471224,-0.18893435789094642,1.1598859705911002,4.046520348406639,1.1912542569909377,-0.3457757898901345,0.15150019192374148,-0.2516709306906215,1.509553721572839,1.666395153572027,0.6939782751770615,-0.5339855082891602,-0.9463898320705743,-0.37714407628997215,-0.7581801136715487,-0.47124893548948465,-0.8476683722875359,-0.6640752544720359,-0.820916686471224,-1.2287044096691129,1.7291317263717016,0.940307965792237,-1.1345995504696,0.8194514207764115,4.924832367602091,1.3840805759734887,-1.1973361232692752,-0.13081438567479658,1.9440931305870397,-0.2516709306906215,1.352712289573651,-0.6594586538885104,-0.47124893548948465,0.944924566375762,-0.4085123626898098,0.7207459477043437,-0.7581801136715487,0.21885336530694222,0.25022165170677985,0.21885336530694222,-0.4131289632733351,-0.820916686471224,0.15611679250726707,0.21423676472341688,-0.7895484000713862,-0.47124893548948465,-1.0045098042867238,1.9800780175704027,-0.883653259270899,1.9754614169868774,0.9716762521920745,-0.28303921709045926,0.7834665337930488,-0.4444972496731726,-0.8790366586873734,-0.9104049450872109,-0.5026172218893225,-0.15756607149110888,1.5409220079726764,1.003044538591912,-0.820916686471224,-0.1935509584744719,-0.5386021088726854,0.15611679250726707,-1.0718629776699249,-0.03209292589175851,-0.3457757898901345,-0.9150215456707367,0.7474976335206565,0.5639045157051557,-0.690826940288348,-1.7619652784663518,1.3480956889901257,0.2861905519791727,4.543796330220514,-0.5339855082891602,-0.12619778509127128,-0.9104049450872109,-1.667860419266839,-1.2287044096691129,-0.6594586538885104,0.12474850610742956,-1.1659678368694375,-1.067246377086399,-0.5653537946889976,-0.15756607149110888,-0.9731415178868862,-1.5423872736674884,-0.15756607149110888,1.4422005481896383,1.2586074303741381,-1.793333564866189,-0.7221952266881858,1.666395153572027,1.2899757167739758,1.0657811113915874,-1.2287044096691129,-1.3809292410847749,-1.3855458416683006,-0.883653259270899,0.3443265109062925,-0.690826940288348,-0.2562875312741471,-0.5026172218893225,1.039029425575275,-0.1935509584744719,2.0381979897865534,4.481059757420839,0.09338021970759197,1.4422005481896383,-1.0045098042867238,-0.7849317994878608,-0.9104049450872109,0.18286847832357914,-0.5699703952725229,4.454308071604528,1.7245151257881766,0.33970991032276715,-0.4758655360730102,-0.9777581184704119,-0.7535635130880234,-0.4085123626898098,4.857479194218891,-0.6327069680721983,1.3480956889901257,-0.3457757898901345,3.9164306022237634,-0.5967220810888351,-0.18433374401839106,0.40706308370596783,-1.1973361232692752,0.21883737859597202,-0.4131289632733351,-0.5339855082891602,-0.03670952647528373,-0.6954435408718735,1.2226225433907751,-1.6992287056666766,-0.7221952266881858,0.2815899381066173,2.06956627618639,0.15611679250726707,-0.6327069680721983,-0.4758655360730102,1.7605000127715398,-0.2562875312741471,-0.37714407628997215,-0.22030264429078403,0.7161293471208183,-0.8476683722875359,-0.15756607149110888,-0.5072338224728479,-0.9417732314870487,0.7253465615768991,1.8859731583708899,2.325129167968617,1.0344128249917495,4.830727508402579,1.2899757167739758,1.4468171487731636,1.3840805759734887,-0.38176067687349735,-1.5423872736674884,-1.793333564866189,-1.0404946912700872,1.5990419801888267,0.505768556778036,1.8499882713875275,1.9487097311705652,-0.9150215456707367,0.4338147695222801,0.2815899381066173,1.5722902943725143,-0.7581801136715487,1.8546048719710522,0.24560505112325426,-0.9731415178868862,1.4154488623733263,1.4781854351730015,4.328834926005176,0.6266251017938609,-0.8522849728710615,-0.22030264429078403,0.21423676472341688,-0.6640752544720359,0.030643646907916735,-1.0091264048702495,-1.667860419266839,4.767990935602903,1.7558834121880142,3.6654843110250623,1.4468171487731636,1.4468171487731636,-0.09944609927495907,1.5409220079726764,0.15610080579629682,-0.4085123626898098,-1.5423872736674884,-0.47124893548948465,0.2815899381066173,-0.3144075034902968,0.590656201521468,0.40706308370596783,0.02602704632439115,-0.4444972496731726,-1.1973361232692752,-0.4444972496731726,-0.37714407628997215,-0.9731415178868862,-1.2600726960689501,1.2853591161904505,-0.7268118272717109,-0.18893435789094642,-0.9104049450872109,-1.0718629776699249,-1.1345995504696,4.700637762219704,-0.5967220810888351,4.8934640812022545,-0.7221952266881858,1.8859731583708899,0.2815899381066173,5.08167379960128,-1.0358780906865614,-0.9417732314870487,0.030643646907916735,-1.067246377086399,-0.18893435789094642,-0.16218267207463427,1.509553721572839,1.9173414447707275,1.039029425575275,1.003044538591912,-0.09482949869143366,0.532520242594348,2.356497454368454,3.759605156935544,-0.06346121229159613,-0.4444972496731726,4.2301134662221385,1.3213440031738133,0.40704709699499764,1.1331342847747878,4.794742621419216,1.0703977119751127,1.2272391439743007,1.4422005481896383,1.1331342847747878,4.422939785204689,3.6073643388089116,-0.43988064908964714,-0.7221952266881858,-0.28303921709045926,0.18748507890710464,0.0887636191240663,0.3710781967226046,-0.4444972496731726,-0.12619778509127128,0.12474850610742956,0.12474850610742956,-0.820916686471224,-0.7581801136715487,-1.793333564866189,-1.1032312640697621,-0.9150215456707367,0.030643646907916735,-1.0045098042867238,-1.0091264048702495,-0.43988064908964714,0.06201193330775429,1.3480956889901257,3.8583106300076135,-0.9463898320705743,1.4108322617898008,0.3129422377954848,1.5409220079726764,-0.8790366586873734,0.6579933881936986,-0.12619778509127128,0.8194514207764115,0.9762928527755999,-0.820916686471224,0.8508197071762493,4.328834926005176,-1.1973361232692752,1.2899757167739758,-0.6594586538885104,-0.12619778509127128,5.144410372400955,2.0381979897865534,-1.1345995504696,-0.9417732314870487,-0.7581801136715487,-0.3457757898901345,-0.5699703952725229,-1.3855458416683006,-0.7268118272717109,-0.6280903674886729,0.25022165170677985,0.05739533272422877,-0.6640752544720359,-0.9104049450872109,-0.09482949869143366,0.5685051295777109,0.7567148479767364,4.987568940401767,-0.5386021088726854,0.3756947973061302,-0.2876558176739847,-0.820916686471224,-0.5026172218893225,-0.09482949869143366,-0.38176067687349735,-0.47124893548948465,-0.22030264429078403,-0.13081438567479658,-0.37714407628997215,-0.8790366586873734,-0.4085123626898098,0.846203106592724,1.791868299171377,0.40704709699499764,0.6266410885048309,-1.3228092688686257,-0.6640752544720359,-0.37714407628997215,-0.5339855082891602,-1.0091264048702495,0.8775713929925617,-0.38176067687349735,-1.0091264048702495,-0.5699703952725229,-1.0718629776699249,-0.3457757898901345,1.6036585807723516,-0.3457757898901345,0.944924566375762,1.3213440031738133,-0.690826940288348,-0.06807781287512144,-0.22030264429078403,-0.4758655360730102,-1.0718629776699249,0.40704709699499764,0.940307965792237,5.269883518000305,-1.3495609546849372,-0.6327069680721983,0.2769733375230917,-0.7535635130880234,-0.47124893548948465,-0.06346121229159613,0.6893776613045062,0.24560505112325426,-0.2562875312741471,-0.6594586538885104,1.352712289573651,0.5685051295777109,0.6579933881936986,1.5049371209893136,-0.22030264429078403,-0.43988064908964714,1.6617785529885014,-0.9777581184704119,-0.2249192448743095,1.1958708575744632,-0.9777581184704119,-0.5339855082891602,1.9173414447707275,1.5676736937889886,0.15611679250726707,1.8546048719710522,1.2899757167739758,-0.37714407628997215,-0.5653537946889976,5.33262009079998,-0.8476683722875359,-0.5967220810888351,-0.6013386816723608,-0.4444972496731726,-0.690826940288348,-0.4758655360730102,-1.0404946912700872,-0.7895484000713862,-0.3144075034902968,1.509553721572839,-0.03209292589175851,0.12474850610742956,-0.6640752544720359,-0.5072338224728479,-0.15756607149110888,-1.067246377086399,-0.7849317994878608,-0.7895484000713862,-0.12619778509127128,1.791868299171377,1.4154488623733263,1.6036585807723516,1.3480956889901257,-0.5699703952725229,1.823236585571215,1.8499882713875275,0.5325362293053183,1.6617785529885014,-0.15758205820207905,-1.0358780906865614,-0.9150215456707367,-0.9731415178868862,-0.6280903674886729,0.030643646907916735,-0.47124893548948465,-1.2600726960689501,-0.5699703952725229,-0.1935509584744719,1.8186199849876894,-0.5026172218893225,-0.9150215456707367,1.4781854351730015,4.8934640812022545,-0.38176067687349735,-1.6318755322834757,1.6304102665886633,0.9089396793923992,0.49655134232195514,1.1285176841912625,0.469783669794673,4.830727508402579,1.4422005481896383,1.1285336709022324,-0.7268118272717109,1.6931468393883389,-0.15756607149110888,0.4697996565056431,-1.067246377086399,-1.1299829498860743,-0.6327069680721983,-0.8163000858876982,-1.0091264048702495,-0.3457757898901345,-0.6954435408718735,-0.6594586538885104,-0.5026172218893225,-0.9731415178868862,-1.0718629776699249,0.7521142341041815,1.509553721572839,-0.9777581184704119,-0.03670952647528373,4.606532903020189,1.4108322617898008,-0.7221952266881858,0.18748507890710464,0.3710781967226046,-0.37714407628997215,-0.6594586538885104,-0.7581801136715487,-0.6954435408718735,-0.43988064908964714,-1.2600726960689501,1.3480956889901257,-0.3190241040738224,-0.7268118272717109,-0.883653259270899,1.2853591161904505,0.15610080579629682,1.791868299171377,4.2301134662221385,-1.0718629776699249,-0.6327069680721983,-0.6640752544720359,0.46518305592211756,4.543796330220514,0.7880831343765743,0.6893776613045062,0.18748507890710464,-0.1935509584744719,-0.9417732314870487,-0.5967220810888351,0.9089396793923992,-0.820916686471224,-0.43988064908964714,-0.16218267207463427,-0.2516709306906215,0.2815899381066173,-0.43988064908964714,-0.6013386816723608,-0.6327069680721983,-0.4131289632733351,-0.5072338224728479,-0.12619778509127128,0.4697996565056431,1.2899757167739758,-0.09482949869143366,4.799359222002741,3.8850623158239257,2.226407708185578,1.5722902943725143,1.2853591161904505,2.450602313567967,0.18748507890710464,0.15611679250726707,4.422939785204689,2.293760881568779,4.5797812172038785,0.5279196287217928,1.6977634399718649,2.325129167968617,1.6617785529885014,4.324218325421652,-0.2516709306906215,-0.005341240075446471,-0.15756607149110888,-0.5699703952725229,4.512428043820678,-1.2914409824687876,1.097149397791425,0.3756788105951602,-0.9731415178868862,-1.1345995504696,-0.38176067687349735,0.18748507890710464,4.705254362803228,-1.0091264048702495,1.509553721572839,2.1682877359694284,-0.6280903674886729,1.253990829790613,-1.0404946912700872,-0.9150215456707367,0.21423676472341688,-0.7895484000713862,-0.9463898320705743,-0.43988064908964714,-0.6640752544720359,4.700637762219704,-0.820916686471224,0.15611679250726707,-1.4169141280681383,-1.793333564866189,1.6977634399718649,-0.7895484000713862,1.8186199849876894,-0.0007246394919209842,1.0076611391754373,4.292850039021815,1.2899757167739758,0.8775713929925617,2.0381979897865534,0.28157395139564717,-0.4131289632733351,1.1958708575744632,1.2586074303741381,-1.0718629776699249,-0.28303921709045926,-0.7221952266881858,-0.5967220810888351,-0.4444972496731726,0.06201193330775429,-0.37714407628997215,-0.13081438567479658,-1.1032312640697621,0.6266410885048309,-1.0358780906865614,-1.0404946912700872,-1.1032312640697621,-0.7221952266881858,-0.7849317994878608,0.7520982473932112,-0.2562875312741471,-0.883653259270899,-1.2914409824687876,-0.9463898320705743,1.1285176841912625,-0.5699703952725229,0.5638885289941856,-0.5072338224728479,-1.0718629776699249,-0.9417732314870487,-1.0091264048702495,-1.600507245883638,-0.43988064908964714,-0.8163000858876982,1.4781854351730015,1.6350268671721895,0.21885336530694222,-0.5339855082891602,-0.6594586538885104,-0.4085123626898098,1.8859731583708899,4.418323184621165,-0.9150215456707367,0.5952568153940233,5.144410372400955,4.136008607022627,1.9800780175704027,1.3213440031738133,1.7605000127715398,1.9173414447707275,5.175778658800792,0.7567148479767364,1.9800780175704027,2.320512567385091,2.607443745567155,4.987568940401767,0.6939782751770615,4.888847480618729,0.12474850610742956,-0.4758655360730102,-0.15756607149110888,-0.47124893548948465,0.25022165170677985,0.3083416239229296,-0.13081438567479658,-1.1299829498860743,0.09338021970759197,-0.4085123626898098,-0.7849317994878608,-0.12619778509127128,-0.7581801136715487,-0.5386021088726854,-0.7895484000713862,-0.15756607149110888,0.46518305592211756,-0.5026172218893225,0.3756947973061302,-0.5026172218893225,0.02602704632439115,0.030643646907916735,-0.5967220810888351,0.2769733375230917,-1.1345995504696,-0.7535635130880234,-0.7221952266881858,0.31295822450645494,-0.3457757898901345,4.266098353205501,-1.1032312640697621,1.3840805759734887,1.253990829790613,-0.7849317994878608,0.6893616745935359,-0.2516709306906215,0.9716762521920745,-0.4085123626898098,0.7207299609933738,3.6968525974249,1.2226225433907751,-1.1032312640697621,1.7291317263717016,-0.15756607149110888,0.33970991032276715,0.9762928527755999,0.09338021970759197,-1.2600726960689501,-0.6327069680721983,-1.1032312640697621,-0.6640752544720359,0.24560505112325426,0.02602704632439115,-0.9104049450872109,-0.43988064908964714,0.12013190552390374,-0.7895484000713862,-0.7268118272717109,-0.2876558176739847,-0.6954435408718735,-0.820916686471224,-0.9731415178868862,-0.0007246394919209842,-0.9104049450872109,-0.7581801136715487,-0.18893435789094642,1.061180497519032,-0.4131289632733351,0.3443265109062925,-0.6640752544720359,-0.6013386816723608,0.24560505112325426,-0.8790366586873734,-1.573755560067326,0.43843137010580546,-0.5339855082891602,-0.22030264429078403,-0.4131289632733351,-0.9463898320705743,1.8546048719710522,-0.5386021088726854,1.2226225433907751,0.18748507890710464,-0.09482949869143366,1.1645025711746257,-0.5386021088726854,4.920215767018567,-0.12619778509127128,0.43843137010580546,-0.9777581184704119,0.4024464831224423,0.12474850610742956,-0.3144075034902968,-0.3457757898901345,-0.5653537946889976,-1.2287044096691129,-0.5386021088726854,-0.5072338224728479,-0.3457757898901345,-1.2600726960689501,-0.6280903674886729,0.3756788105951602,-1.1032312640697621,0.4384153833948354,4.830727508402579,4.767990935602903,1.5990419801888267,-1.3855458416683006,-0.7581801136715487,-0.06807781287512144,1.1331342847747878,1.0076611391754373,4.73200604861954,-0.2516709306906215,-0.16218267207463427,-0.883653259270899,-0.47124893548948465,-0.4131289632733351,-0.4131289632733351,-0.1935509584744719,-1.2914409824687876,0.5592879151216306,-0.03209292589175851,-0.7535635130880234,-0.37714407628997215,-0.35039239047365994,-0.6327069680721983,-1.3809292410847749,-0.3457757898901345,-0.38176067687349735,0.31295822450645494,-0.13081438567479658,-0.9104049450872109,5.08167379960128,-0.4444972496731726,-0.4444972496731726,0.7834665337930488,1.003044538591912,1.1331342847747878,-1.3228092688686257,-0.9731415178868862,-1.0358780906865614,-0.8476683722875359,1.1645025711746257,-0.5653537946889976,-0.16218267207463427,-0.47124893548948465,0.18286847832357914,-0.37714407628997215,1.5722902943725143,-0.7268118272717109,-0.5026172218893225,-0.7535635130880234,5.238515231600467,4.799359222002741,0.5998734159775486,-1.0404946912700872,1.8859731583708899,1.666395153572027,-0.03209292589175851,4.046520348406639,4.517044644404203,4.2301134662221385,2.136919449569591,0.030627660196946436,-0.6954435408718735,1.6350268671721895,1.4108322617898008,1.7558834121880142,1.6977634399718649,0.9716762521920745,1.2226225433907751,2.1636711353859033,4.95620065400193,4.920215767018567,0.9716762521920745,3.6968525974249,1.8499882713875275,4.4856763580043655,-0.5699703952725229,-1.1032312640697621,-0.5653537946889976,0.9716762521920745,0.21885336530694222,-1.1032312640697621,-0.5072338224728479,-0.7895484000713862,-0.5339855082891602,0.02602704632439115,-0.9104049450872109,-0.28303921709045926,0.4697996565056431,-0.5072338224728479,-0.09482949869143366,-0.9463898320705743,-1.0091264048702495,-0.28303921709045926,-0.8163000858876982,-0.5386021088726854,-0.4758655360730102,-0.15756607149110888,-0.6013386816723608,-0.2562875312741471,0.9762928527755999,-0.7221952266881858,5.144410372400955,4.736622649203066,4.136008607022627,-1.0404946912700872,0.9716922389030443,0.9135562799759245,1.8859731583708899,0.940307965792237,1.1285176841912625,1.2272391439743007,1.3794639753899631,1.3480956889901257,1.003044538591912,-0.9417732314870487,4.543796330220514,-0.7268118272717109,-0.9731415178868862,4.454308071604528,1.7291317263717016,-0.8522849728710615,-0.7849317994878608,-0.16218267207463427,-0.7581801136715487,-0.1935509584744719,-0.690826940288348,0.31295822450645494,-0.5653537946889976,-0.7268118272717109,-0.15756607149110888,-0.6013386816723608,-0.7895484000713862,-0.7895484000713862,0.15611679250726707,4.862095794802417,-0.13081438567479658,0.5011519561945106,-1.0091264048702495,4.888847480618729,1.2586074303741381,1.0076611391754373,-0.4085123626898098,1.1598859705911002,4.642517790003554,1.6617785529885014,1.5990419801888267,1.8859731583708899,1.4154488623733263,4.449691471021001,2.1996560223692665,4.705254362803228,-0.7895484000713862,0.05739533272422877,-1.5691389594838006,0.9089396793923992,4.575164616620352,-0.6327069680721983,-0.12619778509127128,-0.6594586538885104,0.02602704632439115,0.590656201521468,-0.3457757898901345,-0.4085123626898098,-0.2516709306906215,-1.0045098042867238,-0.47124893548948465,-0.8476683722875359,-0.12619778509127128,-0.5386021088726854,-0.38176067687349735,-0.6013386816723608,-0.4131289632733351,-0.8163000858876982,-0.13081438567479658,0.25022165170677985,-0.5386021088726854,-1.0404946912700872,-1.0091264048702495,1.1912542569909377,1.1645025711746257,-0.9150215456707367,2.320512567385091,1.3840805759734887,0.944924566375762,0.8462190933036942,0.21885336530694222,1.6617785529885014,1.0703977119751127,-0.7221952266881858,4.4856763580043655,0.4384153833948354,1.3213440031738133,-0.5653537946889976,-0.38176067687349735,1.6304102665886633,4.767990935602903,1.4108322617898008,-0.6954435408718735,0.09338021970759197,-0.6013386816723608,0.18286847832357914,0.5325362293053183,-0.5653537946889976,-0.09482949869143366,-0.5339855082891602,-1.2914409824687876,0.7161293471208183,-0.5699703952725229,-0.6327069680721983,-0.03209292589175851,-0.09944609927495907,-0.6280903674886729,0.12013190552390374,-0.6280903674886729,-1.0986146634862366,-0.2876558176739847,-0.5967220810888351,0.2815899381066173,-0.5967220810888351,-0.6327069680721983,0.9089396793923992,1.6977634399718649,-0.37714407628997215,-0.6327069680721983,-1.3228092688686257,-1.0718629776699249,1.1331342847747878,-0.5339855082891602,-0.7221952266881858,1.9800780175704027,-0.5386021088726854,4.203361780405826,0.7834665337930488,-0.3457757898901345,1.1645025711746257,0.030643646907916735,-0.6640752544720359,-0.820916686471224,1.8859731583708899,-0.38176067687349735,1.4468171487731636,4.418323184621165,4.763374335019379,4.136008607022627,-1.0091264048702495,5.113042086001118,1.0344288117027198,3.5086428790258744,1.5409220079726764,1.6617785529885014,1.5363054073891511,2.136919449569591,-0.3190241040738224,1.5722902943725143,-0.8522849728710615,-0.5653537946889976,-0.38176067687349735,-1.0404946912700872,-0.8476683722875359,-0.820916686471224,0.18286847832357914,-0.47124893548948465,-0.9104049450872109,0.25022165170677985,-1.1973361232692752,0.21423676472341688,-1.4169141280681383,-0.3190241040738224,-0.09944609927495907,0.21423676472341688,-0.4131289632733351,-0.8163000858876982,-0.3190241040738224,-1.5110189872676512,1.2899757167739758,1.4735688345894762,1.5409220079726764,0.940307965792237,0.940307965792237,-0.5072338224728479,-0.2516709306906215,0.7567148479767364,-0.15756607149110888,-0.6013386816723608,-1.8874384240657023,-1.1032312640697621,-0.5386021088726854,-0.8163000858876982,-0.7268118272717109,0.38029541117868565,-1.067246377086399,-1.3541775552684634,-0.09482949869143366,-0.37714407628997215,-0.38176067687349735,-1.5110189872676512,-0.8522849728710615,-0.9463898320705743,1.4781854351730015,-0.5339855082891602,-0.4444972496731726,4.857479194218891,-0.3457757898901345,2.262392595168941,-0.15756607149110888,-0.37714407628997215,0.18746909219613445,-0.6013386816723608,1.4108322617898008,1.7605000127715398,-0.005341240075446471,1.4468171487731636,-0.28303921709045926,-0.7849317994878608,-0.883653259270899,0.06201193330775429,-0.3190241040738224,-0.6013386816723608,-0.15756607149110888,-1.8560701376658646,-0.5967220810888351,-0.7268118272717109,0.5325362293053183,-0.9731415178868862,0.12474850610742956,1.4735688345894762,0.24560505112325426,-0.28303921709045926,-0.6954435408718735,-0.4085123626898098,-0.16218267207463427,-0.8522849728710615,-1.0404946912700872,-1.8560701376658646,-0.2876558176739847,1.5676736937889886,2.1996560223692665,-1.2600726960689501,0.46518305592211756,4.266098353205501,4.171993494005989,1.1912542569909377,1.7291317263717016,0.40704709699499764,-0.9463898320705743,0.06201193330775429,0.06201193330775429,1.791868299171377,-0.8163000858876982,-0.5339855082891602,-0.2516709306906215,-0.43988064908964714,1.2226225433907751,-0.4444972496731726,-1.0091264048702495,-0.5967220810888351,4.987568940401767,-0.7581801136715487,-1.0404946912700872,-1.9188067104655395,-0.18893435789094642,-0.5967220810888351,-0.12619778509127128,-0.6954435408718735,-1.0718629776699249,-0.6954435408718735,0.6580093749046685,-0.8522849728710615,4.987568940401767,1.2853591161904505,0.9135562799759245,4.799359222002741,-0.8476683722875359,1.9173414447707275,1.6931468393883389,1.352712289573651,0.5279196287217928,1.7291317263717016,2.1950394217857405,4.642517790003554,-1.4436658138844503,-0.2562875312741471,-0.820916686471224,-0.2516709306906215,0.09338021970759197,-1.1345995504696,-0.6954435408718735,-1.0718629776699249,-0.6280903674886729,-0.12619778509127128,-1.3541775552684634,-1.0404946912700872,-1.0091264048702495,-0.37714407628997215,-0.18893435789094642,0.02602704632439115,-1.0718629776699249,0.12474850610742956,-0.06807781287512144,-1.3228092688686257,-0.28303921709045926,-0.43988064908964714,-0.7581801136715487,-0.5653537946889976,-1.1345995504696,-0.2516709306906215,-0.09482949869143366,-1.2914409824687876,-1.0404946912700872,-0.4758655360730102,-0.6327069680721983,-0.28303921709045926,-0.820916686471224,-0.9150215456707367,-0.883653259270899,-0.9777581184704119,-0.8163000858876982,-0.8522849728710615,-0.9731415178868862,0.6266410885048309,-0.6013386816723608,3.6701009116085874,-0.5699703952725229,-0.5386021088726854,-1.1032312640697621,0.3443265109062925,-1.0718629776699249,-1.2287044096691129,-1.6318755322834757,-0.6640752544720359,0.18286847832357914,-0.6013386816723608,-0.22030264429078403,-0.5653537946889976,-0.7849317994878608,-0.5653537946889976,-0.0007246394919209842,-0.6327069680721983,-0.9150215456707367,-0.6327069680721983,-1.537770673083963,-0.5072338224728479,1.1017659983749502,-0.7895484000713862,-1.0045098042867238,-0.13081438567479658,-0.5386021088726854,-0.7895484000713862,-0.7895484000713862,1.5049371209893136,0.15611679250726707,-0.6013386816723608,0.06201193330775429,-1.2287044096691129,-0.820916686471224,-0.5072338224728479,-1.0358780906865614,-0.8476683722875359,-0.9463898320705743,-1.0986146634862366,0.15150019192374148,-1.1032312640697621,-0.3457757898901345,-0.06807781287512144,-0.3457757898901345,1.352712289573651,0.5952568153940233,4.673886076403391,0.0887636191240663,-0.6013386816723608,-0.8163000858876982,0.8102342063203313,-1.3181926682850997,-0.9150215456707367,-0.9777581184704119,1.4422005481896383,-0.7895484000713862,-0.7895484000713862,-0.9777581184704119,0.5952568153940233,-0.47124893548948465,-0.3144075034902968,0.3756788105951602,-0.22030264429078403,0.21885336530694222,-0.06807781287512144,-0.16218267207463427,-0.4444972496731726,-0.8522849728710615,-0.35039239047365994,1.4735688345894762,0.06201193330775429,0.6579933881936986,0.18286847832357914,-1.0091264048702495,1.1017659983749502,-0.18893435789094642,1.4735688345894762,1.1598859705911002,-0.38176067687349735,4.203361780405826,1.791868299171377,4.077888634806476,3.63873262520875,-0.15756607149110888,1.6977634399718649,4.700637762219704,-0.5072338224728479,2.1682877359694284,-1.0718629776699249,0.15611679250726707,-0.47124893548948465,0.6579933881936986,-0.37714407628997215,0.18748507890710464,-0.38176067687349735,-0.7849317994878608,-0.6280903674886729,-0.6640752544720359,1.0344128249917495,1.7605000127715398,0.4697996565056431,0.40706308370596783,1.3213440031738133,1.8813565577873648,4.046520348406639,4.606532903020189,-0.7268118272717109,2.4107688417425286,0.6312417023773863,-1.4169141280681383,1.1331342847747878,4.987568940401767,1.1331342847747878,-0.7581801136715487,0.4024464831224423,4.673886076403391,1.3840805759734887,1.3213440031738133,-1.1032312640697621,4.920215767018567,1.4735688345894762,2.0428145903700785,4.077888634806476,1.9440931305870397,-0.5339855082891602,-1.0718629776699249,-0.6280903674886729,0.06201193330775429,0.0887636191240663,-0.06346121229159613,-0.2876558176739847,-1.3228092688686257,-0.22030264429078403,-0.883653259270899,-1.2914409824687876,-0.03209292589175851,-0.2516709306906215,-0.4444972496731726,-0.820916686471224,-1.8874384240657023,0.9089556661033693,-1.1032312640697621,-0.6327069680721983,-0.4085123626898098,-0.16218267207463427,-0.0007246394919209842,0.030643646907916735,-0.16218267207463427,0.4338147695222801,0.31295822450645494,-0.12619778509127128,-0.15756607149110888,-1.5110189872676512,-0.4444972496731726,1.8859731583708899,-0.820916686471224,4.198745179822302,1.097149397791425,-1.1345995504696,-0.6954435408718735,1.0076611391754373,0.9135562799759245,0.505768556778036,2.387865740768292,4.077888634806476,0.9089396793923992,-1.0404946912700872,4.799359222002741,0.944924566375762,0.9089396793923992,0.2502056649958096,-0.3144075034902968,1.003044538591912,0.7253465615768991,-0.6280903674886729,2.0428145903700785,1.4735688345894762,1.4735688345894762,2.105551163169754,1.8186199849876894,-0.4085123626898098,-0.9150215456707367,-0.6640752544720359,-0.2516709306906215,-0.883653259270899,-1.067246377086399,-0.7581801136715487,-0.690826940288348,-0.38176067687349735,-0.820916686471224,-0.2562875312741471,-1.0718629776699249,-0.3457757898901345,-0.4758655360730102,0.5325362293053183,-0.8476683722875359,-1.2554560954854246,0.940307965792237,-0.35039239047365994,0.06201193330775429,1.4108322617898008,-0.3144075034902968,4.642517790003554,1.4422005481896383,2.0428145903700785,0.21883737859597202,1.6350268671721895,4.700637762219704,1.9487097311705652,1.6931468393883389,5.018937226801605,-0.9150215456707367,4.642517790003554,-0.5339855082891602,-0.9150215456707367,-0.4131289632733351,-1.1973361232692752,0.9716762521920745,-0.9463898320705743,-0.6594586538885104,-1.5064023866841252,-1.0358780906865614,3.8850623158239257,0.5952568153940233,0.41166369757852317,1.039029425575275,-0.9777581184704119,-0.43988064908964714,0.9089556661033693,-0.7268118272717109,-0.7268118272717109,-0.18893435789094642,-0.47124893548948465,-1.3228092688686257,-0.8790366586873734,-0.6594586538885104,1.3840805759734887,-0.6640752544720359,-0.4085123626898098,-0.2516709306906215,-1.0358780906865614,-0.8522849728710615,-1.1973361232692752,-0.8163000858876982,-0.2516709306906215,5.0456889126179165,0.944924566375762,-0.8163000858876982,0.8508197071762493,0.944924566375762,1.2272391439743007,-0.5072338224728479,-0.6594586538885104,-1.0358780906865614,-0.16218267207463427,0.5952728021049934,-0.38176067687349735,-0.7849317994878608,-0.690826940288348,1.6977634399718649,1.7558834121880142,5.08167379960128,-0.5026172218893225,2.293760881568779,1.3480956889901257,1.5722902943725143,1.5676736937889886,1.7558834121880142,-1.1973361232692752,4.077888634806476,0.8508197071762493,0.7207299609933738,2.356497454368454,0.7520982473932112,1.1331342847747878,0.3756788105951602,0.944924566375762,2.293760881568779,1.2272391439743007,4.736622649203066,1.2226225433907751,1.3480956889901257,0.12013190552390374,0.5685051295777109,-0.09944609927495907,1.1958708575744632,-0.7849317994878608,1.1285176841912625,4.104640320622788,0.030643646907916735,-1.2600726960689501,-0.7581801136715487,-1.0045098042867238,-0.7535635130880234,-0.2516709306906215,-0.9777581184704119,-1.1927195226857494,-0.8522849728710615,-0.1935509584744719,0.15611679250726707,-0.09944609927495907,0.09338021970759197,-0.690826940288348,-0.7221952266881858,-0.9104049450872109,-1.0045098042867238,-0.8522849728710615,-0.5072338224728479,-0.9104049450872109,-1.3228092688686257,-1.663243818683313,-0.883653259270899,-1.4436658138844503,-0.9417732314870487,0.06201193330775429,-0.43988064908964714,-0.3457757898901345,-0.38176067687349735,0.12474850610742956,-1.0091264048702495,-0.5072338224728479,0.0887636191240663,-0.6013386816723608,-0.03670952647528373,-0.5339855082891602,-0.4085123626898098,-0.6954435408718735,-0.09944609927495907,-1.3228092688686257,-1.1032312640697621,-0.47124893548948465,-0.5699703952725229,-0.7849317994878608,-0.7268118272717109,-0.7581801136715487,-0.6280903674886729,-0.7535635130880234,-0.6640752544720359,-0.13081438567479658,-1.2600726960689501,-0.3190241040738224,-1.1345995504696,0.3443265109062925,-1.0091264048702495,-0.5339855082891602,-0.03670952647528373,-0.7895484000713862,-0.8790366586873734,-0.5072338224728479,0.0887636191240663,-0.883653259270899,-0.7268118272717109,-0.28303921709045926,-0.0007246394919209842,-1.4436658138844503,-0.883653259270899,-0.7535635130880234,-0.18893435789094642,-0.22030264429078403,-0.37714407628997215,-0.6013386816723608,-0.6954435408718735,-0.5026172218893225,-1.0404946912700872,-1.9188067104655395,-0.7581801136715487,-1.1032312640697621,-0.12619778509127128,0.5279196287217928,-0.6594586538885104,-1.0718629776699249,-0.1935509584744719,-1.5110189872676512,0.2769733375230917,-0.9150215456707367,-0.6640752544720359,-0.9150215456707367,-0.9417732314870487,-0.5699703952725229,-0.4758655360730102,-0.4085123626898098,-0.47124893548948465,-0.16218267207463427,-0.4444972496731726,-0.6954435408718735,-0.7895484000713862,-0.38176067687349735,-0.4444972496731726,-0.7581801136715487,-0.3190241040738224,0.0887636191240663,-1.1032312640697621,-0.47124893548948465,-0.9150215456707367,-0.820916686471224,-0.2516709306906215,-0.16218267207463427,-0.4131289632733351,-0.820916686471224,-0.2562875312741471,-0.2562875312741471,-1.1032312640697621,-0.3144075034902968,-0.5699703952725229,-0.7895484000713862,-1.0404946912700872,0.18286847832357914,-1.0091264048702495,-1.9501749968653772,-0.7268118272717109,-0.7895484000713862,-0.8522849728710615,-0.7268118272717109,-0.8522849728710615,-0.8163000858876982,-0.6954435408718735,-0.06807781287512144,0.12013190552390374,-0.9463898320705743,-0.4758655360730102,-0.7581801136715487,-0.5653537946889976,-0.7895484000713862,-0.5339855082891602,-0.5072338224728479,-0.2876558176739847,-1.0404946912700872,-0.7849317994878608,-0.5967220810888351,0.8462190933036942,-0.03670952647528373,-0.3457757898901345,-1.6318755322834757,-0.15756607149110888,-0.9417732314870487,-0.0007246394919209842,-1.1345995504696,-1.2287044096691129,2.755804005429772,-1.0718629776699249,-0.9463898320705743,0.5279196287217928,-0.35039239047365994,-0.7268118272717109,-0.38176067687349735,-0.5339855082891602,-0.5653537946889976,-0.47124893548948465,-1.067246377086399,-0.7221952266881858,-0.5072338224728479,-0.7895484000713862,-1.1973361232692752,0.05739533272422877,0.06201193330775429,-1.2287044096691129,-0.6954435408718735,-0.38176067687349735,-0.18893435789094642,-0.9463898320705743,-1.0404946912700872,-0.7895484000713862,-0.9777581184704119,0.05739533272422877,-0.2876558176739847,-1.8247018512660271,0.40706308370596783,-0.9777581184704119,-0.03209292589175851,-0.7581801136715487,0.3710781967226046,-1.8247018512660271,-1.9188067104655395,-0.9777581184704119,-0.5386021088726854,-0.6013386816723608,-1.0358780906865614,-0.4758655360730102,-0.6327069680721983,-0.6954435408718735,-0.8790366586873734,0.6266410885048309,-0.5072338224728479,-1.0045098042867238,-0.7221952266881858,-1.3228092688686257,-0.4444972496731726,-0.5026172218893225,0.030643646907916735,-1.0718629776699249,-1.1973361232692752,0.18286847832357914,0.2815899381066173,-0.03209292589175851,0.0887636191240663,-0.12619778509127128,-0.7268118272717109,-0.9463898320705743,-0.8476683722875359,-0.5339855082891602,-0.6013386816723608,-1.1032312640697621,0.5952728021049934,-0.820916686471224,-0.3190241040738224,-0.7581801136715487,0.2815899381066173,-0.7581801136715487,-0.7849317994878608,-0.4444972496731726,-1.1345995504696,-0.4085123626898098,-0.5386021088726854,-0.4444972496731726,0.12474850610742956,-0.47124893548948465,-0.9417732314870487,-0.2562875312741471,-0.5653537946889976,-0.4085123626898098,-0.22030264429078403,-0.6594586538885104,-0.03209292589175851,-0.6013386816723608,-0.6594586538885104,-1.3228092688686257,-0.06346121229159613,-0.9777581184704119,-1.3228092688686257,0.5592879151216306,-0.7849317994878608,-0.7895484000713862,-0.8163000858876982,-0.35039239047365994,-1.4482824144679758,1.8546048719710522,-1.0358780906865614,-0.8522849728710615,-1.2600726960689501,-0.9150215456707367,-0.12619778509127128,-0.3457757898901345,-0.7895484000713862,-0.3190241040738224,-0.16218267207463427,-1.1032312640697621,-0.6013386816723608,-0.6640752544720359,-0.820916686471224,-0.9104049450872109,-0.2249192448743095,-0.03670952647528373,-1.2287044096691129,-0.6640752544720359,-0.5967220810888351,-0.6954435408718735,-0.8163000858876982,-0.4131289632733351,-0.7268118272717109,-0.3144075034902968,4.2974666396053385,-0.7535635130880234,-0.7535635130880234,-1.1973361232692752,-1.1659678368694375,-1.0718629776699249,-0.005341240075446471,-0.38176067687349735,-0.22030264429078403,-1.2287044096691129,-0.4131289632733351,-1.1659678368694375,-0.005341240075446471,-0.47124893548948465,-1.4796507008678135,-0.4085123626898098,-0.7221952266881858,-0.0007246394919209842,-1.3541775552684634,-0.9777581184704119,-0.7581801136715487,0.25022165170677985,-0.3144075034902968,-0.820916686471224,0.6580093749046685,-0.35039239047365994,-0.2516709306906215,-0.820916686471224,-0.7581801136715487,0.43843137010580546,-0.8790366586873734,-0.4085123626898098,-0.8522849728710615,-1.1973361232692752,-0.5026172218893225,-0.5967220810888351,-0.2876558176739847,-0.883653259270899,-0.5339855082891602,-0.7535635130880234,-0.9104049450872109,-0.5699703952725229,-0.6594586538885104,-0.9777581184704119,-0.883653259270899,0.030643646907916735,-0.9777581184704119,-0.2876558176739847,-0.690826940288348,-0.8522849728710615,-0.8163000858876982,-0.5967220810888351,0.12013190552390374,-1.1973361232692752,-0.3457757898901345,-1.1973361232692752,-0.4758655360730102,0.18286847832357914,4.888847480618729,-1.0718629776699249,-1.0404946912700872,1.8499882713875275,-1.1659678368694375,-0.7221952266881858,-1.537770673083963,-1.0091264048702495,-0.16218267207463427,-1.1613512362859117,0.6580093749046685,-1.3855458416683006,-0.16218267207463427,-1.2287044096691129,-0.7221952266881858,-0.7268118272717109,-0.15756607149110888,-0.6954435408718735,-0.5339855082891602,0.21423676472341688,-0.5699703952725229,-0.9417732314870487,-0.6013386816723608,0.21883737859597202,0.18286847832357914,-1.0718629776699249,-0.8476683722875359,-0.883653259270899,-1.067246377086399,-0.7581801136715487,-0.8522849728710615,-0.5699703952725229,1.8499882713875275,1.7245151257881766,-0.9731415178868862,-1.3855458416683006,-0.8163000858876982,-0.6013386816723608,-0.3144075034902968,-1.3228092688686257,-1.1345995504696,-1.1345995504696,2.1996560223692665,-0.47124893548948465,-1.3228092688686257,-0.4758655360730102,-1.0358780906865614,-1.0718629776699249,-0.1935509584744719,-0.47124893548948465,-0.820916686471224,-0.2516709306906215,1.509553721572839,-0.5653537946889976,-1.1613512362859117,-0.5699703952725229,-0.43988064908964714,3.979167175023438,-0.43988064908964714,-1.1973361232692752,-0.5072338224728479,-0.8476683722875359,-0.3457757898901345,-0.6327069680721983,-1.1659678368694375,-1.2914409824687876,-0.9463898320705743,-0.883653259270899,-1.3855458416683006,0.05739533272422877,-0.6327069680721983,-1.0091264048702495,-0.09944609927495907,0.31295822450645494,0.40706308370596783,-0.5386021088726854,-0.5653537946889976,-1.663243818683313,0.5639045157051557,-1.1973361232692752,-0.3144075034902968,0.3756947973061302,-0.6327069680721983,-0.8790366586873734,-0.9150215456707367,-0.06807781287512144,0.12474850610742956,-0.4758655360730102,-0.09482949869143366,0.5279196287217928,2.100934562586228,-1.1659678368694375,-0.5699703952725229,-1.0404946912700872,-0.4444972496731726,-0.6954435408718735,-0.8790366586873734,-1.0045098042867238,-0.5026172218893225,-0.6594586538885104,0.15611679250726707,-0.690826940288348,-0.13081438567479658,-0.1935509584744719,-0.5699703952725229,-0.47124893548948465,0.15150019192374148,4.418323184621165,2.1682877359694284,2.074182876769916,0.02602704632439115,-0.28303921709045926,-0.6954435408718735,-0.43988064908964714,-0.9150215456707367,-0.4085123626898098,-0.7535635130880234,-0.6327069680721983,-0.37714407628997215,-0.8476683722875359,-0.2516709306906215,-1.3181926682850997,-0.5653537946889976,-0.7581801136715487,-0.6327069680721983,-0.6327069680721983,0.18748507890710464,-0.03209292589175851,-0.12619778509127128,0.18748507890710464,-0.5072338224728479,-1.0045098042867238,-0.18893435789094642,-1.6318755322834757,2.5447071727674797,-0.7268118272717109,4.8934640812022545,1.912724844187202,0.6579933881936986,1.8813565577873648,-0.690826940288348,4.512428043820678,1.3840805759734887,1.2899757167739758,-0.9104049450872109,2.383249140184766,1.1912542569909377,1.666395153572027,1.9754614169868774,0.40704709699499764,1.3213440031738133,0.846203106592724,-0.9463898320705743,-0.1935509584744719,1.8546048719710522,3.8269423436077745,0.940307965792237,1.6350268671721895,-0.9463898320705743,0.02602704632439115,0.0887636191240663,0.05739533272422877,-0.6013386816723608,0.3756947973061302,-0.9417732314870487,-0.5967220810888351,-0.6594586538885104,0.505768556778036,0.5011679429054807,-0.28303921709045926,-1.2287044096691129,0.12013190552390374,-1.6318755322834757,-0.9777581184704119,0.0887636191240663,4.4856763580043655,-0.37714407628997215,1.3840805759734887,1.1958708575744632,1.2899757167739758,-1.1032312640697621,-0.8476683722875359,0.06201193330775429,0.8148348201928864,-1.1659678368694375,-0.8790366586873734,-0.6954435408718735,-0.5699703952725229,-0.5339855082891602,0.12013190552390374,-0.4444972496731726,-0.28303921709045926,-0.2562875312741471,-0.5072338224728479,4.826110907819054,3.790957456624413,0.05739533272422877,0.469783669794673,-0.7581801136715487,-0.690826940288348,-0.690826940288348,-0.6954435408718735,-1.1032312640697621,-0.8476683722875359,-0.7581801136715487,-0.7535635130880234,1.7291317263717016,-0.43988064908964714,0.940307965792237,1.0076611391754373,0.8821879935760868,-1.0091264048702495,-0.7221952266881858,-1.0718629776699249,1.791868299171377,-0.6954435408718735,1.5363054073891511,-1.2914409824687876,-1.1032312640697621,-0.5653537946889976,-0.9731415178868862,0.3756947973061302,1.6977634399718649,1.7291317263717016,0.5011519561945106,1.666395153572027,2.908044823556404,1.253990829790613,1.4422005481896383,1.509553721572839,1.8186199849876894,1.1645025711746257,1.0657811113915874,1.791868299171377,1.4781854351730015,-1.1345995504696,1.1017659983749502,2.105551163169754,4.481059757420839,0.15150019192374148,1.8546048719710522,-0.7535635130880234,-0.6640752544720359,-0.7895484000713862,-0.6640752544720359,-0.9731415178868862,-0.15756607149110888,-0.7895484000713862,-1.0404946912700872,-0.6954435408718735,-0.22030264429078403,-0.9104049450872109,0.31295822450645494,-0.6280903674886729,-0.6594586538885104,-1.1659678368694375,-0.5653537946889976,-0.9463898320705743,-0.5699703952725229,0.31295822450645494,-1.1345995504696,-0.7221952266881858,1.4154488623733263,-0.820916686471224,-0.5967220810888351,-0.13081438567479658,-0.4131289632733351,-0.6013386816723608,1.1958708575744632,4.2974666396053385,1.8546048719710522,-0.5967220810888351,1.9487097311705652,-0.883653259270899,1.2226225433907751,-1.1032312640697621,-0.9104049450872109,-0.0007246394919209842,-0.2249192448743095,-0.7849317994878608,2.450602313567967,-0.2516709306906215,-0.6640752544720359,-0.28303921709045926,-0.7268118272717109,-1.2287044096691129,-0.4758655360730102,-0.5026172218893225,-0.5967220810888351,2.970781396356079,-1.1345995504696,-1.0404946912700872,-1.2600726960689501,-0.6280903674886729,-0.6594586538885104,0.21885336530694222,-0.0007246394919209842,-0.7895484000713862,-1.475034100284288,0.31295822450645494,-1.0718629776699249,-0.1935509584744719,-0.6280903674886729,-0.6327069680721983,-0.8522849728710615,-0.5386021088726854,-0.35039239047365994,-0.5699703952725229,-1.3228092688686257,-0.4131289632733351,-1.0718629776699249,0.944924566375762,3.8269423436077745,-0.35039239047365994,-0.37714407628997215,-1.0404946912700872,-0.3144075034902968,0.5011679429054807,-0.0007246394919209842,0.0887636191240663,-1.1299829498860743,-0.43988064908964714,-0.4085123626898098,-1.0718629776699249,-0.7849317994878608,-1.4122975274846126,-1.0404946912700872,-0.37714407628997215,-0.4085123626898098,-0.7535635130880234,-0.4085123626898098,-0.4131289632733351,0.944924566375762,1.6304102665886633,-1.5110189872676512,-0.5386021088726854,-1.9501749968653772,1.003044538591912,2.293760881568779,2.0114463039702404,1.4781854351730015,4.9515840534184035,-0.38176067687349735,0.5638885289941856,4.673886076403391,-1.5423872736674884,-0.8476683722875359,0.09338021970759197,0.18748507890710464,4.54841293080404,-0.1935509584744719,-0.6594586538885104,-0.9463898320705743,-0.37714407628997215,-0.9150215456707367,0.09338021970759197,0.09338021970759197,0.7161293471208183,-1.6051238464671636,-0.9104049450872109,-1.5423872736674884,0.8102342063203313,-0.28303921709045926,-0.8522849728710615,-0.5339855082891602,-0.2249192448743095,-0.09944609927495907,-0.7535635130880234,0.3443265109062925,-0.06346121229159613,-0.9777581184704119,-1.1299829498860743,-0.4085123626898098,-0.6640752544720359,-0.7535635130880234,-0.9104049450872109,-0.5653537946889976,0.12474850610742956,-1.1973361232692752,-0.5386021088726854,-0.4085123626898098,0.2502056649958096,-0.4085123626898098,-0.9777581184704119,2.325129167968617,1.509553721572839,-0.9463898320705743,-0.5386021088726854,-0.5072338224728479,1.4154488623733263,-0.7581801136715487,-0.7535635130880234,-0.5072338224728479,-0.9150215456707367,-0.7849317994878608,-0.9777581184704119,-0.9104049450872109,0.31295822450645494,-0.09944609927495907,-0.820916686471224,-0.6013386816723608,-0.4131289632733351,-0.7268118272717109,-0.6013386816723608,-0.7849317994878608,-1.2287044096691129,-0.690826940288348,-0.9731415178868862,-1.5110189872676512,-0.09944609927495907,-0.9150215456707367,-0.883653259270899,-0.47124893548948465,-1.0404946912700872,0.030643646907916735,-0.4131289632733351,-0.38176067687349735,-0.7221952266881858,-0.06346121229159613,-0.09482949869143366,0.09338021970759197,-0.5339855082891602,-0.4085123626898098,-0.883653259270899,0.05739533272422877,-0.37714407628997215,-1.1973361232692752,-1.1659678368694375,-1.1299829498860743,1.6036585807723516,0.40706308370596783,-0.6013386816723608,-1.0718629776699249,0.25022165170677985,-0.4085123626898098,-0.5026172218893225,-0.5026172218893225,-0.2249192448743095,-1.0404946912700872,-1.0091264048702495,-0.883653259270899,-1.0404946912700872,-0.6280903674886729,-0.9777581184704119,0.21883737859597202,-0.9777581184704119,-0.6013386816723608,1.4154488623733263,-1.5110189872676512,-0.8163000858876982,-1.2600726960689501,-0.47124893548948465,0.6220244879213058,0.5592879151216306,-0.2876558176739847,-0.6013386816723608,0.532520242594348,0.8194514207764115,-0.6594586538885104,-1.1659678368694375,0.21885336530694222,1.7245151257881766,-0.22030264429078403,4.041903747823113,-0.7221952266881858,-1.2914409824687876,1.2853591161904505,-1.1032312640697621,1.2226225433907751,0.0887636191240663,-0.883653259270899,-0.7849317994878608,0.7207299609933738,-1.1973361232692752,-0.9731415178868862,-0.16218267207463427,2.074182876769916,-1.537770673083963,-0.9150215456707367,-0.7221952266881858,-0.0007246394919209842,-1.6051238464671636,-0.4131289632733351,1.4781854351730015,1.8859731583708899,-0.6280903674886729,0.21885336530694222,-0.5967220810888351,-0.5386021088726854,-0.5386021088726854,1.9800780175704027,-0.7895484000713862,-1.0404946912700872,-0.6327069680721983,-1.6051238464671636,1.8546048719710522,1.2586074303741381,-1.0404946912700872,-0.9463898320705743,-1.730596992066514,-0.09944609927495907,-0.15756607149110888,0.12474850610742956,-0.7895484000713862,1.1598859705911002,-0.5339855082891602,-0.9463898320705743,-0.16218267207463427,0.6579933881936986,-0.5386021088726854,-0.9777581184704119,-0.9463898320705743,-1.1032312640697621,-0.9777581184704119,-0.2516709306906215,4.4856763580043655,-0.8163000858876982,0.09338021970759197,-1.8560701376658646,0.8416024927201691,-1.0718629776699249,-0.5653537946889976,-0.06807781287512144,-1.0404946912700872,0.15150019192374148,-0.5967220810888351,1.3840805759734887,-0.5653537946889976,-0.18893435789094642,1.787251698587852,1.4735688345894762,4.575164616620352,0.6312417023773863,1.666395153572027,1.6350268671721895,0.9762928527755999,1.0703977119751127,4.360203212405014,0.7567148479767364,0.9089396793923992,2.074182876769916,1.4154488623733263,1.1017659983749502,1.6617785529885014,0.8148348201928864,0.3756947973061302,4.95620065400193,0.9716762521920745,1.3840805759734887,-0.6640752544720359,-0.3144075034902968,-0.43988064908964714,0.06201193330775429,-0.8522849728710615,-0.2516709306906215,-0.22030264429078403,-0.9150215456707367,-0.005341240075446471,0.15611679250726707,-0.7268118272717109,-1.9501749968653772,-1.8560701376658646,-1.1032312640697621,-0.820916686471224,-1.4122975274846126,-0.820916686471224,-1.1345995504696,-1.0404946912700872,1.1645025711746257,-0.2562875312741471,-0.06346121229159613,1.2586074303741381,1.7605000127715398,0.5371368431778732,1.4735688345894762,4.2974666396053385,1.2899757167739758,1.3480956889901257,4.606532903020189,0.9135562799759245,1.5409220079726764,1.5676736937889886,1.4422005481896383,2.4819705999678043,2.1682877359694284,1.4154488623733263,1.0344128249917495,1.6036585807723516,2.0428145903700785,0.8821879935760868,3.1054717564115104,-1.4169141280681383,-1.4169141280681383,-0.5386021088726854,-0.7895484000713862,0.09338021970759197,-0.7268118272717109,-1.2600726960689501,-1.1973361232692752,-1.1973361232692752,-1.5691389594838006,1.7245151257881766,1.5676736937889886,1.8859731583708899,1.3480956889901257,1.3840805759734887,1.6036585807723516,1.3213440031738133,1.3480956889901257,1.5409220079726764,1.823236585571215,1.1017659983749502,2.1636711353859033,1.2226225433907751,4.982952339818241,-1.1345995504696,-0.4085123626898098,-0.8163000858876982,-0.7268118272717109,-0.43988064908964714,-1.4436658138844503,-0.4758655360730102,0.2502056649958096,-0.12619778509127128,-0.6013386816723608,0.02602704632439115,0.5325362293053183,-0.7581801136715487,-0.6280903674886729,0.783482520504019,-0.7268118272717109,-0.5967220810888351,0.24560505112325426,0.3756947973061302,-0.6013386816723608,-0.3457757898901345,-1.475034100284288,-0.2876558176739847,-0.3190241040738224,-0.09944609927495907,-0.6640752544720359,0.12474850610742956,0.2815899381066173,-0.6594586538885104,-1.2287044096691129,-0.3190241040738224,-0.7895484000713862,-0.2249192448743095,0.02602704632439115,-0.28303921709045926,0.09338021970759197,-0.28303921709045926,-0.09944609927495907,-0.7849317994878608,-1.5423872736674884,-1.4482824144679758,0.43843137010580546,-0.47124893548948465,-0.37714407628997215,-0.9777581184704119,-0.12619778509127128,-0.4444972496731726,-0.3190241040738224,-0.2562875312741471,-0.6013386816723608,0.18748507890710464,-0.4131289632733351,-0.9150215456707367,-1.0404946912700872,0.43843137010580546,-1.1345995504696,-0.6327069680721983,-0.6954435408718735,-0.38176067687349735,-0.5386021088726854,-0.7849317994878608,-1.8874384240657023,0.40706308370596783,-1.1659678368694375,-0.4444972496731726,-0.9731415178868862,-0.7895484000713862,0.18748507890710464,-1.0404946912700872,-0.3457757898901345,0.5952728021049934,-0.03670952647528373,-0.7268118272717109,-1.573755560067326,-0.7849317994878608,-0.9463898320705743,-1.1973361232692752,0.0887636191240663,-0.5386021088726854,0.3756947973061302,-1.3541775552684634,-0.5339855082891602,-0.13081438567479658,-0.7221952266881858,-0.6013386816723608,-0.690826940288348,-1.1973361232692752,0.31295822450645494,-0.28303921709045926,-0.4758655360730102,-0.47124893548948465,-0.16218267207463427,0.18286847832357914,-0.690826940288348,-0.7268118272717109,-0.8790366586873734,0.7161293471208183,0.030643646907916735,-0.8163000858876982,-1.1973361232692752,-0.4085123626898098,0.21885336530694222,-0.9150215456707367,-0.6013386816723608,-0.6013386816723608,-0.06807781287512144,-0.06807781287512144,-1.1973361232692752,-0.12619778509127128,-1.1345995504696,-0.7849317994878608,-0.6013386816723608,-1.3809292410847749,-0.6280903674886729,-0.2876558176739847,1.4781854351730015,-0.2516709306906215,1.3840805759734887,-0.820916686471224,-0.9463898320705743,-0.005341240075446471,-0.3190241040738224,-0.7895484000713862,-0.9731415178868862,-0.7268118272717109,-0.7581801136715487,-0.6280903674886729,-0.6640752544720359,-0.7895484000713862,-1.6318755322834757,-1.9188067104655395,-0.4131289632733351,-0.28303921709045926,-0.4444972496731726,-0.4131289632733351,-0.43988064908964714,-0.9731415178868862,-0.4085123626898098,0.5011679429054807,-0.4131289632733351,-1.2287044096691129,-0.883653259270899,-0.820916686471224,-0.7268118272717109,-0.35039239047365994,-0.6327069680721983,-0.9777581184704119,-0.820916686471224,-0.9104049450872109,-0.7268118272717109,-0.6327069680721983,-0.37714407628997215,-0.6327069680721983,-1.2287044096691129,-0.883653259270899,0.4697996565056431,-1.4796507008678135,0.4697996565056431,-0.5699703952725229,-1.0358780906865614,-0.9150215456707367,-0.5967220810888351,-0.38176067687349735,-0.7895484000713862,-1.2287044096691129,-0.5339855082891602,-0.13081438567479658,-1.1345995504696,-0.9463898320705743,-1.1345995504696,-0.4444972496731726,-0.7268118272717109,0.24560505112325426,-0.47124893548948465,-1.2600726960689501,-0.5699703952725229,0.7207459477043437,-0.7849317994878608,-0.9150215456707367,-0.8476683722875359,-1.1973361232692752,0.43843137010580546,-0.7895484000713862,-0.8522849728710615,-0.7221952266881858,-0.7268118272717109,-0.3190241040738224,-0.7268118272717109,-1.4436658138844503,1.003044538591912,-0.2249192448743095,-0.1935509584744719,-0.9463898320705743,-0.4085123626898098,-0.005341240075446471,3.979167175023438,-0.9463898320705743,-0.5386021088726854,4.517044644404203,-1.2287044096691129,-0.5339855082891602,-1.3855458416683006,0.09338021970759197,-1.2600726960689501,-1.1032312640697621,-1.0404946912700872,-0.22030264429078403,0.49655134232195514,-0.13081438567479658,-0.9150215456707367,-0.47124893548948465,-0.8476683722875359,-1.600507245883638,-0.4085123626898098,0.0887636191240663,0.02602704632439115,-0.47124893548948465,-0.13081438567479658,-0.47124893548948465,-0.8522849728710615,-1.1659678368694375,-1.2914409824687876,-1.0404946912700872,-0.6280903674886729,-0.47124893548948465,-0.8163000858876982,-0.2516709306906215,1.7291317263717016,0.25022165170677985,-0.9777581184704119,-0.6013386816723608,-1.0404946912700872,-0.7581801136715487,0.18286847832357914,-1.0404946912700872,0.7520982473932112,-0.6280903674886729,-1.0091264048702495,-1.5064023866841252,-0.6594586538885104,-0.5339855082891602,-0.6640752544720359,-1.2600726960689501,0.12474850610742956,-1.2600726960689501,-1.0718629776699249,-0.5026172218893225,-1.0404946912700872,-1.0718629776699249,-1.573755560067326,-0.43988064908964714,-0.8790366586873734,-0.6327069680721983,-0.2249192448743095,-0.35039239047365994,-0.6280903674886729,-0.6280903674886729,-0.5967220810888351,-0.4085123626898098,-0.7895484000713862,-1.0718629776699249,-0.5339855082891602,-0.7895484000713862,-1.3541775552684634,-1.2600726960689501,-0.9150215456707367,-1.1345995504696,-1.1032312640697621,-0.9463898320705743,-0.5967220810888351,-0.7581801136715487,-0.2516709306906215,-0.820916686471224,-0.03209292589175851,-1.1299829498860743,4.324218325421652,-0.47124893548948465,-0.3144075034902968,-0.5699703952725229,-0.7895484000713862,-1.0091264048702495,-0.883653259270899,-0.5653537946889976,-1.2287044096691129,-1.1032312640697621,-0.9150215456707367,-1.0091264048702495,1.5990419801888267,-0.9417732314870487,-0.3457757898901345,-0.0007246394919209842,0.12474850610742956,-0.28303921709045926,-0.4758655360730102,-0.12619778509127128,-0.6594586538885104,0.21423676472341688,-0.6327069680721983,-1.0718629776699249,-0.6013386816723608,0.4338147695222801,-0.9150215456707367,-0.5653537946889976,-0.2562875312741471,-0.47124893548948465,4.857479194218891,0.532520242594348,4.2974666396053385,0.06201193330775429,-0.22030264429078403,-0.6280903674886729,-1.0358780906865614,-0.7535635130880234,-1.3541775552684634,-1.0045098042867238,-0.9150215456707367,-0.690826940288348,-0.09482949869143366,-1.1659678368694375,-0.16218267207463427,-0.16218267207463427,-0.5699703952725229,-1.5064023866841252,-0.5026172218893225,-1.3855458416683006,-0.8163000858876982,-0.12619778509127128,-0.6013386816723608,3.732837484408263,-0.9463898320705743,-0.6327069680721983,0.09338021970759197,-1.1973361232692752,-0.6954435408718735,-0.9777581184704119,0.3756947973061302,-1.6318755322834757,-0.5653537946889976,-0.22030264429078403,-0.9777581184704119,1.4154488623733263,2.0068297033867153,-0.18893435789094642,-1.0091264048702495,0.15610080579629682,-0.5967220810888351,-0.8522849728710615,-0.9777581184704119,0.7834665337930488,0.8821879935760868,1.0657811113915874,0.9135562799759245,0.9135562799759245,4.198745179822302,1.5409220079726764,4.543796330220514,1.097149397791425,1.2899757167739758,1.1958708575744632,4.611149503603716,1.2272391439743007,4.799359222002741,3.979167175023438,0.2769733375230917,0.7253465615768991,1.8499882713875275,1.2899757167739758,1.8499882713875275,1.1331342847747878,0.8508197071762493,2.908044823556404,1.2586074303741381,4.422939785204689,3.6968525974249,1.3213440031738133,0.8775713929925617,1.7245151257881766,1.8186199849876894,1.3794639753899631,-0.35039239047365994,1.4468171487731636,0.6626099887772239,2.136919449569591,3.540011165425712,3.9164306022237634,4.418323184621165,4.136008607022627,-0.0007246394919209842,0.25482226557933524,1.253990829790613,1.039029425575275,-0.8522849728710615,4.642517790003554,1.6350268671721895,1.4422005481896383,-1.1299829498860743,-0.5026172218893225,-0.6280903674886729,-1.6992287056666766,-0.6594586538885104,-0.6594586538885104,-0.7895484000713862,-1.8560701376658646,-1.1973361232692752,-0.8790366586873734,-1.5110189872676512,-0.28303921709045926,-0.2516709306906215,0.3443265109062925,-1.1659678368694375,0.5639045157051557,-1.1973361232692752,-0.12619778509127128,-1.3228092688686257,-0.2516709306906215,-0.2516709306906215,-0.7581801136715487,0.4697996565056431,-0.7221952266881858,-0.15756607149110888,-1.4169141280681383,-0.09482949869143366,-1.8560701376658646,-0.12619778509127128,0.6580093749046685,-0.5072338224728479,-0.3457757898901345,-0.09944609927495907,-0.06346121229159613,-0.6594586538885104,-1.2600726960689501,0.21423676472341688,-1.730596992066514,-0.3190241040738224,-0.4444972496731726,-1.1659678368694375,0.2815899381066173,0.18286847832357914,-1.5423872736674884,-0.3457757898901345,-0.28303921709045926,-1.3181926682850997,-0.7268118272717109,-1.0091264048702495,-0.883653259270899,-0.9731415178868862,-1.600507245883638,0.030643646907916735,-0.15756607149110888,0.18286847832357914,-0.37714407628997215,-0.38176067687349735,-0.06346121229159613,-0.15756607149110888,1.1598859705911002,-0.690826940288348,-0.690826940288348,0.5952728021049934,-1.1659678368694375,1.2899757167739758,1.1331342847747878,-1.5064023866841252,1.3794639753899631,0.5638885289941856,-1.067246377086399,-0.2516709306906215,-0.15756607149110888,-0.6640752544720359,0.12474850610742956,-0.4131289632733351,-0.38176067687349735,-0.22030264429078403,-0.3457757898901345,-0.09482949869143366,-1.2600726960689501,0.24560505112325426,-0.005341240075446471,-0.7581801136715487,0.31295822450645494,1.2853591161904505,-0.3457757898901345,-0.5339855082891602,-0.7221952266881858,-0.2249192448743095,-0.22030264429078403,-0.8522849728710615,-0.2516709306906215,-0.6280903674886729,-0.2562875312741471,-0.2562875312741471,-0.6327069680721983,-0.13081438567479658,-0.7849317994878608,-0.5072338224728479,-0.3457757898901345,-0.820916686471224,-0.883653259270899,-0.12619778509127128,0.9089396793923992,-1.3228092688686257,-0.8522849728710615,-0.8522849728710615,0.06201193330775429,-0.4758655360730102,0.18748507890710464,-0.47124893548948465,-0.18893435789094642,-0.820916686471224,-0.9777581184704119,0.33970991032276715,-1.1345995504696,-1.1973361232692752,-1.1345995504696,-0.5386021088726854,-0.5072338224728479,-0.3457757898901345,-1.0718629776699249,0.030643646907916735,-0.6280903674886729,-0.8163000858876982,0.3710781967226046,-1.1613512362859117,-0.6954435408718735,-0.690826940288348,-0.8163000858876982,-0.6280903674886729,0.9403239525032069,-0.7895484000713862,-0.2876558176739847,0.18748507890710464,-1.3541775552684634,-1.1927195226857494,0.030643646907916735,-1.1973361232692752,-1.2914409824687876,-1.3855458416683006,-0.16218267207463427,-0.43988064908964714,-0.4444972496731726,-0.6954435408718735,0.6580093749046685,-0.6954435408718735,-0.7895484000713862,-1.3228092688686257,0.030643646907916735,-1.600507245883638,-1.2868243818852623,-0.690826940288348,-0.2516709306906215,-0.6327069680721983,-0.7581801136715487,-0.4758655360730102,-0.22030264429078403,-1.1659678368694375,0.3443265109062925,-0.6013386816723608,0.3710781967226046,-0.06346121229159613,-1.1032312640697621,-0.883653259270899,-0.18893435789094642,-0.47124893548948465,-0.6594586538885104,0.7474976335206565,-1.067246377086399,-1.0091264048702495,-0.37714407628997215,-0.3144075034902968,-0.7895484000713862,-1.1973361232692752,-1.6364921328670012,-0.16218267207463427,0.783482520504019,1.4735688345894762,0.3443265109062925,0.8508197071762493,-1.0404946912700872,1.3794639753899631,0.846203106592724,2.1636711353859033,-1.1973361232692752,-1.3228092688686257,-1.1032312640697621,0.2815899381066173,5.13979377181743,-0.032108912602728766,-0.43988064908964714,-0.4444972496731726,-0.3190241040738224,1.7245151257881766,1.253990829790613,-1.5110189872676512,0.09798083358014703,0.030643646907916735,-1.0986146634862366,0.6266251017938609,-1.1345995504696,-1.1973361232692752,1.2586074303741381,-1.0404946912700872,-0.12619778509127128,0.12013190552390374,-0.09482949869143366,1.5049371209893136,1.5676736937889886,0.6939782751770615,0.8194514207764115,0.9716762521920745,4.077888634806476,1.3213440031738133,4.203361780405826,4.794742621419216,0.6626099887772239,-0.2876558176739847,4.266098353205501,-0.4085123626898098,2.1996560223692665,1.7605000127715398,1.5409220079726764,1.6036585807723516,-0.0007246394919209842,4.140625207606151,1.253990829790613,0.9135562799759245,1.1958708575744632,0.6312417023773863,1.7605000127715398,1.0076611391754373,1.5409220079726764,2.0114463039702404,1.4781854351730015,0.6893616745935359,1.1645025711746257,4.637901189420028,1.5990419801888267,0.6312417023773863,-0.35039239047365994,1.823236585571215,2.4192340271681294,3.0381345697392805,2.0068297033867153,2.293760881568779,-0.43988064908964714,-0.820916686471224,5.33262009079998,-0.09482949869143366,0.25022165170677985,-0.5699703952725229,-0.5026172218893225,-1.0358780906865614,-1.3228092688686257,-0.06807781287512144,-0.5653537946889976,-1.1032312640697621,0.8148508069038566,-0.9150215456707367,-0.9104049450872109,-0.1935509584744719,-0.9463898320705743,-0.03209292589175851,0.2815899381066173,-0.06346121229159613,0.05739533272422877,-1.573755560067326,0.030643646907916735,0.18286847832357914,-0.2249192448743095,-0.7849317994878608,-0.6280903674886729,-0.37714407628997215,-0.9777581184704119,-1.1345995504696,-0.3144075034902968,-0.22030264429078403,-0.5339855082891602,0.5325362293053183,-0.1935509584744719,-1.1973361232692752,-0.6640752544720359,-0.7849317994878608,-0.09482949869143366,-1.067246377086399,0.09338021970759197,-0.22030264429078403,-0.1935509584744719,-0.4758655360730102,0.46518305592211756,-0.3457757898901345,-0.9104049450872109,-0.12619778509127128,-0.37714407628997215,-0.3144075034902968,-0.22030264429078403,-0.5072338224728479,-0.690826940288348,-0.6327069680721983,-0.9150215456707367,-0.883653259270899,-0.3190241040738224,-1.1345995504696,-1.6364921328670012,-0.8790366586873734,-0.9104049450872109,-0.2516709306906215,-0.15756607149110888,-0.12619778509127128,-1.0091264048702495,-1.2287044096691129,-0.9150215456707367,0.15611679250726707,-0.38176067687349735,-0.1935509584744719,-0.7221952266881858,-0.7535635130880234,-0.3144075034902968,-0.9417732314870487,-0.43988064908964714,-1.1973361232692752,-0.820916686471224,0.5639045157051557,0.5325362293053183,-1.1659678368694375,-0.9417732314870487,-0.9463898320705743,-1.7619652784663518,0.24560505112325426,0.3443265109062925,-0.2249192448743095,-0.38176067687349735,0.15611679250726707,-0.35039239047365994,-0.4758655360730102,-0.9150215456707367,-0.8790366586873734,-0.7268118272717109,-0.0007246394919209842,0.5952728021049934,-0.5967220810888351,-0.6327069680721983,0.09338021970759197,-0.6954435408718735,-0.2562875312741471,-1.5691389594838006,-0.43988064908964714,0.3756788105951602,-0.7581801136715487,-0.2249192448743095,-0.43988064908964714,-0.7221952266881858,0.18748507890710464,-1.573755560067326,-0.7268118272717109,0.3083416239229296,-0.12619778509127128,-1.6992287056666766,0.12474850610742956,-0.43988064908964714,0.2815899381066173,0.15611679250726707,0.12474850610742956,-0.5653537946889976,-0.3144075034902968,-0.3144075034902968,-0.8476683722875359,-0.4131289632733351,0.49655134232195514,-0.6594586538885104,-0.6013386816723608,-0.8476683722875359,-0.7895484000713862,-0.2876558176739847,-0.6594586538885104,-1.600507245883638,-0.9150215456707367,-0.47124893548948465,-0.18893435789094642,0.2815899381066173,-0.6327069680721983,-0.6327069680721983,0.2815899381066173,0.3710781967226046,-0.883653259270899,0.21885336530694222,-0.15756607149110888,-0.4444972496731726,-0.2249192448743095,-1.0404946912700872,-0.06807781287512144,-1.0404946912700872,0.3756947973061302,2.074182876769916,1.823236585571215,1.509553721572839,-0.2876558176739847,1.4154488623733263,-0.7581801136715487,1.7291317263717016,-1.5423872736674884,-1.2600726960689501,-1.1032312640697621,1.3794639753899631,-1.1659678368694375,0.8775873797035318,0.40706308370596783,-0.43988064908964714,-1.1659678368694375,-0.3190241040738224,-0.6327069680721983,0.6893776613045062,-0.2562875312741471,-0.38176067687349735,-0.6594586538885104,-0.35039239047365994,-0.9150215456707367,3.6073643388089116,-1.0718629776699249,-0.8163000858876982,-0.8790366586873734,-0.9417732314870487,1.8859731583708899,-0.6954435408718735,-0.883653259270899,-0.37714407628997215,-0.3190241040738224,-1.0045098042867238,1.1017659983749502,0.590656201521468,-1.2914409824687876,-1.2600726960689501,-0.38176067687349735,-0.09944609927495907,-1.0091264048702495,-1.2600726960689501,-0.4085123626898098,-0.2876558176739847,0.02602704632439115,-1.2600726960689501,-0.3457757898901345,-0.5653537946889976,-0.5026172218893225,-0.9777581184704119,-0.37714407628997215,-1.4796507008678135,0.6580093749046685,-0.2249192448743095,-0.005341240075446471,-1.2287044096691129,-1.1345995504696,-0.03670952647528373,2.2577759945854154,-1.6051238464671636,-0.9104049450872109,-0.3457757898901345,1.0657811113915874,-0.6640752544720359,-1.3809292410847749,0.3756947973061302,-0.15756607149110888,-1.0045098042867238,-1.0358780906865614,-1.3228092688686257,-1.0986146634862366,-0.5072338224728479,-0.4444972496731726,-0.4131289632733351,1.253990829790613,-1.067246377086399,-0.5339855082891602,-0.690826940288348,-0.7581801136715487,-0.9463898320705743,-0.38176067687349735,-0.3457757898901345,-0.35039239047365994,-0.38176067687349735,-0.2876558176739847,0.02602704632439115,-0.0007246394919209842,4.140625207606151,4.736622649203066,0.06201193330775429,1.0657811113915874,0.06201193330775429,-1.2600726960689501,1.253990829790613,-0.21570203041822897,0.40704709699499764,1.9487097311705652,-0.4758655360730102,-0.28303921709045926,0.12474850610742956,2.2577759945854154,3.0113668972119982,0.6893616745935359,-1.730596992066514,-0.6640752544720359,-0.6954435408718735,0.5325362293053183,0.21885336530694222,-0.8790366586873734,-1.1032312640697621,-0.5026172218893225,-0.09482949869143366,-0.9150215456707367,-0.9731415178868862,-0.6327069680721983,-0.22030264429078403,-0.47124893548948465,-0.8476683722875359,-1.1973361232692752,-0.5653537946889976,-0.883653259270899,-0.13081438567479658,-0.9463898320705743,-0.5653537946889976,-0.09482949869143366,-1.1659678368694375,-1.0718629776699249,-1.5691389594838006,-0.883653259270899,-0.7895484000713862,-0.43988064908964714,-1.1613512362859117,-1.1299829498860743,-0.6013386816723608,0.9135562799759245,-0.7581801136715487,-1.0091264048702495,-0.9731415178868862,-0.38176067687349735,-0.43988064908964714,-0.4085123626898098,-0.2516709306906215,-0.7849317994878608,-0.9104049450872109,-0.12619778509127128,-0.5072338224728479,-1.067246377086399,-0.06346121229159613,0.4697996565056431,-0.8476683722875359,-0.37714407628997215,-0.9463898320705743,4.167376893422464,-1.1973361232692752,1.8813565577873648,-0.6954435408718735,-0.820916686471224,-0.6640752544720359,-0.7535635130880234,-0.22030264429078403,1.9173414447707275,-0.6640752544720359,-0.3457757898901345,-0.690826940288348,0.9135562799759245,1.509553721572839,-0.7849317994878608,0.3443265109062925,0.09338021970759197,-0.7849317994878608,1.2226225433907751,-0.7221952266881858,-1.6051238464671636,-1.1973361232692752,0.12474850610742956,-0.8522849728710615,-0.5967220810888351,-1.1345995504696,-0.0007246394919209842,-0.03209292589175851,4.136008607022627,2.387865740768292,1.253990829790613,0.4384153833948354,-0.38176067687349735,4.203361780405826,4.862095794802417,4.987568940401767,3.8896789164074503,4.418323184621165,3.9837837756069634,4.203361780405826,1.1331342847747878,1.1331342847747878,2.607443745567155,1.4154488623733263,1.5676736937889886,0.21883737859597202,5.238515231600467,2.105551163169754,0.2502056649958096,1.5676736937889886,0.8194514207764115,-0.3190241040738224,4.54841293080404,4.481059757420839,1.1598859705911002,1.3794639753899631,4.888847480618729,4.924832367602091,-0.43988064908964714,4.449691471021001,-0.5699703952725229,-0.38176067687349735,-1.0358780906865614,-0.820916686471224,-0.35039239047365994,-0.06346121229159613,-0.13081438567479658,-0.5026172218893225,-0.13081438567479658,-0.2249192448743095,-0.820916686471224,0.18286847832357914,-0.6327069680721983,-0.35039239047365994,-0.9417732314870487,-0.2516709306906215,-0.5026172218893225,0.5952728021049934,-0.6640752544720359,-1.0091264048702495,-0.5026172218893225,-0.9150215456707367,-0.8476683722875359,-0.9777581184704119,-0.7581801136715487,-0.9150215456707367,-0.5653537946889976,-0.3457757898901345,-0.1935509584744719,0.3083416239229296,-0.5653537946889976,0.24560505112325426,-0.883653259270899,-0.3457757898901345,-0.820916686471224,-0.06346121229159613,-0.9463898320705743,-1.1345995504696,-0.690826940288348,-0.0007246394919209842,0.7207299609933738,-0.7581801136715487,-1.1927195226857494,-1.2868243818852623,-1.3855458416683006,-0.16218267207463427,-0.5967220810888351,-1.0986146634862366,-0.5026172218893225,0.15611679250726707,0.0887636191240663,-0.5386021088726854,0.40706308370596783,-0.7221952266881858,-0.883653259270899,0.21885336530694222,-1.0718629776699249,0.25022165170677985,-0.03209292589175851,-0.9417732314870487,-1.0045098042867238,-1.0091264048702495,-0.5386021088726854,-1.1973361232692752,0.46518305592211756,-1.6364921328670012,-0.16218267207463427,-0.8522849728710615,0.0887636191240663,-0.2249192448743095,-0.7895484000713862,-1.2287044096691129,-1.1973361232692752,-0.9731415178868862,-1.0045098042867238,-0.9417732314870487,-1.1973361232692752,-0.9777581184704119,-1.1659678368694375,-1.0986146634862366,-0.005341240075446471,-0.5967220810888351,-0.7581801136715487,-0.8522849728710615,0.47440027037819804,-1.0091264048702495,1.003044538591912,-1.1345995504696,-0.7581801136715487,-0.2562875312741471,-0.3190241040738224,0.3756947973061302,-0.06807781287512144,-0.6594586538885104,-0.690826940288348,-0.9417732314870487,-0.35039239047365994,-0.7221952266881858,-0.6280903674886729,0.15610080579629682,1.6036585807723516,-0.9463898320705743,-0.820916686471224,-0.03209292589175851,-0.43988064908964714,-0.3144075034902968,-1.3855458416683006,1.1599019573020701,-0.5339855082891602,-1.600507245883638,-0.7849317994878608,-0.8476683722875359,0.030643646907916735,-0.22030264429078403,-0.1935509584744719,-1.0718629776699249,-1.0091264048702495,-1.0091264048702495,5.301251804400143,4.888847480618729,0.15150019192374148,-0.6280903674886729,-0.9463898320705743,1.6931468393883389,-0.5967220810888351,-0.47124893548948465,3.03811858302831,4.292850039021815,0.5011519561945106,-0.8790366586873734,-0.9463898320705743,-0.2516709306906215,-0.7535635130880234,-0.9463898320705743,-0.5967220810888351,2.1682877359694284,-0.005341240075446471,-0.5699703952725229,-0.6327069680721983,-0.4444972496731726,1.3840805759734887,-0.5653537946889976,-0.690826940288348,-0.5026172218893225,-0.4085123626898098,-0.28303921709045926,-0.6954435408718735,-0.8476683722875359,-1.0718629776699249,-0.7849317994878608,-0.5339855082891602,-0.5339855082891602,-0.7895484000713862,1.2853591161904505,-1.1032312640697621,2.100934562586228,-0.6280903674886729,-0.7849317994878608,0.8821879935760868,-0.09944609927495907,-0.4758655360730102,0.12013190552390374,-1.1345995504696,0.4024464831224423,-0.47124893548948465,-0.15756607149110888,-0.3457757898901345,-0.4085123626898098,-1.0718629776699249,-1.2914409824687876,0.6580093749046685,-0.7581801136715487,0.06201193330775429,-0.5699703952725229,-1.0091264048702495,-1.2287044096691129,-1.0091264048702495,-0.9463898320705743,-0.690826940288348,-0.06807781287512144,-0.4085123626898098,-0.6954435408718735,-0.06346121229159613,-0.7895484000713862,-0.005341240075446471,-0.09944609927495907,-0.8163000858876982,-0.43988064908964714,-0.15756607149110888,1.3167274025902882,-0.03209292589175851,1.4422005481896383,0.16071740637982226,-0.6327069680721983,-0.9731415178868862,-0.3190241040738224,-1.4796507008678135,-1.0986146634862366,-0.9731415178868862,1.6036585807723516,-0.6327069680721983,-0.8790366586873734,-0.35039239047365994,-0.9463898320705743,-1.2868243818852623,-0.883653259270899,-0.09022888481887849,-0.9150215456707367,-1.2287044096691129,2.0428145903700785,-0.7268118272717109,-0.5699703952725229,-0.6327069680721983,-0.06807781287512144,-0.8476683722875359,1.6350268671721895,-0.4444972496731726,-0.5653537946889976,1.4781854351730015,-1.0404946912700872,-0.2876558176739847,-0.06346121229159613,0.09338021970759197,5.018937226801605,4.637901189420028,1.352712289573651,4.669269475819865,2.325129167968617,1.2226225433907751,-0.058860598419040976,3.63873262520875,2.1996560223692665,1.0703977119751127,2.074182876769916,1.6617785529885014,1.2586074303741381,1.352712289573651,0.5685051295777109,5.238515231600467,0.8821879935760868,1.6350268671721895,1.7291317263717016,-1.3809292410847749,5.050305513201442,1.4422005481896383,1.1285176841912625,2.262392595168941,-1.2287044096691129,-1.2914409824687876,-0.6327069680721983,0.25022165170677985,-0.35039239047365994,-0.7268118272717109,-0.2876558176739847,-0.2516709306906215,-0.6280903674886729,-0.690826940288348,-0.22030264429078403,-0.9417732314870487,0.030643646907916735,-0.38176067687349735,-1.1973361232692752,-1.067246377086399,-0.4444972496731726,-1.2600726960689501,-0.4444972496731726,-1.0358780906865614,-0.09482949869143366,-0.2516709306906215,0.43843137010580546,-0.8522849728710615,-1.2868243818852623,-0.8476683722875359,-0.3457757898901345,-0.7221952266881858,-1.2287044096691129,-0.8790366586873734,-1.0404946912700872,-0.35039239047365994,-0.8476683722875359,-0.7895484000713862,-0.7581801136715487,-0.7895484000713862,-1.0358780906865614,-0.7268118272717109,-0.38176067687349735,1.2586074303741381,-1.2600726960689501,-0.3144075034902968,-0.3144075034902968,-0.820916686471224,-0.6954435408718735,-1.663243818683313,-0.883653259270899,-1.2287044096691129,0.12013190552390374,-0.22030264429078403,-1.0718629776699249,-0.4444972496731726,-0.4444972496731726,-0.6640752544720359,-0.5072338224728479,-0.7268118272717109,-0.38176067687349735,-1.1032312640697621,1.5676736937889886,-0.38176067687349735,0.2815899381066173,-0.18893435789094642,-0.4444972496731726,-0.9417732314870487,-0.28303921709045926,-1.2287044096691129,-1.2287044096691129,-1.0091264048702495,0.21423676472341688,-0.7849317994878608,-1.9188067104655395,1.6036585807723516,1.6304102665886633,0.6626099887772239,1.352712289573651,-0.3144075034902968,1.0076611391754373,-0.9417732314870487,-0.43988064908964714,-1.2600726960689501,-0.6640752544720359,-0.9777581184704119,-0.09482949869143366,-1.2914409824687876,0.12474850610742956,-1.4122975274846126,-1.1659678368694375,-1.2600726960689501,-1.730596992066514,-0.2876558176739847,-0.6280903674886729,0.12474850610742956,-0.06346121229159613,-0.6640752544720359,0.25022165170677985,-0.03209292589175851,0.21423676472341688,-0.6594586538885104,-1.5110189872676512,-0.7268118272717109,-0.9731415178868862,-1.0091264048702495,3.952415489207125,-0.37714407628997215,-0.15756607149110888,-0.18893435789094642,-0.9777581184704119,-0.7221952266881858,-0.8476683722875359,-0.9777581184704119,-0.5339855082891602,-0.883653259270899,-0.8163000858876982,0.5011679429054807,-0.7581801136715487,-0.9777581184704119,-0.7535635130880234,-1.0404946912700872,-0.5026172218893225,-0.8476683722875359,-0.47124893548948465,-0.47124893548948465,1.6977634399718649,-0.8476683722875359,-1.2600726960689501,0.8148348201928864,-0.6594586538885104,-0.7849317994878608,-0.005341240075446471,-0.7581801136715487,-0.9777581184704119,-0.3144075034902968,-0.47124893548948465,-0.7895484000713862,-0.7268118272717109,-0.6280903674886729,-0.7535635130880234,-1.0091264048702495,-0.5339855082891602,-1.8560701376658646,2.2310243087691037,0.944924566375762,1.6036585807723516,-1.4482824144679758,-0.7895484000713862,-0.9417732314870487,-1.0718629776699249,-0.8163000858876982,-0.5653537946889976,0.030643646907916735,-0.9777581184704119,-1.8560701376658646,-1.2287044096691129,-0.06807781287512144,-1.6318755322834757,-0.3457757898901345,-1.3809292410847749,-0.9150215456707367,-0.6280903674886729,1.1958708575744632,1.4781854351730015,1.3480956889901257,4.386954898221327,1.8546048719710522,2.356497454368454,-1.6992287056666766,-0.9777581184704119,-0.8476683722875359,-0.9777581184704119,-0.43988064908964714,-0.12619778509127128,-0.7849317994878608,0.40706308370596783,1.6350268671721895,0.02602704632439115,-0.7581801136715487,-0.7895484000713862,-1.3228092688686257,-0.09944609927495907,0.02602704632439115,1.791868299171377,0.4697996565056431,-1.2600726960689501,1.6036585807723516,-0.9150215456707367,1.8546048719710522,-0.7535635130880234,-0.5386021088726854,-0.47124893548948465,-0.883653259270899,0.8821879935760868,-0.9417732314870487,-0.5967220810888351,1.9754614169868774,1.666395153572027,1.509553721572839,1.8499882713875275,1.5049371209893136,1.1017659983749502,3.8223257430242508,1.8186199849876894,-0.4085123626898098,4.642517790003554,4.857479194218891,-1.8560701376658646,3.5086588657368436,3.8896789164074503,1.9487097311705652,1.253990829790613,4.167376893422464,3.9164306022237634,1.0076611391754373,4.95620065400193,-0.8790366586873734,3.8896789164074503,-1.1345995504696,-0.6594586538885104,-0.7895484000713862,-0.22030264429078403,-1.2600726960689501,-0.28303921709045926,-0.09944609927495907,-0.4758655360730102,0.46518305592211756,-0.09944609927495907,-0.8522849728710615,-0.5967220810888351,-1.1345995504696,-0.0007246394919209842,-0.7221952266881858,-0.9731415178868862,-0.8790366586873734,-0.3457757898901345,-0.8163000858876982,0.09338021970759197,-0.5653537946889976,-1.1032312640697621,-0.9463898320705743,-1.067246377086399,-0.4131289632733351,-0.8163000858876982,0.09338021970759197,0.02602704632439115,-0.883653259270899,-0.22030264429078403,0.7207299609933738,1.2226225433907751,1.1958708575744632,2.293760881568779,1.787251698587852,1.1645025711746257,1.3480956889901257,-0.820916686471224,4.794742621419216,1.4422005481896383,1.3840805759734887,0.9089396793923992,-1.0358780906865614,0.7834665337930488,0.9089396793923992,1.666395153572027,0.18748507890710464,4.705254362803228,1.352712289573651,1.9173414447707275,0.846203106592724,1.8813565577873648,1.6304102665886633,1.7291317263717016,3.3785691195539687,1.509553721572839,1.3840805759734887,1.4422005481896383,1.3213440031738133,0.8508197071762493,2.293760881568779,-1.8874384240657023,-1.0986146634862366,-0.8163000858876982,-0.6594586538885104,-0.2249192448743095,-0.0007246394919209842,4.136008607022627,3.979167175023438,2.105551163169754,1.6977634399718649,4.015152062006801,-0.820916686471224,1.7605000127715398,1.7245151257881766,-0.7581801136715487,-1.663243818683313,-1.0091264048702495,0.09338021970759197,-0.03209292589175851,-1.3228092688686257,-0.8476683722875359,-0.18893435789094642,-1.0718629776699249,-0.5026172218893225,-0.9150215456707367,-0.5026172218893225,1.4154488623733263,-1.1032312640697621,-0.8476683722875359,-0.7221952266881858,-0.4444972496731726,-0.883653259270899,-0.3190241040738224,-1.1345995504696,-1.1973361232692752,-0.6594586538885104,0.31295822450645494,1.3480956889901257,1.5990419801888267,-0.2562875312741471,-0.6640752544720359,-0.6013386816723608,1.6036585807723516,0.15611679250726707,-0.883653259270899,0.7520982473932112,-0.2516709306906215,-0.2562875312741471,-0.3190241040738224,-0.9777581184704119,-0.7268118272717109,-0.5967220810888351,-0.12619778509127128,-1.0091264048702495,1.912724844187202,2.1682877359694284,-0.2516709306906215,1.5722902943725143,1.3167274025902882,1.2586074303741381,3.4191546204098864,0.5952568153940233,2.320512567385091,1.2899757167739758,4.391571498804852,4.015152062006801,-0.032108912602728766,4.8934640812022545,3.8583106300076135,-0.06346121229159613,4.422939785204689,2.1996560223692665,-0.6013386816723608,-0.3457757898901345,-0.7581801136715487,-1.3541775552684634,-0.09944609927495907,-1.1973361232692752,-1.1345995504696,-0.9104049450872109,-0.9104049450872109,-0.2249192448743095,0.02602704632439115,-1.0718629776699249,-1.2914409824687876,-0.4131289632733351,-0.5386021088726854,-1.1299829498860743,-0.8163000858876982,-0.8790366586873734,-0.12619778509127128,-1.4796507008678135,-0.5339855082891602,-1.0358780906865614,-0.883653259270899,-1.0045098042867238,-1.5064023866841252,-0.2516709306906215,0.15150019192374148,-1.1973361232692752,-1.2868243818852623,-1.5691389594838006,-1.0404946912700872,-0.5339855082891602,0.15611679250726707,-0.883653259270899,-1.1299829498860743,0.6893776613045062,-1.3228092688686257,-0.690826940288348,-0.16218267207463427,-0.6954435408718735,-0.6594586538885104,-0.6280903674886729,-0.09944609927495907,-0.2516709306906215,0.12474850610742956,-1.0091264048702495,-0.5386021088726854,0.43843137010580546,-0.6013386816723608,-0.5699703952725229,-1.0091264048702495,-1.1032312640697621,-0.7849317994878608,-0.03209292589175851,0.21885336530694222,-0.9150215456707367,0.15610080579629682,-0.9463898320705743,-1.4482824144679758,-0.5339855082891602,-0.6327069680721983,-0.13081438567479658,0.40706308370596783,-0.5072338224728479,-0.7581801136715487,-0.883653259270899,-0.9777581184704119,-0.9104049450872109,-1.1973361232692752,0.21423676472341688,-1.3541775552684634,0.2815899381066173,-0.4758655360730102,-1.667860419266839,-1.2868243818852623,-0.0007246394919209842,-0.38176067687349735,0.2815899381066173,-0.2516709306906215,0.5952728021049934,0.2815899381066173,0.31295822450645494,-0.6327069680721983,-0.8522849728710615,0.18748507890710464,0.6847610607209809,0.18748507890710464,-0.8522849728710615,0.49655134232195514,0.02602704632439115,-1.475034100284288,-0.8522849728710615,0.24560505112325426,-1.0091264048702495,-0.5386021088726854,-0.38176067687349735,-0.2249192448743095,-1.1973361232692752,-0.15756607149110888,0.0887636191240663,-0.9417732314870487,-0.16218267207463427,-1.0718629776699249,-1.1345995504696,-0.47124893548948465,-1.3541775552684634,-1.0091264048702495,-0.35039239047365994,-0.3144075034902968,-0.5699703952725229,-0.38176067687349735,-1.0091264048702495,-0.35039239047365994,-1.0358780906865614,-0.03209292589175851,-0.22030264429078403,0.25022165170677985,-0.7581801136715487,-0.5386021088726854,-0.5339855082891602,-0.13081438567479658,-0.3190241040738224,-0.2876558176739847,-0.6280903674886729,-1.5691389594838006,0.21423676472341688,-1.3228092688686257,-1.0718629776699249,-0.8476683722875359,0.5011679429054807,-0.8790366586873734,-0.5699703952725229,0.21423676472341688,-1.0404946912700872,0.6266410885048309,-0.43988064908964714,-0.5386021088726854,-0.2562875312741471,-0.6327069680721983,-0.5967220810888351,-0.4085123626898098,-0.9463898320705743,-1.0718629776699249,-0.47124893548948465,0.8775713929925617,-1.537770673083963,-0.9104049450872109,-0.3144075034902968,0.7521142341041815,-0.47124893548948465,-0.3144075034902968,-1.067246377086399,-0.4085123626898098,-0.7849317994878608,-0.9463898320705743,-1.1659678368694375,-0.12619778509127128,-0.3144075034902968,-0.5653537946889976,-0.8163000858876982,-0.9777581184704119,-0.5653537946889976,-1.3228092688686257,-0.9731415178868862,-0.8476683722875359,-0.15756607149110888,-1.2287044096691129,-0.47124893548948465,2.105551163169754,0.9716762521920745,-1.3181926682850997,-0.4758655360730102,-0.6327069680721983,0.3710781967226046,-0.4444972496731726,4.517044644404203,1.2586074303741381,-0.005341240075446471,-0.5699703952725229,-0.6954435408718735,0.3756947973061302,-0.38176067687349735,-0.4444972496731726,-0.2516709306906215,-0.5967220810888351,-1.3228092688686257,-1.2600726960689501,-0.35039239047365994,-0.8163000858876982,-0.7895484000713862,-0.5699703952725229,0.31295822450645494,0.6533927743211434,-1.1345995504696,-0.5967220810888351,-0.8522849728710615,-1.3541775552684634,-1.1345995504696,1.2586074303741381,-1.6364921328670012,0.21423676472341688,-0.820916686471224,-0.9463898320705743,0.43843137010580546,-0.2562875312741471,-0.4085123626898098,-0.6640752544720359,-1.2287044096691129,-0.7895484000713862,-0.43988064908964714,-1.9188067104655395,-0.4758655360730102,-0.6013386816723608,-0.47124893548948465,1.4154488623733263,-0.2562875312741471,-0.8790366586873734,-0.28303921709045926,-1.0404946912700872,-0.4085123626898098,-0.9463898320705743,-0.8522849728710615,-1.1345995504696,-0.5072338224728479,-0.6594586538885104,-0.5386021088726854,-0.9463898320705743,-1.2287044096691129,-1.1973361232692752,-0.4758655360730102,-0.16218267207463427,-0.28303921709045926,-1.2287044096691129,-0.16218267207463427,-0.2876558176739847,-1.8874384240657023,-0.47124893548948465,-0.6013386816723608,0.05739533272422877,-0.7535635130880234,-0.09482949869143366,-1.2914409824687876,-1.1659678368694375,-1.2600726960689501,-0.09482949869143366,0.31295822450645494,4.203361780405826,-0.38176067687349735,-0.16218267207463427,-0.38176067687349735,-0.7895484000713862,-0.6640752544720359,-0.820916686471224,-0.690826940288348,-0.5339855082891602,-0.06807781287512144,-1.1299829498860743,-0.9777581184704119,-0.7221952266881858,-0.5072338224728479,0.09338021970759197,-0.3457757898901345,-0.8163000858876982,-0.0007246394919209842,-0.1935509584744719,-0.5026172218893225,-1.0404946912700872,-0.5339855082891602,-0.43988064908964714,0.15611679250726707,-0.3190241040738224,-1.4482824144679758,1.3794639753899631,-0.4758655360730102,-0.38176067687349735,-1.6318755322834757,-0.9777581184704119,-0.3190241040738224,0.5325362293053183,-1.6364921328670012,-0.9150215456707367,-0.8476683722875359,-0.13081438567479658,-0.4085123626898098,-1.0358780906865614,-0.5653537946889976,-1.0091264048702495,-0.9777581184704119,-0.3457757898901345,-0.6280903674886729,0.12013190552390374,-0.3144075034902968,-1.0091264048702495,-0.5699703952725229,-0.16218267207463427,-0.5072338224728479,-0.09944609927495907,-1.0718629776699249,-1.3228092688686257,-0.9150215456707367,-0.7535635130880234,0.3443265109062925,-0.5072338224728479,-1.0718629776699249,-0.22030264429078403,-1.3855458416683006,-1.1345995504696,-0.6640752544720359,-0.0007246394919209842,-0.8790366586873734,-0.2516709306906215,-0.7581801136715487,-0.2516709306906215,-1.1973361232692752,1.6036585807723516,1.0076611391754373,-0.28303921709045926,-0.883653259270899,-0.6280903674886729,-0.7221952266881858,-1.1659678368694375,0.18286847832357914,-0.35039239047365994,-0.7268118272717109,-0.5026172218893225,-0.6954435408718735,-0.4444972496731726,-0.2562875312741471,-1.4122975274846126,-1.0404946912700872,-0.7535635130880234,-0.38176067687349735,-0.3190241040738224,-0.6640752544720359,-0.28303921709045926,-0.7895484000713862,0.3710781967226046,-0.28303921709045926,-0.5072338224728479,-0.883653259270899,-0.47124893548948465,-0.7268118272717109,-0.6594586538885104,-0.22030264429078403,-0.6327069680721983,-1.0718629776699249,-0.2562875312741471,-0.8790366586873734,-1.0718629776699249,-0.3144075034902968,0.15611679250726707,-1.3855458416683006,0.31295822450645494,-0.9104049450872109,-0.4131289632733351,1.6036585807723516,-0.4758655360730102,-1.1032312640697621,0.43843137010580546,-1.3181926682850997,-1.0986146634862366,-0.7581801136715487,-0.15756607149110888,4.611149503603716,-0.4085123626898098,-0.1935509584744719,-1.1973361232692752,-1.0718629776699249,-1.2600726960689501,-1.1973361232692752,-0.9463898320705743,-0.4758655360730102,-0.2249192448743095,-0.7221952266881858,0.2815899381066173,0.12474850610742956,-0.0007246394919209842,-1.0718629776699249,-0.47124893548948465,0.05739533272422877,-1.5110189872676512,-0.6013386816723608,0.15150019192374148,-1.0045098042867238,-0.2562875312741471,-0.8522849728710615,-0.8790366586873734,0.31295822450645494,-0.09482949869143366,0.6533927743211434,0.6580093749046685,-0.6013386816723608,-0.7535635130880234,0.6580093749046685,-0.38176067687349735,-0.8476683722875359,-0.6640752544720359,-0.38176067687349735,-0.09944609927495907,-0.5386021088726854,-0.5386021088726854,-0.9463898320705743,-0.6280903674886729,-1.4436658138844503,1.352712289573651,-0.7221952266881858,1.5990419801888267,-0.43988064908964714,-1.2914409824687876,-0.16218267207463427,-0.7535635130880234,-0.6640752544720359,-0.43988064908964714,-0.5072338224728479,-0.7895484000713862,-0.6327069680721983,-0.6013386816723608,-1.0986146634862366,-0.7581801136715487,0.9762928527755999,-0.7849317994878608,-1.4169141280681383,-1.3181926682850997,0.030643646907916735,-1.3228092688686257,-0.5699703952725229,-0.5699703952725229,1.7605000127715398,-1.5423872736674884,-1.9501749968653772,-1.1659678368694375,-0.5653537946889976,-0.5653537946889976,-0.6013386816723608,-1.0091264048702495,-1.2287044096691129,-0.883653259270899,-0.38176067687349735,0.3756947973061302,-0.2516709306906215,1.253990829790613,1.1912542569909377,-0.6594586538885104,-0.5339855082891602,-1.1345995504696,-1.0091264048702495,-0.8522849728710615,-0.5699703952725229,-0.5967220810888351,-0.06346121229159613,1.7245151257881766,-0.4131289632733351,-0.9150215456707367,-0.9463898320705743,1.1017659983749502,-1.3228092688686257,-1.9188067104655395,-1.1345995504696,-1.0986146634862366,0.6893776613045062,-0.37714407628997215,-0.883653259270899,-0.5653537946889976,1.509553721572839,-1.2600726960689501,-0.7581801136715487,0.24560505112325426,-0.43988064908964714,1.6350268671721895,-0.28303921709045926,-0.12619778509127128,-0.6327069680721983,-0.15756607149110888,-1.2914409824687876,-0.9731415178868862,-0.5653537946889976,-0.38176067687349735,-0.5967220810888351,-0.5967220810888351,-0.35039239047365994,-0.690826940288348,1.3213440031738133,-1.1032312640697621,-0.9150215456707367,-0.5967220810888351,-0.5026172218893225,-0.2562875312741471,-0.8163000858876982,-0.7895484000713862,-0.7535635130880234,-0.6954435408718735,-0.820916686471224,-0.690826940288348,1.2899757167739758,1.823236585571215,-1.4122975274846126,-0.7535635130880234,0.6220244879213058,1.6931468393883389,-0.2876558176739847,1.3480956889901257,0.9762928527755999,-0.21570203041822897,-0.690826940288348,-0.5386021088726854,-0.7221952266881858,-1.2914409824687876,-1.0718629776699249,-1.1973361232692752,0.940307965792237,4.391571498804852,4.4856763580043655,1.253990829790613,0.12474850610742956,-0.6327069680721983,-1.2600726960689501,0.9762928527755999,2.0068297033867153,-0.43988064908964714,-1.0718629776699249,-0.820916686471224,-0.7849317994878608,2.074182876769916,-0.9150215456707367,-0.883653259270899,-0.5653537946889976,-1.600507245883638,1.1645025711746257,1.5363054073891511,-0.38176067687349735,1.0703977119751127,-1.067246377086399,-0.6594586538885104,-0.9150215456707367,-0.5339855082891602,-0.6640752544720359,-1.1345995504696,1.1958708575744632,1.4468171487731636,1.6617785529885014,1.2899757167739758,0.12474850610742956,4.920215767018567,4.54841293080404,-0.820916686471224,4.73200604861954,-0.06346121229159613,1.4108322617898008,-1.5064023866841252,1.1958708575744632,1.7605000127715398,0.8775713929925617,1.0703977119751127,2.0428145903700785,1.6977634399718649,1.2272391439743007,1.5409220079726764,1.6304102665886633,1.5722902943725143,0.8508197071762493,1.1645025711746257,1.6931468393883389,1.6931468393883389,1.791868299171377,-0.820916686471224,1.003044538591912,0.15611679250726707,1.0344128249917495,0.4697996565056431,1.0344128249917495,1.3167274025902882,0.5011519561945106,-0.7895484000713862,-0.6954435408718735,1.509553721572839,1.0076611391754373,0.6893616745935359,1.912724844187202,1.4468171487731636,-0.9150215456707367,-1.2287044096691129,-0.7581801136715487,-1.0091264048702495,0.40706308370596783,-0.37714407628997215,-1.1345995504696,0.18286847832357914,0.46518305592211756,-0.2516709306906215,-1.2287044096691129,-0.28303921709045926,-0.6280903674886729,-0.47124893548948465,-0.5026172218893225,-0.6594586538885104,-0.2516709306906215,0.15150019192374148,-0.883653259270899,-0.3144075034902968,0.0887636191240663,-0.8522849728710615,-0.6594586538885104,-0.6280903674886729,-1.1659678368694375,-0.47124893548948465,-0.7535635130880234,-1.1032312640697621,-0.22030264429078403,-0.8476683722875359,-1.3228092688686257,-1.0718629776699249,-0.6954435408718735,-0.7849317994878608,0.030643646907916735,-1.1973361232692752,-0.9150215456707367,-1.0045098042867238,-0.09944609927495907,0.030643646907916735,-1.0718629776699249,0.2815899381066173,-0.5386021088726854,-0.0007246394919209842,-1.3228092688686257,-0.9104049450872109,-0.5072338224728479,-1.4169141280681383,0.12013190552390374,0.18748507890710464,-1.8247018512660271,0.18286847832357914,-0.9150215456707367,-1.0986146634862366,-1.0718629776699249,-1.8874384240657023,-1.3541775552684634,-1.1973361232692752,-0.690826940288348,0.12474850610742956,4.862095794802417,-0.7581801136715487,-1.2554560954854246,-0.06807781287512144,-1.1659678368694375,-0.13081438567479658,0.3710781967226046,-0.5653537946889976,-0.5072338224728479,-0.6013386816723608,0.9762928527755999,-1.1032312640697621,-0.3144075034902968,-0.22030264429078403,-0.38176067687349735,-1.2554560954854246,-0.2516709306906215,-0.883653259270899,-0.6640752544720359,1.4468171487731636,-0.2516709306906215,-0.8790366586873734,-0.6327069680721983,-0.5386021088726854,-1.3228092688686257,-0.5967220810888351,-1.9501749968653772,-0.2562875312741471,-1.1659678368694375,-0.6327069680721983,0.21885336530694222,-0.6954435408718735,-0.6013386816723608,-0.13081438567479658,-0.43988064908964714,0.12474850610742956,-0.4758655360730102,-0.6640752544720359,-0.16218267207463427,-1.8247018512660271,-0.2516709306906215,-0.3457757898901345,-1.1299829498860743,-1.663243818683313,-0.6013386816723608,0.3710781967226046,-1.1345995504696,-0.28303921709045926,-0.6594586538885104,-0.5072338224728479,-0.06807781287512144,-0.9150215456707367,-0.38176067687349735,-0.5386021088726854,-0.8476683722875359,-0.6954435408718735,1.9754614169868774,1.1912542569909377,1.4108322617898008,-0.6013386816723608,-1.4482824144679758,-0.9150215456707367,-0.6954435408718735,-0.3144075034902968,-1.2287044096691129,1.1912542569909377,-0.5072338224728479,-0.6954435408718735,-0.9104049450872109,-0.6013386816723608,-1.1345995504696,-1.0091264048702495,-1.1032312640697621,-0.005341240075446471,0.3756947973061302,-0.820916686471224,-0.13081438567479658,-0.7535635130880234,-0.5653537946889976,-0.9150215456707367,-0.7581801136715487,-0.7581801136715487,-0.5967220810888351,-1.1032312640697621,-0.6280903674886729,-1.600507245883638,-1.1927195226857494,-1.4482824144679758,-1.0718629776699249,-0.2562875312741471,-1.4482824144679758,-0.7849317994878608,-0.37714407628997215,-0.9104049450872109,-1.4436658138844503,-1.0718629776699249,-0.13081438567479658,-0.6327069680721983,-0.7895484000713862,-0.820916686471224,-0.35039239047365994,-0.8476683722875359,-1.1659678368694375,-0.18893435789094642,1.0703977119751127,0.3443265109062925,-0.7221952266881858,-0.5699703952725229,-0.03670952647528373,-0.8522849728710615,0.3443265109062925,-1.3181926682850997,-0.28303921709045926,-0.9463898320705743,0.06201193330775429,-0.7581801136715487,-0.6280903674886729,-0.9463898320705743,-1.537770673083963,-0.6640752544720359,-0.6640752544720359,-0.6594586538885104,-0.5339855082891602,0.24560505112325426,0.21423676472341688,-0.7268118272717109,-0.35039239047365994,-0.3190241040738224,0.0887636191240663,-0.1935509584744719,-0.4758655360730102,0.3443265109062925,-0.9463898320705743,-1.5691389594838006,0.18748507890710464,-0.7268118272717109,-0.005341240075446471,-0.06807781287512144,-1.2287044096691129,-1.1345995504696,-1.0091264048702495,-0.9417732314870487,-0.0007246394919209842,-1.0358780906865614,-0.2516709306906215,-0.6327069680721983,0.15611679250726707,-0.5026172218893225,-0.5653537946889976,-1.1973361232692752,0.40706308370596783,-0.9150215456707367,-0.6013386816723608,-0.7268118272717109,-0.7581801136715487,-1.3541775552684634,-1.1032312640697621,-1.3855458416683006,-1.0091264048702495,-1.1659678368694375,-0.8476683722875359,-0.6280903674886729,-0.5026172218893225,-0.6013386816723608,-0.9463898320705743,0.5011679429054807,-0.4131289632733351,-0.7581801136715487,-0.16218267207463427,-0.2516709306906215,-0.5699703952725229,-0.6327069680721983,-0.5072338224728479,0.12474850610742956,-0.7581801136715487,-0.5026172218893225,-0.5339855082891602,0.02602704632439115,-0.18893435789094642,-0.5653537946889976,-0.8163000858876982,-0.6280903674886729,-0.7221952266881858,-0.5386021088726854,-0.2876558176739847,-0.6013386816723608,-0.2562875312741471,-0.8790366586873734,-1.1613512362859117,-0.9104049450872109,-0.43988064908964714,-0.2516709306906215,-1.5691389594838006,-1.2287044096691129,-0.6327069680721983,-0.8476683722875359,-0.43988064908964714,-0.2516709306906215,0.09338021970759197,-0.37714407628997215,-0.6640752544720359,-1.067246377086399,-0.5072338224728479,1.823236585571215,-0.5386021088726854,-0.6954435408718735,-1.4169141280681383,-0.7268118272717109,5.144410372400955,-1.0718629776699249,0.030643646907916735,1.352712289573651,-0.6327069680721983,-0.4131289632733351,0.12474850610742956,-0.4085123626898098,0.21885336530694222,-0.6640752544720359,-0.4131289632733351,-0.7581801136715487,-0.38176067687349735,-0.6327069680721983,-1.1973361232692752,-0.8476683722875359,-0.2249192448743095,-1.0986146634862366,-0.43988064908964714,-0.7535635130880234,-0.8522849728710615,-0.9463898320705743,-1.2600726960689501,-0.0007246394919209842,-0.8790366586873734,-0.37714407628997215,0.25022165170677985,-1.0718629776699249,-0.2876558176739847,-0.1935509584744719,-0.5339855082891602,-0.9150215456707367,-0.7268118272717109,-0.5026172218893225,-1.0045098042867238,-1.1973361232692752,1.1912542569909377,-1.067246377086399,-0.4085123626898098,1.0076611391754373,-1.0045098042867238,0.31295822450645494,-0.6640752544720359,-1.0404946912700872,-0.690826940288348,-0.690826940288348,-0.820916686471224,-0.1935509584744719,-0.9731415178868862,-0.7849317994878608,-1.1345995504696,-1.5691389594838006,1.7291317263717016,-1.8874384240657023,1.666395153572027,-0.28303921709045926,1.666395153572027,2.074182876769916,1.2899757167739758,-1.1659678368694375,0.3129422377954848,0.9716762521920745,-0.16218267207463427,-0.37714407628997215,1.9487097311705652,-0.9731415178868862,-0.03670952647528373,-0.38176067687349735,1.2272391439743007,0.15611679250726707,-0.15756607149110888,-0.09482949869143366,-0.3144075034902968,0.944924566375762,2.504873700942041,0.09338021970759197,0.09338021970759197,-1.0358780906865614,-0.7849317994878608,-0.38176067687349735,-0.1935509584744719,-0.9777581184704119,1.8546048719710522,-0.820916686471224,-1.0718629776699249,1.791868299171377,-0.5653537946889976,2.607443745567155,0.7253465615768991,1.4422005481896383,4.637901189420028,4.4856763580043655,4.575164616620352,1.6350268671721895,5.13979377181743,1.791868299171377,0.6939782751770615,1.2586074303741381,0.9135562799759245,1.9173414447707275,1.7291317263717016,1.666395153572027,5.018937226801605,1.2226225433907751,1.3167274025902882,1.9754614169868774,1.3480956889901257,1.9487097311705652,1.3480956889901257,4.292850039021815,-1.1973361232692752,4.391571498804852,2.4192340271681294,-0.5967220810888351,1.666395153572027,4.104640320622788,2.1950394217857405,0.43843137010580546,-0.13081438567479658,-0.6594586538885104,-0.8522849728710615,-1.2914409824687876,-1.2914409824687876,-0.3457757898901345,1.1645025711746257,-1.0718629776699249,-0.820916686471224,-1.0404946912700872,0.5325362293053183,-0.4444972496731726,-0.4758655360730102,-0.5967220810888351,-0.9104049450872109,-0.6327069680721983,-0.7581801136715487,-1.1345995504696,-0.7581801136715487,-0.6280903674886729,-1.5064023866841252,-0.15756607149110888,-0.820916686471224,-0.9777581184704119,-0.9463898320705743,-0.5386021088726854,0.06201193330775429,-0.5967220810888351,0.24560505112325426,-0.03209292589175851,0.7521142341041815,-0.7535635130880234,-0.43988064908964714,-1.1345995504696,-0.6013386816723608,-0.03209292589175851,-0.7535635130880234,-0.9104049450872109,0.25022165170677985,-0.6280903674886729,0.5325362293053183,-1.1927195226857494,-0.3144075034902968,-1.1659678368694375,-0.0007246394919209842,-0.7535635130880234,-0.2562875312741471,-0.4085123626898098,-0.0007246394919209842,-0.9417732314870487,-0.005341240075446471,-0.06346121229159613,-0.09482949869143366,1.9440931305870397,-1.9188067104655395,-0.8790366586873734,0.21423676472341688,-0.03670952647528373,-0.6013386816723608,-0.09944609927495907,-0.8522849728710615,-0.2562875312741471,-0.47124893548948465,0.0887636191240663,-0.18893435789094642,-0.6280903674886729,-1.4169141280681383,-0.12619778509127128,-1.3855458416683006,-0.8522849728710615,0.05739533272422877,-0.7221952266881858,-0.43988064908964714,-1.8874384240657023,-0.35039239047365994,0.12474850610742956,-1.2600726960689501,-0.6594586538885104,-0.03209292589175851,-0.35039239047365994,-1.2287044096691129,-0.883653259270899,-0.7268118272717109,-1.1345995504696,-1.9501749968653772,-1.5110189872676512,-0.4085123626898098,0.4338147695222801,-0.43988064908964714,-1.1299829498860743,-1.1345995504696,-0.9777581184704119,-0.5386021088726854,0.2769733375230917,-1.1973361232692752,-1.1345995504696,-1.3541775552684634,-0.5699703952725229,-0.3144075034902968,-0.37714407628997215,-1.537770673083963,-1.1973361232692752,-0.9731415178868862,-0.9463898320705743,-0.5339855082891602,-1.573755560067326,0.4697996565056431,-0.6013386816723608,-0.09482949869143366,-0.5653537946889976,0.0887636191240663,-1.5423872736674884,-0.9104049450872109,-0.5072338224728479,-0.6280903674886729,-1.0045098042867238,-0.35039239047365994,-0.3144075034902968,1.2853591161904505,-0.35039239047365994,-1.1973361232692752,0.43843137010580546,4.543796330220514,4.736622649203066,-0.2876558176739847,2.0114463039702404,-0.9104049450872109,-1.3855458416683006,-0.7581801136715487,-1.5423872736674884,-1.1973361232692752,-0.2562875312741471,-0.7895484000713862,-0.6640752544720359,0.09338021970759197,-0.38176067687349735,0.12474850610742956,-0.5653537946889976,-1.1973361232692752,-0.8163000858876982,-0.6640752544720359,-1.0718629776699249,-0.6327069680721983,0.21885336530694222,-0.6280903674886729,-0.2876558176739847,-0.7581801136715487,-1.0718629776699249,-0.2249192448743095,0.030643646907916735,-0.4444972496731726,1.4735688345894762,-0.0007246394919209842,-0.9777581184704119,-0.06346121229159613,-1.1345995504696,-0.9463898320705743,0.6266410885048309,-0.28303921709045926,-0.18893435789094642,0.21885336530694222,0.12474850610742956,-1.0091264048702495,-0.8522849728710615,-1.0045098042867238,0.5279196287217928,-0.6013386816723608,-0.8163000858876982,-0.8522849728710615,0.15611679250726707,0.15150019192374148,-0.5339855082891602,-1.0091264048702495,-1.3541775552684634,-0.5339855082891602,-0.9417732314870487,-0.7268118272717109,-0.9731415178868862,-0.005341240075446471,1.3794639753899631,-1.0091264048702495,-0.1935509584744719,-0.2562875312741471,0.15611679250726707,-0.8522849728710615,-0.2876558176739847,0.25022165170677985,-0.6327069680721983,-0.2830392170904593,-0.5026172218893225,-0.18893435789094642,-0.7535635130880234,-0.9104049450872109,0.8102342063203313,-1.6318755322834757,-0.5072338224728479,-1.2287044096691129,-0.883653259270899,0.5325362293053183,0.43843137010580546],\"xaxis\":\"x\",\"y\":[-0.9428191641847972,-1.3261930995574946,-1.0509502741617103,0.734960340191312,-0.9034987605568119,1.049523569215086,0.7546205420052984,0.7447904410983056,1.0003730646801217,0.7054700374703339,0.7447904410983056,0.9610526610521498,-1.1590813841386278,0.8430914501682346,0.931562358331171,0.7447904410983056,0.9610526610521498,-0.9526492650917764,0.7841108447262773,0.8037710465402633,1.285445990982916,1.0251740346928195,-0.9624793659987695,0.9217322574241781,-1.119760980510656,0.7644506429122915,1.0102031655871144,0.7841108447262773,0.8922419547031994,-0.7902268823811773,1.1773148810059935,-1.0607803750686984,0.8037710465402633,0.8627516519822206,1.0888439728430577,0.8430914501682346,-0.8051977514868829,0.7644506429122915,-0.8936686596498191,1.231606153739671,1.005513832878834,-0.9278482950790783,0.7695914111110038,1.0200332664941072,-1.3065328977435213,-1.1047901114049508,0.7054700374703339,-0.8295472860091488,-0.9428191641847836,-1.375343604092472,1.0644944383207913,-0.8983579923580993,0.8234312483542489,-0.7068967424169535,-1.2129212213818727,0.9905429637731286,-1.1787415859526134,0.941392459238164,0.8627516519822206,0.7644506429122915,1.2414362546466635,0.85806231927394,-1.0064891023350215,-1.1689114850456206,0.7546205420052984,-1.1146202123119435,-1.0261493041490073,1.1379944773780222,-0.976998799614043,-0.9231589623707978,1.0298633674011,-1.1885716868596063,0.7742807438192845,-1.129591081417649,-0.750906478753206,-0.9034987605568119,-0.9278482950790783,0.8384021174599543,-0.8885278914511066,-1.2129212213818727,-0.8786977905441137,0.7742807438192845,-1.0902706777896773,-1.2227513222888655,0.8529215510752277,-1.03129007234772,1.069183771029072,-0.8295472860091488,-1.144110515032922,-0.7705666805671914,1.1431352455767345,1.182455649204706,-0.8543482560218473,-0.8740084578358333,1.0644944383207913,1.0350041355998123,-1.144110515032922,1.0939847410417698,0.8430914501682346,-0.976998799614043,1.0546643374137983,-1.1590813841386278,1.0593536701220787,-1.1539406159399153,0.941392459238164,-1.129591081417649,-0.9821395678127552,-1.0163192032420145,0.7153001383773268,1.0986740737500504,-0.46512889160726545,-0.9573385978000569,0.8922419547031994,0.8777225210879258,1.4485730345366614,1.1234750437627488,0.85806231927394,0.7597613102040109,0.6221398975061101,-1.075299808683972,0.976023530157855,-1.1885716868596063,0.8627516519822206,1.1085041746570434,1.103814841948763,-0.9671686987070499,-0.9671686987070499,1.3004168600886212,-0.976998799614043,-0.8393773869161419,0.740101108390025,-0.8786977905441137,-1.1590813841386278,1.3200770619026068,-0.9966590014280289,-1.0261493041490073,0.976023530157855,1.0448342365068053,1.2814613191177815,-0.15056566258349194,0.8234312483542489,-1.1984017877665996,-1.109930879603663,0.8332613492612418,-1.2030911204748798,1.221776052832678,-0.9428191641847836,-0.9475084968930642,-1.139421182324642,-1.0706104759756916,-0.8983579923580993,-1.1047901114049508,-0.14073556167649934,0.7742807438192845,-1.03129007234772,0.9512225601451567,0.8627516519822206,1.1234750437627488,-1.2227513222888655,0.8430914501682346,-0.859037588730128,0.8529215510752277,0.8332613492612418,0.8529215510752277,0.9020720556101924,1.0200332664941072,0.8922419547031994,-0.750906478753206,-0.937678395986071,-0.2292064698394355,0.931562358331171,-1.2620717259168373,0.7597613102040109,-0.9573385978000569,-0.2685268734674072,0.8332613492612418,-0.356997781630343,-0.5142793961422297,-1.03129007234772,-0.976998799614043,1.0003730646801217,0.9268730256228905,-0.9919696687197482,0.7153001383773268,0.7742807438192845,-1.045809505962993,-1.2868726959295353,-1.1787415859526134,0.8037710465402633,0.7054700374703339,-0.8688676896371208,-1.085129909590965,-0.8346880542078616,0.9268730256228905,-1.119760980510656,1.3987178691585502,-1.011629870533734,0.8136011474472561,0.6858098356563482,-1.129591081417649,-1.109930879603663,0.6811205029480675,0.9708827619591428,-0.8197171851021562,-0.8641783569288402,0.9512225601451567,1.0003730646801217,1.0298633674011,-0.25869677256041373,-1.1244503132189365,-0.9966590014280289,-1.139421182324642,1.6353449517695267,-1.1787415859526134,0.7939409456332704,0.7742807438192845,-0.7803967814741847,-0.9231589623707978,0.9119021565171853,0.9020720556101924,0.9905429637731286,0.7841108447262773,-1.011629870533734,0.8136011474472561,-0.937678395986071,-0.8641783569288402,-1.1787415859526134,0.7939409456332704,0.9217322574241781,-0.9821395678127552,0.6661496338423625,1.586194447234562,0.8430914501682346,0.8187419156459683,-0.2783569743744003,1.7631362635604342,0.7153001383773268,1.0644944383207913,-1.0949600104979575,1.2264653855409584,-0.3471676807233502,1.7533061626534419,0.8529215510752277,-1.237722191394571,1.049523569215086,0.7251302392843195,0.8136011474472561,0.7841108447262773,0.7742807438192845,-1.1689114850456206,-1.497994147684667,-1.2770425950225426,1.182455649204706,0.8384021174599543,0.7447904410983056,-0.7757074487659039,0.8824118537962066,-0.7953676505798899,-1.218061989580585,0.8037710465402633,-1.139421182324642,0.9119021565171853,-1.1001007786966703,0.9905429637731286,-1.227892090487578,-1.227892090487578,1.0102031655871144,1.2905867591816282,1.8221168690023921,-0.8641783569288402,-1.3851737049994648,0.7939409456332704,0.8136011474472561,0.7349603401913126,0.8627516519822206,1.069183771029072,0.9119021565171853,0.7251302392843195,0.8430914501682346,1.0102031655871144,-1.218061989580585,1.1183342755640366,0.8529215510752277,-0.913328861463805,0.9217322574241781,-0.913328861463805,-0.31767737800237167,-0.8983579923580993,-0.9919696687197482,-1.001799769626741,0.9610526610521498,-1.1342804141259297,0.7742807438192845,1.26578578916893,-1.1590813841386278,-1.119760980510656,0.6563195329353697,0.7841108447262773,0.9020720556101924,1.26578578916893,-1.0411201732547128,0.8824118537962066,1.3149362937038944,1.1674847800990007,-1.119760980510656,0.7841108447262773,0.8627516519822206,0.9708827619591428,1.285445990982916,1.2166352846339654,0.7251302392843195,0.8824118537962066,0.8430914501682346,0.7939409456332704,1.1085041746570434,1.2264653855409584,-1.119760980510656,-1.1689114850456206,0.9708827619591428,1.069183771029072,0.8529215510752277,-1.139421182324642,0.7251302392843195,0.7054700374703339,1.3247663946108879,-1.1590813841386278,0.931562358331171,1.3640867982388594,-1.2424115241028517,-1.0556396068699863,0.7499312092970178,-0.43563858888628665,0.9217322574241781,0.7447904410983056,-0.913328861463805,1.1674847800990007,-1.1590813841386278,-0.913328861463805,0.7644506429122915,1.0003730646801217,-1.1885716868596063,-0.8936686596498191,0.9217322574241781,1.0200332664941072,-1.0804405768826844,0.941392459238164,-0.785537549672897,0.740101108390025,-1.227892090487578,-1.109930879603663,0.8725817528892135,0.9956837319718409,-1.0654697077769792,0.7447904410983056,-0.21937636893244286,-1.1001007786966703,-0.9329890632777907,1.1529653464837275,0.8332613492612418,1.005513832878834,0.9020720556101924,-0.8000569832881703,1.2512663555536567,-1.1984017877665996,1.0888439728430577,0.931562358331171,0.8234312483542489,-0.356997781630343,0.8430914501682346,-1.1689114850456206,-0.9428191641847836,0.8430914501682346,-1.001799769626741,-1.0214599714407269,0.8627516519822206,0.9708827619591428,0.8037710465402633,-1.1146202123119435,-1.011629870533734,1.0200332664941072,-0.7363870451379323,1.039693468308093,0.8136011474472561,0.7349603401913126,0.6464894320283764,0.8430914501682346,0.8332613492612418,-1.129591081417649,-0.8936686596498191,1.069183771029072,1.812286768095399,0.9512225601451567,0.6909506038550604,0.7939409456332704,-1.3261930995575069,-1.1001007786966703,0.7546205420052984,1.049523569215086,1.0102031655871144,-0.976998799614043,-1.0509502741617056,0.931562358331171,-1.0163192032420145,0.8725817528892135,0.6169991293073976,-1.247552292301564,-0.8248579533008689,0.8922419547031994,-1.0804405768826844,1.147824578285015,-0.9919696687197482,0.6563195329353697,-1.1244503132189365,-0.4454686897932795,-1.0949600104979575,-1.237722191394571,0.8529215510752277,1.0593536701220787,-0.2783569743744003,-1.4783339458706815,0.8922419547031994,0.7841108447262773,-1.0411201732547128,0.931562358331171,0.976023530157855,0.8824118537962066,0.8234312483542489,-1.03129007234772,0.8430914501682346,-1.0411201732547128,0.7939409456332704,-0.8936686596498191,-1.0706104759756916,1.1183342755640366,-1.0607803750686984,0.7447904410983056,0.7939409456332704,-0.8346880542078616,-0.9231589623707978,1.0200332664941072,1.1281643764710292,-1.0607803750686984,0.7546205420052984,0.7742807438192845,0.9563633283438693,-0.7214161760322272,-0.3078472770953791,-0.7953676505798899,0.976023530157855,-0.8098870841951634,0.8973827229019118,-0.8983579923580993,-0.25869677256041373,-1.1932610195678872,1.3299071628096,0.695639936563341,0.9512225601451567,-1.1001007786966703,-1.227892090487578,-1.218061989580585,-0.9966590014280289,0.8824118537962066,-1.0214599714407269,0.8627516519822206,0.7251302392843195,-0.667576338788982,1.2461255873549444,1.1281643764710292,-1.2573823932085568,-0.9821395678127552,1.1085041746570434,0.695639936563341,1.1281643764710292,0.7251302392843195,-0.2685268734674072,-1.0064891023350215,-1.208231888673592,1.6844954563044914,0.8777225210879258,-0.8000569832881703,1.0593536701220787,-0.6329452678692906,0.9020720556101924,-0.9868289005210356,0.7153001383773268,-1.109930879603663,1.0298633674011,-1.1787415859526134,0.7546205420052984,1.0298633674011,0.8430914501682346,-1.1001007786966703,-1.0156145423988687,-1.173600817753901,0.9217322574241781,-1.139421182324642,1.147824578285015,1.079013871936065,0.7054700374703339,-1.129591081417649,0.7349603401913126,-1.0706104759756916,0.7349603401913126,-0.7214161760322272,0.7153001383773268,0.7939409456332704,0.9512225601451567,0.9217322574241781,1.3299071628096,0.7939409456332704,1.147824578285015,-1.0214599714407269,0.931562358331171,0.7742807438192845,-1.0706104759756916,-0.8641783569288402,-0.9526492650917764,0.9610526610521498,-1.119760980510656,-0.8051977514868829,1.3247663946108879,0.9020720556101924,0.7841108447262773,-1.03129007234772,-0.5889355315330387,-0.9919696687197482,-1.119760980510656,-0.9526492650917764,-1.247552292301564,0.8430914501682346,-1.1689114850456206,0.5186981202374685,0.8234312483542489,-0.9475084968930642,1.0200332664941072,-0.8492074878231348,-0.9821395678127552,1.0003730646801217,0.7939409456332704,-1.4441543104414223,-0.8445181551148544,-1.4441543104414223,0.9610526610521498,-1.2770425950225426,0.7892516129249898,0.7204409065760393,1.074324539227784,-1.0607803750686984,0.7349603401913126,0.9217322574241781,1.1183342755640366,-1.0163192032420145,-1.218061989580585,-0.4552987907002722,-0.4749589925142577,-0.8885278914511066,0.7939409456332704,-1.0902706777896773,0.8529215510752277,0.9020720556101924,-1.0163192032420145,1.0298633674011,-1.0902706777896773,0.8725817528892135,1.1085041746570434,0.9512225601451567,-1.109930879603663,-1.0607803750686984,0.9020720556101924,0.9119021565171853,-0.8051977514868829,1.0888439728430577,0.7742807438192845,1.576364346327569,0.941392459238164,-1.0556396068699863,0.7546205420052984,0.9072128238089047,1.1183342755640366,0.8234312483542489,-1.1787415859526134,0.7939409456332704,0.7153001383773268,0.7546205420052984,1.039693468308093,-1.119760980510656,1.2068051837269724,-0.8983579923580993,-0.7462171460449253,1.039693468308093,-0.5142793961422297,-1.3556834022784858,0.8875526219949186,0.7546205420052984,1.0986740737500504,1.0593536701220787,1.0003730646801217,-0.9329890632777907,1.3640867982388594,-1.1001007786966703,1.1183342755640366,0.7447904410983056,0.8136011474472561,0.7939409456332704,-1.227892090487578,1.039693468308093,-1.247552292301564,1.0102031655871144,0.7054700374703339,0.49903791842348283,1.0298633674011,0.7644506429122915,-1.2325814231958585,0.9465332274368764,-0.8936686596498191,-1.129591081417649,-1.0607803750686984,-0.9821395678127552,-0.9034987605568119,0.5776787256794262,1.0298633674011,1.0102031655871144,-0.6919258733112486,-1.1787415859526134,0.9661934292508619,-1.50782424859166,0.8234312483542489,-0.7607365796601986,-0.750906478753206,1.0003730646801217,-1.4048339068134503,-1.1001007786966703,-1.0902706777896773,-0.9919696687197482,0.8529215510752277,1.0298633674011,0.9807128628661355,0.7054700374703339,0.5186981202374685,1.0200332664941072,1.147824578285015,1.0298633674011,0.7251302392843195,0.9807128628661355,0.9512225601451567,-0.7068967424169535,-0.9723094669057624,0.9020720556101924,-1.247552292301564,-0.8936686596498191,1.1136449428557558,0.8384021174599543,0.7939409456332704,-1.1001007786966703,-1.463814512255408,0.8136011474472561,-1.1885716868596063,-1.0509502741617056,-1.50782424859166,-0.8885278914511066,0.8136011474472561,-0.701755974218241,0.533668989343174,-0.524109497049223,0.9708827619591428,-1.3163629986505143,-0.8248579533008689,1.1379944773780222,1.147824578285015,1.039693468308093,1.0644944383207913,-1.173600817753901,0.8627516519822206,-0.7607365796601986,-0.937678395986071,-1.0804405768826844,0.8037710465402633,-1.1001007786966703,0.8725817528892135,1.586194447234562,0.7939409456332704,0.8136011474472561,1.182455649204706,1.26578578916893,-1.001799769626741,-1.0411201732547128,-0.6380860360680032,-0.6380860360680032,1.2166352846339654,-0.9671686987070499,0.6516302002270888,0.9119021565171853,0.9905429637731286,-1.109930879603663,-0.7560472469519183,-0.9966590014280289,0.85806231927394,0.7841108447262773,-0.7705666805671914,1.039693468308093,-1.26721249411555,0.8627516519822206,-1.247552292301564,0.7204409065760393,-1.2227513222888655,1.3739168991458521,-1.247552292301564,0.7251302392843195,0.8824118537962066,-0.8346880542078616,-0.7167268433239465,-1.03129007234772,-0.8543482560218473,0.7546205420052984,0.9217322574241781,0.9858536310648479,-1.1001007786966703,-1.1244503132189365,0.8973827229019118,0.8234312483542489,1.0102031655871144,-0.9723094669057624,-1.1787415859526134,-1.208231888673592,-1.0902706777896773,-1.0706104759756916,-1.119760980510656,1.1379944773780222,-1.0706104759756916,-1.109930879603663,-0.9624793659987695,-0.8346880542078616,-1.1001007786966703,-1.109930879603663,0.7990817138319827,1.005513832878834,1.7533061626534419,0.7939409456332704,-0.9329890632777907,-0.4061482861653076,-0.4258084879792937,-0.9966590014280289,-0.8393773869161419,-0.7560472469519183,-1.3163629986505143,1.7631362635604342,-1.045809505962993,-1.2573823932085568,-1.1689114850456206,0.8824118537962066,1.0003730646801217,0.8725817528892135,1.0102031655871144,-1.109930879603663,1.1379944773780222,-0.6329452678692906,0.9217322574241781,-0.9919696687197482,-1.0804405768826844,1.0251740346928195,-1.001799769626741,0.931562358331171,0.8725817528892135,-1.0804405768826844,0.9119021565171853,-1.1047901114049508,0.8332613492612418,-1.1590813841386278,0.7742807438192845,0.7841108447262773,-0.8641783569288402,0.7546205420052984,-0.9034987605568119,-0.8740084578358333,0.7644506429122915,1.039693468308093,0.8430914501682346,-1.011629870533734,0.976023530157855,-0.5535997997702018,0.9858536310648479,-1.0607803750686984,1.147824578285015,-1.03129007234772,-0.9671686987070499,-0.9180181941720853,-1.2227513222888655,-1.119760980510656,0.8037710465402633,-1.0706104759756916,0.8627516519822206,-1.1001007786966703,-1.218061989580585,0.8922419547031994,0.8430914501682346,0.7153001383773268,-0.8983579923580993,0.9072128238089047,0.7447904410983056,-1.1834309186608938,-0.2783569743744003,-1.0064891023350215,0.7251302392843195,1.0593536701220787,1.221776052832678,-1.03129007234772,-1.0163192032420145,-1.1590813841386278,-1.1001007786966703,-1.144110515032922,-1.0804405768826844,-0.7265569442309395,0.8627516519822206,-0.8838385587428261,-0.8740084578358333,-0.8838385587428261,0.9708827619591428,0.8430914501682346,-0.9034987605568119,1.1674847800990007,0.8529215510752277,-1.1001007786966703,-1.26721249411555,-0.8197171851021562,0.8234312483542489,1.231606153739671,0.9170429247158975,-1.0411201732547128,0.85806231927394,0.9610526610521498,-1.227892090487578,-1.237722191394571,-1.109930879603663,-1.001799769626741,-0.9573385978000569,0.9268730256228905,0.8430914501682346,1.039693468308093,0.931562358331171,-0.9034987605568119,0.7644506429122915,-0.9624793659987695,-1.0607803750686984,0.8136011474472561,1.3345964955178806,-0.7757074487659039,-1.1689114850456206,0.5481884229584475,1.0350041355998123,-1.3505426340797735,1.655005153583512,-1.119760980510656,-0.9919696687197482,-1.237722191394571,0.5776787256794262,0.7153001383773268,-1.1590813841386278,-0.913328861463805,0.7349603401913126,-1.2868726959295353,-1.129591081417649,-1.001799769626741,-1.2573823932085568,0.6169991293073976,-1.001799769626741,1.0644944383207913,-1.045809505962993,0.5383583220514545,-1.1787415859526134,-0.9180181941720853,-1.0359794050560005,0.9465332274368764,0.7153001383773268,-1.3851737049994648,0.6661496338423625,0.8234312483542489,-0.8445181551148544,-1.1689114850456206,1.0200332664941072,-1.109930879603663,-1.1146202123119435,1.039693468308093,1.2512663555536567,1.6353449517695267,-0.9231589623707978,1.0644944383207913,-1.26721249411555,-1.1984017877665996,-1.237722191394571,1.157654679192008,0.9217322574241781,-0.4258084879792937,1.1529653464837275,1.2068051837269724,0.9512225601451567,0.7939409456332704,-1.1885716868596063,-1.0804405768826844,1.7533061626534419,0.9020720556101924,1.0350041355998123,-1.0607803750686984,1.458403135443654,-1.139421182324642,-1.497994147684667,-0.8248579533008689,0.7251302392843195,0.6811205029480675,0.9708827619591428,-1.119760980510656,1.0888439728430577,0.8824118537962066,0.9956837319718409,0.5678486247724331,-1.1787415859526134,-0.8641783569288402,1.2610964564606497,-0.9034987605568119,0.9020720556101924,0.9512225601451567,-0.8885278914511066,1.0200332664941072,-1.0706104759756916,-1.0214599714407269,1.3247663946108879,-1.218061989580585,-1.001799769626741,0.941392459238164,-1.247552292301564,-1.2129212213818727,-0.8492074878231348,-0.711586075125234,0.9367031265298833,-0.3078472770953791,-1.0359794050560005,-0.9868289005210356,-1.0064891023350215,0.9807128628661355,0.6169991293073976,0.5383583220514545,0.7742807438192845,1.1136449428557558,-1.2817319277308232,1.1922857501116992,-0.8295472860091488,0.8136011474472561,1.2362954864479516,-0.8641783569288402,-0.9475084968930642,0.8627516519822206,-0.859037588730128,1.1773148810059935,-1.2573823932085568,-0.9966590014280289,-0.976998799614043,-0.46512889160726545,0.8089118147389756,0.8332613492612418,-1.0214599714407269,1.1674847800990007,0.8922419547031994,-0.9428191641847836,0.7841108447262773,0.5776787256794262,-0.3275074789093641,1.1627954473907203,1.3797623281877105,-0.9868289005210356,-0.9868289005210356,1.069183771029072,-0.9573385978000569,0.6614603011340819,-1.0804405768826844,0.6169991293073976,-1.1001007786966703,-0.8641783569288402,-1.0509502741617056,1.285445990982916,-0.8248579533008689,1.1085041746570434,0.9610526610521498,0.7251302392843195,0.9610526610521498,-1.0706104759756916,-1.2573823932085568,0.7054700374703339,1.0153439337858268,0.8725817528892135,-1.011629870533734,-1.237722191394571,0.7644506429122915,0.7447904410983056,1.7041556581184774,-1.139421182324642,-0.28818707528139315,-1.1787415859526134,-0.8492074878231348,-0.8641783569288402,-0.2292064698394355,-1.2770425950225426,-1.247552292301564,-0.9428191641847836,-1.2868726959295353,-1.011629870533734,1.049523569215086,-0.9671686987070499,-0.8393773869161419,-1.1146202123119435,0.9268730256228905,-0.9821395678127552,0.7794215120179967,-0.701755974218241,-0.15570643078220464,-0.9723094669057624,0.9610526610521498,1.556704144513583,-1.0261493041490073,0.740101108390025,-1.085129909590965,1.7336459608394554,-1.1047901114049508,-1.0556396068699863,1.0644944383207913,-1.085129909590965,-0.43563858888628665,-0.6912212124681015,-1.0902706777896773,-1.1787415859526134,-1.0411201732547128,-0.8936686596498191,1.1281643764710292,1.2166352846339654,0.9610526610521498,-0.9919696687197482,-0.913328861463805,-0.913328861463805,0.8430914501682346,0.8627516519822206,0.5383583220514545,0.7546205420052984,0.8136011474472561,-0.9428191641847836,-1.26721249411555,0.7841108447262773,-1.0902706777896773,-0.9329890632777907,1.0350041355998123,-0.6125804052121592,0.8037710465402633,1.0546643374137983,0.7106108056690463,-0.9573385978000569,-1.227892090487578,0.8187419156459683,-0.9919696687197482,-1.1834309186608938,-1.1342804141259297,0.8430914501682346,-1.173600817753901,-0.46512889160726545,0.7251302392843195,-1.0359794050560005,-1.1590813841386278,-0.9919696687197482,-0.20954626802544904,1.2512663555536567,0.7447904410983056,-1.247552292301564,0.8627516519822206,-1.0607803750686984,0.9217322574241781,0.6661496338423625,0.8725817528892135,-1.1492512832316348,-0.8740084578358333,1.1183342755640366,0.8922419547031994,-1.237722191394571,-0.9821395678127552,-1.2620717259168373,-1.2030911204748798,-0.25869677256041373,0.931562358331171,-0.8346880542078616,1.0102031655871144,0.8430914501682346,-1.109930879603663,-0.9821395678127552,0.9807128628661355,-1.1001007786966703,-1.0214599714407269,1.0593536701220787,-1.0706104759756916,-1.227892090487578,-1.0804405768826844,0.8777225210879258,-0.8786977905441137,0.740101108390025,-0.7560472469519183,0.6858098356563482,0.8922419547031994,-1.0706104759756916,-1.119760980510656,0.7841108447262773,0.8875526219949186,0.9807128628661355,0.7841108447262773,0.9217322574241781,0.7644506429122915,-1.0607803750686984,-0.937678395986071,-1.0607803750686984,-1.144110515032922,-1.0261493041490073,-1.1689114850456206,1.079013871936065,-1.0214599714407269,0.9512225601451567,0.7644506429122915,0.740101108390025,0.9072128238089047,-0.1702258643974778,-1.375343604092472,0.9020720556101924,1.187144981912987,-1.1885716868596063,-1.1001007786966703,-0.9723094669057624,-0.7363870451379323,1.1773148810059935,1.0200332664941072,-1.1590813841386278,-1.0163192032420145,-1.2620717259168373,0.8187419156459683,1.084154640134777,-1.0214599714407269,-1.0902706777896773,1.1333051446697417,0.7939409456332704,1.0298633674011,-1.0654697077769792,0.7939409456332704,-1.119760980510656,-0.8393773869161419,1.103814841948763,-0.9034987605568119,-0.859037588730128,-1.0359794050560005,-1.0706104759756916,-1.129591081417649,-0.15056566258349194,-1.218061989580585,-1.139421182324642,0.9119021565171853,0.9610526610521498,-1.1689114850456206,0.9512225601451567,0.7742807438192845,0.8529215510752277,-1.0509502741617056,-0.9671686987070499,-0.9624793659987695,-0.913328861463805,0.8922419547031994,0.941392459238164,-1.001799769626741,-1.2868726959295353,-1.1984017877665996,0.8529215510752277,-0.9919696687197482,-0.8786977905441137,-0.9966590014280289,-0.937678395986071,1.0350041355998123,0.9217322574241781,-0.8688676896371208,1.1922857501116992,-0.785537549672897,1.1333051446697417,0.5631592920641526,-1.2770425950225426,0.8136011474472561,-1.2573823932085568,-1.1492512832316348,-0.9428191641847836,-1.1001007786966703,0.7054700374703339,0.9217322574241781,1.039693468308093,1.182455649204706,-1.109930879603663,0.8136011474472561,-0.976998799614043,-0.28818707528139315,0.9807128628661355,-1.463814512255408,1.1234750437627488,0.8973827229019118,1.2559556882619372,0.9661934292508619,0.7597613102040109,-0.3078472770953791,1.0644944383207913,-0.5987656324400316,0.8725817528892135,1.1431352455767345,-1.001799769626741,-0.8051977514868829,-1.2868726959295353,-1.3065328977435213,0.9020720556101924,-1.208231888673592,0.7841108447262773,-1.0607803750686984,0.8824118537962066,-1.1590813841386278,-1.109930879603663,-1.2573823932085568,0.7644506429122915,-0.7167268433239465,-0.9671686987070499,0.7939409456332704,1.0888439728430577,1.6746653553974977,1.0546643374137983,-1.1787415859526134,-0.8936686596498191,1.2166352846339654,-1.0706104759756916,-1.1590813841386278,0.8627516519822206,0.8824118537962066,-1.0902706777896773,0.7054700374703339,1.0350041355998123,1.0003730646801217,0.8725817528892135,0.8234312483542489,1.0153439337858268,0.6614603011340819,-0.8786977905441137,1.556704144513583,0.7644506429122915,0.9020720556101924,0.8922419547031994,1.2461255873549444,1.655005153583512,-1.1932610195678872,-0.7363870451379323,-0.8936686596498191,1.039693468308093,-1.247552292301564,-1.139421182324642,0.8973827229019118,0.8430914501682346,-1.0902706777896773,1.049523569215086,-1.03129007234772,-0.8641783569288402,-1.0902706777896773,0.9119021565171853,0.9020720556101924,0.9708827619591428,0.941392459238164,-0.9919696687197482,-0.8051977514868829,-1.0359794050560005,-0.9821395678127552,-0.31767737800237167,1.4485730345366614,1.3102469609956138,-0.9475084968930642,1.0153439337858268,-0.6722656714972624,-0.8936686596498191,-0.9034987605568119,-0.43563858888628665,-0.7214161760322272,-0.38648808435132215,1.26578578916893,-0.9081880932650924,-0.711586075125234,1.1333051446697417,1.586194447234562,-1.03129007234772,1.0986740737500504,-1.001799769626741,0.9217322574241781,1.6451750526765196,0.695639936563341,0.9563633283438693,0.7302710074830322,-1.2573823932085568,0.7447904410983056,0.9807128628661355,-0.8936686596498191,-0.3471676807233502,0.7841108447262773,-0.9671686987070499,-0.7607365796601986,-1.1492512832316348,1.005513832878834,0.7742807438192845,0.8136011474472561,1.1674847800990007,0.8529215510752277,0.8037710465402633,-1.0902706777896773,0.8922419547031994,1.7041556581184774,0.8430914501682346,-0.9034987605568119,0.6563195329353697,0.5383583220514545,-0.9081880932650924,0.8529215510752277,1.182455649204706,-0.9526492650917764,-1.1244503132189365,1.576364346327569,-1.0359794050560005,0.8875526219949186,1.2512663555536567,0.7007807047620532,0.9708827619591428,-1.0654697077769792,-1.045809505962993,0.7644506429122915,-1.0411201732547128,-1.1787415859526134,-1.139421182324642,0.9610526610521498,-0.9329890632777907,-1.0706104759756916,1.0593536701220787,0.7546205420052984,-0.7560472469519183,-1.2770425950225426,0.7742807438192845,0.7546205420052984,-1.1787415859526134,-1.1984017877665996,0.8482322183669472,1.0200332664941072,0.8234312483542489,0.695639936563341,0.8037710465402633,0.9661934292508619,0.9217322574241781,0.7892516129249898,0.941392459238164,0.7644506429122915,-1.247552292301564,0.7841108447262773,-1.4539844113484148,-1.0902706777896773,-1.208231888673592,-0.976998799614043,-0.9278482950790783,-0.8838385587428261,-1.119760980510656,-1.1590813841386278,-1.0804405768826844,-0.8492074878231348,1.6156847499555407,0.8136011474472561,0.7990817138319827,-0.20954626802544904,1.5272138417926044,-0.8197171851021562,-1.0261493041490073,-0.8885278914511066,-0.8393773869161419,-0.19971616711845638,-1.2030911204748798,-0.8197171851021562,1.3397372637165927,-0.6231151669622976,-0.25869677256041373,-1.2227513222888655,1.7631362635604342,-0.913328861463805,0.9512225601451567,-1.001799769626741,-1.1001007786966703,-0.8740084578358333,1.1969750828199797,1.0593536701220787,-1.3065328977435213,-0.9231589623707978,-1.0804405768826844,-1.1984017877665996,-0.9919696687197482,0.8627516519822206,0.931562358331171,0.8529215510752277,-1.001799769626741,1.2461255873549444,-1.109930879603663,-0.8346880542078616,-1.109930879603663,1.1085041746570434,-0.9428191641847836,-1.139421182324642,1.187144981912987,0.7447904410983056,-1.1885716868596063,-1.1787415859526134,-0.8543482560218473,-1.0607803750686984,-0.48478909342125115,0.7546205420052984,-1.0064891023350215,1.005513832878834,-1.1984017877665996,0.8285720165529613,-1.03129007234772,0.9170429247158975,-1.0804405768826844,0.8384021174599543,1.3895924290947037,0.9956837319718409,0.7546205420052984,-0.8983579923580993,-1.001799769626741,1.2068051837269724,-1.1342804141259297,-0.9231589623707978,0.7054700374703339,0.9020720556101924,0.7546205420052984,0.8922419547031994,1.1773148810059935,1.1085041746570434,-1.237722191394571,-1.0902706777896773,1.1379944773780222,0.8529215510752277,0.8725817528892135,1.0102031655871144,0.8824118537962066,0.8430914501682346,-1.2573823932085568,-0.9526492650917764,-1.237722191394571,0.8627516519822206,-1.011629870533734,1.4328975045878096,0.9708827619591428,-0.8445181551148544,0.8922419547031994,0.9119021565171853,1.1773148810059935,-1.227892090487578,0.6071690284004049,-0.8150278523938757,-1.119760980510656,-1.0214599714407269,0.9708827619591428,0.8037710465402633,-0.859037588730128,0.931562358331171,0.9956837319718409,-0.8936686596498191,-0.9821395678127552,-1.075299808683972,0.931562358331171,1.772966364467427,-0.9919696687197482,-0.8150278523938757,0.7939409456332704,1.2264653855409584,-0.913328861463805,-1.0509502741617056,-1.0607803750686984,-1.129591081417649,0.7153001383773268,0.931562358331171,0.941392459238164,-1.0607803750686984,0.7054700374703339,-1.1492512832316348,0.7302710074830322,0.7546205420052984,0.7499312092970178,-0.3078472770953791,-0.3275074789093641,1.1136449428557558,0.6661496338423625,0.8627516519822206,1.079013871936065,-1.085129909590965,-1.1244503132189365,1.7139857590254697,-1.03129007234772,1.049523569215086,0.8234312483542489,-1.1001007786966703,0.9708827619591428,0.9708827619591428,1.039693468308093,0.695639936563341,1.2756158900759231,-0.9624793659987695,-1.1885716868596063,-1.0706104759756916,0.9905429637731286,0.9020720556101924,-1.3851737049994648,-1.0607803750686984,0.9807128628661355,-0.8543482560218473,1.0593536701220787,-1.237722191394571,-0.2292064698394355,0.9610526610521498,0.9610526610521498,0.85806231927394,0.9268730256228905,-1.085129909590965,0.6858098356563482,-1.2573823932085568,-1.2770425950225426,-1.218061989580585,-1.075299808683972,-1.129591081417649,1.049523569215086,-1.1001007786966703,1.157654679192008,-1.0706104759756916,-0.9475084968930642,0.8725817528892135,-1.109930879603663,-1.1885716868596063,-0.18005596530447113,-0.31767737800237167,-1.2522416250098443,0.7742807438192845,-0.8492074878231348,-0.9180181941720853,-0.9624793659987695,-0.5535997997702018,-0.4061482861653076,1.556704144513583,-0.7705666805671914,0.6221398975061101,0.8824118537962066,-0.9278482950790783,1.0546643374137983,1.1627954473907203,-0.9081880932650924,0.9170429247158975,0.9956837319718409,1.2905867591816282,-0.2685268734674072,1.772966364467427,0.9170429247158975,1.3895924290947037,1.1922857501116992,-0.4159783870723008,0.9217322574241781,0.7546205420052984,-1.129591081417649,0.9170429247158975,-0.8838385587428261,0.7546205420052984,0.941392459238164,0.8529215510752277,-1.119760980510656,1.1085041746570434,-1.237722191394571,-1.0411201732547128,-0.8051977514868829,0.941392459238164,-0.9821395678127552,0.8037710465402633,0.7841108447262773,-1.0411201732547128,-1.208231888673592,0.931562358331171,0.9512225601451567,-1.001799769626741,0.9119021565171853,1.0200332664941072,-1.1342804141259297,-1.1787415859526134,-0.20954626802544904,-0.3373375798163573,1.5272138417926044,0.7742807438192845,-0.6479161369749961,-1.1539406159399153,-0.8492074878231348,0.9072128238089047,0.9661934292508619,-1.0556396068699863,1.0448342365068053,1.0350041355998123,0.9268730256228905,-1.247552292301564,1.655005153583512,0.8725817528892135,-1.2573823932085568,-0.4258084879792937,-0.8983579923580993,0.8332613492612418,-1.1984017877665996,1.049523569215086,0.8627516519822206,1.039693468308093,-1.1689114850456206,-0.8543482560218473,-1.129591081417649,0.8725817528892135,-1.001799769626741,0.9119021565171853,0.8529215510752277,0.8529215510752277,-0.9034987605568119,-0.2980171761883857,1.0593536701220787,0.7695914111110038,0.7841108447262773,1.7631362635604342,-1.045809505962993,-1.1244503132189365,-1.0804405768826844,0.976023530157855,-0.3668278825373362,1.1333051446697417,1.1136449428557558,-0.8492074878231348,-0.9966590014280289,1.6255148508625334,-0.750906478753206,-0.3471676807233502,0.8529215510752277,1.1183342755640366,-1.4441543104414223,0.8973827229019118,1.6648352544905054,0.9020720556101924,-0.9919696687197482,-1.1590813841386278,1.1085041746570434,1.285445990982916,-1.0607803750686984,-1.0804405768826844,-1.03129007234772,-1.26721249411555,-1.1001007786966703,-1.218061989580585,-0.9919696687197482,0.931562358331171,0.9807128628661355,0.9119021565171853,0.9708827619591428,-1.208231888673592,1.0593536701220787,-0.8740084578358333,0.931562358331171,0.7742807438192845,0.7841108447262773,0.9858536310648479,-1.075299808683972,0.8136011474472561,1.3397372637165927,-1.0064891023350215,-1.144110515032922,-0.6872365406029678,-0.8838385587428261,1.1333051446697417,-1.1047901114049508,-1.1787415859526134,-0.4159783870723008,0.7499312092970178,-1.0261493041490073,-1.129591081417649,0.9807128628661355,1.1234750437627488,-0.3275074789093641,1.0546643374137983,0.8824118537962066,-0.9231589623707978,0.9119021565171853,1.157654679192008,-0.785537549672897,-1.129591081417649,-0.9821395678127552,-1.119760980510656,0.695639936563341,1.3247663946108879,0.9217322574241781,0.9020720556101924,-0.9624793659987695,1.069183771029072,-1.1492512832316348,1.1379944773780222,-1.1492512832316348,-1.2967027968365286,1.0102031655871144,-1.139421182324642,-0.8641783569288402,-1.139421182324642,0.9020720556101924,0.8973827229019118,-0.9081880932650924,-1.0706104759756916,0.9020720556101924,0.6858098356563482,0.7644506429122915,-1.085129909590965,-1.119760980510656,-1.1787415859526134,-0.8197171851021562,0.931562358331171,-0.5044492952352372,0.85806231927394,-1.0607803750686984,-1.075299808683972,-0.9428191641847836,0.8922419547031994,0.8430914501682346,-0.8492074878231348,0.9807128628661355,-0.9868289005210356,1.6156847499555407,1.723815859932463,1.5272138417926044,0.7841108447262773,-0.21937636893244286,-0.6282559351610104,1.3306118236527462,-0.9573385978000569,1.1333051446697417,1.0939847410417698,-0.7705666805671914,1.0003730646801217,-0.9475084968930642,0.8332613492612418,-1.129591081417649,0.9807128628661355,0.7742807438192845,-1.218061989580585,0.8430914501682346,1.157654679192008,-1.1001007786966703,-1.237722191394571,-0.8740084578358333,0.7251302392843195,1.1674847800990007,0.6563195329353697,1.0003730646801217,1.069183771029072,1.1674847800990007,0.9708827619591428,-1.208231888673592,1.0003730646801217,0.6268292302143905,-1.0359794050560005,1.074324539227784,-0.9573385978000569,0.9072128238089047,0.9072128238089047,0.941392459238164,-1.03129007234772,-1.2030911204748798,-1.001799769626741,0.9119021565171853,0.5088680193304755,0.7546205420052984,0.931562358331171,-1.208231888673592,0.8725817528892135,-1.321052331358795,-1.2868726959295353,0.6759797347493552,-0.9821395678127552,-1.0706104759756916,0.9807128628661355,0.6268292302143905,0.8332613492612418,0.8037710465402633,-0.976998799614043,-1.119760980510656,0.9610526610521498,1.7533061626534419,-1.0607803750686984,-0.7312462769392198,-1.001799769626741,-1.0706104759756916,0.6712904020410747,0.9119021565171853,1.0546643374137983,-0.8885278914511066,1.0986740737500504,-0.9868289005210356,-1.0411201732547128,-1.1984017877665996,0.8234312483542489,-0.9329890632777907,1.0003730646801217,0.9119021565171853,-1.001799769626741,0.5186981202374685,-1.139421182324642,0.8725817528892135,-0.785537549672897,-1.2573823932085568,-0.913328861463805,1.074324539227784,1.1773148810059935,-1.0411201732547128,0.8824118537962066,-1.0804405768826844,1.049523569215086,0.8332613492612418,0.7742807438192845,0.5186981202374685,1.0102031655871144,1.103814841948763,-0.750906478753206,0.7054700374703339,1.2461255873549444,-0.48478909342125115,-0.5142793961422297,0.9858536310648479,-0.8983579923580993,0.740101108390025,0.8037710465402633,-0.9329890632777907,-0.9329890632777907,-0.8786977905441137,-1.208231888673592,-1.119760980510656,-1.03129007234772,-1.0902706777896773,0.9956837319718409,0.9610526610521498,0.7841108447262773,-1.139421182324642,-0.25869677256041373,0.8627516519822206,0.7742807438192845,0.49903791842348283,-1.011629870533734,-1.139421182324642,-0.9919696687197482,0.8824118537962066,0.7644506429122915,0.8824118537962066,-0.7462171460449253,0.8332613492612418,-0.25869677256041373,1.0153439337858268,-1.1539406159399153,-0.31767737800237167,-1.218061989580585,-0.8393773869161419,1.1431352455767345,-1.0163192032420145,1.26578578916893,-0.8983579923580993,1.3004168600886212,-0.3668278825373362,-1.4048339068134503,1.0200332664941072,0.8430914501682346,-1.03129007234772,-0.9231589623707978,0.7447904410983056,0.8824118537962066,0.7644506429122915,-1.1492512832316348,-0.9919696687197482,0.6759797347493552,0.7742807438192845,0.7841108447262773,-1.0706104759756916,-1.011629870533734,1.1085041746570434,0.7644506429122915,-0.913328861463805,1.079013871936065,0.6858098356563482,-1.0411201732547128,-1.0902706777896773,0.8627516519822206,-1.129591081417649,0.7447904410983056,-1.03129007234772,-0.9821395678127552,0.695639936563341,0.7742807438192845,0.9512225601451567,0.9020720556101924,-1.0411201732547128,0.8430914501682346,0.8136011474472561,0.8234312483542489,0.7939409456332704,-1.208231888673592,0.8332613492612418,-1.2573823932085568,-0.7560472469519183,0.9119021565171853,-0.6715610106541168,0.9217322574241781,0.931562358331171,0.7546205420052984,-0.8445181551148544,0.7644506429122915,0.7153001383773268,-1.463814512255408,0.8922419547031994,1.157654679192008,0.9119021565171853,-1.0214599714407269,-1.129591081417649,-1.1984017877665996,-1.129591081417649,-0.9526492650917764,0.9020720556101924,0.8136011474472561,0.9020720556101924,-1.434324209534429,0.941392459238164,-1.0949600104979575,0.8529215510752277,-1.26721249411555,1.0593536701220787,0.931562358331171,0.8529215510752277,0.8529215510752277,1.084154640134777,-0.9034987605568119,0.9119021565171853,-0.9329890632777907,0.7153001383773268,0.8430914501682346,0.941392459238164,-1.2770425950225426,-1.218061989580585,0.8037710465402633,-1.2967027968365286,1.147824578285015,0.7546205420052984,-1.0607803750686984,1.079013871936065,-1.0607803750686984,-1.0163192032420145,0.7990817138319827,-0.356997781630343,1.1281643764710292,0.9119021565171853,-1.208231888673592,1.3542566973318664,-1.365513503185479,0.8136011474472561,0.7939409456332704,1.0644944383207913,0.8529215510752277,0.8529215510752277,0.7939409456332704,0.7990817138319827,-1.1001007786966703,-1.0509502741617056,0.7302710074830322,-1.0214599714407269,-0.8838385587428261,1.079013871936065,1.049523569215086,0.9610526610521498,0.8332613492612418,0.9905429637731286,1.074324539227784,-0.9329890632777907,0.8187419156459683,1.157654679192008,0.7841108447262773,-1.0949600104979575,-1.011629870533734,1.074324539227784,0.976023530157855,0.9807128628661355,-0.5044492952352372,-0.8786977905441137,-0.5437696988632088,-0.6813911115611095,-1.001799769626741,-0.9081880932650924,1.7041556581184774,0.941392459238164,-0.7607365796601986,0.7644506429122915,-0.9034987605568119,-1.1001007786966703,0.8187419156459683,-1.0706104759756916,-0.8936686596498191,0.9807128628661355,-1.1984017877665996,-1.1492512832316348,0.8922419547031994,0.9367031265298833,-0.8885278914511066,-0.8051977514868829,-0.8248579533008689,-1.0261493041490073,1.2021158510186918,-0.5535997997702018,1.6746653553974977,0.8725817528892135,-0.5784007697828998,-1.2424115241028517,0.6563195329353697,-1.085129909590965,-0.25869677256041373,-1.085129909590965,0.8627516519822206,1.2264653855409584,-0.356997781630343,-1.0064891023350215,-1.0261493041490073,0.7546205420052984,1.772966364467427,1.074324539227784,-0.8000569832881703,-0.5437696988632088,1.221776052832678,-1.119760980510656,0.7644506429122915,-1.1492512832316348,-0.9329890632777907,1.1281643764710292,-0.9723094669057624,1.0102031655871144,0.6858098356563482,-1.0214599714407269,0.8234312483542489,0.695639936563341,-0.9624793659987695,-1.03129007234772,0.9610526610521498,0.8430914501682346,0.5088680193304755,-0.667576338788982,0.7546205420052984,0.9020720556101924,-1.0804405768826844,1.049523569215086,-0.9526492650917764,-0.9428191641847836,1.049523569215086,1.2362954864479516,-0.8543482560218473,-0.9919696687197482,-1.001799769626741,0.6268292302143905,0.9610526610521498,-0.8492074878231348,0.8430914501682346,1.5468740436065904,0.9563633283438693,0.7447904410983056,0.8824118537962066,-1.1244503132189365,-1.1539406159399153,-1.2817319277308232,-0.6919258733112486,-0.5437696988632088,0.8973827229019118,0.7742807438192845,-0.31767737800237167,-1.144110515032922,0.8973827229019118,0.6909506038550604,-1.0509502741617056,0.9268730256228905,-1.2129212213818727,-1.1492512832316348,-0.8000569832881703,1.074324539227784,1.074324539227784,-0.7803967814741847,1.182455649204706,-1.0804405768826844,0.8136011474472561,0.8922419547031994,-1.03129007234772,0.8234312483542489,-1.2868726959295353,0.8627516519822206,-1.1689114850456206,0.9807128628661355,0.8430914501682346,1.0200332664941072,0.7644506429122915,-1.0607803750686984,0.9512225601451567,-0.785537549672897,-1.218061989580585,-1.345853301371493,0.9072128238089047,0.9905429637731286,-0.9329890632777907,1.0546643374137983,-1.0509502741617056,-0.3668278825373362,1.0644944383207913,-0.8000569832881703,0.6811205029480675,-0.9278482950790783,1.7041556581184774,-0.8295472860091488,1.1431352455767345,-0.24886667165342102,0.8136011474472561,-0.3668278825373362,-1.119760980510656,0.8136011474472561,0.9708827619591428,0.7251302392843195,0.9170429247158975,0.8037710465402633,-1.1590813841386278,-1.4244941086274365,-1.2770425950225426,1.4485730345366614,0.7990817138319827,-1.3112222304518022,-1.1146202123119435,0.7939409456332704,-1.0902706777896773,-0.667576338788982,0.8725817528892135,0.8725817528892135,-1.011629870533734,-1.1001007786966703,0.6858098356563482,-1.227892090487578,-1.1590813841386278,-1.0064891023350215,0.8922419547031994,-1.0804405768826844,-1.03129007234772,-1.2770425950225426,0.8332613492612418,0.7251302392843195,-1.208231888673592,-1.03129007234772,1.812286768095399,-1.144110515032922,-1.208231888673592,-1.173600817753901,-1.144110515032922,-1.0556396068699863,0.941392459238164,-1.1590813841386278,-1.2770425950225426,1.049523569215086,-0.7658773478589112,0.9807128628661355,-1.1984017877665996,-1.1689114850456206,-0.9081880932650924,1.1627954473907203,-0.2292064698394355,-1.109930879603663,-0.7214161760322272,1.0350041355998123,-0.9475084968930642,1.103814841948763,1.1627954473907203,0.7251302392843195,-0.5437696988632088,-1.173600817753901,0.8384021174599543,-0.701755974218241,0.8482322183669472,-1.085129909590965,0.7302710074830322,-1.144110515032922,-0.7214161760322272,-1.0556396068699863,-0.3373375798163573,0.9956837319718409,1.0350041355998123,1.1379944773780222,-1.2620717259168373,1.069183771029072,-1.0654697077769792,-1.1984017877665996,0.9661934292508619,1.5173837408856115,-0.9428191641847836,0.7054700374703339,0.8627516519822206,-1.26721249411555,-1.1885716868596063,-1.03129007234772,0.7939409456332704,-1.3261930995575069,0.8332613492612418,1.039693468308093,-0.9034987605568119,1.069183771029072,-0.9231589623707978,-1.1689114850456206,-1.1787415859526134,-1.237722191394571,-1.26721249411555,0.8332613492612418,0.941392459238164,-1.237722191394571,0.6858098356563482,-1.473644613162401,0.8234312483542489,-1.4048339068134503,-1.247552292301564,-0.9329890632777907,-1.0902706777896773,-1.0607803750686984,0.9807128628661355,-0.913328861463805,0.7841108447262773,0.941392459238164,1.1281643764710292,0.9119021565171853,1.0888439728430577,-1.119760980510656,-1.0804405768826844,0.8824118537962066,1.069183771029072,0.6858098356563482,0.7546205420052984,-1.1001007786966703,0.9217322574241781,-1.1984017877665996,0.8725817528892135,0.8627516519822206,-1.1492512832316348,-1.1885716868596063,0.8922419547031994,1.0593536701220787,0.7054700374703339,1.0003730646801217,0.7447904410983056,-0.8445181551148544,0.7841108447262773,-1.119760980510656,1.0888439728430577,0.8529215510752277,-1.227892090487578,0.941392459238164,1.1281643764710292,0.8234312483542489,0.8725817528892135,-1.0411201732547128,-0.9526492650917764,-1.4048339068134503,0.8234312483542489,-1.1885716868596063,-1.011629870533734,-1.0214599714407269,-1.0706104759756916,0.9119021565171853,0.8824118537962066,-1.109930879603663,0.7742807438192845,0.49903791842348283,0.8627516519822206,0.7546205420052984,-0.9919696687197482,1.26578578916893,-1.1590813841386278,0.7644506429122915,1.039693468308093,0.6268292302143905,1.187144981912987,0.8136011474472561,0.8922419547031994,0.8136011474472561,-1.247552292301564,0.9217322574241781,0.9512225601451567,-1.0804405768826844,-1.1001007786966703,1.049523569215086,0.9610526610521498,0.8824118537962066,0.8529215510752277,0.9807128628661355,0.9610526610521498,0.8627516519822206,1.0003730646801217,1.1281643764710292,0.7546205420052984,-1.1001007786966703,0.8136011474472561,0.8430914501682346,-1.03129007234772,1.049523569215086,0.9708827619591428,0.8430914501682346,1.0200332664941072,1.0200332664941072,0.7546205420052984,-1.0509502741617056,0.9217322574241781,0.8529215510752277,0.7742807438192845,1.157654679192008,0.7841108447262773,0.48920781751648995,0.8725817528892135,0.8529215510752277,0.8332613492612418,0.8725817528892135,0.8332613492612418,-1.208231888673592,0.8824118537962066,1.079013871936065,1.1379944773780222,0.8037710465402633,0.9512225601451567,0.8627516519822206,-1.129591081417649,0.8529215510752277,-1.119760980510656,0.941392459238164,1.0102031655871144,0.7742807438192845,-1.1984017877665996,-1.139421182324642,-0.6872365406029678,1.0888439728430577,-1.0607803750686984,-1.463814512255408,-1.001799769626741,-1.247552292301564,-0.9526492650917764,0.7447904410983056,0.7153001383773268,1.094689401884916,0.7644506429122915,0.8037710465402633,1.26578578916893,0.9905429637731286,0.8725817528892135,0.9807128628661355,-1.119760980510656,-1.129591081417649,-1.1001007786966703,-1.2868726959295353,-1.1787415859526134,0.941392459238164,0.8529215510752277,0.7251302392843195,1.1183342755640366,-0.9329890632777907,0.7153001383773268,0.8824118537962066,0.9807128628661355,-1.011629870533734,0.8037710465402633,0.7742807438192845,0.8529215510752277,0.7939409456332704,1.1183342755640366,1.0102031655871144,0.5285282211444617,-0.8248579533008689,0.7939409456332704,-0.9624793659987695,0.8627516519822206,1.2166352846339654,0.5285282211444617,0.49903791842348283,0.7939409456332704,0.931562358331171,0.9119021565171853,-1.2770425950225426,0.9512225601451567,0.9020720556101924,0.8824118537962066,-1.227892090487578,-0.7560472469519183,0.941392459238164,-1.26721249411555,-1.1787415859526134,0.6858098356563482,0.9610526610521498,-1.109930879603663,-0.9428191641847836,0.7644506429122915,0.7251302392843195,1.157654679192008,-0.8641783569288402,-0.9624793659987695,1.1281643764710292,-0.9919696687197482,0.8725817528892135,0.8037710465402633,-1.218061989580585,-1.119760980510656,0.9119021565171853,0.7546205420052984,-0.7658773478589112,0.8430914501682346,1.0003730646801217,0.8627516519822206,-0.8641783569288402,0.8627516519822206,-1.1984017877665996,0.9610526610521498,0.7447904410983056,-1.0804405768826844,0.931562358331171,0.9610526610521498,-0.913328861463805,-1.1001007786966703,-1.247552292301564,1.0200332664941072,-1.129591081417649,-1.0804405768826844,-1.0214599714407269,-1.1590813841386278,-0.9624793659987695,0.9119021565171853,-1.1590813841386278,0.6858098356563482,-0.9723094669057624,0.7939409456332704,0.6858098356563482,1.2756158900759231,-1.1984017877665996,0.8529215510752277,-1.208231888673592,0.9905429637731286,0.6464894320283764,-0.859037588730128,-1.2770425950225426,0.8332613492612418,0.7054700374703339,0.8136011474472561,-0.9919696687197482,-1.0607803750686984,0.8529215510752277,1.0003730646801217,1.049523569215086,0.7546205420052984,0.9119021565171853,0.8922419547031994,0.8430914501682346,-1.237722191394571,1.0298633674011,1.0888439728430577,0.7153001383773268,0.8922419547031994,-1.139421182324642,0.8824118537962066,-1.208231888673592,0.9708827619591428,0.8725817528892135,-1.0509502741617056,-0.4749589925142577,-1.1885716868596063,-1.1885716868596063,0.7251302392843195,0.7349603401913126,0.7644506429122915,1.0986740737500504,0.9807128628661355,-1.0214599714407269,0.7153001383773268,0.9708827619591428,0.7349603401913126,1.0986740737500504,-1.1001007786966703,0.6366593311213837,-1.0804405768826844,-1.1787415859526134,-0.9526492650917764,0.6759797347493552,0.7939409456332704,0.8627516519822206,-0.8740084578358333,-1.0509502741617056,0.8430914501682346,-0.7462171460449253,0.9905429637731286,-1.03129007234772,0.8430914501682346,0.8627516519822206,-0.8150278523938757,-1.227892090487578,-1.0804405768826844,0.8332613492612418,0.7251302392843195,-1.109930879603663,-1.139421182324642,1.0102031655871144,0.8234312483542489,-1.119760980510656,-1.1885716868596063,-1.237722191394571,0.9217322574241781,-1.1590813841386278,0.7939409456332704,0.8234312483542489,-0.9428191641847836,0.7939409456332704,1.0102031655871144,-1.1689114850456206,0.8332613492612418,-1.208231888673592,-1.139421182324642,1.1379944773780222,0.7251302392843195,-1.0607803750686984,0.7251302392843195,0.9512225601451567,1.157654679192008,1.7631362635604342,0.7644506429122915,0.7742807438192845,1.1922857501116992,0.7349603401913126,-1.1787415859526134,-1.434324209534429,0.7841108447262773,1.049523569215086,-1.3163629986505143,-0.7462171460449253,0.6661496338423625,1.049523569215086,0.7153001383773268,-1.1787415859526134,0.8725817528892135,-1.001799769626741,0.8824118537962066,-1.119760980510656,1.1674847800990007,0.9217322574241781,-1.247552292301564,0.9119021565171853,0.6811205029480675,1.157654679192008,0.7644506429122915,-1.218061989580585,0.8234312483542489,-1.2868726959295353,0.8627516519822206,0.8332613492612418,0.9217322574241781,1.1922857501116992,1.1529653464837275,-1.2573823932085568,0.6661496338423625,-1.208231888673592,0.9119021565171853,-1.0509502741617056,0.6858098356563482,0.7447904410983056,0.7447904410983056,-0.750906478753206,-1.1001007786966703,0.6858098356563482,0.9512225601451567,-1.2770425950225426,0.7644506429122915,1.039693468308093,-1.1001007786966703,0.8430914501682346,-1.03129007234772,-0.9671686987070499,-1.129591081417649,-1.3163629986505143,0.9217322574241781,-1.0902706777896773,1.4780633372576397,-1.0902706777896773,0.7251302392843195,0.941392459238164,-1.218061989580585,-1.0607803750686984,0.9020720556101924,0.7349603401913126,0.695639936563341,0.8037710465402633,0.8234312483542489,0.6661496338423625,1.1183342755640366,0.9020720556101924,0.7841108447262773,1.069183771029072,-0.8543482560218473,-0.8248579533008689,0.931562358331171,-1.129591081417649,-1.473644613162401,-0.7757074487659039,0.7251302392843195,-1.0509502741617056,-0.8346880542078616,0.9020720556101924,-1.227892090487578,0.8136011474472561,1.079013871936065,-0.913328861463805,0.9512225601451567,-0.9821395678127552,1.26578578916893,1.2709265573676423,0.7349603401913126,0.9217322574241781,0.7742807438192845,0.9610526610521498,0.8824118537962066,-1.227892090487578,-1.26721249411555,-1.109930879603663,-1.1590813841386278,-0.9034987605568119,-1.1689114850456206,1.0593536701220787,1.039693468308093,0.9217322574241781,-1.1001007786966703,1.147824578285015,1.6156847499555407,-0.7607365796601986,-0.7902268823811773,1.1085041746570434,-1.0411201732547128,0.8824118537962066,-1.0902706777896773,0.8136011474472561,-1.0804405768826844,-1.1885716868596063,0.9020720556101924,-1.0706104759756916,-1.218061989580585,-1.03129007234772,-1.365513503185479,-1.129591081417649,0.8627516519822206,0.9020720556101924,0.9020720556101924,-0.8936686596498191,-0.9624793659987695,-0.9919696687197482,-0.8936686596498191,0.941392459238164,-1.26721249411555,-1.011629870533734,-1.463814512255408,-0.6427753687762837,0.8725817528892135,-0.28818707528139315,1.2119459519256848,0.8187419156459683,1.2021158510186918,-1.1689114850456206,1.6451750526765196,-1.0064891023350215,-1.0359794050560005,-1.237722191394571,1.3593974655305783,0.9858536310648479,-0.9180181941720853,1.231606153739671,0.740101108390025,-1.0261493041490073,0.8777225210879258,0.8037710465402633,1.039693468308093,-0.859037588730128,-0.6224105061191523,0.9072128238089047,-0.9278482950790783,0.8037710465402633,1.1085041746570434,1.1281643764710292,1.1183342755640366,0.9119021565171853,-0.8346880542078616,-1.247552292301564,-1.139421182324642,-1.1590813841386278,-1.2817319277308232,-0.7953676505798899,-1.0411201732547128,0.7153001383773268,1.1379944773780222,-1.463814512255408,0.7939409456332704,1.1281643764710292,-0.4159783870723008,-1.0706104759756916,-1.0064891023350215,-1.0654697077769792,-1.0359794050560005,0.7546205420052984,-1.218061989580585,-0.9329890632777907,0.8678924201809329,0.7349603401913126,-1.227892090487578,0.8824118537962066,0.9217322574241781,-1.119760980510656,1.1379944773780222,0.9610526610521498,-1.0411201732547128,1.0200332664941072,0.941392459238164,1.7434760617464484,1.419082731815682,1.1183342755640366,0.7597613102040109,0.8627516519822206,-1.1689114850456206,-1.1689114850456206,0.8824118537962066,0.7546205420052984,-1.218061989580585,0.8627516519822206,-1.1885716868596063,-0.8983579923580993,-1.0902706777896773,0.9072128238089047,-1.1244503132189365,-1.163770716846908,0.7841108447262773,-1.1787415859526134,0.7644506429122915,-0.8786977905441137,0.8824118537962066,1.0939847410417698,0.695639936563341,0.7546205420052984,-1.129591081417649,-1.2573823932085568,-0.8346880542078616,-0.9081880932650924,-0.8983579923580993,0.7695914111110038,-0.9180181941720853,1.6302041835708134,1.005513832878834,1.0644944383207913,-0.9671686987070499,1.182455649204706,-1.075299808683972,0.9465332274368764,-0.8786977905441137,-0.976998799614043,0.7447904410983056,-1.0949600104979575,-0.7803967814741847,1.6353449517695267,1.147824578285015,-0.859037588730128,-1.1885716868596063,0.8922419547031994,0.8529215510752277,0.8922419547031994,-1.2573823932085568,-1.001799769626741,0.8529215510752277,0.7742807438192845,0.8824118537962066,-1.0214599714407269,-1.237722191394571,-0.8543482560218473,-1.1492512832316348,-1.1590813841386278,0.7349603401913126,-1.129591081417649,0.8037710465402633,0.9217322574241781,-0.8543482560218473,0.7447904410983056,-1.1787415859526134,-0.9966590014280289,0.8430914501682346,-1.139421182324642,1.0593536701220787,0.9708827619591428,0.9119021565171853,-1.0654697077769792,-0.4749589925142577,-0.859037588730128,-1.139421182324642,-0.8295472860091488,0.8234312483542489,0.9956837319718409,0.7546205420052984,-1.237722191394571,-0.9526492650917764,1.0298633674011,-1.1984017877665996,-0.6722656714972624,-1.03129007234772,0.8922419547031994,-1.0411201732547128,0.8725817528892135,0.7153001383773268,0.9512225601451567,-1.109930879603663,-1.139421182324642,1.6498643853847996,0.7447904410983056,0.7742807438192845,0.7054700374703339,-1.1492512832316348,-1.1590813841386278,-0.8838385587428261,-0.9526492650917764,0.8529215510752277,-1.4146640077204435,-0.8543482560218473,0.7644506429122915,1.039693468308093,-1.1492512832316348,0.9020720556101924,0.8332613492612418,0.931562358331171,0.9905429637731286,0.9217322574241781,0.6858098356563482,0.9708827619591428,0.7644506429122915,-1.144110515032922,-0.6224105061191523,0.9905429637731286,-1.0706104759756916,0.7742807438192845,-1.0509502741617056,-0.7953676505798899,-0.9526492650917764,1.1281643764710292,-1.3065328977435213,-1.0902706777896773,-1.0804405768826844,0.7644506429122915,-1.1984017877665996,-1.3950038059064576,0.7742807438192845,-1.0706104759756916,-1.0804405768826844,-1.1885716868596063,-1.0804405768826844,0.9708827619591428,-1.144110515032922,1.1234750437627488,0.6268292302143905,0.931562358331171,0.48920781751648995,0.9268730256228905,-0.7214161760322272,-0.8098870841951634,-0.976998799614043,1.7827964653744202,0.9807128628661355,0.7892516129249898,-0.356997781630343,0.6169991293073976,-1.218061989580585,-0.9231589623707978,-0.8936686596498191,-0.39631818525831536,1.039693468308093,-1.1590813841386278,0.8037710465402633,-1.0706104759756916,0.8136011474472561,-0.9231589623707978,-0.9231589623707978,1.3247663946108879,0.5973389274934119,-1.237722191394571,0.6169991293073976,1.3542566973318664,-1.0411201732547128,0.8332613492612418,-1.119760980510656,1.0298633674011,1.069183771029072,-1.1885716868596063,-0.8445181551148544,-0.9723094669057624,0.7939409456332704,-1.3065328977435213,-1.0804405768826844,0.8922419547031994,-1.1885716868596063,-1.237722191394571,-1.129591081417649,-0.913328861463805,0.7251302392843195,0.931562358331171,-1.0804405768826844,0.6909506038550604,-1.0804405768826844,0.7939409456332704,-0.711586075125234,-0.9671686987070499,0.8037710465402633,0.931562358331171,0.941392459238164,-0.9966590014280289,0.8627516519822206,-1.1885716868596063,0.941392459238164,0.8136011474472561,-1.1984017877665996,0.7939409456332704,-1.237722191394571,-0.8543482560218473,1.069183771029072,0.8430914501682346,0.9119021565171853,0.9708827619591428,0.8725817528892135,0.9119021565171853,-1.1984017877665996,0.7153001383773268,-1.1689114850456206,-1.2573823932085568,0.6268292302143905,1.069183771029072,0.8136011474472561,0.8234312483542489,-1.1001007786966703,0.7742807438192845,-0.9428191641847836,0.9708827619591428,0.9807128628661355,-1.1787415859526134,-0.9723094669057624,-0.9821395678127552,-0.9231589623707978,-1.119760980510656,-1.0804405768826844,0.8234312483542489,1.1183342755640366,-1.0706104759756916,0.7251302392843195,0.7349603401913126,-1.3065328977435213,-0.937678395986071,-0.8248579533008689,0.9119021565171853,0.7644506429122915,-0.8740084578358333,-1.0804405768826844,-1.109930879603663,-1.109930879603663,1.0298633674011,0.7742807438192845,0.7841108447262773,0.8234312483542489,0.7742807438192845,-1.1492512832316348,0.7939409456332704,0.6811205029480675,0.7939409456332704,0.9119021565171853,-0.9966590014280289,0.6268292302143905,-1.208231888673592,0.7054700374703339,-1.1001007786966703,1.2952760918899087,1.2756158900759231,1.0102031655871144,0.9119021565171853,0.7794215120179967,-1.1834309186608938,-1.1590813841386278,0.7349603401913126,-0.8838385587428261,1.1529653464837275,-1.0214599714407269,1.4977235390716255,-1.1787415859526134,0.695639936563341,1.0153439337858268,0.7546205420052984,0.9956837319718409,1.1281643764710292,0.8234312483542489,-1.1984017877665996,0.8384021174599543,0.7251302392843195,-1.2573823932085568,1.049523569215086,-0.7902268823811773,-1.434324209534429,0.8136011474472561,-1.1787415859526134,-0.9526492650917764,0.5973389274934119,0.9708827619591428,-0.976998799614043,-0.8492074878231348,-1.1492512832316348,-0.8838385587428261,-1.139421182324642,0.931562358331171,0.931562358331171,-0.8197171851021562,0.8529215510752277,0.7742807438192845,0.9020720556101924,0.5973389274934119,-0.859037588730128,-1.045809505962993,0.7742807438192845,0.8037710465402633,0.5580185238654404,1.069183771029072,-1.001799769626741,-0.913328861463805,0.8529215510752277,0.976023530157855,-1.119760980510656,0.8037710465402633,1.049523569215086,0.8187419156459683,0.931562358331171,0.7939409456332704,0.8037710465402633,0.7546205420052984,0.7939409456332704,-1.03129007234772,-0.4159783870723008,-1.208231888673592,-0.9231589623707978,0.5186981202374685,1.3640867982388594,0.7644506429122915,-1.129591081417649,1.079013871936065,0.7742807438192845,1.147824578285015,-1.139421182324642,-1.0064891023350215,-1.129591081417649,-1.011629870533734,1.172625548297713,1.074324539227784,1.6648352544905054,-1.2424115241028517,-0.9180181941720853,-0.9278482950790783,-1.1342804141259297,-1.1047901114049508,-0.4552987907002722,-1.2030911204748798,0.8973827229019118,-0.7902268823811773,-0.9966590014280289,-1.0949600104979575,1.1333051446697417,0.8678924201809329,-0.8346880542078616,-0.2685268734674072,0.9170429247158975,-1.0064891023350215,0.8922419547031994,-1.0509502741617056,-1.0902706777896773,-0.9329890632777907,0.8332613492612418,-1.03129007234772,-1.0214599714407269,0.8136011474472561,1.0986740737500504,-0.9034987605568119,0.8725817528892135,0.48920781751648995,0.5186981202374685,0.7546205420052984,0.8430914501682346,-1.3950038059064576,0.8430914501682346,0.7447904410983056,0.7742807438192845,-1.075299808683972,1.0200332664941072,-0.9723094669057624,-1.045809505962993,-0.8885278914511066,-1.27190182682383,1.074324539227784,-0.4749589925142577,-1.0359794050560005,1.0350041355998123,1.6746653553974977,-1.1539406159399153,-0.9573385978000569,1.103814841948763,1.0644944383207913,-0.6624355705902695,-0.7607365796601986,-0.9966590014280289,0.9367031265298833,-0.937678395986071,-0.8000569832881703,-1.163770716846908,-0.8485028269799882,0.6563195329353697,0.6563195329353697,0.931562358331171,0.8529215510752277,-0.9231589623707978,0.8725817528892135,0.7054700374703339,0.7251302392843195,0.7251302392843195,-1.4441543104414223,1.1529653464837275,1.103814841948763,-0.8492074878231348,1.0350041355998123,-1.0064891023350215,-0.937678395986071,-1.0261493041490073,1.0350041355998123,-0.9573385978000569,-0.8688676896371208,-1.0949600104979575,1.2905867591816282,0.9956837319718409,1.7926265662814134,0.7447904410983056,-1.0804405768826844,-1.208231888673592,0.8725817528892135,-1.0902706777896773,-1.4048339068134503,0.9512225601451567,0.6909506038550604,-0.9919696687197482,0.9119021565171853,1.1085041746570434,-0.785537549672897,0.8627516519822206,-1.1492512832316348,-0.7068967424169535,0.8725817528892135,-1.139421182324642,1.1773148810059935,-0.8346880542078616,0.9119021565171853,-1.0607803750686984,-1.4146640077204435,1.0102031655871144,1.0003730646801217,1.069183771029072,0.8922419547031994,-0.913328861463805,-0.8641783569288402,-1.1590813841386278,0.7153001383773268,1.0003730646801217,0.8529215510752277,1.0298633674011,1.1085041746570434,-1.0411201732547128,-0.9231589623707978,-1.0411201732547128,1.069183771029072,-1.1984017877665996,0.6169991293073976,0.6464894320283764,-0.8150278523938757,-1.1001007786966703,-1.0706104759756916,0.7939409456332704,-0.9919696687197482,0.9610526610521498,1.0003730646801217,1.0200332664941072,0.9119021565171853,-0.8936686596498191,0.9708827619591428,0.8136011474472561,0.7742807438192845,-0.8150278523938757,0.7447904410983056,0.9020720556101924,0.8824118537962066,0.9807128628661355,0.931562358331171,-1.1984017877665996,0.5088680193304755,-0.8248579533008689,0.7349603401913126,0.9610526610521498,-1.2573823932085568,0.8529215510752277,-0.8936686596498191,0.7742807438192845,-1.0607803750686984,-0.7658773478589112,1.0888439728430577,0.8725817528892135,0.6071690284004049,-1.1984017877665996,0.8037710465402633,0.7251302392843195,1.1281643764710292,0.931562358331171,-0.8346880542078616,0.6759797347493552,-1.119760980510656,1.0593536701220787,-1.1787415859526134,0.9119021565171853,-1.1689114850456206,0.7251302392843195,-0.8543482560218473,-1.0411201732547128,0.9512225601451567,-1.1001007786966703,1.049523569215086,1.157654679192008,-1.1689114850456206,0.8725817528892135,-1.227892090487578,1.3247663946108879,-0.9428191641847836,-1.208231888673592,0.7251302392843195,-1.0804405768826844,-0.8838385587428261,0.8136011474472561,0.9119021565171853,0.9119021565171853,1.079013871936065,1.079013871936065,0.7251302392843195,-0.9919696687197482,0.7447904410983056,-1.1984017877665996,0.9119021565171853,-1.3851737049994648,-1.1492512832316348,1.0102031655871144,-0.976998799614043,-1.03129007234772,-1.0064891023350215,0.8430914501682346,0.8037710465402633,1.0986740737500504,1.0003730646801217,0.8529215510752277,-1.2573823932085568,0.8725817528892135,0.8627516519822206,-1.1492512832316348,0.8922419547031994,0.8529215510752277,-1.463814512255408,0.49903791842348283,0.9708827619591428,-1.0411201732547128,0.9610526610521498,0.9708827619591428,-1.0902706777896773,-1.2573823932085568,-1.0804405768826844,-0.7953676505798899,0.9708827619591428,0.7153001383773268,0.8234312483542489,0.8430914501682346,0.8725817528892135,0.9905429637731286,0.9020720556101924,0.7939409456332704,0.8430914501682346,-1.237722191394571,0.8725817528892135,0.9020720556101924,-1.0706104759756916,0.9020720556101924,0.7153001383773268,0.8234312483542489,-0.8051977514868829,0.6366593311213837,-0.8051977514868829,0.9217322574241781,-1.2770425950225426,0.8136011474472561,-1.139421182324642,0.9807128628661355,0.8529215510752277,0.7153001383773268,-1.119760980510656,1.0593536701220787,0.7447904410983056,0.8037710465402633,0.7447904410983056,0.9610526610521498,0.8725817528892135,1.1773148810059935,-1.1001007786966703,0.7054700374703339,0.9217322574241781,-0.7265569442309395,-1.1984017877665996,0.8136011474472561,-1.218061989580585,0.7251302392843195,-0.8150278523938757,0.8529215510752277,0.8332613492612418,-1.1787415859526134,0.8725817528892135,1.0003730646801217,0.8725817528892135,-1.4048339068134503,0.9268730256228905,1.0298633674011,1.039693468308093,0.8037710465402633,-1.0804405768826844,1.0986740737500504,1.4780633372576397,0.8037710465402633,0.931562358331171,-0.4061482861653076,0.7153001383773268,-1.119760980510656,0.6661496338423625,-0.9231589623707978,0.7054700374703339,0.7546205420052984,0.7742807438192845,-1.0214599714407269,1.2559556882619372,1.0593536701220787,0.8136011474472561,-1.1001007786966703,-1.218061989580585,-1.4539844113484148,-1.0804405768826844,1.1281643764710292,1.1085041746570434,-1.1001007786966703,1.0593536701220787,-1.1001007786966703,0.8332613492612418,0.7349603401913126,0.695639936563341,0.7742807438192845,-1.1492512832316348,-1.1001007786966703,-1.208231888673592,-1.03129007234772,-0.8983579923580993,-0.8740084578358333,0.7939409456332704,0.9119021565171853,0.7742807438192845,0.8627516519822206,1.157654679192008,0.7742807438192845,0.8482322183669472,-1.1492512832316348,0.7841108447262773,-1.4244941086274365,-1.1590813841386278,-1.119760980510656,0.8922419547031994,0.7054700374703339,-0.913328861463805,0.7054700374703339,0.7644506429122915,-1.109930879603663,0.7742807438192845,0.7644506429122915,0.6071690284004049,-1.0902706777896773,-1.227892090487578,0.9020720556101924,1.0298633674011,0.9905429637731286,-1.1492512832316348,-1.1492512832316348,-1.139421182324642,-1.0804405768826844,0.8529215510752277,0.7644506429122915,-1.119760980510656,0.8529215510752277,0.6759797347493552,0.7054700374703339,0.8136011474472561,0.7447904410983056,0.7546205420052984,0.8037710465402633,-1.139421182324642,0.8627516519822206,-1.03129007234772,0.8430914501682346,-0.9624793659987695,-1.3065328977435213,1.586194447234562,-1.1001007786966703,-1.0509502741617056,0.9217322574241781,0.8529215510752277,0.7841108447262773,0.8234312483542489,-1.129591081417649,0.7153001383773268,0.7546205420052984,0.8136011474472561,0.7841108447262773,1.1136449428557558,-1.247552292301564,-1.0607803750686984,-0.9526492650917764,-0.913328861463805,-1.0411201732547128,0.9512225601451567,-0.9919696687197482,-1.1590813841386278,1.1674847800990007,0.9020720556101924,0.7644506429122915,0.9119021565171853,1.2362954864479516,0.8136011474472561,-1.129591081417649,1.0200332664941072,-1.1001007786966703,1.7533061626534419,0.7794215120179967,-0.4749589925142577,-0.9329890632777907,-1.0214599714407269,-1.1492512832316348,-1.2770425950225426,-1.1885716868596063,0.6759797347493552,-1.26721249411555,0.8136011474472561,-1.1689114850456206,-0.9821395678127552,0.7349603401913126,1.049523569215086,1.049523569215086,0.9217322574241781,-1.4244941086274365,-1.109930879603663,0.6661496338423625,-1.208231888673592,-0.9919696687197482,0.9119021565171853,-0.6519008088401314,0.8037710465402633,0.9020720556101924,-0.9231589623707978,0.7251302392843195,0.8824118537962066,0.7939409456332704,-0.8346880542078616,-1.463814512255408,-1.129591081417649,-1.0214599714407269,0.7939409456332704,-0.9966590014280289,1.2414362546466635,-1.011629870533734,0.7841108447262773,0.6614603011340819,-1.139421182324642,0.8332613492612418,0.7939409456332704,0.85806231927394,-1.163770716846908,0.9465332274368764,-1.1539406159399153,-1.1539406159399153,1.5468740436065904,-0.9573385978000569,1.655005153583512,0.9563633283438693,-1.0359794050560005,-1.0654697077769792,-0.3766579834443293,-1.0556396068699863,-0.31767737800237167,1.4780633372576397,1.187144981912987,-1.2129212213818727,1.1922857501116992,-1.0359794050560005,1.1922857501116992,-1.085129909590965,-1.173600817753901,1.6302041835708134,-1.045809505962993,-0.43563858888628665,1.3895924290947037,-1.0261493041490073,0.8875526219949186,1.1529653464837275,1.182455649204706,1.0448342365068053,0.9905429637731286,-0.9868289005210356,-1.2325814231958585,-0.7705666805671914,1.3404419245597392,1.458403135443654,1.6156847499555407,1.5272138417926044,-0.9526492650917764,-1.3603727349867663,1.005513832878834,-1.1146202123119435,0.8332613492612418,-0.3668278825373362,-0.9278482950790783,1.0644944383207913,-1.3065328977435213,-1.109930879603663,-1.1492512832316348,0.5678486247724331,-1.1590813841386278,-1.1590813841386278,0.8529215510752277,0.5186981202374685,0.7251302392843195,-1.227892090487578,0.6268292302143905,-1.0411201732547128,-1.03129007234772,-0.8445181551148544,0.7349603401913126,-0.7757074487659039,0.7251302392843195,-0.9919696687197482,0.6858098356563482,-1.03129007234772,-1.03129007234772,0.8627516519822206,-0.8051977514868829,-1.1787415859526134,-1.001799769626741,0.6563195329353697,-0.9821395678127552,0.5186981202374685,-0.9919696687197482,-0.7462171460449253,0.941392459238164,-1.0607803750686984,1.069183771029072,-0.9723094669057624,-1.1590813841386278,0.7054700374703339,1.1674847800990007,0.5580185238654404,1.0003730646801217,0.9610526610521498,0.7349603401913126,-0.8641783569288402,1.157654679192008,0.6169991293073976,-1.0607803750686984,-1.0411201732547128,-1.365513503185479,0.8725817528892135,0.7841108447262773,0.8234312483542489,-1.2573823932085568,-1.4539844113484148,-0.9428191641847836,-1.001799769626741,1.157654679192008,-1.0706104759756916,0.9807128628661355,-0.9723094669057624,-1.001799769626741,0.976023530157855,-1.1689114850456206,-1.1689114850456206,-0.7658773478589112,0.7349603401913126,-1.0359794050560005,-1.085129909590965,-1.4244941086274365,1.0448342365068053,0.7892516129249898,-1.2868726959295353,-1.03129007234772,-1.001799769626741,0.8922419547031994,-0.913328861463805,0.9708827619591428,0.9807128628661355,-1.0214599714407269,-1.0607803750686984,-0.9821395678127552,0.7054700374703339,1.1773148810059935,1.0986740737500504,0.8627516519822206,-0.8543482560218473,1.0153439337858268,-1.0607803750686984,-1.119760980510656,-1.1787415859526134,1.0298633674011,-1.0214599714407269,0.8332613492612418,-1.03129007234772,-1.1492512832316348,1.0200332664941072,1.0200332664941072,0.9020720556101924,1.0593536701220787,-1.1984017877665996,0.941392459238164,-1.0607803750686984,0.8430914501682346,0.8234312483542489,-0.9919696687197482,0.8973827229019118,0.6858098356563482,0.8332613492612418,0.8332613492612418,-0.9329890632777907,0.9512225601451567,-0.8936686596498191,-1.1001007786966703,-1.011629870533734,0.8430914501682346,0.7939409456332704,1.2068051837269724,0.7447904410983056,0.7251302392843195,0.7447904410983056,0.931562358331171,0.941392459238164,-1.0607803750686984,0.7644506429122915,-0.9428191641847836,-1.1492512832316348,-1.208231888673592,1.2166352846339654,-1.3163629986505143,0.8824118537962066,-1.1689114850456206,-1.208231888673592,-1.1492512832316348,-0.6577462378819892,0.8529215510752277,1.0102031655871144,-0.8936686596498191,0.6759797347493552,-1.3261930995575069,-0.9428191641847836,0.7251302392843195,0.695639936563341,0.6661496338423625,1.049523569215086,-1.0902706777896773,0.9610526610521498,0.8824118537962066,-0.7462171460449253,0.8824118537962066,0.8529215510752277,0.6858098356563482,-0.9428191641847836,-1.4539844113484148,-1.3556834022784858,-1.1689114850456206,-1.03129007234772,0.9020720556101924,0.8627516519822206,0.9512225601451567,-1.0214599714407269,0.7349603401913126,-0.8445181551148544,0.9119021565171853,1.2166352846339654,-0.9723094669057624,0.7546205420052984,0.8234312483542489,-1.011629870533734,-1.1001007786966703,-1.1590813841386278,1.3345964955178806,-1.2868726959295353,0.7841108447262773,-1.0706104759756916,-1.0509502741617056,0.8529215510752277,0.7251302392843195,0.5875088265864189,1.049523569215086,-0.7068967424169535,1.074324539227784,-0.8445181551148544,-1.173600817753901,0.7742807438192845,1.0448342365068053,0.8777225210879258,1.2905867591816282,0.7251302392843195,0.6858098356563482,0.7546205420052984,-0.8641783569288402,1.8417770708163779,0.6024796956921242,-1.0902706777896773,0.9610526610521498,1.0003730646801217,1.1529653464837275,1.005513832878834,0.6268292302143905,-1.4095232395217308,-0.9428191641847836,-1.2967027968365286,0.8089118147389756,0.7447904410983056,0.7251302392843195,-1.045809505962993,0.7742807438192845,-0.9919696687197482,1.1379944773780222,-0.9821395678127552,1.084154640134777,1.103814841948763,-1.2227513222888655,-1.1834309186608938,0.9170429247158975,-0.5437696988632088,-1.0261493041490073,-0.5044492952352372,1.7336459608394554,-1.2325814231958585,1.0102031655871144,-0.48478909342125115,-1.0804405768826844,-0.750906478753206,-0.8885278914511066,-0.9573385978000569,-0.937678395986071,-0.9526492650917764,-0.524109497049223,1.005513832878834,-1.1539406159399153,-1.0654697077769792,-1.2424115241028517,-0.8885278914511066,-1.1244503132189365,-0.9573385978000569,-0.8098870841951634,-0.976998799614043,0.8285720165529613,-1.075299808683972,1.6844954563044914,1.1136449428557558,-1.2424115241028517,0.9905429637731286,-0.8688676896371208,-0.6820957724042555,-0.3817987516430417,1.2414362546466635,-0.7214161760322272,-1.0902706777896773,0.8430914501682346,-0.15056566258349194,-0.9821395678127552,-0.8740084578358333,0.9217322574241781,-1.109930879603663,-1.2770425950225426,0.6858098356563482,1.079013871936065,-1.129591081417649,0.7546205420052984,-0.6970666415099608,0.8136011474472561,-1.237722191394571,1.039693468308093,0.8037710465402633,-0.9624793659987695,-0.8641783569288402,-0.9723094669057624,1.1183342755640366,0.6071690284004049,-0.9428191641847836,1.157654679192008,1.0298633674011,-1.1984017877665996,-1.1492512832316348,-1.0706104759756916,0.7939409456332704,0.7447904410983056,-1.0509502741617056,-1.0214599714407269,-1.119760980510656,-0.785537549672897,1.039693468308093,0.7251302392843195,0.8922419547031994,-1.1984017877665996,-0.9821395678127552,-1.2868726959295353,-0.9231589623707978,-1.0214599714407269,1.039693468308093,0.9512225601451567,1.2461255873549444,-1.0607803750686984,-1.237722191394571,-0.9919696687197482,-1.0706104759756916,-1.0509502741617056,-1.0214599714407269,0.941392459238164,-1.1689114850456206,0.9020720556101924,0.8136011474472561,0.8234312483542489,1.0003730646801217,0.7447904410983056,0.5875088265864189,-1.227892090487578,-1.237722191394571,-1.03129007234772,-1.001799769626741,-0.9919696687197482,0.7841108447262773,0.7153001383773268,0.8136011474472561,-0.9034987605568119,0.9807128628661355,1.039693468308093,-1.1787415859526134,-1.1885716868596063,-1.0509502741617056,-1.247552292301564,-1.0902706777896773,0.7251302392843195,0.8430914501682346,-0.7757074487659039,-0.785537549672897,0.7349603401913126,-1.247552292301564,0.8037710465402633,0.5481884229584475,1.1773148810059935,-0.8445181551148544,1.0298633674011,0.9807128628661355,-0.9034987605568119,0.9905429637731286,0.9512225601451567,0.8136011474472561,-1.227892090487578,0.8725817528892135,-0.9526492650917764,-0.7658773478589112,-1.139421182324642,0.9020720556101924,-0.9231589623707978,0.8824118537962066,1.0200332664941072,-1.4441543104414223,-1.0902706777896773,0.7302710074830322,0.8627516519822206,1.0298633674011,-1.0902706777896773,-1.1787415859526134,-0.8936686596498191,0.6071690284004049,0.8725817528892135,1.1969750828199797,-0.9919696687197482,0.5678486247724331,-0.913328861463805,-1.0902706777896773,-0.8641783569288402,-0.9034987605568119,-0.913328861463805,-1.129591081417649,-1.0509502741617056,-1.0509502741617056,-1.218061989580585,0.9708827619591428,1.2559556882619372,-1.1590813841386278,0.9119021565171853,-1.218061989580585,0.8529215510752277,1.0102031655871144,-1.1590813841386278,-1.4539844113484148,0.8136011474472561,-1.1001007786966703,-1.011629870533734,-0.8641783569288402,0.9020720556101924,0.9020720556101924,-0.8641783569288402,1.2166352846339654,0.8234312483542489,-0.8838385587428261,-1.001799769626741,0.9610526610521498,1.0298633674011,0.7742807438192845,1.079013871936065,0.7742807438192845,-0.8346880542078616,-0.7902268823811773,-0.8688676896371208,-0.9671686987070499,1.0102031655871144,-0.9966590014280289,0.8627516519822206,-0.8983579923580993,0.6169991293073976,0.7054700374703339,0.7546205420052984,1.0448342365068053,0.7349603401913126,-0.677406439695975,-0.8248579533008689,-1.0902706777896773,0.7349603401913126,1.0003730646801217,0.9020720556101924,-0.7363870451379323,1.0200332664941072,0.9807128628661355,-1.1590813841386278,0.9905429637731286,0.8136011474472561,-0.6912212124681015,0.7644506429122915,-1.208231888673592,-1.227892090487578,-1.247552292301564,-0.8492074878231348,0.8824118537962066,0.8234312483542489,-1.0706104759756916,1.0003730646801217,-1.26721249411555,-1.0949600104979575,1.285445990982916,0.695639936563341,0.7054700374703339,0.9807128628661355,1.069183771029072,0.7841108447262773,0.7054700374703339,-1.0804405768826844,1.0102031655871144,1.1085041746570434,0.7054700374703339,-1.0607803750686984,-1.129591081417649,-1.109930879603663,0.7939409456332704,-1.0706104759756916,0.6366593311213837,-0.7462171460449253,1.0298633674011,1.0986740737500504,0.7153001383773268,0.7447904410983056,1.0888439728430577,1.3200770619026068,0.5973389274934119,-1.237722191394571,-1.0607803750686984,0.9465332274368764,0.8922419547031994,-1.3851737049994648,-0.8346880542078616,-1.001799769626741,-1.26721249411555,-1.2770425950225426,0.6858098356563482,-1.2967027968365286,0.941392459238164,0.9610526610521498,0.9708827619591428,1.005513832878834,-1.2868726959295353,-1.119760980510656,-1.1689114850456206,0.8627516519822206,0.8037710465402633,0.9807128628661355,-1.0607803750686984,0.9905429637731286,0.9807128628661355,1.0102031655871144,1.1085041746570434,-0.9526492650917764,-0.524109497049223,-0.3373375798163573,-0.9329890632777907,0.9465332274368764,-0.9329890632777907,0.7054700374703339,1.005513832878834,-1.50782424859166,0.740101108390025,-0.8295472860091488,0.9512225601451567,-1.0411201732547128,-0.913328861463805,1.3200770619026068,-0.8779931297009682,0.8285720165529613,0.5580185238654404,0.8922419547031994,0.8824118537962066,-0.785537549672897,-0.8838385587428261,-1.227892090487578,0.7546205420052984,-1.109930879603663,-0.9821395678127552,0.8136011474472561,-1.2573823932085568,0.9020720556101924,-1.0214599714407269,-1.1001007786966703,-1.218061989580585,0.7251302392843195,-1.129591081417649,0.8234312483542489,1.0593536701220787,0.8037710465402633,-1.129591081417649,-0.9821395678127552,0.7349603401913126,0.7644506429122915,-1.4441543104414223,0.8234312483542489,0.8529215510752277,-1.0902706777896773,-1.3163629986505143,-1.3065328977435213,0.9119021565171853,-1.1539406159399153,0.8627516519822206,0.7841108447262773,-1.2573823932085568,0.9807128628661355,-1.0902706777896773,-1.0804405768826844,-1.03129007234772,-1.1984017877665996,-1.237722191394571,-0.9919696687197482,0.941392459238164,-1.2868726959295353,-0.9723094669057624,-0.8051977514868829,-1.218061989580585,-1.0706104759756916,0.8037710465402633,1.5370439426995974,0.7251302392843195,1.2021158510186918,0.8824118537962066,0.8430914501682346,0.8922419547031994,-1.1885716868596063,-1.0214599714407269,-0.8393773869161419,0.8922419547031994,-1.0607803750686984,-1.1689114850456206,-1.1539406159399153,-0.9671686987070499,-1.1984017877665996,-0.8445181551148544,-0.9231589623707978,-1.1984017877665996,0.9956837319718409,-1.1787415859526134,0.5973389274934119,0.7251302392843195,-0.913328861463805,0.8332613492612418,-1.139421182324642,0.7447904410983056,-0.9526492650917764,-0.9624793659987695,1.5272138417926044,-0.6919258733112486,1.005513832878834,0.7499312092970178,0.9807128628661355,-0.5044492952352372,-0.2980171761883857,-0.25869677256041373,-0.6027503043051657,1.6156847499555407,-0.5732600015841871,-0.5044492952352372,-1.085129909590965,-1.085129909590965,-0.6231151669622976,-0.9966590014280289,1.103814841948763,0.6811205029480675,-0.18005596530447113,-0.7803967814741847,0.6909506038550604,1.103814841948763,-1.1834309186608938,1.0003730646801217,-0.39631818525831536,1.6353449517695267,0.976023530157855,1.0448342365068053,1.7631362635604342,-0.2783569743744003,-1.0902706777896773,1.6255148508625334,0.9217322574241781,0.9807128628661355,-1.2770425950225426,0.8430914501682346,0.9905429637731286,-0.9723094669057624,1.0593536701220787,-1.109930879603663,1.0593536701220787,1.0298633674011,0.8430914501682346,1.157654679192008,0.9020720556101924,0.9905429637731286,-1.247552292301564,-1.03129007234772,-1.109930879603663,-0.7658773478589112,0.8922419547031994,0.7841108447262773,-1.109930879603663,0.8136011474472561,-1.218061989580585,0.7939409456332704,0.8627516519822206,0.8136011474472561,-1.129591081417649,-1.0607803750686984,1.039693468308093,1.1969750828199797,-1.129591081417649,1.1773148810059935,0.8234312483542489,-1.0607803750686984,0.8430914501682346,-0.9723094669057624,0.8037710465402633,0.7447904410983056,-1.1689114850456206,-0.9526492650917764,0.8384021174599543,0.8627516519822206,-1.3261930995575069,-1.3556834022784858,0.6661496338423625,1.049523569215086,-1.139421182324642,-1.2967027968365286,-1.109930879603663,-0.9034987605568119,1.1281643764710292,0.931562358331171,-0.8248579533008689,-1.1787415859526134,0.8234312483542489,-0.8838385587428261,0.7644506429122915,-0.8740084578358333,-0.9624793659987695,-1.247552292301564,-1.26721249411555,0.7841108447262773,0.931562358331171,0.7251302392843195,1.2461255873549444,0.5875088265864189,1.049523569215086,0.8332613492612418,1.1281643764710292,1.0298633674011,0.8529215510752277,0.7153001383773268,0.7251302392843195,-1.2573823932085568,-1.26721249411555,-1.247552292301564,0.7251302392843195,0.7939409456332704,0.7349603401913126,-1.2967027968365286,1.0986740737500504,-1.139421182324642,0.8627516519822206,0.8332613492612418,-1.291562028637816,0.7841108447262773,0.9268730256228905,0.7447904410983056,0.8627516519822206,1.0200332664941072,1.0003730646801217,-0.8346880542078616,1.079013871936065,-1.1590813841386278,-1.1689114850456206,-1.247552292301564,0.9905429637731286,-1.1787415859526134,-1.1492512832316348,0.6614603011340819,-0.937678395986071,0.8037710465402633,0.8430914501682346,-0.9624793659987695,-1.0902706777896773,-1.0509502741617056,0.6661496338423625,-0.5889355315330387,-1.119760980510656,-1.4539844113484148,-1.1984017877665996,-1.218061989580585,-0.9428191641847836,-1.0214599714407269,1.039693468308093,0.7644506429122915,0.7841108447262773,0.7841108447262773,-0.16039576349048518,1.7631362635604342,1.147824578285015,-1.1492512832316348,0.8037710465402633,1.1431352455767345,-1.139421182324642,-1.1001007786966703,1.1831603100478523,1.576364346327569,0.7695914111110038,-1.227892090487578,0.8037710465402633,-1.03129007234772,-1.1885716868596063,0.8037710465402633,-1.139421182324642,-0.7607365796601986,1.0986740737500504,0.9217322574241781,0.9020720556101924,0.9610526610521498,-1.0064891023350215,-1.129591081417649,-1.1689114850456206,-1.109930879603663,-1.0804405768826844,-1.0411201732547128,0.8824118537962066,-1.218061989580585,0.7644506429122915,-1.1984017877665996,-1.119760980510656,-1.119760980510656,0.8529215510752277,1.0153439337858268,0.7546205420052984,1.2709265573676423,-1.1492512832316348,-1.1984017877665996,-1.163770716846908,1.069183771029072,0.9512225601451567,1.1379944773780222,0.7447904410983056,1.2264653855409584,-1.1001007786966703,-1.001799769626741,-1.0607803750686984,-1.0804405768826844,0.7644506429122915,0.695639936563341,-0.7462171460449253,0.8627516519822206,-0.9329890632777907,0.9217322574241781,0.7841108447262773,0.7153001383773268,0.7841108447262773,0.8037710465402633,-1.1689114850456206,1.079013871936065,-1.0804405768826844,0.8824118537962066,-0.9723094669057624,0.8529215510752277,1.0986740737500504,1.069183771029072,-1.208231888673592,-1.0902706777896773,-1.001799769626741,1.0251740346928195,-0.9624793659987695,1.0644944383207913,-1.3898630377077452,0.9020720556101924,-1.2573823932085568,1.0003730646801217,0.6366593311213837,-1.2967027968365286,-1.2573823932085568,-0.937678395986071,0.9020720556101924,-1.227892090487578,0.9905429637731286,0.8037710465402633,-1.3556834022784858,0.8234312483542489,-1.4685038449636885,0.8136011474472561,0.7153001383773268,-0.8000569832881703,0.8725817528892135,0.9217322574241781,0.9020720556101924,1.079013871936065,-1.218061989580585,-0.9278482950790783,0.9610526610521498,-1.129591081417649,-0.976998799614043,0.7742807438192845,1.0102031655871144,-0.9723094669057624,-0.9231589623707978,-0.24886667165342102,1.6844954563044914,-1.0163192032420145,1.6943255572114835,-0.711586075125234,0.9956837319718409,-1.4586737440566955,-0.6813911115611095,-0.750906478753206,-1.1047901114049508,-0.7902268823811773,1.1333051446697417,-1.045809505962993,-1.0163192032420145,-1.2620717259168373,-0.18005596530447113,-1.163770716846908,-0.9278482950790783,-0.8983579923580993,-1.3851737049994648,-0.23903657074642826,1.0644944383207913,0.9661934292508619,-0.7312462769392198,0.7153001383773268,0.695639936563341,0.9020720556101924,-0.8740084578358333,0.9905429637731286,0.8725817528892135,1.0102031655871144,-1.03129007234772,-1.1492512832316348,-1.1689114850456206,-1.0214599714407269,-1.247552292301564,-0.9428191641847836,0.9807128628661355,0.7251302392843195,-1.2868726959295353,0.9610526610521498,0.7054700374703339,0.9610526610521498,-1.2770425950225426,-0.9821395678127552,-1.03129007234772,-0.8150278523938757,0.8332613492612418,-1.3556834022784858,-1.218061989580585,-1.0607803750686984,-1.1787415859526134,0.7153001383773268,-1.227892090487578,0.7742807438192845,0.9905429637731286,-1.218061989580585,0.8529215510752277,0.8627516519822206,0.8529215510752277,-1.2770425950225426,0.8725817528892135,0.9807128628661355,-1.045809505962993,0.7054700374703339,-1.0509502741617056,-1.0509502741617056,0.8430914501682346,0.8824118537962066,-1.473644613162401,0.8234312483542489,0.7153001383773268,1.1379944773780222,-1.0214599714407269,0.7644506429122915,0.9610526610521498,0.9610526610521498,0.8922419547031994,0.941392459238164,0.8725817528892135,0.9807128628661355,0.7546205420052984,1.103814841948763,0.9807128628661355,-0.8641783569288402,-1.011629870533734,0.9610526610521498,-1.247552292301564,-1.0411201732547128,0.7153001383773268,0.7153001383773268,0.7841108447262773,1.1674847800990007,-1.1984017877665996,0.49903791842348283,-0.937678395986071,1.1234750437627488,-1.2325814231958585,-1.0163192032420145,-1.0509502741617056,-1.1244503132189365,-1.247552292301564,-1.0902706777896773,0.7054700374703339,0.8922419547031994,0.7939409456332704,-0.9821395678127552,0.695639936563341,-0.913328861463805,-1.3950038059064576,0.7349603401913126,0.7054700374703339,0.5580185238654404,1.0102031655871144,-1.1492512832316348,-0.913328861463805,-0.9723094669057624,0.8922419547031994,-0.8740084578358333,-0.9624793659987695,1.1674847800990007,-1.1590813841386278,0.6268292302143905,0.8725817528892135,-1.2573823932085568,0.7841108447262773,-0.58309010249118,-1.0706104759756916,-1.001799769626741,-1.011629870533734,0.7939409456332704,-1.1787415859526134,-1.218061989580585,0.7939409456332704,-1.119760980510656,0.8234312483542489,-1.208231888673592,-0.7953676505798899,0.8627516519822206,0.7939409456332704,-1.1885716868596063,0.7742807438192845,-1.109930879603663,-1.218061989580585,-1.1001007786966703,-1.1001007786966703,-0.9081880932650924,-1.218061989580585,0.7054700374703339,0.8678924201809329,-1.1590813841386278,-1.1984017877665996,1.0986740737500504,0.8627516519822206,0.7939409456332704,-1.0509502741617056,-1.1001007786966703,0.8529215510752277,0.8725817528892135,-1.1492512832316348,-1.1885716868596063,0.7841108447262773,-1.119760980510656,0.5186981202374685,-0.7410763778462128,-1.144110515032922,-0.937678395986071,0.6464894320283764,0.8529215510752277,-1.247552292301564,0.7644506429122915,-1.208231888673592,-1.129591081417649,-0.9428191641847836,0.7939409456332704,0.5186981202374685,0.7153001383773268,1.079013871936065,-1.463814512255408,-1.0607803750686984,-1.3851737049994648,0.8136011474472561,-1.1492512832316348,-1.0654697077769792,-0.976998799614043,1.0350041355998123,1.6058546490485477,-0.859037588730128,-0.701755974218241,0.5678486247724331,0.7939409456332704,-1.218061989580585,0.7939409456332704,-1.0902706777896773,-0.9919696687197482,-1.1984017877665996,-0.8248579533008689,-0.9278482950790783,1.1085041746570434,0.8627516519822206,0.8529215510752277,0.6858098356563482,1.069183771029072,1.1085041746570434,-0.8786977905441137,-0.8051977514868829,0.7054700374703339,-0.937678395986071,0.8136011474472561,-0.859037588730128,-1.1885716868596063,0.931562358331171,-1.1001007786966703,0.8234312483542489,-1.163770716846908,-1.247552292301564,-1.139421182324642,1.231606153739671,-0.9180181941720853,-0.9671686987070499,1.1922857501116992,1.084154640134777,-1.0949600104979575,1.4289128327226754,1.182455649204706,-1.0804405768826844,-0.3668278825373362,1.7533061626534419,0.5186981202374685,-0.23434723803814808,-0.6027503043051657,-0.8295472860091488,1.005513832878834,1.5370439426995974,1.458403135443654,-1.1244503132189365,-0.2685268734674072,-1.227892090487578,-0.6027503043051657,0.7447904410983056,-1.1590813841386278,0.8529215510752277,-1.0214599714407269,0.7054700374703339,-1.0411201732547128,1.069183771029072,0.9512225601451567,1.2461255873549444,1.069183771029072,0.8332613492612418,-1.139421182324642,0.7447904410983056,-0.9526492650917764,-1.1787415859526134,-1.2573823932085568,-1.227892090487578,-1.0607803750686984,-1.208231888673592,-0.9231589623707978,-1.129591081417649,0.7546205420052984,0.8037710465402633,-1.2868726959295353,0.9708827619591428,-1.208231888673592,-0.9231589623707978,1.1085041746570434,0.8234312483542489,-1.0214599714407269,0.8384021174599543,0.9956837319718409,-1.0654697077769792,-0.7214161760322272,1.172625548297713,-1.075299808683972,1.0350041355998123,0.8430914501682346,1.7336459608394554,1.0644944383207913,-1.0064891023350215,0.8973827229019118,-1.2770425950225426,0.85806231927394,0.8973827229019118,-0.9180181941720853,-0.8936686596498191,-0.3471676807233502,-1.0163192032420145,-0.8393773869161419,0.8777225210879258,1.2021158510186918,1.1234750437627488,-0.8983579923580993,1.7776556971757076,-0.9671686987070499,-1.0064891023350215,1.0644944383207913,-1.0261493041490073,-1.173600817753901,-0.7214161760322272,0.5088680193304755,-1.2967027968365286,-1.208231888673592,-1.1590813841386278,1.0298633674011,-0.9526492650917764,1.5272138417926044,1.4780633372576397,-0.7803967814741847,-0.9081880932650924,-0.5634299006771948,0.8430914501682346,-0.8885278914511066,1.1529653464837275,0.8627516519822206,-1.473644613162401,0.7841108447262773,-0.9231589623707978,-0.9624793659987695,0.6858098356563482,-1.218061989580585,-1.011629870533734,0.7644506429122915,-1.109930879603663,0.8136011474472561,-1.109930879603663,-0.9966590014280289,0.7546205420052984,-1.218061989580585,-1.1787415859526134,0.9610526610521498,0.8234312483542489,1.0003730646801217,0.7447904410983056,0.7251302392843195,-1.1590813841386278,-0.8543482560218473,1.0350041355998123,1.1136449428557558,1.0200332664941072,0.8922419547031994,0.9119021565171853,-0.937678395986071,-0.9034987605568119,0.8234312483542489,0.8482322183669472,-1.03129007234772,1.0200332664941072,1.0003730646801217,0.7939409456332704,0.8725817528892135,-1.139421182324642,-0.9919696687197482,0.7841108447262773,1.2119459519256848,-0.7607365796601986,-1.03129007234772,-0.9475084968930642,1.0251740346928195,-1.045809505962993,-0.7502018179100599,0.7990817138319827,1.3397372637165927,-1.0359794050560005,-0.4454686897932795,-0.5634299006771948,0.6024796956921242,-0.28818707528139315,-0.6125804052121592,-0.9723094669057624,-0.43563858888628665,-0.750906478753206,0.9119021565171853,-1.0607803750686984,0.8627516519822206,0.6759797347493552,1.069183771029072,0.7251302392843195,0.7447904410983056,-1.237722191394571,-1.237722191394571,1.0298633674011,1.1085041746570434,0.7644506429122915,0.695639936563341,0.9708827619591428,0.931562358331171,-1.3065328977435213,-1.208231888673592,-1.227892090487578,-0.9919696687197482,0.6366593311213837,-1.119760980510656,-1.2770425950225426,0.8234312483542489,-1.26721249411555,-1.4244941086274365,-1.03129007234772,1.147824578285015,0.7251302392843195,-1.3556834022784858,-1.4441543104414223,0.7742807438192845,-1.119760980510656,-0.9034987605568119,0.8234312483542489,-1.3065328977435213,-0.7363870451379323,0.6858098356563482,-1.1689114850456206,1.049523569215086,0.8824118537962066,-1.1590813841386278,-1.1492512832316348,1.069183771029072,-1.03129007234772,-0.913328861463805,0.7841108447262773,0.931562358331171,-0.8150278523938757,0.9119021565171853,0.9217322574241781,0.7841108447262773,0.7546205420052984,-1.1984017877665996,-0.9624793659987695,-0.8838385587428261,0.8136011474472561,0.6614603011340819,0.8037710465402633,0.6464894320283764,-1.119760980510656,0.9020720556101924,1.0593536701220787,-0.8248579533008689,0.941392459238164,0.8627516519822206,0.8234312483542489,0.7939409456332704,-1.237722191394571,0.7251302392843195,1.1674847800990007,0.6759797347493552,-0.8641783569288402,0.9512225601451567,0.5776787256794262,-1.3556834022784858,-0.9526492650917764,0.9807128628661355,-0.8641783569288402,-1.03129007234772,-0.7658773478589112,-0.8641783569288402,-0.8543482560218473,0.9020720556101924,0.8332613492612418,-0.8936686596498191,1.3149362937038944,-0.8936686596498191,0.8332613492612418,1.2559556882619372,1.1085041746570434,-1.4146640077204435,0.8332613492612418,1.1773148810059935,0.7841108447262773,0.931562358331171,0.9807128628661355,1.0298633674011,0.7251302392843195,-1.001799769626741,1.1281643764710292,-1.247552292301564,1.049523569215086,0.7644506429122915,0.7447904410983056,-1.1001007786966703,0.6759797347493552,0.7841108447262773,0.9905429637731286,-1.0509502741617056,0.9217322574241781,0.9807128628661355,0.7841108447262773,0.9905429637731286,-1.2770425950225426,-0.9624793659987695,-1.0214599714407269,-0.8740084578358333,0.8627516519822206,0.931562358331171,-1.119760980510656,1.0593536701220787,1.0003730646801217,1.0102031655871144,-1.1492512832316348,-1.4441543104414223,1.1674847800990007,0.6858098356563482,0.7644506429122915,-1.218061989580585,-0.7953676505798899,-1.227892090487578,0.9217322574241781,1.1674847800990007,0.7742807438192845,-0.7560472469519183,-1.0902706777896773,0.931562358331171,1.0200332664941072,0.9020720556101924,-1.139421182324642,-1.0804405768826844,0.8037710465402633,0.7644506429122915,-1.1001007786966703,0.8875526219949186,-1.434324209534429,-1.237722191394571,-1.0509502741617056,-0.7167268433239465,-1.1001007786966703,-1.0509502741617056,-1.2868726959295353,-1.0804405768826844,-1.1984017877665996,0.8037710465402633,0.7349603401913126,-0.9919696687197482,-1.0509502741617056,-1.129591081417649,-1.208231888673592,0.7939409456332704,-1.129591081417649,0.6858098356563482,-1.2573823932085568,-1.218061989580585,-1.001799769626741,0.7153001383773268,-1.1001007786966703,-0.7803967814741847,0.9170429247158975,-1.365513503185479,0.9512225601451567,0.9020720556101924,1.2166352846339654,0.9610526610521498,-0.4061482861653076,-1.045809505962993,1.0986740737500504,0.9217322574241781,0.8824118537962066,-0.8346880542078616,0.9807128628661355,0.9610526610521498,-1.03129007234772,-1.139421182324642,0.6858098356563482,0.7054700374703339,0.9905429637731286,-1.208231888673592,0.8529215510752277,0.9217322574241781,-0.8543482560218473,1.3051061927969019,0.7447904410983056,-1.139421182324642,0.8332613492612418,0.6759797347493552,0.7447904410983056,-1.045809505962993,0.5875088265864189,1.1674847800990007,0.8430914501682346,0.8037710465402633,-0.8150278523938757,1.0200332664941072,-1.0804405768826844,0.8922419547031994,0.7153001383773268,0.8529215510752277,-1.0902706777896773,0.49903791842348283,0.9512225601451567,0.9119021565171853,-1.1001007786966703,-0.9966590014280289,1.0200332664941072,-1.227892090487578,-1.0411201732547128,0.7742807438192845,-1.0804405768826844,0.8037710465402633,0.8332613492612418,0.7447904410983056,0.941392459238164,-1.1590813841386278,0.931562358331171,0.8037710465402633,0.7153001383773268,0.7251302392843195,0.9512225601451567,1.049523569215086,-1.0411201732547128,0.7153001383773268,1.049523569215086,1.0102031655871144,0.5088680193304755,-1.1001007786966703,0.9119021565171853,1.1183342755640366,-1.1885716868596063,-0.9821395678127552,0.695639936563341,0.7349603401913126,0.7054700374703339,-0.9821395678127552,-0.8543482560218473,-0.5044492952352372,0.9807128628661355,1.049523569215086,0.9807128628661355,0.8529215510752277,0.8922419547031994,0.8430914501682346,-1.1689114850456206,-1.119760980510656,1.079013871936065,-1.3065328977435213,0.7939409456332704,-1.1787415859526134,0.941392459238164,-0.9231589623707978,-1.0607803750686984,-1.208231888673592,-0.9526492650917764,1.039693468308093,-1.109930879603663,0.7742807438192845,-1.119760980510656,-1.0902706777896773,-0.9034987605568119,1.0003730646801217,0.6464894320283764,1.0448342365068053,0.9512225601451567,0.9807128628661355,-1.463814512255408,0.7939409456332704,1.0003730646801217,-0.785537549672897,0.5875088265864189,0.8136011474472561,-1.218061989580585,1.0593536701220787,-1.0804405768826844,-1.2770425950225426,-1.129591081417649,0.7841108447262773,0.7939409456332704,-1.0607803750686984,-1.1492512832316348,1.1379944773780222,-1.0509502741617056,0.7841108447262773,0.9217322574241781,1.049523569215086,0.941392459238164,1.069183771029072,0.7644506429122915,0.6858098356563482,0.8136011474472561,-1.1885716868596063,-0.8445181551148544,0.941392459238164,0.7644506429122915,-1.0214599714407269,0.6661496338423625,0.7447904410983056,0.8922419547031994,-0.9526492650917764,-1.227892090487578,-1.03129007234772,0.8627516519822206,-1.03129007234772,0.7251302392843195,-0.937678395986071,-1.1244503132189365,-1.0411201732547128,0.8234312483542489,-1.1492512832316348,-1.1787415859526134,0.7349603401913126,1.157654679192008,0.9905429637731286,0.8725817528892135,-1.109930879603663,0.8824118537962066,0.9610526610521498,1.0200332664941072,-1.3950038059064576,0.7742807438192845,-1.1885716868596063,0.9807128628661355,1.0003730646801217,0.8922419547031994,-1.0411201732547128,0.8529215510752277,1.2166352846339654,-1.0411201732547128,0.941392459238164,0.8234312483542489,-1.1001007786966703,0.8725817528892135,-1.1590813841386278,-1.0214599714407269,0.9020720556101924,0.7644506429122915,1.0200332664941072,-1.227892090487578,0.7644506429122915,-1.0509502741617056,-0.9034987605568119,0.6661496338423625,-0.8543482560218473,-1.237722191394571,0.9708827619591428,-0.937678395986071,0.9512225601451567,0.7546205420052984,-0.8150278523938757,-1.365513503185479,-1.2967027968365286,0.8627516519822206,-1.001799769626741,-0.3766579834443293,-1.0804405768826844,1.039693468308093,0.7251302392843195,0.7644506429122915,0.7054700374703339,0.7251302392843195,0.8037710465402633,0.9512225601451567,1.0298633674011,-1.1787415859526134,-0.8641783569288402,-0.913328861463805,-0.9526492650917764,0.7644506429122915,-1.1001007786966703,1.1183342755640366,0.6268292302143905,0.9119021565171853,1.147824578285015,-1.26721249411555,1.0200332664941072,0.8332613492612418,-1.227892090487578,-0.8543482560218473,-0.9821395678127552,1.3051061927969019,-0.7462171460449253,0.9119021565171853,-1.1885716868596063,-0.7462171460449253,0.9807128628661355,-1.218061989580585,0.8922419547031994,0.9807128628661355,1.069183771029072,0.931562358331171,0.931562358331171,0.8037710465402633,-1.1492512832316348,-1.4048339068134503,-1.0163192032420145,-1.1787415859526134,1.1136449428557558,-1.0902706777896773,0.695639936563341,1.049523569215086,-1.1885716868596063,0.8922419547031994,-1.0902706777896773,0.941392459238164,0.8529215510752277,0.9020720556101924,0.9119021565171853,-1.2967027968365286,0.8627516519822206,-1.1342804141259297,-1.1984017877665996,0.6563195329353697,-1.365513503185479,-0.9428191641847836,0.6858098356563482,0.9217322574241781,0.9217322574241781,-0.8885278914511066,0.6169991293073976,0.48920781751648995,0.7349603401913126,-1.129591081417649,-1.129591081417649,0.9119021565171853,0.7841108447262773,0.7153001383773268,0.8234312483542489,0.9807128628661355,-0.8346880542078616,-1.03129007234772,1.005513832878834,0.9858536310648479,-1.1590813841386278,-1.119760980510656,0.7447904410983056,0.7841108447262773,0.8332613492612418,0.9217322574241781,-1.139421182324642,-0.9723094669057624,1.1529653464837275,0.9708827619591428,0.8136011474472561,0.8037710465402633,-1.0949600104979575,0.6858098356563482,0.49903791842348283,0.7447904410983056,-1.2967027968365286,-0.7363870451379323,-1.0706104759756916,0.8234312483542489,-1.129591081417649,-0.9671686987070499,0.7054700374703339,0.8627516519822206,1.1773148810059935,-1.0902706777896773,-0.9278482950790783,-1.0411201732547128,-0.9919696687197482,0.9020720556101924,-1.001799769626741,0.695639936563341,-1.2573823932085568,-1.129591081417649,0.9807128628661355,-1.139421182324642,-1.139421182324642,0.9905429637731286,-1.1689114850456206,-1.0261493041490073,0.7546205420052984,0.8136011474472561,-1.139421182324642,-1.109930879603663,1.0200332664941072,-1.208231888673592,0.8529215510752277,-1.1885716868596063,0.8824118537962066,0.8430914501682346,-1.1689114850456206,-1.0359794050560005,-0.8688676896371208,-1.3950038059064576,-1.1885716868596063,1.2952760918899087,1.1431352455767345,1.0102031655871144,1.0350041355998123,-1.1342804141259297,-1.50782424859166,-1.1689114850456206,0.931562358331171,-1.1787415859526134,0.695639936563341,0.7644506429122915,0.7251302392843195,0.9072128238089047,-0.4454686897932795,-0.4159783870723008,1.005513832878834,-0.913328861463805,0.9020720556101924,0.7054700374703339,-1.1342804141259297,1.2414362546466635,-1.0902706777896773,0.7644506429122915,0.8430914501682346,-1.1984017877665996,-0.7902268823811773,0.8136011474472561,0.8234312483542489,-1.129591081417649,-1.4539844113484148,-1.075299808683972,1.0939847410417698,0.9807128628661355,-1.1047901114049508,-1.2868726959295353,-1.1590813841386278,0.8136011474472561,-1.119760980510656,0.8922419547031994,0.7447904410983056,-1.0654697077769792,-0.9868289005210356,1.1333051446697417,-1.0359794050560005,-0.913328861463805,1.772966364467427,-0.39631818525831536,0.8430914501682346,1.7139857590254697,-0.9723094669057624,1.0546643374137983,-1.4244941086274365,-1.0654697077769792,-0.8885278914511066,0.8875526219949186,-1.1047901114049508,-0.8000569832881703,-0.9081880932650924,-1.0556396068699863,-0.9573385978000569,1.1234750437627488,-0.9475084968930642,-1.173600817753901,-1.075299808683972,1.1431352455767345,1.1431352455767345,-0.8786977905441137,0.8430914501682346,0.9268730256228905,-0.9034987605568119,0.9367031265298833,-0.8051977514868829,0.9367031265298833,1.0251740346928195,0.7695914111110038,0.8529215510752277,0.8824118537962066,-0.9671686987070499,-1.1244503132189365,0.8285720165529613,1.2119459519256848,-0.9868289005210356,0.8136011474472561,0.7153001383773268,0.8627516519822206,0.7841108447262773,-0.8248579533008689,-1.0706104759756916,0.7447904410983056,1.157654679192008,1.2461255873549444,-1.03129007234772,0.7153001383773268,-1.0411201732547128,-1.1492512832316348,-1.1001007786966703,-1.109930879603663,-1.1590813841386278,-1.03129007234772,1.147824578285015,0.8234312483542489,-1.0509502741617056,1.1281643764710292,0.8332613492612418,-1.1590813841386278,-1.1492512832316348,0.7349603401913126,-1.1001007786966703,-1.1885716868596063,0.7546205420052984,-1.0214599714407269,-1.218061989580585,0.6858098356563482,0.7644506429122915,0.8824118537962066,-1.1984017877665996,-0.9428191641847836,0.7251302392843195,0.8136011474472561,-1.26721249411555,1.069183771029072,-0.9428191641847836,0.7644506429122915,-0.8641783569288402,0.931562358331171,-0.9526492650917764,0.6858098356563482,-1.237722191394571,0.941392459238164,0.6563195329353697,1.1379944773780222,-0.8936686596498191,0.5285282211444617,1.157654679192008,0.8136011474472561,-1.2967027968365286,0.7644506429122915,0.5088680193304755,0.6759797347493552,0.7251302392843195,-1.1689114850456206,-0.913328861463805,-0.2980171761883857,0.8627516519822206,-1.345853301371493,1.079013871936065,0.7349603401913126,1.0593536701220787,1.2166352846339654,-1.129591081417649,0.941392459238164,0.9119021565171853,-1.1342804141259297,0.7546205420052984,-1.0509502741617056,-1.0214599714407269,0.9807128628661355,-1.345853301371493,-1.03129007234772,0.8234312483542489,0.8922419547031994,-0.9868289005210356,-1.03129007234772,-1.227892090487578,0.9020720556101924,0.931562358331171,0.6858098356563482,-1.139421182324642,0.48920781751648995,1.0200332664941072,0.7349603401913126,0.9020720556101924,-0.8838385587428261,0.8824118537962066,0.9119021565171853,1.0593536701220787,-1.0902706777896773,-0.913328861463805,0.9512225601451567,0.8922419547031994,1.049523569215086,0.5285282211444617,-1.03129007234772,-1.0607803750686984,-1.3065328977435213,-1.473644613162401,0.9119021565171853,1.2166352846339654,0.7447904410983056,-1.0411201732547128,-1.1590813841386278,0.941392459238164,1.079013871936065,0.8136011474472561,0.9807128628661355,0.931562358331171,-1.218061989580585,0.8824118537962066,1.231606153739671,0.9858536310648479,1.0546643374137983,0.9119021565171853,0.6464894320283764,0.8136011474472561,0.8824118537962066,-1.0509502741617056,0.7153001383773268,0.9858536310648479,0.941392459238164,0.8824118537962066,-1.237722191394571,0.9119021565171853,0.7447904410983056,0.7841108447262773,0.7546205420052984,1.0986740737500504,-0.8346880542078616,0.8430914501682346,1.0593536701220787,-1.1885716868596063,-1.129591081417649,0.8136011474472561,0.8627516519822206,0.8627516519822206,-1.139421182324642,0.7546205420052984,-1.1492512832316348,-1.4539844113484148,-1.3261930995575069,0.6464894320283764,0.7644506429122915,1.0200332664941072,0.6464894320283764,-1.1984017877665996,-1.0706104759756916,-1.237722191394571,-1.4048339068134503,0.7644506429122915,1.0593536701220787,0.9020720556101924,0.8529215510752277,0.8430914501682346,0.9905429637731286,-1.218061989580585,0.7349603401913126,-1.011629870533734,-1.1047901114049508,-0.8445181551148544,-1.1787415859526134,0.9217322574241781,1.0888439728430577,0.8332613492612418,-0.8445181551148544,-1.365513503185479,-1.0411201732547128,0.8037710465402633,-0.9329890632777907,0.8627516519822206,-1.1492512832316348,0.8037710465402633,-1.434324209534429,0.8922419547031994,0.8922419547031994,-1.1590813841386278,-1.119760980510656,1.1773148810059935,1.1674847800990007,0.8725817528892135,0.9905429637731286,1.0003730646801217,1.1281643764710292,1.039693468308093,0.9512225601451567,-0.8445181551148544,0.8037710465402633,-1.4441543104414223,-0.8936686596498191,0.8725817528892135,1.0986740737500504,1.079013871936065,0.7153001383773268,0.7447904410983056,0.7841108447262773,-1.247552292301564,-0.9526492650917764,-1.2770425950225426,-1.03129007234772,0.9020720556101924,-0.9034987605568119,-1.109930879603663,-1.129591081417649,0.7251302392843195,-0.8248579533008689,0.8136011474472561,0.9119021565171853,0.8725817528892135,0.8627516519822206,0.6759797347493552,0.7546205420052984,0.6661496338423625,0.7841108447262773,0.7349603401913126,-1.218061989580585,-1.1492512832316348,-1.109930879603663,0.9119021565171853,0.8037710465402633,-0.7953676505798899,0.9708827619591428,0.8627516519822206,1.049523569215086,-1.03129007234772,0.9217322574241781,0.9020720556101924,0.941392459238164,-0.913328861463805,0.8627516519822206,-1.109930879603663,-1.119760980510656,1.1085041746570434,-1.011629870533734,-1.129591081417649,-1.208231888673592,-1.1492512832316348,-1.1787415859526134,0.931562358331171,1.0102031655871144,0.9119021565171853,1.0200332664941072,-1.227892090487578,-1.3163629986505143,-1.237722191394571,-1.0902706777896773,-1.03129007234772,-1.4441543104414223,0.7153001383773268,0.9020720556101924,-1.218061989580585,-1.0902706777896773,-1.03129007234772,-0.9231589623707978,-1.0706104759756916,0.8922419547031994,-1.2868726959295353,0.941392459238164,-0.8688676896371208,0.931562358331171,0.8824118537962066,0.6563195329353697,0.8725817528892135,-0.20954626802544904,0.7644506429122915,-0.9428191641847836,-1.0163192032420145,0.9020720556101924,0.9708827619591428,-0.913328861463805,-1.0804405768826844,-0.8838385587428261,0.8922419547031994,0.9708827619591428,0.8627516519822206,0.9807128628661355,0.9020720556101924,0.7251302392843195,-1.218061989580585,1.0298633674011,-1.2967027968365286,-1.0902706777896773,-1.1885716868596063,0.8332613492612418,0.8037710465402633,0.7054700374703339,-0.9526492650917764,-1.227892090487578,-1.0706104759756916,-0.8740084578358333,0.7644506429122915,1.0102031655871144,1.039693468308093,-1.119760980510656,0.8136011474472561,0.8725817528892135,-1.109930879603663,-1.26721249411555,0.7251302392843195,0.9858536310648479,-1.2868726959295353,-1.0804405768826844,-1.1244503132189365,-1.26721249411555,-0.8543482560218473,0.8922419547031994,0.7742807438192845,-1.1689114850456206,-1.1689114850456206,0.8430914501682346,1.039693468308093,-1.2573823932085568,-1.1984017877665996,0.7447904410983056,-1.4441543104414223,-0.8983579923580993,0.5088680193304755,-0.9180181941720853,-1.0411201732547128,-0.9180181941720853,-0.7902268823811773,-1.0359794050560005,0.7349603401913126,0.7106108056690463,0.9170429247158975,1.049523569215086,-1.0706104759756916,-0.8295472860091488,-1.2573823932085568,1.0888439728430577,0.9807128628661355,-1.0556396068699863,-0.9034987605568119,-1.001799769626741,-0.9821395678127552,-1.0509502741617056,-1.144110515032922,-0.5489104670619215,-0.9231589623707978,-0.9231589623707978,-1.2770425950225426,-1.1984017877665996,0.9807128628661355,1.039693468308093,0.7939409456332704,-0.859037588730128,0.8430914501682346,0.7644506429122915,-0.8786977905441137,-1.129591081417649,-0.6231151669622976,-1.2129212213818727,1.0644944383207913,1.6844954563044914,-0.4159783870723008,1.6648352544905054,-0.9278482950790783,1.8417770708163779,-0.8786977905441137,-1.2227513222888655,-1.045809505962993,-1.1539406159399153,-0.8393773869161419,-0.8983579923580993,-0.9180181941720853,-0.24886667165342102,0.9956837319718409,1.0251740346928195,1.231606153739671,1.0350041355998123,-0.8295472860091488,1.0350041355998123,1.576364346327569,0.7251302392843195,-0.4454686897932795,-0.6820957724042555,-1.139421182324642,-0.9180181941720853,1.5173837408856115,1.3004168600886212,-0.8150278523938757,1.0593536701220787,-1.1590813841386278,0.8332613492612418,0.695639936563341,0.695639936563341,-1.0607803750686984,-1.075299808683972,0.7644506429122915,0.8430914501682346,0.7742807438192845,-0.785537549672897,0.9610526610521498,0.9512225601451567,-1.139421182324642,-1.237722191394571,0.9020720556101924,0.8627516519822206,0.7447904410983056,0.8627516519822206,-1.1492512832316348,-1.4244941086274365,-1.001799769626741,0.8430914501682346,0.7939409456332704,0.8037710465402633,0.931562358331171,-0.9329890632777907,-1.139421182324642,1.1773148810059935,-0.9624793659987695,-0.7167268433239465,-1.1885716868596063,-1.0902706777896773,0.7447904410983056,0.9119021565171853,-0.9624793659987695,-1.1885716868596063,-1.237722191394571,-0.8740084578358333,-1.1492512832316348,-0.785537549672897,-1.3261930995575069,-1.0509502741617056,0.7349603401913126,-0.9526492650917764,-1.1885716868596063,1.0200332664941072,-1.0804405768826844,-0.9526492650917764,-1.247552292301564,1.0986740737500504,-0.9723094669057624,-0.9821395678127552,1.221776052832678,0.49903791842348283,-1.227892090487578,1.1674847800990007,1.0888439728430577,0.9119021565171853,1.069183771029072,0.8332613492612418,1.0200332664941072,-1.1001007786966703,1.1281643764710292,-1.011629870533734,-1.1492512832316348,0.6563195329353697,-0.9919696687197482,0.6661496338423625,0.8332613492612418,1.1183342755640366,-1.1787415859526134,-1.0902706777896773,0.5088680193304755,0.9905429637731286,-0.913328861463805,0.7054700374703339,-1.1590813841386278,-0.9624793659987695,0.9905429637731286,0.7153001383773268,0.8234312483542489,0.8725817528892135,0.7447904410983056,0.48920781751648995,0.6268292302143905,-1.0804405768826844,1.2362954864479516,-1.0902706777896773,-1.3065328977435213,0.7447904410983056,0.7939409456332704,0.931562358331171,1.187144981912987,0.7251302392843195,0.7447904410983056,0.6759797347493552,0.9217322574241781,-1.0509502741617056,-1.0706104759756916,-1.434324209534429,0.7251302392843195,-1.2573823932085568,0.8037710465402633,-1.119760980510656,0.6071690284004049,-0.8051977514868829,0.9119021565171853,-0.9821395678127552,-1.129591081417649,1.1281643764710292,0.6169991293073976,-1.237722191394571,0.941392459238164,-1.1492512832316348,-1.26721249411555,0.9905429637731286,-1.0509502741617056,1.0153439337858268,0.9905429637731286,0.7251302392843195,-0.8150278523938757,1.655005153583512,-0.3373375798163573,1.0102031655871144,-0.8098870841951634,-1.237722191394571,0.6661496338423625,0.8627516519822206,0.6169991293073976,0.7251302392843195,1.0200332664941072,0.8529215510752277,0.8922419547031994,-0.9231589623707978,0.9807128628661355,-0.913328861463805,-1.129591081417649,0.7251302392843195,-1.208231888673592,0.8922419547031994,0.7644506429122915,0.9020720556101924,-0.8838385587428261,-1.1492512832316348,1.0102031655871144,0.8627516519822206,0.7644506429122915,1.0298633674011,-0.9428191641847836,0.9610526610521498,1.074324539227784,-0.9526492650917764,0.7939409456332704,-0.9723094669057624,0.7447904410983056,0.8037710465402633,-0.7560472469519183,-1.0411201732547128,-1.011629870533734,-0.8838385587428261,-0.913328861463805,0.7841108447262773,0.8332613492612418,-1.26721249411555,1.26578578916893,0.9119021565171853,-1.208231888673592,0.8332613492612418,-0.9034987605568119,1.147824578285015,-1.119760980510656,0.7841108447262773,0.6759797347493552,-1.119760980510656,-1.247552292301564,0.8725817528892135,-1.2573823932085568,1.0986740737500504,1.0448342365068053,0.7841108447262773,1.039693468308093,1.0200332664941072,-0.9034987605568119,0.8332613492612418,1.0102031655871144,-0.8740084578358333,0.9020720556101924,-1.0411201732547128,-1.109930879603663,-1.011629870533734,-1.1885716868596063,-1.237722191394571,1.3542566973318666,-1.463814512255408,0.941392459238164,0.7153001383773268,0.8234312483542489,-0.785537549672897,-0.8150278523938758],\"yaxis\":\"y\",\"type\":\"scattergl\"}],                        {\"template\":{\"data\":{\"bar\":[{\"error_x\":{\"color\":\"#2a3f5f\"},\"error_y\":{\"color\":\"#2a3f5f\"},\"marker\":{\"line\":{\"color\":\"#E5ECF6\",\"width\":0.5},\"pattern\":{\"fillmode\":\"overlay\",\"size\":10,\"solidity\":0.2}},\"type\":\"bar\"}],\"barpolar\":[{\"marker\":{\"line\":{\"color\":\"#E5ECF6\",\"width\":0.5},\"pattern\":{\"fillmode\":\"overlay\",\"size\":10,\"solidity\":0.2}},\"type\":\"barpolar\"}],\"carpet\":[{\"aaxis\":{\"endlinecolor\":\"#2a3f5f\",\"gridcolor\":\"white\",\"linecolor\":\"white\",\"minorgridcolor\":\"white\",\"startlinecolor\":\"#2a3f5f\"},\"baxis\":{\"endlinecolor\":\"#2a3f5f\",\"gridcolor\":\"white\",\"linecolor\":\"white\",\"minorgridcolor\":\"white\",\"startlinecolor\":\"#2a3f5f\"},\"type\":\"carpet\"}],\"choropleth\":[{\"colorbar\":{\"outlinewidth\":0,\"ticks\":\"\"},\"type\":\"choropleth\"}],\"contour\":[{\"colorbar\":{\"outlinewidth\":0,\"ticks\":\"\"},\"colorscale\":[[0.0,\"#0d0887\"],[0.1111111111111111,\"#46039f\"],[0.2222222222222222,\"#7201a8\"],[0.3333333333333333,\"#9c179e\"],[0.4444444444444444,\"#bd3786\"],[0.5555555555555556,\"#d8576b\"],[0.6666666666666666,\"#ed7953\"],[0.7777777777777778,\"#fb9f3a\"],[0.8888888888888888,\"#fdca26\"],[1.0,\"#f0f921\"]],\"type\":\"contour\"}],\"contourcarpet\":[{\"colorbar\":{\"outlinewidth\":0,\"ticks\":\"\"},\"type\":\"contourcarpet\"}],\"heatmap\":[{\"colorbar\":{\"outlinewidth\":0,\"ticks\":\"\"},\"colorscale\":[[0.0,\"#0d0887\"],[0.1111111111111111,\"#46039f\"],[0.2222222222222222,\"#7201a8\"],[0.3333333333333333,\"#9c179e\"],[0.4444444444444444,\"#bd3786\"],[0.5555555555555556,\"#d8576b\"],[0.6666666666666666,\"#ed7953\"],[0.7777777777777778,\"#fb9f3a\"],[0.8888888888888888,\"#fdca26\"],[1.0,\"#f0f921\"]],\"type\":\"heatmap\"}],\"heatmapgl\":[{\"colorbar\":{\"outlinewidth\":0,\"ticks\":\"\"},\"colorscale\":[[0.0,\"#0d0887\"],[0.1111111111111111,\"#46039f\"],[0.2222222222222222,\"#7201a8\"],[0.3333333333333333,\"#9c179e\"],[0.4444444444444444,\"#bd3786\"],[0.5555555555555556,\"#d8576b\"],[0.6666666666666666,\"#ed7953\"],[0.7777777777777778,\"#fb9f3a\"],[0.8888888888888888,\"#fdca26\"],[1.0,\"#f0f921\"]],\"type\":\"heatmapgl\"}],\"histogram\":[{\"marker\":{\"pattern\":{\"fillmode\":\"overlay\",\"size\":10,\"solidity\":0.2}},\"type\":\"histogram\"}],\"histogram2d\":[{\"colorbar\":{\"outlinewidth\":0,\"ticks\":\"\"},\"colorscale\":[[0.0,\"#0d0887\"],[0.1111111111111111,\"#46039f\"],[0.2222222222222222,\"#7201a8\"],[0.3333333333333333,\"#9c179e\"],[0.4444444444444444,\"#bd3786\"],[0.5555555555555556,\"#d8576b\"],[0.6666666666666666,\"#ed7953\"],[0.7777777777777778,\"#fb9f3a\"],[0.8888888888888888,\"#fdca26\"],[1.0,\"#f0f921\"]],\"type\":\"histogram2d\"}],\"histogram2dcontour\":[{\"colorbar\":{\"outlinewidth\":0,\"ticks\":\"\"},\"colorscale\":[[0.0,\"#0d0887\"],[0.1111111111111111,\"#46039f\"],[0.2222222222222222,\"#7201a8\"],[0.3333333333333333,\"#9c179e\"],[0.4444444444444444,\"#bd3786\"],[0.5555555555555556,\"#d8576b\"],[0.6666666666666666,\"#ed7953\"],[0.7777777777777778,\"#fb9f3a\"],[0.8888888888888888,\"#fdca26\"],[1.0,\"#f0f921\"]],\"type\":\"histogram2dcontour\"}],\"mesh3d\":[{\"colorbar\":{\"outlinewidth\":0,\"ticks\":\"\"},\"type\":\"mesh3d\"}],\"parcoords\":[{\"line\":{\"colorbar\":{\"outlinewidth\":0,\"ticks\":\"\"}},\"type\":\"parcoords\"}],\"pie\":[{\"automargin\":true,\"type\":\"pie\"}],\"scatter\":[{\"marker\":{\"colorbar\":{\"outlinewidth\":0,\"ticks\":\"\"}},\"type\":\"scatter\"}],\"scatter3d\":[{\"line\":{\"colorbar\":{\"outlinewidth\":0,\"ticks\":\"\"}},\"marker\":{\"colorbar\":{\"outlinewidth\":0,\"ticks\":\"\"}},\"type\":\"scatter3d\"}],\"scattercarpet\":[{\"marker\":{\"colorbar\":{\"outlinewidth\":0,\"ticks\":\"\"}},\"type\":\"scattercarpet\"}],\"scattergeo\":[{\"marker\":{\"colorbar\":{\"outlinewidth\":0,\"ticks\":\"\"}},\"type\":\"scattergeo\"}],\"scattergl\":[{\"marker\":{\"colorbar\":{\"outlinewidth\":0,\"ticks\":\"\"}},\"type\":\"scattergl\"}],\"scattermapbox\":[{\"marker\":{\"colorbar\":{\"outlinewidth\":0,\"ticks\":\"\"}},\"type\":\"scattermapbox\"}],\"scatterpolar\":[{\"marker\":{\"colorbar\":{\"outlinewidth\":0,\"ticks\":\"\"}},\"type\":\"scatterpolar\"}],\"scatterpolargl\":[{\"marker\":{\"colorbar\":{\"outlinewidth\":0,\"ticks\":\"\"}},\"type\":\"scatterpolargl\"}],\"scatterternary\":[{\"marker\":{\"colorbar\":{\"outlinewidth\":0,\"ticks\":\"\"}},\"type\":\"scatterternary\"}],\"surface\":[{\"colorbar\":{\"outlinewidth\":0,\"ticks\":\"\"},\"colorscale\":[[0.0,\"#0d0887\"],[0.1111111111111111,\"#46039f\"],[0.2222222222222222,\"#7201a8\"],[0.3333333333333333,\"#9c179e\"],[0.4444444444444444,\"#bd3786\"],[0.5555555555555556,\"#d8576b\"],[0.6666666666666666,\"#ed7953\"],[0.7777777777777778,\"#fb9f3a\"],[0.8888888888888888,\"#fdca26\"],[1.0,\"#f0f921\"]],\"type\":\"surface\"}],\"table\":[{\"cells\":{\"fill\":{\"color\":\"#EBF0F8\"},\"line\":{\"color\":\"white\"}},\"header\":{\"fill\":{\"color\":\"#C8D4E3\"},\"line\":{\"color\":\"white\"}},\"type\":\"table\"}]},\"layout\":{\"annotationdefaults\":{\"arrowcolor\":\"#2a3f5f\",\"arrowhead\":0,\"arrowwidth\":1},\"autotypenumbers\":\"strict\",\"coloraxis\":{\"colorbar\":{\"outlinewidth\":0,\"ticks\":\"\"}},\"colorscale\":{\"diverging\":[[0,\"#8e0152\"],[0.1,\"#c51b7d\"],[0.2,\"#de77ae\"],[0.3,\"#f1b6da\"],[0.4,\"#fde0ef\"],[0.5,\"#f7f7f7\"],[0.6,\"#e6f5d0\"],[0.7,\"#b8e186\"],[0.8,\"#7fbc41\"],[0.9,\"#4d9221\"],[1,\"#276419\"]],\"sequential\":[[0.0,\"#0d0887\"],[0.1111111111111111,\"#46039f\"],[0.2222222222222222,\"#7201a8\"],[0.3333333333333333,\"#9c179e\"],[0.4444444444444444,\"#bd3786\"],[0.5555555555555556,\"#d8576b\"],[0.6666666666666666,\"#ed7953\"],[0.7777777777777778,\"#fb9f3a\"],[0.8888888888888888,\"#fdca26\"],[1.0,\"#f0f921\"]],\"sequentialminus\":[[0.0,\"#0d0887\"],[0.1111111111111111,\"#46039f\"],[0.2222222222222222,\"#7201a8\"],[0.3333333333333333,\"#9c179e\"],[0.4444444444444444,\"#bd3786\"],[0.5555555555555556,\"#d8576b\"],[0.6666666666666666,\"#ed7953\"],[0.7777777777777778,\"#fb9f3a\"],[0.8888888888888888,\"#fdca26\"],[1.0,\"#f0f921\"]]},\"colorway\":[\"#636efa\",\"#EF553B\",\"#00cc96\",\"#ab63fa\",\"#FFA15A\",\"#19d3f3\",\"#FF6692\",\"#B6E880\",\"#FF97FF\",\"#FECB52\"],\"font\":{\"color\":\"#2a3f5f\"},\"geo\":{\"bgcolor\":\"white\",\"lakecolor\":\"white\",\"landcolor\":\"#E5ECF6\",\"showlakes\":true,\"showland\":true,\"subunitcolor\":\"white\"},\"hoverlabel\":{\"align\":\"left\"},\"hovermode\":\"closest\",\"mapbox\":{\"style\":\"light\"},\"paper_bgcolor\":\"white\",\"plot_bgcolor\":\"#E5ECF6\",\"polar\":{\"angularaxis\":{\"gridcolor\":\"white\",\"linecolor\":\"white\",\"ticks\":\"\"},\"bgcolor\":\"#E5ECF6\",\"radialaxis\":{\"gridcolor\":\"white\",\"linecolor\":\"white\",\"ticks\":\"\"}},\"scene\":{\"xaxis\":{\"backgroundcolor\":\"#E5ECF6\",\"gridcolor\":\"white\",\"gridwidth\":2,\"linecolor\":\"white\",\"showbackground\":true,\"ticks\":\"\",\"zerolinecolor\":\"white\"},\"yaxis\":{\"backgroundcolor\":\"#E5ECF6\",\"gridcolor\":\"white\",\"gridwidth\":2,\"linecolor\":\"white\",\"showbackground\":true,\"ticks\":\"\",\"zerolinecolor\":\"white\"},\"zaxis\":{\"backgroundcolor\":\"#E5ECF6\",\"gridcolor\":\"white\",\"gridwidth\":2,\"linecolor\":\"white\",\"showbackground\":true,\"ticks\":\"\",\"zerolinecolor\":\"white\"}},\"shapedefaults\":{\"line\":{\"color\":\"#2a3f5f\"}},\"ternary\":{\"aaxis\":{\"gridcolor\":\"white\",\"linecolor\":\"white\",\"ticks\":\"\"},\"baxis\":{\"gridcolor\":\"white\",\"linecolor\":\"white\",\"ticks\":\"\"},\"bgcolor\":\"#E5ECF6\",\"caxis\":{\"gridcolor\":\"white\",\"linecolor\":\"white\",\"ticks\":\"\"}},\"title\":{\"x\":0.05},\"xaxis\":{\"automargin\":true,\"gridcolor\":\"white\",\"linecolor\":\"white\",\"ticks\":\"\",\"title\":{\"standoff\":15},\"zerolinecolor\":\"white\",\"zerolinewidth\":2},\"yaxis\":{\"automargin\":true,\"gridcolor\":\"white\",\"linecolor\":\"white\",\"ticks\":\"\",\"title\":{\"standoff\":15},\"zerolinecolor\":\"white\",\"zerolinewidth\":2}}},\"xaxis\":{\"anchor\":\"y\",\"domain\":[0.0,1.0],\"title\":{\"text\":\"x\"}},\"yaxis\":{\"anchor\":\"x\",\"domain\":[0.0,1.0],\"title\":{\"text\":\"y\"}},\"coloraxis\":{\"colorbar\":{\"title\":{\"text\":\"color\"}},\"colorscale\":[[0.0,\"#0d0887\"],[0.1111111111111111,\"#46039f\"],[0.2222222222222222,\"#7201a8\"],[0.3333333333333333,\"#9c179e\"],[0.4444444444444444,\"#bd3786\"],[0.5555555555555556,\"#d8576b\"],[0.6666666666666666,\"#ed7953\"],[0.7777777777777778,\"#fb9f3a\"],[0.8888888888888888,\"#fdca26\"],[1.0,\"#f0f921\"]]},\"legend\":{\"tracegroupgap\":0},\"margin\":{\"t\":60},\"title\":{\"text\":\"Agrupamento Hier\\u00e1rquico\"},\"width\":800,\"height\":500},                        {\"responsive\": true}                    ).then(function(){\n",
              "                            \n",
              "var gd = document.getElementById('89d4a72d-73b6-4849-a14f-7fd86d940249');\n",
              "var x = new MutationObserver(function (mutations, observer) {{\n",
              "        var display = window.getComputedStyle(gd).display;\n",
              "        if (!display || display === 'none') {{\n",
              "            console.log([gd, 'removed!']);\n",
              "            Plotly.purge(gd);\n",
              "            observer.disconnect();\n",
              "        }}\n",
              "}});\n",
              "\n",
              "// Listen for the removal of the full notebook cells\n",
              "var notebookContainer = gd.closest('#notebook-container');\n",
              "if (notebookContainer) {{\n",
              "    x.observe(notebookContainer, {childList: true});\n",
              "}}\n",
              "\n",
              "// Listen for the clearing of the current output cell\n",
              "var outputEl = gd.closest('.output');\n",
              "if (outputEl) {{\n",
              "    x.observe(outputEl, {childList: true});\n",
              "}}\n",
              "\n",
              "                        })                };                            </script>        </div>\n",
              "</body>\n",
              "</html>"
            ]
          },
          "metadata": {}
        }
      ]
    },
    {
      "cell_type": "markdown",
      "source": [
        "**Agrupamento**"
      ],
      "metadata": {
        "id": "1hIOXXiSPbKd"
      }
    },
    {
      "cell_type": "code",
      "source": [
        "agrupamento = pd.DataFrame(classificacao, columns = ['Grupo2'])\n",
        "agrupamento"
      ],
      "metadata": {
        "colab": {
          "base_uri": "https://localhost:8080/",
          "height": 0
        },
        "id": "hjI5bz5kSbpo",
        "outputId": "0c4885a4-56f4-4cde-e384-c0100f4ac533"
      },
      "execution_count": 331,
      "outputs": [
        {
          "output_type": "execute_result",
          "data": {
            "text/plain": [
              "      Grupo2\n",
              "0          0\n",
              "1          1\n",
              "2          1\n",
              "3          1\n",
              "4          0\n",
              "...      ...\n",
              "5898       1\n",
              "5899       1\n",
              "5900       1\n",
              "5901       0\n",
              "5902       0\n",
              "\n",
              "[5903 rows x 1 columns]"
            ],
            "text/html": [
              "\n",
              "  <div id=\"df-1b48976d-d4dd-4f64-9be8-452f250edb43\">\n",
              "    <div class=\"colab-df-container\">\n",
              "      <div>\n",
              "<style scoped>\n",
              "    .dataframe tbody tr th:only-of-type {\n",
              "        vertical-align: middle;\n",
              "    }\n",
              "\n",
              "    .dataframe tbody tr th {\n",
              "        vertical-align: top;\n",
              "    }\n",
              "\n",
              "    .dataframe thead th {\n",
              "        text-align: right;\n",
              "    }\n",
              "</style>\n",
              "<table border=\"1\" class=\"dataframe\">\n",
              "  <thead>\n",
              "    <tr style=\"text-align: right;\">\n",
              "      <th></th>\n",
              "      <th>Grupo2</th>\n",
              "    </tr>\n",
              "  </thead>\n",
              "  <tbody>\n",
              "    <tr>\n",
              "      <th>0</th>\n",
              "      <td>0</td>\n",
              "    </tr>\n",
              "    <tr>\n",
              "      <th>1</th>\n",
              "      <td>1</td>\n",
              "    </tr>\n",
              "    <tr>\n",
              "      <th>2</th>\n",
              "      <td>1</td>\n",
              "    </tr>\n",
              "    <tr>\n",
              "      <th>3</th>\n",
              "      <td>1</td>\n",
              "    </tr>\n",
              "    <tr>\n",
              "      <th>4</th>\n",
              "      <td>0</td>\n",
              "    </tr>\n",
              "    <tr>\n",
              "      <th>...</th>\n",
              "      <td>...</td>\n",
              "    </tr>\n",
              "    <tr>\n",
              "      <th>5898</th>\n",
              "      <td>1</td>\n",
              "    </tr>\n",
              "    <tr>\n",
              "      <th>5899</th>\n",
              "      <td>1</td>\n",
              "    </tr>\n",
              "    <tr>\n",
              "      <th>5900</th>\n",
              "      <td>1</td>\n",
              "    </tr>\n",
              "    <tr>\n",
              "      <th>5901</th>\n",
              "      <td>0</td>\n",
              "    </tr>\n",
              "    <tr>\n",
              "      <th>5902</th>\n",
              "      <td>0</td>\n",
              "    </tr>\n",
              "  </tbody>\n",
              "</table>\n",
              "<p>5903 rows × 1 columns</p>\n",
              "</div>\n",
              "      <button class=\"colab-df-convert\" onclick=\"convertToInteractive('df-1b48976d-d4dd-4f64-9be8-452f250edb43')\"\n",
              "              title=\"Convert this dataframe to an interactive table.\"\n",
              "              style=\"display:none;\">\n",
              "        \n",
              "  <svg xmlns=\"http://www.w3.org/2000/svg\" height=\"24px\"viewBox=\"0 0 24 24\"\n",
              "       width=\"24px\">\n",
              "    <path d=\"M0 0h24v24H0V0z\" fill=\"none\"/>\n",
              "    <path d=\"M18.56 5.44l.94 2.06.94-2.06 2.06-.94-2.06-.94-.94-2.06-.94 2.06-2.06.94zm-11 1L8.5 8.5l.94-2.06 2.06-.94-2.06-.94L8.5 2.5l-.94 2.06-2.06.94zm10 10l.94 2.06.94-2.06 2.06-.94-2.06-.94-.94-2.06-.94 2.06-2.06.94z\"/><path d=\"M17.41 7.96l-1.37-1.37c-.4-.4-.92-.59-1.43-.59-.52 0-1.04.2-1.43.59L10.3 9.45l-7.72 7.72c-.78.78-.78 2.05 0 2.83L4 21.41c.39.39.9.59 1.41.59.51 0 1.02-.2 1.41-.59l7.78-7.78 2.81-2.81c.8-.78.8-2.07 0-2.86zM5.41 20L4 18.59l7.72-7.72 1.47 1.35L5.41 20z\"/>\n",
              "  </svg>\n",
              "      </button>\n",
              "      \n",
              "  <style>\n",
              "    .colab-df-container {\n",
              "      display:flex;\n",
              "      flex-wrap:wrap;\n",
              "      gap: 12px;\n",
              "    }\n",
              "\n",
              "    .colab-df-convert {\n",
              "      background-color: #E8F0FE;\n",
              "      border: none;\n",
              "      border-radius: 50%;\n",
              "      cursor: pointer;\n",
              "      display: none;\n",
              "      fill: #1967D2;\n",
              "      height: 32px;\n",
              "      padding: 0 0 0 0;\n",
              "      width: 32px;\n",
              "    }\n",
              "\n",
              "    .colab-df-convert:hover {\n",
              "      background-color: #E2EBFA;\n",
              "      box-shadow: 0px 1px 2px rgba(60, 64, 67, 0.3), 0px 1px 3px 1px rgba(60, 64, 67, 0.15);\n",
              "      fill: #174EA6;\n",
              "    }\n",
              "\n",
              "    [theme=dark] .colab-df-convert {\n",
              "      background-color: #3B4455;\n",
              "      fill: #D2E3FC;\n",
              "    }\n",
              "\n",
              "    [theme=dark] .colab-df-convert:hover {\n",
              "      background-color: #434B5C;\n",
              "      box-shadow: 0px 1px 3px 1px rgba(0, 0, 0, 0.15);\n",
              "      filter: drop-shadow(0px 1px 2px rgba(0, 0, 0, 0.3));\n",
              "      fill: #FFFFFF;\n",
              "    }\n",
              "  </style>\n",
              "\n",
              "      <script>\n",
              "        const buttonEl =\n",
              "          document.querySelector('#df-1b48976d-d4dd-4f64-9be8-452f250edb43 button.colab-df-convert');\n",
              "        buttonEl.style.display =\n",
              "          google.colab.kernel.accessAllowed ? 'block' : 'none';\n",
              "\n",
              "        async function convertToInteractive(key) {\n",
              "          const element = document.querySelector('#df-1b48976d-d4dd-4f64-9be8-452f250edb43');\n",
              "          const dataTable =\n",
              "            await google.colab.kernel.invokeFunction('convertToInteractive',\n",
              "                                                     [key], {});\n",
              "          if (!dataTable) return;\n",
              "\n",
              "          const docLinkHtml = 'Like what you see? Visit the ' +\n",
              "            '<a target=\"_blank\" href=https://colab.research.google.com/notebooks/data_table.ipynb>data table notebook</a>'\n",
              "            + ' to learn more about interactive tables.';\n",
              "          element.innerHTML = '';\n",
              "          dataTable['output_type'] = 'display_data';\n",
              "          await google.colab.output.renderOutput(dataTable, element);\n",
              "          const docLink = document.createElement('div');\n",
              "          docLink.innerHTML = docLinkHtml;\n",
              "          element.appendChild(docLink);\n",
              "        }\n",
              "      </script>\n",
              "    </div>\n",
              "  </div>\n",
              "  "
            ]
          },
          "metadata": {},
          "execution_count": 331
        }
      ]
    },
    {
      "cell_type": "code",
      "source": [
        "df_hc = pd.concat([df2, agrupamento],axis=1)\n",
        "df_hc"
      ],
      "metadata": {
        "colab": {
          "base_uri": "https://localhost:8080/",
          "height": 0
        },
        "id": "NQtAYBeoSfdK",
        "outputId": "8779bf20-9688-4456-97b1-79146c9c761d"
      },
      "execution_count": 332,
      "outputs": [
        {
          "output_type": "execute_result",
          "data": {
            "text/plain": [
              "      IDADE  SEXO  INTERNADO  STATUS  Grupo  Grupo2\n",
              "0        54     1          0       0      1       0\n",
              "1        15     1          0       0      1       1\n",
              "2        43     1          0       0      1       1\n",
              "3        25     0          0       0      0       1\n",
              "4        58     1          0       0      1       0\n",
              "...     ...   ...        ...     ...    ...     ...\n",
              "5898     46     0          0       0      0       1\n",
              "5899     23     0          0       0      0       1\n",
              "5900     34     0          0       0      0       1\n",
              "5901     70     1          0       0      1       0\n",
              "5902     67     1          0       0      1       0\n",
              "\n",
              "[5903 rows x 6 columns]"
            ],
            "text/html": [
              "\n",
              "  <div id=\"df-efb897f4-1281-4f62-b077-f929bf35ee62\">\n",
              "    <div class=\"colab-df-container\">\n",
              "      <div>\n",
              "<style scoped>\n",
              "    .dataframe tbody tr th:only-of-type {\n",
              "        vertical-align: middle;\n",
              "    }\n",
              "\n",
              "    .dataframe tbody tr th {\n",
              "        vertical-align: top;\n",
              "    }\n",
              "\n",
              "    .dataframe thead th {\n",
              "        text-align: right;\n",
              "    }\n",
              "</style>\n",
              "<table border=\"1\" class=\"dataframe\">\n",
              "  <thead>\n",
              "    <tr style=\"text-align: right;\">\n",
              "      <th></th>\n",
              "      <th>IDADE</th>\n",
              "      <th>SEXO</th>\n",
              "      <th>INTERNADO</th>\n",
              "      <th>STATUS</th>\n",
              "      <th>Grupo</th>\n",
              "      <th>Grupo2</th>\n",
              "    </tr>\n",
              "  </thead>\n",
              "  <tbody>\n",
              "    <tr>\n",
              "      <th>0</th>\n",
              "      <td>54</td>\n",
              "      <td>1</td>\n",
              "      <td>0</td>\n",
              "      <td>0</td>\n",
              "      <td>1</td>\n",
              "      <td>0</td>\n",
              "    </tr>\n",
              "    <tr>\n",
              "      <th>1</th>\n",
              "      <td>15</td>\n",
              "      <td>1</td>\n",
              "      <td>0</td>\n",
              "      <td>0</td>\n",
              "      <td>1</td>\n",
              "      <td>1</td>\n",
              "    </tr>\n",
              "    <tr>\n",
              "      <th>2</th>\n",
              "      <td>43</td>\n",
              "      <td>1</td>\n",
              "      <td>0</td>\n",
              "      <td>0</td>\n",
              "      <td>1</td>\n",
              "      <td>1</td>\n",
              "    </tr>\n",
              "    <tr>\n",
              "      <th>3</th>\n",
              "      <td>25</td>\n",
              "      <td>0</td>\n",
              "      <td>0</td>\n",
              "      <td>0</td>\n",
              "      <td>0</td>\n",
              "      <td>1</td>\n",
              "    </tr>\n",
              "    <tr>\n",
              "      <th>4</th>\n",
              "      <td>58</td>\n",
              "      <td>1</td>\n",
              "      <td>0</td>\n",
              "      <td>0</td>\n",
              "      <td>1</td>\n",
              "      <td>0</td>\n",
              "    </tr>\n",
              "    <tr>\n",
              "      <th>...</th>\n",
              "      <td>...</td>\n",
              "      <td>...</td>\n",
              "      <td>...</td>\n",
              "      <td>...</td>\n",
              "      <td>...</td>\n",
              "      <td>...</td>\n",
              "    </tr>\n",
              "    <tr>\n",
              "      <th>5898</th>\n",
              "      <td>46</td>\n",
              "      <td>0</td>\n",
              "      <td>0</td>\n",
              "      <td>0</td>\n",
              "      <td>0</td>\n",
              "      <td>1</td>\n",
              "    </tr>\n",
              "    <tr>\n",
              "      <th>5899</th>\n",
              "      <td>23</td>\n",
              "      <td>0</td>\n",
              "      <td>0</td>\n",
              "      <td>0</td>\n",
              "      <td>0</td>\n",
              "      <td>1</td>\n",
              "    </tr>\n",
              "    <tr>\n",
              "      <th>5900</th>\n",
              "      <td>34</td>\n",
              "      <td>0</td>\n",
              "      <td>0</td>\n",
              "      <td>0</td>\n",
              "      <td>0</td>\n",
              "      <td>1</td>\n",
              "    </tr>\n",
              "    <tr>\n",
              "      <th>5901</th>\n",
              "      <td>70</td>\n",
              "      <td>1</td>\n",
              "      <td>0</td>\n",
              "      <td>0</td>\n",
              "      <td>1</td>\n",
              "      <td>0</td>\n",
              "    </tr>\n",
              "    <tr>\n",
              "      <th>5902</th>\n",
              "      <td>67</td>\n",
              "      <td>1</td>\n",
              "      <td>0</td>\n",
              "      <td>0</td>\n",
              "      <td>1</td>\n",
              "      <td>0</td>\n",
              "    </tr>\n",
              "  </tbody>\n",
              "</table>\n",
              "<p>5903 rows × 6 columns</p>\n",
              "</div>\n",
              "      <button class=\"colab-df-convert\" onclick=\"convertToInteractive('df-efb897f4-1281-4f62-b077-f929bf35ee62')\"\n",
              "              title=\"Convert this dataframe to an interactive table.\"\n",
              "              style=\"display:none;\">\n",
              "        \n",
              "  <svg xmlns=\"http://www.w3.org/2000/svg\" height=\"24px\"viewBox=\"0 0 24 24\"\n",
              "       width=\"24px\">\n",
              "    <path d=\"M0 0h24v24H0V0z\" fill=\"none\"/>\n",
              "    <path d=\"M18.56 5.44l.94 2.06.94-2.06 2.06-.94-2.06-.94-.94-2.06-.94 2.06-2.06.94zm-11 1L8.5 8.5l.94-2.06 2.06-.94-2.06-.94L8.5 2.5l-.94 2.06-2.06.94zm10 10l.94 2.06.94-2.06 2.06-.94-2.06-.94-.94-2.06-.94 2.06-2.06.94z\"/><path d=\"M17.41 7.96l-1.37-1.37c-.4-.4-.92-.59-1.43-.59-.52 0-1.04.2-1.43.59L10.3 9.45l-7.72 7.72c-.78.78-.78 2.05 0 2.83L4 21.41c.39.39.9.59 1.41.59.51 0 1.02-.2 1.41-.59l7.78-7.78 2.81-2.81c.8-.78.8-2.07 0-2.86zM5.41 20L4 18.59l7.72-7.72 1.47 1.35L5.41 20z\"/>\n",
              "  </svg>\n",
              "      </button>\n",
              "      \n",
              "  <style>\n",
              "    .colab-df-container {\n",
              "      display:flex;\n",
              "      flex-wrap:wrap;\n",
              "      gap: 12px;\n",
              "    }\n",
              "\n",
              "    .colab-df-convert {\n",
              "      background-color: #E8F0FE;\n",
              "      border: none;\n",
              "      border-radius: 50%;\n",
              "      cursor: pointer;\n",
              "      display: none;\n",
              "      fill: #1967D2;\n",
              "      height: 32px;\n",
              "      padding: 0 0 0 0;\n",
              "      width: 32px;\n",
              "    }\n",
              "\n",
              "    .colab-df-convert:hover {\n",
              "      background-color: #E2EBFA;\n",
              "      box-shadow: 0px 1px 2px rgba(60, 64, 67, 0.3), 0px 1px 3px 1px rgba(60, 64, 67, 0.15);\n",
              "      fill: #174EA6;\n",
              "    }\n",
              "\n",
              "    [theme=dark] .colab-df-convert {\n",
              "      background-color: #3B4455;\n",
              "      fill: #D2E3FC;\n",
              "    }\n",
              "\n",
              "    [theme=dark] .colab-df-convert:hover {\n",
              "      background-color: #434B5C;\n",
              "      box-shadow: 0px 1px 3px 1px rgba(0, 0, 0, 0.15);\n",
              "      filter: drop-shadow(0px 1px 2px rgba(0, 0, 0, 0.3));\n",
              "      fill: #FFFFFF;\n",
              "    }\n",
              "  </style>\n",
              "\n",
              "      <script>\n",
              "        const buttonEl =\n",
              "          document.querySelector('#df-efb897f4-1281-4f62-b077-f929bf35ee62 button.colab-df-convert');\n",
              "        buttonEl.style.display =\n",
              "          google.colab.kernel.accessAllowed ? 'block' : 'none';\n",
              "\n",
              "        async function convertToInteractive(key) {\n",
              "          const element = document.querySelector('#df-efb897f4-1281-4f62-b077-f929bf35ee62');\n",
              "          const dataTable =\n",
              "            await google.colab.kernel.invokeFunction('convertToInteractive',\n",
              "                                                     [key], {});\n",
              "          if (!dataTable) return;\n",
              "\n",
              "          const docLinkHtml = 'Like what you see? Visit the ' +\n",
              "            '<a target=\"_blank\" href=https://colab.research.google.com/notebooks/data_table.ipynb>data table notebook</a>'\n",
              "            + ' to learn more about interactive tables.';\n",
              "          element.innerHTML = '';\n",
              "          dataTable['output_type'] = 'display_data';\n",
              "          await google.colab.output.renderOutput(dataTable, element);\n",
              "          const docLink = document.createElement('div');\n",
              "          docLink.innerHTML = docLinkHtml;\n",
              "          element.appendChild(docLink);\n",
              "        }\n",
              "      </script>\n",
              "    </div>\n",
              "  </div>\n",
              "  "
            ]
          },
          "metadata": {},
          "execution_count": 332
        }
      ]
    }
  ]
}