{
  "nbformat": 4,
  "nbformat_minor": 0,
  "metadata": {
    "colab": {
      "provenance": [],
      "authorship_tag": "ABX9TyPriwsLus83B5i1UTi+8I7w",
      "include_colab_link": true
    },
    "kernelspec": {
      "name": "python3",
      "display_name": "Python 3"
    },
    "language_info": {
      "name": "python"
    }
  },
  "cells": [
    {
      "cell_type": "markdown",
      "metadata": {
        "id": "view-in-github",
        "colab_type": "text"
      },
      "source": [
        "<a href=\"https://colab.research.google.com/github/gabrieldilay/NaoSupervisionadoCovid/blob/main/CovidNaoSupervisionado.ipynb\" target=\"_parent\"><img src=\"https://colab.research.google.com/assets/colab-badge.svg\" alt=\"Open In Colab\"/></a>"
      ]
    },
    {
      "cell_type": "code",
      "execution_count": 168,
      "metadata": {
        "id": "ftqXh8LWID8U"
      },
      "outputs": [],
      "source": [
        "import numpy as np\n",
        "import pandas as pd"
      ]
    },
    {
      "cell_type": "code",
      "source": [
        "from google.colab import drive\n",
        "drive.mount('/content/drive')"
      ],
      "metadata": {
        "colab": {
          "base_uri": "https://localhost:8080/"
        },
        "id": "M-rr7J5zIEx0",
        "outputId": "1752af84-52da-47ca-a70d-8c840e6ba970"
      },
      "execution_count": 169,
      "outputs": [
        {
          "output_type": "stream",
          "name": "stdout",
          "text": [
            "Drive already mounted at /content/drive; to attempt to forcibly remount, call drive.mount(\"/content/drive\", force_remount=True).\n"
          ]
        }
      ]
    },
    {
      "cell_type": "code",
      "source": [
        "import warnings\n",
        "warnings.filterwarnings(\"ignore\")"
      ],
      "metadata": {
        "id": "g2t70f13IF_s"
      },
      "execution_count": 170,
      "outputs": []
    },
    {
      "cell_type": "code",
      "source": [
        "df = pd.read_csv('/content/drive/MyDrive/TrabNaoSupervisionado/menor.csv',\n",
        "                    sep=';', encoding='iso-8859-1')"
      ],
      "metadata": {
        "id": "1Qf6WLhFIHQd"
      },
      "execution_count": 171,
      "outputs": []
    },
    {
      "cell_type": "code",
      "source": [
        "df.head()"
      ],
      "metadata": {
        "colab": {
          "base_uri": "https://localhost:8080/",
          "height": 206
        },
        "id": "OGUI_WqRIIjU",
        "outputId": "c415f5cc-6c91-45a1-cfe4-344eb45034f9"
      },
      "execution_count": 172,
      "outputs": [
        {
          "output_type": "execute_result",
          "data": {
            "text/plain": [
              "  DATA INCLUSÃO/ NOTIFICAÇÃO CLASSIFICAÇÃO FINAL  IDADE (anos) SEXO  \\\n",
              "0                 11/03/2020          CONFIRMADO            54    M   \n",
              "1                 12/03/2020          CONFIRMADO            15    M   \n",
              "2                 12/03/2020          CONFIRMADO            43    M   \n",
              "3                 12/03/2020          CONFIRMADO            25    F   \n",
              "4                 12/03/2020          CONFIRMADO            58    M   \n",
              "\n",
              "       BAIRRO DISTRITO RESIDÊNCIA INTERNADO (SIM/NÃO) DATA COLETA EXAME  \\\n",
              "0  CRISTO REI                DSMZ                 NÃO        09/03/2020   \n",
              "1       XAXIM                DSBQ                 NÃO        08/03/2020   \n",
              "2       XAXIM                DSBQ                 NÃO        09/03/2020   \n",
              "3  CRISTO REI                DSMZ                 NÃO        09/03/2020   \n",
              "4      MERCÊS                DSMZ                 NÃO        09/03/2020   \n",
              "\n",
              "  DATA ÓBITO ENCERRAMENTO  \n",
              "0        NaN   RECUPERADO  \n",
              "1        NaN   RECUPERADO  \n",
              "2        NaN   RECUPERADO  \n",
              "3        NaN   RECUPERADO  \n",
              "4        NaN   RECUPERADO  "
            ],
            "text/html": [
              "\n",
              "  <div id=\"df-b9f13f3d-7f31-423e-8f30-a25c33079f51\">\n",
              "    <div class=\"colab-df-container\">\n",
              "      <div>\n",
              "<style scoped>\n",
              "    .dataframe tbody tr th:only-of-type {\n",
              "        vertical-align: middle;\n",
              "    }\n",
              "\n",
              "    .dataframe tbody tr th {\n",
              "        vertical-align: top;\n",
              "    }\n",
              "\n",
              "    .dataframe thead th {\n",
              "        text-align: right;\n",
              "    }\n",
              "</style>\n",
              "<table border=\"1\" class=\"dataframe\">\n",
              "  <thead>\n",
              "    <tr style=\"text-align: right;\">\n",
              "      <th></th>\n",
              "      <th>DATA INCLUSÃO/ NOTIFICAÇÃO</th>\n",
              "      <th>CLASSIFICAÇÃO FINAL</th>\n",
              "      <th>IDADE (anos)</th>\n",
              "      <th>SEXO</th>\n",
              "      <th>BAIRRO</th>\n",
              "      <th>DISTRITO RESIDÊNCIA</th>\n",
              "      <th>INTERNADO (SIM/NÃO)</th>\n",
              "      <th>DATA COLETA EXAME</th>\n",
              "      <th>DATA ÓBITO</th>\n",
              "      <th>ENCERRAMENTO</th>\n",
              "    </tr>\n",
              "  </thead>\n",
              "  <tbody>\n",
              "    <tr>\n",
              "      <th>0</th>\n",
              "      <td>11/03/2020</td>\n",
              "      <td>CONFIRMADO</td>\n",
              "      <td>54</td>\n",
              "      <td>M</td>\n",
              "      <td>CRISTO REI</td>\n",
              "      <td>DSMZ</td>\n",
              "      <td>NÃO</td>\n",
              "      <td>09/03/2020</td>\n",
              "      <td>NaN</td>\n",
              "      <td>RECUPERADO</td>\n",
              "    </tr>\n",
              "    <tr>\n",
              "      <th>1</th>\n",
              "      <td>12/03/2020</td>\n",
              "      <td>CONFIRMADO</td>\n",
              "      <td>15</td>\n",
              "      <td>M</td>\n",
              "      <td>XAXIM</td>\n",
              "      <td>DSBQ</td>\n",
              "      <td>NÃO</td>\n",
              "      <td>08/03/2020</td>\n",
              "      <td>NaN</td>\n",
              "      <td>RECUPERADO</td>\n",
              "    </tr>\n",
              "    <tr>\n",
              "      <th>2</th>\n",
              "      <td>12/03/2020</td>\n",
              "      <td>CONFIRMADO</td>\n",
              "      <td>43</td>\n",
              "      <td>M</td>\n",
              "      <td>XAXIM</td>\n",
              "      <td>DSBQ</td>\n",
              "      <td>NÃO</td>\n",
              "      <td>09/03/2020</td>\n",
              "      <td>NaN</td>\n",
              "      <td>RECUPERADO</td>\n",
              "    </tr>\n",
              "    <tr>\n",
              "      <th>3</th>\n",
              "      <td>12/03/2020</td>\n",
              "      <td>CONFIRMADO</td>\n",
              "      <td>25</td>\n",
              "      <td>F</td>\n",
              "      <td>CRISTO REI</td>\n",
              "      <td>DSMZ</td>\n",
              "      <td>NÃO</td>\n",
              "      <td>09/03/2020</td>\n",
              "      <td>NaN</td>\n",
              "      <td>RECUPERADO</td>\n",
              "    </tr>\n",
              "    <tr>\n",
              "      <th>4</th>\n",
              "      <td>12/03/2020</td>\n",
              "      <td>CONFIRMADO</td>\n",
              "      <td>58</td>\n",
              "      <td>M</td>\n",
              "      <td>MERCÊS</td>\n",
              "      <td>DSMZ</td>\n",
              "      <td>NÃO</td>\n",
              "      <td>09/03/2020</td>\n",
              "      <td>NaN</td>\n",
              "      <td>RECUPERADO</td>\n",
              "    </tr>\n",
              "  </tbody>\n",
              "</table>\n",
              "</div>\n",
              "      <button class=\"colab-df-convert\" onclick=\"convertToInteractive('df-b9f13f3d-7f31-423e-8f30-a25c33079f51')\"\n",
              "              title=\"Convert this dataframe to an interactive table.\"\n",
              "              style=\"display:none;\">\n",
              "        \n",
              "  <svg xmlns=\"http://www.w3.org/2000/svg\" height=\"24px\"viewBox=\"0 0 24 24\"\n",
              "       width=\"24px\">\n",
              "    <path d=\"M0 0h24v24H0V0z\" fill=\"none\"/>\n",
              "    <path d=\"M18.56 5.44l.94 2.06.94-2.06 2.06-.94-2.06-.94-.94-2.06-.94 2.06-2.06.94zm-11 1L8.5 8.5l.94-2.06 2.06-.94-2.06-.94L8.5 2.5l-.94 2.06-2.06.94zm10 10l.94 2.06.94-2.06 2.06-.94-2.06-.94-.94-2.06-.94 2.06-2.06.94z\"/><path d=\"M17.41 7.96l-1.37-1.37c-.4-.4-.92-.59-1.43-.59-.52 0-1.04.2-1.43.59L10.3 9.45l-7.72 7.72c-.78.78-.78 2.05 0 2.83L4 21.41c.39.39.9.59 1.41.59.51 0 1.02-.2 1.41-.59l7.78-7.78 2.81-2.81c.8-.78.8-2.07 0-2.86zM5.41 20L4 18.59l7.72-7.72 1.47 1.35L5.41 20z\"/>\n",
              "  </svg>\n",
              "      </button>\n",
              "      \n",
              "  <style>\n",
              "    .colab-df-container {\n",
              "      display:flex;\n",
              "      flex-wrap:wrap;\n",
              "      gap: 12px;\n",
              "    }\n",
              "\n",
              "    .colab-df-convert {\n",
              "      background-color: #E8F0FE;\n",
              "      border: none;\n",
              "      border-radius: 50%;\n",
              "      cursor: pointer;\n",
              "      display: none;\n",
              "      fill: #1967D2;\n",
              "      height: 32px;\n",
              "      padding: 0 0 0 0;\n",
              "      width: 32px;\n",
              "    }\n",
              "\n",
              "    .colab-df-convert:hover {\n",
              "      background-color: #E2EBFA;\n",
              "      box-shadow: 0px 1px 2px rgba(60, 64, 67, 0.3), 0px 1px 3px 1px rgba(60, 64, 67, 0.15);\n",
              "      fill: #174EA6;\n",
              "    }\n",
              "\n",
              "    [theme=dark] .colab-df-convert {\n",
              "      background-color: #3B4455;\n",
              "      fill: #D2E3FC;\n",
              "    }\n",
              "\n",
              "    [theme=dark] .colab-df-convert:hover {\n",
              "      background-color: #434B5C;\n",
              "      box-shadow: 0px 1px 3px 1px rgba(0, 0, 0, 0.15);\n",
              "      filter: drop-shadow(0px 1px 2px rgba(0, 0, 0, 0.3));\n",
              "      fill: #FFFFFF;\n",
              "    }\n",
              "  </style>\n",
              "\n",
              "      <script>\n",
              "        const buttonEl =\n",
              "          document.querySelector('#df-b9f13f3d-7f31-423e-8f30-a25c33079f51 button.colab-df-convert');\n",
              "        buttonEl.style.display =\n",
              "          google.colab.kernel.accessAllowed ? 'block' : 'none';\n",
              "\n",
              "        async function convertToInteractive(key) {\n",
              "          const element = document.querySelector('#df-b9f13f3d-7f31-423e-8f30-a25c33079f51');\n",
              "          const dataTable =\n",
              "            await google.colab.kernel.invokeFunction('convertToInteractive',\n",
              "                                                     [key], {});\n",
              "          if (!dataTable) return;\n",
              "\n",
              "          const docLinkHtml = 'Like what you see? Visit the ' +\n",
              "            '<a target=\"_blank\" href=https://colab.research.google.com/notebooks/data_table.ipynb>data table notebook</a>'\n",
              "            + ' to learn more about interactive tables.';\n",
              "          element.innerHTML = '';\n",
              "          dataTable['output_type'] = 'display_data';\n",
              "          await google.colab.output.renderOutput(dataTable, element);\n",
              "          const docLink = document.createElement('div');\n",
              "          docLink.innerHTML = docLinkHtml;\n",
              "          element.appendChild(docLink);\n",
              "        }\n",
              "      </script>\n",
              "    </div>\n",
              "  </div>\n",
              "  "
            ]
          },
          "metadata": {},
          "execution_count": 172
        }
      ]
    },
    {
      "cell_type": "code",
      "source": [
        "df.info()"
      ],
      "metadata": {
        "colab": {
          "base_uri": "https://localhost:8080/"
        },
        "id": "jSxOmvgkRNoW",
        "outputId": "0c600f83-0b94-40ea-84f1-74b7cdd545f0"
      },
      "execution_count": 173,
      "outputs": [
        {
          "output_type": "stream",
          "name": "stdout",
          "text": [
            "<class 'pandas.core.frame.DataFrame'>\n",
            "RangeIndex: 5903 entries, 0 to 5902\n",
            "Data columns (total 10 columns):\n",
            " #   Column                      Non-Null Count  Dtype \n",
            "---  ------                      --------------  ----- \n",
            " 0   DATA INCLUSÃO/ NOTIFICAÇÃO  5903 non-null   object\n",
            " 1   CLASSIFICAÇÃO FINAL         5903 non-null   object\n",
            " 2   IDADE (anos)                5903 non-null   int64 \n",
            " 3   SEXO                        5903 non-null   object\n",
            " 4   BAIRRO                      5877 non-null   object\n",
            " 5   DISTRITO RESIDÊNCIA         5877 non-null   object\n",
            " 6   INTERNADO (SIM/NÃO)         5903 non-null   object\n",
            " 7   DATA COLETA EXAME           5903 non-null   object\n",
            " 8   DATA ÓBITO                  281 non-null    object\n",
            " 9   ENCERRAMENTO                5903 non-null   object\n",
            "dtypes: int64(1), object(9)\n",
            "memory usage: 461.3+ KB\n"
          ]
        }
      ]
    },
    {
      "cell_type": "markdown",
      "source": [
        "## Limpeza e Tratamento dos dados"
      ],
      "metadata": {
        "id": "-tAdOT4VLk8G"
      }
    },
    {
      "cell_type": "code",
      "source": [
        "#Verificar os valores unicos da coluna CLASSIFICAÇÃO FINAL\n",
        "df['CLASSIFICAÇÃO FINAL'].unique()"
      ],
      "metadata": {
        "colab": {
          "base_uri": "https://localhost:8080/"
        },
        "id": "tU3RIdL9Imad",
        "outputId": "d86a43a6-826b-4ad5-e178-0bb9920c093d"
      },
      "execution_count": 174,
      "outputs": [
        {
          "output_type": "execute_result",
          "data": {
            "text/plain": [
              "array(['CONFIRMADO'], dtype=object)"
            ]
          },
          "metadata": {},
          "execution_count": 174
        }
      ]
    },
    {
      "cell_type": "code",
      "source": [
        "#Verificar os valores unicos da coluna ENCERRAMENTO\n",
        "df['ENCERRAMENTO'].unique()"
      ],
      "metadata": {
        "colab": {
          "base_uri": "https://localhost:8080/"
        },
        "id": "eRHZPUUuIxv0",
        "outputId": "1cfe5cc2-8486-4444-c7a3-b592d81887a4"
      },
      "execution_count": 175,
      "outputs": [
        {
          "output_type": "execute_result",
          "data": {
            "text/plain": [
              "array(['RECUPERADO', 'ÓBITO CONF'], dtype=object)"
            ]
          },
          "metadata": {},
          "execution_count": 175
        }
      ]
    },
    {
      "cell_type": "code",
      "source": [
        "#SUBSTITUIR OS VALORES POR NUMEROS\n",
        "#RECUPERADO = 0, OBITO = 1, ATIVO = 2\n",
        "\n",
        "df['ENCERRAMENTO'].replace({'RECUPERADO':0, 'ÓBITO CONF':1, 'ATIVO':2}, inplace=True)"
      ],
      "metadata": {
        "id": "bmLcnr5OJIAE"
      },
      "execution_count": 176,
      "outputs": []
    },
    {
      "cell_type": "code",
      "source": [
        "df['ENCERRAMENTO'].unique()"
      ],
      "metadata": {
        "colab": {
          "base_uri": "https://localhost:8080/"
        },
        "id": "7MZsqO0TJQsX",
        "outputId": "5135098d-9b83-4d2a-c257-dcc4da2d7bfd"
      },
      "execution_count": 177,
      "outputs": [
        {
          "output_type": "execute_result",
          "data": {
            "text/plain": [
              "array([0, 1])"
            ]
          },
          "metadata": {},
          "execution_count": 177
        }
      ]
    },
    {
      "cell_type": "code",
      "source": [
        "#TROCAR O NOME DA COLUNA ENCERRAMENTO PARA STATUS\n",
        "df.rename(columns={'ENCERRAMENTO': 'STATUS'}, inplace=True)"
      ],
      "metadata": {
        "id": "zRgUQd-DLN2-"
      },
      "execution_count": 178,
      "outputs": []
    },
    {
      "cell_type": "code",
      "source": [
        "#TROCAR O NOME DA COLUNA IDADE (ANOS) PARA IDADE\n",
        "df.rename(columns={'IDADE (anos)': 'IDADE'}, inplace=True)"
      ],
      "metadata": {
        "id": "BZklvQAJJYQz"
      },
      "execution_count": 179,
      "outputs": []
    },
    {
      "cell_type": "code",
      "source": [
        "#TROCAR O NOME DA COLUNA INTERNADO (SIM/NAO) PARA INTERNADO\n",
        "df.rename(columns={'INTERNADO (SIM/NÃO)': 'INTERNADO'}, inplace=True)"
      ],
      "metadata": {
        "id": "rcS1KTmbJjpb"
      },
      "execution_count": 180,
      "outputs": []
    },
    {
      "cell_type": "code",
      "source": [
        "df['INTERNADO'].unique()"
      ],
      "metadata": {
        "colab": {
          "base_uri": "https://localhost:8080/"
        },
        "id": "VmU2nJNsJnql",
        "outputId": "2fcf04fc-6e8a-47e7-80ca-f7d3871efe44"
      },
      "execution_count": 181,
      "outputs": [
        {
          "output_type": "execute_result",
          "data": {
            "text/plain": [
              "array(['NÃO', 'SIM'], dtype=object)"
            ]
          },
          "metadata": {},
          "execution_count": 181
        }
      ]
    },
    {
      "cell_type": "code",
      "source": [
        "#TROCANDO UM VALOR ERRADO sIM para SIM\n",
        "df['INTERNADO'].replace({'sIM':'SIM'}, inplace=True)"
      ],
      "metadata": {
        "id": "lIVctyJ7JtPO"
      },
      "execution_count": 182,
      "outputs": []
    },
    {
      "cell_type": "code",
      "source": [
        "df['INTERNADO'].unique()"
      ],
      "metadata": {
        "colab": {
          "base_uri": "https://localhost:8080/"
        },
        "id": "4EWAZdqUJ1C3",
        "outputId": "d6813afd-7f7e-42ab-f553-d76d2063a8cd"
      },
      "execution_count": 183,
      "outputs": [
        {
          "output_type": "execute_result",
          "data": {
            "text/plain": [
              "array(['NÃO', 'SIM'], dtype=object)"
            ]
          },
          "metadata": {},
          "execution_count": 183
        }
      ]
    },
    {
      "cell_type": "code",
      "source": [
        "#SUBSTITUIR VALORES DA COLUNA INTERNADO PARA NUMEROS\n",
        "#NAO = 0 E SIM = 1\n",
        "df['INTERNADO'].replace({'NÃO':0, 'SIM':1}, inplace=True)"
      ],
      "metadata": {
        "id": "SsUN0cDAJ3ek"
      },
      "execution_count": 184,
      "outputs": []
    },
    {
      "cell_type": "code",
      "source": [
        "df['SEXO'].unique()"
      ],
      "metadata": {
        "colab": {
          "base_uri": "https://localhost:8080/"
        },
        "id": "NyMesCReNEA8",
        "outputId": "dd9527ee-95d3-485f-b2d8-0e4f592f3c2b"
      },
      "execution_count": 185,
      "outputs": [
        {
          "output_type": "execute_result",
          "data": {
            "text/plain": [
              "array(['M', 'F'], dtype=object)"
            ]
          },
          "metadata": {},
          "execution_count": 185
        }
      ]
    },
    {
      "cell_type": "code",
      "source": [
        "#SUBSTITUIR VALORES DA COLUNA SEXO PARA UM PADRAO\n",
        "df['SEXO'].replace({'m':'M', 'f':'F'}, inplace=True)"
      ],
      "metadata": {
        "id": "XGWbxRpCNGbs"
      },
      "execution_count": 186,
      "outputs": []
    },
    {
      "cell_type": "code",
      "source": [
        "df.head()"
      ],
      "metadata": {
        "colab": {
          "base_uri": "https://localhost:8080/",
          "height": 206
        },
        "id": "z1rglFOJJ_b0",
        "outputId": "a533917a-a4c4-41f2-e47b-2889ed659f32"
      },
      "execution_count": 187,
      "outputs": [
        {
          "output_type": "execute_result",
          "data": {
            "text/plain": [
              "  DATA INCLUSÃO/ NOTIFICAÇÃO CLASSIFICAÇÃO FINAL  IDADE SEXO      BAIRRO  \\\n",
              "0                 11/03/2020          CONFIRMADO     54    M  CRISTO REI   \n",
              "1                 12/03/2020          CONFIRMADO     15    M       XAXIM   \n",
              "2                 12/03/2020          CONFIRMADO     43    M       XAXIM   \n",
              "3                 12/03/2020          CONFIRMADO     25    F  CRISTO REI   \n",
              "4                 12/03/2020          CONFIRMADO     58    M      MERCÊS   \n",
              "\n",
              "  DISTRITO RESIDÊNCIA  INTERNADO DATA COLETA EXAME DATA ÓBITO  STATUS  \n",
              "0                DSMZ          0        09/03/2020        NaN       0  \n",
              "1                DSBQ          0        08/03/2020        NaN       0  \n",
              "2                DSBQ          0        09/03/2020        NaN       0  \n",
              "3                DSMZ          0        09/03/2020        NaN       0  \n",
              "4                DSMZ          0        09/03/2020        NaN       0  "
            ],
            "text/html": [
              "\n",
              "  <div id=\"df-b6c6a978-10b6-41b1-b801-7260897af636\">\n",
              "    <div class=\"colab-df-container\">\n",
              "      <div>\n",
              "<style scoped>\n",
              "    .dataframe tbody tr th:only-of-type {\n",
              "        vertical-align: middle;\n",
              "    }\n",
              "\n",
              "    .dataframe tbody tr th {\n",
              "        vertical-align: top;\n",
              "    }\n",
              "\n",
              "    .dataframe thead th {\n",
              "        text-align: right;\n",
              "    }\n",
              "</style>\n",
              "<table border=\"1\" class=\"dataframe\">\n",
              "  <thead>\n",
              "    <tr style=\"text-align: right;\">\n",
              "      <th></th>\n",
              "      <th>DATA INCLUSÃO/ NOTIFICAÇÃO</th>\n",
              "      <th>CLASSIFICAÇÃO FINAL</th>\n",
              "      <th>IDADE</th>\n",
              "      <th>SEXO</th>\n",
              "      <th>BAIRRO</th>\n",
              "      <th>DISTRITO RESIDÊNCIA</th>\n",
              "      <th>INTERNADO</th>\n",
              "      <th>DATA COLETA EXAME</th>\n",
              "      <th>DATA ÓBITO</th>\n",
              "      <th>STATUS</th>\n",
              "    </tr>\n",
              "  </thead>\n",
              "  <tbody>\n",
              "    <tr>\n",
              "      <th>0</th>\n",
              "      <td>11/03/2020</td>\n",
              "      <td>CONFIRMADO</td>\n",
              "      <td>54</td>\n",
              "      <td>M</td>\n",
              "      <td>CRISTO REI</td>\n",
              "      <td>DSMZ</td>\n",
              "      <td>0</td>\n",
              "      <td>09/03/2020</td>\n",
              "      <td>NaN</td>\n",
              "      <td>0</td>\n",
              "    </tr>\n",
              "    <tr>\n",
              "      <th>1</th>\n",
              "      <td>12/03/2020</td>\n",
              "      <td>CONFIRMADO</td>\n",
              "      <td>15</td>\n",
              "      <td>M</td>\n",
              "      <td>XAXIM</td>\n",
              "      <td>DSBQ</td>\n",
              "      <td>0</td>\n",
              "      <td>08/03/2020</td>\n",
              "      <td>NaN</td>\n",
              "      <td>0</td>\n",
              "    </tr>\n",
              "    <tr>\n",
              "      <th>2</th>\n",
              "      <td>12/03/2020</td>\n",
              "      <td>CONFIRMADO</td>\n",
              "      <td>43</td>\n",
              "      <td>M</td>\n",
              "      <td>XAXIM</td>\n",
              "      <td>DSBQ</td>\n",
              "      <td>0</td>\n",
              "      <td>09/03/2020</td>\n",
              "      <td>NaN</td>\n",
              "      <td>0</td>\n",
              "    </tr>\n",
              "    <tr>\n",
              "      <th>3</th>\n",
              "      <td>12/03/2020</td>\n",
              "      <td>CONFIRMADO</td>\n",
              "      <td>25</td>\n",
              "      <td>F</td>\n",
              "      <td>CRISTO REI</td>\n",
              "      <td>DSMZ</td>\n",
              "      <td>0</td>\n",
              "      <td>09/03/2020</td>\n",
              "      <td>NaN</td>\n",
              "      <td>0</td>\n",
              "    </tr>\n",
              "    <tr>\n",
              "      <th>4</th>\n",
              "      <td>12/03/2020</td>\n",
              "      <td>CONFIRMADO</td>\n",
              "      <td>58</td>\n",
              "      <td>M</td>\n",
              "      <td>MERCÊS</td>\n",
              "      <td>DSMZ</td>\n",
              "      <td>0</td>\n",
              "      <td>09/03/2020</td>\n",
              "      <td>NaN</td>\n",
              "      <td>0</td>\n",
              "    </tr>\n",
              "  </tbody>\n",
              "</table>\n",
              "</div>\n",
              "      <button class=\"colab-df-convert\" onclick=\"convertToInteractive('df-b6c6a978-10b6-41b1-b801-7260897af636')\"\n",
              "              title=\"Convert this dataframe to an interactive table.\"\n",
              "              style=\"display:none;\">\n",
              "        \n",
              "  <svg xmlns=\"http://www.w3.org/2000/svg\" height=\"24px\"viewBox=\"0 0 24 24\"\n",
              "       width=\"24px\">\n",
              "    <path d=\"M0 0h24v24H0V0z\" fill=\"none\"/>\n",
              "    <path d=\"M18.56 5.44l.94 2.06.94-2.06 2.06-.94-2.06-.94-.94-2.06-.94 2.06-2.06.94zm-11 1L8.5 8.5l.94-2.06 2.06-.94-2.06-.94L8.5 2.5l-.94 2.06-2.06.94zm10 10l.94 2.06.94-2.06 2.06-.94-2.06-.94-.94-2.06-.94 2.06-2.06.94z\"/><path d=\"M17.41 7.96l-1.37-1.37c-.4-.4-.92-.59-1.43-.59-.52 0-1.04.2-1.43.59L10.3 9.45l-7.72 7.72c-.78.78-.78 2.05 0 2.83L4 21.41c.39.39.9.59 1.41.59.51 0 1.02-.2 1.41-.59l7.78-7.78 2.81-2.81c.8-.78.8-2.07 0-2.86zM5.41 20L4 18.59l7.72-7.72 1.47 1.35L5.41 20z\"/>\n",
              "  </svg>\n",
              "      </button>\n",
              "      \n",
              "  <style>\n",
              "    .colab-df-container {\n",
              "      display:flex;\n",
              "      flex-wrap:wrap;\n",
              "      gap: 12px;\n",
              "    }\n",
              "\n",
              "    .colab-df-convert {\n",
              "      background-color: #E8F0FE;\n",
              "      border: none;\n",
              "      border-radius: 50%;\n",
              "      cursor: pointer;\n",
              "      display: none;\n",
              "      fill: #1967D2;\n",
              "      height: 32px;\n",
              "      padding: 0 0 0 0;\n",
              "      width: 32px;\n",
              "    }\n",
              "\n",
              "    .colab-df-convert:hover {\n",
              "      background-color: #E2EBFA;\n",
              "      box-shadow: 0px 1px 2px rgba(60, 64, 67, 0.3), 0px 1px 3px 1px rgba(60, 64, 67, 0.15);\n",
              "      fill: #174EA6;\n",
              "    }\n",
              "\n",
              "    [theme=dark] .colab-df-convert {\n",
              "      background-color: #3B4455;\n",
              "      fill: #D2E3FC;\n",
              "    }\n",
              "\n",
              "    [theme=dark] .colab-df-convert:hover {\n",
              "      background-color: #434B5C;\n",
              "      box-shadow: 0px 1px 3px 1px rgba(0, 0, 0, 0.15);\n",
              "      filter: drop-shadow(0px 1px 2px rgba(0, 0, 0, 0.3));\n",
              "      fill: #FFFFFF;\n",
              "    }\n",
              "  </style>\n",
              "\n",
              "      <script>\n",
              "        const buttonEl =\n",
              "          document.querySelector('#df-b6c6a978-10b6-41b1-b801-7260897af636 button.colab-df-convert');\n",
              "        buttonEl.style.display =\n",
              "          google.colab.kernel.accessAllowed ? 'block' : 'none';\n",
              "\n",
              "        async function convertToInteractive(key) {\n",
              "          const element = document.querySelector('#df-b6c6a978-10b6-41b1-b801-7260897af636');\n",
              "          const dataTable =\n",
              "            await google.colab.kernel.invokeFunction('convertToInteractive',\n",
              "                                                     [key], {});\n",
              "          if (!dataTable) return;\n",
              "\n",
              "          const docLinkHtml = 'Like what you see? Visit the ' +\n",
              "            '<a target=\"_blank\" href=https://colab.research.google.com/notebooks/data_table.ipynb>data table notebook</a>'\n",
              "            + ' to learn more about interactive tables.';\n",
              "          element.innerHTML = '';\n",
              "          dataTable['output_type'] = 'display_data';\n",
              "          await google.colab.output.renderOutput(dataTable, element);\n",
              "          const docLink = document.createElement('div');\n",
              "          docLink.innerHTML = docLinkHtml;\n",
              "          element.appendChild(docLink);\n",
              "        }\n",
              "      </script>\n",
              "    </div>\n",
              "  </div>\n",
              "  "
            ]
          },
          "metadata": {},
          "execution_count": 187
        }
      ]
    },
    {
      "cell_type": "code",
      "source": [
        "df.info()"
      ],
      "metadata": {
        "colab": {
          "base_uri": "https://localhost:8080/"
        },
        "id": "R92bUbSnKd-k",
        "outputId": "92f0b7cf-989e-476c-dda2-1b443c136eb8"
      },
      "execution_count": 188,
      "outputs": [
        {
          "output_type": "stream",
          "name": "stdout",
          "text": [
            "<class 'pandas.core.frame.DataFrame'>\n",
            "RangeIndex: 5903 entries, 0 to 5902\n",
            "Data columns (total 10 columns):\n",
            " #   Column                      Non-Null Count  Dtype \n",
            "---  ------                      --------------  ----- \n",
            " 0   DATA INCLUSÃO/ NOTIFICAÇÃO  5903 non-null   object\n",
            " 1   CLASSIFICAÇÃO FINAL         5903 non-null   object\n",
            " 2   IDADE                       5903 non-null   int64 \n",
            " 3   SEXO                        5903 non-null   object\n",
            " 4   BAIRRO                      5877 non-null   object\n",
            " 5   DISTRITO RESIDÊNCIA         5877 non-null   object\n",
            " 6   INTERNADO                   5903 non-null   int64 \n",
            " 7   DATA COLETA EXAME           5903 non-null   object\n",
            " 8   DATA ÓBITO                  281 non-null    object\n",
            " 9   STATUS                      5903 non-null   int64 \n",
            "dtypes: int64(3), object(7)\n",
            "memory usage: 461.3+ KB\n"
          ]
        }
      ]
    },
    {
      "cell_type": "code",
      "source": [
        "#CRIAR NOVO DF APENAS COM AS COLUNAS QUE IREI USAR NA ANALISE\n",
        "df2 = df.drop(columns = ['DATA INCLUSÃO/ NOTIFICAÇÃO', 'CLASSIFICAÇÃO FINAL', 'BAIRRO','DISTRITO RESIDÊNCIA', 'DATA COLETA EXAME', 'DATA ÓBITO'  ])\n",
        "df.head()"
      ],
      "metadata": {
        "colab": {
          "base_uri": "https://localhost:8080/",
          "height": 206
        },
        "id": "6P4xQCL0KVWt",
        "outputId": "8d2838fb-36ae-4a16-b9a6-81f6e3ff7f90"
      },
      "execution_count": 189,
      "outputs": [
        {
          "output_type": "execute_result",
          "data": {
            "text/plain": [
              "  DATA INCLUSÃO/ NOTIFICAÇÃO CLASSIFICAÇÃO FINAL  IDADE SEXO      BAIRRO  \\\n",
              "0                 11/03/2020          CONFIRMADO     54    M  CRISTO REI   \n",
              "1                 12/03/2020          CONFIRMADO     15    M       XAXIM   \n",
              "2                 12/03/2020          CONFIRMADO     43    M       XAXIM   \n",
              "3                 12/03/2020          CONFIRMADO     25    F  CRISTO REI   \n",
              "4                 12/03/2020          CONFIRMADO     58    M      MERCÊS   \n",
              "\n",
              "  DISTRITO RESIDÊNCIA  INTERNADO DATA COLETA EXAME DATA ÓBITO  STATUS  \n",
              "0                DSMZ          0        09/03/2020        NaN       0  \n",
              "1                DSBQ          0        08/03/2020        NaN       0  \n",
              "2                DSBQ          0        09/03/2020        NaN       0  \n",
              "3                DSMZ          0        09/03/2020        NaN       0  \n",
              "4                DSMZ          0        09/03/2020        NaN       0  "
            ],
            "text/html": [
              "\n",
              "  <div id=\"df-417a0802-b469-4fb2-b43f-c0829ba1d264\">\n",
              "    <div class=\"colab-df-container\">\n",
              "      <div>\n",
              "<style scoped>\n",
              "    .dataframe tbody tr th:only-of-type {\n",
              "        vertical-align: middle;\n",
              "    }\n",
              "\n",
              "    .dataframe tbody tr th {\n",
              "        vertical-align: top;\n",
              "    }\n",
              "\n",
              "    .dataframe thead th {\n",
              "        text-align: right;\n",
              "    }\n",
              "</style>\n",
              "<table border=\"1\" class=\"dataframe\">\n",
              "  <thead>\n",
              "    <tr style=\"text-align: right;\">\n",
              "      <th></th>\n",
              "      <th>DATA INCLUSÃO/ NOTIFICAÇÃO</th>\n",
              "      <th>CLASSIFICAÇÃO FINAL</th>\n",
              "      <th>IDADE</th>\n",
              "      <th>SEXO</th>\n",
              "      <th>BAIRRO</th>\n",
              "      <th>DISTRITO RESIDÊNCIA</th>\n",
              "      <th>INTERNADO</th>\n",
              "      <th>DATA COLETA EXAME</th>\n",
              "      <th>DATA ÓBITO</th>\n",
              "      <th>STATUS</th>\n",
              "    </tr>\n",
              "  </thead>\n",
              "  <tbody>\n",
              "    <tr>\n",
              "      <th>0</th>\n",
              "      <td>11/03/2020</td>\n",
              "      <td>CONFIRMADO</td>\n",
              "      <td>54</td>\n",
              "      <td>M</td>\n",
              "      <td>CRISTO REI</td>\n",
              "      <td>DSMZ</td>\n",
              "      <td>0</td>\n",
              "      <td>09/03/2020</td>\n",
              "      <td>NaN</td>\n",
              "      <td>0</td>\n",
              "    </tr>\n",
              "    <tr>\n",
              "      <th>1</th>\n",
              "      <td>12/03/2020</td>\n",
              "      <td>CONFIRMADO</td>\n",
              "      <td>15</td>\n",
              "      <td>M</td>\n",
              "      <td>XAXIM</td>\n",
              "      <td>DSBQ</td>\n",
              "      <td>0</td>\n",
              "      <td>08/03/2020</td>\n",
              "      <td>NaN</td>\n",
              "      <td>0</td>\n",
              "    </tr>\n",
              "    <tr>\n",
              "      <th>2</th>\n",
              "      <td>12/03/2020</td>\n",
              "      <td>CONFIRMADO</td>\n",
              "      <td>43</td>\n",
              "      <td>M</td>\n",
              "      <td>XAXIM</td>\n",
              "      <td>DSBQ</td>\n",
              "      <td>0</td>\n",
              "      <td>09/03/2020</td>\n",
              "      <td>NaN</td>\n",
              "      <td>0</td>\n",
              "    </tr>\n",
              "    <tr>\n",
              "      <th>3</th>\n",
              "      <td>12/03/2020</td>\n",
              "      <td>CONFIRMADO</td>\n",
              "      <td>25</td>\n",
              "      <td>F</td>\n",
              "      <td>CRISTO REI</td>\n",
              "      <td>DSMZ</td>\n",
              "      <td>0</td>\n",
              "      <td>09/03/2020</td>\n",
              "      <td>NaN</td>\n",
              "      <td>0</td>\n",
              "    </tr>\n",
              "    <tr>\n",
              "      <th>4</th>\n",
              "      <td>12/03/2020</td>\n",
              "      <td>CONFIRMADO</td>\n",
              "      <td>58</td>\n",
              "      <td>M</td>\n",
              "      <td>MERCÊS</td>\n",
              "      <td>DSMZ</td>\n",
              "      <td>0</td>\n",
              "      <td>09/03/2020</td>\n",
              "      <td>NaN</td>\n",
              "      <td>0</td>\n",
              "    </tr>\n",
              "  </tbody>\n",
              "</table>\n",
              "</div>\n",
              "      <button class=\"colab-df-convert\" onclick=\"convertToInteractive('df-417a0802-b469-4fb2-b43f-c0829ba1d264')\"\n",
              "              title=\"Convert this dataframe to an interactive table.\"\n",
              "              style=\"display:none;\">\n",
              "        \n",
              "  <svg xmlns=\"http://www.w3.org/2000/svg\" height=\"24px\"viewBox=\"0 0 24 24\"\n",
              "       width=\"24px\">\n",
              "    <path d=\"M0 0h24v24H0V0z\" fill=\"none\"/>\n",
              "    <path d=\"M18.56 5.44l.94 2.06.94-2.06 2.06-.94-2.06-.94-.94-2.06-.94 2.06-2.06.94zm-11 1L8.5 8.5l.94-2.06 2.06-.94-2.06-.94L8.5 2.5l-.94 2.06-2.06.94zm10 10l.94 2.06.94-2.06 2.06-.94-2.06-.94-.94-2.06-.94 2.06-2.06.94z\"/><path d=\"M17.41 7.96l-1.37-1.37c-.4-.4-.92-.59-1.43-.59-.52 0-1.04.2-1.43.59L10.3 9.45l-7.72 7.72c-.78.78-.78 2.05 0 2.83L4 21.41c.39.39.9.59 1.41.59.51 0 1.02-.2 1.41-.59l7.78-7.78 2.81-2.81c.8-.78.8-2.07 0-2.86zM5.41 20L4 18.59l7.72-7.72 1.47 1.35L5.41 20z\"/>\n",
              "  </svg>\n",
              "      </button>\n",
              "      \n",
              "  <style>\n",
              "    .colab-df-container {\n",
              "      display:flex;\n",
              "      flex-wrap:wrap;\n",
              "      gap: 12px;\n",
              "    }\n",
              "\n",
              "    .colab-df-convert {\n",
              "      background-color: #E8F0FE;\n",
              "      border: none;\n",
              "      border-radius: 50%;\n",
              "      cursor: pointer;\n",
              "      display: none;\n",
              "      fill: #1967D2;\n",
              "      height: 32px;\n",
              "      padding: 0 0 0 0;\n",
              "      width: 32px;\n",
              "    }\n",
              "\n",
              "    .colab-df-convert:hover {\n",
              "      background-color: #E2EBFA;\n",
              "      box-shadow: 0px 1px 2px rgba(60, 64, 67, 0.3), 0px 1px 3px 1px rgba(60, 64, 67, 0.15);\n",
              "      fill: #174EA6;\n",
              "    }\n",
              "\n",
              "    [theme=dark] .colab-df-convert {\n",
              "      background-color: #3B4455;\n",
              "      fill: #D2E3FC;\n",
              "    }\n",
              "\n",
              "    [theme=dark] .colab-df-convert:hover {\n",
              "      background-color: #434B5C;\n",
              "      box-shadow: 0px 1px 3px 1px rgba(0, 0, 0, 0.15);\n",
              "      filter: drop-shadow(0px 1px 2px rgba(0, 0, 0, 0.3));\n",
              "      fill: #FFFFFF;\n",
              "    }\n",
              "  </style>\n",
              "\n",
              "      <script>\n",
              "        const buttonEl =\n",
              "          document.querySelector('#df-417a0802-b469-4fb2-b43f-c0829ba1d264 button.colab-df-convert');\n",
              "        buttonEl.style.display =\n",
              "          google.colab.kernel.accessAllowed ? 'block' : 'none';\n",
              "\n",
              "        async function convertToInteractive(key) {\n",
              "          const element = document.querySelector('#df-417a0802-b469-4fb2-b43f-c0829ba1d264');\n",
              "          const dataTable =\n",
              "            await google.colab.kernel.invokeFunction('convertToInteractive',\n",
              "                                                     [key], {});\n",
              "          if (!dataTable) return;\n",
              "\n",
              "          const docLinkHtml = 'Like what you see? Visit the ' +\n",
              "            '<a target=\"_blank\" href=https://colab.research.google.com/notebooks/data_table.ipynb>data table notebook</a>'\n",
              "            + ' to learn more about interactive tables.';\n",
              "          element.innerHTML = '';\n",
              "          dataTable['output_type'] = 'display_data';\n",
              "          await google.colab.output.renderOutput(dataTable, element);\n",
              "          const docLink = document.createElement('div');\n",
              "          docLink.innerHTML = docLinkHtml;\n",
              "          element.appendChild(docLink);\n",
              "        }\n",
              "      </script>\n",
              "    </div>\n",
              "  </div>\n",
              "  "
            ]
          },
          "metadata": {},
          "execution_count": 189
        }
      ]
    },
    {
      "cell_type": "code",
      "source": [
        "df2.head()"
      ],
      "metadata": {
        "colab": {
          "base_uri": "https://localhost:8080/",
          "height": 206
        },
        "id": "z9XvZ_vjK_jM",
        "outputId": "91548720-bb5f-45e6-b90c-198ab7d06a97"
      },
      "execution_count": 190,
      "outputs": [
        {
          "output_type": "execute_result",
          "data": {
            "text/plain": [
              "   IDADE SEXO  INTERNADO  STATUS\n",
              "0     54    M          0       0\n",
              "1     15    M          0       0\n",
              "2     43    M          0       0\n",
              "3     25    F          0       0\n",
              "4     58    M          0       0"
            ],
            "text/html": [
              "\n",
              "  <div id=\"df-282ba764-aa0b-4167-9167-daaafed3dcb6\">\n",
              "    <div class=\"colab-df-container\">\n",
              "      <div>\n",
              "<style scoped>\n",
              "    .dataframe tbody tr th:only-of-type {\n",
              "        vertical-align: middle;\n",
              "    }\n",
              "\n",
              "    .dataframe tbody tr th {\n",
              "        vertical-align: top;\n",
              "    }\n",
              "\n",
              "    .dataframe thead th {\n",
              "        text-align: right;\n",
              "    }\n",
              "</style>\n",
              "<table border=\"1\" class=\"dataframe\">\n",
              "  <thead>\n",
              "    <tr style=\"text-align: right;\">\n",
              "      <th></th>\n",
              "      <th>IDADE</th>\n",
              "      <th>SEXO</th>\n",
              "      <th>INTERNADO</th>\n",
              "      <th>STATUS</th>\n",
              "    </tr>\n",
              "  </thead>\n",
              "  <tbody>\n",
              "    <tr>\n",
              "      <th>0</th>\n",
              "      <td>54</td>\n",
              "      <td>M</td>\n",
              "      <td>0</td>\n",
              "      <td>0</td>\n",
              "    </tr>\n",
              "    <tr>\n",
              "      <th>1</th>\n",
              "      <td>15</td>\n",
              "      <td>M</td>\n",
              "      <td>0</td>\n",
              "      <td>0</td>\n",
              "    </tr>\n",
              "    <tr>\n",
              "      <th>2</th>\n",
              "      <td>43</td>\n",
              "      <td>M</td>\n",
              "      <td>0</td>\n",
              "      <td>0</td>\n",
              "    </tr>\n",
              "    <tr>\n",
              "      <th>3</th>\n",
              "      <td>25</td>\n",
              "      <td>F</td>\n",
              "      <td>0</td>\n",
              "      <td>0</td>\n",
              "    </tr>\n",
              "    <tr>\n",
              "      <th>4</th>\n",
              "      <td>58</td>\n",
              "      <td>M</td>\n",
              "      <td>0</td>\n",
              "      <td>0</td>\n",
              "    </tr>\n",
              "  </tbody>\n",
              "</table>\n",
              "</div>\n",
              "      <button class=\"colab-df-convert\" onclick=\"convertToInteractive('df-282ba764-aa0b-4167-9167-daaafed3dcb6')\"\n",
              "              title=\"Convert this dataframe to an interactive table.\"\n",
              "              style=\"display:none;\">\n",
              "        \n",
              "  <svg xmlns=\"http://www.w3.org/2000/svg\" height=\"24px\"viewBox=\"0 0 24 24\"\n",
              "       width=\"24px\">\n",
              "    <path d=\"M0 0h24v24H0V0z\" fill=\"none\"/>\n",
              "    <path d=\"M18.56 5.44l.94 2.06.94-2.06 2.06-.94-2.06-.94-.94-2.06-.94 2.06-2.06.94zm-11 1L8.5 8.5l.94-2.06 2.06-.94-2.06-.94L8.5 2.5l-.94 2.06-2.06.94zm10 10l.94 2.06.94-2.06 2.06-.94-2.06-.94-.94-2.06-.94 2.06-2.06.94z\"/><path d=\"M17.41 7.96l-1.37-1.37c-.4-.4-.92-.59-1.43-.59-.52 0-1.04.2-1.43.59L10.3 9.45l-7.72 7.72c-.78.78-.78 2.05 0 2.83L4 21.41c.39.39.9.59 1.41.59.51 0 1.02-.2 1.41-.59l7.78-7.78 2.81-2.81c.8-.78.8-2.07 0-2.86zM5.41 20L4 18.59l7.72-7.72 1.47 1.35L5.41 20z\"/>\n",
              "  </svg>\n",
              "      </button>\n",
              "      \n",
              "  <style>\n",
              "    .colab-df-container {\n",
              "      display:flex;\n",
              "      flex-wrap:wrap;\n",
              "      gap: 12px;\n",
              "    }\n",
              "\n",
              "    .colab-df-convert {\n",
              "      background-color: #E8F0FE;\n",
              "      border: none;\n",
              "      border-radius: 50%;\n",
              "      cursor: pointer;\n",
              "      display: none;\n",
              "      fill: #1967D2;\n",
              "      height: 32px;\n",
              "      padding: 0 0 0 0;\n",
              "      width: 32px;\n",
              "    }\n",
              "\n",
              "    .colab-df-convert:hover {\n",
              "      background-color: #E2EBFA;\n",
              "      box-shadow: 0px 1px 2px rgba(60, 64, 67, 0.3), 0px 1px 3px 1px rgba(60, 64, 67, 0.15);\n",
              "      fill: #174EA6;\n",
              "    }\n",
              "\n",
              "    [theme=dark] .colab-df-convert {\n",
              "      background-color: #3B4455;\n",
              "      fill: #D2E3FC;\n",
              "    }\n",
              "\n",
              "    [theme=dark] .colab-df-convert:hover {\n",
              "      background-color: #434B5C;\n",
              "      box-shadow: 0px 1px 3px 1px rgba(0, 0, 0, 0.15);\n",
              "      filter: drop-shadow(0px 1px 2px rgba(0, 0, 0, 0.3));\n",
              "      fill: #FFFFFF;\n",
              "    }\n",
              "  </style>\n",
              "\n",
              "      <script>\n",
              "        const buttonEl =\n",
              "          document.querySelector('#df-282ba764-aa0b-4167-9167-daaafed3dcb6 button.colab-df-convert');\n",
              "        buttonEl.style.display =\n",
              "          google.colab.kernel.accessAllowed ? 'block' : 'none';\n",
              "\n",
              "        async function convertToInteractive(key) {\n",
              "          const element = document.querySelector('#df-282ba764-aa0b-4167-9167-daaafed3dcb6');\n",
              "          const dataTable =\n",
              "            await google.colab.kernel.invokeFunction('convertToInteractive',\n",
              "                                                     [key], {});\n",
              "          if (!dataTable) return;\n",
              "\n",
              "          const docLinkHtml = 'Like what you see? Visit the ' +\n",
              "            '<a target=\"_blank\" href=https://colab.research.google.com/notebooks/data_table.ipynb>data table notebook</a>'\n",
              "            + ' to learn more about interactive tables.';\n",
              "          element.innerHTML = '';\n",
              "          dataTable['output_type'] = 'display_data';\n",
              "          await google.colab.output.renderOutput(dataTable, element);\n",
              "          const docLink = document.createElement('div');\n",
              "          docLink.innerHTML = docLinkHtml;\n",
              "          element.appendChild(docLink);\n",
              "        }\n",
              "      </script>\n",
              "    </div>\n",
              "  </div>\n",
              "  "
            ]
          },
          "metadata": {},
          "execution_count": 190
        }
      ]
    },
    {
      "cell_type": "code",
      "source": [
        "df2.info()"
      ],
      "metadata": {
        "colab": {
          "base_uri": "https://localhost:8080/"
        },
        "id": "XjpAn3TpM0vQ",
        "outputId": "9f0509ee-1c4a-4afa-8acf-1d4080a42f4b"
      },
      "execution_count": 191,
      "outputs": [
        {
          "output_type": "stream",
          "name": "stdout",
          "text": [
            "<class 'pandas.core.frame.DataFrame'>\n",
            "RangeIndex: 5903 entries, 0 to 5902\n",
            "Data columns (total 4 columns):\n",
            " #   Column     Non-Null Count  Dtype \n",
            "---  ------     --------------  ----- \n",
            " 0   IDADE      5903 non-null   int64 \n",
            " 1   SEXO       5903 non-null   object\n",
            " 2   INTERNADO  5903 non-null   int64 \n",
            " 3   STATUS     5903 non-null   int64 \n",
            "dtypes: int64(3), object(1)\n",
            "memory usage: 184.6+ KB\n"
          ]
        }
      ]
    },
    {
      "cell_type": "markdown",
      "source": [
        "## Exploração dos dados"
      ],
      "metadata": {
        "id": "NHSuTtiZNmJF"
      }
    },
    {
      "cell_type": "markdown",
      "source": [
        "**IDADE**"
      ],
      "metadata": {
        "id": "AWAnu1zoMrTs"
      }
    },
    {
      "cell_type": "code",
      "source": [
        "import plotly.express as px"
      ],
      "metadata": {
        "id": "X_xgVcFSMsb8"
      },
      "execution_count": 192,
      "outputs": []
    },
    {
      "cell_type": "code",
      "source": [
        "hist =  px.histogram (df2,  x = \"IDADE\", nbins=60) \n",
        "hist.update_layout(width=600,height=400,title_text='Distribuição das idades') \n",
        "hist.show()"
      ],
      "metadata": {
        "colab": {
          "base_uri": "https://localhost:8080/",
          "height": 0
        },
        "id": "vRwwpyB_MvYk",
        "outputId": "88a573e6-de70-4b72-da0c-8df14fcc23e3"
      },
      "execution_count": 193,
      "outputs": [
        {
          "output_type": "display_data",
          "data": {
            "text/html": [
              "<html>\n",
              "<head><meta charset=\"utf-8\" /></head>\n",
              "<body>\n",
              "    <div>            <script src=\"https://cdnjs.cloudflare.com/ajax/libs/mathjax/2.7.5/MathJax.js?config=TeX-AMS-MML_SVG\"></script><script type=\"text/javascript\">if (window.MathJax) {MathJax.Hub.Config({SVG: {font: \"STIX-Web\"}});}</script>                <script type=\"text/javascript\">window.PlotlyConfig = {MathJaxConfig: 'local'};</script>\n",
              "        <script src=\"https://cdn.plot.ly/plotly-2.8.3.min.js\"></script>                <div id=\"a717562b-e803-478a-a783-7d26a8593c6c\" class=\"plotly-graph-div\" style=\"height:400px; width:600px;\"></div>            <script type=\"text/javascript\">                                    window.PLOTLYENV=window.PLOTLYENV || {};                                    if (document.getElementById(\"a717562b-e803-478a-a783-7d26a8593c6c\")) {                    Plotly.newPlot(                        \"a717562b-e803-478a-a783-7d26a8593c6c\",                        [{\"alignmentgroup\":\"True\",\"bingroup\":\"x\",\"hovertemplate\":\"IDADE=%{x}<br>count=%{y}<extra></extra>\",\"legendgroup\":\"\",\"marker\":{\"color\":\"#636efa\",\"pattern\":{\"shape\":\"\"}},\"name\":\"\",\"nbinsx\":60,\"offsetgroup\":\"\",\"orientation\":\"v\",\"showlegend\":false,\"x\":[54,15,43,25,58,57,27,26,52,22,26,48,32,36,45,26,48,53,30,32,81,58,52,44,36,28,53,30,41,73,70,42,32,38,61,36,68,28,59,79,56,59,32,54,17,41,22,69,54,10,62,62,34,78,30,51,30,46,38,28,80,41,51,31,27,40,49,66,54,56,55,29,29,35,77,58,59,39,63,30,64,29,39,29,37,45,59,69,37,75,70,74,63,61,62,59,37,65,36,54,61,32,58,36,46,35,50,50,23,62,61,56,41,43,56,68,41,31,17,44,53,29,38,63,66,55,55,86,54,68,29,64,32,88,52,49,53,60,39,93,34,28,37,35,31,78,54,57,34,41,62,41,94,29,45,47,38,68,29,36,66,37,35,37,42,54,41,77,58,85,45,25,31,56,81,35,72,56,45,54,52,48,49,23,29,47,19,30,32,22,65,43,65,48,36,96,47,33,20,35,37,23,49,70,62,47,52,55,82,39,52,34,75,30,31,29,74,56,43,42,51,30,47,33,58,62,30,31,44,50,18,70,36,37,80,88,23,62,42,75,73,87,37,24,57,24,33,30,29,31,1,20,74,39,26,71,40,69,26,32,34,43,38,51,25,25,53,85,94,62,9,31,33,25,38,59,43,24,36,53,26,64,37,57,44,57,76,62,49,48,48,38,29,79,32,36,17,30,42,79,44,40,84,69,36,30,38,49,81,74,24,40,36,31,63,75,36,31,49,59,37,34,24,22,85,32,45,89,27,46,30,64,44,26,57,69,32,57,28,52,29,59,44,54,40,46,70,29,25,37,39,55,45,26,86,38,55,71,35,56,42,72,81,28,61,45,34,72,36,31,54,36,48,46,38,49,32,40,47,54,75,56,33,25,16,36,35,35,59,59,93,47,24,31,15,38,27,57,53,54,43,45,50,39,13,23,66,41,40,67,49,17,39,63,42,24,37,58,80,3,41,30,44,45,53,40,34,45,36,44,31,59,41,64,42,26,31,65,56,54,65,42,27,29,51,80,77,69,53,71,45,62,82,32,89,21,47,38,25,26,52,40,46,38,24,82,77,65,22,50,63,21,65,24,81,51,27,80,43,72,58,89,42,53,23,37,55,30,27,55,36,38,5,34,44,34,67,60,22,35,25,41,25,80,23,31,47,44,89,31,67,46,45,29,41,62,53,48,36,68,85,42,30,45,90,49,36,53,23,36,31,3,34,57,54,67,50,52,31,3,64,3,48,20,34,27,63,42,25,44,64,50,26,62,60,63,31,39,37,42,50,55,39,39,63,47,37,42,42,43,68,61,29,69,46,46,27,46,64,34,30,31,23,27,56,36,73,62,74,56,56,12,44,27,62,58,52,55,89,38,64,26,33,31,25,56,23,53,22,1,55,28,28,50,59,35,42,50,58,9,55,53,83,30,52,0,34,76,77,52,7,38,39,49,37,55,50,22,3,54,67,55,24,50,47,78,51,42,23,59,67,39,31,38,1,33,29,43,0,63,33,82,8,55,49,16,66,66,67,56,62,34,38,76,58,40,32,38,39,70,31,33,74,79,48,44,85,85,74,55,20,43,51,37,73,52,41,30,75,56,21,38,23,27,29,90,23,24,40,65,77,45,63,27,44,54,38,39,45,34,53,51,30,27,39,41,36,66,41,37,52,65,38,37,35,56,87,31,55,67,65,52,68,73,16,88,47,22,31,40,52,39,53,37,66,89,44,49,40,58,48,45,39,40,43,41,35,32,29,30,62,27,58,61,28,56,36,47,53,52,54,42,67,45,55,60,29,36,32,41,38,38,26,41,36,23,62,46,26,33,80,51,24,58,78,45,50,32,38,37,40,76,38,60,61,60,49,36,58,69,37,38,21,70,34,79,47,44,41,48,25,24,37,48,56,48,36,56,45,58,28,52,42,33,86,71,31,6,59,16,77,36,49,24,9,23,32,57,25,19,35,48,22,13,48,62,47,5,30,60,48,50,23,9,18,34,64,31,54,37,40,56,81,75,56,62,21,28,24,68,44,65,71,73,47,31,29,40,87,42,59,42,57,34,1,66,24,23,49,36,61,40,55,8,30,62,82,58,42,47,63,54,41,46,85,26,48,46,23,30,67,81,49,77,48,53,51,50,13,5,29,67,23,75,69,33,76,62,57,38,66,70,22,52,54,61,36,35,46,69,41,54,30,9,75,72,49,53,53,59,56,21,40,13,38,62,43,81,66,63,48,24,48,41,22,22,57,39,47,24,28,26,82,34,79,30,67,62,85,20,23,54,19,47,57,55,68,40,48,50,33,82,89,51,48,67,49,29,43,85,41,46,62,43,64,38,39,30,44,59,65,74,48,49,57,57,36,38,5,27,33,54,21,30,39,55,59,46,32,61,26,56,25,37,49,33,38,36,34,61,24,48,32,49,87,81,26,23,38,42,44,18,39,33,61,64,41,24,50,25,31,82,45,65,53,36,37,50,50,38,46,58,41,25,40,43,64,29,73,20,41,41,36,30,44,50,30,44,28,42,58,42,37,49,31,60,46,47,28,29,46,91,10,42,71,29,38,51,75,70,54,32,50,25,37,64,46,39,69,31,55,45,31,36,68,66,58,66,48,41,35,93,26,34,43,48,31,47,29,37,43,55,52,57,41,46,48,19,28,37,49,64,52,58,59,44,65,75,70,69,11,20,33,22,33,54,38,22,44,56,74,37,33,54,79,50,1,68,45,78,52,31,77,62,89,39,70,48,68,19,17,42,27,30,42,40,32,37,22,28,77,55,31,61,79,61,30,59,74,41,32,38,40,39,22,59,52,39,34,57,21,64,67,28,42,41,77,77,32,75,59,56,23,34,45,36,39,57,45,62,39,43,42,49,46,49,68,48,50,76,56,87,57,57,85,59,58,64,80,69,79,61,81,69,70,45,62,48,44,76,21,51,28,22,26,50,59,73,30,55,76,33,56,29,33,69,37,32,39,41,82,36,58,17,5,61,37,74,53,39,69,48,44,81,25,49,45,47,28,44,30,34,48,55,41,58,27,73,20,29,27,30,28,40,54,34,21,32,52,44,34,46,28,23,30,2,39,27,54,59,60,36,32,40,67,73,33,35,87,64,70,49,63,68,88,31,70,90,90,82,29,88,57,47,48,38,61,72,58,17,56,40,28,49,38,45,37,48,77,37,65,37,63,54,34,71,26,29,30,63,42,59,27,51,56,28,38,45,47,40,39,50,55,27,62,48,73,38,56,22,42,27,41,70,63,24,39,66,37,39,53,40,36,22,53,24,38,47,96,49,64,41,43,70,25,12,67,36,46,49,32,66,45,55,59,50,44,45,89,49,67,31,75,57,43,42,35,23,45,46,42,22,33,28,27,30,77,75,67,18,38,60,43,39,83,45,57,34,38,49,49,56,21,80,52,29,41,51,42,9,42,50,63,58,24,85,48,48,41,48,43,20,22,20,26,44,35,57,38,68,41,57,39,37,29,90,76,26,29,67,60,52,52,67,67,75,17,40,59,61,72,61,47,55,85,81,89,47,50,75,66,44,27,35,47,60,27,46,37,36,63,24,44,68,46,50,32,30,44,27,45,47,48,43,54,38,30,87,74,64,29,84,36,67,46,52,46,60,59,48,23,77,39,22,65,62,35,28,57,38,56,31,63,35,39,48,43,37,37,58,78,58,32,30,88,47,39,40,53,71,69,67,67,52,74,77,73,37,64,3,45,78,42,49,32,63,81,42,40,45,21,38,26,49,45,50,43,49,27,58,61,45,29,30,54,44,33,90,51,37,80,60,69,41,30,66,30,49,35,50,68,75,61,40,56,43,68,70,35,50,36,21,85,44,42,52,59,33,66,33,18,53,34,62,34,42,45,61,41,42,20,28,43,36,30,70,45,57,41,42,44,54,41,36,67,50,53,73,84,64,30,86,86,44,56,69,65,75,52,57,35,35,50,29,26,36,68,38,24,61,24,69,17,52,59,69,49,27,52,14,48,63,56,46,46,46,45,31,48,43,2,27,45,27,39,19,19,19,50,41,50,14,35,32,54,36,48,87,42,79,48,41,22,43,61,63,62,53,44,28,34,55,52,43,48,3,34,39,70,22,57,63,70,44,40,40,57,35,29,3,53,66,77,22,77,59,56,54,62,29,32,55,55,64,27,36,45,39,55,48,30,34,82,38,29,1,47,34,49,40,28,40,74,35,82,57,36,76,26,68,70,50,79,62,86,71,7,54,36,45,56,26,40,28,33,49,19,29,30,41,47,63,28,57,60,20,44,39,38,35,26,45,50,21,29,47,42,44,36,33,34,31,27,35,22,73,43,40,44,45,27,64,28,23,1,41,68,43,46,35,28,35,53,42,33,42,4,46,42,37,21,58,45,37,37,64,58,43,55,23,36,46,20,26,32,18,67,27,42,60,42,50,35,72,65,43,27,88,11,33,31,62,37,37,31,35,38,43,28,46,60,60,57,48,35,51,63,55,37,68,30,42,47,63,53,50,57,64,53,39,48,61,82,46,76,28,58,38,37,41,59,50,28,33,41,49,63,68,66,49,76,52,79,39,46,27,17,43,82,43,38,75,72,51,49,27,89,63,72,53,78,36,28,33,55,65,51,53,20,46,34,21,52,45,48,36,2,82,27,42,40,57,53,54,57,76,63,49,48,14,48,67,36,66,51,26,40,39,36,23,83,53,45,29,76,37,45,24,43,48,30,33,72,63,63,74,74,40,33,41,45,34,19,38,31,50,36,54,28,42,47,70,26,13,46,51,55,61,43,71,62,72,23,59,82,69,70,83,33,71,36,33,49,24,47,32,32,5,20,56,35,20,40,31,39,82,39,39,47,38,20,25,32,51,41,40,45,20,35,24,27,45,93,37,27,34,37,46,46,32,20,57,72,50,28,31,61,72,85,37,80,59,57,66,72,24,53,34,39,82,40,43,28,37,80,46,74,55,59,66,25,59,45,28,52,63,54,22,38,21,29,45,31,15,35,56,58,59,56,31,30,24,21,35,46,24,20,0,34,7,23,55,39,42,50,57,30,46,65,43,61,36,40,40,59,20,27,38,44,28,39,38,33,29,41,58,22,52,26,64,30,36,61,37,25,46,65,34,39,44,53,7,34,29,47,46,41,43,40,37,29,1,38,27,49,79,32,28,56,14,71,33,41,33,23,44,47,40,38,57,48,40,37,50,48,38,52,65,27,38,33,36,45,57,49,36,54,54,27,43,44,37,29,68,30,0,39,37,35,39,35,27,40,60,66,32,47,38,35,37,36,46,53,29,28,34,80,61,42,1,48,23,53,26,23,20,28,32,79,51,39,50,36,35,38,19,30,46,37,24,64,55,23,40,50,47,32,29,37,31,64,53,4,66,31,52,38,74,4,1,31,45,43,20,47,42,40,25,73,46,21,30,20,48,37,54,28,24,68,62,52,65,49,39,32,26,36,43,27,72,36,52,38,62,38,28,48,26,40,45,48,57,38,23,54,35,40,46,32,52,43,32,20,51,31,20,80,28,37,27,51,16,66,20,35,22,33,49,42,37,52,57,27,43,41,36,24,55,61,23,41,34,40,27,49,39,43,60,29,29,24,25,28,62,50,46,23,49,25,62,38,15,40,30,53,19,31,38,61,43,36,74,51,45,36,38,67,25,40,35,24,37,34,53,34,36,29,24,44,32,31,34,54,31,53,31,35,27,34,66,24,42,24,47,68,88,28,29,75,25,30,4,30,57,16,74,18,57,23,30,39,48,40,36,69,44,23,43,23,68,28,26,34,19,38,35,44,75,71,22,18,27,43,43,20,26,26,77,38,20,47,20,28,56,38,36,45,55,35,16,44,39,59,39,24,46,26,42,42,25,21,32,34,18,64,42,30,59,63,66,45,35,0,71,24,43,65,42,25,33,60,57,47,50,79,83,25,44,29,48,40,25,21,37,32,58,31,58,56,44,38,67,73,76,73,63,44,40,39,33,40,29,42,41,26,45,11,35,38,42,42,59,52,49,59,46,21,47,1,88,39,79,77,37,76,31,76,51,48,24,92,54,60,79,29,49,43,32,56,66,45,46,59,32,63,65,64,43,65,23,34,32,23,69,44,23,66,1,31,65,66,41,51,45,48,27,26,55,42,25,25,40,44,36,66,48,44,54,46,86,53,64,31,38,31,31,40,27,26,38,29,62,39,46,39,35,30,30,28,64,40,65,21,27,35,22,65,61,62,32,60,71,56,62,55,74,44,50,64,54,26,42,74,75,67,66,29,41,37,41,22,48,37,29,40,46,24,63,33,32,25,35,32,44,63,26,30,52,36,34,58,49,43,45,60,66,34,69,34,55,27,24,53,55,28,85,45,41,44,39,23,47,37,34,73,26,29,22,33,32,60,53,37,6,63,28,56,33,42,35,45,51,44,20,49,28,37,45,51,41,29,43,69,53,65,17,39,40,28,28,8,29,41,40,29,40,49,37,68,14,45,0,48,80,71,54,90,50,34,72,13,26,56,59,68,56,32,32,41,33,56,56,85,11,24,13,88,44,35,36,55,59,29,64,51,31,17,40,41,29,24,35,57,24,45,40,24,40,31,81,55,32,45,46,52,38,29,46,33,28,31,24,63,59,36,43,49,39,43,28,23,31,22,14,59,33,34,38,29,54,49,50,30,51,50,56,36,40,34,64,41,24,25,17,58,66,43,28,61,40,37,37,55,29,30,34,29,33,31,23,31,43,52,14,27,22,38,82,80,53,43,33,33,32,25,60,71,46,61,30,21,57,27,55,65,34,28,39,24,22,57,73,4,33,30,53,11,49,54,67,33,60,34,45,45,70,37,29,42,11,66,47,29,32,7,59,48,57,37,53,36,32,57,37,45,31,32,27,31,45,66,27,56,3,89,28,35,60,29,67,34,51,35,47,73,63,78,27,60,59,38,41,62,31,45,73,52,42,69,42,65,81,47,51,41,43,39,55,35,45,46,33,62,58,39,0,3,27,36,8,36,26,29,44,54,51,47,63,24,63,60,48,59,79,36,56,66,62,86,76,52,49,58,72,35,22,17,17,45,37,56,39,22,24,24,3,71,66,67,59,51,58,49,59,56,65,42,85,55,91,26,40,27,39,39,7,47,24,49,43,63,70,38,33,78,39,34,70,65,43,42,6,53,52,59,41,57,62,32,23,52,37,55,63,44,56,44,59,28,13,16,67,38,41,31,49,48,52,54,43,59,49,33,29,67,26,42,40,50,45,28,2,66,25,48,22,37,59,29,42,72,61,39,12,28,32,24,65,45,65,19,36,58,30,43,31,24,63,44,47,38,57,68,31,39,25,85,54,27,24,40,60,33,43,43,60,60,24,49,26,28,43,9,33,53,54,45,51,36,32,62,52,37,22,39,38,33,41,37,1,1,49,44,48,49,39,22,40,69,49,23,34,36,39,51,42,31,36,24,39,42,41,42,23,34,68,15,68,44,20,33,34,50,37,23,36,58,26,32,26,48,39,70,38,22,44,76,28,33,26,24,67,37,35,30,39,52,39,7,48,55,56,32,40,62,59,32,45,67,23,36,18,56,22,27,29,46,78,58,33,38,26,2,40,65,63,38,58,38,35,25,21,29,33,38,27,45,62,61,31,43,29,38,68,29,40,33,30,5,32,36,41,22,57,22,28,37,29,28,12,39,25,42,55,51,33,33,34,40,37,28,36,37,19,22,33,26,27,32,34,38,45,36,52,17,70,38,43,44,37,30,34,35,23,27,33,30,67,23,42,53,57,44,47,49,32,69,42,28,43,76,33,35,54,38,87,33,60,55,46,33,20,29,19,21,33,31,50,25,57,57,44,5,37,18,27,49,43,42,32,42,56,24,40,31,65,1,35,46,31,52,80,47,30,21,34,35,31,41,35,50,36,36,66,56,77,51,48,45,70,46,76,59,71,30,75,48,75,43,34,71,47,64,50,49,44,71,74,60,51,53,28,75,45,57,73,64,53,15,56,40,35,71,59,62,17,37,33,8,32,32,37,3,24,25,14,44,45,64,25,71,24,49,20,45,45,38,68,30,48,17,50,3,49,74,46,42,59,51,32,22,69,7,52,48,25,62,68,13,42,44,11,39,30,34,22,2,54,48,68,41,50,51,48,53,31,31,72,25,48,43,5,60,34,19,45,48,41,57,49,50,46,42,50,22,70,62,38,63,57,42,36,30,55,46,35,45,33,54,54,42,58,28,46,42,36,34,49,45,20,35,35,55,47,59,38,47,36,31,73,26,24,26,45,46,42,28,54,33,27,74,16,40,31,27,33,83,37,53,59,19,15,54,24,21,18,57,39,48,40,74,40,37,20,54,2,12,31,45,42,38,47,46,25,64,43,74,51,27,34,47,38,32,86,19,30,41,43,37,24,10,57,78,63,64,34,29,60,43,85,24,20,27,62,96,15,39,48,52,71,56,14,10,54,18,36,26,24,47,29,49,66,50,64,66,29,33,47,53,49,57,85,28,53,59,40,77,63,56,58,53,55,56,36,45,27,63,39,56,71,54,38,44,80,67,27,51,65,84,66,80,80,39,36,93,50,61,44,37,20,20,60,35,27,79,33,24,56,32,52,62,51,64,12,54,68,55,28,33,41,31,26,43,46,36,70,56,24,41,28,50,19,56,46,56,47,77,42,24,49,41,43,46,46,31,42,33,34,52,26,10,25,24,45,48,49,30,23,33,58,50,56,30,29,43,23,39,24,36,71,70,25,23,32,6,70,64,55,50,58,51,47,33,25,39,53,72,34,42,56,40,54,3,39,28,38,55,39,30,59,12,39,72,49,8,57,39,62,58,57,35,43,43,26,49,78,32,43,26,37,53,32,2,33,38,47,62,42,42,62,74,34,60,48,48,55,29,60,29,65,73,65,55,53,52,38,62,13,22,27,60,25,81,66,39,25,52,42,75,54,50,32,51,33,38,28,27,25,23,67,40,34,41,52,21,42,81,21,22,50,59,30,22,40,53,63,22,42,35,37,31,41,15,74,55,62,23,26,61,88,11,24,42,50,41,9,65,48,21,20,20,18,46,48,49,56,19,36,31,38,32,50,42,51,50,53,63,53,55,74,55,50,55,22,56,0,29,69,47,44,57,88,19,38,7,41,40,70,60,25,27,37,50,33,22,42,46,38,26,24,35,34,58,32,35,50,25,28,3,34,37,39,16,17,43,36,38,30,22,50,39,40,45,28,24,49,46,19,51,68,26,41,32,65,24,76,40,36,41,29,46,68,41,42,31,36,55,28,64,56,28,55,30,11,24,57,35,34,26,53,52,64,83,56,30,50,57,78,82,47,73,50,57,43,43,90,52,66,23,90,74,24,66,33,52,68,75,53,60,88,80,39,74,44,50,20,36,51,51,58,37,58,55,36,68,42,51,23,45,37,72,41,30,37,33,26,31,38,33,35,42,56,72,35,70,34,42,36,51,32,26,31,53,39,38,15,12,18,57,34,18,37,58,65,45,66,30,34,60,28,61,52,23,21,30,45,24,77,10,57,35,65,55,37,23,24,22,21,23,24,31,25,18,62,34,38,35,22,30,48,26,38,54,52,65,60,32,31,23,51,30,33,21,58,32,36,52,39,43,18,90,36,2,28,26,54,46,56,28,30,30,92,88,67,33,32,70,34,38,29,69,32,25,32,45,29,32,34,76,62,44,42,48,51,35,31,37,40,44,40,26,28,28,36,36,37,57,27,83,33,28,35,59,47,66,26,75,38,48,42,40,28,21,74,38,55,44,30,23,30,32,31,60,40,40,51,37,62,59,27,39,48,58,52,62,12,42,22,52,15,18,22,58,42,25,51,32,12,34,4,33,23,72,39,44,42,60,26,59,48,35,54,29,53,51,56,83,80,50,81,81,55,5,39,77,41,73,69,47,50,25,90,35,59,62,9,84,62,52,79,23,21,42,61,51,39,53,45,33,31,46,23,54,50,24,19,48,22,48,20,50,45,67,35,12,26,42,30,23,25,29,51,26,37,38,37,20,39,50,47,22,43,43,36,40,0,34,23,66,46,28,48,48,41,46,39,50,27,66,50,62,47,48,23,44,23,23,30,69,28,1,58,68,28,50,43,39,23,39,22,41,31,50,21,57,8,25,22,7,53,33,57,51,41,61,52,69,32,14,39,22,30,49,41,48,47,31,30,26,31,36,34,27,69,38,31,29,29,37,26,38,38,61,26,22,42,32,28,62,38,31,43,38,37,39,33,29,30,36,3,78,37,58,16,37,23,28,27,35,54,31,3,23,60,1,42,9,33,33,45,54,59,72,66,82,8,31,26,31,39,49,28,66,59,63,38,37,20,59,63,64,68,22,58,33,66,29,45,38,34,35,23,34,79,60,55,75,64,42,54,74,40,71,87,3,81,47,69,56,65,57,39,81,25,47,26,32,37,46,22,44,59,47,77,59,35,34,26,53,30,22,25,42,27,56,35,27,32,19,49,27,56,63,34,46,39,55,45,80,73,44,59,36,85,62,51,45,20,41,45,60,59,73,50,68,43,76,68,62,86,55,51,62,49,34,80,2,18,27,32,55,53,64,59,74,61,51,36,63,71,38,0,30,56,52,20,26,47,28,37,33,37,52,27,26,30,48,34,52,26,24,32,63,59,67,54,41,43,58,58,34,40,45,54,52,31,39,34,49,30,77,76,45,57,58,47,32,35,90,48,63,51,15,79,46,51,64,77,43,42,38,19,59,24,26,24,24,55,63,28,21,49,45,17,27,25,49,15,36,20,34,21,5,45,67,24,12,3,29,36,58,34,17,75,20,31,57,40,32,33,59,45,57,30,45,67,43,44,30,27,28,52,60,33,21,32,16,36,42,58,66,46,38,34,31,24,24,69,19,62,47,9,12,53,50,62,45,72,62,63,42,35,59,84,59,35,78,63,6,35,70,30,45,50,55,24,48,65,23,57,28,26,38,19,30,51,43,44,50,30,51,20,52,46,61,38,45,36,58,52,53,33,3,69,20,28,26,69,25,44,69,29,73,39,45,54,42,34,40,32,28,38,44,4,24,43,77,38,43,19,40,28,32,25,49,43,35,27,31,35,20,22,26,48,23,38,74,47,11,47,42,74,48,67,47,62,44,40,65,50,48,45,34,20,22,51,27,37,44,63,83,26,34,35,19,26,47,10,69,36,32,67,54,40,41,23,37,39,1,47,43,38,52,54,25,44,29,40,32,35,26,46,32,45,32,23,24,47,57,44,23,57,53,2,38,43,64,29,50,21,25,22,50,63,57,50,57,50,37,41,36,31,36,60,17,31,30,46,56,42,27,53,56,37,29,36,39,58,52,16,60,47,50,1,31,52,70,10,33,26,58,40,20,35,30,31,42,33,66,43,30,44,57,46,59,28,20,33,29,64,46,28,46,18,26,41,53,25,45,38,45,24,58,39,44,34,33,30,25,68,51,39,37,40,48,54,8,29,29,50,52,41,44,37,74,44,46,34,38,39,32,46,42,28,54,25,28,43,58,18,63,24,49,58,47,27,67,11,18,38,48,70,40,56,24,28,22,24,32,47,55,30,62,57,53,28,38,64,14,43,67,21,54,35,25,63,50,83,74,43,29,74,50,26,41,50,59,45,45,32,33,7,50,30,67,39,21,57,29,41,39,46,37,42,43,18,38,38,28,17,11,54,20,44,44,63,13,0,25,35,35,43,30,23,34,50,65,45,56,54,32,36,26,30,35,44,34,51,71,49,33,32,42,20,1,26,18,75,41,34,35,55,22,38,70,39,59,44,49,42,48,21,22,35,50,34,34,51,31,49,27,33,34,37,54,27,37,29,40,36,31,48,65,8,29,82,70,53,59,38,0,31,45,30,21,28,24,46,63,66,56,57,42,22,38,80,39,28,36,28,73,33,34,35,2,44,65,50,41,19,32,33,36,41,26,45,53,69,48,57,89,68,36,83,51,61,5,45,63,44,41,72,61,46,56,68,57,34,44,70,70,64,36,48,58,49,68,49,58,32,37,40,55,39,38,77,53,33,23,38,30,66,41,26,68,77,45,23,44,33,38,37,32,45,67,34,43,65,35,32,33,25,38,29,27,46,26,20,28,40,28,54,24,33,21,59,54,28,62,45,53,20,24,46,17,66,59,4,68,33,18,28,2,19,24,31,57,78,38,13,60,25,58,74,35,46,43,38,27,43,46,50,13,45,34,41,53,45,25,42,45,20,34,0,54,25,42,60,40,43,58,39,57,47,41,57,4,45,42,17,0,43,74,26,44,32,46,60,33,50,45,26,40,79,54,61,43,16,33,40,43,23,54,46,40,24,43,26,30,27,62,65,36,58,29,35,33,38,38,34,27,33,2,15,16,28,54,16,28,41,24,7,28,58,42,37,36,51,26,25,47,41,64,30,44,61,35,64,11,44,32,55,38,33,32,4,41,41,32,36,70,69,39,51,52,65,56,47,64,32,3,59,39,62,60,23,26,30,23,53,20,45,42,58,37,35,24,66,33,43,39,38,19,27,18,30,25,26,33,37,43,32,69,49,38,57,45,44,42,46,57,38,37,36,63,47,35,27,33,30,45,53,43,54,25,16,24,39,45,3,23,42,26,39,45,56,41,41,19,46,65,45,40,17,39,87,28,54,50,42,49,57,40,60,41,49,38,50,42,24,26,55,18,39,29,35,32,22,53,25,41,61,28,53,56,36,33,39,37,21,24,54,19,40,39,21,63,41,29,31,31,36,56,22,28,26,3,62,2,60,44,60,73,48,25,26,47,57,41,69,22,61,50,46,58,48,50,43,37,49,56,56,20,28,50,56,31,66,36,28,64,35,90,30,62,80,66,78,59,96,64,29,47,36,68,62,60,83,55,58,79,59,69,59,69,24,63,84,34,60,63,86,67,58,32,35,21,21,42,44,28,36,29,70,48,47,34,24,42,38,26,38,33,5,48,36,31,32,45,55,34,70,52,77,29,39,26,43,52,29,24,61,33,70,15,43,25,53,29,54,40,53,23,62,51,50,78,1,25,69,61,43,59,35,54,38,65,47,33,17,49,18,35,64,30,39,2,51,57,22,32,52,51,23,34,39,26,0,14,40,76,39,17,26,31,45,71,24,26,19,44,43,41,4,24,22,32,36,12,68,43,50,35,65,13,24,46,33,21,51,43,57,51,24,67,77,74,53,71,24,18,38,13,24,54,37,41,56,50,57,35,24,27,41,28,42,60,33,53,38,28,55,54,48,63,53,31,51,26,32,73,44,47,60,57,30,35,21,79,43,27,35,58,67,36,30,19,36,23,39,22,62,60,30,56,54,58,35,53,61,42,44,37,47,29,24,88,1,46,23,34,70,67],\"xaxis\":\"x\",\"yaxis\":\"y\",\"type\":\"histogram\"}],                        {\"template\":{\"data\":{\"bar\":[{\"error_x\":{\"color\":\"#2a3f5f\"},\"error_y\":{\"color\":\"#2a3f5f\"},\"marker\":{\"line\":{\"color\":\"#E5ECF6\",\"width\":0.5},\"pattern\":{\"fillmode\":\"overlay\",\"size\":10,\"solidity\":0.2}},\"type\":\"bar\"}],\"barpolar\":[{\"marker\":{\"line\":{\"color\":\"#E5ECF6\",\"width\":0.5},\"pattern\":{\"fillmode\":\"overlay\",\"size\":10,\"solidity\":0.2}},\"type\":\"barpolar\"}],\"carpet\":[{\"aaxis\":{\"endlinecolor\":\"#2a3f5f\",\"gridcolor\":\"white\",\"linecolor\":\"white\",\"minorgridcolor\":\"white\",\"startlinecolor\":\"#2a3f5f\"},\"baxis\":{\"endlinecolor\":\"#2a3f5f\",\"gridcolor\":\"white\",\"linecolor\":\"white\",\"minorgridcolor\":\"white\",\"startlinecolor\":\"#2a3f5f\"},\"type\":\"carpet\"}],\"choropleth\":[{\"colorbar\":{\"outlinewidth\":0,\"ticks\":\"\"},\"type\":\"choropleth\"}],\"contour\":[{\"colorbar\":{\"outlinewidth\":0,\"ticks\":\"\"},\"colorscale\":[[0.0,\"#0d0887\"],[0.1111111111111111,\"#46039f\"],[0.2222222222222222,\"#7201a8\"],[0.3333333333333333,\"#9c179e\"],[0.4444444444444444,\"#bd3786\"],[0.5555555555555556,\"#d8576b\"],[0.6666666666666666,\"#ed7953\"],[0.7777777777777778,\"#fb9f3a\"],[0.8888888888888888,\"#fdca26\"],[1.0,\"#f0f921\"]],\"type\":\"contour\"}],\"contourcarpet\":[{\"colorbar\":{\"outlinewidth\":0,\"ticks\":\"\"},\"type\":\"contourcarpet\"}],\"heatmap\":[{\"colorbar\":{\"outlinewidth\":0,\"ticks\":\"\"},\"colorscale\":[[0.0,\"#0d0887\"],[0.1111111111111111,\"#46039f\"],[0.2222222222222222,\"#7201a8\"],[0.3333333333333333,\"#9c179e\"],[0.4444444444444444,\"#bd3786\"],[0.5555555555555556,\"#d8576b\"],[0.6666666666666666,\"#ed7953\"],[0.7777777777777778,\"#fb9f3a\"],[0.8888888888888888,\"#fdca26\"],[1.0,\"#f0f921\"]],\"type\":\"heatmap\"}],\"heatmapgl\":[{\"colorbar\":{\"outlinewidth\":0,\"ticks\":\"\"},\"colorscale\":[[0.0,\"#0d0887\"],[0.1111111111111111,\"#46039f\"],[0.2222222222222222,\"#7201a8\"],[0.3333333333333333,\"#9c179e\"],[0.4444444444444444,\"#bd3786\"],[0.5555555555555556,\"#d8576b\"],[0.6666666666666666,\"#ed7953\"],[0.7777777777777778,\"#fb9f3a\"],[0.8888888888888888,\"#fdca26\"],[1.0,\"#f0f921\"]],\"type\":\"heatmapgl\"}],\"histogram\":[{\"marker\":{\"pattern\":{\"fillmode\":\"overlay\",\"size\":10,\"solidity\":0.2}},\"type\":\"histogram\"}],\"histogram2d\":[{\"colorbar\":{\"outlinewidth\":0,\"ticks\":\"\"},\"colorscale\":[[0.0,\"#0d0887\"],[0.1111111111111111,\"#46039f\"],[0.2222222222222222,\"#7201a8\"],[0.3333333333333333,\"#9c179e\"],[0.4444444444444444,\"#bd3786\"],[0.5555555555555556,\"#d8576b\"],[0.6666666666666666,\"#ed7953\"],[0.7777777777777778,\"#fb9f3a\"],[0.8888888888888888,\"#fdca26\"],[1.0,\"#f0f921\"]],\"type\":\"histogram2d\"}],\"histogram2dcontour\":[{\"colorbar\":{\"outlinewidth\":0,\"ticks\":\"\"},\"colorscale\":[[0.0,\"#0d0887\"],[0.1111111111111111,\"#46039f\"],[0.2222222222222222,\"#7201a8\"],[0.3333333333333333,\"#9c179e\"],[0.4444444444444444,\"#bd3786\"],[0.5555555555555556,\"#d8576b\"],[0.6666666666666666,\"#ed7953\"],[0.7777777777777778,\"#fb9f3a\"],[0.8888888888888888,\"#fdca26\"],[1.0,\"#f0f921\"]],\"type\":\"histogram2dcontour\"}],\"mesh3d\":[{\"colorbar\":{\"outlinewidth\":0,\"ticks\":\"\"},\"type\":\"mesh3d\"}],\"parcoords\":[{\"line\":{\"colorbar\":{\"outlinewidth\":0,\"ticks\":\"\"}},\"type\":\"parcoords\"}],\"pie\":[{\"automargin\":true,\"type\":\"pie\"}],\"scatter\":[{\"marker\":{\"colorbar\":{\"outlinewidth\":0,\"ticks\":\"\"}},\"type\":\"scatter\"}],\"scatter3d\":[{\"line\":{\"colorbar\":{\"outlinewidth\":0,\"ticks\":\"\"}},\"marker\":{\"colorbar\":{\"outlinewidth\":0,\"ticks\":\"\"}},\"type\":\"scatter3d\"}],\"scattercarpet\":[{\"marker\":{\"colorbar\":{\"outlinewidth\":0,\"ticks\":\"\"}},\"type\":\"scattercarpet\"}],\"scattergeo\":[{\"marker\":{\"colorbar\":{\"outlinewidth\":0,\"ticks\":\"\"}},\"type\":\"scattergeo\"}],\"scattergl\":[{\"marker\":{\"colorbar\":{\"outlinewidth\":0,\"ticks\":\"\"}},\"type\":\"scattergl\"}],\"scattermapbox\":[{\"marker\":{\"colorbar\":{\"outlinewidth\":0,\"ticks\":\"\"}},\"type\":\"scattermapbox\"}],\"scatterpolar\":[{\"marker\":{\"colorbar\":{\"outlinewidth\":0,\"ticks\":\"\"}},\"type\":\"scatterpolar\"}],\"scatterpolargl\":[{\"marker\":{\"colorbar\":{\"outlinewidth\":0,\"ticks\":\"\"}},\"type\":\"scatterpolargl\"}],\"scatterternary\":[{\"marker\":{\"colorbar\":{\"outlinewidth\":0,\"ticks\":\"\"}},\"type\":\"scatterternary\"}],\"surface\":[{\"colorbar\":{\"outlinewidth\":0,\"ticks\":\"\"},\"colorscale\":[[0.0,\"#0d0887\"],[0.1111111111111111,\"#46039f\"],[0.2222222222222222,\"#7201a8\"],[0.3333333333333333,\"#9c179e\"],[0.4444444444444444,\"#bd3786\"],[0.5555555555555556,\"#d8576b\"],[0.6666666666666666,\"#ed7953\"],[0.7777777777777778,\"#fb9f3a\"],[0.8888888888888888,\"#fdca26\"],[1.0,\"#f0f921\"]],\"type\":\"surface\"}],\"table\":[{\"cells\":{\"fill\":{\"color\":\"#EBF0F8\"},\"line\":{\"color\":\"white\"}},\"header\":{\"fill\":{\"color\":\"#C8D4E3\"},\"line\":{\"color\":\"white\"}},\"type\":\"table\"}]},\"layout\":{\"annotationdefaults\":{\"arrowcolor\":\"#2a3f5f\",\"arrowhead\":0,\"arrowwidth\":1},\"autotypenumbers\":\"strict\",\"coloraxis\":{\"colorbar\":{\"outlinewidth\":0,\"ticks\":\"\"}},\"colorscale\":{\"diverging\":[[0,\"#8e0152\"],[0.1,\"#c51b7d\"],[0.2,\"#de77ae\"],[0.3,\"#f1b6da\"],[0.4,\"#fde0ef\"],[0.5,\"#f7f7f7\"],[0.6,\"#e6f5d0\"],[0.7,\"#b8e186\"],[0.8,\"#7fbc41\"],[0.9,\"#4d9221\"],[1,\"#276419\"]],\"sequential\":[[0.0,\"#0d0887\"],[0.1111111111111111,\"#46039f\"],[0.2222222222222222,\"#7201a8\"],[0.3333333333333333,\"#9c179e\"],[0.4444444444444444,\"#bd3786\"],[0.5555555555555556,\"#d8576b\"],[0.6666666666666666,\"#ed7953\"],[0.7777777777777778,\"#fb9f3a\"],[0.8888888888888888,\"#fdca26\"],[1.0,\"#f0f921\"]],\"sequentialminus\":[[0.0,\"#0d0887\"],[0.1111111111111111,\"#46039f\"],[0.2222222222222222,\"#7201a8\"],[0.3333333333333333,\"#9c179e\"],[0.4444444444444444,\"#bd3786\"],[0.5555555555555556,\"#d8576b\"],[0.6666666666666666,\"#ed7953\"],[0.7777777777777778,\"#fb9f3a\"],[0.8888888888888888,\"#fdca26\"],[1.0,\"#f0f921\"]]},\"colorway\":[\"#636efa\",\"#EF553B\",\"#00cc96\",\"#ab63fa\",\"#FFA15A\",\"#19d3f3\",\"#FF6692\",\"#B6E880\",\"#FF97FF\",\"#FECB52\"],\"font\":{\"color\":\"#2a3f5f\"},\"geo\":{\"bgcolor\":\"white\",\"lakecolor\":\"white\",\"landcolor\":\"#E5ECF6\",\"showlakes\":true,\"showland\":true,\"subunitcolor\":\"white\"},\"hoverlabel\":{\"align\":\"left\"},\"hovermode\":\"closest\",\"mapbox\":{\"style\":\"light\"},\"paper_bgcolor\":\"white\",\"plot_bgcolor\":\"#E5ECF6\",\"polar\":{\"angularaxis\":{\"gridcolor\":\"white\",\"linecolor\":\"white\",\"ticks\":\"\"},\"bgcolor\":\"#E5ECF6\",\"radialaxis\":{\"gridcolor\":\"white\",\"linecolor\":\"white\",\"ticks\":\"\"}},\"scene\":{\"xaxis\":{\"backgroundcolor\":\"#E5ECF6\",\"gridcolor\":\"white\",\"gridwidth\":2,\"linecolor\":\"white\",\"showbackground\":true,\"ticks\":\"\",\"zerolinecolor\":\"white\"},\"yaxis\":{\"backgroundcolor\":\"#E5ECF6\",\"gridcolor\":\"white\",\"gridwidth\":2,\"linecolor\":\"white\",\"showbackground\":true,\"ticks\":\"\",\"zerolinecolor\":\"white\"},\"zaxis\":{\"backgroundcolor\":\"#E5ECF6\",\"gridcolor\":\"white\",\"gridwidth\":2,\"linecolor\":\"white\",\"showbackground\":true,\"ticks\":\"\",\"zerolinecolor\":\"white\"}},\"shapedefaults\":{\"line\":{\"color\":\"#2a3f5f\"}},\"ternary\":{\"aaxis\":{\"gridcolor\":\"white\",\"linecolor\":\"white\",\"ticks\":\"\"},\"baxis\":{\"gridcolor\":\"white\",\"linecolor\":\"white\",\"ticks\":\"\"},\"bgcolor\":\"#E5ECF6\",\"caxis\":{\"gridcolor\":\"white\",\"linecolor\":\"white\",\"ticks\":\"\"}},\"title\":{\"x\":0.05},\"xaxis\":{\"automargin\":true,\"gridcolor\":\"white\",\"linecolor\":\"white\",\"ticks\":\"\",\"title\":{\"standoff\":15},\"zerolinecolor\":\"white\",\"zerolinewidth\":2},\"yaxis\":{\"automargin\":true,\"gridcolor\":\"white\",\"linecolor\":\"white\",\"ticks\":\"\",\"title\":{\"standoff\":15},\"zerolinecolor\":\"white\",\"zerolinewidth\":2}}},\"xaxis\":{\"anchor\":\"y\",\"domain\":[0.0,1.0],\"title\":{\"text\":\"IDADE\"}},\"yaxis\":{\"anchor\":\"x\",\"domain\":[0.0,1.0],\"title\":{\"text\":\"count\"}},\"legend\":{\"tracegroupgap\":0},\"margin\":{\"t\":60},\"barmode\":\"relative\",\"title\":{\"text\":\"Distribui\\u00e7\\u00e3o das idades\"},\"width\":600,\"height\":400},                        {\"responsive\": true}                    ).then(function(){\n",
              "                            \n",
              "var gd = document.getElementById('a717562b-e803-478a-a783-7d26a8593c6c');\n",
              "var x = new MutationObserver(function (mutations, observer) {{\n",
              "        var display = window.getComputedStyle(gd).display;\n",
              "        if (!display || display === 'none') {{\n",
              "            console.log([gd, 'removed!']);\n",
              "            Plotly.purge(gd);\n",
              "            observer.disconnect();\n",
              "        }}\n",
              "}});\n",
              "\n",
              "// Listen for the removal of the full notebook cells\n",
              "var notebookContainer = gd.closest('#notebook-container');\n",
              "if (notebookContainer) {{\n",
              "    x.observe(notebookContainer, {childList: true});\n",
              "}}\n",
              "\n",
              "// Listen for the clearing of the current output cell\n",
              "var outputEl = gd.closest('.output');\n",
              "if (outputEl) {{\n",
              "    x.observe(outputEl, {childList: true});\n",
              "}}\n",
              "\n",
              "                        })                };                            </script>        </div>\n",
              "</body>\n",
              "</html>"
            ]
          },
          "metadata": {}
        }
      ]
    },
    {
      "cell_type": "markdown",
      "source": [
        "**GENERO**"
      ],
      "metadata": {
        "id": "rKct10UdM8Cf"
      }
    },
    {
      "cell_type": "code",
      "source": [
        "df2['SEXO'].value_counts()"
      ],
      "metadata": {
        "colab": {
          "base_uri": "https://localhost:8080/"
        },
        "id": "fjOP5asvNZEG",
        "outputId": "d0296168-b5cc-4400-e4a7-d6b891aff369"
      },
      "execution_count": 194,
      "outputs": [
        {
          "output_type": "execute_result",
          "data": {
            "text/plain": [
              "F    3099\n",
              "M    2804\n",
              "Name: SEXO, dtype: int64"
            ]
          },
          "metadata": {},
          "execution_count": 194
        }
      ]
    },
    {
      "cell_type": "code",
      "source": [
        "import seaborn as sns"
      ],
      "metadata": {
        "id": "NAKRC3UhNbe2"
      },
      "execution_count": 195,
      "outputs": []
    },
    {
      "cell_type": "code",
      "source": [
        "sns.countplot(x='SEXO', data=df2);"
      ],
      "metadata": {
        "colab": {
          "base_uri": "https://localhost:8080/",
          "height": 0
        },
        "id": "LztU5d-MNdMN",
        "outputId": "dbb3ec35-9b62-417e-e6ae-d391e0553f48"
      },
      "execution_count": 196,
      "outputs": [
        {
          "output_type": "display_data",
          "data": {
            "text/plain": [
              "<Figure size 432x288 with 1 Axes>"
            ],
            "image/png": "[encoded data removed]"
          },
          "metadata": {
            "needs_background": "light"
          }
        }
      ]
    },
    {
      "cell_type": "code",
      "source": [
        "df2.shape"
      ],
      "metadata": {
        "colab": {
          "base_uri": "https://localhost:8080/"
        },
        "id": "_4a8FO_VNe-e",
        "outputId": "18a7d5ae-85d2-47f3-d201-44b97343bdc9"
      },
      "execution_count": 197,
      "outputs": [
        {
          "output_type": "execute_result",
          "data": {
            "text/plain": [
              "(5903, 4)"
            ]
          },
          "metadata": {},
          "execution_count": 197
        }
      ]
    },
    {
      "cell_type": "code",
      "source": [
        "df2.describe()"
      ],
      "metadata": {
        "colab": {
          "base_uri": "https://localhost:8080/",
          "height": 0
        },
        "id": "2LtQnItKNqbs",
        "outputId": "aefcda6c-400c-456f-e0c4-cce48d610728"
      },
      "execution_count": 198,
      "outputs": [
        {
          "output_type": "execute_result",
          "data": {
            "text/plain": [
              "             IDADE    INTERNADO       STATUS\n",
              "count  5903.000000  5903.000000  5903.000000\n",
              "mean     43.700999     0.219549     0.047603\n",
              "std      17.653127     0.413976     0.212943\n",
              "min       0.000000     0.000000     0.000000\n",
              "25%      31.000000     0.000000     0.000000\n",
              "50%      42.000000     0.000000     0.000000\n",
              "75%      56.000000     0.000000     0.000000\n",
              "max      96.000000     1.000000     1.000000"
            ],
            "text/html": [
              "\n",
              "  <div id=\"df-7ea14ef8-b8a6-491b-b68b-debca5a737fd\">\n",
              "    <div class=\"colab-df-container\">\n",
              "      <div>\n",
              "<style scoped>\n",
              "    .dataframe tbody tr th:only-of-type {\n",
              "        vertical-align: middle;\n",
              "    }\n",
              "\n",
              "    .dataframe tbody tr th {\n",
              "        vertical-align: top;\n",
              "    }\n",
              "\n",
              "    .dataframe thead th {\n",
              "        text-align: right;\n",
              "    }\n",
              "</style>\n",
              "<table border=\"1\" class=\"dataframe\">\n",
              "  <thead>\n",
              "    <tr style=\"text-align: right;\">\n",
              "      <th></th>\n",
              "      <th>IDADE</th>\n",
              "      <th>INTERNADO</th>\n",
              "      <th>STATUS</th>\n",
              "    </tr>\n",
              "  </thead>\n",
              "  <tbody>\n",
              "    <tr>\n",
              "      <th>count</th>\n",
              "      <td>5903.000000</td>\n",
              "      <td>5903.000000</td>\n",
              "      <td>5903.000000</td>\n",
              "    </tr>\n",
              "    <tr>\n",
              "      <th>mean</th>\n",
              "      <td>43.700999</td>\n",
              "      <td>0.219549</td>\n",
              "      <td>0.047603</td>\n",
              "    </tr>\n",
              "    <tr>\n",
              "      <th>std</th>\n",
              "      <td>17.653127</td>\n",
              "      <td>0.413976</td>\n",
              "      <td>0.212943</td>\n",
              "    </tr>\n",
              "    <tr>\n",
              "      <th>min</th>\n",
              "      <td>0.000000</td>\n",
              "      <td>0.000000</td>\n",
              "      <td>0.000000</td>\n",
              "    </tr>\n",
              "    <tr>\n",
              "      <th>25%</th>\n",
              "      <td>31.000000</td>\n",
              "      <td>0.000000</td>\n",
              "      <td>0.000000</td>\n",
              "    </tr>\n",
              "    <tr>\n",
              "      <th>50%</th>\n",
              "      <td>42.000000</td>\n",
              "      <td>0.000000</td>\n",
              "      <td>0.000000</td>\n",
              "    </tr>\n",
              "    <tr>\n",
              "      <th>75%</th>\n",
              "      <td>56.000000</td>\n",
              "      <td>0.000000</td>\n",
              "      <td>0.000000</td>\n",
              "    </tr>\n",
              "    <tr>\n",
              "      <th>max</th>\n",
              "      <td>96.000000</td>\n",
              "      <td>1.000000</td>\n",
              "      <td>1.000000</td>\n",
              "    </tr>\n",
              "  </tbody>\n",
              "</table>\n",
              "</div>\n",
              "      <button class=\"colab-df-convert\" onclick=\"convertToInteractive('df-7ea14ef8-b8a6-491b-b68b-debca5a737fd')\"\n",
              "              title=\"Convert this dataframe to an interactive table.\"\n",
              "              style=\"display:none;\">\n",
              "        \n",
              "  <svg xmlns=\"http://www.w3.org/2000/svg\" height=\"24px\"viewBox=\"0 0 24 24\"\n",
              "       width=\"24px\">\n",
              "    <path d=\"M0 0h24v24H0V0z\" fill=\"none\"/>\n",
              "    <path d=\"M18.56 5.44l.94 2.06.94-2.06 2.06-.94-2.06-.94-.94-2.06-.94 2.06-2.06.94zm-11 1L8.5 8.5l.94-2.06 2.06-.94-2.06-.94L8.5 2.5l-.94 2.06-2.06.94zm10 10l.94 2.06.94-2.06 2.06-.94-2.06-.94-.94-2.06-.94 2.06-2.06.94z\"/><path d=\"M17.41 7.96l-1.37-1.37c-.4-.4-.92-.59-1.43-.59-.52 0-1.04.2-1.43.59L10.3 9.45l-7.72 7.72c-.78.78-.78 2.05 0 2.83L4 21.41c.39.39.9.59 1.41.59.51 0 1.02-.2 1.41-.59l7.78-7.78 2.81-2.81c.8-.78.8-2.07 0-2.86zM5.41 20L4 18.59l7.72-7.72 1.47 1.35L5.41 20z\"/>\n",
              "  </svg>\n",
              "      </button>\n",
              "      \n",
              "  <style>\n",
              "    .colab-df-container {\n",
              "      display:flex;\n",
              "      flex-wrap:wrap;\n",
              "      gap: 12px;\n",
              "    }\n",
              "\n",
              "    .colab-df-convert {\n",
              "      background-color: #E8F0FE;\n",
              "      border: none;\n",
              "      border-radius: 50%;\n",
              "      cursor: pointer;\n",
              "      display: none;\n",
              "      fill: #1967D2;\n",
              "      height: 32px;\n",
              "      padding: 0 0 0 0;\n",
              "      width: 32px;\n",
              "    }\n",
              "\n",
              "    .colab-df-convert:hover {\n",
              "      background-color: #E2EBFA;\n",
              "      box-shadow: 0px 1px 2px rgba(60, 64, 67, 0.3), 0px 1px 3px 1px rgba(60, 64, 67, 0.15);\n",
              "      fill: #174EA6;\n",
              "    }\n",
              "\n",
              "    [theme=dark] .colab-df-convert {\n",
              "      background-color: #3B4455;\n",
              "      fill: #D2E3FC;\n",
              "    }\n",
              "\n",
              "    [theme=dark] .colab-df-convert:hover {\n",
              "      background-color: #434B5C;\n",
              "      box-shadow: 0px 1px 3px 1px rgba(0, 0, 0, 0.15);\n",
              "      filter: drop-shadow(0px 1px 2px rgba(0, 0, 0, 0.3));\n",
              "      fill: #FFFFFF;\n",
              "    }\n",
              "  </style>\n",
              "\n",
              "      <script>\n",
              "        const buttonEl =\n",
              "          document.querySelector('#df-7ea14ef8-b8a6-491b-b68b-debca5a737fd button.colab-df-convert');\n",
              "        buttonEl.style.display =\n",
              "          google.colab.kernel.accessAllowed ? 'block' : 'none';\n",
              "\n",
              "        async function convertToInteractive(key) {\n",
              "          const element = document.querySelector('#df-7ea14ef8-b8a6-491b-b68b-debca5a737fd');\n",
              "          const dataTable =\n",
              "            await google.colab.kernel.invokeFunction('convertToInteractive',\n",
              "                                                     [key], {});\n",
              "          if (!dataTable) return;\n",
              "\n",
              "          const docLinkHtml = 'Like what you see? Visit the ' +\n",
              "            '<a target=\"_blank\" href=https://colab.research.google.com/notebooks/data_table.ipynb>data table notebook</a>'\n",
              "            + ' to learn more about interactive tables.';\n",
              "          element.innerHTML = '';\n",
              "          dataTable['output_type'] = 'display_data';\n",
              "          await google.colab.output.renderOutput(dataTable, element);\n",
              "          const docLink = document.createElement('div');\n",
              "          docLink.innerHTML = docLinkHtml;\n",
              "          element.appendChild(docLink);\n",
              "        }\n",
              "      </script>\n",
              "    </div>\n",
              "  </div>\n",
              "  "
            ]
          },
          "metadata": {},
          "execution_count": 198
        }
      ]
    },
    {
      "cell_type": "markdown",
      "source": [
        "**Analise de outliers**"
      ],
      "metadata": {
        "id": "MO4ua29VN46t"
      }
    },
    {
      "cell_type": "code",
      "source": [
        "import plotly.express as px"
      ],
      "metadata": {
        "id": "8kyXHeoUN63E"
      },
      "execution_count": 199,
      "outputs": []
    },
    {
      "cell_type": "code",
      "source": [
        "boxplot = px.box(df2, y=\"IDADE\")\n",
        "boxplot.show()"
      ],
      "metadata": {
        "colab": {
          "base_uri": "https://localhost:8080/",
          "height": 0
        },
        "id": "0dvFREF9OAQE",
        "outputId": "a2f33f55-88ae-402f-e4da-e5be5b4c2a6d"
      },
      "execution_count": 200,
      "outputs": [
        {
          "output_type": "display_data",
          "data": {
            "text/html": [
              "<html>\n",
              "<head><meta charset=\"utf-8\" /></head>\n",
              "<body>\n",
              "    <div>            <script src=\"https://cdnjs.cloudflare.com/ajax/libs/mathjax/2.7.5/MathJax.js?config=TeX-AMS-MML_SVG\"></script><script type=\"text/javascript\">if (window.MathJax) {MathJax.Hub.Config({SVG: {font: \"STIX-Web\"}});}</script>                <script type=\"text/javascript\">window.PlotlyConfig = {MathJaxConfig: 'local'};</script>\n",
              "        <script src=\"https://cdn.plot.ly/plotly-2.8.3.min.js\"></script>                <div id=\"176beff3-bb4f-4a98-a193-26c92be266fa\" class=\"plotly-graph-div\" style=\"height:525px; width:100%;\"></div>            <script type=\"text/javascript\">                                    window.PLOTLYENV=window.PLOTLYENV || {};                                    if (document.getElementById(\"176beff3-bb4f-4a98-a193-26c92be266fa\")) {                    Plotly.newPlot(                        \"176beff3-bb4f-4a98-a193-26c92be266fa\",                        [{\"alignmentgroup\":\"True\",\"hovertemplate\":\"IDADE=%{y}<extra></extra>\",\"legendgroup\":\"\",\"marker\":{\"color\":\"#636efa\"},\"name\":\"\",\"notched\":false,\"offsetgroup\":\"\",\"orientation\":\"v\",\"showlegend\":false,\"x0\":\" \",\"xaxis\":\"x\",\"y\":[54,15,43,25,58,57,27,26,52,22,26,48,32,36,45,26,48,53,30,32,81,58,52,44,36,28,53,30,41,73,70,42,32,38,61,36,68,28,59,79,56,59,32,54,17,41,22,69,54,10,62,62,34,78,30,51,30,46,38,28,80,41,51,31,27,40,49,66,54,56,55,29,29,35,77,58,59,39,63,30,64,29,39,29,37,45,59,69,37,75,70,74,63,61,62,59,37,65,36,54,61,32,58,36,46,35,50,50,23,62,61,56,41,43,56,68,41,31,17,44,53,29,38,63,66,55,55,86,54,68,29,64,32,88,52,49,53,60,39,93,34,28,37,35,31,78,54,57,34,41,62,41,94,29,45,47,38,68,29,36,66,37,35,37,42,54,41,77,58,85,45,25,31,56,81,35,72,56,45,54,52,48,49,23,29,47,19,30,32,22,65,43,65,48,36,96,47,33,20,35,37,23,49,70,62,47,52,55,82,39,52,34,75,30,31,29,74,56,43,42,51,30,47,33,58,62,30,31,44,50,18,70,36,37,80,88,23,62,42,75,73,87,37,24,57,24,33,30,29,31,1,20,74,39,26,71,40,69,26,32,34,43,38,51,25,25,53,85,94,62,9,31,33,25,38,59,43,24,36,53,26,64,37,57,44,57,76,62,49,48,48,38,29,79,32,36,17,30,42,79,44,40,84,69,36,30,38,49,81,74,24,40,36,31,63,75,36,31,49,59,37,34,24,22,85,32,45,89,27,46,30,64,44,26,57,69,32,57,28,52,29,59,44,54,40,46,70,29,25,37,39,55,45,26,86,38,55,71,35,56,42,72,81,28,61,45,34,72,36,31,54,36,48,46,38,49,32,40,47,54,75,56,33,25,16,36,35,35,59,59,93,47,24,31,15,38,27,57,53,54,43,45,50,39,13,23,66,41,40,67,49,17,39,63,42,24,37,58,80,3,41,30,44,45,53,40,34,45,36,44,31,59,41,64,42,26,31,65,56,54,65,42,27,29,51,80,77,69,53,71,45,62,82,32,89,21,47,38,25,26,52,40,46,38,24,82,77,65,22,50,63,21,65,24,81,51,27,80,43,72,58,89,42,53,23,37,55,30,27,55,36,38,5,34,44,34,67,60,22,35,25,41,25,80,23,31,47,44,89,31,67,46,45,29,41,62,53,48,36,68,85,42,30,45,90,49,36,53,23,36,31,3,34,57,54,67,50,52,31,3,64,3,48,20,34,27,63,42,25,44,64,50,26,62,60,63,31,39,37,42,50,55,39,39,63,47,37,42,42,43,68,61,29,69,46,46,27,46,64,34,30,31,23,27,56,36,73,62,74,56,56,12,44,27,62,58,52,55,89,38,64,26,33,31,25,56,23,53,22,1,55,28,28,50,59,35,42,50,58,9,55,53,83,30,52,0,34,76,77,52,7,38,39,49,37,55,50,22,3,54,67,55,24,50,47,78,51,42,23,59,67,39,31,38,1,33,29,43,0,63,33,82,8,55,49,16,66,66,67,56,62,34,38,76,58,40,32,38,39,70,31,33,74,79,48,44,85,85,74,55,20,43,51,37,73,52,41,30,75,56,21,38,23,27,29,90,23,24,40,65,77,45,63,27,44,54,38,39,45,34,53,51,30,27,39,41,36,66,41,37,52,65,38,37,35,56,87,31,55,67,65,52,68,73,16,88,47,22,31,40,52,39,53,37,66,89,44,49,40,58,48,45,39,40,43,41,35,32,29,30,62,27,58,61,28,56,36,47,53,52,54,42,67,45,55,60,29,36,32,41,38,38,26,41,36,23,62,46,26,33,80,51,24,58,78,45,50,32,38,37,40,76,38,60,61,60,49,36,58,69,37,38,21,70,34,79,47,44,41,48,25,24,37,48,56,48,36,56,45,58,28,52,42,33,86,71,31,6,59,16,77,36,49,24,9,23,32,57,25,19,35,48,22,13,48,62,47,5,30,60,48,50,23,9,18,34,64,31,54,37,40,56,81,75,56,62,21,28,24,68,44,65,71,73,47,31,29,40,87,42,59,42,57,34,1,66,24,23,49,36,61,40,55,8,30,62,82,58,42,47,63,54,41,46,85,26,48,46,23,30,67,81,49,77,48,53,51,50,13,5,29,67,23,75,69,33,76,62,57,38,66,70,22,52,54,61,36,35,46,69,41,54,30,9,75,72,49,53,53,59,56,21,40,13,38,62,43,81,66,63,48,24,48,41,22,22,57,39,47,24,28,26,82,34,79,30,67,62,85,20,23,54,19,47,57,55,68,40,48,50,33,82,89,51,48,67,49,29,43,85,41,46,62,43,64,38,39,30,44,59,65,74,48,49,57,57,36,38,5,27,33,54,21,30,39,55,59,46,32,61,26,56,25,37,49,33,38,36,34,61,24,48,32,49,87,81,26,23,38,42,44,18,39,33,61,64,41,24,50,25,31,82,45,65,53,36,37,50,50,38,46,58,41,25,40,43,64,29,73,20,41,41,36,30,44,50,30,44,28,42,58,42,37,49,31,60,46,47,28,29,46,91,10,42,71,29,38,51,75,70,54,32,50,25,37,64,46,39,69,31,55,45,31,36,68,66,58,66,48,41,35,93,26,34,43,48,31,47,29,37,43,55,52,57,41,46,48,19,28,37,49,64,52,58,59,44,65,75,70,69,11,20,33,22,33,54,38,22,44,56,74,37,33,54,79,50,1,68,45,78,52,31,77,62,89,39,70,48,68,19,17,42,27,30,42,40,32,37,22,28,77,55,31,61,79,61,30,59,74,41,32,38,40,39,22,59,52,39,34,57,21,64,67,28,42,41,77,77,32,75,59,56,23,34,45,36,39,57,45,62,39,43,42,49,46,49,68,48,50,76,56,87,57,57,85,59,58,64,80,69,79,61,81,69,70,45,62,48,44,76,21,51,28,22,26,50,59,73,30,55,76,33,56,29,33,69,37,32,39,41,82,36,58,17,5,61,37,74,53,39,69,48,44,81,25,49,45,47,28,44,30,34,48,55,41,58,27,73,20,29,27,30,28,40,54,34,21,32,52,44,34,46,28,23,30,2,39,27,54,59,60,36,32,40,67,73,33,35,87,64,70,49,63,68,88,31,70,90,90,82,29,88,57,47,48,38,61,72,58,17,56,40,28,49,38,45,37,48,77,37,65,37,63,54,34,71,26,29,30,63,42,59,27,51,56,28,38,45,47,40,39,50,55,27,62,48,73,38,56,22,42,27,41,70,63,24,39,66,37,39,53,40,36,22,53,24,38,47,96,49,64,41,43,70,25,12,67,36,46,49,32,66,45,55,59,50,44,45,89,49,67,31,75,57,43,42,35,23,45,46,42,22,33,28,27,30,77,75,67,18,38,60,43,39,83,45,57,34,38,49,49,56,21,80,52,29,41,51,42,9,42,50,63,58,24,85,48,48,41,48,43,20,22,20,26,44,35,57,38,68,41,57,39,37,29,90,76,26,29,67,60,52,52,67,67,75,17,40,59,61,72,61,47,55,85,81,89,47,50,75,66,44,27,35,47,60,27,46,37,36,63,24,44,68,46,50,32,30,44,27,45,47,48,43,54,38,30,87,74,64,29,84,36,67,46,52,46,60,59,48,23,77,39,22,65,62,35,28,57,38,56,31,63,35,39,48,43,37,37,58,78,58,32,30,88,47,39,40,53,71,69,67,67,52,74,77,73,37,64,3,45,78,42,49,32,63,81,42,40,45,21,38,26,49,45,50,43,49,27,58,61,45,29,30,54,44,33,90,51,37,80,60,69,41,30,66,30,49,35,50,68,75,61,40,56,43,68,70,35,50,36,21,85,44,42,52,59,33,66,33,18,53,34,62,34,42,45,61,41,42,20,28,43,36,30,70,45,57,41,42,44,54,41,36,67,50,53,73,84,64,30,86,86,44,56,69,65,75,52,57,35,35,50,29,26,36,68,38,24,61,24,69,17,52,59,69,49,27,52,14,48,63,56,46,46,46,45,31,48,43,2,27,45,27,39,19,19,19,50,41,50,14,35,32,54,36,48,87,42,79,48,41,22,43,61,63,62,53,44,28,34,55,52,43,48,3,34,39,70,22,57,63,70,44,40,40,57,35,29,3,53,66,77,22,77,59,56,54,62,29,32,55,55,64,27,36,45,39,55,48,30,34,82,38,29,1,47,34,49,40,28,40,74,35,82,57,36,76,26,68,70,50,79,62,86,71,7,54,36,45,56,26,40,28,33,49,19,29,30,41,47,63,28,57,60,20,44,39,38,35,26,45,50,21,29,47,42,44,36,33,34,31,27,35,22,73,43,40,44,45,27,64,28,23,1,41,68,43,46,35,28,35,53,42,33,42,4,46,42,37,21,58,45,37,37,64,58,43,55,23,36,46,20,26,32,18,67,27,42,60,42,50,35,72,65,43,27,88,11,33,31,62,37,37,31,35,38,43,28,46,60,60,57,48,35,51,63,55,37,68,30,42,47,63,53,50,57,64,53,39,48,61,82,46,76,28,58,38,37,41,59,50,28,33,41,49,63,68,66,49,76,52,79,39,46,27,17,43,82,43,38,75,72,51,49,27,89,63,72,53,78,36,28,33,55,65,51,53,20,46,34,21,52,45,48,36,2,82,27,42,40,57,53,54,57,76,63,49,48,14,48,67,36,66,51,26,40,39,36,23,83,53,45,29,76,37,45,24,43,48,30,33,72,63,63,74,74,40,33,41,45,34,19,38,31,50,36,54,28,42,47,70,26,13,46,51,55,61,43,71,62,72,23,59,82,69,70,83,33,71,36,33,49,24,47,32,32,5,20,56,35,20,40,31,39,82,39,39,47,38,20,25,32,51,41,40,45,20,35,24,27,45,93,37,27,34,37,46,46,32,20,57,72,50,28,31,61,72,85,37,80,59,57,66,72,24,53,34,39,82,40,43,28,37,80,46,74,55,59,66,25,59,45,28,52,63,54,22,38,21,29,45,31,15,35,56,58,59,56,31,30,24,21,35,46,24,20,0,34,7,23,55,39,42,50,57,30,46,65,43,61,36,40,40,59,20,27,38,44,28,39,38,33,29,41,58,22,52,26,64,30,36,61,37,25,46,65,34,39,44,53,7,34,29,47,46,41,43,40,37,29,1,38,27,49,79,32,28,56,14,71,33,41,33,23,44,47,40,38,57,48,40,37,50,48,38,52,65,27,38,33,36,45,57,49,36,54,54,27,43,44,37,29,68,30,0,39,37,35,39,35,27,40,60,66,32,47,38,35,37,36,46,53,29,28,34,80,61,42,1,48,23,53,26,23,20,28,32,79,51,39,50,36,35,38,19,30,46,37,24,64,55,23,40,50,47,32,29,37,31,64,53,4,66,31,52,38,74,4,1,31,45,43,20,47,42,40,25,73,46,21,30,20,48,37,54,28,24,68,62,52,65,49,39,32,26,36,43,27,72,36,52,38,62,38,28,48,26,40,45,48,57,38,23,54,35,40,46,32,52,43,32,20,51,31,20,80,28,37,27,51,16,66,20,35,22,33,49,42,37,52,57,27,43,41,36,24,55,61,23,41,34,40,27,49,39,43,60,29,29,24,25,28,62,50,46,23,49,25,62,38,15,40,30,53,19,31,38,61,43,36,74,51,45,36,38,67,25,40,35,24,37,34,53,34,36,29,24,44,32,31,34,54,31,53,31,35,27,34,66,24,42,24,47,68,88,28,29,75,25,30,4,30,57,16,74,18,57,23,30,39,48,40,36,69,44,23,43,23,68,28,26,34,19,38,35,44,75,71,22,18,27,43,43,20,26,26,77,38,20,47,20,28,56,38,36,45,55,35,16,44,39,59,39,24,46,26,42,42,25,21,32,34,18,64,42,30,59,63,66,45,35,0,71,24,43,65,42,25,33,60,57,47,50,79,83,25,44,29,48,40,25,21,37,32,58,31,58,56,44,38,67,73,76,73,63,44,40,39,33,40,29,42,41,26,45,11,35,38,42,42,59,52,49,59,46,21,47,1,88,39,79,77,37,76,31,76,51,48,24,92,54,60,79,29,49,43,32,56,66,45,46,59,32,63,65,64,43,65,23,34,32,23,69,44,23,66,1,31,65,66,41,51,45,48,27,26,55,42,25,25,40,44,36,66,48,44,54,46,86,53,64,31,38,31,31,40,27,26,38,29,62,39,46,39,35,30,30,28,64,40,65,21,27,35,22,65,61,62,32,60,71,56,62,55,74,44,50,64,54,26,42,74,75,67,66,29,41,37,41,22,48,37,29,40,46,24,63,33,32,25,35,32,44,63,26,30,52,36,34,58,49,43,45,60,66,34,69,34,55,27,24,53,55,28,85,45,41,44,39,23,47,37,34,73,26,29,22,33,32,60,53,37,6,63,28,56,33,42,35,45,51,44,20,49,28,37,45,51,41,29,43,69,53,65,17,39,40,28,28,8,29,41,40,29,40,49,37,68,14,45,0,48,80,71,54,90,50,34,72,13,26,56,59,68,56,32,32,41,33,56,56,85,11,24,13,88,44,35,36,55,59,29,64,51,31,17,40,41,29,24,35,57,24,45,40,24,40,31,81,55,32,45,46,52,38,29,46,33,28,31,24,63,59,36,43,49,39,43,28,23,31,22,14,59,33,34,38,29,54,49,50,30,51,50,56,36,40,34,64,41,24,25,17,58,66,43,28,61,40,37,37,55,29,30,34,29,33,31,23,31,43,52,14,27,22,38,82,80,53,43,33,33,32,25,60,71,46,61,30,21,57,27,55,65,34,28,39,24,22,57,73,4,33,30,53,11,49,54,67,33,60,34,45,45,70,37,29,42,11,66,47,29,32,7,59,48,57,37,53,36,32,57,37,45,31,32,27,31,45,66,27,56,3,89,28,35,60,29,67,34,51,35,47,73,63,78,27,60,59,38,41,62,31,45,73,52,42,69,42,65,81,47,51,41,43,39,55,35,45,46,33,62,58,39,0,3,27,36,8,36,26,29,44,54,51,47,63,24,63,60,48,59,79,36,56,66,62,86,76,52,49,58,72,35,22,17,17,45,37,56,39,22,24,24,3,71,66,67,59,51,58,49,59,56,65,42,85,55,91,26,40,27,39,39,7,47,24,49,43,63,70,38,33,78,39,34,70,65,43,42,6,53,52,59,41,57,62,32,23,52,37,55,63,44,56,44,59,28,13,16,67,38,41,31,49,48,52,54,43,59,49,33,29,67,26,42,40,50,45,28,2,66,25,48,22,37,59,29,42,72,61,39,12,28,32,24,65,45,65,19,36,58,30,43,31,24,63,44,47,38,57,68,31,39,25,85,54,27,24,40,60,33,43,43,60,60,24,49,26,28,43,9,33,53,54,45,51,36,32,62,52,37,22,39,38,33,41,37,1,1,49,44,48,49,39,22,40,69,49,23,34,36,39,51,42,31,36,24,39,42,41,42,23,34,68,15,68,44,20,33,34,50,37,23,36,58,26,32,26,48,39,70,38,22,44,76,28,33,26,24,67,37,35,30,39,52,39,7,48,55,56,32,40,62,59,32,45,67,23,36,18,56,22,27,29,46,78,58,33,38,26,2,40,65,63,38,58,38,35,25,21,29,33,38,27,45,62,61,31,43,29,38,68,29,40,33,30,5,32,36,41,22,57,22,28,37,29,28,12,39,25,42,55,51,33,33,34,40,37,28,36,37,19,22,33,26,27,32,34,38,45,36,52,17,70,38,43,44,37,30,34,35,23,27,33,30,67,23,42,53,57,44,47,49,32,69,42,28,43,76,33,35,54,38,87,33,60,55,46,33,20,29,19,21,33,31,50,25,57,57,44,5,37,18,27,49,43,42,32,42,56,24,40,31,65,1,35,46,31,52,80,47,30,21,34,35,31,41,35,50,36,36,66,56,77,51,48,45,70,46,76,59,71,30,75,48,75,43,34,71,47,64,50,49,44,71,74,60,51,53,28,75,45,57,73,64,53,15,56,40,35,71,59,62,17,37,33,8,32,32,37,3,24,25,14,44,45,64,25,71,24,49,20,45,45,38,68,30,48,17,50,3,49,74,46,42,59,51,32,22,69,7,52,48,25,62,68,13,42,44,11,39,30,34,22,2,54,48,68,41,50,51,48,53,31,31,72,25,48,43,5,60,34,19,45,48,41,57,49,50,46,42,50,22,70,62,38,63,57,42,36,30,55,46,35,45,33,54,54,42,58,28,46,42,36,34,49,45,20,35,35,55,47,59,38,47,36,31,73,26,24,26,45,46,42,28,54,33,27,74,16,40,31,27,33,83,37,53,59,19,15,54,24,21,18,57,39,48,40,74,40,37,20,54,2,12,31,45,42,38,47,46,25,64,43,74,51,27,34,47,38,32,86,19,30,41,43,37,24,10,57,78,63,64,34,29,60,43,85,24,20,27,62,96,15,39,48,52,71,56,14,10,54,18,36,26,24,47,29,49,66,50,64,66,29,33,47,53,49,57,85,28,53,59,40,77,63,56,58,53,55,56,36,45,27,63,39,56,71,54,38,44,80,67,27,51,65,84,66,80,80,39,36,93,50,61,44,37,20,20,60,35,27,79,33,24,56,32,52,62,51,64,12,54,68,55,28,33,41,31,26,43,46,36,70,56,24,41,28,50,19,56,46,56,47,77,42,24,49,41,43,46,46,31,42,33,34,52,26,10,25,24,45,48,49,30,23,33,58,50,56,30,29,43,23,39,24,36,71,70,25,23,32,6,70,64,55,50,58,51,47,33,25,39,53,72,34,42,56,40,54,3,39,28,38,55,39,30,59,12,39,72,49,8,57,39,62,58,57,35,43,43,26,49,78,32,43,26,37,53,32,2,33,38,47,62,42,42,62,74,34,60,48,48,55,29,60,29,65,73,65,55,53,52,38,62,13,22,27,60,25,81,66,39,25,52,42,75,54,50,32,51,33,38,28,27,25,23,67,40,34,41,52,21,42,81,21,22,50,59,30,22,40,53,63,22,42,35,37,31,41,15,74,55,62,23,26,61,88,11,24,42,50,41,9,65,48,21,20,20,18,46,48,49,56,19,36,31,38,32,50,42,51,50,53,63,53,55,74,55,50,55,22,56,0,29,69,47,44,57,88,19,38,7,41,40,70,60,25,27,37,50,33,22,42,46,38,26,24,35,34,58,32,35,50,25,28,3,34,37,39,16,17,43,36,38,30,22,50,39,40,45,28,24,49,46,19,51,68,26,41,32,65,24,76,40,36,41,29,46,68,41,42,31,36,55,28,64,56,28,55,30,11,24,57,35,34,26,53,52,64,83,56,30,50,57,78,82,47,73,50,57,43,43,90,52,66,23,90,74,24,66,33,52,68,75,53,60,88,80,39,74,44,50,20,36,51,51,58,37,58,55,36,68,42,51,23,45,37,72,41,30,37,33,26,31,38,33,35,42,56,72,35,70,34,42,36,51,32,26,31,53,39,38,15,12,18,57,34,18,37,58,65,45,66,30,34,60,28,61,52,23,21,30,45,24,77,10,57,35,65,55,37,23,24,22,21,23,24,31,25,18,62,34,38,35,22,30,48,26,38,54,52,65,60,32,31,23,51,30,33,21,58,32,36,52,39,43,18,90,36,2,28,26,54,46,56,28,30,30,92,88,67,33,32,70,34,38,29,69,32,25,32,45,29,32,34,76,62,44,42,48,51,35,31,37,40,44,40,26,28,28,36,36,37,57,27,83,33,28,35,59,47,66,26,75,38,48,42,40,28,21,74,38,55,44,30,23,30,32,31,60,40,40,51,37,62,59,27,39,48,58,52,62,12,42,22,52,15,18,22,58,42,25,51,32,12,34,4,33,23,72,39,44,42,60,26,59,48,35,54,29,53,51,56,83,80,50,81,81,55,5,39,77,41,73,69,47,50,25,90,35,59,62,9,84,62,52,79,23,21,42,61,51,39,53,45,33,31,46,23,54,50,24,19,48,22,48,20,50,45,67,35,12,26,42,30,23,25,29,51,26,37,38,37,20,39,50,47,22,43,43,36,40,0,34,23,66,46,28,48,48,41,46,39,50,27,66,50,62,47,48,23,44,23,23,30,69,28,1,58,68,28,50,43,39,23,39,22,41,31,50,21,57,8,25,22,7,53,33,57,51,41,61,52,69,32,14,39,22,30,49,41,48,47,31,30,26,31,36,34,27,69,38,31,29,29,37,26,38,38,61,26,22,42,32,28,62,38,31,43,38,37,39,33,29,30,36,3,78,37,58,16,37,23,28,27,35,54,31,3,23,60,1,42,9,33,33,45,54,59,72,66,82,8,31,26,31,39,49,28,66,59,63,38,37,20,59,63,64,68,22,58,33,66,29,45,38,34,35,23,34,79,60,55,75,64,42,54,74,40,71,87,3,81,47,69,56,65,57,39,81,25,47,26,32,37,46,22,44,59,47,77,59,35,34,26,53,30,22,25,42,27,56,35,27,32,19,49,27,56,63,34,46,39,55,45,80,73,44,59,36,85,62,51,45,20,41,45,60,59,73,50,68,43,76,68,62,86,55,51,62,49,34,80,2,18,27,32,55,53,64,59,74,61,51,36,63,71,38,0,30,56,52,20,26,47,28,37,33,37,52,27,26,30,48,34,52,26,24,32,63,59,67,54,41,43,58,58,34,40,45,54,52,31,39,34,49,30,77,76,45,57,58,47,32,35,90,48,63,51,15,79,46,51,64,77,43,42,38,19,59,24,26,24,24,55,63,28,21,49,45,17,27,25,49,15,36,20,34,21,5,45,67,24,12,3,29,36,58,34,17,75,20,31,57,40,32,33,59,45,57,30,45,67,43,44,30,27,28,52,60,33,21,32,16,36,42,58,66,46,38,34,31,24,24,69,19,62,47,9,12,53,50,62,45,72,62,63,42,35,59,84,59,35,78,63,6,35,70,30,45,50,55,24,48,65,23,57,28,26,38,19,30,51,43,44,50,30,51,20,52,46,61,38,45,36,58,52,53,33,3,69,20,28,26,69,25,44,69,29,73,39,45,54,42,34,40,32,28,38,44,4,24,43,77,38,43,19,40,28,32,25,49,43,35,27,31,35,20,22,26,48,23,38,74,47,11,47,42,74,48,67,47,62,44,40,65,50,48,45,34,20,22,51,27,37,44,63,83,26,34,35,19,26,47,10,69,36,32,67,54,40,41,23,37,39,1,47,43,38,52,54,25,44,29,40,32,35,26,46,32,45,32,23,24,47,57,44,23,57,53,2,38,43,64,29,50,21,25,22,50,63,57,50,57,50,37,41,36,31,36,60,17,31,30,46,56,42,27,53,56,37,29,36,39,58,52,16,60,47,50,1,31,52,70,10,33,26,58,40,20,35,30,31,42,33,66,43,30,44,57,46,59,28,20,33,29,64,46,28,46,18,26,41,53,25,45,38,45,24,58,39,44,34,33,30,25,68,51,39,37,40,48,54,8,29,29,50,52,41,44,37,74,44,46,34,38,39,32,46,42,28,54,25,28,43,58,18,63,24,49,58,47,27,67,11,18,38,48,70,40,56,24,28,22,24,32,47,55,30,62,57,53,28,38,64,14,43,67,21,54,35,25,63,50,83,74,43,29,74,50,26,41,50,59,45,45,32,33,7,50,30,67,39,21,57,29,41,39,46,37,42,43,18,38,38,28,17,11,54,20,44,44,63,13,0,25,35,35,43,30,23,34,50,65,45,56,54,32,36,26,30,35,44,34,51,71,49,33,32,42,20,1,26,18,75,41,34,35,55,22,38,70,39,59,44,49,42,48,21,22,35,50,34,34,51,31,49,27,33,34,37,54,27,37,29,40,36,31,48,65,8,29,82,70,53,59,38,0,31,45,30,21,28,24,46,63,66,56,57,42,22,38,80,39,28,36,28,73,33,34,35,2,44,65,50,41,19,32,33,36,41,26,45,53,69,48,57,89,68,36,83,51,61,5,45,63,44,41,72,61,46,56,68,57,34,44,70,70,64,36,48,58,49,68,49,58,32,37,40,55,39,38,77,53,33,23,38,30,66,41,26,68,77,45,23,44,33,38,37,32,45,67,34,43,65,35,32,33,25,38,29,27,46,26,20,28,40,28,54,24,33,21,59,54,28,62,45,53,20,24,46,17,66,59,4,68,33,18,28,2,19,24,31,57,78,38,13,60,25,58,74,35,46,43,38,27,43,46,50,13,45,34,41,53,45,25,42,45,20,34,0,54,25,42,60,40,43,58,39,57,47,41,57,4,45,42,17,0,43,74,26,44,32,46,60,33,50,45,26,40,79,54,61,43,16,33,40,43,23,54,46,40,24,43,26,30,27,62,65,36,58,29,35,33,38,38,34,27,33,2,15,16,28,54,16,28,41,24,7,28,58,42,37,36,51,26,25,47,41,64,30,44,61,35,64,11,44,32,55,38,33,32,4,41,41,32,36,70,69,39,51,52,65,56,47,64,32,3,59,39,62,60,23,26,30,23,53,20,45,42,58,37,35,24,66,33,43,39,38,19,27,18,30,25,26,33,37,43,32,69,49,38,57,45,44,42,46,57,38,37,36,63,47,35,27,33,30,45,53,43,54,25,16,24,39,45,3,23,42,26,39,45,56,41,41,19,46,65,45,40,17,39,87,28,54,50,42,49,57,40,60,41,49,38,50,42,24,26,55,18,39,29,35,32,22,53,25,41,61,28,53,56,36,33,39,37,21,24,54,19,40,39,21,63,41,29,31,31,36,56,22,28,26,3,62,2,60,44,60,73,48,25,26,47,57,41,69,22,61,50,46,58,48,50,43,37,49,56,56,20,28,50,56,31,66,36,28,64,35,90,30,62,80,66,78,59,96,64,29,47,36,68,62,60,83,55,58,79,59,69,59,69,24,63,84,34,60,63,86,67,58,32,35,21,21,42,44,28,36,29,70,48,47,34,24,42,38,26,38,33,5,48,36,31,32,45,55,34,70,52,77,29,39,26,43,52,29,24,61,33,70,15,43,25,53,29,54,40,53,23,62,51,50,78,1,25,69,61,43,59,35,54,38,65,47,33,17,49,18,35,64,30,39,2,51,57,22,32,52,51,23,34,39,26,0,14,40,76,39,17,26,31,45,71,24,26,19,44,43,41,4,24,22,32,36,12,68,43,50,35,65,13,24,46,33,21,51,43,57,51,24,67,77,74,53,71,24,18,38,13,24,54,37,41,56,50,57,35,24,27,41,28,42,60,33,53,38,28,55,54,48,63,53,31,51,26,32,73,44,47,60,57,30,35,21,79,43,27,35,58,67,36,30,19,36,23,39,22,62,60,30,56,54,58,35,53,61,42,44,37,47,29,24,88,1,46,23,34,70,67],\"y0\":\" \",\"yaxis\":\"y\",\"type\":\"box\"}],                        {\"template\":{\"data\":{\"bar\":[{\"error_x\":{\"color\":\"#2a3f5f\"},\"error_y\":{\"color\":\"#2a3f5f\"},\"marker\":{\"line\":{\"color\":\"#E5ECF6\",\"width\":0.5},\"pattern\":{\"fillmode\":\"overlay\",\"size\":10,\"solidity\":0.2}},\"type\":\"bar\"}],\"barpolar\":[{\"marker\":{\"line\":{\"color\":\"#E5ECF6\",\"width\":0.5},\"pattern\":{\"fillmode\":\"overlay\",\"size\":10,\"solidity\":0.2}},\"type\":\"barpolar\"}],\"carpet\":[{\"aaxis\":{\"endlinecolor\":\"#2a3f5f\",\"gridcolor\":\"white\",\"linecolor\":\"white\",\"minorgridcolor\":\"white\",\"startlinecolor\":\"#2a3f5f\"},\"baxis\":{\"endlinecolor\":\"#2a3f5f\",\"gridcolor\":\"white\",\"linecolor\":\"white\",\"minorgridcolor\":\"white\",\"startlinecolor\":\"#2a3f5f\"},\"type\":\"carpet\"}],\"choropleth\":[{\"colorbar\":{\"outlinewidth\":0,\"ticks\":\"\"},\"type\":\"choropleth\"}],\"contour\":[{\"colorbar\":{\"outlinewidth\":0,\"ticks\":\"\"},\"colorscale\":[[0.0,\"#0d0887\"],[0.1111111111111111,\"#46039f\"],[0.2222222222222222,\"#7201a8\"],[0.3333333333333333,\"#9c179e\"],[0.4444444444444444,\"#bd3786\"],[0.5555555555555556,\"#d8576b\"],[0.6666666666666666,\"#ed7953\"],[0.7777777777777778,\"#fb9f3a\"],[0.8888888888888888,\"#fdca26\"],[1.0,\"#f0f921\"]],\"type\":\"contour\"}],\"contourcarpet\":[{\"colorbar\":{\"outlinewidth\":0,\"ticks\":\"\"},\"type\":\"contourcarpet\"}],\"heatmap\":[{\"colorbar\":{\"outlinewidth\":0,\"ticks\":\"\"},\"colorscale\":[[0.0,\"#0d0887\"],[0.1111111111111111,\"#46039f\"],[0.2222222222222222,\"#7201a8\"],[0.3333333333333333,\"#9c179e\"],[0.4444444444444444,\"#bd3786\"],[0.5555555555555556,\"#d8576b\"],[0.6666666666666666,\"#ed7953\"],[0.7777777777777778,\"#fb9f3a\"],[0.8888888888888888,\"#fdca26\"],[1.0,\"#f0f921\"]],\"type\":\"heatmap\"}],\"heatmapgl\":[{\"colorbar\":{\"outlinewidth\":0,\"ticks\":\"\"},\"colorscale\":[[0.0,\"#0d0887\"],[0.1111111111111111,\"#46039f\"],[0.2222222222222222,\"#7201a8\"],[0.3333333333333333,\"#9c179e\"],[0.4444444444444444,\"#bd3786\"],[0.5555555555555556,\"#d8576b\"],[0.6666666666666666,\"#ed7953\"],[0.7777777777777778,\"#fb9f3a\"],[0.8888888888888888,\"#fdca26\"],[1.0,\"#f0f921\"]],\"type\":\"heatmapgl\"}],\"histogram\":[{\"marker\":{\"pattern\":{\"fillmode\":\"overlay\",\"size\":10,\"solidity\":0.2}},\"type\":\"histogram\"}],\"histogram2d\":[{\"colorbar\":{\"outlinewidth\":0,\"ticks\":\"\"},\"colorscale\":[[0.0,\"#0d0887\"],[0.1111111111111111,\"#46039f\"],[0.2222222222222222,\"#7201a8\"],[0.3333333333333333,\"#9c179e\"],[0.4444444444444444,\"#bd3786\"],[0.5555555555555556,\"#d8576b\"],[0.6666666666666666,\"#ed7953\"],[0.7777777777777778,\"#fb9f3a\"],[0.8888888888888888,\"#fdca26\"],[1.0,\"#f0f921\"]],\"type\":\"histogram2d\"}],\"histogram2dcontour\":[{\"colorbar\":{\"outlinewidth\":0,\"ticks\":\"\"},\"colorscale\":[[0.0,\"#0d0887\"],[0.1111111111111111,\"#46039f\"],[0.2222222222222222,\"#7201a8\"],[0.3333333333333333,\"#9c179e\"],[0.4444444444444444,\"#bd3786\"],[0.5555555555555556,\"#d8576b\"],[0.6666666666666666,\"#ed7953\"],[0.7777777777777778,\"#fb9f3a\"],[0.8888888888888888,\"#fdca26\"],[1.0,\"#f0f921\"]],\"type\":\"histogram2dcontour\"}],\"mesh3d\":[{\"colorbar\":{\"outlinewidth\":0,\"ticks\":\"\"},\"type\":\"mesh3d\"}],\"parcoords\":[{\"line\":{\"colorbar\":{\"outlinewidth\":0,\"ticks\":\"\"}},\"type\":\"parcoords\"}],\"pie\":[{\"automargin\":true,\"type\":\"pie\"}],\"scatter\":[{\"marker\":{\"colorbar\":{\"outlinewidth\":0,\"ticks\":\"\"}},\"type\":\"scatter\"}],\"scatter3d\":[{\"line\":{\"colorbar\":{\"outlinewidth\":0,\"ticks\":\"\"}},\"marker\":{\"colorbar\":{\"outlinewidth\":0,\"ticks\":\"\"}},\"type\":\"scatter3d\"}],\"scattercarpet\":[{\"marker\":{\"colorbar\":{\"outlinewidth\":0,\"ticks\":\"\"}},\"type\":\"scattercarpet\"}],\"scattergeo\":[{\"marker\":{\"colorbar\":{\"outlinewidth\":0,\"ticks\":\"\"}},\"type\":\"scattergeo\"}],\"scattergl\":[{\"marker\":{\"colorbar\":{\"outlinewidth\":0,\"ticks\":\"\"}},\"type\":\"scattergl\"}],\"scattermapbox\":[{\"marker\":{\"colorbar\":{\"outlinewidth\":0,\"ticks\":\"\"}},\"type\":\"scattermapbox\"}],\"scatterpolar\":[{\"marker\":{\"colorbar\":{\"outlinewidth\":0,\"ticks\":\"\"}},\"type\":\"scatterpolar\"}],\"scatterpolargl\":[{\"marker\":{\"colorbar\":{\"outlinewidth\":0,\"ticks\":\"\"}},\"type\":\"scatterpolargl\"}],\"scatterternary\":[{\"marker\":{\"colorbar\":{\"outlinewidth\":0,\"ticks\":\"\"}},\"type\":\"scatterternary\"}],\"surface\":[{\"colorbar\":{\"outlinewidth\":0,\"ticks\":\"\"},\"colorscale\":[[0.0,\"#0d0887\"],[0.1111111111111111,\"#46039f\"],[0.2222222222222222,\"#7201a8\"],[0.3333333333333333,\"#9c179e\"],[0.4444444444444444,\"#bd3786\"],[0.5555555555555556,\"#d8576b\"],[0.6666666666666666,\"#ed7953\"],[0.7777777777777778,\"#fb9f3a\"],[0.8888888888888888,\"#fdca26\"],[1.0,\"#f0f921\"]],\"type\":\"surface\"}],\"table\":[{\"cells\":{\"fill\":{\"color\":\"#EBF0F8\"},\"line\":{\"color\":\"white\"}},\"header\":{\"fill\":{\"color\":\"#C8D4E3\"},\"line\":{\"color\":\"white\"}},\"type\":\"table\"}]},\"layout\":{\"annotationdefaults\":{\"arrowcolor\":\"#2a3f5f\",\"arrowhead\":0,\"arrowwidth\":1},\"autotypenumbers\":\"strict\",\"coloraxis\":{\"colorbar\":{\"outlinewidth\":0,\"ticks\":\"\"}},\"colorscale\":{\"diverging\":[[0,\"#8e0152\"],[0.1,\"#c51b7d\"],[0.2,\"#de77ae\"],[0.3,\"#f1b6da\"],[0.4,\"#fde0ef\"],[0.5,\"#f7f7f7\"],[0.6,\"#e6f5d0\"],[0.7,\"#b8e186\"],[0.8,\"#7fbc41\"],[0.9,\"#4d9221\"],[1,\"#276419\"]],\"sequential\":[[0.0,\"#0d0887\"],[0.1111111111111111,\"#46039f\"],[0.2222222222222222,\"#7201a8\"],[0.3333333333333333,\"#9c179e\"],[0.4444444444444444,\"#bd3786\"],[0.5555555555555556,\"#d8576b\"],[0.6666666666666666,\"#ed7953\"],[0.7777777777777778,\"#fb9f3a\"],[0.8888888888888888,\"#fdca26\"],[1.0,\"#f0f921\"]],\"sequentialminus\":[[0.0,\"#0d0887\"],[0.1111111111111111,\"#46039f\"],[0.2222222222222222,\"#7201a8\"],[0.3333333333333333,\"#9c179e\"],[0.4444444444444444,\"#bd3786\"],[0.5555555555555556,\"#d8576b\"],[0.6666666666666666,\"#ed7953\"],[0.7777777777777778,\"#fb9f3a\"],[0.8888888888888888,\"#fdca26\"],[1.0,\"#f0f921\"]]},\"colorway\":[\"#636efa\",\"#EF553B\",\"#00cc96\",\"#ab63fa\",\"#FFA15A\",\"#19d3f3\",\"#FF6692\",\"#B6E880\",\"#FF97FF\",\"#FECB52\"],\"font\":{\"color\":\"#2a3f5f\"},\"geo\":{\"bgcolor\":\"white\",\"lakecolor\":\"white\",\"landcolor\":\"#E5ECF6\",\"showlakes\":true,\"showland\":true,\"subunitcolor\":\"white\"},\"hoverlabel\":{\"align\":\"left\"},\"hovermode\":\"closest\",\"mapbox\":{\"style\":\"light\"},\"paper_bgcolor\":\"white\",\"plot_bgcolor\":\"#E5ECF6\",\"polar\":{\"angularaxis\":{\"gridcolor\":\"white\",\"linecolor\":\"white\",\"ticks\":\"\"},\"bgcolor\":\"#E5ECF6\",\"radialaxis\":{\"gridcolor\":\"white\",\"linecolor\":\"white\",\"ticks\":\"\"}},\"scene\":{\"xaxis\":{\"backgroundcolor\":\"#E5ECF6\",\"gridcolor\":\"white\",\"gridwidth\":2,\"linecolor\":\"white\",\"showbackground\":true,\"ticks\":\"\",\"zerolinecolor\":\"white\"},\"yaxis\":{\"backgroundcolor\":\"#E5ECF6\",\"gridcolor\":\"white\",\"gridwidth\":2,\"linecolor\":\"white\",\"showbackground\":true,\"ticks\":\"\",\"zerolinecolor\":\"white\"},\"zaxis\":{\"backgroundcolor\":\"#E5ECF6\",\"gridcolor\":\"white\",\"gridwidth\":2,\"linecolor\":\"white\",\"showbackground\":true,\"ticks\":\"\",\"zerolinecolor\":\"white\"}},\"shapedefaults\":{\"line\":{\"color\":\"#2a3f5f\"}},\"ternary\":{\"aaxis\":{\"gridcolor\":\"white\",\"linecolor\":\"white\",\"ticks\":\"\"},\"baxis\":{\"gridcolor\":\"white\",\"linecolor\":\"white\",\"ticks\":\"\"},\"bgcolor\":\"#E5ECF6\",\"caxis\":{\"gridcolor\":\"white\",\"linecolor\":\"white\",\"ticks\":\"\"}},\"title\":{\"x\":0.05},\"xaxis\":{\"automargin\":true,\"gridcolor\":\"white\",\"linecolor\":\"white\",\"ticks\":\"\",\"title\":{\"standoff\":15},\"zerolinecolor\":\"white\",\"zerolinewidth\":2},\"yaxis\":{\"automargin\":true,\"gridcolor\":\"white\",\"linecolor\":\"white\",\"ticks\":\"\",\"title\":{\"standoff\":15},\"zerolinecolor\":\"white\",\"zerolinewidth\":2}}},\"xaxis\":{\"anchor\":\"y\",\"domain\":[0.0,1.0]},\"yaxis\":{\"anchor\":\"x\",\"domain\":[0.0,1.0],\"title\":{\"text\":\"IDADE\"}},\"legend\":{\"tracegroupgap\":0},\"margin\":{\"t\":60},\"boxmode\":\"group\"},                        {\"responsive\": true}                    ).then(function(){\n",
              "                            \n",
              "var gd = document.getElementById('176beff3-bb4f-4a98-a193-26c92be266fa');\n",
              "var x = new MutationObserver(function (mutations, observer) {{\n",
              "        var display = window.getComputedStyle(gd).display;\n",
              "        if (!display || display === 'none') {{\n",
              "            console.log([gd, 'removed!']);\n",
              "            Plotly.purge(gd);\n",
              "            observer.disconnect();\n",
              "        }}\n",
              "}});\n",
              "\n",
              "// Listen for the removal of the full notebook cells\n",
              "var notebookContainer = gd.closest('#notebook-container');\n",
              "if (notebookContainer) {{\n",
              "    x.observe(notebookContainer, {childList: true});\n",
              "}}\n",
              "\n",
              "// Listen for the clearing of the current output cell\n",
              "var outputEl = gd.closest('.output');\n",
              "if (outputEl) {{\n",
              "    x.observe(outputEl, {childList: true});\n",
              "}}\n",
              "\n",
              "                        })                };                            </script>        </div>\n",
              "</body>\n",
              "</html>"
            ]
          },
          "metadata": {}
        }
      ]
    },
    {
      "cell_type": "code",
      "source": [
        "df2.head()"
      ],
      "metadata": {
        "colab": {
          "base_uri": "https://localhost:8080/",
          "height": 0
        },
        "id": "vr1adk1NOmn8",
        "outputId": "1ce0789c-1c5c-433c-9f6e-08586052e79c"
      },
      "execution_count": 201,
      "outputs": [
        {
          "output_type": "execute_result",
          "data": {
            "text/plain": [
              "   IDADE SEXO  INTERNADO  STATUS\n",
              "0     54    M          0       0\n",
              "1     15    M          0       0\n",
              "2     43    M          0       0\n",
              "3     25    F          0       0\n",
              "4     58    M          0       0"
            ],
            "text/html": [
              "\n",
              "  <div id=\"df-786a01bd-acb0-467b-8fdf-ae552c6844fa\">\n",
              "    <div class=\"colab-df-container\">\n",
              "      <div>\n",
              "<style scoped>\n",
              "    .dataframe tbody tr th:only-of-type {\n",
              "        vertical-align: middle;\n",
              "    }\n",
              "\n",
              "    .dataframe tbody tr th {\n",
              "        vertical-align: top;\n",
              "    }\n",
              "\n",
              "    .dataframe thead th {\n",
              "        text-align: right;\n",
              "    }\n",
              "</style>\n",
              "<table border=\"1\" class=\"dataframe\">\n",
              "  <thead>\n",
              "    <tr style=\"text-align: right;\">\n",
              "      <th></th>\n",
              "      <th>IDADE</th>\n",
              "      <th>SEXO</th>\n",
              "      <th>INTERNADO</th>\n",
              "      <th>STATUS</th>\n",
              "    </tr>\n",
              "  </thead>\n",
              "  <tbody>\n",
              "    <tr>\n",
              "      <th>0</th>\n",
              "      <td>54</td>\n",
              "      <td>M</td>\n",
              "      <td>0</td>\n",
              "      <td>0</td>\n",
              "    </tr>\n",
              "    <tr>\n",
              "      <th>1</th>\n",
              "      <td>15</td>\n",
              "      <td>M</td>\n",
              "      <td>0</td>\n",
              "      <td>0</td>\n",
              "    </tr>\n",
              "    <tr>\n",
              "      <th>2</th>\n",
              "      <td>43</td>\n",
              "      <td>M</td>\n",
              "      <td>0</td>\n",
              "      <td>0</td>\n",
              "    </tr>\n",
              "    <tr>\n",
              "      <th>3</th>\n",
              "      <td>25</td>\n",
              "      <td>F</td>\n",
              "      <td>0</td>\n",
              "      <td>0</td>\n",
              "    </tr>\n",
              "    <tr>\n",
              "      <th>4</th>\n",
              "      <td>58</td>\n",
              "      <td>M</td>\n",
              "      <td>0</td>\n",
              "      <td>0</td>\n",
              "    </tr>\n",
              "  </tbody>\n",
              "</table>\n",
              "</div>\n",
              "      <button class=\"colab-df-convert\" onclick=\"convertToInteractive('df-786a01bd-acb0-467b-8fdf-ae552c6844fa')\"\n",
              "              title=\"Convert this dataframe to an interactive table.\"\n",
              "              style=\"display:none;\">\n",
              "        \n",
              "  <svg xmlns=\"http://www.w3.org/2000/svg\" height=\"24px\"viewBox=\"0 0 24 24\"\n",
              "       width=\"24px\">\n",
              "    <path d=\"M0 0h24v24H0V0z\" fill=\"none\"/>\n",
              "    <path d=\"M18.56 5.44l.94 2.06.94-2.06 2.06-.94-2.06-.94-.94-2.06-.94 2.06-2.06.94zm-11 1L8.5 8.5l.94-2.06 2.06-.94-2.06-.94L8.5 2.5l-.94 2.06-2.06.94zm10 10l.94 2.06.94-2.06 2.06-.94-2.06-.94-.94-2.06-.94 2.06-2.06.94z\"/><path d=\"M17.41 7.96l-1.37-1.37c-.4-.4-.92-.59-1.43-.59-.52 0-1.04.2-1.43.59L10.3 9.45l-7.72 7.72c-.78.78-.78 2.05 0 2.83L4 21.41c.39.39.9.59 1.41.59.51 0 1.02-.2 1.41-.59l7.78-7.78 2.81-2.81c.8-.78.8-2.07 0-2.86zM5.41 20L4 18.59l7.72-7.72 1.47 1.35L5.41 20z\"/>\n",
              "  </svg>\n",
              "      </button>\n",
              "      \n",
              "  <style>\n",
              "    .colab-df-container {\n",
              "      display:flex;\n",
              "      flex-wrap:wrap;\n",
              "      gap: 12px;\n",
              "    }\n",
              "\n",
              "    .colab-df-convert {\n",
              "      background-color: #E8F0FE;\n",
              "      border: none;\n",
              "      border-radius: 50%;\n",
              "      cursor: pointer;\n",
              "      display: none;\n",
              "      fill: #1967D2;\n",
              "      height: 32px;\n",
              "      padding: 0 0 0 0;\n",
              "      width: 32px;\n",
              "    }\n",
              "\n",
              "    .colab-df-convert:hover {\n",
              "      background-color: #E2EBFA;\n",
              "      box-shadow: 0px 1px 2px rgba(60, 64, 67, 0.3), 0px 1px 3px 1px rgba(60, 64, 67, 0.15);\n",
              "      fill: #174EA6;\n",
              "    }\n",
              "\n",
              "    [theme=dark] .colab-df-convert {\n",
              "      background-color: #3B4455;\n",
              "      fill: #D2E3FC;\n",
              "    }\n",
              "\n",
              "    [theme=dark] .colab-df-convert:hover {\n",
              "      background-color: #434B5C;\n",
              "      box-shadow: 0px 1px 3px 1px rgba(0, 0, 0, 0.15);\n",
              "      filter: drop-shadow(0px 1px 2px rgba(0, 0, 0, 0.3));\n",
              "      fill: #FFFFFF;\n",
              "    }\n",
              "  </style>\n",
              "\n",
              "      <script>\n",
              "        const buttonEl =\n",
              "          document.querySelector('#df-786a01bd-acb0-467b-8fdf-ae552c6844fa button.colab-df-convert');\n",
              "        buttonEl.style.display =\n",
              "          google.colab.kernel.accessAllowed ? 'block' : 'none';\n",
              "\n",
              "        async function convertToInteractive(key) {\n",
              "          const element = document.querySelector('#df-786a01bd-acb0-467b-8fdf-ae552c6844fa');\n",
              "          const dataTable =\n",
              "            await google.colab.kernel.invokeFunction('convertToInteractive',\n",
              "                                                     [key], {});\n",
              "          if (!dataTable) return;\n",
              "\n",
              "          const docLinkHtml = 'Like what you see? Visit the ' +\n",
              "            '<a target=\"_blank\" href=https://colab.research.google.com/notebooks/data_table.ipynb>data table notebook</a>'\n",
              "            + ' to learn more about interactive tables.';\n",
              "          element.innerHTML = '';\n",
              "          dataTable['output_type'] = 'display_data';\n",
              "          await google.colab.output.renderOutput(dataTable, element);\n",
              "          const docLink = document.createElement('div');\n",
              "          docLink.innerHTML = docLinkHtml;\n",
              "          element.appendChild(docLink);\n",
              "        }\n",
              "      </script>\n",
              "    </div>\n",
              "  </div>\n",
              "  "
            ]
          },
          "metadata": {},
          "execution_count": 201
        }
      ]
    },
    {
      "cell_type": "markdown",
      "source": [
        "# Transformar variaveis categoricas em numericas"
      ],
      "metadata": {
        "id": "pSrGKtBIPKw5"
      }
    },
    {
      "cell_type": "code",
      "source": [
        "df2['SEXO'].replace({'F': 0, 'M': 1}, inplace=True)"
      ],
      "metadata": {
        "id": "7UTysqUmO05k"
      },
      "execution_count": 202,
      "outputs": []
    },
    {
      "cell_type": "code",
      "source": [
        "df2.head()"
      ],
      "metadata": {
        "colab": {
          "base_uri": "https://localhost:8080/",
          "height": 206
        },
        "id": "SekJrRYmPNPU",
        "outputId": "489830e3-8d05-473e-8db3-fcc199e38539"
      },
      "execution_count": 203,
      "outputs": [
        {
          "output_type": "execute_result",
          "data": {
            "text/plain": [
              "   IDADE  SEXO  INTERNADO  STATUS\n",
              "0     54     1          0       0\n",
              "1     15     1          0       0\n",
              "2     43     1          0       0\n",
              "3     25     0          0       0\n",
              "4     58     1          0       0"
            ],
            "text/html": [
              "\n",
              "  <div id=\"df-892718f6-be25-42d6-8bdb-a14e6f166a44\">\n",
              "    <div class=\"colab-df-container\">\n",
              "      <div>\n",
              "<style scoped>\n",
              "    .dataframe tbody tr th:only-of-type {\n",
              "        vertical-align: middle;\n",
              "    }\n",
              "\n",
              "    .dataframe tbody tr th {\n",
              "        vertical-align: top;\n",
              "    }\n",
              "\n",
              "    .dataframe thead th {\n",
              "        text-align: right;\n",
              "    }\n",
              "</style>\n",
              "<table border=\"1\" class=\"dataframe\">\n",
              "  <thead>\n",
              "    <tr style=\"text-align: right;\">\n",
              "      <th></th>\n",
              "      <th>IDADE</th>\n",
              "      <th>SEXO</th>\n",
              "      <th>INTERNADO</th>\n",
              "      <th>STATUS</th>\n",
              "    </tr>\n",
              "  </thead>\n",
              "  <tbody>\n",
              "    <tr>\n",
              "      <th>0</th>\n",
              "      <td>54</td>\n",
              "      <td>1</td>\n",
              "      <td>0</td>\n",
              "      <td>0</td>\n",
              "    </tr>\n",
              "    <tr>\n",
              "      <th>1</th>\n",
              "      <td>15</td>\n",
              "      <td>1</td>\n",
              "      <td>0</td>\n",
              "      <td>0</td>\n",
              "    </tr>\n",
              "    <tr>\n",
              "      <th>2</th>\n",
              "      <td>43</td>\n",
              "      <td>1</td>\n",
              "      <td>0</td>\n",
              "      <td>0</td>\n",
              "    </tr>\n",
              "    <tr>\n",
              "      <th>3</th>\n",
              "      <td>25</td>\n",
              "      <td>0</td>\n",
              "      <td>0</td>\n",
              "      <td>0</td>\n",
              "    </tr>\n",
              "    <tr>\n",
              "      <th>4</th>\n",
              "      <td>58</td>\n",
              "      <td>1</td>\n",
              "      <td>0</td>\n",
              "      <td>0</td>\n",
              "    </tr>\n",
              "  </tbody>\n",
              "</table>\n",
              "</div>\n",
              "      <button class=\"colab-df-convert\" onclick=\"convertToInteractive('df-892718f6-be25-42d6-8bdb-a14e6f166a44')\"\n",
              "              title=\"Convert this dataframe to an interactive table.\"\n",
              "              style=\"display:none;\">\n",
              "        \n",
              "  <svg xmlns=\"http://www.w3.org/2000/svg\" height=\"24px\"viewBox=\"0 0 24 24\"\n",
              "       width=\"24px\">\n",
              "    <path d=\"M0 0h24v24H0V0z\" fill=\"none\"/>\n",
              "    <path d=\"M18.56 5.44l.94 2.06.94-2.06 2.06-.94-2.06-.94-.94-2.06-.94 2.06-2.06.94zm-11 1L8.5 8.5l.94-2.06 2.06-.94-2.06-.94L8.5 2.5l-.94 2.06-2.06.94zm10 10l.94 2.06.94-2.06 2.06-.94-2.06-.94-.94-2.06-.94 2.06-2.06.94z\"/><path d=\"M17.41 7.96l-1.37-1.37c-.4-.4-.92-.59-1.43-.59-.52 0-1.04.2-1.43.59L10.3 9.45l-7.72 7.72c-.78.78-.78 2.05 0 2.83L4 21.41c.39.39.9.59 1.41.59.51 0 1.02-.2 1.41-.59l7.78-7.78 2.81-2.81c.8-.78.8-2.07 0-2.86zM5.41 20L4 18.59l7.72-7.72 1.47 1.35L5.41 20z\"/>\n",
              "  </svg>\n",
              "      </button>\n",
              "      \n",
              "  <style>\n",
              "    .colab-df-container {\n",
              "      display:flex;\n",
              "      flex-wrap:wrap;\n",
              "      gap: 12px;\n",
              "    }\n",
              "\n",
              "    .colab-df-convert {\n",
              "      background-color: #E8F0FE;\n",
              "      border: none;\n",
              "      border-radius: 50%;\n",
              "      cursor: pointer;\n",
              "      display: none;\n",
              "      fill: #1967D2;\n",
              "      height: 32px;\n",
              "      padding: 0 0 0 0;\n",
              "      width: 32px;\n",
              "    }\n",
              "\n",
              "    .colab-df-convert:hover {\n",
              "      background-color: #E2EBFA;\n",
              "      box-shadow: 0px 1px 2px rgba(60, 64, 67, 0.3), 0px 1px 3px 1px rgba(60, 64, 67, 0.15);\n",
              "      fill: #174EA6;\n",
              "    }\n",
              "\n",
              "    [theme=dark] .colab-df-convert {\n",
              "      background-color: #3B4455;\n",
              "      fill: #D2E3FC;\n",
              "    }\n",
              "\n",
              "    [theme=dark] .colab-df-convert:hover {\n",
              "      background-color: #434B5C;\n",
              "      box-shadow: 0px 1px 3px 1px rgba(0, 0, 0, 0.15);\n",
              "      filter: drop-shadow(0px 1px 2px rgba(0, 0, 0, 0.3));\n",
              "      fill: #FFFFFF;\n",
              "    }\n",
              "  </style>\n",
              "\n",
              "      <script>\n",
              "        const buttonEl =\n",
              "          document.querySelector('#df-892718f6-be25-42d6-8bdb-a14e6f166a44 button.colab-df-convert');\n",
              "        buttonEl.style.display =\n",
              "          google.colab.kernel.accessAllowed ? 'block' : 'none';\n",
              "\n",
              "        async function convertToInteractive(key) {\n",
              "          const element = document.querySelector('#df-892718f6-be25-42d6-8bdb-a14e6f166a44');\n",
              "          const dataTable =\n",
              "            await google.colab.kernel.invokeFunction('convertToInteractive',\n",
              "                                                     [key], {});\n",
              "          if (!dataTable) return;\n",
              "\n",
              "          const docLinkHtml = 'Like what you see? Visit the ' +\n",
              "            '<a target=\"_blank\" href=https://colab.research.google.com/notebooks/data_table.ipynb>data table notebook</a>'\n",
              "            + ' to learn more about interactive tables.';\n",
              "          element.innerHTML = '';\n",
              "          dataTable['output_type'] = 'display_data';\n",
              "          await google.colab.output.renderOutput(dataTable, element);\n",
              "          const docLink = document.createElement('div');\n",
              "          docLink.innerHTML = docLinkHtml;\n",
              "          element.appendChild(docLink);\n",
              "        }\n",
              "      </script>\n",
              "    </div>\n",
              "  </div>\n",
              "  "
            ]
          },
          "metadata": {},
          "execution_count": 203
        }
      ]
    },
    {
      "cell_type": "markdown",
      "source": [
        "# Escalonamento"
      ],
      "metadata": {
        "id": "sIJ0pt2WPFb9"
      }
    },
    {
      "cell_type": "code",
      "source": [
        "from sklearn.preprocessing import StandardScaler"
      ],
      "metadata": {
        "id": "iWJZQeKIOuxX"
      },
      "execution_count": 204,
      "outputs": []
    },
    {
      "cell_type": "code",
      "source": [
        "escala = StandardScaler()\n",
        "df2_esc = escala.fit_transform(df2)"
      ],
      "metadata": {
        "id": "GElBsouLO5lO"
      },
      "execution_count": 205,
      "outputs": []
    },
    {
      "cell_type": "code",
      "source": [
        "df2_esc"
      ],
      "metadata": {
        "colab": {
          "base_uri": "https://localhost:8080/"
        },
        "id": "ruKCjlcUO7IX",
        "outputId": "188cb69a-df75-4687-f23c-c08812795433"
      },
      "execution_count": 206,
      "outputs": [
        {
          "output_type": "execute_result",
          "data": {
            "text/plain": [
              "array([[ 0.58345885,  1.05128818, -0.53038764, -0.22356702],\n",
              "       [-1.62596867,  1.05128818, -0.53038764, -0.22356702],\n",
              "       [-0.03971301,  1.05128818, -0.53038764, -0.22356702],\n",
              "       ...,\n",
              "       [-0.5495809 , -0.95121396, -0.53038764, -0.22356702],\n",
              "       [ 1.48989065,  1.05128818, -0.53038764, -0.22356702],\n",
              "       [ 1.31993469,  1.05128818, -0.53038764, -0.22356702]])"
            ]
          },
          "metadata": {},
          "execution_count": 206
        }
      ]
    },
    {
      "cell_type": "markdown",
      "source": [
        "## **K MEANS COM PCA**"
      ],
      "metadata": {
        "id": "hp_b63s5GFWk"
      }
    },
    {
      "cell_type": "code",
      "source": [
        "df2_esc"
      ],
      "metadata": {
        "colab": {
          "base_uri": "https://localhost:8080/"
        },
        "id": "U-BtnL42GH_h",
        "outputId": "d462b1ce-589a-4bea-f8f7-cb45b1d095ac"
      },
      "execution_count": 207,
      "outputs": [
        {
          "output_type": "execute_result",
          "data": {
            "text/plain": [
              "array([[ 0.58345885,  1.05128818, -0.53038764, -0.22356702],\n",
              "       [-1.62596867,  1.05128818, -0.53038764, -0.22356702],\n",
              "       [-0.03971301,  1.05128818, -0.53038764, -0.22356702],\n",
              "       ...,\n",
              "       [-0.5495809 , -0.95121396, -0.53038764, -0.22356702],\n",
              "       [ 1.48989065,  1.05128818, -0.53038764, -0.22356702],\n",
              "       [ 1.31993469,  1.05128818, -0.53038764, -0.22356702]])"
            ]
          },
          "metadata": {},
          "execution_count": 207
        }
      ]
    },
    {
      "cell_type": "code",
      "source": [
        "df2_esc.shape"
      ],
      "metadata": {
        "colab": {
          "base_uri": "https://localhost:8080/"
        },
        "id": "GmPpFafAGMK4",
        "outputId": "62158e29-2a05-4d41-a8a3-203b63de056e"
      },
      "execution_count": 208,
      "outputs": [
        {
          "output_type": "execute_result",
          "data": {
            "text/plain": [
              "(5903, 4)"
            ]
          },
          "metadata": {},
          "execution_count": 208
        }
      ]
    },
    {
      "cell_type": "markdown",
      "source": [
        "**Componentes Principais**"
      ],
      "metadata": {
        "id": "PEACTo3yGloc"
      }
    },
    {
      "cell_type": "code",
      "source": [
        "from sklearn.decomposition import PCA"
      ],
      "metadata": {
        "id": "_TQonMlOGmwk"
      },
      "execution_count": 209,
      "outputs": []
    },
    {
      "cell_type": "code",
      "source": [
        "pca = PCA(n_components = 2)"
      ],
      "metadata": {
        "id": "NKpqajpfGpxl"
      },
      "execution_count": 210,
      "outputs": []
    },
    {
      "cell_type": "code",
      "source": [
        "df2_pca = pca.fit_transform(df2_esc)"
      ],
      "metadata": {
        "id": "K-LkSaUkHgFf"
      },
      "execution_count": 211,
      "outputs": []
    },
    {
      "cell_type": "code",
      "source": [
        "df2_pca"
      ],
      "metadata": {
        "colab": {
          "base_uri": "https://localhost:8080/"
        },
        "id": "CipK8dMfHizY",
        "outputId": "68f809ba-b29c-4b6c-d943-7d9004901656"
      },
      "execution_count": 212,
      "outputs": [
        {
          "output_type": "execute_result",
          "data": {
            "text/plain": [
              "array([[ 0.03064365, -0.94281916],\n",
              "       [-1.19271952, -1.3261931 ],\n",
              "       [-0.3144075 , -1.05095027],\n",
              "       ...,\n",
              "       [-0.88365326,  0.82343125],\n",
              "       [ 0.53253623, -0.78553755],\n",
              "       [ 0.43843137, -0.81502785]])"
            ]
          },
          "metadata": {},
          "execution_count": 212
        }
      ]
    },
    {
      "cell_type": "code",
      "source": [
        "# razão das variáveis explicativas\n",
        "pca.explained_variance_ratio_"
      ],
      "metadata": {
        "colab": {
          "base_uri": "https://localhost:8080/"
        },
        "id": "_MCU1lhoHl13",
        "outputId": "87c76fd4-1c5b-4c17-afd0-ce864c34c89c"
      },
      "execution_count": 213,
      "outputs": [
        {
          "output_type": "execute_result",
          "data": {
            "text/plain": [
              "array([0.44305785, 0.247892  ])"
            ]
          },
          "metadata": {},
          "execution_count": 213
        }
      ]
    },
    {
      "cell_type": "code",
      "source": [
        "# Soma das variáveis explicativas\n",
        "pca.explained_variance_ratio_.sum()"
      ],
      "metadata": {
        "colab": {
          "base_uri": "https://localhost:8080/"
        },
        "id": "2sF4Fr75Hm4y",
        "outputId": "ca2fd188-77ed-4ea5-bb57-425101903716"
      },
      "execution_count": 214,
      "outputs": [
        {
          "output_type": "execute_result",
          "data": {
            "text/plain": [
              "0.6909498554548061"
            ]
          },
          "metadata": {},
          "execution_count": 214
        }
      ]
    },
    {
      "cell_type": "markdown",
      "source": [
        "**Elbow Method**"
      ],
      "metadata": {
        "id": "8f9HnbJgHqXv"
      }
    },
    {
      "cell_type": "code",
      "source": [
        "from sklearn.cluster import KMeans\n",
        "wcss = []\n",
        "for i in range(1, 11):\n",
        "    kmeans = KMeans(n_clusters = i, init = 'k-means++', random_state = 5, max_iter = 300)\n",
        "    kmeans.fit(df2_pca)\n",
        "# Método inertia para gerar o wcss\n",
        "    wcss.append(kmeans.inertia_)"
      ],
      "metadata": {
        "id": "-ja2w2JUHq1v"
      },
      "execution_count": 215,
      "outputs": []
    },
    {
      "cell_type": "code",
      "source": [
        "import matplotlib.pyplot as plt\n",
        "import seaborn as sns"
      ],
      "metadata": {
        "id": "O7_JOIzWHwFa"
      },
      "execution_count": 216,
      "outputs": []
    },
    {
      "cell_type": "code",
      "source": [
        "plt.figure(figsize=(10,5))\n",
        "sns.lineplot(range(1, 11), wcss,marker='o',color='red')\n",
        "plt.title('The Elbow Method')\n",
        "plt.xlabel('Número de clusters')\n",
        "plt.ylabel('WCSS');"
      ],
      "metadata": {
        "colab": {
          "base_uri": "https://localhost:8080/",
          "height": 350
        },
        "id": "yY84CMbmHx1A",
        "outputId": "7d2a8a37-cc5f-47d4-e927-65f7eeec9aaa"
      },
      "execution_count": 217,
      "outputs": [
        {
          "output_type": "display_data",
          "data": {
            "text/plain": [
              "<Figure size 720x360 with 1 Axes>"
            ],
            "image/png": "[encoded data removed]"
          },
          "metadata": {
            "needs_background": "light"
          }
        }
      ]
    },
    {
      "cell_type": "markdown",
      "source": [
        "**Agrupamento**"
      ],
      "metadata": {
        "id": "TQ3KO_6FH3ng"
      }
    },
    {
      "cell_type": "code",
      "source": [
        "kmeans = KMeans(n_clusters = 4, init = 'k-means++', random_state = 5, max_iter = 300)"
      ],
      "metadata": {
        "id": "ol146KrMH5cQ"
      },
      "execution_count": 218,
      "outputs": []
    },
    {
      "cell_type": "code",
      "source": [
        "kmeans_fit = kmeans.fit(df2_pca)"
      ],
      "metadata": {
        "id": "pb4sTJeWH8xh"
      },
      "execution_count": 219,
      "outputs": []
    },
    {
      "cell_type": "code",
      "source": [
        "# Coordenadas dos Centróides\n",
        "centroides = kmeans_fit.cluster_centers_\n",
        "centroides"
      ],
      "metadata": {
        "colab": {
          "base_uri": "https://localhost:8080/"
        },
        "id": "eWpky-7SH-wz",
        "outputId": "e088ad34-a696-45e4-9623-3bd7e752812a"
      },
      "execution_count": 220,
      "outputs": [
        {
          "output_type": "execute_result",
          "data": {
            "text/plain": [
              "array([[-0.67008533,  0.87767371],\n",
              "       [-0.42235344, -1.0974081 ],\n",
              "       [ 4.48355721,  0.44061976],\n",
              "       [ 1.43571453, -0.17523494]])"
            ]
          },
          "metadata": {},
          "execution_count": 220
        }
      ]
    },
    {
      "cell_type": "code",
      "source": [
        "# Classificação dos dados\n",
        "classificacao = kmeans_fit.labels_\n",
        "classificacao"
      ],
      "metadata": {
        "colab": {
          "base_uri": "https://localhost:8080/"
        },
        "id": "mqNyWNnXIArr",
        "outputId": "b01e0b7e-f675-4690-e2b2-a681f3eafdf0"
      },
      "execution_count": 221,
      "outputs": [
        {
          "output_type": "execute_result",
          "data": {
            "text/plain": [
              "array([1, 1, 1, ..., 0, 1, 1], dtype=int32)"
            ]
          },
          "metadata": {},
          "execution_count": 221
        }
      ]
    },
    {
      "cell_type": "code",
      "source": [
        "classificacao[2]"
      ],
      "metadata": {
        "colab": {
          "base_uri": "https://localhost:8080/"
        },
        "id": "yca5DWyJIBeM",
        "outputId": "03fcfa0a-6a6e-429a-920b-c1cee39d8a4f"
      },
      "execution_count": 222,
      "outputs": [
        {
          "output_type": "execute_result",
          "data": {
            "text/plain": [
              "1"
            ]
          },
          "metadata": {},
          "execution_count": 222
        }
      ]
    },
    {
      "cell_type": "code",
      "source": [
        "import plotly.express as px\n",
        "import plotly.graph_objects as go"
      ],
      "metadata": {
        "id": "-tQiJyhHIDmZ"
      },
      "execution_count": 223,
      "outputs": []
    },
    {
      "cell_type": "code",
      "source": [
        "graf1 = px.scatter(x = df2_pca[:,0], y = df2_pca[:,1], color=classificacao)\n",
        "graf2 = px.scatter(x = centroides[:,0], y = centroides[:,1], size = [15, 15, 15, 15])\n",
        "graf3 = go.Figure(data = graf1.data + graf2.data)\n",
        "graf3.update_layout(width=800,height=500,title_text='Agrupamento K-Means com PCA')\n",
        "graf3.update_xaxes(title = 'Componente 1')\n",
        "graf3.update_yaxes(title = 'Componente 2')\n",
        "graf3.show()"
      ],
      "metadata": {
        "colab": {
          "base_uri": "https://localhost:8080/",
          "height": 517
        },
        "id": "K1JQzXrgIF_i",
        "outputId": "c17e3c5e-2284-4fae-d687-09a4394d2fec"
      },
      "execution_count": 224,
      "outputs": [
        {
          "output_type": "display_data",
          "data": {
            "text/html": [
              "<html>\n",
              "<head><meta charset=\"utf-8\" /></head>\n",
              "<body>\n",
              "    <div>            <script src=\"https://cdnjs.cloudflare.com/ajax/libs/mathjax/2.7.5/MathJax.js?config=TeX-AMS-MML_SVG\"></script><script type=\"text/javascript\">if (window.MathJax) {MathJax.Hub.Config({SVG: {font: \"STIX-Web\"}});}</script>                <script type=\"text/javascript\">window.PlotlyConfig = {MathJaxConfig: 'local'};</script>\n",
              "        <script src=\"https://cdn.plot.ly/plotly-2.8.3.min.js\"></script>                <div id=\"cb8b964f-4e25-47d6-8445-b410de6aa800\" class=\"plotly-graph-div\" style=\"height:500px; width:800px;\"></div>            <script type=\"text/javascript\">                                    window.PLOTLYENV=window.PLOTLYENV || {};                                    if (document.getElementById(\"cb8b964f-4e25-47d6-8445-b410de6aa800\")) {                    Plotly.newPlot(                        \"cb8b964f-4e25-47d6-8445-b410de6aa800\",                        [{\"hovertemplate\":\"x=%{x}<br>y=%{y}<br>color=%{marker.color}<extra></extra>\",\"legendgroup\":\"\",\"marker\":{\"color\":[1,1,1,0,1,0,0,0,0,0,0,0,1,0,0,0,0,1,0,0,0,3,1,0,1,0,0,0,0,3,0,1,0,0,0,0,1,0,1,3,3,3,0,0,1,3,0,3,1,1,3,3,0,3,1,0,1,0,0,0,3,3,3,1,0,3,3,0,3,1,0,1,0,1,3,1,3,3,3,1,3,0,1,1,0,1,0,3,3,3,3,3,1,1,3,3,3,3,0,3,3,1,0,3,0,1,1,3,0,0,2,3,0,3,2,3,3,0,0,3,3,1,0,0,3,3,3,3,3,3,0,3,1,3,3,3,3,3,2,2,0,1,1,0,1,3,1,3,1,1,3,3,2,0,1,0,0,3,1,0,3,0,0,0,0,0,0,3,3,2,0,1,0,3,2,0,2,2,1,3,0,3,1,0,0,3,1,1,0,0,3,3,1,3,1,3,1,0,0,1,1,0,0,3,1,0,0,0,2,3,3,1,2,1,0,0,3,1,0,0,0,0,1,0,3,1,1,0,0,1,0,2,0,3,2,2,0,3,3,0,2,2,0,1,0,0,0,0,0,1,1,1,3,3,0,1,0,1,1,0,1,0,1,0,1,1,0,3,2,1,1,0,0,0,0,0,0,0,0,0,1,0,0,1,0,1,2,3,1,1,0,3,0,0,1,1,0,0,0,0,1,0,0,0,1,0,0,0,0,0,0,0,0,0,0,0,1,1,0,0,0,1,0,0,0,1,0,0,1,3,0,2,0,0,1,0,1,1,0,0,1,1,0,0,1,0,1,0,1,1,0,3,3,0,2,1,1,3,0,3,0,3,3,1,0,0,0,2,0,1,1,0,1,1,0,0,0,3,1,0,3,0,0,0,0,0,0,1,1,0,2,0,0,0,1,1,0,0,0,3,1,0,3,0,0,1,1,0,1,0,1,0,3,2,3,1,0,0,2,1,0,0,1,0,3,0,0,1,0,1,0,1,1,0,1,0,0,1,1,0,0,1,0,0,3,3,2,1,3,3,3,3,2,3,3,0,0,1,1,1,3,0,1,0,0,3,0,0,1,1,0,0,0,0,2,3,1,2,3,3,0,3,0,3,0,1,0,1,0,0,0,1,3,3,0,1,0,0,0,1,0,1,0,3,0,0,0,0,3,0,0,1,0,0,1,1,1,0,1,1,0,0,0,1,3,1,1,1,1,0,1,0,0,3,0,3,1,0,0,1,1,1,0,1,0,0,3,1,0,0,0,3,1,2,2,3,0,1,0,0,3,0,1,0,0,0,1,1,0,0,1,0,0,2,0,3,0,3,0,0,1,0,0,0,0,1,0,3,3,0,2,1,3,0,0,0,0,1,0,1,0,0,0,0,1,0,1,0,0,0,0,0,1,3,1,1,1,1,1,0,0,0,3,1,3,1,0,3,3,0,1,1,1,1,0,0,0,0,0,0,0,0,0,0,0,3,1,0,1,1,3,3,0,1,1,0,1,1,1,3,0,3,0,2,0,1,1,0,0,0,3,3,0,3,3,1,0,1,0,2,0,0,3,0,1,1,3,3,0,3,0,0,0,1,3,3,3,0,3,0,1,0,1,0,1,0,1,0,0,1,3,1,1,0,0,3,1,3,3,0,0,1,1,1,1,1,1,0,1,1,1,1,1,1,0,3,2,0,1,2,2,3,3,3,1,2,3,1,1,0,0,0,0,1,0,3,0,1,1,3,1,0,0,1,0,3,0,1,0,0,1,0,1,1,0,0,0,1,3,2,3,1,0,1,3,3,1,1,0,1,0,1,1,0,0,0,3,3,0,3,2,3,0,0,3,1,3,1,1,3,1,3,0,1,1,1,0,0,1,0,0,1,1,3,0,3,3,1,3,0,1,1,1,1,3,3,0,0,0,1,0,1,1,0,0,1,1,0,3,1,2,1,1,1,0,0,1,1,0,1,1,1,1,0,1,3,3,0,1,3,3,3,0,1,0,0,1,1,0,1,3,0,3,2,1,3,1,1,1,0,0,2,3,0,0,0,1,1,2,0,3,1,2,1,1,1,0,0,0,1,0,0,3,0,1,1,3,1,0,0,3,0,1,1,0,1,1,0,1,1,3,3,3,2,3,3,3,0,0,0,0,3,1,3,3,0,0,1,3,0,3,0,1,3,3,2,3,0,1,0,0,1,0,0,2,3,2,3,3,0,3,0,1,0,1,1,1,0,1,0,0,0,0,1,1,0,3,0,1,1,0,0,2,1,2,1,3,1,2,1,1,1,1,1,0,3,3,3,3,1,0,3,2,1,0,2,3,0,3,2,3,3,3,3,2,2,1,1,1,1,0,0,0,1,1,1,0,0,0,0,0,1,1,0,1,1,3,2,0,3,0,3,1,3,1,3,3,0,3,2,0,3,1,1,2,3,0,1,0,1,0,0,0,1,1,0,0,1,1,1,1,2,0,1,0,0,1,1,0,1,1,0,1,1,1,3,3,0,3,0,0,1,1,0,3,0,0,0,0,1,3,1,3,3,1,0,1,0,0,0,3,2,1,0,0,1,1,1,3,0,0,1,3,1,3,3,1,1,3,0,0,3,0,1,3,3,1,3,3,1,1,2,1,1,0,0,1,0,0,0,1,3,1,1,0,0,1,1,1,0,1,3,3,3,3,0,3,3,1,3,0,1,0,1,1,1,1,0,0,0,3,1,0,3,2,0,1,3,3,0,3,0,2,3,3,0,3,1,1,1,1,0,1,0,1,0,1,1,1,0,3,3,0,0,2,3,1,1,0,1,1,0,0,1,0,3,0,0,0,3,0,3,2,0,0,0,0,2,3,3,1,0,1,1,3,0,1,0,1,1,1,0,0,0,0,1,1,3,1,2,2,3,3,3,3,1,1,2,3,2,0,3,3,3,2,1,0,1,0,2,0,3,0,1,0,0,1,2,0,3,3,1,3,0,0,0,0,0,1,0,2,0,1,0,0,3,0,3,1,3,2,3,3,3,0,0,3,3,0,1,1,1,0,1,1,0,0,3,1,0,0,1,1,3,0,0,0,0,3,0,0,0,0,1,0,1,1,1,3,3,1,1,1,1,3,2,0,0,2,2,3,3,3,3,2,1,3,3,3,2,1,2,1,0,1,1,1,0,0,1,1,1,1,1,0,0,0,1,0,1,1,1,0,1,1,0,0,1,1,1,1,2,0,3,3,1,3,1,3,1,3,2,3,0,3,1,0,3,1,0,0,0,0,0,0,1,1,0,0,0,0,0,0,1,1,1,0,1,3,0,1,0,0,0,1,0,1,1,1,0,0,3,0,3,1,1,3,0,2,1,1,0,0,1,1,1,1,0,0,0,1,0,1,0,0,0,2,2,3,0,0,0,3,3,2,1,0,0,1,0,0,0,0,0,1,1,1,0,0,1,1,0,1,0,1,2,0,0,3,3,3,0,1,1,1,3,1,0,1,0,1,3,0,1,1,2,2,1,0,3,3,1,2,2,2,3,0,0,3,3,3,3,3,3,3,2,2,3,2,3,2,0,0,1,3,1,0,0,0,1,0,1,1,1,0,1,0,0,1,1,0,0,1,0,0,3,1,2,2,2,0,3,3,3,3,3,3,3,3,3,1,2,0,1,2,3,0,1,0,0,0,1,1,1,0,1,0,0,0,1,2,0,0,0,2,3,3,1,3,2,3,3,3,3,2,3,2,0,0,1,3,2,0,1,1,0,0,1,1,1,1,1,1,1,0,0,0,0,1,0,1,0,0,0,3,3,0,3,3,3,3,1,3,3,1,2,0,3,1,0,3,2,3,0,1,0,0,1,1,1,1,0,0,0,0,1,0,1,0,1,1,0,1,1,1,0,3,3,1,0,0,0,3,1,1,3,0,2,3,1,3,1,0,0,3,0,3,2,2,2,0,2,3,2,3,3,3,3,0,3,0,1,0,0,1,0,0,1,1,1,0,0,0,0,0,0,0,1,0,0,3,3,3,3,3,0,1,1,1,0,0,0,0,1,0,1,1,0,1,1,0,0,0,0,3,1,0,2,1,3,1,1,0,0,3,3,0,3,1,1,0,1,0,0,1,0,1,0,1,1,1,3,0,1,0,1,0,0,0,0,0,3,3,0,0,2,2,3,3,0,0,1,1,3,1,1,1,1,3,0,0,1,2,0,0,0,1,1,1,0,0,0,3,0,2,3,3,2,1,3,3,3,0,3,3,2,1,0,0,1,1,0,0,0,1,1,0,0,0,1,1,0,0,1,0,0,1,1,0,1,0,1,1,0,0,0,0,1,0,0,0,0,1,0,1,3,0,2,0,0,0,1,0,0,1,0,0,0,1,1,1,1,1,0,0,0,1,0,3,0,1,0,0,0,0,3,1,0,1,0,0,0,1,1,0,1,0,0,1,0,1,3,0,2,0,0,1,0,1,0,0,3,0,0,0,0,1,1,0,1,1,0,0,0,0,0,3,1,3,0,0,3,1,3,3,0,2,3,2,2,1,3,2,0,3,0,1,1,3,1,1,0,1,1,0,3,3,1,1,3,3,2,2,0,3,1,0,3,2,3,0,0,2,3,3,0,2,3,3,2,3,1,0,1,1,0,1,0,0,1,0,0,1,1,0,0,0,3,0,0,1,0,1,1,0,0,1,1,1,0,0,3,0,2,3,0,0,3,3,1,3,2,3,0,2,3,3,0,1,3,1,1,3,3,3,3,3,1,0,0,1,0,1,0,1,0,0,0,0,1,0,1,1,1,3,0,1,3,1,2,3,3,0,3,2,3,3,2,0,2,1,0,0,0,3,0,1,1,1,2,0,1,3,0,1,3,0,0,1,1,0,1,1,3,0,1,1,1,0,0,1,1,2,3,1,3,3,3,0,1,1,0,3,0,1,1,3,3,2,1,3,3,3,3,3,0,2,3,3,3,3,3,0,3,3,3,2,3,3,0,1,0,3,1,3,2,1,0,0,1,1,1,0,1,0,0,1,0,1,1,1,1,1,0,0,1,0,1,0,1,1,1,1,1,0,1,0,0,0,0,0,1,1,0,0,0,0,1,0,1,0,0,1,1,0,0,0,0,0,1,0,1,0,0,1,0,0,0,0,1,1,1,0,1,1,1,1,0,0,1,0,0,0,0,1,0,1,0,0,0,0,0,0,0,1,0,0,1,1,0,0,0,0,0,0,0,0,0,0,1,0,0,1,0,0,0,0,0,0,1,0,0,0,0,0,0,0,0,0,0,0,1,0,0,0,0,0,0,1,0,1,0,0,0,1,1,3,0,1,1,1,1,1,0,0,3,0,0,0,0,0,0,1,1,1,1,1,0,0,0,0,1,0,0,0,1,0,0,0,0,0,0,0,1,0,1,0,0,0,0,0,0,0,1,0,0,0,1,3,0,1,1,0,0,1,1,0,0,0,1,1,0,1,0,0,1,1,0,0,3,0,0,0,1,0,1,0,0,1,0,0,1,1,1,0,1,1,1,1,1,0,1,0,1,0,0,0,1,0,1,0,0,3,1,0,0,0,1,1,0,0,0,0,0,0,0,1,0,0,0,0,1,0,1,0,0,1,2,1,1,0,0,0,0,0,1,0,0,0,0,1,0,1,1,1,0,0,0,1,1,0,3,0,1,0,0,1,1,1,0,0,1,1,0,0,1,1,1,0,1,0,0,1,0,0,1,0,1,1,0,0,1,0,0,0,2,0,0,3,0,1,1,0,0,1,3,0,0,0,1,0,1,0,1,0,0,1,0,0,0,0,1,0,1,0,0,0,3,3,1,0,1,0,1,0,0,0,3,1,0,0,1,0,0,1,0,1,3,1,1,0,1,2,1,0,0,1,1,0,0,0,0,0,0,0,0,0,0,1,1,0,1,1,1,0,1,1,0,1,0,0,1,0,1,0,3,0,0,0,0,0,1,1,1,1,1,1,0,0,0,1,0,2,3,3,0,1,0,1,0,1,1,0,1,1,1,1,1,0,0,0,1,1,1,1,0,1,1,1,3,0,2,3,3,3,1,2,3,3,1,3,3,3,3,0,3,3,0,0,3,2,3,3,0,0,0,0,0,1,1,1,1,1,1,1,0,0,1,0,0,2,1,3,3,3,0,1,1,3,0,1,0,0,1,0,0,1,0,0,2,2,0,0,0,1,1,0,0,1,0,1,3,1,3,3,3,0,1,0,3,0,3,0,0,1,1,1,3,3,0,3,2,3,3,3,3,3,3,3,3,0,3,3,2,0,3,1,0,0,0,1,1,0,0,0,1,1,1,1,1,0,1,0,0,1,0,1,3,0,1,0,0,0,3,2,3,1,3,0,3,0,1,1,0,1,3,1,0,1,0,0,0,1,1,2,0,0,0,1,1,1,1,0,1,1,0,0,1,0,0,0,0,0,0,0,0,3,2,0,1,0,1,1,1,0,1,1,1,0,1,1,0,1,1,1,1,0,3,3,0,0,0,3,3,3,3,2,0,0,2,0,1,1,1,2,0,1,0,1,0,1,1,0,0,1,0,0,1,0,1,0,0,1,1,1,0,1,1,0,1,1,1,1,0,0,1,0,1,0,3,3,0,0,0,3,0,1,0,0,1,0,1,1,0,0,0,0,0,0,1,0,1,1,0,0,0,0,1,0,1,0,0,1,1,1,1,1,1,0,0,1,0,0,1,3,1,0,0,1,1,1,1,0,0,0,0,0,1,0,0,0,0,3,0,1,0,1,0,0,0,0,0,3,1,0,1,3,1,2,1,0,3,0,3,0,0,1,3,0,1,0,3,1,0,1,1,0,0,3,3,1,1,1,0,0,3,0,0,0,0,3,3,0,0,0,0,1,1,0,3,1,0,0,3,0,0,0,0,0,1,2,1,1,0,0,0,1,0,0,0,1,3,1,1,3,3,2,1,3,3,3,3,2,1,3,3,3,3,3,3,1,2,3,3,0,1,1,1,0,1,1,0,0,1,0,0,0,0,0,1,0,0,0,3,0,1,3,3,1,3,2,3,3,2,3,3,3,3,3,3,3,3,3,3,3,3,0,0,0,0,1,0,0,0,0,1,3,3,3,3,3,3,3,3,3,3,3,3,3,2,0,1,1,0,1,1,0,0,1,0,0,1,0,1,3,0,1,0,1,0,1,1,0,0,0,0,1,1,1,0,0,0,0,0,1,1,1,0,1,0,0,1,1,1,0,1,0,0,0,0,1,0,0,0,1,0,0,0,0,0,1,0,1,0,0,1,0,1,0,1,3,0,0,0,1,0,0,0,0,1,0,1,0,1,0,1,0,1,1,0,1,0,0,1,0,1,0,1,1,0,1,1,0,0,0,0,0,0,1,0,1,0,1,1,0,3,1,3,0,0,0,0,0,1,0,0,1,0,0,1,0,0,1,0,0,1,1,1,1,0,0,0,0,0,0,0,0,0,1,0,0,1,0,0,0,1,0,1,0,1,0,1,0,0,0,1,0,0,0,0,0,0,0,1,0,0,3,1,0,1,0,1,0,0,1,0,0,0,1,3,0,0,0,1,0,2,0,0,2,0,1,0,1,0,0,0,1,0,0,0,1,1,1,1,0,0,1,0,1,0,0,0,0,1,1,1,1,3,1,0,0,0,0,0,0,3,1,0,1,1,1,0,0,1,0,0,1,0,0,0,1,1,0,0,0,1,1,1,1,0,0,1,0,0,0,0,0,0,0,1,0,1,0,1,1,2,1,1,0,0,0,0,1,0,0,0,0,3,1,1,1,1,1,0,1,1,0,0,0,0,0,0,1,0,1,2,0,2,1,1,1,1,1,0,1,0,1,1,0,0,0,0,1,1,0,1,1,0,2,0,0,1,0,0,0,1,1,1,1,0,3,3,1,0,0,1,0,0,3,3,3,3,3,2,3,2,3,3,3,2,3,2,2,0,1,3,3,3,3,3,2,3,2,2,3,3,3,3,3,0,3,1,3,2,2,2,2,1,1,3,3,0,2,3,3,1,1,1,0,1,1,0,0,0,1,0,1,1,1,0,1,0,1,0,1,1,0,1,1,1,0,1,0,1,3,0,1,0,1,1,0,0,0,0,0,0,1,0,0,1,1,1,0,0,0,1,1,1,1,0,1,0,1,1,3,1,1,3,0,3,3,1,3,0,1,1,1,0,1,0,0,1,1,1,0,0,0,0,1,3,1,1,1,0,1,0,1,1,0,0,0,0,1,0,1,0,0,1,3,0,0,0,1,0,1,1,1,0,0,0,0,0,0,0,0,1,0,1,1,1,0,1,0,1,1,1,3,0,0,1,0,1,1,0,0,0,0,1,0,0,3,0,0,0,1,1,1,1,1,0,0,0,1,0,1,0,0,1,0,0,1,1,1,0,1,0,1,1,0,0,0,0,3,3,1,3,0,3,3,3,0,0,0,1,2,0,1,0,0,3,3,0,1,1,1,3,0,0,3,0,1,0,1,3,3,1,3,3,2,3,2,2,1,0,2,1,3,3,3,3,1,2,3,3,3,1,3,3,3,3,3,3,3,2,3,1,0,3,3,3,3,3,1,0,2,1,1,0,1,1,0,0,1,0,3,0,1,0,0,1,1,1,0,0,1,0,0,1,1,1,0,0,1,1,1,1,0,0,0,1,1,1,1,1,0,0,0,1,1,1,1,1,1,0,1,0,0,0,0,0,0,1,1,1,1,1,0,0,0,1,0,0,1,1,1,1,1,0,0,1,1,0,1,0,0,0,1,0,0,1,0,0,0,1,0,1,3,1,0,1,0,0,1,1,0,0,0,1,1,1,0,0,0,1,0,1,1,1,1,1,1,1,1,1,0,0,1,0,1,0,0,1,1,0,1,1,1,0,0,1,0,0,1,1,0,0,0,0,0,1,3,3,3,0,3,0,3,0,0,0,3,0,3,1,1,0,0,0,3,0,0,1,0,0,2,0,1,1,1,3,0,0,1,0,1,3,0,0,0,0,0,0,0,1,0,0,0,1,1,1,0,1,0,3,0,0,0,0,0,3,0,1,1,3,0,1,1,1,1,1,0,1,0,0,0,3,1,1,1,0,0,0,1,0,0,0,0,1,2,2,1,3,1,0,3,1,0,3,0,1,1,3,3,3,0,0,0,1,1,1,0,1,1,0,1,0,1,1,1,0,1,0,0,0,1,1,0,0,1,0,0,1,1,1,0,3,0,0,1,0,1,1,1,1,1,1,0,1,1,1,1,1,0,2,0,3,0,0,0,1,1,3,0,1,1,3,3,1,1,1,1,3,1,0,0,1,0,1,0,1,1,2,3,3,0,0,2,2,2,2,2,2,2,3,3,3,3,3,0,2,3,0,3,3,0,2,2,3,3,2,2,1,2,0,0,1,0,0,1,0,1,0,0,0,0,0,0,1,1,1,3,0,0,1,0,1,0,0,0,1,1,0,0,1,0,0,1,0,1,0,0,1,1,3,0,1,1,0,0,1,1,1,1,0,0,1,1,0,1,0,1,1,1,1,0,0,0,0,0,0,0,0,0,0,0,0,1,1,1,0,0,0,1,0,1,0,0,1,0,3,0,0,0,0,1,0,1,1,1,0,1,1,0,3,0,0,1,1,1,0,3,1,1,1,1,1,1,0,0,0,0,2,2,0,1,0,3,1,1,2,2,0,1,0,1,1,0,1,3,0,0,0,0,3,1,1,1,1,1,0,1,0,1,1,1,0,3,0,3,1,1,3,0,0,0,0,0,1,1,1,1,0,0,3,0,1,0,0,0,0,0,1,0,1,0,1,0,0,0,1,1,1,3,1,3,1,0,1,0,0,1,1,3,0,1,0,0,1,0,1,0,0,3,0,0,0,0,1,3,0,1,3,0,0,1,1,2,2,3,2,3,3,1,2,3,3,3,3,3,3,1,2,3,3,3,1,2,3,3,3,0,0,0,1,0,0,0,1,1,1,1,1,1,0,0,1,0,0,0,1,1,1,1,0,1,1,1,1,0,1,0,0,1,0,0,0,1,0,0,3,0,1,1,0,0,1,0,0,0,1,0,0,0,0,0,0,0,0,3,0,1,1,0,1,1,0,0,0,0,1,0,3,3,1,3,1,3,1,1,0,0,0,1,0,1,1,0,0,0,0,1,1,1,0,1,1,0,1,0,0,1,0,2,1,1,1,0,1,1,0,1,0,1,1,0,0,1,0,1,1,1,1,3,1,0,3,1,1,0,0,0,1,1,0,0,1,1,0,1,0,3,3,3,0,0,1,0,1,1,1,0,0,0,0,1,1,1,0,1,3,3,3,2,3,3,0,0,1,0,1,1,1,1,3,0,0,0,0,0,0,3,1,0,3,0,3,1,0,1,0,3,1,1,3,3,3,3,3,3,2,3,1,2,2,0,2,2,3,3,2,2,3,2,1,2,0,1,0,1,0,1,0,0,0,0,0,1,0,1,1,1,1,1,1,1,1,0,0,1,0,1,1,0,0,1,3,3,3,3,3,3,3,0,2,3,3,3,1,3,3,3,1,2,3,3,3,3,3,3,2,3,3,3,3,3,3,0,1,1,1,0,1,2,2,3,3,2,0,3,3,0,1,0,1,1,0,1,1,0,1,0,1,3,0,1,1,0,0,0,0,0,1,1,3,3,0,0,0,3,1,0,3,1,0,0,0,0,1,1,0,3,3,1,3,3,3,2,0,3,3,2,2,0,2,2,1,2,3,0,1,0,0,0,0,0,1,1,0,0,0,0,0,0,1,1,1,1,0,1,1,0,1,1,1,0,0,1,1,0,1,1,0,1,3,0,1,0,0,1,1,0,1,1,0,0,1,0,0,0,0,1,1,1,0,0,0,0,1,0,0,1,0,0,0,0,1,0,0,0,1,0,0,1,1,0,1,1,3,1,1,0,0,1,0,1,0,0,0,1,0,0,0,0,0,0,0,1,0,1,0,0,0,1,0,0,0,1,0,0,0,0,1,1,1,1,0,0,1,0,0,0,1,1,0,0,0,1,1,1,0,0,0,3,1,0,0,0,1,1,0,0,1,3,1,1,1,3,1,1,1,1,1,0,0,1,1,1,1,0,1,0,1,1,1,0,1,3,3,1,0,0,0,0,2,3,0,0,0,1,0,0,1,1,0,0,0,1,0,0,1,0,0,1,0,0,0,3,0,0,0,0,1,0,1,0,0,0,1,0,0,0,1,3,0,1,1,0,1,0,0,0,0,1,0,0,0,0,0,0,1,0,0,0,0,1,0,0,1,1,0,0,0,1,1,2,0,0,0,0,0,0,1,1,0,1,0,1,0,1,1,1,1,0,1,0,1,1,1,0,0,3,0,0,1,0,0,1,0,0,1,0,1,1,1,0,0,1,1,0,1,0,0,0,0,0,0,0,0,1,1,0,0,1,0,0,0,1,1,1,0,1,0,3,3,1,0,1,1,0,0,0,0,1,0,0,0,1,0,1,0,0,0,1,0,0,1,0,0,1,0,1,1,0,0,0,1,0,1,1,0,1,1,0,3,0,0,1,1,1,0,1,2,1,0,0,0,0,0,0,0,0,1,1,1,1,0,1,0,0,0,0,1,0,0,1,1,1,0,3,0,1,3,0,1,0,0,0,0,0,0,1,1,3,1,3,1,0,0,1,0,1,0,0,0,0,1,0,3,1,0,1,1,0,0,0,3,0,0,0,1,1,0,0,0,0,0,1,1,3,3,1,1,0,0,0,0,1,1,3,0,0,0,3,0,0,0,1,3,1,0,1,3,0,0,0,1,3,1,1,0,1,0,1,1,0,1,1,0,1,3,0,0,1,1,0,1,0,1,0,0,1,3,3,1,1,0,3,0,3,3,1,1,0,1,0,0,0,3,2,2,3,1,0,0,3,3,1,0,0,1,3,0,0,1,1,3,3,0,3,1,1,0,1,0,0,3,3,3,3,1,2,2,0,2,1,3,1,3,3,3,3,3,3,3,3,3,3,3,3,3,3,3,0,3,1,3,1,3,3,0,0,0,3,3,3,3,3,0,0,0,0,1,1,0,0,0,1,0,1,1,1,1,1,1,0,0,1,0,0,1,1,0,1,1,0,1,1,0,0,0,1,1,0,0,1,0,1,0,1,0,1,0,1,0,0,0,1,0,0,0,1,0,0,0,0,1,1,2,0,1,0,0,0,0,1,0,0,3,0,1,1,0,1,1,0,0,3,1,1,0,0,0,1,0,0,0,0,1,0,0,0,1,1,0,0,0,0,1,1,1,1,0,0,0,1,1,0,0,0,0,0,1,0,3,3,3,0,0,0,0,1,0,3,0,0,1,0,0,0,0,0,1,0,0,1,1,0,0,0,1,0,1,1,1,0,0,0,0,1,1,1,1,0,0,0,0,0,0,1,0,1,3,1,1,0,0,0,1,1,1,0,1,0,1,0,1,0,0,1,1,0,0,0,0,0,0,0,0,1,0,1,1,0,0,0,0,0,0,1,1,1,1,0,1,1,1,0,1,0,0,0,0,0,0,0,0,0,1,1,1,0,0,1,0,0,0,1,0,0,0,1,0,1,1,0,1,1,1,1,1,0,0,0,0,1,1,1,1,1,1,0,0,1,1,1,1,1,0,1,0,3,0,0,0,0,2,0,1,3,0,0,1,1,1,0,0,0,0,0,0,1,0,1,1,1,0,0,0,1,1,1,1,0,0,0,1,0,0,1,1,0,3,1,1,3,1,1,0,0,1,1,0,0,1,1,0,1,3,0,3,1,3,3,3,0,0,3,0,1,3,1,0,0,3,1,1,1,1,3,3,1,1,1,1,0,0,0,3,0,0,3,1,3,1,3,2,2,2,3,2,3,1,3,3,3,3,3,2,3,3,3,3,3,3,2,0,2,3,1,3,2,3,1,0,1,0,0,0,1,3,0,0,0,1,0,0,1,1,0,0,0,0,1,1,1,0,0,0,0,1,1,0,1,3,1,1,0,0,1,1,1,1,1,1,1,1,0,1,1,0,1,1,1,0,1,1,3,0,1,0,0,0,0,0,0,1,0,1,1,0,1,0,0,0,1,1,0,0,1,0,1,1,0,0,0,0,0,0,0,1,0,1,1,0,0,0,0,0,0,0,0,1,1,1,0,1,0,1,0,1,0,1,1,0,0,1,0,1,1,0,1,3,0,0,1,2,2,0,3,1,0,0,0,0,0,0,0,1,0,1,1,0,1,0,0,0,1,1,0,0,0,0,1,0,3,1,0,1,0,0,3,1,1,1,1,0,0,1,0,0,1,0,1,0,1,0,0,1,1,0,1,0,3,0,0,0,1,0,0,1,0,1,1,1,1,1,0,1,0,0,0,1,1],\"coloraxis\":\"coloraxis\",\"symbol\":\"circle\"},\"mode\":\"markers\",\"name\":\"\",\"showlegend\":false,\"x\":[0.0306436469079229,-1.1927195226857519,-0.3144075034902965,-1.165967836869437,0.15611679250726695,-0.16218267207463413,-1.103231264069762,-1.1345995504695996,-0.3190241040738221,-1.2600726960689501,-1.1345995504695996,-0.44449724967317256,-0.6594586538885103,-0.8209166864712236,-0.5386021088726853,-1.1345995504695996,-0.44449724967317256,-0.0007246394919208942,-1.0091264048702493,-0.9463898320705741,0.5906562015214681,1.3167274025902878,-0.03209292589175852,-0.5699703952725229,-0.53398550828916,-1.0718629776699244,-0.28765581767398446,-1.0091264048702493,-0.6640752544720356,2.0741828767699153,0.24560505112325456,-0.34577578989013447,-0.9463898320705741,-0.7581801136715485,-0.03670952647528378,-0.8209166864712236,0.4697996565056428,-1.0718629776699244,0.1874850789071046,1.9754614169868776,1.2539908297906126,1.6350268671721888,0.5011519561945106,-0.25628753127414694,-1.1299829498860743,1.0703977119751125,-1.2600726960689501,1.9487097311705652,0.03064364690791671,-1.3495609546849374,1.4422005481896385,1.7291317263717025,-0.8836532592708989,0.7834825205040189,0.725346561576899,-0.3503923904736597,-0.7221952266881856,-0.5072338224728477,-0.7581801136715485,-1.0718629776699244,2.0068297033867153,0.7834665337930489,1.3840805759734884,-0.690826940288348,-1.103231264069762,1.039029425575275,1.3213440031738135,0.12013190552390413,1.4781854351730015,0.09338021970759192,-0.2249192448743093,-0.753563513088023,-1.0404946912700868,-0.5653537946889976,2.199656022369266,0.15611679250726695,1.6350268671721888,0.7207299609933738,1.7605000127715398,0.725346561576899,1.7918682991713775,-1.0404946912700868,-0.4398806490896473,0.6939782751770613,-0.7895484000713859,-0.2516709306906217,-0.09944609927495901,1.9487097311705652,0.944924566375762,2.1369194495695907,1.6931468393883389,1.8186199849876894,0.31295822450645494,0.25022165170677985,1.4422005481896385,1.3480956889901254,0.944924566375762,1.5363054073891511,-0.8209166864712236,1.4781854351730015,1.410832261789801,-0.6594586538885103,-0.13081438567479658,0.9135562799759245,-0.5072338224728477,-0.5653537946889976,-0.09482949869143369,1.352712289573651,-1.2287044096691127,-0.0053412400754462306,4.328834926005175,1.5409220079726766,-0.6640752544720356,0.8462031065927242,3.885062315823923,1.6304102665886642,0.7834665337930489,0.4697836697946729,0.03062766019694654,1.1645025711746253,1.1598859705911,-0.753563513088023,-0.7581801136715485,0.026027046324391373,1.5676736937889886,1.509553721572839,1.509553721572839,2.1950394217857405,1.4781854351730015,1.917341444770727,0.40704709699499764,1.7918682991713775,-0.6594586538885103,2.257775994585416,1.4154488623733261,1.3213440031738135,1.1598859705911,1.3794639753899633,3.3518014470266846,5.332620090799979,-0.8836532592708989,-0.7849317994878607,-0.5026172218893223,-0.8522849728710612,0.7567148479767366,1.94409313058704,0.03064364690791671,1.5722902943725139,-0.5967220810888352,-0.3771440762899721,1.7291317263717025,1.0703977119751125,5.363988377199816,-1.0404946912700868,-0.2516709306906217,-0.4758655360730102,-0.7581801136715485,1.6304102665886642,0.6939782751770613,-0.8209166864712236,1.854604871971052,-0.7895484000713859,-0.8522849728710612,-0.7895484000713859,-0.6327069680721981,-0.25628753127414694,-0.6640752544720356,2.199656022369266,1.6036585807723516,5.081673799601277,-0.5386021088726853,0.5685051295777109,0.4697836697946729,1.5409220079726766,4.956200654001928,-0.8522849728710612,4.673886076403388,4.171993494005989,-0.2516709306906217,1.4781854351730015,-0.3190241040738221,1.003044538591912,-0.12619778509127125,-1.2287044096691127,-1.0404946912700868,1.2586074303741381,-1.0672463770863991,-0.7221952266881856,-0.9463898320705741,-1.2600726960689501,1.8232365855712147,1.1331342847747878,0.3756947973061301,1.003044538591912,-0.53398550828916,2.5087222857841165,-0.18893435789094642,-0.9150215456707365,-1.322809268868625,-0.5653537946889976,-0.5026172218893223,0.21883737859597205,-0.4131289632733348,1.9800780175704025,0.28158993810661737,-0.4758655360730102,-0.3190241040738221,-0.2249192448743093,4.987568940401765,1.007661139175437,1.4154488623733261,-0.5967220810888352,4.481059757420838,-0.7221952266881856,-0.9777581184704115,-1.0404946912700868,2.105551163169753,0.09338021970759192,-0.6013386816723604,-0.6327069680721981,-0.3503923904736597,-1.0091264048702493,-0.18893435789094642,-0.9150215456707365,1.6036585807723516,0.28158993810661737,-0.7221952266881856,-0.9777581184704115,-0.5699703952725229,-0.09482949869143369,-1.3855458416683004,4.324218325421651,-0.8209166864712236,0.6579933881936986,4.9248323676020895,4.888847480618727,-1.2287044096691127,1.4422005481896385,1.1017659983749502,0.4024464831224424,4.705254362803227,4.857479194218889,-0.7895484000713859,-0.9104049450872111,-0.16218267207463413,-1.1973361232692752,-0.9150215456707365,-1.0091264048702493,-1.0404946912700868,-0.690826940288348,-0.18433374401839125,-1.0358780906865614,1.8186199849876894,0.7207299609933738,-1.1345995504695996,0.5639045157051558,-0.6954435408718732,0.5011679429054806,-0.8476683722875361,-0.9463898320705741,-0.5967220810888352,-0.6013386816723604,-0.47124893548948477,-0.3503923904736597,-0.8790366586873735,-0.8790366586873735,-0.28765581767398446,2.1636711353859033,5.077057199017753,0.28158993810661737,-1.380929241084775,-0.9777581184704115,-0.9150215456707365,-1.165967836869437,-0.7581801136715485,-0.09944609927495901,-0.6013386816723604,-1.1973361232692752,-0.8209166864712236,-0.28765581767398446,-0.8476683722875361,0.05739533272422893,-0.7895484000713859,0.12474850610742949,-0.5699703952725229,0.12474850610742949,4.79935922200274,1.7291317263717025,-0.12619778509127125,-0.1575660714911089,-0.44449724967317256,0.9762928527756001,-1.0404946912700868,0.5279196287217929,-0.6594586538885103,-0.53398550828916,-1.4169141280681379,-1.0091264048702493,-0.6327069680721981,0.5279196287217929,-0.2830392170904593,-0.6954435408718732,0.6847610607209808,0.21423676472341693,-0.53398550828916,-1.0091264048702493,-0.7581801136715485,-0.4131289632733348,0.5906562015214681,0.37107819672260484,-1.1973361232692752,-0.6954435408718732,-0.8209166864712236,-0.9777581184704115,0.026027046324391373,0.4024464831224424,-0.53398550828916,-0.690826940288348,-0.4131289632733348,-0.09944609927495901,-0.7895484000713859,-0.5967220810888352,-1.1973361232692752,-1.2600726960689501,0.7161293471208187,-0.6594586538885103,-0.5386021088726853,0.8416024927201687,0.6312417023773862,1.2272391439743007,0.43841538339483527,4.422939785204688,-0.5699703952725229,-1.1345995504695996,0.12474850610742949,0.21423676472341693,-0.6594586538885103,0.12474850610742949,-1.0718629776699244,-0.3190241040738221,-0.753563513088023,0.1874850789071046,-0.5699703952725229,-0.25628753127414694,-0.40851236268980967,-0.5072338224728477,0.5325362293053181,0.40704709699499764,-0.8790366586873735,-0.5026172218893223,-0.7268118272717107,1.2226225433907754,1.1958708575744632,-1.1345995504695996,5.113042086001115,-0.47124893548948477,0.0620119333077543,1.7245151257881763,-0.8522849728710612,1.2539908297906126,-0.6327069680721981,2.0428145903700776,2.0381979897865525,-0.7849317994878607,-0.03670952647528378,-0.5386021088726853,-0.8836532592708989,4.673886076403388,-0.8209166864712236,-0.690826940288348,0.03064364690791671,-0.8209166864712236,-0.1575660714911089,-0.220302644290784,-0.7581801136715485,-0.4131289632733348,-0.9463898320705741,1.039029425575275,-0.18893435789094642,-0.25628753127414694,0.6893776613045063,-0.19355095847447176,-0.9150215456707365,-1.165967836869437,-1.4482824144679753,-0.8209166864712236,-0.8522849728710612,-0.5653537946889976,0.1874850789071046,-0.09944609927495901,5.045688912617916,-0.4758655360730102,0.25020566499580965,-0.9777581184704115,-1.1927195226857494,-0.47124893548948477,-1.103231264069762,-0.16218267207463413,-0.28765581767398446,1.4781854351730015,-0.3144075034902969,-0.5386021088726853,1.352712289573651,-0.7268118272717107,-1.5423872736674884,-0.9417732314870487,0.4070630837059677,-0.6640752544720356,-0.40851236268980967,0.15150019192374173,-0.12619778509127125,-1.4169141280681379,1.007661139175437,4.391571498804851,1.1017659983749502,-0.9104049450872111,-0.7895484000713859,-0.13081438567479658,4.9248323676020895,-0.12159717121871605,-0.6640752544720356,-1.0091264048702493,-0.2830392170904593,-0.5386021088726853,1.1598859705911,-0.6954435408718732,-0.8836532592708989,-0.2516709306906217,-0.8209166864712236,-0.2830392170904593,-0.9777581184704115,0.1874850789071046,-0.3771440762899721,0.05739533272422893,-0.34577578989013447,-1.1345995504695996,-0.9777581184704115,0.3756947973061301,0.09338021970759192,-0.25628753127414694,0.08876361912406652,-0.34577578989013447,-1.103231264069762,-1.0404946912700868,1.0971493977914246,2.2937608815687787,4.8307275084025765,0.5011679429054806,1.1598859705911,2.01144630397024,0.9089396793923993,1.7291317263717025,4.987568940401765,0.7880831343765744,2.289144280985253,-1.2914409824687876,-0.4758655360730102,-0.47124893548948477,-0.8790366586873735,-0.8476683722875361,1.4154488623733261,-0.6954435408718732,-0.220302644290784,-0.7581801136715485,-1.1973361232692752,0.9089556661033696,0.46518305592211756,0.08876361912406652,-0.9731415178868862,-0.09482949869143369,0.026027046324391373,-1.2914409824687876,0.08876361912406652,-1.1973361232692752,4.956200654001928,1.3840805759734884,-0.8163000858876982,4.637901189420027,0.8462031065927242,2.0428145903700776,-0.13081438567479658,2.576075459167317,-0.6327069680721981,1.4468171487731634,-1.2287044096691127,-0.5026172218893223,-0.2249192448743093,-0.7221952266881856,-1.103231264069762,-0.2249192448743093,-0.8209166864712236,-0.47124893548948477,2.5722108876142693,0.8508197071762493,-0.5699703952725229,-0.5967220810888352,0.15150019192374173,-0.06807781287512137,-1.2600726960689501,-0.5653537946889976,-1.165967836869437,-0.3771440762899721,-1.165967836869437,2.2937608815687787,-1.2287044096691127,-0.9777581184704115,-0.4758655360730102,-0.5699703952725229,2.289144280985253,-0.9777581184704115,0.15150019192374173,-0.220302644290784,-0.5386021088726853,-1.0404946912700868,-0.3771440762899721,0.28158993810661737,-0.0007246394919208942,-0.44449724967317256,-0.53398550828916,0.4697996565056428,0.7161293471208187,-0.6327069680721981,-1.0091264048702493,-0.2516709306906217,1.1599019573020701,-0.12619778509127125,-0.53398550828916,-0.0007246394919208942,-0.9417732314870487,-0.8209166864712236,-0.690826940288348,-1.856070137665864,-0.8836532592708989,1.5722902943725139,-0.25628753127414694,1.8859731583708899,-0.09482949869143369,-0.3190241040738221,-0.9777581184704115,-1.5691389594838003,0.34432651090629246,-1.5691389594838003,-0.44449724967317256,-1.0358780906865614,0.5638885289941858,0.3443105241953226,1.473568834589476,-0.34577578989013447,-1.165967836869437,-0.5699703952725229,0.05739533272422893,1.352712289573651,-0.8476683722875361,4.360203212405013,4.2974666396053385,1.7605000127715398,-0.9777581184704115,-0.4398806490896473,-0.7895484000713859,-0.6327069680721981,1.352712289573651,-0.2249192448743093,-0.4398806490896473,-0.7268118272717107,0.026027046324391373,-0.4758655360730102,-0.5026172218893223,-0.34577578989013447,-0.6327069680721981,-0.6013386816723604,0.4697996565056428,-0.03670952647528378,-1.0404946912700868,4.292850039021813,-0.5072338224728477,1.2272391439743007,-1.103231264069762,0.940307965792237,0.05739533272422893,-0.8836532592708989,-0.7221952266881856,-0.9777581184704115,-1.2287044096691127,-1.103231264069762,-0.19355095847447176,-0.53398550828916,0.3397099103227672,1.7291317263717025,0.6580093749046685,-0.19355095847447176,4.171993494005989,-1.2868243818852623,0.8775713929925617,-1.103231264069762,-0.0053412400754462306,-0.13081438567479658,-0.3190241040738221,0.0620119333077543,0.8416024927201687,-0.47124893548948477,0.05739533272422893,-1.1345995504695996,-0.9150215456707365,-0.9777581184704115,-0.8790366586873735,-0.19355095847447176,-0.9417732314870487,-0.28765581767398446,-1.2600726960689501,-1.9188067104655393,-0.2249192448743093,-1.0718629776699244,0.6626099887772238,1.0657811113915874,0.1874850789071046,-0.5653537946889976,-0.34577578989013447,-0.09482949869143369,0.15611679250726695,-1.667860419266839,-0.2249192448743093,-0.28765581767398446,2.3878657407682904,-0.7221952266881856,1.1285176841912623,-0.215702030418229,-0.8836532592708989,2.1682877359694284,2.199656022369266,-0.3190241040738221,-1.4436658138844505,-0.47124893548948477,-0.4398806490896473,-0.12619778509127125,-0.7895484000713859,-0.2249192448743093,-0.38176067687349746,-1.2600726960689501,-1.856070137665864,-0.25628753127414694,0.15150019192374173,-0.2249192448743093,-1.1973361232692752,-0.38176067687349746,-0.4758655360730102,0.7834825205040189,-0.06346121229159611,-0.6327069680721981,-0.9417732314870487,0.1874850789071046,1.5990419801888265,0.7207299609933738,-0.9777581184704115,-0.47124893548948477,-1.6318755322834761,-0.9150215456707365,-0.753563513088023,-0.3144075034902969,-0.215702030418229,1.7605000127715398,-0.9150215456707365,2.356497454368453,-0.25168691740159194,4.140625207606149,-0.4131289632733348,-1.161351236285912,0.4070630837059677,0.12013190552390413,0.15150019192374173,-0.19355095847447176,1.4422005481896385,0.8508197071762493,-0.7581801136715485,2.1682877359694284,1.6036585807723516,-0.40851236268980967,-0.9463898320705741,-0.47124893548948477,-0.7268118272717107,4.324218325421651,-0.9777581184704115,-0.9150215456707365,1.8186199849876894,0.5279196287217929,-0.1575660714911089,-0.2830392170904593,1.0030605253028826,1.0030605253028826,0.37107819672260484,1.509553721572839,0.12473251939645937,-0.6013386816723604,-0.3503923904736597,-0.5026172218893223,0.6266410885048308,1.4154488623733261,0.7834665337930489,-1.0091264048702493,2.1369194495695907,-0.19355095847447176,-1.0045098042867238,-0.7581801136715485,-0.9417732314870487,0.3443105241953226,0.6939782751770613,0.8729707791200065,-0.9417732314870487,-1.1973361232692752,-0.6954435408718732,0.3756947973061301,0.7521142341041815,-0.2516709306906217,0.31295822450645494,-1.103231264069762,-0.5699703952725229,1.1912542569909377,-0.47124893548948477,1.007661139175437,0.9089396793923993,-0.8836532592708989,-0.28765581767398446,-0.06346121229159611,-0.7221952266881856,-0.8163000858876982,-0.4398806490896473,-0.3771440762899721,-0.53398550828916,0.12013190552390413,-0.3771440762899721,-0.5026172218893223,-0.03209292589175852,0.3756947973061301,-0.47124893548948477,-0.5026172218893223,0.5952568153940233,1.2539908297906126,4.857479194218889,-0.9777581184704115,0.0620119333077543,4.5170446444042005,4.454308071604525,1.4154488623733261,1.917341444770727,0.6266410885048308,-1.161351236285912,4.888847480618727,1.2586074303741381,-0.9731415178868862,-0.690826940288348,-0.6954435408718732,-0.3190241040738221,-0.7268118272717107,-0.28765581767398446,-0.5026172218893223,0.12013190552390413,2.576075459167317,-0.5699703952725229,-0.12619778509127125,-0.40851236268980967,1.3167274025902878,-0.1575660714911089,-0.5386021088726853,-0.7268118272717107,-0.40851236268980967,-0.6013386816723604,1.0703977119751125,-0.8522849728710612,-0.6594586538885103,-1.0404946912700868,-1.0091264048702493,0.28158993810661737,-1.103231264069762,0.15611679250726695,0.25022165170677985,-1.0718629776699244,-0.19355095847447176,-0.8209166864712236,-0.18893435789094642,1.1598859705911,4.046520348406637,1.1912542569909377,-0.34577578989013447,0.15150019192374173,-0.2516709306906217,1.509553721572839,1.666395153572027,0.6939782751770613,-0.53398550828916,-0.9463898320705741,-0.3771440762899721,-0.7581801136715485,-0.47124893548948477,-0.8476683722875361,-0.6640752544720356,-0.8209166864712236,-1.2287044096691127,1.7291317263717025,0.940307965792237,-1.1345995504695996,0.8194514207764118,4.9248323676020895,1.3840805759734884,-1.1973361232692752,-0.13081438567479658,1.94409313058704,-0.2516709306906217,1.352712289573651,-0.6594586538885103,-0.47124893548948477,0.944924566375762,-0.40851236268980967,0.7207459477043436,-0.7581801136715485,0.21885336530694216,0.25022165170677985,0.21885336530694216,-0.4131289632733348,-0.8209166864712236,0.15611679250726695,0.21423676472341693,-0.7895484000713859,-0.47124893548948477,-1.0045098042867238,1.9800780175704025,-0.8836532592708989,1.9754614169868776,0.9716762521920748,-0.2830392170904593,0.7834665337930489,-0.44449724967317256,-0.8790366586873735,-0.9104049450872111,-0.5026172218893223,-0.1575660714911089,1.5409220079726766,1.003044538591912,-0.8209166864712236,-0.19355095847447176,-0.5386021088726853,0.15611679250726695,-1.0718629776699244,-0.03209292589175852,-0.34577578989013447,-0.9150215456707365,0.747497633520656,0.5639045157051558,-0.690826940288348,-1.7619652784663513,1.3480956889901254,0.2861905519791726,4.543796330220513,-0.53398550828916,-0.12619778509127125,-0.9104049450872111,-1.667860419266839,-1.2287044096691127,-0.6594586538885103,0.12474850610742949,-1.165967836869437,-1.0672463770863991,-0.5653537946889976,-0.1575660714911089,-0.9731415178868862,-1.5423872736674884,-0.1575660714911089,1.4422005481896385,1.2586074303741381,-1.793333564866189,-0.7221952266881856,1.666395153572027,1.2899757167739756,1.0657811113915874,-1.2287044096691127,-1.380929241084775,-1.3855458416683004,-0.8836532592708989,0.34432651090629246,-0.690826940288348,-0.25628753127414694,-0.5026172218893223,1.039029425575275,-0.19355095847447176,2.0381979897865525,4.481059757420838,0.09338021970759192,1.4422005481896385,-1.0045098042867238,-0.7849317994878607,-0.9104049450872111,0.18286847832357936,-0.5699703952725229,4.454308071604525,1.7245151257881763,0.3397099103227672,-0.4758655360730102,-0.9777581184704115,-0.753563513088023,-0.40851236268980967,4.857479194218889,-0.6327069680721981,1.3480956889901254,-0.34577578989013447,3.916430602223762,-0.5967220810888352,-0.18433374401839125,0.4070630837059677,-1.1973361232692752,0.21883737859597205,-0.4131289632733348,-0.53398550828916,-0.03670952647528378,-0.6954435408718732,1.2226225433907754,-1.6992287056666766,-0.7221952266881856,0.28158993810661737,2.0695662761863898,0.15611679250726695,-0.6327069680721981,-0.4758655360730102,1.7605000127715398,-0.25628753127414694,-0.3771440762899721,-0.220302644290784,0.7161293471208187,-0.8476683722875361,-0.1575660714911089,-0.5072338224728477,-0.9417732314870487,0.725346561576899,1.8859731583708899,2.3251291679686164,1.0344128249917497,4.8307275084025765,1.2899757167739756,1.4468171487731634,1.3840805759734884,-0.38176067687349746,-1.5423872736674884,-1.793333564866189,-1.0404946912700868,1.5990419801888265,0.5057685567780356,1.849988271387527,1.9487097311705652,-0.9150215456707365,0.43381476952228004,0.28158993810661737,1.5722902943725139,-0.7581801136715485,1.854604871971052,0.24560505112325456,-0.9731415178868862,1.4154488623733261,1.4781854351730015,4.328834926005175,0.6266251017938609,-0.8522849728710612,-0.220302644290784,0.21423676472341693,-0.6640752544720356,0.03064364690791671,-1.0091264048702493,-1.667860419266839,4.767990935602902,1.7558834121880142,3.665484311025061,1.4468171487731634,1.4468171487731634,-0.09944609927495901,1.5409220079726766,0.15610080579629687,-0.40851236268980967,-1.5423872736674884,-0.47124893548948477,0.28158993810661737,-0.3144075034902969,0.5906562015214681,0.4070630837059677,0.026027046324391373,-0.44449724967317256,-1.1973361232692752,-0.44449724967317256,-0.3771440762899721,-0.9731415178868862,-1.2600726960689501,1.2853591161904503,-0.7268118272717107,-0.18893435789094642,-0.9104049450872111,-1.0718629776699244,-1.1345995504695996,4.700637762219701,-0.5967220810888352,4.893464081202253,-0.7221952266881856,1.8859731583708899,0.28158993810661737,5.081673799601277,-1.0358780906865614,-0.9417732314870487,0.03064364690791671,-1.0672463770863991,-0.18893435789094642,-0.16218267207463413,1.509553721572839,1.917341444770727,1.039029425575275,1.003044538591912,-0.09482949869143369,0.532520242594348,2.356497454368453,3.759605156935543,-0.06346121229159611,-0.44449724967317256,4.230113466222138,1.3213440031738135,0.40704709699499764,1.1331342847747878,4.794742621419213,1.0703977119751125,1.2272391439743007,1.4422005481896385,1.1331342847747878,4.422939785204688,3.6073643388089107,-0.4398806490896473,-0.7221952266881856,-0.2830392170904593,0.1874850789071046,0.08876361912406652,0.37107819672260484,-0.44449724967317256,-0.12619778509127125,0.12474850610742949,0.12474850610742949,-0.8209166864712236,-0.7581801136715485,-1.793333564866189,-1.103231264069762,-0.9150215456707365,0.03064364690791671,-1.0045098042867238,-1.0091264048702493,-0.4398806490896473,0.0620119333077543,1.3480956889901254,3.8583106300076104,-0.9463898320705741,1.410832261789801,0.31294223779548486,1.5409220079726766,-0.8790366586873735,0.6579933881936986,-0.12619778509127125,0.8194514207764118,0.9762928527756001,-0.8209166864712236,0.8508197071762493,4.328834926005175,-1.1973361232692752,1.2899757167739756,-0.6594586538885103,-0.12619778509127125,5.144410372400953,2.0381979897865525,-1.1345995504695996,-0.9417732314870487,-0.7581801136715485,-0.34577578989013447,-0.5699703952725229,-1.3855458416683004,-0.7268118272717107,-0.6280903674886729,0.25022165170677985,0.05739533272422893,-0.6640752544720356,-0.9104049450872111,-0.09482949869143369,0.5685051295777109,0.7567148479767366,4.987568940401765,-0.5386021088726853,0.3756947973061301,-0.28765581767398446,-0.8209166864712236,-0.5026172218893223,-0.09482949869143369,-0.38176067687349746,-0.47124893548948477,-0.220302644290784,-0.13081438567479658,-0.3771440762899721,-0.8790366586873735,-0.40851236268980967,0.8462031065927242,1.7918682991713775,0.40704709699499764,0.6266410885048308,-1.322809268868625,-0.6640752544720356,-0.3771440762899721,-0.53398550828916,-1.0091264048702493,0.8775713929925617,-0.38176067687349746,-1.0091264048702493,-0.5699703952725229,-1.0718629776699244,-0.34577578989013447,1.6036585807723516,-0.34577578989013447,0.944924566375762,1.3213440031738135,-0.690826940288348,-0.06807781287512137,-0.220302644290784,-0.4758655360730102,-1.0718629776699244,0.40704709699499764,0.940307965792237,5.269883518000303,-1.3495609546849374,-0.6327069680721981,0.27697333752309217,-0.753563513088023,-0.47124893548948477,-0.06346121229159611,0.6893776613045063,0.24560505112325456,-0.25628753127414694,-0.6594586538885103,1.352712289573651,0.5685051295777109,0.6579933881936986,1.5049371209893139,-0.220302644290784,-0.4398806490896473,1.6617785529885014,-0.9777581184704115,-0.2249192448743093,1.1958708575744632,-0.9777581184704115,-0.53398550828916,1.917341444770727,1.5676736937889886,0.15611679250726695,1.854604871971052,1.2899757167739756,-0.3771440762899721,-0.5653537946889976,5.332620090799979,-0.8476683722875361,-0.5967220810888352,-0.6013386816723604,-0.44449724967317256,-0.690826940288348,-0.4758655360730102,-1.0404946912700868,-0.7895484000713859,-0.3144075034902969,1.509553721572839,-0.03209292589175852,0.12474850610742949,-0.6640752544720356,-0.5072338224728477,-0.1575660714911089,-1.0672463770863991,-0.7849317994878607,-0.7895484000713859,-0.12619778509127125,1.7918682991713775,1.4154488623733261,1.6036585807723516,1.3480956889901254,-0.5699703952725229,1.8232365855712147,1.849988271387527,0.5325362293053181,1.6617785529885014,-0.1575820582020792,-1.0358780906865614,-0.9150215456707365,-0.9731415178868862,-0.6280903674886729,0.03064364690791671,-0.47124893548948477,-1.2600726960689501,-0.5699703952725229,-0.19355095847447176,1.8186199849876894,-0.5026172218893223,-0.9150215456707365,1.4781854351730015,4.893464081202253,-0.38176067687349746,-1.6318755322834761,1.6304102665886642,0.9089396793923993,0.4965513423219553,1.1285176841912623,0.4697836697946729,4.8307275084025765,1.4422005481896385,1.1285336709022327,-0.7268118272717107,1.6931468393883389,-0.1575660714911089,0.4697996565056428,-1.0672463770863991,-1.1299829498860743,-0.6327069680721981,-0.8163000858876982,-1.0091264048702493,-0.34577578989013447,-0.6954435408718732,-0.6594586538885103,-0.5026172218893223,-0.9731415178868862,-1.0718629776699244,0.7521142341041815,1.509553721572839,-0.9777581184704115,-0.03670952647528378,4.606532903020189,1.410832261789801,-0.7221952266881856,0.1874850789071046,0.37107819672260484,-0.3771440762899721,-0.6594586538885103,-0.7581801136715485,-0.6954435408718732,-0.4398806490896473,-1.2600726960689501,1.3480956889901254,-0.3190241040738221,-0.7268118272717107,-0.8836532592708989,1.2853591161904503,0.15610080579629687,1.7918682991713775,4.230113466222138,-1.0718629776699244,-0.6327069680721981,-0.6640752544720356,0.46518305592211756,4.543796330220513,0.7880831343765744,0.6893776613045063,0.1874850789071046,-0.19355095847447176,-0.9417732314870487,-0.5967220810888352,0.9089396793923993,-0.8209166864712236,-0.4398806490896473,-0.16218267207463413,-0.2516709306906217,0.28158993810661737,-0.4398806490896473,-0.6013386816723604,-0.6327069680721981,-0.4131289632733348,-0.5072338224728477,-0.12619778509127125,0.4697996565056428,1.2899757167739756,-0.09482949869143369,4.79935922200274,3.885062315823923,2.226407708185578,1.5722902943725139,1.2853591161904503,2.450602313567967,0.1874850789071046,0.15611679250726695,4.422939785204688,2.2937608815687787,4.579781217203876,0.5279196287217929,1.6977634399718642,2.3251291679686164,1.6617785529885014,4.324218325421651,-0.2516709306906217,-0.0053412400754462306,-0.1575660714911089,-0.5699703952725229,4.512428043820676,-1.2914409824687876,1.0971493977914246,0.37567881059516006,-0.9731415178868862,-1.1345995504695996,-0.38176067687349746,0.1874850789071046,4.705254362803227,-1.0091264048702493,1.509553721572839,2.1682877359694284,-0.6280903674886729,1.2539908297906126,-1.0404946912700868,-0.9150215456707365,0.21423676472341693,-0.7895484000713859,-0.9463898320705741,-0.4398806490896473,-0.6640752544720356,4.700637762219701,-0.8209166864712236,0.15611679250726695,-1.4169141280681379,-1.793333564866189,1.6977634399718642,-0.7895484000713859,1.8186199849876894,-0.0007246394919208942,1.007661139175437,4.292850039021813,1.2899757167739756,0.8775713929925617,2.0381979897865525,0.2815739513956472,-0.4131289632733348,1.1958708575744632,1.2586074303741381,-1.0718629776699244,-0.2830392170904593,-0.7221952266881856,-0.5967220810888352,-0.44449724967317256,0.0620119333077543,-0.3771440762899721,-0.13081438567479658,-1.103231264069762,0.6266410885048308,-1.0358780906865614,-1.0404946912700868,-1.103231264069762,-0.7221952266881856,-0.7849317994878607,0.7520982473932115,-0.25628753127414694,-0.8836532592708989,-1.2914409824687876,-0.9463898320705741,1.1285176841912623,-0.5699703952725229,0.5638885289941858,-0.5072338224728477,-1.0718629776699244,-0.9417732314870487,-1.0091264048702493,-1.600507245883638,-0.4398806490896473,-0.8163000858876982,1.4781854351730015,1.6350268671721888,0.21885336530694216,-0.53398550828916,-0.6594586538885103,-0.40851236268980967,1.8859731583708899,4.418323184621163,-0.9150215456707365,0.5952568153940233,5.144410372400953,4.136008607022624,1.9800780175704025,1.3213440031738135,1.7605000127715398,1.917341444770727,5.175778658800792,0.7567148479767366,1.9800780175704025,2.3205125673850917,2.607443745567154,4.987568940401765,0.6939782751770613,4.888847480618727,0.12474850610742949,-0.4758655360730102,-0.1575660714911089,-0.47124893548948477,0.25022165170677985,0.3083416239229296,-0.13081438567479658,-1.1299829498860743,0.09338021970759192,-0.40851236268980967,-0.7849317994878607,-0.12619778509127125,-0.7581801136715485,-0.5386021088726853,-0.7895484000713859,-0.1575660714911089,0.46518305592211756,-0.5026172218893223,0.3756947973061301,-0.5026172218893223,0.026027046324391373,0.03064364690791671,-0.5967220810888352,0.27697333752309217,-1.1345995504695996,-0.753563513088023,-0.7221952266881856,0.31295822450645494,-0.34577578989013447,4.266098353205501,-1.103231264069762,1.3840805759734884,1.2539908297906126,-0.7849317994878607,0.6893616745935361,-0.2516709306906217,0.9716762521920748,-0.40851236268980967,0.7207299609933738,3.6968525974248974,1.2226225433907754,-1.103231264069762,1.7291317263717025,-0.1575660714911089,0.3397099103227672,0.9762928527756001,0.09338021970759192,-1.2600726960689501,-0.6327069680721981,-1.103231264069762,-0.6640752544720356,0.24560505112325456,0.026027046324391373,-0.9104049450872111,-0.4398806490896473,0.12013190552390413,-0.7895484000713859,-0.7268118272717107,-0.28765581767398446,-0.6954435408718732,-0.8209166864712236,-0.9731415178868862,-0.0007246394919208942,-0.9104049450872111,-0.7581801136715485,-0.18893435789094642,1.061180497519032,-0.4131289632733348,0.34432651090629246,-0.6640752544720356,-0.6013386816723604,0.24560505112325456,-0.8790366586873735,-1.5737555600673259,0.43843137010580546,-0.53398550828916,-0.220302644290784,-0.4131289632733348,-0.9463898320705741,1.854604871971052,-0.5386021088726853,1.2226225433907754,0.1874850789071046,-0.09482949869143369,1.1645025711746253,-0.5386021088726853,4.920215767018564,-0.12619778509127125,0.43843137010580546,-0.9777581184704115,0.4024464831224424,0.12474850610742949,-0.3144075034902969,-0.34577578989013447,-0.5653537946889976,-1.2287044096691127,-0.5386021088726853,-0.5072338224728477,-0.34577578989013447,-1.2600726960689501,-0.6280903674886729,0.37567881059516006,-1.103231264069762,0.43841538339483527,4.8307275084025765,4.767990935602902,1.5990419801888265,-1.3855458416683004,-0.7581801136715485,-0.06807781287512137,1.1331342847747878,1.007661139175437,4.732006048619539,-0.2516709306906217,-0.16218267207463413,-0.8836532592708989,-0.47124893548948477,-0.4131289632733348,-0.4131289632733348,-0.19355095847447176,-1.2914409824687876,0.5592879151216307,-0.03209292589175852,-0.753563513088023,-0.3771440762899721,-0.3503923904736597,-0.6327069680721981,-1.380929241084775,-0.34577578989013447,-0.38176067687349746,0.31295822450645494,-0.13081438567479658,-0.9104049450872111,5.081673799601277,-0.44449724967317256,-0.44449724967317256,0.7834665337930489,1.003044538591912,1.1331342847747878,-1.322809268868625,-0.9731415178868862,-1.0358780906865614,-0.8476683722875361,1.1645025711746253,-0.5653537946889976,-0.16218267207463413,-0.47124893548948477,0.18286847832357936,-0.3771440762899721,1.5722902943725139,-0.7268118272717107,-0.5026172218893223,-0.753563513088023,5.2385152316004655,4.79935922200274,0.5998734159775484,-1.0404946912700868,1.8859731583708899,1.666395153572027,-0.03209292589175852,4.046520348406637,4.5170446444042005,4.230113466222138,2.1369194495695907,0.03062766019694654,-0.6954435408718732,1.6350268671721888,1.410832261789801,1.7558834121880142,1.6977634399718642,0.9716762521920748,1.2226225433907754,2.1636711353859033,4.956200654001928,4.920215767018564,0.9716762521920748,3.6968525974248974,1.849988271387527,4.485676358004364,-0.5699703952725229,-1.103231264069762,-0.5653537946889976,0.9716762521920748,0.21885336530694216,-1.103231264069762,-0.5072338224728477,-0.7895484000713859,-0.53398550828916,0.026027046324391373,-0.9104049450872111,-0.2830392170904593,0.4697996565056428,-0.5072338224728477,-0.09482949869143369,-0.9463898320705741,-1.0091264048702493,-0.2830392170904593,-0.8163000858876982,-0.5386021088726853,-0.4758655360730102,-0.1575660714911089,-0.6013386816723604,-0.25628753127414694,0.9762928527756001,-0.7221952266881856,5.144410372400953,4.736622649203063,4.136008607022624,-1.0404946912700868,0.9716922389030443,0.9135562799759245,1.8859731583708899,0.940307965792237,1.1285176841912623,1.2272391439743007,1.3794639753899633,1.3480956889901254,1.003044538591912,-0.9417732314870487,4.543796330220513,-0.7268118272717107,-0.9731415178868862,4.454308071604525,1.7291317263717025,-0.8522849728710612,-0.7849317994878607,-0.16218267207463413,-0.7581801136715485,-0.19355095847447176,-0.690826940288348,0.31295822450645494,-0.5653537946889976,-0.7268118272717107,-0.1575660714911089,-0.6013386816723604,-0.7895484000713859,-0.7895484000713859,0.15611679250726695,4.862095794802415,-0.13081438567479658,0.5011519561945106,-1.0091264048702493,4.888847480618727,1.2586074303741381,1.007661139175437,-0.40851236268980967,1.1598859705911,4.64251779000355,1.6617785529885014,1.5990419801888265,1.8859731583708899,1.4154488623733261,4.4496914710210005,2.199656022369266,4.705254362803227,-0.7895484000713859,0.05739533272422893,-1.5691389594838003,0.9089396793923993,4.575164616620351,-0.6327069680721981,-0.12619778509127125,-0.6594586538885103,0.026027046324391373,0.5906562015214681,-0.34577578989013447,-0.40851236268980967,-0.2516709306906217,-1.0045098042867238,-0.47124893548948477,-0.8476683722875361,-0.12619778509127125,-0.5386021088726853,-0.38176067687349746,-0.6013386816723604,-0.4131289632733348,-0.8163000858876982,-0.13081438567479658,0.25022165170677985,-0.5386021088726853,-1.0404946912700868,-1.0091264048702493,1.1912542569909377,1.1645025711746253,-0.9150215456707365,2.3205125673850917,1.3840805759734884,0.944924566375762,0.8462190933036947,0.21885336530694216,1.6617785529885014,1.0703977119751125,-0.7221952266881856,4.485676358004364,0.43841538339483527,1.3213440031738135,-0.5653537946889976,-0.38176067687349746,1.6304102665886642,4.767990935602902,1.410832261789801,-0.6954435408718732,0.09338021970759192,-0.6013386816723604,0.18286847832357936,0.5325362293053181,-0.5653537946889976,-0.09482949869143369,-0.53398550828916,-1.2914409824687876,0.7161293471208187,-0.5699703952725229,-0.6327069680721981,-0.03209292589175852,-0.09944609927495901,-0.6280903674886729,0.12013190552390413,-0.6280903674886729,-1.0986146634862368,-0.28765581767398446,-0.5967220810888352,0.28158993810661737,-0.5967220810888352,-0.6327069680721981,0.9089396793923993,1.6977634399718642,-0.3771440762899721,-0.6327069680721981,-1.322809268868625,-1.0718629776699244,1.1331342847747878,-0.53398550828916,-0.7221952266881856,1.9800780175704025,-0.5386021088726853,4.203361780405825,0.7834665337930489,-0.34577578989013447,1.1645025711746253,0.03064364690791671,-0.6640752544720356,-0.8209166864712236,1.8859731583708899,-0.38176067687349746,1.4468171487731634,4.418323184621163,4.7633743350193765,4.136008607022624,-1.0091264048702493,5.113042086001115,1.0344288117027198,3.508642879025873,1.5409220079726766,1.6617785529885014,1.5363054073891511,2.1369194495695907,-0.3190241040738221,1.5722902943725139,-0.8522849728710612,-0.5653537946889976,-0.38176067687349746,-1.0404946912700868,-0.8476683722875361,-0.8209166864712236,0.18286847832357936,-0.47124893548948477,-0.9104049450872111,0.25022165170677985,-1.1973361232692752,0.21423676472341693,-1.4169141280681379,-0.3190241040738221,-0.09944609927495901,0.21423676472341693,-0.4131289632733348,-0.8163000858876982,-0.3190241040738221,-1.511018987267651,1.2899757167739756,1.473568834589476,1.5409220079726766,0.940307965792237,0.940307965792237,-0.5072338224728477,-0.2516709306906217,0.7567148479767366,-0.1575660714911089,-0.6013386816723604,-1.8874384240657023,-1.103231264069762,-0.5386021088726853,-0.8163000858876982,-0.7268118272717107,0.38029541117868554,-1.0672463770863991,-1.3541775552684627,-0.09482949869143369,-0.3771440762899721,-0.38176067687349746,-1.511018987267651,-0.8522849728710612,-0.9463898320705741,1.4781854351730015,-0.53398550828916,-0.44449724967317256,4.857479194218889,-0.34577578989013447,2.262392595168941,-0.1575660714911089,-0.3771440762899721,0.18746909219613447,-0.6013386816723604,1.410832261789801,1.7605000127715398,-0.0053412400754462306,1.4468171487731634,-0.2830392170904593,-0.7849317994878607,-0.8836532592708989,0.0620119333077543,-0.3190241040738221,-0.6013386816723604,-0.1575660714911089,-1.856070137665864,-0.5967220810888352,-0.7268118272717107,0.5325362293053181,-0.9731415178868862,0.12474850610742949,1.473568834589476,0.24560505112325456,-0.2830392170904593,-0.6954435408718732,-0.40851236268980967,-0.16218267207463413,-0.8522849728710612,-1.0404946912700868,-1.856070137665864,-0.28765581767398446,1.5676736937889886,2.199656022369266,-1.2600726960689501,0.46518305592211756,4.266098353205501,4.171993494005989,1.1912542569909377,1.7291317263717025,0.40704709699499764,-0.9463898320705741,0.0620119333077543,0.0620119333077543,1.7918682991713775,-0.8163000858876982,-0.53398550828916,-0.2516709306906217,-0.4398806490896473,1.2226225433907754,-0.44449724967317256,-1.0091264048702493,-0.5967220810888352,4.987568940401765,-0.7581801136715485,-1.0404946912700868,-1.9188067104655393,-0.18893435789094642,-0.5967220810888352,-0.12619778509127125,-0.6954435408718732,-1.0718629776699244,-0.6954435408718732,0.6580093749046685,-0.8522849728710612,4.987568940401765,1.2853591161904503,0.9135562799759245,4.79935922200274,-0.8476683722875361,1.917341444770727,1.6931468393883389,1.352712289573651,0.5279196287217929,1.7291317263717025,2.1950394217857405,4.64251779000355,-1.4436658138844505,-0.25628753127414694,-0.8209166864712236,-0.2516709306906217,0.09338021970759192,-1.1345995504695996,-0.6954435408718732,-1.0718629776699244,-0.6280903674886729,-0.12619778509127125,-1.3541775552684627,-1.0404946912700868,-1.0091264048702493,-0.3771440762899721,-0.18893435789094642,0.026027046324391373,-1.0718629776699244,0.12474850610742949,-0.06807781287512137,-1.322809268868625,-0.2830392170904593,-0.4398806490896473,-0.7581801136715485,-0.5653537946889976,-1.1345995504695996,-0.2516709306906217,-0.09482949869143369,-1.2914409824687876,-1.0404946912700868,-0.4758655360730102,-0.6327069680721981,-0.2830392170904593,-0.8209166864712236,-0.9150215456707365,-0.8836532592708989,-0.9777581184704115,-0.8163000858876982,-0.8522849728710612,-0.9731415178868862,0.6266410885048308,-0.6013386816723604,3.670100911608586,-0.5699703952725229,-0.5386021088726853,-1.103231264069762,0.34432651090629246,-1.0718629776699244,-1.2287044096691127,-1.6318755322834761,-0.6640752544720356,0.18286847832357936,-0.6013386816723604,-0.220302644290784,-0.5653537946889976,-0.7849317994878607,-0.5653537946889976,-0.0007246394919208942,-0.6327069680721981,-0.9150215456707365,-0.6327069680721981,-1.5377706730839629,-0.5072338224728477,1.1017659983749502,-0.7895484000713859,-1.0045098042867238,-0.13081438567479658,-0.5386021088726853,-0.7895484000713859,-0.7895484000713859,1.5049371209893139,0.15611679250726695,-0.6013386816723604,0.0620119333077543,-1.2287044096691127,-0.8209166864712236,-0.5072338224728477,-1.0358780906865614,-0.8476683722875361,-0.9463898320705741,-1.0986146634862368,0.15150019192374173,-1.103231264069762,-0.34577578989013447,-0.06807781287512137,-0.34577578989013447,1.352712289573651,0.5952568153940233,4.673886076403388,0.08876361912406652,-0.6013386816723604,-0.8163000858876982,0.8102342063203314,-1.3181926682851,-0.9150215456707365,-0.9777581184704115,1.4422005481896385,-0.7895484000713859,-0.7895484000713859,-0.9777581184704115,0.5952568153940233,-0.47124893548948477,-0.3144075034902969,0.37567881059516006,-0.220302644290784,0.21885336530694216,-0.06807781287512137,-0.16218267207463413,-0.44449724967317256,-0.8522849728710612,-0.3503923904736597,1.473568834589476,0.0620119333077543,0.6579933881936986,0.18286847832357936,-1.0091264048702493,1.1017659983749502,-0.18893435789094642,1.473568834589476,1.1598859705911,-0.38176067687349746,4.203361780405825,1.7918682991713775,4.077888634806474,3.6387326252087484,-0.1575660714911089,1.6977634399718642,4.700637762219701,-0.5072338224728477,2.1682877359694284,-1.0718629776699244,0.15611679250726695,-0.47124893548948477,0.6579933881936986,-0.3771440762899721,0.1874850789071046,-0.38176067687349746,-0.7849317994878607,-0.6280903674886729,-0.6640752544720356,1.0344128249917497,1.7605000127715398,0.4697996565056428,0.4070630837059677,1.3213440031738135,1.8813565577873643,4.046520348406637,4.606532903020189,-0.7268118272717107,2.4107688417425273,0.6312417023773862,-1.4169141280681379,1.1331342847747878,4.987568940401765,1.1331342847747878,-0.7581801136715485,0.4024464831224424,4.673886076403388,1.3840805759734884,1.3213440031738135,-1.103231264069762,4.920215767018564,1.473568834589476,2.0428145903700776,4.077888634806474,1.94409313058704,-0.53398550828916,-1.0718629776699244,-0.6280903674886729,0.0620119333077543,0.08876361912406652,-0.06346121229159611,-0.28765581767398446,-1.322809268868625,-0.220302644290784,-0.8836532592708989,-1.2914409824687876,-0.03209292589175852,-0.2516709306906217,-0.44449724967317256,-0.8209166864712236,-1.8874384240657023,0.9089556661033696,-1.103231264069762,-0.6327069680721981,-0.40851236268980967,-0.16218267207463413,-0.0007246394919208942,0.03064364690791671,-0.16218267207463413,0.43381476952228004,0.31295822450645494,-0.12619778509127125,-0.1575660714911089,-1.511018987267651,-0.44449724967317256,1.8859731583708899,-0.8209166864712236,4.198745179822299,1.0971493977914246,-1.1345995504695996,-0.6954435408718732,1.007661139175437,0.9135562799759245,0.5057685567780356,2.3878657407682904,4.077888634806474,0.9089396793923993,-1.0404946912700868,4.79935922200274,0.944924566375762,0.9089396793923993,0.25020566499580965,-0.3144075034902969,1.003044538591912,0.725346561576899,-0.6280903674886729,2.0428145903700776,1.473568834589476,1.473568834589476,2.105551163169753,1.8186199849876894,-0.40851236268980967,-0.9150215456707365,-0.6640752544720356,-0.2516709306906217,-0.8836532592708989,-1.0672463770863991,-0.7581801136715485,-0.690826940288348,-0.38176067687349746,-0.8209166864712236,-0.25628753127414694,-1.0718629776699244,-0.34577578989013447,-0.4758655360730102,0.5325362293053181,-0.8476683722875361,-1.2554560954854248,0.940307965792237,-0.3503923904736597,0.0620119333077543,1.410832261789801,-0.3144075034902969,4.64251779000355,1.4422005481896385,2.0428145903700776,0.21883737859597205,1.6350268671721888,4.700637762219701,1.9487097311705652,1.6931468393883389,5.018937226801603,-0.9150215456707365,4.64251779000355,-0.53398550828916,-0.9150215456707365,-0.4131289632733348,-1.1973361232692752,0.9716762521920748,-0.9463898320705741,-0.6594586538885103,-1.5064023866841254,-1.0358780906865614,3.885062315823923,0.5952568153940233,0.411663697578523,1.039029425575275,-0.9777581184704115,-0.4398806490896473,0.9089556661033696,-0.7268118272717107,-0.7268118272717107,-0.18893435789094642,-0.47124893548948477,-1.322809268868625,-0.8790366586873735,-0.6594586538885103,1.3840805759734884,-0.6640752544720356,-0.40851236268980967,-0.2516709306906217,-1.0358780906865614,-0.8522849728710612,-1.1973361232692752,-0.8163000858876982,-0.2516709306906217,5.045688912617916,0.944924566375762,-0.8163000858876982,0.8508197071762493,0.944924566375762,1.2272391439743007,-0.5072338224728477,-0.6594586538885103,-1.0358780906865614,-0.16218267207463413,0.5952728021049934,-0.38176067687349746,-0.7849317994878607,-0.690826940288348,1.6977634399718642,1.7558834121880142,5.081673799601277,-0.5026172218893223,2.2937608815687787,1.3480956889901254,1.5722902943725139,1.5676736937889886,1.7558834121880142,-1.1973361232692752,4.077888634806474,0.8508197071762493,0.7207299609933738,2.356497454368453,0.7520982473932115,1.1331342847747878,0.37567881059516006,0.944924566375762,2.2937608815687787,1.2272391439743007,4.736622649203063,1.2226225433907754,1.3480956889901254,0.12013190552390413,0.5685051295777109,-0.09944609927495901,1.1958708575744632,-0.7849317994878607,1.1285176841912623,4.104640320622786,0.03064364690791671,-1.2600726960689501,-0.7581801136715485,-1.0045098042867238,-0.753563513088023,-0.2516709306906217,-0.9777581184704115,-1.1927195226857494,-0.8522849728710612,-0.19355095847447176,0.15611679250726695,-0.09944609927495901,0.09338021970759192,-0.690826940288348,-0.7221952266881856,-0.9104049450872111,-1.0045098042867238,-0.8522849728710612,-0.5072338224728477,-0.9104049450872111,-1.322809268868625,-1.6632438186833134,-0.8836532592708989,-1.4436658138844505,-0.9417732314870487,0.0620119333077543,-0.4398806490896473,-0.34577578989013447,-0.38176067687349746,0.12474850610742949,-1.0091264048702493,-0.5072338224728477,0.08876361912406652,-0.6013386816723604,-0.03670952647528378,-0.53398550828916,-0.40851236268980967,-0.6954435408718732,-0.09944609927495901,-1.322809268868625,-1.103231264069762,-0.47124893548948477,-0.5699703952725229,-0.7849317994878607,-0.7268118272717107,-0.7581801136715485,-0.6280903674886729,-0.753563513088023,-0.6640752544720356,-0.13081438567479658,-1.2600726960689501,-0.3190241040738221,-1.1345995504695996,0.34432651090629246,-1.0091264048702493,-0.53398550828916,-0.03670952647528378,-0.7895484000713859,-0.8790366586873735,-0.5072338224728477,0.08876361912406652,-0.8836532592708989,-0.7268118272717107,-0.2830392170904593,-0.0007246394919208942,-1.4436658138844505,-0.8836532592708989,-0.753563513088023,-0.18893435789094642,-0.220302644290784,-0.3771440762899721,-0.6013386816723604,-0.6954435408718732,-0.5026172218893223,-1.0404946912700868,-1.9188067104655393,-0.7581801136715485,-1.103231264069762,-0.12619778509127125,0.5279196287217929,-0.6594586538885103,-1.0718629776699244,-0.19355095847447176,-1.511018987267651,0.27697333752309217,-0.9150215456707365,-0.6640752544720356,-0.9150215456707365,-0.9417732314870487,-0.5699703952725229,-0.4758655360730102,-0.40851236268980967,-0.47124893548948477,-0.16218267207463413,-0.44449724967317256,-0.6954435408718732,-0.7895484000713859,-0.38176067687349746,-0.44449724967317256,-0.7581801136715485,-0.3190241040738221,0.08876361912406652,-1.103231264069762,-0.47124893548948477,-0.9150215456707365,-0.8209166864712236,-0.2516709306906217,-0.16218267207463413,-0.4131289632733348,-0.8209166864712236,-0.25628753127414694,-0.25628753127414694,-1.103231264069762,-0.3144075034902969,-0.5699703952725229,-0.7895484000713859,-1.0404946912700868,0.18286847832357936,-1.0091264048702493,-1.9501749968653772,-0.7268118272717107,-0.7895484000713859,-0.8522849728710612,-0.7268118272717107,-0.8522849728710612,-0.8163000858876982,-0.6954435408718732,-0.06807781287512137,0.12013190552390413,-0.9463898320705741,-0.4758655360730102,-0.7581801136715485,-0.5653537946889976,-0.7895484000713859,-0.53398550828916,-0.5072338224728477,-0.28765581767398446,-1.0404946912700868,-0.7849317994878607,-0.5967220810888352,0.8462190933036947,-0.03670952647528378,-0.34577578989013447,-1.6318755322834761,-0.1575660714911089,-0.9417732314870487,-0.0007246394919208942,-1.1345995504695996,-1.2287044096691127,2.7558040054297703,-1.0718629776699244,-0.9463898320705741,0.5279196287217929,-0.3503923904736597,-0.7268118272717107,-0.38176067687349746,-0.53398550828916,-0.5653537946889976,-0.47124893548948477,-1.0672463770863991,-0.7221952266881856,-0.5072338224728477,-0.7895484000713859,-1.1973361232692752,0.05739533272422893,0.0620119333077543,-1.2287044096691127,-0.6954435408718732,-0.38176067687349746,-0.18893435789094642,-0.9463898320705741,-1.0404946912700868,-0.7895484000713859,-0.9777581184704115,0.05739533272422893,-0.28765581767398446,-1.8247018512660271,0.4070630837059677,-0.9777581184704115,-0.03209292589175852,-0.7581801136715485,0.37107819672260484,-1.8247018512660271,-1.9188067104655393,-0.9777581184704115,-0.5386021088726853,-0.6013386816723604,-1.0358780906865614,-0.4758655360730102,-0.6327069680721981,-0.6954435408718732,-0.8790366586873735,0.6266410885048308,-0.5072338224728477,-1.0045098042867238,-0.7221952266881856,-1.322809268868625,-0.44449724967317256,-0.5026172218893223,0.03064364690791671,-1.0718629776699244,-1.1973361232692752,0.18286847832357936,0.28158993810661737,-0.03209292589175852,0.08876361912406652,-0.12619778509127125,-0.7268118272717107,-0.9463898320705741,-0.8476683722875361,-0.53398550828916,-0.6013386816723604,-1.103231264069762,0.5952728021049934,-0.8209166864712236,-0.3190241040738221,-0.7581801136715485,0.28158993810661737,-0.7581801136715485,-0.7849317994878607,-0.44449724967317256,-1.1345995504695996,-0.40851236268980967,-0.5386021088726853,-0.44449724967317256,0.12474850610742949,-0.47124893548948477,-0.9417732314870487,-0.25628753127414694,-0.5653537946889976,-0.40851236268980967,-0.220302644290784,-0.6594586538885103,-0.03209292589175852,-0.6013386816723604,-0.6594586538885103,-1.322809268868625,-0.06346121229159611,-0.9777581184704115,-1.322809268868625,0.5592879151216307,-0.7849317994878607,-0.7895484000713859,-0.8163000858876982,-0.3503923904736597,-1.4482824144679753,1.854604871971052,-1.0358780906865614,-0.8522849728710612,-1.2600726960689501,-0.9150215456707365,-0.12619778509127125,-0.34577578989013447,-0.7895484000713859,-0.3190241040738221,-0.16218267207463413,-1.103231264069762,-0.6013386816723604,-0.6640752544720356,-0.8209166864712236,-0.9104049450872111,-0.2249192448743093,-0.03670952647528378,-1.2287044096691127,-0.6640752544720356,-0.5967220810888352,-0.6954435408718732,-0.8163000858876982,-0.4131289632733348,-0.7268118272717107,-0.3144075034902969,4.2974666396053385,-0.753563513088023,-0.753563513088023,-1.1973361232692752,-1.165967836869437,-1.0718629776699244,-0.0053412400754462306,-0.38176067687349746,-0.220302644290784,-1.2287044096691127,-0.4131289632733348,-1.165967836869437,-0.0053412400754462306,-0.47124893548948477,-1.479650700867813,-0.40851236268980967,-0.7221952266881856,-0.0007246394919208942,-1.3541775552684627,-0.9777581184704115,-0.7581801136715485,0.25022165170677985,-0.3144075034902969,-0.8209166864712236,0.6580093749046685,-0.3503923904736597,-0.2516709306906217,-0.8209166864712236,-0.7581801136715485,0.43843137010580546,-0.8790366586873735,-0.40851236268980967,-0.8522849728710612,-1.1973361232692752,-0.5026172218893223,-0.5967220810888352,-0.28765581767398446,-0.8836532592708989,-0.53398550828916,-0.753563513088023,-0.9104049450872111,-0.5699703952725229,-0.6594586538885103,-0.9777581184704115,-0.8836532592708989,0.03064364690791671,-0.9777581184704115,-0.28765581767398446,-0.690826940288348,-0.8522849728710612,-0.8163000858876982,-0.5967220810888352,0.12013190552390413,-1.1973361232692752,-0.34577578989013447,-1.1973361232692752,-0.4758655360730102,0.18286847832357936,4.888847480618727,-1.0718629776699244,-1.0404946912700868,1.849988271387527,-1.165967836869437,-0.7221952266881856,-1.5377706730839629,-1.0091264048702493,-0.16218267207463413,-1.161351236285912,0.6580093749046685,-1.3855458416683004,-0.16218267207463413,-1.2287044096691127,-0.7221952266881856,-0.7268118272717107,-0.1575660714911089,-0.6954435408718732,-0.53398550828916,0.21423676472341693,-0.5699703952725229,-0.9417732314870487,-0.6013386816723604,0.21883737859597205,0.18286847832357936,-1.0718629776699244,-0.8476683722875361,-0.8836532592708989,-1.0672463770863991,-0.7581801136715485,-0.8522849728710612,-0.5699703952725229,1.849988271387527,1.7245151257881763,-0.9731415178868862,-1.3855458416683004,-0.8163000858876982,-0.6013386816723604,-0.3144075034902969,-1.322809268868625,-1.1345995504695996,-1.1345995504695996,2.199656022369266,-0.47124893548948477,-1.322809268868625,-0.4758655360730102,-1.0358780906865614,-1.0718629776699244,-0.19355095847447176,-0.47124893548948477,-0.8209166864712236,-0.2516709306906217,1.509553721572839,-0.5653537946889976,-1.161351236285912,-0.5699703952725229,-0.4398806490896473,3.9791671750234365,-0.4398806490896473,-1.1973361232692752,-0.5072338224728477,-0.8476683722875361,-0.34577578989013447,-0.6327069680721981,-1.165967836869437,-1.2914409824687876,-0.9463898320705741,-0.8836532592708989,-1.3855458416683004,0.05739533272422893,-0.6327069680721981,-1.0091264048702493,-0.09944609927495901,0.31295822450645494,0.4070630837059677,-0.5386021088726853,-0.5653537946889976,-1.6632438186833134,0.5639045157051558,-1.1973361232692752,-0.3144075034902969,0.3756947973061301,-0.6327069680721981,-0.8790366586873735,-0.9150215456707365,-0.06807781287512137,0.12474850610742949,-0.4758655360730102,-0.09482949869143369,0.5279196287217929,2.100934562586228,-1.165967836869437,-0.5699703952725229,-1.0404946912700868,-0.44449724967317256,-0.6954435408718732,-0.8790366586873735,-1.0045098042867238,-0.5026172218893223,-0.6594586538885103,0.15611679250726695,-0.690826940288348,-0.13081438567479658,-0.19355095847447176,-0.5699703952725229,-0.47124893548948477,0.15150019192374173,4.418323184621163,2.1682877359694284,2.0741828767699153,0.026027046324391373,-0.2830392170904593,-0.6954435408718732,-0.4398806490896473,-0.9150215456707365,-0.40851236268980967,-0.753563513088023,-0.6327069680721981,-0.3771440762899721,-0.8476683722875361,-0.2516709306906217,-1.3181926682851,-0.5653537946889976,-0.7581801136715485,-0.6327069680721981,-0.6327069680721981,0.1874850789071046,-0.03209292589175852,-0.12619778509127125,0.1874850789071046,-0.5072338224728477,-1.0045098042867238,-0.18893435789094642,-1.6318755322834761,2.5447071727674793,-0.7268118272717107,4.893464081202253,1.912724844187202,0.6579933881936986,1.8813565577873643,-0.690826940288348,4.512428043820676,1.3840805759734884,1.2899757167739756,-0.9104049450872111,2.383249140184766,1.1912542569909377,1.666395153572027,1.9754614169868776,0.40704709699499764,1.3213440031738135,0.8462031065927242,-0.9463898320705741,-0.19355095847447176,1.854604871971052,3.8269423436077736,0.940307965792237,1.6350268671721888,-0.9463898320705741,0.026027046324391373,0.08876361912406652,0.05739533272422893,-0.6013386816723604,0.3756947973061301,-0.9417732314870487,-0.5967220810888352,-0.6594586538885103,0.5057685567780356,0.5011679429054806,-0.2830392170904593,-1.2287044096691127,0.12013190552390413,-1.6318755322834761,-0.9777581184704115,0.08876361912406652,4.485676358004364,-0.3771440762899721,1.3840805759734884,1.1958708575744632,1.2899757167739756,-1.103231264069762,-0.8476683722875361,0.0620119333077543,0.8148348201928868,-1.165967836869437,-0.8790366586873735,-0.6954435408718732,-0.5699703952725229,-0.53398550828916,0.12013190552390413,-0.44449724967317256,-0.2830392170904593,-0.25628753127414694,-0.5072338224728477,4.826110907819052,3.7909574566244117,0.05739533272422893,0.4697836697946729,-0.7581801136715485,-0.690826940288348,-0.690826940288348,-0.6954435408718732,-1.103231264069762,-0.8476683722875361,-0.7581801136715485,-0.753563513088023,1.7291317263717025,-0.4398806490896473,0.940307965792237,1.007661139175437,0.882187993576087,-1.0091264048702493,-0.7221952266881856,-1.0718629776699244,1.7918682991713775,-0.6954435408718732,1.5363054073891511,-1.2914409824687876,-1.103231264069762,-0.5653537946889976,-0.9731415178868862,0.3756947973061301,1.6977634399718642,1.7291317263717025,0.5011519561945106,1.666395153572027,2.9080448235564034,1.2539908297906126,1.4422005481896385,1.509553721572839,1.8186199849876894,1.1645025711746253,1.0657811113915874,1.7918682991713775,1.4781854351730015,-1.1345995504695996,1.1017659983749502,2.105551163169753,4.481059757420838,0.15150019192374173,1.854604871971052,-0.753563513088023,-0.6640752544720356,-0.7895484000713859,-0.6640752544720356,-0.9731415178868862,-0.1575660714911089,-0.7895484000713859,-1.0404946912700868,-0.6954435408718732,-0.220302644290784,-0.9104049450872111,0.31295822450645494,-0.6280903674886729,-0.6594586538885103,-1.165967836869437,-0.5653537946889976,-0.9463898320705741,-0.5699703952725229,0.31295822450645494,-1.1345995504695996,-0.7221952266881856,1.4154488623733261,-0.8209166864712236,-0.5967220810888352,-0.13081438567479658,-0.4131289632733348,-0.6013386816723604,1.1958708575744632,4.2974666396053385,1.854604871971052,-0.5967220810888352,1.9487097311705652,-0.8836532592708989,1.2226225433907754,-1.103231264069762,-0.9104049450872111,-0.0007246394919208942,-0.2249192448743093,-0.7849317994878607,2.450602313567967,-0.2516709306906217,-0.6640752544720356,-0.2830392170904593,-0.7268118272717107,-1.2287044096691127,-0.4758655360730102,-0.5026172218893223,-0.5967220810888352,2.970781396356078,-1.1345995504695996,-1.0404946912700868,-1.2600726960689501,-0.6280903674886729,-0.6594586538885103,0.21885336530694216,-0.0007246394919208942,-0.7895484000713859,-1.475034100284288,0.31295822450645494,-1.0718629776699244,-0.19355095847447176,-0.6280903674886729,-0.6327069680721981,-0.8522849728710612,-0.5386021088726853,-0.3503923904736597,-0.5699703952725229,-1.322809268868625,-0.4131289632733348,-1.0718629776699244,0.944924566375762,3.8269423436077736,-0.3503923904736597,-0.3771440762899721,-1.0404946912700868,-0.3144075034902969,0.5011679429054806,-0.0007246394919208942,0.08876361912406652,-1.1299829498860743,-0.4398806490896473,-0.40851236268980967,-1.0718629776699244,-0.7849317994878607,-1.4122975274846128,-1.0404946912700868,-0.3771440762899721,-0.40851236268980967,-0.753563513088023,-0.40851236268980967,-0.4131289632733348,0.944924566375762,1.6304102665886642,-1.511018987267651,-0.5386021088726853,-1.9501749968653772,1.003044538591912,2.2937608815687787,2.01144630397024,1.4781854351730015,4.951584053418403,-0.38176067687349746,0.5638885289941858,4.673886076403388,-1.5423872736674884,-0.8476683722875361,0.09338021970759192,0.1874850789071046,4.548412930804038,-0.19355095847447176,-0.6594586538885103,-0.9463898320705741,-0.3771440762899721,-0.9150215456707365,0.09338021970759192,0.09338021970759192,0.7161293471208187,-1.605123846467164,-0.9104049450872111,-1.5423872736674884,0.8102342063203314,-0.2830392170904593,-0.8522849728710612,-0.53398550828916,-0.2249192448743093,-0.09944609927495901,-0.753563513088023,0.34432651090629246,-0.06346121229159611,-0.9777581184704115,-1.1299829498860743,-0.40851236268980967,-0.6640752544720356,-0.753563513088023,-0.9104049450872111,-0.5653537946889976,0.12474850610742949,-1.1973361232692752,-0.5386021088726853,-0.40851236268980967,0.25020566499580965,-0.40851236268980967,-0.9777581184704115,2.3251291679686164,1.509553721572839,-0.9463898320705741,-0.5386021088726853,-0.5072338224728477,1.4154488623733261,-0.7581801136715485,-0.753563513088023,-0.5072338224728477,-0.9150215456707365,-0.7849317994878607,-0.9777581184704115,-0.9104049450872111,0.31295822450645494,-0.09944609927495901,-0.8209166864712236,-0.6013386816723604,-0.4131289632733348,-0.7268118272717107,-0.6013386816723604,-0.7849317994878607,-1.2287044096691127,-0.690826940288348,-0.9731415178868862,-1.511018987267651,-0.09944609927495901,-0.9150215456707365,-0.8836532592708989,-0.47124893548948477,-1.0404946912700868,0.03064364690791671,-0.4131289632733348,-0.38176067687349746,-0.7221952266881856,-0.06346121229159611,-0.09482949869143369,0.09338021970759192,-0.53398550828916,-0.40851236268980967,-0.8836532592708989,0.05739533272422893,-0.3771440762899721,-1.1973361232692752,-1.165967836869437,-1.1299829498860743,1.6036585807723516,0.4070630837059677,-0.6013386816723604,-1.0718629776699244,0.25022165170677985,-0.40851236268980967,-0.5026172218893223,-0.5026172218893223,-0.2249192448743093,-1.0404946912700868,-1.0091264048702493,-0.8836532592708989,-1.0404946912700868,-0.6280903674886729,-0.9777581184704115,0.21883737859597205,-0.9777581184704115,-0.6013386816723604,1.4154488623733261,-1.511018987267651,-0.8163000858876982,-1.2600726960689501,-0.47124893548948477,0.6220244879213055,0.5592879151216307,-0.28765581767398446,-0.6013386816723604,0.532520242594348,0.8194514207764118,-0.6594586538885103,-1.165967836869437,0.21885336530694216,1.7245151257881763,-0.220302644290784,4.0419037478231115,-0.7221952266881856,-1.2914409824687876,1.2853591161904503,-1.103231264069762,1.2226225433907754,0.08876361912406652,-0.8836532592708989,-0.7849317994878607,0.7207299609933738,-1.1973361232692752,-0.9731415178868862,-0.16218267207463413,2.0741828767699153,-1.5377706730839629,-0.9150215456707365,-0.7221952266881856,-0.0007246394919208942,-1.605123846467164,-0.4131289632733348,1.4781854351730015,1.8859731583708899,-0.6280903674886729,0.21885336530694216,-0.5967220810888352,-0.5386021088726853,-0.5386021088726853,1.9800780175704025,-0.7895484000713859,-1.0404946912700868,-0.6327069680721981,-1.605123846467164,1.854604871971052,1.2586074303741381,-1.0404946912700868,-0.9463898320705741,-1.7305969920665139,-0.09944609927495901,-0.1575660714911089,0.12474850610742949,-0.7895484000713859,1.1598859705911,-0.53398550828916,-0.9463898320705741,-0.16218267207463413,0.6579933881936986,-0.5386021088726853,-0.9777581184704115,-0.9463898320705741,-1.103231264069762,-0.9777581184704115,-0.2516709306906217,4.485676358004364,-0.8163000858876982,0.09338021970759192,-1.856070137665864,0.8416024927201687,-1.0718629776699244,-0.5653537946889976,-0.06807781287512137,-1.0404946912700868,0.15150019192374173,-0.5967220810888352,1.3840805759734884,-0.5653537946889976,-0.18893435789094642,1.7872516985878522,1.473568834589476,4.575164616620351,0.6312417023773862,1.666395153572027,1.6350268671721888,0.9762928527756001,1.0703977119751125,4.360203212405013,0.7567148479767366,0.9089396793923993,2.0741828767699153,1.4154488623733261,1.1017659983749502,1.6617785529885014,0.8148348201928868,0.3756947973061301,4.956200654001928,0.9716762521920748,1.3840805759734884,-0.6640752544720356,-0.3144075034902969,-0.4398806490896473,0.0620119333077543,-0.8522849728710612,-0.2516709306906217,-0.220302644290784,-0.9150215456707365,-0.0053412400754462306,0.15611679250726695,-0.7268118272717107,-1.9501749968653772,-1.856070137665864,-1.103231264069762,-0.8209166864712236,-1.4122975274846128,-0.8209166864712236,-1.1345995504695996,-1.0404946912700868,1.1645025711746253,-0.25628753127414694,-0.06346121229159611,1.2586074303741381,1.7605000127715398,0.5371368431778736,1.473568834589476,4.2974666396053385,1.2899757167739756,1.3480956889901254,4.606532903020189,0.9135562799759245,1.5409220079726766,1.5676736937889886,1.4422005481896385,2.481970599967804,2.1682877359694284,1.4154488623733261,1.0344128249917497,1.6036585807723516,2.0428145903700776,0.882187993576087,3.1054717564115095,-1.4169141280681379,-1.4169141280681379,-0.5386021088726853,-0.7895484000713859,0.09338021970759192,-0.7268118272717107,-1.2600726960689501,-1.1973361232692752,-1.1973361232692752,-1.5691389594838003,1.7245151257881763,1.5676736937889886,1.8859731583708899,1.3480956889901254,1.3840805759734884,1.6036585807723516,1.3213440031738135,1.3480956889901254,1.5409220079726766,1.8232365855712147,1.1017659983749502,2.1636711353859033,1.2226225433907754,4.98295233981824,-1.1345995504695996,-0.40851236268980967,-0.8163000858876982,-0.7268118272717107,-0.4398806490896473,-1.4436658138844505,-0.4758655360730102,0.25020566499580965,-0.12619778509127125,-0.6013386816723604,0.026027046324391373,0.5325362293053181,-0.7581801136715485,-0.6280903674886729,0.7834825205040189,-0.7268118272717107,-0.5967220810888352,0.24560505112325456,0.3756947973061301,-0.6013386816723604,-0.34577578989013447,-1.475034100284288,-0.28765581767398446,-0.3190241040738221,-0.09944609927495901,-0.6640752544720356,0.12474850610742949,0.28158993810661737,-0.6594586538885103,-1.2287044096691127,-0.3190241040738221,-0.7895484000713859,-0.2249192448743093,0.026027046324391373,-0.2830392170904593,0.09338021970759192,-0.2830392170904593,-0.09944609927495901,-0.7849317994878607,-1.5423872736674884,-1.4482824144679753,0.43843137010580546,-0.47124893548948477,-0.3771440762899721,-0.9777581184704115,-0.12619778509127125,-0.44449724967317256,-0.3190241040738221,-0.25628753127414694,-0.6013386816723604,0.1874850789071046,-0.4131289632733348,-0.9150215456707365,-1.0404946912700868,0.43843137010580546,-1.1345995504695996,-0.6327069680721981,-0.6954435408718732,-0.38176067687349746,-0.5386021088726853,-0.7849317994878607,-1.8874384240657023,0.4070630837059677,-1.165967836869437,-0.44449724967317256,-0.9731415178868862,-0.7895484000713859,0.1874850789071046,-1.0404946912700868,-0.34577578989013447,0.5952728021049934,-0.03670952647528378,-0.7268118272717107,-1.5737555600673259,-0.7849317994878607,-0.9463898320705741,-1.1973361232692752,0.08876361912406652,-0.5386021088726853,0.3756947973061301,-1.3541775552684627,-0.53398550828916,-0.13081438567479658,-0.7221952266881856,-0.6013386816723604,-0.690826940288348,-1.1973361232692752,0.31295822450645494,-0.2830392170904593,-0.4758655360730102,-0.47124893548948477,-0.16218267207463413,0.18286847832357936,-0.690826940288348,-0.7268118272717107,-0.8790366586873735,0.7161293471208187,0.03064364690791671,-0.8163000858876982,-1.1973361232692752,-0.40851236268980967,0.21885336530694216,-0.9150215456707365,-0.6013386816723604,-0.6013386816723604,-0.06807781287512137,-0.06807781287512137,-1.1973361232692752,-0.12619778509127125,-1.1345995504695996,-0.7849317994878607,-0.6013386816723604,-1.380929241084775,-0.6280903674886729,-0.28765581767398446,1.4781854351730015,-0.2516709306906217,1.3840805759734884,-0.8209166864712236,-0.9463898320705741,-0.0053412400754462306,-0.3190241040738221,-0.7895484000713859,-0.9731415178868862,-0.7268118272717107,-0.7581801136715485,-0.6280903674886729,-0.6640752544720356,-0.7895484000713859,-1.6318755322834761,-1.9188067104655393,-0.4131289632733348,-0.2830392170904593,-0.44449724967317256,-0.4131289632733348,-0.4398806490896473,-0.9731415178868862,-0.40851236268980967,0.5011679429054806,-0.4131289632733348,-1.2287044096691127,-0.8836532592708989,-0.8209166864712236,-0.7268118272717107,-0.3503923904736597,-0.6327069680721981,-0.9777581184704115,-0.8209166864712236,-0.9104049450872111,-0.7268118272717107,-0.6327069680721981,-0.3771440762899721,-0.6327069680721981,-1.2287044096691127,-0.8836532592708989,0.4697996565056428,-1.479650700867813,0.4697996565056428,-0.5699703952725229,-1.0358780906865614,-0.9150215456707365,-0.5967220810888352,-0.38176067687349746,-0.7895484000713859,-1.2287044096691127,-0.53398550828916,-0.13081438567479658,-1.1345995504695996,-0.9463898320705741,-1.1345995504695996,-0.44449724967317256,-0.7268118272717107,0.24560505112325456,-0.47124893548948477,-1.2600726960689501,-0.5699703952725229,0.7207459477043436,-0.7849317994878607,-0.9150215456707365,-0.8476683722875361,-1.1973361232692752,0.43843137010580546,-0.7895484000713859,-0.8522849728710612,-0.7221952266881856,-0.7268118272717107,-0.3190241040738221,-0.7268118272717107,-1.4436658138844505,1.003044538591912,-0.2249192448743093,-0.19355095847447176,-0.9463898320705741,-0.40851236268980967,-0.0053412400754462306,3.9791671750234365,-0.9463898320705741,-0.5386021088726853,4.5170446444042005,-1.2287044096691127,-0.53398550828916,-1.3855458416683004,0.09338021970759192,-1.2600726960689501,-1.103231264069762,-1.0404946912700868,-0.220302644290784,0.4965513423219553,-0.13081438567479658,-0.9150215456707365,-0.47124893548948477,-0.8476683722875361,-1.600507245883638,-0.40851236268980967,0.08876361912406652,0.026027046324391373,-0.47124893548948477,-0.13081438567479658,-0.47124893548948477,-0.8522849728710612,-1.165967836869437,-1.2914409824687876,-1.0404946912700868,-0.6280903674886729,-0.47124893548948477,-0.8163000858876982,-0.2516709306906217,1.7291317263717025,0.25022165170677985,-0.9777581184704115,-0.6013386816723604,-1.0404946912700868,-0.7581801136715485,0.18286847832357936,-1.0404946912700868,0.7520982473932115,-0.6280903674886729,-1.0091264048702493,-1.5064023866841254,-0.6594586538885103,-0.53398550828916,-0.6640752544720356,-1.2600726960689501,0.12474850610742949,-1.2600726960689501,-1.0718629776699244,-0.5026172218893223,-1.0404946912700868,-1.0718629776699244,-1.5737555600673259,-0.4398806490896473,-0.8790366586873735,-0.6327069680721981,-0.2249192448743093,-0.3503923904736597,-0.6280903674886729,-0.6280903674886729,-0.5967220810888352,-0.40851236268980967,-0.7895484000713859,-1.0718629776699244,-0.53398550828916,-0.7895484000713859,-1.3541775552684627,-1.2600726960689501,-0.9150215456707365,-1.1345995504695996,-1.103231264069762,-0.9463898320705741,-0.5967220810888352,-0.7581801136715485,-0.2516709306906217,-0.8209166864712236,-0.03209292589175852,-1.1299829498860743,4.324218325421651,-0.47124893548948477,-0.3144075034902969,-0.5699703952725229,-0.7895484000713859,-1.0091264048702493,-0.8836532592708989,-0.5653537946889976,-1.2287044096691127,-1.103231264069762,-0.9150215456707365,-1.0091264048702493,1.5990419801888265,-0.9417732314870487,-0.34577578989013447,-0.0007246394919208942,0.12474850610742949,-0.2830392170904593,-0.4758655360730102,-0.12619778509127125,-0.6594586538885103,0.21423676472341693,-0.6327069680721981,-1.0718629776699244,-0.6013386816723604,0.43381476952228004,-0.9150215456707365,-0.5653537946889976,-0.25628753127414694,-0.47124893548948477,4.857479194218889,0.532520242594348,4.2974666396053385,0.0620119333077543,-0.220302644290784,-0.6280903674886729,-1.0358780906865614,-0.753563513088023,-1.3541775552684627,-1.0045098042867238,-0.9150215456707365,-0.690826940288348,-0.09482949869143369,-1.165967836869437,-0.16218267207463413,-0.16218267207463413,-0.5699703952725229,-1.5064023866841254,-0.5026172218893223,-1.3855458416683004,-0.8163000858876982,-0.12619778509127125,-0.6013386816723604,3.7328374844082615,-0.9463898320705741,-0.6327069680721981,0.09338021970759192,-1.1973361232692752,-0.6954435408718732,-0.9777581184704115,0.3756947973061301,-1.6318755322834761,-0.5653537946889976,-0.220302644290784,-0.9777581184704115,1.4154488623733261,2.0068297033867153,-0.18893435789094642,-1.0091264048702493,0.15610080579629687,-0.5967220810888352,-0.8522849728710612,-0.9777581184704115,0.7834665337930489,0.882187993576087,1.0657811113915874,0.9135562799759245,0.9135562799759245,4.198745179822299,1.5409220079726766,4.543796330220513,1.0971493977914246,1.2899757167739756,1.1958708575744632,4.6111495036037145,1.2272391439743007,4.79935922200274,3.9791671750234365,0.27697333752309217,0.725346561576899,1.849988271387527,1.2899757167739756,1.849988271387527,1.1331342847747878,0.8508197071762493,2.9080448235564034,1.2586074303741381,4.422939785204688,3.6968525974248974,1.3213440031738135,0.8775713929925617,1.7245151257881763,1.8186199849876894,1.3794639753899633,-0.3503923904736597,1.4468171487731634,0.6626099887772238,2.1369194495695907,3.5400111654257107,3.916430602223762,4.418323184621163,4.136008607022624,-0.0007246394919208942,0.25482226557933496,1.2539908297906126,1.039029425575275,-0.8522849728710612,4.64251779000355,1.6350268671721888,1.4422005481896385,-1.1299829498860743,-0.5026172218893223,-0.6280903674886729,-1.6992287056666766,-0.6594586538885103,-0.6594586538885103,-0.7895484000713859,-1.856070137665864,-1.1973361232692752,-0.8790366586873735,-1.511018987267651,-0.2830392170904593,-0.2516709306906217,0.34432651090629246,-1.165967836869437,0.5639045157051558,-1.1973361232692752,-0.12619778509127125,-1.322809268868625,-0.2516709306906217,-0.2516709306906217,-0.7581801136715485,0.4697996565056428,-0.7221952266881856,-0.1575660714911089,-1.4169141280681379,-0.09482949869143369,-1.856070137665864,-0.12619778509127125,0.6580093749046685,-0.5072338224728477,-0.34577578989013447,-0.09944609927495901,-0.06346121229159611,-0.6594586538885103,-1.2600726960689501,0.21423676472341693,-1.7305969920665139,-0.3190241040738221,-0.44449724967317256,-1.165967836869437,0.28158993810661737,0.18286847832357936,-1.5423872736674884,-0.34577578989013447,-0.2830392170904593,-1.3181926682851,-0.7268118272717107,-1.0091264048702493,-0.8836532592708989,-0.9731415178868862,-1.600507245883638,0.03064364690791671,-0.1575660714911089,0.18286847832357936,-0.3771440762899721,-0.38176067687349746,-0.06346121229159611,-0.1575660714911089,1.1598859705911,-0.690826940288348,-0.690826940288348,0.5952728021049934,-1.165967836869437,1.2899757167739756,1.1331342847747878,-1.5064023866841254,1.3794639753899633,0.5638885289941858,-1.0672463770863991,-0.2516709306906217,-0.1575660714911089,-0.6640752544720356,0.12474850610742949,-0.4131289632733348,-0.38176067687349746,-0.220302644290784,-0.34577578989013447,-0.09482949869143369,-1.2600726960689501,0.24560505112325456,-0.0053412400754462306,-0.7581801136715485,0.31295822450645494,1.2853591161904503,-0.34577578989013447,-0.53398550828916,-0.7221952266881856,-0.2249192448743093,-0.220302644290784,-0.8522849728710612,-0.2516709306906217,-0.6280903674886729,-0.25628753127414694,-0.25628753127414694,-0.6327069680721981,-0.13081438567479658,-0.7849317994878607,-0.5072338224728477,-0.34577578989013447,-0.8209166864712236,-0.8836532592708989,-0.12619778509127125,0.9089396793923993,-1.322809268868625,-0.8522849728710612,-0.8522849728710612,0.0620119333077543,-0.4758655360730102,0.1874850789071046,-0.47124893548948477,-0.18893435789094642,-0.8209166864712236,-0.9777581184704115,0.3397099103227672,-1.1345995504695996,-1.1973361232692752,-1.1345995504695996,-0.5386021088726853,-0.5072338224728477,-0.34577578989013447,-1.0718629776699244,0.03064364690791671,-0.6280903674886729,-0.8163000858876982,0.37107819672260484,-1.161351236285912,-0.6954435408718732,-0.690826940288348,-0.8163000858876982,-0.6280903674886729,0.9403239525032071,-0.7895484000713859,-0.28765581767398446,0.1874850789071046,-1.3541775552684627,-1.1927195226857494,0.03064364690791671,-1.1973361232692752,-1.2914409824687876,-1.3855458416683004,-0.16218267207463413,-0.4398806490896473,-0.44449724967317256,-0.6954435408718732,0.6580093749046685,-0.6954435408718732,-0.7895484000713859,-1.322809268868625,0.03064364690791671,-1.600507245883638,-1.2868243818852623,-0.690826940288348,-0.2516709306906217,-0.6327069680721981,-0.7581801136715485,-0.4758655360730102,-0.220302644290784,-1.165967836869437,0.34432651090629246,-0.6013386816723604,0.37107819672260484,-0.06346121229159611,-1.103231264069762,-0.8836532592708989,-0.18893435789094642,-0.47124893548948477,-0.6594586538885103,0.747497633520656,-1.0672463770863991,-1.0091264048702493,-0.3771440762899721,-0.3144075034902969,-0.7895484000713859,-1.1973361232692752,-1.6364921328670008,-0.16218267207463413,0.7834825205040189,1.473568834589476,0.34432651090629246,0.8508197071762493,-1.0404946912700868,1.3794639753899633,0.8462031065927242,2.1636711353859033,-1.1973361232692752,-1.322809268868625,-1.103231264069762,0.28158993810661737,5.139793771817428,-0.03210891260272866,-0.4398806490896473,-0.44449724967317256,-0.3190241040738221,1.7245151257881763,1.2539908297906126,-1.511018987267651,0.09798083358014702,0.03064364690791671,-1.0986146634862368,0.6266251017938609,-1.1345995504695996,-1.1973361232692752,1.2586074303741381,-1.0404946912700868,-0.12619778509127125,0.12013190552390413,-0.09482949869143369,1.5049371209893139,1.5676736937889886,0.6939782751770613,0.8194514207764118,0.9716762521920748,4.077888634806474,1.3213440031738135,4.203361780405825,4.794742621419213,0.6626099887772238,-0.28765581767398446,4.266098353205501,-0.40851236268980967,2.199656022369266,1.7605000127715398,1.5409220079726766,1.6036585807723516,-0.0007246394919208942,4.140625207606149,1.2539908297906126,0.9135562799759245,1.1958708575744632,0.6312417023773862,1.7605000127715398,1.007661139175437,1.5409220079726766,2.01144630397024,1.4781854351730015,0.6893616745935361,1.1645025711746253,4.637901189420027,1.5990419801888265,0.6312417023773862,-0.3503923904736597,1.8232365855712147,2.419234027168129,3.0381345697392783,2.0068297033867153,2.2937608815687787,-0.4398806490896473,-0.8209166864712236,5.332620090799979,-0.09482949869143369,0.25022165170677985,-0.5699703952725229,-0.5026172218893223,-1.0358780906865614,-1.322809268868625,-0.06807781287512137,-0.5653537946889976,-1.103231264069762,0.8148508069038567,-0.9150215456707365,-0.9104049450872111,-0.19355095847447176,-0.9463898320705741,-0.03209292589175852,0.28158993810661737,-0.06346121229159611,0.05739533272422893,-1.5737555600673259,0.03064364690791671,0.18286847832357936,-0.2249192448743093,-0.7849317994878607,-0.6280903674886729,-0.3771440762899721,-0.9777581184704115,-1.1345995504695996,-0.3144075034902969,-0.220302644290784,-0.53398550828916,0.5325362293053181,-0.19355095847447176,-1.1973361232692752,-0.6640752544720356,-0.7849317994878607,-0.09482949869143369,-1.0672463770863991,0.09338021970759192,-0.220302644290784,-0.19355095847447176,-0.4758655360730102,0.46518305592211756,-0.34577578989013447,-0.9104049450872111,-0.12619778509127125,-0.3771440762899721,-0.3144075034902969,-0.220302644290784,-0.5072338224728477,-0.690826940288348,-0.6327069680721981,-0.9150215456707365,-0.8836532592708989,-0.3190241040738221,-1.1345995504695996,-1.6364921328670008,-0.8790366586873735,-0.9104049450872111,-0.2516709306906217,-0.1575660714911089,-0.12619778509127125,-1.0091264048702493,-1.2287044096691127,-0.9150215456707365,0.15611679250726695,-0.38176067687349746,-0.19355095847447176,-0.7221952266881856,-0.753563513088023,-0.3144075034902969,-0.9417732314870487,-0.4398806490896473,-1.1973361232692752,-0.8209166864712236,0.5639045157051558,0.5325362293053181,-1.165967836869437,-0.9417732314870487,-0.9463898320705741,-1.7619652784663513,0.24560505112325456,0.34432651090629246,-0.2249192448743093,-0.38176067687349746,0.15611679250726695,-0.3503923904736597,-0.4758655360730102,-0.9150215456707365,-0.8790366586873735,-0.7268118272717107,-0.0007246394919208942,0.5952728021049934,-0.5967220810888352,-0.6327069680721981,0.09338021970759192,-0.6954435408718732,-0.25628753127414694,-1.5691389594838003,-0.4398806490896473,0.37567881059516006,-0.7581801136715485,-0.2249192448743093,-0.4398806490896473,-0.7221952266881856,0.1874850789071046,-1.5737555600673259,-0.7268118272717107,0.3083416239229296,-0.12619778509127125,-1.6992287056666766,0.12474850610742949,-0.4398806490896473,0.28158993810661737,0.15611679250726695,0.12474850610742949,-0.5653537946889976,-0.3144075034902969,-0.3144075034902969,-0.8476683722875361,-0.4131289632733348,0.4965513423219553,-0.6594586538885103,-0.6013386816723604,-0.8476683722875361,-0.7895484000713859,-0.28765581767398446,-0.6594586538885103,-1.600507245883638,-0.9150215456707365,-0.47124893548948477,-0.18893435789094642,0.28158993810661737,-0.6327069680721981,-0.6327069680721981,0.28158993810661737,0.37107819672260484,-0.8836532592708989,0.21885336530694216,-0.1575660714911089,-0.44449724967317256,-0.2249192448743093,-1.0404946912700868,-0.06807781287512137,-1.0404946912700868,0.3756947973061301,2.0741828767699153,1.8232365855712147,1.509553721572839,-0.28765581767398446,1.4154488623733261,-0.7581801136715485,1.7291317263717025,-1.5423872736674884,-1.2600726960689501,-1.103231264069762,1.3794639753899633,-1.165967836869437,0.8775873797035318,0.4070630837059677,-0.4398806490896473,-1.165967836869437,-0.3190241040738221,-0.6327069680721981,0.6893776613045063,-0.25628753127414694,-0.38176067687349746,-0.6594586538885103,-0.3503923904736597,-0.9150215456707365,3.6073643388089107,-1.0718629776699244,-0.8163000858876982,-0.8790366586873735,-0.9417732314870487,1.8859731583708899,-0.6954435408718732,-0.8836532592708989,-0.3771440762899721,-0.3190241040738221,-1.0045098042867238,1.1017659983749502,0.5906562015214681,-1.2914409824687876,-1.2600726960689501,-0.38176067687349746,-0.09944609927495901,-1.0091264048702493,-1.2600726960689501,-0.40851236268980967,-0.28765581767398446,0.026027046324391373,-1.2600726960689501,-0.34577578989013447,-0.5653537946889976,-0.5026172218893223,-0.9777581184704115,-0.3771440762899721,-1.479650700867813,0.6580093749046685,-0.2249192448743093,-0.0053412400754462306,-1.2287044096691127,-1.1345995504695996,-0.03670952647528378,2.257775994585416,-1.605123846467164,-0.9104049450872111,-0.34577578989013447,1.0657811113915874,-0.6640752544720356,-1.380929241084775,0.3756947973061301,-0.1575660714911089,-1.0045098042867238,-1.0358780906865614,-1.322809268868625,-1.0986146634862368,-0.5072338224728477,-0.44449724967317256,-0.4131289632733348,1.2539908297906126,-1.0672463770863991,-0.53398550828916,-0.690826940288348,-0.7581801136715485,-0.9463898320705741,-0.38176067687349746,-0.34577578989013447,-0.3503923904736597,-0.38176067687349746,-0.28765581767398446,0.026027046324391373,-0.0007246394919208942,4.140625207606149,4.736622649203063,0.0620119333077543,1.0657811113915874,0.0620119333077543,-1.2600726960689501,1.2539908297906126,-0.215702030418229,0.40704709699499764,1.9487097311705652,-0.4758655360730102,-0.2830392170904593,0.12474850610742949,2.257775994585416,3.011366897211997,0.6893616745935361,-1.7305969920665139,-0.6640752544720356,-0.6954435408718732,0.5325362293053181,0.21885336530694216,-0.8790366586873735,-1.103231264069762,-0.5026172218893223,-0.09482949869143369,-0.9150215456707365,-0.9731415178868862,-0.6327069680721981,-0.220302644290784,-0.47124893548948477,-0.8476683722875361,-1.1973361232692752,-0.5653537946889976,-0.8836532592708989,-0.13081438567479658,-0.9463898320705741,-0.5653537946889976,-0.09482949869143369,-1.165967836869437,-1.0718629776699244,-1.5691389594838003,-0.8836532592708989,-0.7895484000713859,-0.4398806490896473,-1.161351236285912,-1.1299829498860743,-0.6013386816723604,0.9135562799759245,-0.7581801136715485,-1.0091264048702493,-0.9731415178868862,-0.38176067687349746,-0.4398806490896473,-0.40851236268980967,-0.2516709306906217,-0.7849317994878607,-0.9104049450872111,-0.12619778509127125,-0.5072338224728477,-1.0672463770863991,-0.06346121229159611,0.4697996565056428,-0.8476683722875361,-0.3771440762899721,-0.9463898320705741,4.167376893422462,-1.1973361232692752,1.8813565577873643,-0.6954435408718732,-0.8209166864712236,-0.6640752544720356,-0.753563513088023,-0.220302644290784,1.917341444770727,-0.6640752544720356,-0.34577578989013447,-0.690826940288348,0.9135562799759245,1.509553721572839,-0.7849317994878607,0.34432651090629246,0.09338021970759192,-0.7849317994878607,1.2226225433907754,-0.7221952266881856,-1.605123846467164,-1.1973361232692752,0.12474850610742949,-0.8522849728710612,-0.5967220810888352,-1.1345995504695996,-0.0007246394919208942,-0.03209292589175852,4.136008607022624,2.3878657407682904,1.2539908297906126,0.43841538339483527,-0.38176067687349746,4.203361780405825,4.862095794802415,4.987568940401765,3.8896789164074494,4.418323184621163,3.9837837756069616,4.203361780405825,1.1331342847747878,1.1331342847747878,2.607443745567154,1.4154488623733261,1.5676736937889886,0.21883737859597205,5.2385152316004655,2.105551163169753,0.25020566499580965,1.5676736937889886,0.8194514207764118,-0.3190241040738221,4.548412930804038,4.481059757420838,1.1598859705911,1.3794639753899633,4.888847480618727,4.9248323676020895,-0.4398806490896473,4.4496914710210005,-0.5699703952725229,-0.38176067687349746,-1.0358780906865614,-0.8209166864712236,-0.3503923904736597,-0.06346121229159611,-0.13081438567479658,-0.5026172218893223,-0.13081438567479658,-0.2249192448743093,-0.8209166864712236,0.18286847832357936,-0.6327069680721981,-0.3503923904736597,-0.9417732314870487,-0.2516709306906217,-0.5026172218893223,0.5952728021049934,-0.6640752544720356,-1.0091264048702493,-0.5026172218893223,-0.9150215456707365,-0.8476683722875361,-0.9777581184704115,-0.7581801136715485,-0.9150215456707365,-0.5653537946889976,-0.34577578989013447,-0.19355095847447176,0.3083416239229296,-0.5653537946889976,0.24560505112325456,-0.8836532592708989,-0.34577578989013447,-0.8209166864712236,-0.06346121229159611,-0.9463898320705741,-1.1345995504695996,-0.690826940288348,-0.0007246394919208942,0.7207299609933738,-0.7581801136715485,-1.1927195226857494,-1.2868243818852623,-1.3855458416683004,-0.16218267207463413,-0.5967220810888352,-1.0986146634862368,-0.5026172218893223,0.15611679250726695,0.08876361912406652,-0.5386021088726853,0.4070630837059677,-0.7221952266881856,-0.8836532592708989,0.21885336530694216,-1.0718629776699244,0.25022165170677985,-0.03209292589175852,-0.9417732314870487,-1.0045098042867238,-1.0091264048702493,-0.5386021088726853,-1.1973361232692752,0.46518305592211756,-1.6364921328670008,-0.16218267207463413,-0.8522849728710612,0.08876361912406652,-0.2249192448743093,-0.7895484000713859,-1.2287044096691127,-1.1973361232692752,-0.9731415178868862,-1.0045098042867238,-0.9417732314870487,-1.1973361232692752,-0.9777581184704115,-1.165967836869437,-1.0986146634862368,-0.0053412400754462306,-0.5967220810888352,-0.7581801136715485,-0.8522849728710612,0.47440027037819815,-1.0091264048702493,1.003044538591912,-1.1345995504695996,-0.7581801136715485,-0.25628753127414694,-0.3190241040738221,0.3756947973061301,-0.06807781287512137,-0.6594586538885103,-0.690826940288348,-0.9417732314870487,-0.3503923904736597,-0.7221952266881856,-0.6280903674886729,0.15610080579629687,1.6036585807723516,-0.9463898320705741,-0.8209166864712236,-0.03209292589175852,-0.4398806490896473,-0.3144075034902969,-1.3855458416683004,1.1599019573020701,-0.53398550828916,-1.600507245883638,-0.7849317994878607,-0.8476683722875361,0.03064364690791671,-0.220302644290784,-0.19355095847447176,-1.0718629776699244,-1.0091264048702493,-1.0091264048702493,5.301251804400141,4.888847480618727,0.15150019192374173,-0.6280903674886729,-0.9463898320705741,1.6931468393883389,-0.5967220810888352,-0.47124893548948477,3.038118583028309,4.292850039021813,0.5011519561945106,-0.8790366586873735,-0.9463898320705741,-0.2516709306906217,-0.753563513088023,-0.9463898320705741,-0.5967220810888352,2.1682877359694284,-0.0053412400754462306,-0.5699703952725229,-0.6327069680721981,-0.44449724967317256,1.3840805759734884,-0.5653537946889976,-0.690826940288348,-0.5026172218893223,-0.40851236268980967,-0.2830392170904593,-0.6954435408718732,-0.8476683722875361,-1.0718629776699244,-0.7849317994878607,-0.53398550828916,-0.53398550828916,-0.7895484000713859,1.2853591161904503,-1.103231264069762,2.100934562586228,-0.6280903674886729,-0.7849317994878607,0.882187993576087,-0.09944609927495901,-0.4758655360730102,0.12013190552390413,-1.1345995504695996,0.4024464831224424,-0.47124893548948477,-0.1575660714911089,-0.34577578989013447,-0.40851236268980967,-1.0718629776699244,-1.2914409824687876,0.6580093749046685,-0.7581801136715485,0.0620119333077543,-0.5699703952725229,-1.0091264048702493,-1.2287044096691127,-1.0091264048702493,-0.9463898320705741,-0.690826940288348,-0.06807781287512137,-0.40851236268980967,-0.6954435408718732,-0.06346121229159611,-0.7895484000713859,-0.0053412400754462306,-0.09944609927495901,-0.8163000858876982,-0.4398806490896473,-0.1575660714911089,1.3167274025902878,-0.03209292589175852,1.4422005481896385,0.16071740637982213,-0.6327069680721981,-0.9731415178868862,-0.3190241040738221,-1.479650700867813,-1.0986146634862368,-0.9731415178868862,1.6036585807723516,-0.6327069680721981,-0.8790366586873735,-0.3503923904736597,-0.9463898320705741,-1.2868243818852623,-0.8836532592708989,-0.0902288848188786,-0.9150215456707365,-1.2287044096691127,2.0428145903700776,-0.7268118272717107,-0.5699703952725229,-0.6327069680721981,-0.06807781287512137,-0.8476683722875361,1.6350268671721888,-0.44449724967317256,-0.5653537946889976,1.4781854351730015,-1.0404946912700868,-0.28765581767398446,-0.06346121229159611,0.09338021970759192,5.018937226801603,4.637901189420027,1.352712289573651,4.669269475819863,2.3251291679686164,1.2226225433907754,-0.05886059841904096,3.6387326252087484,2.199656022369266,1.0703977119751125,2.0741828767699153,1.6617785529885014,1.2586074303741381,1.352712289573651,0.5685051295777109,5.2385152316004655,0.882187993576087,1.6350268671721888,1.7291317263717025,-1.380929241084775,5.050305513201441,1.4422005481896385,1.1285176841912623,2.262392595168941,-1.2287044096691127,-1.2914409824687876,-0.6327069680721981,0.25022165170677985,-0.3503923904736597,-0.7268118272717107,-0.28765581767398446,-0.2516709306906217,-0.6280903674886729,-0.690826940288348,-0.220302644290784,-0.9417732314870487,0.03064364690791671,-0.38176067687349746,-1.1973361232692752,-1.0672463770863991,-0.44449724967317256,-1.2600726960689501,-0.44449724967317256,-1.0358780906865614,-0.09482949869143369,-0.2516709306906217,0.43843137010580546,-0.8522849728710612,-1.2868243818852623,-0.8476683722875361,-0.34577578989013447,-0.7221952266881856,-1.2287044096691127,-0.8790366586873735,-1.0404946912700868,-0.3503923904736597,-0.8476683722875361,-0.7895484000713859,-0.7581801136715485,-0.7895484000713859,-1.0358780906865614,-0.7268118272717107,-0.38176067687349746,1.2586074303741381,-1.2600726960689501,-0.3144075034902969,-0.3144075034902969,-0.8209166864712236,-0.6954435408718732,-1.6632438186833134,-0.8836532592708989,-1.2287044096691127,0.12013190552390413,-0.220302644290784,-1.0718629776699244,-0.44449724967317256,-0.44449724967317256,-0.6640752544720356,-0.5072338224728477,-0.7268118272717107,-0.38176067687349746,-1.103231264069762,1.5676736937889886,-0.38176067687349746,0.28158993810661737,-0.18893435789094642,-0.44449724967317256,-0.9417732314870487,-0.2830392170904593,-1.2287044096691127,-1.2287044096691127,-1.0091264048702493,0.21423676472341693,-0.7849317994878607,-1.9188067104655393,1.6036585807723516,1.6304102665886642,0.6626099887772238,1.352712289573651,-0.3144075034902969,1.007661139175437,-0.9417732314870487,-0.4398806490896473,-1.2600726960689501,-0.6640752544720356,-0.9777581184704115,-0.09482949869143369,-1.2914409824687876,0.12474850610742949,-1.4122975274846128,-1.165967836869437,-1.2600726960689501,-1.7305969920665139,-0.28765581767398446,-0.6280903674886729,0.12474850610742949,-0.06346121229159611,-0.6640752544720356,0.25022165170677985,-0.03209292589175852,0.21423676472341693,-0.6594586538885103,-1.511018987267651,-0.7268118272717107,-0.9731415178868862,-1.0091264048702493,3.952415489207125,-0.3771440762899721,-0.1575660714911089,-0.18893435789094642,-0.9777581184704115,-0.7221952266881856,-0.8476683722875361,-0.9777581184704115,-0.53398550828916,-0.8836532592708989,-0.8163000858876982,0.5011679429054806,-0.7581801136715485,-0.9777581184704115,-0.753563513088023,-1.0404946912700868,-0.5026172218893223,-0.8476683722875361,-0.47124893548948477,-0.47124893548948477,1.6977634399718642,-0.8476683722875361,-1.2600726960689501,0.8148348201928868,-0.6594586538885103,-0.7849317994878607,-0.0053412400754462306,-0.7581801136715485,-0.9777581184704115,-0.3144075034902969,-0.47124893548948477,-0.7895484000713859,-0.7268118272717107,-0.6280903674886729,-0.753563513088023,-1.0091264048702493,-0.53398550828916,-1.856070137665864,2.2310243087691033,0.944924566375762,1.6036585807723516,-1.4482824144679753,-0.7895484000713859,-0.9417732314870487,-1.0718629776699244,-0.8163000858876982,-0.5653537946889976,0.03064364690791671,-0.9777581184704115,-1.856070137665864,-1.2287044096691127,-0.06807781287512137,-1.6318755322834761,-0.34577578989013447,-1.380929241084775,-0.9150215456707365,-0.6280903674886729,1.1958708575744632,1.4781854351730015,1.3480956889901254,4.386954898221326,1.854604871971052,2.356497454368453,-1.6992287056666766,-0.9777581184704115,-0.8476683722875361,-0.9777581184704115,-0.4398806490896473,-0.12619778509127125,-0.7849317994878607,0.4070630837059677,1.6350268671721888,0.026027046324391373,-0.7581801136715485,-0.7895484000713859,-1.322809268868625,-0.09944609927495901,0.026027046324391373,1.7918682991713775,0.4697996565056428,-1.2600726960689501,1.6036585807723516,-0.9150215456707365,1.854604871971052,-0.753563513088023,-0.5386021088726853,-0.47124893548948477,-0.8836532592708989,0.882187993576087,-0.9417732314870487,-0.5967220810888352,1.9754614169868776,1.666395153572027,1.509553721572839,1.849988271387527,1.5049371209893139,1.1017659983749502,3.8223257430242477,1.8186199849876894,-0.40851236268980967,4.64251779000355,4.857479194218889,-1.856070137665864,3.508658865736843,3.8896789164074494,1.9487097311705652,1.2539908297906126,4.167376893422462,3.916430602223762,1.007661139175437,4.956200654001928,-0.8790366586873735,3.8896789164074494,-1.1345995504695996,-0.6594586538885103,-0.7895484000713859,-0.220302644290784,-1.2600726960689501,-0.2830392170904593,-0.09944609927495901,-0.4758655360730102,0.46518305592211756,-0.09944609927495901,-0.8522849728710612,-0.5967220810888352,-1.1345995504695996,-0.0007246394919208942,-0.7221952266881856,-0.9731415178868862,-0.8790366586873735,-0.34577578989013447,-0.8163000858876982,0.09338021970759192,-0.5653537946889976,-1.103231264069762,-0.9463898320705741,-1.0672463770863991,-0.4131289632733348,-0.8163000858876982,0.09338021970759192,0.026027046324391373,-0.8836532592708989,-0.220302644290784,0.7207299609933738,1.2226225433907754,1.1958708575744632,2.2937608815687787,1.7872516985878522,1.1645025711746253,1.3480956889901254,-0.8209166864712236,4.794742621419213,1.4422005481896385,1.3840805759734884,0.9089396793923993,-1.0358780906865614,0.7834665337930489,0.9089396793923993,1.666395153572027,0.1874850789071046,4.705254362803227,1.352712289573651,1.917341444770727,0.8462031065927242,1.8813565577873643,1.6304102665886642,1.7291317263717025,3.3785691195539673,1.509553721572839,1.3840805759734884,1.4422005481896385,1.3213440031738135,0.8508197071762493,2.2937608815687787,-1.8874384240657023,-1.0986146634862368,-0.8163000858876982,-0.6594586538885103,-0.2249192448743093,-0.0007246394919208942,4.136008607022624,3.9791671750234365,2.105551163169753,1.6977634399718642,4.015152062006799,-0.8209166864712236,1.7605000127715398,1.7245151257881763,-0.7581801136715485,-1.6632438186833134,-1.0091264048702493,0.09338021970759192,-0.03209292589175852,-1.322809268868625,-0.8476683722875361,-0.18893435789094642,-1.0718629776699244,-0.5026172218893223,-0.9150215456707365,-0.5026172218893223,1.4154488623733261,-1.103231264069762,-0.8476683722875361,-0.7221952266881856,-0.44449724967317256,-0.8836532592708989,-0.3190241040738221,-1.1345995504695996,-1.1973361232692752,-0.6594586538885103,0.31295822450645494,1.3480956889901254,1.5990419801888265,-0.25628753127414694,-0.6640752544720356,-0.6013386816723604,1.6036585807723516,0.15611679250726695,-0.8836532592708989,0.7520982473932115,-0.2516709306906217,-0.25628753127414694,-0.3190241040738221,-0.9777581184704115,-0.7268118272717107,-0.5967220810888352,-0.12619778509127125,-1.0091264048702493,1.912724844187202,2.1682877359694284,-0.2516709306906217,1.5722902943725139,1.3167274025902878,1.2586074303741381,3.4191546204098846,0.5952568153940233,2.3205125673850917,1.2899757167739756,4.391571498804851,4.015152062006799,-0.03210891260272866,4.893464081202253,3.8583106300076104,-0.06346121229159611,4.422939785204688,2.199656022369266,-0.6013386816723604,-0.34577578989013447,-0.7581801136715485,-1.3541775552684627,-0.09944609927495901,-1.1973361232692752,-1.1345995504695996,-0.9104049450872111,-0.9104049450872111,-0.2249192448743093,0.026027046324391373,-1.0718629776699244,-1.2914409824687876,-0.4131289632733348,-0.5386021088726853,-1.1299829498860743,-0.8163000858876982,-0.8790366586873735,-0.12619778509127125,-1.479650700867813,-0.53398550828916,-1.0358780906865614,-0.8836532592708989,-1.0045098042867238,-1.5064023866841254,-0.2516709306906217,0.15150019192374173,-1.1973361232692752,-1.2868243818852623,-1.5691389594838003,-1.0404946912700868,-0.53398550828916,0.15611679250726695,-0.8836532592708989,-1.1299829498860743,0.6893776613045063,-1.322809268868625,-0.690826940288348,-0.16218267207463413,-0.6954435408718732,-0.6594586538885103,-0.6280903674886729,-0.09944609927495901,-0.2516709306906217,0.12474850610742949,-1.0091264048702493,-0.5386021088726853,0.43843137010580546,-0.6013386816723604,-0.5699703952725229,-1.0091264048702493,-1.103231264069762,-0.7849317994878607,-0.03209292589175852,0.21885336530694216,-0.9150215456707365,0.15610080579629687,-0.9463898320705741,-1.4482824144679753,-0.53398550828916,-0.6327069680721981,-0.13081438567479658,0.4070630837059677,-0.5072338224728477,-0.7581801136715485,-0.8836532592708989,-0.9777581184704115,-0.9104049450872111,-1.1973361232692752,0.21423676472341693,-1.3541775552684627,0.28158993810661737,-0.4758655360730102,-1.667860419266839,-1.2868243818852623,-0.0007246394919208942,-0.38176067687349746,0.28158993810661737,-0.2516709306906217,0.5952728021049934,0.28158993810661737,0.31295822450645494,-0.6327069680721981,-0.8522849728710612,0.1874850789071046,0.6847610607209808,0.1874850789071046,-0.8522849728710612,0.4965513423219553,0.026027046324391373,-1.475034100284288,-0.8522849728710612,0.24560505112325456,-1.0091264048702493,-0.5386021088726853,-0.38176067687349746,-0.2249192448743093,-1.1973361232692752,-0.1575660714911089,0.08876361912406652,-0.9417732314870487,-0.16218267207463413,-1.0718629776699244,-1.1345995504695996,-0.47124893548948477,-1.3541775552684627,-1.0091264048702493,-0.3503923904736597,-0.3144075034902969,-0.5699703952725229,-0.38176067687349746,-1.0091264048702493,-0.3503923904736597,-1.0358780906865614,-0.03209292589175852,-0.220302644290784,0.25022165170677985,-0.7581801136715485,-0.5386021088726853,-0.53398550828916,-0.13081438567479658,-0.3190241040738221,-0.28765581767398446,-0.6280903674886729,-1.5691389594838003,0.21423676472341693,-1.322809268868625,-1.0718629776699244,-0.8476683722875361,0.5011679429054806,-0.8790366586873735,-0.5699703952725229,0.21423676472341693,-1.0404946912700868,0.6266410885048308,-0.4398806490896473,-0.5386021088726853,-0.25628753127414694,-0.6327069680721981,-0.5967220810888352,-0.40851236268980967,-0.9463898320705741,-1.0718629776699244,-0.47124893548948477,0.8775713929925617,-1.5377706730839629,-0.9104049450872111,-0.3144075034902969,0.7521142341041815,-0.47124893548948477,-0.3144075034902969,-1.0672463770863991,-0.40851236268980967,-0.7849317994878607,-0.9463898320705741,-1.165967836869437,-0.12619778509127125,-0.3144075034902969,-0.5653537946889976,-0.8163000858876982,-0.9777581184704115,-0.5653537946889976,-1.322809268868625,-0.9731415178868862,-0.8476683722875361,-0.1575660714911089,-1.2287044096691127,-0.47124893548948477,2.105551163169753,0.9716762521920748,-1.3181926682851,-0.4758655360730102,-0.6327069680721981,0.37107819672260484,-0.44449724967317256,4.5170446444042005,1.2586074303741381,-0.0053412400754462306,-0.5699703952725229,-0.6954435408718732,0.3756947973061301,-0.38176067687349746,-0.44449724967317256,-0.2516709306906217,-0.5967220810888352,-1.322809268868625,-1.2600726960689501,-0.3503923904736597,-0.8163000858876982,-0.7895484000713859,-0.5699703952725229,0.31295822450645494,0.6533927743211434,-1.1345995504695996,-0.5967220810888352,-0.8522849728710612,-1.3541775552684627,-1.1345995504695996,1.2586074303741381,-1.6364921328670008,0.21423676472341693,-0.8209166864712236,-0.9463898320705741,0.43843137010580546,-0.25628753127414694,-0.40851236268980967,-0.6640752544720356,-1.2287044096691127,-0.7895484000713859,-0.4398806490896473,-1.9188067104655393,-0.4758655360730102,-0.6013386816723604,-0.47124893548948477,1.4154488623733261,-0.25628753127414694,-0.8790366586873735,-0.2830392170904593,-1.0404946912700868,-0.40851236268980967,-0.9463898320705741,-0.8522849728710612,-1.1345995504695996,-0.5072338224728477,-0.6594586538885103,-0.5386021088726853,-0.9463898320705741,-1.2287044096691127,-1.1973361232692752,-0.4758655360730102,-0.16218267207463413,-0.2830392170904593,-1.2287044096691127,-0.16218267207463413,-0.28765581767398446,-1.8874384240657023,-0.47124893548948477,-0.6013386816723604,0.05739533272422893,-0.753563513088023,-0.09482949869143369,-1.2914409824687876,-1.165967836869437,-1.2600726960689501,-0.09482949869143369,0.31295822450645494,4.203361780405825,-0.38176067687349746,-0.16218267207463413,-0.38176067687349746,-0.7895484000713859,-0.6640752544720356,-0.8209166864712236,-0.690826940288348,-0.53398550828916,-0.06807781287512137,-1.1299829498860743,-0.9777581184704115,-0.7221952266881856,-0.5072338224728477,0.09338021970759192,-0.34577578989013447,-0.8163000858876982,-0.0007246394919208942,-0.19355095847447176,-0.5026172218893223,-1.0404946912700868,-0.53398550828916,-0.4398806490896473,0.15611679250726695,-0.3190241040738221,-1.4482824144679753,1.3794639753899633,-0.4758655360730102,-0.38176067687349746,-1.6318755322834761,-0.9777581184704115,-0.3190241040738221,0.5325362293053181,-1.6364921328670008,-0.9150215456707365,-0.8476683722875361,-0.13081438567479658,-0.40851236268980967,-1.0358780906865614,-0.5653537946889976,-1.0091264048702493,-0.9777581184704115,-0.34577578989013447,-0.6280903674886729,0.12013190552390413,-0.3144075034902969,-1.0091264048702493,-0.5699703952725229,-0.16218267207463413,-0.5072338224728477,-0.09944609927495901,-1.0718629776699244,-1.322809268868625,-0.9150215456707365,-0.753563513088023,0.34432651090629246,-0.5072338224728477,-1.0718629776699244,-0.220302644290784,-1.3855458416683004,-1.1345995504695996,-0.6640752544720356,-0.0007246394919208942,-0.8790366586873735,-0.2516709306906217,-0.7581801136715485,-0.2516709306906217,-1.1973361232692752,1.6036585807723516,1.007661139175437,-0.2830392170904593,-0.8836532592708989,-0.6280903674886729,-0.7221952266881856,-1.165967836869437,0.18286847832357936,-0.3503923904736597,-0.7268118272717107,-0.5026172218893223,-0.6954435408718732,-0.44449724967317256,-0.25628753127414694,-1.4122975274846128,-1.0404946912700868,-0.753563513088023,-0.38176067687349746,-0.3190241040738221,-0.6640752544720356,-0.2830392170904593,-0.7895484000713859,0.37107819672260484,-0.2830392170904593,-0.5072338224728477,-0.8836532592708989,-0.47124893548948477,-0.7268118272717107,-0.6594586538885103,-0.220302644290784,-0.6327069680721981,-1.0718629776699244,-0.25628753127414694,-0.8790366586873735,-1.0718629776699244,-0.3144075034902969,0.15611679250726695,-1.3855458416683004,0.31295822450645494,-0.9104049450872111,-0.4131289632733348,1.6036585807723516,-0.4758655360730102,-1.103231264069762,0.43843137010580546,-1.3181926682851,-1.0986146634862368,-0.7581801136715485,-0.1575660714911089,4.6111495036037145,-0.40851236268980967,-0.19355095847447176,-1.1973361232692752,-1.0718629776699244,-1.2600726960689501,-1.1973361232692752,-0.9463898320705741,-0.4758655360730102,-0.2249192448743093,-0.7221952266881856,0.28158993810661737,0.12474850610742949,-0.0007246394919208942,-1.0718629776699244,-0.47124893548948477,0.05739533272422893,-1.511018987267651,-0.6013386816723604,0.15150019192374173,-1.0045098042867238,-0.25628753127414694,-0.8522849728710612,-0.8790366586873735,0.31295822450645494,-0.09482949869143369,0.6533927743211434,0.6580093749046685,-0.6013386816723604,-0.753563513088023,0.6580093749046685,-0.38176067687349746,-0.8476683722875361,-0.6640752544720356,-0.38176067687349746,-0.09944609927495901,-0.5386021088726853,-0.5386021088726853,-0.9463898320705741,-0.6280903674886729,-1.4436658138844505,1.352712289573651,-0.7221952266881856,1.5990419801888265,-0.4398806490896473,-1.2914409824687876,-0.16218267207463413,-0.753563513088023,-0.6640752544720356,-0.4398806490896473,-0.5072338224728477,-0.7895484000713859,-0.6327069680721981,-0.6013386816723604,-1.0986146634862368,-0.7581801136715485,0.9762928527756001,-0.7849317994878607,-1.4169141280681379,-1.3181926682851,0.03064364690791671,-1.322809268868625,-0.5699703952725229,-0.5699703952725229,1.7605000127715398,-1.5423872736674884,-1.9501749968653772,-1.165967836869437,-0.5653537946889976,-0.5653537946889976,-0.6013386816723604,-1.0091264048702493,-1.2287044096691127,-0.8836532592708989,-0.38176067687349746,0.3756947973061301,-0.2516709306906217,1.2539908297906126,1.1912542569909377,-0.6594586538885103,-0.53398550828916,-1.1345995504695996,-1.0091264048702493,-0.8522849728710612,-0.5699703952725229,-0.5967220810888352,-0.06346121229159611,1.7245151257881763,-0.4131289632733348,-0.9150215456707365,-0.9463898320705741,1.1017659983749502,-1.322809268868625,-1.9188067104655393,-1.1345995504695996,-1.0986146634862368,0.6893776613045063,-0.3771440762899721,-0.8836532592708989,-0.5653537946889976,1.509553721572839,-1.2600726960689501,-0.7581801136715485,0.24560505112325456,-0.4398806490896473,1.6350268671721888,-0.2830392170904593,-0.12619778509127125,-0.6327069680721981,-0.1575660714911089,-1.2914409824687876,-0.9731415178868862,-0.5653537946889976,-0.38176067687349746,-0.5967220810888352,-0.5967220810888352,-0.3503923904736597,-0.690826940288348,1.3213440031738135,-1.103231264069762,-0.9150215456707365,-0.5967220810888352,-0.5026172218893223,-0.25628753127414694,-0.8163000858876982,-0.7895484000713859,-0.753563513088023,-0.6954435408718732,-0.8209166864712236,-0.690826940288348,1.2899757167739756,1.8232365855712147,-1.4122975274846128,-0.753563513088023,0.6220244879213055,1.6931468393883389,-0.28765581767398446,1.3480956889901254,0.9762928527756001,-0.215702030418229,-0.690826940288348,-0.5386021088726853,-0.7221952266881856,-1.2914409824687876,-1.0718629776699244,-1.1973361232692752,0.940307965792237,4.391571498804851,4.485676358004364,1.2539908297906126,0.12474850610742949,-0.6327069680721981,-1.2600726960689501,0.9762928527756001,2.0068297033867153,-0.4398806490896473,-1.0718629776699244,-0.8209166864712236,-0.7849317994878607,2.0741828767699153,-0.9150215456707365,-0.8836532592708989,-0.5653537946889976,-1.600507245883638,1.1645025711746253,1.5363054073891511,-0.38176067687349746,1.0703977119751125,-1.0672463770863991,-0.6594586538885103,-0.9150215456707365,-0.53398550828916,-0.6640752544720356,-1.1345995504695996,1.1958708575744632,1.4468171487731634,1.6617785529885014,1.2899757167739756,0.12474850610742949,4.920215767018564,4.548412930804038,-0.8209166864712236,4.732006048619539,-0.06346121229159611,1.410832261789801,-1.5064023866841254,1.1958708575744632,1.7605000127715398,0.8775713929925617,1.0703977119751125,2.0428145903700776,1.6977634399718642,1.2272391439743007,1.5409220079726766,1.6304102665886642,1.5722902943725139,0.8508197071762493,1.1645025711746253,1.6931468393883389,1.6931468393883389,1.7918682991713775,-0.8209166864712236,1.003044538591912,0.15611679250726695,1.0344128249917497,0.4697996565056428,1.0344128249917497,1.3167274025902878,0.5011519561945106,-0.7895484000713859,-0.6954435408718732,1.509553721572839,1.007661139175437,0.6893616745935361,1.912724844187202,1.4468171487731634,-0.9150215456707365,-1.2287044096691127,-0.7581801136715485,-1.0091264048702493,0.4070630837059677,-0.3771440762899721,-1.1345995504695996,0.18286847832357936,0.46518305592211756,-0.2516709306906217,-1.2287044096691127,-0.2830392170904593,-0.6280903674886729,-0.47124893548948477,-0.5026172218893223,-0.6594586538885103,-0.2516709306906217,0.15150019192374173,-0.8836532592708989,-0.3144075034902969,0.08876361912406652,-0.8522849728710612,-0.6594586538885103,-0.6280903674886729,-1.165967836869437,-0.47124893548948477,-0.753563513088023,-1.103231264069762,-0.220302644290784,-0.8476683722875361,-1.322809268868625,-1.0718629776699244,-0.6954435408718732,-0.7849317994878607,0.03064364690791671,-1.1973361232692752,-0.9150215456707365,-1.0045098042867238,-0.09944609927495901,0.03064364690791671,-1.0718629776699244,0.28158993810661737,-0.5386021088726853,-0.0007246394919208942,-1.322809268868625,-0.9104049450872111,-0.5072338224728477,-1.4169141280681379,0.12013190552390413,0.1874850789071046,-1.8247018512660271,0.18286847832357936,-0.9150215456707365,-1.0986146634862368,-1.0718629776699244,-1.8874384240657023,-1.3541775552684627,-1.1973361232692752,-0.690826940288348,0.12474850610742949,4.862095794802415,-0.7581801136715485,-1.2554560954854248,-0.06807781287512137,-1.165967836869437,-0.13081438567479658,0.37107819672260484,-0.5653537946889976,-0.5072338224728477,-0.6013386816723604,0.9762928527756001,-1.103231264069762,-0.3144075034902969,-0.220302644290784,-0.38176067687349746,-1.2554560954854248,-0.2516709306906217,-0.8836532592708989,-0.6640752544720356,1.4468171487731634,-0.2516709306906217,-0.8790366586873735,-0.6327069680721981,-0.5386021088726853,-1.322809268868625,-0.5967220810888352,-1.9501749968653772,-0.25628753127414694,-1.165967836869437,-0.6327069680721981,0.21885336530694216,-0.6954435408718732,-0.6013386816723604,-0.13081438567479658,-0.4398806490896473,0.12474850610742949,-0.4758655360730102,-0.6640752544720356,-0.16218267207463413,-1.8247018512660271,-0.2516709306906217,-0.34577578989013447,-1.1299829498860743,-1.6632438186833134,-0.6013386816723604,0.37107819672260484,-1.1345995504695996,-0.2830392170904593,-0.6594586538885103,-0.5072338224728477,-0.06807781287512137,-0.9150215456707365,-0.38176067687349746,-0.5386021088726853,-0.8476683722875361,-0.6954435408718732,1.9754614169868776,1.1912542569909377,1.410832261789801,-0.6013386816723604,-1.4482824144679753,-0.9150215456707365,-0.6954435408718732,-0.3144075034902969,-1.2287044096691127,1.1912542569909377,-0.5072338224728477,-0.6954435408718732,-0.9104049450872111,-0.6013386816723604,-1.1345995504695996,-1.0091264048702493,-1.103231264069762,-0.0053412400754462306,0.3756947973061301,-0.8209166864712236,-0.13081438567479658,-0.753563513088023,-0.5653537946889976,-0.9150215456707365,-0.7581801136715485,-0.7581801136715485,-0.5967220810888352,-1.103231264069762,-0.6280903674886729,-1.600507245883638,-1.1927195226857494,-1.4482824144679753,-1.0718629776699244,-0.25628753127414694,-1.4482824144679753,-0.7849317994878607,-0.3771440762899721,-0.9104049450872111,-1.4436658138844505,-1.0718629776699244,-0.13081438567479658,-0.6327069680721981,-0.7895484000713859,-0.8209166864712236,-0.3503923904736597,-0.8476683722875361,-1.165967836869437,-0.18893435789094642,1.0703977119751125,0.34432651090629246,-0.7221952266881856,-0.5699703952725229,-0.03670952647528378,-0.8522849728710612,0.34432651090629246,-1.3181926682851,-0.2830392170904593,-0.9463898320705741,0.0620119333077543,-0.7581801136715485,-0.6280903674886729,-0.9463898320705741,-1.5377706730839629,-0.6640752544720356,-0.6640752544720356,-0.6594586538885103,-0.53398550828916,0.24560505112325456,0.21423676472341693,-0.7268118272717107,-0.3503923904736597,-0.3190241040738221,0.08876361912406652,-0.19355095847447176,-0.4758655360730102,0.34432651090629246,-0.9463898320705741,-1.5691389594838003,0.1874850789071046,-0.7268118272717107,-0.0053412400754462306,-0.06807781287512137,-1.2287044096691127,-1.1345995504695996,-1.0091264048702493,-0.9417732314870487,-0.0007246394919208942,-1.0358780906865614,-0.2516709306906217,-0.6327069680721981,0.15611679250726695,-0.5026172218893223,-0.5653537946889976,-1.1973361232692752,0.4070630837059677,-0.9150215456707365,-0.6013386816723604,-0.7268118272717107,-0.7581801136715485,-1.3541775552684627,-1.103231264069762,-1.3855458416683004,-1.0091264048702493,-1.165967836869437,-0.8476683722875361,-0.6280903674886729,-0.5026172218893223,-0.6013386816723604,-0.9463898320705741,0.5011679429054806,-0.4131289632733348,-0.7581801136715485,-0.16218267207463413,-0.2516709306906217,-0.5699703952725229,-0.6327069680721981,-0.5072338224728477,0.12474850610742949,-0.7581801136715485,-0.5026172218893223,-0.53398550828916,0.026027046324391373,-0.18893435789094642,-0.5653537946889976,-0.8163000858876982,-0.6280903674886729,-0.7221952266881856,-0.5386021088726853,-0.28765581767398446,-0.6013386816723604,-0.25628753127414694,-0.8790366586873735,-1.161351236285912,-0.9104049450872111,-0.4398806490896473,-0.2516709306906217,-1.5691389594838003,-1.2287044096691127,-0.6327069680721981,-0.8476683722875361,-0.4398806490896473,-0.2516709306906217,0.09338021970759192,-0.3771440762899721,-0.6640752544720356,-1.0672463770863991,-0.5072338224728477,1.8232365855712147,-0.5386021088726853,-0.6954435408718732,-1.4169141280681379,-0.7268118272717107,5.144410372400953,-1.0718629776699244,0.03064364690791671,1.352712289573651,-0.6327069680721981,-0.4131289632733348,0.12474850610742949,-0.40851236268980967,0.21885336530694216,-0.6640752544720356,-0.4131289632733348,-0.7581801136715485,-0.38176067687349746,-0.6327069680721981,-1.1973361232692752,-0.8476683722875361,-0.2249192448743093,-1.0986146634862368,-0.4398806490896473,-0.753563513088023,-0.8522849728710612,-0.9463898320705741,-1.2600726960689501,-0.0007246394919208942,-0.8790366586873735,-0.3771440762899721,0.25022165170677985,-1.0718629776699244,-0.28765581767398446,-0.19355095847447176,-0.53398550828916,-0.9150215456707365,-0.7268118272717107,-0.5026172218893223,-1.0045098042867238,-1.1973361232692752,1.1912542569909377,-1.0672463770863991,-0.40851236268980967,1.007661139175437,-1.0045098042867238,0.31295822450645494,-0.6640752544720356,-1.0404946912700868,-0.690826940288348,-0.690826940288348,-0.8209166864712236,-0.19355095847447176,-0.9731415178868862,-0.7849317994878607,-1.1345995504695996,-1.5691389594838003,1.7291317263717025,-1.8874384240657023,1.666395153572027,-0.2830392170904593,1.666395153572027,2.0741828767699153,1.2899757167739756,-1.165967836869437,0.31294223779548486,0.9716762521920748,-0.16218267207463413,-0.3771440762899721,1.9487097311705652,-0.9731415178868862,-0.03670952647528378,-0.38176067687349746,1.2272391439743007,0.15611679250726695,-0.1575660714911089,-0.09482949869143369,-0.3144075034902969,0.944924566375762,2.5048737009420394,0.09338021970759192,0.09338021970759192,-1.0358780906865614,-0.7849317994878607,-0.38176067687349746,-0.19355095847447176,-0.9777581184704115,1.854604871971052,-0.8209166864712236,-1.0718629776699244,1.7918682991713775,-0.5653537946889976,2.607443745567154,0.725346561576899,1.4422005481896385,4.637901189420027,4.485676358004364,4.575164616620351,1.6350268671721888,5.139793771817428,1.7918682991713775,0.6939782751770613,1.2586074303741381,0.9135562799759245,1.917341444770727,1.7291317263717025,1.666395153572027,5.018937226801603,1.2226225433907754,1.3167274025902878,1.9754614169868776,1.3480956889901254,1.9487097311705652,1.3480956889901254,4.292850039021813,-1.1973361232692752,4.391571498804851,2.419234027168129,-0.5967220810888352,1.666395153572027,4.104640320622786,2.1950394217857405,0.43843137010580546,-0.13081438567479658,-0.6594586538885103,-0.8522849728710612,-1.2914409824687876,-1.2914409824687876,-0.34577578989013447,1.1645025711746253,-1.0718629776699244,-0.8209166864712236,-1.0404946912700868,0.5325362293053181,-0.44449724967317256,-0.4758655360730102,-0.5967220810888352,-0.9104049450872111,-0.6327069680721981,-0.7581801136715485,-1.1345995504695996,-0.7581801136715485,-0.6280903674886729,-1.5064023866841254,-0.1575660714911089,-0.8209166864712236,-0.9777581184704115,-0.9463898320705741,-0.5386021088726853,0.0620119333077543,-0.5967220810888352,0.24560505112325456,-0.03209292589175852,0.7521142341041815,-0.753563513088023,-0.4398806490896473,-1.1345995504695996,-0.6013386816723604,-0.03209292589175852,-0.753563513088023,-0.9104049450872111,0.25022165170677985,-0.6280903674886729,0.5325362293053181,-1.1927195226857494,-0.3144075034902969,-1.165967836869437,-0.0007246394919208942,-0.753563513088023,-0.25628753127414694,-0.40851236268980967,-0.0007246394919208942,-0.9417732314870487,-0.0053412400754462306,-0.06346121229159611,-0.09482949869143369,1.94409313058704,-1.9188067104655393,-0.8790366586873735,0.21423676472341693,-0.03670952647528378,-0.6013386816723604,-0.09944609927495901,-0.8522849728710612,-0.25628753127414694,-0.47124893548948477,0.08876361912406652,-0.18893435789094642,-0.6280903674886729,-1.4169141280681379,-0.12619778509127125,-1.3855458416683004,-0.8522849728710612,0.05739533272422893,-0.7221952266881856,-0.4398806490896473,-1.8874384240657023,-0.3503923904736597,0.12474850610742949,-1.2600726960689501,-0.6594586538885103,-0.03209292589175852,-0.3503923904736597,-1.2287044096691127,-0.8836532592708989,-0.7268118272717107,-1.1345995504695996,-1.9501749968653772,-1.511018987267651,-0.40851236268980967,0.43381476952228004,-0.4398806490896473,-1.1299829498860743,-1.1345995504695996,-0.9777581184704115,-0.5386021088726853,0.27697333752309217,-1.1973361232692752,-1.1345995504695996,-1.3541775552684627,-0.5699703952725229,-0.3144075034902969,-0.3771440762899721,-1.5377706730839629,-1.1973361232692752,-0.9731415178868862,-0.9463898320705741,-0.53398550828916,-1.5737555600673259,0.4697996565056428,-0.6013386816723604,-0.09482949869143369,-0.5653537946889976,0.08876361912406652,-1.5423872736674884,-0.9104049450872111,-0.5072338224728477,-0.6280903674886729,-1.0045098042867238,-0.3503923904736597,-0.3144075034902969,1.2853591161904503,-0.3503923904736597,-1.1973361232692752,0.43843137010580546,4.543796330220513,4.736622649203063,-0.28765581767398446,2.01144630397024,-0.9104049450872111,-1.3855458416683004,-0.7581801136715485,-1.5423872736674884,-1.1973361232692752,-0.25628753127414694,-0.7895484000713859,-0.6640752544720356,0.09338021970759192,-0.38176067687349746,0.12474850610742949,-0.5653537946889976,-1.1973361232692752,-0.8163000858876982,-0.6640752544720356,-1.0718629776699244,-0.6327069680721981,0.21885336530694216,-0.6280903674886729,-0.28765581767398446,-0.7581801136715485,-1.0718629776699244,-0.2249192448743093,0.03064364690791671,-0.44449724967317256,1.473568834589476,-0.0007246394919208942,-0.9777581184704115,-0.06346121229159611,-1.1345995504695996,-0.9463898320705741,0.6266410885048308,-0.2830392170904593,-0.18893435789094642,0.21885336530694216,0.12474850610742949,-1.0091264048702493,-0.8522849728710612,-1.0045098042867238,0.5279196287217929,-0.6013386816723604,-0.8163000858876982,-0.8522849728710612,0.15611679250726695,0.15150019192374173,-0.53398550828916,-1.0091264048702493,-1.3541775552684627,-0.53398550828916,-0.9417732314870487,-0.7268118272717107,-0.9731415178868862,-0.0053412400754462306,1.3794639753899633,-1.0091264048702493,-0.19355095847447176,-0.25628753127414694,0.15611679250726695,-0.8522849728710612,-0.28765581767398446,0.25022165170677985,-0.6327069680721981,-0.2830392170904593,-0.5026172218893223,-0.18893435789094642,-0.753563513088023,-0.9104049450872111,0.8102342063203314,-1.6318755322834761,-0.5072338224728477,-1.2287044096691127,-0.8836532592708989,0.5325362293053181,0.43843137010580546],\"xaxis\":\"x\",\"y\":[-0.9428191641847868,-1.3261930995575284,-1.0509502741617045,0.7349603401913135,-0.9034987605568124,1.049523569215085,0.7546205420052992,0.7447904410983063,1.0003730646801208,0.705470037470335,0.7447904410983063,0.9610526610521491,-1.159081384138627,0.843091450168235,0.9315623583311706,0.7447904410983063,0.9610526610521491,-0.9526492650917769,0.7841108447262777,0.8037710465402635,1.2854459909829137,1.0251740346928173,-0.9624793659987697,0.921732257424178,-1.1197609805106554,0.7644506429122921,1.0102031655871135,0.7841108447262777,0.8922419547031993,-0.7902268823811801,1.1773148810059924,-1.0607803750686982,0.8037710465402635,0.8627516519822207,1.0888439728430566,0.843091450168235,-0.8051977514868838,0.7644506429122921,-0.8936686596498195,1.2316061537396676,1.0055138328788318,-0.92784829507908,0.7695914111110032,1.0200332664941063,-1.3065328977435196,-1.1047901114049516,0.705470037470335,-0.8295472860091515,-0.9428191641847841,-1.3753436040924696,1.0644944383207888,-0.8983579923581012,0.8234312483542493,-0.7068967424169552,-1.2129212213818727,0.990542963773128,-1.1787415859526125,0.9413924592381636,0.8627516519822207,0.7644506429122921,1.2414362546466609,0.8580623192739388,-1.0064891023350229,-1.1689114850456197,0.7546205420052992,-1.1146202123119442,-1.0261493041490084,1.1379944773780208,-0.9769987996140441,-0.9231589623707984,1.0298633674010993,-1.1885716868596055,0.7742807438192848,-1.1295910814176484,-0.7509064787532086,-0.9034987605568124,-0.92784829507908,0.8384021174599533,-0.8885278914511088,-1.2129212213818727,-0.8786977905441158,0.7742807438192848,-1.0902706777896767,-1.222751322288866,0.8529215510752278,-1.0312900723477196,1.0691837710290708,-0.8295472860091515,-1.144110515032923,-0.7705666805671941,1.1431352455767316,1.1824556492047031,-0.854348256021848,-0.8740084578358339,1.0644944383207888,1.0350041355998103,-1.144110515032923,1.0939847410417676,0.843091450168235,-0.9769987996140441,1.054664337413796,-1.159081384138627,1.059353670122078,-1.1539406159399157,0.9413924592381636,-1.1295910814176484,-0.9821395678127554,-1.0163192032420156,0.7153001383773279,1.0986740737500493,-0.4651288916072625,-0.9573385978000585,0.8922419547031993,0.8777225210879247,1.4485730345366632,1.1234750437627457,0.8580623192739388,0.7597613102040104,0.62213989750611,-1.075299808683973,0.9760235301578533,-1.1885716868596055,0.8627516519822207,1.108504174657042,1.1038148419487606,-0.9671686987070514,-0.9671686987070514,1.300416860088618,-0.9769987996140441,-0.8393773869161444,0.7401011083900247,-0.8786977905441158,-1.159081384138627,1.3200770619026037,-0.99665900142803,-1.0261493041490084,0.9760235301578533,1.0448342365068033,1.2814613191177848,-0.15056566258349113,0.8234312483542493,-1.1984017877665984,-1.1099308796036627,0.8332613492612421,-1.2030911204748802,1.2217760528326747,-0.9428191641847841,-0.9475084968930656,-1.1394211823246412,-1.070610475975691,-0.8983579923581012,-1.1047901114049516,-0.1407355616764982,0.7742807438192848,-1.0312900723477196,0.9512225601451563,0.8627516519822207,1.1234750437627457,-1.222751322288866,0.843091450168235,-0.8590375887301303,0.8529215510752278,0.8332613492612421,0.8529215510752278,0.9020720556101921,1.0200332664941063,0.8922419547031993,-0.7509064787532086,-0.9376783959860726,-0.22920646983943394,0.9315623583311706,-1.2620717259168373,0.7597613102040104,-0.9573385978000585,-0.26852687346740545,0.8332613492612421,-0.35699778163034135,-0.514279396142227,-1.0312900723477196,-0.9769987996140441,1.0003730646801208,0.9268730256228891,-0.9919696687197482,0.7153001383773279,0.7742807438192848,-1.0458095059629944,-1.286872695929534,-1.1787415859526125,0.8037710465402635,0.705470037470335,-0.8688676896371228,-1.0851299095909657,-0.8346880542078626,0.9268730256228891,-1.1197609805106554,1.398717869158546,-1.0116298705337339,0.8136011474472565,0.6858098356563491,-1.1295910814176484,-1.1099308796036627,0.6811205029480673,0.970882761959142,-0.8197171851021585,-0.8641783569288413,0.9512225601451563,1.0003730646801208,1.0298633674010993,-0.2586967725604126,-1.1244503132189372,-0.99665900142803,-1.1394211823246412,1.635344951769528,-1.1787415859526125,0.7939409456332708,0.7742807438192848,-0.780396781474187,-0.9231589623707984,0.9119021565171849,0.9020720556101921,0.990542963773128,0.7841108447262777,-1.0116298705337339,0.8136011474472565,-0.9376783959860726,-0.8641783569288413,-1.1787415859526125,0.7939409456332708,0.921732257424178,-0.9821395678127554,0.6661496338423634,1.5861944472345635,0.843091450168235,0.8187419156459674,-0.27835697437439844,1.763136263560435,0.7153001383773279,1.0644944383207888,-1.0949600104979587,1.2264653855409566,-0.3471676807233485,1.753306162653442,0.8529215510752278,-1.2377221913945697,1.049523569215085,0.7251302392843205,0.8136011474472565,0.7841108447262777,0.7742807438192848,-1.1689114850456197,-1.4979941476846659,-1.2770425950225412,1.1824556492047031,0.8384021174599533,0.7447904410983063,-0.7757074487659052,0.8824118537962063,-0.7953676505798911,-1.218061989580584,0.8037710465402635,-1.1394211823246412,0.9119021565171849,-1.1001007786966697,0.990542963773128,-1.227892090487577,-1.227892090487577,1.0102031655871135,1.290586759181625,1.8221168690023926,-0.8641783569288413,-1.3851737049994628,0.7939409456332708,0.8136011474472565,0.7349603401913134,0.8627516519822207,1.0691837710290708,0.9119021565171849,0.7251302392843205,0.843091450168235,1.0102031655871135,-1.218061989580584,1.1183342755640353,0.8529215510752278,-0.9133288614638053,0.921732257424178,-0.9133288614638053,-0.31767737800236984,-0.8983579923581012,-0.9919696687197482,-1.0017997696267409,0.9610526610521491,-1.13428041412593,0.7742807438192848,1.2657857891689281,-1.159081384138627,-1.1197609805106554,0.6563195329353706,0.7841108447262777,0.9020720556101921,1.2657857891689281,-1.0411201732547124,0.8824118537962063,1.3149362937038922,1.1674847800989994,-1.1197609805106554,0.7841108447262777,0.8627516519822207,0.970882761959142,1.2854459909829137,1.2166352846339639,0.7251302392843205,0.8824118537962063,0.843091450168235,0.7939409456332708,1.108504174657042,1.2264653855409566,-1.1197609805106554,-1.1689114850456197,0.970882761959142,1.0691837710290708,0.8529215510752278,-1.1394211823246412,0.7251302392843205,0.705470037470335,1.324766394610885,-1.159081384138627,0.9315623583311706,1.3640867982388567,-1.2424115241028515,-1.0556396068699871,0.7499312092970176,-0.4356385888862841,0.921732257424178,0.7447904410983063,-0.9133288614638053,1.1674847800989994,-1.159081384138627,-0.9133288614638053,0.7644506429122921,1.0003730646801208,-1.1885716868596055,-0.8936686596498195,0.921732257424178,1.0200332664941063,-1.080440576882684,0.9413924592381636,-0.7855375496728982,0.7401011083900247,-1.227892090487577,-1.1099308796036627,0.8725817528892138,0.9956837319718388,-1.06546970777698,0.7447904410983063,-0.21937636893244114,-1.1001007786966697,-0.9329890632777912,1.1529653464837246,0.8332613492612421,1.0055138328788318,0.9020720556101921,-0.800056983288173,1.2512663555536534,-1.1984017877665984,1.0888439728430566,0.9315623583311706,0.8234312483542493,-0.35699778163034135,0.843091450168235,-1.1689114850456197,-0.9428191641847841,0.843091450168235,-1.0017997696267409,-1.0214599714407266,0.8627516519822207,0.970882761959142,0.8037710465402635,-1.1146202123119442,-1.0116298705337339,1.0200332664941063,-0.7363870451379337,1.039693468308092,0.8136011474472565,0.7349603401913134,0.6464894320283776,0.843091450168235,0.8332613492612421,-1.1295910814176484,-0.8936686596498195,1.0691837710290708,1.812286768095399,0.9512225601451563,0.6909506038550602,0.7939409456332708,-1.3261930995575055,-1.1001007786966697,0.7546205420052992,1.049523569215085,1.0102031655871135,-0.9769987996140441,-1.0509502741617054,0.9315623583311706,-1.0163192032420156,0.8725817528892138,0.6169991293073992,-1.2475522923015625,-0.8248579533008695,0.8922419547031993,-1.080440576882684,1.1478245782850138,-0.9919696687197482,0.6563195329353706,-1.1244503132189372,-0.445468689793277,-1.0949600104979587,-1.2377221913945697,0.8529215510752278,1.059353670122078,-0.27835697437439844,-1.4783339458706801,0.8922419547031993,0.7841108447262777,-1.0411201732547124,0.9315623583311706,0.9760235301578533,0.8824118537962063,0.8234312483542493,-1.0312900723477196,0.843091450168235,-1.0411201732547124,0.7939409456332708,-0.8936686596498195,-1.070610475975691,1.1183342755640353,-1.0607803750686982,0.7447904410983063,0.7939409456332708,-0.8346880542078626,-0.9231589623707984,1.0200332664941063,1.128164376471028,-1.0607803750686982,0.7546205420052992,0.7742807438192848,0.9563633283438676,-0.7214161760322299,-0.307847277095377,-0.7953676505798911,0.9760235301578533,-0.8098870841951656,0.8973827229019103,-0.8983579923581012,-0.2586967725604126,-1.1932610195678872,1.3299071628095962,0.6956399365633421,0.9512225601451563,-1.1001007786966697,-1.227892090487577,-1.218061989580584,-0.99665900142803,0.8824118537962063,-1.0214599714407266,0.8627516519822207,0.7251302392843205,-0.6675763387889839,1.2461255873549422,1.128164376471028,-1.2573823932085553,-0.9821395678127554,1.108504174657042,0.6956399365633421,1.128164376471028,0.7251302392843205,-0.26852687346740545,-1.0064891023350229,-1.2082318886735914,1.6844954563044916,0.8777225210879247,-0.800056983288173,1.059353670122078,-0.6329452678692941,0.9020720556101921,-0.986828900521037,0.7153001383773279,-1.1099308796036627,1.0298633674010993,-1.1787415859526125,0.7546205420052992,1.0298633674010993,0.843091450168235,-1.1001007786966697,-1.015614542398863,-1.1736008177539017,0.921732257424178,-1.1394211823246412,1.1478245782850138,1.0790138719360638,0.705470037470335,-1.1295910814176484,0.7349603401913134,-1.070610475975691,0.7349603401913134,-0.7214161760322299,0.7153001383773279,0.7939409456332708,0.9512225601451563,0.921732257424178,1.3299071628095962,0.7939409456332708,1.1478245782850138,-1.0214599714407266,0.9315623583311706,0.7742807438192848,-1.070610475975691,-0.8641783569288413,-0.9526492650917769,0.9610526610521491,-1.1197609805106554,-0.8051977514868838,1.324766394610885,0.9020720556101921,0.7841108447262777,-1.0312900723477196,-0.588935531533041,-0.9919696687197482,-1.1197609805106554,-0.9526492650917769,-1.2475522923015625,0.843091450168235,-1.1689114850456197,0.5186981202374705,0.8234312483542493,-0.9475084968930656,1.0200332664941063,-0.849207487823137,-0.9821395678127554,1.0003730646801208,0.7939409456332708,-1.4441543104414196,-0.8445181551148551,-1.4441543104414196,0.9610526610521491,-1.2770425950225412,0.7892516129249889,0.7204409065760389,1.074324539227782,-1.0607803750686982,0.7349603401913134,0.921732257424178,1.1183342755640353,-1.0163192032420156,-1.218061989580584,-0.4552987907002701,-0.47495899251425566,-0.8885278914511088,0.7939409456332708,-1.0902706777896767,0.8529215510752278,0.9020720556101921,-1.0163192032420156,1.0298633674010993,-1.0902706777896767,0.8725817528892138,1.108504174657042,0.9512225601451563,-1.1099308796036627,-1.0607803750686982,0.9020720556101921,0.9119021565171849,-0.8051977514868838,1.0888439728430566,0.7742807438192848,1.5763643463275705,0.9413924592381636,-1.0556396068699871,0.7546205420052992,0.907212823808903,1.1183342755640353,0.8234312483542493,-1.1787415859526125,0.7939409456332708,0.7153001383773279,0.7546205420052992,1.039693468308092,-1.1197609805106554,1.2068051837269709,-0.8983579923581012,-0.7462171460449265,1.039693468308092,-0.514279396142227,-1.3556834022784843,0.8875526219949176,0.7546205420052992,1.0986740737500493,1.059353670122078,1.0003730646801208,-0.9329890632777912,1.3640867982388567,-1.1001007786966697,1.1183342755640353,0.7447904410983063,0.8136011474472565,0.7939409456332708,-1.227892090487577,1.039693468308092,-1.2475522923015625,1.0102031655871135,0.705470037470335,0.4990379184234848,1.0298633674010993,0.7644506429122921,-1.232581423195859,0.9465332274368746,-0.8936686596498195,-1.1295910814176484,-1.0607803750686982,-0.9821395678127554,-0.9034987605568124,0.5776787256794277,1.0298633674010993,1.0102031655871135,-0.6919258733112514,-1.1787415859526125,0.9661934292508604,-1.5078242485916586,0.8234312483542493,-0.7607365796602014,-0.7509064787532086,1.0003730646801208,-1.4048339068134486,-1.1001007786966697,-1.0902706777896767,-0.9919696687197482,0.8529215510752278,1.0298633674010993,0.9807128628661349,0.705470037470335,0.5186981202374705,1.0200332664941063,1.1478245782850138,1.0298633674010993,0.7251302392843205,0.9807128628661349,0.9512225601451563,-0.7068967424169552,-0.9723094669057626,0.9020720556101921,-1.2475522923015625,-0.8936686596498195,1.1136449428557533,0.8384021174599533,0.7939409456332708,-1.1001007786966697,-1.4638145122554056,0.8136011474472565,-1.1885716868596055,-1.0509502741617054,-1.5078242485916586,-0.8885278914511088,0.8136011474472565,-0.701755974218244,0.5336689893431744,-0.5241094970492197,0.970882761959142,-1.3163629986505125,-0.8248579533008695,1.1379944773780208,1.1478245782850138,1.039693468308092,1.0644944383207888,-1.1736008177539017,0.8627516519822207,-0.7607365796602014,-0.9376783959860726,-1.080440576882684,0.8037710465402635,-1.1001007786966697,0.8725817528892138,1.5861944472345635,0.7939409456332708,0.8136011474472565,1.1824556492047031,1.2657857891689281,-1.0017997696267409,-1.0411201732547124,-0.6380860360680048,-0.6380860360680048,1.2166352846339639,-0.9671686987070514,0.6516302002270888,0.9119021565171849,0.990542963773128,-1.1099308796036627,-0.7560472469519198,-0.99665900142803,0.8580623192739388,0.7841108447262777,-0.7705666805671941,1.039693468308092,-1.2672124941155485,0.8627516519822207,-1.2475522923015625,0.7204409065760389,-1.222751322288866,1.3739168991458495,-1.2475522923015625,0.7251302392843205,0.8824118537962063,-0.8346880542078626,-0.7167268433239481,-1.0312900723477196,-0.854348256021848,0.7546205420052992,0.921732257424178,0.9858536310648461,-1.1001007786966697,-1.1244503132189372,0.8973827229019103,0.8234312483542493,1.0102031655871135,-0.9723094669057626,-1.1787415859526125,-1.2082318886735914,-1.0902706777896767,-1.070610475975691,-1.1197609805106554,1.1379944773780208,-1.070610475975691,-1.1099308796036627,-0.9624793659987697,-0.8346880542078626,-1.1001007786966697,-1.1099308796036627,0.7990817138319819,1.0055138328788318,1.753306162653442,0.7939409456332708,-0.9329890632777912,-0.4061482861653056,-0.42580848797929133,-0.99665900142803,-0.8393773869161444,-0.7560472469519198,-1.3163629986505125,1.763136263560435,-1.0458095059629944,-1.2573823932085553,-1.1689114850456197,0.8824118537962063,1.0003730646801208,0.8725817528892138,1.0102031655871135,-1.1099308796036627,1.1379944773780208,-0.6329452678692941,0.921732257424178,-0.9919696687197482,-1.080440576882684,1.0251740346928173,-1.0017997696267409,0.9315623583311706,0.8725817528892138,-1.080440576882684,0.9119021565171849,-1.1047901114049516,0.8332613492612421,-1.159081384138627,0.7742807438192848,0.7841108447262777,-0.8641783569288413,0.7546205420052992,-0.9034987605568124,-0.8740084578358339,0.7644506429122921,1.039693468308092,0.843091450168235,-1.0116298705337339,0.9760235301578533,-0.5535997997701985,0.9858536310648461,-1.0607803750686982,1.1478245782850138,-1.0312900723477196,-0.9671686987070514,-0.9180181941720872,-1.222751322288866,-1.1197609805106554,0.8037710465402635,-1.070610475975691,0.8627516519822207,-1.1001007786966697,-1.218061989580584,0.8922419547031993,0.843091450168235,0.7153001383773279,-0.8983579923581012,0.907212823808903,0.7447904410983063,-1.1834309186608944,-0.27835697437439844,-1.0064891023350229,0.7251302392843205,1.059353670122078,1.2217760528326747,-1.0312900723477196,-1.0163192032420156,-1.159081384138627,-1.1001007786966697,-1.144110515032923,-1.080440576882684,-0.7265569442309411,0.8627516519822207,-0.8838385587428267,-0.8740084578358339,-0.8838385587428267,0.970882761959142,0.843091450168235,-0.9034987605568124,1.1674847800989994,0.8529215510752278,-1.1001007786966697,-1.2672124941155485,-0.8197171851021585,0.8234312483542493,1.2316061537396676,0.917042924715896,-1.0411201732547124,0.8580623192739388,0.9610526610521491,-1.227892090487577,-1.2377221913945697,-1.1099308796036627,-1.0017997696267409,-0.9573385978000585,0.9268730256228891,0.843091450168235,1.039693468308092,0.9315623583311706,-0.9034987605568124,0.7644506429122921,-0.9624793659987697,-1.0607803750686982,0.8136011474472565,1.3345964955178777,-0.7757074487659052,-1.1689114850456197,0.5481884229584493,1.0350041355998103,-1.3505426340797728,1.6550051535835137,-1.1197609805106554,-0.9919696687197482,-1.2377221913945697,0.5776787256794277,0.7153001383773279,-1.159081384138627,-0.9133288614638053,0.7349603401913134,-1.286872695929534,-1.1295910814176484,-1.0017997696267409,-1.2573823932085553,0.6169991293073992,-1.0017997696267409,1.0644944383207888,-1.0458095059629944,0.5383583220514562,-1.1787415859526125,-0.9180181941720872,-1.0359794050560014,0.9465332274368746,0.7153001383773279,-1.3851737049994628,0.6661496338423634,0.8234312483542493,-0.8445181551148551,-1.1689114850456197,1.0200332664941063,-1.1099308796036627,-1.1146202123119442,1.039693468308092,1.2512663555536534,1.635344951769528,-0.9231589623707984,1.0644944383207888,-1.2672124941155485,-1.1984017877665984,-1.2377221913945697,1.1576546791920066,0.921732257424178,-0.42580848797929133,1.1529653464837246,1.2068051837269709,0.9512225601451563,0.7939409456332708,-1.1885716868596055,-1.080440576882684,1.753306162653442,0.9020720556101921,1.0350041355998103,-1.0607803750686982,1.4584031354436562,-1.1394211823246412,-1.4979941476846659,-0.8248579533008695,0.7251302392843205,0.6811205029480673,0.970882761959142,-1.1197609805106554,1.0888439728430566,0.8824118537962063,0.9956837319718388,0.5678486247724347,-1.1787415859526125,-0.8641783569288413,1.2610964564606464,-0.9034987605568124,0.9020720556101921,0.9512225601451563,-0.8885278914511088,1.0200332664941063,-1.070610475975691,-1.0214599714407266,1.324766394610885,-1.218061989580584,-1.0017997696267409,0.9413924592381636,-1.2475522923015625,-1.2129212213818727,-0.849207487823137,-0.7115860751252371,0.9367031265298816,-0.307847277095377,-1.0359794050560014,-0.986828900521037,-1.0064891023350229,0.9807128628661349,0.6169991293073992,0.5383583220514562,0.7742807438192848,1.1136449428557533,-1.281731927730823,1.1922857501116961,-0.8295472860091515,0.8136011474472565,1.2362954864479492,-0.8641783569288413,-0.9475084968930656,0.8627516519822207,-0.8590375887301303,1.1773148810059924,-1.2573823932085553,-0.99665900142803,-0.9769987996140441,-0.4651288916072625,0.8089118147389746,0.8332613492612421,-1.0214599714407266,1.1674847800989994,0.8922419547031993,-0.9428191641847841,0.7841108447262777,0.5776787256794277,-0.32750747890936277,1.1627954473907174,1.3797623281877134,-0.986828900521037,-0.986828900521037,1.0691837710290708,-0.9573385978000585,0.6614603011340817,-1.080440576882684,0.6169991293073992,-1.1001007786966697,-0.8641783569288413,-1.0509502741617054,1.2854459909829137,-0.8248579533008695,1.108504174657042,0.9610526610521491,0.7251302392843205,0.9610526610521491,-1.070610475975691,-1.2573823932085553,0.705470037470335,1.0153439337858248,0.8725817528892138,-1.0116298705337339,-1.2377221913945697,0.7644506429122921,0.7447904410983063,1.7041556581184785,-1.1394211823246412,-0.2881870752813912,-1.1787415859526125,-0.849207487823137,-0.8641783569288413,-0.22920646983943394,-1.2770425950225412,-1.2475522923015625,-0.9428191641847841,-1.286872695929534,-1.0116298705337339,1.049523569215085,-0.9671686987070514,-0.8393773869161444,-1.1146202123119442,0.9268730256228891,-0.9821395678127554,0.7794215120179959,-0.701755974218244,-0.1557064307822021,-0.9723094669057626,0.9610526610521491,1.556704144513585,-1.0261493041490084,0.7401011083900247,-1.0851299095909657,1.7336459608394565,-1.1047901114049516,-1.0556396068699871,1.0644944383207888,-1.0851299095909657,-0.4356385888862841,-0.6912212124680985,-1.0902706777896767,-1.1787415859526125,-1.0411201732547124,-0.8936686596498195,1.128164376471028,1.2166352846339639,0.9610526610521491,-0.9919696687197482,-0.9133288614638053,-0.9133288614638053,0.843091450168235,0.8627516519822207,0.5383583220514562,0.7546205420052992,0.8136011474472565,-0.9428191641847841,-1.2672124941155485,0.7841108447262777,-1.0902706777896767,-0.9329890632777912,1.0350041355998103,-0.6125804052121557,0.8037710465402635,1.054664337413796,0.7106108056690459,-0.9573385978000585,-1.227892090487577,0.8187419156459674,-0.9919696687197482,-1.1834309186608944,-1.13428041412593,0.843091450168235,-1.1736008177539017,-0.4651288916072625,0.7251302392843205,-1.0359794050560014,-1.159081384138627,-0.9919696687197482,-0.2095462680254483,1.2512663555536534,0.7447904410983063,-1.2475522923015625,0.8627516519822207,-1.0607803750686982,0.921732257424178,0.6661496338423634,0.8725817528892138,-1.149251283231634,-0.8740084578358339,1.1183342755640353,0.8922419547031993,-1.2377221913945697,-0.9821395678127554,-1.2620717259168373,-1.2030911204748802,-0.2586967725604126,0.9315623583311706,-0.8346880542078626,1.0102031655871135,0.843091450168235,-1.1099308796036627,-0.9821395678127554,0.9807128628661349,-1.1001007786966697,-1.0214599714407266,1.059353670122078,-1.070610475975691,-1.227892090487577,-1.080440576882684,0.8777225210879247,-0.8786977905441158,0.7401011083900247,-0.7560472469519198,0.6858098356563491,0.8922419547031993,-1.070610475975691,-1.1197609805106554,0.7841108447262777,0.8875526219949176,0.9807128628661349,0.7841108447262777,0.921732257424178,0.7644506429122921,-1.0607803750686982,-0.9376783959860726,-1.0607803750686982,-1.144110515032923,-1.0261493041490084,-1.1689114850456197,1.0790138719360638,-1.0214599714407266,0.9512225601451563,0.7644506429122921,0.7401011083900247,0.907212823808903,-0.17022586439747678,-1.3753436040924696,0.9020720556101921,1.1871449819129851,-1.1885716868596055,-1.1001007786966697,-0.9723094669057626,-0.7363870451379337,1.1773148810059924,1.0200332664941063,-1.159081384138627,-1.0163192032420156,-1.2620717259168373,0.8187419156459674,1.0841546401347748,-1.0214599714407266,-1.0902706777896767,1.1333051446697389,0.7939409456332708,1.0298633674010993,-1.06546970777698,0.7939409456332708,-1.1197609805106554,-0.8393773869161444,1.1038148419487606,-0.9034987605568124,-0.8590375887301303,-1.0359794050560014,-1.070610475975691,-1.1295910814176484,-0.15056566258349113,-1.218061989580584,-1.1394211823246412,0.9119021565171849,0.9610526610521491,-1.1689114850456197,0.9512225601451563,0.7742807438192848,0.8529215510752278,-1.0509502741617054,-0.9671686987070514,-0.9624793659987697,-0.9133288614638053,0.8922419547031993,0.9413924592381636,-1.0017997696267409,-1.286872695929534,-1.1984017877665984,0.8529215510752278,-0.9919696687197482,-0.8786977905441158,-0.99665900142803,-0.9376783959860726,1.0350041355998103,0.921732257424178,-0.8688676896371228,1.1922857501116961,-0.7855375496728982,1.1333051446697389,0.5631592920641532,-1.2770425950225412,0.8136011474472565,-1.2573823932085553,-1.149251283231634,-0.9428191641847841,-1.1001007786966697,0.705470037470335,0.921732257424178,1.039693468308092,1.1824556492047031,-1.1099308796036627,0.8136011474472565,-0.9769987996140441,-0.2881870752813912,0.9807128628661349,-1.4638145122554056,1.1234750437627457,0.8973827229019103,1.2559556882619352,0.9661934292508604,0.7597613102040104,-0.307847277095377,1.0644944383207888,-0.5987656324400336,0.8725817528892138,1.1431352455767316,-1.0017997696267409,-0.8051977514868838,-1.286872695929534,-1.3065328977435196,0.9020720556101921,-1.2082318886735914,0.7841108447262777,-1.0607803750686982,0.8824118537962063,-1.159081384138627,-1.1099308796036627,-1.2573823932085553,0.7644506429122921,-0.7167268433239481,-0.9671686987070514,0.7939409456332708,1.0888439728430566,1.6746653553974997,1.054664337413796,-1.1787415859526125,-0.8936686596498195,1.2166352846339639,-1.070610475975691,-1.159081384138627,0.8627516519822207,0.8824118537962063,-1.0902706777896767,0.705470037470335,1.0350041355998103,1.0003730646801208,0.8725817528892138,0.8234312483542493,1.0153439337858248,0.6614603011340817,-0.8786977905441158,1.556704144513585,0.7644506429122921,0.9020720556101921,0.8922419547031993,1.2461255873549422,1.6550051535835137,-1.1932610195678872,-0.7363870451379337,-0.8936686596498195,1.039693468308092,-1.2475522923015625,-1.1394211823246412,0.8973827229019103,0.843091450168235,-1.0902706777896767,1.049523569215085,-1.0312900723477196,-0.8641783569288413,-1.0902706777896767,0.9119021565171849,0.9020720556101921,0.970882761959142,0.9413924592381636,-0.9919696687197482,-0.8051977514868838,-1.0359794050560014,-0.9821395678127554,-0.31767737800236984,1.4485730345366632,1.3102469609956104,-0.9475084968930656,1.0153439337858248,-0.6722656714972655,-0.8936686596498195,-0.9034987605568124,-0.4356385888862841,-0.7214161760322299,-0.3864880843513198,1.2657857891689281,-0.9081880932650943,-0.7115860751252371,1.1333051446697389,1.5861944472345635,-1.0312900723477196,1.0986740737500493,-1.0017997696267409,0.921732257424178,1.6451750526765205,0.6956399365633421,0.9563633283438676,0.7302710074830315,-1.2573823932085553,0.7447904410983063,0.9807128628661349,-0.8936686596498195,-0.3471676807233485,0.7841108447262777,-0.9671686987070514,-0.7607365796602014,-1.149251283231634,1.0055138328788318,0.7742807438192848,0.8136011474472565,1.1674847800989994,0.8529215510752278,0.8037710465402635,-1.0902706777896767,0.8922419547031993,1.7041556581184785,0.843091450168235,-0.9034987605568124,0.6563195329353706,0.5383583220514562,-0.9081880932650943,0.8529215510752278,1.1824556492047031,-0.9526492650917769,-1.1244503132189372,1.5763643463275705,-1.0359794050560014,0.8875526219949176,1.2512663555536534,0.7007807047620529,0.970882761959142,-1.06546970777698,-1.0458095059629944,0.7644506429122921,-1.0411201732547124,-1.1787415859526125,-1.1394211823246412,0.9610526610521491,-0.9329890632777912,-1.070610475975691,1.059353670122078,0.7546205420052992,-0.7560472469519198,-1.2770425950225412,0.7742807438192848,0.7546205420052992,-1.1787415859526125,-1.1984017877665984,0.8482322183669461,1.0200332664941063,0.8234312483542493,0.6956399365633421,0.8037710465402635,0.9661934292508604,0.921732257424178,0.7892516129249889,0.9413924592381636,0.7644506429122921,-1.2475522923015625,0.7841108447262777,-1.4539844113484124,-1.0902706777896767,-1.2082318886735914,-0.9769987996140441,-0.92784829507908,-0.8838385587428267,-1.1197609805106554,-1.159081384138627,-1.080440576882684,-0.849207487823137,1.6156847499555425,0.8136011474472565,0.7990817138319819,-0.2095462680254483,1.5272138417926058,-0.8197171851021585,-1.0261493041490084,-0.8885278914511088,-0.8393773869161444,-0.19971616711845533,-1.2030911204748802,-0.8197171851021585,1.3397372637165894,-0.6231151669623013,-0.2586967725604126,-1.222751322288866,1.763136263560435,-0.9133288614638053,0.9512225601451563,-1.0017997696267409,-1.1001007786966697,-0.8740084578358339,1.1969750828199779,1.059353670122078,-1.3065328977435196,-0.9231589623707984,-1.080440576882684,-1.1984017877665984,-0.9919696687197482,0.8627516519822207,0.9315623583311706,0.8529215510752278,-1.0017997696267409,1.2461255873549422,-1.1099308796036627,-0.8346880542078626,-1.1099308796036627,1.108504174657042,-0.9428191641847841,-1.1394211823246412,1.1871449819129851,0.7447904410983063,-1.1885716868596055,-1.1787415859526125,-0.854348256021848,-1.0607803750686982,-0.4847890934212483,0.7546205420052992,-1.0064891023350229,1.0055138328788318,-1.1984017877665984,0.8285720165529604,-1.0312900723477196,0.917042924715896,-1.080440576882684,0.8384021174599533,1.3895924290947066,0.9956837319718388,0.7546205420052992,-0.8983579923581012,-1.0017997696267409,1.2068051837269709,-1.13428041412593,-0.9231589623707984,0.705470037470335,0.9020720556101921,0.7546205420052992,0.8922419547031993,1.1773148810059924,1.108504174657042,-1.2377221913945697,-1.0902706777896767,1.1379944773780208,0.8529215510752278,0.8725817528892138,1.0102031655871135,0.8824118537962063,0.843091450168235,-1.2573823932085553,-0.9526492650917769,-1.2377221913945697,0.8627516519822207,-1.0116298705337339,1.432897504587807,0.970882761959142,-0.8445181551148551,0.8922419547031993,0.9119021565171849,1.1773148810059924,-1.227892090487577,0.6071690284004064,-0.8150278523938765,-1.1197609805106554,-1.0214599714407266,0.970882761959142,0.8037710465402635,-0.8590375887301303,0.9315623583311706,0.9956837319718388,-0.8936686596498195,-0.9821395678127554,-1.075299808683973,0.9315623583311706,1.7729663644674283,-0.9919696687197482,-0.8150278523938765,0.7939409456332708,1.2264653855409566,-0.9133288614638053,-1.0509502741617054,-1.0607803750686982,-1.1295910814176484,0.7153001383773279,0.9315623583311706,0.9413924592381636,-1.0607803750686982,0.705470037470335,-1.149251283231634,0.7302710074830315,0.7546205420052992,0.7499312092970176,-0.307847277095377,-0.32750747890936277,1.1136449428557533,0.6661496338423634,0.8627516519822207,1.0790138719360638,-1.0851299095909657,-1.1244503132189372,1.7139857590254708,-1.0312900723477196,1.049523569215085,0.8234312483542493,-1.1001007786966697,0.970882761959142,0.970882761959142,1.039693468308092,0.6956399365633421,1.275615890075921,-0.9624793659987697,-1.1885716868596055,-1.070610475975691,0.990542963773128,0.9020720556101921,-1.3851737049994628,-1.0607803750686982,0.9807128628661349,-0.854348256021848,1.059353670122078,-1.2377221913945697,-0.22920646983943394,0.9610526610521491,0.9610526610521491,0.8580623192739388,0.9268730256228891,-1.0851299095909657,0.6858098356563491,-1.2573823932085553,-1.2770425950225412,-1.218061989580584,-1.075299808683973,-1.1295910814176484,1.049523569215085,-1.1001007786966697,1.1576546791920066,-1.070610475975691,-0.9475084968930656,0.8725817528892138,-1.1099308796036627,-1.1885716868596055,-0.18005596530446957,-0.31767737800236984,-1.2522416250098447,0.7742807438192848,-0.849207487823137,-0.9180181941720872,-0.9624793659987697,-0.5535997997701985,-0.4061482861653056,1.556704144513585,-0.7705666805671941,0.62213989750611,0.8824118537962063,-0.92784829507908,1.054664337413796,1.1627954473907174,-0.9081880932650943,0.917042924715896,0.9956837319718388,1.290586759181625,-0.26852687346740545,1.7729663644674283,0.917042924715896,1.3895924290947066,1.1922857501116961,-0.41597838707229823,0.921732257424178,0.7546205420052992,-1.1295910814176484,0.917042924715896,-0.8838385587428267,0.7546205420052992,0.9413924592381636,0.8529215510752278,-1.1197609805106554,1.108504174657042,-1.2377221913945697,-1.0411201732547124,-0.8051977514868838,0.9413924592381636,-0.9821395678127554,0.8037710465402635,0.7841108447262777,-1.0411201732547124,-1.2082318886735914,0.9315623583311706,0.9512225601451563,-1.0017997696267409,0.9119021565171849,1.0200332664941063,-1.13428041412593,-1.1787415859526125,-0.2095462680254483,-0.3373375798163555,1.5272138417926058,0.7742807438192848,-0.6479161369749983,-1.1539406159399157,-0.849207487823137,0.907212823808903,0.9661934292508604,-1.0556396068699871,1.0448342365068033,1.0350041355998103,0.9268730256228891,-1.2475522923015625,1.6550051535835137,0.8725817528892138,-1.2573823932085553,-0.42580848797929133,-0.8983579923581012,0.8332613492612421,-1.1984017877665984,1.049523569215085,0.8627516519822207,1.039693468308092,-1.1689114850456197,-0.854348256021848,-1.1295910814176484,0.8725817528892138,-1.0017997696267409,0.9119021565171849,0.8529215510752278,0.8529215510752278,-0.9034987605568124,-0.29801717618838397,1.059353670122078,0.7695914111110032,0.7841108447262777,1.763136263560435,-1.0458095059629944,-1.1244503132189372,-1.080440576882684,0.9760235301578533,-0.36682788253733417,1.1333051446697389,1.1136449428557533,-0.849207487823137,-0.99665900142803,1.625514850862535,-0.7509064787532086,-0.3471676807233485,0.8529215510752278,1.1183342755640353,-1.4441543104414196,0.8973827229019103,1.664835254490506,0.9020720556101921,-0.9919696687197482,-1.159081384138627,1.108504174657042,1.2854459909829137,-1.0607803750686982,-1.080440576882684,-1.0312900723477196,-1.2672124941155485,-1.1001007786966697,-1.218061989580584,-0.9919696687197482,0.9315623583311706,0.9807128628661349,0.9119021565171849,0.970882761959142,-1.2082318886735914,1.059353670122078,-0.8740084578358339,0.9315623583311706,0.7742807438192848,0.7841108447262777,0.9858536310648461,-1.075299808683973,0.8136011474472565,1.3397372637165894,-1.0064891023350229,-1.144110515032923,-0.6872365406029695,-0.8838385587428267,1.1333051446697389,-1.1047901114049516,-1.1787415859526125,-0.41597838707229823,0.7499312092970176,-1.0261493041490084,-1.1295910814176484,0.9807128628661349,1.1234750437627457,-0.32750747890936277,1.054664337413796,0.8824118537962063,-0.9231589623707984,0.9119021565171849,1.1576546791920066,-0.7855375496728982,-1.1295910814176484,-0.9821395678127554,-1.1197609805106554,0.6956399365633421,1.324766394610885,0.921732257424178,0.9020720556101921,-0.9624793659987697,1.0691837710290708,-1.149251283231634,1.1379944773780208,-1.149251283231634,-1.296702796836527,1.0102031655871135,-1.1394211823246412,-0.8641783569288413,-1.1394211823246412,0.9020720556101921,0.8973827229019103,-0.9081880932650943,-1.070610475975691,0.9020720556101921,0.6858098356563491,0.7644506429122921,-1.0851299095909657,-1.1197609805106554,-1.1787415859526125,-0.8197171851021585,0.9315623583311706,-0.504449295235234,0.8580623192739388,-1.0607803750686982,-1.075299808683973,-0.9428191641847841,0.8922419547031993,0.843091450168235,-0.849207487823137,0.9807128628661349,-0.986828900521037,1.6156847499555425,1.7238158599324633,1.5272138417926058,0.7841108447262777,-0.21937636893244114,-0.6282559351610122,1.3306118236527487,-0.9573385978000585,1.1333051446697389,1.0939847410417676,-0.7705666805671941,1.0003730646801208,-0.9475084968930656,0.8332613492612421,-1.1295910814176484,0.9807128628661349,0.7742807438192848,-1.218061989580584,0.843091450168235,1.1576546791920066,-1.1001007786966697,-1.2377221913945697,-0.8740084578358339,0.7251302392843205,1.1674847800989994,0.6563195329353706,1.0003730646801208,1.0691837710290708,1.1674847800989994,0.970882761959142,-1.2082318886735914,1.0003730646801208,0.6268292302143921,-1.0359794050560014,1.074324539227782,-0.9573385978000585,0.907212823808903,0.907212823808903,0.9413924592381636,-1.0312900723477196,-1.2030911204748802,-1.0017997696267409,0.9119021565171849,0.5088680193304778,0.7546205420052992,0.9315623583311706,-1.2082318886735914,0.8725817528892138,-1.3210523313587945,-1.286872695929534,0.6759797347493562,-0.9821395678127554,-1.070610475975691,0.9807128628661349,0.6268292302143921,0.8332613492612421,0.8037710465402635,-0.9769987996140441,-1.1197609805106554,0.9610526610521491,1.753306162653442,-1.0607803750686982,-0.7312462769392228,-1.0017997696267409,-1.070610475975691,0.6712904020410746,0.9119021565171849,1.054664337413796,-0.8885278914511088,1.0986740737500493,-0.986828900521037,-1.0411201732547124,-1.1984017877665984,0.8234312483542493,-0.9329890632777912,1.0003730646801208,0.9119021565171849,-1.0017997696267409,0.5186981202374705,-1.1394211823246412,0.8725817528892138,-0.7855375496728982,-1.2573823932085553,-0.9133288614638053,1.074324539227782,1.1773148810059924,-1.0411201732547124,0.8824118537962063,-1.080440576882684,1.049523569215085,0.8332613492612421,0.7742807438192848,0.5186981202374705,1.0102031655871135,1.1038148419487606,-0.7509064787532086,0.705470037470335,1.2461255873549422,-0.4847890934212483,-0.514279396142227,0.9858536310648461,-0.8983579923581012,0.7401011083900247,0.8037710465402635,-0.9329890632777912,-0.9329890632777912,-0.8786977905441158,-1.2082318886735914,-1.1197609805106554,-1.0312900723477196,-1.0902706777896767,0.9956837319718388,0.9610526610521491,0.7841108447262777,-1.1394211823246412,-0.2586967725604126,0.8627516519822207,0.7742807438192848,0.4990379184234848,-1.0116298705337339,-1.1394211823246412,-0.9919696687197482,0.8824118537962063,0.7644506429122921,0.8824118537962063,-0.7462171460449265,0.8332613492612421,-0.2586967725604126,1.0153439337858248,-1.1539406159399157,-0.31767737800236984,-1.218061989580584,-0.8393773869161444,1.1431352455767316,-1.0163192032420156,1.2657857891689281,-0.8983579923581012,1.300416860088618,-0.36682788253733417,-1.4048339068134486,1.0200332664941063,0.843091450168235,-1.0312900723477196,-0.9231589623707984,0.7447904410983063,0.8824118537962063,0.7644506429122921,-1.149251283231634,-0.9919696687197482,0.6759797347493562,0.7742807438192848,0.7841108447262777,-1.070610475975691,-1.0116298705337339,1.108504174657042,0.7644506429122921,-0.9133288614638053,1.0790138719360638,0.6858098356563491,-1.0411201732547124,-1.0902706777896767,0.8627516519822207,-1.1295910814176484,0.7447904410983063,-1.0312900723477196,-0.9821395678127554,0.6956399365633421,0.7742807438192848,0.9512225601451563,0.9020720556101921,-1.0411201732547124,0.843091450168235,0.8136011474472565,0.8234312483542493,0.7939409456332708,-1.2082318886735914,0.8332613492612421,-1.2573823932085553,-0.7560472469519198,0.9119021565171849,-0.6715610106541128,0.921732257424178,0.9315623583311706,0.7546205420052992,-0.8445181551148551,0.7644506429122921,0.7153001383773279,-1.4638145122554056,0.8922419547031993,1.1576546791920066,0.9119021565171849,-1.0214599714407266,-1.1295910814176484,-1.1984017877665984,-1.1295910814176484,-0.9526492650917769,0.9020720556101921,0.8136011474472565,0.9020720556101921,-1.4343242095344266,0.9413924592381636,-1.0949600104979587,0.8529215510752278,-1.2672124941155485,1.059353670122078,0.9315623583311706,0.8529215510752278,0.8529215510752278,1.0841546401347748,-0.9034987605568124,0.9119021565171849,-0.9329890632777912,0.7153001383773279,0.843091450168235,0.9413924592381636,-1.2770425950225412,-1.218061989580584,0.8037710465402635,-1.296702796836527,1.1478245782850138,0.7546205420052992,-1.0607803750686982,1.0790138719360638,-1.0607803750686982,-1.0163192032420156,0.7990817138319819,-0.35699778163034135,1.128164376471028,0.9119021565171849,-1.2082318886735914,1.3542566973318635,-1.365513503185477,0.8136011474472565,0.7939409456332708,1.0644944383207888,0.8529215510752278,0.8529215510752278,0.7939409456332708,0.7990817138319819,-1.1001007786966697,-1.0509502741617054,0.7302710074830315,-1.0214599714407266,-0.8838385587428267,1.0790138719360638,1.049523569215085,0.9610526610521491,0.8332613492612421,0.990542963773128,1.074324539227782,-0.9329890632777912,0.8187419156459674,1.1576546791920066,0.7841108447262777,-1.0949600104979587,-1.0116298705337339,1.074324539227782,0.9760235301578533,0.9807128628661349,-0.504449295235234,-0.8786977905441158,-0.5437696988632057,-0.6813911115611055,-1.0017997696267409,-0.9081880932650943,1.7041556581184785,0.9413924592381636,-0.7607365796602014,0.7644506429122921,-0.9034987605568124,-1.1001007786966697,0.8187419156459674,-1.070610475975691,-0.8936686596498195,0.9807128628661349,-1.1984017877665984,-1.149251283231634,0.8922419547031993,0.9367031265298816,-0.8885278914511088,-0.8051977514868838,-0.8248579533008695,-1.0261493041490084,1.2021158510186891,-0.5535997997701985,1.6746653553974997,0.8725817528892138,-0.5784007697828955,-1.2424115241028515,0.6563195329353706,-1.0851299095909657,-0.2586967725604126,-1.0851299095909657,0.8627516519822207,1.2264653855409566,-0.35699778163034135,-1.0064891023350229,-1.0261493041490084,0.7546205420052992,1.7729663644674283,1.074324539227782,-0.800056983288173,-0.5437696988632057,1.2217760528326747,-1.1197609805106554,0.7644506429122921,-1.149251283231634,-0.9329890632777912,1.128164376471028,-0.9723094669057626,1.0102031655871135,0.6858098356563491,-1.0214599714407266,0.8234312483542493,0.6956399365633421,-0.9624793659987697,-1.0312900723477196,0.9610526610521491,0.843091450168235,0.5088680193304778,-0.6675763387889839,0.7546205420052992,0.9020720556101921,-1.080440576882684,1.049523569215085,-0.9526492650917769,-0.9428191641847841,1.049523569215085,1.2362954864479492,-0.854348256021848,-0.9919696687197482,-1.0017997696267409,0.6268292302143921,0.9610526610521491,-0.849207487823137,0.843091450168235,1.5468740436065913,0.9563633283438676,0.7447904410983063,0.8824118537962063,-1.1244503132189372,-1.1539406159399157,-1.281731927730823,-0.6919258733112514,-0.5437696988632057,0.8973827229019103,0.7742807438192848,-0.31767737800236984,-1.144110515032923,0.8973827229019103,0.6909506038550602,-1.0509502741617054,0.9268730256228891,-1.2129212213818727,-1.149251283231634,-0.800056983288173,1.074324539227782,1.074324539227782,-0.780396781474187,1.1824556492047031,-1.080440576882684,0.8136011474472565,0.8922419547031993,-1.0312900723477196,0.8234312483542493,-1.286872695929534,0.8627516519822207,-1.1689114850456197,0.9807128628661349,0.843091450168235,1.0200332664941063,0.7644506429122921,-1.0607803750686982,0.9512225601451563,-0.7855375496728982,-1.218061989580584,-1.3458533013714915,0.907212823808903,0.990542963773128,-0.9329890632777912,1.054664337413796,-1.0509502741617054,-0.36682788253733417,1.0644944383207888,-0.800056983288173,0.6811205029480673,-0.92784829507908,1.7041556581184785,-0.8295472860091515,1.1431352455767316,-0.24886667165341983,0.8136011474472565,-0.36682788253733417,-1.1197609805106554,0.8136011474472565,0.970882761959142,0.7251302392843205,0.917042924715896,0.8037710465402635,-1.159081384138627,-1.424494108627434,-1.2770425950225412,1.4485730345366632,0.7990817138319819,-1.3112222304518018,-1.1146202123119442,0.7939409456332708,-1.0902706777896767,-0.6675763387889839,0.8725817528892138,0.8725817528892138,-1.0116298705337339,-1.1001007786966697,0.6858098356563491,-1.227892090487577,-1.159081384138627,-1.0064891023350229,0.8922419547031993,-1.080440576882684,-1.0312900723477196,-1.2770425950225412,0.8332613492612421,0.7251302392843205,-1.2082318886735914,-1.0312900723477196,1.812286768095399,-1.144110515032923,-1.2082318886735914,-1.1736008177539017,-1.144110515032923,-1.0556396068699871,0.9413924592381636,-1.159081384138627,-1.2770425950225412,1.049523569215085,-0.7658773478589125,0.9807128628661349,-1.1984017877665984,-1.1689114850456197,-0.9081880932650943,1.1627954473907174,-0.22920646983943394,-1.1099308796036627,-0.7214161760322299,1.0350041355998103,-0.9475084968930656,1.1038148419487606,1.1627954473907174,0.7251302392843205,-0.5437696988632057,-1.1736008177539017,0.8384021174599533,-0.701755974218244,0.8482322183669461,-1.0851299095909657,0.7302710074830315,-1.144110515032923,-0.7214161760322299,-1.0556396068699871,-0.3373375798163555,0.9956837319718388,1.0350041355998103,1.1379944773780208,-1.2620717259168373,1.0691837710290708,-1.06546970777698,-1.1984017877665984,0.9661934292508604,1.5173837408856132,-0.9428191641847841,0.705470037470335,0.8627516519822207,-1.2672124941155485,-1.1885716868596055,-1.0312900723477196,0.7939409456332708,-1.3261930995575055,0.8332613492612421,1.039693468308092,-0.9034987605568124,1.0691837710290708,-0.9231589623707984,-1.1689114850456197,-1.1787415859526125,-1.2377221913945697,-1.2672124941155485,0.8332613492612421,0.9413924592381636,-1.2377221913945697,0.6858098356563491,-1.4736446131623988,0.8234312483542493,-1.4048339068134486,-1.2475522923015625,-0.9329890632777912,-1.0902706777896767,-1.0607803750686982,0.9807128628661349,-0.9133288614638053,0.7841108447262777,0.9413924592381636,1.128164376471028,0.9119021565171849,1.0888439728430566,-1.1197609805106554,-1.080440576882684,0.8824118537962063,1.0691837710290708,0.6858098356563491,0.7546205420052992,-1.1001007786966697,0.921732257424178,-1.1984017877665984,0.8725817528892138,0.8627516519822207,-1.149251283231634,-1.1885716868596055,0.8922419547031993,1.059353670122078,0.705470037470335,1.0003730646801208,0.7447904410983063,-0.8445181551148551,0.7841108447262777,-1.1197609805106554,1.0888439728430566,0.8529215510752278,-1.227892090487577,0.9413924592381636,1.128164376471028,0.8234312483542493,0.8725817528892138,-1.0411201732547124,-0.9526492650917769,-1.4048339068134486,0.8234312483542493,-1.1885716868596055,-1.0116298705337339,-1.0214599714407266,-1.070610475975691,0.9119021565171849,0.8824118537962063,-1.1099308796036627,0.7742807438192848,0.4990379184234848,0.8627516519822207,0.7546205420052992,-0.9919696687197482,1.2657857891689281,-1.159081384138627,0.7644506429122921,1.039693468308092,0.6268292302143921,1.1871449819129851,0.8136011474472565,0.8922419547031993,0.8136011474472565,-1.2475522923015625,0.921732257424178,0.9512225601451563,-1.080440576882684,-1.1001007786966697,1.049523569215085,0.9610526610521491,0.8824118537962063,0.8529215510752278,0.9807128628661349,0.9610526610521491,0.8627516519822207,1.0003730646801208,1.128164376471028,0.7546205420052992,-1.1001007786966697,0.8136011474472565,0.843091450168235,-1.0312900723477196,1.049523569215085,0.970882761959142,0.843091450168235,1.0200332664941063,1.0200332664941063,0.7546205420052992,-1.0509502741617054,0.921732257424178,0.8529215510752278,0.7742807438192848,1.1576546791920066,0.7841108447262777,0.48920781751649206,0.8725817528892138,0.8529215510752278,0.8332613492612421,0.8725817528892138,0.8332613492612421,-1.2082318886735914,0.8824118537962063,1.0790138719360638,1.1379944773780208,0.8037710465402635,0.9512225601451563,0.8627516519822207,-1.1295910814176484,0.8529215510752278,-1.1197609805106554,0.9413924592381636,1.0102031655871135,0.7742807438192848,-1.1984017877665984,-1.1394211823246412,-0.6872365406029695,1.0888439728430566,-1.0607803750686982,-1.4638145122554056,-1.0017997696267409,-1.2475522923015625,-0.9526492650917769,0.7447904410983063,0.7153001383773279,1.0946894018849205,0.7644506429122921,0.8037710465402635,1.2657857891689281,0.990542963773128,0.8725817528892138,0.9807128628661349,-1.1197609805106554,-1.1295910814176484,-1.1001007786966697,-1.286872695929534,-1.1787415859526125,0.9413924592381636,0.8529215510752278,0.7251302392843205,1.1183342755640353,-0.9329890632777912,0.7153001383773279,0.8824118537962063,0.9807128628661349,-1.0116298705337339,0.8037710465402635,0.7742807438192848,0.8529215510752278,0.7939409456332708,1.1183342755640353,1.0102031655871135,0.5285282211444634,-0.8248579533008695,0.7939409456332708,-0.9624793659987697,0.8627516519822207,1.2166352846339639,0.5285282211444634,0.4990379184234848,0.7939409456332708,0.9315623583311706,0.9119021565171849,-1.2770425950225412,0.9512225601451563,0.9020720556101921,0.8824118537962063,-1.227892090487577,-0.7560472469519198,0.9413924592381636,-1.2672124941155485,-1.1787415859526125,0.6858098356563491,0.9610526610521491,-1.1099308796036627,-0.9428191641847841,0.7644506429122921,0.7251302392843205,1.1576546791920066,-0.8641783569288413,-0.9624793659987697,1.128164376471028,-0.9919696687197482,0.8725817528892138,0.8037710465402635,-1.218061989580584,-1.1197609805106554,0.9119021565171849,0.7546205420052992,-0.7658773478589125,0.843091450168235,1.0003730646801208,0.8627516519822207,-0.8641783569288413,0.8627516519822207,-1.1984017877665984,0.9610526610521491,0.7447904410983063,-1.080440576882684,0.9315623583311706,0.9610526610521491,-0.9133288614638053,-1.1001007786966697,-1.2475522923015625,1.0200332664941063,-1.1295910814176484,-1.080440576882684,-1.0214599714407266,-1.159081384138627,-0.9624793659987697,0.9119021565171849,-1.159081384138627,0.6858098356563491,-0.9723094669057626,0.7939409456332708,0.6858098356563491,1.275615890075921,-1.1984017877665984,0.8529215510752278,-1.2082318886735914,0.990542963773128,0.6464894320283776,-0.8590375887301303,-1.2770425950225412,0.8332613492612421,0.705470037470335,0.8136011474472565,-0.9919696687197482,-1.0607803750686982,0.8529215510752278,1.0003730646801208,1.049523569215085,0.7546205420052992,0.9119021565171849,0.8922419547031993,0.843091450168235,-1.2377221913945697,1.0298633674010993,1.0888439728430566,0.7153001383773279,0.8922419547031993,-1.1394211823246412,0.8824118537962063,-1.2082318886735914,0.970882761959142,0.8725817528892138,-1.0509502741617054,-0.47495899251425566,-1.1885716868596055,-1.1885716868596055,0.7251302392843205,0.7349603401913134,0.7644506429122921,1.0986740737500493,0.9807128628661349,-1.0214599714407266,0.7153001383773279,0.970882761959142,0.7349603401913134,1.0986740737500493,-1.1001007786966697,0.636659331121385,-1.080440576882684,-1.1787415859526125,-0.9526492650917769,0.6759797347493562,0.7939409456332708,0.8627516519822207,-0.8740084578358339,-1.0509502741617054,0.843091450168235,-0.7462171460449265,0.990542963773128,-1.0312900723477196,0.843091450168235,0.8627516519822207,-0.8150278523938765,-1.227892090487577,-1.080440576882684,0.8332613492612421,0.7251302392843205,-1.1099308796036627,-1.1394211823246412,1.0102031655871135,0.8234312483542493,-1.1197609805106554,-1.1885716868596055,-1.2377221913945697,0.921732257424178,-1.159081384138627,0.7939409456332708,0.8234312483542493,-0.9428191641847841,0.7939409456332708,1.0102031655871135,-1.1689114850456197,0.8332613492612421,-1.2082318886735914,-1.1394211823246412,1.1379944773780208,0.7251302392843205,-1.0607803750686982,0.7251302392843205,0.9512225601451563,1.1576546791920066,1.763136263560435,0.7644506429122921,0.7742807438192848,1.1922857501116961,0.7349603401913134,-1.1787415859526125,-1.4343242095344266,0.7841108447262777,1.049523569215085,-1.3163629986505125,-0.7462171460449265,0.6661496338423634,1.049523569215085,0.7153001383773279,-1.1787415859526125,0.8725817528892138,-1.0017997696267409,0.8824118537962063,-1.1197609805106554,1.1674847800989994,0.921732257424178,-1.2475522923015625,0.9119021565171849,0.6811205029480673,1.1576546791920066,0.7644506429122921,-1.218061989580584,0.8234312483542493,-1.286872695929534,0.8627516519822207,0.8332613492612421,0.921732257424178,1.1922857501116961,1.1529653464837246,-1.2573823932085553,0.6661496338423634,-1.2082318886735914,0.9119021565171849,-1.0509502741617054,0.6858098356563491,0.7447904410983063,0.7447904410983063,-0.7509064787532086,-1.1001007786966697,0.6858098356563491,0.9512225601451563,-1.2770425950225412,0.7644506429122921,1.039693468308092,-1.1001007786966697,0.843091450168235,-1.0312900723477196,-0.9671686987070514,-1.1295910814176484,-1.3163629986505125,0.921732257424178,-1.0902706777896767,1.4780633372576413,-1.0902706777896767,0.7251302392843205,0.9413924592381636,-1.218061989580584,-1.0607803750686982,0.9020720556101921,0.7349603401913134,0.6956399365633421,0.8037710465402635,0.8234312483542493,0.6661496338423634,1.1183342755640353,0.9020720556101921,0.7841108447262777,1.0691837710290708,-0.854348256021848,-0.8248579533008695,0.9315623583311706,-1.1295910814176484,-1.4736446131623988,-0.7757074487659052,0.7251302392843205,-1.0509502741617054,-0.8346880542078626,0.9020720556101921,-1.227892090487577,0.8136011474472565,1.0790138719360638,-0.9133288614638053,0.9512225601451563,-0.9821395678127554,1.2657857891689281,1.2709265573676392,0.7349603401913134,0.921732257424178,0.7742807438192848,0.9610526610521491,0.8824118537962063,-1.227892090487577,-1.2672124941155485,-1.1099308796036627,-1.159081384138627,-0.9034987605568124,-1.1689114850456197,1.059353670122078,1.039693468308092,0.921732257424178,-1.1001007786966697,1.1478245782850138,1.6156847499555425,-0.7607365796602014,-0.7902268823811801,1.108504174657042,-1.0411201732547124,0.8824118537962063,-1.0902706777896767,0.8136011474472565,-1.080440576882684,-1.1885716868596055,0.9020720556101921,-1.070610475975691,-1.218061989580584,-1.0312900723477196,-1.365513503185477,-1.1295910814176484,0.8627516519822207,0.9020720556101921,0.9020720556101921,-0.8936686596498195,-0.9624793659987697,-0.9919696687197482,-0.8936686596498195,0.9413924592381636,-1.2672124941155485,-1.0116298705337339,-1.4638145122554056,-0.6427753687762872,0.8725817528892138,-0.2881870752813912,1.2119459519256819,0.8187419156459674,1.2021158510186891,-1.1689114850456197,1.6451750526765205,-1.0064891023350229,-1.0359794050560014,-1.2377221913945697,1.359397465530575,0.9858536310648461,-0.9180181941720872,1.2316061537396676,0.7401011083900247,-1.0261493041490084,0.8777225210879247,0.8037710465402635,1.039693468308092,-0.8590375887301303,-0.6224105061191486,0.907212823808903,-0.92784829507908,0.8037710465402635,1.108504174657042,1.128164376471028,1.1183342755640353,0.9119021565171849,-0.8346880542078626,-1.2475522923015625,-1.1394211823246412,-1.159081384138627,-1.281731927730823,-0.7953676505798911,-1.0411201732547124,0.7153001383773279,1.1379944773780208,-1.4638145122554056,0.7939409456332708,1.128164376471028,-0.41597838707229823,-1.070610475975691,-1.0064891023350229,-1.06546970777698,-1.0359794050560014,0.7546205420052992,-1.218061989580584,-0.9329890632777912,0.8678924201809319,0.7349603401913134,-1.227892090487577,0.8824118537962063,0.921732257424178,-1.1197609805106554,1.1379944773780208,0.9610526610521491,-1.0411201732547124,1.0200332664941063,0.9413924592381636,1.7434760617464489,1.4190827318156851,1.1183342755640353,0.7597613102040104,0.8627516519822207,-1.1689114850456197,-1.1689114850456197,0.8824118537962063,0.7546205420052992,-1.218061989580584,0.8627516519822207,-1.1885716868596055,-0.8983579923581012,-1.0902706777896767,0.907212823808903,-1.1244503132189372,-1.1637707168469087,0.7841108447262777,-1.1787415859526125,0.7644506429122921,-0.8786977905441158,0.8824118537962063,1.0939847410417676,0.6956399365633421,0.7546205420052992,-1.1295910814176484,-1.2573823932085553,-0.8346880542078626,-0.9081880932650943,-0.8983579923581012,0.7695914111110032,-0.9180181941720872,1.630204183570817,1.0055138328788318,1.0644944383207888,-0.9671686987070514,1.1824556492047031,-1.075299808683973,0.9465332274368746,-0.8786977905441158,-0.9769987996140441,0.7447904410983063,-1.0949600104979587,-0.780396781474187,1.635344951769528,1.1478245782850138,-0.8590375887301303,-1.1885716868596055,0.8922419547031993,0.8529215510752278,0.8922419547031993,-1.2573823932085553,-1.0017997696267409,0.8529215510752278,0.7742807438192848,0.8824118537962063,-1.0214599714407266,-1.2377221913945697,-0.854348256021848,-1.149251283231634,-1.159081384138627,0.7349603401913134,-1.1295910814176484,0.8037710465402635,0.921732257424178,-0.854348256021848,0.7447904410983063,-1.1787415859526125,-0.99665900142803,0.843091450168235,-1.1394211823246412,1.059353670122078,0.970882761959142,0.9119021565171849,-1.06546970777698,-0.47495899251425566,-0.8590375887301303,-1.1394211823246412,-0.8295472860091515,0.8234312483542493,0.9956837319718388,0.7546205420052992,-1.2377221913945697,-0.9526492650917769,1.0298633674010993,-1.1984017877665984,-0.6722656714972655,-1.0312900723477196,0.8922419547031993,-1.0411201732547124,0.8725817528892138,0.7153001383773279,0.9512225601451563,-1.1099308796036627,-1.1394211823246412,1.6498643853848023,0.7447904410983063,0.7742807438192848,0.705470037470335,-1.149251283231634,-1.159081384138627,-0.8838385587428267,-0.9526492650917769,0.8529215510752278,-1.414664007720441,-0.854348256021848,0.7644506429122921,1.039693468308092,-1.149251283231634,0.9020720556101921,0.8332613492612421,0.9315623583311706,0.990542963773128,0.921732257424178,0.6858098356563491,0.970882761959142,0.7644506429122921,-1.144110515032923,-0.6224105061191486,0.990542963773128,-1.070610475975691,0.7742807438192848,-1.0509502741617054,-0.7953676505798911,-0.9526492650917769,1.128164376471028,-1.3065328977435196,-1.0902706777896767,-1.080440576882684,0.7644506429122921,-1.1984017877665984,-1.3950038059064556,0.7742807438192848,-1.070610475975691,-1.080440576882684,-1.1885716868596055,-1.080440576882684,0.970882761959142,-1.144110515032923,1.1234750437627457,0.6268292302143921,0.9315623583311706,0.48920781751649206,0.9268730256228891,-0.7214161760322299,-0.8098870841951656,-0.9769987996140441,1.7827964653744206,0.9807128628661349,0.7892516129249889,-0.35699778163034135,0.6169991293073992,-1.218061989580584,-0.9231589623707984,-0.8936686596498195,-0.3963181852583128,1.039693468308092,-1.159081384138627,0.8037710465402635,-1.070610475975691,0.8136011474472565,-0.9231589623707984,-0.9231589623707984,1.324766394610885,0.5973389274934133,-1.2377221913945697,0.6169991293073992,1.3542566973318635,-1.0411201732547124,0.8332613492612421,-1.1197609805106554,1.0298633674010993,1.0691837710290708,-1.1885716868596055,-0.8445181551148551,-0.9723094669057626,0.7939409456332708,-1.3065328977435196,-1.080440576882684,0.8922419547031993,-1.1885716868596055,-1.2377221913945697,-1.1295910814176484,-0.9133288614638053,0.7251302392843205,0.9315623583311706,-1.080440576882684,0.6909506038550602,-1.080440576882684,0.7939409456332708,-0.7115860751252371,-0.9671686987070514,0.8037710465402635,0.9315623583311706,0.9413924592381636,-0.99665900142803,0.8627516519822207,-1.1885716868596055,0.9413924592381636,0.8136011474472565,-1.1984017877665984,0.7939409456332708,-1.2377221913945697,-0.854348256021848,1.0691837710290708,0.843091450168235,0.9119021565171849,0.970882761959142,0.8725817528892138,0.9119021565171849,-1.1984017877665984,0.7153001383773279,-1.1689114850456197,-1.2573823932085553,0.6268292302143921,1.0691837710290708,0.8136011474472565,0.8234312483542493,-1.1001007786966697,0.7742807438192848,-0.9428191641847841,0.970882761959142,0.9807128628661349,-1.1787415859526125,-0.9723094669057626,-0.9821395678127554,-0.9231589623707984,-1.1197609805106554,-1.080440576882684,0.8234312483542493,1.1183342755640353,-1.070610475975691,0.7251302392843205,0.7349603401913134,-1.3065328977435196,-0.9376783959860726,-0.8248579533008695,0.9119021565171849,0.7644506429122921,-0.8740084578358339,-1.080440576882684,-1.1099308796036627,-1.1099308796036627,1.0298633674010993,0.7742807438192848,0.7841108447262777,0.8234312483542493,0.7742807438192848,-1.149251283231634,0.7939409456332708,0.6811205029480673,0.7939409456332708,0.9119021565171849,-0.99665900142803,0.6268292302143921,-1.2082318886735914,0.705470037470335,-1.1001007786966697,1.2952760918899067,1.275615890075921,1.0102031655871135,0.9119021565171849,0.7794215120179959,-1.1834309186608944,-1.159081384138627,0.7349603401913134,-0.8838385587428267,1.1529653464837246,-1.0214599714407266,1.4977235390716277,-1.1787415859526125,0.6956399365633421,1.0153439337858248,0.7546205420052992,0.9956837319718388,1.128164376471028,0.8234312483542493,-1.1984017877665984,0.8384021174599533,0.7251302392843205,-1.2573823932085553,1.049523569215085,-0.7902268823811801,-1.4343242095344266,0.8136011474472565,-1.1787415859526125,-0.9526492650917769,0.5973389274934133,0.970882761959142,-0.9769987996140441,-0.849207487823137,-1.149251283231634,-0.8838385587428267,-1.1394211823246412,0.9315623583311706,0.9315623583311706,-0.8197171851021585,0.8529215510752278,0.7742807438192848,0.9020720556101921,0.5973389274934133,-0.8590375887301303,-1.0458095059629944,0.7742807438192848,0.8037710465402635,0.558018523865442,1.0691837710290708,-1.0017997696267409,-0.9133288614638053,0.8529215510752278,0.9760235301578533,-1.1197609805106554,0.8037710465402635,1.049523569215085,0.8187419156459674,0.9315623583311706,0.7939409456332708,0.8037710465402635,0.7546205420052992,0.7939409456332708,-1.0312900723477196,-0.41597838707229823,-1.2082318886735914,-0.9231589623707984,0.5186981202374705,1.3640867982388567,0.7644506429122921,-1.1295910814176484,1.0790138719360638,0.7742807438192848,1.1478245782850138,-1.1394211823246412,-1.0064891023350229,-1.1295910814176484,-1.0116298705337339,1.1726255482977104,1.074324539227782,1.664835254490506,-1.2424115241028515,-0.9180181941720872,-0.92784829507908,-1.13428041412593,-1.1047901114049516,-0.4552987907002701,-1.2030911204748802,0.8973827229019103,-0.7902268823811801,-0.99665900142803,-1.0949600104979587,1.1333051446697389,0.8678924201809319,-0.8346880542078626,-0.26852687346740545,0.917042924715896,-1.0064891023350229,0.8922419547031993,-1.0509502741617054,-1.0902706777896767,-0.9329890632777912,0.8332613492612421,-1.0312900723477196,-1.0214599714407266,0.8136011474472565,1.0986740737500493,-0.9034987605568124,0.8725817528892138,0.48920781751649206,0.5186981202374705,0.7546205420052992,0.843091450168235,-1.3950038059064556,0.843091450168235,0.7447904410983063,0.7742807438192848,-1.075299808683973,1.0200332664941063,-0.9723094669057626,-1.0458095059629944,-0.8885278914511088,-1.2719018268238305,1.074324539227782,-0.47495899251425566,-1.0359794050560014,1.0350041355998103,1.6746653553974997,-1.1539406159399157,-0.9573385978000585,1.1038148419487606,1.0644944383207888,-0.6624355705902728,-0.7607365796602014,-0.99665900142803,0.9367031265298816,-0.9376783959860726,-0.800056983288173,-1.1637707168469087,-0.8485028269799841,0.6563195329353706,0.6563195329353706,0.9315623583311706,0.8529215510752278,-0.9231589623707984,0.8725817528892138,0.705470037470335,0.7251302392843205,0.7251302392843205,-1.4441543104414196,1.1529653464837246,1.1038148419487606,-0.849207487823137,1.0350041355998103,-1.0064891023350229,-0.9376783959860726,-1.0261493041490084,1.0350041355998103,-0.9573385978000585,-0.8688676896371228,-1.0949600104979587,1.290586759181625,0.9956837319718388,1.7926265662814134,0.7447904410983063,-1.080440576882684,-1.2082318886735914,0.8725817528892138,-1.0902706777896767,-1.4048339068134486,0.9512225601451563,0.6909506038550602,-0.9919696687197482,0.9119021565171849,1.108504174657042,-0.7855375496728982,0.8627516519822207,-1.149251283231634,-0.7068967424169552,0.8725817528892138,-1.1394211823246412,1.1773148810059924,-0.8346880542078626,0.9119021565171849,-1.0607803750686982,-1.414664007720441,1.0102031655871135,1.0003730646801208,1.0691837710290708,0.8922419547031993,-0.9133288614638053,-0.8641783569288413,-1.159081384138627,0.7153001383773279,1.0003730646801208,0.8529215510752278,1.0298633674010993,1.108504174657042,-1.0411201732547124,-0.9231589623707984,-1.0411201732547124,1.0691837710290708,-1.1984017877665984,0.6169991293073992,0.6464894320283776,-0.8150278523938765,-1.1001007786966697,-1.070610475975691,0.7939409456332708,-0.9919696687197482,0.9610526610521491,1.0003730646801208,1.0200332664941063,0.9119021565171849,-0.8936686596498195,0.970882761959142,0.8136011474472565,0.7742807438192848,-0.8150278523938765,0.7447904410983063,0.9020720556101921,0.8824118537962063,0.9807128628661349,0.9315623583311706,-1.1984017877665984,0.5088680193304778,-0.8248579533008695,0.7349603401913134,0.9610526610521491,-1.2573823932085553,0.8529215510752278,-0.8936686596498195,0.7742807438192848,-1.0607803750686982,-0.7658773478589125,1.0888439728430566,0.8725817528892138,0.6071690284004064,-1.1984017877665984,0.8037710465402635,0.7251302392843205,1.128164376471028,0.9315623583311706,-0.8346880542078626,0.6759797347493562,-1.1197609805106554,1.059353670122078,-1.1787415859526125,0.9119021565171849,-1.1689114850456197,0.7251302392843205,-0.854348256021848,-1.0411201732547124,0.9512225601451563,-1.1001007786966697,1.049523569215085,1.1576546791920066,-1.1689114850456197,0.8725817528892138,-1.227892090487577,1.324766394610885,-0.9428191641847841,-1.2082318886735914,0.7251302392843205,-1.080440576882684,-0.8838385587428267,0.8136011474472565,0.9119021565171849,0.9119021565171849,1.0790138719360638,1.0790138719360638,0.7251302392843205,-0.9919696687197482,0.7447904410983063,-1.1984017877665984,0.9119021565171849,-1.3851737049994628,-1.149251283231634,1.0102031655871135,-0.9769987996140441,-1.0312900723477196,-1.0064891023350229,0.843091450168235,0.8037710465402635,1.0986740737500493,1.0003730646801208,0.8529215510752278,-1.2573823932085553,0.8725817528892138,0.8627516519822207,-1.149251283231634,0.8922419547031993,0.8529215510752278,-1.4638145122554056,0.4990379184234848,0.970882761959142,-1.0411201732547124,0.9610526610521491,0.970882761959142,-1.0902706777896767,-1.2573823932085553,-1.080440576882684,-0.7953676505798911,0.970882761959142,0.7153001383773279,0.8234312483542493,0.843091450168235,0.8725817528892138,0.990542963773128,0.9020720556101921,0.7939409456332708,0.843091450168235,-1.2377221913945697,0.8725817528892138,0.9020720556101921,-1.070610475975691,0.9020720556101921,0.7153001383773279,0.8234312483542493,-0.8051977514868838,0.636659331121385,-0.8051977514868838,0.921732257424178,-1.2770425950225412,0.8136011474472565,-1.1394211823246412,0.9807128628661349,0.8529215510752278,0.7153001383773279,-1.1197609805106554,1.059353670122078,0.7447904410983063,0.8037710465402635,0.7447904410983063,0.9610526610521491,0.8725817528892138,1.1773148810059924,-1.1001007786966697,0.705470037470335,0.921732257424178,-0.7265569442309411,-1.1984017877665984,0.8136011474472565,-1.218061989580584,0.7251302392843205,-0.8150278523938765,0.8529215510752278,0.8332613492612421,-1.1787415859526125,0.8725817528892138,1.0003730646801208,0.8725817528892138,-1.4048339068134486,0.9268730256228891,1.0298633674010993,1.039693468308092,0.8037710465402635,-1.080440576882684,1.0986740737500493,1.4780633372576413,0.8037710465402635,0.9315623583311706,-0.4061482861653056,0.7153001383773279,-1.1197609805106554,0.6661496338423634,-0.9231589623707984,0.705470037470335,0.7546205420052992,0.7742807438192848,-1.0214599714407266,1.2559556882619352,1.059353670122078,0.8136011474472565,-1.1001007786966697,-1.218061989580584,-1.4539844113484124,-1.080440576882684,1.128164376471028,1.108504174657042,-1.1001007786966697,1.059353670122078,-1.1001007786966697,0.8332613492612421,0.7349603401913134,0.6956399365633421,0.7742807438192848,-1.149251283231634,-1.1001007786966697,-1.2082318886735914,-1.0312900723477196,-0.8983579923581012,-0.8740084578358339,0.7939409456332708,0.9119021565171849,0.7742807438192848,0.8627516519822207,1.1576546791920066,0.7742807438192848,0.8482322183669461,-1.149251283231634,0.7841108447262777,-1.424494108627434,-1.159081384138627,-1.1197609805106554,0.8922419547031993,0.705470037470335,-0.9133288614638053,0.705470037470335,0.7644506429122921,-1.1099308796036627,0.7742807438192848,0.7644506429122921,0.6071690284004064,-1.0902706777896767,-1.227892090487577,0.9020720556101921,1.0298633674010993,0.990542963773128,-1.149251283231634,-1.149251283231634,-1.1394211823246412,-1.080440576882684,0.8529215510752278,0.7644506429122921,-1.1197609805106554,0.8529215510752278,0.6759797347493562,0.705470037470335,0.8136011474472565,0.7447904410983063,0.7546205420052992,0.8037710465402635,-1.1394211823246412,0.8627516519822207,-1.0312900723477196,0.843091450168235,-0.9624793659987697,-1.3065328977435196,1.5861944472345635,-1.1001007786966697,-1.0509502741617054,0.921732257424178,0.8529215510752278,0.7841108447262777,0.8234312483542493,-1.1295910814176484,0.7153001383773279,0.7546205420052992,0.8136011474472565,0.7841108447262777,1.1136449428557533,-1.2475522923015625,-1.0607803750686982,-0.9526492650917769,-0.9133288614638053,-1.0411201732547124,0.9512225601451563,-0.9919696687197482,-1.159081384138627,1.1674847800989994,0.9020720556101921,0.7644506429122921,0.9119021565171849,1.2362954864479492,0.8136011474472565,-1.1295910814176484,1.0200332664941063,-1.1001007786966697,1.753306162653442,0.7794215120179959,-0.47495899251425566,-0.9329890632777912,-1.0214599714407266,-1.149251283231634,-1.2770425950225412,-1.1885716868596055,0.6759797347493562,-1.2672124941155485,0.8136011474472565,-1.1689114850456197,-0.9821395678127554,0.7349603401913134,1.049523569215085,1.049523569215085,0.921732257424178,-1.424494108627434,-1.1099308796036627,0.6661496338423634,-1.2082318886735914,-0.9919696687197482,0.9119021565171849,-0.6519008088401271,0.8037710465402635,0.9020720556101921,-0.9231589623707984,0.7251302392843205,0.8824118537962063,0.7939409456332708,-0.8346880542078626,-1.4638145122554056,-1.1295910814176484,-1.0214599714407266,0.7939409456332708,-0.99665900142803,1.2414362546466609,-1.0116298705337339,0.7841108447262777,0.6614603011340817,-1.1394211823246412,0.8332613492612421,0.7939409456332708,0.8580623192739388,-1.1637707168469087,0.9465332274368746,-1.1539406159399157,-1.1539406159399157,1.5468740436065913,-0.9573385978000585,1.6550051535835137,0.9563633283438676,-1.0359794050560014,-1.06546970777698,-0.3766579834443267,-1.0556396068699871,-0.31767737800236984,1.4780633372576413,1.1871449819129851,-1.2129212213818727,1.1922857501116961,-1.0359794050560014,1.1922857501116961,-1.0851299095909657,-1.1736008177539017,1.630204183570817,-1.0458095059629944,-0.4356385888862841,1.3895924290947066,-1.0261493041490084,0.8875526219949176,1.1529653464837246,1.1824556492047031,1.0448342365068033,0.990542963773128,-0.986828900521037,-1.232581423195859,-0.7705666805671941,1.3404419245597414,1.4584031354436562,1.6156847499555425,1.5272138417926058,-0.9526492650917769,-1.3603727349867658,1.0055138328788318,-1.1146202123119442,0.8332613492612421,-0.36682788253733417,-0.92784829507908,1.0644944383207888,-1.3065328977435196,-1.1099308796036627,-1.149251283231634,0.5678486247724347,-1.159081384138627,-1.159081384138627,0.8529215510752278,0.5186981202374705,0.7251302392843205,-1.227892090487577,0.6268292302143921,-1.0411201732547124,-1.0312900723477196,-0.8445181551148551,0.7349603401913134,-0.7757074487659052,0.7251302392843205,-0.9919696687197482,0.6858098356563491,-1.0312900723477196,-1.0312900723477196,0.8627516519822207,-0.8051977514868838,-1.1787415859526125,-1.0017997696267409,0.6563195329353706,-0.9821395678127554,0.5186981202374705,-0.9919696687197482,-0.7462171460449265,0.9413924592381636,-1.0607803750686982,1.0691837710290708,-0.9723094669057626,-1.159081384138627,0.705470037470335,1.1674847800989994,0.558018523865442,1.0003730646801208,0.9610526610521491,0.7349603401913134,-0.8641783569288413,1.1576546791920066,0.6169991293073992,-1.0607803750686982,-1.0411201732547124,-1.365513503185477,0.8725817528892138,0.7841108447262777,0.8234312483542493,-1.2573823932085553,-1.4539844113484124,-0.9428191641847841,-1.0017997696267409,1.1576546791920066,-1.070610475975691,0.9807128628661349,-0.9723094669057626,-1.0017997696267409,0.9760235301578533,-1.1689114850456197,-1.1689114850456197,-0.7658773478589125,0.7349603401913134,-1.0359794050560014,-1.0851299095909657,-1.424494108627434,1.0448342365068033,0.7892516129249889,-1.286872695929534,-1.0312900723477196,-1.0017997696267409,0.8922419547031993,-0.9133288614638053,0.970882761959142,0.9807128628661349,-1.0214599714407266,-1.0607803750686982,-0.9821395678127554,0.705470037470335,1.1773148810059924,1.0986740737500493,0.8627516519822207,-0.854348256021848,1.0153439337858248,-1.0607803750686982,-1.1197609805106554,-1.1787415859526125,1.0298633674010993,-1.0214599714407266,0.8332613492612421,-1.0312900723477196,-1.149251283231634,1.0200332664941063,1.0200332664941063,0.9020720556101921,1.059353670122078,-1.1984017877665984,0.9413924592381636,-1.0607803750686982,0.843091450168235,0.8234312483542493,-0.9919696687197482,0.8973827229019103,0.6858098356563491,0.8332613492612421,0.8332613492612421,-0.9329890632777912,0.9512225601451563,-0.8936686596498195,-1.1001007786966697,-1.0116298705337339,0.843091450168235,0.7939409456332708,1.2068051837269709,0.7447904410983063,0.7251302392843205,0.7447904410983063,0.9315623583311706,0.9413924592381636,-1.0607803750686982,0.7644506429122921,-0.9428191641847841,-1.149251283231634,-1.2082318886735914,1.2166352846339639,-1.3163629986505125,0.8824118537962063,-1.1689114850456197,-1.2082318886735914,-1.149251283231634,-0.6577462378819909,0.8529215510752278,1.0102031655871135,-0.8936686596498195,0.6759797347493562,-1.3261930995575055,-0.9428191641847841,0.7251302392843205,0.6956399365633421,0.6661496338423634,1.049523569215085,-1.0902706777896767,0.9610526610521491,0.8824118537962063,-0.7462171460449265,0.8824118537962063,0.8529215510752278,0.6858098356563491,-0.9428191641847841,-1.4539844113484124,-1.3556834022784843,-1.1689114850456197,-1.0312900723477196,0.9020720556101921,0.8627516519822207,0.9512225601451563,-1.0214599714407266,0.7349603401913134,-0.8445181551148551,0.9119021565171849,1.2166352846339639,-0.9723094669057626,0.7546205420052992,0.8234312483542493,-1.0116298705337339,-1.1001007786966697,-1.159081384138627,1.3345964955178777,-1.286872695929534,0.7841108447262777,-1.070610475975691,-1.0509502741617054,0.8529215510752278,0.7251302392843205,0.5875088265864205,1.049523569215085,-0.7068967424169552,1.074324539227782,-0.8445181551148551,-1.1736008177539017,0.7742807438192848,1.0448342365068033,0.8777225210879247,1.290586759181625,0.7251302392843205,0.6858098356563491,0.7546205420052992,-0.8641783569288413,1.8417770708163779,0.6024796956921245,-1.0902706777896767,0.9610526610521491,1.0003730646801208,1.1529653464837246,1.0055138328788318,0.6268292302143921,-1.4095232395217299,-0.9428191641847841,-1.296702796836527,0.8089118147389746,0.7447904410983063,0.7251302392843205,-1.0458095059629944,0.7742807438192848,-0.9919696687197482,1.1379944773780208,-0.9821395678127554,1.0841546401347748,1.1038148419487606,-1.222751322288866,-1.1834309186608944,0.917042924715896,-0.5437696988632057,-1.0261493041490084,-0.504449295235234,1.7336459608394565,-1.232581423195859,1.0102031655871135,-0.4847890934212483,-1.080440576882684,-0.7509064787532086,-0.8885278914511088,-0.9573385978000585,-0.9376783959860726,-0.9526492650917769,-0.5241094970492197,1.0055138328788318,-1.1539406159399157,-1.06546970777698,-1.2424115241028515,-0.8885278914511088,-1.1244503132189372,-0.9573385978000585,-0.8098870841951656,-0.9769987996140441,0.8285720165529604,-1.075299808683973,1.6844954563044916,1.1136449428557533,-1.2424115241028515,0.990542963773128,-0.8688676896371228,-0.6820957724042588,-0.381798751643038,1.2414362546466609,-0.7214161760322299,-1.0902706777896767,0.843091450168235,-0.15056566258349113,-0.9821395678127554,-0.8740084578358339,0.921732257424178,-1.1099308796036627,-1.2770425950225412,0.6858098356563491,1.0790138719360638,-1.1295910814176484,0.7546205420052992,-0.6970666415099623,0.8136011474472565,-1.2377221913945697,1.039693468308092,0.8037710465402635,-0.9624793659987697,-0.8641783569288413,-0.9723094669057626,1.1183342755640353,0.6071690284004064,-0.9428191641847841,1.1576546791920066,1.0298633674010993,-1.1984017877665984,-1.149251283231634,-1.070610475975691,0.7939409456332708,0.7447904410983063,-1.0509502741617054,-1.0214599714407266,-1.1197609805106554,-0.7855375496728982,1.039693468308092,0.7251302392843205,0.8922419547031993,-1.1984017877665984,-0.9821395678127554,-1.286872695929534,-0.9231589623707984,-1.0214599714407266,1.039693468308092,0.9512225601451563,1.2461255873549422,-1.0607803750686982,-1.2377221913945697,-0.9919696687197482,-1.070610475975691,-1.0509502741617054,-1.0214599714407266,0.9413924592381636,-1.1689114850456197,0.9020720556101921,0.8136011474472565,0.8234312483542493,1.0003730646801208,0.7447904410983063,0.5875088265864205,-1.227892090487577,-1.2377221913945697,-1.0312900723477196,-1.0017997696267409,-0.9919696687197482,0.7841108447262777,0.7153001383773279,0.8136011474472565,-0.9034987605568124,0.9807128628661349,1.039693468308092,-1.1787415859526125,-1.1885716868596055,-1.0509502741617054,-1.2475522923015625,-1.0902706777896767,0.7251302392843205,0.843091450168235,-0.7757074487659052,-0.7855375496728982,0.7349603401913134,-1.2475522923015625,0.8037710465402635,0.5481884229584493,1.1773148810059924,-0.8445181551148551,1.0298633674010993,0.9807128628661349,-0.9034987605568124,0.990542963773128,0.9512225601451563,0.8136011474472565,-1.227892090487577,0.8725817528892138,-0.9526492650917769,-0.7658773478589125,-1.1394211823246412,0.9020720556101921,-0.9231589623707984,0.8824118537962063,1.0200332664941063,-1.4441543104414196,-1.0902706777896767,0.7302710074830315,0.8627516519822207,1.0298633674010993,-1.0902706777896767,-1.1787415859526125,-0.8936686596498195,0.6071690284004064,0.8725817528892138,1.1969750828199779,-0.9919696687197482,0.5678486247724347,-0.9133288614638053,-1.0902706777896767,-0.8641783569288413,-0.9034987605568124,-0.9133288614638053,-1.1295910814176484,-1.0509502741617054,-1.0509502741617054,-1.218061989580584,0.970882761959142,1.2559556882619352,-1.159081384138627,0.9119021565171849,-1.218061989580584,0.8529215510752278,1.0102031655871135,-1.159081384138627,-1.4539844113484124,0.8136011474472565,-1.1001007786966697,-1.0116298705337339,-0.8641783569288413,0.9020720556101921,0.9020720556101921,-0.8641783569288413,1.2166352846339639,0.8234312483542493,-0.8838385587428267,-1.0017997696267409,0.9610526610521491,1.0298633674010993,0.7742807438192848,1.0790138719360638,0.7742807438192848,-0.8346880542078626,-0.7902268823811801,-0.8688676896371228,-0.9671686987070514,1.0102031655871135,-0.99665900142803,0.8627516519822207,-0.8983579923581012,0.6169991293073992,0.705470037470335,0.7546205420052992,1.0448342365068033,0.7349603401913134,-0.6774064396959768,-0.8248579533008695,-1.0902706777896767,0.7349603401913134,1.0003730646801208,0.9020720556101921,-0.7363870451379337,1.0200332664941063,0.9807128628661349,-1.159081384138627,0.990542963773128,0.8136011474472565,-0.6912212124680985,0.7644506429122921,-1.2082318886735914,-1.227892090487577,-1.2475522923015625,-0.849207487823137,0.8824118537962063,0.8234312483542493,-1.070610475975691,1.0003730646801208,-1.2672124941155485,-1.0949600104979587,1.2854459909829137,0.6956399365633421,0.705470037470335,0.9807128628661349,1.0691837710290708,0.7841108447262777,0.705470037470335,-1.080440576882684,1.0102031655871135,1.108504174657042,0.705470037470335,-1.0607803750686982,-1.1295910814176484,-1.1099308796036627,0.7939409456332708,-1.070610475975691,0.636659331121385,-0.7462171460449265,1.0298633674010993,1.0986740737500493,0.7153001383773279,0.7447904410983063,1.0888439728430566,1.3200770619026037,0.5973389274934133,-1.2377221913945697,-1.0607803750686982,0.9465332274368746,0.8922419547031993,-1.3851737049994628,-0.8346880542078626,-1.0017997696267409,-1.2672124941155485,-1.2770425950225412,0.6858098356563491,-1.296702796836527,0.9413924592381636,0.9610526610521491,0.970882761959142,1.0055138328788318,-1.286872695929534,-1.1197609805106554,-1.1689114850456197,0.8627516519822207,0.8037710465402635,0.9807128628661349,-1.0607803750686982,0.990542963773128,0.9807128628661349,1.0102031655871135,1.108504174657042,-0.9526492650917769,-0.5241094970492197,-0.3373375798163555,-0.9329890632777912,0.9465332274368746,-0.9329890632777912,0.705470037470335,1.0055138328788318,-1.5078242485916586,0.7401011083900247,-0.8295472860091515,0.9512225601451563,-1.0411201732547124,-0.9133288614638053,1.3200770619026037,-0.8779931297009627,0.8285720165529604,0.558018523865442,0.8922419547031993,0.8824118537962063,-0.7855375496728982,-0.8838385587428267,-1.227892090487577,0.7546205420052992,-1.1099308796036627,-0.9821395678127554,0.8136011474472565,-1.2573823932085553,0.9020720556101921,-1.0214599714407266,-1.1001007786966697,-1.218061989580584,0.7251302392843205,-1.1295910814176484,0.8234312483542493,1.059353670122078,0.8037710465402635,-1.1295910814176484,-0.9821395678127554,0.7349603401913134,0.7644506429122921,-1.4441543104414196,0.8234312483542493,0.8529215510752278,-1.0902706777896767,-1.3163629986505125,-1.3065328977435196,0.9119021565171849,-1.1539406159399157,0.8627516519822207,0.7841108447262777,-1.2573823932085553,0.9807128628661349,-1.0902706777896767,-1.080440576882684,-1.0312900723477196,-1.1984017877665984,-1.2377221913945697,-0.9919696687197482,0.9413924592381636,-1.286872695929534,-0.9723094669057626,-0.8051977514868838,-1.218061989580584,-1.070610475975691,0.8037710465402635,1.537043942699599,0.7251302392843205,1.2021158510186891,0.8824118537962063,0.843091450168235,0.8922419547031993,-1.1885716868596055,-1.0214599714407266,-0.8393773869161444,0.8922419547031993,-1.0607803750686982,-1.1689114850456197,-1.1539406159399157,-0.9671686987070514,-1.1984017877665984,-0.8445181551148551,-0.9231589623707984,-1.1984017877665984,0.9956837319718388,-1.1787415859526125,0.5973389274934133,0.7251302392843205,-0.9133288614638053,0.8332613492612421,-1.1394211823246412,0.7447904410983063,-0.9526492650917769,-0.9624793659987697,1.5272138417926058,-0.6919258733112514,1.0055138328788318,0.7499312092970176,0.9807128628661349,-0.504449295235234,-0.29801717618838397,-0.2586967725604126,-0.6027503043051631,1.6156847499555425,-0.5732600015841843,-0.504449295235234,-1.0851299095909657,-1.0851299095909657,-0.6231151669623013,-0.99665900142803,1.1038148419487606,0.6811205029480673,-0.18005596530446957,-0.780396781474187,0.6909506038550602,1.1038148419487606,-1.1834309186608944,1.0003730646801208,-0.3963181852583128,1.635344951769528,0.9760235301578533,1.0448342365068033,1.763136263560435,-0.27835697437439844,-1.0902706777896767,1.625514850862535,0.921732257424178,0.9807128628661349,-1.2770425950225412,0.843091450168235,0.990542963773128,-0.9723094669057626,1.059353670122078,-1.1099308796036627,1.059353670122078,1.0298633674010993,0.843091450168235,1.1576546791920066,0.9020720556101921,0.990542963773128,-1.2475522923015625,-1.0312900723477196,-1.1099308796036627,-0.7658773478589125,0.8922419547031993,0.7841108447262777,-1.1099308796036627,0.8136011474472565,-1.218061989580584,0.7939409456332708,0.8627516519822207,0.8136011474472565,-1.1295910814176484,-1.0607803750686982,1.039693468308092,1.1969750828199779,-1.1295910814176484,1.1773148810059924,0.8234312483542493,-1.0607803750686982,0.843091450168235,-0.9723094669057626,0.8037710465402635,0.7447904410983063,-1.1689114850456197,-0.9526492650917769,0.8384021174599533,0.8627516519822207,-1.3261930995575055,-1.3556834022784843,0.6661496338423634,1.049523569215085,-1.1394211823246412,-1.296702796836527,-1.1099308796036627,-0.9034987605568124,1.128164376471028,0.9315623583311706,-0.8248579533008695,-1.1787415859526125,0.8234312483542493,-0.8838385587428267,0.7644506429122921,-0.8740084578358339,-0.9624793659987697,-1.2475522923015625,-1.2672124941155485,0.7841108447262777,0.9315623583311706,0.7251302392843205,1.2461255873549422,0.5875088265864205,1.049523569215085,0.8332613492612421,1.128164376471028,1.0298633674010993,0.8529215510752278,0.7153001383773279,0.7251302392843205,-1.2573823932085553,-1.2672124941155485,-1.2475522923015625,0.7251302392843205,0.7939409456332708,0.7349603401913134,-1.296702796836527,1.0986740737500493,-1.1394211823246412,0.8627516519822207,0.8332613492612421,-1.2915620286378158,0.7841108447262777,0.9268730256228891,0.7447904410983063,0.8627516519822207,1.0200332664941063,1.0003730646801208,-0.8346880542078626,1.0790138719360638,-1.159081384138627,-1.1689114850456197,-1.2475522923015625,0.990542963773128,-1.1787415859526125,-1.149251283231634,0.6614603011340817,-0.9376783959860726,0.8037710465402635,0.843091450168235,-0.9624793659987697,-1.0902706777896767,-1.0509502741617054,0.6661496338423634,-0.588935531533041,-1.1197609805106554,-1.4539844113484124,-1.1984017877665984,-1.218061989580584,-0.9428191641847841,-1.0214599714407266,1.039693468308092,0.7644506429122921,0.7841108447262777,0.7841108447262777,-0.16039576349048396,1.763136263560435,1.1478245782850138,-1.149251283231634,0.8037710465402635,1.1431352455767316,-1.1394211823246412,-1.1001007786966697,1.1831603100478558,1.5763643463275705,0.7695914111110032,-1.227892090487577,0.8037710465402635,-1.0312900723477196,-1.1885716868596055,0.8037710465402635,-1.1394211823246412,-0.7607365796602014,1.0986740737500493,0.921732257424178,0.9020720556101921,0.9610526610521491,-1.0064891023350229,-1.1295910814176484,-1.1689114850456197,-1.1099308796036627,-1.080440576882684,-1.0411201732547124,0.8824118537962063,-1.218061989580584,0.7644506429122921,-1.1984017877665984,-1.1197609805106554,-1.1197609805106554,0.8529215510752278,1.0153439337858248,0.7546205420052992,1.2709265573676392,-1.149251283231634,-1.1984017877665984,-1.1637707168469087,1.0691837710290708,0.9512225601451563,1.1379944773780208,0.7447904410983063,1.2264653855409566,-1.1001007786966697,-1.0017997696267409,-1.0607803750686982,-1.080440576882684,0.7644506429122921,0.6956399365633421,-0.7462171460449265,0.8627516519822207,-0.9329890632777912,0.921732257424178,0.7841108447262777,0.7153001383773279,0.7841108447262777,0.8037710465402635,-1.1689114850456197,1.0790138719360638,-1.080440576882684,0.8824118537962063,-0.9723094669057626,0.8529215510752278,1.0986740737500493,1.0691837710290708,-1.2082318886735914,-1.0902706777896767,-1.0017997696267409,1.0251740346928173,-0.9624793659987697,1.0644944383207888,-1.3898630377077443,0.9020720556101921,-1.2573823932085553,1.0003730646801208,0.636659331121385,-1.296702796836527,-1.2573823932085553,-0.9376783959860726,0.9020720556101921,-1.227892090487577,0.990542963773128,0.8037710465402635,-1.3556834022784843,0.8234312483542493,-1.4685038449636876,0.8136011474472565,0.7153001383773279,-0.800056983288173,0.8725817528892138,0.921732257424178,0.9020720556101921,1.0790138719360638,-1.218061989580584,-0.92784829507908,0.9610526610521491,-1.1295910814176484,-0.9769987996140441,0.7742807438192848,1.0102031655871135,-0.9723094669057626,-0.9231589623707984,-0.24886667165341983,1.6844954563044916,-1.0163192032420156,1.6943255572114846,-0.7115860751252371,0.9956837319718388,-1.4586737440566944,-0.6813911115611055,-0.7509064787532086,-1.1047901114049516,-0.7902268823811801,1.1333051446697389,-1.0458095059629944,-1.0163192032420156,-1.2620717259168373,-0.18005596530446957,-1.1637707168469087,-0.92784829507908,-0.8983579923581012,-1.3851737049994628,-0.23903657074642695,1.0644944383207888,0.9661934292508604,-0.7312462769392228,0.7153001383773279,0.6956399365633421,0.9020720556101921,-0.8740084578358339,0.990542963773128,0.8725817528892138,1.0102031655871135,-1.0312900723477196,-1.149251283231634,-1.1689114850456197,-1.0214599714407266,-1.2475522923015625,-0.9428191641847841,0.9807128628661349,0.7251302392843205,-1.286872695929534,0.9610526610521491,0.705470037470335,0.9610526610521491,-1.2770425950225412,-0.9821395678127554,-1.0312900723477196,-0.8150278523938765,0.8332613492612421,-1.3556834022784843,-1.218061989580584,-1.0607803750686982,-1.1787415859526125,0.7153001383773279,-1.227892090487577,0.7742807438192848,0.990542963773128,-1.218061989580584,0.8529215510752278,0.8627516519822207,0.8529215510752278,-1.2770425950225412,0.8725817528892138,0.9807128628661349,-1.0458095059629944,0.705470037470335,-1.0509502741617054,-1.0509502741617054,0.843091450168235,0.8824118537962063,-1.4736446131623988,0.8234312483542493,0.7153001383773279,1.1379944773780208,-1.0214599714407266,0.7644506429122921,0.9610526610521491,0.9610526610521491,0.8922419547031993,0.9413924592381636,0.8725817528892138,0.9807128628661349,0.7546205420052992,1.1038148419487606,0.9807128628661349,-0.8641783569288413,-1.0116298705337339,0.9610526610521491,-1.2475522923015625,-1.0411201732547124,0.7153001383773279,0.7153001383773279,0.7841108447262777,1.1674847800989994,-1.1984017877665984,0.4990379184234848,-0.9376783959860726,1.1234750437627457,-1.232581423195859,-1.0163192032420156,-1.0509502741617054,-1.1244503132189372,-1.2475522923015625,-1.0902706777896767,0.705470037470335,0.8922419547031993,0.7939409456332708,-0.9821395678127554,0.6956399365633421,-0.9133288614638053,-1.3950038059064556,0.7349603401913134,0.705470037470335,0.558018523865442,1.0102031655871135,-1.149251283231634,-0.9133288614638053,-0.9723094669057626,0.8922419547031993,-0.8740084578358339,-0.9624793659987697,1.1674847800989994,-1.159081384138627,0.6268292302143921,0.8725817528892138,-1.2573823932085553,0.7841108447262777,-0.5830901024911772,-1.070610475975691,-1.0017997696267409,-1.0116298705337339,0.7939409456332708,-1.1787415859526125,-1.218061989580584,0.7939409456332708,-1.1197609805106554,0.8234312483542493,-1.2082318886735914,-0.7953676505798911,0.8627516519822207,0.7939409456332708,-1.1885716868596055,0.7742807438192848,-1.1099308796036627,-1.218061989580584,-1.1001007786966697,-1.1001007786966697,-0.9081880932650943,-1.218061989580584,0.705470037470335,0.8678924201809319,-1.159081384138627,-1.1984017877665984,1.0986740737500493,0.8627516519822207,0.7939409456332708,-1.0509502741617054,-1.1001007786966697,0.8529215510752278,0.8725817528892138,-1.149251283231634,-1.1885716868596055,0.7841108447262777,-1.1197609805106554,0.5186981202374705,-0.7410763778462157,-1.144110515032923,-0.9376783959860726,0.6464894320283776,0.8529215510752278,-1.2475522923015625,0.7644506429122921,-1.2082318886735914,-1.1295910814176484,-0.9428191641847841,0.7939409456332708,0.5186981202374705,0.7153001383773279,1.0790138719360638,-1.4638145122554056,-1.0607803750686982,-1.3851737049994628,0.8136011474472565,-1.149251283231634,-1.06546970777698,-0.9769987996140441,1.0350041355998103,1.605854649048549,-0.8590375887301303,-0.701755974218244,0.5678486247724347,0.7939409456332708,-1.218061989580584,0.7939409456332708,-1.0902706777896767,-0.9919696687197482,-1.1984017877665984,-0.8248579533008695,-0.92784829507908,1.108504174657042,0.8627516519822207,0.8529215510752278,0.6858098356563491,1.0691837710290708,1.108504174657042,-0.8786977905441158,-0.8051977514868838,0.705470037470335,-0.9376783959860726,0.8136011474472565,-0.8590375887301303,-1.1885716868596055,0.9315623583311706,-1.1001007786966697,0.8234312483542493,-1.1637707168469087,-1.2475522923015625,-1.1394211823246412,1.2316061537396676,-0.9180181941720872,-0.9671686987070514,1.1922857501116961,1.0841546401347748,-1.0949600104979587,1.4289128327226777,1.1824556492047031,-1.080440576882684,-0.36682788253733417,1.753306162653442,0.5186981202374705,-0.23434723803814503,-0.6027503043051631,-0.8295472860091515,1.0055138328788318,1.537043942699599,1.4584031354436562,-1.1244503132189372,-0.26852687346740545,-1.227892090487577,-0.6027503043051631,0.7447904410983063,-1.159081384138627,0.8529215510752278,-1.0214599714407266,0.705470037470335,-1.0411201732547124,1.0691837710290708,0.9512225601451563,1.2461255873549422,1.0691837710290708,0.8332613492612421,-1.1394211823246412,0.7447904410983063,-0.9526492650917769,-1.1787415859526125,-1.2573823932085553,-1.227892090487577,-1.0607803750686982,-1.2082318886735914,-0.9231589623707984,-1.1295910814176484,0.7546205420052992,0.8037710465402635,-1.286872695929534,0.970882761959142,-1.2082318886735914,-0.9231589623707984,1.108504174657042,0.8234312483542493,-1.0214599714407266,0.8384021174599533,0.9956837319718388,-1.06546970777698,-0.7214161760322299,1.1726255482977104,-1.075299808683973,1.0350041355998103,0.843091450168235,1.7336459608394565,1.0644944383207888,-1.0064891023350229,0.8973827229019103,-1.2770425950225412,0.8580623192739388,0.8973827229019103,-0.9180181941720872,-0.8936686596498195,-0.3471676807233485,-1.0163192032420156,-0.8393773869161444,0.8777225210879247,1.2021158510186891,1.1234750437627457,-0.8983579923581012,1.7776556971757094,-0.9671686987070514,-1.0064891023350229,1.0644944383207888,-1.0261493041490084,-1.1736008177539017,-0.7214161760322299,0.5088680193304778,-1.296702796836527,-1.2082318886735914,-1.159081384138627,1.0298633674010993,-0.9526492650917769,1.5272138417926058,1.4780633372576413,-0.780396781474187,-0.9081880932650943,-0.5634299006771915,0.843091450168235,-0.8885278914511088,1.1529653464837246,0.8627516519822207,-1.4736446131623988,0.7841108447262777,-0.9231589623707984,-0.9624793659987697,0.6858098356563491,-1.218061989580584,-1.0116298705337339,0.7644506429122921,-1.1099308796036627,0.8136011474472565,-1.1099308796036627,-0.99665900142803,0.7546205420052992,-1.218061989580584,-1.1787415859526125,0.9610526610521491,0.8234312483542493,1.0003730646801208,0.7447904410983063,0.7251302392843205,-1.159081384138627,-0.854348256021848,1.0350041355998103,1.1136449428557533,1.0200332664941063,0.8922419547031993,0.9119021565171849,-0.9376783959860726,-0.9034987605568124,0.8234312483542493,0.8482322183669461,-1.0312900723477196,1.0200332664941063,1.0003730646801208,0.7939409456332708,0.8725817528892138,-1.1394211823246412,-0.9919696687197482,0.7841108447262777,1.2119459519256819,-0.7607365796602014,-1.0312900723477196,-0.9475084968930656,1.0251740346928173,-1.0458095059629944,-0.7502018179100559,0.7990817138319819,1.3397372637165894,-1.0359794050560014,-0.445468689793277,-0.5634299006771915,0.6024796956921245,-0.2881870752813912,-0.6125804052121557,-0.9723094669057626,-0.4356385888862841,-0.7509064787532086,0.9119021565171849,-1.0607803750686982,0.8627516519822207,0.6759797347493562,1.0691837710290708,0.7251302392843205,0.7447904410983063,-1.2377221913945697,-1.2377221913945697,1.0298633674010993,1.108504174657042,0.7644506429122921,0.6956399365633421,0.970882761959142,0.9315623583311706,-1.3065328977435196,-1.2082318886735914,-1.227892090487577,-0.9919696687197482,0.636659331121385,-1.1197609805106554,-1.2770425950225412,0.8234312483542493,-1.2672124941155485,-1.424494108627434,-1.0312900723477196,1.1478245782850138,0.7251302392843205,-1.3556834022784843,-1.4441543104414196,0.7742807438192848,-1.1197609805106554,-0.9034987605568124,0.8234312483542493,-1.3065328977435196,-0.7363870451379337,0.6858098356563491,-1.1689114850456197,1.049523569215085,0.8824118537962063,-1.159081384138627,-1.149251283231634,1.0691837710290708,-1.0312900723477196,-0.9133288614638053,0.7841108447262777,0.9315623583311706,-0.8150278523938765,0.9119021565171849,0.921732257424178,0.7841108447262777,0.7546205420052992,-1.1984017877665984,-0.9624793659987697,-0.8838385587428267,0.8136011474472565,0.6614603011340817,0.8037710465402635,0.6464894320283776,-1.1197609805106554,0.9020720556101921,1.059353670122078,-0.8248579533008695,0.9413924592381636,0.8627516519822207,0.8234312483542493,0.7939409456332708,-1.2377221913945697,0.7251302392843205,1.1674847800989994,0.6759797347493562,-0.8641783569288413,0.9512225601451563,0.5776787256794277,-1.3556834022784843,-0.9526492650917769,0.9807128628661349,-0.8641783569288413,-1.0312900723477196,-0.7658773478589125,-0.8641783569288413,-0.854348256021848,0.9020720556101921,0.8332613492612421,-0.8936686596498195,1.3149362937038922,-0.8936686596498195,0.8332613492612421,1.2559556882619352,1.108504174657042,-1.414664007720441,0.8332613492612421,1.1773148810059924,0.7841108447262777,0.9315623583311706,0.9807128628661349,1.0298633674010993,0.7251302392843205,-1.0017997696267409,1.128164376471028,-1.2475522923015625,1.049523569215085,0.7644506429122921,0.7447904410983063,-1.1001007786966697,0.6759797347493562,0.7841108447262777,0.990542963773128,-1.0509502741617054,0.921732257424178,0.9807128628661349,0.7841108447262777,0.990542963773128,-1.2770425950225412,-0.9624793659987697,-1.0214599714407266,-0.8740084578358339,0.8627516519822207,0.9315623583311706,-1.1197609805106554,1.059353670122078,1.0003730646801208,1.0102031655871135,-1.149251283231634,-1.4441543104414196,1.1674847800989994,0.6858098356563491,0.7644506429122921,-1.218061989580584,-0.7953676505798911,-1.227892090487577,0.921732257424178,1.1674847800989994,0.7742807438192848,-0.7560472469519198,-1.0902706777896767,0.9315623583311706,1.0200332664941063,0.9020720556101921,-1.1394211823246412,-1.080440576882684,0.8037710465402635,0.7644506429122921,-1.1001007786966697,0.8875526219949176,-1.4343242095344266,-1.2377221913945697,-1.0509502741617054,-0.7167268433239481,-1.1001007786966697,-1.0509502741617054,-1.286872695929534,-1.080440576882684,-1.1984017877665984,0.8037710465402635,0.7349603401913134,-0.9919696687197482,-1.0509502741617054,-1.1295910814176484,-1.2082318886735914,0.7939409456332708,-1.1295910814176484,0.6858098356563491,-1.2573823932085553,-1.218061989580584,-1.0017997696267409,0.7153001383773279,-1.1001007786966697,-0.780396781474187,0.917042924715896,-1.365513503185477,0.9512225601451563,0.9020720556101921,1.2166352846339639,0.9610526610521491,-0.4061482861653056,-1.0458095059629944,1.0986740737500493,0.921732257424178,0.8824118537962063,-0.8346880542078626,0.9807128628661349,0.9610526610521491,-1.0312900723477196,-1.1394211823246412,0.6858098356563491,0.705470037470335,0.990542963773128,-1.2082318886735914,0.8529215510752278,0.921732257424178,-0.854348256021848,1.3051061927968994,0.7447904410983063,-1.1394211823246412,0.8332613492612421,0.6759797347493562,0.7447904410983063,-1.0458095059629944,0.5875088265864205,1.1674847800989994,0.843091450168235,0.8037710465402635,-0.8150278523938765,1.0200332664941063,-1.080440576882684,0.8922419547031993,0.7153001383773279,0.8529215510752278,-1.0902706777896767,0.4990379184234848,0.9512225601451563,0.9119021565171849,-1.1001007786966697,-0.99665900142803,1.0200332664941063,-1.227892090487577,-1.0411201732547124,0.7742807438192848,-1.080440576882684,0.8037710465402635,0.8332613492612421,0.7447904410983063,0.9413924592381636,-1.159081384138627,0.9315623583311706,0.8037710465402635,0.7153001383773279,0.7251302392843205,0.9512225601451563,1.049523569215085,-1.0411201732547124,0.7153001383773279,1.049523569215085,1.0102031655871135,0.5088680193304778,-1.1001007786966697,0.9119021565171849,1.1183342755640353,-1.1885716868596055,-0.9821395678127554,0.6956399365633421,0.7349603401913134,0.705470037470335,-0.9821395678127554,-0.854348256021848,-0.504449295235234,0.9807128628661349,1.049523569215085,0.9807128628661349,0.8529215510752278,0.8922419547031993,0.843091450168235,-1.1689114850456197,-1.1197609805106554,1.0790138719360638,-1.3065328977435196,0.7939409456332708,-1.1787415859526125,0.9413924592381636,-0.9231589623707984,-1.0607803750686982,-1.2082318886735914,-0.9526492650917769,1.039693468308092,-1.1099308796036627,0.7742807438192848,-1.1197609805106554,-1.0902706777896767,-0.9034987605568124,1.0003730646801208,0.6464894320283776,1.0448342365068033,0.9512225601451563,0.9807128628661349,-1.4638145122554056,0.7939409456332708,1.0003730646801208,-0.7855375496728982,0.5875088265864205,0.8136011474472565,-1.218061989580584,1.059353670122078,-1.080440576882684,-1.2770425950225412,-1.1295910814176484,0.7841108447262777,0.7939409456332708,-1.0607803750686982,-1.149251283231634,1.1379944773780208,-1.0509502741617054,0.7841108447262777,0.921732257424178,1.049523569215085,0.9413924592381636,1.0691837710290708,0.7644506429122921,0.6858098356563491,0.8136011474472565,-1.1885716868596055,-0.8445181551148551,0.9413924592381636,0.7644506429122921,-1.0214599714407266,0.6661496338423634,0.7447904410983063,0.8922419547031993,-0.9526492650917769,-1.227892090487577,-1.0312900723477196,0.8627516519822207,-1.0312900723477196,0.7251302392843205,-0.9376783959860726,-1.1244503132189372,-1.0411201732547124,0.8234312483542493,-1.149251283231634,-1.1787415859526125,0.7349603401913134,1.1576546791920066,0.990542963773128,0.8725817528892138,-1.1099308796036627,0.8824118537962063,0.9610526610521491,1.0200332664941063,-1.3950038059064556,0.7742807438192848,-1.1885716868596055,0.9807128628661349,1.0003730646801208,0.8922419547031993,-1.0411201732547124,0.8529215510752278,1.2166352846339639,-1.0411201732547124,0.9413924592381636,0.8234312483542493,-1.1001007786966697,0.8725817528892138,-1.159081384138627,-1.0214599714407266,0.9020720556101921,0.7644506429122921,1.0200332664941063,-1.227892090487577,0.7644506429122921,-1.0509502741617054,-0.9034987605568124,0.6661496338423634,-0.854348256021848,-1.2377221913945697,0.970882761959142,-0.9376783959860726,0.9512225601451563,0.7546205420052992,-0.8150278523938765,-1.365513503185477,-1.296702796836527,0.8627516519822207,-1.0017997696267409,-0.3766579834443267,-1.080440576882684,1.039693468308092,0.7251302392843205,0.7644506429122921,0.705470037470335,0.7251302392843205,0.8037710465402635,0.9512225601451563,1.0298633674010993,-1.1787415859526125,-0.8641783569288413,-0.9133288614638053,-0.9526492650917769,0.7644506429122921,-1.1001007786966697,1.1183342755640353,0.6268292302143921,0.9119021565171849,1.1478245782850138,-1.2672124941155485,1.0200332664941063,0.8332613492612421,-1.227892090487577,-0.854348256021848,-0.9821395678127554,1.3051061927968994,-0.7462171460449265,0.9119021565171849,-1.1885716868596055,-0.7462171460449265,0.9807128628661349,-1.218061989580584,0.8922419547031993,0.9807128628661349,1.0691837710290708,0.9315623583311706,0.9315623583311706,0.8037710465402635,-1.149251283231634,-1.4048339068134486,-1.0163192032420156,-1.1787415859526125,1.1136449428557533,-1.0902706777896767,0.6956399365633421,1.049523569215085,-1.1885716868596055,0.8922419547031993,-1.0902706777896767,0.9413924592381636,0.8529215510752278,0.9020720556101921,0.9119021565171849,-1.296702796836527,0.8627516519822207,-1.13428041412593,-1.1984017877665984,0.6563195329353706,-1.365513503185477,-0.9428191641847841,0.6858098356563491,0.921732257424178,0.921732257424178,-0.8885278914511088,0.6169991293073992,0.48920781751649206,0.7349603401913134,-1.1295910814176484,-1.1295910814176484,0.9119021565171849,0.7841108447262777,0.7153001383773279,0.8234312483542493,0.9807128628661349,-0.8346880542078626,-1.0312900723477196,1.0055138328788318,0.9858536310648461,-1.159081384138627,-1.1197609805106554,0.7447904410983063,0.7841108447262777,0.8332613492612421,0.921732257424178,-1.1394211823246412,-0.9723094669057626,1.1529653464837246,0.970882761959142,0.8136011474472565,0.8037710465402635,-1.0949600104979587,0.6858098356563491,0.4990379184234848,0.7447904410983063,-1.296702796836527,-0.7363870451379337,-1.070610475975691,0.8234312483542493,-1.1295910814176484,-0.9671686987070514,0.705470037470335,0.8627516519822207,1.1773148810059924,-1.0902706777896767,-0.92784829507908,-1.0411201732547124,-0.9919696687197482,0.9020720556101921,-1.0017997696267409,0.6956399365633421,-1.2573823932085553,-1.1295910814176484,0.9807128628661349,-1.1394211823246412,-1.1394211823246412,0.990542963773128,-1.1689114850456197,-1.0261493041490084,0.7546205420052992,0.8136011474472565,-1.1394211823246412,-1.1099308796036627,1.0200332664941063,-1.2082318886735914,0.8529215510752278,-1.1885716868596055,0.8824118537962063,0.843091450168235,-1.1689114850456197,-1.0359794050560014,-0.8688676896371228,-1.3950038059064556,-1.1885716868596055,1.2952760918899067,1.1431352455767316,1.0102031655871135,1.0350041355998103,-1.13428041412593,-1.5078242485916586,-1.1689114850456197,0.9315623583311706,-1.1787415859526125,0.6956399365633421,0.7644506429122921,0.7251302392843205,0.907212823808903,-0.445468689793277,-0.41597838707229823,1.0055138328788318,-0.9133288614638053,0.9020720556101921,0.705470037470335,-1.13428041412593,1.2414362546466609,-1.0902706777896767,0.7644506429122921,0.843091450168235,-1.1984017877665984,-0.7902268823811801,0.8136011474472565,0.8234312483542493,-1.1295910814176484,-1.4539844113484124,-1.075299808683973,1.0939847410417676,0.9807128628661349,-1.1047901114049516,-1.286872695929534,-1.159081384138627,0.8136011474472565,-1.1197609805106554,0.8922419547031993,0.7447904410983063,-1.06546970777698,-0.986828900521037,1.1333051446697389,-1.0359794050560014,-0.9133288614638053,1.7729663644674283,-0.3963181852583128,0.843091450168235,1.7139857590254708,-0.9723094669057626,1.054664337413796,-1.424494108627434,-1.06546970777698,-0.8885278914511088,0.8875526219949176,-1.1047901114049516,-0.800056983288173,-0.9081880932650943,-1.0556396068699871,-0.9573385978000585,1.1234750437627457,-0.9475084968930656,-1.1736008177539017,-1.075299808683973,1.1431352455767316,1.1431352455767316,-0.8786977905441158,0.843091450168235,0.9268730256228891,-0.9034987605568124,0.9367031265298816,-0.8051977514868838,0.9367031265298816,1.0251740346928173,0.7695914111110032,0.8529215510752278,0.8824118537962063,-0.9671686987070514,-1.1244503132189372,0.8285720165529604,1.2119459519256819,-0.986828900521037,0.8136011474472565,0.7153001383773279,0.8627516519822207,0.7841108447262777,-0.8248579533008695,-1.070610475975691,0.7447904410983063,1.1576546791920066,1.2461255873549422,-1.0312900723477196,0.7153001383773279,-1.0411201732547124,-1.149251283231634,-1.1001007786966697,-1.1099308796036627,-1.159081384138627,-1.0312900723477196,1.1478245782850138,0.8234312483542493,-1.0509502741617054,1.128164376471028,0.8332613492612421,-1.159081384138627,-1.149251283231634,0.7349603401913134,-1.1001007786966697,-1.1885716868596055,0.7546205420052992,-1.0214599714407266,-1.218061989580584,0.6858098356563491,0.7644506429122921,0.8824118537962063,-1.1984017877665984,-0.9428191641847841,0.7251302392843205,0.8136011474472565,-1.2672124941155485,1.0691837710290708,-0.9428191641847841,0.7644506429122921,-0.8641783569288413,0.9315623583311706,-0.9526492650917769,0.6858098356563491,-1.2377221913945697,0.9413924592381636,0.6563195329353706,1.1379944773780208,-0.8936686596498195,0.5285282211444634,1.1576546791920066,0.8136011474472565,-1.296702796836527,0.7644506429122921,0.5088680193304778,0.6759797347493562,0.7251302392843205,-1.1689114850456197,-0.9133288614638053,-0.29801717618838397,0.8627516519822207,-1.3458533013714915,1.0790138719360638,0.7349603401913134,1.059353670122078,1.2166352846339639,-1.1295910814176484,0.9413924592381636,0.9119021565171849,-1.13428041412593,0.7546205420052992,-1.0509502741617054,-1.0214599714407266,0.9807128628661349,-1.3458533013714915,-1.0312900723477196,0.8234312483542493,0.8922419547031993,-0.986828900521037,-1.0312900723477196,-1.227892090487577,0.9020720556101921,0.9315623583311706,0.6858098356563491,-1.1394211823246412,0.48920781751649206,1.0200332664941063,0.7349603401913134,0.9020720556101921,-0.8838385587428267,0.8824118537962063,0.9119021565171849,1.059353670122078,-1.0902706777896767,-0.9133288614638053,0.9512225601451563,0.8922419547031993,1.049523569215085,0.5285282211444634,-1.0312900723477196,-1.0607803750686982,-1.3065328977435196,-1.4736446131623988,0.9119021565171849,1.2166352846339639,0.7447904410983063,-1.0411201732547124,-1.159081384138627,0.9413924592381636,1.0790138719360638,0.8136011474472565,0.9807128628661349,0.9315623583311706,-1.218061989580584,0.8824118537962063,1.2316061537396676,0.9858536310648461,1.054664337413796,0.9119021565171849,0.6464894320283776,0.8136011474472565,0.8824118537962063,-1.0509502741617054,0.7153001383773279,0.9858536310648461,0.9413924592381636,0.8824118537962063,-1.2377221913945697,0.9119021565171849,0.7447904410983063,0.7841108447262777,0.7546205420052992,1.0986740737500493,-0.8346880542078626,0.843091450168235,1.059353670122078,-1.1885716868596055,-1.1295910814176484,0.8136011474472565,0.8627516519822207,0.8627516519822207,-1.1394211823246412,0.7546205420052992,-1.149251283231634,-1.4539844113484124,-1.3261930995575055,0.6464894320283776,0.7644506429122921,1.0200332664941063,0.6464894320283776,-1.1984017877665984,-1.070610475975691,-1.2377221913945697,-1.4048339068134486,0.7644506429122921,1.059353670122078,0.9020720556101921,0.8529215510752278,0.843091450168235,0.990542963773128,-1.218061989580584,0.7349603401913134,-1.0116298705337339,-1.1047901114049516,-0.8445181551148551,-1.1787415859526125,0.921732257424178,1.0888439728430566,0.8332613492612421,-0.8445181551148551,-1.365513503185477,-1.0411201732547124,0.8037710465402635,-0.9329890632777912,0.8627516519822207,-1.149251283231634,0.8037710465402635,-1.4343242095344266,0.8922419547031993,0.8922419547031993,-1.159081384138627,-1.1197609805106554,1.1773148810059924,1.1674847800989994,0.8725817528892138,0.990542963773128,1.0003730646801208,1.128164376471028,1.039693468308092,0.9512225601451563,-0.8445181551148551,0.8037710465402635,-1.4441543104414196,-0.8936686596498195,0.8725817528892138,1.0986740737500493,1.0790138719360638,0.7153001383773279,0.7447904410983063,0.7841108447262777,-1.2475522923015625,-0.9526492650917769,-1.2770425950225412,-1.0312900723477196,0.9020720556101921,-0.9034987605568124,-1.1099308796036627,-1.1295910814176484,0.7251302392843205,-0.8248579533008695,0.8136011474472565,0.9119021565171849,0.8725817528892138,0.8627516519822207,0.6759797347493562,0.7546205420052992,0.6661496338423634,0.7841108447262777,0.7349603401913134,-1.218061989580584,-1.149251283231634,-1.1099308796036627,0.9119021565171849,0.8037710465402635,-0.7953676505798911,0.970882761959142,0.8627516519822207,1.049523569215085,-1.0312900723477196,0.921732257424178,0.9020720556101921,0.9413924592381636,-0.9133288614638053,0.8627516519822207,-1.1099308796036627,-1.1197609805106554,1.108504174657042,-1.0116298705337339,-1.1295910814176484,-1.2082318886735914,-1.149251283231634,-1.1787415859526125,0.9315623583311706,1.0102031655871135,0.9119021565171849,1.0200332664941063,-1.227892090487577,-1.3163629986505125,-1.2377221913945697,-1.0902706777896767,-1.0312900723477196,-1.4441543104414196,0.7153001383773279,0.9020720556101921,-1.218061989580584,-1.0902706777896767,-1.0312900723477196,-0.9231589623707984,-1.070610475975691,0.8922419547031993,-1.286872695929534,0.9413924592381636,-0.8688676896371228,0.9315623583311706,0.8824118537962063,0.6563195329353706,0.8725817528892138,-0.2095462680254483,0.7644506429122921,-0.9428191641847841,-1.0163192032420156,0.9020720556101921,0.970882761959142,-0.9133288614638053,-1.080440576882684,-0.8838385587428267,0.8922419547031993,0.970882761959142,0.8627516519822207,0.9807128628661349,0.9020720556101921,0.7251302392843205,-1.218061989580584,1.0298633674010993,-1.296702796836527,-1.0902706777896767,-1.1885716868596055,0.8332613492612421,0.8037710465402635,0.705470037470335,-0.9526492650917769,-1.227892090487577,-1.070610475975691,-0.8740084578358339,0.7644506429122921,1.0102031655871135,1.039693468308092,-1.1197609805106554,0.8136011474472565,0.8725817528892138,-1.1099308796036627,-1.2672124941155485,0.7251302392843205,0.9858536310648461,-1.286872695929534,-1.080440576882684,-1.1244503132189372,-1.2672124941155485,-0.854348256021848,0.8922419547031993,0.7742807438192848,-1.1689114850456197,-1.1689114850456197,0.843091450168235,1.039693468308092,-1.2573823932085553,-1.1984017877665984,0.7447904410983063,-1.4441543104414196,-0.8983579923581012,0.5088680193304778,-0.9180181941720872,-1.0411201732547124,-0.9180181941720872,-0.7902268823811801,-1.0359794050560014,0.7349603401913134,0.7106108056690459,0.917042924715896,1.049523569215085,-1.070610475975691,-0.8295472860091515,-1.2573823932085553,1.0888439728430566,0.9807128628661349,-1.0556396068699871,-0.9034987605568124,-1.0017997696267409,-0.9821395678127554,-1.0509502741617054,-1.144110515032923,-0.5489104670619166,-0.9231589623707984,-0.9231589623707984,-1.2770425950225412,-1.1984017877665984,0.9807128628661349,1.039693468308092,0.7939409456332708,-0.8590375887301303,0.843091450168235,0.7644506429122921,-0.8786977905441158,-1.1295910814176484,-0.6231151669623013,-1.2129212213818727,1.0644944383207888,1.6844954563044916,-0.41597838707229823,1.664835254490506,-0.92784829507908,1.8417770708163779,-0.8786977905441158,-1.222751322288866,-1.0458095059629944,-1.1539406159399157,-0.8393773869161444,-0.8983579923581012,-0.9180181941720872,-0.24886667165341983,0.9956837319718388,1.0251740346928173,1.2316061537396676,1.0350041355998103,-0.8295472860091515,1.0350041355998103,1.5763643463275705,0.7251302392843205,-0.445468689793277,-0.6820957724042588,-1.1394211823246412,-0.9180181941720872,1.5173837408856132,1.300416860088618,-0.8150278523938765,1.059353670122078,-1.159081384138627,0.8332613492612421,0.6956399365633421,0.6956399365633421,-1.0607803750686982,-1.075299808683973,0.7644506429122921,0.843091450168235,0.7742807438192848,-0.7855375496728982,0.9610526610521491,0.9512225601451563,-1.1394211823246412,-1.2377221913945697,0.9020720556101921,0.8627516519822207,0.7447904410983063,0.8627516519822207,-1.149251283231634,-1.424494108627434,-1.0017997696267409,0.843091450168235,0.7939409456332708,0.8037710465402635,0.9315623583311706,-0.9329890632777912,-1.1394211823246412,1.1773148810059924,-0.9624793659987697,-0.7167268433239481,-1.1885716868596055,-1.0902706777896767,0.7447904410983063,0.9119021565171849,-0.9624793659987697,-1.1885716868596055,-1.2377221913945697,-0.8740084578358339,-1.149251283231634,-0.7855375496728982,-1.3261930995575055,-1.0509502741617054,0.7349603401913134,-0.9526492650917769,-1.1885716868596055,1.0200332664941063,-1.080440576882684,-0.9526492650917769,-1.2475522923015625,1.0986740737500493,-0.9723094669057626,-0.9821395678127554,1.2217760528326747,0.4990379184234848,-1.227892090487577,1.1674847800989994,1.0888439728430566,0.9119021565171849,1.0691837710290708,0.8332613492612421,1.0200332664941063,-1.1001007786966697,1.128164376471028,-1.0116298705337339,-1.149251283231634,0.6563195329353706,-0.9919696687197482,0.6661496338423634,0.8332613492612421,1.1183342755640353,-1.1787415859526125,-1.0902706777896767,0.5088680193304778,0.990542963773128,-0.9133288614638053,0.705470037470335,-1.159081384138627,-0.9624793659987697,0.990542963773128,0.7153001383773279,0.8234312483542493,0.8725817528892138,0.7447904410983063,0.48920781751649206,0.6268292302143921,-1.080440576882684,1.2362954864479492,-1.0902706777896767,-1.3065328977435196,0.7447904410983063,0.7939409456332708,0.9315623583311706,1.1871449819129851,0.7251302392843205,0.7447904410983063,0.6759797347493562,0.921732257424178,-1.0509502741617054,-1.070610475975691,-1.4343242095344266,0.7251302392843205,-1.2573823932085553,0.8037710465402635,-1.1197609805106554,0.6071690284004064,-0.8051977514868838,0.9119021565171849,-0.9821395678127554,-1.1295910814176484,1.128164376471028,0.6169991293073992,-1.2377221913945697,0.9413924592381636,-1.149251283231634,-1.2672124941155485,0.990542963773128,-1.0509502741617054,1.0153439337858248,0.990542963773128,0.7251302392843205,-0.8150278523938765,1.6550051535835137,-0.3373375798163555,1.0102031655871135,-0.8098870841951656,-1.2377221913945697,0.6661496338423634,0.8627516519822207,0.6169991293073992,0.7251302392843205,1.0200332664941063,0.8529215510752278,0.8922419547031993,-0.9231589623707984,0.9807128628661349,-0.9133288614638053,-1.1295910814176484,0.7251302392843205,-1.2082318886735914,0.8922419547031993,0.7644506429122921,0.9020720556101921,-0.8838385587428267,-1.149251283231634,1.0102031655871135,0.8627516519822207,0.7644506429122921,1.0298633674010993,-0.9428191641847841,0.9610526610521491,1.074324539227782,-0.9526492650917769,0.7939409456332708,-0.9723094669057626,0.7447904410983063,0.8037710465402635,-0.7560472469519198,-1.0411201732547124,-1.0116298705337339,-0.8838385587428267,-0.9133288614638053,0.7841108447262777,0.8332613492612421,-1.2672124941155485,1.2657857891689281,0.9119021565171849,-1.2082318886735914,0.8332613492612421,-0.9034987605568124,1.1478245782850138,-1.1197609805106554,0.7841108447262777,0.6759797347493562,-1.1197609805106554,-1.2475522923015625,0.8725817528892138,-1.2573823932085553,1.0986740737500493,1.0448342365068033,0.7841108447262777,1.039693468308092,1.0200332664941063,-0.9034987605568124,0.8332613492612421,1.0102031655871135,-0.8740084578358339,0.9020720556101921,-1.0411201732547124,-1.1099308796036627,-1.0116298705337339,-1.1885716868596055,-1.2377221913945697,1.3542566973318635,-1.4638145122554056,0.9413924592381636,0.7153001383773278,0.8234312483542493,-0.7855375496728983,-0.8150278523938765],\"yaxis\":\"y\",\"type\":\"scattergl\"},{\"hovertemplate\":\"x=%{x}<br>y=%{y}<br>size=%{marker.size}<extra></extra>\",\"legendgroup\":\"\",\"marker\":{\"color\":\"#636efa\",\"size\":[15,15,15,15],\"sizemode\":\"area\",\"sizeref\":0.0375,\"symbol\":\"circle\"},\"mode\":\"markers\",\"name\":\"\",\"orientation\":\"v\",\"showlegend\":false,\"x\":[-0.6700853319508053,-0.4223534356624555,4.48355720531979,1.4357145311218018],\"xaxis\":\"x\",\"y\":[0.8776737128639077,-1.0974081042961035,0.4406197620193984,-0.17523493737158283],\"yaxis\":\"y\",\"type\":\"scatter\"}],                        {\"template\":{\"data\":{\"bar\":[{\"error_x\":{\"color\":\"#2a3f5f\"},\"error_y\":{\"color\":\"#2a3f5f\"},\"marker\":{\"line\":{\"color\":\"#E5ECF6\",\"width\":0.5},\"pattern\":{\"fillmode\":\"overlay\",\"size\":10,\"solidity\":0.2}},\"type\":\"bar\"}],\"barpolar\":[{\"marker\":{\"line\":{\"color\":\"#E5ECF6\",\"width\":0.5},\"pattern\":{\"fillmode\":\"overlay\",\"size\":10,\"solidity\":0.2}},\"type\":\"barpolar\"}],\"carpet\":[{\"aaxis\":{\"endlinecolor\":\"#2a3f5f\",\"gridcolor\":\"white\",\"linecolor\":\"white\",\"minorgridcolor\":\"white\",\"startlinecolor\":\"#2a3f5f\"},\"baxis\":{\"endlinecolor\":\"#2a3f5f\",\"gridcolor\":\"white\",\"linecolor\":\"white\",\"minorgridcolor\":\"white\",\"startlinecolor\":\"#2a3f5f\"},\"type\":\"carpet\"}],\"choropleth\":[{\"colorbar\":{\"outlinewidth\":0,\"ticks\":\"\"},\"type\":\"choropleth\"}],\"contour\":[{\"colorbar\":{\"outlinewidth\":0,\"ticks\":\"\"},\"colorscale\":[[0.0,\"#0d0887\"],[0.1111111111111111,\"#46039f\"],[0.2222222222222222,\"#7201a8\"],[0.3333333333333333,\"#9c179e\"],[0.4444444444444444,\"#bd3786\"],[0.5555555555555556,\"#d8576b\"],[0.6666666666666666,\"#ed7953\"],[0.7777777777777778,\"#fb9f3a\"],[0.8888888888888888,\"#fdca26\"],[1.0,\"#f0f921\"]],\"type\":\"contour\"}],\"contourcarpet\":[{\"colorbar\":{\"outlinewidth\":0,\"ticks\":\"\"},\"type\":\"contourcarpet\"}],\"heatmap\":[{\"colorbar\":{\"outlinewidth\":0,\"ticks\":\"\"},\"colorscale\":[[0.0,\"#0d0887\"],[0.1111111111111111,\"#46039f\"],[0.2222222222222222,\"#7201a8\"],[0.3333333333333333,\"#9c179e\"],[0.4444444444444444,\"#bd3786\"],[0.5555555555555556,\"#d8576b\"],[0.6666666666666666,\"#ed7953\"],[0.7777777777777778,\"#fb9f3a\"],[0.8888888888888888,\"#fdca26\"],[1.0,\"#f0f921\"]],\"type\":\"heatmap\"}],\"heatmapgl\":[{\"colorbar\":{\"outlinewidth\":0,\"ticks\":\"\"},\"colorscale\":[[0.0,\"#0d0887\"],[0.1111111111111111,\"#46039f\"],[0.2222222222222222,\"#7201a8\"],[0.3333333333333333,\"#9c179e\"],[0.4444444444444444,\"#bd3786\"],[0.5555555555555556,\"#d8576b\"],[0.6666666666666666,\"#ed7953\"],[0.7777777777777778,\"#fb9f3a\"],[0.8888888888888888,\"#fdca26\"],[1.0,\"#f0f921\"]],\"type\":\"heatmapgl\"}],\"histogram\":[{\"marker\":{\"pattern\":{\"fillmode\":\"overlay\",\"size\":10,\"solidity\":0.2}},\"type\":\"histogram\"}],\"histogram2d\":[{\"colorbar\":{\"outlinewidth\":0,\"ticks\":\"\"},\"colorscale\":[[0.0,\"#0d0887\"],[0.1111111111111111,\"#46039f\"],[0.2222222222222222,\"#7201a8\"],[0.3333333333333333,\"#9c179e\"],[0.4444444444444444,\"#bd3786\"],[0.5555555555555556,\"#d8576b\"],[0.6666666666666666,\"#ed7953\"],[0.7777777777777778,\"#fb9f3a\"],[0.8888888888888888,\"#fdca26\"],[1.0,\"#f0f921\"]],\"type\":\"histogram2d\"}],\"histogram2dcontour\":[{\"colorbar\":{\"outlinewidth\":0,\"ticks\":\"\"},\"colorscale\":[[0.0,\"#0d0887\"],[0.1111111111111111,\"#46039f\"],[0.2222222222222222,\"#7201a8\"],[0.3333333333333333,\"#9c179e\"],[0.4444444444444444,\"#bd3786\"],[0.5555555555555556,\"#d8576b\"],[0.6666666666666666,\"#ed7953\"],[0.7777777777777778,\"#fb9f3a\"],[0.8888888888888888,\"#fdca26\"],[1.0,\"#f0f921\"]],\"type\":\"histogram2dcontour\"}],\"mesh3d\":[{\"colorbar\":{\"outlinewidth\":0,\"ticks\":\"\"},\"type\":\"mesh3d\"}],\"parcoords\":[{\"line\":{\"colorbar\":{\"outlinewidth\":0,\"ticks\":\"\"}},\"type\":\"parcoords\"}],\"pie\":[{\"automargin\":true,\"type\":\"pie\"}],\"scatter\":[{\"marker\":{\"colorbar\":{\"outlinewidth\":0,\"ticks\":\"\"}},\"type\":\"scatter\"}],\"scatter3d\":[{\"line\":{\"colorbar\":{\"outlinewidth\":0,\"ticks\":\"\"}},\"marker\":{\"colorbar\":{\"outlinewidth\":0,\"ticks\":\"\"}},\"type\":\"scatter3d\"}],\"scattercarpet\":[{\"marker\":{\"colorbar\":{\"outlinewidth\":0,\"ticks\":\"\"}},\"type\":\"scattercarpet\"}],\"scattergeo\":[{\"marker\":{\"colorbar\":{\"outlinewidth\":0,\"ticks\":\"\"}},\"type\":\"scattergeo\"}],\"scattergl\":[{\"marker\":{\"colorbar\":{\"outlinewidth\":0,\"ticks\":\"\"}},\"type\":\"scattergl\"}],\"scattermapbox\":[{\"marker\":{\"colorbar\":{\"outlinewidth\":0,\"ticks\":\"\"}},\"type\":\"scattermapbox\"}],\"scatterpolar\":[{\"marker\":{\"colorbar\":{\"outlinewidth\":0,\"ticks\":\"\"}},\"type\":\"scatterpolar\"}],\"scatterpolargl\":[{\"marker\":{\"colorbar\":{\"outlinewidth\":0,\"ticks\":\"\"}},\"type\":\"scatterpolargl\"}],\"scatterternary\":[{\"marker\":{\"colorbar\":{\"outlinewidth\":0,\"ticks\":\"\"}},\"type\":\"scatterternary\"}],\"surface\":[{\"colorbar\":{\"outlinewidth\":0,\"ticks\":\"\"},\"colorscale\":[[0.0,\"#0d0887\"],[0.1111111111111111,\"#46039f\"],[0.2222222222222222,\"#7201a8\"],[0.3333333333333333,\"#9c179e\"],[0.4444444444444444,\"#bd3786\"],[0.5555555555555556,\"#d8576b\"],[0.6666666666666666,\"#ed7953\"],[0.7777777777777778,\"#fb9f3a\"],[0.8888888888888888,\"#fdca26\"],[1.0,\"#f0f921\"]],\"type\":\"surface\"}],\"table\":[{\"cells\":{\"fill\":{\"color\":\"#EBF0F8\"},\"line\":{\"color\":\"white\"}},\"header\":{\"fill\":{\"color\":\"#C8D4E3\"},\"line\":{\"color\":\"white\"}},\"type\":\"table\"}]},\"layout\":{\"annotationdefaults\":{\"arrowcolor\":\"#2a3f5f\",\"arrowhead\":0,\"arrowwidth\":1},\"autotypenumbers\":\"strict\",\"coloraxis\":{\"colorbar\":{\"outlinewidth\":0,\"ticks\":\"\"}},\"colorscale\":{\"diverging\":[[0,\"#8e0152\"],[0.1,\"#c51b7d\"],[0.2,\"#de77ae\"],[0.3,\"#f1b6da\"],[0.4,\"#fde0ef\"],[0.5,\"#f7f7f7\"],[0.6,\"#e6f5d0\"],[0.7,\"#b8e186\"],[0.8,\"#7fbc41\"],[0.9,\"#4d9221\"],[1,\"#276419\"]],\"sequential\":[[0.0,\"#0d0887\"],[0.1111111111111111,\"#46039f\"],[0.2222222222222222,\"#7201a8\"],[0.3333333333333333,\"#9c179e\"],[0.4444444444444444,\"#bd3786\"],[0.5555555555555556,\"#d8576b\"],[0.6666666666666666,\"#ed7953\"],[0.7777777777777778,\"#fb9f3a\"],[0.8888888888888888,\"#fdca26\"],[1.0,\"#f0f921\"]],\"sequentialminus\":[[0.0,\"#0d0887\"],[0.1111111111111111,\"#46039f\"],[0.2222222222222222,\"#7201a8\"],[0.3333333333333333,\"#9c179e\"],[0.4444444444444444,\"#bd3786\"],[0.5555555555555556,\"#d8576b\"],[0.6666666666666666,\"#ed7953\"],[0.7777777777777778,\"#fb9f3a\"],[0.8888888888888888,\"#fdca26\"],[1.0,\"#f0f921\"]]},\"colorway\":[\"#636efa\",\"#EF553B\",\"#00cc96\",\"#ab63fa\",\"#FFA15A\",\"#19d3f3\",\"#FF6692\",\"#B6E880\",\"#FF97FF\",\"#FECB52\"],\"font\":{\"color\":\"#2a3f5f\"},\"geo\":{\"bgcolor\":\"white\",\"lakecolor\":\"white\",\"landcolor\":\"#E5ECF6\",\"showlakes\":true,\"showland\":true,\"subunitcolor\":\"white\"},\"hoverlabel\":{\"align\":\"left\"},\"hovermode\":\"closest\",\"mapbox\":{\"style\":\"light\"},\"paper_bgcolor\":\"white\",\"plot_bgcolor\":\"#E5ECF6\",\"polar\":{\"angularaxis\":{\"gridcolor\":\"white\",\"linecolor\":\"white\",\"ticks\":\"\"},\"bgcolor\":\"#E5ECF6\",\"radialaxis\":{\"gridcolor\":\"white\",\"linecolor\":\"white\",\"ticks\":\"\"}},\"scene\":{\"xaxis\":{\"backgroundcolor\":\"#E5ECF6\",\"gridcolor\":\"white\",\"gridwidth\":2,\"linecolor\":\"white\",\"showbackground\":true,\"ticks\":\"\",\"zerolinecolor\":\"white\"},\"yaxis\":{\"backgroundcolor\":\"#E5ECF6\",\"gridcolor\":\"white\",\"gridwidth\":2,\"linecolor\":\"white\",\"showbackground\":true,\"ticks\":\"\",\"zerolinecolor\":\"white\"},\"zaxis\":{\"backgroundcolor\":\"#E5ECF6\",\"gridcolor\":\"white\",\"gridwidth\":2,\"linecolor\":\"white\",\"showbackground\":true,\"ticks\":\"\",\"zerolinecolor\":\"white\"}},\"shapedefaults\":{\"line\":{\"color\":\"#2a3f5f\"}},\"ternary\":{\"aaxis\":{\"gridcolor\":\"white\",\"linecolor\":\"white\",\"ticks\":\"\"},\"baxis\":{\"gridcolor\":\"white\",\"linecolor\":\"white\",\"ticks\":\"\"},\"bgcolor\":\"#E5ECF6\",\"caxis\":{\"gridcolor\":\"white\",\"linecolor\":\"white\",\"ticks\":\"\"}},\"title\":{\"x\":0.05},\"xaxis\":{\"automargin\":true,\"gridcolor\":\"white\",\"linecolor\":\"white\",\"ticks\":\"\",\"title\":{\"standoff\":15},\"zerolinecolor\":\"white\",\"zerolinewidth\":2},\"yaxis\":{\"automargin\":true,\"gridcolor\":\"white\",\"linecolor\":\"white\",\"ticks\":\"\",\"title\":{\"standoff\":15},\"zerolinecolor\":\"white\",\"zerolinewidth\":2}}},\"title\":{\"text\":\"Agrupamento K-Means com PCA\"},\"width\":800,\"height\":500,\"xaxis\":{\"title\":{\"text\":\"Componente 1\"}},\"yaxis\":{\"title\":{\"text\":\"Componente 2\"}}},                        {\"responsive\": true}                    ).then(function(){\n",
              "                            \n",
              "var gd = document.getElementById('cb8b964f-4e25-47d6-8445-b410de6aa800');\n",
              "var x = new MutationObserver(function (mutations, observer) {{\n",
              "        var display = window.getComputedStyle(gd).display;\n",
              "        if (!display || display === 'none') {{\n",
              "            console.log([gd, 'removed!']);\n",
              "            Plotly.purge(gd);\n",
              "            observer.disconnect();\n",
              "        }}\n",
              "}});\n",
              "\n",
              "// Listen for the removal of the full notebook cells\n",
              "var notebookContainer = gd.closest('#notebook-container');\n",
              "if (notebookContainer) {{\n",
              "    x.observe(notebookContainer, {childList: true});\n",
              "}}\n",
              "\n",
              "// Listen for the clearing of the current output cell\n",
              "var outputEl = gd.closest('.output');\n",
              "if (outputEl) {{\n",
              "    x.observe(outputEl, {childList: true});\n",
              "}}\n",
              "\n",
              "                        })                };                            </script>        </div>\n",
              "</body>\n",
              "</html>"
            ]
          },
          "metadata": {}
        }
      ]
    },
    {
      "cell_type": "code",
      "source": [
        "agrupamento = pd.DataFrame(classificacao, columns = ['Grupo'])\n",
        "agrupamento"
      ],
      "metadata": {
        "colab": {
          "base_uri": "https://localhost:8080/",
          "height": 424
        },
        "id": "-3j6MfrjKvtd",
        "outputId": "c9387fac-c222-44e7-b03f-89fd023f51f7"
      },
      "execution_count": 225,
      "outputs": [
        {
          "output_type": "execute_result",
          "data": {
            "text/plain": [
              "      Grupo\n",
              "0         1\n",
              "1         1\n",
              "2         1\n",
              "3         0\n",
              "4         1\n",
              "...     ...\n",
              "5898      0\n",
              "5899      0\n",
              "5900      0\n",
              "5901      1\n",
              "5902      1\n",
              "\n",
              "[5903 rows x 1 columns]"
            ],
            "text/html": [
              "\n",
              "  <div id=\"df-ec8e9f20-298e-48c4-ad9c-8942300ee9bb\">\n",
              "    <div class=\"colab-df-container\">\n",
              "      <div>\n",
              "<style scoped>\n",
              "    .dataframe tbody tr th:only-of-type {\n",
              "        vertical-align: middle;\n",
              "    }\n",
              "\n",
              "    .dataframe tbody tr th {\n",
              "        vertical-align: top;\n",
              "    }\n",
              "\n",
              "    .dataframe thead th {\n",
              "        text-align: right;\n",
              "    }\n",
              "</style>\n",
              "<table border=\"1\" class=\"dataframe\">\n",
              "  <thead>\n",
              "    <tr style=\"text-align: right;\">\n",
              "      <th></th>\n",
              "      <th>Grupo</th>\n",
              "    </tr>\n",
              "  </thead>\n",
              "  <tbody>\n",
              "    <tr>\n",
              "      <th>0</th>\n",
              "      <td>1</td>\n",
              "    </tr>\n",
              "    <tr>\n",
              "      <th>1</th>\n",
              "      <td>1</td>\n",
              "    </tr>\n",
              "    <tr>\n",
              "      <th>2</th>\n",
              "      <td>1</td>\n",
              "    </tr>\n",
              "    <tr>\n",
              "      <th>3</th>\n",
              "      <td>0</td>\n",
              "    </tr>\n",
              "    <tr>\n",
              "      <th>4</th>\n",
              "      <td>1</td>\n",
              "    </tr>\n",
              "    <tr>\n",
              "      <th>...</th>\n",
              "      <td>...</td>\n",
              "    </tr>\n",
              "    <tr>\n",
              "      <th>5898</th>\n",
              "      <td>0</td>\n",
              "    </tr>\n",
              "    <tr>\n",
              "      <th>5899</th>\n",
              "      <td>0</td>\n",
              "    </tr>\n",
              "    <tr>\n",
              "      <th>5900</th>\n",
              "      <td>0</td>\n",
              "    </tr>\n",
              "    <tr>\n",
              "      <th>5901</th>\n",
              "      <td>1</td>\n",
              "    </tr>\n",
              "    <tr>\n",
              "      <th>5902</th>\n",
              "      <td>1</td>\n",
              "    </tr>\n",
              "  </tbody>\n",
              "</table>\n",
              "<p>5903 rows × 1 columns</p>\n",
              "</div>\n",
              "      <button class=\"colab-df-convert\" onclick=\"convertToInteractive('df-ec8e9f20-298e-48c4-ad9c-8942300ee9bb')\"\n",
              "              title=\"Convert this dataframe to an interactive table.\"\n",
              "              style=\"display:none;\">\n",
              "        \n",
              "  <svg xmlns=\"http://www.w3.org/2000/svg\" height=\"24px\"viewBox=\"0 0 24 24\"\n",
              "       width=\"24px\">\n",
              "    <path d=\"M0 0h24v24H0V0z\" fill=\"none\"/>\n",
              "    <path d=\"M18.56 5.44l.94 2.06.94-2.06 2.06-.94-2.06-.94-.94-2.06-.94 2.06-2.06.94zm-11 1L8.5 8.5l.94-2.06 2.06-.94-2.06-.94L8.5 2.5l-.94 2.06-2.06.94zm10 10l.94 2.06.94-2.06 2.06-.94-2.06-.94-.94-2.06-.94 2.06-2.06.94z\"/><path d=\"M17.41 7.96l-1.37-1.37c-.4-.4-.92-.59-1.43-.59-.52 0-1.04.2-1.43.59L10.3 9.45l-7.72 7.72c-.78.78-.78 2.05 0 2.83L4 21.41c.39.39.9.59 1.41.59.51 0 1.02-.2 1.41-.59l7.78-7.78 2.81-2.81c.8-.78.8-2.07 0-2.86zM5.41 20L4 18.59l7.72-7.72 1.47 1.35L5.41 20z\"/>\n",
              "  </svg>\n",
              "      </button>\n",
              "      \n",
              "  <style>\n",
              "    .colab-df-container {\n",
              "      display:flex;\n",
              "      flex-wrap:wrap;\n",
              "      gap: 12px;\n",
              "    }\n",
              "\n",
              "    .colab-df-convert {\n",
              "      background-color: #E8F0FE;\n",
              "      border: none;\n",
              "      border-radius: 50%;\n",
              "      cursor: pointer;\n",
              "      display: none;\n",
              "      fill: #1967D2;\n",
              "      height: 32px;\n",
              "      padding: 0 0 0 0;\n",
              "      width: 32px;\n",
              "    }\n",
              "\n",
              "    .colab-df-convert:hover {\n",
              "      background-color: #E2EBFA;\n",
              "      box-shadow: 0px 1px 2px rgba(60, 64, 67, 0.3), 0px 1px 3px 1px rgba(60, 64, 67, 0.15);\n",
              "      fill: #174EA6;\n",
              "    }\n",
              "\n",
              "    [theme=dark] .colab-df-convert {\n",
              "      background-color: #3B4455;\n",
              "      fill: #D2E3FC;\n",
              "    }\n",
              "\n",
              "    [theme=dark] .colab-df-convert:hover {\n",
              "      background-color: #434B5C;\n",
              "      box-shadow: 0px 1px 3px 1px rgba(0, 0, 0, 0.15);\n",
              "      filter: drop-shadow(0px 1px 2px rgba(0, 0, 0, 0.3));\n",
              "      fill: #FFFFFF;\n",
              "    }\n",
              "  </style>\n",
              "\n",
              "      <script>\n",
              "        const buttonEl =\n",
              "          document.querySelector('#df-ec8e9f20-298e-48c4-ad9c-8942300ee9bb button.colab-df-convert');\n",
              "        buttonEl.style.display =\n",
              "          google.colab.kernel.accessAllowed ? 'block' : 'none';\n",
              "\n",
              "        async function convertToInteractive(key) {\n",
              "          const element = document.querySelector('#df-ec8e9f20-298e-48c4-ad9c-8942300ee9bb');\n",
              "          const dataTable =\n",
              "            await google.colab.kernel.invokeFunction('convertToInteractive',\n",
              "                                                     [key], {});\n",
              "          if (!dataTable) return;\n",
              "\n",
              "          const docLinkHtml = 'Like what you see? Visit the ' +\n",
              "            '<a target=\"_blank\" href=https://colab.research.google.com/notebooks/data_table.ipynb>data table notebook</a>'\n",
              "            + ' to learn more about interactive tables.';\n",
              "          element.innerHTML = '';\n",
              "          dataTable['output_type'] = 'display_data';\n",
              "          await google.colab.output.renderOutput(dataTable, element);\n",
              "          const docLink = document.createElement('div');\n",
              "          docLink.innerHTML = docLinkHtml;\n",
              "          element.appendChild(docLink);\n",
              "        }\n",
              "      </script>\n",
              "    </div>\n",
              "  </div>\n",
              "  "
            ]
          },
          "metadata": {},
          "execution_count": 225
        }
      ]
    },
    {
      "cell_type": "code",
      "source": [
        "df2 = pd.concat([df2, agrupamento],axis=1)\n",
        "df2"
      ],
      "metadata": {
        "colab": {
          "base_uri": "https://localhost:8080/",
          "height": 424
        },
        "id": "gbqY11NOKyBG",
        "outputId": "6bc32f8b-b3cc-420a-941a-a7c493eb533f"
      },
      "execution_count": 226,
      "outputs": [
        {
          "output_type": "execute_result",
          "data": {
            "text/plain": [
              "      IDADE  SEXO  INTERNADO  STATUS  Grupo\n",
              "0        54     1          0       0      1\n",
              "1        15     1          0       0      1\n",
              "2        43     1          0       0      1\n",
              "3        25     0          0       0      0\n",
              "4        58     1          0       0      1\n",
              "...     ...   ...        ...     ...    ...\n",
              "5898     46     0          0       0      0\n",
              "5899     23     0          0       0      0\n",
              "5900     34     0          0       0      0\n",
              "5901     70     1          0       0      1\n",
              "5902     67     1          0       0      1\n",
              "\n",
              "[5903 rows x 5 columns]"
            ],
            "text/html": [
              "\n",
              "  <div id=\"df-1c9a4065-a6b1-4a31-accf-87d224b67ce3\">\n",
              "    <div class=\"colab-df-container\">\n",
              "      <div>\n",
              "<style scoped>\n",
              "    .dataframe tbody tr th:only-of-type {\n",
              "        vertical-align: middle;\n",
              "    }\n",
              "\n",
              "    .dataframe tbody tr th {\n",
              "        vertical-align: top;\n",
              "    }\n",
              "\n",
              "    .dataframe thead th {\n",
              "        text-align: right;\n",
              "    }\n",
              "</style>\n",
              "<table border=\"1\" class=\"dataframe\">\n",
              "  <thead>\n",
              "    <tr style=\"text-align: right;\">\n",
              "      <th></th>\n",
              "      <th>IDADE</th>\n",
              "      <th>SEXO</th>\n",
              "      <th>INTERNADO</th>\n",
              "      <th>STATUS</th>\n",
              "      <th>Grupo</th>\n",
              "    </tr>\n",
              "  </thead>\n",
              "  <tbody>\n",
              "    <tr>\n",
              "      <th>0</th>\n",
              "      <td>54</td>\n",
              "      <td>1</td>\n",
              "      <td>0</td>\n",
              "      <td>0</td>\n",
              "      <td>1</td>\n",
              "    </tr>\n",
              "    <tr>\n",
              "      <th>1</th>\n",
              "      <td>15</td>\n",
              "      <td>1</td>\n",
              "      <td>0</td>\n",
              "      <td>0</td>\n",
              "      <td>1</td>\n",
              "    </tr>\n",
              "    <tr>\n",
              "      <th>2</th>\n",
              "      <td>43</td>\n",
              "      <td>1</td>\n",
              "      <td>0</td>\n",
              "      <td>0</td>\n",
              "      <td>1</td>\n",
              "    </tr>\n",
              "    <tr>\n",
              "      <th>3</th>\n",
              "      <td>25</td>\n",
              "      <td>0</td>\n",
              "      <td>0</td>\n",
              "      <td>0</td>\n",
              "      <td>0</td>\n",
              "    </tr>\n",
              "    <tr>\n",
              "      <th>4</th>\n",
              "      <td>58</td>\n",
              "      <td>1</td>\n",
              "      <td>0</td>\n",
              "      <td>0</td>\n",
              "      <td>1</td>\n",
              "    </tr>\n",
              "    <tr>\n",
              "      <th>...</th>\n",
              "      <td>...</td>\n",
              "      <td>...</td>\n",
              "      <td>...</td>\n",
              "      <td>...</td>\n",
              "      <td>...</td>\n",
              "    </tr>\n",
              "    <tr>\n",
              "      <th>5898</th>\n",
              "      <td>46</td>\n",
              "      <td>0</td>\n",
              "      <td>0</td>\n",
              "      <td>0</td>\n",
              "      <td>0</td>\n",
              "    </tr>\n",
              "    <tr>\n",
              "      <th>5899</th>\n",
              "      <td>23</td>\n",
              "      <td>0</td>\n",
              "      <td>0</td>\n",
              "      <td>0</td>\n",
              "      <td>0</td>\n",
              "    </tr>\n",
              "    <tr>\n",
              "      <th>5900</th>\n",
              "      <td>34</td>\n",
              "      <td>0</td>\n",
              "      <td>0</td>\n",
              "      <td>0</td>\n",
              "      <td>0</td>\n",
              "    </tr>\n",
              "    <tr>\n",
              "      <th>5901</th>\n",
              "      <td>70</td>\n",
              "      <td>1</td>\n",
              "      <td>0</td>\n",
              "      <td>0</td>\n",
              "      <td>1</td>\n",
              "    </tr>\n",
              "    <tr>\n",
              "      <th>5902</th>\n",
              "      <td>67</td>\n",
              "      <td>1</td>\n",
              "      <td>0</td>\n",
              "      <td>0</td>\n",
              "      <td>1</td>\n",
              "    </tr>\n",
              "  </tbody>\n",
              "</table>\n",
              "<p>5903 rows × 5 columns</p>\n",
              "</div>\n",
              "      <button class=\"colab-df-convert\" onclick=\"convertToInteractive('df-1c9a4065-a6b1-4a31-accf-87d224b67ce3')\"\n",
              "              title=\"Convert this dataframe to an interactive table.\"\n",
              "              style=\"display:none;\">\n",
              "        \n",
              "  <svg xmlns=\"http://www.w3.org/2000/svg\" height=\"24px\"viewBox=\"0 0 24 24\"\n",
              "       width=\"24px\">\n",
              "    <path d=\"M0 0h24v24H0V0z\" fill=\"none\"/>\n",
              "    <path d=\"M18.56 5.44l.94 2.06.94-2.06 2.06-.94-2.06-.94-.94-2.06-.94 2.06-2.06.94zm-11 1L8.5 8.5l.94-2.06 2.06-.94-2.06-.94L8.5 2.5l-.94 2.06-2.06.94zm10 10l.94 2.06.94-2.06 2.06-.94-2.06-.94-.94-2.06-.94 2.06-2.06.94z\"/><path d=\"M17.41 7.96l-1.37-1.37c-.4-.4-.92-.59-1.43-.59-.52 0-1.04.2-1.43.59L10.3 9.45l-7.72 7.72c-.78.78-.78 2.05 0 2.83L4 21.41c.39.39.9.59 1.41.59.51 0 1.02-.2 1.41-.59l7.78-7.78 2.81-2.81c.8-.78.8-2.07 0-2.86zM5.41 20L4 18.59l7.72-7.72 1.47 1.35L5.41 20z\"/>\n",
              "  </svg>\n",
              "      </button>\n",
              "      \n",
              "  <style>\n",
              "    .colab-df-container {\n",
              "      display:flex;\n",
              "      flex-wrap:wrap;\n",
              "      gap: 12px;\n",
              "    }\n",
              "\n",
              "    .colab-df-convert {\n",
              "      background-color: #E8F0FE;\n",
              "      border: none;\n",
              "      border-radius: 50%;\n",
              "      cursor: pointer;\n",
              "      display: none;\n",
              "      fill: #1967D2;\n",
              "      height: 32px;\n",
              "      padding: 0 0 0 0;\n",
              "      width: 32px;\n",
              "    }\n",
              "\n",
              "    .colab-df-convert:hover {\n",
              "      background-color: #E2EBFA;\n",
              "      box-shadow: 0px 1px 2px rgba(60, 64, 67, 0.3), 0px 1px 3px 1px rgba(60, 64, 67, 0.15);\n",
              "      fill: #174EA6;\n",
              "    }\n",
              "\n",
              "    [theme=dark] .colab-df-convert {\n",
              "      background-color: #3B4455;\n",
              "      fill: #D2E3FC;\n",
              "    }\n",
              "\n",
              "    [theme=dark] .colab-df-convert:hover {\n",
              "      background-color: #434B5C;\n",
              "      box-shadow: 0px 1px 3px 1px rgba(0, 0, 0, 0.15);\n",
              "      filter: drop-shadow(0px 1px 2px rgba(0, 0, 0, 0.3));\n",
              "      fill: #FFFFFF;\n",
              "    }\n",
              "  </style>\n",
              "\n",
              "      <script>\n",
              "        const buttonEl =\n",
              "          document.querySelector('#df-1c9a4065-a6b1-4a31-accf-87d224b67ce3 button.colab-df-convert');\n",
              "        buttonEl.style.display =\n",
              "          google.colab.kernel.accessAllowed ? 'block' : 'none';\n",
              "\n",
              "        async function convertToInteractive(key) {\n",
              "          const element = document.querySelector('#df-1c9a4065-a6b1-4a31-accf-87d224b67ce3');\n",
              "          const dataTable =\n",
              "            await google.colab.kernel.invokeFunction('convertToInteractive',\n",
              "                                                     [key], {});\n",
              "          if (!dataTable) return;\n",
              "\n",
              "          const docLinkHtml = 'Like what you see? Visit the ' +\n",
              "            '<a target=\"_blank\" href=https://colab.research.google.com/notebooks/data_table.ipynb>data table notebook</a>'\n",
              "            + ' to learn more about interactive tables.';\n",
              "          element.innerHTML = '';\n",
              "          dataTable['output_type'] = 'display_data';\n",
              "          await google.colab.output.renderOutput(dataTable, element);\n",
              "          const docLink = document.createElement('div');\n",
              "          docLink.innerHTML = docLinkHtml;\n",
              "          element.appendChild(docLink);\n",
              "        }\n",
              "      </script>\n",
              "    </div>\n",
              "  </div>\n",
              "  "
            ]
          },
          "metadata": {},
          "execution_count": 226
        }
      ]
    },
    {
      "cell_type": "code",
      "source": [
        "df2.iloc[125 , :]"
      ],
      "metadata": {
        "colab": {
          "base_uri": "https://localhost:8080/"
        },
        "id": "0zuc1fU3K08u",
        "outputId": "f395ff5f-205c-4b27-cb47-ebc8b844427f"
      },
      "execution_count": 227,
      "outputs": [
        {
          "output_type": "execute_result",
          "data": {
            "text/plain": [
              "IDADE        55\n",
              "SEXO          1\n",
              "INTERNADO     1\n",
              "STATUS        0\n",
              "Grupo         3\n",
              "Name: 125, dtype: int64"
            ]
          },
          "metadata": {},
          "execution_count": 227
        }
      ]
    },
    {
      "cell_type": "code",
      "source": [
        "grupo0 = df2.loc[df2.Grupo == 0]\n",
        "grupo0 "
      ],
      "metadata": {
        "colab": {
          "base_uri": "https://localhost:8080/",
          "height": 424
        },
        "id": "bniLTyyXLJSO",
        "outputId": "b5f20c21-da0f-4105-98b2-3207f42e0079"
      },
      "execution_count": 228,
      "outputs": [
        {
          "output_type": "execute_result",
          "data": {
            "text/plain": [
              "      IDADE  SEXO  INTERNADO  STATUS  Grupo\n",
              "3        25     0          0       0      0\n",
              "5        57     0          0       0      0\n",
              "6        27     0          0       0      0\n",
              "7        26     0          0       0      0\n",
              "8        52     0          0       0      0\n",
              "...     ...   ...        ...     ...    ...\n",
              "5890     42     0          0       0      0\n",
              "5896     88     0          0       0      0\n",
              "5898     46     0          0       0      0\n",
              "5899     23     0          0       0      0\n",
              "5900     34     0          0       0      0\n",
              "\n",
              "[2615 rows x 5 columns]"
            ],
            "text/html": [
              "\n",
              "  <div id=\"df-f089a2f4-be6c-44af-8b55-68627555cf91\">\n",
              "    <div class=\"colab-df-container\">\n",
              "      <div>\n",
              "<style scoped>\n",
              "    .dataframe tbody tr th:only-of-type {\n",
              "        vertical-align: middle;\n",
              "    }\n",
              "\n",
              "    .dataframe tbody tr th {\n",
              "        vertical-align: top;\n",
              "    }\n",
              "\n",
              "    .dataframe thead th {\n",
              "        text-align: right;\n",
              "    }\n",
              "</style>\n",
              "<table border=\"1\" class=\"dataframe\">\n",
              "  <thead>\n",
              "    <tr style=\"text-align: right;\">\n",
              "      <th></th>\n",
              "      <th>IDADE</th>\n",
              "      <th>SEXO</th>\n",
              "      <th>INTERNADO</th>\n",
              "      <th>STATUS</th>\n",
              "      <th>Grupo</th>\n",
              "    </tr>\n",
              "  </thead>\n",
              "  <tbody>\n",
              "    <tr>\n",
              "      <th>3</th>\n",
              "      <td>25</td>\n",
              "      <td>0</td>\n",
              "      <td>0</td>\n",
              "      <td>0</td>\n",
              "      <td>0</td>\n",
              "    </tr>\n",
              "    <tr>\n",
              "      <th>5</th>\n",
              "      <td>57</td>\n",
              "      <td>0</td>\n",
              "      <td>0</td>\n",
              "      <td>0</td>\n",
              "      <td>0</td>\n",
              "    </tr>\n",
              "    <tr>\n",
              "      <th>6</th>\n",
              "      <td>27</td>\n",
              "      <td>0</td>\n",
              "      <td>0</td>\n",
              "      <td>0</td>\n",
              "      <td>0</td>\n",
              "    </tr>\n",
              "    <tr>\n",
              "      <th>7</th>\n",
              "      <td>26</td>\n",
              "      <td>0</td>\n",
              "      <td>0</td>\n",
              "      <td>0</td>\n",
              "      <td>0</td>\n",
              "    </tr>\n",
              "    <tr>\n",
              "      <th>8</th>\n",
              "      <td>52</td>\n",
              "      <td>0</td>\n",
              "      <td>0</td>\n",
              "      <td>0</td>\n",
              "      <td>0</td>\n",
              "    </tr>\n",
              "    <tr>\n",
              "      <th>...</th>\n",
              "      <td>...</td>\n",
              "      <td>...</td>\n",
              "      <td>...</td>\n",
              "      <td>...</td>\n",
              "      <td>...</td>\n",
              "    </tr>\n",
              "    <tr>\n",
              "      <th>5890</th>\n",
              "      <td>42</td>\n",
              "      <td>0</td>\n",
              "      <td>0</td>\n",
              "      <td>0</td>\n",
              "      <td>0</td>\n",
              "    </tr>\n",
              "    <tr>\n",
              "      <th>5896</th>\n",
              "      <td>88</td>\n",
              "      <td>0</td>\n",
              "      <td>0</td>\n",
              "      <td>0</td>\n",
              "      <td>0</td>\n",
              "    </tr>\n",
              "    <tr>\n",
              "      <th>5898</th>\n",
              "      <td>46</td>\n",
              "      <td>0</td>\n",
              "      <td>0</td>\n",
              "      <td>0</td>\n",
              "      <td>0</td>\n",
              "    </tr>\n",
              "    <tr>\n",
              "      <th>5899</th>\n",
              "      <td>23</td>\n",
              "      <td>0</td>\n",
              "      <td>0</td>\n",
              "      <td>0</td>\n",
              "      <td>0</td>\n",
              "    </tr>\n",
              "    <tr>\n",
              "      <th>5900</th>\n",
              "      <td>34</td>\n",
              "      <td>0</td>\n",
              "      <td>0</td>\n",
              "      <td>0</td>\n",
              "      <td>0</td>\n",
              "    </tr>\n",
              "  </tbody>\n",
              "</table>\n",
              "<p>2615 rows × 5 columns</p>\n",
              "</div>\n",
              "      <button class=\"colab-df-convert\" onclick=\"convertToInteractive('df-f089a2f4-be6c-44af-8b55-68627555cf91')\"\n",
              "              title=\"Convert this dataframe to an interactive table.\"\n",
              "              style=\"display:none;\">\n",
              "        \n",
              "  <svg xmlns=\"http://www.w3.org/2000/svg\" height=\"24px\"viewBox=\"0 0 24 24\"\n",
              "       width=\"24px\">\n",
              "    <path d=\"M0 0h24v24H0V0z\" fill=\"none\"/>\n",
              "    <path d=\"M18.56 5.44l.94 2.06.94-2.06 2.06-.94-2.06-.94-.94-2.06-.94 2.06-2.06.94zm-11 1L8.5 8.5l.94-2.06 2.06-.94-2.06-.94L8.5 2.5l-.94 2.06-2.06.94zm10 10l.94 2.06.94-2.06 2.06-.94-2.06-.94-.94-2.06-.94 2.06-2.06.94z\"/><path d=\"M17.41 7.96l-1.37-1.37c-.4-.4-.92-.59-1.43-.59-.52 0-1.04.2-1.43.59L10.3 9.45l-7.72 7.72c-.78.78-.78 2.05 0 2.83L4 21.41c.39.39.9.59 1.41.59.51 0 1.02-.2 1.41-.59l7.78-7.78 2.81-2.81c.8-.78.8-2.07 0-2.86zM5.41 20L4 18.59l7.72-7.72 1.47 1.35L5.41 20z\"/>\n",
              "  </svg>\n",
              "      </button>\n",
              "      \n",
              "  <style>\n",
              "    .colab-df-container {\n",
              "      display:flex;\n",
              "      flex-wrap:wrap;\n",
              "      gap: 12px;\n",
              "    }\n",
              "\n",
              "    .colab-df-convert {\n",
              "      background-color: #E8F0FE;\n",
              "      border: none;\n",
              "      border-radius: 50%;\n",
              "      cursor: pointer;\n",
              "      display: none;\n",
              "      fill: #1967D2;\n",
              "      height: 32px;\n",
              "      padding: 0 0 0 0;\n",
              "      width: 32px;\n",
              "    }\n",
              "\n",
              "    .colab-df-convert:hover {\n",
              "      background-color: #E2EBFA;\n",
              "      box-shadow: 0px 1px 2px rgba(60, 64, 67, 0.3), 0px 1px 3px 1px rgba(60, 64, 67, 0.15);\n",
              "      fill: #174EA6;\n",
              "    }\n",
              "\n",
              "    [theme=dark] .colab-df-convert {\n",
              "      background-color: #3B4455;\n",
              "      fill: #D2E3FC;\n",
              "    }\n",
              "\n",
              "    [theme=dark] .colab-df-convert:hover {\n",
              "      background-color: #434B5C;\n",
              "      box-shadow: 0px 1px 3px 1px rgba(0, 0, 0, 0.15);\n",
              "      filter: drop-shadow(0px 1px 2px rgba(0, 0, 0, 0.3));\n",
              "      fill: #FFFFFF;\n",
              "    }\n",
              "  </style>\n",
              "\n",
              "      <script>\n",
              "        const buttonEl =\n",
              "          document.querySelector('#df-f089a2f4-be6c-44af-8b55-68627555cf91 button.colab-df-convert');\n",
              "        buttonEl.style.display =\n",
              "          google.colab.kernel.accessAllowed ? 'block' : 'none';\n",
              "\n",
              "        async function convertToInteractive(key) {\n",
              "          const element = document.querySelector('#df-f089a2f4-be6c-44af-8b55-68627555cf91');\n",
              "          const dataTable =\n",
              "            await google.colab.kernel.invokeFunction('convertToInteractive',\n",
              "                                                     [key], {});\n",
              "          if (!dataTable) return;\n",
              "\n",
              "          const docLinkHtml = 'Like what you see? Visit the ' +\n",
              "            '<a target=\"_blank\" href=https://colab.research.google.com/notebooks/data_table.ipynb>data table notebook</a>'\n",
              "            + ' to learn more about interactive tables.';\n",
              "          element.innerHTML = '';\n",
              "          dataTable['output_type'] = 'display_data';\n",
              "          await google.colab.output.renderOutput(dataTable, element);\n",
              "          const docLink = document.createElement('div');\n",
              "          docLink.innerHTML = docLinkHtml;\n",
              "          element.appendChild(docLink);\n",
              "        }\n",
              "      </script>\n",
              "    </div>\n",
              "  </div>\n",
              "  "
            ]
          },
          "metadata": {},
          "execution_count": 228
        }
      ]
    },
    {
      "cell_type": "code",
      "source": [
        "grupo0.shape"
      ],
      "metadata": {
        "id": "1wwQ6CVmLPR0",
        "outputId": "5543b1a2-cb20-4f9e-cd23-8943e90cd31b",
        "colab": {
          "base_uri": "https://localhost:8080/"
        }
      },
      "execution_count": 229,
      "outputs": [
        {
          "output_type": "execute_result",
          "data": {
            "text/plain": [
              "(2615, 5)"
            ]
          },
          "metadata": {},
          "execution_count": 229
        }
      ]
    },
    {
      "cell_type": "markdown",
      "source": [
        "## **Agrupamento Hierárquico com PCA**\n"
      ],
      "metadata": {
        "id": "T7W8zqGpMKpg"
      }
    },
    {
      "cell_type": "code",
      "source": [
        "df2_esc"
      ],
      "metadata": {
        "colab": {
          "base_uri": "https://localhost:8080/"
        },
        "id": "zQDQcy_5MNvn",
        "outputId": "7561ac4c-ed8b-498e-c62d-fbbcb11ad45c"
      },
      "execution_count": 230,
      "outputs": [
        {
          "output_type": "execute_result",
          "data": {
            "text/plain": [
              "array([[ 0.58345885,  1.05128818, -0.53038764, -0.22356702],\n",
              "       [-1.62596867,  1.05128818, -0.53038764, -0.22356702],\n",
              "       [-0.03971301,  1.05128818, -0.53038764, -0.22356702],\n",
              "       ...,\n",
              "       [-0.5495809 , -0.95121396, -0.53038764, -0.22356702],\n",
              "       [ 1.48989065,  1.05128818, -0.53038764, -0.22356702],\n",
              "       [ 1.31993469,  1.05128818, -0.53038764, -0.22356702]])"
            ]
          },
          "metadata": {},
          "execution_count": 230
        }
      ]
    },
    {
      "cell_type": "code",
      "source": [
        "df2_esc.shape"
      ],
      "metadata": {
        "colab": {
          "base_uri": "https://localhost:8080/"
        },
        "id": "p9wPmw2eMQFX",
        "outputId": "02ee1138-e6d3-4031-ba7b-1696cd7246c9"
      },
      "execution_count": 231,
      "outputs": [
        {
          "output_type": "execute_result",
          "data": {
            "text/plain": [
              "(5903, 4)"
            ]
          },
          "metadata": {},
          "execution_count": 231
        }
      ]
    },
    {
      "cell_type": "markdown",
      "source": [
        "**Componentes Principais**"
      ],
      "metadata": {
        "id": "EgXgd6xQMSgP"
      }
    },
    {
      "cell_type": "code",
      "source": [
        "from sklearn.decomposition import PCA"
      ],
      "metadata": {
        "id": "4iSLpG8aMUwk"
      },
      "execution_count": 232,
      "outputs": []
    },
    {
      "cell_type": "code",
      "source": [
        "pca = PCA(n_components = 2)"
      ],
      "metadata": {
        "id": "dccxe3GAMYgn"
      },
      "execution_count": 233,
      "outputs": []
    },
    {
      "cell_type": "code",
      "source": [
        "df2_pca = pca.fit_transform(df2_esc)"
      ],
      "metadata": {
        "id": "T9j8ZcO4MaDG"
      },
      "execution_count": 234,
      "outputs": []
    },
    {
      "cell_type": "code",
      "source": [
        "df2_pca"
      ],
      "metadata": {
        "colab": {
          "base_uri": "https://localhost:8080/"
        },
        "id": "pkXBW_AbMbfO",
        "outputId": "3db0e232-099e-470d-b18e-d7baa75105d5"
      },
      "execution_count": 235,
      "outputs": [
        {
          "output_type": "execute_result",
          "data": {
            "text/plain": [
              "array([[ 0.03064365, -0.94281916],\n",
              "       [-1.19271952, -1.3261931 ],\n",
              "       [-0.3144075 , -1.05095027],\n",
              "       ...,\n",
              "       [-0.88365326,  0.82343125],\n",
              "       [ 0.53253623, -0.78553755],\n",
              "       [ 0.43843137, -0.81502785]])"
            ]
          },
          "metadata": {},
          "execution_count": 235
        }
      ]
    },
    {
      "cell_type": "code",
      "source": [
        "pca.explained_variance_ratio_"
      ],
      "metadata": {
        "colab": {
          "base_uri": "https://localhost:8080/"
        },
        "id": "Su6LBM7rMdwe",
        "outputId": "ec688dab-3a7e-4ea8-bf2d-85431b5f6b73"
      },
      "execution_count": 236,
      "outputs": [
        {
          "output_type": "execute_result",
          "data": {
            "text/plain": [
              "array([0.44305785, 0.247892  ])"
            ]
          },
          "metadata": {},
          "execution_count": 236
        }
      ]
    },
    {
      "cell_type": "code",
      "source": [
        "pca.explained_variance_ratio_.sum()"
      ],
      "metadata": {
        "colab": {
          "base_uri": "https://localhost:8080/"
        },
        "id": "QpQA3x8nMfW-",
        "outputId": "ecd71178-55d5-4037-f748-c03b0ae40fc4"
      },
      "execution_count": 237,
      "outputs": [
        {
          "output_type": "execute_result",
          "data": {
            "text/plain": [
              "0.6909498554548061"
            ]
          },
          "metadata": {},
          "execution_count": 237
        }
      ]
    },
    {
      "cell_type": "markdown",
      "source": [
        "**Dendograma**"
      ],
      "metadata": {
        "id": "WB1NE-6eMhka"
      }
    },
    {
      "cell_type": "code",
      "source": [
        "import matplotlib.pyplot as plt\n",
        "from scipy.cluster.hierarchy import dendrogram, linkage"
      ],
      "metadata": {
        "id": "n4RCdGs8Mi-F"
      },
      "execution_count": 238,
      "outputs": []
    },
    {
      "cell_type": "code",
      "source": [
        "plt.figure(figsize=(10, 10))\n",
        "dendrograma = dendrogram(linkage(df2_pca, method = 'ward')) #complete, single e ward (dados dispersos)"
      ],
      "metadata": {
        "colab": {
          "base_uri": "https://localhost:8080/",
          "height": 594
        },
        "id": "ssvPfHieOWrI",
        "outputId": "9957e867-fb04-48a8-ce4a-99f55b1b9b0e"
      },
      "execution_count": 239,
      "outputs": [
        {
          "output_type": "display_data",
          "data": {
            "text/plain": [
              "<Figure size 720x720 with 1 Axes>"
            ],
            "image/png": "[encoded data removed]"
          },
          "metadata": {
            "needs_background": "light"
          }
        }
      ]
    },
    {
      "cell_type": "code",
      "source": [
        "from sklearn.cluster import AgglomerativeClustering"
      ],
      "metadata": {
        "id": "z0_C1ifkPCEZ"
      },
      "execution_count": 240,
      "outputs": []
    },
    {
      "cell_type": "code",
      "source": [
        "hier = AgglomerativeClustering(n_clusters=3, affinity='euclidean', linkage = 'complete')\n",
        "classificacao = hier.fit_predict(df2_pca)"
      ],
      "metadata": {
        "id": "WTADh-4sPFsO"
      },
      "execution_count": 241,
      "outputs": []
    },
    {
      "cell_type": "code",
      "source": [
        "classificacao"
      ],
      "metadata": {
        "colab": {
          "base_uri": "https://localhost:8080/"
        },
        "id": "N_hUOg1uPI_0",
        "outputId": "8d5931b5-4664-4ab9-b821-4e6998d19e58"
      },
      "execution_count": 242,
      "outputs": [
        {
          "output_type": "execute_result",
          "data": {
            "text/plain": [
              "array([0, 0, 0, ..., 0, 0, 0])"
            ]
          },
          "metadata": {},
          "execution_count": 242
        }
      ]
    },
    {
      "cell_type": "code",
      "source": [
        "import plotly.express as px"
      ],
      "metadata": {
        "id": "ai57PchlPRH4"
      },
      "execution_count": 243,
      "outputs": []
    },
    {
      "cell_type": "code",
      "source": [
        "graf = px.scatter(x = df2_pca[:,0], y = df2_pca[:,1], color=classificacao)\n",
        "graf.update_layout(width=800,height=500,title_text='Agrupamento Hierárquico')\n",
        "graf.show()"
      ],
      "metadata": {
        "colab": {
          "base_uri": "https://localhost:8080/",
          "height": 517
        },
        "id": "V3DkPh7FPUWF",
        "outputId": "ce2cb2e4-361e-4333-cebf-e745c67ebc5d"
      },
      "execution_count": 244,
      "outputs": [
        {
          "output_type": "display_data",
          "data": {
            "text/html": [
              "<html>\n",
              "<head><meta charset=\"utf-8\" /></head>\n",
              "<body>\n",
              "    <div>            <script src=\"https://cdnjs.cloudflare.com/ajax/libs/mathjax/2.7.5/MathJax.js?config=TeX-AMS-MML_SVG\"></script><script type=\"text/javascript\">if (window.MathJax) {MathJax.Hub.Config({SVG: {font: \"STIX-Web\"}});}</script>                <script type=\"text/javascript\">window.PlotlyConfig = {MathJaxConfig: 'local'};</script>\n",
              "        <script src=\"https://cdn.plot.ly/plotly-2.8.3.min.js\"></script>                <div id=\"0afbe7a3-9c2c-41aa-90a5-5c59fca7b0e7\" class=\"plotly-graph-div\" style=\"height:500px; width:800px;\"></div>            <script type=\"text/javascript\">                                    window.PLOTLYENV=window.PLOTLYENV || {};                                    if (document.getElementById(\"0afbe7a3-9c2c-41aa-90a5-5c59fca7b0e7\")) {                    Plotly.newPlot(                        \"0afbe7a3-9c2c-41aa-90a5-5c59fca7b0e7\",                        [{\"hovertemplate\":\"x=%{x}<br>y=%{y}<br>color=%{marker.color}<extra></extra>\",\"legendgroup\":\"\",\"marker\":{\"color\":[0,0,0,0,0,0,0,0,0,0,0,0,0,0,0,0,0,0,0,0,0,2,0,0,0,0,0,0,0,2,0,0,0,0,0,0,0,0,0,2,0,2,0,0,0,0,0,2,0,0,2,2,0,0,0,0,0,0,0,0,2,0,2,0,0,0,2,0,2,0,0,0,0,0,2,0,2,0,2,0,2,0,0,0,0,0,0,2,0,2,2,2,0,0,2,2,0,2,0,2,2,0,0,0,0,0,0,2,0,0,1,2,0,0,1,2,0,0,0,0,0,0,0,0,2,2,2,2,2,2,0,2,0,2,2,2,0,2,1,1,0,0,0,0,0,2,0,2,0,0,2,0,1,0,0,0,0,2,0,0,2,0,0,0,0,0,0,2,2,1,0,0,0,2,1,0,1,1,0,2,0,0,0,0,0,2,0,0,0,0,2,0,0,0,0,2,0,0,0,0,0,0,0,2,0,0,0,0,1,0,2,0,1,0,0,0,2,0,0,0,0,0,0,0,2,0,0,0,0,0,0,1,0,0,1,1,0,2,0,0,1,1,0,0,0,0,0,0,0,0,0,0,2,0,0,0,0,0,0,0,0,0,0,0,0,0,0,2,1,0,0,0,0,0,0,0,0,0,0,0,0,0,0,0,0,0,1,2,0,0,0,0,0,0,0,0,0,0,0,0,0,0,0,0,0,0,0,0,0,0,0,0,0,0,0,0,0,0,0,0,0,0,0,0,0,0,0,0,0,0,0,1,0,0,0,0,0,0,0,0,0,0,0,0,0,0,0,0,0,0,0,0,0,0,1,0,0,2,0,0,0,2,2,0,0,0,0,1,0,0,0,0,0,0,0,0,0,0,0,0,0,0,0,0,0,0,0,0,0,0,1,0,0,0,0,0,0,0,0,2,0,0,2,0,0,0,0,0,0,0,0,0,0,1,0,0,0,0,1,0,0,0,0,0,0,0,0,0,0,0,0,0,0,0,0,0,0,0,0,0,0,0,0,0,0,2,1,0,0,2,0,2,1,0,2,0,0,0,0,0,2,0,0,0,0,0,0,0,0,0,0,0,0,0,1,2,0,1,0,2,0,2,0,2,0,0,0,0,0,0,0,0,2,0,0,0,0,0,0,0,0,0,0,2,0,0,0,0,2,0,0,0,0,0,0,0,0,0,0,0,0,0,0,0,0,0,0,0,0,0,0,0,0,2,0,2,0,0,0,0,0,0,0,0,0,0,2,0,0,0,0,2,0,1,1,2,0,0,0,0,2,0,0,0,0,0,0,0,0,0,0,0,0,1,0,0,0,0,0,0,0,0,0,0,0,0,0,2,0,0,1,0,0,0,0,0,0,0,0,0,0,0,0,0,0,0,0,0,0,0,0,0,0,0,0,0,0,0,0,0,0,0,2,0,0,0,0,2,2,0,0,0,0,0,0,0,0,0,0,0,0,0,0,0,0,0,0,0,0,0,2,0,0,0,0,0,0,0,0,2,0,2,0,1,0,0,0,0,0,0,2,0,0,2,2,0,0,0,0,1,0,0,2,0,0,0,0,0,0,2,0,0,0,0,0,2,0,0,2,0,0,0,0,0,0,0,0,0,0,0,0,0,0,0,0,0,0,0,0,0,0,0,0,0,0,0,0,0,0,0,0,0,0,0,0,0,1,0,0,1,1,2,2,0,0,1,2,0,0,0,0,0,0,0,0,2,0,0,0,2,0,0,0,0,0,0,0,0,0,0,0,0,0,0,0,0,0,0,0,1,0,0,0,0,2,2,0,0,0,0,0,0,0,0,0,0,2,0,0,0,1,2,0,0,2,0,2,0,0,0,0,0,0,0,0,0,0,0,0,0,0,0,0,2,0,2,0,0,0,0,0,0,0,0,2,0,0,0,0,0,0,0,0,0,0,0,0,0,2,0,1,0,0,0,0,0,0,0,0,0,0,0,0,0,0,2,2,0,0,2,2,0,0,0,0,0,0,0,0,0,0,0,2,1,0,2,0,0,0,0,0,1,2,0,0,0,0,0,1,0,2,0,1,0,0,0,0,0,0,0,0,0,0,0,0,0,2,0,0,0,2,0,0,0,0,0,0,0,0,0,2,2,0,1,2,2,2,0,0,0,0,2,0,2,2,0,0,0,2,0,2,0,0,2,2,1,0,0,0,0,0,0,0,0,1,2,1,2,2,0,2,0,0,0,0,0,0,0,0,0,0,0,0,0,0,0,2,0,0,0,0,0,1,0,1,0,2,0,1,0,0,0,0,0,0,2,2,0,0,0,0,2,1,0,0,1,2,0,0,1,0,0,2,0,1,1,0,0,0,0,0,0,0,0,0,0,0,0,0,0,0,0,0,0,0,0,2,1,0,2,0,2,0,0,0,0,0,0,0,1,0,2,0,0,1,2,0,0,0,0,0,0,0,0,0,0,0,0,0,0,0,1,0,0,0,0,0,0,0,0,0,0,0,0,0,0,2,0,0,0,0,0,0,0,0,0,0,0,0,0,2,0,0,2,0,0,0,0,0,0,0,1,0,0,0,0,0,0,0,0,0,0,2,0,0,2,0,0,2,0,0,0,0,0,2,2,0,2,2,0,0,1,0,0,0,0,0,0,0,0,0,2,0,0,0,0,0,0,0,0,0,2,2,2,2,0,2,2,0,2,0,0,0,0,0,0,0,0,0,0,2,0,0,2,1,0,0,2,0,0,0,0,1,2,0,0,2,0,0,0,0,0,0,0,0,0,0,0,0,0,0,2,0,0,1,2,0,0,0,0,0,0,0,0,0,2,0,0,0,2,0,2,1,0,0,0,0,1,0,0,0,0,0,0,0,0,0,0,0,0,0,0,0,0,0,0,0,2,0,1,1,2,2,2,2,0,0,1,2,1,0,2,2,2,1,0,0,0,0,1,0,0,0,0,0,0,0,1,0,2,2,0,0,0,0,0,0,0,0,0,1,0,0,0,0,2,0,2,0,0,1,2,0,2,0,0,0,2,0,0,0,0,0,0,0,0,0,0,0,0,0,0,0,0,0,0,0,0,0,0,0,0,0,0,0,0,0,0,2,2,0,0,0,0,2,1,0,0,1,1,2,2,2,2,1,0,2,2,2,1,0,1,0,0,0,0,0,0,0,0,0,0,0,0,0,0,0,0,0,0,0,0,0,0,0,0,0,0,0,0,0,1,0,2,0,0,0,0,0,0,0,1,0,0,2,0,0,0,0,0,0,0,0,0,0,0,0,0,0,0,0,0,0,0,0,0,0,0,0,0,0,0,0,0,0,0,0,0,0,0,0,2,0,0,0,0,0,0,1,0,0,0,0,0,0,0,0,0,0,0,0,0,0,0,0,0,1,1,2,0,0,0,0,0,1,0,0,0,0,0,0,0,0,0,0,0,0,0,0,0,0,0,0,0,0,1,0,0,0,0,0,0,0,0,0,0,0,0,0,0,0,2,0,0,0,1,1,0,0,2,2,0,1,1,1,2,0,0,2,2,2,2,0,0,2,1,1,0,1,2,1,0,0,0,0,0,0,0,0,0,0,0,0,0,0,0,0,0,0,0,0,0,0,0,0,0,0,1,1,1,0,0,0,2,0,0,0,2,2,0,0,1,0,0,1,2,0,0,0,0,0,0,0,0,0,0,0,0,0,0,1,0,0,0,1,2,0,0,0,1,2,2,2,2,1,2,1,0,0,0,0,1,0,0,0,0,0,0,0,0,0,0,0,0,0,0,0,0,0,0,0,0,0,0,0,0,0,2,2,0,0,0,2,0,0,1,0,2,0,0,2,1,2,0,0,0,0,0,0,0,0,0,0,0,0,0,0,0,0,0,0,0,0,0,0,0,0,2,0,0,0,0,0,0,0,2,0,1,0,0,0,0,0,0,2,0,2,1,1,1,0,1,0,1,2,2,2,2,0,2,0,0,0,0,0,0,0,0,0,0,0,0,0,0,0,0,0,0,0,0,2,2,2,0,0,0,0,0,0,0,0,0,0,0,0,0,0,0,0,0,0,0,0,0,2,0,0,1,0,2,0,0,0,0,2,2,0,2,0,0,0,0,0,0,0,0,0,0,0,0,0,2,0,0,0,0,0,0,0,0,0,2,2,0,0,1,1,0,2,0,0,0,0,2,0,0,0,0,0,0,0,0,1,0,0,0,0,0,0,0,0,0,0,0,1,2,0,1,0,2,2,2,0,2,2,1,0,0,0,0,0,0,0,0,0,0,0,0,0,0,0,0,0,0,0,0,0,0,0,0,0,0,0,0,0,0,0,0,0,0,0,0,0,0,0,0,0,1,0,0,0,0,0,0,0,0,0,0,0,0,0,0,0,0,0,0,0,0,0,0,0,0,0,0,0,2,0,0,0,0,0,0,0,0,0,0,0,0,0,0,0,2,0,1,0,0,0,0,0,0,0,2,0,0,0,0,0,0,0,0,0,0,0,0,0,0,2,0,0,0,0,0,0,2,0,0,1,2,1,1,0,2,1,0,2,0,0,0,0,0,0,0,0,0,0,0,2,0,0,2,2,1,1,0,2,0,0,0,1,0,0,0,1,2,2,0,1,2,2,1,2,0,0,0,0,0,0,0,0,0,0,0,0,0,0,0,0,0,0,0,0,0,0,0,0,0,0,0,0,0,0,2,0,1,0,0,0,0,0,0,2,1,0,0,1,0,0,0,0,0,0,0,2,2,2,2,2,0,0,0,0,0,0,0,0,0,0,0,0,0,0,0,0,0,0,0,0,2,0,1,2,2,0,2,1,2,2,1,0,1,0,0,0,0,0,0,0,0,0,1,0,0,0,0,0,0,0,0,0,0,0,0,0,2,0,0,0,0,0,0,0,0,1,0,0,0,0,0,0,0,0,0,0,0,0,0,2,2,1,0,2,2,2,2,2,0,1,0,0,2,0,0,0,0,2,0,1,0,2,0,0,0,0,0,0,1,0,0,0,0,0,0,0,0,0,0,0,0,0,0,0,0,0,0,0,0,0,0,0,0,0,0,0,0,0,0,0,0,0,0,0,0,0,0,0,0,0,0,0,0,0,0,0,0,0,0,0,0,0,0,0,0,0,0,0,0,0,0,0,0,0,0,0,0,0,0,0,0,0,0,0,0,0,0,0,0,0,0,0,0,0,0,0,0,0,0,0,0,0,0,0,0,0,0,0,0,0,0,0,0,0,0,0,0,0,0,0,0,0,0,0,0,0,0,0,0,0,0,0,0,0,0,0,0,0,0,0,0,0,0,0,0,0,0,0,0,0,0,0,0,0,0,0,0,0,2,0,0,0,0,0,0,0,0,0,0,0,0,0,0,0,0,0,0,0,0,0,0,0,0,0,0,0,0,0,0,0,0,0,0,0,0,0,0,0,0,0,0,0,0,0,0,0,0,0,0,0,0,0,0,0,0,0,0,0,0,0,0,0,0,0,0,0,0,0,0,0,0,0,0,0,0,0,0,0,0,0,0,0,0,0,0,0,0,0,0,0,0,0,0,0,0,2,0,0,0,0,0,0,0,0,0,0,0,0,0,0,0,0,0,0,0,0,0,0,0,0,1,0,0,0,0,0,0,0,0,0,0,0,0,0,0,0,0,0,0,0,0,0,0,0,0,0,0,0,0,0,0,0,0,0,0,0,0,0,0,0,0,0,0,0,0,0,0,0,0,0,0,0,0,0,0,0,0,0,1,0,0,2,0,0,0,0,0,0,0,0,0,0,0,0,0,0,0,0,0,0,0,0,0,0,0,0,0,0,0,0,2,2,0,0,0,0,0,0,0,0,2,0,0,0,0,0,0,0,0,0,2,0,0,0,0,1,0,0,0,0,0,0,0,0,0,0,0,0,0,0,0,0,0,0,0,0,0,0,0,0,0,0,0,0,0,0,0,0,2,0,0,0,0,0,0,0,0,0,0,0,0,0,0,0,0,1,2,2,0,0,0,0,0,0,0,0,0,0,0,0,0,0,0,0,0,0,0,0,0,0,0,0,2,0,1,2,0,2,0,1,2,2,0,2,0,2,2,0,2,0,0,0,2,1,0,2,0,0,0,0,0,0,0,0,0,0,0,0,0,0,0,0,0,1,0,2,0,2,0,0,0,0,0,0,0,0,0,0,0,0,0,0,1,1,0,0,0,0,0,0,0,0,0,0,2,0,0,0,0,0,0,0,2,0,2,0,0,0,0,0,2,2,0,2,1,0,2,2,2,0,0,2,2,0,0,2,1,0,2,0,0,0,0,0,0,0,0,0,0,0,0,0,0,0,0,0,0,0,0,0,2,0,0,0,0,0,0,1,2,0,2,0,0,0,0,0,0,0,2,0,0,0,0,0,0,0,0,1,0,0,0,0,0,0,0,0,0,0,0,0,0,0,0,0,0,0,0,0,0,0,1,0,0,0,0,0,0,0,0,0,0,0,0,0,0,0,0,0,0,0,0,2,0,0,0,0,2,2,2,1,0,0,1,0,0,0,0,1,0,0,0,0,0,0,0,0,0,0,0,0,0,0,0,0,0,0,0,0,0,0,0,0,0,0,0,0,0,0,0,0,0,0,2,2,0,0,0,2,0,0,0,0,0,0,0,0,0,0,0,0,0,0,0,0,0,0,0,0,0,0,0,0,0,0,0,0,0,0,0,0,0,0,0,0,0,0,0,2,0,0,0,0,0,0,0,0,0,0,0,0,0,0,0,0,0,2,0,0,0,0,0,0,0,0,0,0,0,0,0,2,0,1,0,0,2,0,0,0,0,0,0,0,0,0,2,0,0,0,0,0,0,2,2,0,0,0,0,0,2,0,0,0,0,2,2,0,0,0,0,0,0,0,0,0,0,0,0,0,0,0,0,0,0,1,0,0,0,0,0,0,0,0,0,0,2,0,0,2,2,1,0,2,2,0,0,1,0,0,2,2,0,2,0,0,1,0,2,0,0,0,0,0,0,0,0,0,0,0,0,0,0,0,0,0,0,0,0,0,0,2,2,0,2,1,2,2,1,0,2,2,2,2,2,2,0,2,2,0,2,0,0,0,0,0,0,0,0,0,0,2,2,2,2,2,2,2,2,2,2,0,2,0,1,0,0,0,0,0,0,0,0,0,0,0,0,0,0,0,0,0,0,0,0,0,0,0,0,0,0,0,0,0,0,0,0,0,0,0,0,0,0,0,0,0,0,0,0,0,0,0,0,0,0,0,0,0,0,0,0,0,0,0,0,0,0,0,0,0,0,0,0,0,0,0,0,0,0,0,0,0,0,0,0,0,0,0,0,0,0,0,0,0,0,0,0,0,0,0,0,0,0,0,0,0,0,0,0,0,0,0,0,0,0,0,0,0,0,0,2,0,2,0,0,0,0,0,0,0,0,0,0,0,0,0,0,0,0,0,0,0,0,0,0,0,0,0,0,0,0,0,0,0,0,0,0,0,0,0,0,0,0,0,0,0,0,0,0,0,0,0,0,0,0,0,0,0,0,0,0,0,0,0,0,0,0,0,0,0,0,0,0,0,0,0,0,0,0,0,1,0,0,1,0,0,0,0,0,0,0,0,0,0,0,0,0,0,0,0,0,0,0,0,0,0,0,0,0,0,0,0,2,0,0,0,0,0,0,0,0,0,0,0,0,0,0,0,0,0,0,0,0,0,0,0,0,0,0,0,0,0,0,0,0,0,0,0,0,0,0,0,0,0,0,0,0,0,0,0,1,0,0,0,0,0,0,0,0,0,0,0,2,0,0,0,0,0,0,0,0,0,0,0,0,0,0,0,0,0,1,0,1,0,0,0,0,0,0,0,0,0,0,0,0,0,0,0,0,0,0,0,0,1,0,0,0,0,0,0,0,0,0,0,0,2,2,0,0,0,0,0,0,0,0,0,0,0,1,2,1,0,2,0,1,0,1,1,0,0,2,2,2,0,0,1,2,1,1,2,0,2,2,2,0,2,0,2,1,1,1,1,0,0,0,0,0,1,2,2,0,0,0,0,0,0,0,0,0,0,0,0,0,0,0,0,0,0,0,0,0,0,0,0,0,0,0,0,0,0,0,0,0,0,0,0,0,0,0,0,0,0,0,0,0,0,0,0,0,0,0,0,0,0,0,0,0,0,0,0,0,0,0,0,2,0,0,2,0,0,0,0,0,0,0,0,0,0,0,0,0,0,0,0,2,0,0,0,0,0,0,0,0,0,0,0,0,0,0,0,0,0,0,0,0,0,0,0,0,0,0,0,0,0,0,0,0,0,0,0,0,0,0,0,0,0,0,0,0,0,0,0,0,0,0,0,0,0,0,0,0,0,0,0,0,0,0,0,0,0,0,0,0,0,0,0,0,0,0,0,0,0,0,0,0,0,0,0,0,0,0,0,0,0,0,0,0,0,2,0,0,0,2,0,2,0,0,0,0,1,0,0,0,0,2,0,0,0,0,0,0,0,0,2,0,0,0,0,2,2,0,0,0,1,2,1,1,0,0,1,0,2,2,2,2,0,1,0,0,0,0,2,0,2,2,2,0,0,1,2,0,0,2,2,2,2,2,0,0,1,0,0,0,0,0,0,0,0,0,0,0,0,0,0,0,0,0,0,0,0,0,0,0,0,0,0,0,0,0,0,0,0,0,0,0,0,0,0,0,0,0,0,0,0,0,0,0,0,0,0,0,0,0,0,0,0,0,0,0,0,0,0,0,0,0,0,0,0,0,0,0,0,0,0,0,0,0,0,0,0,0,0,0,0,0,0,0,0,0,0,0,0,0,0,0,0,0,0,0,0,0,0,0,0,0,0,0,0,0,0,0,0,0,0,0,0,0,0,0,0,0,0,0,0,0,0,0,0,0,0,0,0,0,0,0,0,0,0,0,0,0,0,0,0,0,2,2,2,0,2,0,2,0,0,0,2,0,0,0,0,0,0,0,0,0,0,0,0,0,1,0,0,0,0,2,0,0,0,0,0,0,0,0,0,0,0,0,0,0,0,0,0,0,0,0,0,0,0,0,0,0,0,0,0,2,0,0,0,0,0,0,0,0,0,0,0,0,0,0,0,0,0,0,0,0,0,0,0,0,0,0,0,0,1,1,0,0,0,0,0,0,0,2,0,0,0,2,2,0,0,0,0,0,0,0,0,0,0,0,0,0,0,0,0,0,0,0,0,0,0,0,0,0,0,0,0,0,0,0,0,0,0,0,0,0,0,0,0,0,0,0,0,0,0,0,0,0,0,1,0,2,0,0,0,0,0,2,0,0,0,0,2,0,0,0,0,0,0,0,0,0,0,0,0,0,0,1,2,0,0,0,1,1,1,1,1,1,1,0,0,2,2,2,0,1,2,0,2,0,0,1,1,0,2,1,1,0,1,0,0,0,0,0,0,0,0,0,0,0,0,0,0,0,0,0,0,0,0,0,0,0,0,0,0,0,0,0,0,0,0,0,0,0,0,0,0,0,0,0,0,0,0,0,0,0,0,0,0,0,0,0,0,0,0,0,0,0,0,0,0,0,0,0,0,0,0,0,0,0,0,0,0,0,0,0,0,0,0,0,0,0,0,0,0,0,0,0,0,0,0,0,0,0,0,0,0,0,0,2,0,0,0,0,0,0,0,0,0,0,0,0,0,0,0,0,0,1,1,0,0,0,2,0,0,2,1,0,0,0,0,0,0,0,2,0,0,0,0,2,0,0,0,0,0,0,0,0,0,0,0,0,2,0,2,0,0,0,0,0,0,0,0,0,0,0,0,0,0,0,0,0,0,0,0,0,0,0,0,0,0,0,0,0,0,0,0,0,2,0,2,0,0,0,0,0,0,0,2,0,0,0,0,0,0,0,0,0,2,0,0,0,0,0,2,0,0,2,0,0,0,0,1,1,2,1,2,0,0,1,2,0,2,2,2,2,0,1,0,2,2,0,1,2,0,2,0,0,0,0,0,0,0,0,0,0,0,0,0,0,0,0,0,0,0,0,0,0,0,0,0,0,0,0,0,0,0,0,0,0,0,0,0,0,0,2,0,0,0,0,0,0,0,0,0,0,0,0,0,0,0,0,0,0,2,0,0,0,0,0,0,0,0,0,0,0,0,2,2,0,2,0,0,0,0,0,0,0,0,0,0,0,0,0,0,0,0,0,0,0,0,0,0,0,0,0,0,0,1,0,0,0,0,0,0,0,0,0,0,0,0,0,0,0,0,0,0,0,2,0,0,0,0,0,0,0,0,0,0,0,0,0,0,0,0,0,2,0,2,0,0,0,0,0,0,0,0,0,0,0,0,0,0,0,0,0,2,2,1,2,2,0,0,0,0,0,0,0,0,2,0,0,0,0,0,0,2,0,0,2,0,2,0,0,0,0,0,0,0,2,2,2,2,2,0,1,2,0,1,1,0,1,1,2,0,1,1,0,1,0,1,0,0,0,0,0,0,0,0,0,0,0,0,0,0,0,0,0,0,0,0,0,0,0,0,0,0,0,0,0,0,0,0,0,2,2,0,2,0,1,2,2,0,0,0,0,2,0,1,2,2,0,2,2,2,1,2,2,2,2,0,2,0,0,0,0,0,0,1,1,2,2,1,0,2,2,0,0,0,0,0,0,0,0,0,0,0,0,2,0,0,0,0,0,0,0,0,0,0,2,2,0,0,0,2,0,0,0,0,0,0,0,0,0,0,0,2,2,0,2,2,2,1,0,2,2,1,1,0,1,1,0,1,2,0,0,0,0,0,0,0,0,0,0,0,0,0,0,0,0,0,0,0,0,0,0,0,0,0,0,0,0,0,0,0,0,0,0,0,0,0,0,0,0,0,0,0,0,0,0,0,0,0,0,0,0,0,0,0,0,0,0,0,0,0,0,0,0,0,0,0,0,0,0,0,0,0,0,0,0,0,0,0,0,0,0,0,0,0,0,0,0,0,0,0,0,0,0,0,0,0,0,0,0,0,0,0,0,0,0,0,0,0,0,0,0,0,0,0,0,0,0,0,0,0,0,0,0,0,0,0,0,0,0,0,0,0,0,0,0,0,0,0,0,0,0,0,0,0,0,0,0,0,0,0,0,0,0,0,0,0,0,0,0,0,0,0,0,0,0,0,0,2,0,0,0,0,0,0,1,2,0,0,0,0,0,0,0,0,0,0,0,0,0,0,0,0,0,0,0,0,0,2,0,0,0,0,0,0,0,0,0,0,0,0,0,0,0,2,0,0,0,0,0,0,0,0,0,0,0,0,0,0,0,0,0,0,0,0,0,0,0,0,0,0,0,0,0,0,0,1,0,0,0,0,0,0,0,0,0,0,0,0,0,0,0,0,0,0,0,0,0,0,0,0,0,2,0,0,0,0,0,0,0,0,0,0,0,0,0,0,0,0,0,0,0,0,0,0,0,0,0,0,0,0,0,0,0,0,0,0,0,0,0,0,0,0,0,2,0,0,0,0,0,0,0,0,0,0,0,0,0,0,0,0,0,0,0,0,0,0,0,0,0,0,0,0,0,0,0,0,0,0,0,0,0,0,0,0,2,0,0,0,0,0,0,0,1,0,0,0,0,0,0,0,0,0,0,0,0,0,0,0,0,0,0,0,0,0,0,0,0,0,0,0,0,0,0,0,0,0,0,0,0,0,0,0,0,2,0,2,0,0,0,0,0,0,0,0,0,0,0,0,0,0,0,0,0,0,0,0,2,0,0,0,0,0,0,0,0,0,0,0,0,0,0,0,0,0,0,0,0,0,0,2,0,0,0,0,0,0,0,0,0,0,0,0,2,0,0,0,0,2,0,0,0,0,0,0,0,0,0,0,0,0,2,0,0,0,0,0,0,0,0,0,0,0,2,2,0,0,0,2,0,2,0,0,0,0,0,0,0,0,0,1,1,0,0,0,0,0,2,0,0,0,0,2,0,0,0,0,0,2,0,0,0,0,0,0,0,0,0,2,2,2,0,1,1,0,1,0,2,0,0,2,0,0,2,2,0,2,2,2,0,0,2,2,2,0,0,0,0,0,0,2,0,0,0,2,0,0,2,2,0,0,0,0,0,0,0,0,0,0,0,0,0,0,0,0,0,0,0,0,0,0,0,0,0,0,0,0,0,0,0,0,0,0,0,0,0,0,0,0,0,0,0,0,0,0,0,0,0,0,0,0,0,0,0,0,0,0,0,0,1,0,0,0,0,0,0,0,0,0,0,0,0,0,0,0,0,0,0,2,0,0,0,0,0,0,0,0,0,0,0,0,0,0,0,0,0,0,0,0,0,0,0,0,0,0,0,0,0,0,0,0,0,0,0,0,2,0,2,0,0,0,0,0,0,0,0,0,0,0,0,0,0,0,0,0,0,0,0,0,0,0,0,0,0,0,0,0,0,0,0,0,0,0,0,0,0,0,0,0,0,0,0,0,0,0,0,0,0,0,0,0,0,0,0,0,0,0,0,0,0,0,0,0,0,0,0,0,0,0,0,0,0,0,0,0,0,0,0,0,0,0,0,0,0,0,0,0,0,0,0,0,0,0,0,0,0,0,0,0,0,0,0,0,0,0,0,0,0,0,0,0,0,0,0,0,0,0,0,0,0,0,0,0,0,0,0,0,0,0,0,0,0,0,0,0,0,0,0,0,0,0,0,2,0,0,0,0,1,0,0,2,0,0,0,0,0,0,0,0,0,0,0,0,0,0,0,0,0,0,0,0,0,0,0,0,0,0,0,0,0,0,0,0,0,0,0,0,0,0,0,0,0,0,0,0,0,0,0,0,2,0,2,0,2,2,2,0,0,0,0,0,2,0,0,0,0,0,0,0,0,0,2,0,0,0,0,0,0,0,2,0,0,2,0,2,0,2,1,1,1,2,1,2,0,2,0,2,2,2,1,0,2,2,2,2,2,1,0,1,2,0,2,1,2,0,0,0,0,0,0,0,0,0,0,0,0,0,0,0,0,0,0,0,0,0,0,0,0,0,0,0,0,0,0,0,0,0,0,0,0,0,0,0,0,0,0,0,0,0,0,0,0,0,0,0,0,0,0,2,0,0,0,0,0,0,0,0,0,0,0,0,0,0,0,0,0,0,0,0,0,0,0,0,0,0,0,0,0,0,0,0,0,0,0,0,0,0,0,0,0,0,0,0,0,0,0,0,0,0,0,0,0,0,0,0,0,0,0,0,0,0,0,0,2,0,0,0,1,1,0,2,0,0,0,0,0,0,0,0,0,0,0,0,0,0,0,0,0,0,0,0,0,0,0,0,0,2,0,0,0,0,0,0,0,0,0,0,0,0,0,0,0,0,0,0,0,0,0,0,0,0,0,0,0,2,0,0,0,0,0,0,0,0,0,0,0,0,0,0,0,0,0,0,0,0],\"coloraxis\":\"coloraxis\",\"symbol\":\"circle\"},\"mode\":\"markers\",\"name\":\"\",\"showlegend\":false,\"x\":[0.03064364690791286,-1.1927195226857488,-0.31440750349029695,-1.1659678368694368,0.15611679250726634,-0.16218267207463494,-1.1032312640697615,-1.1345995504695991,-0.31902410407382276,-1.2600726960689494,-1.1345995504695991,-0.444497249673173,-0.6594586538885099,-0.8209166864712235,-0.5386021088726856,-1.1345995504695991,-0.444497249673173,-0.0007246394919213651,-1.0091264048702486,-0.9463898320705738,0.5906562015214665,1.3167274025902878,-0.032092925891758974,-0.5699703952725231,-0.5339855082891598,-1.0718629776699242,-0.2876558176739851,-1.0091264048702486,-0.6640752544720359,2.074182876769915,0.24560505112325315,-0.3457757898901346,-0.9463898320705738,-0.7581801136715484,-0.03670952647528476,-0.8209166864712235,0.46979965650564165,-1.0718629776699242,0.18748507890710397,1.9754614169868763,1.2539908297906126,1.635026867172189,0.5011519561945117,-0.25628753127414766,-1.1299829498860734,1.0703977119751134,-1.2600726960689494,1.9487097311705646,0.030643646907916176,-1.349560954684936,1.4422005481896378,1.7291317263717023,-0.8836532592708986,0.7834825205040176,0.7253465615769004,-0.35039239047366033,-0.722195226688185,-0.507233822472848,-0.7581801136715484,-1.0718629776699242,2.0068297033867144,0.7834665337930496,1.3840805759734889,-0.6908269402883475,-1.1032312640697615,1.0390294255752759,1.3213440031738137,0.12013190552390296,1.4781854351730015,0.09338021970759133,-0.22491924487431,-0.7535635130880227,-1.0404946912700863,-0.5653537946889974,2.1996560223692647,0.15611679250726634,1.635026867172189,0.7207299609933746,1.7605000127715391,0.7253465615769004,1.791868299171377,-1.0404946912700863,-0.4398806490896472,0.6939782751770628,-0.789548400071386,-0.25167093069062185,-0.09944609927495986,1.9487097311705646,0.9449245663757634,2.13691944956959,1.6931468393883387,1.818619984987689,0.312958224506454,0.25022165170677907,1.4422005481896378,1.3480956889901257,0.9449245663757634,1.5363054073891504,-0.8209166864712235,1.4781854351730015,1.4108322617898004,-0.6594586538885099,-0.13081438567479736,0.9135562799759256,-0.507233822472848,-0.5653537946889974,-0.09482949869143406,1.352712289573651,-1.228704409669112,-0.0053412400754472835,4.328834926005176,1.5409220079726766,-0.6640752544720359,0.8462031065927248,3.885062315823924,1.630410266588663,0.7834665337930496,0.4697836697946739,0.03062766019694825,1.1645025711746262,1.1598859705911004,-0.7535635130880227,-0.7581801136715484,0.026027046324390266,1.5676736937889884,1.5095537215728392,1.5095537215728392,2.1950394217857396,1.4781854351730015,1.9173414447707273,0.40704709699499886,1.791868299171377,-0.6594586538885099,2.257775994585414,1.4154488623733263,1.3213440031738137,1.1598859705911004,1.3794639753899631,3.3518014470266855,5.332620090799977,-0.8836532592708986,-0.7849317994878603,-0.5026172218893222,-0.8522849728710613,0.7567148479767379,1.9440931305870395,0.030643646907916176,1.572290294372514,-0.596722081088835,-0.37714407628997204,1.7291317263717023,1.0703977119751134,5.363988377199814,-1.0404946912700863,-0.25167093069062185,-0.4758655360730106,-0.7581801136715484,1.630410266588663,0.6939782751770628,-0.8209166864712235,1.8546048719710517,-0.789548400071386,-0.8522849728710613,-0.789548400071386,-0.6327069680721983,-0.25628753127414766,-0.6640752544720359,2.1996560223692647,1.6036585807723518,5.081673799601277,-0.5386021088726856,0.5685051295777124,0.4697836697946739,1.5409220079726766,4.956200654001927,-0.8522849728710613,4.673886076403388,4.171993494005987,-0.25167093069062185,1.4781854351730015,-0.31902410407382276,1.0030445385919124,-0.1261977850912716,-1.228704409669112,-1.0404946912700863,1.2586074303741386,-1.067246377086398,-0.722195226688185,-0.9463898320705738,-1.2600726960689494,1.823236585571214,1.1331342847747885,0.37569479730612904,1.0030445385919124,-0.5339855082891598,2.5087222857841156,-0.18893435789094673,-0.9150215456707361,-1.3228092688686246,-0.5653537946889974,-0.5026172218893222,0.21883737859597352,-0.41312896327333537,1.9800780175704018,0.28158993810661653,-0.4758655360730106,-0.31902410407382276,-0.22491924487431,4.987568940401765,1.0076611391754384,1.4154488623733263,-0.596722081088835,4.481059757420837,-0.722195226688185,-0.9777581184704113,-1.0404946912700863,2.105551163169752,0.09338021970759133,-0.6013386816723608,-0.6327069680721983,-0.35039239047366033,-1.0091264048702486,-0.18893435789094673,-0.9150215456707361,1.6036585807723518,0.28158993810661653,-0.722195226688185,-0.9777581184704113,-0.5699703952725231,-0.09482949869143406,-1.3855458416682997,4.324218325421649,-0.8209166864712235,0.6579933881936995,4.9248323676020895,4.888847480618725,-1.228704409669112,1.4422005481896378,1.101765998374951,0.402446483122441,4.705254362803226,4.857479194218888,-0.789548400071386,-0.9104049450872107,-0.16218267207463494,-1.1973361232692745,-0.9150215456707361,-1.0091264048702486,-1.0404946912700863,-0.6908269402883475,-0.18433374401838884,-1.0358780906865608,1.818619984987689,0.7207299609933746,-1.1345995504695991,0.5639045157051547,-0.6954435408718733,0.5011679429054792,-0.8476683722875356,-0.9463898320705738,-0.596722081088835,-0.6013386816723608,-0.4712489354894846,-0.35039239047366033,-0.879036658687373,-0.879036658687373,-0.2876558176739851,2.163671135385902,5.0770571990177515,0.28158993810661653,-1.3809292410847738,-0.9777581184704113,-0.9150215456707361,-1.1659678368694368,-0.7581801136715484,-0.09944609927495986,-0.6013386816723608,-1.1973361232692745,-0.8209166864712235,-0.2876558176739851,-0.8476683722875356,0.057395332724227865,-0.789548400071386,0.12474850610742888,-0.5699703952725231,0.12474850610742888,4.799359222002738,1.7291317263717023,-0.1261977850912716,-0.15756607149110913,-0.444497249673173,0.9762928527756009,-1.0404946912700863,0.5279196287217911,-0.6594586538885099,-0.5339855082891598,-1.4169141280681372,-1.0091264048702486,-0.6327069680721983,0.5279196287217911,-0.28303921709045937,-0.6954435408718733,0.684761060720979,0.2142367647234157,-0.5339855082891598,-1.0091264048702486,-0.7581801136715484,-0.41312896327333537,0.5906562015214665,0.3710781967226033,-1.1973361232692745,-0.6954435408718733,-0.8209166864712235,-0.9777581184704113,0.026027046324390266,0.402446483122441,-0.5339855082891598,-0.6908269402883475,-0.41312896327333537,-0.09944609927495986,-0.789548400071386,-0.596722081088835,-1.1973361232692745,-1.2600726960689494,0.7161293471208166,-0.6594586538885099,-0.5386021088726856,0.841602492720167,0.6312417023773876,1.227239143974301,0.4384153833948364,4.4229397852046874,-0.5699703952725231,-1.1345995504695991,0.12474850610742888,0.2142367647234157,-0.6594586538885099,0.12474850610742888,-1.0718629776699242,-0.31902410407382276,-0.7535635130880227,0.18748507890710397,-0.5699703952725231,-0.25628753127414766,-0.4085123626898096,-0.507233822472848,0.532536229305317,0.40704709699499886,-0.879036658687373,-0.5026172218893222,-0.7268118272717108,1.2226225433907751,1.1958708575744632,-1.1345995504695991,5.113042086001115,-0.4712489354894846,0.062011933307753786,1.7245151257881761,-0.8522849728710613,1.2539908297906126,-0.6327069680721983,2.042814590370077,2.0381979897865516,-0.7849317994878603,-0.03670952647528476,-0.5386021088726856,-0.8836532592708986,4.673886076403388,-0.8209166864712235,-0.6908269402883475,0.030643646907916176,-0.8209166864712235,-0.15756607149110913,-0.22030264429078422,-0.7581801136715484,-0.41312896327333537,-0.9463898320705738,1.0390294255752759,-0.18893435789094673,-0.25628753127414766,0.6893776613045047,-0.19355095847447248,-0.9150215456707361,-1.1659678368694368,-1.448282414467975,-0.8209166864712235,-0.8522849728710613,-0.5653537946889974,0.18748507890710397,-0.09944609927495986,5.045688912617914,-0.4758655360730106,0.25020566499581104,-0.9777581184704113,-1.1927195226857483,-0.4712489354894846,-1.1032312640697615,-0.16218267207463494,-0.2876558176739851,1.4781854351730015,-0.31440750349029695,-0.5386021088726856,1.352712289573651,-0.7268118272717108,-1.5423872736674875,-0.941773231487048,0.4070630837059668,-0.6640752544720359,-0.4085123626898096,0.1515001919237406,-0.1261977850912716,-1.4169141280681372,1.0076611391754384,4.3915714988048515,1.101765998374951,-0.9104049450872107,-0.789548400071386,-0.13081438567479736,4.9248323676020895,-0.12159717121871376,-0.6640752544720359,-1.0091264048702486,-0.28303921709045937,-0.5386021088726856,1.1598859705911004,-0.6954435408718733,-0.8836532592708986,-0.25167093069062185,-0.8209166864712235,-0.28303921709045937,-0.9777581184704113,0.18748507890710397,-0.37714407628997204,0.057395332724227865,-0.3457757898901346,-1.1345995504695991,-0.9777581184704113,0.37569479730612904,0.09338021970759133,-0.25628753127414766,0.08876361912406533,-0.3457757898901346,-1.1032312640697615,-1.0404946912700863,1.097149397791425,2.293760881568778,4.830727508402577,0.5011679429054792,1.1598859705911004,2.01144630397024,0.9089396793923998,1.7291317263717023,4.987568940401765,0.7880831343765754,2.289144280985252,-1.2914409824687871,-0.4758655360730106,-0.4712489354894846,-0.879036658687373,-0.8476683722875356,1.4154488623733263,-0.6954435408718733,-0.22030264429078422,-0.7581801136715484,-1.1973361232692745,0.9089556661033675,0.465183055922116,0.08876361912406533,-0.9731415178868857,-0.09482949869143406,0.026027046324390266,-1.2914409824687871,0.08876361912406533,-1.1973361232692745,4.956200654001927,1.3840805759734889,-0.8163000858876978,4.637901189420024,0.8462031065927248,2.042814590370077,-0.13081438567479736,2.5760754591673165,-0.6327069680721983,1.446817148773164,-1.228704409669112,-0.5026172218893222,-0.22491924487431,-0.722195226688185,-1.1032312640697615,-0.22491924487431,-0.8209166864712235,-0.4712489354894846,2.5722108876142724,0.8508197071762503,-0.5699703952725231,-0.596722081088835,0.1515001919237406,-0.0680778128751223,-1.2600726960689494,-0.5653537946889974,-1.1659678368694368,-0.37714407628997204,-1.1659678368694368,2.293760881568778,-1.228704409669112,-0.9777581184704113,-0.4758655360730106,-0.5699703952725231,2.289144280985252,-0.9777581184704113,0.1515001919237406,-0.22030264429078422,-0.5386021088726856,-1.0404946912700863,-0.37714407628997204,0.28158993810661653,-0.0007246394919213651,-0.444497249673173,-0.5339855082891598,0.46979965650564165,0.7161293471208166,-0.6327069680721983,-1.0091264048702486,-0.25167093069062185,1.1599019573020681,-0.1261977850912716,-0.5339855082891598,-0.0007246394919213651,-0.941773231487048,-0.8209166864712235,-0.6908269402883475,-1.8560701376658624,-0.8836532592708986,1.572290294372514,-0.25628753127414766,1.8859731583708896,-0.09482949869143406,-0.31902410407382276,-0.9777581184704113,-1.5691389594837994,0.34432651090629157,-1.5691389594837994,-0.444497249673173,-1.0358780906865608,0.5638885289941867,0.3443105241953238,1.4735688345894755,-0.3457757898901346,-1.1659678368694368,-0.5699703952725231,0.057395332724227865,1.352712289573651,-0.8476683722875356,4.360203212405014,4.297466639605338,1.7605000127715391,-0.9777581184704113,-0.4398806490896472,-0.789548400071386,-0.6327069680721983,1.352712289573651,-0.22491924487431,-0.4398806490896472,-0.7268118272717108,0.026027046324390266,-0.4758655360730106,-0.5026172218893222,-0.3457757898901346,-0.6327069680721983,-0.6013386816723608,0.46979965650564165,-0.03670952647528476,-1.0404946912700863,4.292850039021812,-0.507233822472848,1.227239143974301,-1.1032312640697615,0.9403079657922373,0.057395332724227865,-0.8836532592708986,-0.722195226688185,-0.9777581184704113,-1.228704409669112,-1.1032312640697615,-0.19355095847447248,-0.5339855082891598,0.3397099103227658,1.7291317263717023,0.658009374904667,-0.19355095847447248,4.171993494005987,-1.2868243818852614,0.877571392992562,-1.1032312640697615,-0.0053412400754472835,-0.13081438567479736,-0.31902410407382276,0.062011933307753786,0.841602492720167,-0.4712489354894846,0.057395332724227865,-1.1345995504695991,-0.9150215456707361,-0.9777581184704113,-0.879036658687373,-0.19355095847447248,-0.941773231487048,-0.2876558176739851,-1.2600726960689494,-1.9188067104655375,-0.22491924487431,-1.0718629776699242,0.6626099887772252,1.0657811113915874,0.18748507890710397,-0.5653537946889974,-0.3457757898901346,-0.09482949869143406,0.15611679250726634,-1.6678604192668376,-0.22491924487431,-0.2876558176739851,2.3878657407682904,-0.722195226688185,1.128517684191263,-0.21570203041822622,-0.8836532592708986,2.168287735969427,2.1996560223692647,-0.31902410407382276,-1.4436658138844491,-0.4712489354894846,-0.4398806490896472,-0.1261977850912716,-0.789548400071386,-0.22491924487431,-0.38176067687349785,-1.2600726960689494,-1.8560701376658624,-0.25628753127414766,0.1515001919237406,-0.22491924487431,-1.1973361232692745,-0.38176067687349785,-0.4758655360730106,0.7834825205040176,-0.06346121229159653,-0.6327069680721983,-0.941773231487048,0.18748507890710397,1.5990419801888258,0.7207299609933746,-0.9777581184704113,-0.4712489354894846,-1.6318755322834744,-0.9150215456707361,-0.7535635130880227,-0.31440750349029695,-0.21570203041822622,1.7605000127715391,-0.9150215456707361,2.356497454368453,-0.25168691740158955,4.14062520760615,-0.41312896327333537,-1.1613512362859109,0.4070630837059668,0.12013190552390296,0.1515001919237406,-0.19355095847447248,1.4422005481896378,0.8508197071762503,-0.7581801136715484,2.168287735969427,1.6036585807723518,-0.4085123626898096,-0.9463898320705738,-0.4712489354894846,-0.7268118272717108,4.324218325421649,-0.9777581184704113,-0.9150215456707361,1.818619984987689,0.5279196287217911,-0.15756607149110913,-0.28303921709045937,1.0030605253028806,1.0030605253028806,0.3710781967226033,1.5095537215728392,0.1247325193964608,-0.6013386816723608,-0.35039239047366033,-0.5026172218893222,0.6266410885048296,1.4154488623733263,0.7834665337930496,-1.0091264048702486,2.13691944956959,-0.19355095847447248,-1.004509804286723,-0.7581801136715484,-0.941773231487048,0.3443105241953238,0.6939782751770628,0.8729707791200046,-0.941773231487048,-1.1973361232692745,-0.6954435408718733,0.37569479730612904,0.75211423410418,-0.25167093069062185,0.312958224506454,-1.1032312640697615,-0.5699703952725231,1.191254256990938,-0.4712489354894846,1.0076611391754384,0.9089396793923998,-0.8836532592708986,-0.2876558176739851,-0.06346121229159653,-0.722195226688185,-0.8163000858876978,-0.4398806490896472,-0.37714407628997204,-0.5339855082891598,0.12013190552390296,-0.37714407628997204,-0.5026172218893222,-0.032092925891758974,0.37569479730612904,-0.4712489354894846,-0.5026172218893222,0.5952568153940241,1.2539908297906126,4.857479194218888,-0.9777581184704113,0.062011933307753786,4.5170446444042005,4.454308071604524,1.4154488623733263,1.9173414447707273,0.6266410885048296,-1.1613512362859109,4.888847480618725,1.2586074303741386,-0.9731415178868857,-0.6908269402883475,-0.6954435408718733,-0.31902410407382276,-0.7268118272717108,-0.2876558176739851,-0.5026172218893222,0.12013190552390296,2.5760754591673165,-0.5699703952725231,-0.1261977850912716,-0.4085123626898096,1.3167274025902878,-0.15756607149110913,-0.5386021088726856,-0.7268118272717108,-0.4085123626898096,-0.6013386816723608,1.0703977119751134,-0.8522849728710613,-0.6594586538885099,-1.0404946912700863,-1.0091264048702486,0.28158993810661653,-1.1032312640697615,0.15611679250726634,0.25022165170677907,-1.0718629776699242,-0.19355095847447248,-0.8209166864712235,-0.18893435789094673,1.1598859705911004,4.046520348406638,1.191254256990938,-0.3457757898901346,0.1515001919237406,-0.25167093069062185,1.5095537215728392,1.666395153572027,0.6939782751770628,-0.5339855082891598,-0.9463898320705738,-0.37714407628997204,-0.7581801136715484,-0.4712489354894846,-0.8476683722875356,-0.6640752544720359,-0.8209166864712235,-1.228704409669112,1.7291317263717023,0.9403079657922373,-1.1345995504695991,0.8194514207764126,4.9248323676020895,1.3840805759734889,-1.1973361232692745,-0.13081438567479736,1.9440931305870395,-0.25167093069062185,1.352712289573651,-0.6594586538885099,-0.4712489354894846,0.9449245663757634,-0.4085123626898096,0.7207459477043424,-0.7581801136715484,0.2188533653069414,0.25022165170677907,0.2188533653069414,-0.41312896327333537,-0.8209166864712235,0.15611679250726634,0.2142367647234157,-0.789548400071386,-0.4712489354894846,-1.004509804286723,1.9800780175704018,-0.8836532592708986,1.9754614169868763,0.9716762521920748,-0.28303921709045937,0.7834665337930496,-0.444497249673173,-0.879036658687373,-0.9104049450872107,-0.5026172218893222,-0.15756607149110913,1.5409220079726766,1.0030445385919124,-0.8209166864712235,-0.19355095847447248,-0.5386021088726856,0.15611679250726634,-1.0718629776699242,-0.032092925891758974,-0.3457757898901346,-0.9150215456707361,0.7474976335206545,0.5639045157051547,-0.6908269402883475,-1.7619652784663502,1.3480956889901257,0.28619055197917437,4.543796330220512,-0.5339855082891598,-0.1261977850912716,-0.9104049450872107,-1.6678604192668376,-1.228704409669112,-0.6594586538885099,0.12474850610742888,-1.1659678368694368,-1.067246377086398,-0.5653537946889974,-0.15756607149110913,-0.9731415178868857,-1.5423872736674875,-0.15756607149110913,1.4422005481896378,1.2586074303741386,-1.7933335648661874,-0.722195226688185,1.666395153572027,1.2899757167739763,1.0657811113915874,-1.228704409669112,-1.3809292410847738,-1.3855458416682997,-0.8836532592708986,0.34432651090629157,-0.6908269402883475,-0.25628753127414766,-0.5026172218893222,1.0390294255752759,-0.19355095847447248,2.0381979897865516,4.481059757420837,0.09338021970759133,1.4422005481896378,-1.004509804286723,-0.7849317994878603,-0.9104049450872107,0.18286847832357805,-0.5699703952725231,4.454308071604524,1.7245151257881761,0.3397099103227658,-0.4758655360730106,-0.9777581184704113,-0.7535635130880227,-0.4085123626898096,4.857479194218888,-0.6327069680721983,1.3480956889901257,-0.3457757898901346,3.9164306022237607,-0.596722081088835,-0.18433374401838884,0.4070630837059668,-1.1973361232692745,0.21883737859597352,-0.41312896327333537,-0.5339855082891598,-0.03670952647528476,-0.6954435408718733,1.2226225433907751,-1.6992287056666753,-0.722195226688185,0.28158993810661653,2.0695662761863893,0.15611679250726634,-0.6327069680721983,-0.4758655360730106,1.7605000127715391,-0.25628753127414766,-0.37714407628997204,-0.22030264429078422,0.7161293471208166,-0.8476683722875356,-0.15756607149110913,-0.507233822472848,-0.941773231487048,0.7253465615769004,1.8859731583708896,2.325129167968616,1.0344128249917501,4.830727508402577,1.2899757167739763,1.446817148773164,1.3840805759734889,-0.38176067687349785,-1.5423872736674875,-1.7933335648661874,-1.0404946912700863,1.5990419801888258,0.5057685567780374,1.8499882713875258,1.9487097311705646,-0.9150215456707361,0.43381476952227854,0.28158993810661653,1.572290294372514,-0.7581801136715484,1.8546048719710517,0.24560505112325315,-0.9731415178868857,1.4154488623733263,1.4781854351730015,4.328834926005176,0.6266251017938617,-0.8522849728710613,-0.22030264429078422,0.2142367647234157,-0.6640752544720359,0.030643646907916176,-1.0091264048702486,-1.6678604192668376,4.767990935602901,1.7558834121880134,3.665484311025062,1.446817148773164,1.446817148773164,-0.09944609927495986,1.5409220079726766,0.1561008057962984,-0.4085123626898096,-1.5423872736674875,-0.4712489354894846,0.28158993810661653,-0.31440750349029695,0.5906562015214665,0.4070630837059668,0.026027046324390266,-0.444497249673173,-1.1973361232692745,-0.444497249673173,-0.37714407628997204,-0.9731415178868857,-1.2600726960689494,1.2853591161904505,-0.7268118272717108,-0.18893435789094673,-0.9104049450872107,-1.0718629776699242,-1.1345995504695991,4.700637762219701,-0.596722081088835,4.893464081202252,-0.722195226688185,1.8859731583708896,0.28158993810661653,5.081673799601277,-1.0358780906865608,-0.941773231487048,0.030643646907916176,-1.067246377086398,-0.18893435789094673,-0.16218267207463494,1.5095537215728392,1.9173414447707273,1.0390294255752759,1.0030445385919124,-0.09482949869143406,0.5325202425943493,2.356497454368453,3.7596051569355415,-0.06346121229159653,-0.444497249673173,4.230113466222137,1.3213440031738137,0.40704709699499886,1.1331342847747885,4.794742621419213,1.0703977119751134,1.227239143974301,1.4422005481896378,1.1331342847747885,4.4229397852046874,3.607364338808911,-0.4398806490896472,-0.722195226688185,-0.28303921709045937,0.18748507890710397,0.08876361912406533,0.3710781967226033,-0.444497249673173,-0.1261977850912716,0.12474850610742888,0.12474850610742888,-0.8209166864712235,-0.7581801136715484,-1.7933335648661874,-1.1032312640697615,-0.9150215456707361,0.030643646907916176,-1.004509804286723,-1.0091264048702486,-0.4398806490896472,0.062011933307753786,1.3480956889901257,3.8583106300076113,-0.9463898320705738,1.4108322617898004,0.3129422377954862,1.5409220079726766,-0.879036658687373,0.6579933881936995,-0.1261977850912716,0.8194514207764126,0.9762928527756009,-0.8209166864712235,0.8508197071762503,4.328834926005176,-1.1973361232692745,1.2899757167739763,-0.6594586538885099,-0.1261977850912716,5.144410372400951,2.0381979897865516,-1.1345995504695991,-0.941773231487048,-0.7581801136715484,-0.3457757898901346,-0.5699703952725231,-1.3855458416682997,-0.7268118272717108,-0.6280903674886725,0.25022165170677907,0.057395332724227865,-0.6640752544720359,-0.9104049450872107,-0.09482949869143406,0.5685051295777124,0.7567148479767379,4.987568940401765,-0.5386021088726856,0.37569479730612904,-0.2876558176739851,-0.8209166864712235,-0.5026172218893222,-0.09482949869143406,-0.38176067687349785,-0.4712489354894846,-0.22030264429078422,-0.13081438567479736,-0.37714407628997204,-0.879036658687373,-0.4085123626898096,0.8462031065927248,1.791868299171377,0.40704709699499886,0.6266410885048296,-1.3228092688686246,-0.6640752544720359,-0.37714407628997204,-0.5339855082891598,-1.0091264048702486,0.877571392992562,-0.38176067687349785,-1.0091264048702486,-0.5699703952725231,-1.0718629776699242,-0.3457757898901346,1.6036585807723518,-0.3457757898901346,0.9449245663757634,1.3213440031738137,-0.6908269402883475,-0.0680778128751223,-0.22030264429078422,-0.4758655360730106,-1.0718629776699242,0.40704709699499886,0.9403079657922373,5.269883518000301,-1.349560954684936,-0.6327069680721983,0.2769733375230907,-0.7535635130880227,-0.4712489354894846,-0.06346121229159653,0.6893776613045047,0.24560505112325315,-0.25628753127414766,-0.6594586538885099,1.352712289573651,0.5685051295777124,0.6579933881936995,1.5049371209893132,-0.22030264429078422,-0.4398806490896472,1.6617785529885012,-0.9777581184704113,-0.22491924487431,1.1958708575744632,-0.9777581184704113,-0.5339855082891598,1.9173414447707273,1.5676736937889884,0.15611679250726634,1.8546048719710517,1.2899757167739763,-0.37714407628997204,-0.5653537946889974,5.332620090799977,-0.8476683722875356,-0.596722081088835,-0.6013386816723608,-0.444497249673173,-0.6908269402883475,-0.4758655360730106,-1.0404946912700863,-0.789548400071386,-0.31440750349029695,1.5095537215728392,-0.032092925891758974,0.12474850610742888,-0.6640752544720359,-0.507233822472848,-0.15756607149110913,-1.067246377086398,-0.7849317994878603,-0.789548400071386,-0.1261977850912716,1.791868299171377,1.4154488623733263,1.6036585807723518,1.3480956889901257,-0.5699703952725231,1.823236585571214,1.8499882713875258,0.532536229305317,1.6617785529885012,-0.15758205820207713,-1.0358780906865608,-0.9150215456707361,-0.9731415178868857,-0.6280903674886725,0.030643646907916176,-0.4712489354894846,-1.2600726960689494,-0.5699703952725231,-0.19355095847447248,1.818619984987689,-0.5026172218893222,-0.9150215456707361,1.4781854351730015,4.893464081202252,-0.38176067687349785,-1.6318755322834744,1.630410266588663,0.9089396793923998,0.49655134232195347,1.128517684191263,0.4697836697946739,4.830727508402577,1.4422005481896378,1.1285336709022307,-0.7268118272717108,1.6931468393883387,-0.15756607149110913,0.46979965650564165,-1.067246377086398,-1.1299829498860734,-0.6327069680721983,-0.8163000858876978,-1.0091264048702486,-0.3457757898901346,-0.6954435408718733,-0.6594586538885099,-0.5026172218893222,-0.9731415178868857,-1.0718629776699242,0.75211423410418,1.5095537215728392,-0.9777581184704113,-0.03670952647528476,4.606532903020188,1.4108322617898004,-0.722195226688185,0.18748507890710397,0.3710781967226033,-0.37714407628997204,-0.6594586538885099,-0.7581801136715484,-0.6954435408718733,-0.4398806490896472,-1.2600726960689494,1.3480956889901257,-0.31902410407382276,-0.7268118272717108,-0.8836532592708986,1.2853591161904505,0.1561008057962984,1.791868299171377,4.230113466222137,-1.0718629776699242,-0.6327069680721983,-0.6640752544720359,0.465183055922116,4.543796330220512,0.7880831343765754,0.6893776613045047,0.18748507890710397,-0.19355095847447248,-0.941773231487048,-0.596722081088835,0.9089396793923998,-0.8209166864712235,-0.4398806490896472,-0.16218267207463494,-0.25167093069062185,0.28158993810661653,-0.4398806490896472,-0.6013386816723608,-0.6327069680721983,-0.41312896327333537,-0.507233822472848,-0.1261977850912716,0.46979965650564165,1.2899757167739763,-0.09482949869143406,4.799359222002738,3.885062315823924,2.2264077081855773,1.572290294372514,1.2853591161904505,2.450602313567966,0.18748507890710397,0.15611679250726634,4.4229397852046874,2.293760881568778,4.579781217203875,0.5279196287217911,1.6977634399718642,2.325129167968616,1.6617785529885012,4.324218325421649,-0.25167093069062185,-0.0053412400754472835,-0.15756607149110913,-0.5699703952725231,4.512428043820675,-1.2914409824687871,1.097149397791425,0.3756788105951614,-0.9731415178868857,-1.1345995504695991,-0.38176067687349785,0.18748507890710397,4.705254362803226,-1.0091264048702486,1.5095537215728392,2.168287735969427,-0.6280903674886725,1.2539908297906126,-1.0404946912700863,-0.9150215456707361,0.2142367647234157,-0.789548400071386,-0.9463898320705738,-0.4398806490896472,-0.6640752544720359,4.700637762219701,-0.8209166864712235,0.15611679250726634,-1.4169141280681372,-1.7933335648661874,1.6977634399718642,-0.789548400071386,1.818619984987689,-0.0007246394919213651,1.0076611391754384,4.292850039021812,1.2899757167739763,0.877571392992562,2.0381979897865516,0.2815739513956486,-0.41312896327333537,1.1958708575744632,1.2586074303741386,-1.0718629776699242,-0.28303921709045937,-0.722195226688185,-0.596722081088835,-0.444497249673173,0.062011933307753786,-0.37714407628997204,-0.13081438567479736,-1.1032312640697615,0.6266410885048296,-1.0358780906865608,-1.0404946912700863,-1.1032312640697615,-0.722195226688185,-0.7849317994878603,0.7520982473932121,-0.25628753127414766,-0.8836532592708986,-1.2914409824687871,-0.9463898320705738,1.128517684191263,-0.5699703952725231,0.5638885289941867,-0.507233822472848,-1.0718629776699242,-0.941773231487048,-1.0091264048702486,-1.600507245883637,-0.4398806490896472,-0.8163000858876978,1.4781854351730015,1.635026867172189,0.2188533653069414,-0.5339855082891598,-0.6594586538885099,-0.4085123626898096,1.8859731583708896,4.418323184621162,-0.9150215456707361,0.5952568153940241,5.144410372400951,4.1360086070226245,1.9800780175704018,1.3213440031738137,1.7605000127715391,1.9173414447707273,5.17577865880079,0.7567148479767379,1.9800780175704018,2.320512567385089,2.6074437455671533,4.987568940401765,0.6939782751770628,4.888847480618725,0.12474850610742888,-0.4758655360730106,-0.15756607149110913,-0.4712489354894846,0.25022165170677907,0.30834162392292824,-0.13081438567479736,-1.1299829498860734,0.09338021970759133,-0.4085123626898096,-0.7849317994878603,-0.1261977850912716,-0.7581801136715484,-0.5386021088726856,-0.789548400071386,-0.15756607149110913,0.465183055922116,-0.5026172218893222,0.37569479730612904,-0.5026172218893222,0.026027046324390266,0.030643646907916176,-0.596722081088835,0.2769733375230907,-1.1345995504695991,-0.7535635130880227,-0.722195226688185,0.312958224506454,-0.3457757898901346,4.266098353205501,-1.1032312640697615,1.3840805759734889,1.2539908297906126,-0.7849317994878603,0.6893616745935371,-0.25167093069062185,0.9716762521920748,-0.4085123626898096,0.7207299609933746,3.6968525974248982,1.2226225433907751,-1.1032312640697615,1.7291317263717023,-0.15756607149110913,0.3397099103227658,0.9762928527756009,0.09338021970759133,-1.2600726960689494,-0.6327069680721983,-1.1032312640697615,-0.6640752544720359,0.24560505112325315,0.026027046324390266,-0.9104049450872107,-0.4398806490896472,0.12013190552390296,-0.789548400071386,-0.7268118272717108,-0.2876558176739851,-0.6954435408718733,-0.8209166864712235,-0.9731415178868857,-0.0007246394919213651,-0.9104049450872107,-0.7581801136715484,-0.18893435789094673,1.0611804975190295,-0.41312896327333537,0.34432651090629157,-0.6640752544720359,-0.6013386816723608,0.24560505112325315,-0.879036658687373,-1.573755560067325,0.43843137010580424,-0.5339855082891598,-0.22030264429078422,-0.41312896327333537,-0.9463898320705738,1.8546048719710517,-0.5386021088726856,1.2226225433907751,0.18748507890710397,-0.09482949869143406,1.1645025711746262,-0.5386021088726856,4.920215767018563,-0.1261977850912716,0.43843137010580424,-0.9777581184704113,0.402446483122441,0.12474850610742888,-0.31440750349029695,-0.3457757898901346,-0.5653537946889974,-1.228704409669112,-0.5386021088726856,-0.507233822472848,-0.3457757898901346,-1.2600726960689494,-0.6280903674886725,0.3756788105951614,-1.1032312640697615,0.4384153833948364,4.830727508402577,4.767990935602901,1.5990419801888258,-1.3855458416682997,-0.7581801136715484,-0.0680778128751223,1.1331342847747885,1.0076611391754384,4.732006048619538,-0.25167093069062185,-0.16218267207463494,-0.8836532592708986,-0.4712489354894846,-0.41312896327333537,-0.41312896327333537,-0.19355095847447248,-1.2914409824687871,0.5592879151216287,-0.032092925891758974,-0.7535635130880227,-0.37714407628997204,-0.35039239047366033,-0.6327069680721983,-1.3809292410847738,-0.3457757898901346,-0.38176067687349785,0.312958224506454,-0.13081438567479736,-0.9104049450872107,5.081673799601277,-0.444497249673173,-0.444497249673173,0.7834665337930496,1.0030445385919124,1.1331342847747885,-1.3228092688686246,-0.9731415178868857,-1.0358780906865608,-0.8476683722875356,1.1645025711746262,-0.5653537946889974,-0.16218267207463494,-0.4712489354894846,0.18286847832357805,-0.37714407628997204,1.572290294372514,-0.7268118272717108,-0.5026172218893222,-0.7535635130880227,5.238515231600464,4.799359222002738,0.5998734159775498,-1.0404946912700863,1.8859731583708896,1.666395153572027,-0.032092925891758974,4.046520348406638,4.5170446444042005,4.230113466222137,2.13691944956959,0.03062766019694825,-0.6954435408718733,1.635026867172189,1.4108322617898004,1.7558834121880134,1.6977634399718642,0.9716762521920748,1.2226225433907751,2.163671135385902,4.956200654001927,4.920215767018563,0.9716762521920748,3.6968525974248982,1.8499882713875258,4.485676358004363,-0.5699703952725231,-1.1032312640697615,-0.5653537946889974,0.9716762521920748,0.2188533653069414,-1.1032312640697615,-0.507233822472848,-0.789548400071386,-0.5339855082891598,0.026027046324390266,-0.9104049450872107,-0.28303921709045937,0.46979965650564165,-0.507233822472848,-0.09482949869143406,-0.9463898320705738,-1.0091264048702486,-0.28303921709045937,-0.8163000858876978,-0.5386021088726856,-0.4758655360730106,-0.15756607149110913,-0.6013386816723608,-0.25628753127414766,0.9762928527756009,-0.722195226688185,5.144410372400951,4.7366226492030625,4.1360086070226245,-1.0404946912700863,0.9716922389030431,0.9135562799759256,1.8859731583708896,0.9403079657922373,1.128517684191263,1.227239143974301,1.3794639753899631,1.3480956889901257,1.0030445385919124,-0.941773231487048,4.543796330220512,-0.7268118272717108,-0.9731415178868857,4.454308071604524,1.7291317263717023,-0.8522849728710613,-0.7849317994878603,-0.16218267207463494,-0.7581801136715484,-0.19355095847447248,-0.6908269402883475,0.312958224506454,-0.5653537946889974,-0.7268118272717108,-0.15756607149110913,-0.6013386816723608,-0.789548400071386,-0.789548400071386,0.15611679250726634,4.862095794802413,-0.13081438567479736,0.5011519561945117,-1.0091264048702486,4.888847480618725,1.2586074303741386,1.0076611391754384,-0.4085123626898096,1.1598859705911004,4.642517790003551,1.6617785529885012,1.5990419801888258,1.8859731583708896,1.4154488623733263,4.449691471020999,2.1996560223692647,4.705254362803226,-0.789548400071386,0.057395332724227865,-1.5691389594837994,0.9089396793923998,4.5751646166203495,-0.6327069680721983,-0.1261977850912716,-0.6594586538885099,0.026027046324390266,0.5906562015214665,-0.3457757898901346,-0.4085123626898096,-0.25167093069062185,-1.004509804286723,-0.4712489354894846,-0.8476683722875356,-0.1261977850912716,-0.5386021088726856,-0.38176067687349785,-0.6013386816723608,-0.41312896327333537,-0.8163000858876978,-0.13081438567479736,0.25022165170677907,-0.5386021088726856,-1.0404946912700863,-1.0091264048702486,1.191254256990938,1.1645025711746262,-0.9150215456707361,2.320512567385089,1.3840805759734889,0.9449245663757634,0.8462190933036928,0.2188533653069414,1.6617785529885012,1.0703977119751134,-0.722195226688185,4.485676358004363,0.4384153833948364,1.3213440031738137,-0.5653537946889974,-0.38176067687349785,1.630410266588663,4.767990935602901,1.4108322617898004,-0.6954435408718733,0.09338021970759133,-0.6013386816723608,0.18286847832357805,0.532536229305317,-0.5653537946889974,-0.09482949869143406,-0.5339855082891598,-1.2914409824687871,0.7161293471208166,-0.5699703952725231,-0.6327069680721983,-0.032092925891758974,-0.09944609927495986,-0.6280903674886725,0.12013190552390296,-0.6280903674886725,-1.0986146634862357,-0.2876558176739851,-0.596722081088835,0.28158993810661653,-0.596722081088835,-0.6327069680721983,0.9089396793923998,1.6977634399718642,-0.37714407628997204,-0.6327069680721983,-1.3228092688686246,-1.0718629776699242,1.1331342847747885,-0.5339855082891598,-0.722195226688185,1.9800780175704018,-0.5386021088726856,4.203361780405825,0.7834665337930496,-0.3457757898901346,1.1645025711746262,0.030643646907916176,-0.6640752544720359,-0.8209166864712235,1.8859731583708896,-0.38176067687349785,1.446817148773164,4.418323184621162,4.763374335019375,4.1360086070226245,-1.0091264048702486,5.113042086001115,1.0344288117027185,3.508642879025873,1.5409220079726766,1.6617785529885012,1.5363054073891504,2.13691944956959,-0.31902410407382276,1.572290294372514,-0.8522849728710613,-0.5653537946889974,-0.38176067687349785,-1.0404946912700863,-0.8476683722875356,-0.8209166864712235,0.18286847832357805,-0.4712489354894846,-0.9104049450872107,0.25022165170677907,-1.1973361232692745,0.2142367647234157,-1.4169141280681372,-0.31902410407382276,-0.09944609927495986,0.2142367647234157,-0.41312896327333537,-0.8163000858876978,-0.31902410407382276,-1.51101898726765,1.2899757167739763,1.4735688345894755,1.5409220079726766,0.9403079657922373,0.9403079657922373,-0.507233822472848,-0.25167093069062185,0.7567148479767379,-0.15756607149110913,-0.6013386816723608,-1.8874384240657003,-1.1032312640697615,-0.5386021088726856,-0.8163000858876978,-0.7268118272717108,0.38029541117868704,-1.067246377086398,-1.354177555268462,-0.09482949869143406,-0.37714407628997204,-0.38176067687349785,-1.51101898726765,-0.8522849728710613,-0.9463898320705738,1.4781854351730015,-0.5339855082891598,-0.444497249673173,4.857479194218888,-0.3457757898901346,2.2623925951689405,-0.15756607149110913,-0.37714407628997204,0.18746909219613592,-0.6013386816723608,1.4108322617898004,1.7605000127715391,-0.0053412400754472835,1.446817148773164,-0.28303921709045937,-0.7849317994878603,-0.8836532592708986,0.062011933307753786,-0.31902410407382276,-0.6013386816723608,-0.15756607149110913,-1.8560701376658624,-0.596722081088835,-0.7268118272717108,0.532536229305317,-0.9731415178868857,0.12474850610742888,1.4735688345894755,0.24560505112325315,-0.28303921709045937,-0.6954435408718733,-0.4085123626898096,-0.16218267207463494,-0.8522849728710613,-1.0404946912700863,-1.8560701376658624,-0.2876558176739851,1.5676736937889884,2.1996560223692647,-1.2600726960689494,0.465183055922116,4.266098353205501,4.171993494005987,1.191254256990938,1.7291317263717023,0.40704709699499886,-0.9463898320705738,0.062011933307753786,0.062011933307753786,1.791868299171377,-0.8163000858876978,-0.5339855082891598,-0.25167093069062185,-0.4398806490896472,1.2226225433907751,-0.444497249673173,-1.0091264048702486,-0.596722081088835,4.987568940401765,-0.7581801136715484,-1.0404946912700863,-1.9188067104655375,-0.18893435789094673,-0.596722081088835,-0.1261977850912716,-0.6954435408718733,-1.0718629776699242,-0.6954435408718733,0.658009374904667,-0.8522849728710613,4.987568940401765,1.2853591161904505,0.9135562799759256,4.799359222002738,-0.8476683722875356,1.9173414447707273,1.6931468393883387,1.352712289573651,0.5279196287217911,1.7291317263717023,2.1950394217857396,4.642517790003551,-1.4436658138844491,-0.25628753127414766,-0.8209166864712235,-0.25167093069062185,0.09338021970759133,-1.1345995504695991,-0.6954435408718733,-1.0718629776699242,-0.6280903674886725,-0.1261977850912716,-1.354177555268462,-1.0404946912700863,-1.0091264048702486,-0.37714407628997204,-0.18893435789094673,0.026027046324390266,-1.0718629776699242,0.12474850610742888,-0.0680778128751223,-1.3228092688686246,-0.28303921709045937,-0.4398806490896472,-0.7581801136715484,-0.5653537946889974,-1.1345995504695991,-0.25167093069062185,-0.09482949869143406,-1.2914409824687871,-1.0404946912700863,-0.4758655360730106,-0.6327069680721983,-0.28303921709045937,-0.8209166864712235,-0.9150215456707361,-0.8836532592708986,-0.9777581184704113,-0.8163000858876978,-0.8522849728710613,-0.9731415178868857,0.6266410885048296,-0.6013386816723608,3.670100911608588,-0.5699703952725231,-0.5386021088726856,-1.1032312640697615,0.34432651090629157,-1.0718629776699242,-1.228704409669112,-1.6318755322834744,-0.6640752544720359,0.18286847832357805,-0.6013386816723608,-0.22030264429078422,-0.5653537946889974,-0.7849317994878603,-0.5653537946889974,-0.0007246394919213651,-0.6327069680721983,-0.9150215456707361,-0.6327069680721983,-1.5377706730839618,-0.507233822472848,1.101765998374951,-0.789548400071386,-1.004509804286723,-0.13081438567479736,-0.5386021088726856,-0.789548400071386,-0.789548400071386,1.5049371209893132,0.15611679250726634,-0.6013386816723608,0.062011933307753786,-1.228704409669112,-0.8209166864712235,-0.507233822472848,-1.0358780906865608,-0.8476683722875356,-0.9463898320705738,-1.0986146634862357,0.1515001919237406,-1.1032312640697615,-0.3457757898901346,-0.0680778128751223,-0.3457757898901346,1.352712289573651,0.5952568153940241,4.673886076403388,0.08876361912406533,-0.6013386816723608,-0.8163000858876978,0.8102342063203295,-1.318192668285099,-0.9150215456707361,-0.9777581184704113,1.4422005481896378,-0.789548400071386,-0.789548400071386,-0.9777581184704113,0.5952568153940241,-0.4712489354894846,-0.31440750349029695,0.3756788105951614,-0.22030264429078422,0.2188533653069414,-0.0680778128751223,-0.16218267207463494,-0.444497249673173,-0.8522849728710613,-0.35039239047366033,1.4735688345894755,0.062011933307753786,0.6579933881936995,0.18286847832357805,-1.0091264048702486,1.101765998374951,-0.18893435789094673,1.4735688345894755,1.1598859705911004,-0.38176067687349785,4.203361780405825,1.791868299171377,4.077888634806474,3.638732625208749,-0.15756607149110913,1.6977634399718642,4.700637762219701,-0.507233822472848,2.168287735969427,-1.0718629776699242,0.15611679250726634,-0.4712489354894846,0.6579933881936995,-0.37714407628997204,0.18748507890710397,-0.38176067687349785,-0.7849317994878603,-0.6280903674886725,-0.6640752544720359,1.0344128249917501,1.7605000127715391,0.46979965650564165,0.4070630837059668,1.3213440031738137,1.8813565577873639,4.046520348406638,4.606532903020188,-0.7268118272717108,2.4107688417425273,0.6312417023773876,-1.4169141280681372,1.1331342847747885,4.987568940401765,1.1331342847747885,-0.7581801136715484,0.402446483122441,4.673886076403388,1.3840805759734889,1.3213440031738137,-1.1032312640697615,4.920215767018563,1.4735688345894755,2.042814590370077,4.077888634806474,1.9440931305870395,-0.5339855082891598,-1.0718629776699242,-0.6280903674886725,0.062011933307753786,0.08876361912406533,-0.06346121229159653,-0.2876558176739851,-1.3228092688686246,-0.22030264429078422,-0.8836532592708986,-1.2914409824687871,-0.032092925891758974,-0.25167093069062185,-0.444497249673173,-0.8209166864712235,-1.8874384240657003,0.9089556661033675,-1.1032312640697615,-0.6327069680721983,-0.4085123626898096,-0.16218267207463494,-0.0007246394919213651,0.030643646907916176,-0.16218267207463494,0.43381476952227854,0.312958224506454,-0.1261977850912716,-0.15756607149110913,-1.51101898726765,-0.444497249673173,1.8859731583708896,-0.8209166864712235,4.198745179822298,1.097149397791425,-1.1345995504695991,-0.6954435408718733,1.0076611391754384,0.9135562799759256,0.5057685567780374,2.3878657407682904,4.077888634806474,0.9089396793923998,-1.0404946912700863,4.799359222002738,0.9449245663757634,0.9089396793923998,0.25020566499581104,-0.31440750349029695,1.0030445385919124,0.7253465615769004,-0.6280903674886725,2.042814590370077,1.4735688345894755,1.4735688345894755,2.105551163169752,1.818619984987689,-0.4085123626898096,-0.9150215456707361,-0.6640752544720359,-0.25167093069062185,-0.8836532592708986,-1.067246377086398,-0.7581801136715484,-0.6908269402883475,-0.38176067687349785,-0.8209166864712235,-0.25628753127414766,-1.0718629776699242,-0.3457757898901346,-0.4758655360730106,0.532536229305317,-0.8476683722875356,-1.255456095485424,0.9403079657922373,-0.35039239047366033,0.062011933307753786,1.4108322617898004,-0.31440750349029695,4.642517790003551,1.4422005481896378,2.042814590370077,0.21883737859597352,1.635026867172189,4.700637762219701,1.9487097311705646,1.6931468393883387,5.018937226801602,-0.9150215456707361,4.642517790003551,-0.5339855082891598,-0.9150215456707361,-0.41312896327333537,-1.1973361232692745,0.9716762521920748,-0.9463898320705738,-0.6594586538885099,-1.5064023866841243,-1.0358780906865608,3.885062315823924,0.5952568153940241,0.4116636975785245,1.0390294255752759,-0.9777581184704113,-0.4398806490896472,0.9089556661033675,-0.7268118272717108,-0.7268118272717108,-0.18893435789094673,-0.4712489354894846,-1.3228092688686246,-0.879036658687373,-0.6594586538885099,1.3840805759734889,-0.6640752544720359,-0.4085123626898096,-0.25167093069062185,-1.0358780906865608,-0.8522849728710613,-1.1973361232692745,-0.8163000858876978,-0.25167093069062185,5.045688912617914,0.9449245663757634,-0.8163000858876978,0.8508197071762503,0.9449245663757634,1.227239143974301,-0.507233822472848,-0.6594586538885099,-1.0358780906865608,-0.16218267207463494,0.595272802104992,-0.38176067687349785,-0.7849317994878603,-0.6908269402883475,1.6977634399718642,1.7558834121880134,5.081673799601277,-0.5026172218893222,2.293760881568778,1.3480956889901257,1.572290294372514,1.5676736937889884,1.7558834121880134,-1.1973361232692745,4.077888634806474,0.8508197071762503,0.7207299609933746,2.356497454368453,0.7520982473932121,1.1331342847747885,0.3756788105951614,0.9449245663757634,2.293760881568778,1.227239143974301,4.7366226492030625,1.2226225433907751,1.3480956889901257,0.12013190552390296,0.5685051295777124,-0.09944609927495986,1.1958708575744632,-0.7849317994878603,1.128517684191263,4.104640320622787,0.030643646907916176,-1.2600726960689494,-0.7581801136715484,-1.004509804286723,-0.7535635130880227,-0.25167093069062185,-0.9777581184704113,-1.1927195226857483,-0.8522849728710613,-0.19355095847447248,0.15611679250726634,-0.09944609927495986,0.09338021970759133,-0.6908269402883475,-0.722195226688185,-0.9104049450872107,-1.004509804286723,-0.8522849728710613,-0.507233822472848,-0.9104049450872107,-1.3228092688686246,-1.6632438186833114,-0.8836532592708986,-1.4436658138844491,-0.941773231487048,0.062011933307753786,-0.4398806490896472,-0.3457757898901346,-0.38176067687349785,0.12474850610742888,-1.0091264048702486,-0.507233822472848,0.08876361912406533,-0.6013386816723608,-0.03670952647528476,-0.5339855082891598,-0.4085123626898096,-0.6954435408718733,-0.09944609927495986,-1.3228092688686246,-1.1032312640697615,-0.4712489354894846,-0.5699703952725231,-0.7849317994878603,-0.7268118272717108,-0.7581801136715484,-0.6280903674886725,-0.7535635130880227,-0.6640752544720359,-0.13081438567479736,-1.2600726960689494,-0.31902410407382276,-1.1345995504695991,0.34432651090629157,-1.0091264048702486,-0.5339855082891598,-0.03670952647528476,-0.789548400071386,-0.879036658687373,-0.507233822472848,0.08876361912406533,-0.8836532592708986,-0.7268118272717108,-0.28303921709045937,-0.0007246394919213651,-1.4436658138844491,-0.8836532592708986,-0.7535635130880227,-0.18893435789094673,-0.22030264429078422,-0.37714407628997204,-0.6013386816723608,-0.6954435408718733,-0.5026172218893222,-1.0404946912700863,-1.9188067104655375,-0.7581801136715484,-1.1032312640697615,-0.1261977850912716,0.5279196287217911,-0.6594586538885099,-1.0718629776699242,-0.19355095847447248,-1.51101898726765,0.2769733375230907,-0.9150215456707361,-0.6640752544720359,-0.9150215456707361,-0.941773231487048,-0.5699703952725231,-0.4758655360730106,-0.4085123626898096,-0.4712489354894846,-0.16218267207463494,-0.444497249673173,-0.6954435408718733,-0.789548400071386,-0.38176067687349785,-0.444497249673173,-0.7581801136715484,-0.31902410407382276,0.08876361912406533,-1.1032312640697615,-0.4712489354894846,-0.9150215456707361,-0.8209166864712235,-0.25167093069062185,-0.16218267207463494,-0.41312896327333537,-0.8209166864712235,-0.25628753127414766,-0.25628753127414766,-1.1032312640697615,-0.31440750349029695,-0.5699703952725231,-0.789548400071386,-1.0404946912700863,0.18286847832357805,-1.0091264048702486,-1.9501749968653759,-0.7268118272717108,-0.789548400071386,-0.8522849728710613,-0.7268118272717108,-0.8522849728710613,-0.8163000858876978,-0.6954435408718733,-0.0680778128751223,0.12013190552390296,-0.9463898320705738,-0.4758655360730106,-0.7581801136715484,-0.5653537946889974,-0.789548400071386,-0.5339855082891598,-0.507233822472848,-0.2876558176739851,-1.0404946912700863,-0.7849317994878603,-0.596722081088835,0.8462190933036928,-0.03670952647528476,-0.3457757898901346,-1.6318755322834744,-0.15756607149110913,-0.941773231487048,-0.0007246394919213651,-1.1345995504695991,-1.228704409669112,2.7558040054297717,-1.0718629776699242,-0.9463898320705738,0.5279196287217911,-0.35039239047366033,-0.7268118272717108,-0.38176067687349785,-0.5339855082891598,-0.5653537946889974,-0.4712489354894846,-1.067246377086398,-0.722195226688185,-0.507233822472848,-0.789548400071386,-1.1973361232692745,0.057395332724227865,0.062011933307753786,-1.228704409669112,-0.6954435408718733,-0.38176067687349785,-0.18893435789094673,-0.9463898320705738,-1.0404946912700863,-0.789548400071386,-0.9777581184704113,0.057395332724227865,-0.2876558176739851,-1.824701851266025,0.4070630837059668,-0.9777581184704113,-0.032092925891758974,-0.7581801136715484,0.3710781967226033,-1.824701851266025,-1.9188067104655375,-0.9777581184704113,-0.5386021088726856,-0.6013386816723608,-1.0358780906865608,-0.4758655360730106,-0.6327069680721983,-0.6954435408718733,-0.879036658687373,0.6266410885048296,-0.507233822472848,-1.004509804286723,-0.722195226688185,-1.3228092688686246,-0.444497249673173,-0.5026172218893222,0.030643646907916176,-1.0718629776699242,-1.1973361232692745,0.18286847832357805,0.28158993810661653,-0.032092925891758974,0.08876361912406533,-0.1261977850912716,-0.7268118272717108,-0.9463898320705738,-0.8476683722875356,-0.5339855082891598,-0.6013386816723608,-1.1032312640697615,0.595272802104992,-0.8209166864712235,-0.31902410407382276,-0.7581801136715484,0.28158993810661653,-0.7581801136715484,-0.7849317994878603,-0.444497249673173,-1.1345995504695991,-0.4085123626898096,-0.5386021088726856,-0.444497249673173,0.12474850610742888,-0.4712489354894846,-0.941773231487048,-0.25628753127414766,-0.5653537946889974,-0.4085123626898096,-0.22030264429078422,-0.6594586538885099,-0.032092925891758974,-0.6013386816723608,-0.6594586538885099,-1.3228092688686246,-0.06346121229159653,-0.9777581184704113,-1.3228092688686246,0.5592879151216287,-0.7849317994878603,-0.789548400071386,-0.8163000858876978,-0.35039239047366033,-1.448282414467975,1.8546048719710517,-1.0358780906865608,-0.8522849728710613,-1.2600726960689494,-0.9150215456707361,-0.1261977850912716,-0.3457757898901346,-0.789548400071386,-0.31902410407382276,-0.16218267207463494,-1.1032312640697615,-0.6013386816723608,-0.6640752544720359,-0.8209166864712235,-0.9104049450872107,-0.22491924487431,-0.03670952647528476,-1.228704409669112,-0.6640752544720359,-0.596722081088835,-0.6954435408718733,-0.8163000858876978,-0.41312896327333537,-0.7268118272717108,-0.31440750349029695,4.297466639605338,-0.7535635130880227,-0.7535635130880227,-1.1973361232692745,-1.1659678368694368,-1.0718629776699242,-0.0053412400754472835,-0.38176067687349785,-0.22030264429078422,-1.228704409669112,-0.41312896327333537,-1.1659678368694368,-0.0053412400754472835,-0.4712489354894846,-1.4796507008678128,-0.4085123626898096,-0.722195226688185,-0.0007246394919213651,-1.354177555268462,-0.9777581184704113,-0.7581801136715484,0.25022165170677907,-0.31440750349029695,-0.8209166864712235,0.658009374904667,-0.35039239047366033,-0.25167093069062185,-0.8209166864712235,-0.7581801136715484,0.43843137010580424,-0.879036658687373,-0.4085123626898096,-0.8522849728710613,-1.1973361232692745,-0.5026172218893222,-0.596722081088835,-0.2876558176739851,-0.8836532592708986,-0.5339855082891598,-0.7535635130880227,-0.9104049450872107,-0.5699703952725231,-0.6594586538885099,-0.9777581184704113,-0.8836532592708986,0.030643646907916176,-0.9777581184704113,-0.2876558176739851,-0.6908269402883475,-0.8522849728710613,-0.8163000858876978,-0.596722081088835,0.12013190552390296,-1.1973361232692745,-0.3457757898901346,-1.1973361232692745,-0.4758655360730106,0.18286847832357805,4.888847480618725,-1.0718629776699242,-1.0404946912700863,1.8499882713875258,-1.1659678368694368,-0.722195226688185,-1.5377706730839618,-1.0091264048702486,-0.16218267207463494,-1.1613512362859109,0.658009374904667,-1.3855458416682997,-0.16218267207463494,-1.228704409669112,-0.722195226688185,-0.7268118272717108,-0.15756607149110913,-0.6954435408718733,-0.5339855082891598,0.2142367647234157,-0.5699703952725231,-0.941773231487048,-0.6013386816723608,0.21883737859597352,0.18286847832357805,-1.0718629776699242,-0.8476683722875356,-0.8836532592708986,-1.067246377086398,-0.7581801136715484,-0.8522849728710613,-0.5699703952725231,1.8499882713875258,1.7245151257881761,-0.9731415178868857,-1.3855458416682997,-0.8163000858876978,-0.6013386816723608,-0.31440750349029695,-1.3228092688686246,-1.1345995504695991,-1.1345995504695991,2.1996560223692647,-0.4712489354894846,-1.3228092688686246,-0.4758655360730106,-1.0358780906865608,-1.0718629776699242,-0.19355095847447248,-0.4712489354894846,-0.8209166864712235,-0.25167093069062185,1.5095537215728392,-0.5653537946889974,-1.1613512362859109,-0.5699703952725231,-0.4398806490896472,3.979167175023435,-0.4398806490896472,-1.1973361232692745,-0.507233822472848,-0.8476683722875356,-0.3457757898901346,-0.6327069680721983,-1.1659678368694368,-1.2914409824687871,-0.9463898320705738,-0.8836532592708986,-1.3855458416682997,0.057395332724227865,-0.6327069680721983,-1.0091264048702486,-0.09944609927495986,0.312958224506454,0.4070630837059668,-0.5386021088726856,-0.5653537946889974,-1.6632438186833114,0.5639045157051547,-1.1973361232692745,-0.31440750349029695,0.37569479730612904,-0.6327069680721983,-0.879036658687373,-0.9150215456707361,-0.0680778128751223,0.12474850610742888,-0.4758655360730106,-0.09482949869143406,0.5279196287217911,2.1009345625862266,-1.1659678368694368,-0.5699703952725231,-1.0404946912700863,-0.444497249673173,-0.6954435408718733,-0.879036658687373,-1.004509804286723,-0.5026172218893222,-0.6594586538885099,0.15611679250726634,-0.6908269402883475,-0.13081438567479736,-0.19355095847447248,-0.5699703952725231,-0.4712489354894846,0.1515001919237406,4.418323184621162,2.168287735969427,2.074182876769915,0.026027046324390266,-0.28303921709045937,-0.6954435408718733,-0.4398806490896472,-0.9150215456707361,-0.4085123626898096,-0.7535635130880227,-0.6327069680721983,-0.37714407628997204,-0.8476683722875356,-0.25167093069062185,-1.318192668285099,-0.5653537946889974,-0.7581801136715484,-0.6327069680721983,-0.6327069680721983,0.18748507890710397,-0.032092925891758974,-0.1261977850912716,0.18748507890710397,-0.507233822472848,-1.004509804286723,-0.18893435789094673,-1.6318755322834744,2.544707172767479,-0.7268118272717108,4.893464081202252,1.9127248441872013,0.6579933881936995,1.8813565577873639,-0.6908269402883475,4.512428043820675,1.3840805759734889,1.2899757167739763,-0.9104049450872107,2.383249140184765,1.191254256990938,1.666395153572027,1.9754614169868763,0.40704709699499886,1.3213440031738137,0.8462031065927248,-0.9463898320705738,-0.19355095847447248,1.8546048719710517,3.8269423436077745,0.9403079657922373,1.635026867172189,-0.9463898320705738,0.026027046324390266,0.08876361912406533,0.057395332724227865,-0.6013386816723608,0.37569479730612904,-0.941773231487048,-0.596722081088835,-0.6594586538885099,0.5057685567780374,0.5011679429054792,-0.28303921709045937,-1.228704409669112,0.12013190552390296,-1.6318755322834744,-0.9777581184704113,0.08876361912406533,4.485676358004363,-0.37714407628997204,1.3840805759734889,1.1958708575744632,1.2899757167739763,-1.1032312640697615,-0.8476683722875356,0.062011933307753786,0.8148348201928873,-1.1659678368694368,-0.879036658687373,-0.6954435408718733,-0.5699703952725231,-0.5339855082891598,0.12013190552390296,-0.444497249673173,-0.28303921709045937,-0.25628753127414766,-0.507233822472848,4.826110907819051,3.7909574566244126,0.057395332724227865,0.4697836697946739,-0.7581801136715484,-0.6908269402883475,-0.6908269402883475,-0.6954435408718733,-1.1032312640697615,-0.8476683722875356,-0.7581801136715484,-0.7535635130880227,1.7291317263717023,-0.4398806490896472,0.9403079657922373,1.0076611391754384,0.8821879935760881,-1.0091264048702486,-0.722195226688185,-1.0718629776699242,1.791868299171377,-0.6954435408718733,1.5363054073891504,-1.2914409824687871,-1.1032312640697615,-0.5653537946889974,-0.9731415178868857,0.37569479730612904,1.6977634399718642,1.7291317263717023,0.5011519561945117,1.666395153572027,2.9080448235564016,1.2539908297906126,1.4422005481896378,1.5095537215728392,1.818619984987689,1.1645025711746262,1.0657811113915874,1.791868299171377,1.4781854351730015,-1.1345995504695991,1.101765998374951,2.105551163169752,4.481059757420837,0.1515001919237406,1.8546048719710517,-0.7535635130880227,-0.6640752544720359,-0.789548400071386,-0.6640752544720359,-0.9731415178868857,-0.15756607149110913,-0.789548400071386,-1.0404946912700863,-0.6954435408718733,-0.22030264429078422,-0.9104049450872107,0.312958224506454,-0.6280903674886725,-0.6594586538885099,-1.1659678368694368,-0.5653537946889974,-0.9463898320705738,-0.5699703952725231,0.312958224506454,-1.1345995504695991,-0.722195226688185,1.4154488623733263,-0.8209166864712235,-0.596722081088835,-0.13081438567479736,-0.41312896327333537,-0.6013386816723608,1.1958708575744632,4.297466639605338,1.8546048719710517,-0.596722081088835,1.9487097311705646,-0.8836532592708986,1.2226225433907751,-1.1032312640697615,-0.9104049450872107,-0.0007246394919213651,-0.22491924487431,-0.7849317994878603,2.450602313567966,-0.25167093069062185,-0.6640752544720359,-0.28303921709045937,-0.7268118272717108,-1.228704409669112,-0.4758655360730106,-0.5026172218893222,-0.596722081088835,2.970781396356077,-1.1345995504695991,-1.0404946912700863,-1.2600726960689494,-0.6280903674886725,-0.6594586538885099,0.2188533653069414,-0.0007246394919213651,-0.789548400071386,-1.4750341002842866,0.312958224506454,-1.0718629776699242,-0.19355095847447248,-0.6280903674886725,-0.6327069680721983,-0.8522849728710613,-0.5386021088726856,-0.35039239047366033,-0.5699703952725231,-1.3228092688686246,-0.41312896327333537,-1.0718629776699242,0.9449245663757634,3.8269423436077745,-0.35039239047366033,-0.37714407628997204,-1.0404946912700863,-0.31440750349029695,0.5011679429054792,-0.0007246394919213651,0.08876361912406533,-1.1299829498860734,-0.4398806490896472,-0.4085123626898096,-1.0718629776699242,-0.7849317994878603,-1.4122975274846115,-1.0404946912700863,-0.37714407628997204,-0.4085123626898096,-0.7535635130880227,-0.4085123626898096,-0.41312896327333537,0.9449245663757634,1.630410266588663,-1.51101898726765,-0.5386021088726856,-1.9501749968653759,1.0030445385919124,2.293760881568778,2.01144630397024,1.4781854351730015,4.951584053418401,-0.38176067687349785,0.5638885289941867,4.673886076403388,-1.5423872736674875,-0.8476683722875356,0.09338021970759133,0.18748507890710397,4.548412930804038,-0.19355095847447248,-0.6594586538885099,-0.9463898320705738,-0.37714407628997204,-0.9150215456707361,0.09338021970759133,0.09338021970759133,0.7161293471208166,-1.6051238464671624,-0.9104049450872107,-1.5423872736674875,0.8102342063203295,-0.28303921709045937,-0.8522849728710613,-0.5339855082891598,-0.22491924487431,-0.09944609927495986,-0.7535635130880227,0.34432651090629157,-0.06346121229159653,-0.9777581184704113,-1.1299829498860734,-0.4085123626898096,-0.6640752544720359,-0.7535635130880227,-0.9104049450872107,-0.5653537946889974,0.12474850610742888,-1.1973361232692745,-0.5386021088726856,-0.4085123626898096,0.25020566499581104,-0.4085123626898096,-0.9777581184704113,2.325129167968616,1.5095537215728392,-0.9463898320705738,-0.5386021088726856,-0.507233822472848,1.4154488623733263,-0.7581801136715484,-0.7535635130880227,-0.507233822472848,-0.9150215456707361,-0.7849317994878603,-0.9777581184704113,-0.9104049450872107,0.312958224506454,-0.09944609927495986,-0.8209166864712235,-0.6013386816723608,-0.41312896327333537,-0.7268118272717108,-0.6013386816723608,-0.7849317994878603,-1.228704409669112,-0.6908269402883475,-0.9731415178868857,-1.51101898726765,-0.09944609927495986,-0.9150215456707361,-0.8836532592708986,-0.4712489354894846,-1.0404946912700863,0.030643646907916176,-0.41312896327333537,-0.38176067687349785,-0.722195226688185,-0.06346121229159653,-0.09482949869143406,0.09338021970759133,-0.5339855082891598,-0.4085123626898096,-0.8836532592708986,0.057395332724227865,-0.37714407628997204,-1.1973361232692745,-1.1659678368694368,-1.1299829498860734,1.6036585807723518,0.4070630837059668,-0.6013386816723608,-1.0718629776699242,0.25022165170677907,-0.4085123626898096,-0.5026172218893222,-0.5026172218893222,-0.22491924487431,-1.0404946912700863,-1.0091264048702486,-0.8836532592708986,-1.0404946912700863,-0.6280903674886725,-0.9777581184704113,0.21883737859597352,-0.9777581184704113,-0.6013386816723608,1.4154488623733263,-1.51101898726765,-0.8163000858876978,-1.2600726960689494,-0.4712489354894846,0.6220244879213037,0.5592879151216287,-0.2876558176739851,-0.6013386816723608,0.5325202425943493,0.8194514207764126,-0.6594586538885099,-1.1659678368694368,0.2188533653069414,1.7245151257881761,-0.22030264429078422,4.0419037478231115,-0.722195226688185,-1.2914409824687871,1.2853591161904505,-1.1032312640697615,1.2226225433907751,0.08876361912406533,-0.8836532592708986,-0.7849317994878603,0.7207299609933746,-1.1973361232692745,-0.9731415178868857,-0.16218267207463494,2.074182876769915,-1.5377706730839618,-0.9150215456707361,-0.722195226688185,-0.0007246394919213651,-1.6051238464671624,-0.41312896327333537,1.4781854351730015,1.8859731583708896,-0.6280903674886725,0.2188533653069414,-0.596722081088835,-0.5386021088726856,-0.5386021088726856,1.9800780175704018,-0.789548400071386,-1.0404946912700863,-0.6327069680721983,-1.6051238464671624,1.8546048719710517,1.2586074303741386,-1.0404946912700863,-0.9463898320705738,-1.7305969920665127,-0.09944609927495986,-0.15756607149110913,0.12474850610742888,-0.789548400071386,1.1598859705911004,-0.5339855082891598,-0.9463898320705738,-0.16218267207463494,0.6579933881936995,-0.5386021088726856,-0.9777581184704113,-0.9463898320705738,-1.1032312640697615,-0.9777581184704113,-0.25167093069062185,4.485676358004363,-0.8163000858876978,0.09338021970759133,-1.8560701376658624,0.841602492720167,-1.0718629776699242,-0.5653537946889974,-0.0680778128751223,-1.0404946912700863,0.1515001919237406,-0.596722081088835,1.3840805759734889,-0.5653537946889974,-0.18893435789094673,1.7872516985878513,1.4735688345894755,4.5751646166203495,0.6312417023773876,1.666395153572027,1.635026867172189,0.9762928527756009,1.0703977119751134,4.360203212405014,0.7567148479767379,0.9089396793923998,2.074182876769915,1.4154488623733263,1.101765998374951,1.6617785529885012,0.8148348201928873,0.37569479730612904,4.956200654001927,0.9716762521920748,1.3840805759734889,-0.6640752544720359,-0.31440750349029695,-0.4398806490896472,0.062011933307753786,-0.8522849728710613,-0.25167093069062185,-0.22030264429078422,-0.9150215456707361,-0.0053412400754472835,0.15611679250726634,-0.7268118272717108,-1.9501749968653759,-1.8560701376658624,-1.1032312640697615,-0.8209166864712235,-1.4122975274846115,-0.8209166864712235,-1.1345995504695991,-1.0404946912700863,1.1645025711746262,-0.25628753127414766,-0.06346121229159653,1.2586074303741386,1.7605000127715391,0.5371368431778748,1.4735688345894755,4.297466639605338,1.2899757167739763,1.3480956889901257,4.606532903020188,0.9135562799759256,1.5409220079726766,1.5676736937889884,1.4422005481896378,2.481970599967804,2.168287735969427,1.4154488623733263,1.0344128249917501,1.6036585807723518,2.042814590370077,0.8821879935760881,3.1054717564115104,-1.4169141280681372,-1.4169141280681372,-0.5386021088726856,-0.789548400071386,0.09338021970759133,-0.7268118272717108,-1.2600726960689494,-1.1973361232692745,-1.1973361232692745,-1.5691389594837994,1.7245151257881761,1.5676736937889884,1.8859731583708896,1.3480956889901257,1.3840805759734889,1.6036585807723518,1.3213440031738137,1.3480956889901257,1.5409220079726766,1.823236585571214,1.101765998374951,2.163671135385902,1.2226225433907751,4.9829523398182385,-1.1345995504695991,-0.4085123626898096,-0.8163000858876978,-0.7268118272717108,-0.4398806490896472,-1.4436658138844491,-0.4758655360730106,0.25020566499581104,-0.1261977850912716,-0.6013386816723608,0.026027046324390266,0.532536229305317,-0.7581801136715484,-0.6280903674886725,0.7834825205040176,-0.7268118272717108,-0.596722081088835,0.24560505112325315,0.37569479730612904,-0.6013386816723608,-0.3457757898901346,-1.4750341002842866,-0.2876558176739851,-0.31902410407382276,-0.09944609927495986,-0.6640752544720359,0.12474850610742888,0.28158993810661653,-0.6594586538885099,-1.228704409669112,-0.31902410407382276,-0.789548400071386,-0.22491924487431,0.026027046324390266,-0.28303921709045937,0.09338021970759133,-0.28303921709045937,-0.09944609927495986,-0.7849317994878603,-1.5423872736674875,-1.448282414467975,0.43843137010580424,-0.4712489354894846,-0.37714407628997204,-0.9777581184704113,-0.1261977850912716,-0.444497249673173,-0.31902410407382276,-0.25628753127414766,-0.6013386816723608,0.18748507890710397,-0.41312896327333537,-0.9150215456707361,-1.0404946912700863,0.43843137010580424,-1.1345995504695991,-0.6327069680721983,-0.6954435408718733,-0.38176067687349785,-0.5386021088726856,-0.7849317994878603,-1.8874384240657003,0.4070630837059668,-1.1659678368694368,-0.444497249673173,-0.9731415178868857,-0.789548400071386,0.18748507890710397,-1.0404946912700863,-0.3457757898901346,0.595272802104992,-0.03670952647528476,-0.7268118272717108,-1.573755560067325,-0.7849317994878603,-0.9463898320705738,-1.1973361232692745,0.08876361912406533,-0.5386021088726856,0.37569479730612904,-1.354177555268462,-0.5339855082891598,-0.13081438567479736,-0.722195226688185,-0.6013386816723608,-0.6908269402883475,-1.1973361232692745,0.312958224506454,-0.28303921709045937,-0.4758655360730106,-0.4712489354894846,-0.16218267207463494,0.18286847832357805,-0.6908269402883475,-0.7268118272717108,-0.879036658687373,0.7161293471208166,0.030643646907916176,-0.8163000858876978,-1.1973361232692745,-0.4085123626898096,0.2188533653069414,-0.9150215456707361,-0.6013386816723608,-0.6013386816723608,-0.0680778128751223,-0.0680778128751223,-1.1973361232692745,-0.1261977850912716,-1.1345995504695991,-0.7849317994878603,-0.6013386816723608,-1.3809292410847738,-0.6280903674886725,-0.2876558176739851,1.4781854351730015,-0.25167093069062185,1.3840805759734889,-0.8209166864712235,-0.9463898320705738,-0.0053412400754472835,-0.31902410407382276,-0.789548400071386,-0.9731415178868857,-0.7268118272717108,-0.7581801136715484,-0.6280903674886725,-0.6640752544720359,-0.789548400071386,-1.6318755322834744,-1.9188067104655375,-0.41312896327333537,-0.28303921709045937,-0.444497249673173,-0.41312896327333537,-0.4398806490896472,-0.9731415178868857,-0.4085123626898096,0.5011679429054792,-0.41312896327333537,-1.228704409669112,-0.8836532592708986,-0.8209166864712235,-0.7268118272717108,-0.35039239047366033,-0.6327069680721983,-0.9777581184704113,-0.8209166864712235,-0.9104049450872107,-0.7268118272717108,-0.6327069680721983,-0.37714407628997204,-0.6327069680721983,-1.228704409669112,-0.8836532592708986,0.46979965650564165,-1.4796507008678128,0.46979965650564165,-0.5699703952725231,-1.0358780906865608,-0.9150215456707361,-0.596722081088835,-0.38176067687349785,-0.789548400071386,-1.228704409669112,-0.5339855082891598,-0.13081438567479736,-1.1345995504695991,-0.9463898320705738,-1.1345995504695991,-0.444497249673173,-0.7268118272717108,0.24560505112325315,-0.4712489354894846,-1.2600726960689494,-0.5699703952725231,0.7207459477043424,-0.7849317994878603,-0.9150215456707361,-0.8476683722875356,-1.1973361232692745,0.43843137010580424,-0.789548400071386,-0.8522849728710613,-0.722195226688185,-0.7268118272717108,-0.31902410407382276,-0.7268118272717108,-1.4436658138844491,1.0030445385919124,-0.22491924487431,-0.19355095847447248,-0.9463898320705738,-0.4085123626898096,-0.0053412400754472835,3.979167175023435,-0.9463898320705738,-0.5386021088726856,4.5170446444042005,-1.228704409669112,-0.5339855082891598,-1.3855458416682997,0.09338021970759133,-1.2600726960689494,-1.1032312640697615,-1.0404946912700863,-0.22030264429078422,0.49655134232195347,-0.13081438567479736,-0.9150215456707361,-0.4712489354894846,-0.8476683722875356,-1.600507245883637,-0.4085123626898096,0.08876361912406533,0.026027046324390266,-0.4712489354894846,-0.13081438567479736,-0.4712489354894846,-0.8522849728710613,-1.1659678368694368,-1.2914409824687871,-1.0404946912700863,-0.6280903674886725,-0.4712489354894846,-0.8163000858876978,-0.25167093069062185,1.7291317263717023,0.25022165170677907,-0.9777581184704113,-0.6013386816723608,-1.0404946912700863,-0.7581801136715484,0.18286847832357805,-1.0404946912700863,0.7520982473932121,-0.6280903674886725,-1.0091264048702486,-1.5064023866841243,-0.6594586538885099,-0.5339855082891598,-0.6640752544720359,-1.2600726960689494,0.12474850610742888,-1.2600726960689494,-1.0718629776699242,-0.5026172218893222,-1.0404946912700863,-1.0718629776699242,-1.573755560067325,-0.4398806490896472,-0.879036658687373,-0.6327069680721983,-0.22491924487431,-0.35039239047366033,-0.6280903674886725,-0.6280903674886725,-0.596722081088835,-0.4085123626898096,-0.789548400071386,-1.0718629776699242,-0.5339855082891598,-0.789548400071386,-1.354177555268462,-1.2600726960689494,-0.9150215456707361,-1.1345995504695991,-1.1032312640697615,-0.9463898320705738,-0.596722081088835,-0.7581801136715484,-0.25167093069062185,-0.8209166864712235,-0.032092925891758974,-1.1299829498860734,4.324218325421649,-0.4712489354894846,-0.31440750349029695,-0.5699703952725231,-0.789548400071386,-1.0091264048702486,-0.8836532592708986,-0.5653537946889974,-1.228704409669112,-1.1032312640697615,-0.9150215456707361,-1.0091264048702486,1.5990419801888258,-0.941773231487048,-0.3457757898901346,-0.0007246394919213651,0.12474850610742888,-0.28303921709045937,-0.4758655360730106,-0.1261977850912716,-0.6594586538885099,0.2142367647234157,-0.6327069680721983,-1.0718629776699242,-0.6013386816723608,0.43381476952227854,-0.9150215456707361,-0.5653537946889974,-0.25628753127414766,-0.4712489354894846,4.857479194218888,0.5325202425943493,4.297466639605338,0.062011933307753786,-0.22030264429078422,-0.6280903674886725,-1.0358780906865608,-0.7535635130880227,-1.354177555268462,-1.004509804286723,-0.9150215456707361,-0.6908269402883475,-0.09482949869143406,-1.1659678368694368,-0.16218267207463494,-0.16218267207463494,-0.5699703952725231,-1.5064023866841243,-0.5026172218893222,-1.3855458416682997,-0.8163000858876978,-0.1261977850912716,-0.6013386816723608,3.7328374844082615,-0.9463898320705738,-0.6327069680721983,0.09338021970759133,-1.1973361232692745,-0.6954435408718733,-0.9777581184704113,0.37569479730612904,-1.6318755322834744,-0.5653537946889974,-0.22030264429078422,-0.9777581184704113,1.4154488623733263,2.0068297033867144,-0.18893435789094673,-1.0091264048702486,0.1561008057962984,-0.596722081088835,-0.8522849728710613,-0.9777581184704113,0.7834665337930496,0.8821879935760881,1.0657811113915874,0.9135562799759256,0.9135562799759256,4.198745179822298,1.5409220079726766,4.543796330220512,1.097149397791425,1.2899757167739763,1.1958708575744632,4.611149503603714,1.227239143974301,4.799359222002738,3.979167175023435,0.2769733375230907,0.7253465615769004,1.8499882713875258,1.2899757167739763,1.8499882713875258,1.1331342847747885,0.8508197071762503,2.9080448235564016,1.2586074303741386,4.4229397852046874,3.6968525974248982,1.3213440031738137,0.877571392992562,1.7245151257881761,1.818619984987689,1.3794639753899631,-0.35039239047366033,1.446817148773164,0.6626099887772252,2.13691944956959,3.5400111654257107,3.9164306022237607,4.418323184621162,4.1360086070226245,-0.0007246394919213651,0.2548222655793368,1.2539908297906126,1.0390294255752759,-0.8522849728710613,4.642517790003551,1.635026867172189,1.4422005481896378,-1.1299829498860734,-0.5026172218893222,-0.6280903674886725,-1.6992287056666753,-0.6594586538885099,-0.6594586538885099,-0.789548400071386,-1.8560701376658624,-1.1973361232692745,-0.879036658687373,-1.51101898726765,-0.28303921709045937,-0.25167093069062185,0.34432651090629157,-1.1659678368694368,0.5639045157051547,-1.1973361232692745,-0.1261977850912716,-1.3228092688686246,-0.25167093069062185,-0.25167093069062185,-0.7581801136715484,0.46979965650564165,-0.722195226688185,-0.15756607149110913,-1.4169141280681372,-0.09482949869143406,-1.8560701376658624,-0.1261977850912716,0.658009374904667,-0.507233822472848,-0.3457757898901346,-0.09944609927495986,-0.06346121229159653,-0.6594586538885099,-1.2600726960689494,0.2142367647234157,-1.7305969920665127,-0.31902410407382276,-0.444497249673173,-1.1659678368694368,0.28158993810661653,0.18286847832357805,-1.5423872736674875,-0.3457757898901346,-0.28303921709045937,-1.318192668285099,-0.7268118272717108,-1.0091264048702486,-0.8836532592708986,-0.9731415178868857,-1.600507245883637,0.030643646907916176,-0.15756607149110913,0.18286847832357805,-0.37714407628997204,-0.38176067687349785,-0.06346121229159653,-0.15756607149110913,1.1598859705911004,-0.6908269402883475,-0.6908269402883475,0.595272802104992,-1.1659678368694368,1.2899757167739763,1.1331342847747885,-1.5064023866841243,1.3794639753899631,0.5638885289941867,-1.067246377086398,-0.25167093069062185,-0.15756607149110913,-0.6640752544720359,0.12474850610742888,-0.41312896327333537,-0.38176067687349785,-0.22030264429078422,-0.3457757898901346,-0.09482949869143406,-1.2600726960689494,0.24560505112325315,-0.0053412400754472835,-0.7581801136715484,0.312958224506454,1.2853591161904505,-0.3457757898901346,-0.5339855082891598,-0.722195226688185,-0.22491924487431,-0.22030264429078422,-0.8522849728710613,-0.25167093069062185,-0.6280903674886725,-0.25628753127414766,-0.25628753127414766,-0.6327069680721983,-0.13081438567479736,-0.7849317994878603,-0.507233822472848,-0.3457757898901346,-0.8209166864712235,-0.8836532592708986,-0.1261977850912716,0.9089396793923998,-1.3228092688686246,-0.8522849728710613,-0.8522849728710613,0.062011933307753786,-0.4758655360730106,0.18748507890710397,-0.4712489354894846,-0.18893435789094673,-0.8209166864712235,-0.9777581184704113,0.3397099103227658,-1.1345995504695991,-1.1973361232692745,-1.1345995504695991,-0.5386021088726856,-0.507233822472848,-0.3457757898901346,-1.0718629776699242,0.030643646907916176,-0.6280903674886725,-0.8163000858876978,0.3710781967226033,-1.1613512362859109,-0.6954435408718733,-0.6908269402883475,-0.8163000858876978,-0.6280903674886725,0.9403239525032052,-0.789548400071386,-0.2876558176739851,0.18748507890710397,-1.354177555268462,-1.1927195226857483,0.030643646907916176,-1.1973361232692745,-1.2914409824687871,-1.3855458416682997,-0.16218267207463494,-0.4398806490896472,-0.444497249673173,-0.6954435408718733,0.658009374904667,-0.6954435408718733,-0.789548400071386,-1.3228092688686246,0.030643646907916176,-1.600507245883637,-1.2868243818852614,-0.6908269402883475,-0.25167093069062185,-0.6327069680721983,-0.7581801136715484,-0.4758655360730106,-0.22030264429078422,-1.1659678368694368,0.34432651090629157,-0.6013386816723608,0.3710781967226033,-0.06346121229159653,-1.1032312640697615,-0.8836532592708986,-0.18893435789094673,-0.4712489354894846,-0.6594586538885099,0.7474976335206545,-1.067246377086398,-1.0091264048702486,-0.37714407628997204,-0.31440750349029695,-0.789548400071386,-1.1973361232692745,-1.636492132867,-0.16218267207463494,0.7834825205040176,1.4735688345894755,0.34432651090629157,0.8508197071762503,-1.0404946912700863,1.3794639753899631,0.8462031065927248,2.163671135385902,-1.1973361232692745,-1.3228092688686246,-1.1032312640697615,0.28158993810661653,5.139793771817426,-0.03210891260272698,-0.4398806490896472,-0.444497249673173,-0.31902410407382276,1.7245151257881761,1.2539908297906126,-1.51101898726765,0.09798083358014911,0.030643646907916176,-1.0986146634862357,0.6266251017938617,-1.1345995504695991,-1.1973361232692745,1.2586074303741386,-1.0404946912700863,-0.1261977850912716,0.12013190552390296,-0.09482949869143406,1.5049371209893132,1.5676736937889884,0.6939782751770628,0.8194514207764126,0.9716762521920748,4.077888634806474,1.3213440031738137,4.203361780405825,4.794742621419213,0.6626099887772252,-0.2876558176739851,4.266098353205501,-0.4085123626898096,2.1996560223692647,1.7605000127715391,1.5409220079726766,1.6036585807723518,-0.0007246394919213651,4.14062520760615,1.2539908297906126,0.9135562799759256,1.1958708575744632,0.6312417023773876,1.7605000127715391,1.0076611391754384,1.5409220079726766,2.01144630397024,1.4781854351730015,0.6893616745935371,1.1645025711746262,4.637901189420024,1.5990419801888258,0.6312417023773876,-0.35039239047366033,1.823236585571214,2.4192340271681285,3.0381345697392774,2.0068297033867144,2.293760881568778,-0.4398806490896472,-0.8209166864712235,5.332620090799977,-0.09482949869143406,0.25022165170677907,-0.5699703952725231,-0.5026172218893222,-1.0358780906865608,-1.3228092688686246,-0.0680778128751223,-0.5653537946889974,-1.1032312640697615,0.814850806903855,-0.9150215456707361,-0.9104049450872107,-0.19355095847447248,-0.9463898320705738,-0.032092925891758974,0.28158993810661653,-0.06346121229159653,0.057395332724227865,-1.573755560067325,0.030643646907916176,0.18286847832357805,-0.22491924487431,-0.7849317994878603,-0.6280903674886725,-0.37714407628997204,-0.9777581184704113,-1.1345995504695991,-0.31440750349029695,-0.22030264429078422,-0.5339855082891598,0.532536229305317,-0.19355095847447248,-1.1973361232692745,-0.6640752544720359,-0.7849317994878603,-0.09482949869143406,-1.067246377086398,0.09338021970759133,-0.22030264429078422,-0.19355095847447248,-0.4758655360730106,0.465183055922116,-0.3457757898901346,-0.9104049450872107,-0.1261977850912716,-0.37714407628997204,-0.31440750349029695,-0.22030264429078422,-0.507233822472848,-0.6908269402883475,-0.6327069680721983,-0.9150215456707361,-0.8836532592708986,-0.31902410407382276,-1.1345995504695991,-1.636492132867,-0.879036658687373,-0.9104049450872107,-0.25167093069062185,-0.15756607149110913,-0.1261977850912716,-1.0091264048702486,-1.228704409669112,-0.9150215456707361,0.15611679250726634,-0.38176067687349785,-0.19355095847447248,-0.722195226688185,-0.7535635130880227,-0.31440750349029695,-0.941773231487048,-0.4398806490896472,-1.1973361232692745,-0.8209166864712235,0.5639045157051547,0.532536229305317,-1.1659678368694368,-0.941773231487048,-0.9463898320705738,-1.7619652784663502,0.24560505112325315,0.34432651090629157,-0.22491924487431,-0.38176067687349785,0.15611679250726634,-0.35039239047366033,-0.4758655360730106,-0.9150215456707361,-0.879036658687373,-0.7268118272717108,-0.0007246394919213651,0.595272802104992,-0.596722081088835,-0.6327069680721983,0.09338021970759133,-0.6954435408718733,-0.25628753127414766,-1.5691389594837994,-0.4398806490896472,0.3756788105951614,-0.7581801136715484,-0.22491924487431,-0.4398806490896472,-0.722195226688185,0.18748507890710397,-1.573755560067325,-0.7268118272717108,0.30834162392292824,-0.1261977850912716,-1.6992287056666753,0.12474850610742888,-0.4398806490896472,0.28158993810661653,0.15611679250726634,0.12474850610742888,-0.5653537946889974,-0.31440750349029695,-0.31440750349029695,-0.8476683722875356,-0.41312896327333537,0.49655134232195347,-0.6594586538885099,-0.6013386816723608,-0.8476683722875356,-0.789548400071386,-0.2876558176739851,-0.6594586538885099,-1.600507245883637,-0.9150215456707361,-0.4712489354894846,-0.18893435789094673,0.28158993810661653,-0.6327069680721983,-0.6327069680721983,0.28158993810661653,0.3710781967226033,-0.8836532592708986,0.2188533653069414,-0.15756607149110913,-0.444497249673173,-0.22491924487431,-1.0404946912700863,-0.0680778128751223,-1.0404946912700863,0.37569479730612904,2.074182876769915,1.823236585571214,1.5095537215728392,-0.2876558176739851,1.4154488623733263,-0.7581801136715484,1.7291317263717023,-1.5423872736674875,-1.2600726960689494,-1.1032312640697615,1.3794639753899631,-1.1659678368694368,0.87758737970353,0.4070630837059668,-0.4398806490896472,-1.1659678368694368,-0.31902410407382276,-0.6327069680721983,0.6893776613045047,-0.25628753127414766,-0.38176067687349785,-0.6594586538885099,-0.35039239047366033,-0.9150215456707361,3.607364338808911,-1.0718629776699242,-0.8163000858876978,-0.879036658687373,-0.941773231487048,1.8859731583708896,-0.6954435408718733,-0.8836532592708986,-0.37714407628997204,-0.31902410407382276,-1.004509804286723,1.101765998374951,0.5906562015214665,-1.2914409824687871,-1.2600726960689494,-0.38176067687349785,-0.09944609927495986,-1.0091264048702486,-1.2600726960689494,-0.4085123626898096,-0.2876558176739851,0.026027046324390266,-1.2600726960689494,-0.3457757898901346,-0.5653537946889974,-0.5026172218893222,-0.9777581184704113,-0.37714407628997204,-1.4796507008678128,0.658009374904667,-0.22491924487431,-0.0053412400754472835,-1.228704409669112,-1.1345995504695991,-0.03670952647528476,2.257775994585414,-1.6051238464671624,-0.9104049450872107,-0.3457757898901346,1.0657811113915874,-0.6640752544720359,-1.3809292410847738,0.37569479730612904,-0.15756607149110913,-1.004509804286723,-1.0358780906865608,-1.3228092688686246,-1.0986146634862357,-0.507233822472848,-0.444497249673173,-0.41312896327333537,1.2539908297906126,-1.067246377086398,-0.5339855082891598,-0.6908269402883475,-0.7581801136715484,-0.9463898320705738,-0.38176067687349785,-0.3457757898901346,-0.35039239047366033,-0.38176067687349785,-0.2876558176739851,0.026027046324390266,-0.0007246394919213651,4.14062520760615,4.7366226492030625,0.062011933307753786,1.0657811113915874,0.062011933307753786,-1.2600726960689494,1.2539908297906126,-0.21570203041822622,0.40704709699499886,1.9487097311705646,-0.4758655360730106,-0.28303921709045937,0.12474850610742888,2.257775994585414,3.0113668972119982,0.6893616745935371,-1.7305969920665127,-0.6640752544720359,-0.6954435408718733,0.532536229305317,0.2188533653069414,-0.879036658687373,-1.1032312640697615,-0.5026172218893222,-0.09482949869143406,-0.9150215456707361,-0.9731415178868857,-0.6327069680721983,-0.22030264429078422,-0.4712489354894846,-0.8476683722875356,-1.1973361232692745,-0.5653537946889974,-0.8836532592708986,-0.13081438567479736,-0.9463898320705738,-0.5653537946889974,-0.09482949869143406,-1.1659678368694368,-1.0718629776699242,-1.5691389594837994,-0.8836532592708986,-0.789548400071386,-0.4398806490896472,-1.1613512362859109,-1.1299829498860734,-0.6013386816723608,0.9135562799759256,-0.7581801136715484,-1.0091264048702486,-0.9731415178868857,-0.38176067687349785,-0.4398806490896472,-0.4085123626898096,-0.25167093069062185,-0.7849317994878603,-0.9104049450872107,-0.1261977850912716,-0.507233822472848,-1.067246377086398,-0.06346121229159653,0.46979965650564165,-0.8476683722875356,-0.37714407628997204,-0.9463898320705738,4.167376893422461,-1.1973361232692745,1.8813565577873639,-0.6954435408718733,-0.8209166864712235,-0.6640752544720359,-0.7535635130880227,-0.22030264429078422,1.9173414447707273,-0.6640752544720359,-0.3457757898901346,-0.6908269402883475,0.9135562799759256,1.5095537215728392,-0.7849317994878603,0.34432651090629157,0.09338021970759133,-0.7849317994878603,1.2226225433907751,-0.722195226688185,-1.6051238464671624,-1.1973361232692745,0.12474850610742888,-0.8522849728710613,-0.596722081088835,-1.1345995504695991,-0.0007246394919213651,-0.032092925891758974,4.1360086070226245,2.3878657407682904,1.2539908297906126,0.4384153833948364,-0.38176067687349785,4.203361780405825,4.862095794802413,4.987568940401765,3.889678916407449,4.418323184621162,3.983783775606962,4.203361780405825,1.1331342847747885,1.1331342847747885,2.6074437455671533,1.4154488623733263,1.5676736937889884,0.21883737859597352,5.238515231600464,2.105551163169752,0.25020566499581104,1.5676736937889884,0.8194514207764126,-0.31902410407382276,4.548412930804038,4.481059757420837,1.1598859705911004,1.3794639753899631,4.888847480618725,4.9248323676020895,-0.4398806490896472,4.449691471020999,-0.5699703952725231,-0.38176067687349785,-1.0358780906865608,-0.8209166864712235,-0.35039239047366033,-0.06346121229159653,-0.13081438567479736,-0.5026172218893222,-0.13081438567479736,-0.22491924487431,-0.8209166864712235,0.18286847832357805,-0.6327069680721983,-0.35039239047366033,-0.941773231487048,-0.25167093069062185,-0.5026172218893222,0.595272802104992,-0.6640752544720359,-1.0091264048702486,-0.5026172218893222,-0.9150215456707361,-0.8476683722875356,-0.9777581184704113,-0.7581801136715484,-0.9150215456707361,-0.5653537946889974,-0.3457757898901346,-0.19355095847447248,0.30834162392292824,-0.5653537946889974,0.24560505112325315,-0.8836532592708986,-0.3457757898901346,-0.8209166864712235,-0.06346121229159653,-0.9463898320705738,-1.1345995504695991,-0.6908269402883475,-0.0007246394919213651,0.7207299609933746,-0.7581801136715484,-1.1927195226857483,-1.2868243818852614,-1.3855458416682997,-0.16218267207463494,-0.596722081088835,-1.0986146634862357,-0.5026172218893222,0.15611679250726634,0.08876361912406533,-0.5386021088726856,0.4070630837059668,-0.722195226688185,-0.8836532592708986,0.2188533653069414,-1.0718629776699242,0.25022165170677907,-0.032092925891758974,-0.941773231487048,-1.004509804286723,-1.0091264048702486,-0.5386021088726856,-1.1973361232692745,0.465183055922116,-1.636492132867,-0.16218267207463494,-0.8522849728710613,0.08876361912406533,-0.22491924487431,-0.789548400071386,-1.228704409669112,-1.1973361232692745,-0.9731415178868857,-1.004509804286723,-0.941773231487048,-1.1973361232692745,-0.9777581184704113,-1.1659678368694368,-1.0986146634862357,-0.0053412400754472835,-0.596722081088835,-0.7581801136715484,-0.8522849728710613,0.4744002703781997,-1.0091264048702486,1.0030445385919124,-1.1345995504695991,-0.7581801136715484,-0.25628753127414766,-0.31902410407382276,0.37569479730612904,-0.0680778128751223,-0.6594586538885099,-0.6908269402883475,-0.941773231487048,-0.35039239047366033,-0.722195226688185,-0.6280903674886725,0.1561008057962984,1.6036585807723518,-0.9463898320705738,-0.8209166864712235,-0.032092925891758974,-0.4398806490896472,-0.31440750349029695,-1.3855458416682997,1.1599019573020681,-0.5339855082891598,-1.600507245883637,-0.7849317994878603,-0.8476683722875356,0.030643646907916176,-0.22030264429078422,-0.19355095847447248,-1.0718629776699242,-1.0091264048702486,-1.0091264048702486,5.301251804400139,4.888847480618725,0.1515001919237406,-0.6280903674886725,-0.9463898320705738,1.6931468393883387,-0.596722081088835,-0.4712489354894846,3.03811858302831,4.292850039021812,0.5011519561945117,-0.879036658687373,-0.9463898320705738,-0.25167093069062185,-0.7535635130880227,-0.9463898320705738,-0.596722081088835,2.168287735969427,-0.0053412400754472835,-0.5699703952725231,-0.6327069680721983,-0.444497249673173,1.3840805759734889,-0.5653537946889974,-0.6908269402883475,-0.5026172218893222,-0.4085123626898096,-0.28303921709045937,-0.6954435408718733,-0.8476683722875356,-1.0718629776699242,-0.7849317994878603,-0.5339855082891598,-0.5339855082891598,-0.789548400071386,1.2853591161904505,-1.1032312640697615,2.1009345625862266,-0.6280903674886725,-0.7849317994878603,0.8821879935760881,-0.09944609927495986,-0.4758655360730106,0.12013190552390296,-1.1345995504695991,0.402446483122441,-0.4712489354894846,-0.15756607149110913,-0.3457757898901346,-0.4085123626898096,-1.0718629776699242,-1.2914409824687871,0.658009374904667,-0.7581801136715484,0.062011933307753786,-0.5699703952725231,-1.0091264048702486,-1.228704409669112,-1.0091264048702486,-0.9463898320705738,-0.6908269402883475,-0.0680778128751223,-0.4085123626898096,-0.6954435408718733,-0.06346121229159653,-0.789548400071386,-0.0053412400754472835,-0.09944609927495986,-0.8163000858876978,-0.4398806490896472,-0.15756607149110913,1.3167274025902878,-0.032092925891758974,1.4422005481896378,0.16071740637982423,-0.6327069680721983,-0.9731415178868857,-0.31902410407382276,-1.4796507008678128,-1.0986146634862357,-0.9731415178868857,1.6036585807723518,-0.6327069680721983,-0.879036658687373,-0.35039239047366033,-0.9463898320705738,-1.2868243818852614,-0.8836532592708986,-0.09022888481887616,-0.9150215456707361,-1.228704409669112,2.042814590370077,-0.7268118272717108,-0.5699703952725231,-0.6327069680721983,-0.0680778128751223,-0.8476683722875356,1.635026867172189,-0.444497249673173,-0.5653537946889974,1.4781854351730015,-1.0404946912700863,-0.2876558176739851,-0.06346121229159653,0.09338021970759133,5.018937226801602,4.637901189420024,1.352712289573651,4.669269475819863,2.325129167968616,1.2226225433907751,-0.058860598419038804,3.638732625208749,2.1996560223692647,1.0703977119751134,2.074182876769915,1.6617785529885012,1.2586074303741386,1.352712289573651,0.5685051295777124,5.238515231600464,0.8821879935760881,1.635026867172189,1.7291317263717023,-1.3809292410847738,5.05030551320144,1.4422005481896378,1.128517684191263,2.2623925951689405,-1.228704409669112,-1.2914409824687871,-0.6327069680721983,0.25022165170677907,-0.35039239047366033,-0.7268118272717108,-0.2876558176739851,-0.25167093069062185,-0.6280903674886725,-0.6908269402883475,-0.22030264429078422,-0.941773231487048,0.030643646907916176,-0.38176067687349785,-1.1973361232692745,-1.067246377086398,-0.444497249673173,-1.2600726960689494,-0.444497249673173,-1.0358780906865608,-0.09482949869143406,-0.25167093069062185,0.43843137010580424,-0.8522849728710613,-1.2868243818852614,-0.8476683722875356,-0.3457757898901346,-0.722195226688185,-1.228704409669112,-0.879036658687373,-1.0404946912700863,-0.35039239047366033,-0.8476683722875356,-0.789548400071386,-0.7581801136715484,-0.789548400071386,-1.0358780906865608,-0.7268118272717108,-0.38176067687349785,1.2586074303741386,-1.2600726960689494,-0.31440750349029695,-0.31440750349029695,-0.8209166864712235,-0.6954435408718733,-1.6632438186833114,-0.8836532592708986,-1.228704409669112,0.12013190552390296,-0.22030264429078422,-1.0718629776699242,-0.444497249673173,-0.444497249673173,-0.6640752544720359,-0.507233822472848,-0.7268118272717108,-0.38176067687349785,-1.1032312640697615,1.5676736937889884,-0.38176067687349785,0.28158993810661653,-0.18893435789094673,-0.444497249673173,-0.941773231487048,-0.28303921709045937,-1.228704409669112,-1.228704409669112,-1.0091264048702486,0.2142367647234157,-0.7849317994878603,-1.9188067104655375,1.6036585807723518,1.630410266588663,0.6626099887772252,1.352712289573651,-0.31440750349029695,1.0076611391754384,-0.941773231487048,-0.4398806490896472,-1.2600726960689494,-0.6640752544720359,-0.9777581184704113,-0.09482949869143406,-1.2914409824687871,0.12474850610742888,-1.4122975274846115,-1.1659678368694368,-1.2600726960689494,-1.7305969920665127,-0.2876558176739851,-0.6280903674886725,0.12474850610742888,-0.06346121229159653,-0.6640752544720359,0.25022165170677907,-0.032092925891758974,0.2142367647234157,-0.6594586538885099,-1.51101898726765,-0.7268118272717108,-0.9731415178868857,-1.0091264048702486,3.9524154892071244,-0.37714407628997204,-0.15756607149110913,-0.18893435789094673,-0.9777581184704113,-0.722195226688185,-0.8476683722875356,-0.9777581184704113,-0.5339855082891598,-0.8836532592708986,-0.8163000858876978,0.5011679429054792,-0.7581801136715484,-0.9777581184704113,-0.7535635130880227,-1.0404946912700863,-0.5026172218893222,-0.8476683722875356,-0.4712489354894846,-0.4712489354894846,1.6977634399718642,-0.8476683722875356,-1.2600726960689494,0.8148348201928873,-0.6594586538885099,-0.7849317994878603,-0.0053412400754472835,-0.7581801136715484,-0.9777581184704113,-0.31440750349029695,-0.4712489354894846,-0.789548400071386,-0.7268118272717108,-0.6280903674886725,-0.7535635130880227,-1.0091264048702486,-0.5339855082891598,-1.8560701376658624,2.231024308769103,0.9449245663757634,1.6036585807723518,-1.448282414467975,-0.789548400071386,-0.941773231487048,-1.0718629776699242,-0.8163000858876978,-0.5653537946889974,0.030643646907916176,-0.9777581184704113,-1.8560701376658624,-1.228704409669112,-0.0680778128751223,-1.6318755322834744,-0.3457757898901346,-1.3809292410847738,-0.9150215456707361,-0.6280903674886725,1.1958708575744632,1.4781854351730015,1.3480956889901257,4.386954898221324,1.8546048719710517,2.356497454368453,-1.6992287056666753,-0.9777581184704113,-0.8476683722875356,-0.9777581184704113,-0.4398806490896472,-0.1261977850912716,-0.7849317994878603,0.4070630837059668,1.635026867172189,0.026027046324390266,-0.7581801136715484,-0.789548400071386,-1.3228092688686246,-0.09944609927495986,0.026027046324390266,1.791868299171377,0.46979965650564165,-1.2600726960689494,1.6036585807723518,-0.9150215456707361,1.8546048719710517,-0.7535635130880227,-0.5386021088726856,-0.4712489354894846,-0.8836532592708986,0.8821879935760881,-0.941773231487048,-0.596722081088835,1.9754614169868763,1.666395153572027,1.5095537215728392,1.8499882713875258,1.5049371209893132,1.101765998374951,3.8223257430242494,1.818619984987689,-0.4085123626898096,4.642517790003551,4.857479194218888,-1.8560701376658624,3.508658865736841,3.889678916407449,1.9487097311705646,1.2539908297906126,4.167376893422461,3.9164306022237607,1.0076611391754384,4.956200654001927,-0.879036658687373,3.889678916407449,-1.1345995504695991,-0.6594586538885099,-0.789548400071386,-0.22030264429078422,-1.2600726960689494,-0.28303921709045937,-0.09944609927495986,-0.4758655360730106,0.465183055922116,-0.09944609927495986,-0.8522849728710613,-0.596722081088835,-1.1345995504695991,-0.0007246394919213651,-0.722195226688185,-0.9731415178868857,-0.879036658687373,-0.3457757898901346,-0.8163000858876978,0.09338021970759133,-0.5653537946889974,-1.1032312640697615,-0.9463898320705738,-1.067246377086398,-0.41312896327333537,-0.8163000858876978,0.09338021970759133,0.026027046324390266,-0.8836532592708986,-0.22030264429078422,0.7207299609933746,1.2226225433907751,1.1958708575744632,2.293760881568778,1.7872516985878513,1.1645025711746262,1.3480956889901257,-0.8209166864712235,4.794742621419213,1.4422005481896378,1.3840805759734889,0.9089396793923998,-1.0358780906865608,0.7834665337930496,0.9089396793923998,1.666395153572027,0.18748507890710397,4.705254362803226,1.352712289573651,1.9173414447707273,0.8462031065927248,1.8813565577873639,1.630410266588663,1.7291317263717023,3.3785691195539647,1.5095537215728392,1.3840805759734889,1.4422005481896378,1.3213440031738137,0.8508197071762503,2.293760881568778,-1.8874384240657003,-1.0986146634862357,-0.8163000858876978,-0.6594586538885099,-0.22491924487431,-0.0007246394919213651,4.1360086070226245,3.979167175023435,2.105551163169752,1.6977634399718642,4.015152062006799,-0.8209166864712235,1.7605000127715391,1.7245151257881761,-0.7581801136715484,-1.6632438186833114,-1.0091264048702486,0.09338021970759133,-0.032092925891758974,-1.3228092688686246,-0.8476683722875356,-0.18893435789094673,-1.0718629776699242,-0.5026172218893222,-0.9150215456707361,-0.5026172218893222,1.4154488623733263,-1.1032312640697615,-0.8476683722875356,-0.722195226688185,-0.444497249673173,-0.8836532592708986,-0.31902410407382276,-1.1345995504695991,-1.1973361232692745,-0.6594586538885099,0.312958224506454,1.3480956889901257,1.5990419801888258,-0.25628753127414766,-0.6640752544720359,-0.6013386816723608,1.6036585807723518,0.15611679250726634,-0.8836532592708986,0.7520982473932121,-0.25167093069062185,-0.25628753127414766,-0.31902410407382276,-0.9777581184704113,-0.7268118272717108,-0.596722081088835,-0.1261977850912716,-1.0091264048702486,1.9127248441872013,2.168287735969427,-0.25167093069062185,1.572290294372514,1.3167274025902878,1.2586074303741386,3.419154620409886,0.5952568153940241,2.320512567385089,1.2899757167739763,4.3915714988048515,4.015152062006799,-0.03210891260272698,4.893464081202252,3.8583106300076113,-0.06346121229159653,4.4229397852046874,2.1996560223692647,-0.6013386816723608,-0.3457757898901346,-0.7581801136715484,-1.354177555268462,-0.09944609927495986,-1.1973361232692745,-1.1345995504695991,-0.9104049450872107,-0.9104049450872107,-0.22491924487431,0.026027046324390266,-1.0718629776699242,-1.2914409824687871,-0.41312896327333537,-0.5386021088726856,-1.1299829498860734,-0.8163000858876978,-0.879036658687373,-0.1261977850912716,-1.4796507008678128,-0.5339855082891598,-1.0358780906865608,-0.8836532592708986,-1.004509804286723,-1.5064023866841243,-0.25167093069062185,0.1515001919237406,-1.1973361232692745,-1.2868243818852614,-1.5691389594837994,-1.0404946912700863,-0.5339855082891598,0.15611679250726634,-0.8836532592708986,-1.1299829498860734,0.6893776613045047,-1.3228092688686246,-0.6908269402883475,-0.16218267207463494,-0.6954435408718733,-0.6594586538885099,-0.6280903674886725,-0.09944609927495986,-0.25167093069062185,0.12474850610742888,-1.0091264048702486,-0.5386021088726856,0.43843137010580424,-0.6013386816723608,-0.5699703952725231,-1.0091264048702486,-1.1032312640697615,-0.7849317994878603,-0.032092925891758974,0.2188533653069414,-0.9150215456707361,0.1561008057962984,-0.9463898320705738,-1.448282414467975,-0.5339855082891598,-0.6327069680721983,-0.13081438567479736,0.4070630837059668,-0.507233822472848,-0.7581801136715484,-0.8836532592708986,-0.9777581184704113,-0.9104049450872107,-1.1973361232692745,0.2142367647234157,-1.354177555268462,0.28158993810661653,-0.4758655360730106,-1.6678604192668376,-1.2868243818852614,-0.0007246394919213651,-0.38176067687349785,0.28158993810661653,-0.25167093069062185,0.595272802104992,0.28158993810661653,0.312958224506454,-0.6327069680721983,-0.8522849728710613,0.18748507890710397,0.684761060720979,0.18748507890710397,-0.8522849728710613,0.49655134232195347,0.026027046324390266,-1.4750341002842866,-0.8522849728710613,0.24560505112325315,-1.0091264048702486,-0.5386021088726856,-0.38176067687349785,-0.22491924487431,-1.1973361232692745,-0.15756607149110913,0.08876361912406533,-0.941773231487048,-0.16218267207463494,-1.0718629776699242,-1.1345995504695991,-0.4712489354894846,-1.354177555268462,-1.0091264048702486,-0.35039239047366033,-0.31440750349029695,-0.5699703952725231,-0.38176067687349785,-1.0091264048702486,-0.35039239047366033,-1.0358780906865608,-0.032092925891758974,-0.22030264429078422,0.25022165170677907,-0.7581801136715484,-0.5386021088726856,-0.5339855082891598,-0.13081438567479736,-0.31902410407382276,-0.2876558176739851,-0.6280903674886725,-1.5691389594837994,0.2142367647234157,-1.3228092688686246,-1.0718629776699242,-0.8476683722875356,0.5011679429054792,-0.879036658687373,-0.5699703952725231,0.2142367647234157,-1.0404946912700863,0.6266410885048296,-0.4398806490896472,-0.5386021088726856,-0.25628753127414766,-0.6327069680721983,-0.596722081088835,-0.4085123626898096,-0.9463898320705738,-1.0718629776699242,-0.4712489354894846,0.877571392992562,-1.5377706730839618,-0.9104049450872107,-0.31440750349029695,0.75211423410418,-0.4712489354894846,-0.31440750349029695,-1.067246377086398,-0.4085123626898096,-0.7849317994878603,-0.9463898320705738,-1.1659678368694368,-0.1261977850912716,-0.31440750349029695,-0.5653537946889974,-0.8163000858876978,-0.9777581184704113,-0.5653537946889974,-1.3228092688686246,-0.9731415178868857,-0.8476683722875356,-0.15756607149110913,-1.228704409669112,-0.4712489354894846,2.105551163169752,0.9716762521920748,-1.318192668285099,-0.4758655360730106,-0.6327069680721983,0.3710781967226033,-0.444497249673173,4.5170446444042005,1.2586074303741386,-0.0053412400754472835,-0.5699703952725231,-0.6954435408718733,0.37569479730612904,-0.38176067687349785,-0.444497249673173,-0.25167093069062185,-0.596722081088835,-1.3228092688686246,-1.2600726960689494,-0.35039239047366033,-0.8163000858876978,-0.789548400071386,-0.5699703952725231,0.312958224506454,0.6533927743211414,-1.1345995504695991,-0.596722081088835,-0.8522849728710613,-1.354177555268462,-1.1345995504695991,1.2586074303741386,-1.636492132867,0.2142367647234157,-0.8209166864712235,-0.9463898320705738,0.43843137010580424,-0.25628753127414766,-0.4085123626898096,-0.6640752544720359,-1.228704409669112,-0.789548400071386,-0.4398806490896472,-1.9188067104655375,-0.4758655360730106,-0.6013386816723608,-0.4712489354894846,1.4154488623733263,-0.25628753127414766,-0.879036658687373,-0.28303921709045937,-1.0404946912700863,-0.4085123626898096,-0.9463898320705738,-0.8522849728710613,-1.1345995504695991,-0.507233822472848,-0.6594586538885099,-0.5386021088726856,-0.9463898320705738,-1.228704409669112,-1.1973361232692745,-0.4758655360730106,-0.16218267207463494,-0.28303921709045937,-1.228704409669112,-0.16218267207463494,-0.2876558176739851,-1.8874384240657003,-0.4712489354894846,-0.6013386816723608,0.057395332724227865,-0.7535635130880227,-0.09482949869143406,-1.2914409824687871,-1.1659678368694368,-1.2600726960689494,-0.09482949869143406,0.312958224506454,4.203361780405825,-0.38176067687349785,-0.16218267207463494,-0.38176067687349785,-0.789548400071386,-0.6640752544720359,-0.8209166864712235,-0.6908269402883475,-0.5339855082891598,-0.0680778128751223,-1.1299829498860734,-0.9777581184704113,-0.722195226688185,-0.507233822472848,0.09338021970759133,-0.3457757898901346,-0.8163000858876978,-0.0007246394919213651,-0.19355095847447248,-0.5026172218893222,-1.0404946912700863,-0.5339855082891598,-0.4398806490896472,0.15611679250726634,-0.31902410407382276,-1.448282414467975,1.3794639753899631,-0.4758655360730106,-0.38176067687349785,-1.6318755322834744,-0.9777581184704113,-0.31902410407382276,0.532536229305317,-1.636492132867,-0.9150215456707361,-0.8476683722875356,-0.13081438567479736,-0.4085123626898096,-1.0358780906865608,-0.5653537946889974,-1.0091264048702486,-0.9777581184704113,-0.3457757898901346,-0.6280903674886725,0.12013190552390296,-0.31440750349029695,-1.0091264048702486,-0.5699703952725231,-0.16218267207463494,-0.507233822472848,-0.09944609927495986,-1.0718629776699242,-1.3228092688686246,-0.9150215456707361,-0.7535635130880227,0.34432651090629157,-0.507233822472848,-1.0718629776699242,-0.22030264429078422,-1.3855458416682997,-1.1345995504695991,-0.6640752544720359,-0.0007246394919213651,-0.879036658687373,-0.25167093069062185,-0.7581801136715484,-0.25167093069062185,-1.1973361232692745,1.6036585807723518,1.0076611391754384,-0.28303921709045937,-0.8836532592708986,-0.6280903674886725,-0.722195226688185,-1.1659678368694368,0.18286847832357805,-0.35039239047366033,-0.7268118272717108,-0.5026172218893222,-0.6954435408718733,-0.444497249673173,-0.25628753127414766,-1.4122975274846115,-1.0404946912700863,-0.7535635130880227,-0.38176067687349785,-0.31902410407382276,-0.6640752544720359,-0.28303921709045937,-0.789548400071386,0.3710781967226033,-0.28303921709045937,-0.507233822472848,-0.8836532592708986,-0.4712489354894846,-0.7268118272717108,-0.6594586538885099,-0.22030264429078422,-0.6327069680721983,-1.0718629776699242,-0.25628753127414766,-0.879036658687373,-1.0718629776699242,-0.31440750349029695,0.15611679250726634,-1.3855458416682997,0.312958224506454,-0.9104049450872107,-0.41312896327333537,1.6036585807723518,-0.4758655360730106,-1.1032312640697615,0.43843137010580424,-1.318192668285099,-1.0986146634862357,-0.7581801136715484,-0.15756607149110913,4.611149503603714,-0.4085123626898096,-0.19355095847447248,-1.1973361232692745,-1.0718629776699242,-1.2600726960689494,-1.1973361232692745,-0.9463898320705738,-0.4758655360730106,-0.22491924487431,-0.722195226688185,0.28158993810661653,0.12474850610742888,-0.0007246394919213651,-1.0718629776699242,-0.4712489354894846,0.057395332724227865,-1.51101898726765,-0.6013386816723608,0.1515001919237406,-1.004509804286723,-0.25628753127414766,-0.8522849728710613,-0.879036658687373,0.312958224506454,-0.09482949869143406,0.6533927743211414,0.658009374904667,-0.6013386816723608,-0.7535635130880227,0.658009374904667,-0.38176067687349785,-0.8476683722875356,-0.6640752544720359,-0.38176067687349785,-0.09944609927495986,-0.5386021088726856,-0.5386021088726856,-0.9463898320705738,-0.6280903674886725,-1.4436658138844491,1.352712289573651,-0.722195226688185,1.5990419801888258,-0.4398806490896472,-1.2914409824687871,-0.16218267207463494,-0.7535635130880227,-0.6640752544720359,-0.4398806490896472,-0.507233822472848,-0.789548400071386,-0.6327069680721983,-0.6013386816723608,-1.0986146634862357,-0.7581801136715484,0.9762928527756009,-0.7849317994878603,-1.4169141280681372,-1.318192668285099,0.030643646907916176,-1.3228092688686246,-0.5699703952725231,-0.5699703952725231,1.7605000127715391,-1.5423872736674875,-1.9501749968653759,-1.1659678368694368,-0.5653537946889974,-0.5653537946889974,-0.6013386816723608,-1.0091264048702486,-1.228704409669112,-0.8836532592708986,-0.38176067687349785,0.37569479730612904,-0.25167093069062185,1.2539908297906126,1.191254256990938,-0.6594586538885099,-0.5339855082891598,-1.1345995504695991,-1.0091264048702486,-0.8522849728710613,-0.5699703952725231,-0.596722081088835,-0.06346121229159653,1.7245151257881761,-0.41312896327333537,-0.9150215456707361,-0.9463898320705738,1.101765998374951,-1.3228092688686246,-1.9188067104655375,-1.1345995504695991,-1.0986146634862357,0.6893776613045047,-0.37714407628997204,-0.8836532592708986,-0.5653537946889974,1.5095537215728392,-1.2600726960689494,-0.7581801136715484,0.24560505112325315,-0.4398806490896472,1.635026867172189,-0.28303921709045937,-0.1261977850912716,-0.6327069680721983,-0.15756607149110913,-1.2914409824687871,-0.9731415178868857,-0.5653537946889974,-0.38176067687349785,-0.596722081088835,-0.596722081088835,-0.35039239047366033,-0.6908269402883475,1.3213440031738137,-1.1032312640697615,-0.9150215456707361,-0.596722081088835,-0.5026172218893222,-0.25628753127414766,-0.8163000858876978,-0.789548400071386,-0.7535635130880227,-0.6954435408718733,-0.8209166864712235,-0.6908269402883475,1.2899757167739763,1.823236585571214,-1.4122975274846115,-0.7535635130880227,0.6220244879213037,1.6931468393883387,-0.2876558176739851,1.3480956889901257,0.9762928527756009,-0.21570203041822622,-0.6908269402883475,-0.5386021088726856,-0.722195226688185,-1.2914409824687871,-1.0718629776699242,-1.1973361232692745,0.9403079657922373,4.3915714988048515,4.485676358004363,1.2539908297906126,0.12474850610742888,-0.6327069680721983,-1.2600726960689494,0.9762928527756009,2.0068297033867144,-0.4398806490896472,-1.0718629776699242,-0.8209166864712235,-0.7849317994878603,2.074182876769915,-0.9150215456707361,-0.8836532592708986,-0.5653537946889974,-1.600507245883637,1.1645025711746262,1.5363054073891504,-0.38176067687349785,1.0703977119751134,-1.067246377086398,-0.6594586538885099,-0.9150215456707361,-0.5339855082891598,-0.6640752544720359,-1.1345995504695991,1.1958708575744632,1.446817148773164,1.6617785529885012,1.2899757167739763,0.12474850610742888,4.920215767018563,4.548412930804038,-0.8209166864712235,4.732006048619538,-0.06346121229159653,1.4108322617898004,-1.5064023866841243,1.1958708575744632,1.7605000127715391,0.877571392992562,1.0703977119751134,2.042814590370077,1.6977634399718642,1.227239143974301,1.5409220079726766,1.630410266588663,1.572290294372514,0.8508197071762503,1.1645025711746262,1.6931468393883387,1.6931468393883387,1.791868299171377,-0.8209166864712235,1.0030445385919124,0.15611679250726634,1.0344128249917501,0.46979965650564165,1.0344128249917501,1.3167274025902878,0.5011519561945117,-0.789548400071386,-0.6954435408718733,1.5095537215728392,1.0076611391754384,0.6893616745935371,1.9127248441872013,1.446817148773164,-0.9150215456707361,-1.228704409669112,-0.7581801136715484,-1.0091264048702486,0.4070630837059668,-0.37714407628997204,-1.1345995504695991,0.18286847832357805,0.465183055922116,-0.25167093069062185,-1.228704409669112,-0.28303921709045937,-0.6280903674886725,-0.4712489354894846,-0.5026172218893222,-0.6594586538885099,-0.25167093069062185,0.1515001919237406,-0.8836532592708986,-0.31440750349029695,0.08876361912406533,-0.8522849728710613,-0.6594586538885099,-0.6280903674886725,-1.1659678368694368,-0.4712489354894846,-0.7535635130880227,-1.1032312640697615,-0.22030264429078422,-0.8476683722875356,-1.3228092688686246,-1.0718629776699242,-0.6954435408718733,-0.7849317994878603,0.030643646907916176,-1.1973361232692745,-0.9150215456707361,-1.004509804286723,-0.09944609927495986,0.030643646907916176,-1.0718629776699242,0.28158993810661653,-0.5386021088726856,-0.0007246394919213651,-1.3228092688686246,-0.9104049450872107,-0.507233822472848,-1.4169141280681372,0.12013190552390296,0.18748507890710397,-1.824701851266025,0.18286847832357805,-0.9150215456707361,-1.0986146634862357,-1.0718629776699242,-1.8874384240657003,-1.354177555268462,-1.1973361232692745,-0.6908269402883475,0.12474850610742888,4.862095794802413,-0.7581801136715484,-1.255456095485424,-0.0680778128751223,-1.1659678368694368,-0.13081438567479736,0.3710781967226033,-0.5653537946889974,-0.507233822472848,-0.6013386816723608,0.9762928527756009,-1.1032312640697615,-0.31440750349029695,-0.22030264429078422,-0.38176067687349785,-1.255456095485424,-0.25167093069062185,-0.8836532592708986,-0.6640752544720359,1.446817148773164,-0.25167093069062185,-0.879036658687373,-0.6327069680721983,-0.5386021088726856,-1.3228092688686246,-0.596722081088835,-1.9501749968653759,-0.25628753127414766,-1.1659678368694368,-0.6327069680721983,0.2188533653069414,-0.6954435408718733,-0.6013386816723608,-0.13081438567479736,-0.4398806490896472,0.12474850610742888,-0.4758655360730106,-0.6640752544720359,-0.16218267207463494,-1.824701851266025,-0.25167093069062185,-0.3457757898901346,-1.1299829498860734,-1.6632438186833114,-0.6013386816723608,0.3710781967226033,-1.1345995504695991,-0.28303921709045937,-0.6594586538885099,-0.507233822472848,-0.0680778128751223,-0.9150215456707361,-0.38176067687349785,-0.5386021088726856,-0.8476683722875356,-0.6954435408718733,1.9754614169868763,1.191254256990938,1.4108322617898004,-0.6013386816723608,-1.448282414467975,-0.9150215456707361,-0.6954435408718733,-0.31440750349029695,-1.228704409669112,1.191254256990938,-0.507233822472848,-0.6954435408718733,-0.9104049450872107,-0.6013386816723608,-1.1345995504695991,-1.0091264048702486,-1.1032312640697615,-0.0053412400754472835,0.37569479730612904,-0.8209166864712235,-0.13081438567479736,-0.7535635130880227,-0.5653537946889974,-0.9150215456707361,-0.7581801136715484,-0.7581801136715484,-0.596722081088835,-1.1032312640697615,-0.6280903674886725,-1.600507245883637,-1.1927195226857483,-1.448282414467975,-1.0718629776699242,-0.25628753127414766,-1.448282414467975,-0.7849317994878603,-0.37714407628997204,-0.9104049450872107,-1.4436658138844491,-1.0718629776699242,-0.13081438567479736,-0.6327069680721983,-0.789548400071386,-0.8209166864712235,-0.35039239047366033,-0.8476683722875356,-1.1659678368694368,-0.18893435789094673,1.0703977119751134,0.34432651090629157,-0.722195226688185,-0.5699703952725231,-0.03670952647528476,-0.8522849728710613,0.34432651090629157,-1.318192668285099,-0.28303921709045937,-0.9463898320705738,0.062011933307753786,-0.7581801136715484,-0.6280903674886725,-0.9463898320705738,-1.5377706730839618,-0.6640752544720359,-0.6640752544720359,-0.6594586538885099,-0.5339855082891598,0.24560505112325315,0.2142367647234157,-0.7268118272717108,-0.35039239047366033,-0.31902410407382276,0.08876361912406533,-0.19355095847447248,-0.4758655360730106,0.34432651090629157,-0.9463898320705738,-1.5691389594837994,0.18748507890710397,-0.7268118272717108,-0.0053412400754472835,-0.0680778128751223,-1.228704409669112,-1.1345995504695991,-1.0091264048702486,-0.941773231487048,-0.0007246394919213651,-1.0358780906865608,-0.25167093069062185,-0.6327069680721983,0.15611679250726634,-0.5026172218893222,-0.5653537946889974,-1.1973361232692745,0.4070630837059668,-0.9150215456707361,-0.6013386816723608,-0.7268118272717108,-0.7581801136715484,-1.354177555268462,-1.1032312640697615,-1.3855458416682997,-1.0091264048702486,-1.1659678368694368,-0.8476683722875356,-0.6280903674886725,-0.5026172218893222,-0.6013386816723608,-0.9463898320705738,0.5011679429054792,-0.41312896327333537,-0.7581801136715484,-0.16218267207463494,-0.25167093069062185,-0.5699703952725231,-0.6327069680721983,-0.507233822472848,0.12474850610742888,-0.7581801136715484,-0.5026172218893222,-0.5339855082891598,0.026027046324390266,-0.18893435789094673,-0.5653537946889974,-0.8163000858876978,-0.6280903674886725,-0.722195226688185,-0.5386021088726856,-0.2876558176739851,-0.6013386816723608,-0.25628753127414766,-0.879036658687373,-1.1613512362859109,-0.9104049450872107,-0.4398806490896472,-0.25167093069062185,-1.5691389594837994,-1.228704409669112,-0.6327069680721983,-0.8476683722875356,-0.4398806490896472,-0.25167093069062185,0.09338021970759133,-0.37714407628997204,-0.6640752544720359,-1.067246377086398,-0.507233822472848,1.823236585571214,-0.5386021088726856,-0.6954435408718733,-1.4169141280681372,-0.7268118272717108,5.144410372400951,-1.0718629776699242,0.030643646907916176,1.352712289573651,-0.6327069680721983,-0.41312896327333537,0.12474850610742888,-0.4085123626898096,0.2188533653069414,-0.6640752544720359,-0.41312896327333537,-0.7581801136715484,-0.38176067687349785,-0.6327069680721983,-1.1973361232692745,-0.8476683722875356,-0.22491924487431,-1.0986146634862357,-0.4398806490896472,-0.7535635130880227,-0.8522849728710613,-0.9463898320705738,-1.2600726960689494,-0.0007246394919213651,-0.879036658687373,-0.37714407628997204,0.25022165170677907,-1.0718629776699242,-0.2876558176739851,-0.19355095847447248,-0.5339855082891598,-0.9150215456707361,-0.7268118272717108,-0.5026172218893222,-1.004509804286723,-1.1973361232692745,1.191254256990938,-1.067246377086398,-0.4085123626898096,1.0076611391754384,-1.004509804286723,0.312958224506454,-0.6640752544720359,-1.0404946912700863,-0.6908269402883475,-0.6908269402883475,-0.8209166864712235,-0.19355095847447248,-0.9731415178868857,-0.7849317994878603,-1.1345995504695991,-1.5691389594837994,1.7291317263717023,-1.8874384240657003,1.666395153572027,-0.28303921709045937,1.666395153572027,2.074182876769915,1.2899757167739763,-1.1659678368694368,0.3129422377954862,0.9716762521920748,-0.16218267207463494,-0.37714407628997204,1.9487097311705646,-0.9731415178868857,-0.03670952647528476,-0.38176067687349785,1.227239143974301,0.15611679250726634,-0.15756607149110913,-0.09482949869143406,-0.31440750349029695,0.9449245663757634,2.5048737009420394,0.09338021970759133,0.09338021970759133,-1.0358780906865608,-0.7849317994878603,-0.38176067687349785,-0.19355095847447248,-0.9777581184704113,1.8546048719710517,-0.8209166864712235,-1.0718629776699242,1.791868299171377,-0.5653537946889974,2.6074437455671533,0.7253465615769004,1.4422005481896378,4.637901189420024,4.485676358004363,4.5751646166203495,1.635026867172189,5.139793771817426,1.791868299171377,0.6939782751770628,1.2586074303741386,0.9135562799759256,1.9173414447707273,1.7291317263717023,1.666395153572027,5.018937226801602,1.2226225433907751,1.3167274025902878,1.9754614169868763,1.3480956889901257,1.9487097311705646,1.3480956889901257,4.292850039021812,-1.1973361232692745,4.3915714988048515,2.4192340271681285,-0.596722081088835,1.666395153572027,4.104640320622787,2.1950394217857396,0.43843137010580424,-0.13081438567479736,-0.6594586538885099,-0.8522849728710613,-1.2914409824687871,-1.2914409824687871,-0.3457757898901346,1.1645025711746262,-1.0718629776699242,-0.8209166864712235,-1.0404946912700863,0.532536229305317,-0.444497249673173,-0.4758655360730106,-0.596722081088835,-0.9104049450872107,-0.6327069680721983,-0.7581801136715484,-1.1345995504695991,-0.7581801136715484,-0.6280903674886725,-1.5064023866841243,-0.15756607149110913,-0.8209166864712235,-0.9777581184704113,-0.9463898320705738,-0.5386021088726856,0.062011933307753786,-0.596722081088835,0.24560505112325315,-0.032092925891758974,0.75211423410418,-0.7535635130880227,-0.4398806490896472,-1.1345995504695991,-0.6013386816723608,-0.032092925891758974,-0.7535635130880227,-0.9104049450872107,0.25022165170677907,-0.6280903674886725,0.532536229305317,-1.1927195226857483,-0.31440750349029695,-1.1659678368694368,-0.0007246394919213651,-0.7535635130880227,-0.25628753127414766,-0.4085123626898096,-0.0007246394919213651,-0.941773231487048,-0.0053412400754472835,-0.06346121229159653,-0.09482949869143406,1.9440931305870395,-1.9188067104655375,-0.879036658687373,0.2142367647234157,-0.03670952647528476,-0.6013386816723608,-0.09944609927495986,-0.8522849728710613,-0.25628753127414766,-0.4712489354894846,0.08876361912406533,-0.18893435789094673,-0.6280903674886725,-1.4169141280681372,-0.1261977850912716,-1.3855458416682997,-0.8522849728710613,0.057395332724227865,-0.722195226688185,-0.4398806490896472,-1.8874384240657003,-0.35039239047366033,0.12474850610742888,-1.2600726960689494,-0.6594586538885099,-0.032092925891758974,-0.35039239047366033,-1.228704409669112,-0.8836532592708986,-0.7268118272717108,-1.1345995504695991,-1.9501749968653759,-1.51101898726765,-0.4085123626898096,0.43381476952227854,-0.4398806490896472,-1.1299829498860734,-1.1345995504695991,-0.9777581184704113,-0.5386021088726856,0.2769733375230907,-1.1973361232692745,-1.1345995504695991,-1.354177555268462,-0.5699703952725231,-0.31440750349029695,-0.37714407628997204,-1.5377706730839618,-1.1973361232692745,-0.9731415178868857,-0.9463898320705738,-0.5339855082891598,-1.573755560067325,0.46979965650564165,-0.6013386816723608,-0.09482949869143406,-0.5653537946889974,0.08876361912406533,-1.5423872736674875,-0.9104049450872107,-0.507233822472848,-0.6280903674886725,-1.004509804286723,-0.35039239047366033,-0.31440750349029695,1.2853591161904505,-0.35039239047366033,-1.1973361232692745,0.43843137010580424,4.543796330220512,4.7366226492030625,-0.2876558176739851,2.01144630397024,-0.9104049450872107,-1.3855458416682997,-0.7581801136715484,-1.5423872736674875,-1.1973361232692745,-0.25628753127414766,-0.789548400071386,-0.6640752544720359,0.09338021970759133,-0.38176067687349785,0.12474850610742888,-0.5653537946889974,-1.1973361232692745,-0.8163000858876978,-0.6640752544720359,-1.0718629776699242,-0.6327069680721983,0.2188533653069414,-0.6280903674886725,-0.2876558176739851,-0.7581801136715484,-1.0718629776699242,-0.22491924487431,0.030643646907916176,-0.444497249673173,1.4735688345894755,-0.0007246394919213651,-0.9777581184704113,-0.06346121229159653,-1.1345995504695991,-0.9463898320705738,0.6266410885048296,-0.28303921709045937,-0.18893435789094673,0.2188533653069414,0.12474850610742888,-1.0091264048702486,-0.8522849728710613,-1.004509804286723,0.5279196287217911,-0.6013386816723608,-0.8163000858876978,-0.8522849728710613,0.15611679250726634,0.1515001919237406,-0.5339855082891598,-1.0091264048702486,-1.354177555268462,-0.5339855082891598,-0.941773231487048,-0.7268118272717108,-0.9731415178868857,-0.0053412400754472835,1.3794639753899631,-1.0091264048702486,-0.19355095847447248,-0.25628753127414766,0.15611679250726634,-0.8522849728710613,-0.2876558176739851,0.25022165170677907,-0.6327069680721983,-0.28303921709045937,-0.5026172218893222,-0.18893435789094673,-0.7535635130880227,-0.9104049450872107,0.8102342063203295,-1.6318755322834744,-0.507233822472848,-1.228704409669112,-0.8836532592708986,0.532536229305317,0.43843137010580424],\"xaxis\":\"x\",\"y\":[-0.9428191641847614,-1.3261930995574862,-1.0509502741616537,0.7349603401913184,-0.9034987605568142,1.0495235692150846,0.7546205420053007,0.7447904410983078,1.0003730646801205,0.7054700374703367,0.7447904410983078,0.9610526610521495,-1.159081384138627,0.843091450168236,0.9315623583311711,0.7447904410983078,0.9610526610521495,-0.9526492650917782,0.7841108447262789,0.8037710465402645,1.2854459909829117,1.025174034692816,-0.9624793659987708,0.9217322574241782,-1.1197609805106556,0.7644506429122934,1.0102031655871135,0.7841108447262789,0.8922419547031999,-0.7902268823811837,1.1773148810059906,-1.060780375068699,0.8037710465402645,0.8627516519822215,1.0888439728430555,0.843091450168236,-0.8051977514868863,0.7644506429122934,-0.8936686596498212,1.2316061537396643,1.0055138328788302,-0.927848295079083,0.7695914111110032,1.0200332664941063,-1.3065328977435187,-1.104790111404953,0.7054700374703367,-0.829547286009155,-0.9428191641847853,-1.3753436040924683,1.064494438320787,-0.8983579923581044,0.8234312483542502,-0.7068967424169583,-1.2129212213818739,0.9905429637731278,-1.1787415859526127,0.941392459238164,0.8627516519822215,0.7644506429122934,1.2414362546466573,0.8580623192739384,-1.0064891023350253,-1.1689114850456197,0.7546205420053007,-1.114620212311946,-1.0261493041490106,1.1379944773780195,-0.9769987996140466,-0.9231589623707999,1.0298633674010989,-1.1885716868596052,0.7742807438192861,-1.1295910814176484,-0.7509064787532128,-0.9034987605568142,-0.927848295079083,0.8384021174599527,-0.8885278914511113,-1.2129212213818739,-0.8786977905441188,0.7742807438192861,-1.0902706777896771,-1.2227513222888664,0.8529215510752285,-1.0312900723477205,1.0691837710290701,-0.829547286009155,-1.1441105150329243,-0.770566680567198,1.1431352455767294,1.1824556492047007,-0.8543482560218502,-0.8740084578358358,1.064494438320787,1.0350041355998088,-1.1441105150329243,1.0939847410417656,0.843091450168236,-0.9769987996140466,1.0546643374137945,-1.159081384138627,1.0593536701220774,-1.153940615939917,0.941392459238164,-1.1295910814176484,-0.9821395678127565,-1.0163192032420179,0.7153001383773294,1.0986740737500487,-0.4651288916072564,-0.9573385978000613,0.8922419547031999,0.8777225210879238,1.4485730345366705,1.1234750437627437,0.8580623192739384,0.7597613102040104,0.6221398975061113,-1.0752998086839745,0.9760235301578518,-1.1885716868596052,0.8627516519822215,1.1085041746570412,1.1038148419487583,-0.9671686987070541,-0.9671686987070541,1.3004168600886146,-0.9769987996140466,-0.8393773869161475,0.7401011083900246,-0.8786977905441188,-1.159081384138627,1.3200770619026,-0.9966590014280322,-1.0261493041490106,0.9760235301578518,1.0448342365068015,1.281461319117793,-0.1505656625834872,0.8234312483542502,-1.1984017877665982,-1.1099308796036629,0.833261349261243,-1.2030911204748813,1.221776052832672,-0.9428191641847853,-0.9475084968930685,-1.139421182324641,-1.0706104759756918,-0.8983579923581044,-1.104790111404953,-0.1407355616764944,0.7742807438192861,-1.0312900723477205,0.9512225601451567,0.8627516519822215,1.1234750437627437,-1.2227513222888664,0.843091450168236,-0.859037588730133,0.8529215510752285,0.833261349261243,0.8529215510752285,0.9020720556101927,1.0200332664941063,0.8922419547031999,-0.7509064787532128,-0.9376783959860755,-0.2292064698394299,0.9315623583311711,-1.2620717259168381,0.7597613102040104,-0.9573385978000613,-0.26852687346740095,0.833261349261243,-0.35699778163033596,-0.514279396142221,-1.0312900723477205,-0.9769987996140466,1.0003730646801205,0.926873025622888,-0.9919696687197491,0.7153001383773294,0.7742807438192861,-1.0458095059629962,-1.2868726959295336,-1.1787415859526127,0.8037710465402645,0.7054700374703367,-0.8688676896371259,-1.0851299095909672,-0.8346880542078646,0.926873025622888,-1.1197609805106556,1.398717869158542,-1.0116298705337348,0.8136011474472575,0.685809835656351,-1.1295910814176484,-1.1099308796036629,0.681120502948068,0.9708827619591422,-0.819717185102162,-0.8641783569288429,0.9512225601451567,1.0003730646801205,1.0298633674010989,-0.25869677256040785,-1.1244503132189385,-0.9966590014280322,-1.139421182324641,1.6353449517695335,-1.1787415859526127,0.7939409456332718,0.7742807438192861,-0.7803967814741907,-0.9231589623707999,0.9119021565171854,0.9020720556101927,0.9905429637731278,0.7841108447262789,-1.0116298705337348,0.8136011474472575,-0.9376783959860755,-0.8641783569288429,-1.1787415859526127,0.7939409456332718,0.9217322574241782,-0.9821395678127565,0.6661496338423655,1.5861944472345701,0.843091450168236,0.8187419156459675,-0.2783569743743937,1.7631362635604402,0.7153001383773294,1.064494438320787,-1.0949600104979604,1.226465385540955,-0.3471676807233434,1.7533061626534474,0.8529215510752285,-1.2377221913945693,1.0495235692150846,0.7251302392843222,0.8136011474472575,0.7841108447262789,0.7742807438192861,-1.1689114850456197,-1.4979941476846648,-1.2770425950225406,1.1824556492047007,0.8384021174599527,0.7447904410983078,-0.7757074487659079,0.882411853796207,-0.7953676505798936,-1.2180619895805835,0.8037710465402645,-1.139421182324641,0.9119021565171854,-1.1001007786966701,0.9905429637731278,-1.2278920904875763,-1.2278920904875763,1.0102031655871135,1.2905867591816218,1.822116869002397,-0.8641783569288429,-1.385173704999461,0.7939409456332718,0.8136011474472575,0.734960340191315,0.8627516519822215,1.0691837710290701,0.9119021565171854,0.7251302392843222,0.843091450168236,1.0102031655871135,-1.2180619895805835,1.1183342755640342,0.8529215510752285,-0.913328861463807,0.9217322574241782,-0.913328861463807,-0.31767737800236506,-0.8983579923581044,-0.9919696687197491,-1.001799769626742,0.9610526610521495,-1.1342804141259315,0.7742807438192861,1.2657857891689261,-1.159081384138627,-1.1197609805106556,0.6563195329353727,0.7841108447262789,0.9020720556101927,1.2657857891689261,-1.0411201732547133,0.882411853796207,1.31493629370389,1.167484780098998,-1.1197609805106556,0.7841108447262789,0.8627516519822215,0.9708827619591422,1.2854459909829117,1.216635284633962,0.7251302392843222,0.882411853796207,0.843091450168236,0.7939409456332718,1.1085041746570412,1.226465385540955,-1.1197609805106556,-1.1689114850456197,0.9708827619591422,1.0691837710290701,0.8529215510752285,-1.139421182324641,0.7251302392843222,0.7054700374703367,1.324766394610883,-1.159081384138627,0.9315623583311711,1.364086798238854,-1.2424115241028524,-1.055639606869989,0.7499312092970177,-0.43563858888627843,0.9217322574241782,0.7447904410983078,-0.913328861463807,1.167484780098998,-1.159081384138627,-0.913328861463807,0.7644506429122934,1.0003730646801205,-1.1885716868596052,-0.8936686596498212,0.9217322574241782,1.0200332664941063,-1.0804405768826846,0.941392459238164,-0.7855375496729006,0.7401011083900246,-1.2278920904875763,-1.1099308796036629,0.8725817528892142,0.9956837319718378,-1.065469707776982,0.7447904410983078,-0.21937636893243673,-1.1001007786966701,-0.9329890632777927,1.152965346483722,0.833261349261243,1.0055138328788302,0.9020720556101927,-0.8000569832881764,1.25126635555365,-1.1984017877665982,1.0888439728430555,0.9315623583311711,0.8234312483542502,-0.35699778163033596,0.843091450168236,-1.1689114850456197,-0.9428191641847853,0.843091450168236,-1.001799769626742,-1.0214599714407278,0.8627516519822215,0.9708827619591422,0.8037710465402645,-1.114620212311946,-1.0116298705337348,1.0200332664941063,-0.7363870451379366,1.0396934683080916,0.8136011474472575,0.734960340191315,0.6464894320283798,0.843091450168236,0.833261349261243,-1.1295910814176484,-0.8936686596498212,1.0691837710290701,1.8122867680954042,0.9512225601451567,0.6909506038550608,0.7939409456332718,-1.3261930995575046,-1.1001007786966701,0.7546205420053007,1.0495235692150846,1.0102031655871135,-0.9769987996140466,-1.050950274161706,0.9315623583311711,-1.0163192032420179,0.8725817528892142,0.6169991293074014,-1.2475522923015618,-0.8248579533008717,0.8922419547031999,-1.0804405768826846,1.1478245782850125,-0.9919696687197491,0.6563195329353727,-1.1244503132189385,-0.44546868979327137,-1.0949600104979604,-1.2377221913945693,0.8529215510752285,1.0593536701220774,-0.2783569743743937,-1.4783339458706792,0.8922419547031999,0.7841108447262789,-1.0411201732547133,0.9315623583311711,0.9760235301578518,0.882411853796207,0.8234312483542502,-1.0312900723477205,0.843091450168236,-1.0411201732547133,0.7939409456332718,-0.8936686596498212,-1.0706104759756918,1.1183342755640342,-1.060780375068699,0.7447904410983078,0.7939409456332718,-0.8346880542078646,-0.9231589623707999,1.0200332664941063,1.128164376471027,-1.060780375068699,0.7546205420053007,0.7742807438192861,0.9563633283438663,-0.7214161760322343,-0.3078472770953721,-0.7953676505798936,0.9760235301578518,-0.8098870841951693,0.8973827229019096,-0.8983579923581044,-0.25869677256040785,-1.1932610195678883,1.3299071628095929,0.6956399365633438,0.9512225601451567,-1.1001007786966701,-1.2278920904875763,-1.2180619895805835,-0.9966590014280322,0.882411853796207,-1.0214599714407278,0.8627516519822215,0.7251302392843222,-0.6675763387889871,1.2461255873549406,1.128164376471027,-1.2573823932085548,-0.9821395678127565,1.1085041746570412,0.6956399365633438,1.128164376471027,0.7251302392843222,-0.26852687346740095,-1.0064891023350253,-1.2082318886735908,1.684495456304498,0.8777225210879238,-0.8000569832881764,1.0593536701220774,-0.6329452678692985,0.9020720556101927,-0.9868289005210397,0.7153001383773294,-1.1099308796036629,1.0298633674010989,-1.1787415859526127,0.7546205420053007,1.0298633674010989,0.843091450168236,-1.1001007786966701,-1.0156145423988536,-1.173600817753903,0.9217322574241782,-1.139421182324641,1.1478245782850125,1.079013871936063,0.7054700374703367,-1.1295910814176484,0.734960340191315,-1.0706104759756918,0.734960340191315,-0.7214161760322343,0.7153001383773294,0.7939409456332718,0.9512225601451567,0.9217322574241782,1.3299071628095929,0.7939409456332718,1.1478245782850125,-1.0214599714407278,0.9315623583311711,0.7742807438192861,-1.0706104759756918,-0.8641783569288429,-0.9526492650917782,0.9610526610521495,-1.1197609805106556,-0.8051977514868863,1.324766394610883,0.9020720556101927,0.7841108447262789,-1.0312900723477205,-0.5889355315330446,-0.9919696687197491,-1.1197609805106556,-0.9526492650917782,-1.2475522923015618,0.843091450168236,-1.1689114850456197,0.5186981202374735,0.8234312483542502,-0.9475084968930685,1.0200332664941063,-0.8492074878231407,-0.9821395678127565,1.0003730646801205,0.7939409456332718,-1.444154310441418,-0.8445181551148574,-1.444154310441418,0.9610526610521495,-1.2770425950225406,0.7892516129249888,0.7204409065760393,1.0743245392277796,-1.060780375068699,0.734960340191315,0.9217322574241782,1.1183342755640342,-1.0163192032420179,-1.2180619895805835,-0.4552987907002641,-0.4749589925142493,-0.8885278914511113,0.7939409456332718,-1.0902706777896771,0.8529215510752285,0.9020720556101927,-1.0163192032420179,1.0298633674010989,-1.0902706777896771,0.8725817528892142,1.1085041746570412,0.9512225601451567,-1.1099308796036629,-1.060780375068699,0.9020720556101927,0.9119021565171854,-0.8051977514868863,1.0888439728430555,0.7742807438192861,1.576364346327577,0.941392459238164,-1.055639606869989,0.7546205420053007,0.9072128238089027,1.1183342755640342,0.8234312483542502,-1.1787415859526127,0.7939409456332718,0.7153001383773294,0.7546205420053007,1.0396934683080916,-1.1197609805106556,1.2068051837269693,-0.8983579923581044,-0.7462171460449296,1.0396934683080916,-0.514279396142221,-1.355683402278483,0.8875526219949164,0.7546205420053007,1.0986740737500487,1.0593536701220774,1.0003730646801205,-0.9329890632777927,1.364086798238854,-1.1001007786966701,1.1183342755640342,0.7447904410983078,0.8136011474472575,0.7939409456332718,-1.2278920904875763,1.0396934683080916,-1.2475522923015618,1.0102031655871135,0.7054700374703367,0.499037918423488,1.0298633674010989,0.7644506429122934,-1.2325814231958594,0.9465332274368737,-0.8936686596498212,-1.1295910814176484,-1.060780375068699,-0.9821395678127565,-0.9034987605568142,0.5776787256794303,1.0298633674010989,1.0102031655871135,-0.6919258733112554,-1.1787415859526127,0.966193429250859,-1.5078242485916575,0.8234312483542502,-0.7607365796602052,-0.7509064787532128,1.0003730646801205,-1.404833906813447,-1.1001007786966701,-1.0902706777896771,-0.9919696687197491,0.8529215510752285,1.0298633674010989,0.9807128628661349,0.7054700374703367,0.5186981202374735,1.0200332664941063,1.1478245782850125,1.0298633674010989,0.7251302392843222,0.9807128628661349,0.9512225601451567,-0.7068967424169583,-0.9723094669057637,0.9020720556101927,-1.2475522923015618,-0.8936686596498212,1.113644942855751,0.8384021174599527,0.7939409456332718,-1.1001007786966701,-1.4638145122554036,0.8136011474472575,-1.1885716868596052,-1.050950274161706,-1.5078242485916575,-0.8885278914511113,0.8136011474472575,-0.7017559742182484,0.533668989343176,-0.5241094970492136,0.9708827619591422,-1.3163629986505119,-0.8248579533008717,1.1379944773780195,1.1478245782850125,1.0396934683080916,1.064494438320787,-1.173600817753903,0.8627516519822215,-0.7607365796602052,-0.9376783959860755,-1.0804405768826846,0.8037710465402645,-1.1001007786966701,0.8725817528892142,1.5861944472345701,0.7939409456332718,0.8136011474472575,1.1824556492047007,1.2657857891689261,-1.001799769626742,-1.0411201732547133,-0.6380860360680087,-0.6380860360680087,1.216635284633962,-0.9671686987070541,0.6516302002270898,0.9119021565171854,0.9905429637731278,-1.1099308796036629,-0.7560472469519223,-0.9966590014280322,0.8580623192739384,0.7841108447262789,-0.770566680567198,1.0396934683080916,-1.2672124941155474,0.8627516519822215,-1.2475522923015618,0.7204409065760393,-1.2227513222888664,1.3739168991458468,-1.2475522923015618,0.7251302392843222,0.882411853796207,-0.8346880542078646,-0.7167268433239512,-1.0312900723477205,-0.8543482560218502,0.7546205420053007,0.9217322574241782,0.9858536310648445,-1.1001007786966701,-1.1244503132189385,0.8973827229019096,0.8234312483542502,1.0102031655871135,-0.9723094669057637,-1.1787415859526127,-1.2082318886735908,-1.0902706777896771,-1.0706104759756918,-1.1197609805106556,1.1379944773780195,-1.0706104759756918,-1.1099308796036629,-0.9624793659987708,-0.8346880542078646,-1.1001007786966701,-1.1099308796036629,0.7990817138319818,1.0055138328788302,1.7533061626534474,0.7939409456332718,-0.9329890632777927,-0.4061482861653003,-0.4258084879792856,-0.9966590014280322,-0.8393773869161475,-0.7560472469519223,-1.3163629986505119,1.7631362635604402,-1.0458095059629962,-1.2573823932085548,-1.1689114850456197,0.882411853796207,1.0003730646801205,0.8725817528892142,1.0102031655871135,-1.1099308796036629,1.1379944773780195,-0.6329452678692985,0.9217322574241782,-0.9919696687197491,-1.0804405768826846,1.025174034692816,-1.001799769626742,0.9315623583311711,0.8725817528892142,-1.0804405768826846,0.9119021565171854,-1.104790111404953,0.833261349261243,-1.159081384138627,0.7742807438192861,0.7841108447262789,-0.8641783569288429,0.7546205420053007,-0.9034987605568142,-0.8740084578358358,0.7644506429122934,1.0396934683080916,0.843091450168236,-1.0116298705337348,0.9760235301578518,-0.5535997997701918,0.9858536310648445,-1.060780375068699,1.1478245782850125,-1.0312900723477205,-0.9671686987070541,-0.9180181941720897,-1.2227513222888664,-1.1197609805106556,0.8037710465402645,-1.0706104759756918,0.8627516519822215,-1.1001007786966701,-1.2180619895805835,0.8922419547031999,0.843091450168236,0.7153001383773294,-0.8983579923581044,0.9072128238089027,0.7447904410983078,-1.1834309186608953,-0.2783569743743937,-1.0064891023350253,0.7251302392843222,1.0593536701220774,1.221776052832672,-1.0312900723477205,-1.0163192032420179,-1.159081384138627,-1.1001007786966701,-1.1441105150329243,-1.0804405768826846,-0.726556944230944,0.8627516519822215,-0.8838385587428286,-0.8740084578358358,-0.8838385587428286,0.9708827619591422,0.843091450168236,-0.9034987605568142,1.167484780098998,0.8529215510752285,-1.1001007786966701,-1.2672124941155474,-0.819717185102162,0.8234312483542502,1.2316061537396643,0.9170429247158957,-1.0411201732547133,0.8580623192739384,0.9610526610521495,-1.2278920904875763,-1.2377221913945693,-1.1099308796036629,-1.001799769626742,-0.9573385978000613,0.926873025622888,0.843091450168236,1.0396934683080916,0.9315623583311711,-0.9034987605568142,0.7644506429122934,-0.9624793659987708,-1.060780375068699,0.8136011474472575,1.3345964955178755,-0.7757074487659079,-1.1689114850456197,0.5481884229584518,1.0350041355998088,-1.350542634079773,1.655005153583519,-1.1197609805106556,-0.9919696687197491,-1.2377221913945693,0.5776787256794303,0.7153001383773294,-1.159081384138627,-0.913328861463807,0.734960340191315,-1.2868726959295336,-1.1295910814176484,-1.001799769626742,-1.2573823932085548,0.6169991293074014,-1.001799769626742,1.064494438320787,-1.0458095059629962,0.5383583220514591,-1.1787415859526127,-0.9180181941720897,-1.0359794050560034,0.9465332274368737,0.7153001383773294,-1.385173704999461,0.6661496338423655,0.8234312483542502,-0.8445181551148574,-1.1689114850456197,1.0200332664941063,-1.1099308796036629,-1.114620212311946,1.0396934683080916,1.25126635555365,1.6353449517695335,-0.9231589623707999,1.064494438320787,-1.2672124941155474,-1.1984017877665982,-1.2377221913945693,1.157654679192005,0.9217322574241782,-0.4258084879792856,1.152965346483722,1.2068051837269693,0.9512225601451567,0.7939409456332718,-1.1885716868596052,-1.0804405768826846,1.7533061626534474,0.9020720556101927,1.0350041355998088,-1.060780375068699,1.4584031354436633,-1.139421182324641,-1.4979941476846648,-0.8248579533008717,0.7251302392843222,0.681120502948068,0.9708827619591422,-1.1197609805106556,1.0888439728430555,0.882411853796207,0.9956837319718378,0.5678486247724375,-1.1787415859526127,-0.8641783569288429,1.2610964564606433,-0.9034987605568142,0.9020720556101927,0.9512225601451567,-0.8885278914511113,1.0200332664941063,-1.0706104759756918,-1.0214599714407278,1.324766394610883,-1.2180619895805835,-1.001799769626742,0.941392459238164,-1.2475522923015618,-1.2129212213818739,-0.8492074878231407,-0.7115860751252412,0.936703126529881,-0.3078472770953721,-1.0359794050560034,-0.9868289005210397,-1.0064891023350253,0.9807128628661349,0.6169991293074014,0.5383583220514591,0.7742807438192861,1.113644942855751,-1.2817319277308232,1.1922857501116937,-0.829547286009155,0.8136011474472575,1.2362954864479474,-0.8641783569288429,-0.9475084968930685,0.8627516519822215,-0.859037588730133,1.1773148810059906,-1.2573823932085548,-0.9966590014280322,-0.9769987996140466,-0.4651288916072564,0.8089118147389742,0.833261349261243,-1.0214599714407278,1.167484780098998,0.8922419547031999,-0.9428191641847853,0.7841108447262789,0.5776787256794303,-0.3275074789093577,1.1627954473907154,1.3797623281877212,-0.9868289005210397,-0.9868289005210397,1.0691837710290701,-0.9573385978000613,0.6614603011340822,-1.0804405768826846,0.6169991293074014,-1.1001007786966701,-0.8641783569288429,-1.050950274161706,1.2854459909829117,-0.8248579533008717,1.1085041746570412,0.9610526610521495,0.7251302392843222,0.9610526610521495,-1.0706104759756918,-1.2573823932085548,0.7054700374703367,1.0153439337858237,0.8725817528892142,-1.0116298705337348,-1.2377221913945693,0.7644506429122934,0.7447904410983078,1.704155658118483,-1.139421182324641,-0.28818707528138654,-1.1787415859526127,-0.8492074878231407,-0.8641783569288429,-0.2292064698394299,-1.2770425950225406,-1.2475522923015618,-0.9428191641847853,-1.2868726959295336,-1.0116298705337348,1.0495235692150846,-0.9671686987070541,-0.8393773869161475,-1.114620212311946,0.926873025622888,-0.9821395678127565,0.779421512017996,-0.7017559742182484,-0.15570643078219684,-0.9723094669057637,0.9610526610521495,1.5567041445135916,-1.0261493041490106,0.7401011083900246,-1.0851299095909672,1.7336459608394619,-1.104790111404953,-1.055639606869989,1.064494438320787,-1.0851299095909672,-0.43563858888627843,-0.691221212468091,-1.0902706777896771,-1.1787415859526127,-1.0411201732547133,-0.8936686596498212,1.128164376471027,1.216635284633962,0.9610526610521495,-0.9919696687197491,-0.913328861463807,-0.913328861463807,0.843091450168236,0.8627516519822215,0.5383583220514591,0.7546205420053007,0.8136011474472575,-0.9428191641847853,-1.2672124941155474,0.7841108447262789,-1.0902706777896771,-0.9329890632777927,1.0350041355998088,-0.6125804052121486,0.8037710465402645,1.0546643374137945,0.7106108056690466,-0.9573385978000613,-1.2278920904875763,0.8187419156459675,-0.9919696687197491,-1.1834309186608953,-1.1342804141259315,0.843091450168236,-1.173600817753903,-0.4651288916072564,0.7251302392843222,-1.0359794050560034,-1.159081384138627,-0.9919696687197491,-0.20954626802544438,1.25126635555365,0.7447904410983078,-1.2475522923015618,0.8627516519822215,-1.060780375068699,0.9217322574241782,0.6661496338423655,0.8725817528892142,-1.149251283231634,-0.8740084578358358,1.1183342755640342,0.8922419547031999,-1.2377221913945693,-0.9821395678127565,-1.2620717259168381,-1.2030911204748813,-0.25869677256040785,0.9315623583311711,-0.8346880542078646,1.0102031655871135,0.843091450168236,-1.1099308796036629,-0.9821395678127565,0.9807128628661349,-1.1001007786966701,-1.0214599714407278,1.0593536701220774,-1.0706104759756918,-1.2278920904875763,-1.0804405768826846,0.8777225210879238,-0.8786977905441188,0.7401011083900246,-0.7560472469519223,0.685809835656351,0.8922419547031999,-1.0706104759756918,-1.1197609805106556,0.7841108447262789,0.8875526219949164,0.9807128628661349,0.7841108447262789,0.9217322574241782,0.7644506429122934,-1.060780375068699,-0.9376783959860755,-1.060780375068699,-1.1441105150329243,-1.0261493041490106,-1.1689114850456197,1.079013871936063,-1.0214599714407278,0.9512225601451567,0.7644506429122934,0.7401011083900246,0.9072128238089027,-0.17022586439747264,-1.3753436040924683,0.9020720556101927,1.1871449819129838,-1.1885716868596052,-1.1001007786966701,-0.9723094669057637,-0.7363870451379366,1.1773148810059906,1.0200332664941063,-1.159081384138627,-1.0163192032420179,-1.2620717259168381,0.8187419156459675,1.0841546401347726,-1.0214599714407278,-1.0902706777896771,1.1333051446697364,0.7939409456332718,1.0298633674010989,-1.065469707776982,0.7939409456332718,-1.1197609805106556,-0.8393773869161475,1.1038148419487583,-0.9034987605568142,-0.859037588730133,-1.0359794050560034,-1.0706104759756918,-1.1295910814176484,-0.1505656625834872,-1.2180619895805835,-1.139421182324641,0.9119021565171854,0.9610526610521495,-1.1689114850456197,0.9512225601451567,0.7742807438192861,0.8529215510752285,-1.050950274161706,-0.9671686987070541,-0.9624793659987708,-0.913328861463807,0.8922419547031999,0.941392459238164,-1.001799769626742,-1.2868726959295336,-1.1984017877665982,0.8529215510752285,-0.9919696687197491,-0.8786977905441188,-0.9966590014280322,-0.9376783959860755,1.0350041355998088,0.9217322574241782,-0.8688676896371259,1.1922857501116937,-0.7855375496729006,1.1333051446697364,0.5631592920641544,-1.2770425950225406,0.8136011474472575,-1.2573823932085548,-1.149251283231634,-0.9428191641847853,-1.1001007786966701,0.7054700374703367,0.9217322574241782,1.0396934683080916,1.1824556492047007,-1.1099308796036629,0.8136011474472575,-0.9769987996140466,-0.28818707528138654,0.9807128628661349,-1.4638145122554036,1.1234750437627437,0.8973827229019096,1.2559556882619332,0.966193429250859,0.7597613102040104,-0.3078472770953721,1.064494438320787,-0.5987656324400374,0.8725817528892142,1.1431352455767294,-1.001799769626742,-0.8051977514868863,-1.2868726959295336,-1.3065328977435187,0.9020720556101927,-1.2082318886735908,0.7841108447262789,-1.060780375068699,0.882411853796207,-1.159081384138627,-1.1099308796036629,-1.2573823932085548,0.7644506429122934,-0.7167268433239512,-0.9671686987070541,0.7939409456332718,1.0888439728430555,1.6746653553975048,1.0546643374137945,-1.1787415859526127,-0.8936686596498212,1.216635284633962,-1.0706104759756918,-1.159081384138627,0.8627516519822215,0.882411853796207,-1.0902706777896771,0.7054700374703367,1.0350041355998088,1.0003730646801205,0.8725817528892142,0.8234312483542502,1.0153439337858237,0.6614603011340822,-0.8786977905441188,1.5567041445135916,0.7644506429122934,0.9020720556101927,0.8922419547031999,1.2461255873549406,1.655005153583519,-1.1932610195678883,-0.7363870451379366,-0.8936686596498212,1.0396934683080916,-1.2475522923015618,-1.139421182324641,0.8973827229019096,0.843091450168236,-1.0902706777896771,1.0495235692150846,-1.0312900723477205,-0.8641783569288429,-1.0902706777896771,0.9119021565171854,0.9020720556101927,0.9708827619591422,0.941392459238164,-0.9919696687197491,-0.8051977514868863,-1.0359794050560034,-0.9821395678127565,-0.31767737800236506,1.4485730345366705,1.3102469609956071,-0.9475084968930685,1.0153439337858237,-0.67226567149727,-0.8936686596498212,-0.9034987605568142,-0.43563858888627843,-0.7214161760322343,-0.3864880843513143,1.2657857891689261,-0.9081880932650972,-0.7115860751252412,1.1333051446697364,1.5861944472345701,-1.0312900723477205,1.0986740737500487,-1.001799769626742,0.9217322574241782,1.6451750526765265,0.6956399365633438,0.9563633283438663,0.7302710074830322,-1.2573823932085548,0.7447904410983078,0.9807128628661349,-0.8936686596498212,-0.3471676807233434,0.7841108447262789,-0.9671686987070541,-0.7607365796602052,-1.149251283231634,1.0055138328788302,0.7742807438192861,0.8136011474472575,1.167484780098998,0.8529215510752285,0.8037710465402645,-1.0902706777896771,0.8922419547031999,1.704155658118483,0.843091450168236,-0.9034987605568142,0.6563195329353727,0.5383583220514591,-0.9081880932650972,0.8529215510752285,1.1824556492047007,-0.9526492650917782,-1.1244503132189385,1.576364346327577,-1.0359794050560034,0.8875526219949164,1.25126635555365,0.7007807047620536,0.9708827619591422,-1.065469707776982,-1.0458095059629962,0.7644506429122934,-1.0411201732547133,-1.1787415859526127,-1.139421182324641,0.9610526610521495,-0.9329890632777927,-1.0706104759756918,1.0593536701220774,0.7546205420053007,-0.7560472469519223,-1.2770425950225406,0.7742807438192861,0.7546205420053007,-1.1787415859526127,-1.1984017877665982,0.8482322183669451,1.0200332664941063,0.8234312483542502,0.6956399365633438,0.8037710465402645,0.966193429250859,0.9217322574241782,0.7892516129249888,0.941392459238164,0.7644506429122934,-1.2475522923015618,0.7841108447262789,-1.4539844113484106,-1.0902706777896771,-1.2082318886735908,-0.9769987996140466,-0.927848295079083,-0.8838385587428286,-1.1197609805106556,-1.159081384138627,-1.0804405768826846,-0.8492074878231407,1.615684749955548,0.8136011474472575,0.7990817138319818,-0.20954626802544438,1.5272138417926129,-0.819717185102162,-1.0261493041490106,-0.8885278914511113,-0.8393773869161475,-0.19971616711845125,-1.2030911204748813,-0.819717185102162,1.339737263716585,-0.6231151669623061,-0.25869677256040785,-1.2227513222888664,1.7631362635604402,-0.913328861463807,0.9512225601451567,-1.001799769626742,-1.1001007786966701,-0.8740084578358358,1.1969750828199763,1.0593536701220774,-1.3065328977435187,-0.9231589623707999,-1.0804405768826846,-1.1984017877665982,-0.9919696687197491,0.8627516519822215,0.9315623583311711,0.8529215510752285,-1.001799769626742,1.2461255873549406,-1.1099308796036629,-0.8346880542078646,-1.1099308796036629,1.1085041746570412,-0.9428191641847853,-1.139421182324641,1.1871449819129838,0.7447904410983078,-1.1885716868596052,-1.1787415859526127,-0.8543482560218502,-1.060780375068699,-0.4847890934212425,0.7546205420053007,-1.0064891023350253,1.0055138328788302,-1.1984017877665982,0.82857201655296,-1.0312900723477205,0.9170429247158957,-1.0804405768826846,0.8384021174599527,1.3895924290947135,0.9956837319718378,0.7546205420053007,-0.8983579923581044,-1.001799769626742,1.2068051837269693,-1.1342804141259315,-0.9231589623707999,0.7054700374703367,0.9020720556101927,0.7546205420053007,0.8922419547031999,1.1773148810059906,1.1085041746570412,-1.2377221913945693,-1.0902706777896771,1.1379944773780195,0.8529215510752285,0.8725817528892142,1.0102031655871135,0.882411853796207,0.843091450168236,-1.2573823932085548,-0.9526492650917782,-1.2377221913945693,0.8627516519822215,-1.0116298705337348,1.4328975045878036,0.9708827619591422,-0.8445181551148574,0.8922419547031999,0.9119021565171854,1.1773148810059906,-1.2278920904875763,0.6071690284004087,-0.815027852393879,-1.1197609805106556,-1.0214599714407278,0.9708827619591422,0.8037710465402645,-0.859037588730133,0.9315623583311711,0.9956837319718378,-0.8936686596498212,-0.9821395678127565,-1.0752998086839745,0.9315623583311711,1.772966364467433,-0.9919696687197491,-0.815027852393879,0.7939409456332718,1.226465385540955,-0.913328861463807,-1.050950274161706,-1.060780375068699,-1.1295910814176484,0.7153001383773294,0.9315623583311711,0.941392459238164,-1.060780375068699,0.7054700374703367,-1.149251283231634,0.7302710074830322,0.7546205420053007,0.7499312092970177,-0.3078472770953721,-0.3275074789093577,1.113644942855751,0.6661496338423655,0.8627516519822215,1.079013871936063,-1.0851299095909672,-1.1244503132189385,1.7139857590254761,-1.0312900723477205,1.0495235692150846,0.8234312483542502,-1.1001007786966701,0.9708827619591422,0.9708827619591422,1.0396934683080916,0.6956399365633438,1.275615890075919,-0.9624793659987708,-1.1885716868596052,-1.0706104759756918,0.9905429637731278,0.9020720556101927,-1.385173704999461,-1.060780375068699,0.9807128628661349,-0.8543482560218502,1.0593536701220774,-1.2377221913945693,-0.2292064698394299,0.9610526610521495,0.9610526610521495,0.8580623192739384,0.926873025622888,-1.0851299095909672,0.685809835656351,-1.2573823932085548,-1.2770425950225406,-1.2180619895805835,-1.0752998086839745,-1.1295910814176484,1.0495235692150846,-1.1001007786966701,1.157654679192005,-1.0706104759756918,-0.9475084968930685,0.8725817528892142,-1.1099308796036629,-1.1885716868596052,-0.18005596530446538,-0.31767737800236506,-1.2522416250098451,0.7742807438192861,-0.8492074878231407,-0.9180181941720897,-0.9624793659987708,-0.5535997997701918,-0.4061482861653003,1.5567041445135916,-0.770566680567198,0.6221398975061113,0.882411853796207,-0.927848295079083,1.0546643374137945,1.1627954473907154,-0.9081880932650972,0.9170429247158957,0.9956837319718378,1.2905867591816218,-0.26852687346740095,1.772966364467433,0.9170429247158957,1.3895924290947135,1.1922857501116937,-0.41597838707229284,0.9217322574241782,0.7546205420053007,-1.1295910814176484,0.9170429247158957,-0.8838385587428286,0.7546205420053007,0.941392459238164,0.8529215510752285,-1.1197609805106556,1.1085041746570412,-1.2377221913945693,-1.0411201732547133,-0.8051977514868863,0.941392459238164,-0.9821395678127565,0.8037710465402645,0.7841108447262789,-1.0411201732547133,-1.2082318886735908,0.9315623583311711,0.9512225601451567,-1.001799769626742,0.9119021565171854,1.0200332664941063,-1.1342804141259315,-1.1787415859526127,-0.20954626802544438,-0.3373375798163505,1.5272138417926129,0.7742807438192861,-0.6479161369750014,-1.153940615939917,-0.8492074878231407,0.9072128238089027,0.966193429250859,-1.055639606869989,1.0448342365068015,1.0350041355998088,0.926873025622888,-1.2475522923015618,1.655005153583519,0.8725817528892142,-1.2573823932085548,-0.4258084879792856,-0.8983579923581044,0.833261349261243,-1.1984017877665982,1.0495235692150846,0.8627516519822215,1.0396934683080916,-1.1689114850456197,-0.8543482560218502,-1.1295910814176484,0.8725817528892142,-1.001799769626742,0.9119021565171854,0.8529215510752285,0.8529215510752285,-0.9034987605568142,-0.2980171761883792,1.0593536701220774,0.7695914111110032,0.7841108447262789,1.7631362635604402,-1.0458095059629962,-1.1244503132189385,-1.0804405768826846,0.9760235301578518,-0.36682788253732906,1.1333051446697364,1.113644942855751,-0.8492074878231407,-0.9966590014280322,1.625514850862541,-0.7509064787532128,-0.3471676807233434,0.8529215510752285,1.1183342755640342,-1.444154310441418,0.8973827229019096,1.6648352544905127,0.9020720556101927,-0.9919696687197491,-1.159081384138627,1.1085041746570412,1.2854459909829117,-1.060780375068699,-1.0804405768826846,-1.0312900723477205,-1.2672124941155474,-1.1001007786966701,-1.2180619895805835,-0.9919696687197491,0.9315623583311711,0.9807128628661349,0.9119021565171854,0.9708827619591422,-1.2082318886735908,1.0593536701220774,-0.8740084578358358,0.9315623583311711,0.7742807438192861,0.7841108447262789,0.9858536310648445,-1.0752998086839745,0.8136011474472575,1.339737263716585,-1.0064891023350253,-1.1441105150329243,-0.6872365406029725,-0.8838385587428286,1.1333051446697364,-1.104790111404953,-1.1787415859526127,-0.41597838707229284,0.7499312092970177,-1.0261493041490106,-1.1295910814176484,0.9807128628661349,1.1234750437627437,-0.3275074789093577,1.0546643374137945,0.882411853796207,-0.9231589623707999,0.9119021565171854,1.157654679192005,-0.7855375496729006,-1.1295910814176484,-0.9821395678127565,-1.1197609805106556,0.6956399365633438,1.324766394610883,0.9217322574241782,0.9020720556101927,-0.9624793659987708,1.0691837710290701,-1.149251283231634,1.1379944773780195,-1.149251283231634,-1.2967027968365261,1.0102031655871135,-1.139421182324641,-0.8641783569288429,-1.139421182324641,0.9020720556101927,0.8973827229019096,-0.9081880932650972,-1.0706104759756918,0.9020720556101927,0.685809835656351,0.7644506429122934,-1.0851299095909672,-1.1197609805106556,-1.1787415859526127,-0.819717185102162,0.9315623583311711,-0.5044492952352277,0.8580623192739384,-1.060780375068699,-1.0752998086839745,-0.9428191641847853,0.8922419547031999,0.843091450168236,-0.8492074878231407,0.9807128628661349,-0.9868289005210397,1.615684749955548,1.723815859932469,1.5272138417926129,0.7841108447262789,-0.21937636893243673,-0.6282559351610157,1.330611823652757,-0.9573385978000613,1.1333051446697364,1.0939847410417656,-0.770566680567198,1.0003730646801205,-0.9475084968930685,0.833261349261243,-1.1295910814176484,0.9807128628661349,0.7742807438192861,-1.2180619895805835,0.843091450168236,1.157654679192005,-1.1001007786966701,-1.2377221913945693,-0.8740084578358358,0.7251302392843222,1.167484780098998,0.6563195329353727,1.0003730646801205,1.0691837710290701,1.167484780098998,0.9708827619591422,-1.2082318886735908,1.0003730646801205,0.6268292302143942,-1.0359794050560034,1.0743245392277796,-0.9573385978000613,0.9072128238089027,0.9072128238089027,0.941392459238164,-1.0312900723477205,-1.2030911204748813,-1.001799769626742,0.9119021565171854,0.5088680193304808,0.7546205420053007,0.9315623583311711,-1.2082318886735908,0.8725817528892142,-1.3210523313587943,-1.2868726959295336,0.6759797347493582,-0.9821395678127565,-1.0706104759756918,0.9807128628661349,0.6268292302143942,0.833261349261243,0.8037710465402645,-0.9769987996140466,-1.1197609805106556,0.9610526610521495,1.7533061626534474,-1.060780375068699,-0.7312462769392268,-1.001799769626742,-1.0706104759756918,0.6712904020410756,0.9119021565171854,1.0546643374137945,-0.8885278914511113,1.0986740737500487,-0.9868289005210397,-1.0411201732547133,-1.1984017877665982,0.8234312483542502,-0.9329890632777927,1.0003730646801205,0.9119021565171854,-1.001799769626742,0.5186981202374735,-1.139421182324641,0.8725817528892142,-0.7855375496729006,-1.2573823932085548,-0.913328861463807,1.0743245392277796,1.1773148810059906,-1.0411201732547133,0.882411853796207,-1.0804405768826846,1.0495235692150846,0.833261349261243,0.7742807438192861,0.5186981202374735,1.0102031655871135,1.1038148419487583,-0.7509064787532128,0.7054700374703367,1.2461255873549406,-0.4847890934212425,-0.514279396142221,0.9858536310648445,-0.8983579923581044,0.7401011083900246,0.8037710465402645,-0.9329890632777927,-0.9329890632777927,-0.8786977905441188,-1.2082318886735908,-1.1197609805106556,-1.0312900723477205,-1.0902706777896771,0.9956837319718378,0.9610526610521495,0.7841108447262789,-1.139421182324641,-0.25869677256040785,0.8627516519822215,0.7742807438192861,0.499037918423488,-1.0116298705337348,-1.139421182324641,-0.9919696687197491,0.882411853796207,0.7644506429122934,0.882411853796207,-0.7462171460449296,0.833261349261243,-0.25869677256040785,1.0153439337858237,-1.153940615939917,-0.31767737800236506,-1.2180619895805835,-0.8393773869161475,1.1431352455767294,-1.0163192032420179,1.2657857891689261,-0.8983579923581044,1.3004168600886146,-0.36682788253732906,-1.404833906813447,1.0200332664941063,0.843091450168236,-1.0312900723477205,-0.9231589623707999,0.7447904410983078,0.882411853796207,0.7644506429122934,-1.149251283231634,-0.9919696687197491,0.6759797347493582,0.7742807438192861,0.7841108447262789,-1.0706104759756918,-1.0116298705337348,1.1085041746570412,0.7644506429122934,-0.913328861463807,1.079013871936063,0.685809835656351,-1.0411201732547133,-1.0902706777896771,0.8627516519822215,-1.1295910814176484,0.7447904410983078,-1.0312900723477205,-0.9821395678127565,0.6956399365633438,0.7742807438192861,0.9512225601451567,0.9020720556101927,-1.0411201732547133,0.843091450168236,0.8136011474472575,0.8234312483542502,0.7939409456332718,-1.2082318886735908,0.833261349261243,-1.2573823932085548,-0.7560472469519223,0.9119021565171854,-0.6715610106541056,0.9217322574241782,0.9315623583311711,0.7546205420053007,-0.8445181551148574,0.7644506429122934,0.7153001383773294,-1.4638145122554036,0.8922419547031999,1.157654679192005,0.9119021565171854,-1.0214599714407278,-1.1295910814176484,-1.1984017877665982,-1.1295910814176484,-0.9526492650917782,0.9020720556101927,0.8136011474472575,0.9020720556101927,-1.4343242095344249,0.941392459238164,-1.0949600104979604,0.8529215510752285,-1.2672124941155474,1.0593536701220774,0.9315623583311711,0.8529215510752285,0.8529215510752285,1.0841546401347726,-0.9034987605568142,0.9119021565171854,-0.9329890632777927,0.7153001383773294,0.843091450168236,0.941392459238164,-1.2770425950225406,-1.2180619895805835,0.8037710465402645,-1.2967027968365261,1.1478245782850125,0.7546205420053007,-1.060780375068699,1.079013871936063,-1.060780375068699,-1.0163192032420179,0.7990817138319818,-0.35699778163033596,1.128164376471027,0.9119021565171854,-1.2082318886735908,1.3542566973318613,-1.3655135031854755,0.8136011474472575,0.7939409456332718,1.064494438320787,0.8529215510752285,0.8529215510752285,0.7939409456332718,0.7990817138319818,-1.1001007786966701,-1.050950274161706,0.7302710074830322,-1.0214599714407278,-0.8838385587428286,1.079013871936063,1.0495235692150846,0.9610526610521495,0.833261349261243,0.9905429637731278,1.0743245392277796,-0.9329890632777927,0.8187419156459675,1.157654679192005,0.7841108447262789,-1.0949600104979604,-1.0116298705337348,1.0743245392277796,0.9760235301578518,0.9807128628661349,-0.5044492952352277,-0.8786977905441188,-0.5437696988631989,-0.6813911115610987,-1.001799769626742,-0.9081880932650972,1.704155658118483,0.941392459238164,-0.7607365796602052,0.7644506429122934,-0.9034987605568142,-1.1001007786966701,0.8187419156459675,-1.0706104759756918,-0.8936686596498212,0.9807128628661349,-1.1984017877665982,-1.149251283231634,0.8922419547031999,0.936703126529881,-0.8885278914511113,-0.8051977514868863,-0.8248579533008717,-1.0261493041490106,1.2021158510186862,-0.5535997997701918,1.6746653553975048,0.8725817528892142,-0.5784007697828879,-1.2424115241028524,0.6563195329353727,-1.0851299095909672,-0.25869677256040785,-1.0851299095909672,0.8627516519822215,1.226465385540955,-0.35699778163033596,-1.0064891023350253,-1.0261493041490106,0.7546205420053007,1.772966364467433,1.0743245392277796,-0.8000569832881764,-0.5437696988631989,1.221776052832672,-1.1197609805106556,0.7644506429122934,-1.149251283231634,-0.9329890632777927,1.128164376471027,-0.9723094669057637,1.0102031655871135,0.685809835656351,-1.0214599714407278,0.8234312483542502,0.6956399365633438,-0.9624793659987708,-1.0312900723477205,0.9610526610521495,0.843091450168236,0.5088680193304808,-0.6675763387889871,0.7546205420053007,0.9020720556101927,-1.0804405768826846,1.0495235692150846,-0.9526492650917782,-0.9428191641847853,1.0495235692150846,1.2362954864479474,-0.8543482560218502,-0.9919696687197491,-1.001799769626742,0.6268292302143942,0.9610526610521495,-0.8492074878231407,0.843091450168236,1.5468740436065984,0.9563633283438663,0.7447904410983078,0.882411853796207,-1.1244503132189385,-1.153940615939917,-1.2817319277308232,-0.6919258733112554,-0.5437696988631989,0.8973827229019096,0.7742807438192861,-0.31767737800236506,-1.1441105150329243,0.8973827229019096,0.6909506038550608,-1.050950274161706,0.926873025622888,-1.2129212213818739,-1.149251283231634,-0.8000569832881764,1.0743245392277796,1.0743245392277796,-0.7803967814741907,1.1824556492047007,-1.0804405768826846,0.8136011474472575,0.8922419547031999,-1.0312900723477205,0.8234312483542502,-1.2868726959295336,0.8627516519822215,-1.1689114850456197,0.9807128628661349,0.843091450168236,1.0200332664941063,0.7644506429122934,-1.060780375068699,0.9512225601451567,-0.7855375496729006,-1.2180619895805835,-1.34585330137149,0.9072128238089027,0.9905429637731278,-0.9329890632777927,1.0546643374137945,-1.050950274161706,-0.36682788253732906,1.064494438320787,-0.8000569832881764,0.681120502948068,-0.927848295079083,1.704155658118483,-0.829547286009155,1.1431352455767294,-0.2488666716534152,0.8136011474472575,-0.36682788253732906,-1.1197609805106556,0.8136011474472575,0.9708827619591422,0.7251302392843222,0.9170429247158957,0.8037710465402645,-1.159081384138627,-1.4244941086274325,-1.2770425950225406,1.4485730345366705,0.7990817138319818,-1.311222230451802,-1.114620212311946,0.7939409456332718,-1.0902706777896771,-0.6675763387889871,0.8725817528892142,0.8725817528892142,-1.0116298705337348,-1.1001007786966701,0.685809835656351,-1.2278920904875763,-1.159081384138627,-1.0064891023350253,0.8922419547031999,-1.0804405768826846,-1.0312900723477205,-1.2770425950225406,0.833261349261243,0.7251302392843222,-1.2082318886735908,-1.0312900723477205,1.8122867680954042,-1.1441105150329243,-1.2082318886735908,-1.173600817753903,-1.1441105150329243,-1.055639606869989,0.941392459238164,-1.159081384138627,-1.2770425950225406,1.0495235692150846,-0.765877347858915,0.9807128628661349,-1.1984017877665982,-1.1689114850456197,-0.9081880932650972,1.1627954473907154,-0.2292064698394299,-1.1099308796036629,-0.7214161760322343,1.0350041355998088,-0.9475084968930685,1.1038148419487583,1.1627954473907154,0.7251302392843222,-0.5437696988631989,-1.173600817753903,0.8384021174599527,-0.7017559742182484,0.8482322183669451,-1.0851299095909672,0.7302710074830322,-1.1441105150329243,-0.7214161760322343,-1.055639606869989,-0.3373375798163505,0.9956837319718378,1.0350041355998088,1.1379944773780195,-1.2620717259168381,1.0691837710290701,-1.065469707776982,-1.1984017877665982,0.966193429250859,1.5173837408856203,-0.9428191641847853,0.7054700374703367,0.8627516519822215,-1.2672124941155474,-1.1885716868596052,-1.0312900723477205,0.7939409456332718,-1.3261930995575046,0.833261349261243,1.0396934683080916,-0.9034987605568142,1.0691837710290701,-0.9231589623707999,-1.1689114850456197,-1.1787415859526127,-1.2377221913945693,-1.2672124941155474,0.833261349261243,0.941392459238164,-1.2377221913945693,0.685809835656351,-1.4736446131623961,0.8234312483542502,-1.404833906813447,-1.2475522923015618,-0.9329890632777927,-1.0902706777896771,-1.060780375068699,0.9807128628661349,-0.913328861463807,0.7841108447262789,0.941392459238164,1.128164376471027,0.9119021565171854,1.0888439728430555,-1.1197609805106556,-1.0804405768826846,0.882411853796207,1.0691837710290701,0.685809835656351,0.7546205420053007,-1.1001007786966701,0.9217322574241782,-1.1984017877665982,0.8725817528892142,0.8627516519822215,-1.149251283231634,-1.1885716868596052,0.8922419547031999,1.0593536701220774,0.7054700374703367,1.0003730646801205,0.7447904410983078,-0.8445181551148574,0.7841108447262789,-1.1197609805106556,1.0888439728430555,0.8529215510752285,-1.2278920904875763,0.941392459238164,1.128164376471027,0.8234312483542502,0.8725817528892142,-1.0411201732547133,-0.9526492650917782,-1.404833906813447,0.8234312483542502,-1.1885716868596052,-1.0116298705337348,-1.0214599714407278,-1.0706104759756918,0.9119021565171854,0.882411853796207,-1.1099308796036629,0.7742807438192861,0.499037918423488,0.8627516519822215,0.7546205420053007,-0.9919696687197491,1.2657857891689261,-1.159081384138627,0.7644506429122934,1.0396934683080916,0.6268292302143942,1.1871449819129838,0.8136011474472575,0.8922419547031999,0.8136011474472575,-1.2475522923015618,0.9217322574241782,0.9512225601451567,-1.0804405768826846,-1.1001007786966701,1.0495235692150846,0.9610526610521495,0.882411853796207,0.8529215510752285,0.9807128628661349,0.9610526610521495,0.8627516519822215,1.0003730646801205,1.128164376471027,0.7546205420053007,-1.1001007786966701,0.8136011474472575,0.843091450168236,-1.0312900723477205,1.0495235692150846,0.9708827619591422,0.843091450168236,1.0200332664941063,1.0200332664941063,0.7546205420053007,-1.050950274161706,0.9217322574241782,0.8529215510752285,0.7742807438192861,1.157654679192005,0.7841108447262789,0.48920781751649506,0.8725817528892142,0.8529215510752285,0.833261349261243,0.8725817528892142,0.833261349261243,-1.2082318886735908,0.882411853796207,1.079013871936063,1.1379944773780195,0.8037710465402645,0.9512225601451567,0.8627516519822215,-1.1295910814176484,0.8529215510752285,-1.1197609805106556,0.941392459238164,1.0102031655871135,0.7742807438192861,-1.1984017877665982,-1.139421182324641,-0.6872365406029725,1.0888439728430555,-1.060780375068699,-1.4638145122554036,-1.001799769626742,-1.2475522923015618,-0.9526492650917782,0.7447904410983078,0.7153001383773294,1.09468940188493,0.7644506429122934,0.8037710465402645,1.2657857891689261,0.9905429637731278,0.8725817528892142,0.9807128628661349,-1.1197609805106556,-1.1295910814176484,-1.1001007786966701,-1.2868726959295336,-1.1787415859526127,0.941392459238164,0.8529215510752285,0.7251302392843222,1.1183342755640342,-0.9329890632777927,0.7153001383773294,0.882411853796207,0.9807128628661349,-1.0116298705337348,0.8037710465402645,0.7742807438192861,0.8529215510752285,0.7939409456332718,1.1183342755640342,1.0102031655871135,0.5285282211444663,-0.8248579533008717,0.7939409456332718,-0.9624793659987708,0.8627516519822215,1.216635284633962,0.5285282211444663,0.499037918423488,0.7939409456332718,0.9315623583311711,0.9119021565171854,-1.2770425950225406,0.9512225601451567,0.9020720556101927,0.882411853796207,-1.2278920904875763,-0.7560472469519223,0.941392459238164,-1.2672124941155474,-1.1787415859526127,0.685809835656351,0.9610526610521495,-1.1099308796036629,-0.9428191641847853,0.7644506429122934,0.7251302392843222,1.157654679192005,-0.8641783569288429,-0.9624793659987708,1.128164376471027,-0.9919696687197491,0.8725817528892142,0.8037710465402645,-1.2180619895805835,-1.1197609805106556,0.9119021565171854,0.7546205420053007,-0.765877347858915,0.843091450168236,1.0003730646801205,0.8627516519822215,-0.8641783569288429,0.8627516519822215,-1.1984017877665982,0.9610526610521495,0.7447904410983078,-1.0804405768826846,0.9315623583311711,0.9610526610521495,-0.913328861463807,-1.1001007786966701,-1.2475522923015618,1.0200332664941063,-1.1295910814176484,-1.0804405768826846,-1.0214599714407278,-1.159081384138627,-0.9624793659987708,0.9119021565171854,-1.159081384138627,0.685809835656351,-0.9723094669057637,0.7939409456332718,0.685809835656351,1.275615890075919,-1.1984017877665982,0.8529215510752285,-1.2082318886735908,0.9905429637731278,0.6464894320283798,-0.859037588730133,-1.2770425950225406,0.833261349261243,0.7054700374703367,0.8136011474472575,-0.9919696687197491,-1.060780375068699,0.8529215510752285,1.0003730646801205,1.0495235692150846,0.7546205420053007,0.9119021565171854,0.8922419547031999,0.843091450168236,-1.2377221913945693,1.0298633674010989,1.0888439728430555,0.7153001383773294,0.8922419547031999,-1.139421182324641,0.882411853796207,-1.2082318886735908,0.9708827619591422,0.8725817528892142,-1.050950274161706,-0.4749589925142493,-1.1885716868596052,-1.1885716868596052,0.7251302392843222,0.734960340191315,0.7644506429122934,1.0986740737500487,0.9807128628661349,-1.0214599714407278,0.7153001383773294,0.9708827619591422,0.734960340191315,1.0986740737500487,-1.1001007786966701,0.6366593311213871,-1.0804405768826846,-1.1787415859526127,-0.9526492650917782,0.6759797347493582,0.7939409456332718,0.8627516519822215,-0.8740084578358358,-1.050950274161706,0.843091450168236,-0.7462171460449296,0.9905429637731278,-1.0312900723477205,0.843091450168236,0.8627516519822215,-0.815027852393879,-1.2278920904875763,-1.0804405768826846,0.833261349261243,0.7251302392843222,-1.1099308796036629,-1.139421182324641,1.0102031655871135,0.8234312483542502,-1.1197609805106556,-1.1885716868596052,-1.2377221913945693,0.9217322574241782,-1.159081384138627,0.7939409456332718,0.8234312483542502,-0.9428191641847853,0.7939409456332718,1.0102031655871135,-1.1689114850456197,0.833261349261243,-1.2082318886735908,-1.139421182324641,1.1379944773780195,0.7251302392843222,-1.060780375068699,0.7251302392843222,0.9512225601451567,1.157654679192005,1.7631362635604402,0.7644506429122934,0.7742807438192861,1.1922857501116937,0.734960340191315,-1.1787415859526127,-1.4343242095344249,0.7841108447262789,1.0495235692150846,-1.3163629986505119,-0.7462171460449296,0.6661496338423655,1.0495235692150846,0.7153001383773294,-1.1787415859526127,0.8725817528892142,-1.001799769626742,0.882411853796207,-1.1197609805106556,1.167484780098998,0.9217322574241782,-1.2475522923015618,0.9119021565171854,0.681120502948068,1.157654679192005,0.7644506429122934,-1.2180619895805835,0.8234312483542502,-1.2868726959295336,0.8627516519822215,0.833261349261243,0.9217322574241782,1.1922857501116937,1.152965346483722,-1.2573823932085548,0.6661496338423655,-1.2082318886735908,0.9119021565171854,-1.050950274161706,0.685809835656351,0.7447904410983078,0.7447904410983078,-0.7509064787532128,-1.1001007786966701,0.685809835656351,0.9512225601451567,-1.2770425950225406,0.7644506429122934,1.0396934683080916,-1.1001007786966701,0.843091450168236,-1.0312900723477205,-0.9671686987070541,-1.1295910814176484,-1.3163629986505119,0.9217322574241782,-1.0902706777896771,1.4780633372576495,-1.0902706777896771,0.7251302392843222,0.941392459238164,-1.2180619895805835,-1.060780375068699,0.9020720556101927,0.734960340191315,0.6956399365633438,0.8037710465402645,0.8234312483542502,0.6661496338423655,1.1183342755640342,0.9020720556101927,0.7841108447262789,1.0691837710290701,-0.8543482560218502,-0.8248579533008717,0.9315623583311711,-1.1295910814176484,-1.4736446131623961,-0.7757074487659079,0.7251302392843222,-1.050950274161706,-0.8346880542078646,0.9020720556101927,-1.2278920904875763,0.8136011474472575,1.079013871936063,-0.913328861463807,0.9512225601451567,-0.9821395678127565,1.2657857891689261,1.2709265573676354,0.734960340191315,0.9217322574241782,0.7742807438192861,0.9610526610521495,0.882411853796207,-1.2278920904875763,-1.2672124941155474,-1.1099308796036629,-1.159081384138627,-0.9034987605568142,-1.1689114850456197,1.0593536701220774,1.0396934683080916,0.9217322574241782,-1.1001007786966701,1.1478245782850125,1.615684749955548,-0.7607365796602052,-0.7902268823811837,1.1085041746570412,-1.0411201732547133,0.882411853796207,-1.0902706777896771,0.8136011474472575,-1.0804405768826846,-1.1885716868596052,0.9020720556101927,-1.0706104759756918,-1.2180619895805835,-1.0312900723477205,-1.3655135031854755,-1.1295910814176484,0.8627516519822215,0.9020720556101927,0.9020720556101927,-0.8936686596498212,-0.9624793659987708,-0.9919696687197491,-0.8936686596498212,0.941392459238164,-1.2672124941155474,-1.0116298705337348,-1.4638145122554036,-0.6427753687762916,0.8725817528892142,-0.28818707528138654,1.211945951925679,0.8187419156459675,1.2021158510186862,-1.1689114850456197,1.6451750526765265,-1.0064891023350253,-1.0359794050560034,-1.2377221913945693,1.3593974655305707,0.9858536310648445,-0.9180181941720897,1.2316061537396643,0.7401011083900246,-1.0261493041490106,0.8777225210879238,0.8037710465402645,1.0396934683080916,-0.859037588730133,-0.6224105061191413,0.9072128238089027,-0.927848295079083,0.8037710465402645,1.1085041746570412,1.128164376471027,1.1183342755640342,0.9119021565171854,-0.8346880542078646,-1.2475522923015618,-1.139421182324641,-1.159081384138627,-1.2817319277308232,-0.7953676505798936,-1.0411201732547133,0.7153001383773294,1.1379944773780195,-1.4638145122554036,0.7939409456332718,1.128164376471027,-0.41597838707229284,-1.0706104759756918,-1.0064891023350253,-1.065469707776982,-1.0359794050560034,0.7546205420053007,-1.2180619895805835,-0.9329890632777927,0.8678924201809312,0.734960340191315,-1.2278920904875763,0.882411853796207,0.9217322574241782,-1.1197609805106556,1.1379944773780195,0.9610526610521495,-1.0411201732547133,1.0200332664941063,0.941392459238164,1.7434760617464546,1.419082731815692,1.1183342755640342,0.7597613102040104,0.8627516519822215,-1.1689114850456197,-1.1689114850456197,0.882411853796207,0.7546205420053007,-1.2180619895805835,0.8627516519822215,-1.1885716868596052,-0.8983579923581044,-1.0902706777896771,0.9072128238089027,-1.1244503132189385,-1.1637707168469098,0.7841108447262789,-1.1787415859526127,0.7644506429122934,-0.8786977905441188,0.882411853796207,1.0939847410417656,0.6956399365633438,0.7546205420053007,-1.1295910814176484,-1.2573823932085548,-0.8346880542078646,-0.9081880932650972,-0.8983579923581044,0.7695914111110032,-0.9180181941720897,1.6302041835708239,1.0055138328788302,1.064494438320787,-0.9671686987070541,1.1824556492047007,-1.0752998086839745,0.9465332274368737,-0.8786977905441188,-0.9769987996140466,0.7447904410983078,-1.0949600104979604,-0.7803967814741907,1.6353449517695335,1.1478245782850125,-0.859037588730133,-1.1885716868596052,0.8922419547031999,0.8529215510752285,0.8922419547031999,-1.2573823932085548,-1.001799769626742,0.8529215510752285,0.7742807438192861,0.882411853796207,-1.0214599714407278,-1.2377221913945693,-0.8543482560218502,-1.149251283231634,-1.159081384138627,0.734960340191315,-1.1295910814176484,0.8037710465402645,0.9217322574241782,-0.8543482560218502,0.7447904410983078,-1.1787415859526127,-0.9966590014280322,0.843091450168236,-1.139421182324641,1.0593536701220774,0.9708827619591422,0.9119021565171854,-1.065469707776982,-0.4749589925142493,-0.859037588730133,-1.139421182324641,-0.829547286009155,0.8234312483542502,0.9956837319718378,0.7546205420053007,-1.2377221913945693,-0.9526492650917782,1.0298633674010989,-1.1984017877665982,-0.67226567149727,-1.0312900723477205,0.8922419547031999,-1.0411201732547133,0.8725817528892142,0.7153001383773294,0.9512225601451567,-1.1099308796036629,-1.139421182324641,1.6498643853848094,0.7447904410983078,0.7742807438192861,0.7054700374703367,-1.149251283231634,-1.159081384138627,-0.8838385587428286,-0.9526492650917782,0.8529215510752285,-1.4146640077204395,-0.8543482560218502,0.7644506429122934,1.0396934683080916,-1.149251283231634,0.9020720556101927,0.833261349261243,0.9315623583311711,0.9905429637731278,0.9217322574241782,0.685809835656351,0.9708827619591422,0.7644506429122934,-1.1441105150329243,-0.6224105061191413,0.9905429637731278,-1.0706104759756918,0.7742807438192861,-1.050950274161706,-0.7953676505798936,-0.9526492650917782,1.128164376471027,-1.3065328977435187,-1.0902706777896771,-1.0804405768826846,0.7644506429122934,-1.1984017877665982,-1.395003805906454,0.7742807438192861,-1.0706104759756918,-1.0804405768826846,-1.1885716868596052,-1.0804405768826846,0.9708827619591422,-1.1441105150329243,1.1234750437627437,0.6268292302143942,0.9315623583311711,0.48920781751649506,0.926873025622888,-0.7214161760322343,-0.8098870841951693,-0.9769987996140466,1.7827964653744255,0.9807128628661349,0.7892516129249888,-0.35699778163033596,0.6169991293074014,-1.2180619895805835,-0.9231589623707999,-0.8936686596498212,-0.39631818525830714,1.0396934683080916,-1.159081384138627,0.8037710465402645,-1.0706104759756918,0.8136011474472575,-0.9231589623707999,-0.9231589623707999,1.324766394610883,0.5973389274934159,-1.2377221913945693,0.6169991293074014,1.3542566973318613,-1.0411201732547133,0.833261349261243,-1.1197609805106556,1.0298633674010989,1.0691837710290701,-1.1885716868596052,-0.8445181551148574,-0.9723094669057637,0.7939409456332718,-1.3065328977435187,-1.0804405768826846,0.8922419547031999,-1.1885716868596052,-1.2377221913945693,-1.1295910814176484,-0.913328861463807,0.7251302392843222,0.9315623583311711,-1.0804405768826846,0.6909506038550608,-1.0804405768826846,0.7939409456332718,-0.7115860751252412,-0.9671686987070541,0.8037710465402645,0.9315623583311711,0.941392459238164,-0.9966590014280322,0.8627516519822215,-1.1885716868596052,0.941392459238164,0.8136011474472575,-1.1984017877665982,0.7939409456332718,-1.2377221913945693,-0.8543482560218502,1.0691837710290701,0.843091450168236,0.9119021565171854,0.9708827619591422,0.8725817528892142,0.9119021565171854,-1.1984017877665982,0.7153001383773294,-1.1689114850456197,-1.2573823932085548,0.6268292302143942,1.0691837710290701,0.8136011474472575,0.8234312483542502,-1.1001007786966701,0.7742807438192861,-0.9428191641847853,0.9708827619591422,0.9807128628661349,-1.1787415859526127,-0.9723094669057637,-0.9821395678127565,-0.9231589623707999,-1.1197609805106556,-1.0804405768826846,0.8234312483542502,1.1183342755640342,-1.0706104759756918,0.7251302392843222,0.734960340191315,-1.3065328977435187,-0.9376783959860755,-0.8248579533008717,0.9119021565171854,0.7644506429122934,-0.8740084578358358,-1.0804405768826846,-1.1099308796036629,-1.1099308796036629,1.0298633674010989,0.7742807438192861,0.7841108447262789,0.8234312483542502,0.7742807438192861,-1.149251283231634,0.7939409456332718,0.681120502948068,0.7939409456332718,0.9119021565171854,-0.9966590014280322,0.6268292302143942,-1.2082318886735908,0.7054700374703367,-1.1001007786966701,1.2952760918899042,1.275615890075919,1.0102031655871135,0.9119021565171854,0.779421512017996,-1.1834309186608953,-1.159081384138627,0.734960340191315,-0.8838385587428286,1.152965346483722,-1.0214599714407278,1.4977235390716344,-1.1787415859526127,0.6956399365633438,1.0153439337858237,0.7546205420053007,0.9956837319718378,1.128164376471027,0.8234312483542502,-1.1984017877665982,0.8384021174599527,0.7251302392843222,-1.2573823932085548,1.0495235692150846,-0.7902268823811837,-1.4343242095344249,0.8136011474472575,-1.1787415859526127,-0.9526492650917782,0.5973389274934159,0.9708827619591422,-0.9769987996140466,-0.8492074878231407,-1.149251283231634,-0.8838385587428286,-1.139421182324641,0.9315623583311711,0.9315623583311711,-0.819717185102162,0.8529215510752285,0.7742807438192861,0.9020720556101927,0.5973389274934159,-0.859037588730133,-1.0458095059629962,0.7742807438192861,0.8037710465402645,0.5580185238654447,1.0691837710290701,-1.001799769626742,-0.913328861463807,0.8529215510752285,0.9760235301578518,-1.1197609805106556,0.8037710465402645,1.0495235692150846,0.8187419156459675,0.9315623583311711,0.7939409456332718,0.8037710465402645,0.7546205420053007,0.7939409456332718,-1.0312900723477205,-0.41597838707229284,-1.2082318886735908,-0.9231589623707999,0.5186981202374735,1.364086798238854,0.7644506429122934,-1.1295910814176484,1.079013871936063,0.7742807438192861,1.1478245782850125,-1.139421182324641,-1.0064891023350253,-1.1295910814176484,-1.0116298705337348,1.1726255482977077,1.0743245392277796,1.6648352544905127,-1.2424115241028524,-0.9180181941720897,-0.927848295079083,-1.1342804141259315,-1.104790111404953,-0.4552987907002641,-1.2030911204748813,0.8973827229019096,-0.7902268823811837,-0.9966590014280322,-1.0949600104979604,1.1333051446697364,0.8678924201809312,-0.8346880542078646,-0.26852687346740095,0.9170429247158957,-1.0064891023350253,0.8922419547031999,-1.050950274161706,-1.0902706777896771,-0.9329890632777927,0.833261349261243,-1.0312900723477205,-1.0214599714407278,0.8136011474472575,1.0986740737500487,-0.9034987605568142,0.8725817528892142,0.48920781751649506,0.5186981202374735,0.7546205420053007,0.843091450168236,-1.395003805906454,0.843091450168236,0.7447904410983078,0.7742807438192861,-1.0752998086839745,1.0200332664941063,-0.9723094669057637,-1.0458095059629962,-0.8885278914511113,-1.2719018268238307,1.0743245392277796,-0.4749589925142493,-1.0359794050560034,1.0350041355998088,1.6746653553975048,-1.153940615939917,-0.9573385978000613,1.1038148419487583,1.064494438320787,-0.6624355705902772,-0.7607365796602052,-0.9966590014280322,0.936703126529881,-0.9376783959860755,-0.8000569832881764,-1.1637707168469098,-0.848502826979976,0.6563195329353727,0.6563195329353727,0.9315623583311711,0.8529215510752285,-0.9231589623707999,0.8725817528892142,0.7054700374703367,0.7251302392843222,0.7251302392843222,-1.444154310441418,1.152965346483722,1.1038148419487583,-0.8492074878231407,1.0350041355998088,-1.0064891023350253,-0.9376783959860755,-1.0261493041490106,1.0350041355998088,-0.9573385978000613,-0.8688676896371259,-1.0949600104979604,1.2905867591816218,0.9956837319718378,1.7926265662814187,0.7447904410983078,-1.0804405768826846,-1.2082318886735908,0.8725817528892142,-1.0902706777896771,-1.404833906813447,0.9512225601451567,0.6909506038550608,-0.9919696687197491,0.9119021565171854,1.1085041746570412,-0.7855375496729006,0.8627516519822215,-1.149251283231634,-0.7068967424169583,0.8725817528892142,-1.139421182324641,1.1773148810059906,-0.8346880542078646,0.9119021565171854,-1.060780375068699,-1.4146640077204395,1.0102031655871135,1.0003730646801205,1.0691837710290701,0.8922419547031999,-0.913328861463807,-0.8641783569288429,-1.159081384138627,0.7153001383773294,1.0003730646801205,0.8529215510752285,1.0298633674010989,1.1085041746570412,-1.0411201732547133,-0.9231589623707999,-1.0411201732547133,1.0691837710290701,-1.1984017877665982,0.6169991293074014,0.6464894320283798,-0.815027852393879,-1.1001007786966701,-1.0706104759756918,0.7939409456332718,-0.9919696687197491,0.9610526610521495,1.0003730646801205,1.0200332664941063,0.9119021565171854,-0.8936686596498212,0.9708827619591422,0.8136011474472575,0.7742807438192861,-0.815027852393879,0.7447904410983078,0.9020720556101927,0.882411853796207,0.9807128628661349,0.9315623583311711,-1.1984017877665982,0.5088680193304808,-0.8248579533008717,0.734960340191315,0.9610526610521495,-1.2573823932085548,0.8529215510752285,-0.8936686596498212,0.7742807438192861,-1.060780375068699,-0.765877347858915,1.0888439728430555,0.8725817528892142,0.6071690284004087,-1.1984017877665982,0.8037710465402645,0.7251302392843222,1.128164376471027,0.9315623583311711,-0.8346880542078646,0.6759797347493582,-1.1197609805106556,1.0593536701220774,-1.1787415859526127,0.9119021565171854,-1.1689114850456197,0.7251302392843222,-0.8543482560218502,-1.0411201732547133,0.9512225601451567,-1.1001007786966701,1.0495235692150846,1.157654679192005,-1.1689114850456197,0.8725817528892142,-1.2278920904875763,1.324766394610883,-0.9428191641847853,-1.2082318886735908,0.7251302392843222,-1.0804405768826846,-0.8838385587428286,0.8136011474472575,0.9119021565171854,0.9119021565171854,1.079013871936063,1.079013871936063,0.7251302392843222,-0.9919696687197491,0.7447904410983078,-1.1984017877665982,0.9119021565171854,-1.385173704999461,-1.149251283231634,1.0102031655871135,-0.9769987996140466,-1.0312900723477205,-1.0064891023350253,0.843091450168236,0.8037710465402645,1.0986740737500487,1.0003730646801205,0.8529215510752285,-1.2573823932085548,0.8725817528892142,0.8627516519822215,-1.149251283231634,0.8922419547031999,0.8529215510752285,-1.4638145122554036,0.499037918423488,0.9708827619591422,-1.0411201732547133,0.9610526610521495,0.9708827619591422,-1.0902706777896771,-1.2573823932085548,-1.0804405768826846,-0.7953676505798936,0.9708827619591422,0.7153001383773294,0.8234312483542502,0.843091450168236,0.8725817528892142,0.9905429637731278,0.9020720556101927,0.7939409456332718,0.843091450168236,-1.2377221913945693,0.8725817528892142,0.9020720556101927,-1.0706104759756918,0.9020720556101927,0.7153001383773294,0.8234312483542502,-0.8051977514868863,0.6366593311213871,-0.8051977514868863,0.9217322574241782,-1.2770425950225406,0.8136011474472575,-1.139421182324641,0.9807128628661349,0.8529215510752285,0.7153001383773294,-1.1197609805106556,1.0593536701220774,0.7447904410983078,0.8037710465402645,0.7447904410983078,0.9610526610521495,0.8725817528892142,1.1773148810059906,-1.1001007786966701,0.7054700374703367,0.9217322574241782,-0.726556944230944,-1.1984017877665982,0.8136011474472575,-1.2180619895805835,0.7251302392843222,-0.815027852393879,0.8529215510752285,0.833261349261243,-1.1787415859526127,0.8725817528892142,1.0003730646801205,0.8725817528892142,-1.404833906813447,0.926873025622888,1.0298633674010989,1.0396934683080916,0.8037710465402645,-1.0804405768826846,1.0986740737500487,1.4780633372576495,0.8037710465402645,0.9315623583311711,-0.4061482861653003,0.7153001383773294,-1.1197609805106556,0.6661496338423655,-0.9231589623707999,0.7054700374703367,0.7546205420053007,0.7742807438192861,-1.0214599714407278,1.2559556882619332,1.0593536701220774,0.8136011474472575,-1.1001007786966701,-1.2180619895805835,-1.4539844113484106,-1.0804405768826846,1.128164376471027,1.1085041746570412,-1.1001007786966701,1.0593536701220774,-1.1001007786966701,0.833261349261243,0.734960340191315,0.6956399365633438,0.7742807438192861,-1.149251283231634,-1.1001007786966701,-1.2082318886735908,-1.0312900723477205,-0.8983579923581044,-0.8740084578358358,0.7939409456332718,0.9119021565171854,0.7742807438192861,0.8627516519822215,1.157654679192005,0.7742807438192861,0.8482322183669451,-1.149251283231634,0.7841108447262789,-1.4244941086274325,-1.159081384138627,-1.1197609805106556,0.8922419547031999,0.7054700374703367,-0.913328861463807,0.7054700374703367,0.7644506429122934,-1.1099308796036629,0.7742807438192861,0.7644506429122934,0.6071690284004087,-1.0902706777896771,-1.2278920904875763,0.9020720556101927,1.0298633674010989,0.9905429637731278,-1.149251283231634,-1.149251283231634,-1.139421182324641,-1.0804405768826846,0.8529215510752285,0.7644506429122934,-1.1197609805106556,0.8529215510752285,0.6759797347493582,0.7054700374703367,0.8136011474472575,0.7447904410983078,0.7546205420053007,0.8037710465402645,-1.139421182324641,0.8627516519822215,-1.0312900723477205,0.843091450168236,-0.9624793659987708,-1.3065328977435187,1.5861944472345701,-1.1001007786966701,-1.050950274161706,0.9217322574241782,0.8529215510752285,0.7841108447262789,0.8234312483542502,-1.1295910814176484,0.7153001383773294,0.7546205420053007,0.8136011474472575,0.7841108447262789,1.113644942855751,-1.2475522923015618,-1.060780375068699,-0.9526492650917782,-0.913328861463807,-1.0411201732547133,0.9512225601451567,-0.9919696687197491,-1.159081384138627,1.167484780098998,0.9020720556101927,0.7644506429122934,0.9119021565171854,1.2362954864479474,0.8136011474472575,-1.1295910814176484,1.0200332664941063,-1.1001007786966701,1.7533061626534474,0.779421512017996,-0.4749589925142493,-0.9329890632777927,-1.0214599714407278,-1.149251283231634,-1.2770425950225406,-1.1885716868596052,0.6759797347493582,-1.2672124941155474,0.8136011474472575,-1.1689114850456197,-0.9821395678127565,0.734960340191315,1.0495235692150846,1.0495235692150846,0.9217322574241782,-1.4244941086274325,-1.1099308796036629,0.6661496338423655,-1.2082318886735908,-0.9919696687197491,0.9119021565171854,-0.6519008088401198,0.8037710465402645,0.9020720556101927,-0.9231589623707999,0.7251302392843222,0.882411853796207,0.7939409456332718,-0.8346880542078646,-1.4638145122554036,-1.1295910814176484,-1.0214599714407278,0.7939409456332718,-0.9966590014280322,1.2414362546466573,-1.0116298705337348,0.7841108447262789,0.6614603011340822,-1.139421182324641,0.833261349261243,0.7939409456332718,0.8580623192739384,-1.1637707168469098,0.9465332274368737,-1.153940615939917,-1.153940615939917,1.5468740436065984,-0.9573385978000613,1.655005153583519,0.9563633283438663,-1.0359794050560034,-1.065469707776982,-0.37665798344432183,-1.055639606869989,-0.31767737800236506,1.4780633372576495,1.1871449819129838,-1.2129212213818739,1.1922857501116937,-1.0359794050560034,1.1922857501116937,-1.0851299095909672,-1.173600817753903,1.6302041835708239,-1.0458095059629962,-0.43563858888627843,1.3895924290947135,-1.0261493041490106,0.8875526219949164,1.152965346483722,1.1824556492047007,1.0448342365068015,0.9905429637731278,-0.9868289005210397,-1.2325814231958594,-0.770566680567198,1.3404419245597499,1.4584031354436633,1.615684749955548,1.5272138417926129,-0.9526492650917782,-1.3603727349867658,1.0055138328788302,-1.114620212311946,0.833261349261243,-0.36682788253732906,-0.927848295079083,1.064494438320787,-1.3065328977435187,-1.1099308796036629,-1.149251283231634,0.5678486247724375,-1.159081384138627,-1.159081384138627,0.8529215510752285,0.5186981202374735,0.7251302392843222,-1.2278920904875763,0.6268292302143942,-1.0411201732547133,-1.0312900723477205,-0.8445181551148574,0.734960340191315,-0.7757074487659079,0.7251302392843222,-0.9919696687197491,0.685809835656351,-1.0312900723477205,-1.0312900723477205,0.8627516519822215,-0.8051977514868863,-1.1787415859526127,-1.001799769626742,0.6563195329353727,-0.9821395678127565,0.5186981202374735,-0.9919696687197491,-0.7462171460449296,0.941392459238164,-1.060780375068699,1.0691837710290701,-0.9723094669057637,-1.159081384138627,0.7054700374703367,1.167484780098998,0.5580185238654447,1.0003730646801205,0.9610526610521495,0.734960340191315,-0.8641783569288429,1.157654679192005,0.6169991293074014,-1.060780375068699,-1.0411201732547133,-1.3655135031854755,0.8725817528892142,0.7841108447262789,0.8234312483542502,-1.2573823932085548,-1.4539844113484106,-0.9428191641847853,-1.001799769626742,1.157654679192005,-1.0706104759756918,0.9807128628661349,-0.9723094669057637,-1.001799769626742,0.9760235301578518,-1.1689114850456197,-1.1689114850456197,-0.765877347858915,0.734960340191315,-1.0359794050560034,-1.0851299095909672,-1.4244941086274325,1.0448342365068015,0.7892516129249888,-1.2868726959295336,-1.0312900723477205,-1.001799769626742,0.8922419547031999,-0.913328861463807,0.9708827619591422,0.9807128628661349,-1.0214599714407278,-1.060780375068699,-0.9821395678127565,0.7054700374703367,1.1773148810059906,1.0986740737500487,0.8627516519822215,-0.8543482560218502,1.0153439337858237,-1.060780375068699,-1.1197609805106556,-1.1787415859526127,1.0298633674010989,-1.0214599714407278,0.833261349261243,-1.0312900723477205,-1.149251283231634,1.0200332664941063,1.0200332664941063,0.9020720556101927,1.0593536701220774,-1.1984017877665982,0.941392459238164,-1.060780375068699,0.843091450168236,0.8234312483542502,-0.9919696687197491,0.8973827229019096,0.685809835656351,0.833261349261243,0.833261349261243,-0.9329890632777927,0.9512225601451567,-0.8936686596498212,-1.1001007786966701,-1.0116298705337348,0.843091450168236,0.7939409456332718,1.2068051837269693,0.7447904410983078,0.7251302392843222,0.7447904410983078,0.9315623583311711,0.941392459238164,-1.060780375068699,0.7644506429122934,-0.9428191641847853,-1.149251283231634,-1.2082318886735908,1.216635284633962,-1.3163629986505119,0.882411853796207,-1.1689114850456197,-1.2082318886735908,-1.149251283231634,-0.6577462378819944,0.8529215510752285,1.0102031655871135,-0.8936686596498212,0.6759797347493582,-1.3261930995575046,-0.9428191641847853,0.7251302392843222,0.6956399365633438,0.6661496338423655,1.0495235692150846,-1.0902706777896771,0.9610526610521495,0.882411853796207,-0.7462171460449296,0.882411853796207,0.8529215510752285,0.685809835656351,-0.9428191641847853,-1.4539844113484106,-1.355683402278483,-1.1689114850456197,-1.0312900723477205,0.9020720556101927,0.8627516519822215,0.9512225601451567,-1.0214599714407278,0.734960340191315,-0.8445181551148574,0.9119021565171854,1.216635284633962,-0.9723094669057637,0.7546205420053007,0.8234312483542502,-1.0116298705337348,-1.1001007786966701,-1.159081384138627,1.3345964955178755,-1.2868726959295336,0.7841108447262789,-1.0706104759756918,-1.050950274161706,0.8529215510752285,0.7251302392843222,0.5875088265864231,1.0495235692150846,-0.7068967424169583,1.0743245392277796,-0.8445181551148574,-1.173600817753903,0.7742807438192861,1.0448342365068015,0.8777225210879238,1.2905867591816218,0.7251302392843222,0.685809835656351,0.7546205420053007,-0.8641783569288429,1.8417770708163828,0.6024796956921258,-1.0902706777896771,0.9610526610521495,1.0003730646801205,1.152965346483722,1.0055138328788302,0.6268292302143942,-1.4095232395217296,-0.9428191641847853,-1.2967027968365261,0.8089118147389742,0.7447904410983078,0.7251302392843222,-1.0458095059629962,0.7742807438192861,-0.9919696687197491,1.1379944773780195,-0.9821395678127565,1.0841546401347726,1.1038148419487583,-1.2227513222888664,-1.1834309186608953,0.9170429247158957,-0.5437696988631989,-1.0261493041490106,-0.5044492952352277,1.7336459608394619,-1.2325814231958594,1.0102031655871135,-0.4847890934212425,-1.0804405768826846,-0.7509064787532128,-0.8885278914511113,-0.9573385978000613,-0.9376783959860755,-0.9526492650917782,-0.5241094970492136,1.0055138328788302,-1.153940615939917,-1.065469707776982,-1.2424115241028524,-0.8885278914511113,-1.1244503132189385,-0.9573385978000613,-0.8098870841951693,-0.9769987996140466,0.82857201655296,-1.0752998086839745,1.684495456304498,1.113644942855751,-1.2424115241028524,0.9905429637731278,-0.8688676896371259,-0.6820957724042628,-0.3817987516430316,1.2414362546466573,-0.7214161760322343,-1.0902706777896771,0.843091450168236,-0.1505656625834872,-0.9821395678127565,-0.8740084578358358,0.9217322574241782,-1.1099308796036629,-1.2770425950225406,0.685809835656351,1.079013871936063,-1.1295910814176484,0.7546205420053007,-0.6970666415099656,0.8136011474472575,-1.2377221913945693,1.0396934683080916,0.8037710465402645,-0.9624793659987708,-0.8641783569288429,-0.9723094669057637,1.1183342755640342,0.6071690284004087,-0.9428191641847853,1.157654679192005,1.0298633674010989,-1.1984017877665982,-1.149251283231634,-1.0706104759756918,0.7939409456332718,0.7447904410983078,-1.050950274161706,-1.0214599714407278,-1.1197609805106556,-0.7855375496729006,1.0396934683080916,0.7251302392843222,0.8922419547031999,-1.1984017877665982,-0.9821395678127565,-1.2868726959295336,-0.9231589623707999,-1.0214599714407278,1.0396934683080916,0.9512225601451567,1.2461255873549406,-1.060780375068699,-1.2377221913945693,-0.9919696687197491,-1.0706104759756918,-1.050950274161706,-1.0214599714407278,0.941392459238164,-1.1689114850456197,0.9020720556101927,0.8136011474472575,0.8234312483542502,1.0003730646801205,0.7447904410983078,0.5875088265864231,-1.2278920904875763,-1.2377221913945693,-1.0312900723477205,-1.001799769626742,-0.9919696687197491,0.7841108447262789,0.7153001383773294,0.8136011474472575,-0.9034987605568142,0.9807128628661349,1.0396934683080916,-1.1787415859526127,-1.1885716868596052,-1.050950274161706,-1.2475522923015618,-1.0902706777896771,0.7251302392843222,0.843091450168236,-0.7757074487659079,-0.7855375496729006,0.734960340191315,-1.2475522923015618,0.8037710465402645,0.5481884229584518,1.1773148810059906,-0.8445181551148574,1.0298633674010989,0.9807128628661349,-0.9034987605568142,0.9905429637731278,0.9512225601451567,0.8136011474472575,-1.2278920904875763,0.8725817528892142,-0.9526492650917782,-0.765877347858915,-1.139421182324641,0.9020720556101927,-0.9231589623707999,0.882411853796207,1.0200332664941063,-1.444154310441418,-1.0902706777896771,0.7302710074830322,0.8627516519822215,1.0298633674010989,-1.0902706777896771,-1.1787415859526127,-0.8936686596498212,0.6071690284004087,0.8725817528892142,1.1969750828199763,-0.9919696687197491,0.5678486247724375,-0.913328861463807,-1.0902706777896771,-0.8641783569288429,-0.9034987605568142,-0.913328861463807,-1.1295910814176484,-1.050950274161706,-1.050950274161706,-1.2180619895805835,0.9708827619591422,1.2559556882619332,-1.159081384138627,0.9119021565171854,-1.2180619895805835,0.8529215510752285,1.0102031655871135,-1.159081384138627,-1.4539844113484106,0.8136011474472575,-1.1001007786966701,-1.0116298705337348,-0.8641783569288429,0.9020720556101927,0.9020720556101927,-0.8641783569288429,1.216635284633962,0.8234312483542502,-0.8838385587428286,-1.001799769626742,0.9610526610521495,1.0298633674010989,0.7742807438192861,1.079013871936063,0.7742807438192861,-0.8346880542078646,-0.7902268823811837,-0.8688676896371259,-0.9671686987070541,1.0102031655871135,-0.9966590014280322,0.8627516519822215,-0.8983579923581044,0.6169991293074014,0.7054700374703367,0.7546205420053007,1.0448342365068015,0.734960340191315,-0.6774064396959796,-0.8248579533008717,-1.0902706777896771,0.734960340191315,1.0003730646801205,0.9020720556101927,-0.7363870451379366,1.0200332664941063,0.9807128628661349,-1.159081384138627,0.9905429637731278,0.8136011474472575,-0.691221212468091,0.7644506429122934,-1.2082318886735908,-1.2278920904875763,-1.2475522923015618,-0.8492074878231407,0.882411853796207,0.8234312483542502,-1.0706104759756918,1.0003730646801205,-1.2672124941155474,-1.0949600104979604,1.2854459909829117,0.6956399365633438,0.7054700374703367,0.9807128628661349,1.0691837710290701,0.7841108447262789,0.7054700374703367,-1.0804405768826846,1.0102031655871135,1.1085041746570412,0.7054700374703367,-1.060780375068699,-1.1295910814176484,-1.1099308796036629,0.7939409456332718,-1.0706104759756918,0.6366593311213871,-0.7462171460449296,1.0298633674010989,1.0986740737500487,0.7153001383773294,0.7447904410983078,1.0888439728430555,1.3200770619026,0.5973389274934159,-1.2377221913945693,-1.060780375068699,0.9465332274368737,0.8922419547031999,-1.385173704999461,-0.8346880542078646,-1.001799769626742,-1.2672124941155474,-1.2770425950225406,0.685809835656351,-1.2967027968365261,0.941392459238164,0.9610526610521495,0.9708827619591422,1.0055138328788302,-1.2868726959295336,-1.1197609805106556,-1.1689114850456197,0.8627516519822215,0.8037710465402645,0.9807128628661349,-1.060780375068699,0.9905429637731278,0.9807128628661349,1.0102031655871135,1.1085041746570412,-0.9526492650917782,-0.5241094970492136,-0.3373375798163505,-0.9329890632777927,0.9465332274368737,-0.9329890632777927,0.7054700374703367,1.0055138328788302,-1.5078242485916575,0.7401011083900246,-0.829547286009155,0.9512225601451567,-1.0411201732547133,-0.913328861463807,1.3200770619026,-0.8779931297009539,0.82857201655296,0.5580185238654447,0.8922419547031999,0.882411853796207,-0.7855375496729006,-0.8838385587428286,-1.2278920904875763,0.7546205420053007,-1.1099308796036629,-0.9821395678127565,0.8136011474472575,-1.2573823932085548,0.9020720556101927,-1.0214599714407278,-1.1001007786966701,-1.2180619895805835,0.7251302392843222,-1.1295910814176484,0.8234312483542502,1.0593536701220774,0.8037710465402645,-1.1295910814176484,-0.9821395678127565,0.734960340191315,0.7644506429122934,-1.444154310441418,0.8234312483542502,0.8529215510752285,-1.0902706777896771,-1.3163629986505119,-1.3065328977435187,0.9119021565171854,-1.153940615939917,0.8627516519822215,0.7841108447262789,-1.2573823932085548,0.9807128628661349,-1.0902706777896771,-1.0804405768826846,-1.0312900723477205,-1.1984017877665982,-1.2377221913945693,-0.9919696687197491,0.941392459238164,-1.2868726959295336,-0.9723094669057637,-0.8051977514868863,-1.2180619895805835,-1.0706104759756918,0.8037710465402645,1.5370439426996059,0.7251302392843222,1.2021158510186862,0.882411853796207,0.843091450168236,0.8922419547031999,-1.1885716868596052,-1.0214599714407278,-0.8393773869161475,0.8922419547031999,-1.060780375068699,-1.1689114850456197,-1.153940615939917,-0.9671686987070541,-1.1984017877665982,-0.8445181551148574,-0.9231589623707999,-1.1984017877665982,0.9956837319718378,-1.1787415859526127,0.5973389274934159,0.7251302392843222,-0.913328861463807,0.833261349261243,-1.139421182324641,0.7447904410983078,-0.9526492650917782,-0.9624793659987708,1.5272138417926129,-0.6919258733112554,1.0055138328788302,0.7499312092970177,0.9807128628661349,-0.5044492952352277,-0.2980171761883792,-0.25869677256040785,-0.602750304305156,1.615684749955548,-0.5732600015841776,-0.5044492952352277,-1.0851299095909672,-1.0851299095909672,-0.6231151669623061,-0.9966590014280322,1.1038148419487583,0.681120502948068,-0.18005596530446538,-0.7803967814741907,0.6909506038550608,1.1038148419487583,-1.1834309186608953,1.0003730646801205,-0.39631818525830714,1.6353449517695335,0.9760235301578518,1.0448342365068015,1.7631362635604402,-0.2783569743743937,-1.0902706777896771,1.625514850862541,0.9217322574241782,0.9807128628661349,-1.2770425950225406,0.843091450168236,0.9905429637731278,-0.9723094669057637,1.0593536701220774,-1.1099308796036629,1.0593536701220774,1.0298633674010989,0.843091450168236,1.157654679192005,0.9020720556101927,0.9905429637731278,-1.2475522923015618,-1.0312900723477205,-1.1099308796036629,-0.765877347858915,0.8922419547031999,0.7841108447262789,-1.1099308796036629,0.8136011474472575,-1.2180619895805835,0.7939409456332718,0.8627516519822215,0.8136011474472575,-1.1295910814176484,-1.060780375068699,1.0396934683080916,1.1969750828199763,-1.1295910814176484,1.1773148810059906,0.8234312483542502,-1.060780375068699,0.843091450168236,-0.9723094669057637,0.8037710465402645,0.7447904410983078,-1.1689114850456197,-0.9526492650917782,0.8384021174599527,0.8627516519822215,-1.3261930995575046,-1.355683402278483,0.6661496338423655,1.0495235692150846,-1.139421182324641,-1.2967027968365261,-1.1099308796036629,-0.9034987605568142,1.128164376471027,0.9315623583311711,-0.8248579533008717,-1.1787415859526127,0.8234312483542502,-0.8838385587428286,0.7644506429122934,-0.8740084578358358,-0.9624793659987708,-1.2475522923015618,-1.2672124941155474,0.7841108447262789,0.9315623583311711,0.7251302392843222,1.2461255873549406,0.5875088265864231,1.0495235692150846,0.833261349261243,1.128164376471027,1.0298633674010989,0.8529215510752285,0.7153001383773294,0.7251302392843222,-1.2573823932085548,-1.2672124941155474,-1.2475522923015618,0.7251302392843222,0.7939409456332718,0.734960340191315,-1.2967027968365261,1.0986740737500487,-1.139421182324641,0.8627516519822215,0.833261349261243,-1.2915620286378162,0.7841108447262789,0.926873025622888,0.7447904410983078,0.8627516519822215,1.0200332664941063,1.0003730646801205,-0.8346880542078646,1.079013871936063,-1.159081384138627,-1.1689114850456197,-1.2475522923015618,0.9905429637731278,-1.1787415859526127,-1.149251283231634,0.6614603011340822,-0.9376783959860755,0.8037710465402645,0.843091450168236,-0.9624793659987708,-1.0902706777896771,-1.050950274161706,0.6661496338423655,-0.5889355315330446,-1.1197609805106556,-1.4539844113484106,-1.1984017877665982,-1.2180619895805835,-0.9428191641847853,-1.0214599714407278,1.0396934683080916,0.7644506429122934,0.7841108447262789,0.7841108447262789,-0.16039576349047982,1.7631362635604402,1.1478245782850125,-1.149251283231634,0.8037710465402645,1.1431352455767294,-1.139421182324641,-1.1001007786966701,1.1831603100478654,1.576364346327577,0.7695914111110032,-1.2278920904875763,0.8037710465402645,-1.0312900723477205,-1.1885716868596052,0.8037710465402645,-1.139421182324641,-0.7607365796602052,1.0986740737500487,0.9217322574241782,0.9020720556101927,0.9610526610521495,-1.0064891023350253,-1.1295910814176484,-1.1689114850456197,-1.1099308796036629,-1.0804405768826846,-1.0411201732547133,0.882411853796207,-1.2180619895805835,0.7644506429122934,-1.1984017877665982,-1.1197609805106556,-1.1197609805106556,0.8529215510752285,1.0153439337858237,0.7546205420053007,1.2709265573676354,-1.149251283231634,-1.1984017877665982,-1.1637707168469098,1.0691837710290701,0.9512225601451567,1.1379944773780195,0.7447904410983078,1.226465385540955,-1.1001007786966701,-1.001799769626742,-1.060780375068699,-1.0804405768826846,0.7644506429122934,0.6956399365633438,-0.7462171460449296,0.8627516519822215,-0.9329890632777927,0.9217322574241782,0.7841108447262789,0.7153001383773294,0.7841108447262789,0.8037710465402645,-1.1689114850456197,1.079013871936063,-1.0804405768826846,0.882411853796207,-0.9723094669057637,0.8529215510752285,1.0986740737500487,1.0691837710290701,-1.2082318886735908,-1.0902706777896771,-1.001799769626742,1.025174034692816,-0.9624793659987708,1.064494438320787,-1.3898630377077443,0.9020720556101927,-1.2573823932085548,1.0003730646801205,0.6366593311213871,-1.2967027968365261,-1.2573823932085548,-0.9376783959860755,0.9020720556101927,-1.2278920904875763,0.9905429637731278,0.8037710465402645,-1.355683402278483,0.8234312483542502,-1.4685038449636871,0.8136011474472575,0.7153001383773294,-0.8000569832881764,0.8725817528892142,0.9217322574241782,0.9020720556101927,1.079013871936063,-1.2180619895805835,-0.927848295079083,0.9610526610521495,-1.1295910814176484,-0.9769987996140466,0.7742807438192861,1.0102031655871135,-0.9723094669057637,-0.9231589623707999,-0.2488666716534152,1.684495456304498,-1.0163192032420179,1.6943255572114906,-0.7115860751252412,0.9956837319718378,-1.4586737440566937,-0.6813911115610987,-0.7509064787532128,-1.104790111404953,-0.7902268823811837,1.1333051446697364,-1.0458095059629962,-1.0163192032420179,-1.2620717259168381,-0.18005596530446538,-1.1637707168469098,-0.927848295079083,-0.8983579923581044,-1.385173704999461,-0.23903657074642243,1.064494438320787,0.966193429250859,-0.7312462769392268,0.7153001383773294,0.6956399365633438,0.9020720556101927,-0.8740084578358358,0.9905429637731278,0.8725817528892142,1.0102031655871135,-1.0312900723477205,-1.149251283231634,-1.1689114850456197,-1.0214599714407278,-1.2475522923015618,-0.9428191641847853,0.9807128628661349,0.7251302392843222,-1.2868726959295336,0.9610526610521495,0.7054700374703367,0.9610526610521495,-1.2770425950225406,-0.9821395678127565,-1.0312900723477205,-0.815027852393879,0.833261349261243,-1.355683402278483,-1.2180619895805835,-1.060780375068699,-1.1787415859526127,0.7153001383773294,-1.2278920904875763,0.7742807438192861,0.9905429637731278,-1.2180619895805835,0.8529215510752285,0.8627516519822215,0.8529215510752285,-1.2770425950225406,0.8725817528892142,0.9807128628661349,-1.0458095059629962,0.7054700374703367,-1.050950274161706,-1.050950274161706,0.843091450168236,0.882411853796207,-1.4736446131623961,0.8234312483542502,0.7153001383773294,1.1379944773780195,-1.0214599714407278,0.7644506429122934,0.9610526610521495,0.9610526610521495,0.8922419547031999,0.941392459238164,0.8725817528892142,0.9807128628661349,0.7546205420053007,1.1038148419487583,0.9807128628661349,-0.8641783569288429,-1.0116298705337348,0.9610526610521495,-1.2475522923015618,-1.0411201732547133,0.7153001383773294,0.7153001383773294,0.7841108447262789,1.167484780098998,-1.1984017877665982,0.499037918423488,-0.9376783959860755,1.1234750437627437,-1.2325814231958594,-1.0163192032420179,-1.050950274161706,-1.1244503132189385,-1.2475522923015618,-1.0902706777896771,0.7054700374703367,0.8922419547031999,0.7939409456332718,-0.9821395678127565,0.6956399365633438,-0.913328861463807,-1.395003805906454,0.734960340191315,0.7054700374703367,0.5580185238654447,1.0102031655871135,-1.149251283231634,-0.913328861463807,-0.9723094669057637,0.8922419547031999,-0.8740084578358358,-0.9624793659987708,1.167484780098998,-1.159081384138627,0.6268292302143942,0.8725817528892142,-1.2573823932085548,0.7841108447262789,-0.5830901024911707,-1.0706104759756918,-1.001799769626742,-1.0116298705337348,0.7939409456332718,-1.1787415859526127,-1.2180619895805835,0.7939409456332718,-1.1197609805106556,0.8234312483542502,-1.2082318886735908,-0.7953676505798936,0.8627516519822215,0.7939409456332718,-1.1885716868596052,0.7742807438192861,-1.1099308796036629,-1.2180619895805835,-1.1001007786966701,-1.1001007786966701,-0.9081880932650972,-1.2180619895805835,0.7054700374703367,0.8678924201809312,-1.159081384138627,-1.1984017877665982,1.0986740737500487,0.8627516519822215,0.7939409456332718,-1.050950274161706,-1.1001007786966701,0.8529215510752285,0.8725817528892142,-1.149251283231634,-1.1885716868596052,0.7841108447262789,-1.1197609805106556,0.5186981202374735,-0.7410763778462197,-1.1441105150329243,-0.9376783959860755,0.6464894320283798,0.8529215510752285,-1.2475522923015618,0.7644506429122934,-1.2082318886735908,-1.1295910814176484,-0.9428191641847853,0.7939409456332718,0.5186981202374735,0.7153001383773294,1.079013871936063,-1.4638145122554036,-1.060780375068699,-1.385173704999461,0.8136011474472575,-1.149251283231634,-1.065469707776982,-0.9769987996140466,1.0350041355998088,1.6058546490485555,-0.859037588730133,-0.7017559742182484,0.5678486247724375,0.7939409456332718,-1.2180619895805835,0.7939409456332718,-1.0902706777896771,-0.9919696687197491,-1.1984017877665982,-0.8248579533008717,-0.927848295079083,1.1085041746570412,0.8627516519822215,0.8529215510752285,0.685809835656351,1.0691837710290701,1.1085041746570412,-0.8786977905441188,-0.8051977514868863,0.7054700374703367,-0.9376783959860755,0.8136011474472575,-0.859037588730133,-1.1885716868596052,0.9315623583311711,-1.1001007786966701,0.8234312483542502,-1.1637707168469098,-1.2475522923015618,-1.139421182324641,1.2316061537396643,-0.9180181941720897,-0.9671686987070541,1.1922857501116937,1.0841546401347726,-1.0949600104979604,1.4289128327226854,1.1824556492047007,-1.0804405768826846,-0.36682788253732906,1.7533061626534474,0.5186981202374735,-0.23434723803813934,-0.602750304305156,-0.829547286009155,1.0055138328788302,1.5370439426996059,1.4584031354436633,-1.1244503132189385,-0.26852687346740095,-1.2278920904875763,-0.602750304305156,0.7447904410983078,-1.159081384138627,0.8529215510752285,-1.0214599714407278,0.7054700374703367,-1.0411201732547133,1.0691837710290701,0.9512225601451567,1.2461255873549406,1.0691837710290701,0.833261349261243,-1.139421182324641,0.7447904410983078,-0.9526492650917782,-1.1787415859526127,-1.2573823932085548,-1.2278920904875763,-1.060780375068699,-1.2082318886735908,-0.9231589623707999,-1.1295910814176484,0.7546205420053007,0.8037710465402645,-1.2868726959295336,0.9708827619591422,-1.2082318886735908,-0.9231589623707999,1.1085041746570412,0.8234312483542502,-1.0214599714407278,0.8384021174599527,0.9956837319718378,-1.065469707776982,-0.7214161760322343,1.1726255482977077,-1.0752998086839745,1.0350041355998088,0.843091450168236,1.7336459608394619,1.064494438320787,-1.0064891023350253,0.8973827229019096,-1.2770425950225406,0.8580623192739384,0.8973827229019096,-0.9180181941720897,-0.8936686596498212,-0.3471676807233434,-1.0163192032420179,-0.8393773869161475,0.8777225210879238,1.2021158510186862,1.1234750437627437,-0.8983579923581044,1.7776556971757158,-0.9671686987070541,-1.0064891023350253,1.064494438320787,-1.0261493041490106,-1.173600817753903,-0.7214161760322343,0.5088680193304808,-1.2967027968365261,-1.2082318886735908,-1.159081384138627,1.0298633674010989,-0.9526492650917782,1.5272138417926129,1.4780633372576495,-0.7803967814741907,-0.9081880932650972,-0.5634299006771848,0.843091450168236,-0.8885278914511113,1.152965346483722,0.8627516519822215,-1.4736446131623961,0.7841108447262789,-0.9231589623707999,-0.9624793659987708,0.685809835656351,-1.2180619895805835,-1.0116298705337348,0.7644506429122934,-1.1099308796036629,0.8136011474472575,-1.1099308796036629,-0.9966590014280322,0.7546205420053007,-1.2180619895805835,-1.1787415859526127,0.9610526610521495,0.8234312483542502,1.0003730646801205,0.7447904410983078,0.7251302392843222,-1.159081384138627,-0.8543482560218502,1.0350041355998088,1.113644942855751,1.0200332664941063,0.8922419547031999,0.9119021565171854,-0.9376783959860755,-0.9034987605568142,0.8234312483542502,0.8482322183669451,-1.0312900723477205,1.0200332664941063,1.0003730646801205,0.7939409456332718,0.8725817528892142,-1.139421182324641,-0.9919696687197491,0.7841108447262789,1.211945951925679,-0.7607365796602052,-1.0312900723477205,-0.9475084968930685,1.025174034692816,-1.0458095059629962,-0.7502018179100478,0.7990817138319818,1.339737263716585,-1.0359794050560034,-0.44546868979327137,-0.5634299006771848,0.6024796956921258,-0.28818707528138654,-0.6125804052121486,-0.9723094669057637,-0.43563858888627843,-0.7509064787532128,0.9119021565171854,-1.060780375068699,0.8627516519822215,0.6759797347493582,1.0691837710290701,0.7251302392843222,0.7447904410983078,-1.2377221913945693,-1.2377221913945693,1.0298633674010989,1.1085041746570412,0.7644506429122934,0.6956399365633438,0.9708827619591422,0.9315623583311711,-1.3065328977435187,-1.2082318886735908,-1.2278920904875763,-0.9919696687197491,0.6366593311213871,-1.1197609805106556,-1.2770425950225406,0.8234312483542502,-1.2672124941155474,-1.4244941086274325,-1.0312900723477205,1.1478245782850125,0.7251302392843222,-1.355683402278483,-1.444154310441418,0.7742807438192861,-1.1197609805106556,-0.9034987605568142,0.8234312483542502,-1.3065328977435187,-0.7363870451379366,0.685809835656351,-1.1689114850456197,1.0495235692150846,0.882411853796207,-1.159081384138627,-1.149251283231634,1.0691837710290701,-1.0312900723477205,-0.913328861463807,0.7841108447262789,0.9315623583311711,-0.815027852393879,0.9119021565171854,0.9217322574241782,0.7841108447262789,0.7546205420053007,-1.1984017877665982,-0.9624793659987708,-0.8838385587428286,0.8136011474472575,0.6614603011340822,0.8037710465402645,0.6464894320283798,-1.1197609805106556,0.9020720556101927,1.0593536701220774,-0.8248579533008717,0.941392459238164,0.8627516519822215,0.8234312483542502,0.7939409456332718,-1.2377221913945693,0.7251302392843222,1.167484780098998,0.6759797347493582,-0.8641783569288429,0.9512225601451567,0.5776787256794303,-1.355683402278483,-0.9526492650917782,0.9807128628661349,-0.8641783569288429,-1.0312900723477205,-0.765877347858915,-0.8641783569288429,-0.8543482560218502,0.9020720556101927,0.833261349261243,-0.8936686596498212,1.31493629370389,-0.8936686596498212,0.833261349261243,1.2559556882619332,1.1085041746570412,-1.4146640077204395,0.833261349261243,1.1773148810059906,0.7841108447262789,0.9315623583311711,0.9807128628661349,1.0298633674010989,0.7251302392843222,-1.001799769626742,1.128164376471027,-1.2475522923015618,1.0495235692150846,0.7644506429122934,0.7447904410983078,-1.1001007786966701,0.6759797347493582,0.7841108447262789,0.9905429637731278,-1.050950274161706,0.9217322574241782,0.9807128628661349,0.7841108447262789,0.9905429637731278,-1.2770425950225406,-0.9624793659987708,-1.0214599714407278,-0.8740084578358358,0.8627516519822215,0.9315623583311711,-1.1197609805106556,1.0593536701220774,1.0003730646801205,1.0102031655871135,-1.149251283231634,-1.444154310441418,1.167484780098998,0.685809835656351,0.7644506429122934,-1.2180619895805835,-0.7953676505798936,-1.2278920904875763,0.9217322574241782,1.167484780098998,0.7742807438192861,-0.7560472469519223,-1.0902706777896771,0.9315623583311711,1.0200332664941063,0.9020720556101927,-1.139421182324641,-1.0804405768826846,0.8037710465402645,0.7644506429122934,-1.1001007786966701,0.8875526219949164,-1.4343242095344249,-1.2377221913945693,-1.050950274161706,-0.7167268433239512,-1.1001007786966701,-1.050950274161706,-1.2868726959295336,-1.0804405768826846,-1.1984017877665982,0.8037710465402645,0.734960340191315,-0.9919696687197491,-1.050950274161706,-1.1295910814176484,-1.2082318886735908,0.7939409456332718,-1.1295910814176484,0.685809835656351,-1.2573823932085548,-1.2180619895805835,-1.001799769626742,0.7153001383773294,-1.1001007786966701,-0.7803967814741907,0.9170429247158957,-1.3655135031854755,0.9512225601451567,0.9020720556101927,1.216635284633962,0.9610526610521495,-0.4061482861653003,-1.0458095059629962,1.0986740737500487,0.9217322574241782,0.882411853796207,-0.8346880542078646,0.9807128628661349,0.9610526610521495,-1.0312900723477205,-1.139421182324641,0.685809835656351,0.7054700374703367,0.9905429637731278,-1.2082318886735908,0.8529215510752285,0.9217322574241782,-0.8543482560218502,1.3051061927968972,0.7447904410983078,-1.139421182324641,0.833261349261243,0.6759797347493582,0.7447904410983078,-1.0458095059629962,0.5875088265864231,1.167484780098998,0.843091450168236,0.8037710465402645,-0.815027852393879,1.0200332664941063,-1.0804405768826846,0.8922419547031999,0.7153001383773294,0.8529215510752285,-1.0902706777896771,0.499037918423488,0.9512225601451567,0.9119021565171854,-1.1001007786966701,-0.9966590014280322,1.0200332664941063,-1.2278920904875763,-1.0411201732547133,0.7742807438192861,-1.0804405768826846,0.8037710465402645,0.833261349261243,0.7447904410983078,0.941392459238164,-1.159081384138627,0.9315623583311711,0.8037710465402645,0.7153001383773294,0.7251302392843222,0.9512225601451567,1.0495235692150846,-1.0411201732547133,0.7153001383773294,1.0495235692150846,1.0102031655871135,0.5088680193304808,-1.1001007786966701,0.9119021565171854,1.1183342755640342,-1.1885716868596052,-0.9821395678127565,0.6956399365633438,0.734960340191315,0.7054700374703367,-0.9821395678127565,-0.8543482560218502,-0.5044492952352277,0.9807128628661349,1.0495235692150846,0.9807128628661349,0.8529215510752285,0.8922419547031999,0.843091450168236,-1.1689114850456197,-1.1197609805106556,1.079013871936063,-1.3065328977435187,0.7939409456332718,-1.1787415859526127,0.941392459238164,-0.9231589623707999,-1.060780375068699,-1.2082318886735908,-0.9526492650917782,1.0396934683080916,-1.1099308796036629,0.7742807438192861,-1.1197609805106556,-1.0902706777896771,-0.9034987605568142,1.0003730646801205,0.6464894320283798,1.0448342365068015,0.9512225601451567,0.9807128628661349,-1.4638145122554036,0.7939409456332718,1.0003730646801205,-0.7855375496729006,0.5875088265864231,0.8136011474472575,-1.2180619895805835,1.0593536701220774,-1.0804405768826846,-1.2770425950225406,-1.1295910814176484,0.7841108447262789,0.7939409456332718,-1.060780375068699,-1.149251283231634,1.1379944773780195,-1.050950274161706,0.7841108447262789,0.9217322574241782,1.0495235692150846,0.941392459238164,1.0691837710290701,0.7644506429122934,0.685809835656351,0.8136011474472575,-1.1885716868596052,-0.8445181551148574,0.941392459238164,0.7644506429122934,-1.0214599714407278,0.6661496338423655,0.7447904410983078,0.8922419547031999,-0.9526492650917782,-1.2278920904875763,-1.0312900723477205,0.8627516519822215,-1.0312900723477205,0.7251302392843222,-0.9376783959860755,-1.1244503132189385,-1.0411201732547133,0.8234312483542502,-1.149251283231634,-1.1787415859526127,0.734960340191315,1.157654679192005,0.9905429637731278,0.8725817528892142,-1.1099308796036629,0.882411853796207,0.9610526610521495,1.0200332664941063,-1.395003805906454,0.7742807438192861,-1.1885716868596052,0.9807128628661349,1.0003730646801205,0.8922419547031999,-1.0411201732547133,0.8529215510752285,1.216635284633962,-1.0411201732547133,0.941392459238164,0.8234312483542502,-1.1001007786966701,0.8725817528892142,-1.159081384138627,-1.0214599714407278,0.9020720556101927,0.7644506429122934,1.0200332664941063,-1.2278920904875763,0.7644506429122934,-1.050950274161706,-0.9034987605568142,0.6661496338423655,-0.8543482560218502,-1.2377221913945693,0.9708827619591422,-0.9376783959860755,0.9512225601451567,0.7546205420053007,-0.815027852393879,-1.3655135031854755,-1.2967027968365261,0.8627516519822215,-1.001799769626742,-0.37665798344432183,-1.0804405768826846,1.0396934683080916,0.7251302392843222,0.7644506429122934,0.7054700374703367,0.7251302392843222,0.8037710465402645,0.9512225601451567,1.0298633674010989,-1.1787415859526127,-0.8641783569288429,-0.913328861463807,-0.9526492650917782,0.7644506429122934,-1.1001007786966701,1.1183342755640342,0.6268292302143942,0.9119021565171854,1.1478245782850125,-1.2672124941155474,1.0200332664941063,0.833261349261243,-1.2278920904875763,-0.8543482560218502,-0.9821395678127565,1.3051061927968972,-0.7462171460449296,0.9119021565171854,-1.1885716868596052,-0.7462171460449296,0.9807128628661349,-1.2180619895805835,0.8922419547031999,0.9807128628661349,1.0691837710290701,0.9315623583311711,0.9315623583311711,0.8037710465402645,-1.149251283231634,-1.404833906813447,-1.0163192032420179,-1.1787415859526127,1.113644942855751,-1.0902706777896771,0.6956399365633438,1.0495235692150846,-1.1885716868596052,0.8922419547031999,-1.0902706777896771,0.941392459238164,0.8529215510752285,0.9020720556101927,0.9119021565171854,-1.2967027968365261,0.8627516519822215,-1.1342804141259315,-1.1984017877665982,0.6563195329353727,-1.3655135031854755,-0.9428191641847853,0.685809835656351,0.9217322574241782,0.9217322574241782,-0.8885278914511113,0.6169991293074014,0.48920781751649506,0.734960340191315,-1.1295910814176484,-1.1295910814176484,0.9119021565171854,0.7841108447262789,0.7153001383773294,0.8234312483542502,0.9807128628661349,-0.8346880542078646,-1.0312900723477205,1.0055138328788302,0.9858536310648445,-1.159081384138627,-1.1197609805106556,0.7447904410983078,0.7841108447262789,0.833261349261243,0.9217322574241782,-1.139421182324641,-0.9723094669057637,1.152965346483722,0.9708827619591422,0.8136011474472575,0.8037710465402645,-1.0949600104979604,0.685809835656351,0.499037918423488,0.7447904410983078,-1.2967027968365261,-0.7363870451379366,-1.0706104759756918,0.8234312483542502,-1.1295910814176484,-0.9671686987070541,0.7054700374703367,0.8627516519822215,1.1773148810059906,-1.0902706777896771,-0.927848295079083,-1.0411201732547133,-0.9919696687197491,0.9020720556101927,-1.001799769626742,0.6956399365633438,-1.2573823932085548,-1.1295910814176484,0.9807128628661349,-1.139421182324641,-1.139421182324641,0.9905429637731278,-1.1689114850456197,-1.0261493041490106,0.7546205420053007,0.8136011474472575,-1.139421182324641,-1.1099308796036629,1.0200332664941063,-1.2082318886735908,0.8529215510752285,-1.1885716868596052,0.882411853796207,0.843091450168236,-1.1689114850456197,-1.0359794050560034,-0.8688676896371259,-1.395003805906454,-1.1885716868596052,1.2952760918899042,1.1431352455767294,1.0102031655871135,1.0350041355998088,-1.1342804141259315,-1.5078242485916575,-1.1689114850456197,0.9315623583311711,-1.1787415859526127,0.6956399365633438,0.7644506429122934,0.7251302392843222,0.9072128238089027,-0.44546868979327137,-0.41597838707229284,1.0055138328788302,-0.913328861463807,0.9020720556101927,0.7054700374703367,-1.1342804141259315,1.2414362546466573,-1.0902706777896771,0.7644506429122934,0.843091450168236,-1.1984017877665982,-0.7902268823811837,0.8136011474472575,0.8234312483542502,-1.1295910814176484,-1.4539844113484106,-1.0752998086839745,1.0939847410417656,0.9807128628661349,-1.104790111404953,-1.2868726959295336,-1.159081384138627,0.8136011474472575,-1.1197609805106556,0.8922419547031999,0.7447904410983078,-1.065469707776982,-0.9868289005210397,1.1333051446697364,-1.0359794050560034,-0.913328861463807,1.772966364467433,-0.39631818525830714,0.843091450168236,1.7139857590254761,-0.9723094669057637,1.0546643374137945,-1.4244941086274325,-1.065469707776982,-0.8885278914511113,0.8875526219949164,-1.104790111404953,-0.8000569832881764,-0.9081880932650972,-1.055639606869989,-0.9573385978000613,1.1234750437627437,-0.9475084968930685,-1.173600817753903,-1.0752998086839745,1.1431352455767294,1.1431352455767294,-0.8786977905441188,0.843091450168236,0.926873025622888,-0.9034987605568142,0.936703126529881,-0.8051977514868863,0.936703126529881,1.025174034692816,0.7695914111110032,0.8529215510752285,0.882411853796207,-0.9671686987070541,-1.1244503132189385,0.82857201655296,1.211945951925679,-0.9868289005210397,0.8136011474472575,0.7153001383773294,0.8627516519822215,0.7841108447262789,-0.8248579533008717,-1.0706104759756918,0.7447904410983078,1.157654679192005,1.2461255873549406,-1.0312900723477205,0.7153001383773294,-1.0411201732547133,-1.149251283231634,-1.1001007786966701,-1.1099308796036629,-1.159081384138627,-1.0312900723477205,1.1478245782850125,0.8234312483542502,-1.050950274161706,1.128164376471027,0.833261349261243,-1.159081384138627,-1.149251283231634,0.734960340191315,-1.1001007786966701,-1.1885716868596052,0.7546205420053007,-1.0214599714407278,-1.2180619895805835,0.685809835656351,0.7644506429122934,0.882411853796207,-1.1984017877665982,-0.9428191641847853,0.7251302392843222,0.8136011474472575,-1.2672124941155474,1.0691837710290701,-0.9428191641847853,0.7644506429122934,-0.8641783569288429,0.9315623583311711,-0.9526492650917782,0.685809835656351,-1.2377221913945693,0.941392459238164,0.6563195329353727,1.1379944773780195,-0.8936686596498212,0.5285282211444663,1.157654679192005,0.8136011474472575,-1.2967027968365261,0.7644506429122934,0.5088680193304808,0.6759797347493582,0.7251302392843222,-1.1689114850456197,-0.913328861463807,-0.2980171761883792,0.8627516519822215,-1.34585330137149,1.079013871936063,0.734960340191315,1.0593536701220774,1.216635284633962,-1.1295910814176484,0.941392459238164,0.9119021565171854,-1.1342804141259315,0.7546205420053007,-1.050950274161706,-1.0214599714407278,0.9807128628661349,-1.34585330137149,-1.0312900723477205,0.8234312483542502,0.8922419547031999,-0.9868289005210397,-1.0312900723477205,-1.2278920904875763,0.9020720556101927,0.9315623583311711,0.685809835656351,-1.139421182324641,0.48920781751649506,1.0200332664941063,0.734960340191315,0.9020720556101927,-0.8838385587428286,0.882411853796207,0.9119021565171854,1.0593536701220774,-1.0902706777896771,-0.913328861463807,0.9512225601451567,0.8922419547031999,1.0495235692150846,0.5285282211444663,-1.0312900723477205,-1.060780375068699,-1.3065328977435187,-1.4736446131623961,0.9119021565171854,1.216635284633962,0.7447904410983078,-1.0411201732547133,-1.159081384138627,0.941392459238164,1.079013871936063,0.8136011474472575,0.9807128628661349,0.9315623583311711,-1.2180619895805835,0.882411853796207,1.2316061537396643,0.9858536310648445,1.0546643374137945,0.9119021565171854,0.6464894320283798,0.8136011474472575,0.882411853796207,-1.050950274161706,0.7153001383773294,0.9858536310648445,0.941392459238164,0.882411853796207,-1.2377221913945693,0.9119021565171854,0.7447904410983078,0.7841108447262789,0.7546205420053007,1.0986740737500487,-0.8346880542078646,0.843091450168236,1.0593536701220774,-1.1885716868596052,-1.1295910814176484,0.8136011474472575,0.8627516519822215,0.8627516519822215,-1.139421182324641,0.7546205420053007,-1.149251283231634,-1.4539844113484106,-1.3261930995575046,0.6464894320283798,0.7644506429122934,1.0200332664941063,0.6464894320283798,-1.1984017877665982,-1.0706104759756918,-1.2377221913945693,-1.404833906813447,0.7644506429122934,1.0593536701220774,0.9020720556101927,0.8529215510752285,0.843091450168236,0.9905429637731278,-1.2180619895805835,0.734960340191315,-1.0116298705337348,-1.104790111404953,-0.8445181551148574,-1.1787415859526127,0.9217322574241782,1.0888439728430555,0.833261349261243,-0.8445181551148574,-1.3655135031854755,-1.0411201732547133,0.8037710465402645,-0.9329890632777927,0.8627516519822215,-1.149251283231634,0.8037710465402645,-1.4343242095344249,0.8922419547031999,0.8922419547031999,-1.159081384138627,-1.1197609805106556,1.1773148810059906,1.167484780098998,0.8725817528892142,0.9905429637731278,1.0003730646801205,1.128164376471027,1.0396934683080916,0.9512225601451567,-0.8445181551148574,0.8037710465402645,-1.444154310441418,-0.8936686596498212,0.8725817528892142,1.0986740737500487,1.079013871936063,0.7153001383773294,0.7447904410983078,0.7841108447262789,-1.2475522923015618,-0.9526492650917782,-1.2770425950225406,-1.0312900723477205,0.9020720556101927,-0.9034987605568142,-1.1099308796036629,-1.1295910814176484,0.7251302392843222,-0.8248579533008717,0.8136011474472575,0.9119021565171854,0.8725817528892142,0.8627516519822215,0.6759797347493582,0.7546205420053007,0.6661496338423655,0.7841108447262789,0.734960340191315,-1.2180619895805835,-1.149251283231634,-1.1099308796036629,0.9119021565171854,0.8037710465402645,-0.7953676505798936,0.9708827619591422,0.8627516519822215,1.0495235692150846,-1.0312900723477205,0.9217322574241782,0.9020720556101927,0.941392459238164,-0.913328861463807,0.8627516519822215,-1.1099308796036629,-1.1197609805106556,1.1085041746570412,-1.0116298705337348,-1.1295910814176484,-1.2082318886735908,-1.149251283231634,-1.1787415859526127,0.9315623583311711,1.0102031655871135,0.9119021565171854,1.0200332664941063,-1.2278920904875763,-1.3163629986505119,-1.2377221913945693,-1.0902706777896771,-1.0312900723477205,-1.444154310441418,0.7153001383773294,0.9020720556101927,-1.2180619895805835,-1.0902706777896771,-1.0312900723477205,-0.9231589623707999,-1.0706104759756918,0.8922419547031999,-1.2868726959295336,0.941392459238164,-0.8688676896371259,0.9315623583311711,0.882411853796207,0.6563195329353727,0.8725817528892142,-0.20954626802544438,0.7644506429122934,-0.9428191641847853,-1.0163192032420179,0.9020720556101927,0.9708827619591422,-0.913328861463807,-1.0804405768826846,-0.8838385587428286,0.8922419547031999,0.9708827619591422,0.8627516519822215,0.9807128628661349,0.9020720556101927,0.7251302392843222,-1.2180619895805835,1.0298633674010989,-1.2967027968365261,-1.0902706777896771,-1.1885716868596052,0.833261349261243,0.8037710465402645,0.7054700374703367,-0.9526492650917782,-1.2278920904875763,-1.0706104759756918,-0.8740084578358358,0.7644506429122934,1.0102031655871135,1.0396934683080916,-1.1197609805106556,0.8136011474472575,0.8725817528892142,-1.1099308796036629,-1.2672124941155474,0.7251302392843222,0.9858536310648445,-1.2868726959295336,-1.0804405768826846,-1.1244503132189385,-1.2672124941155474,-0.8543482560218502,0.8922419547031999,0.7742807438192861,-1.1689114850456197,-1.1689114850456197,0.843091450168236,1.0396934683080916,-1.2573823932085548,-1.1984017877665982,0.7447904410983078,-1.444154310441418,-0.8983579923581044,0.5088680193304808,-0.9180181941720897,-1.0411201732547133,-0.9180181941720897,-0.7902268823811837,-1.0359794050560034,0.734960340191315,0.7106108056690466,0.9170429247158957,1.0495235692150846,-1.0706104759756918,-0.829547286009155,-1.2573823932085548,1.0888439728430555,0.9807128628661349,-1.055639606869989,-0.9034987605568142,-1.001799769626742,-0.9821395678127565,-1.050950274161706,-1.1441105150329243,-0.5489104670619096,-0.9231589623707999,-0.9231589623707999,-1.2770425950225406,-1.1984017877665982,0.9807128628661349,1.0396934683080916,0.7939409456332718,-0.859037588730133,0.843091450168236,0.7644506429122934,-0.8786977905441188,-1.1295910814176484,-0.6231151669623061,-1.2129212213818739,1.064494438320787,1.684495456304498,-0.41597838707229284,1.6648352544905127,-0.927848295079083,1.8417770708163828,-0.8786977905441188,-1.2227513222888664,-1.0458095059629962,-1.153940615939917,-0.8393773869161475,-0.8983579923581044,-0.9180181941720897,-0.2488666716534152,0.9956837319718378,1.025174034692816,1.2316061537396643,1.0350041355998088,-0.829547286009155,1.0350041355998088,1.576364346327577,0.7251302392843222,-0.44546868979327137,-0.6820957724042628,-1.139421182324641,-0.9180181941720897,1.5173837408856203,1.3004168600886146,-0.815027852393879,1.0593536701220774,-1.159081384138627,0.833261349261243,0.6956399365633438,0.6956399365633438,-1.060780375068699,-1.0752998086839745,0.7644506429122934,0.843091450168236,0.7742807438192861,-0.7855375496729006,0.9610526610521495,0.9512225601451567,-1.139421182324641,-1.2377221913945693,0.9020720556101927,0.8627516519822215,0.7447904410983078,0.8627516519822215,-1.149251283231634,-1.4244941086274325,-1.001799769626742,0.843091450168236,0.7939409456332718,0.8037710465402645,0.9315623583311711,-0.9329890632777927,-1.139421182324641,1.1773148810059906,-0.9624793659987708,-0.7167268433239512,-1.1885716868596052,-1.0902706777896771,0.7447904410983078,0.9119021565171854,-0.9624793659987708,-1.1885716868596052,-1.2377221913945693,-0.8740084578358358,-1.149251283231634,-0.7855375496729006,-1.3261930995575046,-1.050950274161706,0.734960340191315,-0.9526492650917782,-1.1885716868596052,1.0200332664941063,-1.0804405768826846,-0.9526492650917782,-1.2475522923015618,1.0986740737500487,-0.9723094669057637,-0.9821395678127565,1.221776052832672,0.499037918423488,-1.2278920904875763,1.167484780098998,1.0888439728430555,0.9119021565171854,1.0691837710290701,0.833261349261243,1.0200332664941063,-1.1001007786966701,1.128164376471027,-1.0116298705337348,-1.149251283231634,0.6563195329353727,-0.9919696687197491,0.6661496338423655,0.833261349261243,1.1183342755640342,-1.1787415859526127,-1.0902706777896771,0.5088680193304808,0.9905429637731278,-0.913328861463807,0.7054700374703367,-1.159081384138627,-0.9624793659987708,0.9905429637731278,0.7153001383773294,0.8234312483542502,0.8725817528892142,0.7447904410983078,0.48920781751649506,0.6268292302143942,-1.0804405768826846,1.2362954864479474,-1.0902706777896771,-1.3065328977435187,0.7447904410983078,0.7939409456332718,0.9315623583311711,1.1871449819129838,0.7251302392843222,0.7447904410983078,0.6759797347493582,0.9217322574241782,-1.050950274161706,-1.0706104759756918,-1.4343242095344249,0.7251302392843222,-1.2573823932085548,0.8037710465402645,-1.1197609805106556,0.6071690284004087,-0.8051977514868863,0.9119021565171854,-0.9821395678127565,-1.1295910814176484,1.128164376471027,0.6169991293074014,-1.2377221913945693,0.941392459238164,-1.149251283231634,-1.2672124941155474,0.9905429637731278,-1.050950274161706,1.0153439337858237,0.9905429637731278,0.7251302392843222,-0.815027852393879,1.655005153583519,-0.3373375798163505,1.0102031655871135,-0.8098870841951693,-1.2377221913945693,0.6661496338423655,0.8627516519822215,0.6169991293074014,0.7251302392843222,1.0200332664941063,0.8529215510752285,0.8922419547031999,-0.9231589623707999,0.9807128628661349,-0.913328861463807,-1.1295910814176484,0.7251302392843222,-1.2082318886735908,0.8922419547031999,0.7644506429122934,0.9020720556101927,-0.8838385587428286,-1.149251283231634,1.0102031655871135,0.8627516519822215,0.7644506429122934,1.0298633674010989,-0.9428191641847853,0.9610526610521495,1.0743245392277796,-0.9526492650917782,0.7939409456332718,-0.9723094669057637,0.7447904410983078,0.8037710465402645,-0.7560472469519223,-1.0411201732547133,-1.0116298705337348,-0.8838385587428286,-0.913328861463807,0.7841108447262789,0.833261349261243,-1.2672124941155474,1.2657857891689261,0.9119021565171854,-1.2082318886735908,0.833261349261243,-0.9034987605568142,1.1478245782850125,-1.1197609805106556,0.7841108447262789,0.6759797347493582,-1.1197609805106556,-1.2475522923015618,0.8725817528892142,-1.2573823932085548,1.0986740737500487,1.0448342365068015,0.7841108447262789,1.0396934683080916,1.0200332664941063,-0.9034987605568142,0.833261349261243,1.0102031655871135,-0.8740084578358358,0.9020720556101927,-1.0411201732547133,-1.1099308796036629,-1.0116298705337348,-1.1885716868596052,-1.2377221913945693,1.3542566973318613,-1.4638145122554036,0.9413924592381638,0.7153001383773294,0.8234312483542504,-0.7855375496729006,-0.8150278523938791],\"yaxis\":\"y\",\"type\":\"scattergl\"}],                        {\"template\":{\"data\":{\"bar\":[{\"error_x\":{\"color\":\"#2a3f5f\"},\"error_y\":{\"color\":\"#2a3f5f\"},\"marker\":{\"line\":{\"color\":\"#E5ECF6\",\"width\":0.5},\"pattern\":{\"fillmode\":\"overlay\",\"size\":10,\"solidity\":0.2}},\"type\":\"bar\"}],\"barpolar\":[{\"marker\":{\"line\":{\"color\":\"#E5ECF6\",\"width\":0.5},\"pattern\":{\"fillmode\":\"overlay\",\"size\":10,\"solidity\":0.2}},\"type\":\"barpolar\"}],\"carpet\":[{\"aaxis\":{\"endlinecolor\":\"#2a3f5f\",\"gridcolor\":\"white\",\"linecolor\":\"white\",\"minorgridcolor\":\"white\",\"startlinecolor\":\"#2a3f5f\"},\"baxis\":{\"endlinecolor\":\"#2a3f5f\",\"gridcolor\":\"white\",\"linecolor\":\"white\",\"minorgridcolor\":\"white\",\"startlinecolor\":\"#2a3f5f\"},\"type\":\"carpet\"}],\"choropleth\":[{\"colorbar\":{\"outlinewidth\":0,\"ticks\":\"\"},\"type\":\"choropleth\"}],\"contour\":[{\"colorbar\":{\"outlinewidth\":0,\"ticks\":\"\"},\"colorscale\":[[0.0,\"#0d0887\"],[0.1111111111111111,\"#46039f\"],[0.2222222222222222,\"#7201a8\"],[0.3333333333333333,\"#9c179e\"],[0.4444444444444444,\"#bd3786\"],[0.5555555555555556,\"#d8576b\"],[0.6666666666666666,\"#ed7953\"],[0.7777777777777778,\"#fb9f3a\"],[0.8888888888888888,\"#fdca26\"],[1.0,\"#f0f921\"]],\"type\":\"contour\"}],\"contourcarpet\":[{\"colorbar\":{\"outlinewidth\":0,\"ticks\":\"\"},\"type\":\"contourcarpet\"}],\"heatmap\":[{\"colorbar\":{\"outlinewidth\":0,\"ticks\":\"\"},\"colorscale\":[[0.0,\"#0d0887\"],[0.1111111111111111,\"#46039f\"],[0.2222222222222222,\"#7201a8\"],[0.3333333333333333,\"#9c179e\"],[0.4444444444444444,\"#bd3786\"],[0.5555555555555556,\"#d8576b\"],[0.6666666666666666,\"#ed7953\"],[0.7777777777777778,\"#fb9f3a\"],[0.8888888888888888,\"#fdca26\"],[1.0,\"#f0f921\"]],\"type\":\"heatmap\"}],\"heatmapgl\":[{\"colorbar\":{\"outlinewidth\":0,\"ticks\":\"\"},\"colorscale\":[[0.0,\"#0d0887\"],[0.1111111111111111,\"#46039f\"],[0.2222222222222222,\"#7201a8\"],[0.3333333333333333,\"#9c179e\"],[0.4444444444444444,\"#bd3786\"],[0.5555555555555556,\"#d8576b\"],[0.6666666666666666,\"#ed7953\"],[0.7777777777777778,\"#fb9f3a\"],[0.8888888888888888,\"#fdca26\"],[1.0,\"#f0f921\"]],\"type\":\"heatmapgl\"}],\"histogram\":[{\"marker\":{\"pattern\":{\"fillmode\":\"overlay\",\"size\":10,\"solidity\":0.2}},\"type\":\"histogram\"}],\"histogram2d\":[{\"colorbar\":{\"outlinewidth\":0,\"ticks\":\"\"},\"colorscale\":[[0.0,\"#0d0887\"],[0.1111111111111111,\"#46039f\"],[0.2222222222222222,\"#7201a8\"],[0.3333333333333333,\"#9c179e\"],[0.4444444444444444,\"#bd3786\"],[0.5555555555555556,\"#d8576b\"],[0.6666666666666666,\"#ed7953\"],[0.7777777777777778,\"#fb9f3a\"],[0.8888888888888888,\"#fdca26\"],[1.0,\"#f0f921\"]],\"type\":\"histogram2d\"}],\"histogram2dcontour\":[{\"colorbar\":{\"outlinewidth\":0,\"ticks\":\"\"},\"colorscale\":[[0.0,\"#0d0887\"],[0.1111111111111111,\"#46039f\"],[0.2222222222222222,\"#7201a8\"],[0.3333333333333333,\"#9c179e\"],[0.4444444444444444,\"#bd3786\"],[0.5555555555555556,\"#d8576b\"],[0.6666666666666666,\"#ed7953\"],[0.7777777777777778,\"#fb9f3a\"],[0.8888888888888888,\"#fdca26\"],[1.0,\"#f0f921\"]],\"type\":\"histogram2dcontour\"}],\"mesh3d\":[{\"colorbar\":{\"outlinewidth\":0,\"ticks\":\"\"},\"type\":\"mesh3d\"}],\"parcoords\":[{\"line\":{\"colorbar\":{\"outlinewidth\":0,\"ticks\":\"\"}},\"type\":\"parcoords\"}],\"pie\":[{\"automargin\":true,\"type\":\"pie\"}],\"scatter\":[{\"marker\":{\"colorbar\":{\"outlinewidth\":0,\"ticks\":\"\"}},\"type\":\"scatter\"}],\"scatter3d\":[{\"line\":{\"colorbar\":{\"outlinewidth\":0,\"ticks\":\"\"}},\"marker\":{\"colorbar\":{\"outlinewidth\":0,\"ticks\":\"\"}},\"type\":\"scatter3d\"}],\"scattercarpet\":[{\"marker\":{\"colorbar\":{\"outlinewidth\":0,\"ticks\":\"\"}},\"type\":\"scattercarpet\"}],\"scattergeo\":[{\"marker\":{\"colorbar\":{\"outlinewidth\":0,\"ticks\":\"\"}},\"type\":\"scattergeo\"}],\"scattergl\":[{\"marker\":{\"colorbar\":{\"outlinewidth\":0,\"ticks\":\"\"}},\"type\":\"scattergl\"}],\"scattermapbox\":[{\"marker\":{\"colorbar\":{\"outlinewidth\":0,\"ticks\":\"\"}},\"type\":\"scattermapbox\"}],\"scatterpolar\":[{\"marker\":{\"colorbar\":{\"outlinewidth\":0,\"ticks\":\"\"}},\"type\":\"scatterpolar\"}],\"scatterpolargl\":[{\"marker\":{\"colorbar\":{\"outlinewidth\":0,\"ticks\":\"\"}},\"type\":\"scatterpolargl\"}],\"scatterternary\":[{\"marker\":{\"colorbar\":{\"outlinewidth\":0,\"ticks\":\"\"}},\"type\":\"scatterternary\"}],\"surface\":[{\"colorbar\":{\"outlinewidth\":0,\"ticks\":\"\"},\"colorscale\":[[0.0,\"#0d0887\"],[0.1111111111111111,\"#46039f\"],[0.2222222222222222,\"#7201a8\"],[0.3333333333333333,\"#9c179e\"],[0.4444444444444444,\"#bd3786\"],[0.5555555555555556,\"#d8576b\"],[0.6666666666666666,\"#ed7953\"],[0.7777777777777778,\"#fb9f3a\"],[0.8888888888888888,\"#fdca26\"],[1.0,\"#f0f921\"]],\"type\":\"surface\"}],\"table\":[{\"cells\":{\"fill\":{\"color\":\"#EBF0F8\"},\"line\":{\"color\":\"white\"}},\"header\":{\"fill\":{\"color\":\"#C8D4E3\"},\"line\":{\"color\":\"white\"}},\"type\":\"table\"}]},\"layout\":{\"annotationdefaults\":{\"arrowcolor\":\"#2a3f5f\",\"arrowhead\":0,\"arrowwidth\":1},\"autotypenumbers\":\"strict\",\"coloraxis\":{\"colorbar\":{\"outlinewidth\":0,\"ticks\":\"\"}},\"colorscale\":{\"diverging\":[[0,\"#8e0152\"],[0.1,\"#c51b7d\"],[0.2,\"#de77ae\"],[0.3,\"#f1b6da\"],[0.4,\"#fde0ef\"],[0.5,\"#f7f7f7\"],[0.6,\"#e6f5d0\"],[0.7,\"#b8e186\"],[0.8,\"#7fbc41\"],[0.9,\"#4d9221\"],[1,\"#276419\"]],\"sequential\":[[0.0,\"#0d0887\"],[0.1111111111111111,\"#46039f\"],[0.2222222222222222,\"#7201a8\"],[0.3333333333333333,\"#9c179e\"],[0.4444444444444444,\"#bd3786\"],[0.5555555555555556,\"#d8576b\"],[0.6666666666666666,\"#ed7953\"],[0.7777777777777778,\"#fb9f3a\"],[0.8888888888888888,\"#fdca26\"],[1.0,\"#f0f921\"]],\"sequentialminus\":[[0.0,\"#0d0887\"],[0.1111111111111111,\"#46039f\"],[0.2222222222222222,\"#7201a8\"],[0.3333333333333333,\"#9c179e\"],[0.4444444444444444,\"#bd3786\"],[0.5555555555555556,\"#d8576b\"],[0.6666666666666666,\"#ed7953\"],[0.7777777777777778,\"#fb9f3a\"],[0.8888888888888888,\"#fdca26\"],[1.0,\"#f0f921\"]]},\"colorway\":[\"#636efa\",\"#EF553B\",\"#00cc96\",\"#ab63fa\",\"#FFA15A\",\"#19d3f3\",\"#FF6692\",\"#B6E880\",\"#FF97FF\",\"#FECB52\"],\"font\":{\"color\":\"#2a3f5f\"},\"geo\":{\"bgcolor\":\"white\",\"lakecolor\":\"white\",\"landcolor\":\"#E5ECF6\",\"showlakes\":true,\"showland\":true,\"subunitcolor\":\"white\"},\"hoverlabel\":{\"align\":\"left\"},\"hovermode\":\"closest\",\"mapbox\":{\"style\":\"light\"},\"paper_bgcolor\":\"white\",\"plot_bgcolor\":\"#E5ECF6\",\"polar\":{\"angularaxis\":{\"gridcolor\":\"white\",\"linecolor\":\"white\",\"ticks\":\"\"},\"bgcolor\":\"#E5ECF6\",\"radialaxis\":{\"gridcolor\":\"white\",\"linecolor\":\"white\",\"ticks\":\"\"}},\"scene\":{\"xaxis\":{\"backgroundcolor\":\"#E5ECF6\",\"gridcolor\":\"white\",\"gridwidth\":2,\"linecolor\":\"white\",\"showbackground\":true,\"ticks\":\"\",\"zerolinecolor\":\"white\"},\"yaxis\":{\"backgroundcolor\":\"#E5ECF6\",\"gridcolor\":\"white\",\"gridwidth\":2,\"linecolor\":\"white\",\"showbackground\":true,\"ticks\":\"\",\"zerolinecolor\":\"white\"},\"zaxis\":{\"backgroundcolor\":\"#E5ECF6\",\"gridcolor\":\"white\",\"gridwidth\":2,\"linecolor\":\"white\",\"showbackground\":true,\"ticks\":\"\",\"zerolinecolor\":\"white\"}},\"shapedefaults\":{\"line\":{\"color\":\"#2a3f5f\"}},\"ternary\":{\"aaxis\":{\"gridcolor\":\"white\",\"linecolor\":\"white\",\"ticks\":\"\"},\"baxis\":{\"gridcolor\":\"white\",\"linecolor\":\"white\",\"ticks\":\"\"},\"bgcolor\":\"#E5ECF6\",\"caxis\":{\"gridcolor\":\"white\",\"linecolor\":\"white\",\"ticks\":\"\"}},\"title\":{\"x\":0.05},\"xaxis\":{\"automargin\":true,\"gridcolor\":\"white\",\"linecolor\":\"white\",\"ticks\":\"\",\"title\":{\"standoff\":15},\"zerolinecolor\":\"white\",\"zerolinewidth\":2},\"yaxis\":{\"automargin\":true,\"gridcolor\":\"white\",\"linecolor\":\"white\",\"ticks\":\"\",\"title\":{\"standoff\":15},\"zerolinecolor\":\"white\",\"zerolinewidth\":2}}},\"xaxis\":{\"anchor\":\"y\",\"domain\":[0.0,1.0],\"title\":{\"text\":\"x\"}},\"yaxis\":{\"anchor\":\"x\",\"domain\":[0.0,1.0],\"title\":{\"text\":\"y\"}},\"coloraxis\":{\"colorbar\":{\"title\":{\"text\":\"color\"}},\"colorscale\":[[0.0,\"#0d0887\"],[0.1111111111111111,\"#46039f\"],[0.2222222222222222,\"#7201a8\"],[0.3333333333333333,\"#9c179e\"],[0.4444444444444444,\"#bd3786\"],[0.5555555555555556,\"#d8576b\"],[0.6666666666666666,\"#ed7953\"],[0.7777777777777778,\"#fb9f3a\"],[0.8888888888888888,\"#fdca26\"],[1.0,\"#f0f921\"]]},\"legend\":{\"tracegroupgap\":0},\"margin\":{\"t\":60},\"title\":{\"text\":\"Agrupamento Hier\\u00e1rquico\"},\"width\":800,\"height\":500},                        {\"responsive\": true}                    ).then(function(){\n",
              "                            \n",
              "var gd = document.getElementById('0afbe7a3-9c2c-41aa-90a5-5c59fca7b0e7');\n",
              "var x = new MutationObserver(function (mutations, observer) {{\n",
              "        var display = window.getComputedStyle(gd).display;\n",
              "        if (!display || display === 'none') {{\n",
              "            console.log([gd, 'removed!']);\n",
              "            Plotly.purge(gd);\n",
              "            observer.disconnect();\n",
              "        }}\n",
              "}});\n",
              "\n",
              "// Listen for the removal of the full notebook cells\n",
              "var notebookContainer = gd.closest('#notebook-container');\n",
              "if (notebookContainer) {{\n",
              "    x.observe(notebookContainer, {childList: true});\n",
              "}}\n",
              "\n",
              "// Listen for the clearing of the current output cell\n",
              "var outputEl = gd.closest('.output');\n",
              "if (outputEl) {{\n",
              "    x.observe(outputEl, {childList: true});\n",
              "}}\n",
              "\n",
              "                        })                };                            </script>        </div>\n",
              "</body>\n",
              "</html>"
            ]
          },
          "metadata": {}
        }
      ]
    },
    {
      "cell_type": "markdown",
      "source": [
        "**Agrupamento**"
      ],
      "metadata": {
        "id": "1hIOXXiSPbKd"
      }
    },
    {
      "cell_type": "code",
      "source": [
        "agrupamento = pd.DataFrame(classificacao, columns = ['Grupo2'])\n",
        "agrupamento"
      ],
      "metadata": {
        "colab": {
          "base_uri": "https://localhost:8080/",
          "height": 424
        },
        "id": "hjI5bz5kSbpo",
        "outputId": "0abc5ad5-6494-40d6-d56a-96c3a079c978"
      },
      "execution_count": 248,
      "outputs": [
        {
          "output_type": "execute_result",
          "data": {
            "text/plain": [
              "      Grupo2\n",
              "0          0\n",
              "1          0\n",
              "2          0\n",
              "3          0\n",
              "4          0\n",
              "...      ...\n",
              "5898       0\n",
              "5899       0\n",
              "5900       0\n",
              "5901       0\n",
              "5902       0\n",
              "\n",
              "[5903 rows x 1 columns]"
            ],
            "text/html": [
              "\n",
              "  <div id=\"df-33bacb67-03c2-4db6-bb1c-a945b6c3f25d\">\n",
              "    <div class=\"colab-df-container\">\n",
              "      <div>\n",
              "<style scoped>\n",
              "    .dataframe tbody tr th:only-of-type {\n",
              "        vertical-align: middle;\n",
              "    }\n",
              "\n",
              "    .dataframe tbody tr th {\n",
              "        vertical-align: top;\n",
              "    }\n",
              "\n",
              "    .dataframe thead th {\n",
              "        text-align: right;\n",
              "    }\n",
              "</style>\n",
              "<table border=\"1\" class=\"dataframe\">\n",
              "  <thead>\n",
              "    <tr style=\"text-align: right;\">\n",
              "      <th></th>\n",
              "      <th>Grupo2</th>\n",
              "    </tr>\n",
              "  </thead>\n",
              "  <tbody>\n",
              "    <tr>\n",
              "      <th>0</th>\n",
              "      <td>0</td>\n",
              "    </tr>\n",
              "    <tr>\n",
              "      <th>1</th>\n",
              "      <td>0</td>\n",
              "    </tr>\n",
              "    <tr>\n",
              "      <th>2</th>\n",
              "      <td>0</td>\n",
              "    </tr>\n",
              "    <tr>\n",
              "      <th>3</th>\n",
              "      <td>0</td>\n",
              "    </tr>\n",
              "    <tr>\n",
              "      <th>4</th>\n",
              "      <td>0</td>\n",
              "    </tr>\n",
              "    <tr>\n",
              "      <th>...</th>\n",
              "      <td>...</td>\n",
              "    </tr>\n",
              "    <tr>\n",
              "      <th>5898</th>\n",
              "      <td>0</td>\n",
              "    </tr>\n",
              "    <tr>\n",
              "      <th>5899</th>\n",
              "      <td>0</td>\n",
              "    </tr>\n",
              "    <tr>\n",
              "      <th>5900</th>\n",
              "      <td>0</td>\n",
              "    </tr>\n",
              "    <tr>\n",
              "      <th>5901</th>\n",
              "      <td>0</td>\n",
              "    </tr>\n",
              "    <tr>\n",
              "      <th>5902</th>\n",
              "      <td>0</td>\n",
              "    </tr>\n",
              "  </tbody>\n",
              "</table>\n",
              "<p>5903 rows × 1 columns</p>\n",
              "</div>\n",
              "      <button class=\"colab-df-convert\" onclick=\"convertToInteractive('df-33bacb67-03c2-4db6-bb1c-a945b6c3f25d')\"\n",
              "              title=\"Convert this dataframe to an interactive table.\"\n",
              "              style=\"display:none;\">\n",
              "        \n",
              "  <svg xmlns=\"http://www.w3.org/2000/svg\" height=\"24px\"viewBox=\"0 0 24 24\"\n",
              "       width=\"24px\">\n",
              "    <path d=\"M0 0h24v24H0V0z\" fill=\"none\"/>\n",
              "    <path d=\"M18.56 5.44l.94 2.06.94-2.06 2.06-.94-2.06-.94-.94-2.06-.94 2.06-2.06.94zm-11 1L8.5 8.5l.94-2.06 2.06-.94-2.06-.94L8.5 2.5l-.94 2.06-2.06.94zm10 10l.94 2.06.94-2.06 2.06-.94-2.06-.94-.94-2.06-.94 2.06-2.06.94z\"/><path d=\"M17.41 7.96l-1.37-1.37c-.4-.4-.92-.59-1.43-.59-.52 0-1.04.2-1.43.59L10.3 9.45l-7.72 7.72c-.78.78-.78 2.05 0 2.83L4 21.41c.39.39.9.59 1.41.59.51 0 1.02-.2 1.41-.59l7.78-7.78 2.81-2.81c.8-.78.8-2.07 0-2.86zM5.41 20L4 18.59l7.72-7.72 1.47 1.35L5.41 20z\"/>\n",
              "  </svg>\n",
              "      </button>\n",
              "      \n",
              "  <style>\n",
              "    .colab-df-container {\n",
              "      display:flex;\n",
              "      flex-wrap:wrap;\n",
              "      gap: 12px;\n",
              "    }\n",
              "\n",
              "    .colab-df-convert {\n",
              "      background-color: #E8F0FE;\n",
              "      border: none;\n",
              "      border-radius: 50%;\n",
              "      cursor: pointer;\n",
              "      display: none;\n",
              "      fill: #1967D2;\n",
              "      height: 32px;\n",
              "      padding: 0 0 0 0;\n",
              "      width: 32px;\n",
              "    }\n",
              "\n",
              "    .colab-df-convert:hover {\n",
              "      background-color: #E2EBFA;\n",
              "      box-shadow: 0px 1px 2px rgba(60, 64, 67, 0.3), 0px 1px 3px 1px rgba(60, 64, 67, 0.15);\n",
              "      fill: #174EA6;\n",
              "    }\n",
              "\n",
              "    [theme=dark] .colab-df-convert {\n",
              "      background-color: #3B4455;\n",
              "      fill: #D2E3FC;\n",
              "    }\n",
              "\n",
              "    [theme=dark] .colab-df-convert:hover {\n",
              "      background-color: #434B5C;\n",
              "      box-shadow: 0px 1px 3px 1px rgba(0, 0, 0, 0.15);\n",
              "      filter: drop-shadow(0px 1px 2px rgba(0, 0, 0, 0.3));\n",
              "      fill: #FFFFFF;\n",
              "    }\n",
              "  </style>\n",
              "\n",
              "      <script>\n",
              "        const buttonEl =\n",
              "          document.querySelector('#df-33bacb67-03c2-4db6-bb1c-a945b6c3f25d button.colab-df-convert');\n",
              "        buttonEl.style.display =\n",
              "          google.colab.kernel.accessAllowed ? 'block' : 'none';\n",
              "\n",
              "        async function convertToInteractive(key) {\n",
              "          const element = document.querySelector('#df-33bacb67-03c2-4db6-bb1c-a945b6c3f25d');\n",
              "          const dataTable =\n",
              "            await google.colab.kernel.invokeFunction('convertToInteractive',\n",
              "                                                     [key], {});\n",
              "          if (!dataTable) return;\n",
              "\n",
              "          const docLinkHtml = 'Like what you see? Visit the ' +\n",
              "            '<a target=\"_blank\" href=https://colab.research.google.com/notebooks/data_table.ipynb>data table notebook</a>'\n",
              "            + ' to learn more about interactive tables.';\n",
              "          element.innerHTML = '';\n",
              "          dataTable['output_type'] = 'display_data';\n",
              "          await google.colab.output.renderOutput(dataTable, element);\n",
              "          const docLink = document.createElement('div');\n",
              "          docLink.innerHTML = docLinkHtml;\n",
              "          element.appendChild(docLink);\n",
              "        }\n",
              "      </script>\n",
              "    </div>\n",
              "  </div>\n",
              "  "
            ]
          },
          "metadata": {},
          "execution_count": 248
        }
      ]
    },
    {
      "cell_type": "code",
      "source": [
        "df_hc = pd.concat([df2, agrupamento],axis=1)\n",
        "df_hc"
      ],
      "metadata": {
        "colab": {
          "base_uri": "https://localhost:8080/",
          "height": 424
        },
        "id": "NQtAYBeoSfdK",
        "outputId": "4adf0c43-9711-421e-ba77-6df962c4d7ef"
      },
      "execution_count": 249,
      "outputs": [
        {
          "output_type": "execute_result",
          "data": {
            "text/plain": [
              "      IDADE  SEXO  INTERNADO  STATUS  Grupo  Grupo2\n",
              "0        54     1          0       0      1       0\n",
              "1        15     1          0       0      1       0\n",
              "2        43     1          0       0      1       0\n",
              "3        25     0          0       0      0       0\n",
              "4        58     1          0       0      1       0\n",
              "...     ...   ...        ...     ...    ...     ...\n",
              "5898     46     0          0       0      0       0\n",
              "5899     23     0          0       0      0       0\n",
              "5900     34     0          0       0      0       0\n",
              "5901     70     1          0       0      1       0\n",
              "5902     67     1          0       0      1       0\n",
              "\n",
              "[5903 rows x 6 columns]"
            ],
            "text/html": [
              "\n",
              "  <div id=\"df-9a9a38a4-4770-4643-8145-9cfc59f33416\">\n",
              "    <div class=\"colab-df-container\">\n",
              "      <div>\n",
              "<style scoped>\n",
              "    .dataframe tbody tr th:only-of-type {\n",
              "        vertical-align: middle;\n",
              "    }\n",
              "\n",
              "    .dataframe tbody tr th {\n",
              "        vertical-align: top;\n",
              "    }\n",
              "\n",
              "    .dataframe thead th {\n",
              "        text-align: right;\n",
              "    }\n",
              "</style>\n",
              "<table border=\"1\" class=\"dataframe\">\n",
              "  <thead>\n",
              "    <tr style=\"text-align: right;\">\n",
              "      <th></th>\n",
              "      <th>IDADE</th>\n",
              "      <th>SEXO</th>\n",
              "      <th>INTERNADO</th>\n",
              "      <th>STATUS</th>\n",
              "      <th>Grupo</th>\n",
              "      <th>Grupo2</th>\n",
              "    </tr>\n",
              "  </thead>\n",
              "  <tbody>\n",
              "    <tr>\n",
              "      <th>0</th>\n",
              "      <td>54</td>\n",
              "      <td>1</td>\n",
              "      <td>0</td>\n",
              "      <td>0</td>\n",
              "      <td>1</td>\n",
              "      <td>0</td>\n",
              "    </tr>\n",
              "    <tr>\n",
              "      <th>1</th>\n",
              "      <td>15</td>\n",
              "      <td>1</td>\n",
              "      <td>0</td>\n",
              "      <td>0</td>\n",
              "      <td>1</td>\n",
              "      <td>0</td>\n",
              "    </tr>\n",
              "    <tr>\n",
              "      <th>2</th>\n",
              "      <td>43</td>\n",
              "      <td>1</td>\n",
              "      <td>0</td>\n",
              "      <td>0</td>\n",
              "      <td>1</td>\n",
              "      <td>0</td>\n",
              "    </tr>\n",
              "    <tr>\n",
              "      <th>3</th>\n",
              "      <td>25</td>\n",
              "      <td>0</td>\n",
              "      <td>0</td>\n",
              "      <td>0</td>\n",
              "      <td>0</td>\n",
              "      <td>0</td>\n",
              "    </tr>\n",
              "    <tr>\n",
              "      <th>4</th>\n",
              "      <td>58</td>\n",
              "      <td>1</td>\n",
              "      <td>0</td>\n",
              "      <td>0</td>\n",
              "      <td>1</td>\n",
              "      <td>0</td>\n",
              "    </tr>\n",
              "    <tr>\n",
              "      <th>...</th>\n",
              "      <td>...</td>\n",
              "      <td>...</td>\n",
              "      <td>...</td>\n",
              "      <td>...</td>\n",
              "      <td>...</td>\n",
              "      <td>...</td>\n",
              "    </tr>\n",
              "    <tr>\n",
              "      <th>5898</th>\n",
              "      <td>46</td>\n",
              "      <td>0</td>\n",
              "      <td>0</td>\n",
              "      <td>0</td>\n",
              "      <td>0</td>\n",
              "      <td>0</td>\n",
              "    </tr>\n",
              "    <tr>\n",
              "      <th>5899</th>\n",
              "      <td>23</td>\n",
              "      <td>0</td>\n",
              "      <td>0</td>\n",
              "      <td>0</td>\n",
              "      <td>0</td>\n",
              "      <td>0</td>\n",
              "    </tr>\n",
              "    <tr>\n",
              "      <th>5900</th>\n",
              "      <td>34</td>\n",
              "      <td>0</td>\n",
              "      <td>0</td>\n",
              "      <td>0</td>\n",
              "      <td>0</td>\n",
              "      <td>0</td>\n",
              "    </tr>\n",
              "    <tr>\n",
              "      <th>5901</th>\n",
              "      <td>70</td>\n",
              "      <td>1</td>\n",
              "      <td>0</td>\n",
              "      <td>0</td>\n",
              "      <td>1</td>\n",
              "      <td>0</td>\n",
              "    </tr>\n",
              "    <tr>\n",
              "      <th>5902</th>\n",
              "      <td>67</td>\n",
              "      <td>1</td>\n",
              "      <td>0</td>\n",
              "      <td>0</td>\n",
              "      <td>1</td>\n",
              "      <td>0</td>\n",
              "    </tr>\n",
              "  </tbody>\n",
              "</table>\n",
              "<p>5903 rows × 6 columns</p>\n",
              "</div>\n",
              "      <button class=\"colab-df-convert\" onclick=\"convertToInteractive('df-9a9a38a4-4770-4643-8145-9cfc59f33416')\"\n",
              "              title=\"Convert this dataframe to an interactive table.\"\n",
              "              style=\"display:none;\">\n",
              "        \n",
              "  <svg xmlns=\"http://www.w3.org/2000/svg\" height=\"24px\"viewBox=\"0 0 24 24\"\n",
              "       width=\"24px\">\n",
              "    <path d=\"M0 0h24v24H0V0z\" fill=\"none\"/>\n",
              "    <path d=\"M18.56 5.44l.94 2.06.94-2.06 2.06-.94-2.06-.94-.94-2.06-.94 2.06-2.06.94zm-11 1L8.5 8.5l.94-2.06 2.06-.94-2.06-.94L8.5 2.5l-.94 2.06-2.06.94zm10 10l.94 2.06.94-2.06 2.06-.94-2.06-.94-.94-2.06-.94 2.06-2.06.94z\"/><path d=\"M17.41 7.96l-1.37-1.37c-.4-.4-.92-.59-1.43-.59-.52 0-1.04.2-1.43.59L10.3 9.45l-7.72 7.72c-.78.78-.78 2.05 0 2.83L4 21.41c.39.39.9.59 1.41.59.51 0 1.02-.2 1.41-.59l7.78-7.78 2.81-2.81c.8-.78.8-2.07 0-2.86zM5.41 20L4 18.59l7.72-7.72 1.47 1.35L5.41 20z\"/>\n",
              "  </svg>\n",
              "      </button>\n",
              "      \n",
              "  <style>\n",
              "    .colab-df-container {\n",
              "      display:flex;\n",
              "      flex-wrap:wrap;\n",
              "      gap: 12px;\n",
              "    }\n",
              "\n",
              "    .colab-df-convert {\n",
              "      background-color: #E8F0FE;\n",
              "      border: none;\n",
              "      border-radius: 50%;\n",
              "      cursor: pointer;\n",
              "      display: none;\n",
              "      fill: #1967D2;\n",
              "      height: 32px;\n",
              "      padding: 0 0 0 0;\n",
              "      width: 32px;\n",
              "    }\n",
              "\n",
              "    .colab-df-convert:hover {\n",
              "      background-color: #E2EBFA;\n",
              "      box-shadow: 0px 1px 2px rgba(60, 64, 67, 0.3), 0px 1px 3px 1px rgba(60, 64, 67, 0.15);\n",
              "      fill: #174EA6;\n",
              "    }\n",
              "\n",
              "    [theme=dark] .colab-df-convert {\n",
              "      background-color: #3B4455;\n",
              "      fill: #D2E3FC;\n",
              "    }\n",
              "\n",
              "    [theme=dark] .colab-df-convert:hover {\n",
              "      background-color: #434B5C;\n",
              "      box-shadow: 0px 1px 3px 1px rgba(0, 0, 0, 0.15);\n",
              "      filter: drop-shadow(0px 1px 2px rgba(0, 0, 0, 0.3));\n",
              "      fill: #FFFFFF;\n",
              "    }\n",
              "  </style>\n",
              "\n",
              "      <script>\n",
              "        const buttonEl =\n",
              "          document.querySelector('#df-9a9a38a4-4770-4643-8145-9cfc59f33416 button.colab-df-convert');\n",
              "        buttonEl.style.display =\n",
              "          google.colab.kernel.accessAllowed ? 'block' : 'none';\n",
              "\n",
              "        async function convertToInteractive(key) {\n",
              "          const element = document.querySelector('#df-9a9a38a4-4770-4643-8145-9cfc59f33416');\n",
              "          const dataTable =\n",
              "            await google.colab.kernel.invokeFunction('convertToInteractive',\n",
              "                                                     [key], {});\n",
              "          if (!dataTable) return;\n",
              "\n",
              "          const docLinkHtml = 'Like what you see? Visit the ' +\n",
              "            '<a target=\"_blank\" href=https://colab.research.google.com/notebooks/data_table.ipynb>data table notebook</a>'\n",
              "            + ' to learn more about interactive tables.';\n",
              "          element.innerHTML = '';\n",
              "          dataTable['output_type'] = 'display_data';\n",
              "          await google.colab.output.renderOutput(dataTable, element);\n",
              "          const docLink = document.createElement('div');\n",
              "          docLink.innerHTML = docLinkHtml;\n",
              "          element.appendChild(docLink);\n",
              "        }\n",
              "      </script>\n",
              "    </div>\n",
              "  </div>\n",
              "  "
            ]
          },
          "metadata": {},
          "execution_count": 249
        }
      ]
    }
  ]
}