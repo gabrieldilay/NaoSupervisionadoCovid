{
  "nbformat": 4,
  "nbformat_minor": 0,
  "metadata": {
    "colab": {
      "provenance": [],
      "authorship_tag": "ABX9TyN2Sp6CQckYLatsnALWa8Zz",
      "include_colab_link": true
    },
    "kernelspec": {
      "name": "python3",
      "display_name": "Python 3"
    },
    "language_info": {
      "name": "python"
    }
  },
  "cells": [
    {
      "cell_type": "markdown",
      "metadata": {
        "id": "view-in-github",
        "colab_type": "text"
      },
      "source": [
        "<a href=\"https://colab.research.google.com/github/gabrieldilay/NaoSupervisionadoCovid/blob/main/CovidNaoSupervisionado.ipynb\" target=\"_parent\"><img src=\"https://colab.research.google.com/assets/colab-badge.svg\" alt=\"Open In Colab\"/></a>"
      ]
    },
    {
      "cell_type": "code",
      "execution_count": 103,
      "metadata": {
        "id": "ftqXh8LWID8U"
      },
      "outputs": [],
      "source": [
        "import numpy as np\n",
        "import pandas as pd"
      ]
    },
    {
      "cell_type": "code",
      "source": [
        "from google.colab import drive\n",
        "drive.mount('/content/drive')"
      ],
      "metadata": {
        "colab": {
          "base_uri": "https://localhost:8080/"
        },
        "id": "M-rr7J5zIEx0",
        "outputId": "dea95009-3132-48c2-a76f-8a2fe925692d"
      },
      "execution_count": 104,
      "outputs": [
        {
          "output_type": "stream",
          "name": "stdout",
          "text": [
            "Drive already mounted at /content/drive; to attempt to forcibly remount, call drive.mount(\"/content/drive\", force_remount=True).\n"
          ]
        }
      ]
    },
    {
      "cell_type": "code",
      "source": [
        "import warnings\n",
        "warnings.filterwarnings(\"ignore\")"
      ],
      "metadata": {
        "id": "g2t70f13IF_s"
      },
      "execution_count": 105,
      "outputs": []
    },
    {
      "cell_type": "code",
      "source": [
        "df = pd.read_csv('/content/drive/MyDrive/TrabNaoSupervisionado/2022-11-30_Casos_Covid_19_-_Base_de_Dados.csv',\n",
        "                    sep=';', encoding='iso-8859-1')"
      ],
      "metadata": {
        "id": "1Qf6WLhFIHQd"
      },
      "execution_count": 106,
      "outputs": []
    },
    {
      "cell_type": "code",
      "source": [
        "df.head()"
      ],
      "metadata": {
        "colab": {
          "base_uri": "https://localhost:8080/",
          "height": 206
        },
        "id": "OGUI_WqRIIjU",
        "outputId": "85aa5e76-497c-448f-c07b-b53b2e01687d"
      },
      "execution_count": 107,
      "outputs": [
        {
          "output_type": "execute_result",
          "data": {
            "text/plain": [
              "  DATA INCLUSÃO/ NOTIFICAÇÃO CLASSIFICAÇÃO FINAL  IDADE (anos) SEXO  \\\n",
              "0                 11/03/2020          CONFIRMADO            54    M   \n",
              "1                 12/03/2020          CONFIRMADO            15    M   \n",
              "2                 12/03/2020          CONFIRMADO            43    M   \n",
              "3                 12/03/2020          CONFIRMADO            25    F   \n",
              "4                 12/03/2020          CONFIRMADO            58    M   \n",
              "\n",
              "       BAIRRO DISTRITO RESIDÊNCIA INTERNADO (SIM/NÃO) DATA COLETA EXAME  \\\n",
              "0  CRISTO REI                DSMZ                 NÃO        09/03/2020   \n",
              "1       XAXIM                DSBQ                 NÃO        08/03/2020   \n",
              "2       XAXIM                DSBQ                 NÃO        09/03/2020   \n",
              "3  CRISTO REI                DSMZ                 NÃO        09/03/2020   \n",
              "4      MERCÊS                DSMZ                 NÃO        09/03/2020   \n",
              "\n",
              "  DATA ÓBITO ENCERRAMENTO  \n",
              "0        NaN   RECUPERADO  \n",
              "1        NaN   RECUPERADO  \n",
              "2        NaN   RECUPERADO  \n",
              "3        NaN   RECUPERADO  \n",
              "4        NaN   RECUPERADO  "
            ],
            "text/html": [
              "\n",
              "  <div id=\"df-f67aa39f-8a62-4e1d-b158-739211d74044\">\n",
              "    <div class=\"colab-df-container\">\n",
              "      <div>\n",
              "<style scoped>\n",
              "    .dataframe tbody tr th:only-of-type {\n",
              "        vertical-align: middle;\n",
              "    }\n",
              "\n",
              "    .dataframe tbody tr th {\n",
              "        vertical-align: top;\n",
              "    }\n",
              "\n",
              "    .dataframe thead th {\n",
              "        text-align: right;\n",
              "    }\n",
              "</style>\n",
              "<table border=\"1\" class=\"dataframe\">\n",
              "  <thead>\n",
              "    <tr style=\"text-align: right;\">\n",
              "      <th></th>\n",
              "      <th>DATA INCLUSÃO/ NOTIFICAÇÃO</th>\n",
              "      <th>CLASSIFICAÇÃO FINAL</th>\n",
              "      <th>IDADE (anos)</th>\n",
              "      <th>SEXO</th>\n",
              "      <th>BAIRRO</th>\n",
              "      <th>DISTRITO RESIDÊNCIA</th>\n",
              "      <th>INTERNADO (SIM/NÃO)</th>\n",
              "      <th>DATA COLETA EXAME</th>\n",
              "      <th>DATA ÓBITO</th>\n",
              "      <th>ENCERRAMENTO</th>\n",
              "    </tr>\n",
              "  </thead>\n",
              "  <tbody>\n",
              "    <tr>\n",
              "      <th>0</th>\n",
              "      <td>11/03/2020</td>\n",
              "      <td>CONFIRMADO</td>\n",
              "      <td>54</td>\n",
              "      <td>M</td>\n",
              "      <td>CRISTO REI</td>\n",
              "      <td>DSMZ</td>\n",
              "      <td>NÃO</td>\n",
              "      <td>09/03/2020</td>\n",
              "      <td>NaN</td>\n",
              "      <td>RECUPERADO</td>\n",
              "    </tr>\n",
              "    <tr>\n",
              "      <th>1</th>\n",
              "      <td>12/03/2020</td>\n",
              "      <td>CONFIRMADO</td>\n",
              "      <td>15</td>\n",
              "      <td>M</td>\n",
              "      <td>XAXIM</td>\n",
              "      <td>DSBQ</td>\n",
              "      <td>NÃO</td>\n",
              "      <td>08/03/2020</td>\n",
              "      <td>NaN</td>\n",
              "      <td>RECUPERADO</td>\n",
              "    </tr>\n",
              "    <tr>\n",
              "      <th>2</th>\n",
              "      <td>12/03/2020</td>\n",
              "      <td>CONFIRMADO</td>\n",
              "      <td>43</td>\n",
              "      <td>M</td>\n",
              "      <td>XAXIM</td>\n",
              "      <td>DSBQ</td>\n",
              "      <td>NÃO</td>\n",
              "      <td>09/03/2020</td>\n",
              "      <td>NaN</td>\n",
              "      <td>RECUPERADO</td>\n",
              "    </tr>\n",
              "    <tr>\n",
              "      <th>3</th>\n",
              "      <td>12/03/2020</td>\n",
              "      <td>CONFIRMADO</td>\n",
              "      <td>25</td>\n",
              "      <td>F</td>\n",
              "      <td>CRISTO REI</td>\n",
              "      <td>DSMZ</td>\n",
              "      <td>NÃO</td>\n",
              "      <td>09/03/2020</td>\n",
              "      <td>NaN</td>\n",
              "      <td>RECUPERADO</td>\n",
              "    </tr>\n",
              "    <tr>\n",
              "      <th>4</th>\n",
              "      <td>12/03/2020</td>\n",
              "      <td>CONFIRMADO</td>\n",
              "      <td>58</td>\n",
              "      <td>M</td>\n",
              "      <td>MERCÊS</td>\n",
              "      <td>DSMZ</td>\n",
              "      <td>NÃO</td>\n",
              "      <td>09/03/2020</td>\n",
              "      <td>NaN</td>\n",
              "      <td>RECUPERADO</td>\n",
              "    </tr>\n",
              "  </tbody>\n",
              "</table>\n",
              "</div>\n",
              "      <button class=\"colab-df-convert\" onclick=\"convertToInteractive('df-f67aa39f-8a62-4e1d-b158-739211d74044')\"\n",
              "              title=\"Convert this dataframe to an interactive table.\"\n",
              "              style=\"display:none;\">\n",
              "        \n",
              "  <svg xmlns=\"http://www.w3.org/2000/svg\" height=\"24px\"viewBox=\"0 0 24 24\"\n",
              "       width=\"24px\">\n",
              "    <path d=\"M0 0h24v24H0V0z\" fill=\"none\"/>\n",
              "    <path d=\"M18.56 5.44l.94 2.06.94-2.06 2.06-.94-2.06-.94-.94-2.06-.94 2.06-2.06.94zm-11 1L8.5 8.5l.94-2.06 2.06-.94-2.06-.94L8.5 2.5l-.94 2.06-2.06.94zm10 10l.94 2.06.94-2.06 2.06-.94-2.06-.94-.94-2.06-.94 2.06-2.06.94z\"/><path d=\"M17.41 7.96l-1.37-1.37c-.4-.4-.92-.59-1.43-.59-.52 0-1.04.2-1.43.59L10.3 9.45l-7.72 7.72c-.78.78-.78 2.05 0 2.83L4 21.41c.39.39.9.59 1.41.59.51 0 1.02-.2 1.41-.59l7.78-7.78 2.81-2.81c.8-.78.8-2.07 0-2.86zM5.41 20L4 18.59l7.72-7.72 1.47 1.35L5.41 20z\"/>\n",
              "  </svg>\n",
              "      </button>\n",
              "      \n",
              "  <style>\n",
              "    .colab-df-container {\n",
              "      display:flex;\n",
              "      flex-wrap:wrap;\n",
              "      gap: 12px;\n",
              "    }\n",
              "\n",
              "    .colab-df-convert {\n",
              "      background-color: #E8F0FE;\n",
              "      border: none;\n",
              "      border-radius: 50%;\n",
              "      cursor: pointer;\n",
              "      display: none;\n",
              "      fill: #1967D2;\n",
              "      height: 32px;\n",
              "      padding: 0 0 0 0;\n",
              "      width: 32px;\n",
              "    }\n",
              "\n",
              "    .colab-df-convert:hover {\n",
              "      background-color: #E2EBFA;\n",
              "      box-shadow: 0px 1px 2px rgba(60, 64, 67, 0.3), 0px 1px 3px 1px rgba(60, 64, 67, 0.15);\n",
              "      fill: #174EA6;\n",
              "    }\n",
              "\n",
              "    [theme=dark] .colab-df-convert {\n",
              "      background-color: #3B4455;\n",
              "      fill: #D2E3FC;\n",
              "    }\n",
              "\n",
              "    [theme=dark] .colab-df-convert:hover {\n",
              "      background-color: #434B5C;\n",
              "      box-shadow: 0px 1px 3px 1px rgba(0, 0, 0, 0.15);\n",
              "      filter: drop-shadow(0px 1px 2px rgba(0, 0, 0, 0.3));\n",
              "      fill: #FFFFFF;\n",
              "    }\n",
              "  </style>\n",
              "\n",
              "      <script>\n",
              "        const buttonEl =\n",
              "          document.querySelector('#df-f67aa39f-8a62-4e1d-b158-739211d74044 button.colab-df-convert');\n",
              "        buttonEl.style.display =\n",
              "          google.colab.kernel.accessAllowed ? 'block' : 'none';\n",
              "\n",
              "        async function convertToInteractive(key) {\n",
              "          const element = document.querySelector('#df-f67aa39f-8a62-4e1d-b158-739211d74044');\n",
              "          const dataTable =\n",
              "            await google.colab.kernel.invokeFunction('convertToInteractive',\n",
              "                                                     [key], {});\n",
              "          if (!dataTable) return;\n",
              "\n",
              "          const docLinkHtml = 'Like what you see? Visit the ' +\n",
              "            '<a target=\"_blank\" href=https://colab.research.google.com/notebooks/data_table.ipynb>data table notebook</a>'\n",
              "            + ' to learn more about interactive tables.';\n",
              "          element.innerHTML = '';\n",
              "          dataTable['output_type'] = 'display_data';\n",
              "          await google.colab.output.renderOutput(dataTable, element);\n",
              "          const docLink = document.createElement('div');\n",
              "          docLink.innerHTML = docLinkHtml;\n",
              "          element.appendChild(docLink);\n",
              "        }\n",
              "      </script>\n",
              "    </div>\n",
              "  </div>\n",
              "  "
            ]
          },
          "metadata": {},
          "execution_count": 107
        }
      ]
    },
    {
      "cell_type": "code",
      "source": [
        "df.info()"
      ],
      "metadata": {
        "colab": {
          "base_uri": "https://localhost:8080/"
        },
        "id": "jSxOmvgkRNoW",
        "outputId": "aa925424-925e-4502-bc67-5be8010c8af8"
      },
      "execution_count": 108,
      "outputs": [
        {
          "output_type": "stream",
          "name": "stdout",
          "text": [
            "<class 'pandas.core.frame.DataFrame'>\n",
            "RangeIndex: 5903 entries, 0 to 5902\n",
            "Data columns (total 10 columns):\n",
            " #   Column                      Non-Null Count  Dtype \n",
            "---  ------                      --------------  ----- \n",
            " 0   DATA INCLUSÃO/ NOTIFICAÇÃO  5903 non-null   object\n",
            " 1   CLASSIFICAÇÃO FINAL         5903 non-null   object\n",
            " 2   IDADE (anos)                5903 non-null   int64 \n",
            " 3   SEXO                        5903 non-null   object\n",
            " 4   BAIRRO                      5877 non-null   object\n",
            " 5   DISTRITO RESIDÊNCIA         5877 non-null   object\n",
            " 6   INTERNADO (SIM/NÃO)         5903 non-null   object\n",
            " 7   DATA COLETA EXAME           5903 non-null   object\n",
            " 8   DATA ÓBITO                  281 non-null    object\n",
            " 9   ENCERRAMENTO                5903 non-null   object\n",
            "dtypes: int64(1), object(9)\n",
            "memory usage: 461.3+ KB\n"
          ]
        }
      ]
    },
    {
      "cell_type": "markdown",
      "source": [
        "## Limpeza e Tratamento dos dados"
      ],
      "metadata": {
        "id": "-tAdOT4VLk8G"
      }
    },
    {
      "cell_type": "code",
      "source": [
        "#Verificar os valores unicos da coluna CLASSIFICAÇÃO FINAL\n",
        "df['CLASSIFICAÇÃO FINAL'].unique()"
      ],
      "metadata": {
        "colab": {
          "base_uri": "https://localhost:8080/"
        },
        "id": "tU3RIdL9Imad",
        "outputId": "6740f57c-1354-4372-cf85-793377eae44a"
      },
      "execution_count": 109,
      "outputs": [
        {
          "output_type": "execute_result",
          "data": {
            "text/plain": [
              "array(['CONFIRMADO'], dtype=object)"
            ]
          },
          "metadata": {},
          "execution_count": 109
        }
      ]
    },
    {
      "cell_type": "code",
      "source": [
        "#Verificar os valores unicos da coluna ENCERRAMENTO\n",
        "df['ENCERRAMENTO'].unique()"
      ],
      "metadata": {
        "colab": {
          "base_uri": "https://localhost:8080/"
        },
        "id": "eRHZPUUuIxv0",
        "outputId": "1ae3d005-cea0-492d-bcc8-c21474325f9a"
      },
      "execution_count": 110,
      "outputs": [
        {
          "output_type": "execute_result",
          "data": {
            "text/plain": [
              "array(['RECUPERADO', 'ÓBITO CONF'], dtype=object)"
            ]
          },
          "metadata": {},
          "execution_count": 110
        }
      ]
    },
    {
      "cell_type": "code",
      "source": [
        "#SUBSTITUIR OS VALORES POR NUMEROS\n",
        "#RECUPERADO = 0, OBITO = 1, ATIVO = 2\n",
        "\n",
        "df['ENCERRAMENTO'].replace({'RECUPERADO':0, 'ÓBITO CONF':1, 'ATIVO':2}, inplace=True)"
      ],
      "metadata": {
        "id": "bmLcnr5OJIAE"
      },
      "execution_count": 111,
      "outputs": []
    },
    {
      "cell_type": "code",
      "source": [
        "df['ENCERRAMENTO'].unique()"
      ],
      "metadata": {
        "colab": {
          "base_uri": "https://localhost:8080/"
        },
        "id": "7MZsqO0TJQsX",
        "outputId": "e78a59a9-b7e7-41db-dffd-b9233a00bd84"
      },
      "execution_count": 112,
      "outputs": [
        {
          "output_type": "execute_result",
          "data": {
            "text/plain": [
              "array([0, 1])"
            ]
          },
          "metadata": {},
          "execution_count": 112
        }
      ]
    },
    {
      "cell_type": "code",
      "source": [
        "#TROCAR O NOME DA COLUNA ENCERRAMENTO PARA STATUS\n",
        "df.rename(columns={'ENCERRAMENTO': 'STATUS'}, inplace=True)"
      ],
      "metadata": {
        "id": "zRgUQd-DLN2-"
      },
      "execution_count": 113,
      "outputs": []
    },
    {
      "cell_type": "code",
      "source": [
        "#TROCAR O NOME DA COLUNA IDADE (ANOS) PARA IDADE\n",
        "df.rename(columns={'IDADE (anos)': 'IDADE'}, inplace=True)"
      ],
      "metadata": {
        "id": "BZklvQAJJYQz"
      },
      "execution_count": 114,
      "outputs": []
    },
    {
      "cell_type": "code",
      "source": [
        "#TROCAR O NOME DA COLUNA INTERNADO (SIM/NAO) PARA INTERNADO\n",
        "df.rename(columns={'INTERNADO (SIM/NÃO)': 'INTERNADO'}, inplace=True)"
      ],
      "metadata": {
        "id": "rcS1KTmbJjpb"
      },
      "execution_count": 115,
      "outputs": []
    },
    {
      "cell_type": "code",
      "source": [
        "df['INTERNADO'].unique()"
      ],
      "metadata": {
        "colab": {
          "base_uri": "https://localhost:8080/"
        },
        "id": "VmU2nJNsJnql",
        "outputId": "d5bc0b79-5e83-481c-c63e-e20cc2f6ef1d"
      },
      "execution_count": 116,
      "outputs": [
        {
          "output_type": "execute_result",
          "data": {
            "text/plain": [
              "array(['NÃO', 'SIM'], dtype=object)"
            ]
          },
          "metadata": {},
          "execution_count": 116
        }
      ]
    },
    {
      "cell_type": "code",
      "source": [
        "#TROCANDO UM VALOR ERRADO sIM para SIM\n",
        "df['INTERNADO'].replace({'sIM':'SIM'}, inplace=True)"
      ],
      "metadata": {
        "id": "lIVctyJ7JtPO"
      },
      "execution_count": 117,
      "outputs": []
    },
    {
      "cell_type": "code",
      "source": [
        "df['INTERNADO'].unique()"
      ],
      "metadata": {
        "colab": {
          "base_uri": "https://localhost:8080/"
        },
        "id": "4EWAZdqUJ1C3",
        "outputId": "ca1b4ac5-4ea8-4fb1-d236-e48ab3330f9d"
      },
      "execution_count": 118,
      "outputs": [
        {
          "output_type": "execute_result",
          "data": {
            "text/plain": [
              "array(['NÃO', 'SIM'], dtype=object)"
            ]
          },
          "metadata": {},
          "execution_count": 118
        }
      ]
    },
    {
      "cell_type": "code",
      "source": [
        "#SUBSTITUIR VALORES DA COLUNA INTERNADO PARA NUMEROS\n",
        "#NAO = 0 E SIM = 1\n",
        "df['INTERNADO'].replace({'NÃO':0, 'SIM':1}, inplace=True)"
      ],
      "metadata": {
        "id": "SsUN0cDAJ3ek"
      },
      "execution_count": 119,
      "outputs": []
    },
    {
      "cell_type": "code",
      "source": [
        "df['SEXO'].unique()"
      ],
      "metadata": {
        "colab": {
          "base_uri": "https://localhost:8080/"
        },
        "id": "NyMesCReNEA8",
        "outputId": "f63d85cb-4bb0-4a1a-8226-fc90fa5d6d38"
      },
      "execution_count": 120,
      "outputs": [
        {
          "output_type": "execute_result",
          "data": {
            "text/plain": [
              "array(['M', 'F'], dtype=object)"
            ]
          },
          "metadata": {},
          "execution_count": 120
        }
      ]
    },
    {
      "cell_type": "code",
      "source": [
        "#SUBSTITUIR VALORES DA COLUNA SEXO PARA UM PADRAO\n",
        "df['SEXO'].replace({'m':'M', 'f':'F'}, inplace=True)"
      ],
      "metadata": {
        "id": "XGWbxRpCNGbs"
      },
      "execution_count": 121,
      "outputs": []
    },
    {
      "cell_type": "code",
      "source": [
        "df.head()"
      ],
      "metadata": {
        "colab": {
          "base_uri": "https://localhost:8080/",
          "height": 206
        },
        "id": "z1rglFOJJ_b0",
        "outputId": "dd4c6eab-3172-43cc-c7b3-5517f2fd58ab"
      },
      "execution_count": 122,
      "outputs": [
        {
          "output_type": "execute_result",
          "data": {
            "text/plain": [
              "  DATA INCLUSÃO/ NOTIFICAÇÃO CLASSIFICAÇÃO FINAL  IDADE SEXO      BAIRRO  \\\n",
              "0                 11/03/2020          CONFIRMADO     54    M  CRISTO REI   \n",
              "1                 12/03/2020          CONFIRMADO     15    M       XAXIM   \n",
              "2                 12/03/2020          CONFIRMADO     43    M       XAXIM   \n",
              "3                 12/03/2020          CONFIRMADO     25    F  CRISTO REI   \n",
              "4                 12/03/2020          CONFIRMADO     58    M      MERCÊS   \n",
              "\n",
              "  DISTRITO RESIDÊNCIA  INTERNADO DATA COLETA EXAME DATA ÓBITO  STATUS  \n",
              "0                DSMZ          0        09/03/2020        NaN       0  \n",
              "1                DSBQ          0        08/03/2020        NaN       0  \n",
              "2                DSBQ          0        09/03/2020        NaN       0  \n",
              "3                DSMZ          0        09/03/2020        NaN       0  \n",
              "4                DSMZ          0        09/03/2020        NaN       0  "
            ],
            "text/html": [
              "\n",
              "  <div id=\"df-5e716d90-2e44-4d65-be58-992b3f53cde6\">\n",
              "    <div class=\"colab-df-container\">\n",
              "      <div>\n",
              "<style scoped>\n",
              "    .dataframe tbody tr th:only-of-type {\n",
              "        vertical-align: middle;\n",
              "    }\n",
              "\n",
              "    .dataframe tbody tr th {\n",
              "        vertical-align: top;\n",
              "    }\n",
              "\n",
              "    .dataframe thead th {\n",
              "        text-align: right;\n",
              "    }\n",
              "</style>\n",
              "<table border=\"1\" class=\"dataframe\">\n",
              "  <thead>\n",
              "    <tr style=\"text-align: right;\">\n",
              "      <th></th>\n",
              "      <th>DATA INCLUSÃO/ NOTIFICAÇÃO</th>\n",
              "      <th>CLASSIFICAÇÃO FINAL</th>\n",
              "      <th>IDADE</th>\n",
              "      <th>SEXO</th>\n",
              "      <th>BAIRRO</th>\n",
              "      <th>DISTRITO RESIDÊNCIA</th>\n",
              "      <th>INTERNADO</th>\n",
              "      <th>DATA COLETA EXAME</th>\n",
              "      <th>DATA ÓBITO</th>\n",
              "      <th>STATUS</th>\n",
              "    </tr>\n",
              "  </thead>\n",
              "  <tbody>\n",
              "    <tr>\n",
              "      <th>0</th>\n",
              "      <td>11/03/2020</td>\n",
              "      <td>CONFIRMADO</td>\n",
              "      <td>54</td>\n",
              "      <td>M</td>\n",
              "      <td>CRISTO REI</td>\n",
              "      <td>DSMZ</td>\n",
              "      <td>0</td>\n",
              "      <td>09/03/2020</td>\n",
              "      <td>NaN</td>\n",
              "      <td>0</td>\n",
              "    </tr>\n",
              "    <tr>\n",
              "      <th>1</th>\n",
              "      <td>12/03/2020</td>\n",
              "      <td>CONFIRMADO</td>\n",
              "      <td>15</td>\n",
              "      <td>M</td>\n",
              "      <td>XAXIM</td>\n",
              "      <td>DSBQ</td>\n",
              "      <td>0</td>\n",
              "      <td>08/03/2020</td>\n",
              "      <td>NaN</td>\n",
              "      <td>0</td>\n",
              "    </tr>\n",
              "    <tr>\n",
              "      <th>2</th>\n",
              "      <td>12/03/2020</td>\n",
              "      <td>CONFIRMADO</td>\n",
              "      <td>43</td>\n",
              "      <td>M</td>\n",
              "      <td>XAXIM</td>\n",
              "      <td>DSBQ</td>\n",
              "      <td>0</td>\n",
              "      <td>09/03/2020</td>\n",
              "      <td>NaN</td>\n",
              "      <td>0</td>\n",
              "    </tr>\n",
              "    <tr>\n",
              "      <th>3</th>\n",
              "      <td>12/03/2020</td>\n",
              "      <td>CONFIRMADO</td>\n",
              "      <td>25</td>\n",
              "      <td>F</td>\n",
              "      <td>CRISTO REI</td>\n",
              "      <td>DSMZ</td>\n",
              "      <td>0</td>\n",
              "      <td>09/03/2020</td>\n",
              "      <td>NaN</td>\n",
              "      <td>0</td>\n",
              "    </tr>\n",
              "    <tr>\n",
              "      <th>4</th>\n",
              "      <td>12/03/2020</td>\n",
              "      <td>CONFIRMADO</td>\n",
              "      <td>58</td>\n",
              "      <td>M</td>\n",
              "      <td>MERCÊS</td>\n",
              "      <td>DSMZ</td>\n",
              "      <td>0</td>\n",
              "      <td>09/03/2020</td>\n",
              "      <td>NaN</td>\n",
              "      <td>0</td>\n",
              "    </tr>\n",
              "  </tbody>\n",
              "</table>\n",
              "</div>\n",
              "      <button class=\"colab-df-convert\" onclick=\"convertToInteractive('df-5e716d90-2e44-4d65-be58-992b3f53cde6')\"\n",
              "              title=\"Convert this dataframe to an interactive table.\"\n",
              "              style=\"display:none;\">\n",
              "        \n",
              "  <svg xmlns=\"http://www.w3.org/2000/svg\" height=\"24px\"viewBox=\"0 0 24 24\"\n",
              "       width=\"24px\">\n",
              "    <path d=\"M0 0h24v24H0V0z\" fill=\"none\"/>\n",
              "    <path d=\"M18.56 5.44l.94 2.06.94-2.06 2.06-.94-2.06-.94-.94-2.06-.94 2.06-2.06.94zm-11 1L8.5 8.5l.94-2.06 2.06-.94-2.06-.94L8.5 2.5l-.94 2.06-2.06.94zm10 10l.94 2.06.94-2.06 2.06-.94-2.06-.94-.94-2.06-.94 2.06-2.06.94z\"/><path d=\"M17.41 7.96l-1.37-1.37c-.4-.4-.92-.59-1.43-.59-.52 0-1.04.2-1.43.59L10.3 9.45l-7.72 7.72c-.78.78-.78 2.05 0 2.83L4 21.41c.39.39.9.59 1.41.59.51 0 1.02-.2 1.41-.59l7.78-7.78 2.81-2.81c.8-.78.8-2.07 0-2.86zM5.41 20L4 18.59l7.72-7.72 1.47 1.35L5.41 20z\"/>\n",
              "  </svg>\n",
              "      </button>\n",
              "      \n",
              "  <style>\n",
              "    .colab-df-container {\n",
              "      display:flex;\n",
              "      flex-wrap:wrap;\n",
              "      gap: 12px;\n",
              "    }\n",
              "\n",
              "    .colab-df-convert {\n",
              "      background-color: #E8F0FE;\n",
              "      border: none;\n",
              "      border-radius: 50%;\n",
              "      cursor: pointer;\n",
              "      display: none;\n",
              "      fill: #1967D2;\n",
              "      height: 32px;\n",
              "      padding: 0 0 0 0;\n",
              "      width: 32px;\n",
              "    }\n",
              "\n",
              "    .colab-df-convert:hover {\n",
              "      background-color: #E2EBFA;\n",
              "      box-shadow: 0px 1px 2px rgba(60, 64, 67, 0.3), 0px 1px 3px 1px rgba(60, 64, 67, 0.15);\n",
              "      fill: #174EA6;\n",
              "    }\n",
              "\n",
              "    [theme=dark] .colab-df-convert {\n",
              "      background-color: #3B4455;\n",
              "      fill: #D2E3FC;\n",
              "    }\n",
              "\n",
              "    [theme=dark] .colab-df-convert:hover {\n",
              "      background-color: #434B5C;\n",
              "      box-shadow: 0px 1px 3px 1px rgba(0, 0, 0, 0.15);\n",
              "      filter: drop-shadow(0px 1px 2px rgba(0, 0, 0, 0.3));\n",
              "      fill: #FFFFFF;\n",
              "    }\n",
              "  </style>\n",
              "\n",
              "      <script>\n",
              "        const buttonEl =\n",
              "          document.querySelector('#df-5e716d90-2e44-4d65-be58-992b3f53cde6 button.colab-df-convert');\n",
              "        buttonEl.style.display =\n",
              "          google.colab.kernel.accessAllowed ? 'block' : 'none';\n",
              "\n",
              "        async function convertToInteractive(key) {\n",
              "          const element = document.querySelector('#df-5e716d90-2e44-4d65-be58-992b3f53cde6');\n",
              "          const dataTable =\n",
              "            await google.colab.kernel.invokeFunction('convertToInteractive',\n",
              "                                                     [key], {});\n",
              "          if (!dataTable) return;\n",
              "\n",
              "          const docLinkHtml = 'Like what you see? Visit the ' +\n",
              "            '<a target=\"_blank\" href=https://colab.research.google.com/notebooks/data_table.ipynb>data table notebook</a>'\n",
              "            + ' to learn more about interactive tables.';\n",
              "          element.innerHTML = '';\n",
              "          dataTable['output_type'] = 'display_data';\n",
              "          await google.colab.output.renderOutput(dataTable, element);\n",
              "          const docLink = document.createElement('div');\n",
              "          docLink.innerHTML = docLinkHtml;\n",
              "          element.appendChild(docLink);\n",
              "        }\n",
              "      </script>\n",
              "    </div>\n",
              "  </div>\n",
              "  "
            ]
          },
          "metadata": {},
          "execution_count": 122
        }
      ]
    },
    {
      "cell_type": "code",
      "source": [
        "df.info()"
      ],
      "metadata": {
        "colab": {
          "base_uri": "https://localhost:8080/"
        },
        "id": "R92bUbSnKd-k",
        "outputId": "4a6d8b5b-31f6-4fe0-969c-e2e7095dd324"
      },
      "execution_count": 123,
      "outputs": [
        {
          "output_type": "stream",
          "name": "stdout",
          "text": [
            "<class 'pandas.core.frame.DataFrame'>\n",
            "RangeIndex: 5903 entries, 0 to 5902\n",
            "Data columns (total 10 columns):\n",
            " #   Column                      Non-Null Count  Dtype \n",
            "---  ------                      --------------  ----- \n",
            " 0   DATA INCLUSÃO/ NOTIFICAÇÃO  5903 non-null   object\n",
            " 1   CLASSIFICAÇÃO FINAL         5903 non-null   object\n",
            " 2   IDADE                       5903 non-null   int64 \n",
            " 3   SEXO                        5903 non-null   object\n",
            " 4   BAIRRO                      5877 non-null   object\n",
            " 5   DISTRITO RESIDÊNCIA         5877 non-null   object\n",
            " 6   INTERNADO                   5903 non-null   int64 \n",
            " 7   DATA COLETA EXAME           5903 non-null   object\n",
            " 8   DATA ÓBITO                  281 non-null    object\n",
            " 9   STATUS                      5903 non-null   int64 \n",
            "dtypes: int64(3), object(7)\n",
            "memory usage: 461.3+ KB\n"
          ]
        }
      ]
    },
    {
      "cell_type": "code",
      "source": [
        "#CRIAR NOVO DF APENAS COM AS COLUNAS QUE IREI USAR NA ANALISE\n",
        "df2 = df.drop(columns = ['DATA INCLUSÃO/ NOTIFICAÇÃO', 'CLASSIFICAÇÃO FINAL', 'BAIRRO','DISTRITO RESIDÊNCIA', 'DATA COLETA EXAME', 'DATA ÓBITO'  ])\n",
        "df.head()"
      ],
      "metadata": {
        "colab": {
          "base_uri": "https://localhost:8080/",
          "height": 206
        },
        "id": "6P4xQCL0KVWt",
        "outputId": "075b9929-13e5-4bad-bd1b-c3f4849625b0"
      },
      "execution_count": 124,
      "outputs": [
        {
          "output_type": "execute_result",
          "data": {
            "text/plain": [
              "  DATA INCLUSÃO/ NOTIFICAÇÃO CLASSIFICAÇÃO FINAL  IDADE SEXO      BAIRRO  \\\n",
              "0                 11/03/2020          CONFIRMADO     54    M  CRISTO REI   \n",
              "1                 12/03/2020          CONFIRMADO     15    M       XAXIM   \n",
              "2                 12/03/2020          CONFIRMADO     43    M       XAXIM   \n",
              "3                 12/03/2020          CONFIRMADO     25    F  CRISTO REI   \n",
              "4                 12/03/2020          CONFIRMADO     58    M      MERCÊS   \n",
              "\n",
              "  DISTRITO RESIDÊNCIA  INTERNADO DATA COLETA EXAME DATA ÓBITO  STATUS  \n",
              "0                DSMZ          0        09/03/2020        NaN       0  \n",
              "1                DSBQ          0        08/03/2020        NaN       0  \n",
              "2                DSBQ          0        09/03/2020        NaN       0  \n",
              "3                DSMZ          0        09/03/2020        NaN       0  \n",
              "4                DSMZ          0        09/03/2020        NaN       0  "
            ],
            "text/html": [
              "\n",
              "  <div id=\"df-aba3944c-4060-457f-b60e-8b7b22bdb1d5\">\n",
              "    <div class=\"colab-df-container\">\n",
              "      <div>\n",
              "<style scoped>\n",
              "    .dataframe tbody tr th:only-of-type {\n",
              "        vertical-align: middle;\n",
              "    }\n",
              "\n",
              "    .dataframe tbody tr th {\n",
              "        vertical-align: top;\n",
              "    }\n",
              "\n",
              "    .dataframe thead th {\n",
              "        text-align: right;\n",
              "    }\n",
              "</style>\n",
              "<table border=\"1\" class=\"dataframe\">\n",
              "  <thead>\n",
              "    <tr style=\"text-align: right;\">\n",
              "      <th></th>\n",
              "      <th>DATA INCLUSÃO/ NOTIFICAÇÃO</th>\n",
              "      <th>CLASSIFICAÇÃO FINAL</th>\n",
              "      <th>IDADE</th>\n",
              "      <th>SEXO</th>\n",
              "      <th>BAIRRO</th>\n",
              "      <th>DISTRITO RESIDÊNCIA</th>\n",
              "      <th>INTERNADO</th>\n",
              "      <th>DATA COLETA EXAME</th>\n",
              "      <th>DATA ÓBITO</th>\n",
              "      <th>STATUS</th>\n",
              "    </tr>\n",
              "  </thead>\n",
              "  <tbody>\n",
              "    <tr>\n",
              "      <th>0</th>\n",
              "      <td>11/03/2020</td>\n",
              "      <td>CONFIRMADO</td>\n",
              "      <td>54</td>\n",
              "      <td>M</td>\n",
              "      <td>CRISTO REI</td>\n",
              "      <td>DSMZ</td>\n",
              "      <td>0</td>\n",
              "      <td>09/03/2020</td>\n",
              "      <td>NaN</td>\n",
              "      <td>0</td>\n",
              "    </tr>\n",
              "    <tr>\n",
              "      <th>1</th>\n",
              "      <td>12/03/2020</td>\n",
              "      <td>CONFIRMADO</td>\n",
              "      <td>15</td>\n",
              "      <td>M</td>\n",
              "      <td>XAXIM</td>\n",
              "      <td>DSBQ</td>\n",
              "      <td>0</td>\n",
              "      <td>08/03/2020</td>\n",
              "      <td>NaN</td>\n",
              "      <td>0</td>\n",
              "    </tr>\n",
              "    <tr>\n",
              "      <th>2</th>\n",
              "      <td>12/03/2020</td>\n",
              "      <td>CONFIRMADO</td>\n",
              "      <td>43</td>\n",
              "      <td>M</td>\n",
              "      <td>XAXIM</td>\n",
              "      <td>DSBQ</td>\n",
              "      <td>0</td>\n",
              "      <td>09/03/2020</td>\n",
              "      <td>NaN</td>\n",
              "      <td>0</td>\n",
              "    </tr>\n",
              "    <tr>\n",
              "      <th>3</th>\n",
              "      <td>12/03/2020</td>\n",
              "      <td>CONFIRMADO</td>\n",
              "      <td>25</td>\n",
              "      <td>F</td>\n",
              "      <td>CRISTO REI</td>\n",
              "      <td>DSMZ</td>\n",
              "      <td>0</td>\n",
              "      <td>09/03/2020</td>\n",
              "      <td>NaN</td>\n",
              "      <td>0</td>\n",
              "    </tr>\n",
              "    <tr>\n",
              "      <th>4</th>\n",
              "      <td>12/03/2020</td>\n",
              "      <td>CONFIRMADO</td>\n",
              "      <td>58</td>\n",
              "      <td>M</td>\n",
              "      <td>MERCÊS</td>\n",
              "      <td>DSMZ</td>\n",
              "      <td>0</td>\n",
              "      <td>09/03/2020</td>\n",
              "      <td>NaN</td>\n",
              "      <td>0</td>\n",
              "    </tr>\n",
              "  </tbody>\n",
              "</table>\n",
              "</div>\n",
              "      <button class=\"colab-df-convert\" onclick=\"convertToInteractive('df-aba3944c-4060-457f-b60e-8b7b22bdb1d5')\"\n",
              "              title=\"Convert this dataframe to an interactive table.\"\n",
              "              style=\"display:none;\">\n",
              "        \n",
              "  <svg xmlns=\"http://www.w3.org/2000/svg\" height=\"24px\"viewBox=\"0 0 24 24\"\n",
              "       width=\"24px\">\n",
              "    <path d=\"M0 0h24v24H0V0z\" fill=\"none\"/>\n",
              "    <path d=\"M18.56 5.44l.94 2.06.94-2.06 2.06-.94-2.06-.94-.94-2.06-.94 2.06-2.06.94zm-11 1L8.5 8.5l.94-2.06 2.06-.94-2.06-.94L8.5 2.5l-.94 2.06-2.06.94zm10 10l.94 2.06.94-2.06 2.06-.94-2.06-.94-.94-2.06-.94 2.06-2.06.94z\"/><path d=\"M17.41 7.96l-1.37-1.37c-.4-.4-.92-.59-1.43-.59-.52 0-1.04.2-1.43.59L10.3 9.45l-7.72 7.72c-.78.78-.78 2.05 0 2.83L4 21.41c.39.39.9.59 1.41.59.51 0 1.02-.2 1.41-.59l7.78-7.78 2.81-2.81c.8-.78.8-2.07 0-2.86zM5.41 20L4 18.59l7.72-7.72 1.47 1.35L5.41 20z\"/>\n",
              "  </svg>\n",
              "      </button>\n",
              "      \n",
              "  <style>\n",
              "    .colab-df-container {\n",
              "      display:flex;\n",
              "      flex-wrap:wrap;\n",
              "      gap: 12px;\n",
              "    }\n",
              "\n",
              "    .colab-df-convert {\n",
              "      background-color: #E8F0FE;\n",
              "      border: none;\n",
              "      border-radius: 50%;\n",
              "      cursor: pointer;\n",
              "      display: none;\n",
              "      fill: #1967D2;\n",
              "      height: 32px;\n",
              "      padding: 0 0 0 0;\n",
              "      width: 32px;\n",
              "    }\n",
              "\n",
              "    .colab-df-convert:hover {\n",
              "      background-color: #E2EBFA;\n",
              "      box-shadow: 0px 1px 2px rgba(60, 64, 67, 0.3), 0px 1px 3px 1px rgba(60, 64, 67, 0.15);\n",
              "      fill: #174EA6;\n",
              "    }\n",
              "\n",
              "    [theme=dark] .colab-df-convert {\n",
              "      background-color: #3B4455;\n",
              "      fill: #D2E3FC;\n",
              "    }\n",
              "\n",
              "    [theme=dark] .colab-df-convert:hover {\n",
              "      background-color: #434B5C;\n",
              "      box-shadow: 0px 1px 3px 1px rgba(0, 0, 0, 0.15);\n",
              "      filter: drop-shadow(0px 1px 2px rgba(0, 0, 0, 0.3));\n",
              "      fill: #FFFFFF;\n",
              "    }\n",
              "  </style>\n",
              "\n",
              "      <script>\n",
              "        const buttonEl =\n",
              "          document.querySelector('#df-aba3944c-4060-457f-b60e-8b7b22bdb1d5 button.colab-df-convert');\n",
              "        buttonEl.style.display =\n",
              "          google.colab.kernel.accessAllowed ? 'block' : 'none';\n",
              "\n",
              "        async function convertToInteractive(key) {\n",
              "          const element = document.querySelector('#df-aba3944c-4060-457f-b60e-8b7b22bdb1d5');\n",
              "          const dataTable =\n",
              "            await google.colab.kernel.invokeFunction('convertToInteractive',\n",
              "                                                     [key], {});\n",
              "          if (!dataTable) return;\n",
              "\n",
              "          const docLinkHtml = 'Like what you see? Visit the ' +\n",
              "            '<a target=\"_blank\" href=https://colab.research.google.com/notebooks/data_table.ipynb>data table notebook</a>'\n",
              "            + ' to learn more about interactive tables.';\n",
              "          element.innerHTML = '';\n",
              "          dataTable['output_type'] = 'display_data';\n",
              "          await google.colab.output.renderOutput(dataTable, element);\n",
              "          const docLink = document.createElement('div');\n",
              "          docLink.innerHTML = docLinkHtml;\n",
              "          element.appendChild(docLink);\n",
              "        }\n",
              "      </script>\n",
              "    </div>\n",
              "  </div>\n",
              "  "
            ]
          },
          "metadata": {},
          "execution_count": 124
        }
      ]
    },
    {
      "cell_type": "code",
      "source": [
        "df2.head()"
      ],
      "metadata": {
        "colab": {
          "base_uri": "https://localhost:8080/",
          "height": 206
        },
        "id": "z9XvZ_vjK_jM",
        "outputId": "28fe4736-9847-4bcf-ca1c-60e2695ce8c0"
      },
      "execution_count": 125,
      "outputs": [
        {
          "output_type": "execute_result",
          "data": {
            "text/plain": [
              "   IDADE SEXO  INTERNADO  STATUS\n",
              "0     54    M          0       0\n",
              "1     15    M          0       0\n",
              "2     43    M          0       0\n",
              "3     25    F          0       0\n",
              "4     58    M          0       0"
            ],
            "text/html": [
              "\n",
              "  <div id=\"df-ef2b036e-7c45-4a37-bbbc-24dc819df082\">\n",
              "    <div class=\"colab-df-container\">\n",
              "      <div>\n",
              "<style scoped>\n",
              "    .dataframe tbody tr th:only-of-type {\n",
              "        vertical-align: middle;\n",
              "    }\n",
              "\n",
              "    .dataframe tbody tr th {\n",
              "        vertical-align: top;\n",
              "    }\n",
              "\n",
              "    .dataframe thead th {\n",
              "        text-align: right;\n",
              "    }\n",
              "</style>\n",
              "<table border=\"1\" class=\"dataframe\">\n",
              "  <thead>\n",
              "    <tr style=\"text-align: right;\">\n",
              "      <th></th>\n",
              "      <th>IDADE</th>\n",
              "      <th>SEXO</th>\n",
              "      <th>INTERNADO</th>\n",
              "      <th>STATUS</th>\n",
              "    </tr>\n",
              "  </thead>\n",
              "  <tbody>\n",
              "    <tr>\n",
              "      <th>0</th>\n",
              "      <td>54</td>\n",
              "      <td>M</td>\n",
              "      <td>0</td>\n",
              "      <td>0</td>\n",
              "    </tr>\n",
              "    <tr>\n",
              "      <th>1</th>\n",
              "      <td>15</td>\n",
              "      <td>M</td>\n",
              "      <td>0</td>\n",
              "      <td>0</td>\n",
              "    </tr>\n",
              "    <tr>\n",
              "      <th>2</th>\n",
              "      <td>43</td>\n",
              "      <td>M</td>\n",
              "      <td>0</td>\n",
              "      <td>0</td>\n",
              "    </tr>\n",
              "    <tr>\n",
              "      <th>3</th>\n",
              "      <td>25</td>\n",
              "      <td>F</td>\n",
              "      <td>0</td>\n",
              "      <td>0</td>\n",
              "    </tr>\n",
              "    <tr>\n",
              "      <th>4</th>\n",
              "      <td>58</td>\n",
              "      <td>M</td>\n",
              "      <td>0</td>\n",
              "      <td>0</td>\n",
              "    </tr>\n",
              "  </tbody>\n",
              "</table>\n",
              "</div>\n",
              "      <button class=\"colab-df-convert\" onclick=\"convertToInteractive('df-ef2b036e-7c45-4a37-bbbc-24dc819df082')\"\n",
              "              title=\"Convert this dataframe to an interactive table.\"\n",
              "              style=\"display:none;\">\n",
              "        \n",
              "  <svg xmlns=\"http://www.w3.org/2000/svg\" height=\"24px\"viewBox=\"0 0 24 24\"\n",
              "       width=\"24px\">\n",
              "    <path d=\"M0 0h24v24H0V0z\" fill=\"none\"/>\n",
              "    <path d=\"M18.56 5.44l.94 2.06.94-2.06 2.06-.94-2.06-.94-.94-2.06-.94 2.06-2.06.94zm-11 1L8.5 8.5l.94-2.06 2.06-.94-2.06-.94L8.5 2.5l-.94 2.06-2.06.94zm10 10l.94 2.06.94-2.06 2.06-.94-2.06-.94-.94-2.06-.94 2.06-2.06.94z\"/><path d=\"M17.41 7.96l-1.37-1.37c-.4-.4-.92-.59-1.43-.59-.52 0-1.04.2-1.43.59L10.3 9.45l-7.72 7.72c-.78.78-.78 2.05 0 2.83L4 21.41c.39.39.9.59 1.41.59.51 0 1.02-.2 1.41-.59l7.78-7.78 2.81-2.81c.8-.78.8-2.07 0-2.86zM5.41 20L4 18.59l7.72-7.72 1.47 1.35L5.41 20z\"/>\n",
              "  </svg>\n",
              "      </button>\n",
              "      \n",
              "  <style>\n",
              "    .colab-df-container {\n",
              "      display:flex;\n",
              "      flex-wrap:wrap;\n",
              "      gap: 12px;\n",
              "    }\n",
              "\n",
              "    .colab-df-convert {\n",
              "      background-color: #E8F0FE;\n",
              "      border: none;\n",
              "      border-radius: 50%;\n",
              "      cursor: pointer;\n",
              "      display: none;\n",
              "      fill: #1967D2;\n",
              "      height: 32px;\n",
              "      padding: 0 0 0 0;\n",
              "      width: 32px;\n",
              "    }\n",
              "\n",
              "    .colab-df-convert:hover {\n",
              "      background-color: #E2EBFA;\n",
              "      box-shadow: 0px 1px 2px rgba(60, 64, 67, 0.3), 0px 1px 3px 1px rgba(60, 64, 67, 0.15);\n",
              "      fill: #174EA6;\n",
              "    }\n",
              "\n",
              "    [theme=dark] .colab-df-convert {\n",
              "      background-color: #3B4455;\n",
              "      fill: #D2E3FC;\n",
              "    }\n",
              "\n",
              "    [theme=dark] .colab-df-convert:hover {\n",
              "      background-color: #434B5C;\n",
              "      box-shadow: 0px 1px 3px 1px rgba(0, 0, 0, 0.15);\n",
              "      filter: drop-shadow(0px 1px 2px rgba(0, 0, 0, 0.3));\n",
              "      fill: #FFFFFF;\n",
              "    }\n",
              "  </style>\n",
              "\n",
              "      <script>\n",
              "        const buttonEl =\n",
              "          document.querySelector('#df-ef2b036e-7c45-4a37-bbbc-24dc819df082 button.colab-df-convert');\n",
              "        buttonEl.style.display =\n",
              "          google.colab.kernel.accessAllowed ? 'block' : 'none';\n",
              "\n",
              "        async function convertToInteractive(key) {\n",
              "          const element = document.querySelector('#df-ef2b036e-7c45-4a37-bbbc-24dc819df082');\n",
              "          const dataTable =\n",
              "            await google.colab.kernel.invokeFunction('convertToInteractive',\n",
              "                                                     [key], {});\n",
              "          if (!dataTable) return;\n",
              "\n",
              "          const docLinkHtml = 'Like what you see? Visit the ' +\n",
              "            '<a target=\"_blank\" href=https://colab.research.google.com/notebooks/data_table.ipynb>data table notebook</a>'\n",
              "            + ' to learn more about interactive tables.';\n",
              "          element.innerHTML = '';\n",
              "          dataTable['output_type'] = 'display_data';\n",
              "          await google.colab.output.renderOutput(dataTable, element);\n",
              "          const docLink = document.createElement('div');\n",
              "          docLink.innerHTML = docLinkHtml;\n",
              "          element.appendChild(docLink);\n",
              "        }\n",
              "      </script>\n",
              "    </div>\n",
              "  </div>\n",
              "  "
            ]
          },
          "metadata": {},
          "execution_count": 125
        }
      ]
    },
    {
      "cell_type": "code",
      "source": [
        "df2.info()"
      ],
      "metadata": {
        "colab": {
          "base_uri": "https://localhost:8080/"
        },
        "id": "XjpAn3TpM0vQ",
        "outputId": "5b3552f7-9776-40b4-d4d4-58e289138898"
      },
      "execution_count": 126,
      "outputs": [
        {
          "output_type": "stream",
          "name": "stdout",
          "text": [
            "<class 'pandas.core.frame.DataFrame'>\n",
            "RangeIndex: 5903 entries, 0 to 5902\n",
            "Data columns (total 4 columns):\n",
            " #   Column     Non-Null Count  Dtype \n",
            "---  ------     --------------  ----- \n",
            " 0   IDADE      5903 non-null   int64 \n",
            " 1   SEXO       5903 non-null   object\n",
            " 2   INTERNADO  5903 non-null   int64 \n",
            " 3   STATUS     5903 non-null   int64 \n",
            "dtypes: int64(3), object(1)\n",
            "memory usage: 184.6+ KB\n"
          ]
        }
      ]
    },
    {
      "cell_type": "markdown",
      "source": [
        "## Exploração dos dados"
      ],
      "metadata": {
        "id": "NHSuTtiZNmJF"
      }
    },
    {
      "cell_type": "markdown",
      "source": [
        "**IDADE**"
      ],
      "metadata": {
        "id": "AWAnu1zoMrTs"
      }
    },
    {
      "cell_type": "code",
      "source": [
        "import plotly.express as px"
      ],
      "metadata": {
        "id": "X_xgVcFSMsb8"
      },
      "execution_count": 127,
      "outputs": []
    },
    {
      "cell_type": "code",
      "source": [
        "hist =  px.histogram (df2,  x = \"IDADE\", nbins=60) \n",
        "hist.update_layout(width=600,height=400,title_text='Distribuição das idades') \n",
        "hist.show()"
      ],
      "metadata": {
        "colab": {
          "base_uri": "https://localhost:8080/",
          "height": 0
        },
        "id": "vRwwpyB_MvYk",
        "outputId": "e1bc9eba-ea4b-4262-9129-616f81caedde"
      },
      "execution_count": 128,
      "outputs": [
        {
          "output_type": "display_data",
          "data": {
            "text/html": [
              "<html>\n",
              "<head><meta charset=\"utf-8\" /></head>\n",
              "<body>\n",
              "    <div>            <script src=\"https://cdnjs.cloudflare.com/ajax/libs/mathjax/2.7.5/MathJax.js?config=TeX-AMS-MML_SVG\"></script><script type=\"text/javascript\">if (window.MathJax) {MathJax.Hub.Config({SVG: {font: \"STIX-Web\"}});}</script>                <script type=\"text/javascript\">window.PlotlyConfig = {MathJaxConfig: 'local'};</script>\n",
              "        <script src=\"https://cdn.plot.ly/plotly-2.8.3.min.js\"></script>                <div id=\"c98816e9-381c-4191-afaf-657591af8d92\" class=\"plotly-graph-div\" style=\"height:400px; width:600px;\"></div>            <script type=\"text/javascript\">                                    window.PLOTLYENV=window.PLOTLYENV || {};                                    if (document.getElementById(\"c98816e9-381c-4191-afaf-657591af8d92\")) {                    Plotly.newPlot(                        \"c98816e9-381c-4191-afaf-657591af8d92\",                        [{\"alignmentgroup\":\"True\",\"bingroup\":\"x\",\"hovertemplate\":\"IDADE=%{x}<br>count=%{y}<extra></extra>\",\"legendgroup\":\"\",\"marker\":{\"color\":\"#636efa\",\"pattern\":{\"shape\":\"\"}},\"name\":\"\",\"nbinsx\":60,\"offsetgroup\":\"\",\"orientation\":\"v\",\"showlegend\":false,\"x\":[54,15,43,25,58,57,27,26,52,22,26,48,32,36,45,26,48,53,30,32,81,58,52,44,36,28,53,30,41,73,70,42,32,38,61,36,68,28,59,79,56,59,32,54,17,41,22,69,54,10,62,62,34,78,30,51,30,46,38,28,80,41,51,31,27,40,49,66,54,56,55,29,29,35,77,58,59,39,63,30,64,29,39,29,37,45,59,69,37,75,70,74,63,61,62,59,37,65,36,54,61,32,58,36,46,35,50,50,23,62,61,56,41,43,56,68,41,31,17,44,53,29,38,63,66,55,55,86,54,68,29,64,32,88,52,49,53,60,39,93,34,28,37,35,31,78,54,57,34,41,62,41,94,29,45,47,38,68,29,36,66,37,35,37,42,54,41,77,58,85,45,25,31,56,81,35,72,56,45,54,52,48,49,23,29,47,19,30,32,22,65,43,65,48,36,96,47,33,20,35,37,23,49,70,62,47,52,55,82,39,52,34,75,30,31,29,74,56,43,42,51,30,47,33,58,62,30,31,44,50,18,70,36,37,80,88,23,62,42,75,73,87,37,24,57,24,33,30,29,31,1,20,74,39,26,71,40,69,26,32,34,43,38,51,25,25,53,85,94,62,9,31,33,25,38,59,43,24,36,53,26,64,37,57,44,57,76,62,49,48,48,38,29,79,32,36,17,30,42,79,44,40,84,69,36,30,38,49,81,74,24,40,36,31,63,75,36,31,49,59,37,34,24,22,85,32,45,89,27,46,30,64,44,26,57,69,32,57,28,52,29,59,44,54,40,46,70,29,25,37,39,55,45,26,86,38,55,71,35,56,42,72,81,28,61,45,34,72,36,31,54,36,48,46,38,49,32,40,47,54,75,56,33,25,16,36,35,35,59,59,93,47,24,31,15,38,27,57,53,54,43,45,50,39,13,23,66,41,40,67,49,17,39,63,42,24,37,58,80,3,41,30,44,45,53,40,34,45,36,44,31,59,41,64,42,26,31,65,56,54,65,42,27,29,51,80,77,69,53,71,45,62,82,32,89,21,47,38,25,26,52,40,46,38,24,82,77,65,22,50,63,21,65,24,81,51,27,80,43,72,58,89,42,53,23,37,55,30,27,55,36,38,5,34,44,34,67,60,22,35,25,41,25,80,23,31,47,44,89,31,67,46,45,29,41,62,53,48,36,68,85,42,30,45,90,49,36,53,23,36,31,3,34,57,54,67,50,52,31,3,64,3,48,20,34,27,63,42,25,44,64,50,26,62,60,63,31,39,37,42,50,55,39,39,63,47,37,42,42,43,68,61,29,69,46,46,27,46,64,34,30,31,23,27,56,36,73,62,74,56,56,12,44,27,62,58,52,55,89,38,64,26,33,31,25,56,23,53,22,1,55,28,28,50,59,35,42,50,58,9,55,53,83,30,52,0,34,76,77,52,7,38,39,49,37,55,50,22,3,54,67,55,24,50,47,78,51,42,23,59,67,39,31,38,1,33,29,43,0,63,33,82,8,55,49,16,66,66,67,56,62,34,38,76,58,40,32,38,39,70,31,33,74,79,48,44,85,85,74,55,20,43,51,37,73,52,41,30,75,56,21,38,23,27,29,90,23,24,40,65,77,45,63,27,44,54,38,39,45,34,53,51,30,27,39,41,36,66,41,37,52,65,38,37,35,56,87,31,55,67,65,52,68,73,16,88,47,22,31,40,52,39,53,37,66,89,44,49,40,58,48,45,39,40,43,41,35,32,29,30,62,27,58,61,28,56,36,47,53,52,54,42,67,45,55,60,29,36,32,41,38,38,26,41,36,23,62,46,26,33,80,51,24,58,78,45,50,32,38,37,40,76,38,60,61,60,49,36,58,69,37,38,21,70,34,79,47,44,41,48,25,24,37,48,56,48,36,56,45,58,28,52,42,33,86,71,31,6,59,16,77,36,49,24,9,23,32,57,25,19,35,48,22,13,48,62,47,5,30,60,48,50,23,9,18,34,64,31,54,37,40,56,81,75,56,62,21,28,24,68,44,65,71,73,47,31,29,40,87,42,59,42,57,34,1,66,24,23,49,36,61,40,55,8,30,62,82,58,42,47,63,54,41,46,85,26,48,46,23,30,67,81,49,77,48,53,51,50,13,5,29,67,23,75,69,33,76,62,57,38,66,70,22,52,54,61,36,35,46,69,41,54,30,9,75,72,49,53,53,59,56,21,40,13,38,62,43,81,66,63,48,24,48,41,22,22,57,39,47,24,28,26,82,34,79,30,67,62,85,20,23,54,19,47,57,55,68,40,48,50,33,82,89,51,48,67,49,29,43,85,41,46,62,43,64,38,39,30,44,59,65,74,48,49,57,57,36,38,5,27,33,54,21,30,39,55,59,46,32,61,26,56,25,37,49,33,38,36,34,61,24,48,32,49,87,81,26,23,38,42,44,18,39,33,61,64,41,24,50,25,31,82,45,65,53,36,37,50,50,38,46,58,41,25,40,43,64,29,73,20,41,41,36,30,44,50,30,44,28,42,58,42,37,49,31,60,46,47,28,29,46,91,10,42,71,29,38,51,75,70,54,32,50,25,37,64,46,39,69,31,55,45,31,36,68,66,58,66,48,41,35,93,26,34,43,48,31,47,29,37,43,55,52,57,41,46,48,19,28,37,49,64,52,58,59,44,65,75,70,69,11,20,33,22,33,54,38,22,44,56,74,37,33,54,79,50,1,68,45,78,52,31,77,62,89,39,70,48,68,19,17,42,27,30,42,40,32,37,22,28,77,55,31,61,79,61,30,59,74,41,32,38,40,39,22,59,52,39,34,57,21,64,67,28,42,41,77,77,32,75,59,56,23,34,45,36,39,57,45,62,39,43,42,49,46,49,68,48,50,76,56,87,57,57,85,59,58,64,80,69,79,61,81,69,70,45,62,48,44,76,21,51,28,22,26,50,59,73,30,55,76,33,56,29,33,69,37,32,39,41,82,36,58,17,5,61,37,74,53,39,69,48,44,81,25,49,45,47,28,44,30,34,48,55,41,58,27,73,20,29,27,30,28,40,54,34,21,32,52,44,34,46,28,23,30,2,39,27,54,59,60,36,32,40,67,73,33,35,87,64,70,49,63,68,88,31,70,90,90,82,29,88,57,47,48,38,61,72,58,17,56,40,28,49,38,45,37,48,77,37,65,37,63,54,34,71,26,29,30,63,42,59,27,51,56,28,38,45,47,40,39,50,55,27,62,48,73,38,56,22,42,27,41,70,63,24,39,66,37,39,53,40,36,22,53,24,38,47,96,49,64,41,43,70,25,12,67,36,46,49,32,66,45,55,59,50,44,45,89,49,67,31,75,57,43,42,35,23,45,46,42,22,33,28,27,30,77,75,67,18,38,60,43,39,83,45,57,34,38,49,49,56,21,80,52,29,41,51,42,9,42,50,63,58,24,85,48,48,41,48,43,20,22,20,26,44,35,57,38,68,41,57,39,37,29,90,76,26,29,67,60,52,52,67,67,75,17,40,59,61,72,61,47,55,85,81,89,47,50,75,66,44,27,35,47,60,27,46,37,36,63,24,44,68,46,50,32,30,44,27,45,47,48,43,54,38,30,87,74,64,29,84,36,67,46,52,46,60,59,48,23,77,39,22,65,62,35,28,57,38,56,31,63,35,39,48,43,37,37,58,78,58,32,30,88,47,39,40,53,71,69,67,67,52,74,77,73,37,64,3,45,78,42,49,32,63,81,42,40,45,21,38,26,49,45,50,43,49,27,58,61,45,29,30,54,44,33,90,51,37,80,60,69,41,30,66,30,49,35,50,68,75,61,40,56,43,68,70,35,50,36,21,85,44,42,52,59,33,66,33,18,53,34,62,34,42,45,61,41,42,20,28,43,36,30,70,45,57,41,42,44,54,41,36,67,50,53,73,84,64,30,86,86,44,56,69,65,75,52,57,35,35,50,29,26,36,68,38,24,61,24,69,17,52,59,69,49,27,52,14,48,63,56,46,46,46,45,31,48,43,2,27,45,27,39,19,19,19,50,41,50,14,35,32,54,36,48,87,42,79,48,41,22,43,61,63,62,53,44,28,34,55,52,43,48,3,34,39,70,22,57,63,70,44,40,40,57,35,29,3,53,66,77,22,77,59,56,54,62,29,32,55,55,64,27,36,45,39,55,48,30,34,82,38,29,1,47,34,49,40,28,40,74,35,82,57,36,76,26,68,70,50,79,62,86,71,7,54,36,45,56,26,40,28,33,49,19,29,30,41,47,63,28,57,60,20,44,39,38,35,26,45,50,21,29,47,42,44,36,33,34,31,27,35,22,73,43,40,44,45,27,64,28,23,1,41,68,43,46,35,28,35,53,42,33,42,4,46,42,37,21,58,45,37,37,64,58,43,55,23,36,46,20,26,32,18,67,27,42,60,42,50,35,72,65,43,27,88,11,33,31,62,37,37,31,35,38,43,28,46,60,60,57,48,35,51,63,55,37,68,30,42,47,63,53,50,57,64,53,39,48,61,82,46,76,28,58,38,37,41,59,50,28,33,41,49,63,68,66,49,76,52,79,39,46,27,17,43,82,43,38,75,72,51,49,27,89,63,72,53,78,36,28,33,55,65,51,53,20,46,34,21,52,45,48,36,2,82,27,42,40,57,53,54,57,76,63,49,48,14,48,67,36,66,51,26,40,39,36,23,83,53,45,29,76,37,45,24,43,48,30,33,72,63,63,74,74,40,33,41,45,34,19,38,31,50,36,54,28,42,47,70,26,13,46,51,55,61,43,71,62,72,23,59,82,69,70,83,33,71,36,33,49,24,47,32,32,5,20,56,35,20,40,31,39,82,39,39,47,38,20,25,32,51,41,40,45,20,35,24,27,45,93,37,27,34,37,46,46,32,20,57,72,50,28,31,61,72,85,37,80,59,57,66,72,24,53,34,39,82,40,43,28,37,80,46,74,55,59,66,25,59,45,28,52,63,54,22,38,21,29,45,31,15,35,56,58,59,56,31,30,24,21,35,46,24,20,0,34,7,23,55,39,42,50,57,30,46,65,43,61,36,40,40,59,20,27,38,44,28,39,38,33,29,41,58,22,52,26,64,30,36,61,37,25,46,65,34,39,44,53,7,34,29,47,46,41,43,40,37,29,1,38,27,49,79,32,28,56,14,71,33,41,33,23,44,47,40,38,57,48,40,37,50,48,38,52,65,27,38,33,36,45,57,49,36,54,54,27,43,44,37,29,68,30,0,39,37,35,39,35,27,40,60,66,32,47,38,35,37,36,46,53,29,28,34,80,61,42,1,48,23,53,26,23,20,28,32,79,51,39,50,36,35,38,19,30,46,37,24,64,55,23,40,50,47,32,29,37,31,64,53,4,66,31,52,38,74,4,1,31,45,43,20,47,42,40,25,73,46,21,30,20,48,37,54,28,24,68,62,52,65,49,39,32,26,36,43,27,72,36,52,38,62,38,28,48,26,40,45,48,57,38,23,54,35,40,46,32,52,43,32,20,51,31,20,80,28,37,27,51,16,66,20,35,22,33,49,42,37,52,57,27,43,41,36,24,55,61,23,41,34,40,27,49,39,43,60,29,29,24,25,28,62,50,46,23,49,25,62,38,15,40,30,53,19,31,38,61,43,36,74,51,45,36,38,67,25,40,35,24,37,34,53,34,36,29,24,44,32,31,34,54,31,53,31,35,27,34,66,24,42,24,47,68,88,28,29,75,25,30,4,30,57,16,74,18,57,23,30,39,48,40,36,69,44,23,43,23,68,28,26,34,19,38,35,44,75,71,22,18,27,43,43,20,26,26,77,38,20,47,20,28,56,38,36,45,55,35,16,44,39,59,39,24,46,26,42,42,25,21,32,34,18,64,42,30,59,63,66,45,35,0,71,24,43,65,42,25,33,60,57,47,50,79,83,25,44,29,48,40,25,21,37,32,58,31,58,56,44,38,67,73,76,73,63,44,40,39,33,40,29,42,41,26,45,11,35,38,42,42,59,52,49,59,46,21,47,1,88,39,79,77,37,76,31,76,51,48,24,92,54,60,79,29,49,43,32,56,66,45,46,59,32,63,65,64,43,65,23,34,32,23,69,44,23,66,1,31,65,66,41,51,45,48,27,26,55,42,25,25,40,44,36,66,48,44,54,46,86,53,64,31,38,31,31,40,27,26,38,29,62,39,46,39,35,30,30,28,64,40,65,21,27,35,22,65,61,62,32,60,71,56,62,55,74,44,50,64,54,26,42,74,75,67,66,29,41,37,41,22,48,37,29,40,46,24,63,33,32,25,35,32,44,63,26,30,52,36,34,58,49,43,45,60,66,34,69,34,55,27,24,53,55,28,85,45,41,44,39,23,47,37,34,73,26,29,22,33,32,60,53,37,6,63,28,56,33,42,35,45,51,44,20,49,28,37,45,51,41,29,43,69,53,65,17,39,40,28,28,8,29,41,40,29,40,49,37,68,14,45,0,48,80,71,54,90,50,34,72,13,26,56,59,68,56,32,32,41,33,56,56,85,11,24,13,88,44,35,36,55,59,29,64,51,31,17,40,41,29,24,35,57,24,45,40,24,40,31,81,55,32,45,46,52,38,29,46,33,28,31,24,63,59,36,43,49,39,43,28,23,31,22,14,59,33,34,38,29,54,49,50,30,51,50,56,36,40,34,64,41,24,25,17,58,66,43,28,61,40,37,37,55,29,30,34,29,33,31,23,31,43,52,14,27,22,38,82,80,53,43,33,33,32,25,60,71,46,61,30,21,57,27,55,65,34,28,39,24,22,57,73,4,33,30,53,11,49,54,67,33,60,34,45,45,70,37,29,42,11,66,47,29,32,7,59,48,57,37,53,36,32,57,37,45,31,32,27,31,45,66,27,56,3,89,28,35,60,29,67,34,51,35,47,73,63,78,27,60,59,38,41,62,31,45,73,52,42,69,42,65,81,47,51,41,43,39,55,35,45,46,33,62,58,39,0,3,27,36,8,36,26,29,44,54,51,47,63,24,63,60,48,59,79,36,56,66,62,86,76,52,49,58,72,35,22,17,17,45,37,56,39,22,24,24,3,71,66,67,59,51,58,49,59,56,65,42,85,55,91,26,40,27,39,39,7,47,24,49,43,63,70,38,33,78,39,34,70,65,43,42,6,53,52,59,41,57,62,32,23,52,37,55,63,44,56,44,59,28,13,16,67,38,41,31,49,48,52,54,43,59,49,33,29,67,26,42,40,50,45,28,2,66,25,48,22,37,59,29,42,72,61,39,12,28,32,24,65,45,65,19,36,58,30,43,31,24,63,44,47,38,57,68,31,39,25,85,54,27,24,40,60,33,43,43,60,60,24,49,26,28,43,9,33,53,54,45,51,36,32,62,52,37,22,39,38,33,41,37,1,1,49,44,48,49,39,22,40,69,49,23,34,36,39,51,42,31,36,24,39,42,41,42,23,34,68,15,68,44,20,33,34,50,37,23,36,58,26,32,26,48,39,70,38,22,44,76,28,33,26,24,67,37,35,30,39,52,39,7,48,55,56,32,40,62,59,32,45,67,23,36,18,56,22,27,29,46,78,58,33,38,26,2,40,65,63,38,58,38,35,25,21,29,33,38,27,45,62,61,31,43,29,38,68,29,40,33,30,5,32,36,41,22,57,22,28,37,29,28,12,39,25,42,55,51,33,33,34,40,37,28,36,37,19,22,33,26,27,32,34,38,45,36,52,17,70,38,43,44,37,30,34,35,23,27,33,30,67,23,42,53,57,44,47,49,32,69,42,28,43,76,33,35,54,38,87,33,60,55,46,33,20,29,19,21,33,31,50,25,57,57,44,5,37,18,27,49,43,42,32,42,56,24,40,31,65,1,35,46,31,52,80,47,30,21,34,35,31,41,35,50,36,36,66,56,77,51,48,45,70,46,76,59,71,30,75,48,75,43,34,71,47,64,50,49,44,71,74,60,51,53,28,75,45,57,73,64,53,15,56,40,35,71,59,62,17,37,33,8,32,32,37,3,24,25,14,44,45,64,25,71,24,49,20,45,45,38,68,30,48,17,50,3,49,74,46,42,59,51,32,22,69,7,52,48,25,62,68,13,42,44,11,39,30,34,22,2,54,48,68,41,50,51,48,53,31,31,72,25,48,43,5,60,34,19,45,48,41,57,49,50,46,42,50,22,70,62,38,63,57,42,36,30,55,46,35,45,33,54,54,42,58,28,46,42,36,34,49,45,20,35,35,55,47,59,38,47,36,31,73,26,24,26,45,46,42,28,54,33,27,74,16,40,31,27,33,83,37,53,59,19,15,54,24,21,18,57,39,48,40,74,40,37,20,54,2,12,31,45,42,38,47,46,25,64,43,74,51,27,34,47,38,32,86,19,30,41,43,37,24,10,57,78,63,64,34,29,60,43,85,24,20,27,62,96,15,39,48,52,71,56,14,10,54,18,36,26,24,47,29,49,66,50,64,66,29,33,47,53,49,57,85,28,53,59,40,77,63,56,58,53,55,56,36,45,27,63,39,56,71,54,38,44,80,67,27,51,65,84,66,80,80,39,36,93,50,61,44,37,20,20,60,35,27,79,33,24,56,32,52,62,51,64,12,54,68,55,28,33,41,31,26,43,46,36,70,56,24,41,28,50,19,56,46,56,47,77,42,24,49,41,43,46,46,31,42,33,34,52,26,10,25,24,45,48,49,30,23,33,58,50,56,30,29,43,23,39,24,36,71,70,25,23,32,6,70,64,55,50,58,51,47,33,25,39,53,72,34,42,56,40,54,3,39,28,38,55,39,30,59,12,39,72,49,8,57,39,62,58,57,35,43,43,26,49,78,32,43,26,37,53,32,2,33,38,47,62,42,42,62,74,34,60,48,48,55,29,60,29,65,73,65,55,53,52,38,62,13,22,27,60,25,81,66,39,25,52,42,75,54,50,32,51,33,38,28,27,25,23,67,40,34,41,52,21,42,81,21,22,50,59,30,22,40,53,63,22,42,35,37,31,41,15,74,55,62,23,26,61,88,11,24,42,50,41,9,65,48,21,20,20,18,46,48,49,56,19,36,31,38,32,50,42,51,50,53,63,53,55,74,55,50,55,22,56,0,29,69,47,44,57,88,19,38,7,41,40,70,60,25,27,37,50,33,22,42,46,38,26,24,35,34,58,32,35,50,25,28,3,34,37,39,16,17,43,36,38,30,22,50,39,40,45,28,24,49,46,19,51,68,26,41,32,65,24,76,40,36,41,29,46,68,41,42,31,36,55,28,64,56,28,55,30,11,24,57,35,34,26,53,52,64,83,56,30,50,57,78,82,47,73,50,57,43,43,90,52,66,23,90,74,24,66,33,52,68,75,53,60,88,80,39,74,44,50,20,36,51,51,58,37,58,55,36,68,42,51,23,45,37,72,41,30,37,33,26,31,38,33,35,42,56,72,35,70,34,42,36,51,32,26,31,53,39,38,15,12,18,57,34,18,37,58,65,45,66,30,34,60,28,61,52,23,21,30,45,24,77,10,57,35,65,55,37,23,24,22,21,23,24,31,25,18,62,34,38,35,22,30,48,26,38,54,52,65,60,32,31,23,51,30,33,21,58,32,36,52,39,43,18,90,36,2,28,26,54,46,56,28,30,30,92,88,67,33,32,70,34,38,29,69,32,25,32,45,29,32,34,76,62,44,42,48,51,35,31,37,40,44,40,26,28,28,36,36,37,57,27,83,33,28,35,59,47,66,26,75,38,48,42,40,28,21,74,38,55,44,30,23,30,32,31,60,40,40,51,37,62,59,27,39,48,58,52,62,12,42,22,52,15,18,22,58,42,25,51,32,12,34,4,33,23,72,39,44,42,60,26,59,48,35,54,29,53,51,56,83,80,50,81,81,55,5,39,77,41,73,69,47,50,25,90,35,59,62,9,84,62,52,79,23,21,42,61,51,39,53,45,33,31,46,23,54,50,24,19,48,22,48,20,50,45,67,35,12,26,42,30,23,25,29,51,26,37,38,37,20,39,50,47,22,43,43,36,40,0,34,23,66,46,28,48,48,41,46,39,50,27,66,50,62,47,48,23,44,23,23,30,69,28,1,58,68,28,50,43,39,23,39,22,41,31,50,21,57,8,25,22,7,53,33,57,51,41,61,52,69,32,14,39,22,30,49,41,48,47,31,30,26,31,36,34,27,69,38,31,29,29,37,26,38,38,61,26,22,42,32,28,62,38,31,43,38,37,39,33,29,30,36,3,78,37,58,16,37,23,28,27,35,54,31,3,23,60,1,42,9,33,33,45,54,59,72,66,82,8,31,26,31,39,49,28,66,59,63,38,37,20,59,63,64,68,22,58,33,66,29,45,38,34,35,23,34,79,60,55,75,64,42,54,74,40,71,87,3,81,47,69,56,65,57,39,81,25,47,26,32,37,46,22,44,59,47,77,59,35,34,26,53,30,22,25,42,27,56,35,27,32,19,49,27,56,63,34,46,39,55,45,80,73,44,59,36,85,62,51,45,20,41,45,60,59,73,50,68,43,76,68,62,86,55,51,62,49,34,80,2,18,27,32,55,53,64,59,74,61,51,36,63,71,38,0,30,56,52,20,26,47,28,37,33,37,52,27,26,30,48,34,52,26,24,32,63,59,67,54,41,43,58,58,34,40,45,54,52,31,39,34,49,30,77,76,45,57,58,47,32,35,90,48,63,51,15,79,46,51,64,77,43,42,38,19,59,24,26,24,24,55,63,28,21,49,45,17,27,25,49,15,36,20,34,21,5,45,67,24,12,3,29,36,58,34,17,75,20,31,57,40,32,33,59,45,57,30,45,67,43,44,30,27,28,52,60,33,21,32,16,36,42,58,66,46,38,34,31,24,24,69,19,62,47,9,12,53,50,62,45,72,62,63,42,35,59,84,59,35,78,63,6,35,70,30,45,50,55,24,48,65,23,57,28,26,38,19,30,51,43,44,50,30,51,20,52,46,61,38,45,36,58,52,53,33,3,69,20,28,26,69,25,44,69,29,73,39,45,54,42,34,40,32,28,38,44,4,24,43,77,38,43,19,40,28,32,25,49,43,35,27,31,35,20,22,26,48,23,38,74,47,11,47,42,74,48,67,47,62,44,40,65,50,48,45,34,20,22,51,27,37,44,63,83,26,34,35,19,26,47,10,69,36,32,67,54,40,41,23,37,39,1,47,43,38,52,54,25,44,29,40,32,35,26,46,32,45,32,23,24,47,57,44,23,57,53,2,38,43,64,29,50,21,25,22,50,63,57,50,57,50,37,41,36,31,36,60,17,31,30,46,56,42,27,53,56,37,29,36,39,58,52,16,60,47,50,1,31,52,70,10,33,26,58,40,20,35,30,31,42,33,66,43,30,44,57,46,59,28,20,33,29,64,46,28,46,18,26,41,53,25,45,38,45,24,58,39,44,34,33,30,25,68,51,39,37,40,48,54,8,29,29,50,52,41,44,37,74,44,46,34,38,39,32,46,42,28,54,25,28,43,58,18,63,24,49,58,47,27,67,11,18,38,48,70,40,56,24,28,22,24,32,47,55,30,62,57,53,28,38,64,14,43,67,21,54,35,25,63,50,83,74,43,29,74,50,26,41,50,59,45,45,32,33,7,50,30,67,39,21,57,29,41,39,46,37,42,43,18,38,38,28,17,11,54,20,44,44,63,13,0,25,35,35,43,30,23,34,50,65,45,56,54,32,36,26,30,35,44,34,51,71,49,33,32,42,20,1,26,18,75,41,34,35,55,22,38,70,39,59,44,49,42,48,21,22,35,50,34,34,51,31,49,27,33,34,37,54,27,37,29,40,36,31,48,65,8,29,82,70,53,59,38,0,31,45,30,21,28,24,46,63,66,56,57,42,22,38,80,39,28,36,28,73,33,34,35,2,44,65,50,41,19,32,33,36,41,26,45,53,69,48,57,89,68,36,83,51,61,5,45,63,44,41,72,61,46,56,68,57,34,44,70,70,64,36,48,58,49,68,49,58,32,37,40,55,39,38,77,53,33,23,38,30,66,41,26,68,77,45,23,44,33,38,37,32,45,67,34,43,65,35,32,33,25,38,29,27,46,26,20,28,40,28,54,24,33,21,59,54,28,62,45,53,20,24,46,17,66,59,4,68,33,18,28,2,19,24,31,57,78,38,13,60,25,58,74,35,46,43,38,27,43,46,50,13,45,34,41,53,45,25,42,45,20,34,0,54,25,42,60,40,43,58,39,57,47,41,57,4,45,42,17,0,43,74,26,44,32,46,60,33,50,45,26,40,79,54,61,43,16,33,40,43,23,54,46,40,24,43,26,30,27,62,65,36,58,29,35,33,38,38,34,27,33,2,15,16,28,54,16,28,41,24,7,28,58,42,37,36,51,26,25,47,41,64,30,44,61,35,64,11,44,32,55,38,33,32,4,41,41,32,36,70,69,39,51,52,65,56,47,64,32,3,59,39,62,60,23,26,30,23,53,20,45,42,58,37,35,24,66,33,43,39,38,19,27,18,30,25,26,33,37,43,32,69,49,38,57,45,44,42,46,57,38,37,36,63,47,35,27,33,30,45,53,43,54,25,16,24,39,45,3,23,42,26,39,45,56,41,41,19,46,65,45,40,17,39,87,28,54,50,42,49,57,40,60,41,49,38,50,42,24,26,55,18,39,29,35,32,22,53,25,41,61,28,53,56,36,33,39,37,21,24,54,19,40,39,21,63,41,29,31,31,36,56,22,28,26,3,62,2,60,44,60,73,48,25,26,47,57,41,69,22,61,50,46,58,48,50,43,37,49,56,56,20,28,50,56,31,66,36,28,64,35,90,30,62,80,66,78,59,96,64,29,47,36,68,62,60,83,55,58,79,59,69,59,69,24,63,84,34,60,63,86,67,58,32,35,21,21,42,44,28,36,29,70,48,47,34,24,42,38,26,38,33,5,48,36,31,32,45,55,34,70,52,77,29,39,26,43,52,29,24,61,33,70,15,43,25,53,29,54,40,53,23,62,51,50,78,1,25,69,61,43,59,35,54,38,65,47,33,17,49,18,35,64,30,39,2,51,57,22,32,52,51,23,34,39,26,0,14,40,76,39,17,26,31,45,71,24,26,19,44,43,41,4,24,22,32,36,12,68,43,50,35,65,13,24,46,33,21,51,43,57,51,24,67,77,74,53,71,24,18,38,13,24,54,37,41,56,50,57,35,24,27,41,28,42,60,33,53,38,28,55,54,48,63,53,31,51,26,32,73,44,47,60,57,30,35,21,79,43,27,35,58,67,36,30,19,36,23,39,22,62,60,30,56,54,58,35,53,61,42,44,37,47,29,24,88,1,46,23,34,70,67],\"xaxis\":\"x\",\"yaxis\":\"y\",\"type\":\"histogram\"}],                        {\"template\":{\"data\":{\"bar\":[{\"error_x\":{\"color\":\"#2a3f5f\"},\"error_y\":{\"color\":\"#2a3f5f\"},\"marker\":{\"line\":{\"color\":\"#E5ECF6\",\"width\":0.5},\"pattern\":{\"fillmode\":\"overlay\",\"size\":10,\"solidity\":0.2}},\"type\":\"bar\"}],\"barpolar\":[{\"marker\":{\"line\":{\"color\":\"#E5ECF6\",\"width\":0.5},\"pattern\":{\"fillmode\":\"overlay\",\"size\":10,\"solidity\":0.2}},\"type\":\"barpolar\"}],\"carpet\":[{\"aaxis\":{\"endlinecolor\":\"#2a3f5f\",\"gridcolor\":\"white\",\"linecolor\":\"white\",\"minorgridcolor\":\"white\",\"startlinecolor\":\"#2a3f5f\"},\"baxis\":{\"endlinecolor\":\"#2a3f5f\",\"gridcolor\":\"white\",\"linecolor\":\"white\",\"minorgridcolor\":\"white\",\"startlinecolor\":\"#2a3f5f\"},\"type\":\"carpet\"}],\"choropleth\":[{\"colorbar\":{\"outlinewidth\":0,\"ticks\":\"\"},\"type\":\"choropleth\"}],\"contour\":[{\"colorbar\":{\"outlinewidth\":0,\"ticks\":\"\"},\"colorscale\":[[0.0,\"#0d0887\"],[0.1111111111111111,\"#46039f\"],[0.2222222222222222,\"#7201a8\"],[0.3333333333333333,\"#9c179e\"],[0.4444444444444444,\"#bd3786\"],[0.5555555555555556,\"#d8576b\"],[0.6666666666666666,\"#ed7953\"],[0.7777777777777778,\"#fb9f3a\"],[0.8888888888888888,\"#fdca26\"],[1.0,\"#f0f921\"]],\"type\":\"contour\"}],\"contourcarpet\":[{\"colorbar\":{\"outlinewidth\":0,\"ticks\":\"\"},\"type\":\"contourcarpet\"}],\"heatmap\":[{\"colorbar\":{\"outlinewidth\":0,\"ticks\":\"\"},\"colorscale\":[[0.0,\"#0d0887\"],[0.1111111111111111,\"#46039f\"],[0.2222222222222222,\"#7201a8\"],[0.3333333333333333,\"#9c179e\"],[0.4444444444444444,\"#bd3786\"],[0.5555555555555556,\"#d8576b\"],[0.6666666666666666,\"#ed7953\"],[0.7777777777777778,\"#fb9f3a\"],[0.8888888888888888,\"#fdca26\"],[1.0,\"#f0f921\"]],\"type\":\"heatmap\"}],\"heatmapgl\":[{\"colorbar\":{\"outlinewidth\":0,\"ticks\":\"\"},\"colorscale\":[[0.0,\"#0d0887\"],[0.1111111111111111,\"#46039f\"],[0.2222222222222222,\"#7201a8\"],[0.3333333333333333,\"#9c179e\"],[0.4444444444444444,\"#bd3786\"],[0.5555555555555556,\"#d8576b\"],[0.6666666666666666,\"#ed7953\"],[0.7777777777777778,\"#fb9f3a\"],[0.8888888888888888,\"#fdca26\"],[1.0,\"#f0f921\"]],\"type\":\"heatmapgl\"}],\"histogram\":[{\"marker\":{\"pattern\":{\"fillmode\":\"overlay\",\"size\":10,\"solidity\":0.2}},\"type\":\"histogram\"}],\"histogram2d\":[{\"colorbar\":{\"outlinewidth\":0,\"ticks\":\"\"},\"colorscale\":[[0.0,\"#0d0887\"],[0.1111111111111111,\"#46039f\"],[0.2222222222222222,\"#7201a8\"],[0.3333333333333333,\"#9c179e\"],[0.4444444444444444,\"#bd3786\"],[0.5555555555555556,\"#d8576b\"],[0.6666666666666666,\"#ed7953\"],[0.7777777777777778,\"#fb9f3a\"],[0.8888888888888888,\"#fdca26\"],[1.0,\"#f0f921\"]],\"type\":\"histogram2d\"}],\"histogram2dcontour\":[{\"colorbar\":{\"outlinewidth\":0,\"ticks\":\"\"},\"colorscale\":[[0.0,\"#0d0887\"],[0.1111111111111111,\"#46039f\"],[0.2222222222222222,\"#7201a8\"],[0.3333333333333333,\"#9c179e\"],[0.4444444444444444,\"#bd3786\"],[0.5555555555555556,\"#d8576b\"],[0.6666666666666666,\"#ed7953\"],[0.7777777777777778,\"#fb9f3a\"],[0.8888888888888888,\"#fdca26\"],[1.0,\"#f0f921\"]],\"type\":\"histogram2dcontour\"}],\"mesh3d\":[{\"colorbar\":{\"outlinewidth\":0,\"ticks\":\"\"},\"type\":\"mesh3d\"}],\"parcoords\":[{\"line\":{\"colorbar\":{\"outlinewidth\":0,\"ticks\":\"\"}},\"type\":\"parcoords\"}],\"pie\":[{\"automargin\":true,\"type\":\"pie\"}],\"scatter\":[{\"marker\":{\"colorbar\":{\"outlinewidth\":0,\"ticks\":\"\"}},\"type\":\"scatter\"}],\"scatter3d\":[{\"line\":{\"colorbar\":{\"outlinewidth\":0,\"ticks\":\"\"}},\"marker\":{\"colorbar\":{\"outlinewidth\":0,\"ticks\":\"\"}},\"type\":\"scatter3d\"}],\"scattercarpet\":[{\"marker\":{\"colorbar\":{\"outlinewidth\":0,\"ticks\":\"\"}},\"type\":\"scattercarpet\"}],\"scattergeo\":[{\"marker\":{\"colorbar\":{\"outlinewidth\":0,\"ticks\":\"\"}},\"type\":\"scattergeo\"}],\"scattergl\":[{\"marker\":{\"colorbar\":{\"outlinewidth\":0,\"ticks\":\"\"}},\"type\":\"scattergl\"}],\"scattermapbox\":[{\"marker\":{\"colorbar\":{\"outlinewidth\":0,\"ticks\":\"\"}},\"type\":\"scattermapbox\"}],\"scatterpolar\":[{\"marker\":{\"colorbar\":{\"outlinewidth\":0,\"ticks\":\"\"}},\"type\":\"scatterpolar\"}],\"scatterpolargl\":[{\"marker\":{\"colorbar\":{\"outlinewidth\":0,\"ticks\":\"\"}},\"type\":\"scatterpolargl\"}],\"scatterternary\":[{\"marker\":{\"colorbar\":{\"outlinewidth\":0,\"ticks\":\"\"}},\"type\":\"scatterternary\"}],\"surface\":[{\"colorbar\":{\"outlinewidth\":0,\"ticks\":\"\"},\"colorscale\":[[0.0,\"#0d0887\"],[0.1111111111111111,\"#46039f\"],[0.2222222222222222,\"#7201a8\"],[0.3333333333333333,\"#9c179e\"],[0.4444444444444444,\"#bd3786\"],[0.5555555555555556,\"#d8576b\"],[0.6666666666666666,\"#ed7953\"],[0.7777777777777778,\"#fb9f3a\"],[0.8888888888888888,\"#fdca26\"],[1.0,\"#f0f921\"]],\"type\":\"surface\"}],\"table\":[{\"cells\":{\"fill\":{\"color\":\"#EBF0F8\"},\"line\":{\"color\":\"white\"}},\"header\":{\"fill\":{\"color\":\"#C8D4E3\"},\"line\":{\"color\":\"white\"}},\"type\":\"table\"}]},\"layout\":{\"annotationdefaults\":{\"arrowcolor\":\"#2a3f5f\",\"arrowhead\":0,\"arrowwidth\":1},\"autotypenumbers\":\"strict\",\"coloraxis\":{\"colorbar\":{\"outlinewidth\":0,\"ticks\":\"\"}},\"colorscale\":{\"diverging\":[[0,\"#8e0152\"],[0.1,\"#c51b7d\"],[0.2,\"#de77ae\"],[0.3,\"#f1b6da\"],[0.4,\"#fde0ef\"],[0.5,\"#f7f7f7\"],[0.6,\"#e6f5d0\"],[0.7,\"#b8e186\"],[0.8,\"#7fbc41\"],[0.9,\"#4d9221\"],[1,\"#276419\"]],\"sequential\":[[0.0,\"#0d0887\"],[0.1111111111111111,\"#46039f\"],[0.2222222222222222,\"#7201a8\"],[0.3333333333333333,\"#9c179e\"],[0.4444444444444444,\"#bd3786\"],[0.5555555555555556,\"#d8576b\"],[0.6666666666666666,\"#ed7953\"],[0.7777777777777778,\"#fb9f3a\"],[0.8888888888888888,\"#fdca26\"],[1.0,\"#f0f921\"]],\"sequentialminus\":[[0.0,\"#0d0887\"],[0.1111111111111111,\"#46039f\"],[0.2222222222222222,\"#7201a8\"],[0.3333333333333333,\"#9c179e\"],[0.4444444444444444,\"#bd3786\"],[0.5555555555555556,\"#d8576b\"],[0.6666666666666666,\"#ed7953\"],[0.7777777777777778,\"#fb9f3a\"],[0.8888888888888888,\"#fdca26\"],[1.0,\"#f0f921\"]]},\"colorway\":[\"#636efa\",\"#EF553B\",\"#00cc96\",\"#ab63fa\",\"#FFA15A\",\"#19d3f3\",\"#FF6692\",\"#B6E880\",\"#FF97FF\",\"#FECB52\"],\"font\":{\"color\":\"#2a3f5f\"},\"geo\":{\"bgcolor\":\"white\",\"lakecolor\":\"white\",\"landcolor\":\"#E5ECF6\",\"showlakes\":true,\"showland\":true,\"subunitcolor\":\"white\"},\"hoverlabel\":{\"align\":\"left\"},\"hovermode\":\"closest\",\"mapbox\":{\"style\":\"light\"},\"paper_bgcolor\":\"white\",\"plot_bgcolor\":\"#E5ECF6\",\"polar\":{\"angularaxis\":{\"gridcolor\":\"white\",\"linecolor\":\"white\",\"ticks\":\"\"},\"bgcolor\":\"#E5ECF6\",\"radialaxis\":{\"gridcolor\":\"white\",\"linecolor\":\"white\",\"ticks\":\"\"}},\"scene\":{\"xaxis\":{\"backgroundcolor\":\"#E5ECF6\",\"gridcolor\":\"white\",\"gridwidth\":2,\"linecolor\":\"white\",\"showbackground\":true,\"ticks\":\"\",\"zerolinecolor\":\"white\"},\"yaxis\":{\"backgroundcolor\":\"#E5ECF6\",\"gridcolor\":\"white\",\"gridwidth\":2,\"linecolor\":\"white\",\"showbackground\":true,\"ticks\":\"\",\"zerolinecolor\":\"white\"},\"zaxis\":{\"backgroundcolor\":\"#E5ECF6\",\"gridcolor\":\"white\",\"gridwidth\":2,\"linecolor\":\"white\",\"showbackground\":true,\"ticks\":\"\",\"zerolinecolor\":\"white\"}},\"shapedefaults\":{\"line\":{\"color\":\"#2a3f5f\"}},\"ternary\":{\"aaxis\":{\"gridcolor\":\"white\",\"linecolor\":\"white\",\"ticks\":\"\"},\"baxis\":{\"gridcolor\":\"white\",\"linecolor\":\"white\",\"ticks\":\"\"},\"bgcolor\":\"#E5ECF6\",\"caxis\":{\"gridcolor\":\"white\",\"linecolor\":\"white\",\"ticks\":\"\"}},\"title\":{\"x\":0.05},\"xaxis\":{\"automargin\":true,\"gridcolor\":\"white\",\"linecolor\":\"white\",\"ticks\":\"\",\"title\":{\"standoff\":15},\"zerolinecolor\":\"white\",\"zerolinewidth\":2},\"yaxis\":{\"automargin\":true,\"gridcolor\":\"white\",\"linecolor\":\"white\",\"ticks\":\"\",\"title\":{\"standoff\":15},\"zerolinecolor\":\"white\",\"zerolinewidth\":2}}},\"xaxis\":{\"anchor\":\"y\",\"domain\":[0.0,1.0],\"title\":{\"text\":\"IDADE\"}},\"yaxis\":{\"anchor\":\"x\",\"domain\":[0.0,1.0],\"title\":{\"text\":\"count\"}},\"legend\":{\"tracegroupgap\":0},\"margin\":{\"t\":60},\"barmode\":\"relative\",\"title\":{\"text\":\"Distribui\\u00e7\\u00e3o das idades\"},\"width\":600,\"height\":400},                        {\"responsive\": true}                    ).then(function(){\n",
              "                            \n",
              "var gd = document.getElementById('c98816e9-381c-4191-afaf-657591af8d92');\n",
              "var x = new MutationObserver(function (mutations, observer) {{\n",
              "        var display = window.getComputedStyle(gd).display;\n",
              "        if (!display || display === 'none') {{\n",
              "            console.log([gd, 'removed!']);\n",
              "            Plotly.purge(gd);\n",
              "            observer.disconnect();\n",
              "        }}\n",
              "}});\n",
              "\n",
              "// Listen for the removal of the full notebook cells\n",
              "var notebookContainer = gd.closest('#notebook-container');\n",
              "if (notebookContainer) {{\n",
              "    x.observe(notebookContainer, {childList: true});\n",
              "}}\n",
              "\n",
              "// Listen for the clearing of the current output cell\n",
              "var outputEl = gd.closest('.output');\n",
              "if (outputEl) {{\n",
              "    x.observe(outputEl, {childList: true});\n",
              "}}\n",
              "\n",
              "                        })                };                            </script>        </div>\n",
              "</body>\n",
              "</html>"
            ]
          },
          "metadata": {}
        }
      ]
    },
    {
      "cell_type": "markdown",
      "source": [
        "**GENERO**"
      ],
      "metadata": {
        "id": "rKct10UdM8Cf"
      }
    },
    {
      "cell_type": "code",
      "source": [
        "df2['SEXO'].value_counts()"
      ],
      "metadata": {
        "colab": {
          "base_uri": "https://localhost:8080/"
        },
        "id": "fjOP5asvNZEG",
        "outputId": "dd141d37-881e-4627-d2b0-0ef66880ce2a"
      },
      "execution_count": 129,
      "outputs": [
        {
          "output_type": "execute_result",
          "data": {
            "text/plain": [
              "F    3099\n",
              "M    2804\n",
              "Name: SEXO, dtype: int64"
            ]
          },
          "metadata": {},
          "execution_count": 129
        }
      ]
    },
    {
      "cell_type": "code",
      "source": [
        "import seaborn as sns"
      ],
      "metadata": {
        "id": "NAKRC3UhNbe2"
      },
      "execution_count": 130,
      "outputs": []
    },
    {
      "cell_type": "code",
      "source": [
        "sns.countplot(x='SEXO', data=df2);"
      ],
      "metadata": {
        "colab": {
          "base_uri": "https://localhost:8080/",
          "height": 0
        },
        "id": "LztU5d-MNdMN",
        "outputId": "09d1c320-02cf-4804-bb03-4159ea9f88dc"
      },
      "execution_count": 131,
      "outputs": [
        {
          "output_type": "display_data",
          "data": {
            "text/plain": [
              "<Figure size 432x288 with 1 Axes>"
            ],
            "image/png": "[encoded data removed]"
          },
          "metadata": {
            "needs_background": "light"
          }
        }
      ]
    },
    {
      "cell_type": "code",
      "source": [
        "df2.shape"
      ],
      "metadata": {
        "colab": {
          "base_uri": "https://localhost:8080/"
        },
        "id": "_4a8FO_VNe-e",
        "outputId": "f6b3209f-32e4-4da4-a1c7-39cf17554790"
      },
      "execution_count": 132,
      "outputs": [
        {
          "output_type": "execute_result",
          "data": {
            "text/plain": [
              "(5903, 4)"
            ]
          },
          "metadata": {},
          "execution_count": 132
        }
      ]
    },
    {
      "cell_type": "code",
      "source": [
        "df2.describe()"
      ],
      "metadata": {
        "colab": {
          "base_uri": "https://localhost:8080/",
          "height": 0
        },
        "id": "2LtQnItKNqbs",
        "outputId": "203b9200-c322-4019-b8b7-f62f057638bc"
      },
      "execution_count": 133,
      "outputs": [
        {
          "output_type": "execute_result",
          "data": {
            "text/plain": [
              "             IDADE    INTERNADO       STATUS\n",
              "count  5903.000000  5903.000000  5903.000000\n",
              "mean     43.700999     0.219549     0.047603\n",
              "std      17.653127     0.413976     0.212943\n",
              "min       0.000000     0.000000     0.000000\n",
              "25%      31.000000     0.000000     0.000000\n",
              "50%      42.000000     0.000000     0.000000\n",
              "75%      56.000000     0.000000     0.000000\n",
              "max      96.000000     1.000000     1.000000"
            ],
            "text/html": [
              "\n",
              "  <div id=\"df-5fe7deb6-4f3f-420d-98c0-8afc75c52064\">\n",
              "    <div class=\"colab-df-container\">\n",
              "      <div>\n",
              "<style scoped>\n",
              "    .dataframe tbody tr th:only-of-type {\n",
              "        vertical-align: middle;\n",
              "    }\n",
              "\n",
              "    .dataframe tbody tr th {\n",
              "        vertical-align: top;\n",
              "    }\n",
              "\n",
              "    .dataframe thead th {\n",
              "        text-align: right;\n",
              "    }\n",
              "</style>\n",
              "<table border=\"1\" class=\"dataframe\">\n",
              "  <thead>\n",
              "    <tr style=\"text-align: right;\">\n",
              "      <th></th>\n",
              "      <th>IDADE</th>\n",
              "      <th>INTERNADO</th>\n",
              "      <th>STATUS</th>\n",
              "    </tr>\n",
              "  </thead>\n",
              "  <tbody>\n",
              "    <tr>\n",
              "      <th>count</th>\n",
              "      <td>5903.000000</td>\n",
              "      <td>5903.000000</td>\n",
              "      <td>5903.000000</td>\n",
              "    </tr>\n",
              "    <tr>\n",
              "      <th>mean</th>\n",
              "      <td>43.700999</td>\n",
              "      <td>0.219549</td>\n",
              "      <td>0.047603</td>\n",
              "    </tr>\n",
              "    <tr>\n",
              "      <th>std</th>\n",
              "      <td>17.653127</td>\n",
              "      <td>0.413976</td>\n",
              "      <td>0.212943</td>\n",
              "    </tr>\n",
              "    <tr>\n",
              "      <th>min</th>\n",
              "      <td>0.000000</td>\n",
              "      <td>0.000000</td>\n",
              "      <td>0.000000</td>\n",
              "    </tr>\n",
              "    <tr>\n",
              "      <th>25%</th>\n",
              "      <td>31.000000</td>\n",
              "      <td>0.000000</td>\n",
              "      <td>0.000000</td>\n",
              "    </tr>\n",
              "    <tr>\n",
              "      <th>50%</th>\n",
              "      <td>42.000000</td>\n",
              "      <td>0.000000</td>\n",
              "      <td>0.000000</td>\n",
              "    </tr>\n",
              "    <tr>\n",
              "      <th>75%</th>\n",
              "      <td>56.000000</td>\n",
              "      <td>0.000000</td>\n",
              "      <td>0.000000</td>\n",
              "    </tr>\n",
              "    <tr>\n",
              "      <th>max</th>\n",
              "      <td>96.000000</td>\n",
              "      <td>1.000000</td>\n",
              "      <td>1.000000</td>\n",
              "    </tr>\n",
              "  </tbody>\n",
              "</table>\n",
              "</div>\n",
              "      <button class=\"colab-df-convert\" onclick=\"convertToInteractive('df-5fe7deb6-4f3f-420d-98c0-8afc75c52064')\"\n",
              "              title=\"Convert this dataframe to an interactive table.\"\n",
              "              style=\"display:none;\">\n",
              "        \n",
              "  <svg xmlns=\"http://www.w3.org/2000/svg\" height=\"24px\"viewBox=\"0 0 24 24\"\n",
              "       width=\"24px\">\n",
              "    <path d=\"M0 0h24v24H0V0z\" fill=\"none\"/>\n",
              "    <path d=\"M18.56 5.44l.94 2.06.94-2.06 2.06-.94-2.06-.94-.94-2.06-.94 2.06-2.06.94zm-11 1L8.5 8.5l.94-2.06 2.06-.94-2.06-.94L8.5 2.5l-.94 2.06-2.06.94zm10 10l.94 2.06.94-2.06 2.06-.94-2.06-.94-.94-2.06-.94 2.06-2.06.94z\"/><path d=\"M17.41 7.96l-1.37-1.37c-.4-.4-.92-.59-1.43-.59-.52 0-1.04.2-1.43.59L10.3 9.45l-7.72 7.72c-.78.78-.78 2.05 0 2.83L4 21.41c.39.39.9.59 1.41.59.51 0 1.02-.2 1.41-.59l7.78-7.78 2.81-2.81c.8-.78.8-2.07 0-2.86zM5.41 20L4 18.59l7.72-7.72 1.47 1.35L5.41 20z\"/>\n",
              "  </svg>\n",
              "      </button>\n",
              "      \n",
              "  <style>\n",
              "    .colab-df-container {\n",
              "      display:flex;\n",
              "      flex-wrap:wrap;\n",
              "      gap: 12px;\n",
              "    }\n",
              "\n",
              "    .colab-df-convert {\n",
              "      background-color: #E8F0FE;\n",
              "      border: none;\n",
              "      border-radius: 50%;\n",
              "      cursor: pointer;\n",
              "      display: none;\n",
              "      fill: #1967D2;\n",
              "      height: 32px;\n",
              "      padding: 0 0 0 0;\n",
              "      width: 32px;\n",
              "    }\n",
              "\n",
              "    .colab-df-convert:hover {\n",
              "      background-color: #E2EBFA;\n",
              "      box-shadow: 0px 1px 2px rgba(60, 64, 67, 0.3), 0px 1px 3px 1px rgba(60, 64, 67, 0.15);\n",
              "      fill: #174EA6;\n",
              "    }\n",
              "\n",
              "    [theme=dark] .colab-df-convert {\n",
              "      background-color: #3B4455;\n",
              "      fill: #D2E3FC;\n",
              "    }\n",
              "\n",
              "    [theme=dark] .colab-df-convert:hover {\n",
              "      background-color: #434B5C;\n",
              "      box-shadow: 0px 1px 3px 1px rgba(0, 0, 0, 0.15);\n",
              "      filter: drop-shadow(0px 1px 2px rgba(0, 0, 0, 0.3));\n",
              "      fill: #FFFFFF;\n",
              "    }\n",
              "  </style>\n",
              "\n",
              "      <script>\n",
              "        const buttonEl =\n",
              "          document.querySelector('#df-5fe7deb6-4f3f-420d-98c0-8afc75c52064 button.colab-df-convert');\n",
              "        buttonEl.style.display =\n",
              "          google.colab.kernel.accessAllowed ? 'block' : 'none';\n",
              "\n",
              "        async function convertToInteractive(key) {\n",
              "          const element = document.querySelector('#df-5fe7deb6-4f3f-420d-98c0-8afc75c52064');\n",
              "          const dataTable =\n",
              "            await google.colab.kernel.invokeFunction('convertToInteractive',\n",
              "                                                     [key], {});\n",
              "          if (!dataTable) return;\n",
              "\n",
              "          const docLinkHtml = 'Like what you see? Visit the ' +\n",
              "            '<a target=\"_blank\" href=https://colab.research.google.com/notebooks/data_table.ipynb>data table notebook</a>'\n",
              "            + ' to learn more about interactive tables.';\n",
              "          element.innerHTML = '';\n",
              "          dataTable['output_type'] = 'display_data';\n",
              "          await google.colab.output.renderOutput(dataTable, element);\n",
              "          const docLink = document.createElement('div');\n",
              "          docLink.innerHTML = docLinkHtml;\n",
              "          element.appendChild(docLink);\n",
              "        }\n",
              "      </script>\n",
              "    </div>\n",
              "  </div>\n",
              "  "
            ]
          },
          "metadata": {},
          "execution_count": 133
        }
      ]
    },
    {
      "cell_type": "markdown",
      "source": [
        "**Analise de outliers**"
      ],
      "metadata": {
        "id": "MO4ua29VN46t"
      }
    },
    {
      "cell_type": "code",
      "source": [
        "import plotly.express as px"
      ],
      "metadata": {
        "id": "8kyXHeoUN63E"
      },
      "execution_count": 134,
      "outputs": []
    },
    {
      "cell_type": "code",
      "source": [
        "boxplot = px.box(df2, y=\"IDADE\")\n",
        "boxplot.show()"
      ],
      "metadata": {
        "colab": {
          "base_uri": "https://localhost:8080/",
          "height": 0
        },
        "id": "0dvFREF9OAQE",
        "outputId": "1acad11a-7b54-4c54-f705-120858f81dc6"
      },
      "execution_count": 135,
      "outputs": [
        {
          "output_type": "display_data",
          "data": {
            "text/html": [
              "<html>\n",
              "<head><meta charset=\"utf-8\" /></head>\n",
              "<body>\n",
              "    <div>            <script src=\"https://cdnjs.cloudflare.com/ajax/libs/mathjax/2.7.5/MathJax.js?config=TeX-AMS-MML_SVG\"></script><script type=\"text/javascript\">if (window.MathJax) {MathJax.Hub.Config({SVG: {font: \"STIX-Web\"}});}</script>                <script type=\"text/javascript\">window.PlotlyConfig = {MathJaxConfig: 'local'};</script>\n",
              "        <script src=\"https://cdn.plot.ly/plotly-2.8.3.min.js\"></script>                <div id=\"0620ae35-434e-414c-a240-042555ad68e0\" class=\"plotly-graph-div\" style=\"height:525px; width:100%;\"></div>            <script type=\"text/javascript\">                                    window.PLOTLYENV=window.PLOTLYENV || {};                                    if (document.getElementById(\"0620ae35-434e-414c-a240-042555ad68e0\")) {                    Plotly.newPlot(                        \"0620ae35-434e-414c-a240-042555ad68e0\",                        [{\"alignmentgroup\":\"True\",\"hovertemplate\":\"IDADE=%{y}<extra></extra>\",\"legendgroup\":\"\",\"marker\":{\"color\":\"#636efa\"},\"name\":\"\",\"notched\":false,\"offsetgroup\":\"\",\"orientation\":\"v\",\"showlegend\":false,\"x0\":\" \",\"xaxis\":\"x\",\"y\":[54,15,43,25,58,57,27,26,52,22,26,48,32,36,45,26,48,53,30,32,81,58,52,44,36,28,53,30,41,73,70,42,32,38,61,36,68,28,59,79,56,59,32,54,17,41,22,69,54,10,62,62,34,78,30,51,30,46,38,28,80,41,51,31,27,40,49,66,54,56,55,29,29,35,77,58,59,39,63,30,64,29,39,29,37,45,59,69,37,75,70,74,63,61,62,59,37,65,36,54,61,32,58,36,46,35,50,50,23,62,61,56,41,43,56,68,41,31,17,44,53,29,38,63,66,55,55,86,54,68,29,64,32,88,52,49,53,60,39,93,34,28,37,35,31,78,54,57,34,41,62,41,94,29,45,47,38,68,29,36,66,37,35,37,42,54,41,77,58,85,45,25,31,56,81,35,72,56,45,54,52,48,49,23,29,47,19,30,32,22,65,43,65,48,36,96,47,33,20,35,37,23,49,70,62,47,52,55,82,39,52,34,75,30,31,29,74,56,43,42,51,30,47,33,58,62,30,31,44,50,18,70,36,37,80,88,23,62,42,75,73,87,37,24,57,24,33,30,29,31,1,20,74,39,26,71,40,69,26,32,34,43,38,51,25,25,53,85,94,62,9,31,33,25,38,59,43,24,36,53,26,64,37,57,44,57,76,62,49,48,48,38,29,79,32,36,17,30,42,79,44,40,84,69,36,30,38,49,81,74,24,40,36,31,63,75,36,31,49,59,37,34,24,22,85,32,45,89,27,46,30,64,44,26,57,69,32,57,28,52,29,59,44,54,40,46,70,29,25,37,39,55,45,26,86,38,55,71,35,56,42,72,81,28,61,45,34,72,36,31,54,36,48,46,38,49,32,40,47,54,75,56,33,25,16,36,35,35,59,59,93,47,24,31,15,38,27,57,53,54,43,45,50,39,13,23,66,41,40,67,49,17,39,63,42,24,37,58,80,3,41,30,44,45,53,40,34,45,36,44,31,59,41,64,42,26,31,65,56,54,65,42,27,29,51,80,77,69,53,71,45,62,82,32,89,21,47,38,25,26,52,40,46,38,24,82,77,65,22,50,63,21,65,24,81,51,27,80,43,72,58,89,42,53,23,37,55,30,27,55,36,38,5,34,44,34,67,60,22,35,25,41,25,80,23,31,47,44,89,31,67,46,45,29,41,62,53,48,36,68,85,42,30,45,90,49,36,53,23,36,31,3,34,57,54,67,50,52,31,3,64,3,48,20,34,27,63,42,25,44,64,50,26,62,60,63,31,39,37,42,50,55,39,39,63,47,37,42,42,43,68,61,29,69,46,46,27,46,64,34,30,31,23,27,56,36,73,62,74,56,56,12,44,27,62,58,52,55,89,38,64,26,33,31,25,56,23,53,22,1,55,28,28,50,59,35,42,50,58,9,55,53,83,30,52,0,34,76,77,52,7,38,39,49,37,55,50,22,3,54,67,55,24,50,47,78,51,42,23,59,67,39,31,38,1,33,29,43,0,63,33,82,8,55,49,16,66,66,67,56,62,34,38,76,58,40,32,38,39,70,31,33,74,79,48,44,85,85,74,55,20,43,51,37,73,52,41,30,75,56,21,38,23,27,29,90,23,24,40,65,77,45,63,27,44,54,38,39,45,34,53,51,30,27,39,41,36,66,41,37,52,65,38,37,35,56,87,31,55,67,65,52,68,73,16,88,47,22,31,40,52,39,53,37,66,89,44,49,40,58,48,45,39,40,43,41,35,32,29,30,62,27,58,61,28,56,36,47,53,52,54,42,67,45,55,60,29,36,32,41,38,38,26,41,36,23,62,46,26,33,80,51,24,58,78,45,50,32,38,37,40,76,38,60,61,60,49,36,58,69,37,38,21,70,34,79,47,44,41,48,25,24,37,48,56,48,36,56,45,58,28,52,42,33,86,71,31,6,59,16,77,36,49,24,9,23,32,57,25,19,35,48,22,13,48,62,47,5,30,60,48,50,23,9,18,34,64,31,54,37,40,56,81,75,56,62,21,28,24,68,44,65,71,73,47,31,29,40,87,42,59,42,57,34,1,66,24,23,49,36,61,40,55,8,30,62,82,58,42,47,63,54,41,46,85,26,48,46,23,30,67,81,49,77,48,53,51,50,13,5,29,67,23,75,69,33,76,62,57,38,66,70,22,52,54,61,36,35,46,69,41,54,30,9,75,72,49,53,53,59,56,21,40,13,38,62,43,81,66,63,48,24,48,41,22,22,57,39,47,24,28,26,82,34,79,30,67,62,85,20,23,54,19,47,57,55,68,40,48,50,33,82,89,51,48,67,49,29,43,85,41,46,62,43,64,38,39,30,44,59,65,74,48,49,57,57,36,38,5,27,33,54,21,30,39,55,59,46,32,61,26,56,25,37,49,33,38,36,34,61,24,48,32,49,87,81,26,23,38,42,44,18,39,33,61,64,41,24,50,25,31,82,45,65,53,36,37,50,50,38,46,58,41,25,40,43,64,29,73,20,41,41,36,30,44,50,30,44,28,42,58,42,37,49,31,60,46,47,28,29,46,91,10,42,71,29,38,51,75,70,54,32,50,25,37,64,46,39,69,31,55,45,31,36,68,66,58,66,48,41,35,93,26,34,43,48,31,47,29,37,43,55,52,57,41,46,48,19,28,37,49,64,52,58,59,44,65,75,70,69,11,20,33,22,33,54,38,22,44,56,74,37,33,54,79,50,1,68,45,78,52,31,77,62,89,39,70,48,68,19,17,42,27,30,42,40,32,37,22,28,77,55,31,61,79,61,30,59,74,41,32,38,40,39,22,59,52,39,34,57,21,64,67,28,42,41,77,77,32,75,59,56,23,34,45,36,39,57,45,62,39,43,42,49,46,49,68,48,50,76,56,87,57,57,85,59,58,64,80,69,79,61,81,69,70,45,62,48,44,76,21,51,28,22,26,50,59,73,30,55,76,33,56,29,33,69,37,32,39,41,82,36,58,17,5,61,37,74,53,39,69,48,44,81,25,49,45,47,28,44,30,34,48,55,41,58,27,73,20,29,27,30,28,40,54,34,21,32,52,44,34,46,28,23,30,2,39,27,54,59,60,36,32,40,67,73,33,35,87,64,70,49,63,68,88,31,70,90,90,82,29,88,57,47,48,38,61,72,58,17,56,40,28,49,38,45,37,48,77,37,65,37,63,54,34,71,26,29,30,63,42,59,27,51,56,28,38,45,47,40,39,50,55,27,62,48,73,38,56,22,42,27,41,70,63,24,39,66,37,39,53,40,36,22,53,24,38,47,96,49,64,41,43,70,25,12,67,36,46,49,32,66,45,55,59,50,44,45,89,49,67,31,75,57,43,42,35,23,45,46,42,22,33,28,27,30,77,75,67,18,38,60,43,39,83,45,57,34,38,49,49,56,21,80,52,29,41,51,42,9,42,50,63,58,24,85,48,48,41,48,43,20,22,20,26,44,35,57,38,68,41,57,39,37,29,90,76,26,29,67,60,52,52,67,67,75,17,40,59,61,72,61,47,55,85,81,89,47,50,75,66,44,27,35,47,60,27,46,37,36,63,24,44,68,46,50,32,30,44,27,45,47,48,43,54,38,30,87,74,64,29,84,36,67,46,52,46,60,59,48,23,77,39,22,65,62,35,28,57,38,56,31,63,35,39,48,43,37,37,58,78,58,32,30,88,47,39,40,53,71,69,67,67,52,74,77,73,37,64,3,45,78,42,49,32,63,81,42,40,45,21,38,26,49,45,50,43,49,27,58,61,45,29,30,54,44,33,90,51,37,80,60,69,41,30,66,30,49,35,50,68,75,61,40,56,43,68,70,35,50,36,21,85,44,42,52,59,33,66,33,18,53,34,62,34,42,45,61,41,42,20,28,43,36,30,70,45,57,41,42,44,54,41,36,67,50,53,73,84,64,30,86,86,44,56,69,65,75,52,57,35,35,50,29,26,36,68,38,24,61,24,69,17,52,59,69,49,27,52,14,48,63,56,46,46,46,45,31,48,43,2,27,45,27,39,19,19,19,50,41,50,14,35,32,54,36,48,87,42,79,48,41,22,43,61,63,62,53,44,28,34,55,52,43,48,3,34,39,70,22,57,63,70,44,40,40,57,35,29,3,53,66,77,22,77,59,56,54,62,29,32,55,55,64,27,36,45,39,55,48,30,34,82,38,29,1,47,34,49,40,28,40,74,35,82,57,36,76,26,68,70,50,79,62,86,71,7,54,36,45,56,26,40,28,33,49,19,29,30,41,47,63,28,57,60,20,44,39,38,35,26,45,50,21,29,47,42,44,36,33,34,31,27,35,22,73,43,40,44,45,27,64,28,23,1,41,68,43,46,35,28,35,53,42,33,42,4,46,42,37,21,58,45,37,37,64,58,43,55,23,36,46,20,26,32,18,67,27,42,60,42,50,35,72,65,43,27,88,11,33,31,62,37,37,31,35,38,43,28,46,60,60,57,48,35,51,63,55,37,68,30,42,47,63,53,50,57,64,53,39,48,61,82,46,76,28,58,38,37,41,59,50,28,33,41,49,63,68,66,49,76,52,79,39,46,27,17,43,82,43,38,75,72,51,49,27,89,63,72,53,78,36,28,33,55,65,51,53,20,46,34,21,52,45,48,36,2,82,27,42,40,57,53,54,57,76,63,49,48,14,48,67,36,66,51,26,40,39,36,23,83,53,45,29,76,37,45,24,43,48,30,33,72,63,63,74,74,40,33,41,45,34,19,38,31,50,36,54,28,42,47,70,26,13,46,51,55,61,43,71,62,72,23,59,82,69,70,83,33,71,36,33,49,24,47,32,32,5,20,56,35,20,40,31,39,82,39,39,47,38,20,25,32,51,41,40,45,20,35,24,27,45,93,37,27,34,37,46,46,32,20,57,72,50,28,31,61,72,85,37,80,59,57,66,72,24,53,34,39,82,40,43,28,37,80,46,74,55,59,66,25,59,45,28,52,63,54,22,38,21,29,45,31,15,35,56,58,59,56,31,30,24,21,35,46,24,20,0,34,7,23,55,39,42,50,57,30,46,65,43,61,36,40,40,59,20,27,38,44,28,39,38,33,29,41,58,22,52,26,64,30,36,61,37,25,46,65,34,39,44,53,7,34,29,47,46,41,43,40,37,29,1,38,27,49,79,32,28,56,14,71,33,41,33,23,44,47,40,38,57,48,40,37,50,48,38,52,65,27,38,33,36,45,57,49,36,54,54,27,43,44,37,29,68,30,0,39,37,35,39,35,27,40,60,66,32,47,38,35,37,36,46,53,29,28,34,80,61,42,1,48,23,53,26,23,20,28,32,79,51,39,50,36,35,38,19,30,46,37,24,64,55,23,40,50,47,32,29,37,31,64,53,4,66,31,52,38,74,4,1,31,45,43,20,47,42,40,25,73,46,21,30,20,48,37,54,28,24,68,62,52,65,49,39,32,26,36,43,27,72,36,52,38,62,38,28,48,26,40,45,48,57,38,23,54,35,40,46,32,52,43,32,20,51,31,20,80,28,37,27,51,16,66,20,35,22,33,49,42,37,52,57,27,43,41,36,24,55,61,23,41,34,40,27,49,39,43,60,29,29,24,25,28,62,50,46,23,49,25,62,38,15,40,30,53,19,31,38,61,43,36,74,51,45,36,38,67,25,40,35,24,37,34,53,34,36,29,24,44,32,31,34,54,31,53,31,35,27,34,66,24,42,24,47,68,88,28,29,75,25,30,4,30,57,16,74,18,57,23,30,39,48,40,36,69,44,23,43,23,68,28,26,34,19,38,35,44,75,71,22,18,27,43,43,20,26,26,77,38,20,47,20,28,56,38,36,45,55,35,16,44,39,59,39,24,46,26,42,42,25,21,32,34,18,64,42,30,59,63,66,45,35,0,71,24,43,65,42,25,33,60,57,47,50,79,83,25,44,29,48,40,25,21,37,32,58,31,58,56,44,38,67,73,76,73,63,44,40,39,33,40,29,42,41,26,45,11,35,38,42,42,59,52,49,59,46,21,47,1,88,39,79,77,37,76,31,76,51,48,24,92,54,60,79,29,49,43,32,56,66,45,46,59,32,63,65,64,43,65,23,34,32,23,69,44,23,66,1,31,65,66,41,51,45,48,27,26,55,42,25,25,40,44,36,66,48,44,54,46,86,53,64,31,38,31,31,40,27,26,38,29,62,39,46,39,35,30,30,28,64,40,65,21,27,35,22,65,61,62,32,60,71,56,62,55,74,44,50,64,54,26,42,74,75,67,66,29,41,37,41,22,48,37,29,40,46,24,63,33,32,25,35,32,44,63,26,30,52,36,34,58,49,43,45,60,66,34,69,34,55,27,24,53,55,28,85,45,41,44,39,23,47,37,34,73,26,29,22,33,32,60,53,37,6,63,28,56,33,42,35,45,51,44,20,49,28,37,45,51,41,29,43,69,53,65,17,39,40,28,28,8,29,41,40,29,40,49,37,68,14,45,0,48,80,71,54,90,50,34,72,13,26,56,59,68,56,32,32,41,33,56,56,85,11,24,13,88,44,35,36,55,59,29,64,51,31,17,40,41,29,24,35,57,24,45,40,24,40,31,81,55,32,45,46,52,38,29,46,33,28,31,24,63,59,36,43,49,39,43,28,23,31,22,14,59,33,34,38,29,54,49,50,30,51,50,56,36,40,34,64,41,24,25,17,58,66,43,28,61,40,37,37,55,29,30,34,29,33,31,23,31,43,52,14,27,22,38,82,80,53,43,33,33,32,25,60,71,46,61,30,21,57,27,55,65,34,28,39,24,22,57,73,4,33,30,53,11,49,54,67,33,60,34,45,45,70,37,29,42,11,66,47,29,32,7,59,48,57,37,53,36,32,57,37,45,31,32,27,31,45,66,27,56,3,89,28,35,60,29,67,34,51,35,47,73,63,78,27,60,59,38,41,62,31,45,73,52,42,69,42,65,81,47,51,41,43,39,55,35,45,46,33,62,58,39,0,3,27,36,8,36,26,29,44,54,51,47,63,24,63,60,48,59,79,36,56,66,62,86,76,52,49,58,72,35,22,17,17,45,37,56,39,22,24,24,3,71,66,67,59,51,58,49,59,56,65,42,85,55,91,26,40,27,39,39,7,47,24,49,43,63,70,38,33,78,39,34,70,65,43,42,6,53,52,59,41,57,62,32,23,52,37,55,63,44,56,44,59,28,13,16,67,38,41,31,49,48,52,54,43,59,49,33,29,67,26,42,40,50,45,28,2,66,25,48,22,37,59,29,42,72,61,39,12,28,32,24,65,45,65,19,36,58,30,43,31,24,63,44,47,38,57,68,31,39,25,85,54,27,24,40,60,33,43,43,60,60,24,49,26,28,43,9,33,53,54,45,51,36,32,62,52,37,22,39,38,33,41,37,1,1,49,44,48,49,39,22,40,69,49,23,34,36,39,51,42,31,36,24,39,42,41,42,23,34,68,15,68,44,20,33,34,50,37,23,36,58,26,32,26,48,39,70,38,22,44,76,28,33,26,24,67,37,35,30,39,52,39,7,48,55,56,32,40,62,59,32,45,67,23,36,18,56,22,27,29,46,78,58,33,38,26,2,40,65,63,38,58,38,35,25,21,29,33,38,27,45,62,61,31,43,29,38,68,29,40,33,30,5,32,36,41,22,57,22,28,37,29,28,12,39,25,42,55,51,33,33,34,40,37,28,36,37,19,22,33,26,27,32,34,38,45,36,52,17,70,38,43,44,37,30,34,35,23,27,33,30,67,23,42,53,57,44,47,49,32,69,42,28,43,76,33,35,54,38,87,33,60,55,46,33,20,29,19,21,33,31,50,25,57,57,44,5,37,18,27,49,43,42,32,42,56,24,40,31,65,1,35,46,31,52,80,47,30,21,34,35,31,41,35,50,36,36,66,56,77,51,48,45,70,46,76,59,71,30,75,48,75,43,34,71,47,64,50,49,44,71,74,60,51,53,28,75,45,57,73,64,53,15,56,40,35,71,59,62,17,37,33,8,32,32,37,3,24,25,14,44,45,64,25,71,24,49,20,45,45,38,68,30,48,17,50,3,49,74,46,42,59,51,32,22,69,7,52,48,25,62,68,13,42,44,11,39,30,34,22,2,54,48,68,41,50,51,48,53,31,31,72,25,48,43,5,60,34,19,45,48,41,57,49,50,46,42,50,22,70,62,38,63,57,42,36,30,55,46,35,45,33,54,54,42,58,28,46,42,36,34,49,45,20,35,35,55,47,59,38,47,36,31,73,26,24,26,45,46,42,28,54,33,27,74,16,40,31,27,33,83,37,53,59,19,15,54,24,21,18,57,39,48,40,74,40,37,20,54,2,12,31,45,42,38,47,46,25,64,43,74,51,27,34,47,38,32,86,19,30,41,43,37,24,10,57,78,63,64,34,29,60,43,85,24,20,27,62,96,15,39,48,52,71,56,14,10,54,18,36,26,24,47,29,49,66,50,64,66,29,33,47,53,49,57,85,28,53,59,40,77,63,56,58,53,55,56,36,45,27,63,39,56,71,54,38,44,80,67,27,51,65,84,66,80,80,39,36,93,50,61,44,37,20,20,60,35,27,79,33,24,56,32,52,62,51,64,12,54,68,55,28,33,41,31,26,43,46,36,70,56,24,41,28,50,19,56,46,56,47,77,42,24,49,41,43,46,46,31,42,33,34,52,26,10,25,24,45,48,49,30,23,33,58,50,56,30,29,43,23,39,24,36,71,70,25,23,32,6,70,64,55,50,58,51,47,33,25,39,53,72,34,42,56,40,54,3,39,28,38,55,39,30,59,12,39,72,49,8,57,39,62,58,57,35,43,43,26,49,78,32,43,26,37,53,32,2,33,38,47,62,42,42,62,74,34,60,48,48,55,29,60,29,65,73,65,55,53,52,38,62,13,22,27,60,25,81,66,39,25,52,42,75,54,50,32,51,33,38,28,27,25,23,67,40,34,41,52,21,42,81,21,22,50,59,30,22,40,53,63,22,42,35,37,31,41,15,74,55,62,23,26,61,88,11,24,42,50,41,9,65,48,21,20,20,18,46,48,49,56,19,36,31,38,32,50,42,51,50,53,63,53,55,74,55,50,55,22,56,0,29,69,47,44,57,88,19,38,7,41,40,70,60,25,27,37,50,33,22,42,46,38,26,24,35,34,58,32,35,50,25,28,3,34,37,39,16,17,43,36,38,30,22,50,39,40,45,28,24,49,46,19,51,68,26,41,32,65,24,76,40,36,41,29,46,68,41,42,31,36,55,28,64,56,28,55,30,11,24,57,35,34,26,53,52,64,83,56,30,50,57,78,82,47,73,50,57,43,43,90,52,66,23,90,74,24,66,33,52,68,75,53,60,88,80,39,74,44,50,20,36,51,51,58,37,58,55,36,68,42,51,23,45,37,72,41,30,37,33,26,31,38,33,35,42,56,72,35,70,34,42,36,51,32,26,31,53,39,38,15,12,18,57,34,18,37,58,65,45,66,30,34,60,28,61,52,23,21,30,45,24,77,10,57,35,65,55,37,23,24,22,21,23,24,31,25,18,62,34,38,35,22,30,48,26,38,54,52,65,60,32,31,23,51,30,33,21,58,32,36,52,39,43,18,90,36,2,28,26,54,46,56,28,30,30,92,88,67,33,32,70,34,38,29,69,32,25,32,45,29,32,34,76,62,44,42,48,51,35,31,37,40,44,40,26,28,28,36,36,37,57,27,83,33,28,35,59,47,66,26,75,38,48,42,40,28,21,74,38,55,44,30,23,30,32,31,60,40,40,51,37,62,59,27,39,48,58,52,62,12,42,22,52,15,18,22,58,42,25,51,32,12,34,4,33,23,72,39,44,42,60,26,59,48,35,54,29,53,51,56,83,80,50,81,81,55,5,39,77,41,73,69,47,50,25,90,35,59,62,9,84,62,52,79,23,21,42,61,51,39,53,45,33,31,46,23,54,50,24,19,48,22,48,20,50,45,67,35,12,26,42,30,23,25,29,51,26,37,38,37,20,39,50,47,22,43,43,36,40,0,34,23,66,46,28,48,48,41,46,39,50,27,66,50,62,47,48,23,44,23,23,30,69,28,1,58,68,28,50,43,39,23,39,22,41,31,50,21,57,8,25,22,7,53,33,57,51,41,61,52,69,32,14,39,22,30,49,41,48,47,31,30,26,31,36,34,27,69,38,31,29,29,37,26,38,38,61,26,22,42,32,28,62,38,31,43,38,37,39,33,29,30,36,3,78,37,58,16,37,23,28,27,35,54,31,3,23,60,1,42,9,33,33,45,54,59,72,66,82,8,31,26,31,39,49,28,66,59,63,38,37,20,59,63,64,68,22,58,33,66,29,45,38,34,35,23,34,79,60,55,75,64,42,54,74,40,71,87,3,81,47,69,56,65,57,39,81,25,47,26,32,37,46,22,44,59,47,77,59,35,34,26,53,30,22,25,42,27,56,35,27,32,19,49,27,56,63,34,46,39,55,45,80,73,44,59,36,85,62,51,45,20,41,45,60,59,73,50,68,43,76,68,62,86,55,51,62,49,34,80,2,18,27,32,55,53,64,59,74,61,51,36,63,71,38,0,30,56,52,20,26,47,28,37,33,37,52,27,26,30,48,34,52,26,24,32,63,59,67,54,41,43,58,58,34,40,45,54,52,31,39,34,49,30,77,76,45,57,58,47,32,35,90,48,63,51,15,79,46,51,64,77,43,42,38,19,59,24,26,24,24,55,63,28,21,49,45,17,27,25,49,15,36,20,34,21,5,45,67,24,12,3,29,36,58,34,17,75,20,31,57,40,32,33,59,45,57,30,45,67,43,44,30,27,28,52,60,33,21,32,16,36,42,58,66,46,38,34,31,24,24,69,19,62,47,9,12,53,50,62,45,72,62,63,42,35,59,84,59,35,78,63,6,35,70,30,45,50,55,24,48,65,23,57,28,26,38,19,30,51,43,44,50,30,51,20,52,46,61,38,45,36,58,52,53,33,3,69,20,28,26,69,25,44,69,29,73,39,45,54,42,34,40,32,28,38,44,4,24,43,77,38,43,19,40,28,32,25,49,43,35,27,31,35,20,22,26,48,23,38,74,47,11,47,42,74,48,67,47,62,44,40,65,50,48,45,34,20,22,51,27,37,44,63,83,26,34,35,19,26,47,10,69,36,32,67,54,40,41,23,37,39,1,47,43,38,52,54,25,44,29,40,32,35,26,46,32,45,32,23,24,47,57,44,23,57,53,2,38,43,64,29,50,21,25,22,50,63,57,50,57,50,37,41,36,31,36,60,17,31,30,46,56,42,27,53,56,37,29,36,39,58,52,16,60,47,50,1,31,52,70,10,33,26,58,40,20,35,30,31,42,33,66,43,30,44,57,46,59,28,20,33,29,64,46,28,46,18,26,41,53,25,45,38,45,24,58,39,44,34,33,30,25,68,51,39,37,40,48,54,8,29,29,50,52,41,44,37,74,44,46,34,38,39,32,46,42,28,54,25,28,43,58,18,63,24,49,58,47,27,67,11,18,38,48,70,40,56,24,28,22,24,32,47,55,30,62,57,53,28,38,64,14,43,67,21,54,35,25,63,50,83,74,43,29,74,50,26,41,50,59,45,45,32,33,7,50,30,67,39,21,57,29,41,39,46,37,42,43,18,38,38,28,17,11,54,20,44,44,63,13,0,25,35,35,43,30,23,34,50,65,45,56,54,32,36,26,30,35,44,34,51,71,49,33,32,42,20,1,26,18,75,41,34,35,55,22,38,70,39,59,44,49,42,48,21,22,35,50,34,34,51,31,49,27,33,34,37,54,27,37,29,40,36,31,48,65,8,29,82,70,53,59,38,0,31,45,30,21,28,24,46,63,66,56,57,42,22,38,80,39,28,36,28,73,33,34,35,2,44,65,50,41,19,32,33,36,41,26,45,53,69,48,57,89,68,36,83,51,61,5,45,63,44,41,72,61,46,56,68,57,34,44,70,70,64,36,48,58,49,68,49,58,32,37,40,55,39,38,77,53,33,23,38,30,66,41,26,68,77,45,23,44,33,38,37,32,45,67,34,43,65,35,32,33,25,38,29,27,46,26,20,28,40,28,54,24,33,21,59,54,28,62,45,53,20,24,46,17,66,59,4,68,33,18,28,2,19,24,31,57,78,38,13,60,25,58,74,35,46,43,38,27,43,46,50,13,45,34,41,53,45,25,42,45,20,34,0,54,25,42,60,40,43,58,39,57,47,41,57,4,45,42,17,0,43,74,26,44,32,46,60,33,50,45,26,40,79,54,61,43,16,33,40,43,23,54,46,40,24,43,26,30,27,62,65,36,58,29,35,33,38,38,34,27,33,2,15,16,28,54,16,28,41,24,7,28,58,42,37,36,51,26,25,47,41,64,30,44,61,35,64,11,44,32,55,38,33,32,4,41,41,32,36,70,69,39,51,52,65,56,47,64,32,3,59,39,62,60,23,26,30,23,53,20,45,42,58,37,35,24,66,33,43,39,38,19,27,18,30,25,26,33,37,43,32,69,49,38,57,45,44,42,46,57,38,37,36,63,47,35,27,33,30,45,53,43,54,25,16,24,39,45,3,23,42,26,39,45,56,41,41,19,46,65,45,40,17,39,87,28,54,50,42,49,57,40,60,41,49,38,50,42,24,26,55,18,39,29,35,32,22,53,25,41,61,28,53,56,36,33,39,37,21,24,54,19,40,39,21,63,41,29,31,31,36,56,22,28,26,3,62,2,60,44,60,73,48,25,26,47,57,41,69,22,61,50,46,58,48,50,43,37,49,56,56,20,28,50,56,31,66,36,28,64,35,90,30,62,80,66,78,59,96,64,29,47,36,68,62,60,83,55,58,79,59,69,59,69,24,63,84,34,60,63,86,67,58,32,35,21,21,42,44,28,36,29,70,48,47,34,24,42,38,26,38,33,5,48,36,31,32,45,55,34,70,52,77,29,39,26,43,52,29,24,61,33,70,15,43,25,53,29,54,40,53,23,62,51,50,78,1,25,69,61,43,59,35,54,38,65,47,33,17,49,18,35,64,30,39,2,51,57,22,32,52,51,23,34,39,26,0,14,40,76,39,17,26,31,45,71,24,26,19,44,43,41,4,24,22,32,36,12,68,43,50,35,65,13,24,46,33,21,51,43,57,51,24,67,77,74,53,71,24,18,38,13,24,54,37,41,56,50,57,35,24,27,41,28,42,60,33,53,38,28,55,54,48,63,53,31,51,26,32,73,44,47,60,57,30,35,21,79,43,27,35,58,67,36,30,19,36,23,39,22,62,60,30,56,54,58,35,53,61,42,44,37,47,29,24,88,1,46,23,34,70,67],\"y0\":\" \",\"yaxis\":\"y\",\"type\":\"box\"}],                        {\"template\":{\"data\":{\"bar\":[{\"error_x\":{\"color\":\"#2a3f5f\"},\"error_y\":{\"color\":\"#2a3f5f\"},\"marker\":{\"line\":{\"color\":\"#E5ECF6\",\"width\":0.5},\"pattern\":{\"fillmode\":\"overlay\",\"size\":10,\"solidity\":0.2}},\"type\":\"bar\"}],\"barpolar\":[{\"marker\":{\"line\":{\"color\":\"#E5ECF6\",\"width\":0.5},\"pattern\":{\"fillmode\":\"overlay\",\"size\":10,\"solidity\":0.2}},\"type\":\"barpolar\"}],\"carpet\":[{\"aaxis\":{\"endlinecolor\":\"#2a3f5f\",\"gridcolor\":\"white\",\"linecolor\":\"white\",\"minorgridcolor\":\"white\",\"startlinecolor\":\"#2a3f5f\"},\"baxis\":{\"endlinecolor\":\"#2a3f5f\",\"gridcolor\":\"white\",\"linecolor\":\"white\",\"minorgridcolor\":\"white\",\"startlinecolor\":\"#2a3f5f\"},\"type\":\"carpet\"}],\"choropleth\":[{\"colorbar\":{\"outlinewidth\":0,\"ticks\":\"\"},\"type\":\"choropleth\"}],\"contour\":[{\"colorbar\":{\"outlinewidth\":0,\"ticks\":\"\"},\"colorscale\":[[0.0,\"#0d0887\"],[0.1111111111111111,\"#46039f\"],[0.2222222222222222,\"#7201a8\"],[0.3333333333333333,\"#9c179e\"],[0.4444444444444444,\"#bd3786\"],[0.5555555555555556,\"#d8576b\"],[0.6666666666666666,\"#ed7953\"],[0.7777777777777778,\"#fb9f3a\"],[0.8888888888888888,\"#fdca26\"],[1.0,\"#f0f921\"]],\"type\":\"contour\"}],\"contourcarpet\":[{\"colorbar\":{\"outlinewidth\":0,\"ticks\":\"\"},\"type\":\"contourcarpet\"}],\"heatmap\":[{\"colorbar\":{\"outlinewidth\":0,\"ticks\":\"\"},\"colorscale\":[[0.0,\"#0d0887\"],[0.1111111111111111,\"#46039f\"],[0.2222222222222222,\"#7201a8\"],[0.3333333333333333,\"#9c179e\"],[0.4444444444444444,\"#bd3786\"],[0.5555555555555556,\"#d8576b\"],[0.6666666666666666,\"#ed7953\"],[0.7777777777777778,\"#fb9f3a\"],[0.8888888888888888,\"#fdca26\"],[1.0,\"#f0f921\"]],\"type\":\"heatmap\"}],\"heatmapgl\":[{\"colorbar\":{\"outlinewidth\":0,\"ticks\":\"\"},\"colorscale\":[[0.0,\"#0d0887\"],[0.1111111111111111,\"#46039f\"],[0.2222222222222222,\"#7201a8\"],[0.3333333333333333,\"#9c179e\"],[0.4444444444444444,\"#bd3786\"],[0.5555555555555556,\"#d8576b\"],[0.6666666666666666,\"#ed7953\"],[0.7777777777777778,\"#fb9f3a\"],[0.8888888888888888,\"#fdca26\"],[1.0,\"#f0f921\"]],\"type\":\"heatmapgl\"}],\"histogram\":[{\"marker\":{\"pattern\":{\"fillmode\":\"overlay\",\"size\":10,\"solidity\":0.2}},\"type\":\"histogram\"}],\"histogram2d\":[{\"colorbar\":{\"outlinewidth\":0,\"ticks\":\"\"},\"colorscale\":[[0.0,\"#0d0887\"],[0.1111111111111111,\"#46039f\"],[0.2222222222222222,\"#7201a8\"],[0.3333333333333333,\"#9c179e\"],[0.4444444444444444,\"#bd3786\"],[0.5555555555555556,\"#d8576b\"],[0.6666666666666666,\"#ed7953\"],[0.7777777777777778,\"#fb9f3a\"],[0.8888888888888888,\"#fdca26\"],[1.0,\"#f0f921\"]],\"type\":\"histogram2d\"}],\"histogram2dcontour\":[{\"colorbar\":{\"outlinewidth\":0,\"ticks\":\"\"},\"colorscale\":[[0.0,\"#0d0887\"],[0.1111111111111111,\"#46039f\"],[0.2222222222222222,\"#7201a8\"],[0.3333333333333333,\"#9c179e\"],[0.4444444444444444,\"#bd3786\"],[0.5555555555555556,\"#d8576b\"],[0.6666666666666666,\"#ed7953\"],[0.7777777777777778,\"#fb9f3a\"],[0.8888888888888888,\"#fdca26\"],[1.0,\"#f0f921\"]],\"type\":\"histogram2dcontour\"}],\"mesh3d\":[{\"colorbar\":{\"outlinewidth\":0,\"ticks\":\"\"},\"type\":\"mesh3d\"}],\"parcoords\":[{\"line\":{\"colorbar\":{\"outlinewidth\":0,\"ticks\":\"\"}},\"type\":\"parcoords\"}],\"pie\":[{\"automargin\":true,\"type\":\"pie\"}],\"scatter\":[{\"marker\":{\"colorbar\":{\"outlinewidth\":0,\"ticks\":\"\"}},\"type\":\"scatter\"}],\"scatter3d\":[{\"line\":{\"colorbar\":{\"outlinewidth\":0,\"ticks\":\"\"}},\"marker\":{\"colorbar\":{\"outlinewidth\":0,\"ticks\":\"\"}},\"type\":\"scatter3d\"}],\"scattercarpet\":[{\"marker\":{\"colorbar\":{\"outlinewidth\":0,\"ticks\":\"\"}},\"type\":\"scattercarpet\"}],\"scattergeo\":[{\"marker\":{\"colorbar\":{\"outlinewidth\":0,\"ticks\":\"\"}},\"type\":\"scattergeo\"}],\"scattergl\":[{\"marker\":{\"colorbar\":{\"outlinewidth\":0,\"ticks\":\"\"}},\"type\":\"scattergl\"}],\"scattermapbox\":[{\"marker\":{\"colorbar\":{\"outlinewidth\":0,\"ticks\":\"\"}},\"type\":\"scattermapbox\"}],\"scatterpolar\":[{\"marker\":{\"colorbar\":{\"outlinewidth\":0,\"ticks\":\"\"}},\"type\":\"scatterpolar\"}],\"scatterpolargl\":[{\"marker\":{\"colorbar\":{\"outlinewidth\":0,\"ticks\":\"\"}},\"type\":\"scatterpolargl\"}],\"scatterternary\":[{\"marker\":{\"colorbar\":{\"outlinewidth\":0,\"ticks\":\"\"}},\"type\":\"scatterternary\"}],\"surface\":[{\"colorbar\":{\"outlinewidth\":0,\"ticks\":\"\"},\"colorscale\":[[0.0,\"#0d0887\"],[0.1111111111111111,\"#46039f\"],[0.2222222222222222,\"#7201a8\"],[0.3333333333333333,\"#9c179e\"],[0.4444444444444444,\"#bd3786\"],[0.5555555555555556,\"#d8576b\"],[0.6666666666666666,\"#ed7953\"],[0.7777777777777778,\"#fb9f3a\"],[0.8888888888888888,\"#fdca26\"],[1.0,\"#f0f921\"]],\"type\":\"surface\"}],\"table\":[{\"cells\":{\"fill\":{\"color\":\"#EBF0F8\"},\"line\":{\"color\":\"white\"}},\"header\":{\"fill\":{\"color\":\"#C8D4E3\"},\"line\":{\"color\":\"white\"}},\"type\":\"table\"}]},\"layout\":{\"annotationdefaults\":{\"arrowcolor\":\"#2a3f5f\",\"arrowhead\":0,\"arrowwidth\":1},\"autotypenumbers\":\"strict\",\"coloraxis\":{\"colorbar\":{\"outlinewidth\":0,\"ticks\":\"\"}},\"colorscale\":{\"diverging\":[[0,\"#8e0152\"],[0.1,\"#c51b7d\"],[0.2,\"#de77ae\"],[0.3,\"#f1b6da\"],[0.4,\"#fde0ef\"],[0.5,\"#f7f7f7\"],[0.6,\"#e6f5d0\"],[0.7,\"#b8e186\"],[0.8,\"#7fbc41\"],[0.9,\"#4d9221\"],[1,\"#276419\"]],\"sequential\":[[0.0,\"#0d0887\"],[0.1111111111111111,\"#46039f\"],[0.2222222222222222,\"#7201a8\"],[0.3333333333333333,\"#9c179e\"],[0.4444444444444444,\"#bd3786\"],[0.5555555555555556,\"#d8576b\"],[0.6666666666666666,\"#ed7953\"],[0.7777777777777778,\"#fb9f3a\"],[0.8888888888888888,\"#fdca26\"],[1.0,\"#f0f921\"]],\"sequentialminus\":[[0.0,\"#0d0887\"],[0.1111111111111111,\"#46039f\"],[0.2222222222222222,\"#7201a8\"],[0.3333333333333333,\"#9c179e\"],[0.4444444444444444,\"#bd3786\"],[0.5555555555555556,\"#d8576b\"],[0.6666666666666666,\"#ed7953\"],[0.7777777777777778,\"#fb9f3a\"],[0.8888888888888888,\"#fdca26\"],[1.0,\"#f0f921\"]]},\"colorway\":[\"#636efa\",\"#EF553B\",\"#00cc96\",\"#ab63fa\",\"#FFA15A\",\"#19d3f3\",\"#FF6692\",\"#B6E880\",\"#FF97FF\",\"#FECB52\"],\"font\":{\"color\":\"#2a3f5f\"},\"geo\":{\"bgcolor\":\"white\",\"lakecolor\":\"white\",\"landcolor\":\"#E5ECF6\",\"showlakes\":true,\"showland\":true,\"subunitcolor\":\"white\"},\"hoverlabel\":{\"align\":\"left\"},\"hovermode\":\"closest\",\"mapbox\":{\"style\":\"light\"},\"paper_bgcolor\":\"white\",\"plot_bgcolor\":\"#E5ECF6\",\"polar\":{\"angularaxis\":{\"gridcolor\":\"white\",\"linecolor\":\"white\",\"ticks\":\"\"},\"bgcolor\":\"#E5ECF6\",\"radialaxis\":{\"gridcolor\":\"white\",\"linecolor\":\"white\",\"ticks\":\"\"}},\"scene\":{\"xaxis\":{\"backgroundcolor\":\"#E5ECF6\",\"gridcolor\":\"white\",\"gridwidth\":2,\"linecolor\":\"white\",\"showbackground\":true,\"ticks\":\"\",\"zerolinecolor\":\"white\"},\"yaxis\":{\"backgroundcolor\":\"#E5ECF6\",\"gridcolor\":\"white\",\"gridwidth\":2,\"linecolor\":\"white\",\"showbackground\":true,\"ticks\":\"\",\"zerolinecolor\":\"white\"},\"zaxis\":{\"backgroundcolor\":\"#E5ECF6\",\"gridcolor\":\"white\",\"gridwidth\":2,\"linecolor\":\"white\",\"showbackground\":true,\"ticks\":\"\",\"zerolinecolor\":\"white\"}},\"shapedefaults\":{\"line\":{\"color\":\"#2a3f5f\"}},\"ternary\":{\"aaxis\":{\"gridcolor\":\"white\",\"linecolor\":\"white\",\"ticks\":\"\"},\"baxis\":{\"gridcolor\":\"white\",\"linecolor\":\"white\",\"ticks\":\"\"},\"bgcolor\":\"#E5ECF6\",\"caxis\":{\"gridcolor\":\"white\",\"linecolor\":\"white\",\"ticks\":\"\"}},\"title\":{\"x\":0.05},\"xaxis\":{\"automargin\":true,\"gridcolor\":\"white\",\"linecolor\":\"white\",\"ticks\":\"\",\"title\":{\"standoff\":15},\"zerolinecolor\":\"white\",\"zerolinewidth\":2},\"yaxis\":{\"automargin\":true,\"gridcolor\":\"white\",\"linecolor\":\"white\",\"ticks\":\"\",\"title\":{\"standoff\":15},\"zerolinecolor\":\"white\",\"zerolinewidth\":2}}},\"xaxis\":{\"anchor\":\"y\",\"domain\":[0.0,1.0]},\"yaxis\":{\"anchor\":\"x\",\"domain\":[0.0,1.0],\"title\":{\"text\":\"IDADE\"}},\"legend\":{\"tracegroupgap\":0},\"margin\":{\"t\":60},\"boxmode\":\"group\"},                        {\"responsive\": true}                    ).then(function(){\n",
              "                            \n",
              "var gd = document.getElementById('0620ae35-434e-414c-a240-042555ad68e0');\n",
              "var x = new MutationObserver(function (mutations, observer) {{\n",
              "        var display = window.getComputedStyle(gd).display;\n",
              "        if (!display || display === 'none') {{\n",
              "            console.log([gd, 'removed!']);\n",
              "            Plotly.purge(gd);\n",
              "            observer.disconnect();\n",
              "        }}\n",
              "}});\n",
              "\n",
              "// Listen for the removal of the full notebook cells\n",
              "var notebookContainer = gd.closest('#notebook-container');\n",
              "if (notebookContainer) {{\n",
              "    x.observe(notebookContainer, {childList: true});\n",
              "}}\n",
              "\n",
              "// Listen for the clearing of the current output cell\n",
              "var outputEl = gd.closest('.output');\n",
              "if (outputEl) {{\n",
              "    x.observe(outputEl, {childList: true});\n",
              "}}\n",
              "\n",
              "                        })                };                            </script>        </div>\n",
              "</body>\n",
              "</html>"
            ]
          },
          "metadata": {}
        }
      ]
    },
    {
      "cell_type": "code",
      "source": [
        "df2.head()"
      ],
      "metadata": {
        "colab": {
          "base_uri": "https://localhost:8080/",
          "height": 0
        },
        "id": "vr1adk1NOmn8",
        "outputId": "565083ac-dc94-4ab6-94b2-ba257a3146c2"
      },
      "execution_count": 136,
      "outputs": [
        {
          "output_type": "execute_result",
          "data": {
            "text/plain": [
              "   IDADE SEXO  INTERNADO  STATUS\n",
              "0     54    M          0       0\n",
              "1     15    M          0       0\n",
              "2     43    M          0       0\n",
              "3     25    F          0       0\n",
              "4     58    M          0       0"
            ],
            "text/html": [
              "\n",
              "  <div id=\"df-9284d4b0-2d85-496b-8002-d54e2963622a\">\n",
              "    <div class=\"colab-df-container\">\n",
              "      <div>\n",
              "<style scoped>\n",
              "    .dataframe tbody tr th:only-of-type {\n",
              "        vertical-align: middle;\n",
              "    }\n",
              "\n",
              "    .dataframe tbody tr th {\n",
              "        vertical-align: top;\n",
              "    }\n",
              "\n",
              "    .dataframe thead th {\n",
              "        text-align: right;\n",
              "    }\n",
              "</style>\n",
              "<table border=\"1\" class=\"dataframe\">\n",
              "  <thead>\n",
              "    <tr style=\"text-align: right;\">\n",
              "      <th></th>\n",
              "      <th>IDADE</th>\n",
              "      <th>SEXO</th>\n",
              "      <th>INTERNADO</th>\n",
              "      <th>STATUS</th>\n",
              "    </tr>\n",
              "  </thead>\n",
              "  <tbody>\n",
              "    <tr>\n",
              "      <th>0</th>\n",
              "      <td>54</td>\n",
              "      <td>M</td>\n",
              "      <td>0</td>\n",
              "      <td>0</td>\n",
              "    </tr>\n",
              "    <tr>\n",
              "      <th>1</th>\n",
              "      <td>15</td>\n",
              "      <td>M</td>\n",
              "      <td>0</td>\n",
              "      <td>0</td>\n",
              "    </tr>\n",
              "    <tr>\n",
              "      <th>2</th>\n",
              "      <td>43</td>\n",
              "      <td>M</td>\n",
              "      <td>0</td>\n",
              "      <td>0</td>\n",
              "    </tr>\n",
              "    <tr>\n",
              "      <th>3</th>\n",
              "      <td>25</td>\n",
              "      <td>F</td>\n",
              "      <td>0</td>\n",
              "      <td>0</td>\n",
              "    </tr>\n",
              "    <tr>\n",
              "      <th>4</th>\n",
              "      <td>58</td>\n",
              "      <td>M</td>\n",
              "      <td>0</td>\n",
              "      <td>0</td>\n",
              "    </tr>\n",
              "  </tbody>\n",
              "</table>\n",
              "</div>\n",
              "      <button class=\"colab-df-convert\" onclick=\"convertToInteractive('df-9284d4b0-2d85-496b-8002-d54e2963622a')\"\n",
              "              title=\"Convert this dataframe to an interactive table.\"\n",
              "              style=\"display:none;\">\n",
              "        \n",
              "  <svg xmlns=\"http://www.w3.org/2000/svg\" height=\"24px\"viewBox=\"0 0 24 24\"\n",
              "       width=\"24px\">\n",
              "    <path d=\"M0 0h24v24H0V0z\" fill=\"none\"/>\n",
              "    <path d=\"M18.56 5.44l.94 2.06.94-2.06 2.06-.94-2.06-.94-.94-2.06-.94 2.06-2.06.94zm-11 1L8.5 8.5l.94-2.06 2.06-.94-2.06-.94L8.5 2.5l-.94 2.06-2.06.94zm10 10l.94 2.06.94-2.06 2.06-.94-2.06-.94-.94-2.06-.94 2.06-2.06.94z\"/><path d=\"M17.41 7.96l-1.37-1.37c-.4-.4-.92-.59-1.43-.59-.52 0-1.04.2-1.43.59L10.3 9.45l-7.72 7.72c-.78.78-.78 2.05 0 2.83L4 21.41c.39.39.9.59 1.41.59.51 0 1.02-.2 1.41-.59l7.78-7.78 2.81-2.81c.8-.78.8-2.07 0-2.86zM5.41 20L4 18.59l7.72-7.72 1.47 1.35L5.41 20z\"/>\n",
              "  </svg>\n",
              "      </button>\n",
              "      \n",
              "  <style>\n",
              "    .colab-df-container {\n",
              "      display:flex;\n",
              "      flex-wrap:wrap;\n",
              "      gap: 12px;\n",
              "    }\n",
              "\n",
              "    .colab-df-convert {\n",
              "      background-color: #E8F0FE;\n",
              "      border: none;\n",
              "      border-radius: 50%;\n",
              "      cursor: pointer;\n",
              "      display: none;\n",
              "      fill: #1967D2;\n",
              "      height: 32px;\n",
              "      padding: 0 0 0 0;\n",
              "      width: 32px;\n",
              "    }\n",
              "\n",
              "    .colab-df-convert:hover {\n",
              "      background-color: #E2EBFA;\n",
              "      box-shadow: 0px 1px 2px rgba(60, 64, 67, 0.3), 0px 1px 3px 1px rgba(60, 64, 67, 0.15);\n",
              "      fill: #174EA6;\n",
              "    }\n",
              "\n",
              "    [theme=dark] .colab-df-convert {\n",
              "      background-color: #3B4455;\n",
              "      fill: #D2E3FC;\n",
              "    }\n",
              "\n",
              "    [theme=dark] .colab-df-convert:hover {\n",
              "      background-color: #434B5C;\n",
              "      box-shadow: 0px 1px 3px 1px rgba(0, 0, 0, 0.15);\n",
              "      filter: drop-shadow(0px 1px 2px rgba(0, 0, 0, 0.3));\n",
              "      fill: #FFFFFF;\n",
              "    }\n",
              "  </style>\n",
              "\n",
              "      <script>\n",
              "        const buttonEl =\n",
              "          document.querySelector('#df-9284d4b0-2d85-496b-8002-d54e2963622a button.colab-df-convert');\n",
              "        buttonEl.style.display =\n",
              "          google.colab.kernel.accessAllowed ? 'block' : 'none';\n",
              "\n",
              "        async function convertToInteractive(key) {\n",
              "          const element = document.querySelector('#df-9284d4b0-2d85-496b-8002-d54e2963622a');\n",
              "          const dataTable =\n",
              "            await google.colab.kernel.invokeFunction('convertToInteractive',\n",
              "                                                     [key], {});\n",
              "          if (!dataTable) return;\n",
              "\n",
              "          const docLinkHtml = 'Like what you see? Visit the ' +\n",
              "            '<a target=\"_blank\" href=https://colab.research.google.com/notebooks/data_table.ipynb>data table notebook</a>'\n",
              "            + ' to learn more about interactive tables.';\n",
              "          element.innerHTML = '';\n",
              "          dataTable['output_type'] = 'display_data';\n",
              "          await google.colab.output.renderOutput(dataTable, element);\n",
              "          const docLink = document.createElement('div');\n",
              "          docLink.innerHTML = docLinkHtml;\n",
              "          element.appendChild(docLink);\n",
              "        }\n",
              "      </script>\n",
              "    </div>\n",
              "  </div>\n",
              "  "
            ]
          },
          "metadata": {},
          "execution_count": 136
        }
      ]
    },
    {
      "cell_type": "markdown",
      "source": [
        "# Transformar variaveis categoricas em numericas"
      ],
      "metadata": {
        "id": "pSrGKtBIPKw5"
      }
    },
    {
      "cell_type": "code",
      "source": [
        "df2['SEXO'].replace({'F': 0, 'M': 1}, inplace=True)"
      ],
      "metadata": {
        "id": "7UTysqUmO05k"
      },
      "execution_count": 137,
      "outputs": []
    },
    {
      "cell_type": "code",
      "source": [
        "df2.head()"
      ],
      "metadata": {
        "colab": {
          "base_uri": "https://localhost:8080/",
          "height": 206
        },
        "id": "SekJrRYmPNPU",
        "outputId": "9a11f685-905e-4791-a917-60396ee2823e"
      },
      "execution_count": 138,
      "outputs": [
        {
          "output_type": "execute_result",
          "data": {
            "text/plain": [
              "   IDADE  SEXO  INTERNADO  STATUS\n",
              "0     54     1          0       0\n",
              "1     15     1          0       0\n",
              "2     43     1          0       0\n",
              "3     25     0          0       0\n",
              "4     58     1          0       0"
            ],
            "text/html": [
              "\n",
              "  <div id=\"df-1cfb9db1-553a-41ad-af31-110002bfc3d9\">\n",
              "    <div class=\"colab-df-container\">\n",
              "      <div>\n",
              "<style scoped>\n",
              "    .dataframe tbody tr th:only-of-type {\n",
              "        vertical-align: middle;\n",
              "    }\n",
              "\n",
              "    .dataframe tbody tr th {\n",
              "        vertical-align: top;\n",
              "    }\n",
              "\n",
              "    .dataframe thead th {\n",
              "        text-align: right;\n",
              "    }\n",
              "</style>\n",
              "<table border=\"1\" class=\"dataframe\">\n",
              "  <thead>\n",
              "    <tr style=\"text-align: right;\">\n",
              "      <th></th>\n",
              "      <th>IDADE</th>\n",
              "      <th>SEXO</th>\n",
              "      <th>INTERNADO</th>\n",
              "      <th>STATUS</th>\n",
              "    </tr>\n",
              "  </thead>\n",
              "  <tbody>\n",
              "    <tr>\n",
              "      <th>0</th>\n",
              "      <td>54</td>\n",
              "      <td>1</td>\n",
              "      <td>0</td>\n",
              "      <td>0</td>\n",
              "    </tr>\n",
              "    <tr>\n",
              "      <th>1</th>\n",
              "      <td>15</td>\n",
              "      <td>1</td>\n",
              "      <td>0</td>\n",
              "      <td>0</td>\n",
              "    </tr>\n",
              "    <tr>\n",
              "      <th>2</th>\n",
              "      <td>43</td>\n",
              "      <td>1</td>\n",
              "      <td>0</td>\n",
              "      <td>0</td>\n",
              "    </tr>\n",
              "    <tr>\n",
              "      <th>3</th>\n",
              "      <td>25</td>\n",
              "      <td>0</td>\n",
              "      <td>0</td>\n",
              "      <td>0</td>\n",
              "    </tr>\n",
              "    <tr>\n",
              "      <th>4</th>\n",
              "      <td>58</td>\n",
              "      <td>1</td>\n",
              "      <td>0</td>\n",
              "      <td>0</td>\n",
              "    </tr>\n",
              "  </tbody>\n",
              "</table>\n",
              "</div>\n",
              "      <button class=\"colab-df-convert\" onclick=\"convertToInteractive('df-1cfb9db1-553a-41ad-af31-110002bfc3d9')\"\n",
              "              title=\"Convert this dataframe to an interactive table.\"\n",
              "              style=\"display:none;\">\n",
              "        \n",
              "  <svg xmlns=\"http://www.w3.org/2000/svg\" height=\"24px\"viewBox=\"0 0 24 24\"\n",
              "       width=\"24px\">\n",
              "    <path d=\"M0 0h24v24H0V0z\" fill=\"none\"/>\n",
              "    <path d=\"M18.56 5.44l.94 2.06.94-2.06 2.06-.94-2.06-.94-.94-2.06-.94 2.06-2.06.94zm-11 1L8.5 8.5l.94-2.06 2.06-.94-2.06-.94L8.5 2.5l-.94 2.06-2.06.94zm10 10l.94 2.06.94-2.06 2.06-.94-2.06-.94-.94-2.06-.94 2.06-2.06.94z\"/><path d=\"M17.41 7.96l-1.37-1.37c-.4-.4-.92-.59-1.43-.59-.52 0-1.04.2-1.43.59L10.3 9.45l-7.72 7.72c-.78.78-.78 2.05 0 2.83L4 21.41c.39.39.9.59 1.41.59.51 0 1.02-.2 1.41-.59l7.78-7.78 2.81-2.81c.8-.78.8-2.07 0-2.86zM5.41 20L4 18.59l7.72-7.72 1.47 1.35L5.41 20z\"/>\n",
              "  </svg>\n",
              "      </button>\n",
              "      \n",
              "  <style>\n",
              "    .colab-df-container {\n",
              "      display:flex;\n",
              "      flex-wrap:wrap;\n",
              "      gap: 12px;\n",
              "    }\n",
              "\n",
              "    .colab-df-convert {\n",
              "      background-color: #E8F0FE;\n",
              "      border: none;\n",
              "      border-radius: 50%;\n",
              "      cursor: pointer;\n",
              "      display: none;\n",
              "      fill: #1967D2;\n",
              "      height: 32px;\n",
              "      padding: 0 0 0 0;\n",
              "      width: 32px;\n",
              "    }\n",
              "\n",
              "    .colab-df-convert:hover {\n",
              "      background-color: #E2EBFA;\n",
              "      box-shadow: 0px 1px 2px rgba(60, 64, 67, 0.3), 0px 1px 3px 1px rgba(60, 64, 67, 0.15);\n",
              "      fill: #174EA6;\n",
              "    }\n",
              "\n",
              "    [theme=dark] .colab-df-convert {\n",
              "      background-color: #3B4455;\n",
              "      fill: #D2E3FC;\n",
              "    }\n",
              "\n",
              "    [theme=dark] .colab-df-convert:hover {\n",
              "      background-color: #434B5C;\n",
              "      box-shadow: 0px 1px 3px 1px rgba(0, 0, 0, 0.15);\n",
              "      filter: drop-shadow(0px 1px 2px rgba(0, 0, 0, 0.3));\n",
              "      fill: #FFFFFF;\n",
              "    }\n",
              "  </style>\n",
              "\n",
              "      <script>\n",
              "        const buttonEl =\n",
              "          document.querySelector('#df-1cfb9db1-553a-41ad-af31-110002bfc3d9 button.colab-df-convert');\n",
              "        buttonEl.style.display =\n",
              "          google.colab.kernel.accessAllowed ? 'block' : 'none';\n",
              "\n",
              "        async function convertToInteractive(key) {\n",
              "          const element = document.querySelector('#df-1cfb9db1-553a-41ad-af31-110002bfc3d9');\n",
              "          const dataTable =\n",
              "            await google.colab.kernel.invokeFunction('convertToInteractive',\n",
              "                                                     [key], {});\n",
              "          if (!dataTable) return;\n",
              "\n",
              "          const docLinkHtml = 'Like what you see? Visit the ' +\n",
              "            '<a target=\"_blank\" href=https://colab.research.google.com/notebooks/data_table.ipynb>data table notebook</a>'\n",
              "            + ' to learn more about interactive tables.';\n",
              "          element.innerHTML = '';\n",
              "          dataTable['output_type'] = 'display_data';\n",
              "          await google.colab.output.renderOutput(dataTable, element);\n",
              "          const docLink = document.createElement('div');\n",
              "          docLink.innerHTML = docLinkHtml;\n",
              "          element.appendChild(docLink);\n",
              "        }\n",
              "      </script>\n",
              "    </div>\n",
              "  </div>\n",
              "  "
            ]
          },
          "metadata": {},
          "execution_count": 138
        }
      ]
    },
    {
      "cell_type": "markdown",
      "source": [
        "# Escalonamento"
      ],
      "metadata": {
        "id": "sIJ0pt2WPFb9"
      }
    },
    {
      "cell_type": "code",
      "source": [
        "from sklearn.preprocessing import StandardScaler"
      ],
      "metadata": {
        "id": "iWJZQeKIOuxX"
      },
      "execution_count": 139,
      "outputs": []
    },
    {
      "cell_type": "code",
      "source": [
        "escala = StandardScaler()\n",
        "df2_esc = escala.fit_transform(df2)"
      ],
      "metadata": {
        "id": "GElBsouLO5lO"
      },
      "execution_count": 140,
      "outputs": []
    },
    {
      "cell_type": "code",
      "source": [
        "df2_esc"
      ],
      "metadata": {
        "colab": {
          "base_uri": "https://localhost:8080/"
        },
        "id": "ruKCjlcUO7IX",
        "outputId": "d2ff2d11-7faa-4cc5-a32b-c142be47172f"
      },
      "execution_count": 141,
      "outputs": [
        {
          "output_type": "execute_result",
          "data": {
            "text/plain": [
              "array([[ 0.58345885,  1.05128818, -0.53038764, -0.22356702],\n",
              "       [-1.62596867,  1.05128818, -0.53038764, -0.22356702],\n",
              "       [-0.03971301,  1.05128818, -0.53038764, -0.22356702],\n",
              "       ...,\n",
              "       [-0.5495809 , -0.95121396, -0.53038764, -0.22356702],\n",
              "       [ 1.48989065,  1.05128818, -0.53038764, -0.22356702],\n",
              "       [ 1.31993469,  1.05128818, -0.53038764, -0.22356702]])"
            ]
          },
          "metadata": {},
          "execution_count": 141
        }
      ]
    },
    {
      "cell_type": "markdown",
      "source": [
        "## **K MEANS COM PCA**"
      ],
      "metadata": {
        "id": "hp_b63s5GFWk"
      }
    },
    {
      "cell_type": "code",
      "source": [
        "df2_esc"
      ],
      "metadata": {
        "colab": {
          "base_uri": "https://localhost:8080/"
        },
        "id": "U-BtnL42GH_h",
        "outputId": "834f4019-2ee1-4439-bb95-d14b043e2775"
      },
      "execution_count": 142,
      "outputs": [
        {
          "output_type": "execute_result",
          "data": {
            "text/plain": [
              "array([[ 0.58345885,  1.05128818, -0.53038764, -0.22356702],\n",
              "       [-1.62596867,  1.05128818, -0.53038764, -0.22356702],\n",
              "       [-0.03971301,  1.05128818, -0.53038764, -0.22356702],\n",
              "       ...,\n",
              "       [-0.5495809 , -0.95121396, -0.53038764, -0.22356702],\n",
              "       [ 1.48989065,  1.05128818, -0.53038764, -0.22356702],\n",
              "       [ 1.31993469,  1.05128818, -0.53038764, -0.22356702]])"
            ]
          },
          "metadata": {},
          "execution_count": 142
        }
      ]
    },
    {
      "cell_type": "code",
      "source": [
        "df2_esc.shape"
      ],
      "metadata": {
        "colab": {
          "base_uri": "https://localhost:8080/"
        },
        "id": "GmPpFafAGMK4",
        "outputId": "0cde5ed7-18ec-49cf-89c2-994d2eb5016a"
      },
      "execution_count": 143,
      "outputs": [
        {
          "output_type": "execute_result",
          "data": {
            "text/plain": [
              "(5903, 4)"
            ]
          },
          "metadata": {},
          "execution_count": 143
        }
      ]
    },
    {
      "cell_type": "markdown",
      "source": [
        "**Componentes Principais**"
      ],
      "metadata": {
        "id": "PEACTo3yGloc"
      }
    },
    {
      "cell_type": "code",
      "source": [
        "from sklearn.decomposition import PCA"
      ],
      "metadata": {
        "id": "_TQonMlOGmwk"
      },
      "execution_count": 144,
      "outputs": []
    },
    {
      "cell_type": "code",
      "source": [
        "pca = PCA(n_components = 2)"
      ],
      "metadata": {
        "id": "NKpqajpfGpxl"
      },
      "execution_count": 145,
      "outputs": []
    },
    {
      "cell_type": "code",
      "source": [
        "df2_pca = pca.fit_transform(df2_esc)"
      ],
      "metadata": {
        "id": "K-LkSaUkHgFf"
      },
      "execution_count": 146,
      "outputs": []
    },
    {
      "cell_type": "code",
      "source": [
        "df2_pca"
      ],
      "metadata": {
        "colab": {
          "base_uri": "https://localhost:8080/"
        },
        "id": "CipK8dMfHizY",
        "outputId": "98a4c22a-819f-4421-cafa-3bcd46807724"
      },
      "execution_count": 147,
      "outputs": [
        {
          "output_type": "execute_result",
          "data": {
            "text/plain": [
              "array([[ 0.03064365, -0.94281916],\n",
              "       [-1.19271952, -1.3261931 ],\n",
              "       [-0.3144075 , -1.05095027],\n",
              "       ...,\n",
              "       [-0.88365326,  0.82343125],\n",
              "       [ 0.53253623, -0.78553755],\n",
              "       [ 0.43843137, -0.81502785]])"
            ]
          },
          "metadata": {},
          "execution_count": 147
        }
      ]
    },
    {
      "cell_type": "code",
      "source": [
        "# razão das variáveis explicativas\n",
        "pca.explained_variance_ratio_"
      ],
      "metadata": {
        "colab": {
          "base_uri": "https://localhost:8080/"
        },
        "id": "_MCU1lhoHl13",
        "outputId": "33700ab7-8199-441f-ebc5-bb7f4bee672c"
      },
      "execution_count": 148,
      "outputs": [
        {
          "output_type": "execute_result",
          "data": {
            "text/plain": [
              "array([0.44305785, 0.247892  ])"
            ]
          },
          "metadata": {},
          "execution_count": 148
        }
      ]
    },
    {
      "cell_type": "code",
      "source": [
        "# Soma das variáveis explicativas\n",
        "pca.explained_variance_ratio_.sum()"
      ],
      "metadata": {
        "colab": {
          "base_uri": "https://localhost:8080/"
        },
        "id": "2sF4Fr75Hm4y",
        "outputId": "9d463889-04d3-4fc0-9a73-171a9e343be0"
      },
      "execution_count": 149,
      "outputs": [
        {
          "output_type": "execute_result",
          "data": {
            "text/plain": [
              "0.6909498554548057"
            ]
          },
          "metadata": {},
          "execution_count": 149
        }
      ]
    },
    {
      "cell_type": "markdown",
      "source": [
        "**Elbow Method**"
      ],
      "metadata": {
        "id": "8f9HnbJgHqXv"
      }
    },
    {
      "cell_type": "code",
      "source": [
        "from sklearn.cluster import KMeans\n",
        "wcss = []\n",
        "for i in range(1, 11):\n",
        "    kmeans = KMeans(n_clusters = i, init = 'k-means++', random_state = 5, max_iter = 300)\n",
        "    kmeans.fit(df2_pca)\n",
        "# Método inertia para gerar o wcss\n",
        "    wcss.append(kmeans.inertia_)"
      ],
      "metadata": {
        "id": "-ja2w2JUHq1v"
      },
      "execution_count": 150,
      "outputs": []
    },
    {
      "cell_type": "code",
      "source": [
        "import matplotlib.pyplot as plt\n",
        "import seaborn as sns"
      ],
      "metadata": {
        "id": "O7_JOIzWHwFa"
      },
      "execution_count": 151,
      "outputs": []
    },
    {
      "cell_type": "code",
      "source": [
        "plt.figure(figsize=(10,5))\n",
        "sns.lineplot(range(1, 11), wcss,marker='o',color='red')\n",
        "plt.title('The Elbow Method')\n",
        "plt.xlabel('Número de clusters')\n",
        "plt.ylabel('WCSS');"
      ],
      "metadata": {
        "colab": {
          "base_uri": "https://localhost:8080/",
          "height": 350
        },
        "id": "yY84CMbmHx1A",
        "outputId": "2d47be89-9ec6-40a5-ccc0-6640b58839b7"
      },
      "execution_count": 152,
      "outputs": [
        {
          "output_type": "display_data",
          "data": {
            "text/plain": [
              "<Figure size 720x360 with 1 Axes>"
            ],
            "image/png": "[encoded data removed]"
          },
          "metadata": {
            "needs_background": "light"
          }
        }
      ]
    },
    {
      "cell_type": "markdown",
      "source": [
        "**Agrupamento**"
      ],
      "metadata": {
        "id": "TQ3KO_6FH3ng"
      }
    },
    {
      "cell_type": "code",
      "source": [
        "kmeans = KMeans(n_clusters = 4, init = 'k-means++', random_state = 5, max_iter = 300)"
      ],
      "metadata": {
        "id": "ol146KrMH5cQ"
      },
      "execution_count": 153,
      "outputs": []
    },
    {
      "cell_type": "code",
      "source": [
        "kmeans_fit = kmeans.fit(df2_pca)"
      ],
      "metadata": {
        "id": "pb4sTJeWH8xh"
      },
      "execution_count": 154,
      "outputs": []
    },
    {
      "cell_type": "code",
      "source": [
        "# Coordenadas dos Centróides\n",
        "centroides = kmeans_fit.cluster_centers_\n",
        "centroides"
      ],
      "metadata": {
        "colab": {
          "base_uri": "https://localhost:8080/"
        },
        "id": "eWpky-7SH-wz",
        "outputId": "fc78c3ea-22e9-411d-8b95-5def65af2979"
      },
      "execution_count": 155,
      "outputs": [
        {
          "output_type": "execute_result",
          "data": {
            "text/plain": [
              "array([[-0.67008533,  0.87767371],\n",
              "       [-0.42235344, -1.0974081 ],\n",
              "       [ 4.48355721,  0.44061976],\n",
              "       [ 1.43571453, -0.17523494]])"
            ]
          },
          "metadata": {},
          "execution_count": 155
        }
      ]
    },
    {
      "cell_type": "code",
      "source": [
        "# Classificação dos dados\n",
        "classificacao = kmeans_fit.labels_\n",
        "classificacao"
      ],
      "metadata": {
        "colab": {
          "base_uri": "https://localhost:8080/"
        },
        "id": "mqNyWNnXIArr",
        "outputId": "39ea8b19-bf16-482b-b77c-43955aac0ef3"
      },
      "execution_count": 156,
      "outputs": [
        {
          "output_type": "execute_result",
          "data": {
            "text/plain": [
              "array([1, 1, 1, ..., 0, 1, 1], dtype=int32)"
            ]
          },
          "metadata": {},
          "execution_count": 156
        }
      ]
    },
    {
      "cell_type": "code",
      "source": [
        "classificacao[2]"
      ],
      "metadata": {
        "colab": {
          "base_uri": "https://localhost:8080/"
        },
        "id": "yca5DWyJIBeM",
        "outputId": "5f77b367-5930-4c66-f355-93fc1e9a6239"
      },
      "execution_count": 157,
      "outputs": [
        {
          "output_type": "execute_result",
          "data": {
            "text/plain": [
              "1"
            ]
          },
          "metadata": {},
          "execution_count": 157
        }
      ]
    },
    {
      "cell_type": "code",
      "source": [
        "import plotly.express as px\n",
        "import plotly.graph_objects as go"
      ],
      "metadata": {
        "id": "-tQiJyhHIDmZ"
      },
      "execution_count": 158,
      "outputs": []
    },
    {
      "cell_type": "code",
      "source": [
        "graf1 = px.scatter(x = df2_pca[:,0], y = df2_pca[:,1], color=classificacao)\n",
        "graf2 = px.scatter(x = centroides[:,0], y = centroides[:,1], size = [15, 15, 15, 15])\n",
        "graf3 = go.Figure(data = graf1.data + graf2.data)\n",
        "graf3.update_layout(width=800,height=500,title_text='Agrupamento K-Means com PCA')\n",
        "graf3.update_xaxes(title = 'Componente 1')\n",
        "graf3.update_yaxes(title = 'Componente 2')\n",
        "graf3.show()"
      ],
      "metadata": {
        "colab": {
          "base_uri": "https://localhost:8080/",
          "height": 517
        },
        "id": "K1JQzXrgIF_i",
        "outputId": "4281121a-7fd7-4d22-f5d1-d78321525f0d"
      },
      "execution_count": 159,
      "outputs": [
        {
          "output_type": "display_data",
          "data": {
            "text/html": [
              "<html>\n",
              "<head><meta charset=\"utf-8\" /></head>\n",
              "<body>\n",
              "    <div>            <script src=\"https://cdnjs.cloudflare.com/ajax/libs/mathjax/2.7.5/MathJax.js?config=TeX-AMS-MML_SVG\"></script><script type=\"text/javascript\">if (window.MathJax) {MathJax.Hub.Config({SVG: {font: \"STIX-Web\"}});}</script>                <script type=\"text/javascript\">window.PlotlyConfig = {MathJaxConfig: 'local'};</script>\n",
              "        <script src=\"https://cdn.plot.ly/plotly-2.8.3.min.js\"></script>                <div id=\"3509a452-db94-4c3f-8bbe-71f65ec916f9\" class=\"plotly-graph-div\" style=\"height:500px; width:800px;\"></div>            <script type=\"text/javascript\">                                    window.PLOTLYENV=window.PLOTLYENV || {};                                    if (document.getElementById(\"3509a452-db94-4c3f-8bbe-71f65ec916f9\")) {                    Plotly.newPlot(                        \"3509a452-db94-4c3f-8bbe-71f65ec916f9\",                        [{\"hovertemplate\":\"x=%{x}<br>y=%{y}<br>color=%{marker.color}<extra></extra>\",\"legendgroup\":\"\",\"marker\":{\"color\":[1,1,1,0,1,0,0,0,0,0,0,0,1,0,0,0,0,1,0,0,0,3,1,0,1,0,0,0,0,3,0,1,0,0,0,0,1,0,1,3,3,3,0,0,1,3,0,3,1,1,3,3,0,3,1,0,1,0,0,0,3,3,3,1,0,3,3,0,3,1,0,1,0,1,3,1,3,3,3,1,3,0,1,1,0,1,0,3,3,3,3,3,1,1,3,3,3,3,0,3,3,1,0,3,0,1,1,3,0,0,2,3,0,3,2,3,3,0,0,3,3,1,0,0,3,3,3,3,3,3,0,3,1,3,3,3,3,3,2,2,0,1,1,0,1,3,1,3,1,1,3,3,2,0,1,0,0,3,1,0,3,0,0,0,0,0,0,3,3,2,0,1,0,3,2,0,2,2,1,3,0,3,1,0,0,3,1,1,0,0,3,3,1,3,1,3,1,0,0,1,1,0,0,3,1,0,0,0,2,3,3,1,2,1,0,0,3,1,0,0,0,0,1,0,3,1,1,0,0,1,0,2,0,3,2,2,0,3,3,0,2,2,0,1,0,0,0,0,0,1,1,1,3,3,0,1,0,1,1,0,1,0,1,0,1,1,0,3,2,1,1,0,0,0,0,0,0,0,0,0,1,0,0,1,0,1,2,3,1,1,0,3,0,0,1,1,0,0,0,0,1,0,0,0,1,0,0,0,0,0,0,0,0,0,0,0,1,1,0,0,0,1,0,0,0,1,0,0,1,3,0,2,0,0,1,0,1,1,0,0,1,1,0,0,1,0,1,0,1,1,0,3,3,0,2,1,1,3,0,3,0,3,3,1,0,0,0,2,0,1,1,0,1,1,0,0,0,3,1,0,3,0,0,0,0,0,0,1,1,0,2,0,0,0,1,1,0,0,0,3,1,0,3,0,0,1,1,0,1,0,1,0,3,2,3,1,0,0,2,1,0,0,1,0,3,0,0,1,0,1,0,1,1,0,1,0,0,1,1,0,0,1,0,0,3,3,2,1,3,3,3,3,2,3,3,0,0,1,1,1,3,0,1,0,0,3,0,0,1,1,0,0,0,0,2,3,1,2,3,3,0,3,0,3,0,1,0,1,0,0,0,1,3,3,0,1,0,0,0,1,0,1,0,3,0,0,0,0,3,0,0,1,0,0,1,1,1,0,1,1,0,0,0,1,3,1,1,1,1,0,1,0,0,3,0,3,1,0,0,1,1,1,0,1,0,0,3,1,0,0,0,3,1,2,2,3,0,1,0,0,3,0,1,0,0,0,1,1,0,0,1,0,0,2,0,3,0,3,0,0,1,0,0,0,0,1,0,3,3,0,2,1,3,0,0,0,0,1,0,1,0,0,0,0,1,0,1,0,0,0,0,0,1,3,1,1,1,1,1,0,0,0,3,1,3,1,0,3,3,0,1,1,1,1,0,0,0,0,0,0,0,0,0,0,0,3,1,0,1,1,3,3,0,1,1,0,1,1,1,3,0,3,0,2,0,1,1,0,0,0,3,3,0,3,3,1,0,1,0,2,0,0,3,0,1,1,3,3,0,3,0,0,0,1,3,3,3,0,3,0,1,0,1,0,1,0,1,0,0,1,3,1,1,0,0,3,1,3,3,0,0,1,1,1,1,1,1,0,1,1,1,1,1,1,0,3,2,0,1,2,2,3,3,3,1,2,3,1,1,0,0,0,0,1,0,3,0,1,1,3,1,0,0,1,0,3,0,1,0,0,1,0,1,1,0,0,0,1,3,2,3,1,0,1,3,3,1,1,0,1,0,1,1,0,0,0,3,3,0,3,2,3,0,0,3,1,3,1,1,3,1,3,0,1,1,1,0,0,1,0,0,1,1,3,0,3,3,1,3,0,1,1,1,1,3,3,0,0,0,1,0,1,1,0,0,1,1,0,3,1,2,1,1,1,0,0,1,1,0,1,1,1,1,0,1,3,3,0,1,3,3,3,0,1,0,0,1,1,0,1,3,0,3,2,1,3,1,1,1,0,0,2,3,0,0,0,1,1,2,0,3,1,2,1,1,1,0,0,0,1,0,0,3,0,1,1,3,1,0,0,3,0,1,1,0,1,1,0,1,1,3,3,3,2,3,3,3,0,0,0,0,3,1,3,3,0,0,1,3,0,3,0,1,3,3,2,3,0,1,0,0,1,0,0,2,3,2,3,3,0,3,0,1,0,1,1,1,0,1,0,0,0,0,1,1,0,3,0,1,1,0,0,2,1,2,1,3,1,2,1,1,1,1,1,0,3,3,3,3,1,0,3,2,1,0,2,3,0,3,2,3,3,3,3,2,2,1,1,1,1,0,0,0,1,1,1,0,0,0,0,0,1,1,0,1,1,3,2,0,3,0,3,1,3,1,3,3,0,3,2,0,3,1,1,2,3,0,1,0,1,0,0,0,1,1,0,0,1,1,1,1,2,0,1,0,0,1,1,0,1,1,0,1,1,1,3,3,0,3,0,0,1,1,0,3,0,0,0,0,1,3,1,3,3,1,0,1,0,0,0,3,2,1,0,0,1,1,1,3,0,0,1,3,1,3,3,1,1,3,0,0,3,0,1,3,3,1,3,3,1,1,2,1,1,0,0,1,0,0,0,1,3,1,1,0,0,1,1,1,0,1,3,3,3,3,0,3,3,1,3,0,1,0,1,1,1,1,0,0,0,3,1,0,3,2,0,1,3,3,0,3,0,2,3,3,0,3,1,1,1,1,0,1,0,1,0,1,1,1,0,3,3,0,0,2,3,1,1,0,1,1,0,0,1,0,3,0,0,0,3,0,3,2,0,0,0,0,2,3,3,1,0,1,1,3,0,1,0,1,1,1,0,0,0,0,1,1,3,1,2,2,3,3,3,3,1,1,2,3,2,0,3,3,3,2,1,0,1,0,2,0,3,0,1,0,0,1,2,0,3,3,1,3,0,0,0,0,0,1,0,2,0,1,0,0,3,0,3,1,3,2,3,3,3,0,0,3,3,0,1,1,1,0,1,1,0,0,3,1,0,0,1,1,3,0,0,0,0,3,0,0,0,0,1,0,1,1,1,3,3,1,1,1,1,3,2,0,0,2,2,3,3,3,3,2,1,3,3,3,2,1,2,1,0,1,1,1,0,0,1,1,1,1,1,0,0,0,1,0,1,1,1,0,1,1,0,0,1,1,1,1,2,0,3,3,1,3,1,3,1,3,2,3,0,3,1,0,3,1,0,0,0,0,0,0,1,1,0,0,0,0,0,0,1,1,1,0,1,3,0,1,0,0,0,1,0,1,1,1,0,0,3,0,3,1,1,3,0,2,1,1,0,0,1,1,1,1,0,0,0,1,0,1,0,0,0,2,2,3,0,0,0,3,3,2,1,0,0,1,0,0,0,0,0,1,1,1,0,0,1,1,0,1,0,1,2,0,0,3,3,3,0,1,1,1,3,1,0,1,0,1,3,0,1,1,2,2,1,0,3,3,1,2,2,2,3,0,0,3,3,3,3,3,3,3,2,2,3,2,3,2,0,0,1,3,1,0,0,0,1,0,1,1,1,0,1,0,0,1,1,0,0,1,0,0,3,1,2,2,2,0,3,3,3,3,3,3,3,3,3,1,2,0,1,2,3,0,1,0,0,0,1,1,1,0,1,0,0,0,1,2,0,0,0,2,3,3,1,3,2,3,3,3,3,2,3,2,0,0,1,3,2,0,1,1,0,0,1,1,1,1,1,1,1,0,0,0,0,1,0,1,0,0,0,3,3,0,3,3,3,3,1,3,3,1,2,0,3,1,0,3,2,3,0,1,0,0,1,1,1,1,0,0,0,0,1,0,1,0,1,1,0,1,1,1,0,3,3,1,0,0,0,3,1,1,3,0,2,3,1,3,1,0,0,3,0,3,2,2,2,0,2,3,2,3,3,3,3,0,3,0,1,0,0,1,0,0,1,1,1,0,0,0,0,0,0,0,1,0,0,3,3,3,3,3,0,1,1,1,0,0,0,0,1,0,1,1,0,1,1,0,0,0,0,3,1,0,2,1,3,1,1,0,0,3,3,0,3,1,1,0,1,0,0,1,0,1,0,1,1,1,3,0,1,0,1,0,0,0,0,0,3,3,0,0,2,2,3,3,0,0,1,1,3,1,1,1,1,3,0,0,1,2,0,0,0,1,1,1,0,0,0,3,0,2,3,3,2,1,3,3,3,0,3,3,2,1,0,0,1,1,0,0,0,1,1,0,0,0,1,1,0,0,1,0,0,1,1,0,1,0,1,1,0,0,0,0,1,0,0,0,0,1,0,1,3,0,2,0,0,0,1,0,0,1,0,0,0,1,1,1,1,1,0,0,0,1,0,3,0,1,0,0,0,0,3,1,0,1,0,0,0,1,1,0,1,0,0,1,0,1,3,0,2,0,0,1,0,1,0,0,3,0,0,0,0,1,1,0,1,1,0,0,0,0,0,3,1,3,0,0,3,1,3,3,0,2,3,2,2,1,3,2,0,3,0,1,1,3,1,1,0,1,1,0,3,3,1,1,3,3,2,2,0,3,1,0,3,2,3,0,0,2,3,3,0,2,3,3,2,3,1,0,1,1,0,1,0,0,1,0,0,1,1,0,0,0,3,0,0,1,0,1,1,0,0,1,1,1,0,0,3,0,2,3,0,0,3,3,1,3,2,3,0,2,3,3,0,1,3,1,1,3,3,3,3,3,1,0,0,1,0,1,0,1,0,0,0,0,1,0,1,1,1,3,0,1,3,1,2,3,3,0,3,2,3,3,2,0,2,1,0,0,0,3,0,1,1,1,2,0,1,3,0,1,3,0,0,1,1,0,1,1,3,0,1,1,1,0,0,1,1,2,3,1,3,3,3,0,1,1,0,3,0,1,1,3,3,2,1,3,3,3,3,3,0,2,3,3,3,3,3,0,3,3,3,2,3,3,0,1,0,3,1,3,2,1,0,0,1,1,1,0,1,0,0,1,0,1,1,1,1,1,0,0,1,0,1,0,1,1,1,1,1,0,1,0,0,0,0,0,1,1,0,0,0,0,1,0,1,0,0,1,1,0,0,0,0,0,1,0,1,0,0,1,0,0,0,0,1,1,1,0,1,1,1,1,0,0,1,0,0,0,0,1,0,1,0,0,0,0,0,0,0,1,0,0,1,1,0,0,0,0,0,0,0,0,0,0,1,0,0,1,0,0,0,0,0,0,1,0,0,0,0,0,0,0,0,0,0,0,1,0,0,0,0,0,0,1,0,1,0,0,0,1,1,3,0,1,1,1,1,1,0,0,3,0,0,0,0,0,0,1,1,1,1,1,0,0,0,0,1,0,0,0,1,0,0,0,0,0,0,0,1,0,1,0,0,0,0,0,0,0,1,0,0,0,1,3,0,1,1,0,0,1,1,0,0,0,1,1,0,1,0,0,1,1,0,0,3,0,0,0,1,0,1,0,0,1,0,0,1,1,1,0,1,1,1,1,1,0,1,0,1,0,0,0,1,0,1,0,0,3,1,0,0,0,1,1,0,0,0,0,0,0,0,1,0,0,0,0,1,0,1,0,0,1,2,1,1,0,0,0,0,0,1,0,0,0,0,1,0,1,1,1,0,0,0,1,1,0,3,0,1,0,0,1,1,1,0,0,1,1,0,0,1,1,1,0,1,0,0,1,0,0,1,0,1,1,0,0,1,0,0,0,2,0,0,3,0,1,1,0,0,1,3,0,0,0,1,0,1,0,1,0,0,1,0,0,0,0,1,0,1,0,0,0,3,3,1,0,1,0,1,0,0,0,3,1,0,0,1,0,0,1,0,1,3,1,1,0,1,2,1,0,0,1,1,0,0,0,0,0,0,0,0,0,0,1,1,0,1,1,1,0,1,1,0,1,0,0,1,0,1,0,3,0,0,0,0,0,1,1,1,1,1,1,0,0,0,1,0,2,3,3,0,1,0,1,0,1,1,0,1,1,1,1,1,0,0,0,1,1,1,1,0,1,1,1,3,0,2,3,3,3,1,2,3,3,1,3,3,3,3,0,3,3,0,0,3,2,3,3,0,0,0,0,0,1,1,1,1,1,1,1,0,0,1,0,0,2,1,3,3,3,0,1,1,3,0,1,0,0,1,0,0,1,0,0,2,2,0,0,0,1,1,0,0,1,0,1,3,1,3,3,3,0,1,0,3,0,3,0,0,1,1,1,3,3,0,3,2,3,3,3,3,3,3,3,3,0,3,3,2,0,3,1,0,0,0,1,1,0,0,0,1,1,1,1,1,0,1,0,0,1,0,1,3,0,1,0,0,0,3,2,3,1,3,0,3,0,1,1,0,1,3,1,0,1,0,0,0,1,1,2,0,0,0,1,1,1,1,0,1,1,0,0,1,0,0,0,0,0,0,0,0,3,2,0,1,0,1,1,1,0,1,1,1,0,1,1,0,1,1,1,1,0,3,3,0,0,0,3,3,3,3,2,0,0,2,0,1,1,1,2,0,1,0,1,0,1,1,0,0,1,0,0,1,0,1,0,0,1,1,1,0,1,1,0,1,1,1,1,0,0,1,0,1,0,3,3,0,0,0,3,0,1,0,0,1,0,1,1,0,0,0,0,0,0,1,0,1,1,0,0,0,0,1,0,1,0,0,1,1,1,1,1,1,0,0,1,0,0,1,3,1,0,0,1,1,1,1,0,0,0,0,0,1,0,0,0,0,3,0,1,0,1,0,0,0,0,0,3,1,0,1,3,1,2,1,0,3,0,3,0,0,1,3,0,1,0,3,1,0,1,1,0,0,3,3,1,1,1,0,0,3,0,0,0,0,3,3,0,0,0,0,1,1,0,3,1,0,0,3,0,0,0,0,0,1,2,1,1,0,0,0,1,0,0,0,1,3,1,1,3,3,2,1,3,3,3,3,2,1,3,3,3,3,3,3,1,2,3,3,0,1,1,1,0,1,1,0,0,1,0,0,0,0,0,1,0,0,0,3,0,1,3,3,1,3,2,3,3,2,3,3,3,3,3,3,3,3,3,3,3,3,0,0,0,0,1,0,0,0,0,1,3,3,3,3,3,3,3,3,3,3,3,3,3,2,0,1,1,0,1,1,0,0,1,0,0,1,0,1,3,0,1,0,1,0,1,1,0,0,0,0,1,1,1,0,0,0,0,0,1,1,1,0,1,0,0,1,1,1,0,1,0,0,0,0,1,0,0,0,1,0,0,0,0,0,1,0,1,0,0,1,0,1,0,1,3,0,0,0,1,0,0,0,0,1,0,1,0,1,0,1,0,1,1,0,1,0,0,1,0,1,0,1,1,0,1,1,0,0,0,0,0,0,1,0,1,0,1,1,0,3,1,3,0,0,0,0,0,1,0,0,1,0,0,1,0,0,1,0,0,1,1,1,1,0,0,0,0,0,0,0,0,0,1,0,0,1,0,0,0,1,0,1,0,1,0,1,0,0,0,1,0,0,0,0,0,0,0,1,0,0,3,1,0,1,0,1,0,0,1,0,0,0,1,3,0,0,0,1,0,2,0,0,2,0,1,0,1,0,0,0,1,0,0,0,1,1,1,1,0,0,1,0,1,0,0,0,0,1,1,1,1,3,1,0,0,0,0,0,0,3,1,0,1,1,1,0,0,1,0,0,1,0,0,0,1,1,0,0,0,1,1,1,1,0,0,1,0,0,0,0,0,0,0,1,0,1,0,1,1,2,1,1,0,0,0,0,1,0,0,0,0,3,1,1,1,1,1,0,1,1,0,0,0,0,0,0,1,0,1,2,0,2,1,1,1,1,1,0,1,0,1,1,0,0,0,0,1,1,0,1,1,0,2,0,0,1,0,0,0,1,1,1,1,0,3,3,1,0,0,1,0,0,3,3,3,3,3,2,3,2,3,3,3,2,3,2,2,0,1,3,3,3,3,3,2,3,2,2,3,3,3,3,3,0,3,1,3,2,2,2,2,1,1,3,3,0,2,3,3,1,1,1,0,1,1,0,0,0,1,0,1,1,1,0,1,0,1,0,1,1,0,1,1,1,0,1,0,1,3,0,1,0,1,1,0,0,0,0,0,0,1,0,0,1,1,1,0,0,0,1,1,1,1,0,1,0,1,1,3,1,1,3,0,3,3,1,3,0,1,1,1,0,1,0,0,1,1,1,0,0,0,0,1,3,1,1,1,0,1,0,1,1,0,0,0,0,1,0,1,0,0,1,3,0,0,0,1,0,1,1,1,0,0,0,0,0,0,0,0,1,0,1,1,1,0,1,0,1,1,1,3,0,0,1,0,1,1,0,0,0,0,1,0,0,3,0,0,0,1,1,1,1,1,0,0,0,1,0,1,0,0,1,0,0,1,1,1,0,1,0,1,1,0,0,0,0,3,3,1,3,0,3,3,3,0,0,0,1,2,0,1,0,0,3,3,0,1,1,1,3,0,0,3,0,1,0,1,3,3,1,3,3,2,3,2,2,1,0,2,1,3,3,3,3,1,2,3,3,3,1,3,3,3,3,3,3,3,2,3,1,0,3,3,3,3,3,1,0,2,1,1,0,1,1,0,0,1,0,3,0,1,0,0,1,1,1,0,0,1,0,0,1,1,1,0,0,1,1,1,1,0,0,0,1,1,1,1,1,0,0,0,1,1,1,1,1,1,0,1,0,0,0,0,0,0,1,1,1,1,1,0,0,0,1,0,0,1,1,1,1,1,0,0,1,1,0,1,0,0,0,1,0,0,1,0,0,0,1,0,1,3,1,0,1,0,0,1,1,0,0,0,1,1,1,0,0,0,1,0,1,1,1,1,1,1,1,1,1,0,0,1,0,1,0,0,1,1,0,1,1,1,0,0,1,0,0,1,1,0,0,0,0,0,1,3,3,3,0,3,0,3,0,0,0,3,0,3,1,1,0,0,0,3,0,0,1,0,0,2,0,1,1,1,3,0,0,1,0,1,3,0,0,0,0,0,0,0,1,0,0,0,1,1,1,0,1,0,3,0,0,0,0,0,3,0,1,1,3,0,1,1,1,1,1,0,1,0,0,0,3,1,1,1,0,0,0,1,0,0,0,0,1,2,2,1,3,1,0,3,1,0,3,0,1,1,3,3,3,0,0,0,1,1,1,0,1,1,0,1,0,1,1,1,0,1,0,0,0,1,1,0,0,1,0,0,1,1,1,0,3,0,0,1,0,1,1,1,1,1,1,0,1,1,1,1,1,0,2,0,3,0,0,0,1,1,3,0,1,1,3,3,1,1,1,1,3,1,0,0,1,0,1,0,1,1,2,3,3,0,0,2,2,2,2,2,2,2,3,3,3,3,3,0,2,3,0,3,3,0,2,2,3,3,2,2,1,2,0,0,1,0,0,1,0,1,0,0,0,0,0,0,1,1,1,3,0,0,1,0,1,0,0,0,1,1,0,0,1,0,0,1,0,1,0,0,1,1,3,0,1,1,0,0,1,1,1,1,0,0,1,1,0,1,0,1,1,1,1,0,0,0,0,0,0,0,0,0,0,0,0,1,1,1,0,0,0,1,0,1,0,0,1,0,3,0,0,0,0,1,0,1,1,1,0,1,1,0,3,0,0,1,1,1,0,3,1,1,1,1,1,1,0,0,0,0,2,2,0,1,0,3,1,1,2,2,0,1,0,1,1,0,1,3,0,0,0,0,3,1,1,1,1,1,0,1,0,1,1,1,0,3,0,3,1,1,3,0,0,0,0,0,1,1,1,1,0,0,3,0,1,0,0,0,0,0,1,0,1,0,1,0,0,0,1,1,1,3,1,3,1,0,1,0,0,1,1,3,0,1,0,0,1,0,1,0,0,3,0,0,0,0,1,3,0,1,3,0,0,1,1,2,2,3,2,3,3,1,2,3,3,3,3,3,3,1,2,3,3,3,1,2,3,3,3,0,0,0,1,0,0,0,1,1,1,1,1,1,0,0,1,0,0,0,1,1,1,1,0,1,1,1,1,0,1,0,0,1,0,0,0,1,0,0,3,0,1,1,0,0,1,0,0,0,1,0,0,0,0,0,0,0,0,3,0,1,1,0,1,1,0,0,0,0,1,0,3,3,1,3,1,3,1,1,0,0,0,1,0,1,1,0,0,0,0,1,1,1,0,1,1,0,1,0,0,1,0,2,1,1,1,0,1,1,0,1,0,1,1,0,0,1,0,1,1,1,1,3,1,0,3,1,1,0,0,0,1,1,0,0,1,1,0,1,0,3,3,3,0,0,1,0,1,1,1,0,0,0,0,1,1,1,0,1,3,3,3,2,3,3,0,0,1,0,1,1,1,1,3,0,0,0,0,0,0,3,1,0,3,0,3,1,0,1,0,3,1,1,3,3,3,3,3,3,2,3,1,2,2,0,2,2,3,3,2,2,3,2,1,2,0,1,0,1,0,1,0,0,0,0,0,1,0,1,1,1,1,1,1,1,1,0,0,1,0,1,1,0,0,1,3,3,3,3,3,3,3,0,2,3,3,3,1,3,3,3,1,2,3,3,3,3,3,3,2,3,3,3,3,3,3,0,1,1,1,0,1,2,2,3,3,2,0,3,3,0,1,0,1,1,0,1,1,0,1,0,1,3,0,1,1,0,0,0,0,0,1,1,3,3,0,0,0,3,1,0,3,1,0,0,0,0,1,1,0,3,3,1,3,3,3,2,0,3,3,2,2,0,2,2,1,2,3,0,1,0,0,0,0,0,1,1,0,0,0,0,0,0,1,1,1,1,0,1,1,0,1,1,1,0,0,1,1,0,1,1,0,1,3,0,1,0,0,1,1,0,1,1,0,0,1,0,0,0,0,1,1,1,0,0,0,0,1,0,0,1,0,0,0,0,1,0,0,0,1,0,0,1,1,0,1,1,3,1,1,0,0,1,0,1,0,0,0,1,0,0,0,0,0,0,0,1,0,1,0,0,0,1,0,0,0,1,0,0,0,0,1,1,1,1,0,0,1,0,0,0,1,1,0,0,0,1,1,1,0,0,0,3,1,0,0,0,1,1,0,0,1,3,1,1,1,3,1,1,1,1,1,0,0,1,1,1,1,0,1,0,1,1,1,0,1,3,3,1,0,0,0,0,2,3,0,0,0,1,0,0,1,1,0,0,0,1,0,0,1,0,0,1,0,0,0,3,0,0,0,0,1,0,1,0,0,0,1,0,0,0,1,3,0,1,1,0,1,0,0,0,0,1,0,0,0,0,0,0,1,0,0,0,0,1,0,0,1,1,0,0,0,1,1,2,0,0,0,0,0,0,1,1,0,1,0,1,0,1,1,1,1,0,1,0,1,1,1,0,0,3,0,0,1,0,0,1,0,0,1,0,1,1,1,0,0,1,1,0,1,0,0,0,0,0,0,0,0,1,1,0,0,1,0,0,0,1,1,1,0,1,0,3,3,1,0,1,1,0,0,0,0,1,0,0,0,1,0,1,0,0,0,1,0,0,1,0,0,1,0,1,1,0,0,0,1,0,1,1,0,1,1,0,3,0,0,1,1,1,0,1,2,1,0,0,0,0,0,0,0,0,1,1,1,1,0,1,0,0,0,0,1,0,0,1,1,1,0,3,0,1,3,0,1,0,0,0,0,0,0,1,1,3,1,3,1,0,0,1,0,1,0,0,0,0,1,0,3,1,0,1,1,0,0,0,3,0,0,0,1,1,0,0,0,0,0,1,1,3,3,1,1,0,0,0,0,1,1,3,0,0,0,3,0,0,0,1,3,1,0,1,3,0,0,0,1,3,1,1,0,1,0,1,1,0,1,1,0,1,3,0,0,1,1,0,1,0,1,0,0,1,3,3,1,1,0,3,0,3,3,1,1,0,1,0,0,0,3,2,2,3,1,0,0,3,3,1,0,0,1,3,0,0,1,1,3,3,0,3,1,1,0,1,0,0,3,3,3,3,1,2,2,0,2,1,3,1,3,3,3,3,3,3,3,3,3,3,3,3,3,3,3,0,3,1,3,1,3,3,0,0,0,3,3,3,3,3,0,0,0,0,1,1,0,0,0,1,0,1,1,1,1,1,1,0,0,1,0,0,1,1,0,1,1,0,1,1,0,0,0,1,1,0,0,1,0,1,0,1,0,1,0,1,0,0,0,1,0,0,0,1,0,0,0,0,1,1,2,0,1,0,0,0,0,1,0,0,3,0,1,1,0,1,1,0,0,3,1,1,0,0,0,1,0,0,0,0,1,0,0,0,1,1,0,0,0,0,1,1,1,1,0,0,0,1,1,0,0,0,0,0,1,0,3,3,3,0,0,0,0,1,0,3,0,0,1,0,0,0,0,0,1,0,0,1,1,0,0,0,1,0,1,1,1,0,0,0,0,1,1,1,1,0,0,0,0,0,0,1,0,1,3,1,1,0,0,0,1,1,1,0,1,0,1,0,1,0,0,1,1,0,0,0,0,0,0,0,0,1,0,1,1,0,0,0,0,0,0,1,1,1,1,0,1,1,1,0,1,0,0,0,0,0,0,0,0,0,1,1,1,0,0,1,0,0,0,1,0,0,0,1,0,1,1,0,1,1,1,1,1,0,0,0,0,1,1,1,1,1,1,0,0,1,1,1,1,1,0,1,0,3,0,0,0,0,2,0,1,3,0,0,1,1,1,0,0,0,0,0,0,1,0,1,1,1,0,0,0,1,1,1,1,0,0,0,1,0,0,1,1,0,3,1,1,3,1,1,0,0,1,1,0,0,1,1,0,1,3,0,3,1,3,3,3,0,0,3,0,1,3,1,0,0,3,1,1,1,1,3,3,1,1,1,1,0,0,0,3,0,0,3,1,3,1,3,2,2,2,3,2,3,1,3,3,3,3,3,2,3,3,3,3,3,3,2,0,2,3,1,3,2,3,1,0,1,0,0,0,1,3,0,0,0,1,0,0,1,1,0,0,0,0,1,1,1,0,0,0,0,1,1,0,1,3,1,1,0,0,1,1,1,1,1,1,1,1,0,1,1,0,1,1,1,0,1,1,3,0,1,0,0,0,0,0,0,1,0,1,1,0,1,0,0,0,1,1,0,0,1,0,1,1,0,0,0,0,0,0,0,1,0,1,1,0,0,0,0,0,0,0,0,1,1,1,0,1,0,1,0,1,0,1,1,0,0,1,0,1,1,0,1,3,0,0,1,2,2,0,3,1,0,0,0,0,0,0,0,1,0,1,1,0,1,0,0,0,1,1,0,0,0,0,1,0,3,1,0,1,0,0,3,1,1,1,1,0,0,1,0,0,1,0,1,0,1,0,0,1,1,0,1,0,3,0,0,0,1,0,0,1,0,1,1,1,1,1,0,1,0,0,0,1,1],\"coloraxis\":\"coloraxis\",\"symbol\":\"circle\"},\"mode\":\"markers\",\"name\":\"\",\"showlegend\":false,\"x\":[0.030643646907916933,-1.1927195226857472,-0.31440750349029656,-1.1659678368694355,0.1561167925072661,-0.1621826720746351,-1.1032312640697604,-1.1345995504695983,-0.31902410407382276,-1.2600726960689481,-1.1345995504695983,-0.4444972496731728,-0.6594586538885092,-0.8209166864712228,-0.5386021088726853,-1.1345995504695983,-0.4444972496731728,-0.0007246394919214715,-1.0091264048702475,-0.9463898320705728,0.5906562015214651,1.3167274025902862,-0.03209292589175899,-0.5699703952725227,-0.5339855082891591,-1.0718629776699231,-0.28765581767398507,-1.0091264048702475,-0.6640752544720353,2.074182876769912,0.24560505112325245,-0.3457757898901341,-0.9463898320705728,-0.7581801136715478,-0.03670952647528509,-0.8209166864712228,0.46979965650564104,-1.0718629776699231,0.18748507890710364,1.9754614169868734,1.2539908297906108,1.635026867172187,0.5011519561945107,-0.2562875312741476,-1.129982949886072,1.070397711975112,-1.2600726960689481,1.948709731170562,0.030643646907916045,-1.3495609546849343,1.4422005481896358,1.7291317263716997,-0.8836532592708978,0.7834825205040162,0.7253465615768995,-0.3503923904736601,-0.7221952266881843,-0.5072338224728478,-0.7581801136715478,-1.0718629776699231,2.0068297033867113,0.7834665337930482,1.384080575973487,-0.6908269402883467,-1.1032312640697604,1.0390294255752743,1.3213440031738122,0.12013190552390239,1.4781854351729997,0.09338021970759111,-0.22491924487431011,-0.7535635130880218,-1.0404946912700852,-0.5653537946889968,2.199656022369262,0.1561167925072661,1.635026867172187,0.7207299609933734,1.7605000127715376,0.7253465615768995,1.7918682991713748,-1.0404946912700852,-0.4398806490896465,0.693978275177062,-0.7895484000713854,-0.2516709306906216,-0.09944609927496006,1.948709731170562,0.9449245663757618,2.136919449569587,1.6931468393883362,1.8186199849876858,0.31295822450645366,0.2502216517067786,1.4422005481896358,1.3480956889901239,0.9449245663757618,1.5363054073891484,-0.8209166864712228,1.4781854351729997,1.4108322617897986,-0.6594586538885092,-0.13081438567479756,0.9135562799759244,-0.5072338224728478,-0.5653537946889968,-0.09482949869143403,1.3527122895736494,-1.2287044096691107,-0.005341240075447611,4.3288349260051735,1.5409220079726746,-0.6640752544720353,0.8462031065927235,3.885062315823922,1.6304102665886608,0.7834665337930482,0.46978366979467306,0.030627660196947945,1.1645025711746244,1.1598859705910984,-0.7535635130880218,-0.7581801136715478,0.026027046324389888,1.5676736937889861,1.5095537215728372,1.5095537215728372,2.195039421785736,1.4781854351729997,1.9173414447707242,0.40704709699499814,1.7918682991713748,-0.6594586538885092,2.257775994585411,1.4154488623733246,1.3213440031738122,1.1598859705910984,1.3794639753899611,3.3518014470266846,5.332620090799975,-0.8836532592708978,-0.7849317994878591,-0.5026172218893216,-0.8522849728710603,0.756714847976737,1.944093130587036,0.030643646907916045,1.5722902943725117,-0.5967220810888341,-0.3771440762899716,1.7291317263716997,1.070397711975112,5.363988377199813,-1.0404946912700852,-0.2516709306906216,-0.47586553607301013,-0.7581801136715478,1.6304102665886608,0.693978275177062,-0.8209166864712228,1.8546048719710497,-0.7895484000713854,-0.8522849728710603,-0.7895484000713854,-0.6327069680721976,-0.2562875312741476,-0.6640752544720353,2.199656022369262,1.6036585807723496,5.0816737996012735,-0.5386021088726853,0.5685051295777118,0.46978366979467306,1.5409220079726746,4.9562006540019246,-0.8522849728710603,4.673886076403387,4.171993494005986,-0.2516709306906216,1.4781854351729997,-0.31902410407382276,1.003044538591911,-0.12619778509127147,-1.2287044096691107,-1.0404946912700852,1.258607430374137,-1.0672463770863967,-0.7221952266881843,-0.9463898320705728,-1.2600726960689481,1.823236585571212,1.133134284774787,0.37569479730612854,1.003044538591911,-0.5339855082891591,2.508722285784111,-0.18893435789094654,-0.9150215456707353,-1.322809268868623,-0.5653537946889968,-0.5026172218893216,0.218837378595973,-0.41312896327333526,1.9800780175703996,0.2815899381066161,-0.47586553607301013,-0.31902410407382276,-0.22491924487431011,4.987568940401761,1.007661139175437,1.4154488623733246,-0.5967220810888341,4.4810597574208355,-0.7221952266881843,-0.9777581184704104,-1.0404946912700852,2.1055511631697494,0.09338021970759111,-0.6013386816723602,-0.6327069680721976,-0.3503923904736601,-1.0091264048702475,-0.18893435789094654,-0.9150215456707353,1.6036585807723496,0.2815899381066161,-0.7221952266881843,-0.9777581184704104,-0.5699703952725227,-0.09482949869143403,-1.3855458416682982,4.324218325421646,-0.8209166864712228,0.6579933881936983,4.924832367602087,4.888847480618723,-1.2287044096691107,1.4422005481896358,1.1017659983749495,0.40244648312244,4.705254362803224,4.857479194218885,-0.7895484000713854,-0.9104049450872091,-0.1621826720746351,-1.197336123269273,-0.9150215456707353,-1.0091264048702475,-1.0404946912700852,-0.6908269402883467,-0.18433374401838856,-1.0358780906865592,1.8186199849876858,0.7207299609933734,-1.1345995504695983,0.5639045157051537,-0.6954435408718729,0.5011679429054786,-0.8476683722875343,-0.9463898320705728,-0.5967220810888341,-0.6013386816723602,-0.4712489354894841,-0.3503923904736601,-0.8790366586873717,-0.8790366586873717,-0.28765581767398507,2.163671135385899,5.077057199017748,0.2815899381066161,-1.380929241084772,-0.9777581184704104,-0.9150215456707353,-1.1659678368694355,-0.7581801136715478,-0.09944609927496006,-0.6013386816723602,-1.197336123269273,-0.8209166864712228,-0.28765581767398507,-0.8476683722875343,0.057395332724227394,-0.7895484000713854,0.12474850610742858,-0.5699703952725227,0.12474850610742858,4.799359222002737,1.7291317263716997,-0.12619778509127147,-0.157566071491109,-0.4444972496731728,0.9762928527755995,-1.0404946912700852,0.52791962872179,-0.6594586538885092,-0.5339855082891591,-1.4169141280681359,-1.0091264048702475,-0.6327069680721976,0.52791962872179,-0.28303921709045904,-0.6954435408718729,0.6847610607209776,0.21423676472341494,-0.5339855082891591,-1.0091264048702475,-0.7581801136715478,-0.41312896327333526,0.5906562015214651,0.3710781967226025,-1.197336123269273,-0.6954435408718729,-0.8209166864712228,-0.9777581184704104,0.026027046324389888,0.40244648312244,-0.5339855082891591,-0.6908269402883467,-0.41312896327333526,-0.09944609927496006,-0.7895484000713854,-0.5967220810888341,-1.197336123269273,-1.2600726960689481,0.7161293471208151,-0.6594586538885092,-0.5386021088726853,0.8416024927201652,0.631241702377387,1.2272391439742996,0.43841538339483566,4.422939785204686,-0.5699703952725227,-1.1345995504695983,0.12474850610742858,0.21423676472341494,-0.6594586538885092,0.12474850610742858,-1.0718629776699231,-0.31902410407382276,-0.7535635130880218,0.18748507890710364,-0.5699703952725227,-0.2562875312741476,-0.40851236268980917,-0.5072338224728478,0.5325362293053161,0.40704709699499814,-0.8790366586873717,-0.5026172218893216,-0.7268118272717103,1.2226225433907736,1.195870857574462,-1.1345995504695983,5.113042086001111,-0.4712489354894841,0.06201193330775356,1.7245151257881735,-0.8522849728710603,1.2539908297906108,-0.6327069680721976,2.0428145903700745,2.038197989786548,-0.7849317994878591,-0.03670952647528509,-0.5386021088726853,-0.8836532592708978,4.673886076403387,-0.8209166864712228,-0.6908269402883467,0.030643646907916045,-0.8209166864712228,-0.157566071491109,-0.22030264429078403,-0.7581801136715478,-0.41312896327333526,-0.9463898320705728,1.0390294255752743,-0.18893435789094654,-0.2562875312741476,0.6893776613045036,-0.19355095847447265,-0.9150215456707353,-1.1659678368694355,-1.4482824144679733,-0.8209166864712228,-0.8522849728710603,-0.5653537946889968,0.18748507890710364,-0.09944609927496006,5.045688912617909,-0.47586553607301013,0.2502056649958105,-0.9777581184704104,-1.1927195226857468,-0.4712489354894841,-1.1032312640697604,-0.1621826720746351,-0.28765581767398507,1.4781854351729997,-0.31440750349029656,-0.5386021088726853,1.3527122895736494,-0.7268118272717103,-1.5423872736674855,-0.941773231487047,0.40706308370596594,-0.6640752544720353,-0.40851236268980917,0.1515001919237399,-0.12619778509127147,-1.4169141280681359,1.007661139175437,4.391571498804849,1.1017659983749495,-0.9104049450872091,-0.7895484000713854,-0.13081438567479756,4.924832367602087,-0.12159717121871347,-0.6640752544720353,-1.0091264048702475,-0.28303921709045904,-0.5386021088726853,1.1598859705910984,-0.6954435408718729,-0.8836532592708978,-0.2516709306906216,-0.8209166864712228,-0.28303921709045904,-0.9777581184704104,0.18748507890710364,-0.3771440762899716,0.057395332724227394,-0.3457757898901341,-1.1345995504695983,-0.9777581184704104,0.37569479730612854,0.09338021970759111,-0.2562875312741476,0.08876361912406493,-0.3457757898901341,-1.1032312640697604,-1.0404946912700852,1.0971493977914233,2.2937608815687747,4.830727508402573,0.5011679429054786,1.1598859705910984,2.0114463039702373,0.9089396793923982,1.7291317263716997,4.987568940401761,0.7880831343765745,2.2891442809852487,-1.2914409824687856,-0.47586553607301013,-0.4712489354894841,-0.8790366586873717,-0.8476683722875343,1.4154488623733246,-0.6954435408718729,-0.22030264429078403,-0.7581801136715478,-1.197336123269273,0.9089556661033662,0.465183055922115,0.08876361912406493,-0.9731415178868842,-0.09482949869143403,0.026027046324389888,-1.2914409824687856,0.08876361912406493,-1.197336123269273,4.9562006540019246,1.384080575973487,-0.8163000858876969,4.637901189420023,0.8462031065927235,2.0428145903700745,-0.13081438567479756,2.576075459167312,-0.6327069680721976,1.446817148773162,-1.2287044096691107,-0.5026172218893216,-0.22491924487431011,-0.7221952266881843,-1.1032312640697604,-0.22491924487431011,-0.8209166864712228,-0.4712489354894841,2.572210887614273,0.8508197071762493,-0.5699703952725227,-0.5967220810888341,0.1515001919237399,-0.06807781287512252,-1.2600726960689481,-0.5653537946889968,-1.1659678368694355,-0.3771440762899716,-1.1659678368694355,2.2937608815687747,-1.2287044096691107,-0.9777581184704104,-0.47586553607301013,-0.5699703952725227,2.2891442809852487,-0.9777581184704104,0.1515001919237399,-0.22030264429078403,-0.5386021088726853,-1.0404946912700852,-0.3771440762899716,0.2815899381066161,-0.0007246394919214715,-0.4444972496731728,-0.5339855082891591,0.46979965650564104,0.7161293471208151,-0.6327069680721976,-1.0091264048702475,-0.2516709306906216,1.1599019573020664,-0.12619778509127147,-0.5339855082891591,-0.0007246394919214715,-0.941773231487047,-0.8209166864712228,-0.6908269402883467,-1.8560701376658606,-0.8836532592708978,1.5722902943725117,-0.2562875312741476,1.885973158370887,-0.09482949869143403,-0.31902410407382276,-0.9777581184704104,-1.569138959483797,0.3443265109062912,-1.569138959483797,-0.4444972496731728,-1.0358780906865592,0.5638885289941857,0.3443105241953232,1.4735688345894733,-0.3457757898901341,-1.1659678368694355,-0.5699703952725227,0.057395332724227394,1.3527122895736494,-0.8476683722875343,4.360203212405011,4.297466639605336,1.7605000127715376,-0.9777581184704104,-0.4398806490896465,-0.7895484000713854,-0.6327069680721976,1.3527122895736494,-0.22491924487431011,-0.4398806490896465,-0.7268118272717103,0.026027046324389888,-0.47586553607301013,-0.5026172218893216,-0.3457757898901341,-0.6327069680721976,-0.6013386816723602,0.46979965650564104,-0.03670952647528509,-1.0404946912700852,4.292850039021809,-0.5072338224728478,1.2272391439742996,-1.1032312640697604,0.9403079657922359,0.057395332724227394,-0.8836532592708978,-0.7221952266881843,-0.9777581184704104,-1.2287044096691107,-1.1032312640697604,-0.19355095847447265,-0.5339855082891591,0.339709910322765,1.7291317263716997,0.658009374904666,-0.19355095847447265,4.171993494005986,-1.2868243818852594,0.8775713929925609,-1.1032312640697604,-0.005341240075447611,-0.13081438567479756,-0.31902410407382276,0.06201193330775356,0.8416024927201652,-0.4712489354894841,0.057395332724227394,-1.1345995504695983,-0.9150215456707353,-0.9777581184704104,-0.8790366586873717,-0.19355095847447265,-0.941773231487047,-0.28765581767398507,-1.2600726960689481,-1.9188067104655362,-0.22491924487431011,-1.0718629776699231,0.6626099887772243,1.065781111391586,0.18748507890710364,-0.5653537946889968,-0.3457757898901341,-0.09482949869143403,0.1561167925072661,-1.6678604192668356,-0.22491924487431011,-0.28765581767398507,2.3878657407682873,-0.7221952266881843,1.128517684191261,-0.21570203041822608,-0.8836532592708978,2.1682877359694244,2.199656022369262,-0.31902410407382276,-1.443665813884447,-0.4712489354894841,-0.4398806490896465,-0.12619778509127147,-0.7895484000713854,-0.22491924487431011,-0.38176067687349763,-1.2600726960689481,-1.8560701376658606,-0.2562875312741476,0.1515001919237399,-0.22491924487431011,-1.197336123269273,-0.38176067687349763,-0.47586553607301013,0.7834825205040162,-0.06346121229159651,-0.6327069680721976,-0.941773231487047,0.18748507890710364,1.5990419801888234,0.7207299609933734,-0.9777581184704104,-0.4712489354894841,-1.6318755322834722,-0.9150215456707353,-0.7535635130880218,-0.31440750349029656,-0.21570203041822608,1.7605000127715376,-0.9150215456707353,2.35649745436845,-0.25168691740158955,4.140625207606149,-0.41312896327333526,-1.1613512362859093,0.40706308370596594,0.12013190552390239,0.1515001919237399,-0.19355095847447265,1.4422005481896358,0.8508197071762493,-0.7581801136715478,2.1682877359694244,1.6036585807723496,-0.40851236268980917,-0.9463898320705728,-0.4712489354894841,-0.7268118272717103,4.324218325421646,-0.9777581184704104,-0.9150215456707353,1.8186199849876858,0.52791962872179,-0.157566071491109,-0.28303921709045904,1.003060525302879,1.003060525302879,0.3710781967226025,1.5095537215728372,0.1247325193964605,-0.6013386816723602,-0.3503923904736601,-0.5026172218893216,0.6266410885048285,1.4154488623733246,0.7834665337930482,-1.0091264048702475,2.136919449569587,-0.19355095847447265,-1.0045098042867218,-0.7581801136715478,-0.941773231487047,0.3443105241953232,0.693978275177062,0.8729707791200028,-0.941773231487047,-1.197336123269273,-0.6954435408718729,0.37569479730612854,0.7521142341041788,-0.2516709306906216,0.31295822450645366,-1.1032312640697604,-0.5699703952725227,1.1912542569909361,-0.4712489354894841,1.007661139175437,0.9089396793923982,-0.8836532592708978,-0.28765581767398507,-0.06346121229159651,-0.7221952266881843,-0.8163000858876969,-0.4398806490896465,-0.3771440762899716,-0.5339855082891591,0.12013190552390239,-0.3771440762899716,-0.5026172218893216,-0.03209292589175899,0.37569479730612854,-0.4712489354894841,-0.5026172218893216,0.5952568153940234,1.2539908297906108,4.857479194218885,-0.9777581184704104,0.06201193330775356,4.517044644404199,4.454308071604523,1.4154488623733246,1.9173414447707242,0.6266410885048285,-1.1613512362859093,4.888847480618723,1.258607430374137,-0.9731415178868842,-0.6908269402883467,-0.6954435408718729,-0.31902410407382276,-0.7268118272717103,-0.28765581767398507,-0.5026172218893216,0.12013190552390239,2.576075459167312,-0.5699703952725227,-0.12619778509127147,-0.40851236268980917,1.3167274025902862,-0.157566071491109,-0.5386021088726853,-0.7268118272717103,-0.40851236268980917,-0.6013386816723602,1.070397711975112,-0.8522849728710603,-0.6594586538885092,-1.0404946912700852,-1.0091264048702475,0.2815899381066161,-1.1032312640697604,0.1561167925072661,0.2502216517067786,-1.0718629776699231,-0.19355095847447265,-0.8209166864712228,-0.18893435789094654,1.1598859705910984,4.046520348406637,1.1912542569909361,-0.3457757898901341,0.1515001919237399,-0.2516709306906216,1.5095537215728372,1.6663951535720252,0.693978275177062,-0.5339855082891591,-0.9463898320705728,-0.3771440762899716,-0.7581801136715478,-0.4712489354894841,-0.8476683722875343,-0.6640752544720353,-0.8209166864712228,-1.2287044096691107,1.7291317263716997,0.9403079657922359,-1.1345995504695983,0.8194514207764121,4.924832367602087,1.384080575973487,-1.197336123269273,-0.13081438567479756,1.944093130587036,-0.2516709306906216,1.3527122895736494,-0.6594586538885092,-0.4712489354894841,0.9449245663757618,-0.40851236268980917,0.7207459477043411,-0.7581801136715478,0.21885336530694105,0.2502216517067786,0.21885336530694105,-0.41312896327333526,-0.8209166864712228,0.1561167925072661,0.21423676472341494,-0.7895484000713854,-0.4712489354894841,-1.0045098042867218,1.9800780175703996,-0.8836532592708978,1.9754614169868734,0.9716762521920737,-0.28303921709045904,0.7834665337930482,-0.4444972496731728,-0.8790366586873717,-0.9104049450872091,-0.5026172218893216,-0.157566071491109,1.5409220079726746,1.003044538591911,-0.8209166864712228,-0.19355095847447265,-0.5386021088726853,0.1561167925072661,-1.0718629776699231,-0.03209292589175899,-0.3457757898901341,-0.9150215456707353,0.7474976335206528,0.5639045157051537,-0.6908269402883467,-1.7619652784663482,1.3480956889901239,0.2861905519791741,4.54379633022051,-0.5339855082891591,-0.12619778509127147,-0.9104049450872091,-1.6678604192668356,-1.2287044096691107,-0.6594586538885092,0.12474850610742858,-1.1659678368694355,-1.0672463770863967,-0.5653537946889968,-0.157566071491109,-0.9731415178868842,-1.5423872736674855,-0.157566071491109,1.4422005481896358,1.258607430374137,-1.7933335648661854,-0.7221952266881843,1.6663951535720252,1.2899757167739745,1.065781111391586,-1.2287044096691107,-1.380929241084772,-1.3855458416682982,-0.8836532592708978,0.3443265109062912,-0.6908269402883467,-0.2562875312741476,-0.5026172218893216,1.0390294255752743,-0.19355095847447265,2.038197989786548,4.4810597574208355,0.09338021970759111,1.4422005481896358,-1.0045098042867218,-0.7849317994878591,-0.9104049450872091,0.18286847832357742,-0.5699703952725227,4.454308071604523,1.7245151257881735,0.339709910322765,-0.47586553607301013,-0.9777581184704104,-0.7535635130880218,-0.40851236268980917,4.857479194218885,-0.6327069680721976,1.3480956889901239,-0.3457757898901341,3.9164306022237603,-0.5967220810888341,-0.18433374401838856,0.40706308370596594,-1.197336123269273,0.218837378595973,-0.41312896327333526,-0.5339855082891591,-0.03670952647528509,-0.6954435408718729,1.2226225433907736,-1.699228705666673,-0.7221952266881843,0.2815899381066161,2.0695662761863862,0.1561167925072661,-0.6327069680721976,-0.47586553607301013,1.7605000127715376,-0.2562875312741476,-0.3771440762899716,-0.22030264429078403,0.7161293471208151,-0.8476683722875343,-0.157566071491109,-0.5072338224728478,-0.941773231487047,0.7253465615768995,1.885973158370887,2.325129167968613,1.0344128249917486,4.830727508402573,1.2899757167739745,1.446817148773162,1.384080575973487,-0.38176067687349763,-1.5423872736674855,-1.7933335648661854,-1.0404946912700852,1.5990419801888234,0.5057685567780368,1.8499882713875229,1.948709731170562,-0.9150215456707353,0.43381476952227743,0.2815899381066161,1.5722902943725117,-0.7581801136715478,1.8546048719710497,0.24560505112325245,-0.9731415178868842,1.4154488623733246,1.4781854351729997,4.3288349260051735,0.6266251017938608,-0.8522849728710603,-0.22030264429078403,0.21423676472341494,-0.6640752544720353,0.030643646907916045,-1.0091264048702475,-1.6678604192668356,4.767990935602899,1.7558834121880107,3.665484311025059,1.446817148773162,1.446817148773162,-0.09944609927496006,1.5409220079726746,0.15610080579629795,-0.40851236268980917,-1.5423872736674855,-0.4712489354894841,0.2815899381066161,-0.31440750349029656,0.5906562015214651,0.40706308370596594,0.026027046324389888,-0.4444972496731728,-1.197336123269273,-0.4444972496731728,-0.3771440762899716,-0.9731415178868842,-1.2600726960689481,1.2853591161904483,-0.7268118272717103,-0.18893435789094654,-0.9104049450872091,-1.0718629776699231,-1.1345995504695983,4.700637762219698,-0.5967220810888341,4.893464081202248,-0.7221952266881843,1.885973158370887,0.2815899381066161,5.0816737996012735,-1.0358780906865592,-0.941773231487047,0.030643646907916045,-1.0672463770863967,-0.18893435789094654,-0.1621826720746351,1.5095537215728372,1.9173414447707242,1.0390294255752743,1.003044538591911,-0.09482949869143403,0.5325202425943483,2.35649745436845,3.75960515693554,-0.06346121229159651,-0.4444972496731728,4.230113466222134,1.3213440031738122,0.40704709699499814,1.133134284774787,4.794742621419211,1.070397711975112,1.2272391439742996,1.4422005481896358,1.133134284774787,4.422939785204686,3.6073643388089107,-0.4398806490896465,-0.7221952266881843,-0.28303921709045904,0.18748507890710364,0.08876361912406493,0.3710781967226025,-0.4444972496731728,-0.12619778509127147,0.12474850610742858,0.12474850610742858,-0.8209166864712228,-0.7581801136715478,-1.7933335648661854,-1.1032312640697604,-0.9150215456707353,0.030643646907916045,-1.0045098042867218,-1.0091264048702475,-0.4398806490896465,0.06201193330775356,1.3480956889901239,3.8583106300076104,-0.9463898320705728,1.4108322617897986,0.31294223779548563,1.5409220079726746,-0.8790366586873717,0.6579933881936983,-0.12619778509127147,0.8194514207764121,0.9762928527755995,-0.8209166864712228,0.8508197071762493,4.3288349260051735,-1.197336123269273,1.2899757167739745,-0.6594586538885092,-0.12619778509127147,5.144410372400948,2.038197989786548,-1.1345995504695983,-0.941773231487047,-0.7581801136715478,-0.3457757898901341,-0.5699703952725227,-1.3855458416682982,-0.7268118272717103,-0.6280903674886716,0.2502216517067786,0.057395332724227394,-0.6640752544720353,-0.9104049450872091,-0.09482949869143403,0.5685051295777118,0.756714847976737,4.987568940401761,-0.5386021088726853,0.37569479730612854,-0.28765581767398507,-0.8209166864712228,-0.5026172218893216,-0.09482949869143403,-0.38176067687349763,-0.4712489354894841,-0.22030264429078403,-0.13081438567479756,-0.3771440762899716,-0.8790366586873717,-0.40851236268980917,0.8462031065927235,1.7918682991713748,0.40704709699499814,0.6266410885048285,-1.322809268868623,-0.6640752544720353,-0.3771440762899716,-0.5339855082891591,-1.0091264048702475,0.8775713929925609,-0.38176067687349763,-1.0091264048702475,-0.5699703952725227,-1.0718629776699231,-0.3457757898901341,1.6036585807723496,-0.3457757898901341,0.9449245663757618,1.3213440031738122,-0.6908269402883467,-0.06807781287512252,-0.22030264429078403,-0.47586553607301013,-1.0718629776699231,0.40704709699499814,0.9403079657922359,5.2698835180003,-1.3495609546849343,-0.6327069680721976,0.27697333752308995,-0.7535635130880218,-0.4712489354894841,-0.06346121229159651,0.6893776613045036,0.24560505112325245,-0.2562875312741476,-0.6594586538885092,1.3527122895736494,0.5685051295777118,0.6579933881936983,1.504937120989311,-0.22030264429078403,-0.4398806490896465,1.6617785529884985,-0.9777581184704104,-0.22491924487431011,1.195870857574462,-0.9777581184704104,-0.5339855082891591,1.9173414447707242,1.5676736937889861,0.1561167925072661,1.8546048719710497,1.2899757167739745,-0.3771440762899716,-0.5653537946889968,5.332620090799975,-0.8476683722875343,-0.5967220810888341,-0.6013386816723602,-0.4444972496731728,-0.6908269402883467,-0.47586553607301013,-1.0404946912700852,-0.7895484000713854,-0.31440750349029656,1.5095537215728372,-0.03209292589175899,0.12474850610742858,-0.6640752544720353,-0.5072338224728478,-0.157566071491109,-1.0672463770863967,-0.7849317994878591,-0.7895484000713854,-0.12619778509127147,1.7918682991713748,1.4154488623733246,1.6036585807723496,1.3480956889901239,-0.5699703952725227,1.823236585571212,1.8499882713875229,0.5325362293053161,1.6617785529884985,-0.15758205820207702,-1.0358780906865592,-0.9150215456707353,-0.9731415178868842,-0.6280903674886716,0.030643646907916045,-0.4712489354894841,-1.2600726960689481,-0.5699703952725227,-0.19355095847447265,1.8186199849876858,-0.5026172218893216,-0.9150215456707353,1.4781854351729997,4.893464081202248,-0.38176067687349763,-1.6318755322834722,1.6304102665886608,0.9089396793923982,0.4965513423219526,1.128517684191261,0.46978366979467306,4.830727508402573,1.4422005481896358,1.1285336709022291,-0.7268118272717103,1.6931468393883362,-0.157566071491109,0.46979965650564104,-1.0672463770863967,-1.129982949886072,-0.6327069680721976,-0.8163000858876969,-1.0091264048702475,-0.3457757898901341,-0.6954435408718729,-0.6594586538885092,-0.5026172218893216,-0.9731415178868842,-1.0718629776699231,0.7521142341041788,1.5095537215728372,-0.9777581184704104,-0.03670952647528509,4.606532903020186,1.4108322617897986,-0.7221952266881843,0.18748507890710364,0.3710781967226025,-0.3771440762899716,-0.6594586538885092,-0.7581801136715478,-0.6954435408718729,-0.4398806490896465,-1.2600726960689481,1.3480956889901239,-0.31902410407382276,-0.7268118272717103,-0.8836532592708978,1.2853591161904483,0.15610080579629795,1.7918682991713748,4.230113466222134,-1.0718629776699231,-0.6327069680721976,-0.6640752544720353,0.465183055922115,4.54379633022051,0.7880831343765745,0.6893776613045036,0.18748507890710364,-0.19355095847447265,-0.941773231487047,-0.5967220810888341,0.9089396793923982,-0.8209166864712228,-0.4398806490896465,-0.1621826720746351,-0.2516709306906216,0.2815899381066161,-0.4398806490896465,-0.6013386816723602,-0.6327069680721976,-0.41312896327333526,-0.5072338224728478,-0.12619778509127147,0.46979965650564104,1.2899757167739745,-0.09482949869143403,4.799359222002737,3.885062315823922,2.2264077081855738,1.5722902943725117,1.2853591161904483,2.450602313567962,0.18748507890710364,0.1561167925072661,4.422939785204686,2.2937608815687747,4.579781217203874,0.52791962872179,1.6977634399718624,2.325129167968613,1.6617785529884985,4.324218325421646,-0.2516709306906216,-0.005341240075447611,-0.157566071491109,-0.5699703952725227,4.512428043820672,-1.2914409824687856,1.0971493977914233,0.3756788105951606,-0.9731415178868842,-1.1345995504695983,-0.38176067687349763,0.18748507890710364,4.705254362803224,-1.0091264048702475,1.5095537215728372,2.1682877359694244,-0.6280903674886716,1.2539908297906108,-1.0404946912700852,-0.9150215456707353,0.21423676472341494,-0.7895484000713854,-0.9463898320705728,-0.4398806490896465,-0.6640752544720353,4.700637762219698,-0.8209166864712228,0.1561167925072661,-1.4169141280681359,-1.7933335648661854,1.6977634399718624,-0.7895484000713854,1.8186199849876858,-0.0007246394919214715,1.007661139175437,4.292850039021809,1.2899757167739745,0.8775713929925609,2.038197989786548,0.28157395139564806,-0.41312896327333526,1.195870857574462,1.258607430374137,-1.0718629776699231,-0.28303921709045904,-0.7221952266881843,-0.5967220810888341,-0.4444972496731728,0.06201193330775356,-0.3771440762899716,-0.13081438567479756,-1.1032312640697604,0.6266410885048285,-1.0358780906865592,-1.0404946912700852,-1.1032312640697604,-0.7221952266881843,-0.7849317994878591,0.752098247393211,-0.2562875312741476,-0.8836532592708978,-1.2914409824687856,-0.9463898320705728,1.128517684191261,-0.5699703952725227,0.5638885289941857,-0.5072338224728478,-1.0718629776699231,-0.941773231487047,-1.0091264048702475,-1.6005072458836347,-0.4398806490896465,-0.8163000858876969,1.4781854351729997,1.635026867172187,0.21885336530694105,-0.5339855082891591,-0.6594586538885092,-0.40851236268980917,1.885973158370887,4.418323184621158,-0.9150215456707353,0.5952568153940234,5.144410372400948,4.136008607022623,1.9800780175703996,1.3213440031738122,1.7605000127715376,1.9173414447707242,5.175778658800786,0.756714847976737,1.9800780175703996,2.320512567385086,2.60744374556715,4.987568940401761,0.693978275177062,4.888847480618723,0.12474850610742858,-0.47586553607301013,-0.157566071491109,-0.4712489354894841,0.2502216517067786,0.30834162392292747,-0.13081438567479756,-1.129982949886072,0.09338021970759111,-0.40851236268980917,-0.7849317994878591,-0.12619778509127147,-0.7581801136715478,-0.5386021088726853,-0.7895484000713854,-0.157566071491109,0.465183055922115,-0.5026172218893216,0.37569479730612854,-0.5026172218893216,0.026027046324389888,0.030643646907916045,-0.5967220810888341,0.27697333752308995,-1.1345995504695983,-0.7535635130880218,-0.7221952266881843,0.31295822450645366,-0.3457757898901341,4.266098353205498,-1.1032312640697604,1.384080575973487,1.2539908297906108,-0.7849317994878591,0.6893616745935358,-0.2516709306906216,0.9716762521920737,-0.40851236268980917,0.7207299609933734,3.6968525974248965,1.2226225433907736,-1.1032312640697604,1.7291317263716997,-0.157566071491109,0.339709910322765,0.9762928527755995,0.09338021970759111,-1.2600726960689481,-0.6327069680721976,-1.1032312640697604,-0.6640752544720353,0.24560505112325245,0.026027046324389888,-0.9104049450872091,-0.4398806490896465,0.12013190552390239,-0.7895484000713854,-0.7268118272717103,-0.28765581767398507,-0.6954435408718729,-0.8209166864712228,-0.9731415178868842,-0.0007246394919214715,-0.9104049450872091,-0.7581801136715478,-0.18893435789094654,1.061180497519028,-0.41312896327333526,0.3443265109062912,-0.6640752544720353,-0.6013386816723602,0.24560505112325245,-0.8790366586873717,-1.5737555600673232,0.4384313701058034,-0.5339855082891591,-0.22030264429078403,-0.41312896327333526,-0.9463898320705728,1.8546048719710497,-0.5386021088726853,1.2226225433907736,0.18748507890710364,-0.09482949869143403,1.1645025711746244,-0.5386021088726853,4.92021576701856,-0.12619778509127147,0.4384313701058034,-0.9777581184704104,0.40244648312244,0.12474850610742858,-0.31440750349029656,-0.3457757898901341,-0.5653537946889968,-1.2287044096691107,-0.5386021088726853,-0.5072338224728478,-0.3457757898901341,-1.2600726960689481,-0.6280903674886716,0.3756788105951606,-1.1032312640697604,0.43841538339483566,4.830727508402573,4.767990935602899,1.5990419801888234,-1.3855458416682982,-0.7581801136715478,-0.06807781287512252,1.133134284774787,1.007661139175437,4.732006048619535,-0.2516709306906216,-0.1621826720746351,-0.8836532592708978,-0.4712489354894841,-0.41312896327333526,-0.41312896327333526,-0.19355095847447265,-1.2914409824687856,0.5592879151216278,-0.03209292589175899,-0.7535635130880218,-0.3771440762899716,-0.3503923904736601,-0.6327069680721976,-1.380929241084772,-0.3457757898901341,-0.38176067687349763,0.31295822450645366,-0.13081438567479756,-0.9104049450872091,5.0816737996012735,-0.4444972496731728,-0.4444972496731728,0.7834665337930482,1.003044538591911,1.133134284774787,-1.322809268868623,-0.9731415178868842,-1.0358780906865592,-0.8476683722875343,1.1645025711746244,-0.5653537946889968,-0.1621826720746351,-0.4712489354894841,0.18286847832357742,-0.3771440762899716,1.5722902943725117,-0.7268118272717103,-0.5026172218893216,-0.7535635130880218,5.238515231600462,4.799359222002737,0.5998734159775491,-1.0404946912700852,1.885973158370887,1.6663951535720252,-0.03209292589175899,4.046520348406637,4.517044644404199,4.230113466222134,2.136919449569587,0.030627660196947945,-0.6954435408718729,1.635026867172187,1.4108322617897986,1.7558834121880107,1.6977634399718624,0.9716762521920737,1.2226225433907736,2.163671135385899,4.9562006540019246,4.92021576701856,0.9716762521920737,3.6968525974248965,1.8499882713875229,4.485676358004361,-0.5699703952725227,-1.1032312640697604,-0.5653537946889968,0.9716762521920737,0.21885336530694105,-1.1032312640697604,-0.5072338224728478,-0.7895484000713854,-0.5339855082891591,0.026027046324389888,-0.9104049450872091,-0.28303921709045904,0.46979965650564104,-0.5072338224728478,-0.09482949869143403,-0.9463898320705728,-1.0091264048702475,-0.28303921709045904,-0.8163000858876969,-0.5386021088726853,-0.47586553607301013,-0.157566071491109,-0.6013386816723602,-0.2562875312741476,0.9762928527755995,-0.7221952266881843,5.144410372400948,4.736622649203061,4.136008607022623,-1.0404946912700852,0.9716922389030412,0.9135562799759244,1.885973158370887,0.9403079657922359,1.128517684191261,1.2272391439742996,1.3794639753899611,1.3480956889901239,1.003044538591911,-0.941773231487047,4.54379633022051,-0.7268118272717103,-0.9731415178868842,4.454308071604523,1.7291317263716997,-0.8522849728710603,-0.7849317994878591,-0.1621826720746351,-0.7581801136715478,-0.19355095847447265,-0.6908269402883467,0.31295822450645366,-0.5653537946889968,-0.7268118272717103,-0.157566071491109,-0.6013386816723602,-0.7895484000713854,-0.7895484000713854,0.1561167925072661,4.8620957948024115,-0.13081438567479756,0.5011519561945107,-1.0091264048702475,4.888847480618723,1.258607430374137,1.007661139175437,-0.40851236268980917,1.1598859705910984,4.642517790003549,1.6617785529884985,1.5990419801888234,1.885973158370887,1.4154488623733246,4.449691471020998,2.199656022369262,4.705254362803224,-0.7895484000713854,0.057395332724227394,-1.569138959483797,0.9089396793923982,4.575164616620349,-0.6327069680721976,-0.12619778509127147,-0.6594586538885092,0.026027046324389888,0.5906562015214651,-0.3457757898901341,-0.40851236268980917,-0.2516709306906216,-1.0045098042867218,-0.4712489354894841,-0.8476683722875343,-0.12619778509127147,-0.5386021088726853,-0.38176067687349763,-0.6013386816723602,-0.41312896327333526,-0.8163000858876969,-0.13081438567479756,0.2502216517067786,-0.5386021088726853,-1.0404946912700852,-1.0091264048702475,1.1912542569909361,1.1645025711746244,-0.9150215456707353,2.320512567385086,1.384080575973487,0.9449245663757618,0.8462190933036914,0.21885336530694105,1.6617785529884985,1.070397711975112,-0.7221952266881843,4.485676358004361,0.43841538339483566,1.3213440031738122,-0.5653537946889968,-0.38176067687349763,1.6304102665886608,4.767990935602899,1.4108322617897986,-0.6954435408718729,0.09338021970759111,-0.6013386816723602,0.18286847832357742,0.5325362293053161,-0.5653537946889968,-0.09482949869143403,-0.5339855082891591,-1.2914409824687856,0.7161293471208151,-0.5699703952725227,-0.6327069680721976,-0.03209292589175899,-0.09944609927496006,-0.6280903674886716,0.12013190552390239,-0.6280903674886716,-1.0986146634862346,-0.28765581767398507,-0.5967220810888341,0.2815899381066161,-0.5967220810888341,-0.6327069680721976,0.9089396793923982,1.6977634399718624,-0.3771440762899716,-0.6327069680721976,-1.322809268868623,-1.0718629776699231,1.133134284774787,-0.5339855082891591,-0.7221952266881843,1.9800780175703996,-0.5386021088726853,4.203361780405824,0.7834665337930482,-0.3457757898901341,1.1645025711746244,0.030643646907916045,-0.6640752544720353,-0.8209166864712228,1.885973158370887,-0.38176067687349763,1.446817148773162,4.418323184621158,4.763374335019373,4.136008607022623,-1.0091264048702475,5.113042086001111,1.0344288117027167,3.5086428790258712,1.5409220079726746,1.6617785529884985,1.5363054073891484,2.136919449569587,-0.31902410407382276,1.5722902943725117,-0.8522849728710603,-0.5653537946889968,-0.38176067687349763,-1.0404946912700852,-0.8476683722875343,-0.8209166864712228,0.18286847832357742,-0.4712489354894841,-0.9104049450872091,0.2502216517067786,-1.197336123269273,0.21423676472341494,-1.4169141280681359,-0.31902410407382276,-0.09944609927496006,0.21423676472341494,-0.41312896327333526,-0.8163000858876969,-0.31902410407382276,-1.511018987267648,1.2899757167739745,1.4735688345894733,1.5409220079726746,0.9403079657922359,0.9403079657922359,-0.5072338224728478,-0.2516709306906216,0.756714847976737,-0.157566071491109,-0.6013386816723602,-1.8874384240656987,-1.1032312640697604,-0.5386021088726853,-0.8163000858876969,-0.7268118272717103,0.3802954111786866,-1.0672463770863967,-1.3541775552684605,-0.09482949869143403,-0.3771440762899716,-0.38176067687349763,-1.511018987267648,-0.8522849728710603,-0.9463898320705728,1.4781854351729997,-0.5339855082891591,-0.4444972496731728,4.857479194218885,-0.3457757898901341,2.262392595168937,-0.157566071491109,-0.3771440762899716,0.18746909219613556,-0.6013386816723602,1.4108322617897986,1.7605000127715376,-0.005341240075447611,1.446817148773162,-0.28303921709045904,-0.7849317994878591,-0.8836532592708978,0.06201193330775356,-0.31902410407382276,-0.6013386816723602,-0.157566071491109,-1.8560701376658606,-0.5967220810888341,-0.7268118272717103,0.5325362293053161,-0.9731415178868842,0.12474850610742858,1.4735688345894733,0.24560505112325245,-0.28303921709045904,-0.6954435408718729,-0.40851236268980917,-0.1621826720746351,-0.8522849728710603,-1.0404946912700852,-1.8560701376658606,-0.28765581767398507,1.5676736937889861,2.199656022369262,-1.2600726960689481,0.465183055922115,4.266098353205498,4.171993494005986,1.1912542569909361,1.7291317263716997,0.40704709699499814,-0.9463898320705728,0.06201193330775356,0.06201193330775356,1.7918682991713748,-0.8163000858876969,-0.5339855082891591,-0.2516709306906216,-0.4398806490896465,1.2226225433907736,-0.4444972496731728,-1.0091264048702475,-0.5967220810888341,4.987568940401761,-0.7581801136715478,-1.0404946912700852,-1.9188067104655362,-0.18893435789094654,-0.5967220810888341,-0.12619778509127147,-0.6954435408718729,-1.0718629776699231,-0.6954435408718729,0.658009374904666,-0.8522849728710603,4.987568940401761,1.2853591161904483,0.9135562799759244,4.799359222002737,-0.8476683722875343,1.9173414447707242,1.6931468393883362,1.3527122895736494,0.52791962872179,1.7291317263716997,2.195039421785736,4.642517790003549,-1.443665813884447,-0.2562875312741476,-0.8209166864712228,-0.2516709306906216,0.09338021970759111,-1.1345995504695983,-0.6954435408718729,-1.0718629776699231,-0.6280903674886716,-0.12619778509127147,-1.3541775552684605,-1.0404946912700852,-1.0091264048702475,-0.3771440762899716,-0.18893435789094654,0.026027046324389888,-1.0718629776699231,0.12474850610742858,-0.06807781287512252,-1.322809268868623,-0.28303921709045904,-0.4398806490896465,-0.7581801136715478,-0.5653537946889968,-1.1345995504695983,-0.2516709306906216,-0.09482949869143403,-1.2914409824687856,-1.0404946912700852,-0.47586553607301013,-0.6327069680721976,-0.28303921709045904,-0.8209166864712228,-0.9150215456707353,-0.8836532592708978,-0.9777581184704104,-0.8163000858876969,-0.8522849728710603,-0.9731415178868842,0.6266410885048285,-0.6013386816723602,3.670100911608585,-0.5699703952725227,-0.5386021088726853,-1.1032312640697604,0.3443265109062912,-1.0718629776699231,-1.2287044096691107,-1.6318755322834722,-0.6640752544720353,0.18286847832357742,-0.6013386816723602,-0.22030264429078403,-0.5653537946889968,-0.7849317994878591,-0.5653537946889968,-0.0007246394919214715,-0.6327069680721976,-0.9150215456707353,-0.6327069680721976,-1.5377706730839595,-0.5072338224728478,1.1017659983749495,-0.7895484000713854,-1.0045098042867218,-0.13081438567479756,-0.5386021088726853,-0.7895484000713854,-0.7895484000713854,1.504937120989311,0.1561167925072661,-0.6013386816723602,0.06201193330775356,-1.2287044096691107,-0.8209166864712228,-0.5072338224728478,-1.0358780906865592,-0.8476683722875343,-0.9463898320705728,-1.0986146634862346,0.1515001919237399,-1.1032312640697604,-0.3457757898901341,-0.06807781287512252,-0.3457757898901341,1.3527122895736494,0.5952568153940234,4.673886076403387,0.08876361912406493,-0.6013386816723602,-0.8163000858876969,0.8102342063203277,-1.3181926682850968,-0.9150215456707353,-0.9777581184704104,1.4422005481896358,-0.7895484000713854,-0.7895484000713854,-0.9777581184704104,0.5952568153940234,-0.4712489354894841,-0.31440750349029656,0.3756788105951606,-0.22030264429078403,0.21885336530694105,-0.06807781287512252,-0.1621826720746351,-0.4444972496731728,-0.8522849728710603,-0.3503923904736601,1.4735688345894733,0.06201193330775356,0.6579933881936983,0.18286847832357742,-1.0091264048702475,1.1017659983749495,-0.18893435789094654,1.4735688345894733,1.1598859705910984,-0.38176067687349763,4.203361780405824,1.7918682991713748,4.077888634806474,3.6387326252087484,-0.157566071491109,1.6977634399718624,4.700637762219698,-0.5072338224728478,2.1682877359694244,-1.0718629776699231,0.1561167925072661,-0.4712489354894841,0.6579933881936983,-0.3771440762899716,0.18748507890710364,-0.38176067687349763,-0.7849317994878591,-0.6280903674886716,-0.6640752544720353,1.0344128249917486,1.7605000127715376,0.46979965650564104,0.40706308370596594,1.3213440031738122,1.8813565577873614,4.046520348406637,4.606532903020186,-0.7268118272717103,2.4107688417425277,0.631241702377387,-1.4169141280681359,1.133134284774787,4.987568940401761,1.133134284774787,-0.7581801136715478,0.40244648312244,4.673886076403387,1.384080575973487,1.3213440031738122,-1.1032312640697604,4.92021576701856,1.4735688345894733,2.0428145903700745,4.077888634806474,1.944093130587036,-0.5339855082891591,-1.0718629776699231,-0.6280903674886716,0.06201193330775356,0.08876361912406493,-0.06346121229159651,-0.28765581767398507,-1.322809268868623,-0.22030264429078403,-0.8836532592708978,-1.2914409824687856,-0.03209292589175899,-0.2516709306906216,-0.4444972496731728,-0.8209166864712228,-1.8874384240656987,0.9089556661033662,-1.1032312640697604,-0.6327069680721976,-0.40851236268980917,-0.1621826720746351,-0.0007246394919214715,0.030643646907916045,-0.1621826720746351,0.43381476952227743,0.31295822450645366,-0.12619778509127147,-0.157566071491109,-1.511018987267648,-0.4444972496731728,1.885973158370887,-0.8209166864712228,4.198745179822297,1.0971493977914233,-1.1345995504695983,-0.6954435408718729,1.007661139175437,0.9135562799759244,0.5057685567780368,2.3878657407682873,4.077888634806474,0.9089396793923982,-1.0404946912700852,4.799359222002737,0.9449245663757618,0.9089396793923982,0.2502056649958105,-0.31440750349029656,1.003044538591911,0.7253465615768995,-0.6280903674886716,2.0428145903700745,1.4735688345894733,1.4735688345894733,2.1055511631697494,1.8186199849876858,-0.40851236268980917,-0.9150215456707353,-0.6640752544720353,-0.2516709306906216,-0.8836532592708978,-1.0672463770863967,-0.7581801136715478,-0.6908269402883467,-0.38176067687349763,-0.8209166864712228,-0.2562875312741476,-1.0718629776699231,-0.3457757898901341,-0.47586553607301013,0.5325362293053161,-0.8476683722875343,-1.255456095485422,0.9403079657922359,-0.3503923904736601,0.06201193330775356,1.4108322617897986,-0.31440750349029656,4.642517790003549,1.4422005481896358,2.0428145903700745,0.218837378595973,1.635026867172187,4.700637762219698,1.948709731170562,1.6931468393883362,5.018937226801599,-0.9150215456707353,4.642517790003549,-0.5339855082891591,-0.9150215456707353,-0.41312896327333526,-1.197336123269273,0.9716762521920737,-0.9463898320705728,-0.6594586538885092,-1.5064023866841219,-1.0358780906865592,3.885062315823922,0.5952568153940234,0.4116636975785241,1.0390294255752743,-0.9777581184704104,-0.4398806490896465,0.9089556661033662,-0.7268118272717103,-0.7268118272717103,-0.18893435789094654,-0.4712489354894841,-1.322809268868623,-0.8790366586873717,-0.6594586538885092,1.384080575973487,-0.6640752544720353,-0.40851236268980917,-0.2516709306906216,-1.0358780906865592,-0.8522849728710603,-1.197336123269273,-0.8163000858876969,-0.2516709306906216,5.045688912617909,0.9449245663757618,-0.8163000858876969,0.8508197071762493,0.9449245663757618,1.2272391439742996,-0.5072338224728478,-0.6594586538885092,-1.0358780906865592,-0.1621826720746351,0.5952728021049912,-0.38176067687349763,-0.7849317994878591,-0.6908269402883467,1.6977634399718624,1.7558834121880107,5.0816737996012735,-0.5026172218893216,2.2937608815687747,1.3480956889901239,1.5722902943725117,1.5676736937889861,1.7558834121880107,-1.197336123269273,4.077888634806474,0.8508197071762493,0.7207299609933734,2.35649745436845,0.752098247393211,1.133134284774787,0.3756788105951606,0.9449245663757618,2.2937608815687747,1.2272391439742996,4.736622649203061,1.2226225433907736,1.3480956889901239,0.12013190552390239,0.5685051295777118,-0.09944609927496006,1.195870857574462,-0.7849317994878591,1.128517684191261,4.104640320622785,0.030643646907916045,-1.2600726960689481,-0.7581801136715478,-1.0045098042867218,-0.7535635130880218,-0.2516709306906216,-0.9777581184704104,-1.1927195226857468,-0.8522849728710603,-0.19355095847447265,0.1561167925072661,-0.09944609927496006,0.09338021970759111,-0.6908269402883467,-0.7221952266881843,-0.9104049450872091,-1.0045098042867218,-0.8522849728710603,-0.5072338224728478,-0.9104049450872091,-1.322809268868623,-1.6632438186833094,-0.8836532592708978,-1.443665813884447,-0.941773231487047,0.06201193330775356,-0.4398806490896465,-0.3457757898901341,-0.38176067687349763,0.12474850610742858,-1.0091264048702475,-0.5072338224728478,0.08876361912406493,-0.6013386816723602,-0.03670952647528509,-0.5339855082891591,-0.40851236268980917,-0.6954435408718729,-0.09944609927496006,-1.322809268868623,-1.1032312640697604,-0.4712489354894841,-0.5699703952725227,-0.7849317994878591,-0.7268118272717103,-0.7581801136715478,-0.6280903674886716,-0.7535635130880218,-0.6640752544720353,-0.13081438567479756,-1.2600726960689481,-0.31902410407382276,-1.1345995504695983,0.3443265109062912,-1.0091264048702475,-0.5339855082891591,-0.03670952647528509,-0.7895484000713854,-0.8790366586873717,-0.5072338224728478,0.08876361912406493,-0.8836532592708978,-0.7268118272717103,-0.28303921709045904,-0.0007246394919214715,-1.443665813884447,-0.8836532592708978,-0.7535635130880218,-0.18893435789094654,-0.22030264429078403,-0.3771440762899716,-0.6013386816723602,-0.6954435408718729,-0.5026172218893216,-1.0404946912700852,-1.9188067104655362,-0.7581801136715478,-1.1032312640697604,-0.12619778509127147,0.52791962872179,-0.6594586538885092,-1.0718629776699231,-0.19355095847447265,-1.511018987267648,0.27697333752308995,-0.9150215456707353,-0.6640752544720353,-0.9150215456707353,-0.941773231487047,-0.5699703952725227,-0.47586553607301013,-0.40851236268980917,-0.4712489354894841,-0.1621826720746351,-0.4444972496731728,-0.6954435408718729,-0.7895484000713854,-0.38176067687349763,-0.4444972496731728,-0.7581801136715478,-0.31902410407382276,0.08876361912406493,-1.1032312640697604,-0.4712489354894841,-0.9150215456707353,-0.8209166864712228,-0.2516709306906216,-0.1621826720746351,-0.41312896327333526,-0.8209166864712228,-0.2562875312741476,-0.2562875312741476,-1.1032312640697604,-0.31440750349029656,-0.5699703952725227,-0.7895484000713854,-1.0404946912700852,0.18286847832357742,-1.0091264048702475,-1.9501749968653732,-0.7268118272717103,-0.7895484000713854,-0.8522849728710603,-0.7268118272717103,-0.8522849728710603,-0.8163000858876969,-0.6954435408718729,-0.06807781287512252,0.12013190552390239,-0.9463898320705728,-0.47586553607301013,-0.7581801136715478,-0.5653537946889968,-0.7895484000713854,-0.5339855082891591,-0.5072338224728478,-0.28765581767398507,-1.0404946912700852,-0.7849317994878591,-0.5967220810888341,0.8462190933036914,-0.03670952647528509,-0.3457757898901341,-1.6318755322834722,-0.157566071491109,-0.941773231487047,-0.0007246394919214715,-1.1345995504695983,-1.2287044096691107,2.7558040054297717,-1.0718629776699231,-0.9463898320705728,0.52791962872179,-0.3503923904736601,-0.7268118272717103,-0.38176067687349763,-0.5339855082891591,-0.5653537946889968,-0.4712489354894841,-1.0672463770863967,-0.7221952266881843,-0.5072338224728478,-0.7895484000713854,-1.197336123269273,0.057395332724227394,0.06201193330775356,-1.2287044096691107,-0.6954435408718729,-0.38176067687349763,-0.18893435789094654,-0.9463898320705728,-1.0404946912700852,-0.7895484000713854,-0.9777581184704104,0.057395332724227394,-0.28765581767398507,-1.8247018512660238,0.40706308370596594,-0.9777581184704104,-0.03209292589175899,-0.7581801136715478,0.3710781967226025,-1.8247018512660238,-1.9188067104655362,-0.9777581184704104,-0.5386021088726853,-0.6013386816723602,-1.0358780906865592,-0.47586553607301013,-0.6327069680721976,-0.6954435408718729,-0.8790366586873717,0.6266410885048285,-0.5072338224728478,-1.0045098042867218,-0.7221952266881843,-1.322809268868623,-0.4444972496731728,-0.5026172218893216,0.030643646907916045,-1.0718629776699231,-1.197336123269273,0.18286847832357742,0.2815899381066161,-0.03209292589175899,0.08876361912406493,-0.12619778509127147,-0.7268118272717103,-0.9463898320705728,-0.8476683722875343,-0.5339855082891591,-0.6013386816723602,-1.1032312640697604,0.5952728021049912,-0.8209166864712228,-0.31902410407382276,-0.7581801136715478,0.2815899381066161,-0.7581801136715478,-0.7849317994878591,-0.4444972496731728,-1.1345995504695983,-0.40851236268980917,-0.5386021088726853,-0.4444972496731728,0.12474850610742858,-0.4712489354894841,-0.941773231487047,-0.2562875312741476,-0.5653537946889968,-0.40851236268980917,-0.22030264429078403,-0.6594586538885092,-0.03209292589175899,-0.6013386816723602,-0.6594586538885092,-1.322809268868623,-0.06346121229159651,-0.9777581184704104,-1.322809268868623,0.5592879151216278,-0.7849317994878591,-0.7895484000713854,-0.8163000858876969,-0.3503923904736601,-1.4482824144679733,1.8546048719710497,-1.0358780906865592,-0.8522849728710603,-1.2600726960689481,-0.9150215456707353,-0.12619778509127147,-0.3457757898901341,-0.7895484000713854,-0.31902410407382276,-0.1621826720746351,-1.1032312640697604,-0.6013386816723602,-0.6640752544720353,-0.8209166864712228,-0.9104049450872091,-0.22491924487431011,-0.03670952647528509,-1.2287044096691107,-0.6640752544720353,-0.5967220810888341,-0.6954435408718729,-0.8163000858876969,-0.41312896327333526,-0.7268118272717103,-0.31440750349029656,4.297466639605336,-0.7535635130880218,-0.7535635130880218,-1.197336123269273,-1.1659678368694355,-1.0718629776699231,-0.005341240075447611,-0.38176067687349763,-0.22030264429078403,-1.2287044096691107,-0.41312896327333526,-1.1659678368694355,-0.005341240075447611,-0.4712489354894841,-1.4796507008678108,-0.40851236268980917,-0.7221952266881843,-0.0007246394919214715,-1.3541775552684605,-0.9777581184704104,-0.7581801136715478,0.2502216517067786,-0.31440750349029656,-0.8209166864712228,0.658009374904666,-0.3503923904736601,-0.2516709306906216,-0.8209166864712228,-0.7581801136715478,0.4384313701058034,-0.8790366586873717,-0.40851236268980917,-0.8522849728710603,-1.197336123269273,-0.5026172218893216,-0.5967220810888341,-0.28765581767398507,-0.8836532592708978,-0.5339855082891591,-0.7535635130880218,-0.9104049450872091,-0.5699703952725227,-0.6594586538885092,-0.9777581184704104,-0.8836532592708978,0.030643646907916045,-0.9777581184704104,-0.28765581767398507,-0.6908269402883467,-0.8522849728710603,-0.8163000858876969,-0.5967220810888341,0.12013190552390239,-1.197336123269273,-0.3457757898901341,-1.197336123269273,-0.47586553607301013,0.18286847832357742,4.888847480618723,-1.0718629776699231,-1.0404946912700852,1.8499882713875229,-1.1659678368694355,-0.7221952266881843,-1.5377706730839595,-1.0091264048702475,-0.1621826720746351,-1.1613512362859093,0.658009374904666,-1.3855458416682982,-0.1621826720746351,-1.2287044096691107,-0.7221952266881843,-0.7268118272717103,-0.157566071491109,-0.6954435408718729,-0.5339855082891591,0.21423676472341494,-0.5699703952725227,-0.941773231487047,-0.6013386816723602,0.218837378595973,0.18286847832357742,-1.0718629776699231,-0.8476683722875343,-0.8836532592708978,-1.0672463770863967,-0.7581801136715478,-0.8522849728710603,-0.5699703952725227,1.8499882713875229,1.7245151257881735,-0.9731415178868842,-1.3855458416682982,-0.8163000858876969,-0.6013386816723602,-0.31440750349029656,-1.322809268868623,-1.1345995504695983,-1.1345995504695983,2.199656022369262,-0.4712489354894841,-1.322809268868623,-0.47586553607301013,-1.0358780906865592,-1.0718629776699231,-0.19355095847447265,-0.4712489354894841,-0.8209166864712228,-0.2516709306906216,1.5095537215728372,-0.5653537946889968,-1.1613512362859093,-0.5699703952725227,-0.4398806490896465,3.9791671750234356,-0.4398806490896465,-1.197336123269273,-0.5072338224728478,-0.8476683722875343,-0.3457757898901341,-0.6327069680721976,-1.1659678368694355,-1.2914409824687856,-0.9463898320705728,-0.8836532592708978,-1.3855458416682982,0.057395332724227394,-0.6327069680721976,-1.0091264048702475,-0.09944609927496006,0.31295822450645366,0.40706308370596594,-0.5386021088726853,-0.5653537946889968,-1.6632438186833094,0.5639045157051537,-1.197336123269273,-0.31440750349029656,0.37569479730612854,-0.6327069680721976,-0.8790366586873717,-0.9150215456707353,-0.06807781287512252,0.12474850610742858,-0.47586553607301013,-0.09482949869143403,0.52791962872179,2.1009345625862235,-1.1659678368694355,-0.5699703952725227,-1.0404946912700852,-0.4444972496731728,-0.6954435408718729,-0.8790366586873717,-1.0045098042867218,-0.5026172218893216,-0.6594586538885092,0.1561167925072661,-0.6908269402883467,-0.13081438567479756,-0.19355095847447265,-0.5699703952725227,-0.4712489354894841,0.1515001919237399,4.418323184621158,2.1682877359694244,2.074182876769912,0.026027046324389888,-0.28303921709045904,-0.6954435408718729,-0.4398806490896465,-0.9150215456707353,-0.40851236268980917,-0.7535635130880218,-0.6327069680721976,-0.3771440762899716,-0.8476683722875343,-0.2516709306906216,-1.3181926682850968,-0.5653537946889968,-0.7581801136715478,-0.6327069680721976,-0.6327069680721976,0.18748507890710364,-0.03209292589175899,-0.12619778509127147,0.18748507890710364,-0.5072338224728478,-1.0045098042867218,-0.18893435789094654,-1.6318755322834722,2.5447071727674753,-0.7268118272717103,4.893464081202248,1.9127248441871987,0.6579933881936983,1.8813565577873614,-0.6908269402883467,4.512428043820672,1.384080575973487,1.2899757167739745,-0.9104049450872091,2.383249140184761,1.1912542569909361,1.6663951535720252,1.9754614169868734,0.40704709699499814,1.3213440031738122,0.8462031065927235,-0.9463898320705728,-0.19355095847447265,1.8546048719710497,3.8269423436077736,0.9403079657922359,1.635026867172187,-0.9463898320705728,0.026027046324389888,0.08876361912406493,0.057395332724227394,-0.6013386816723602,0.37569479730612854,-0.941773231487047,-0.5967220810888341,-0.6594586538885092,0.5057685567780368,0.5011679429054786,-0.28303921709045904,-1.2287044096691107,0.12013190552390239,-1.6318755322834722,-0.9777581184704104,0.08876361912406493,4.485676358004361,-0.3771440762899716,1.384080575973487,1.195870857574462,1.2899757167739745,-1.1032312640697604,-0.8476683722875343,0.06201193330775356,0.8148348201928861,-1.1659678368694355,-0.8790366586873717,-0.6954435408718729,-0.5699703952725227,-0.5339855082891591,0.12013190552390239,-0.4444972496731728,-0.28303921709045904,-0.2562875312741476,-0.5072338224728478,4.826110907819047,3.790957456624409,0.057395332724227394,0.46978366979467306,-0.7581801136715478,-0.6908269402883467,-0.6908269402883467,-0.6954435408718729,-1.1032312640697604,-0.8476683722875343,-0.7581801136715478,-0.7535635130880218,1.7291317263716997,-0.4398806490896465,0.9403079657922359,1.007661139175437,0.882187993576087,-1.0091264048702475,-0.7221952266881843,-1.0718629776699231,1.7918682991713748,-0.6954435408718729,1.5363054073891484,-1.2914409824687856,-1.1032312640697604,-0.5653537946889968,-0.9731415178868842,0.37569479730612854,1.6977634399718624,1.7291317263716997,0.5011519561945107,1.6663951535720252,2.908044823556401,1.2539908297906108,1.4422005481896358,1.5095537215728372,1.8186199849876858,1.1645025711746244,1.065781111391586,1.7918682991713748,1.4781854351729997,-1.1345995504695983,1.1017659983749495,2.1055511631697494,4.4810597574208355,0.1515001919237399,1.8546048719710497,-0.7535635130880218,-0.6640752544720353,-0.7895484000713854,-0.6640752544720353,-0.9731415178868842,-0.157566071491109,-0.7895484000713854,-1.0404946912700852,-0.6954435408718729,-0.22030264429078403,-0.9104049450872091,0.31295822450645366,-0.6280903674886716,-0.6594586538885092,-1.1659678368694355,-0.5653537946889968,-0.9463898320705728,-0.5699703952725227,0.31295822450645366,-1.1345995504695983,-0.7221952266881843,1.4154488623733246,-0.8209166864712228,-0.5967220810888341,-0.13081438567479756,-0.41312896327333526,-0.6013386816723602,1.195870857574462,4.297466639605336,1.8546048719710497,-0.5967220810888341,1.948709731170562,-0.8836532592708978,1.2226225433907736,-1.1032312640697604,-0.9104049450872091,-0.0007246394919214715,-0.22491924487431011,-0.7849317994878591,2.450602313567962,-0.2516709306906216,-0.6640752544720353,-0.28303921709045904,-0.7268118272717103,-1.2287044096691107,-0.47586553607301013,-0.5026172218893216,-0.5967220810888341,2.970781396356076,-1.1345995504695983,-1.0404946912700852,-1.2600726960689481,-0.6280903674886716,-0.6594586538885092,0.21885336530694105,-0.0007246394919214715,-0.7895484000713854,-1.4750341002842844,0.31295822450645366,-1.0718629776699231,-0.19355095847447265,-0.6280903674886716,-0.6327069680721976,-0.8522849728710603,-0.5386021088726853,-0.3503923904736601,-0.5699703952725227,-1.322809268868623,-0.41312896327333526,-1.0718629776699231,0.9449245663757618,3.8269423436077736,-0.3503923904736601,-0.3771440762899716,-1.0404946912700852,-0.31440750349029656,0.5011679429054786,-0.0007246394919214715,0.08876361912406493,-1.129982949886072,-0.4398806490896465,-0.40851236268980917,-1.0718629776699231,-0.7849317994878591,-1.4122975274846095,-1.0404946912700852,-0.3771440762899716,-0.40851236268980917,-0.7535635130880218,-0.40851236268980917,-0.41312896327333526,0.9449245663757618,1.6304102665886608,-1.511018987267648,-0.5386021088726853,-1.9501749968653732,1.003044538591911,2.2937608815687747,2.0114463039702373,1.4781854351729997,4.951584053418397,-0.38176067687349763,0.5638885289941857,4.673886076403387,-1.5423872736674855,-0.8476683722875343,0.09338021970759111,0.18748507890710364,4.5484129308040355,-0.19355095847447265,-0.6594586538885092,-0.9463898320705728,-0.3771440762899716,-0.9150215456707353,0.09338021970759111,0.09338021970759111,0.7161293471208151,-1.6051238464671609,-0.9104049450872091,-1.5423872736674855,0.8102342063203277,-0.28303921709045904,-0.8522849728710603,-0.5339855082891591,-0.22491924487431011,-0.09944609927496006,-0.7535635130880218,0.3443265109062912,-0.06346121229159651,-0.9777581184704104,-1.129982949886072,-0.40851236268980917,-0.6640752544720353,-0.7535635130880218,-0.9104049450872091,-0.5653537946889968,0.12474850610742858,-1.197336123269273,-0.5386021088726853,-0.40851236268980917,0.2502056649958105,-0.40851236268980917,-0.9777581184704104,2.325129167968613,1.5095537215728372,-0.9463898320705728,-0.5386021088726853,-0.5072338224728478,1.4154488623733246,-0.7581801136715478,-0.7535635130880218,-0.5072338224728478,-0.9150215456707353,-0.7849317994878591,-0.9777581184704104,-0.9104049450872091,0.31295822450645366,-0.09944609927496006,-0.8209166864712228,-0.6013386816723602,-0.41312896327333526,-0.7268118272717103,-0.6013386816723602,-0.7849317994878591,-1.2287044096691107,-0.6908269402883467,-0.9731415178868842,-1.511018987267648,-0.09944609927496006,-0.9150215456707353,-0.8836532592708978,-0.4712489354894841,-1.0404946912700852,0.030643646907916045,-0.41312896327333526,-0.38176067687349763,-0.7221952266881843,-0.06346121229159651,-0.09482949869143403,0.09338021970759111,-0.5339855082891591,-0.40851236268980917,-0.8836532592708978,0.057395332724227394,-0.3771440762899716,-1.197336123269273,-1.1659678368694355,-1.129982949886072,1.6036585807723496,0.40706308370596594,-0.6013386816723602,-1.0718629776699231,0.2502216517067786,-0.40851236268980917,-0.5026172218893216,-0.5026172218893216,-0.22491924487431011,-1.0404946912700852,-1.0091264048702475,-0.8836532592708978,-1.0404946912700852,-0.6280903674886716,-0.9777581184704104,0.218837378595973,-0.9777581184704104,-0.6013386816723602,1.4154488623733246,-1.511018987267648,-0.8163000858876969,-1.2600726960689481,-0.4712489354894841,0.6220244879213026,0.5592879151216278,-0.28765581767398507,-0.6013386816723602,0.5325202425943483,0.8194514207764121,-0.6594586538885092,-1.1659678368694355,0.21885336530694105,1.7245151257881735,-0.22030264429078403,4.041903747823111,-0.7221952266881843,-1.2914409824687856,1.2853591161904483,-1.1032312640697604,1.2226225433907736,0.08876361912406493,-0.8836532592708978,-0.7849317994878591,0.7207299609933734,-1.197336123269273,-0.9731415178868842,-0.1621826720746351,2.074182876769912,-1.5377706730839595,-0.9150215456707353,-0.7221952266881843,-0.0007246394919214715,-1.6051238464671609,-0.41312896327333526,1.4781854351729997,1.885973158370887,-0.6280903674886716,0.21885336530694105,-0.5967220810888341,-0.5386021088726853,-0.5386021088726853,1.9800780175703996,-0.7895484000713854,-1.0404946912700852,-0.6327069680721976,-1.6051238464671609,1.8546048719710497,1.258607430374137,-1.0404946912700852,-0.9463898320705728,-1.730596992066511,-0.09944609927496006,-0.157566071491109,0.12474850610742858,-0.7895484000713854,1.1598859705910984,-0.5339855082891591,-0.9463898320705728,-0.1621826720746351,0.6579933881936983,-0.5386021088726853,-0.9777581184704104,-0.9463898320705728,-1.1032312640697604,-0.9777581184704104,-0.2516709306906216,4.485676358004361,-0.8163000858876969,0.09338021970759111,-1.8560701376658606,0.8416024927201652,-1.0718629776699231,-0.5653537946889968,-0.06807781287512252,-1.0404946912700852,0.1515001919237399,-0.5967220810888341,1.384080575973487,-0.5653537946889968,-0.18893435789094654,1.7872516985878486,1.4735688345894733,4.575164616620349,0.631241702377387,1.6663951535720252,1.635026867172187,0.9762928527755995,1.070397711975112,4.360203212405011,0.756714847976737,0.9089396793923982,2.074182876769912,1.4154488623733246,1.1017659983749495,1.6617785529884985,0.8148348201928861,0.37569479730612854,4.9562006540019246,0.9716762521920737,1.384080575973487,-0.6640752544720353,-0.31440750349029656,-0.4398806490896465,0.06201193330775356,-0.8522849728710603,-0.2516709306906216,-0.22030264429078403,-0.9150215456707353,-0.005341240075447611,0.1561167925072661,-0.7268118272717103,-1.9501749968653732,-1.8560701376658606,-1.1032312640697604,-0.8209166864712228,-1.4122975274846095,-0.8209166864712228,-1.1345995504695983,-1.0404946912700852,1.1645025711746244,-0.2562875312741476,-0.06346121229159651,1.258607430374137,1.7605000127715376,0.5371368431778744,1.4735688345894733,4.297466639605336,1.2899757167739745,1.3480956889901239,4.606532903020186,0.9135562799759244,1.5409220079726746,1.5676736937889861,1.4422005481896358,2.4819705999678,2.1682877359694244,1.4154488623733246,1.0344128249917486,1.6036585807723496,2.0428145903700745,0.882187993576087,3.10547175641151,-1.4169141280681359,-1.4169141280681359,-0.5386021088726853,-0.7895484000713854,0.09338021970759111,-0.7268118272717103,-1.2600726960689481,-1.197336123269273,-1.197336123269273,-1.569138959483797,1.7245151257881735,1.5676736937889861,1.885973158370887,1.3480956889901239,1.384080575973487,1.6036585807723496,1.3213440031738122,1.3480956889901239,1.5409220079726746,1.823236585571212,1.1017659983749495,2.163671135385899,1.2226225433907736,4.982952339818234,-1.1345995504695983,-0.40851236268980917,-0.8163000858876969,-0.7268118272717103,-0.4398806490896465,-1.443665813884447,-0.47586553607301013,0.2502056649958105,-0.12619778509127147,-0.6013386816723602,0.026027046324389888,0.5325362293053161,-0.7581801136715478,-0.6280903674886716,0.7834825205040162,-0.7268118272717103,-0.5967220810888341,0.24560505112325245,0.37569479730612854,-0.6013386816723602,-0.3457757898901341,-1.4750341002842844,-0.28765581767398507,-0.31902410407382276,-0.09944609927496006,-0.6640752544720353,0.12474850610742858,0.2815899381066161,-0.6594586538885092,-1.2287044096691107,-0.31902410407382276,-0.7895484000713854,-0.22491924487431011,0.026027046324389888,-0.28303921709045904,0.09338021970759111,-0.28303921709045904,-0.09944609927496006,-0.7849317994878591,-1.5423872736674855,-1.4482824144679733,0.4384313701058034,-0.4712489354894841,-0.3771440762899716,-0.9777581184704104,-0.12619778509127147,-0.4444972496731728,-0.31902410407382276,-0.2562875312741476,-0.6013386816723602,0.18748507890710364,-0.41312896327333526,-0.9150215456707353,-1.0404946912700852,0.4384313701058034,-1.1345995504695983,-0.6327069680721976,-0.6954435408718729,-0.38176067687349763,-0.5386021088726853,-0.7849317994878591,-1.8874384240656987,0.40706308370596594,-1.1659678368694355,-0.4444972496731728,-0.9731415178868842,-0.7895484000713854,0.18748507890710364,-1.0404946912700852,-0.3457757898901341,0.5952728021049912,-0.03670952647528509,-0.7268118272717103,-1.5737555600673232,-0.7849317994878591,-0.9463898320705728,-1.197336123269273,0.08876361912406493,-0.5386021088726853,0.37569479730612854,-1.3541775552684605,-0.5339855082891591,-0.13081438567479756,-0.7221952266881843,-0.6013386816723602,-0.6908269402883467,-1.197336123269273,0.31295822450645366,-0.28303921709045904,-0.47586553607301013,-0.4712489354894841,-0.1621826720746351,0.18286847832357742,-0.6908269402883467,-0.7268118272717103,-0.8790366586873717,0.7161293471208151,0.030643646907916045,-0.8163000858876969,-1.197336123269273,-0.40851236268980917,0.21885336530694105,-0.9150215456707353,-0.6013386816723602,-0.6013386816723602,-0.06807781287512252,-0.06807781287512252,-1.197336123269273,-0.12619778509127147,-1.1345995504695983,-0.7849317994878591,-0.6013386816723602,-1.380929241084772,-0.6280903674886716,-0.28765581767398507,1.4781854351729997,-0.2516709306906216,1.384080575973487,-0.8209166864712228,-0.9463898320705728,-0.005341240075447611,-0.31902410407382276,-0.7895484000713854,-0.9731415178868842,-0.7268118272717103,-0.7581801136715478,-0.6280903674886716,-0.6640752544720353,-0.7895484000713854,-1.6318755322834722,-1.9188067104655362,-0.41312896327333526,-0.28303921709045904,-0.4444972496731728,-0.41312896327333526,-0.4398806490896465,-0.9731415178868842,-0.40851236268980917,0.5011679429054786,-0.41312896327333526,-1.2287044096691107,-0.8836532592708978,-0.8209166864712228,-0.7268118272717103,-0.3503923904736601,-0.6327069680721976,-0.9777581184704104,-0.8209166864712228,-0.9104049450872091,-0.7268118272717103,-0.6327069680721976,-0.3771440762899716,-0.6327069680721976,-1.2287044096691107,-0.8836532592708978,0.46979965650564104,-1.4796507008678108,0.46979965650564104,-0.5699703952725227,-1.0358780906865592,-0.9150215456707353,-0.5967220810888341,-0.38176067687349763,-0.7895484000713854,-1.2287044096691107,-0.5339855082891591,-0.13081438567479756,-1.1345995504695983,-0.9463898320705728,-1.1345995504695983,-0.4444972496731728,-0.7268118272717103,0.24560505112325245,-0.4712489354894841,-1.2600726960689481,-0.5699703952725227,0.7207459477043411,-0.7849317994878591,-0.9150215456707353,-0.8476683722875343,-1.197336123269273,0.4384313701058034,-0.7895484000713854,-0.8522849728710603,-0.7221952266881843,-0.7268118272717103,-0.31902410407382276,-0.7268118272717103,-1.443665813884447,1.003044538591911,-0.22491924487431011,-0.19355095847447265,-0.9463898320705728,-0.40851236268980917,-0.005341240075447611,3.9791671750234356,-0.9463898320705728,-0.5386021088726853,4.517044644404199,-1.2287044096691107,-0.5339855082891591,-1.3855458416682982,0.09338021970759111,-1.2600726960689481,-1.1032312640697604,-1.0404946912700852,-0.22030264429078403,0.4965513423219526,-0.13081438567479756,-0.9150215456707353,-0.4712489354894841,-0.8476683722875343,-1.6005072458836347,-0.40851236268980917,0.08876361912406493,0.026027046324389888,-0.4712489354894841,-0.13081438567479756,-0.4712489354894841,-0.8522849728710603,-1.1659678368694355,-1.2914409824687856,-1.0404946912700852,-0.6280903674886716,-0.4712489354894841,-0.8163000858876969,-0.2516709306906216,1.7291317263716997,0.2502216517067786,-0.9777581184704104,-0.6013386816723602,-1.0404946912700852,-0.7581801136715478,0.18286847832357742,-1.0404946912700852,0.752098247393211,-0.6280903674886716,-1.0091264048702475,-1.5064023866841219,-0.6594586538885092,-0.5339855082891591,-0.6640752544720353,-1.2600726960689481,0.12474850610742858,-1.2600726960689481,-1.0718629776699231,-0.5026172218893216,-1.0404946912700852,-1.0718629776699231,-1.5737555600673232,-0.4398806490896465,-0.8790366586873717,-0.6327069680721976,-0.22491924487431011,-0.3503923904736601,-0.6280903674886716,-0.6280903674886716,-0.5967220810888341,-0.40851236268980917,-0.7895484000713854,-1.0718629776699231,-0.5339855082891591,-0.7895484000713854,-1.3541775552684605,-1.2600726960689481,-0.9150215456707353,-1.1345995504695983,-1.1032312640697604,-0.9463898320705728,-0.5967220810888341,-0.7581801136715478,-0.2516709306906216,-0.8209166864712228,-0.03209292589175899,-1.129982949886072,4.324218325421646,-0.4712489354894841,-0.31440750349029656,-0.5699703952725227,-0.7895484000713854,-1.0091264048702475,-0.8836532592708978,-0.5653537946889968,-1.2287044096691107,-1.1032312640697604,-0.9150215456707353,-1.0091264048702475,1.5990419801888234,-0.941773231487047,-0.3457757898901341,-0.0007246394919214715,0.12474850610742858,-0.28303921709045904,-0.47586553607301013,-0.12619778509127147,-0.6594586538885092,0.21423676472341494,-0.6327069680721976,-1.0718629776699231,-0.6013386816723602,0.43381476952227743,-0.9150215456707353,-0.5653537946889968,-0.2562875312741476,-0.4712489354894841,4.857479194218885,0.5325202425943483,4.297466639605336,0.06201193330775356,-0.22030264429078403,-0.6280903674886716,-1.0358780906865592,-0.7535635130880218,-1.3541775552684605,-1.0045098042867218,-0.9150215456707353,-0.6908269402883467,-0.09482949869143403,-1.1659678368694355,-0.1621826720746351,-0.1621826720746351,-0.5699703952725227,-1.5064023866841219,-0.5026172218893216,-1.3855458416682982,-0.8163000858876969,-0.12619778509127147,-0.6013386816723602,3.7328374844082606,-0.9463898320705728,-0.6327069680721976,0.09338021970759111,-1.197336123269273,-0.6954435408718729,-0.9777581184704104,0.37569479730612854,-1.6318755322834722,-0.5653537946889968,-0.22030264429078403,-0.9777581184704104,1.4154488623733246,2.0068297033867113,-0.18893435789094654,-1.0091264048702475,0.15610080579629795,-0.5967220810888341,-0.8522849728710603,-0.9777581184704104,0.7834665337930482,0.882187993576087,1.065781111391586,0.9135562799759244,0.9135562799759244,4.198745179822297,1.5409220079726746,4.54379633022051,1.0971493977914233,1.2899757167739745,1.195870857574462,4.611149503603712,1.2272391439742996,4.799359222002737,3.9791671750234356,0.27697333752308995,0.7253465615768995,1.8499882713875229,1.2899757167739745,1.8499882713875229,1.133134284774787,0.8508197071762493,2.908044823556401,1.258607430374137,4.422939785204686,3.6968525974248965,1.3213440031738122,0.8775713929925609,1.7245151257881735,1.8186199849876858,1.3794639753899611,-0.3503923904736601,1.446817148773162,0.6626099887772243,2.136919449569587,3.54001116542571,3.9164306022237603,4.418323184621158,4.136008607022623,-0.0007246394919214715,0.25482226557933657,1.2539908297906108,1.0390294255752743,-0.8522849728710603,4.642517790003549,1.635026867172187,1.4422005481896358,-1.129982949886072,-0.5026172218893216,-0.6280903674886716,-1.699228705666673,-0.6594586538885092,-0.6594586538885092,-0.7895484000713854,-1.8560701376658606,-1.197336123269273,-0.8790366586873717,-1.511018987267648,-0.28303921709045904,-0.2516709306906216,0.3443265109062912,-1.1659678368694355,0.5639045157051537,-1.197336123269273,-0.12619778509127147,-1.322809268868623,-0.2516709306906216,-0.2516709306906216,-0.7581801136715478,0.46979965650564104,-0.7221952266881843,-0.157566071491109,-1.4169141280681359,-0.09482949869143403,-1.8560701376658606,-0.12619778509127147,0.658009374904666,-0.5072338224728478,-0.3457757898901341,-0.09944609927496006,-0.06346121229159651,-0.6594586538885092,-1.2600726960689481,0.21423676472341494,-1.730596992066511,-0.31902410407382276,-0.4444972496731728,-1.1659678368694355,0.2815899381066161,0.18286847832357742,-1.5423872736674855,-0.3457757898901341,-0.28303921709045904,-1.3181926682850968,-0.7268118272717103,-1.0091264048702475,-0.8836532592708978,-0.9731415178868842,-1.6005072458836347,0.030643646907916045,-0.157566071491109,0.18286847832357742,-0.3771440762899716,-0.38176067687349763,-0.06346121229159651,-0.157566071491109,1.1598859705910984,-0.6908269402883467,-0.6908269402883467,0.5952728021049912,-1.1659678368694355,1.2899757167739745,1.133134284774787,-1.5064023866841219,1.3794639753899611,0.5638885289941857,-1.0672463770863967,-0.2516709306906216,-0.157566071491109,-0.6640752544720353,0.12474850610742858,-0.41312896327333526,-0.38176067687349763,-0.22030264429078403,-0.3457757898901341,-0.09482949869143403,-1.2600726960689481,0.24560505112325245,-0.005341240075447611,-0.7581801136715478,0.31295822450645366,1.2853591161904483,-0.3457757898901341,-0.5339855082891591,-0.7221952266881843,-0.22491924487431011,-0.22030264429078403,-0.8522849728710603,-0.2516709306906216,-0.6280903674886716,-0.2562875312741476,-0.2562875312741476,-0.6327069680721976,-0.13081438567479756,-0.7849317994878591,-0.5072338224728478,-0.3457757898901341,-0.8209166864712228,-0.8836532592708978,-0.12619778509127147,0.9089396793923982,-1.322809268868623,-0.8522849728710603,-0.8522849728710603,0.06201193330775356,-0.47586553607301013,0.18748507890710364,-0.4712489354894841,-0.18893435789094654,-0.8209166864712228,-0.9777581184704104,0.339709910322765,-1.1345995504695983,-1.197336123269273,-1.1345995504695983,-0.5386021088726853,-0.5072338224728478,-0.3457757898901341,-1.0718629776699231,0.030643646907916045,-0.6280903674886716,-0.8163000858876969,0.3710781967226025,-1.1613512362859093,-0.6954435408718729,-0.6908269402883467,-0.8163000858876969,-0.6280903674886716,0.9403239525032037,-0.7895484000713854,-0.28765581767398507,0.18748507890710364,-1.3541775552684605,-1.1927195226857468,0.030643646907916045,-1.197336123269273,-1.2914409824687856,-1.3855458416682982,-0.1621826720746351,-0.4398806490896465,-0.4444972496731728,-0.6954435408718729,0.658009374904666,-0.6954435408718729,-0.7895484000713854,-1.322809268868623,0.030643646907916045,-1.6005072458836347,-1.2868243818852594,-0.6908269402883467,-0.2516709306906216,-0.6327069680721976,-0.7581801136715478,-0.47586553607301013,-0.22030264429078403,-1.1659678368694355,0.3443265109062912,-0.6013386816723602,0.3710781967226025,-0.06346121229159651,-1.1032312640697604,-0.8836532592708978,-0.18893435789094654,-0.4712489354894841,-0.6594586538885092,0.7474976335206528,-1.0672463770863967,-1.0091264048702475,-0.3771440762899716,-0.31440750349029656,-0.7895484000713854,-1.197336123269273,-1.6364921328669981,-0.1621826720746351,0.7834825205040162,1.4735688345894733,0.3443265109062912,0.8508197071762493,-1.0404946912700852,1.3794639753899611,0.8462031065927235,2.163671135385899,-1.197336123269273,-1.322809268868623,-1.1032312640697604,0.2815899381066161,5.139793771817423,-0.032108912602727135,-0.4398806490896465,-0.4444972496731728,-0.31902410407382276,1.7245151257881735,1.2539908297906108,-1.511018987267648,0.09798083358014913,0.030643646907916045,-1.0986146634862346,0.6266251017938608,-1.1345995504695983,-1.197336123269273,1.258607430374137,-1.0404946912700852,-0.12619778509127147,0.12013190552390239,-0.09482949869143403,1.504937120989311,1.5676736937889861,0.693978275177062,0.8194514207764121,0.9716762521920737,4.077888634806474,1.3213440031738122,4.203361780405824,4.794742621419211,0.6626099887772243,-0.28765581767398507,4.266098353205498,-0.40851236268980917,2.199656022369262,1.7605000127715376,1.5409220079726746,1.6036585807723496,-0.0007246394919214715,4.140625207606149,1.2539908297906108,0.9135562799759244,1.195870857574462,0.631241702377387,1.7605000127715376,1.007661139175437,1.5409220079726746,2.0114463039702373,1.4781854351729997,0.6893616745935358,1.1645025711746244,4.637901189420023,1.5990419801888234,0.631241702377387,-0.3503923904736601,1.823236585571212,2.419234027168125,3.0381345697392774,2.0068297033867113,2.2937608815687747,-0.4398806490896465,-0.8209166864712228,5.332620090799975,-0.09482949869143403,0.2502216517067786,-0.5699703952725227,-0.5026172218893216,-1.0358780906865592,-1.322809268868623,-0.06807781287512252,-0.5653537946889968,-1.1032312640697604,0.8148508069038537,-0.9150215456707353,-0.9104049450872091,-0.19355095847447265,-0.9463898320705728,-0.03209292589175899,0.2815899381066161,-0.06346121229159651,0.057395332724227394,-1.5737555600673232,0.030643646907916045,0.18286847832357742,-0.22491924487431011,-0.7849317994878591,-0.6280903674886716,-0.3771440762899716,-0.9777581184704104,-1.1345995504695983,-0.31440750349029656,-0.22030264429078403,-0.5339855082891591,0.5325362293053161,-0.19355095847447265,-1.197336123269273,-0.6640752544720353,-0.7849317994878591,-0.09482949869143403,-1.0672463770863967,0.09338021970759111,-0.22030264429078403,-0.19355095847447265,-0.47586553607301013,0.465183055922115,-0.3457757898901341,-0.9104049450872091,-0.12619778509127147,-0.3771440762899716,-0.31440750349029656,-0.22030264429078403,-0.5072338224728478,-0.6908269402883467,-0.6327069680721976,-0.9150215456707353,-0.8836532592708978,-0.31902410407382276,-1.1345995504695983,-1.6364921328669981,-0.8790366586873717,-0.9104049450872091,-0.2516709306906216,-0.157566071491109,-0.12619778509127147,-1.0091264048702475,-1.2287044096691107,-0.9150215456707353,0.1561167925072661,-0.38176067687349763,-0.19355095847447265,-0.7221952266881843,-0.7535635130880218,-0.31440750349029656,-0.941773231487047,-0.4398806490896465,-1.197336123269273,-0.8209166864712228,0.5639045157051537,0.5325362293053161,-1.1659678368694355,-0.941773231487047,-0.9463898320705728,-1.7619652784663482,0.24560505112325245,0.3443265109062912,-0.22491924487431011,-0.38176067687349763,0.1561167925072661,-0.3503923904736601,-0.47586553607301013,-0.9150215456707353,-0.8790366586873717,-0.7268118272717103,-0.0007246394919214715,0.5952728021049912,-0.5967220810888341,-0.6327069680721976,0.09338021970759111,-0.6954435408718729,-0.2562875312741476,-1.569138959483797,-0.4398806490896465,0.3756788105951606,-0.7581801136715478,-0.22491924487431011,-0.4398806490896465,-0.7221952266881843,0.18748507890710364,-1.5737555600673232,-0.7268118272717103,0.30834162392292747,-0.12619778509127147,-1.699228705666673,0.12474850610742858,-0.4398806490896465,0.2815899381066161,0.1561167925072661,0.12474850610742858,-0.5653537946889968,-0.31440750349029656,-0.31440750349029656,-0.8476683722875343,-0.41312896327333526,0.4965513423219526,-0.6594586538885092,-0.6013386816723602,-0.8476683722875343,-0.7895484000713854,-0.28765581767398507,-0.6594586538885092,-1.6005072458836347,-0.9150215456707353,-0.4712489354894841,-0.18893435789094654,0.2815899381066161,-0.6327069680721976,-0.6327069680721976,0.2815899381066161,0.3710781967226025,-0.8836532592708978,0.21885336530694105,-0.157566071491109,-0.4444972496731728,-0.22491924487431011,-1.0404946912700852,-0.06807781287512252,-1.0404946912700852,0.37569479730612854,2.074182876769912,1.823236585571212,1.5095537215728372,-0.28765581767398507,1.4154488623733246,-0.7581801136715478,1.7291317263716997,-1.5423872736674855,-1.2600726960689481,-1.1032312640697604,1.3794639753899611,-1.1659678368694355,0.8775873797035288,0.40706308370596594,-0.4398806490896465,-1.1659678368694355,-0.31902410407382276,-0.6327069680721976,0.6893776613045036,-0.2562875312741476,-0.38176067687349763,-0.6594586538885092,-0.3503923904736601,-0.9150215456707353,3.6073643388089107,-1.0718629776699231,-0.8163000858876969,-0.8790366586873717,-0.941773231487047,1.885973158370887,-0.6954435408718729,-0.8836532592708978,-0.3771440762899716,-0.31902410407382276,-1.0045098042867218,1.1017659983749495,0.5906562015214651,-1.2914409824687856,-1.2600726960689481,-0.38176067687349763,-0.09944609927496006,-1.0091264048702475,-1.2600726960689481,-0.40851236268980917,-0.28765581767398507,0.026027046324389888,-1.2600726960689481,-0.3457757898901341,-0.5653537946889968,-0.5026172218893216,-0.9777581184704104,-0.3771440762899716,-1.4796507008678108,0.658009374904666,-0.22491924487431011,-0.005341240075447611,-1.2287044096691107,-1.1345995504695983,-0.03670952647528509,2.257775994585411,-1.6051238464671609,-0.9104049450872091,-0.3457757898901341,1.065781111391586,-0.6640752544720353,-1.380929241084772,0.37569479730612854,-0.157566071491109,-1.0045098042867218,-1.0358780906865592,-1.322809268868623,-1.0986146634862346,-0.5072338224728478,-0.4444972496731728,-0.41312896327333526,1.2539908297906108,-1.0672463770863967,-0.5339855082891591,-0.6908269402883467,-0.7581801136715478,-0.9463898320705728,-0.38176067687349763,-0.3457757898901341,-0.3503923904736601,-0.38176067687349763,-0.28765581767398507,0.026027046324389888,-0.0007246394919214715,4.140625207606149,4.736622649203061,0.06201193330775356,1.065781111391586,0.06201193330775356,-1.2600726960689481,1.2539908297906108,-0.21570203041822608,0.40704709699499814,1.948709731170562,-0.47586553607301013,-0.28303921709045904,0.12474850610742858,2.257775994585411,3.0113668972119974,0.6893616745935358,-1.730596992066511,-0.6640752544720353,-0.6954435408718729,0.5325362293053161,0.21885336530694105,-0.8790366586873717,-1.1032312640697604,-0.5026172218893216,-0.09482949869143403,-0.9150215456707353,-0.9731415178868842,-0.6327069680721976,-0.22030264429078403,-0.4712489354894841,-0.8476683722875343,-1.197336123269273,-0.5653537946889968,-0.8836532592708978,-0.13081438567479756,-0.9463898320705728,-0.5653537946889968,-0.09482949869143403,-1.1659678368694355,-1.0718629776699231,-1.569138959483797,-0.8836532592708978,-0.7895484000713854,-0.4398806490896465,-1.1613512362859093,-1.129982949886072,-0.6013386816723602,0.9135562799759244,-0.7581801136715478,-1.0091264048702475,-0.9731415178868842,-0.38176067687349763,-0.4398806490896465,-0.40851236268980917,-0.2516709306906216,-0.7849317994878591,-0.9104049450872091,-0.12619778509127147,-0.5072338224728478,-1.0672463770863967,-0.06346121229159651,0.46979965650564104,-0.8476683722875343,-0.3771440762899716,-0.9463898320705728,4.1673768934224595,-1.197336123269273,1.8813565577873614,-0.6954435408718729,-0.8209166864712228,-0.6640752544720353,-0.7535635130880218,-0.22030264429078403,1.9173414447707242,-0.6640752544720353,-0.3457757898901341,-0.6908269402883467,0.9135562799759244,1.5095537215728372,-0.7849317994878591,0.3443265109062912,0.09338021970759111,-0.7849317994878591,1.2226225433907736,-0.7221952266881843,-1.6051238464671609,-1.197336123269273,0.12474850610742858,-0.8522849728710603,-0.5967220810888341,-1.1345995504695983,-0.0007246394919214715,-0.03209292589175899,4.136008607022623,2.3878657407682873,1.2539908297906108,0.43841538339483566,-0.38176067687349763,4.203361780405824,4.8620957948024115,4.987568940401761,3.889678916407448,4.418323184621158,3.9837837756069607,4.203361780405824,1.133134284774787,1.133134284774787,2.60744374556715,1.4154488623733246,1.5676736937889861,0.218837378595973,5.238515231600462,2.1055511631697494,0.2502056649958105,1.5676736937889861,0.8194514207764121,-0.31902410407382276,4.5484129308040355,4.4810597574208355,1.1598859705910984,1.3794639753899611,4.888847480618723,4.924832367602087,-0.4398806490896465,4.449691471020998,-0.5699703952725227,-0.38176067687349763,-1.0358780906865592,-0.8209166864712228,-0.3503923904736601,-0.06346121229159651,-0.13081438567479756,-0.5026172218893216,-0.13081438567479756,-0.22491924487431011,-0.8209166864712228,0.18286847832357742,-0.6327069680721976,-0.3503923904736601,-0.941773231487047,-0.2516709306906216,-0.5026172218893216,0.5952728021049912,-0.6640752544720353,-1.0091264048702475,-0.5026172218893216,-0.9150215456707353,-0.8476683722875343,-0.9777581184704104,-0.7581801136715478,-0.9150215456707353,-0.5653537946889968,-0.3457757898901341,-0.19355095847447265,0.30834162392292747,-0.5653537946889968,0.24560505112325245,-0.8836532592708978,-0.3457757898901341,-0.8209166864712228,-0.06346121229159651,-0.9463898320705728,-1.1345995504695983,-0.6908269402883467,-0.0007246394919214715,0.7207299609933734,-0.7581801136715478,-1.1927195226857468,-1.2868243818852594,-1.3855458416682982,-0.1621826720746351,-0.5967220810888341,-1.0986146634862346,-0.5026172218893216,0.1561167925072661,0.08876361912406493,-0.5386021088726853,0.40706308370596594,-0.7221952266881843,-0.8836532592708978,0.21885336530694105,-1.0718629776699231,0.2502216517067786,-0.03209292589175899,-0.941773231487047,-1.0045098042867218,-1.0091264048702475,-0.5386021088726853,-1.197336123269273,0.465183055922115,-1.6364921328669981,-0.1621826720746351,-0.8522849728710603,0.08876361912406493,-0.22491924487431011,-0.7895484000713854,-1.2287044096691107,-1.197336123269273,-0.9731415178868842,-1.0045098042867218,-0.941773231487047,-1.197336123269273,-0.9777581184704104,-1.1659678368694355,-1.0986146634862346,-0.005341240075447611,-0.5967220810888341,-0.7581801136715478,-0.8522849728710603,0.47440027037819904,-1.0091264048702475,1.003044538591911,-1.1345995504695983,-0.7581801136715478,-0.2562875312741476,-0.31902410407382276,0.37569479730612854,-0.06807781287512252,-0.6594586538885092,-0.6908269402883467,-0.941773231487047,-0.3503923904736601,-0.7221952266881843,-0.6280903674886716,0.15610080579629795,1.6036585807723496,-0.9463898320705728,-0.8209166864712228,-0.03209292589175899,-0.4398806490896465,-0.31440750349029656,-1.3855458416682982,1.1599019573020664,-0.5339855082891591,-1.6005072458836347,-0.7849317994878591,-0.8476683722875343,0.030643646907916045,-0.22030264429078403,-0.19355095847447265,-1.0718629776699231,-1.0091264048702475,-1.0091264048702475,5.301251804400137,4.888847480618723,0.1515001919237399,-0.6280903674886716,-0.9463898320705728,1.6931468393883362,-0.5967220810888341,-0.4712489354894841,3.0381185830283095,4.292850039021809,0.5011519561945107,-0.8790366586873717,-0.9463898320705728,-0.2516709306906216,-0.7535635130880218,-0.9463898320705728,-0.5967220810888341,2.1682877359694244,-0.005341240075447611,-0.5699703952725227,-0.6327069680721976,-0.4444972496731728,1.384080575973487,-0.5653537946889968,-0.6908269402883467,-0.5026172218893216,-0.40851236268980917,-0.28303921709045904,-0.6954435408718729,-0.8476683722875343,-1.0718629776699231,-0.7849317994878591,-0.5339855082891591,-0.5339855082891591,-0.7895484000713854,1.2853591161904483,-1.1032312640697604,2.1009345625862235,-0.6280903674886716,-0.7849317994878591,0.882187993576087,-0.09944609927496006,-0.47586553607301013,0.12013190552390239,-1.1345995504695983,0.40244648312244,-0.4712489354894841,-0.157566071491109,-0.3457757898901341,-0.40851236268980917,-1.0718629776699231,-1.2914409824687856,0.658009374904666,-0.7581801136715478,0.06201193330775356,-0.5699703952725227,-1.0091264048702475,-1.2287044096691107,-1.0091264048702475,-0.9463898320705728,-0.6908269402883467,-0.06807781287512252,-0.40851236268980917,-0.6954435408718729,-0.06346121229159651,-0.7895484000713854,-0.005341240075447611,-0.09944609927496006,-0.8163000858876969,-0.4398806490896465,-0.157566071491109,1.3167274025902862,-0.03209292589175899,1.4422005481896358,0.1607174063798243,-0.6327069680721976,-0.9731415178868842,-0.31902410407382276,-1.4796507008678108,-1.0986146634862346,-0.9731415178868842,1.6036585807723496,-0.6327069680721976,-0.8790366586873717,-0.3503923904736601,-0.9463898320705728,-1.2868243818852594,-0.8836532592708978,-0.09022888481887603,-0.9150215456707353,-1.2287044096691107,2.0428145903700745,-0.7268118272717103,-0.5699703952725227,-0.6327069680721976,-0.06807781287512252,-0.8476683722875343,1.635026867172187,-0.4444972496731728,-0.5653537946889968,1.4781854351729997,-1.0404946912700852,-0.28765581767398507,-0.06346121229159651,0.09338021970759111,5.018937226801599,4.637901189420023,1.3527122895736494,4.669269475819861,2.325129167968613,1.2226225433907736,-0.05886059841903846,3.6387326252087484,2.199656022369262,1.070397711975112,2.074182876769912,1.6617785529884985,1.258607430374137,1.3527122895736494,0.5685051295777118,5.238515231600462,0.882187993576087,1.635026867172187,1.7291317263716997,-1.380929241084772,5.050305513201436,1.4422005481896358,1.128517684191261,2.262392595168937,-1.2287044096691107,-1.2914409824687856,-0.6327069680721976,0.2502216517067786,-0.3503923904736601,-0.7268118272717103,-0.28765581767398507,-0.2516709306906216,-0.6280903674886716,-0.6908269402883467,-0.22030264429078403,-0.941773231487047,0.030643646907916045,-0.38176067687349763,-1.197336123269273,-1.0672463770863967,-0.4444972496731728,-1.2600726960689481,-0.4444972496731728,-1.0358780906865592,-0.09482949869143403,-0.2516709306906216,0.4384313701058034,-0.8522849728710603,-1.2868243818852594,-0.8476683722875343,-0.3457757898901341,-0.7221952266881843,-1.2287044096691107,-0.8790366586873717,-1.0404946912700852,-0.3503923904736601,-0.8476683722875343,-0.7895484000713854,-0.7581801136715478,-0.7895484000713854,-1.0358780906865592,-0.7268118272717103,-0.38176067687349763,1.258607430374137,-1.2600726960689481,-0.31440750349029656,-0.31440750349029656,-0.8209166864712228,-0.6954435408718729,-1.6632438186833094,-0.8836532592708978,-1.2287044096691107,0.12013190552390239,-0.22030264429078403,-1.0718629776699231,-0.4444972496731728,-0.4444972496731728,-0.6640752544720353,-0.5072338224728478,-0.7268118272717103,-0.38176067687349763,-1.1032312640697604,1.5676736937889861,-0.38176067687349763,0.2815899381066161,-0.18893435789094654,-0.4444972496731728,-0.941773231487047,-0.28303921709045904,-1.2287044096691107,-1.2287044096691107,-1.0091264048702475,0.21423676472341494,-0.7849317994878591,-1.9188067104655362,1.6036585807723496,1.6304102665886608,0.6626099887772243,1.3527122895736494,-0.31440750349029656,1.007661139175437,-0.941773231487047,-0.4398806490896465,-1.2600726960689481,-0.6640752544720353,-0.9777581184704104,-0.09482949869143403,-1.2914409824687856,0.12474850610742858,-1.4122975274846095,-1.1659678368694355,-1.2600726960689481,-1.730596992066511,-0.28765581767398507,-0.6280903674886716,0.12474850610742858,-0.06346121229159651,-0.6640752544720353,0.2502216517067786,-0.03209292589175899,0.21423676472341494,-0.6594586538885092,-1.511018987267648,-0.7268118272717103,-0.9731415178868842,-1.0091264048702475,3.952415489207125,-0.3771440762899716,-0.157566071491109,-0.18893435789094654,-0.9777581184704104,-0.7221952266881843,-0.8476683722875343,-0.9777581184704104,-0.5339855082891591,-0.8836532592708978,-0.8163000858876969,0.5011679429054786,-0.7581801136715478,-0.9777581184704104,-0.7535635130880218,-1.0404946912700852,-0.5026172218893216,-0.8476683722875343,-0.4712489354894841,-0.4712489354894841,1.6977634399718624,-0.8476683722875343,-1.2600726960689481,0.8148348201928861,-0.6594586538885092,-0.7849317994878591,-0.005341240075447611,-0.7581801136715478,-0.9777581184704104,-0.31440750349029656,-0.4712489354894841,-0.7895484000713854,-0.7268118272717103,-0.6280903674886716,-0.7535635130880218,-1.0091264048702475,-0.5339855082891591,-1.8560701376658606,2.2310243087690993,0.9449245663757618,1.6036585807723496,-1.4482824144679733,-0.7895484000713854,-0.941773231487047,-1.0718629776699231,-0.8163000858876969,-0.5653537946889968,0.030643646907916045,-0.9777581184704104,-1.8560701376658606,-1.2287044096691107,-0.06807781287512252,-1.6318755322834722,-0.3457757898901341,-1.380929241084772,-0.9150215456707353,-0.6280903674886716,1.195870857574462,1.4781854351729997,1.3480956889901239,4.386954898221322,1.8546048719710497,2.35649745436845,-1.699228705666673,-0.9777581184704104,-0.8476683722875343,-0.9777581184704104,-0.4398806490896465,-0.12619778509127147,-0.7849317994878591,0.40706308370596594,1.635026867172187,0.026027046324389888,-0.7581801136715478,-0.7895484000713854,-1.322809268868623,-0.09944609927496006,0.026027046324389888,1.7918682991713748,0.46979965650564104,-1.2600726960689481,1.6036585807723496,-0.9150215456707353,1.8546048719710497,-0.7535635130880218,-0.5386021088726853,-0.4712489354894841,-0.8836532592708978,0.882187993576087,-0.941773231487047,-0.5967220810888341,1.9754614169868734,1.6663951535720252,1.5095537215728372,1.8499882713875229,1.504937120989311,1.1017659983749495,3.8223257430242477,1.8186199849876858,-0.40851236268980917,4.642517790003549,4.857479194218885,-1.8560701376658606,3.5086588657368396,3.889678916407448,1.948709731170562,1.2539908297906108,4.1673768934224595,3.9164306022237603,1.007661139175437,4.9562006540019246,-0.8790366586873717,3.889678916407448,-1.1345995504695983,-0.6594586538885092,-0.7895484000713854,-0.22030264429078403,-1.2600726960689481,-0.28303921709045904,-0.09944609927496006,-0.47586553607301013,0.465183055922115,-0.09944609927496006,-0.8522849728710603,-0.5967220810888341,-1.1345995504695983,-0.0007246394919214715,-0.7221952266881843,-0.9731415178868842,-0.8790366586873717,-0.3457757898901341,-0.8163000858876969,0.09338021970759111,-0.5653537946889968,-1.1032312640697604,-0.9463898320705728,-1.0672463770863967,-0.41312896327333526,-0.8163000858876969,0.09338021970759111,0.026027046324389888,-0.8836532592708978,-0.22030264429078403,0.7207299609933734,1.2226225433907736,1.195870857574462,2.2937608815687747,1.7872516985878486,1.1645025711746244,1.3480956889901239,-0.8209166864712228,4.794742621419211,1.4422005481896358,1.384080575973487,0.9089396793923982,-1.0358780906865592,0.7834665337930482,0.9089396793923982,1.6663951535720252,0.18748507890710364,4.705254362803224,1.3527122895736494,1.9173414447707242,0.8462031065927235,1.8813565577873614,1.6304102665886608,1.7291317263716997,3.3785691195539633,1.5095537215728372,1.384080575973487,1.4422005481896358,1.3213440031738122,0.8508197071762493,2.2937608815687747,-1.8874384240656987,-1.0986146634862346,-0.8163000858876969,-0.6594586538885092,-0.22491924487431011,-0.0007246394919214715,4.136008607022623,3.9791671750234356,2.1055511631697494,1.6977634399718624,4.0151520620067975,-0.8209166864712228,1.7605000127715376,1.7245151257881735,-0.7581801136715478,-1.6632438186833094,-1.0091264048702475,0.09338021970759111,-0.03209292589175899,-1.322809268868623,-0.8476683722875343,-0.18893435789094654,-1.0718629776699231,-0.5026172218893216,-0.9150215456707353,-0.5026172218893216,1.4154488623733246,-1.1032312640697604,-0.8476683722875343,-0.7221952266881843,-0.4444972496731728,-0.8836532592708978,-0.31902410407382276,-1.1345995504695983,-1.197336123269273,-0.6594586538885092,0.31295822450645366,1.3480956889901239,1.5990419801888234,-0.2562875312741476,-0.6640752544720353,-0.6013386816723602,1.6036585807723496,0.1561167925072661,-0.8836532592708978,0.752098247393211,-0.2516709306906216,-0.2562875312741476,-0.31902410407382276,-0.9777581184704104,-0.7268118272717103,-0.5967220810888341,-0.12619778509127147,-1.0091264048702475,1.9127248441871987,2.1682877359694244,-0.2516709306906216,1.5722902943725117,1.3167274025902862,1.258607430374137,3.419154620409886,0.5952568153940234,2.320512567385086,1.2899757167739745,4.391571498804849,4.0151520620067975,-0.032108912602727135,4.893464081202248,3.8583106300076104,-0.06346121229159651,4.422939785204686,2.199656022369262,-0.6013386816723602,-0.3457757898901341,-0.7581801136715478,-1.3541775552684605,-0.09944609927496006,-1.197336123269273,-1.1345995504695983,-0.9104049450872091,-0.9104049450872091,-0.22491924487431011,0.026027046324389888,-1.0718629776699231,-1.2914409824687856,-0.41312896327333526,-0.5386021088726853,-1.129982949886072,-0.8163000858876969,-0.8790366586873717,-0.12619778509127147,-1.4796507008678108,-0.5339855082891591,-1.0358780906865592,-0.8836532592708978,-1.0045098042867218,-1.5064023866841219,-0.2516709306906216,0.1515001919237399,-1.197336123269273,-1.2868243818852594,-1.569138959483797,-1.0404946912700852,-0.5339855082891591,0.1561167925072661,-0.8836532592708978,-1.129982949886072,0.6893776613045036,-1.322809268868623,-0.6908269402883467,-0.1621826720746351,-0.6954435408718729,-0.6594586538885092,-0.6280903674886716,-0.09944609927496006,-0.2516709306906216,0.12474850610742858,-1.0091264048702475,-0.5386021088726853,0.4384313701058034,-0.6013386816723602,-0.5699703952725227,-1.0091264048702475,-1.1032312640697604,-0.7849317994878591,-0.03209292589175899,0.21885336530694105,-0.9150215456707353,0.15610080579629795,-0.9463898320705728,-1.4482824144679733,-0.5339855082891591,-0.6327069680721976,-0.13081438567479756,0.40706308370596594,-0.5072338224728478,-0.7581801136715478,-0.8836532592708978,-0.9777581184704104,-0.9104049450872091,-1.197336123269273,0.21423676472341494,-1.3541775552684605,0.2815899381066161,-0.47586553607301013,-1.6678604192668356,-1.2868243818852594,-0.0007246394919214715,-0.38176067687349763,0.2815899381066161,-0.2516709306906216,0.5952728021049912,0.2815899381066161,0.31295822450645366,-0.6327069680721976,-0.8522849728710603,0.18748507890710364,0.6847610607209776,0.18748507890710364,-0.8522849728710603,0.4965513423219526,0.026027046324389888,-1.4750341002842844,-0.8522849728710603,0.24560505112325245,-1.0091264048702475,-0.5386021088726853,-0.38176067687349763,-0.22491924487431011,-1.197336123269273,-0.157566071491109,0.08876361912406493,-0.941773231487047,-0.1621826720746351,-1.0718629776699231,-1.1345995504695983,-0.4712489354894841,-1.3541775552684605,-1.0091264048702475,-0.3503923904736601,-0.31440750349029656,-0.5699703952725227,-0.38176067687349763,-1.0091264048702475,-0.3503923904736601,-1.0358780906865592,-0.03209292589175899,-0.22030264429078403,0.2502216517067786,-0.7581801136715478,-0.5386021088726853,-0.5339855082891591,-0.13081438567479756,-0.31902410407382276,-0.28765581767398507,-0.6280903674886716,-1.569138959483797,0.21423676472341494,-1.322809268868623,-1.0718629776699231,-0.8476683722875343,0.5011679429054786,-0.8790366586873717,-0.5699703952725227,0.21423676472341494,-1.0404946912700852,0.6266410885048285,-0.4398806490896465,-0.5386021088726853,-0.2562875312741476,-0.6327069680721976,-0.5967220810888341,-0.40851236268980917,-0.9463898320705728,-1.0718629776699231,-0.4712489354894841,0.8775713929925609,-1.5377706730839595,-0.9104049450872091,-0.31440750349029656,0.7521142341041788,-0.4712489354894841,-0.31440750349029656,-1.0672463770863967,-0.40851236268980917,-0.7849317994878591,-0.9463898320705728,-1.1659678368694355,-0.12619778509127147,-0.31440750349029656,-0.5653537946889968,-0.8163000858876969,-0.9777581184704104,-0.5653537946889968,-1.322809268868623,-0.9731415178868842,-0.8476683722875343,-0.157566071491109,-1.2287044096691107,-0.4712489354894841,2.1055511631697494,0.9716762521920737,-1.3181926682850968,-0.47586553607301013,-0.6327069680721976,0.3710781967226025,-0.4444972496731728,4.517044644404199,1.258607430374137,-0.005341240075447611,-0.5699703952725227,-0.6954435408718729,0.37569479730612854,-0.38176067687349763,-0.4444972496731728,-0.2516709306906216,-0.5967220810888341,-1.322809268868623,-1.2600726960689481,-0.3503923904736601,-0.8163000858876969,-0.7895484000713854,-0.5699703952725227,0.31295822450645366,0.6533927743211402,-1.1345995504695983,-0.5967220810888341,-0.8522849728710603,-1.3541775552684605,-1.1345995504695983,1.258607430374137,-1.6364921328669981,0.21423676472341494,-0.8209166864712228,-0.9463898320705728,0.4384313701058034,-0.2562875312741476,-0.40851236268980917,-0.6640752544720353,-1.2287044096691107,-0.7895484000713854,-0.4398806490896465,-1.9188067104655362,-0.47586553607301013,-0.6013386816723602,-0.4712489354894841,1.4154488623733246,-0.2562875312741476,-0.8790366586873717,-0.28303921709045904,-1.0404946912700852,-0.40851236268980917,-0.9463898320705728,-0.8522849728710603,-1.1345995504695983,-0.5072338224728478,-0.6594586538885092,-0.5386021088726853,-0.9463898320705728,-1.2287044096691107,-1.197336123269273,-0.47586553607301013,-0.1621826720746351,-0.28303921709045904,-1.2287044096691107,-0.1621826720746351,-0.28765581767398507,-1.8874384240656987,-0.4712489354894841,-0.6013386816723602,0.057395332724227394,-0.7535635130880218,-0.09482949869143403,-1.2914409824687856,-1.1659678368694355,-1.2600726960689481,-0.09482949869143403,0.31295822450645366,4.203361780405824,-0.38176067687349763,-0.1621826720746351,-0.38176067687349763,-0.7895484000713854,-0.6640752544720353,-0.8209166864712228,-0.6908269402883467,-0.5339855082891591,-0.06807781287512252,-1.129982949886072,-0.9777581184704104,-0.7221952266881843,-0.5072338224728478,0.09338021970759111,-0.3457757898901341,-0.8163000858876969,-0.0007246394919214715,-0.19355095847447265,-0.5026172218893216,-1.0404946912700852,-0.5339855082891591,-0.4398806490896465,0.1561167925072661,-0.31902410407382276,-1.4482824144679733,1.3794639753899611,-0.47586553607301013,-0.38176067687349763,-1.6318755322834722,-0.9777581184704104,-0.31902410407382276,0.5325362293053161,-1.6364921328669981,-0.9150215456707353,-0.8476683722875343,-0.13081438567479756,-0.40851236268980917,-1.0358780906865592,-0.5653537946889968,-1.0091264048702475,-0.9777581184704104,-0.3457757898901341,-0.6280903674886716,0.12013190552390239,-0.31440750349029656,-1.0091264048702475,-0.5699703952725227,-0.1621826720746351,-0.5072338224728478,-0.09944609927496006,-1.0718629776699231,-1.322809268868623,-0.9150215456707353,-0.7535635130880218,0.3443265109062912,-0.5072338224728478,-1.0718629776699231,-0.22030264429078403,-1.3855458416682982,-1.1345995504695983,-0.6640752544720353,-0.0007246394919214715,-0.8790366586873717,-0.2516709306906216,-0.7581801136715478,-0.2516709306906216,-1.197336123269273,1.6036585807723496,1.007661139175437,-0.28303921709045904,-0.8836532592708978,-0.6280903674886716,-0.7221952266881843,-1.1659678368694355,0.18286847832357742,-0.3503923904736601,-0.7268118272717103,-0.5026172218893216,-0.6954435408718729,-0.4444972496731728,-0.2562875312741476,-1.4122975274846095,-1.0404946912700852,-0.7535635130880218,-0.38176067687349763,-0.31902410407382276,-0.6640752544720353,-0.28303921709045904,-0.7895484000713854,0.3710781967226025,-0.28303921709045904,-0.5072338224728478,-0.8836532592708978,-0.4712489354894841,-0.7268118272717103,-0.6594586538885092,-0.22030264429078403,-0.6327069680721976,-1.0718629776699231,-0.2562875312741476,-0.8790366586873717,-1.0718629776699231,-0.31440750349029656,0.1561167925072661,-1.3855458416682982,0.31295822450645366,-0.9104049450872091,-0.41312896327333526,1.6036585807723496,-0.47586553607301013,-1.1032312640697604,0.4384313701058034,-1.3181926682850968,-1.0986146634862346,-0.7581801136715478,-0.157566071491109,4.611149503603712,-0.40851236268980917,-0.19355095847447265,-1.197336123269273,-1.0718629776699231,-1.2600726960689481,-1.197336123269273,-0.9463898320705728,-0.47586553607301013,-0.22491924487431011,-0.7221952266881843,0.2815899381066161,0.12474850610742858,-0.0007246394919214715,-1.0718629776699231,-0.4712489354894841,0.057395332724227394,-1.511018987267648,-0.6013386816723602,0.1515001919237399,-1.0045098042867218,-0.2562875312741476,-0.8522849728710603,-0.8790366586873717,0.31295822450645366,-0.09482949869143403,0.6533927743211402,0.658009374904666,-0.6013386816723602,-0.7535635130880218,0.658009374904666,-0.38176067687349763,-0.8476683722875343,-0.6640752544720353,-0.38176067687349763,-0.09944609927496006,-0.5386021088726853,-0.5386021088726853,-0.9463898320705728,-0.6280903674886716,-1.443665813884447,1.3527122895736494,-0.7221952266881843,1.5990419801888234,-0.4398806490896465,-1.2914409824687856,-0.1621826720746351,-0.7535635130880218,-0.6640752544720353,-0.4398806490896465,-0.5072338224728478,-0.7895484000713854,-0.6327069680721976,-0.6013386816723602,-1.0986146634862346,-0.7581801136715478,0.9762928527755995,-0.7849317994878591,-1.4169141280681359,-1.3181926682850968,0.030643646907916045,-1.322809268868623,-0.5699703952725227,-0.5699703952725227,1.7605000127715376,-1.5423872736674855,-1.9501749968653732,-1.1659678368694355,-0.5653537946889968,-0.5653537946889968,-0.6013386816723602,-1.0091264048702475,-1.2287044096691107,-0.8836532592708978,-0.38176067687349763,0.37569479730612854,-0.2516709306906216,1.2539908297906108,1.1912542569909361,-0.6594586538885092,-0.5339855082891591,-1.1345995504695983,-1.0091264048702475,-0.8522849728710603,-0.5699703952725227,-0.5967220810888341,-0.06346121229159651,1.7245151257881735,-0.41312896327333526,-0.9150215456707353,-0.9463898320705728,1.1017659983749495,-1.322809268868623,-1.9188067104655362,-1.1345995504695983,-1.0986146634862346,0.6893776613045036,-0.3771440762899716,-0.8836532592708978,-0.5653537946889968,1.5095537215728372,-1.2600726960689481,-0.7581801136715478,0.24560505112325245,-0.4398806490896465,1.635026867172187,-0.28303921709045904,-0.12619778509127147,-0.6327069680721976,-0.157566071491109,-1.2914409824687856,-0.9731415178868842,-0.5653537946889968,-0.38176067687349763,-0.5967220810888341,-0.5967220810888341,-0.3503923904736601,-0.6908269402883467,1.3213440031738122,-1.1032312640697604,-0.9150215456707353,-0.5967220810888341,-0.5026172218893216,-0.2562875312741476,-0.8163000858876969,-0.7895484000713854,-0.7535635130880218,-0.6954435408718729,-0.8209166864712228,-0.6908269402883467,1.2899757167739745,1.823236585571212,-1.4122975274846095,-0.7535635130880218,0.6220244879213026,1.6931468393883362,-0.28765581767398507,1.3480956889901239,0.9762928527755995,-0.21570203041822608,-0.6908269402883467,-0.5386021088726853,-0.7221952266881843,-1.2914409824687856,-1.0718629776699231,-1.197336123269273,0.9403079657922359,4.391571498804849,4.485676358004361,1.2539908297906108,0.12474850610742858,-0.6327069680721976,-1.2600726960689481,0.9762928527755995,2.0068297033867113,-0.4398806490896465,-1.0718629776699231,-0.8209166864712228,-0.7849317994878591,2.074182876769912,-0.9150215456707353,-0.8836532592708978,-0.5653537946889968,-1.6005072458836347,1.1645025711746244,1.5363054073891484,-0.38176067687349763,1.070397711975112,-1.0672463770863967,-0.6594586538885092,-0.9150215456707353,-0.5339855082891591,-0.6640752544720353,-1.1345995504695983,1.195870857574462,1.446817148773162,1.6617785529884985,1.2899757167739745,0.12474850610742858,4.92021576701856,4.5484129308040355,-0.8209166864712228,4.732006048619535,-0.06346121229159651,1.4108322617897986,-1.5064023866841219,1.195870857574462,1.7605000127715376,0.8775713929925609,1.070397711975112,2.0428145903700745,1.6977634399718624,1.2272391439742996,1.5409220079726746,1.6304102665886608,1.5722902943725117,0.8508197071762493,1.1645025711746244,1.6931468393883362,1.6931468393883362,1.7918682991713748,-0.8209166864712228,1.003044538591911,0.1561167925072661,1.0344128249917486,0.46979965650564104,1.0344128249917486,1.3167274025902862,0.5011519561945107,-0.7895484000713854,-0.6954435408718729,1.5095537215728372,1.007661139175437,0.6893616745935358,1.9127248441871987,1.446817148773162,-0.9150215456707353,-1.2287044096691107,-0.7581801136715478,-1.0091264048702475,0.40706308370596594,-0.3771440762899716,-1.1345995504695983,0.18286847832357742,0.465183055922115,-0.2516709306906216,-1.2287044096691107,-0.28303921709045904,-0.6280903674886716,-0.4712489354894841,-0.5026172218893216,-0.6594586538885092,-0.2516709306906216,0.1515001919237399,-0.8836532592708978,-0.31440750349029656,0.08876361912406493,-0.8522849728710603,-0.6594586538885092,-0.6280903674886716,-1.1659678368694355,-0.4712489354894841,-0.7535635130880218,-1.1032312640697604,-0.22030264429078403,-0.8476683722875343,-1.322809268868623,-1.0718629776699231,-0.6954435408718729,-0.7849317994878591,0.030643646907916045,-1.197336123269273,-0.9150215456707353,-1.0045098042867218,-0.09944609927496006,0.030643646907916045,-1.0718629776699231,0.2815899381066161,-0.5386021088726853,-0.0007246394919214715,-1.322809268868623,-0.9104049450872091,-0.5072338224728478,-1.4169141280681359,0.12013190552390239,0.18748507890710364,-1.8247018512660238,0.18286847832357742,-0.9150215456707353,-1.0986146634862346,-1.0718629776699231,-1.8874384240656987,-1.3541775552684605,-1.197336123269273,-0.6908269402883467,0.12474850610742858,4.8620957948024115,-0.7581801136715478,-1.255456095485422,-0.06807781287512252,-1.1659678368694355,-0.13081438567479756,0.3710781967226025,-0.5653537946889968,-0.5072338224728478,-0.6013386816723602,0.9762928527755995,-1.1032312640697604,-0.31440750349029656,-0.22030264429078403,-0.38176067687349763,-1.255456095485422,-0.2516709306906216,-0.8836532592708978,-0.6640752544720353,1.446817148773162,-0.2516709306906216,-0.8790366586873717,-0.6327069680721976,-0.5386021088726853,-1.322809268868623,-0.5967220810888341,-1.9501749968653732,-0.2562875312741476,-1.1659678368694355,-0.6327069680721976,0.21885336530694105,-0.6954435408718729,-0.6013386816723602,-0.13081438567479756,-0.4398806490896465,0.12474850610742858,-0.47586553607301013,-0.6640752544720353,-0.1621826720746351,-1.8247018512660238,-0.2516709306906216,-0.3457757898901341,-1.129982949886072,-1.6632438186833094,-0.6013386816723602,0.3710781967226025,-1.1345995504695983,-0.28303921709045904,-0.6594586538885092,-0.5072338224728478,-0.06807781287512252,-0.9150215456707353,-0.38176067687349763,-0.5386021088726853,-0.8476683722875343,-0.6954435408718729,1.9754614169868734,1.1912542569909361,1.4108322617897986,-0.6013386816723602,-1.4482824144679733,-0.9150215456707353,-0.6954435408718729,-0.31440750349029656,-1.2287044096691107,1.1912542569909361,-0.5072338224728478,-0.6954435408718729,-0.9104049450872091,-0.6013386816723602,-1.1345995504695983,-1.0091264048702475,-1.1032312640697604,-0.005341240075447611,0.37569479730612854,-0.8209166864712228,-0.13081438567479756,-0.7535635130880218,-0.5653537946889968,-0.9150215456707353,-0.7581801136715478,-0.7581801136715478,-0.5967220810888341,-1.1032312640697604,-0.6280903674886716,-1.6005072458836347,-1.1927195226857468,-1.4482824144679733,-1.0718629776699231,-0.2562875312741476,-1.4482824144679733,-0.7849317994878591,-0.3771440762899716,-0.9104049450872091,-1.443665813884447,-1.0718629776699231,-0.13081438567479756,-0.6327069680721976,-0.7895484000713854,-0.8209166864712228,-0.3503923904736601,-0.8476683722875343,-1.1659678368694355,-0.18893435789094654,1.070397711975112,0.3443265109062912,-0.7221952266881843,-0.5699703952725227,-0.03670952647528509,-0.8522849728710603,0.3443265109062912,-1.3181926682850968,-0.28303921709045904,-0.9463898320705728,0.06201193330775356,-0.7581801136715478,-0.6280903674886716,-0.9463898320705728,-1.5377706730839595,-0.6640752544720353,-0.6640752544720353,-0.6594586538885092,-0.5339855082891591,0.24560505112325245,0.21423676472341494,-0.7268118272717103,-0.3503923904736601,-0.31902410407382276,0.08876361912406493,-0.19355095847447265,-0.47586553607301013,0.3443265109062912,-0.9463898320705728,-1.569138959483797,0.18748507890710364,-0.7268118272717103,-0.005341240075447611,-0.06807781287512252,-1.2287044096691107,-1.1345995504695983,-1.0091264048702475,-0.941773231487047,-0.0007246394919214715,-1.0358780906865592,-0.2516709306906216,-0.6327069680721976,0.1561167925072661,-0.5026172218893216,-0.5653537946889968,-1.197336123269273,0.40706308370596594,-0.9150215456707353,-0.6013386816723602,-0.7268118272717103,-0.7581801136715478,-1.3541775552684605,-1.1032312640697604,-1.3855458416682982,-1.0091264048702475,-1.1659678368694355,-0.8476683722875343,-0.6280903674886716,-0.5026172218893216,-0.6013386816723602,-0.9463898320705728,0.5011679429054786,-0.41312896327333526,-0.7581801136715478,-0.1621826720746351,-0.2516709306906216,-0.5699703952725227,-0.6327069680721976,-0.5072338224728478,0.12474850610742858,-0.7581801136715478,-0.5026172218893216,-0.5339855082891591,0.026027046324389888,-0.18893435789094654,-0.5653537946889968,-0.8163000858876969,-0.6280903674886716,-0.7221952266881843,-0.5386021088726853,-0.28765581767398507,-0.6013386816723602,-0.2562875312741476,-0.8790366586873717,-1.1613512362859093,-0.9104049450872091,-0.4398806490896465,-0.2516709306906216,-1.569138959483797,-1.2287044096691107,-0.6327069680721976,-0.8476683722875343,-0.4398806490896465,-0.2516709306906216,0.09338021970759111,-0.3771440762899716,-0.6640752544720353,-1.0672463770863967,-0.5072338224728478,1.823236585571212,-0.5386021088726853,-0.6954435408718729,-1.4169141280681359,-0.7268118272717103,5.144410372400948,-1.0718629776699231,0.030643646907916045,1.3527122895736494,-0.6327069680721976,-0.41312896327333526,0.12474850610742858,-0.40851236268980917,0.21885336530694105,-0.6640752544720353,-0.41312896327333526,-0.7581801136715478,-0.38176067687349763,-0.6327069680721976,-1.197336123269273,-0.8476683722875343,-0.22491924487431011,-1.0986146634862346,-0.4398806490896465,-0.7535635130880218,-0.8522849728710603,-0.9463898320705728,-1.2600726960689481,-0.0007246394919214715,-0.8790366586873717,-0.3771440762899716,0.2502216517067786,-1.0718629776699231,-0.28765581767398507,-0.19355095847447265,-0.5339855082891591,-0.9150215456707353,-0.7268118272717103,-0.5026172218893216,-1.0045098042867218,-1.197336123269273,1.1912542569909361,-1.0672463770863967,-0.40851236268980917,1.007661139175437,-1.0045098042867218,0.31295822450645366,-0.6640752544720353,-1.0404946912700852,-0.6908269402883467,-0.6908269402883467,-0.8209166864712228,-0.19355095847447265,-0.9731415178868842,-0.7849317994878591,-1.1345995504695983,-1.569138959483797,1.7291317263716997,-1.8874384240656987,1.6663951535720252,-0.28303921709045904,1.6663951535720252,2.074182876769912,1.2899757167739745,-1.1659678368694355,0.31294223779548563,0.9716762521920737,-0.1621826720746351,-0.3771440762899716,1.948709731170562,-0.9731415178868842,-0.03670952647528509,-0.38176067687349763,1.2272391439742996,0.1561167925072661,-0.157566071491109,-0.09482949869143403,-0.31440750349029656,0.9449245663757618,2.5048737009420394,0.09338021970759111,0.09338021970759111,-1.0358780906865592,-0.7849317994878591,-0.38176067687349763,-0.19355095847447265,-0.9777581184704104,1.8546048719710497,-0.8209166864712228,-1.0718629776699231,1.7918682991713748,-0.5653537946889968,2.60744374556715,0.7253465615768995,1.4422005481896358,4.637901189420023,4.485676358004361,4.575164616620349,1.635026867172187,5.139793771817423,1.7918682991713748,0.693978275177062,1.258607430374137,0.9135562799759244,1.9173414447707242,1.7291317263716997,1.6663951535720252,5.018937226801599,1.2226225433907736,1.3167274025902862,1.9754614169868734,1.3480956889901239,1.948709731170562,1.3480956889901239,4.292850039021809,-1.197336123269273,4.391571498804849,2.419234027168125,-0.5967220810888341,1.6663951535720252,4.104640320622785,2.195039421785736,0.4384313701058034,-0.13081438567479756,-0.6594586538885092,-0.8522849728710603,-1.2914409824687856,-1.2914409824687856,-0.3457757898901341,1.1645025711746244,-1.0718629776699231,-0.8209166864712228,-1.0404946912700852,0.5325362293053161,-0.4444972496731728,-0.47586553607301013,-0.5967220810888341,-0.9104049450872091,-0.6327069680721976,-0.7581801136715478,-1.1345995504695983,-0.7581801136715478,-0.6280903674886716,-1.5064023866841219,-0.157566071491109,-0.8209166864712228,-0.9777581184704104,-0.9463898320705728,-0.5386021088726853,0.06201193330775356,-0.5967220810888341,0.24560505112325245,-0.03209292589175899,0.7521142341041788,-0.7535635130880218,-0.4398806490896465,-1.1345995504695983,-0.6013386816723602,-0.03209292589175899,-0.7535635130880218,-0.9104049450872091,0.2502216517067786,-0.6280903674886716,0.5325362293053161,-1.1927195226857468,-0.31440750349029656,-1.1659678368694355,-0.0007246394919214715,-0.7535635130880218,-0.2562875312741476,-0.40851236268980917,-0.0007246394919214715,-0.941773231487047,-0.005341240075447611,-0.06346121229159651,-0.09482949869143403,1.944093130587036,-1.9188067104655362,-0.8790366586873717,0.21423676472341494,-0.03670952647528509,-0.6013386816723602,-0.09944609927496006,-0.8522849728710603,-0.2562875312741476,-0.4712489354894841,0.08876361912406493,-0.18893435789094654,-0.6280903674886716,-1.4169141280681359,-0.12619778509127147,-1.3855458416682982,-0.8522849728710603,0.057395332724227394,-0.7221952266881843,-0.4398806490896465,-1.8874384240656987,-0.3503923904736601,0.12474850610742858,-1.2600726960689481,-0.6594586538885092,-0.03209292589175899,-0.3503923904736601,-1.2287044096691107,-0.8836532592708978,-0.7268118272717103,-1.1345995504695983,-1.9501749968653732,-1.511018987267648,-0.40851236268980917,0.43381476952227743,-0.4398806490896465,-1.129982949886072,-1.1345995504695983,-0.9777581184704104,-0.5386021088726853,0.27697333752308995,-1.197336123269273,-1.1345995504695983,-1.3541775552684605,-0.5699703952725227,-0.31440750349029656,-0.3771440762899716,-1.5377706730839595,-1.197336123269273,-0.9731415178868842,-0.9463898320705728,-0.5339855082891591,-1.5737555600673232,0.46979965650564104,-0.6013386816723602,-0.09482949869143403,-0.5653537946889968,0.08876361912406493,-1.5423872736674855,-0.9104049450872091,-0.5072338224728478,-0.6280903674886716,-1.0045098042867218,-0.3503923904736601,-0.31440750349029656,1.2853591161904483,-0.3503923904736601,-1.197336123269273,0.4384313701058034,4.54379633022051,4.736622649203061,-0.28765581767398507,2.0114463039702373,-0.9104049450872091,-1.3855458416682982,-0.7581801136715478,-1.5423872736674855,-1.197336123269273,-0.2562875312741476,-0.7895484000713854,-0.6640752544720353,0.09338021970759111,-0.38176067687349763,0.12474850610742858,-0.5653537946889968,-1.197336123269273,-0.8163000858876969,-0.6640752544720353,-1.0718629776699231,-0.6327069680721976,0.21885336530694105,-0.6280903674886716,-0.28765581767398507,-0.7581801136715478,-1.0718629776699231,-0.22491924487431011,0.030643646907916045,-0.4444972496731728,1.4735688345894733,-0.0007246394919214715,-0.9777581184704104,-0.06346121229159651,-1.1345995504695983,-0.9463898320705728,0.6266410885048285,-0.28303921709045904,-0.18893435789094654,0.21885336530694105,0.12474850610742858,-1.0091264048702475,-0.8522849728710603,-1.0045098042867218,0.52791962872179,-0.6013386816723602,-0.8163000858876969,-0.8522849728710603,0.1561167925072661,0.1515001919237399,-0.5339855082891591,-1.0091264048702475,-1.3541775552684605,-0.5339855082891591,-0.941773231487047,-0.7268118272717103,-0.9731415178868842,-0.005341240075447611,1.3794639753899611,-1.0091264048702475,-0.19355095847447265,-0.2562875312741476,0.1561167925072661,-0.8522849728710603,-0.28765581767398507,0.2502216517067786,-0.6327069680721976,-0.28303921709045904,-0.5026172218893216,-0.18893435789094654,-0.7535635130880218,-0.9104049450872091,0.8102342063203277,-1.6318755322834726,-0.5072338224728478,-1.2287044096691107,-0.8836532592708978,0.5325362293053161,0.4384313701058034],\"xaxis\":\"x\",\"y\":[-0.9428191641847338,-1.3261930995575095,-1.0509502741617058,0.7349603401913136,-0.9034987605568136,1.0495235692150844,0.7546205420052993,0.7447904410983065,1.00037306468012,0.7054700374703353,0.7447904410983065,0.9610526610521489,-1.1590813841386272,0.843091450168235,0.9315623583311703,0.7447904410983065,0.9610526610521489,-0.9526492650917777,0.784110844726278,0.8037710465402638,1.2854459909829123,1.0251740346928204,-0.9624793659987704,0.9217322574241775,-1.1197609805106559,0.7644506429122921,1.010203165587113,0.784110844726278,0.8922419547031989,-0.7902268823811777,1.1773148810059912,-1.0607803750686986,0.8037710465402638,0.8627516519822207,1.0888439728430557,0.843091450168235,-0.8051977514868852,0.7644506429122921,-0.8936686596498202,1.2316061537396703,1.005513832878835,-0.9278482950790774,0.7695914111110066,1.020033266494106,-1.3065328977435198,-1.1047901114049483,0.7054700374703353,-0.8295472860091488,-0.9428191641847847,-1.3753436040924698,1.064494438320792,-0.8983579923580988,0.8234312483542492,-0.7068967424169565,-1.2129212213818699,0.9905429637731273,-1.178741585952613,0.9413924592381631,0.8627516519822207,0.7644506429122921,1.2414362546466629,0.858062319273942,-1.00648910233502,-1.16891148504562,0.7546205420052993,-1.1146202123119413,-1.0261493041490057,1.1379944773780197,-0.9769987996140415,-0.9231589623707988,1.0298633674010989,-1.1885716868596057,0.7742807438192854,-1.1295910814176486,-0.7509064787532064,-0.9034987605568136,-0.9278482950790774,0.8384021174599566,-0.8885278914511059,-1.2129212213818699,-0.8786977905441131,0.7742807438192854,-1.0902706777896771,-1.2227513222888626,0.8529215510752278,-1.0312900723477205,1.0691837710290701,-0.8295472860091488,-1.1441105150329198,-0.7705666805671918,1.1431352455767345,1.1824556492047056,-0.8543482560218488,-0.8740084578358346,1.064494438320792,1.035004135599813,-1.1441105150329198,1.0939847410417702,0.843091450168235,-0.9769987996140415,1.054664337413799,-1.1590813841386272,1.0593536701220774,-1.1539406159399126,0.9413924592381631,-1.1295910814176486,-0.9821395678127561,-1.016319203242013,0.715300138377328,1.0986740737500487,-0.46512889160726656,-0.9573385978000557,0.8922419547031989,0.8777225210879278,1.44857303453666,1.1234750437627488,0.858062319273942,0.7597613102040137,0.6221398975061142,-1.07529980868397,0.9760235301578565,-1.1885716868596057,0.8627516519822207,1.1085041746570414,1.103814841948763,-0.9671686987070489,-0.9671686987070489,1.30041686008862,-0.9769987996140415,-0.8393773869161416,0.7401011083900282,-0.8786977905441131,-1.1590813841386272,1.3200770619026054,-0.996659001428027,-1.0261493041490057,0.9760235301578565,1.0448342365068064,1.281461319117782,-0.15056566258349594,0.8234312483542492,-1.1984017877665984,-1.109930879603663,0.8332613492612422,-1.2030911204748767,1.221776052832677,-0.9428191641847847,-0.9475084968930629,-1.1394211823246412,-1.0706104759756916,-0.8983579923580988,-1.1047901114049483,-0.14073556167650317,0.7742807438192854,-1.0312900723477205,0.951222560145156,0.8627516519822207,1.1234750437627488,-1.2227513222888626,0.843091450168235,-0.8590375887301276,0.8529215510752278,0.8332613492612422,0.8529215510752278,0.9020720556101917,1.020033266494106,0.8922419547031989,-0.7509064787532064,-0.9376783959860702,-0.2292064698394386,0.9315623583311703,-1.262071725916834,0.7597613102040137,-0.9573385978000557,-0.26852687346740983,0.8332613492612422,-0.35699778163034546,-0.5142793961422306,-1.0312900723477205,-0.9769987996140415,1.00037306468012,0.926873025622892,-0.991969668719749,0.715300138377328,0.7742807438192854,-1.0458095059629915,-1.2868726959295342,-1.178741585952613,0.8037710465402638,0.7054700374703353,-0.8688676896371202,-1.0851299095909623,-0.8346880542078635,0.926873025622892,-1.1197609805106559,1.3987178691585485,-1.0116298705337343,0.8136011474472565,0.6858098356563493,-1.1295910814176486,-1.109930879603663,0.6811205029480709,0.9708827619591417,-0.819717185102156,-0.8641783569288419,0.951222560145156,1.00037306468012,1.0298633674010989,-0.258696772560417,-1.124450313218934,-0.996659001428027,-1.1394211823246412,1.6353449517695242,-1.178741585952613,0.7939409456332708,0.7742807438192854,-0.7803967814741849,-0.9231589623707988,0.9119021565171849,0.9020720556101917,0.9905429637731273,0.784110844726278,-1.0116298705337343,0.8136011474472565,-0.9376783959860702,-0.8641783569288419,-1.178741585952613,0.7939409456332708,0.9217322574241775,-0.9821395678127561,0.6661496338423638,1.5861944472345593,0.843091450168235,0.8187419156459709,-0.2783569743744027,1.7631362635604308,0.715300138377328,1.064494438320792,-1.0949600104979555,1.2264653855409555,-0.34716768072335263,1.7533061626534374,0.8529215510752278,-1.2377221913945697,1.0495235692150844,0.725130239284321,0.8136011474472565,0.784110844726278,0.7742807438192854,-1.16891148504562,-1.497994147684662,-1.2770425950225417,1.1824556492047056,0.8384021174599566,0.7447904410983065,-0.7757074487659065,0.8824118537962062,-0.7953676505798923,-1.2180619895805842,0.8037710465402638,-1.1394211823246412,0.9119021565171849,-1.1001007786966701,0.9905429637731273,-1.227892090487577,-1.227892090487577,1.010203165587113,1.290586759181627,1.8221168690023877,-0.8641783569288419,-1.3851737049994621,0.7939409456332708,0.8136011474472565,0.7349603401913136,0.8627516519822207,1.0691837710290701,0.9119021565171849,0.725130239284321,0.843091450168235,1.010203165587113,-1.2180619895805842,1.1183342755640342,0.8529215510752278,-0.9133288614638062,0.9217322574241775,-0.9133288614638062,-0.31767737800237406,-0.8983579923580988,-0.991969668719749,-1.0017997696267418,0.9610526610521489,-1.134280414125927,0.7742807438192854,1.2657857891689268,-1.1590813841386272,-1.1197609805106559,0.6563195329353709,0.784110844726278,0.9020720556101917,1.2657857891689268,-1.041120173254713,0.8824118537962062,1.314936293703891,1.1674847800989985,-1.1197609805106559,0.784110844726278,0.8627516519822207,0.9708827619591417,1.2854459909829123,1.2166352846339625,0.725130239284321,0.8824118537962062,0.843091450168235,0.7939409456332708,1.1085041746570414,1.2264653855409555,-1.1197609805106559,-1.16891148504562,0.9708827619591417,1.0691837710290701,0.8529215510752278,-1.1394211823246412,0.725130239284321,0.7054700374703353,1.3247663946108836,-1.1590813841386272,0.9315623583311703,1.3640867982388554,-1.2424115241028484,-1.055639606869984,0.7499312092970211,-0.4356385888862881,0.9217322574241775,0.7447904410983065,-0.9133288614638062,1.1674847800989985,-1.1590813841386272,-0.9133288614638062,0.7644506429122921,1.00037306468012,-1.1885716868596057,-0.8936686596498202,0.9217322574241775,1.020033266494106,-1.0804405768826844,0.9413924592381631,-0.7855375496728989,0.7401011083900282,-1.227892090487577,-1.109930879603663,0.8725817528892134,0.9956837319718418,-1.0654697077769772,0.7447904410983065,-0.2193763689324456,-1.1001007786966701,-0.932989063277792,1.1529653464837273,0.8332613492612422,1.005513832878835,0.9020720556101917,-0.8000569832881705,1.2512663555536558,-1.1984017877665984,1.0888439728430557,0.9315623583311703,0.8234312483542492,-0.35699778163034546,0.843091450168235,-1.16891148504562,-0.9428191641847847,0.843091450168235,-1.0017997696267418,-1.0214599714407273,0.8627516519822207,0.9708827619591417,0.8037710465402638,-1.1146202123119413,-1.0116298705337343,1.020033266494106,-0.7363870451379351,1.0396934683080916,0.8136011474472565,0.7349603401913136,0.6464894320283783,0.843091450168235,0.8332613492612422,-1.1295910814176486,-0.8936686596498202,1.0691837710290701,1.8122867680953945,0.951222560145156,0.6909506038550641,0.7939409456332708,-1.3261930995575053,-1.1001007786966701,0.7546205420052993,1.0495235692150844,1.010203165587113,-0.9769987996140415,-1.050950274161706,0.9315623583311703,-1.016319203242013,0.8725817528892134,0.6169991293073999,-1.2475522923015627,-0.8248579533008707,0.8922419547031989,-1.0804405768826844,1.1478245782850127,-0.991969668719749,0.6563195329353709,-1.124450313218934,-0.4454686897932809,-1.0949600104979555,-1.2377221913945697,0.8529215510752278,1.0593536701220774,-0.2783569743744027,-1.4783339458706761,0.8922419547031989,0.784110844726278,-1.041120173254713,0.9315623583311703,0.9760235301578565,0.8824118537962062,0.8234312483542492,-1.0312900723477205,0.843091450168235,-1.041120173254713,0.7939409456332708,-0.8936686596498202,-1.0706104759756916,1.1183342755640342,-1.0607803750686986,0.7447904410983065,0.7939409456332708,-0.8346880542078635,-0.9231589623707988,1.020033266494106,1.1281643764710274,-1.0607803750686986,0.7546205420052993,0.7742807438192854,0.9563633283438705,-0.7214161760322279,-0.30784727709538123,-0.7953676505798923,0.9760235301578565,-0.8098870841951632,0.8973827229019137,-0.8983579923580988,-0.258696772560417,-1.193261019567884,1.3299071628095986,0.6956399365633421,0.951222560145156,-1.1001007786966701,-1.227892090487577,-1.2180619895805842,-0.996659001428027,0.8824118537962062,-1.0214599714407273,0.8627516519822207,0.725130239284321,-0.6675763387889855,1.2461255873549408,1.1281643764710274,-1.2573823932085557,-0.9821395678127561,1.1085041746570414,0.6956399365633421,1.1281643764710274,0.725130239284321,-0.26852687346740983,-1.00648910233502,-1.2082318886735914,1.684495456304488,0.8777225210879278,-0.8000569832881705,1.0593536701220774,-0.6329452678692922,0.9020720556101917,-0.9868289005210346,0.715300138377328,-1.109930879603663,1.0298633674010989,-1.178741585952613,0.7546205420052993,1.0298633674010989,0.843091450168235,-1.1001007786966701,-1.015614542398866,-1.1736008177538986,0.9217322574241775,-1.1394211823246412,1.1478245782850127,1.0790138719360631,0.7054700374703353,-1.1295910814176486,0.7349603401913136,-1.0706104759756916,0.7349603401913136,-0.7214161760322279,0.715300138377328,0.7939409456332708,0.951222560145156,0.9217322574241775,1.3299071628095986,0.7939409456332708,1.1478245782850127,-1.0214599714407273,0.9315623583311703,0.7742807438192854,-1.0706104759756916,-0.8641783569288419,-0.9526492650917777,0.9610526610521489,-1.1197609805106559,-0.8051977514868852,1.3247663946108836,0.9020720556101917,0.784110844726278,-1.0312900723477205,-0.5889355315330423,-0.991969668719749,-1.1197609805106559,-0.9526492650917777,-1.2475522923015627,0.843091450168235,-1.16891148504562,0.5186981202374715,0.8234312483542492,-0.9475084968930629,1.020033266494106,-0.8492074878231348,-0.9821395678127561,1.00037306468012,0.7939409456332708,-1.4441543104414196,-0.8445181551148563,-1.4441543104414196,0.9610526610521489,-1.2770425950225417,0.7892516129249927,0.7204409065760424,1.0743245392277845,-1.0607803750686986,0.7349603401913136,0.9217322574241775,1.1183342755640342,-1.016319203242013,-1.2180619895805842,-0.4552987907002739,-0.4749589925142594,-0.8885278914511059,0.7939409456332708,-1.0902706777896771,0.8529215510752278,0.9020720556101917,-1.016319203242013,1.0298633674010989,-1.0902706777896771,0.8725817528892134,1.1085041746570414,0.951222560145156,-1.109930879603663,-1.0607803750686986,0.9020720556101917,0.9119021565171849,-0.8051977514868852,1.0888439728430557,0.7742807438192854,1.5763643463275667,0.9413924592381631,-1.055639606869984,0.7546205420052993,0.9072128238089062,1.1183342755640342,0.8234312483542492,-1.178741585952613,0.7939409456332708,0.715300138377328,0.7546205420052993,1.0396934683080916,-1.1197609805106559,1.2068051837269698,-0.8983579923580988,-0.7462171460449278,1.0396934683080916,-0.5142793961422306,-1.355683402278484,0.8875526219949208,0.7546205420052993,1.0986740737500487,1.0593536701220774,1.00037306468012,-0.932989063277792,1.3640867982388554,-1.1001007786966701,1.1183342755640342,0.7447904410983065,0.8136011474472565,0.7939409456332708,-1.227892090487577,1.0396934683080916,-1.2475522923015627,1.010203165587113,0.7054700374703353,0.4990379184234855,1.0298633674010989,0.7644506429122921,-1.2325814231958554,0.9465332274368777,-0.8936686596498202,-1.1295910814176486,-1.0607803750686986,-0.9821395678127561,-0.9034987605568136,0.5776787256794285,1.0298633674010989,1.010203165587113,-0.6919258733112493,-1.178741585952613,0.9661934292508634,-1.5078242485916546,0.8234312483542492,-0.760736579660199,-0.7509064787532064,1.00037306468012,-1.4048339068134483,-1.1001007786966701,-1.0902706777896771,-0.991969668719749,0.8529215510752278,1.0298633674010989,0.9807128628661347,0.7054700374703353,0.5186981202374715,1.020033266494106,1.1478245782850127,1.0298633674010989,0.725130239284321,0.9807128628661347,0.951222560145156,-0.7068967424169565,-0.972309466905763,0.9020720556101917,-1.2475522923015627,-0.8936686596498202,1.113644942855756,0.8384021174599566,0.7939409456332708,-1.1001007786966701,-1.4638145122554054,0.8136011474472565,-1.1885716868596057,-1.050950274161706,-1.5078242485916546,-0.8885278914511059,0.8136011474472565,-0.7017559742182419,0.5336689893431785,-0.5241094970492237,0.9708827619591417,-1.3163629986505125,-0.8248579533008707,1.1379944773780197,1.1478245782850127,1.0396934683080916,1.064494438320792,-1.1736008177538986,0.8627516519822207,-0.760736579660199,-0.9376783959860702,-1.0804405768826844,0.8037710465402638,-1.1001007786966701,0.8725817528892134,1.5861944472345593,0.7939409456332708,0.8136011474472565,1.1824556492047056,1.2657857891689268,-1.0017997696267418,-1.041120173254713,-0.6380860360680066,-0.6380860360680066,1.2166352846339625,-0.9671686987070489,0.651630200227093,0.9119021565171849,0.9905429637731273,-1.109930879603663,-0.7560472469519212,-0.996659001428027,0.858062319273942,0.784110844726278,-0.7705666805671918,1.0396934683080916,-1.2672124941155485,0.8627516519822207,-1.2475522923015627,0.7204409065760424,-1.2227513222888626,1.3739168991458477,-1.2475522923015627,0.725130239284321,0.8824118537962062,-0.8346880542078635,-0.7167268433239494,-1.0312900723477205,-0.8543482560218488,0.7546205420052993,0.9217322574241775,0.985853631064849,-1.1001007786966701,-1.124450313218934,0.8973827229019137,0.8234312483542492,1.010203165587113,-0.972309466905763,-1.178741585952613,-1.2082318886735914,-1.0902706777896771,-1.0706104759756916,-1.1197609805106559,1.1379944773780197,-1.0706104759756916,-1.109930879603663,-0.9624793659987704,-0.8346880542078635,-1.1001007786966701,-1.109930879603663,0.7990817138319852,1.005513832878835,1.7533061626534374,0.7939409456332708,-0.932989063277792,-0.4061482861653096,-0.42580848797929494,-0.996659001428027,-0.8393773869161416,-0.7560472469519212,-1.3163629986505125,1.7631362635604308,-1.0458095059629915,-1.2573823932085557,-1.16891148504562,0.8824118537962062,1.00037306468012,0.8725817528892134,1.010203165587113,-1.109930879603663,1.1379944773780197,-0.6329452678692922,0.9217322574241775,-0.991969668719749,-1.0804405768826844,1.0251740346928204,-1.0017997696267418,0.9315623583311703,0.8725817528892134,-1.0804405768826844,0.9119021565171849,-1.1047901114049483,0.8332613492612422,-1.1590813841386272,0.7742807438192854,0.784110844726278,-0.8641783569288419,0.7546205420052993,-0.9034987605568136,-0.8740084578358346,0.7644506429122921,1.0396934683080916,0.843091450168235,-1.0116298705337343,0.9760235301578565,-0.5535997997702021,0.985853631064849,-1.0607803750686986,1.1478245782850127,-1.0312900723477205,-0.9671686987070489,-0.9180181941720844,-1.2227513222888626,-1.1197609805106559,0.8037710465402638,-1.0706104759756916,0.8627516519822207,-1.1001007786966701,-1.2180619895805842,0.8922419547031989,0.843091450168235,0.715300138377328,-0.8983579923580988,0.9072128238089062,0.7447904410983065,-1.1834309186608911,-0.2783569743744027,-1.00648910233502,0.725130239284321,1.0593536701220774,1.221776052832677,-1.0312900723477205,-1.016319203242013,-1.1590813841386272,-1.1001007786966701,-1.1441105150329198,-1.0804405768826844,-0.7265569442309421,0.8627516519822207,-0.883838558742828,-0.8740084578358346,-0.883838558742828,0.9708827619591417,0.843091450168235,-0.9034987605568136,1.1674847800989985,0.8529215510752278,-1.1001007786966701,-1.2672124941155485,-0.819717185102156,0.8234312483542492,1.2316061537396703,0.9170429247158991,-1.041120173254713,0.858062319273942,0.9610526610521489,-1.227892090487577,-1.2377221913945697,-1.109930879603663,-1.0017997696267418,-0.9573385978000557,0.926873025622892,0.843091450168235,1.0396934683080916,0.9315623583311703,-0.9034987605568136,0.7644506429122921,-0.9624793659987704,-1.0607803750686986,0.8136011474472565,1.3345964955178766,-0.7757074487659065,-1.16891148504562,0.5481884229584497,1.035004135599813,-1.350542634079769,1.6550051535835095,-1.1197609805106559,-0.991969668719749,-1.2377221913945697,0.5776787256794285,0.715300138377328,-1.1590813841386272,-0.9133288614638062,0.7349603401913136,-1.2868726959295342,-1.1295910814176486,-1.0017997696267418,-1.2573823932085557,0.6169991293073999,-1.0017997696267418,1.064494438320792,-1.0458095059629915,0.538358322051457,-1.178741585952613,-0.9180181941720844,-1.0359794050559985,0.9465332274368777,0.715300138377328,-1.3851737049994621,0.6661496338423638,0.8234312483542492,-0.8445181551148563,-1.16891148504562,1.020033266494106,-1.109930879603663,-1.1146202123119413,1.0396934683080916,1.2512663555536558,1.6353449517695242,-0.9231589623707988,1.064494438320792,-1.2672124941155485,-1.1984017877665984,-1.2377221913945697,1.1576546791920055,0.9217322574241775,-0.42580848797929494,1.1529653464837273,1.2068051837269698,0.951222560145156,0.7939409456332708,-1.1885716868596057,-1.0804405768826844,1.7533061626534374,0.9020720556101917,1.035004135599813,-1.0607803750686986,1.4584031354436526,-1.1394211823246412,-1.497994147684662,-0.8248579533008707,0.725130239284321,0.6811205029480709,0.9708827619591417,-1.1197609805106559,1.0888439728430557,0.8824118537962062,0.9956837319718418,0.5678486247724357,-1.178741585952613,-0.8641783569288419,1.2610964564606484,-0.9034987605568136,0.9020720556101917,0.951222560145156,-0.8885278914511059,1.020033266494106,-1.0706104759756916,-1.0214599714407273,1.3247663946108836,-1.2180619895805842,-1.0017997696267418,0.9413924592381631,-1.2475522923015627,-1.2129212213818699,-0.8492074878231348,-0.7115860751252348,0.9367031265298849,-0.30784727709538123,-1.0359794050559985,-0.9868289005210346,-1.00648910233502,0.9807128628661347,0.6169991293073999,0.538358322051457,0.7742807438192854,1.113644942855756,-1.2817319277308197,1.1922857501116984,-0.8295472860091488,0.8136011474472565,1.2362954864479483,-0.8641783569288419,-0.9475084968930629,0.8627516519822207,-0.8590375887301276,1.1773148810059912,-1.2573823932085557,-0.996659001428027,-0.9769987996140415,-0.46512889160726656,0.808911814738978,0.8332613492612422,-1.0214599714407273,1.1674847800989985,0.8922419547031989,-0.9428191641847847,0.784110844726278,0.5776787256794285,-0.3275074789093667,1.16279544739072,1.3797623281877098,-0.9868289005210346,-0.9868289005210346,1.0691837710290701,-0.9573385978000557,0.6614603011340854,-1.0804405768826844,0.6169991293073999,-1.1001007786966701,-0.8641783569288419,-1.050950274161706,1.2854459909829123,-0.8248579533008707,1.1085041746570414,0.9610526610521489,0.725130239284321,0.9610526610521489,-1.0706104759756916,-1.2573823932085557,0.7054700374703353,1.0153439337858277,0.8725817528892134,-1.0116298705337343,-1.2377221913945697,0.7644506429122921,0.7447904410983065,1.7041556581184742,-1.1394211823246412,-0.2881870752813955,-1.178741585952613,-0.8492074878231348,-0.8641783569288419,-0.2292064698394386,-1.2770425950225417,-1.2475522923015627,-0.9428191641847847,-1.2868726959295342,-1.0116298705337343,1.0495235692150844,-0.9671686987070489,-0.8393773869161416,-1.1146202123119413,0.926873025622892,-0.9821395678127561,0.7794215120179999,-0.7017559742182419,-0.15570643078221016,-0.972309466905763,0.9610526610521489,1.556704144513581,-1.0261493041490057,0.7401011083900282,-1.0851299095909623,1.733645960839452,-1.1047901114049483,-1.055639606869984,1.064494438320792,-1.0851299095909623,-0.4356385888862881,-0.691221212468102,-1.0902706777896771,-1.178741585952613,-1.041120173254713,-0.8936686596498202,1.1281643764710274,1.2166352846339625,0.9610526610521489,-0.991969668719749,-0.9133288614638062,-0.9133288614638062,0.843091450168235,0.8627516519822207,0.538358322051457,0.7546205420052993,0.8136011474472565,-0.9428191641847847,-1.2672124941155485,0.784110844726278,-1.0902706777896771,-0.932989063277792,1.035004135599813,-0.6125804052121592,0.8037710465402638,1.054664337413799,0.7106108056690497,-0.9573385978000557,-1.227892090487577,0.8187419156459709,-0.991969668719749,-1.1834309186608911,-1.134280414125927,0.843091450168235,-1.1736008177538986,-0.46512889160726656,0.725130239284321,-1.0359794050559985,-1.1590813841386272,-0.991969668719749,-0.20954626802545281,1.2512663555536558,0.7447904410983065,-1.2475522923015627,0.8627516519822207,-1.0607803750686986,0.9217322574241775,0.6661496338423638,0.8725817528892134,-1.1492512832316344,-0.8740084578358346,1.1183342755640342,0.8922419547031989,-1.2377221913945697,-0.9821395678127561,-1.262071725916834,-1.2030911204748767,-0.258696772560417,0.9315623583311703,-0.8346880542078635,1.010203165587113,0.843091450168235,-1.109930879603663,-0.9821395678127561,0.9807128628661347,-1.1001007786966701,-1.0214599714407273,1.0593536701220774,-1.0706104759756916,-1.227892090487577,-1.0804405768826844,0.8777225210879278,-0.8786977905441131,0.7401011083900282,-0.7560472469519212,0.6858098356563493,0.8922419547031989,-1.0706104759756916,-1.1197609805106559,0.784110844726278,0.8875526219949208,0.9807128628661347,0.784110844726278,0.9217322574241775,0.7644506429122921,-1.0607803750686986,-0.9376783959860702,-1.0607803750686986,-1.1441105150329198,-1.0261493041490057,-1.16891148504562,1.0790138719360631,-1.0214599714407273,0.951222560145156,0.7644506429122921,0.7401011083900282,0.9072128238089062,-0.1702258643974814,-1.3753436040924698,0.9020720556101917,1.1871449819129842,-1.1885716868596057,-1.1001007786966701,-0.972309466905763,-0.7363870451379351,1.1773148810059912,1.020033266494106,-1.1590813841386272,-1.016319203242013,-1.262071725916834,0.8187419156459709,1.0841546401347775,-1.0214599714407273,-1.0902706777896771,1.1333051446697417,0.7939409456332708,1.0298633674010989,-1.0654697077769772,0.7939409456332708,-1.1197609805106559,-0.8393773869161416,1.103814841948763,-0.9034987605568136,-0.8590375887301276,-1.0359794050559985,-1.0706104759756916,-1.1295910814176486,-0.15056566258349594,-1.2180619895805842,-1.1394211823246412,0.9119021565171849,0.9610526610521489,-1.16891148504562,0.951222560145156,0.7742807438192854,0.8529215510752278,-1.050950274161706,-0.9671686987070489,-0.9624793659987704,-0.9133288614638062,0.8922419547031989,0.9413924592381631,-1.0017997696267418,-1.2868726959295342,-1.1984017877665984,0.8529215510752278,-0.991969668719749,-0.8786977905441131,-0.996659001428027,-0.9376783959860702,1.035004135599813,0.9217322574241775,-0.8688676896371202,1.1922857501116984,-0.7855375496728989,1.1333051446697417,0.5631592920641572,-1.2770425950225417,0.8136011474472565,-1.2573823932085557,-1.1492512832316344,-0.9428191641847847,-1.1001007786966701,0.7054700374703353,0.9217322574241775,1.0396934683080916,1.1824556492047056,-1.109930879603663,0.8136011474472565,-0.9769987996140415,-0.2881870752813955,0.9807128628661347,-1.4638145122554054,1.1234750437627488,0.8973827229019137,1.255955688261934,0.9661934292508634,0.7597613102040137,-0.30784727709538123,1.064494438320792,-0.5987656324400354,0.8725817528892134,1.1431352455767345,-1.0017997696267418,-0.8051977514868852,-1.2868726959295342,-1.3065328977435198,0.9020720556101917,-1.2082318886735914,0.784110844726278,-1.0607803750686986,0.8824118537962062,-1.1590813841386272,-1.109930879603663,-1.2573823932085557,0.7644506429122921,-0.7167268433239494,-0.9671686987070489,0.7939409456332708,1.0888439728430557,1.6746653553974953,1.054664337413799,-1.178741585952613,-0.8936686596498202,1.2166352846339625,-1.0706104759756916,-1.1590813841386272,0.8627516519822207,0.8824118537962062,-1.0902706777896771,0.7054700374703353,1.035004135599813,1.00037306468012,0.8725817528892134,0.8234312483542492,1.0153439337858277,0.6614603011340854,-0.8786977905441131,1.556704144513581,0.7644506429122921,0.9020720556101917,0.8922419547031989,1.2461255873549408,1.6550051535835095,-1.193261019567884,-0.7363870451379351,-0.8936686596498202,1.0396934683080916,-1.2475522923015627,-1.1394211823246412,0.8973827229019137,0.843091450168235,-1.0902706777896771,1.0495235692150844,-1.0312900723477205,-0.8641783569288419,-1.0902706777896771,0.9119021565171849,0.9020720556101917,0.9708827619591417,0.9413924592381631,-0.991969668719749,-0.8051977514868852,-1.0359794050559985,-0.9821395678127561,-0.31767737800237406,1.44857303453666,1.3102469609956129,-0.9475084968930629,1.0153439337858277,-0.6722656714972638,-0.8936686596498202,-0.9034987605568136,-0.4356385888862881,-0.7214161760322279,-0.38648808435132387,1.2657857891689268,-0.9081880932650915,-0.7115860751252348,1.1333051446697417,1.5861944472345593,-1.0312900723477205,1.0986740737500487,-1.0017997696267418,0.9217322574241775,1.6451750526765168,0.6956399365633421,0.9563633283438705,0.7302710074830353,-1.2573823932085557,0.7447904410983065,0.9807128628661347,-0.8936686596498202,-0.34716768072335263,0.784110844726278,-0.9671686987070489,-0.760736579660199,-1.1492512832316344,1.005513832878835,0.7742807438192854,0.8136011474472565,1.1674847800989985,0.8529215510752278,0.8037710465402638,-1.0902706777896771,0.8922419547031989,1.7041556581184742,0.843091450168235,-0.9034987605568136,0.6563195329353709,0.538358322051457,-0.9081880932650915,0.8529215510752278,1.1824556492047056,-0.9526492650917777,-1.124450313218934,1.5763643463275667,-1.0359794050559985,0.8875526219949208,1.2512663555536558,0.7007807047620569,0.9708827619591417,-1.0654697077769772,-1.0458095059629915,0.7644506429122921,-1.041120173254713,-1.178741585952613,-1.1394211823246412,0.9610526610521489,-0.932989063277792,-1.0706104759756916,1.0593536701220774,0.7546205420052993,-0.7560472469519212,-1.2770425950225417,0.7742807438192854,0.7546205420052993,-1.178741585952613,-1.1984017877665984,0.8482322183669496,1.020033266494106,0.8234312483542492,0.6956399365633421,0.8037710465402638,0.9661934292508634,0.9217322574241775,0.7892516129249927,0.9413924592381631,0.7644506429122921,-1.2475522923015627,0.784110844726278,-1.4539844113484122,-1.0902706777896771,-1.2082318886735914,-0.9769987996140415,-0.9278482950790774,-0.883838558742828,-1.1197609805106559,-1.1590813841386272,-1.0804405768826844,-0.8492074878231348,1.6156847499555378,0.8136011474472565,0.7990817138319852,-0.20954626802545281,1.5272138417926027,-0.819717185102156,-1.0261493041490057,-0.8885278914511059,-0.8393773869161416,-0.19971616711846013,-1.2030911204748767,-0.819717185102156,1.3397372637165912,-0.6231151669622994,-0.258696772560417,-1.2227513222888626,1.7631362635604308,-0.9133288614638062,0.951222560145156,-1.0017997696267418,-1.1001007786966701,-0.8740084578358346,1.1969750828199772,1.0593536701220774,-1.3065328977435198,-0.9231589623707988,-1.0804405768826844,-1.1984017877665984,-0.991969668719749,0.8627516519822207,0.9315623583311703,0.8529215510752278,-1.0017997696267418,1.2461255873549408,-1.109930879603663,-0.8346880542078635,-1.109930879603663,1.1085041746570414,-0.9428191641847847,-1.1394211823246412,1.1871449819129842,0.7447904410983065,-1.1885716868596057,-1.178741585952613,-0.8543482560218488,-1.0607803750686986,-0.4847890934212522,0.7546205420052993,-1.00648910233502,1.005513832878835,-1.1984017877665984,0.8285720165529639,-1.0312900723477205,0.9170429247158991,-1.0804405768826844,0.8384021174599566,1.3895924290947033,0.9956837319718418,0.7546205420052993,-0.8983579923580988,-1.0017997696267418,1.2068051837269698,-1.134280414125927,-0.9231589623707988,0.7054700374703353,0.9020720556101917,0.7546205420052993,0.8922419547031989,1.1773148810059912,1.1085041746570414,-1.2377221913945697,-1.0902706777896771,1.1379944773780197,0.8529215510752278,0.8725817528892134,1.010203165587113,0.8824118537962062,0.843091450168235,-1.2573823932085557,-0.9526492650917777,-1.2377221913945697,0.8627516519822207,-1.0116298705337343,1.432897504587805,0.9708827619591417,-0.8445181551148563,0.8922419547031989,0.9119021565171849,1.1773148810059912,-1.227892090487577,0.6071690284004067,-0.815027852393878,-1.1197609805106559,-1.0214599714407273,0.9708827619591417,0.8037710465402638,-0.8590375887301276,0.9315623583311703,0.9956837319718418,-0.8936686596498202,-0.9821395678127561,-1.07529980868397,0.9315623583311703,1.7729663644674236,-0.991969668719749,-0.815027852393878,0.7939409456332708,1.2264653855409555,-0.9133288614638062,-1.050950274161706,-1.0607803750686986,-1.1295910814176486,0.715300138377328,0.9315623583311703,0.9413924592381631,-1.0607803750686986,0.7054700374703353,-1.1492512832316344,0.7302710074830353,0.7546205420052993,0.7499312092970211,-0.30784727709538123,-0.3275074789093667,1.113644942855756,0.6661496338423638,0.8627516519822207,1.0790138719360631,-1.0851299095909623,-1.124450313218934,1.7139857590254663,-1.0312900723477205,1.0495235692150844,0.8234312483542492,-1.1001007786966701,0.9708827619591417,0.9708827619591417,1.0396934683080916,0.6956399365633421,1.2756158900759198,-0.9624793659987704,-1.1885716868596057,-1.0706104759756916,0.9905429637731273,0.9020720556101917,-1.3851737049994621,-1.0607803750686986,0.9807128628661347,-0.8543482560218488,1.0593536701220774,-1.2377221913945697,-0.2292064698394386,0.9610526610521489,0.9610526610521489,0.858062319273942,0.926873025622892,-1.0851299095909623,0.6858098356563493,-1.2573823932085557,-1.2770425950225417,-1.2180619895805842,-1.07529980868397,-1.1295910814176486,1.0495235692150844,-1.1001007786966701,1.1576546791920055,-1.0706104759756916,-0.9475084968930629,0.8725817528892134,-1.109930879603663,-1.1885716868596057,-0.18005596530447437,-0.31767737800237406,-1.252241625009841,0.7742807438192854,-0.8492074878231348,-0.9180181941720844,-0.9624793659987704,-0.5535997997702021,-0.4061482861653096,1.556704144513581,-0.7705666805671918,0.6221398975061142,0.8824118537962062,-0.9278482950790774,1.054664337413799,1.16279544739072,-0.9081880932650915,0.9170429247158991,0.9956837319718418,1.290586759181627,-0.26852687346740983,1.7729663644674236,0.9170429247158991,1.3895924290947033,1.1922857501116984,-0.4159783870723025,0.9217322574241775,0.7546205420052993,-1.1295910814176486,0.9170429247158991,-0.883838558742828,0.7546205420052993,0.9413924592381631,0.8529215510752278,-1.1197609805106559,1.1085041746570414,-1.2377221913945697,-1.041120173254713,-0.8051977514868852,0.9413924592381631,-0.9821395678127561,0.8037710465402638,0.784110844726278,-1.041120173254713,-1.2082318886735914,0.9315623583311703,0.951222560145156,-1.0017997696267418,0.9119021565171849,1.020033266494106,-1.134280414125927,-1.178741585952613,-0.20954626802545281,-0.33733757981635965,1.5272138417926027,0.7742807438192854,-0.6479161369749997,-1.1539406159399126,-0.8492074878231348,0.9072128238089062,0.9661934292508634,-1.055639606869984,1.0448342365068064,1.035004135599813,0.926873025622892,-1.2475522923015627,1.6550051535835095,0.8725817528892134,-1.2573823932085557,-0.42580848797929494,-0.8983579923580988,0.8332613492612422,-1.1984017877665984,1.0495235692150844,0.8627516519822207,1.0396934683080916,-1.16891148504562,-0.8543482560218488,-1.1295910814176486,0.8725817528892134,-1.0017997696267418,0.9119021565171849,0.8529215510752278,0.8529215510752278,-0.9034987605568136,-0.2980171761883884,1.0593536701220774,0.7695914111110066,0.784110844726278,1.7631362635604308,-1.0458095059629915,-1.124450313218934,-1.0804405768826844,0.9760235301578565,-0.3668278825373381,1.1333051446697417,1.113644942855756,-0.8492074878231348,-0.996659001428027,1.6255148508625308,-0.7509064787532064,-0.34716768072335263,0.8529215510752278,1.1183342755640342,-1.4441543104414196,0.8973827229019137,1.6648352544905023,0.9020720556101917,-0.991969668719749,-1.1590813841386272,1.1085041746570414,1.2854459909829123,-1.0607803750686986,-1.0804405768826844,-1.0312900723477205,-1.2672124941155485,-1.1001007786966701,-1.2180619895805842,-0.991969668719749,0.9315623583311703,0.9807128628661347,0.9119021565171849,0.9708827619591417,-1.2082318886735914,1.0593536701220774,-0.8740084578358346,0.9315623583311703,0.7742807438192854,0.784110844726278,0.985853631064849,-1.07529980868397,0.8136011474472565,1.3397372637165912,-1.00648910233502,-1.1441105150329198,-0.6872365406029708,-0.883838558742828,1.1333051446697417,-1.1047901114049483,-1.178741585952613,-0.4159783870723025,0.7499312092970211,-1.0261493041490057,-1.1295910814176486,0.9807128628661347,1.1234750437627488,-0.3275074789093667,1.054664337413799,0.8824118537962062,-0.9231589623707988,0.9119021565171849,1.1576546791920055,-0.7855375496728989,-1.1295910814176486,-0.9821395678127561,-1.1197609805106559,0.6956399365633421,1.3247663946108836,0.9217322574241775,0.9020720556101917,-0.9624793659987704,1.0691837710290701,-1.1492512832316344,1.1379944773780197,-1.1492512832316344,-1.296702796836527,1.010203165587113,-1.1394211823246412,-0.8641783569288419,-1.1394211823246412,0.9020720556101917,0.8973827229019137,-0.9081880932650915,-1.0706104759756916,0.9020720556101917,0.6858098356563493,0.7644506429122921,-1.0851299095909623,-1.1197609805106559,-1.178741585952613,-0.819717185102156,0.9315623583311703,-0.5044492952352378,0.858062319273942,-1.0607803750686986,-1.07529980868397,-0.9428191641847847,0.8922419547031989,0.843091450168235,-0.8492074878231348,0.9807128628661347,-0.9868289005210346,1.6156847499555378,1.7238158599324598,1.5272138417926027,0.784110844726278,-0.2193763689324456,-0.6282559351610136,1.3306118236527458,-0.9573385978000557,1.1333051446697417,1.0939847410417702,-0.7705666805671918,1.00037306468012,-0.9475084968930629,0.8332613492612422,-1.1295910814176486,0.9807128628661347,0.7742807438192854,-1.2180619895805842,0.843091450168235,1.1576546791920055,-1.1001007786966701,-1.2377221913945697,-0.8740084578358346,0.725130239284321,1.1674847800989985,0.6563195329353709,1.00037306468012,1.0691837710290701,1.1674847800989985,0.9708827619591417,-1.2082318886735914,1.00037306468012,0.6268292302143926,-1.0359794050559985,1.0743245392277845,-0.9573385978000557,0.9072128238089062,0.9072128238089062,0.9413924592381631,-1.0312900723477205,-1.2030911204748767,-1.0017997696267418,0.9119021565171849,0.5088680193304784,0.7546205420052993,0.9315623583311703,-1.2082318886735914,0.8725817528892134,-1.3210523313587912,-1.2868726959295342,0.6759797347493568,-0.9821395678127561,-1.0706104759756916,0.9807128628661347,0.6268292302143926,0.8332613492612422,0.8037710465402638,-0.9769987996140415,-1.1197609805106559,0.9610526610521489,1.7533061626534374,-1.0607803750686986,-0.7312462769392206,-1.0017997696267418,-1.0706104759756916,0.6712904020410785,0.9119021565171849,1.054664337413799,-0.8885278914511059,1.0986740737500487,-0.9868289005210346,-1.041120173254713,-1.1984017877665984,0.8234312483542492,-0.932989063277792,1.00037306468012,0.9119021565171849,-1.0017997696267418,0.5186981202374715,-1.1394211823246412,0.8725817528892134,-0.7855375496728989,-1.2573823932085557,-0.9133288614638062,1.0743245392277845,1.1773148810059912,-1.041120173254713,0.8824118537962062,-1.0804405768826844,1.0495235692150844,0.8332613492612422,0.7742807438192854,0.5186981202374715,1.010203165587113,1.103814841948763,-0.7509064787532064,0.7054700374703353,1.2461255873549408,-0.4847890934212522,-0.5142793961422306,0.985853631064849,-0.8983579923580988,0.7401011083900282,0.8037710465402638,-0.932989063277792,-0.932989063277792,-0.8786977905441131,-1.2082318886735914,-1.1197609805106559,-1.0312900723477205,-1.0902706777896771,0.9956837319718418,0.9610526610521489,0.784110844726278,-1.1394211823246412,-0.258696772560417,0.8627516519822207,0.7742807438192854,0.4990379184234855,-1.0116298705337343,-1.1394211823246412,-0.991969668719749,0.8824118537962062,0.7644506429122921,0.8824118537962062,-0.7462171460449278,0.8332613492612422,-0.258696772560417,1.0153439337858277,-1.1539406159399126,-0.31767737800237406,-1.2180619895805842,-0.8393773869161416,1.1431352455767345,-1.016319203242013,1.2657857891689268,-0.8983579923580988,1.30041686008862,-0.3668278825373381,-1.4048339068134483,1.020033266494106,0.843091450168235,-1.0312900723477205,-0.9231589623707988,0.7447904410983065,0.8824118537962062,0.7644506429122921,-1.1492512832316344,-0.991969668719749,0.6759797347493568,0.7742807438192854,0.784110844726278,-1.0706104759756916,-1.0116298705337343,1.1085041746570414,0.7644506429122921,-0.9133288614638062,1.0790138719360631,0.6858098356563493,-1.041120173254713,-1.0902706777896771,0.8627516519822207,-1.1295910814176486,0.7447904410983065,-1.0312900723477205,-0.9821395678127561,0.6956399365633421,0.7742807438192854,0.951222560145156,0.9020720556101917,-1.041120173254713,0.843091450168235,0.8136011474472565,0.8234312483542492,0.7939409456332708,-1.2082318886735914,0.8332613492612422,-1.2573823932085557,-0.7560472469519212,0.9119021565171849,-0.6715610106541163,0.9217322574241775,0.9315623583311703,0.7546205420052993,-0.8445181551148563,0.7644506429122921,0.715300138377328,-1.4638145122554054,0.8922419547031989,1.1576546791920055,0.9119021565171849,-1.0214599714407273,-1.1295910814176486,-1.1984017877665984,-1.1295910814176486,-0.9526492650917777,0.9020720556101917,0.8136011474472565,0.9020720556101917,-1.4343242095344266,0.9413924592381631,-1.0949600104979555,0.8529215510752278,-1.2672124941155485,1.0593536701220774,0.9315623583311703,0.8529215510752278,0.8529215510752278,1.0841546401347775,-0.9034987605568136,0.9119021565171849,-0.932989063277792,0.715300138377328,0.843091450168235,0.9413924592381631,-1.2770425950225417,-1.2180619895805842,0.8037710465402638,-1.296702796836527,1.1478245782850127,0.7546205420052993,-1.0607803750686986,1.0790138719360631,-1.0607803750686986,-1.016319203242013,0.7990817138319852,-0.35699778163034546,1.1281643764710274,0.9119021565171849,-1.2082318886735914,1.3542566973318624,-1.3655135031854766,0.8136011474472565,0.7939409456332708,1.064494438320792,0.8529215510752278,0.8529215510752278,0.7939409456332708,0.7990817138319852,-1.1001007786966701,-1.050950274161706,0.7302710074830353,-1.0214599714407273,-0.883838558742828,1.0790138719360631,1.0495235692150844,0.9610526610521489,0.8332613492612422,0.9905429637731273,1.0743245392277845,-0.932989063277792,0.8187419156459709,1.1576546791920055,0.784110844726278,-1.0949600104979555,-1.0116298705337343,1.0743245392277845,0.9760235301578565,0.9807128628661347,-0.5044492952352378,-0.8786977905441131,-0.5437696988632094,-0.681391111561109,-1.0017997696267418,-0.9081880932650915,1.7041556581184742,0.9413924592381631,-0.760736579660199,0.7644506429122921,-0.9034987605568136,-1.1001007786966701,0.8187419156459709,-1.0706104759756916,-0.8936686596498202,0.9807128628661347,-1.1984017877665984,-1.1492512832316344,0.8922419547031989,0.9367031265298849,-0.8885278914511059,-0.8051977514868852,-0.8248579533008707,-1.0261493041490057,1.2021158510186916,-0.5535997997702021,1.6746653553974953,0.8725817528892134,-0.5784007697829022,-1.2424115241028484,0.6563195329353709,-1.0851299095909623,-0.258696772560417,-1.0851299095909623,0.8627516519822207,1.2264653855409555,-0.35699778163034546,-1.00648910233502,-1.0261493041490057,0.7546205420052993,1.7729663644674236,1.0743245392277845,-0.8000569832881705,-0.5437696988632094,1.221776052832677,-1.1197609805106559,0.7644506429122921,-1.1492512832316344,-0.932989063277792,1.1281643764710274,-0.972309466905763,1.010203165587113,0.6858098356563493,-1.0214599714407273,0.8234312483542492,0.6956399365633421,-0.9624793659987704,-1.0312900723477205,0.9610526610521489,0.843091450168235,0.5088680193304784,-0.6675763387889855,0.7546205420052993,0.9020720556101917,-1.0804405768826844,1.0495235692150844,-0.9526492650917777,-0.9428191641847847,1.0495235692150844,1.2362954864479483,-0.8543482560218488,-0.991969668719749,-1.0017997696267418,0.6268292302143926,0.9610526610521489,-0.8492074878231348,0.843091450168235,1.5468740436065884,0.9563633283438705,0.7447904410983065,0.8824118537962062,-1.124450313218934,-1.1539406159399126,-1.2817319277308197,-0.6919258733112493,-0.5437696988632094,0.8973827229019137,0.7742807438192854,-0.31767737800237406,-1.1441105150329198,0.8973827229019137,0.6909506038550641,-1.050950274161706,0.926873025622892,-1.2129212213818699,-1.1492512832316344,-0.8000569832881705,1.0743245392277845,1.0743245392277845,-0.7803967814741849,1.1824556492047056,-1.0804405768826844,0.8136011474472565,0.8922419547031989,-1.0312900723477205,0.8234312483542492,-1.2868726959295342,0.8627516519822207,-1.16891148504562,0.9807128628661347,0.843091450168235,1.020033266494106,0.7644506429122921,-1.0607803750686986,0.951222560145156,-0.7855375496728989,-1.2180619895805842,-1.345853301371491,0.9072128238089062,0.9905429637731273,-0.932989063277792,1.054664337413799,-1.050950274161706,-0.3668278825373381,1.064494438320792,-0.8000569832881705,0.6811205029480709,-0.9278482950790774,1.7041556581184742,-0.8295472860091488,1.1431352455767345,-0.24886667165342427,0.8136011474472565,-0.3668278825373381,-1.1197609805106559,0.8136011474472565,0.9708827619591417,0.725130239284321,0.9170429247158991,0.8037710465402638,-1.1590813841386272,-1.4244941086274339,-1.2770425950225417,1.44857303453666,0.7990817138319852,-1.311222230451798,-1.1146202123119413,0.7939409456332708,-1.0902706777896771,-0.6675763387889855,0.8725817528892134,0.8725817528892134,-1.0116298705337343,-1.1001007786966701,0.6858098356563493,-1.227892090487577,-1.1590813841386272,-1.00648910233502,0.8922419547031989,-1.0804405768826844,-1.0312900723477205,-1.2770425950225417,0.8332613492612422,0.725130239284321,-1.2082318886735914,-1.0312900723477205,1.8122867680953945,-1.1441105150329198,-1.2082318886735914,-1.1736008177538986,-1.1441105150329198,-1.055639606869984,0.9413924592381631,-1.1590813841386272,-1.2770425950225417,1.0495235692150844,-0.7658773478589136,0.9807128628661347,-1.1984017877665984,-1.16891148504562,-0.9081880932650915,1.16279544739072,-0.2292064698394386,-1.109930879603663,-0.7214161760322279,1.035004135599813,-0.9475084968930629,1.103814841948763,1.16279544739072,0.725130239284321,-0.5437696988632094,-1.1736008177538986,0.8384021174599566,-0.7017559742182419,0.8482322183669496,-1.0851299095909623,0.7302710074830353,-1.1441105150329198,-0.7214161760322279,-1.055639606869984,-0.33733757981635965,0.9956837319718418,1.035004135599813,1.1379944773780197,-1.262071725916834,1.0691837710290701,-1.0654697077769772,-1.1984017877665984,0.9661934292508634,1.51738374088561,-0.9428191641847847,0.7054700374703353,0.8627516519822207,-1.2672124941155485,-1.1885716868596057,-1.0312900723477205,0.7939409456332708,-1.3261930995575053,0.8332613492612422,1.0396934683080916,-0.9034987605568136,1.0691837710290701,-0.9231589623707988,-1.16891148504562,-1.178741585952613,-1.2377221913945697,-1.2672124941155485,0.8332613492612422,0.9413924592381631,-1.2377221913945697,0.6858098356563493,-1.473644613162398,0.8234312483542492,-1.4048339068134483,-1.2475522923015627,-0.932989063277792,-1.0902706777896771,-1.0607803750686986,0.9807128628661347,-0.9133288614638062,0.784110844726278,0.9413924592381631,1.1281643764710274,0.9119021565171849,1.0888439728430557,-1.1197609805106559,-1.0804405768826844,0.8824118537962062,1.0691837710290701,0.6858098356563493,0.7546205420052993,-1.1001007786966701,0.9217322574241775,-1.1984017877665984,0.8725817528892134,0.8627516519822207,-1.1492512832316344,-1.1885716868596057,0.8922419547031989,1.0593536701220774,0.7054700374703353,1.00037306468012,0.7447904410983065,-0.8445181551148563,0.784110844726278,-1.1197609805106559,1.0888439728430557,0.8529215510752278,-1.227892090487577,0.9413924592381631,1.1281643764710274,0.8234312483542492,0.8725817528892134,-1.041120173254713,-0.9526492650917777,-1.4048339068134483,0.8234312483542492,-1.1885716868596057,-1.0116298705337343,-1.0214599714407273,-1.0706104759756916,0.9119021565171849,0.8824118537962062,-1.109930879603663,0.7742807438192854,0.4990379184234855,0.8627516519822207,0.7546205420052993,-0.991969668719749,1.2657857891689268,-1.1590813841386272,0.7644506429122921,1.0396934683080916,0.6268292302143926,1.1871449819129842,0.8136011474472565,0.8922419547031989,0.8136011474472565,-1.2475522923015627,0.9217322574241775,0.951222560145156,-1.0804405768826844,-1.1001007786966701,1.0495235692150844,0.9610526610521489,0.8824118537962062,0.8529215510752278,0.9807128628661347,0.9610526610521489,0.8627516519822207,1.00037306468012,1.1281643764710274,0.7546205420052993,-1.1001007786966701,0.8136011474472565,0.843091450168235,-1.0312900723477205,1.0495235692150844,0.9708827619591417,0.843091450168235,1.020033266494106,1.020033266494106,0.7546205420052993,-1.050950274161706,0.9217322574241775,0.8529215510752278,0.7742807438192854,1.1576546791920055,0.784110844726278,0.4892078175164927,0.8725817528892134,0.8529215510752278,0.8332613492612422,0.8725817528892134,0.8332613492612422,-1.2082318886735914,0.8824118537962062,1.0790138719360631,1.1379944773780197,0.8037710465402638,0.951222560145156,0.8627516519822207,-1.1295910814176486,0.8529215510752278,-1.1197609805106559,0.9413924592381631,1.010203165587113,0.7742807438192854,-1.1984017877665984,-1.1394211823246412,-0.6872365406029708,1.0888439728430557,-1.0607803750686986,-1.4638145122554054,-1.0017997696267418,-1.2475522923015627,-0.9526492650917777,0.7447904410983065,0.715300138377328,1.0946894018849176,0.7644506429122921,0.8037710465402638,1.2657857891689268,0.9905429637731273,0.8725817528892134,0.9807128628661347,-1.1197609805106559,-1.1295910814176486,-1.1001007786966701,-1.2868726959295342,-1.178741585952613,0.9413924592381631,0.8529215510752278,0.725130239284321,1.1183342755640342,-0.932989063277792,0.715300138377328,0.8824118537962062,0.9807128628661347,-1.0116298705337343,0.8037710465402638,0.7742807438192854,0.8529215510752278,0.7939409456332708,1.1183342755640342,1.010203165587113,0.5285282211444643,-0.8248579533008707,0.7939409456332708,-0.9624793659987704,0.8627516519822207,1.2166352846339625,0.5285282211444643,0.4990379184234855,0.7939409456332708,0.9315623583311703,0.9119021565171849,-1.2770425950225417,0.951222560145156,0.9020720556101917,0.8824118537962062,-1.227892090487577,-0.7560472469519212,0.9413924592381631,-1.2672124941155485,-1.178741585952613,0.6858098356563493,0.9610526610521489,-1.109930879603663,-0.9428191641847847,0.7644506429122921,0.725130239284321,1.1576546791920055,-0.8641783569288419,-0.9624793659987704,1.1281643764710274,-0.991969668719749,0.8725817528892134,0.8037710465402638,-1.2180619895805842,-1.1197609805106559,0.9119021565171849,0.7546205420052993,-0.7658773478589136,0.843091450168235,1.00037306468012,0.8627516519822207,-0.8641783569288419,0.8627516519822207,-1.1984017877665984,0.9610526610521489,0.7447904410983065,-1.0804405768826844,0.9315623583311703,0.9610526610521489,-0.9133288614638062,-1.1001007786966701,-1.2475522923015627,1.020033266494106,-1.1295910814176486,-1.0804405768826844,-1.0214599714407273,-1.1590813841386272,-0.9624793659987704,0.9119021565171849,-1.1590813841386272,0.6858098356563493,-0.972309466905763,0.7939409456332708,0.6858098356563493,1.2756158900759198,-1.1984017877665984,0.8529215510752278,-1.2082318886735914,0.9905429637731273,0.6464894320283783,-0.8590375887301276,-1.2770425950225417,0.8332613492612422,0.7054700374703353,0.8136011474472565,-0.991969668719749,-1.0607803750686986,0.8529215510752278,1.00037306468012,1.0495235692150844,0.7546205420052993,0.9119021565171849,0.8922419547031989,0.843091450168235,-1.2377221913945697,1.0298633674010989,1.0888439728430557,0.715300138377328,0.8922419547031989,-1.1394211823246412,0.8824118537962062,-1.2082318886735914,0.9708827619591417,0.8725817528892134,-1.050950274161706,-0.4749589925142594,-1.1885716868596057,-1.1885716868596057,0.725130239284321,0.7349603401913136,0.7644506429122921,1.0986740737500487,0.9807128628661347,-1.0214599714407273,0.715300138377328,0.9708827619591417,0.7349603401913136,1.0986740737500487,-1.1001007786966701,0.6366593311213852,-1.0804405768826844,-1.178741585952613,-0.9526492650917777,0.6759797347493568,0.7939409456332708,0.8627516519822207,-0.8740084578358346,-1.050950274161706,0.843091450168235,-0.7462171460449278,0.9905429637731273,-1.0312900723477205,0.843091450168235,0.8627516519822207,-0.815027852393878,-1.227892090487577,-1.0804405768826844,0.8332613492612422,0.725130239284321,-1.109930879603663,-1.1394211823246412,1.010203165587113,0.8234312483542492,-1.1197609805106559,-1.1885716868596057,-1.2377221913945697,0.9217322574241775,-1.1590813841386272,0.7939409456332708,0.8234312483542492,-0.9428191641847847,0.7939409456332708,1.010203165587113,-1.16891148504562,0.8332613492612422,-1.2082318886735914,-1.1394211823246412,1.1379944773780197,0.725130239284321,-1.0607803750686986,0.725130239284321,0.951222560145156,1.1576546791920055,1.7631362635604308,0.7644506429122921,0.7742807438192854,1.1922857501116984,0.7349603401913136,-1.178741585952613,-1.4343242095344266,0.784110844726278,1.0495235692150844,-1.3163629986505125,-0.7462171460449278,0.6661496338423638,1.0495235692150844,0.715300138377328,-1.178741585952613,0.8725817528892134,-1.0017997696267418,0.8824118537962062,-1.1197609805106559,1.1674847800989985,0.9217322574241775,-1.2475522923015627,0.9119021565171849,0.6811205029480709,1.1576546791920055,0.7644506429122921,-1.2180619895805842,0.8234312483542492,-1.2868726959295342,0.8627516519822207,0.8332613492612422,0.9217322574241775,1.1922857501116984,1.1529653464837273,-1.2573823932085557,0.6661496338423638,-1.2082318886735914,0.9119021565171849,-1.050950274161706,0.6858098356563493,0.7447904410983065,0.7447904410983065,-0.7509064787532064,-1.1001007786966701,0.6858098356563493,0.951222560145156,-1.2770425950225417,0.7644506429122921,1.0396934683080916,-1.1001007786966701,0.843091450168235,-1.0312900723477205,-0.9671686987070489,-1.1295910814176486,-1.3163629986505125,0.9217322574241775,-1.0902706777896771,1.478063337257639,-1.0902706777896771,0.725130239284321,0.9413924592381631,-1.2180619895805842,-1.0607803750686986,0.9020720556101917,0.7349603401913136,0.6956399365633421,0.8037710465402638,0.8234312483542492,0.6661496338423638,1.1183342755640342,0.9020720556101917,0.784110844726278,1.0691837710290701,-0.8543482560218488,-0.8248579533008707,0.9315623583311703,-1.1295910814176486,-1.473644613162398,-0.7757074487659065,0.725130239284321,-1.050950274161706,-0.8346880542078635,0.9020720556101917,-1.227892090487577,0.8136011474472565,1.0790138719360631,-0.9133288614638062,0.951222560145156,-0.9821395678127561,1.2657857891689268,1.2709265573676416,0.7349603401913136,0.9217322574241775,0.7742807438192854,0.9610526610521489,0.8824118537962062,-1.227892090487577,-1.2672124941155485,-1.109930879603663,-1.1590813841386272,-0.9034987605568136,-1.16891148504562,1.0593536701220774,1.0396934683080916,0.9217322574241775,-1.1001007786966701,1.1478245782850127,1.6156847499555378,-0.760736579660199,-0.7902268823811777,1.1085041746570414,-1.041120173254713,0.8824118537962062,-1.0902706777896771,0.8136011474472565,-1.0804405768826844,-1.1885716868596057,0.9020720556101917,-1.0706104759756916,-1.2180619895805842,-1.0312900723477205,-1.3655135031854766,-1.1295910814176486,0.8627516519822207,0.9020720556101917,0.9020720556101917,-0.8936686596498202,-0.9624793659987704,-0.991969668719749,-0.8936686596498202,0.9413924592381631,-1.2672124941155485,-1.0116298705337343,-1.4638145122554054,-0.642775368776285,0.8725817528892134,-0.2881870752813955,1.2119459519256846,0.8187419156459709,1.2021158510186916,-1.16891148504562,1.6451750526765168,-1.00648910233502,-1.0359794050559985,-1.2377221913945697,1.3593974655305767,0.985853631064849,-0.9180181941720844,1.2316061537396703,0.7401011083900282,-1.0261493041490057,0.8777225210879278,0.8037710465402638,1.0396934683080916,-0.8590375887301276,-0.6224105061191517,0.9072128238089062,-0.9278482950790774,0.8037710465402638,1.1085041746570414,1.1281643764710274,1.1183342755640342,0.9119021565171849,-0.8346880542078635,-1.2475522923015627,-1.1394211823246412,-1.1590813841386272,-1.2817319277308197,-0.7953676505798923,-1.041120173254713,0.715300138377328,1.1379944773780197,-1.4638145122554054,0.7939409456332708,1.1281643764710274,-0.4159783870723025,-1.0706104759756916,-1.00648910233502,-1.0654697077769772,-1.0359794050559985,0.7546205420052993,-1.2180619895805842,-0.932989063277792,0.867892420180935,0.7349603401913136,-1.227892090487577,0.8824118537962062,0.9217322574241775,-1.1197609805106559,1.1379944773780197,0.9610526610521489,-1.041120173254713,1.020033266494106,0.9413924592381631,1.7434760617464446,1.4190827318156813,1.1183342755640342,0.7597613102040137,0.8627516519822207,-1.16891148504562,-1.16891148504562,0.8824118537962062,0.7546205420052993,-1.2180619895805842,0.8627516519822207,-1.1885716868596057,-0.8983579923580988,-1.0902706777896771,0.9072128238089062,-1.124450313218934,-1.1637707168469054,0.784110844726278,-1.178741585952613,0.7644506429122921,-0.8786977905441131,0.8824118537962062,1.0939847410417702,0.6956399365633421,0.7546205420052993,-1.1295910814176486,-1.2573823932085557,-0.8346880542078635,-0.9081880932650915,-0.8983579923580988,0.7695914111110066,-0.9180181941720844,1.6302041835708092,1.005513832878835,1.064494438320792,-0.9671686987070489,1.1824556492047056,-1.07529980868397,0.9465332274368777,-0.8786977905441131,-0.9769987996140415,0.7447904410983065,-1.0949600104979555,-0.7803967814741849,1.6353449517695242,1.1478245782850127,-0.8590375887301276,-1.1885716868596057,0.8922419547031989,0.8529215510752278,0.8922419547031989,-1.2573823932085557,-1.0017997696267418,0.8529215510752278,0.7742807438192854,0.8824118537962062,-1.0214599714407273,-1.2377221913945697,-0.8543482560218488,-1.1492512832316344,-1.1590813841386272,0.7349603401913136,-1.1295910814176486,0.8037710465402638,0.9217322574241775,-0.8543482560218488,0.7447904410983065,-1.178741585952613,-0.996659001428027,0.843091450168235,-1.1394211823246412,1.0593536701220774,0.9708827619591417,0.9119021565171849,-1.0654697077769772,-0.4749589925142594,-0.8590375887301276,-1.1394211823246412,-0.8295472860091488,0.8234312483542492,0.9956837319718418,0.7546205420052993,-1.2377221913945697,-0.9526492650917777,1.0298633674010989,-1.1984017877665984,-0.6722656714972638,-1.0312900723477205,0.8922419547031989,-1.041120173254713,0.8725817528892134,0.715300138377328,0.951222560145156,-1.109930879603663,-1.1394211823246412,1.6498643853847945,0.7447904410983065,0.7742807438192854,0.7054700374703353,-1.1492512832316344,-1.1590813841386272,-0.883838558742828,-0.9526492650917777,0.8529215510752278,-1.4146640077204409,-0.8543482560218488,0.7644506429122921,1.0396934683080916,-1.1492512832316344,0.9020720556101917,0.8332613492612422,0.9315623583311703,0.9905429637731273,0.9217322574241775,0.6858098356563493,0.9708827619591417,0.7644506429122921,-1.1441105150329198,-0.6224105061191517,0.9905429637731273,-1.0706104759756916,0.7742807438192854,-1.050950274161706,-0.7953676505798923,-0.9526492650917777,1.1281643764710274,-1.3065328977435198,-1.0902706777896771,-1.0804405768826844,0.7644506429122921,-1.1984017877665984,-1.3950038059064551,0.7742807438192854,-1.0706104759756916,-1.0804405768826844,-1.1885716868596057,-1.0804405768826844,0.9708827619591417,-1.1441105150329198,1.1234750437627488,0.6268292302143926,0.9315623583311703,0.4892078175164927,0.926873025622892,-0.7214161760322279,-0.8098870841951632,-0.9769987996140415,1.7827964653744164,0.9807128628661347,0.7892516129249927,-0.35699778163034546,0.6169991293073999,-1.2180619895805842,-0.9231589623707988,-0.8936686596498202,-0.3963181852583167,1.0396934683080916,-1.1590813841386272,0.8037710465402638,-1.0706104759756916,0.8136011474472565,-0.9231589623707988,-0.9231589623707988,1.3247663946108836,0.5973389274934137,-1.2377221913945697,0.6169991293073999,1.3542566973318624,-1.041120173254713,0.8332613492612422,-1.1197609805106559,1.0298633674010989,1.0691837710290701,-1.1885716868596057,-0.8445181551148563,-0.972309466905763,0.7939409456332708,-1.3065328977435198,-1.0804405768826844,0.8922419547031989,-1.1885716868596057,-1.2377221913945697,-1.1295910814176486,-0.9133288614638062,0.725130239284321,0.9315623583311703,-1.0804405768826844,0.6909506038550641,-1.0804405768826844,0.7939409456332708,-0.7115860751252348,-0.9671686987070489,0.8037710465402638,0.9315623583311703,0.9413924592381631,-0.996659001428027,0.8627516519822207,-1.1885716868596057,0.9413924592381631,0.8136011474472565,-1.1984017877665984,0.7939409456332708,-1.2377221913945697,-0.8543482560218488,1.0691837710290701,0.843091450168235,0.9119021565171849,0.9708827619591417,0.8725817528892134,0.9119021565171849,-1.1984017877665984,0.715300138377328,-1.16891148504562,-1.2573823932085557,0.6268292302143926,1.0691837710290701,0.8136011474472565,0.8234312483542492,-1.1001007786966701,0.7742807438192854,-0.9428191641847847,0.9708827619591417,0.9807128628661347,-1.178741585952613,-0.972309466905763,-0.9821395678127561,-0.9231589623707988,-1.1197609805106559,-1.0804405768826844,0.8234312483542492,1.1183342755640342,-1.0706104759756916,0.725130239284321,0.7349603401913136,-1.3065328977435198,-0.9376783959860702,-0.8248579533008707,0.9119021565171849,0.7644506429122921,-0.8740084578358346,-1.0804405768826844,-1.109930879603663,-1.109930879603663,1.0298633674010989,0.7742807438192854,0.784110844726278,0.8234312483542492,0.7742807438192854,-1.1492512832316344,0.7939409456332708,0.6811205029480709,0.7939409456332708,0.9119021565171849,-0.996659001428027,0.6268292302143926,-1.2082318886735914,0.7054700374703353,-1.1001007786966701,1.2952760918899053,1.2756158900759198,1.010203165587113,0.9119021565171849,0.7794215120179999,-1.1834309186608911,-1.1590813841386272,0.7349603401913136,-0.883838558742828,1.1529653464837273,-1.0214599714407273,1.497723539071624,-1.178741585952613,0.6956399365633421,1.0153439337858277,0.7546205420052993,0.9956837319718418,1.1281643764710274,0.8234312483542492,-1.1984017877665984,0.8384021174599566,0.725130239284321,-1.2573823932085557,1.0495235692150844,-0.7902268823811777,-1.4343242095344266,0.8136011474472565,-1.178741585952613,-0.9526492650917777,0.5973389274934137,0.9708827619591417,-0.9769987996140415,-0.8492074878231348,-1.1492512832316344,-0.883838558742828,-1.1394211823246412,0.9315623583311703,0.9315623583311703,-0.819717185102156,0.8529215510752278,0.7742807438192854,0.9020720556101917,0.5973389274934137,-0.8590375887301276,-1.0458095059629915,0.7742807438192854,0.8037710465402638,0.5580185238654427,1.0691837710290701,-1.0017997696267418,-0.9133288614638062,0.8529215510752278,0.9760235301578565,-1.1197609805106559,0.8037710465402638,1.0495235692150844,0.8187419156459709,0.9315623583311703,0.7939409456332708,0.8037710465402638,0.7546205420052993,0.7939409456332708,-1.0312900723477205,-0.4159783870723025,-1.2082318886735914,-0.9231589623707988,0.5186981202374715,1.3640867982388554,0.7644506429122921,-1.1295910814176486,1.0790138719360631,0.7742807438192854,1.1478245782850127,-1.1394211823246412,-1.00648910233502,-1.1295910814176486,-1.0116298705337343,1.1726255482977128,1.0743245392277845,1.6648352544905023,-1.2424115241028484,-0.9180181941720844,-0.9278482950790774,-1.134280414125927,-1.1047901114049483,-0.4552987907002739,-1.2030911204748767,0.8973827229019137,-0.7902268823811777,-0.996659001428027,-1.0949600104979555,1.1333051446697417,0.867892420180935,-0.8346880542078635,-0.26852687346740983,0.9170429247158991,-1.00648910233502,0.8922419547031989,-1.050950274161706,-1.0902706777896771,-0.932989063277792,0.8332613492612422,-1.0312900723477205,-1.0214599714407273,0.8136011474472565,1.0986740737500487,-0.9034987605568136,0.8725817528892134,0.4892078175164927,0.5186981202374715,0.7546205420052993,0.843091450168235,-1.3950038059064551,0.843091450168235,0.7447904410983065,0.7742807438192854,-1.07529980868397,1.020033266494106,-0.972309466905763,-1.0458095059629915,-0.8885278914511059,-1.2719018268238267,1.0743245392277845,-0.4749589925142594,-1.0359794050559985,1.035004135599813,1.6746653553974953,-1.1539406159399126,-0.9573385978000557,1.103814841948763,1.064494438320792,-0.6624355705902706,-0.760736579660199,-0.996659001428027,0.9367031265298849,-0.9376783959860702,-0.8000569832881705,-1.1637707168469054,-0.8485028269799876,0.6563195329353709,0.6563195329353709,0.9315623583311703,0.8529215510752278,-0.9231589623707988,0.8725817528892134,0.7054700374703353,0.725130239284321,0.725130239284321,-1.4441543104414196,1.1529653464837273,1.103814841948763,-0.8492074878231348,1.035004135599813,-1.00648910233502,-0.9376783959860702,-1.0261493041490057,1.035004135599813,-0.9573385978000557,-0.8688676896371202,-1.0949600104979555,1.290586759181627,0.9956837319718418,1.7926265662814092,0.7447904410983065,-1.0804405768826844,-1.2082318886735914,0.8725817528892134,-1.0902706777896771,-1.4048339068134483,0.951222560145156,0.6909506038550641,-0.991969668719749,0.9119021565171849,1.1085041746570414,-0.7855375496728989,0.8627516519822207,-1.1492512832316344,-0.7068967424169565,0.8725817528892134,-1.1394211823246412,1.1773148810059912,-0.8346880542078635,0.9119021565171849,-1.0607803750686986,-1.4146640077204409,1.010203165587113,1.00037306468012,1.0691837710290701,0.8922419547031989,-0.9133288614638062,-0.8641783569288419,-1.1590813841386272,0.715300138377328,1.00037306468012,0.8529215510752278,1.0298633674010989,1.1085041746570414,-1.041120173254713,-0.9231589623707988,-1.041120173254713,1.0691837710290701,-1.1984017877665984,0.6169991293073999,0.6464894320283783,-0.815027852393878,-1.1001007786966701,-1.0706104759756916,0.7939409456332708,-0.991969668719749,0.9610526610521489,1.00037306468012,1.020033266494106,0.9119021565171849,-0.8936686596498202,0.9708827619591417,0.8136011474472565,0.7742807438192854,-0.815027852393878,0.7447904410983065,0.9020720556101917,0.8824118537962062,0.9807128628661347,0.9315623583311703,-1.1984017877665984,0.5088680193304784,-0.8248579533008707,0.7349603401913136,0.9610526610521489,-1.2573823932085557,0.8529215510752278,-0.8936686596498202,0.7742807438192854,-1.0607803750686986,-0.7658773478589136,1.0888439728430557,0.8725817528892134,0.6071690284004067,-1.1984017877665984,0.8037710465402638,0.725130239284321,1.1281643764710274,0.9315623583311703,-0.8346880542078635,0.6759797347493568,-1.1197609805106559,1.0593536701220774,-1.178741585952613,0.9119021565171849,-1.16891148504562,0.725130239284321,-0.8543482560218488,-1.041120173254713,0.951222560145156,-1.1001007786966701,1.0495235692150844,1.1576546791920055,-1.16891148504562,0.8725817528892134,-1.227892090487577,1.3247663946108836,-0.9428191641847847,-1.2082318886735914,0.725130239284321,-1.0804405768826844,-0.883838558742828,0.8136011474472565,0.9119021565171849,0.9119021565171849,1.0790138719360631,1.0790138719360631,0.725130239284321,-0.991969668719749,0.7447904410983065,-1.1984017877665984,0.9119021565171849,-1.3851737049994621,-1.1492512832316344,1.010203165587113,-0.9769987996140415,-1.0312900723477205,-1.00648910233502,0.843091450168235,0.8037710465402638,1.0986740737500487,1.00037306468012,0.8529215510752278,-1.2573823932085557,0.8725817528892134,0.8627516519822207,-1.1492512832316344,0.8922419547031989,0.8529215510752278,-1.4638145122554054,0.4990379184234855,0.9708827619591417,-1.041120173254713,0.9610526610521489,0.9708827619591417,-1.0902706777896771,-1.2573823932085557,-1.0804405768826844,-0.7953676505798923,0.9708827619591417,0.715300138377328,0.8234312483542492,0.843091450168235,0.8725817528892134,0.9905429637731273,0.9020720556101917,0.7939409456332708,0.843091450168235,-1.2377221913945697,0.8725817528892134,0.9020720556101917,-1.0706104759756916,0.9020720556101917,0.715300138377328,0.8234312483542492,-0.8051977514868852,0.6366593311213852,-0.8051977514868852,0.9217322574241775,-1.2770425950225417,0.8136011474472565,-1.1394211823246412,0.9807128628661347,0.8529215510752278,0.715300138377328,-1.1197609805106559,1.0593536701220774,0.7447904410983065,0.8037710465402638,0.7447904410983065,0.9610526610521489,0.8725817528892134,1.1773148810059912,-1.1001007786966701,0.7054700374703353,0.9217322574241775,-0.7265569442309421,-1.1984017877665984,0.8136011474472565,-1.2180619895805842,0.725130239284321,-0.815027852393878,0.8529215510752278,0.8332613492612422,-1.178741585952613,0.8725817528892134,1.00037306468012,0.8725817528892134,-1.4048339068134483,0.926873025622892,1.0298633674010989,1.0396934683080916,0.8037710465402638,-1.0804405768826844,1.0986740737500487,1.478063337257639,0.8037710465402638,0.9315623583311703,-0.4061482861653096,0.715300138377328,-1.1197609805106559,0.6661496338423638,-0.9231589623707988,0.7054700374703353,0.7546205420052993,0.7742807438192854,-1.0214599714407273,1.255955688261934,1.0593536701220774,0.8136011474472565,-1.1001007786966701,-1.2180619895805842,-1.4539844113484122,-1.0804405768826844,1.1281643764710274,1.1085041746570414,-1.1001007786966701,1.0593536701220774,-1.1001007786966701,0.8332613492612422,0.7349603401913136,0.6956399365633421,0.7742807438192854,-1.1492512832316344,-1.1001007786966701,-1.2082318886735914,-1.0312900723477205,-0.8983579923580988,-0.8740084578358346,0.7939409456332708,0.9119021565171849,0.7742807438192854,0.8627516519822207,1.1576546791920055,0.7742807438192854,0.8482322183669496,-1.1492512832316344,0.784110844726278,-1.4244941086274339,-1.1590813841386272,-1.1197609805106559,0.8922419547031989,0.7054700374703353,-0.9133288614638062,0.7054700374703353,0.7644506429122921,-1.109930879603663,0.7742807438192854,0.7644506429122921,0.6071690284004067,-1.0902706777896771,-1.227892090487577,0.9020720556101917,1.0298633674010989,0.9905429637731273,-1.1492512832316344,-1.1492512832316344,-1.1394211823246412,-1.0804405768826844,0.8529215510752278,0.7644506429122921,-1.1197609805106559,0.8529215510752278,0.6759797347493568,0.7054700374703353,0.8136011474472565,0.7447904410983065,0.7546205420052993,0.8037710465402638,-1.1394211823246412,0.8627516519822207,-1.0312900723477205,0.843091450168235,-0.9624793659987704,-1.3065328977435198,1.5861944472345593,-1.1001007786966701,-1.050950274161706,0.9217322574241775,0.8529215510752278,0.784110844726278,0.8234312483542492,-1.1295910814176486,0.715300138377328,0.7546205420052993,0.8136011474472565,0.784110844726278,1.113644942855756,-1.2475522923015627,-1.0607803750686986,-0.9526492650917777,-0.9133288614638062,-1.041120173254713,0.951222560145156,-0.991969668719749,-1.1590813841386272,1.1674847800989985,0.9020720556101917,0.7644506429122921,0.9119021565171849,1.2362954864479483,0.8136011474472565,-1.1295910814176486,1.020033266494106,-1.1001007786966701,1.7533061626534374,0.7794215120179999,-0.4749589925142594,-0.932989063277792,-1.0214599714407273,-1.1492512832316344,-1.2770425950225417,-1.1885716868596057,0.6759797347493568,-1.2672124941155485,0.8136011474472565,-1.16891148504562,-0.9821395678127561,0.7349603401913136,1.0495235692150844,1.0495235692150844,0.9217322574241775,-1.4244941086274339,-1.109930879603663,0.6661496338423638,-1.2082318886735914,-0.991969668719749,0.9119021565171849,-0.6519008088401305,0.8037710465402638,0.9020720556101917,-0.9231589623707988,0.725130239284321,0.8824118537962062,0.7939409456332708,-0.8346880542078635,-1.4638145122554054,-1.1295910814176486,-1.0214599714407273,0.7939409456332708,-0.996659001428027,1.2414362546466629,-1.0116298705337343,0.784110844726278,0.6614603011340854,-1.1394211823246412,0.8332613492612422,0.7939409456332708,0.858062319273942,-1.1637707168469054,0.9465332274368777,-1.1539406159399126,-1.1539406159399126,1.5468740436065884,-0.9573385978000557,1.6550051535835095,0.9563633283438705,-1.0359794050559985,-1.0654697077769772,-0.376657983444331,-1.055639606869984,-0.31767737800237406,1.478063337257639,1.1871449819129842,-1.2129212213818699,1.1922857501116984,-1.0359794050559985,1.1922857501116984,-1.0851299095909623,-1.1736008177538986,1.6302041835708092,-1.0458095059629915,-0.4356385888862881,1.3895924290947033,-1.0261493041490057,0.8875526219949208,1.1529653464837273,1.1824556492047056,1.0448342365068064,0.9905429637731273,-0.9868289005210346,-1.2325814231958554,-0.7705666805671918,1.3404419245597383,1.4584031354436526,1.6156847499555378,1.5272138417926027,-0.9526492650917777,-1.3603727349867623,1.005513832878835,-1.1146202123119413,0.8332613492612422,-0.3668278825373381,-0.9278482950790774,1.064494438320792,-1.3065328977435198,-1.109930879603663,-1.1492512832316344,0.5678486247724357,-1.1590813841386272,-1.1590813841386272,0.8529215510752278,0.5186981202374715,0.725130239284321,-1.227892090487577,0.6268292302143926,-1.041120173254713,-1.0312900723477205,-0.8445181551148563,0.7349603401913136,-0.7757074487659065,0.725130239284321,-0.991969668719749,0.6858098356563493,-1.0312900723477205,-1.0312900723477205,0.8627516519822207,-0.8051977514868852,-1.178741585952613,-1.0017997696267418,0.6563195329353709,-0.9821395678127561,0.5186981202374715,-0.991969668719749,-0.7462171460449278,0.9413924592381631,-1.0607803750686986,1.0691837710290701,-0.972309466905763,-1.1590813841386272,0.7054700374703353,1.1674847800989985,0.5580185238654427,1.00037306468012,0.9610526610521489,0.7349603401913136,-0.8641783569288419,1.1576546791920055,0.6169991293073999,-1.0607803750686986,-1.041120173254713,-1.3655135031854766,0.8725817528892134,0.784110844726278,0.8234312483542492,-1.2573823932085557,-1.4539844113484122,-0.9428191641847847,-1.0017997696267418,1.1576546791920055,-1.0706104759756916,0.9807128628661347,-0.972309466905763,-1.0017997696267418,0.9760235301578565,-1.16891148504562,-1.16891148504562,-0.7658773478589136,0.7349603401913136,-1.0359794050559985,-1.0851299095909623,-1.4244941086274339,1.0448342365068064,0.7892516129249927,-1.2868726959295342,-1.0312900723477205,-1.0017997696267418,0.8922419547031989,-0.9133288614638062,0.9708827619591417,0.9807128628661347,-1.0214599714407273,-1.0607803750686986,-0.9821395678127561,0.7054700374703353,1.1773148810059912,1.0986740737500487,0.8627516519822207,-0.8543482560218488,1.0153439337858277,-1.0607803750686986,-1.1197609805106559,-1.178741585952613,1.0298633674010989,-1.0214599714407273,0.8332613492612422,-1.0312900723477205,-1.1492512832316344,1.020033266494106,1.020033266494106,0.9020720556101917,1.0593536701220774,-1.1984017877665984,0.9413924592381631,-1.0607803750686986,0.843091450168235,0.8234312483542492,-0.991969668719749,0.8973827229019137,0.6858098356563493,0.8332613492612422,0.8332613492612422,-0.932989063277792,0.951222560145156,-0.8936686596498202,-1.1001007786966701,-1.0116298705337343,0.843091450168235,0.7939409456332708,1.2068051837269698,0.7447904410983065,0.725130239284321,0.7447904410983065,0.9315623583311703,0.9413924592381631,-1.0607803750686986,0.7644506429122921,-0.9428191641847847,-1.1492512832316344,-1.2082318886735914,1.2166352846339625,-1.3163629986505125,0.8824118537962062,-1.16891148504562,-1.2082318886735914,-1.1492512832316344,-0.6577462378819923,0.8529215510752278,1.010203165587113,-0.8936686596498202,0.6759797347493568,-1.3261930995575053,-0.9428191641847847,0.725130239284321,0.6956399365633421,0.6661496338423638,1.0495235692150844,-1.0902706777896771,0.9610526610521489,0.8824118537962062,-0.7462171460449278,0.8824118537962062,0.8529215510752278,0.6858098356563493,-0.9428191641847847,-1.4539844113484122,-1.355683402278484,-1.16891148504562,-1.0312900723477205,0.9020720556101917,0.8627516519822207,0.951222560145156,-1.0214599714407273,0.7349603401913136,-0.8445181551148563,0.9119021565171849,1.2166352846339625,-0.972309466905763,0.7546205420052993,0.8234312483542492,-1.0116298705337343,-1.1001007786966701,-1.1590813841386272,1.3345964955178766,-1.2868726959295342,0.784110844726278,-1.0706104759756916,-1.050950274161706,0.8529215510752278,0.725130239284321,0.5875088265864212,1.0495235692150844,-0.7068967424169565,1.0743245392277845,-0.8445181551148563,-1.1736008177538986,0.7742807438192854,1.0448342365068064,0.8777225210879278,1.290586759181627,0.725130239284321,0.6858098356563493,0.7546205420052993,-0.8641783569288419,1.8417770708163737,0.6024796956921283,-1.0902706777896771,0.9610526610521489,1.00037306468012,1.1529653464837273,1.005513832878835,0.6268292302143926,-1.4095232395217263,-0.9428191641847847,-1.296702796836527,0.808911814738978,0.7447904410983065,0.725130239284321,-1.0458095059629915,0.7742807438192854,-0.991969668719749,1.1379944773780197,-0.9821395678127561,1.0841546401347775,1.103814841948763,-1.2227513222888626,-1.1834309186608911,0.9170429247158991,-0.5437696988632094,-1.0261493041490057,-0.5044492952352378,1.733645960839452,-1.2325814231958554,1.010203165587113,-0.4847890934212522,-1.0804405768826844,-0.7509064787532064,-0.8885278914511059,-0.9573385978000557,-0.9376783959860702,-0.9526492650917777,-0.5241094970492237,1.005513832878835,-1.1539406159399126,-1.0654697077769772,-1.2424115241028484,-0.8885278914511059,-1.124450313218934,-0.9573385978000557,-0.8098870841951632,-0.9769987996140415,0.8285720165529639,-1.07529980868397,1.684495456304488,1.113644942855756,-1.2424115241028484,0.9905429637731273,-0.8688676896371202,-0.6820957724042562,-0.38179875164304555,1.2414362546466629,-0.7214161760322279,-1.0902706777896771,0.843091450168235,-0.15056566258349594,-0.9821395678127561,-0.8740084578358346,0.9217322574241775,-1.109930879603663,-1.2770425950225417,0.6858098356563493,1.0790138719360631,-1.1295910814176486,0.7546205420052993,-0.6970666415099637,0.8136011474472565,-1.2377221913945697,1.0396934683080916,0.8037710465402638,-0.9624793659987704,-0.8641783569288419,-0.972309466905763,1.1183342755640342,0.6071690284004067,-0.9428191641847847,1.1576546791920055,1.0298633674010989,-1.1984017877665984,-1.1492512832316344,-1.0706104759756916,0.7939409456332708,0.7447904410983065,-1.050950274161706,-1.0214599714407273,-1.1197609805106559,-0.7855375496728989,1.0396934683080916,0.725130239284321,0.8922419547031989,-1.1984017877665984,-0.9821395678127561,-1.2868726959295342,-0.9231589623707988,-1.0214599714407273,1.0396934683080916,0.951222560145156,1.2461255873549408,-1.0607803750686986,-1.2377221913945697,-0.991969668719749,-1.0706104759756916,-1.050950274161706,-1.0214599714407273,0.9413924592381631,-1.16891148504562,0.9020720556101917,0.8136011474472565,0.8234312483542492,1.00037306468012,0.7447904410983065,0.5875088265864212,-1.227892090487577,-1.2377221913945697,-1.0312900723477205,-1.0017997696267418,-0.991969668719749,0.784110844726278,0.715300138377328,0.8136011474472565,-0.9034987605568136,0.9807128628661347,1.0396934683080916,-1.178741585952613,-1.1885716868596057,-1.050950274161706,-1.2475522923015627,-1.0902706777896771,0.725130239284321,0.843091450168235,-0.7757074487659065,-0.7855375496728989,0.7349603401913136,-1.2475522923015627,0.8037710465402638,0.5481884229584497,1.1773148810059912,-0.8445181551148563,1.0298633674010989,0.9807128628661347,-0.9034987605568136,0.9905429637731273,0.951222560145156,0.8136011474472565,-1.227892090487577,0.8725817528892134,-0.9526492650917777,-0.7658773478589136,-1.1394211823246412,0.9020720556101917,-0.9231589623707988,0.8824118537962062,1.020033266494106,-1.4441543104414196,-1.0902706777896771,0.7302710074830353,0.8627516519822207,1.0298633674010989,-1.0902706777896771,-1.178741585952613,-0.8936686596498202,0.6071690284004067,0.8725817528892134,1.1969750828199772,-0.991969668719749,0.5678486247724357,-0.9133288614638062,-1.0902706777896771,-0.8641783569288419,-0.9034987605568136,-0.9133288614638062,-1.1295910814176486,-1.050950274161706,-1.050950274161706,-1.2180619895805842,0.9708827619591417,1.255955688261934,-1.1590813841386272,0.9119021565171849,-1.2180619895805842,0.8529215510752278,1.010203165587113,-1.1590813841386272,-1.4539844113484122,0.8136011474472565,-1.1001007786966701,-1.0116298705337343,-0.8641783569288419,0.9020720556101917,0.9020720556101917,-0.8641783569288419,1.2166352846339625,0.8234312483542492,-0.883838558742828,-1.0017997696267418,0.9610526610521489,1.0298633674010989,0.7742807438192854,1.0790138719360631,0.7742807438192854,-0.8346880542078635,-0.7902268823811777,-0.8688676896371202,-0.9671686987070489,1.010203165587113,-0.996659001428027,0.8627516519822207,-0.8983579923580988,0.6169991293073999,0.7054700374703353,0.7546205420052993,1.0448342365068064,0.7349603401913136,-0.6774064396959779,-0.8248579533008707,-1.0902706777896771,0.7349603401913136,1.00037306468012,0.9020720556101917,-0.7363870451379351,1.020033266494106,0.9807128628661347,-1.1590813841386272,0.9905429637731273,0.8136011474472565,-0.691221212468102,0.7644506429122921,-1.2082318886735914,-1.227892090487577,-1.2475522923015627,-0.8492074878231348,0.8824118537962062,0.8234312483542492,-1.0706104759756916,1.00037306468012,-1.2672124941155485,-1.0949600104979555,1.2854459909829123,0.6956399365633421,0.7054700374703353,0.9807128628661347,1.0691837710290701,0.784110844726278,0.7054700374703353,-1.0804405768826844,1.010203165587113,1.1085041746570414,0.7054700374703353,-1.0607803750686986,-1.1295910814176486,-1.109930879603663,0.7939409456332708,-1.0706104759756916,0.6366593311213852,-0.7462171460449278,1.0298633674010989,1.0986740737500487,0.715300138377328,0.7447904410983065,1.0888439728430557,1.3200770619026054,0.5973389274934137,-1.2377221913945697,-1.0607803750686986,0.9465332274368777,0.8922419547031989,-1.3851737049994621,-0.8346880542078635,-1.0017997696267418,-1.2672124941155485,-1.2770425950225417,0.6858098356563493,-1.296702796836527,0.9413924592381631,0.9610526610521489,0.9708827619591417,1.005513832878835,-1.2868726959295342,-1.1197609805106559,-1.16891148504562,0.8627516519822207,0.8037710465402638,0.9807128628661347,-1.0607803750686986,0.9905429637731273,0.9807128628661347,1.010203165587113,1.1085041746570414,-0.9526492650917777,-0.5241094970492237,-0.33733757981635965,-0.932989063277792,0.9465332274368777,-0.932989063277792,0.7054700374703353,1.005513832878835,-1.5078242485916546,0.7401011083900282,-0.8295472860091488,0.951222560145156,-1.041120173254713,-0.9133288614638062,1.3200770619026054,-0.877993129700966,0.8285720165529639,0.5580185238654427,0.8922419547031989,0.8824118537962062,-0.7855375496728989,-0.883838558742828,-1.227892090487577,0.7546205420052993,-1.109930879603663,-0.9821395678127561,0.8136011474472565,-1.2573823932085557,0.9020720556101917,-1.0214599714407273,-1.1001007786966701,-1.2180619895805842,0.725130239284321,-1.1295910814176486,0.8234312483542492,1.0593536701220774,0.8037710465402638,-1.1295910814176486,-0.9821395678127561,0.7349603401913136,0.7644506429122921,-1.4441543104414196,0.8234312483542492,0.8529215510752278,-1.0902706777896771,-1.3163629986505125,-1.3065328977435198,0.9119021565171849,-1.1539406159399126,0.8627516519822207,0.784110844726278,-1.2573823932085557,0.9807128628661347,-1.0902706777896771,-1.0804405768826844,-1.0312900723477205,-1.1984017877665984,-1.2377221913945697,-0.991969668719749,0.9413924592381631,-1.2868726959295342,-0.972309466905763,-0.8051977514868852,-1.2180619895805842,-1.0706104759756916,0.8037710465402638,1.5370439426995954,0.725130239284321,1.2021158510186916,0.8824118537962062,0.843091450168235,0.8922419547031989,-1.1885716868596057,-1.0214599714407273,-0.8393773869161416,0.8922419547031989,-1.0607803750686986,-1.16891148504562,-1.1539406159399126,-0.9671686987070489,-1.1984017877665984,-0.8445181551148563,-0.9231589623707988,-1.1984017877665984,0.9956837319718418,-1.178741585952613,0.5973389274934137,0.725130239284321,-0.9133288614638062,0.8332613492612422,-1.1394211823246412,0.7447904410983065,-0.9526492650917777,-0.9624793659987704,1.5272138417926027,-0.6919258733112493,1.005513832878835,0.7499312092970211,0.9807128628661347,-0.5044492952352378,-0.2980171761883884,-0.258696772560417,-0.6027503043051665,1.6156847499555378,-0.573260001584188,-0.5044492952352378,-1.0851299095909623,-1.0851299095909623,-0.6231151669622994,-0.996659001428027,1.103814841948763,0.6811205029480709,-0.18005596530447437,-0.7803967814741849,0.6909506038550641,1.103814841948763,-1.1834309186608911,1.00037306468012,-0.3963181852583167,1.6353449517695242,0.9760235301578565,1.0448342365068064,1.7631362635604308,-0.2783569743744027,-1.0902706777896771,1.6255148508625308,0.9217322574241775,0.9807128628661347,-1.2770425950225417,0.843091450168235,0.9905429637731273,-0.972309466905763,1.0593536701220774,-1.109930879603663,1.0593536701220774,1.0298633674010989,0.843091450168235,1.1576546791920055,0.9020720556101917,0.9905429637731273,-1.2475522923015627,-1.0312900723477205,-1.109930879603663,-0.7658773478589136,0.8922419547031989,0.784110844726278,-1.109930879603663,0.8136011474472565,-1.2180619895805842,0.7939409456332708,0.8627516519822207,0.8136011474472565,-1.1295910814176486,-1.0607803750686986,1.0396934683080916,1.1969750828199772,-1.1295910814176486,1.1773148810059912,0.8234312483542492,-1.0607803750686986,0.843091450168235,-0.972309466905763,0.8037710465402638,0.7447904410983065,-1.16891148504562,-0.9526492650917777,0.8384021174599566,0.8627516519822207,-1.3261930995575053,-1.355683402278484,0.6661496338423638,1.0495235692150844,-1.1394211823246412,-1.296702796836527,-1.109930879603663,-0.9034987605568136,1.1281643764710274,0.9315623583311703,-0.8248579533008707,-1.178741585952613,0.8234312483542492,-0.883838558742828,0.7644506429122921,-0.8740084578358346,-0.9624793659987704,-1.2475522923015627,-1.2672124941155485,0.784110844726278,0.9315623583311703,0.725130239284321,1.2461255873549408,0.5875088265864212,1.0495235692150844,0.8332613492612422,1.1281643764710274,1.0298633674010989,0.8529215510752278,0.715300138377328,0.725130239284321,-1.2573823932085557,-1.2672124941155485,-1.2475522923015627,0.725130239284321,0.7939409456332708,0.7349603401913136,-1.296702796836527,1.0986740737500487,-1.1394211823246412,0.8627516519822207,0.8332613492612422,-1.2915620286378122,0.784110844726278,0.926873025622892,0.7447904410983065,0.8627516519822207,1.020033266494106,1.00037306468012,-0.8346880542078635,1.0790138719360631,-1.1590813841386272,-1.16891148504562,-1.2475522923015627,0.9905429637731273,-1.178741585952613,-1.1492512832316344,0.6614603011340854,-0.9376783959860702,0.8037710465402638,0.843091450168235,-0.9624793659987704,-1.0902706777896771,-1.050950274161706,0.6661496338423638,-0.5889355315330423,-1.1197609805106559,-1.4539844113484122,-1.1984017877665984,-1.2180619895805842,-0.9428191641847847,-1.0214599714407273,1.0396934683080916,0.7644506429122921,0.784110844726278,0.784110844726278,-0.16039576349048867,1.7631362635604308,1.1478245782850127,-1.1492512832316344,0.8037710465402638,1.1431352455767345,-1.1394211823246412,-1.1001007786966701,1.1831603100478536,1.5763643463275667,0.7695914111110066,-1.227892090487577,0.8037710465402638,-1.0312900723477205,-1.1885716868596057,0.8037710465402638,-1.1394211823246412,-0.760736579660199,1.0986740737500487,0.9217322574241775,0.9020720556101917,0.9610526610521489,-1.00648910233502,-1.1295910814176486,-1.16891148504562,-1.109930879603663,-1.0804405768826844,-1.041120173254713,0.8824118537962062,-1.2180619895805842,0.7644506429122921,-1.1984017877665984,-1.1197609805106559,-1.1197609805106559,0.8529215510752278,1.0153439337858277,0.7546205420052993,1.2709265573676416,-1.1492512832316344,-1.1984017877665984,-1.1637707168469054,1.0691837710290701,0.951222560145156,1.1379944773780197,0.7447904410983065,1.2264653855409555,-1.1001007786966701,-1.0017997696267418,-1.0607803750686986,-1.0804405768826844,0.7644506429122921,0.6956399365633421,-0.7462171460449278,0.8627516519822207,-0.932989063277792,0.9217322574241775,0.784110844726278,0.715300138377328,0.784110844726278,0.8037710465402638,-1.16891148504562,1.0790138719360631,-1.0804405768826844,0.8824118537962062,-0.972309466905763,0.8529215510752278,1.0986740737500487,1.0691837710290701,-1.2082318886735914,-1.0902706777896771,-1.0017997696267418,1.0251740346928204,-0.9624793659987704,1.064494438320792,-1.3898630377077403,0.9020720556101917,-1.2573823932085557,1.00037306468012,0.6366593311213852,-1.296702796836527,-1.2573823932085557,-0.9376783959860702,0.9020720556101917,-1.227892090487577,0.9905429637731273,0.8037710465402638,-1.355683402278484,0.8234312483542492,-1.4685038449636836,0.8136011474472565,0.715300138377328,-0.8000569832881705,0.8725817528892134,0.9217322574241775,0.9020720556101917,1.0790138719360631,-1.2180619895805842,-0.9278482950790774,0.9610526610521489,-1.1295910814176486,-0.9769987996140415,0.7742807438192854,1.010203165587113,-0.972309466905763,-0.9231589623707988,-0.24886667165342427,1.684495456304488,-1.016319203242013,1.6943255572114813,-0.7115860751252348,0.9956837319718418,-1.4586737440566904,-0.681391111561109,-0.7509064787532064,-1.1047901114049483,-0.7902268823811777,1.1333051446697417,-1.0458095059629915,-1.016319203242013,-1.262071725916834,-0.18005596530447437,-1.1637707168469054,-0.9278482950790774,-0.8983579923580988,-1.3851737049994621,-0.2390365707464313,1.064494438320792,0.9661934292508634,-0.7312462769392206,0.715300138377328,0.6956399365633421,0.9020720556101917,-0.8740084578358346,0.9905429637731273,0.8725817528892134,1.010203165587113,-1.0312900723477205,-1.1492512832316344,-1.16891148504562,-1.0214599714407273,-1.2475522923015627,-0.9428191641847847,0.9807128628661347,0.725130239284321,-1.2868726959295342,0.9610526610521489,0.7054700374703353,0.9610526610521489,-1.2770425950225417,-0.9821395678127561,-1.0312900723477205,-0.815027852393878,0.8332613492612422,-1.355683402278484,-1.2180619895805842,-1.0607803750686986,-1.178741585952613,0.715300138377328,-1.227892090487577,0.7742807438192854,0.9905429637731273,-1.2180619895805842,0.8529215510752278,0.8627516519822207,0.8529215510752278,-1.2770425950225417,0.8725817528892134,0.9807128628661347,-1.0458095059629915,0.7054700374703353,-1.050950274161706,-1.050950274161706,0.843091450168235,0.8824118537962062,-1.473644613162398,0.8234312483542492,0.715300138377328,1.1379944773780197,-1.0214599714407273,0.7644506429122921,0.9610526610521489,0.9610526610521489,0.8922419547031989,0.9413924592381631,0.8725817528892134,0.9807128628661347,0.7546205420052993,1.103814841948763,0.9807128628661347,-0.8641783569288419,-1.0116298705337343,0.9610526610521489,-1.2475522923015627,-1.041120173254713,0.715300138377328,0.715300138377328,0.784110844726278,1.1674847800989985,-1.1984017877665984,0.4990379184234855,-0.9376783959860702,1.1234750437627488,-1.2325814231958554,-1.016319203242013,-1.050950274161706,-1.124450313218934,-1.2475522923015627,-1.0902706777896771,0.7054700374703353,0.8922419547031989,0.7939409456332708,-0.9821395678127561,0.6956399365633421,-0.9133288614638062,-1.3950038059064551,0.7349603401913136,0.7054700374703353,0.5580185238654427,1.010203165587113,-1.1492512832316344,-0.9133288614638062,-0.972309466905763,0.8922419547031989,-0.8740084578358346,-0.9624793659987704,1.1674847800989985,-1.1590813841386272,0.6268292302143926,0.8725817528892134,-1.2573823932085557,0.784110844726278,-0.5830901024911808,-1.0706104759756916,-1.0017997696267418,-1.0116298705337343,0.7939409456332708,-1.178741585952613,-1.2180619895805842,0.7939409456332708,-1.1197609805106559,0.8234312483542492,-1.2082318886735914,-0.7953676505798923,0.8627516519822207,0.7939409456332708,-1.1885716868596057,0.7742807438192854,-1.109930879603663,-1.2180619895805842,-1.1001007786966701,-1.1001007786966701,-0.9081880932650915,-1.2180619895805842,0.7054700374703353,0.867892420180935,-1.1590813841386272,-1.1984017877665984,1.0986740737500487,0.8627516519822207,0.7939409456332708,-1.050950274161706,-1.1001007786966701,0.8529215510752278,0.8725817528892134,-1.1492512832316344,-1.1885716868596057,0.784110844726278,-1.1197609805106559,0.5186981202374715,-0.7410763778462135,-1.1441105150329198,-0.9376783959860702,0.6464894320283783,0.8529215510752278,-1.2475522923015627,0.7644506429122921,-1.2082318886735914,-1.1295910814176486,-0.9428191641847847,0.7939409456332708,0.5186981202374715,0.715300138377328,1.0790138719360631,-1.4638145122554054,-1.0607803750686986,-1.3851737049994621,0.8136011474472565,-1.1492512832316344,-1.0654697077769772,-0.9769987996140415,1.035004135599813,1.6058546490485455,-0.8590375887301276,-0.7017559742182419,0.5678486247724357,0.7939409456332708,-1.2180619895805842,0.7939409456332708,-1.0902706777896771,-0.991969668719749,-1.1984017877665984,-0.8248579533008707,-0.9278482950790774,1.1085041746570414,0.8627516519822207,0.8529215510752278,0.6858098356563493,1.0691837710290701,1.1085041746570414,-0.8786977905441131,-0.8051977514868852,0.7054700374703353,-0.9376783959860702,0.8136011474472565,-0.8590375887301276,-1.1885716868596057,0.9315623583311703,-1.1001007786966701,0.8234312483542492,-1.1637707168469054,-1.2475522923015627,-1.1394211823246412,1.2316061537396703,-0.9180181941720844,-0.9671686987070489,1.1922857501116984,1.0841546401347775,-1.0949600104979555,1.4289128327226746,1.1824556492047056,-1.0804405768826844,-0.3668278825373381,1.7533061626534374,0.5186981202374715,-0.2343472380381529,-0.6027503043051665,-0.8295472860091488,1.005513832878835,1.5370439426995954,1.4584031354436526,-1.124450313218934,-0.26852687346740983,-1.227892090487577,-0.6027503043051665,0.7447904410983065,-1.1590813841386272,0.8529215510752278,-1.0214599714407273,0.7054700374703353,-1.041120173254713,1.0691837710290701,0.951222560145156,1.2461255873549408,1.0691837710290701,0.8332613492612422,-1.1394211823246412,0.7447904410983065,-0.9526492650917777,-1.178741585952613,-1.2573823932085557,-1.227892090487577,-1.0607803750686986,-1.2082318886735914,-0.9231589623707988,-1.1295910814176486,0.7546205420052993,0.8037710465402638,-1.2868726959295342,0.9708827619591417,-1.2082318886735914,-0.9231589623707988,1.1085041746570414,0.8234312483542492,-1.0214599714407273,0.8384021174599566,0.9956837319718418,-1.0654697077769772,-0.7214161760322279,1.1726255482977128,-1.07529980868397,1.035004135599813,0.843091450168235,1.733645960839452,1.064494438320792,-1.00648910233502,0.8973827229019137,-1.2770425950225417,0.858062319273942,0.8973827229019137,-0.9180181941720844,-0.8936686596498202,-0.34716768072335263,-1.016319203242013,-0.8393773869161416,0.8777225210879278,1.2021158510186916,1.1234750437627488,-0.8983579923580988,1.7776556971757016,-0.9671686987070489,-1.00648910233502,1.064494438320792,-1.0261493041490057,-1.1736008177538986,-0.7214161760322279,0.5088680193304784,-1.296702796836527,-1.2082318886735914,-1.1590813841386272,1.0298633674010989,-0.9526492650917777,1.5272138417926027,1.478063337257639,-0.7803967814741849,-0.9081880932650915,-0.563429900677195,0.843091450168235,-0.8885278914511059,1.1529653464837273,0.8627516519822207,-1.473644613162398,0.784110844726278,-0.9231589623707988,-0.9624793659987704,0.6858098356563493,-1.2180619895805842,-1.0116298705337343,0.7644506429122921,-1.109930879603663,0.8136011474472565,-1.109930879603663,-0.996659001428027,0.7546205420052993,-1.2180619895805842,-1.178741585952613,0.9610526610521489,0.8234312483542492,1.00037306468012,0.7447904410983065,0.725130239284321,-1.1590813841386272,-0.8543482560218488,1.035004135599813,1.113644942855756,1.020033266494106,0.8922419547031989,0.9119021565171849,-0.9376783959860702,-0.9034987605568136,0.8234312483542492,0.8482322183669496,-1.0312900723477205,1.020033266494106,1.00037306468012,0.7939409456332708,0.8725817528892134,-1.1394211823246412,-0.991969668719749,0.784110844726278,1.2119459519256846,-0.760736579660199,-1.0312900723477205,-0.9475084968930629,1.0251740346928204,-1.0458095059629915,-0.7502018179100589,0.7990817138319852,1.3397372637165912,-1.0359794050559985,-0.4454686897932809,-0.563429900677195,0.6024796956921283,-0.2881870752813955,-0.6125804052121592,-0.972309466905763,-0.4356385888862881,-0.7509064787532064,0.9119021565171849,-1.0607803750686986,0.8627516519822207,0.6759797347493568,1.0691837710290701,0.725130239284321,0.7447904410983065,-1.2377221913945697,-1.2377221913945697,1.0298633674010989,1.1085041746570414,0.7644506429122921,0.6956399365633421,0.9708827619591417,0.9315623583311703,-1.3065328977435198,-1.2082318886735914,-1.227892090487577,-0.991969668719749,0.6366593311213852,-1.1197609805106559,-1.2770425950225417,0.8234312483542492,-1.2672124941155485,-1.4244941086274339,-1.0312900723477205,1.1478245782850127,0.725130239284321,-1.355683402278484,-1.4441543104414196,0.7742807438192854,-1.1197609805106559,-0.9034987605568136,0.8234312483542492,-1.3065328977435198,-0.7363870451379351,0.6858098356563493,-1.16891148504562,1.0495235692150844,0.8824118537962062,-1.1590813841386272,-1.1492512832316344,1.0691837710290701,-1.0312900723477205,-0.9133288614638062,0.784110844726278,0.9315623583311703,-0.815027852393878,0.9119021565171849,0.9217322574241775,0.784110844726278,0.7546205420052993,-1.1984017877665984,-0.9624793659987704,-0.883838558742828,0.8136011474472565,0.6614603011340854,0.8037710465402638,0.6464894320283783,-1.1197609805106559,0.9020720556101917,1.0593536701220774,-0.8248579533008707,0.9413924592381631,0.8627516519822207,0.8234312483542492,0.7939409456332708,-1.2377221913945697,0.725130239284321,1.1674847800989985,0.6759797347493568,-0.8641783569288419,0.951222560145156,0.5776787256794285,-1.355683402278484,-0.9526492650917777,0.9807128628661347,-0.8641783569288419,-1.0312900723477205,-0.7658773478589136,-0.8641783569288419,-0.8543482560218488,0.9020720556101917,0.8332613492612422,-0.8936686596498202,1.314936293703891,-0.8936686596498202,0.8332613492612422,1.255955688261934,1.1085041746570414,-1.4146640077204409,0.8332613492612422,1.1773148810059912,0.784110844726278,0.9315623583311703,0.9807128628661347,1.0298633674010989,0.725130239284321,-1.0017997696267418,1.1281643764710274,-1.2475522923015627,1.0495235692150844,0.7644506429122921,0.7447904410983065,-1.1001007786966701,0.6759797347493568,0.784110844726278,0.9905429637731273,-1.050950274161706,0.9217322574241775,0.9807128628661347,0.784110844726278,0.9905429637731273,-1.2770425950225417,-0.9624793659987704,-1.0214599714407273,-0.8740084578358346,0.8627516519822207,0.9315623583311703,-1.1197609805106559,1.0593536701220774,1.00037306468012,1.010203165587113,-1.1492512832316344,-1.4441543104414196,1.1674847800989985,0.6858098356563493,0.7644506429122921,-1.2180619895805842,-0.7953676505798923,-1.227892090487577,0.9217322574241775,1.1674847800989985,0.7742807438192854,-0.7560472469519212,-1.0902706777896771,0.9315623583311703,1.020033266494106,0.9020720556101917,-1.1394211823246412,-1.0804405768826844,0.8037710465402638,0.7644506429122921,-1.1001007786966701,0.8875526219949208,-1.4343242095344266,-1.2377221913945697,-1.050950274161706,-0.7167268433239494,-1.1001007786966701,-1.050950274161706,-1.2868726959295342,-1.0804405768826844,-1.1984017877665984,0.8037710465402638,0.7349603401913136,-0.991969668719749,-1.050950274161706,-1.1295910814176486,-1.2082318886735914,0.7939409456332708,-1.1295910814176486,0.6858098356563493,-1.2573823932085557,-1.2180619895805842,-1.0017997696267418,0.715300138377328,-1.1001007786966701,-0.7803967814741849,0.9170429247158991,-1.3655135031854766,0.951222560145156,0.9020720556101917,1.2166352846339625,0.9610526610521489,-0.4061482861653096,-1.0458095059629915,1.0986740737500487,0.9217322574241775,0.8824118537962062,-0.8346880542078635,0.9807128628661347,0.9610526610521489,-1.0312900723477205,-1.1394211823246412,0.6858098356563493,0.7054700374703353,0.9905429637731273,-1.2082318886735914,0.8529215510752278,0.9217322574241775,-0.8543482560218488,1.3051061927968983,0.7447904410983065,-1.1394211823246412,0.8332613492612422,0.6759797347493568,0.7447904410983065,-1.0458095059629915,0.5875088265864212,1.1674847800989985,0.843091450168235,0.8037710465402638,-0.815027852393878,1.020033266494106,-1.0804405768826844,0.8922419547031989,0.715300138377328,0.8529215510752278,-1.0902706777896771,0.4990379184234855,0.951222560145156,0.9119021565171849,-1.1001007786966701,-0.996659001428027,1.020033266494106,-1.227892090487577,-1.041120173254713,0.7742807438192854,-1.0804405768826844,0.8037710465402638,0.8332613492612422,0.7447904410983065,0.9413924592381631,-1.1590813841386272,0.9315623583311703,0.8037710465402638,0.715300138377328,0.725130239284321,0.951222560145156,1.0495235692150844,-1.041120173254713,0.715300138377328,1.0495235692150844,1.010203165587113,0.5088680193304784,-1.1001007786966701,0.9119021565171849,1.1183342755640342,-1.1885716868596057,-0.9821395678127561,0.6956399365633421,0.7349603401913136,0.7054700374703353,-0.9821395678127561,-0.8543482560218488,-0.5044492952352378,0.9807128628661347,1.0495235692150844,0.9807128628661347,0.8529215510752278,0.8922419547031989,0.843091450168235,-1.16891148504562,-1.1197609805106559,1.0790138719360631,-1.3065328977435198,0.7939409456332708,-1.178741585952613,0.9413924592381631,-0.9231589623707988,-1.0607803750686986,-1.2082318886735914,-0.9526492650917777,1.0396934683080916,-1.109930879603663,0.7742807438192854,-1.1197609805106559,-1.0902706777896771,-0.9034987605568136,1.00037306468012,0.6464894320283783,1.0448342365068064,0.951222560145156,0.9807128628661347,-1.4638145122554054,0.7939409456332708,1.00037306468012,-0.7855375496728989,0.5875088265864212,0.8136011474472565,-1.2180619895805842,1.0593536701220774,-1.0804405768826844,-1.2770425950225417,-1.1295910814176486,0.784110844726278,0.7939409456332708,-1.0607803750686986,-1.1492512832316344,1.1379944773780197,-1.050950274161706,0.784110844726278,0.9217322574241775,1.0495235692150844,0.9413924592381631,1.0691837710290701,0.7644506429122921,0.6858098356563493,0.8136011474472565,-1.1885716868596057,-0.8445181551148563,0.9413924592381631,0.7644506429122921,-1.0214599714407273,0.6661496338423638,0.7447904410983065,0.8922419547031989,-0.9526492650917777,-1.227892090487577,-1.0312900723477205,0.8627516519822207,-1.0312900723477205,0.725130239284321,-0.9376783959860702,-1.124450313218934,-1.041120173254713,0.8234312483542492,-1.1492512832316344,-1.178741585952613,0.7349603401913136,1.1576546791920055,0.9905429637731273,0.8725817528892134,-1.109930879603663,0.8824118537962062,0.9610526610521489,1.020033266494106,-1.3950038059064551,0.7742807438192854,-1.1885716868596057,0.9807128628661347,1.00037306468012,0.8922419547031989,-1.041120173254713,0.8529215510752278,1.2166352846339625,-1.041120173254713,0.9413924592381631,0.8234312483542492,-1.1001007786966701,0.8725817528892134,-1.1590813841386272,-1.0214599714407273,0.9020720556101917,0.7644506429122921,1.020033266494106,-1.227892090487577,0.7644506429122921,-1.050950274161706,-0.9034987605568136,0.6661496338423638,-0.8543482560218488,-1.2377221913945697,0.9708827619591417,-0.9376783959860702,0.951222560145156,0.7546205420052993,-0.815027852393878,-1.3655135031854766,-1.296702796836527,0.8627516519822207,-1.0017997696267418,-0.376657983444331,-1.0804405768826844,1.0396934683080916,0.725130239284321,0.7644506429122921,0.7054700374703353,0.725130239284321,0.8037710465402638,0.951222560145156,1.0298633674010989,-1.178741585952613,-0.8641783569288419,-0.9133288614638062,-0.9526492650917777,0.7644506429122921,-1.1001007786966701,1.1183342755640342,0.6268292302143926,0.9119021565171849,1.1478245782850127,-1.2672124941155485,1.020033266494106,0.8332613492612422,-1.227892090487577,-0.8543482560218488,-0.9821395678127561,1.3051061927968983,-0.7462171460449278,0.9119021565171849,-1.1885716868596057,-0.7462171460449278,0.9807128628661347,-1.2180619895805842,0.8922419547031989,0.9807128628661347,1.0691837710290701,0.9315623583311703,0.9315623583311703,0.8037710465402638,-1.1492512832316344,-1.4048339068134483,-1.016319203242013,-1.178741585952613,1.113644942855756,-1.0902706777896771,0.6956399365633421,1.0495235692150844,-1.1885716868596057,0.8922419547031989,-1.0902706777896771,0.9413924592381631,0.8529215510752278,0.9020720556101917,0.9119021565171849,-1.296702796836527,0.8627516519822207,-1.134280414125927,-1.1984017877665984,0.6563195329353709,-1.3655135031854766,-0.9428191641847847,0.6858098356563493,0.9217322574241775,0.9217322574241775,-0.8885278914511059,0.6169991293073999,0.4892078175164927,0.7349603401913136,-1.1295910814176486,-1.1295910814176486,0.9119021565171849,0.784110844726278,0.715300138377328,0.8234312483542492,0.9807128628661347,-0.8346880542078635,-1.0312900723477205,1.005513832878835,0.985853631064849,-1.1590813841386272,-1.1197609805106559,0.7447904410983065,0.784110844726278,0.8332613492612422,0.9217322574241775,-1.1394211823246412,-0.972309466905763,1.1529653464837273,0.9708827619591417,0.8136011474472565,0.8037710465402638,-1.0949600104979555,0.6858098356563493,0.4990379184234855,0.7447904410983065,-1.296702796836527,-0.7363870451379351,-1.0706104759756916,0.8234312483542492,-1.1295910814176486,-0.9671686987070489,0.7054700374703353,0.8627516519822207,1.1773148810059912,-1.0902706777896771,-0.9278482950790774,-1.041120173254713,-0.991969668719749,0.9020720556101917,-1.0017997696267418,0.6956399365633421,-1.2573823932085557,-1.1295910814176486,0.9807128628661347,-1.1394211823246412,-1.1394211823246412,0.9905429637731273,-1.16891148504562,-1.0261493041490057,0.7546205420052993,0.8136011474472565,-1.1394211823246412,-1.109930879603663,1.020033266494106,-1.2082318886735914,0.8529215510752278,-1.1885716868596057,0.8824118537962062,0.843091450168235,-1.16891148504562,-1.0359794050559985,-0.8688676896371202,-1.3950038059064551,-1.1885716868596057,1.2952760918899053,1.1431352455767345,1.010203165587113,1.035004135599813,-1.134280414125927,-1.5078242485916546,-1.16891148504562,0.9315623583311703,-1.178741585952613,0.6956399365633421,0.7644506429122921,0.725130239284321,0.9072128238089062,-0.4454686897932809,-0.4159783870723025,1.005513832878835,-0.9133288614638062,0.9020720556101917,0.7054700374703353,-1.134280414125927,1.2414362546466629,-1.0902706777896771,0.7644506429122921,0.843091450168235,-1.1984017877665984,-0.7902268823811777,0.8136011474472565,0.8234312483542492,-1.1295910814176486,-1.4539844113484122,-1.07529980868397,1.0939847410417702,0.9807128628661347,-1.1047901114049483,-1.2868726959295342,-1.1590813841386272,0.8136011474472565,-1.1197609805106559,0.8922419547031989,0.7447904410983065,-1.0654697077769772,-0.9868289005210346,1.1333051446697417,-1.0359794050559985,-0.9133288614638062,1.7729663644674236,-0.3963181852583167,0.843091450168235,1.7139857590254663,-0.972309466905763,1.054664337413799,-1.4244941086274339,-1.0654697077769772,-0.8885278914511059,0.8875526219949208,-1.1047901114049483,-0.8000569832881705,-0.9081880932650915,-1.055639606869984,-0.9573385978000557,1.1234750437627488,-0.9475084968930629,-1.1736008177538986,-1.07529980868397,1.1431352455767345,1.1431352455767345,-0.8786977905441131,0.843091450168235,0.926873025622892,-0.9034987605568136,0.9367031265298849,-0.8051977514868852,0.9367031265298849,1.0251740346928204,0.7695914111110066,0.8529215510752278,0.8824118537962062,-0.9671686987070489,-1.124450313218934,0.8285720165529639,1.2119459519256846,-0.9868289005210346,0.8136011474472565,0.715300138377328,0.8627516519822207,0.784110844726278,-0.8248579533008707,-1.0706104759756916,0.7447904410983065,1.1576546791920055,1.2461255873549408,-1.0312900723477205,0.715300138377328,-1.041120173254713,-1.1492512832316344,-1.1001007786966701,-1.109930879603663,-1.1590813841386272,-1.0312900723477205,1.1478245782850127,0.8234312483542492,-1.050950274161706,1.1281643764710274,0.8332613492612422,-1.1590813841386272,-1.1492512832316344,0.7349603401913136,-1.1001007786966701,-1.1885716868596057,0.7546205420052993,-1.0214599714407273,-1.2180619895805842,0.6858098356563493,0.7644506429122921,0.8824118537962062,-1.1984017877665984,-0.9428191641847847,0.725130239284321,0.8136011474472565,-1.2672124941155485,1.0691837710290701,-0.9428191641847847,0.7644506429122921,-0.8641783569288419,0.9315623583311703,-0.9526492650917777,0.6858098356563493,-1.2377221913945697,0.9413924592381631,0.6563195329353709,1.1379944773780197,-0.8936686596498202,0.5285282211444643,1.1576546791920055,0.8136011474472565,-1.296702796836527,0.7644506429122921,0.5088680193304784,0.6759797347493568,0.725130239284321,-1.16891148504562,-0.9133288614638062,-0.2980171761883884,0.8627516519822207,-1.345853301371491,1.0790138719360631,0.7349603401913136,1.0593536701220774,1.2166352846339625,-1.1295910814176486,0.9413924592381631,0.9119021565171849,-1.134280414125927,0.7546205420052993,-1.050950274161706,-1.0214599714407273,0.9807128628661347,-1.345853301371491,-1.0312900723477205,0.8234312483542492,0.8922419547031989,-0.9868289005210346,-1.0312900723477205,-1.227892090487577,0.9020720556101917,0.9315623583311703,0.6858098356563493,-1.1394211823246412,0.4892078175164927,1.020033266494106,0.7349603401913136,0.9020720556101917,-0.883838558742828,0.8824118537962062,0.9119021565171849,1.0593536701220774,-1.0902706777896771,-0.9133288614638062,0.951222560145156,0.8922419547031989,1.0495235692150844,0.5285282211444643,-1.0312900723477205,-1.0607803750686986,-1.3065328977435198,-1.473644613162398,0.9119021565171849,1.2166352846339625,0.7447904410983065,-1.041120173254713,-1.1590813841386272,0.9413924592381631,1.0790138719360631,0.8136011474472565,0.9807128628661347,0.9315623583311703,-1.2180619895805842,0.8824118537962062,1.2316061537396703,0.985853631064849,1.054664337413799,0.9119021565171849,0.6464894320283783,0.8136011474472565,0.8824118537962062,-1.050950274161706,0.715300138377328,0.985853631064849,0.9413924592381631,0.8824118537962062,-1.2377221913945697,0.9119021565171849,0.7447904410983065,0.784110844726278,0.7546205420052993,1.0986740737500487,-0.8346880542078635,0.843091450168235,1.0593536701220774,-1.1885716868596057,-1.1295910814176486,0.8136011474472565,0.8627516519822207,0.8627516519822207,-1.1394211823246412,0.7546205420052993,-1.1492512832316344,-1.4539844113484122,-1.3261930995575053,0.6464894320283783,0.7644506429122921,1.020033266494106,0.6464894320283783,-1.1984017877665984,-1.0706104759756916,-1.2377221913945697,-1.4048339068134483,0.7644506429122921,1.0593536701220774,0.9020720556101917,0.8529215510752278,0.843091450168235,0.9905429637731273,-1.2180619895805842,0.7349603401913136,-1.0116298705337343,-1.1047901114049483,-0.8445181551148563,-1.178741585952613,0.9217322574241775,1.0888439728430557,0.8332613492612422,-0.8445181551148563,-1.3655135031854766,-1.041120173254713,0.8037710465402638,-0.932989063277792,0.8627516519822207,-1.1492512832316344,0.8037710465402638,-1.4343242095344266,0.8922419547031989,0.8922419547031989,-1.1590813841386272,-1.1197609805106559,1.1773148810059912,1.1674847800989985,0.8725817528892134,0.9905429637731273,1.00037306468012,1.1281643764710274,1.0396934683080916,0.951222560145156,-0.8445181551148563,0.8037710465402638,-1.4441543104414196,-0.8936686596498202,0.8725817528892134,1.0986740737500487,1.0790138719360631,0.715300138377328,0.7447904410983065,0.784110844726278,-1.2475522923015627,-0.9526492650917777,-1.2770425950225417,-1.0312900723477205,0.9020720556101917,-0.9034987605568136,-1.109930879603663,-1.1295910814176486,0.725130239284321,-0.8248579533008707,0.8136011474472565,0.9119021565171849,0.8725817528892134,0.8627516519822207,0.6759797347493568,0.7546205420052993,0.6661496338423638,0.784110844726278,0.7349603401913136,-1.2180619895805842,-1.1492512832316344,-1.109930879603663,0.9119021565171849,0.8037710465402638,-0.7953676505798923,0.9708827619591417,0.8627516519822207,1.0495235692150844,-1.0312900723477205,0.9217322574241775,0.9020720556101917,0.9413924592381631,-0.9133288614638062,0.8627516519822207,-1.109930879603663,-1.1197609805106559,1.1085041746570414,-1.0116298705337343,-1.1295910814176486,-1.2082318886735914,-1.1492512832316344,-1.178741585952613,0.9315623583311703,1.010203165587113,0.9119021565171849,1.020033266494106,-1.227892090487577,-1.3163629986505125,-1.2377221913945697,-1.0902706777896771,-1.0312900723477205,-1.4441543104414196,0.715300138377328,0.9020720556101917,-1.2180619895805842,-1.0902706777896771,-1.0312900723477205,-0.9231589623707988,-1.0706104759756916,0.8922419547031989,-1.2868726959295342,0.9413924592381631,-0.8688676896371202,0.9315623583311703,0.8824118537962062,0.6563195329353709,0.8725817528892134,-0.20954626802545281,0.7644506429122921,-0.9428191641847847,-1.016319203242013,0.9020720556101917,0.9708827619591417,-0.9133288614638062,-1.0804405768826844,-0.883838558742828,0.8922419547031989,0.9708827619591417,0.8627516519822207,0.9807128628661347,0.9020720556101917,0.725130239284321,-1.2180619895805842,1.0298633674010989,-1.296702796836527,-1.0902706777896771,-1.1885716868596057,0.8332613492612422,0.8037710465402638,0.7054700374703353,-0.9526492650917777,-1.227892090487577,-1.0706104759756916,-0.8740084578358346,0.7644506429122921,1.010203165587113,1.0396934683080916,-1.1197609805106559,0.8136011474472565,0.8725817528892134,-1.109930879603663,-1.2672124941155485,0.725130239284321,0.985853631064849,-1.2868726959295342,-1.0804405768826844,-1.124450313218934,-1.2672124941155485,-0.8543482560218488,0.8922419547031989,0.7742807438192854,-1.16891148504562,-1.16891148504562,0.843091450168235,1.0396934683080916,-1.2573823932085557,-1.1984017877665984,0.7447904410983065,-1.4441543104414196,-0.8983579923580988,0.5088680193304784,-0.9180181941720844,-1.041120173254713,-0.9180181941720844,-0.7902268823811777,-1.0359794050559985,0.7349603401913136,0.7106108056690497,0.9170429247158991,1.0495235692150844,-1.0706104759756916,-0.8295472860091488,-1.2573823932085557,1.0888439728430557,0.9807128628661347,-1.055639606869984,-0.9034987605568136,-1.0017997696267418,-0.9821395678127561,-1.050950274161706,-1.1441105150329198,-0.5489104670619237,-0.9231589623707988,-0.9231589623707988,-1.2770425950225417,-1.1984017877665984,0.9807128628661347,1.0396934683080916,0.7939409456332708,-0.8590375887301276,0.843091450168235,0.7644506429122921,-0.8786977905441131,-1.1295910814176486,-0.6231151669622994,-1.2129212213818699,1.064494438320792,1.684495456304488,-0.4159783870723025,1.6648352544905023,-0.9278482950790774,1.8417770708163737,-0.8786977905441131,-1.2227513222888626,-1.0458095059629915,-1.1539406159399126,-0.8393773869161416,-0.8983579923580988,-0.9180181941720844,-0.24886667165342427,0.9956837319718418,1.0251740346928204,1.2316061537396703,1.035004135599813,-0.8295472860091488,1.035004135599813,1.5763643463275667,0.725130239284321,-0.4454686897932809,-0.6820957724042562,-1.1394211823246412,-0.9180181941720844,1.51738374088561,1.30041686008862,-0.815027852393878,1.0593536701220774,-1.1590813841386272,0.8332613492612422,0.6956399365633421,0.6956399365633421,-1.0607803750686986,-1.07529980868397,0.7644506429122921,0.843091450168235,0.7742807438192854,-0.7855375496728989,0.9610526610521489,0.951222560145156,-1.1394211823246412,-1.2377221913945697,0.9020720556101917,0.8627516519822207,0.7447904410983065,0.8627516519822207,-1.1492512832316344,-1.4244941086274339,-1.0017997696267418,0.843091450168235,0.7939409456332708,0.8037710465402638,0.9315623583311703,-0.932989063277792,-1.1394211823246412,1.1773148810059912,-0.9624793659987704,-0.7167268433239494,-1.1885716868596057,-1.0902706777896771,0.7447904410983065,0.9119021565171849,-0.9624793659987704,-1.1885716868596057,-1.2377221913945697,-0.8740084578358346,-1.1492512832316344,-0.7855375496728989,-1.3261930995575053,-1.050950274161706,0.7349603401913136,-0.9526492650917777,-1.1885716868596057,1.020033266494106,-1.0804405768826844,-0.9526492650917777,-1.2475522923015627,1.0986740737500487,-0.972309466905763,-0.9821395678127561,1.221776052832677,0.4990379184234855,-1.227892090487577,1.1674847800989985,1.0888439728430557,0.9119021565171849,1.0691837710290701,0.8332613492612422,1.020033266494106,-1.1001007786966701,1.1281643764710274,-1.0116298705337343,-1.1492512832316344,0.6563195329353709,-0.991969668719749,0.6661496338423638,0.8332613492612422,1.1183342755640342,-1.178741585952613,-1.0902706777896771,0.5088680193304784,0.9905429637731273,-0.9133288614638062,0.7054700374703353,-1.1590813841386272,-0.9624793659987704,0.9905429637731273,0.715300138377328,0.8234312483542492,0.8725817528892134,0.7447904410983065,0.4892078175164927,0.6268292302143926,-1.0804405768826844,1.2362954864479483,-1.0902706777896771,-1.3065328977435198,0.7447904410983065,0.7939409456332708,0.9315623583311703,1.1871449819129842,0.725130239284321,0.7447904410983065,0.6759797347493568,0.9217322574241775,-1.050950274161706,-1.0706104759756916,-1.4343242095344266,0.725130239284321,-1.2573823932085557,0.8037710465402638,-1.1197609805106559,0.6071690284004067,-0.8051977514868852,0.9119021565171849,-0.9821395678127561,-1.1295910814176486,1.1281643764710274,0.6169991293073999,-1.2377221913945697,0.9413924592381631,-1.1492512832316344,-1.2672124941155485,0.9905429637731273,-1.050950274161706,1.0153439337858277,0.9905429637731273,0.725130239284321,-0.815027852393878,1.6550051535835095,-0.33733757981635965,1.010203165587113,-0.8098870841951632,-1.2377221913945697,0.6661496338423638,0.8627516519822207,0.6169991293073999,0.725130239284321,1.020033266494106,0.8529215510752278,0.8922419547031989,-0.9231589623707988,0.9807128628661347,-0.9133288614638062,-1.1295910814176486,0.725130239284321,-1.2082318886735914,0.8922419547031989,0.7644506429122921,0.9020720556101917,-0.883838558742828,-1.1492512832316344,1.010203165587113,0.8627516519822207,0.7644506429122921,1.0298633674010989,-0.9428191641847847,0.9610526610521489,1.0743245392277845,-0.9526492650917777,0.7939409456332708,-0.972309466905763,0.7447904410983065,0.8037710465402638,-0.7560472469519212,-1.041120173254713,-1.0116298705337343,-0.883838558742828,-0.9133288614638062,0.784110844726278,0.8332613492612422,-1.2672124941155485,1.2657857891689268,0.9119021565171849,-1.2082318886735914,0.8332613492612422,-0.9034987605568136,1.1478245782850127,-1.1197609805106559,0.784110844726278,0.6759797347493568,-1.1197609805106559,-1.2475522923015627,0.8725817528892134,-1.2573823932085557,1.0986740737500487,1.0448342365068064,0.784110844726278,1.0396934683080916,1.020033266494106,-0.9034987605568136,0.8332613492612422,1.010203165587113,-0.8740084578358346,0.9020720556101917,-1.041120173254713,-1.1099308796036629,-1.0116298705337343,-1.1885716868596057,-1.2377221913945697,1.3542566973318624,-1.4638145122554054,0.9413924592381631,0.715300138377328,0.8234312483542493,-0.7855375496728989,-0.815027852393878],\"yaxis\":\"y\",\"type\":\"scattergl\"},{\"hovertemplate\":\"x=%{x}<br>y=%{y}<br>size=%{marker.size}<extra></extra>\",\"legendgroup\":\"\",\"marker\":{\"color\":\"#636efa\",\"size\":[15,15,15,15],\"sizemode\":\"area\",\"sizeref\":0.0375,\"symbol\":\"circle\"},\"mode\":\"markers\",\"name\":\"\",\"orientation\":\"v\",\"showlegend\":false,\"x\":[-0.6700853319508051,-0.42235343566245526,4.483557205319786,1.4357145311218003],\"xaxis\":\"x\",\"y\":[0.8776737128639078,-1.0974081042961037,0.4406197620193945,-0.17523493737158022],\"yaxis\":\"y\",\"type\":\"scatter\"}],                        {\"template\":{\"data\":{\"bar\":[{\"error_x\":{\"color\":\"#2a3f5f\"},\"error_y\":{\"color\":\"#2a3f5f\"},\"marker\":{\"line\":{\"color\":\"#E5ECF6\",\"width\":0.5},\"pattern\":{\"fillmode\":\"overlay\",\"size\":10,\"solidity\":0.2}},\"type\":\"bar\"}],\"barpolar\":[{\"marker\":{\"line\":{\"color\":\"#E5ECF6\",\"width\":0.5},\"pattern\":{\"fillmode\":\"overlay\",\"size\":10,\"solidity\":0.2}},\"type\":\"barpolar\"}],\"carpet\":[{\"aaxis\":{\"endlinecolor\":\"#2a3f5f\",\"gridcolor\":\"white\",\"linecolor\":\"white\",\"minorgridcolor\":\"white\",\"startlinecolor\":\"#2a3f5f\"},\"baxis\":{\"endlinecolor\":\"#2a3f5f\",\"gridcolor\":\"white\",\"linecolor\":\"white\",\"minorgridcolor\":\"white\",\"startlinecolor\":\"#2a3f5f\"},\"type\":\"carpet\"}],\"choropleth\":[{\"colorbar\":{\"outlinewidth\":0,\"ticks\":\"\"},\"type\":\"choropleth\"}],\"contour\":[{\"colorbar\":{\"outlinewidth\":0,\"ticks\":\"\"},\"colorscale\":[[0.0,\"#0d0887\"],[0.1111111111111111,\"#46039f\"],[0.2222222222222222,\"#7201a8\"],[0.3333333333333333,\"#9c179e\"],[0.4444444444444444,\"#bd3786\"],[0.5555555555555556,\"#d8576b\"],[0.6666666666666666,\"#ed7953\"],[0.7777777777777778,\"#fb9f3a\"],[0.8888888888888888,\"#fdca26\"],[1.0,\"#f0f921\"]],\"type\":\"contour\"}],\"contourcarpet\":[{\"colorbar\":{\"outlinewidth\":0,\"ticks\":\"\"},\"type\":\"contourcarpet\"}],\"heatmap\":[{\"colorbar\":{\"outlinewidth\":0,\"ticks\":\"\"},\"colorscale\":[[0.0,\"#0d0887\"],[0.1111111111111111,\"#46039f\"],[0.2222222222222222,\"#7201a8\"],[0.3333333333333333,\"#9c179e\"],[0.4444444444444444,\"#bd3786\"],[0.5555555555555556,\"#d8576b\"],[0.6666666666666666,\"#ed7953\"],[0.7777777777777778,\"#fb9f3a\"],[0.8888888888888888,\"#fdca26\"],[1.0,\"#f0f921\"]],\"type\":\"heatmap\"}],\"heatmapgl\":[{\"colorbar\":{\"outlinewidth\":0,\"ticks\":\"\"},\"colorscale\":[[0.0,\"#0d0887\"],[0.1111111111111111,\"#46039f\"],[0.2222222222222222,\"#7201a8\"],[0.3333333333333333,\"#9c179e\"],[0.4444444444444444,\"#bd3786\"],[0.5555555555555556,\"#d8576b\"],[0.6666666666666666,\"#ed7953\"],[0.7777777777777778,\"#fb9f3a\"],[0.8888888888888888,\"#fdca26\"],[1.0,\"#f0f921\"]],\"type\":\"heatmapgl\"}],\"histogram\":[{\"marker\":{\"pattern\":{\"fillmode\":\"overlay\",\"size\":10,\"solidity\":0.2}},\"type\":\"histogram\"}],\"histogram2d\":[{\"colorbar\":{\"outlinewidth\":0,\"ticks\":\"\"},\"colorscale\":[[0.0,\"#0d0887\"],[0.1111111111111111,\"#46039f\"],[0.2222222222222222,\"#7201a8\"],[0.3333333333333333,\"#9c179e\"],[0.4444444444444444,\"#bd3786\"],[0.5555555555555556,\"#d8576b\"],[0.6666666666666666,\"#ed7953\"],[0.7777777777777778,\"#fb9f3a\"],[0.8888888888888888,\"#fdca26\"],[1.0,\"#f0f921\"]],\"type\":\"histogram2d\"}],\"histogram2dcontour\":[{\"colorbar\":{\"outlinewidth\":0,\"ticks\":\"\"},\"colorscale\":[[0.0,\"#0d0887\"],[0.1111111111111111,\"#46039f\"],[0.2222222222222222,\"#7201a8\"],[0.3333333333333333,\"#9c179e\"],[0.4444444444444444,\"#bd3786\"],[0.5555555555555556,\"#d8576b\"],[0.6666666666666666,\"#ed7953\"],[0.7777777777777778,\"#fb9f3a\"],[0.8888888888888888,\"#fdca26\"],[1.0,\"#f0f921\"]],\"type\":\"histogram2dcontour\"}],\"mesh3d\":[{\"colorbar\":{\"outlinewidth\":0,\"ticks\":\"\"},\"type\":\"mesh3d\"}],\"parcoords\":[{\"line\":{\"colorbar\":{\"outlinewidth\":0,\"ticks\":\"\"}},\"type\":\"parcoords\"}],\"pie\":[{\"automargin\":true,\"type\":\"pie\"}],\"scatter\":[{\"marker\":{\"colorbar\":{\"outlinewidth\":0,\"ticks\":\"\"}},\"type\":\"scatter\"}],\"scatter3d\":[{\"line\":{\"colorbar\":{\"outlinewidth\":0,\"ticks\":\"\"}},\"marker\":{\"colorbar\":{\"outlinewidth\":0,\"ticks\":\"\"}},\"type\":\"scatter3d\"}],\"scattercarpet\":[{\"marker\":{\"colorbar\":{\"outlinewidth\":0,\"ticks\":\"\"}},\"type\":\"scattercarpet\"}],\"scattergeo\":[{\"marker\":{\"colorbar\":{\"outlinewidth\":0,\"ticks\":\"\"}},\"type\":\"scattergeo\"}],\"scattergl\":[{\"marker\":{\"colorbar\":{\"outlinewidth\":0,\"ticks\":\"\"}},\"type\":\"scattergl\"}],\"scattermapbox\":[{\"marker\":{\"colorbar\":{\"outlinewidth\":0,\"ticks\":\"\"}},\"type\":\"scattermapbox\"}],\"scatterpolar\":[{\"marker\":{\"colorbar\":{\"outlinewidth\":0,\"ticks\":\"\"}},\"type\":\"scatterpolar\"}],\"scatterpolargl\":[{\"marker\":{\"colorbar\":{\"outlinewidth\":0,\"ticks\":\"\"}},\"type\":\"scatterpolargl\"}],\"scatterternary\":[{\"marker\":{\"colorbar\":{\"outlinewidth\":0,\"ticks\":\"\"}},\"type\":\"scatterternary\"}],\"surface\":[{\"colorbar\":{\"outlinewidth\":0,\"ticks\":\"\"},\"colorscale\":[[0.0,\"#0d0887\"],[0.1111111111111111,\"#46039f\"],[0.2222222222222222,\"#7201a8\"],[0.3333333333333333,\"#9c179e\"],[0.4444444444444444,\"#bd3786\"],[0.5555555555555556,\"#d8576b\"],[0.6666666666666666,\"#ed7953\"],[0.7777777777777778,\"#fb9f3a\"],[0.8888888888888888,\"#fdca26\"],[1.0,\"#f0f921\"]],\"type\":\"surface\"}],\"table\":[{\"cells\":{\"fill\":{\"color\":\"#EBF0F8\"},\"line\":{\"color\":\"white\"}},\"header\":{\"fill\":{\"color\":\"#C8D4E3\"},\"line\":{\"color\":\"white\"}},\"type\":\"table\"}]},\"layout\":{\"annotationdefaults\":{\"arrowcolor\":\"#2a3f5f\",\"arrowhead\":0,\"arrowwidth\":1},\"autotypenumbers\":\"strict\",\"coloraxis\":{\"colorbar\":{\"outlinewidth\":0,\"ticks\":\"\"}},\"colorscale\":{\"diverging\":[[0,\"#8e0152\"],[0.1,\"#c51b7d\"],[0.2,\"#de77ae\"],[0.3,\"#f1b6da\"],[0.4,\"#fde0ef\"],[0.5,\"#f7f7f7\"],[0.6,\"#e6f5d0\"],[0.7,\"#b8e186\"],[0.8,\"#7fbc41\"],[0.9,\"#4d9221\"],[1,\"#276419\"]],\"sequential\":[[0.0,\"#0d0887\"],[0.1111111111111111,\"#46039f\"],[0.2222222222222222,\"#7201a8\"],[0.3333333333333333,\"#9c179e\"],[0.4444444444444444,\"#bd3786\"],[0.5555555555555556,\"#d8576b\"],[0.6666666666666666,\"#ed7953\"],[0.7777777777777778,\"#fb9f3a\"],[0.8888888888888888,\"#fdca26\"],[1.0,\"#f0f921\"]],\"sequentialminus\":[[0.0,\"#0d0887\"],[0.1111111111111111,\"#46039f\"],[0.2222222222222222,\"#7201a8\"],[0.3333333333333333,\"#9c179e\"],[0.4444444444444444,\"#bd3786\"],[0.5555555555555556,\"#d8576b\"],[0.6666666666666666,\"#ed7953\"],[0.7777777777777778,\"#fb9f3a\"],[0.8888888888888888,\"#fdca26\"],[1.0,\"#f0f921\"]]},\"colorway\":[\"#636efa\",\"#EF553B\",\"#00cc96\",\"#ab63fa\",\"#FFA15A\",\"#19d3f3\",\"#FF6692\",\"#B6E880\",\"#FF97FF\",\"#FECB52\"],\"font\":{\"color\":\"#2a3f5f\"},\"geo\":{\"bgcolor\":\"white\",\"lakecolor\":\"white\",\"landcolor\":\"#E5ECF6\",\"showlakes\":true,\"showland\":true,\"subunitcolor\":\"white\"},\"hoverlabel\":{\"align\":\"left\"},\"hovermode\":\"closest\",\"mapbox\":{\"style\":\"light\"},\"paper_bgcolor\":\"white\",\"plot_bgcolor\":\"#E5ECF6\",\"polar\":{\"angularaxis\":{\"gridcolor\":\"white\",\"linecolor\":\"white\",\"ticks\":\"\"},\"bgcolor\":\"#E5ECF6\",\"radialaxis\":{\"gridcolor\":\"white\",\"linecolor\":\"white\",\"ticks\":\"\"}},\"scene\":{\"xaxis\":{\"backgroundcolor\":\"#E5ECF6\",\"gridcolor\":\"white\",\"gridwidth\":2,\"linecolor\":\"white\",\"showbackground\":true,\"ticks\":\"\",\"zerolinecolor\":\"white\"},\"yaxis\":{\"backgroundcolor\":\"#E5ECF6\",\"gridcolor\":\"white\",\"gridwidth\":2,\"linecolor\":\"white\",\"showbackground\":true,\"ticks\":\"\",\"zerolinecolor\":\"white\"},\"zaxis\":{\"backgroundcolor\":\"#E5ECF6\",\"gridcolor\":\"white\",\"gridwidth\":2,\"linecolor\":\"white\",\"showbackground\":true,\"ticks\":\"\",\"zerolinecolor\":\"white\"}},\"shapedefaults\":{\"line\":{\"color\":\"#2a3f5f\"}},\"ternary\":{\"aaxis\":{\"gridcolor\":\"white\",\"linecolor\":\"white\",\"ticks\":\"\"},\"baxis\":{\"gridcolor\":\"white\",\"linecolor\":\"white\",\"ticks\":\"\"},\"bgcolor\":\"#E5ECF6\",\"caxis\":{\"gridcolor\":\"white\",\"linecolor\":\"white\",\"ticks\":\"\"}},\"title\":{\"x\":0.05},\"xaxis\":{\"automargin\":true,\"gridcolor\":\"white\",\"linecolor\":\"white\",\"ticks\":\"\",\"title\":{\"standoff\":15},\"zerolinecolor\":\"white\",\"zerolinewidth\":2},\"yaxis\":{\"automargin\":true,\"gridcolor\":\"white\",\"linecolor\":\"white\",\"ticks\":\"\",\"title\":{\"standoff\":15},\"zerolinecolor\":\"white\",\"zerolinewidth\":2}}},\"title\":{\"text\":\"Agrupamento K-Means com PCA\"},\"width\":800,\"height\":500,\"xaxis\":{\"title\":{\"text\":\"Componente 1\"}},\"yaxis\":{\"title\":{\"text\":\"Componente 2\"}}},                        {\"responsive\": true}                    ).then(function(){\n",
              "                            \n",
              "var gd = document.getElementById('3509a452-db94-4c3f-8bbe-71f65ec916f9');\n",
              "var x = new MutationObserver(function (mutations, observer) {{\n",
              "        var display = window.getComputedStyle(gd).display;\n",
              "        if (!display || display === 'none') {{\n",
              "            console.log([gd, 'removed!']);\n",
              "            Plotly.purge(gd);\n",
              "            observer.disconnect();\n",
              "        }}\n",
              "}});\n",
              "\n",
              "// Listen for the removal of the full notebook cells\n",
              "var notebookContainer = gd.closest('#notebook-container');\n",
              "if (notebookContainer) {{\n",
              "    x.observe(notebookContainer, {childList: true});\n",
              "}}\n",
              "\n",
              "// Listen for the clearing of the current output cell\n",
              "var outputEl = gd.closest('.output');\n",
              "if (outputEl) {{\n",
              "    x.observe(outputEl, {childList: true});\n",
              "}}\n",
              "\n",
              "                        })                };                            </script>        </div>\n",
              "</body>\n",
              "</html>"
            ]
          },
          "metadata": {}
        }
      ]
    },
    {
      "cell_type": "code",
      "source": [
        "agrupamento = pd.DataFrame(classificacao, columns = ['Grupo'])\n",
        "agrupamento"
      ],
      "metadata": {
        "colab": {
          "base_uri": "https://localhost:8080/",
          "height": 424
        },
        "id": "-3j6MfrjKvtd",
        "outputId": "96b1ef0d-4445-479f-f5d7-904163432afa"
      },
      "execution_count": 160,
      "outputs": [
        {
          "output_type": "execute_result",
          "data": {
            "text/plain": [
              "      Grupo\n",
              "0         1\n",
              "1         1\n",
              "2         1\n",
              "3         0\n",
              "4         1\n",
              "...     ...\n",
              "5898      0\n",
              "5899      0\n",
              "5900      0\n",
              "5901      1\n",
              "5902      1\n",
              "\n",
              "[5903 rows x 1 columns]"
            ],
            "text/html": [
              "\n",
              "  <div id=\"df-869ad9df-a7de-4ed4-8518-a570acee824b\">\n",
              "    <div class=\"colab-df-container\">\n",
              "      <div>\n",
              "<style scoped>\n",
              "    .dataframe tbody tr th:only-of-type {\n",
              "        vertical-align: middle;\n",
              "    }\n",
              "\n",
              "    .dataframe tbody tr th {\n",
              "        vertical-align: top;\n",
              "    }\n",
              "\n",
              "    .dataframe thead th {\n",
              "        text-align: right;\n",
              "    }\n",
              "</style>\n",
              "<table border=\"1\" class=\"dataframe\">\n",
              "  <thead>\n",
              "    <tr style=\"text-align: right;\">\n",
              "      <th></th>\n",
              "      <th>Grupo</th>\n",
              "    </tr>\n",
              "  </thead>\n",
              "  <tbody>\n",
              "    <tr>\n",
              "      <th>0</th>\n",
              "      <td>1</td>\n",
              "    </tr>\n",
              "    <tr>\n",
              "      <th>1</th>\n",
              "      <td>1</td>\n",
              "    </tr>\n",
              "    <tr>\n",
              "      <th>2</th>\n",
              "      <td>1</td>\n",
              "    </tr>\n",
              "    <tr>\n",
              "      <th>3</th>\n",
              "      <td>0</td>\n",
              "    </tr>\n",
              "    <tr>\n",
              "      <th>4</th>\n",
              "      <td>1</td>\n",
              "    </tr>\n",
              "    <tr>\n",
              "      <th>...</th>\n",
              "      <td>...</td>\n",
              "    </tr>\n",
              "    <tr>\n",
              "      <th>5898</th>\n",
              "      <td>0</td>\n",
              "    </tr>\n",
              "    <tr>\n",
              "      <th>5899</th>\n",
              "      <td>0</td>\n",
              "    </tr>\n",
              "    <tr>\n",
              "      <th>5900</th>\n",
              "      <td>0</td>\n",
              "    </tr>\n",
              "    <tr>\n",
              "      <th>5901</th>\n",
              "      <td>1</td>\n",
              "    </tr>\n",
              "    <tr>\n",
              "      <th>5902</th>\n",
              "      <td>1</td>\n",
              "    </tr>\n",
              "  </tbody>\n",
              "</table>\n",
              "<p>5903 rows × 1 columns</p>\n",
              "</div>\n",
              "      <button class=\"colab-df-convert\" onclick=\"convertToInteractive('df-869ad9df-a7de-4ed4-8518-a570acee824b')\"\n",
              "              title=\"Convert this dataframe to an interactive table.\"\n",
              "              style=\"display:none;\">\n",
              "        \n",
              "  <svg xmlns=\"http://www.w3.org/2000/svg\" height=\"24px\"viewBox=\"0 0 24 24\"\n",
              "       width=\"24px\">\n",
              "    <path d=\"M0 0h24v24H0V0z\" fill=\"none\"/>\n",
              "    <path d=\"M18.56 5.44l.94 2.06.94-2.06 2.06-.94-2.06-.94-.94-2.06-.94 2.06-2.06.94zm-11 1L8.5 8.5l.94-2.06 2.06-.94-2.06-.94L8.5 2.5l-.94 2.06-2.06.94zm10 10l.94 2.06.94-2.06 2.06-.94-2.06-.94-.94-2.06-.94 2.06-2.06.94z\"/><path d=\"M17.41 7.96l-1.37-1.37c-.4-.4-.92-.59-1.43-.59-.52 0-1.04.2-1.43.59L10.3 9.45l-7.72 7.72c-.78.78-.78 2.05 0 2.83L4 21.41c.39.39.9.59 1.41.59.51 0 1.02-.2 1.41-.59l7.78-7.78 2.81-2.81c.8-.78.8-2.07 0-2.86zM5.41 20L4 18.59l7.72-7.72 1.47 1.35L5.41 20z\"/>\n",
              "  </svg>\n",
              "      </button>\n",
              "      \n",
              "  <style>\n",
              "    .colab-df-container {\n",
              "      display:flex;\n",
              "      flex-wrap:wrap;\n",
              "      gap: 12px;\n",
              "    }\n",
              "\n",
              "    .colab-df-convert {\n",
              "      background-color: #E8F0FE;\n",
              "      border: none;\n",
              "      border-radius: 50%;\n",
              "      cursor: pointer;\n",
              "      display: none;\n",
              "      fill: #1967D2;\n",
              "      height: 32px;\n",
              "      padding: 0 0 0 0;\n",
              "      width: 32px;\n",
              "    }\n",
              "\n",
              "    .colab-df-convert:hover {\n",
              "      background-color: #E2EBFA;\n",
              "      box-shadow: 0px 1px 2px rgba(60, 64, 67, 0.3), 0px 1px 3px 1px rgba(60, 64, 67, 0.15);\n",
              "      fill: #174EA6;\n",
              "    }\n",
              "\n",
              "    [theme=dark] .colab-df-convert {\n",
              "      background-color: #3B4455;\n",
              "      fill: #D2E3FC;\n",
              "    }\n",
              "\n",
              "    [theme=dark] .colab-df-convert:hover {\n",
              "      background-color: #434B5C;\n",
              "      box-shadow: 0px 1px 3px 1px rgba(0, 0, 0, 0.15);\n",
              "      filter: drop-shadow(0px 1px 2px rgba(0, 0, 0, 0.3));\n",
              "      fill: #FFFFFF;\n",
              "    }\n",
              "  </style>\n",
              "\n",
              "      <script>\n",
              "        const buttonEl =\n",
              "          document.querySelector('#df-869ad9df-a7de-4ed4-8518-a570acee824b button.colab-df-convert');\n",
              "        buttonEl.style.display =\n",
              "          google.colab.kernel.accessAllowed ? 'block' : 'none';\n",
              "\n",
              "        async function convertToInteractive(key) {\n",
              "          const element = document.querySelector('#df-869ad9df-a7de-4ed4-8518-a570acee824b');\n",
              "          const dataTable =\n",
              "            await google.colab.kernel.invokeFunction('convertToInteractive',\n",
              "                                                     [key], {});\n",
              "          if (!dataTable) return;\n",
              "\n",
              "          const docLinkHtml = 'Like what you see? Visit the ' +\n",
              "            '<a target=\"_blank\" href=https://colab.research.google.com/notebooks/data_table.ipynb>data table notebook</a>'\n",
              "            + ' to learn more about interactive tables.';\n",
              "          element.innerHTML = '';\n",
              "          dataTable['output_type'] = 'display_data';\n",
              "          await google.colab.output.renderOutput(dataTable, element);\n",
              "          const docLink = document.createElement('div');\n",
              "          docLink.innerHTML = docLinkHtml;\n",
              "          element.appendChild(docLink);\n",
              "        }\n",
              "      </script>\n",
              "    </div>\n",
              "  </div>\n",
              "  "
            ]
          },
          "metadata": {},
          "execution_count": 160
        }
      ]
    },
    {
      "cell_type": "code",
      "source": [
        "df2 = pd.concat([df2, agrupamento],axis=1)\n",
        "df2"
      ],
      "metadata": {
        "colab": {
          "base_uri": "https://localhost:8080/",
          "height": 424
        },
        "id": "gbqY11NOKyBG",
        "outputId": "6f6cd9a9-ba04-4051-f46e-00bbc6269e0b"
      },
      "execution_count": 161,
      "outputs": [
        {
          "output_type": "execute_result",
          "data": {
            "text/plain": [
              "      IDADE  SEXO  INTERNADO  STATUS  Grupo\n",
              "0        54     1          0       0      1\n",
              "1        15     1          0       0      1\n",
              "2        43     1          0       0      1\n",
              "3        25     0          0       0      0\n",
              "4        58     1          0       0      1\n",
              "...     ...   ...        ...     ...    ...\n",
              "5898     46     0          0       0      0\n",
              "5899     23     0          0       0      0\n",
              "5900     34     0          0       0      0\n",
              "5901     70     1          0       0      1\n",
              "5902     67     1          0       0      1\n",
              "\n",
              "[5903 rows x 5 columns]"
            ],
            "text/html": [
              "\n",
              "  <div id=\"df-40535edf-86c2-4226-b12b-5b358ee600e7\">\n",
              "    <div class=\"colab-df-container\">\n",
              "      <div>\n",
              "<style scoped>\n",
              "    .dataframe tbody tr th:only-of-type {\n",
              "        vertical-align: middle;\n",
              "    }\n",
              "\n",
              "    .dataframe tbody tr th {\n",
              "        vertical-align: top;\n",
              "    }\n",
              "\n",
              "    .dataframe thead th {\n",
              "        text-align: right;\n",
              "    }\n",
              "</style>\n",
              "<table border=\"1\" class=\"dataframe\">\n",
              "  <thead>\n",
              "    <tr style=\"text-align: right;\">\n",
              "      <th></th>\n",
              "      <th>IDADE</th>\n",
              "      <th>SEXO</th>\n",
              "      <th>INTERNADO</th>\n",
              "      <th>STATUS</th>\n",
              "      <th>Grupo</th>\n",
              "    </tr>\n",
              "  </thead>\n",
              "  <tbody>\n",
              "    <tr>\n",
              "      <th>0</th>\n",
              "      <td>54</td>\n",
              "      <td>1</td>\n",
              "      <td>0</td>\n",
              "      <td>0</td>\n",
              "      <td>1</td>\n",
              "    </tr>\n",
              "    <tr>\n",
              "      <th>1</th>\n",
              "      <td>15</td>\n",
              "      <td>1</td>\n",
              "      <td>0</td>\n",
              "      <td>0</td>\n",
              "      <td>1</td>\n",
              "    </tr>\n",
              "    <tr>\n",
              "      <th>2</th>\n",
              "      <td>43</td>\n",
              "      <td>1</td>\n",
              "      <td>0</td>\n",
              "      <td>0</td>\n",
              "      <td>1</td>\n",
              "    </tr>\n",
              "    <tr>\n",
              "      <th>3</th>\n",
              "      <td>25</td>\n",
              "      <td>0</td>\n",
              "      <td>0</td>\n",
              "      <td>0</td>\n",
              "      <td>0</td>\n",
              "    </tr>\n",
              "    <tr>\n",
              "      <th>4</th>\n",
              "      <td>58</td>\n",
              "      <td>1</td>\n",
              "      <td>0</td>\n",
              "      <td>0</td>\n",
              "      <td>1</td>\n",
              "    </tr>\n",
              "    <tr>\n",
              "      <th>...</th>\n",
              "      <td>...</td>\n",
              "      <td>...</td>\n",
              "      <td>...</td>\n",
              "      <td>...</td>\n",
              "      <td>...</td>\n",
              "    </tr>\n",
              "    <tr>\n",
              "      <th>5898</th>\n",
              "      <td>46</td>\n",
              "      <td>0</td>\n",
              "      <td>0</td>\n",
              "      <td>0</td>\n",
              "      <td>0</td>\n",
              "    </tr>\n",
              "    <tr>\n",
              "      <th>5899</th>\n",
              "      <td>23</td>\n",
              "      <td>0</td>\n",
              "      <td>0</td>\n",
              "      <td>0</td>\n",
              "      <td>0</td>\n",
              "    </tr>\n",
              "    <tr>\n",
              "      <th>5900</th>\n",
              "      <td>34</td>\n",
              "      <td>0</td>\n",
              "      <td>0</td>\n",
              "      <td>0</td>\n",
              "      <td>0</td>\n",
              "    </tr>\n",
              "    <tr>\n",
              "      <th>5901</th>\n",
              "      <td>70</td>\n",
              "      <td>1</td>\n",
              "      <td>0</td>\n",
              "      <td>0</td>\n",
              "      <td>1</td>\n",
              "    </tr>\n",
              "    <tr>\n",
              "      <th>5902</th>\n",
              "      <td>67</td>\n",
              "      <td>1</td>\n",
              "      <td>0</td>\n",
              "      <td>0</td>\n",
              "      <td>1</td>\n",
              "    </tr>\n",
              "  </tbody>\n",
              "</table>\n",
              "<p>5903 rows × 5 columns</p>\n",
              "</div>\n",
              "      <button class=\"colab-df-convert\" onclick=\"convertToInteractive('df-40535edf-86c2-4226-b12b-5b358ee600e7')\"\n",
              "              title=\"Convert this dataframe to an interactive table.\"\n",
              "              style=\"display:none;\">\n",
              "        \n",
              "  <svg xmlns=\"http://www.w3.org/2000/svg\" height=\"24px\"viewBox=\"0 0 24 24\"\n",
              "       width=\"24px\">\n",
              "    <path d=\"M0 0h24v24H0V0z\" fill=\"none\"/>\n",
              "    <path d=\"M18.56 5.44l.94 2.06.94-2.06 2.06-.94-2.06-.94-.94-2.06-.94 2.06-2.06.94zm-11 1L8.5 8.5l.94-2.06 2.06-.94-2.06-.94L8.5 2.5l-.94 2.06-2.06.94zm10 10l.94 2.06.94-2.06 2.06-.94-2.06-.94-.94-2.06-.94 2.06-2.06.94z\"/><path d=\"M17.41 7.96l-1.37-1.37c-.4-.4-.92-.59-1.43-.59-.52 0-1.04.2-1.43.59L10.3 9.45l-7.72 7.72c-.78.78-.78 2.05 0 2.83L4 21.41c.39.39.9.59 1.41.59.51 0 1.02-.2 1.41-.59l7.78-7.78 2.81-2.81c.8-.78.8-2.07 0-2.86zM5.41 20L4 18.59l7.72-7.72 1.47 1.35L5.41 20z\"/>\n",
              "  </svg>\n",
              "      </button>\n",
              "      \n",
              "  <style>\n",
              "    .colab-df-container {\n",
              "      display:flex;\n",
              "      flex-wrap:wrap;\n",
              "      gap: 12px;\n",
              "    }\n",
              "\n",
              "    .colab-df-convert {\n",
              "      background-color: #E8F0FE;\n",
              "      border: none;\n",
              "      border-radius: 50%;\n",
              "      cursor: pointer;\n",
              "      display: none;\n",
              "      fill: #1967D2;\n",
              "      height: 32px;\n",
              "      padding: 0 0 0 0;\n",
              "      width: 32px;\n",
              "    }\n",
              "\n",
              "    .colab-df-convert:hover {\n",
              "      background-color: #E2EBFA;\n",
              "      box-shadow: 0px 1px 2px rgba(60, 64, 67, 0.3), 0px 1px 3px 1px rgba(60, 64, 67, 0.15);\n",
              "      fill: #174EA6;\n",
              "    }\n",
              "\n",
              "    [theme=dark] .colab-df-convert {\n",
              "      background-color: #3B4455;\n",
              "      fill: #D2E3FC;\n",
              "    }\n",
              "\n",
              "    [theme=dark] .colab-df-convert:hover {\n",
              "      background-color: #434B5C;\n",
              "      box-shadow: 0px 1px 3px 1px rgba(0, 0, 0, 0.15);\n",
              "      filter: drop-shadow(0px 1px 2px rgba(0, 0, 0, 0.3));\n",
              "      fill: #FFFFFF;\n",
              "    }\n",
              "  </style>\n",
              "\n",
              "      <script>\n",
              "        const buttonEl =\n",
              "          document.querySelector('#df-40535edf-86c2-4226-b12b-5b358ee600e7 button.colab-df-convert');\n",
              "        buttonEl.style.display =\n",
              "          google.colab.kernel.accessAllowed ? 'block' : 'none';\n",
              "\n",
              "        async function convertToInteractive(key) {\n",
              "          const element = document.querySelector('#df-40535edf-86c2-4226-b12b-5b358ee600e7');\n",
              "          const dataTable =\n",
              "            await google.colab.kernel.invokeFunction('convertToInteractive',\n",
              "                                                     [key], {});\n",
              "          if (!dataTable) return;\n",
              "\n",
              "          const docLinkHtml = 'Like what you see? Visit the ' +\n",
              "            '<a target=\"_blank\" href=https://colab.research.google.com/notebooks/data_table.ipynb>data table notebook</a>'\n",
              "            + ' to learn more about interactive tables.';\n",
              "          element.innerHTML = '';\n",
              "          dataTable['output_type'] = 'display_data';\n",
              "          await google.colab.output.renderOutput(dataTable, element);\n",
              "          const docLink = document.createElement('div');\n",
              "          docLink.innerHTML = docLinkHtml;\n",
              "          element.appendChild(docLink);\n",
              "        }\n",
              "      </script>\n",
              "    </div>\n",
              "  </div>\n",
              "  "
            ]
          },
          "metadata": {},
          "execution_count": 161
        }
      ]
    },
    {
      "cell_type": "code",
      "source": [
        "df2.iloc[125 , :]"
      ],
      "metadata": {
        "colab": {
          "base_uri": "https://localhost:8080/"
        },
        "id": "0zuc1fU3K08u",
        "outputId": "22e0f51c-8594-4a3f-f75e-920e9db0a526"
      },
      "execution_count": 162,
      "outputs": [
        {
          "output_type": "execute_result",
          "data": {
            "text/plain": [
              "IDADE        55\n",
              "SEXO          1\n",
              "INTERNADO     1\n",
              "STATUS        0\n",
              "Grupo         3\n",
              "Name: 125, dtype: int64"
            ]
          },
          "metadata": {},
          "execution_count": 162
        }
      ]
    },
    {
      "cell_type": "code",
      "source": [
        "grupo0 = df2.loc[df2.Grupo == 0]\n",
        "grupo0 "
      ],
      "metadata": {
        "colab": {
          "base_uri": "https://localhost:8080/",
          "height": 424
        },
        "id": "bniLTyyXLJSO",
        "outputId": "406ad40f-52c0-4111-c491-ac5a9c45b4f8"
      },
      "execution_count": 163,
      "outputs": [
        {
          "output_type": "execute_result",
          "data": {
            "text/plain": [
              "      IDADE  SEXO  INTERNADO  STATUS  Grupo\n",
              "3        25     0          0       0      0\n",
              "5        57     0          0       0      0\n",
              "6        27     0          0       0      0\n",
              "7        26     0          0       0      0\n",
              "8        52     0          0       0      0\n",
              "...     ...   ...        ...     ...    ...\n",
              "5890     42     0          0       0      0\n",
              "5896     88     0          0       0      0\n",
              "5898     46     0          0       0      0\n",
              "5899     23     0          0       0      0\n",
              "5900     34     0          0       0      0\n",
              "\n",
              "[2615 rows x 5 columns]"
            ],
            "text/html": [
              "\n",
              "  <div id=\"df-a810e1ff-61a8-4755-82ce-01821ed3fc01\">\n",
              "    <div class=\"colab-df-container\">\n",
              "      <div>\n",
              "<style scoped>\n",
              "    .dataframe tbody tr th:only-of-type {\n",
              "        vertical-align: middle;\n",
              "    }\n",
              "\n",
              "    .dataframe tbody tr th {\n",
              "        vertical-align: top;\n",
              "    }\n",
              "\n",
              "    .dataframe thead th {\n",
              "        text-align: right;\n",
              "    }\n",
              "</style>\n",
              "<table border=\"1\" class=\"dataframe\">\n",
              "  <thead>\n",
              "    <tr style=\"text-align: right;\">\n",
              "      <th></th>\n",
              "      <th>IDADE</th>\n",
              "      <th>SEXO</th>\n",
              "      <th>INTERNADO</th>\n",
              "      <th>STATUS</th>\n",
              "      <th>Grupo</th>\n",
              "    </tr>\n",
              "  </thead>\n",
              "  <tbody>\n",
              "    <tr>\n",
              "      <th>3</th>\n",
              "      <td>25</td>\n",
              "      <td>0</td>\n",
              "      <td>0</td>\n",
              "      <td>0</td>\n",
              "      <td>0</td>\n",
              "    </tr>\n",
              "    <tr>\n",
              "      <th>5</th>\n",
              "      <td>57</td>\n",
              "      <td>0</td>\n",
              "      <td>0</td>\n",
              "      <td>0</td>\n",
              "      <td>0</td>\n",
              "    </tr>\n",
              "    <tr>\n",
              "      <th>6</th>\n",
              "      <td>27</td>\n",
              "      <td>0</td>\n",
              "      <td>0</td>\n",
              "      <td>0</td>\n",
              "      <td>0</td>\n",
              "    </tr>\n",
              "    <tr>\n",
              "      <th>7</th>\n",
              "      <td>26</td>\n",
              "      <td>0</td>\n",
              "      <td>0</td>\n",
              "      <td>0</td>\n",
              "      <td>0</td>\n",
              "    </tr>\n",
              "    <tr>\n",
              "      <th>8</th>\n",
              "      <td>52</td>\n",
              "      <td>0</td>\n",
              "      <td>0</td>\n",
              "      <td>0</td>\n",
              "      <td>0</td>\n",
              "    </tr>\n",
              "    <tr>\n",
              "      <th>...</th>\n",
              "      <td>...</td>\n",
              "      <td>...</td>\n",
              "      <td>...</td>\n",
              "      <td>...</td>\n",
              "      <td>...</td>\n",
              "    </tr>\n",
              "    <tr>\n",
              "      <th>5890</th>\n",
              "      <td>42</td>\n",
              "      <td>0</td>\n",
              "      <td>0</td>\n",
              "      <td>0</td>\n",
              "      <td>0</td>\n",
              "    </tr>\n",
              "    <tr>\n",
              "      <th>5896</th>\n",
              "      <td>88</td>\n",
              "      <td>0</td>\n",
              "      <td>0</td>\n",
              "      <td>0</td>\n",
              "      <td>0</td>\n",
              "    </tr>\n",
              "    <tr>\n",
              "      <th>5898</th>\n",
              "      <td>46</td>\n",
              "      <td>0</td>\n",
              "      <td>0</td>\n",
              "      <td>0</td>\n",
              "      <td>0</td>\n",
              "    </tr>\n",
              "    <tr>\n",
              "      <th>5899</th>\n",
              "      <td>23</td>\n",
              "      <td>0</td>\n",
              "      <td>0</td>\n",
              "      <td>0</td>\n",
              "      <td>0</td>\n",
              "    </tr>\n",
              "    <tr>\n",
              "      <th>5900</th>\n",
              "      <td>34</td>\n",
              "      <td>0</td>\n",
              "      <td>0</td>\n",
              "      <td>0</td>\n",
              "      <td>0</td>\n",
              "    </tr>\n",
              "  </tbody>\n",
              "</table>\n",
              "<p>2615 rows × 5 columns</p>\n",
              "</div>\n",
              "      <button class=\"colab-df-convert\" onclick=\"convertToInteractive('df-a810e1ff-61a8-4755-82ce-01821ed3fc01')\"\n",
              "              title=\"Convert this dataframe to an interactive table.\"\n",
              "              style=\"display:none;\">\n",
              "        \n",
              "  <svg xmlns=\"http://www.w3.org/2000/svg\" height=\"24px\"viewBox=\"0 0 24 24\"\n",
              "       width=\"24px\">\n",
              "    <path d=\"M0 0h24v24H0V0z\" fill=\"none\"/>\n",
              "    <path d=\"M18.56 5.44l.94 2.06.94-2.06 2.06-.94-2.06-.94-.94-2.06-.94 2.06-2.06.94zm-11 1L8.5 8.5l.94-2.06 2.06-.94-2.06-.94L8.5 2.5l-.94 2.06-2.06.94zm10 10l.94 2.06.94-2.06 2.06-.94-2.06-.94-.94-2.06-.94 2.06-2.06.94z\"/><path d=\"M17.41 7.96l-1.37-1.37c-.4-.4-.92-.59-1.43-.59-.52 0-1.04.2-1.43.59L10.3 9.45l-7.72 7.72c-.78.78-.78 2.05 0 2.83L4 21.41c.39.39.9.59 1.41.59.51 0 1.02-.2 1.41-.59l7.78-7.78 2.81-2.81c.8-.78.8-2.07 0-2.86zM5.41 20L4 18.59l7.72-7.72 1.47 1.35L5.41 20z\"/>\n",
              "  </svg>\n",
              "      </button>\n",
              "      \n",
              "  <style>\n",
              "    .colab-df-container {\n",
              "      display:flex;\n",
              "      flex-wrap:wrap;\n",
              "      gap: 12px;\n",
              "    }\n",
              "\n",
              "    .colab-df-convert {\n",
              "      background-color: #E8F0FE;\n",
              "      border: none;\n",
              "      border-radius: 50%;\n",
              "      cursor: pointer;\n",
              "      display: none;\n",
              "      fill: #1967D2;\n",
              "      height: 32px;\n",
              "      padding: 0 0 0 0;\n",
              "      width: 32px;\n",
              "    }\n",
              "\n",
              "    .colab-df-convert:hover {\n",
              "      background-color: #E2EBFA;\n",
              "      box-shadow: 0px 1px 2px rgba(60, 64, 67, 0.3), 0px 1px 3px 1px rgba(60, 64, 67, 0.15);\n",
              "      fill: #174EA6;\n",
              "    }\n",
              "\n",
              "    [theme=dark] .colab-df-convert {\n",
              "      background-color: #3B4455;\n",
              "      fill: #D2E3FC;\n",
              "    }\n",
              "\n",
              "    [theme=dark] .colab-df-convert:hover {\n",
              "      background-color: #434B5C;\n",
              "      box-shadow: 0px 1px 3px 1px rgba(0, 0, 0, 0.15);\n",
              "      filter: drop-shadow(0px 1px 2px rgba(0, 0, 0, 0.3));\n",
              "      fill: #FFFFFF;\n",
              "    }\n",
              "  </style>\n",
              "\n",
              "      <script>\n",
              "        const buttonEl =\n",
              "          document.querySelector('#df-a810e1ff-61a8-4755-82ce-01821ed3fc01 button.colab-df-convert');\n",
              "        buttonEl.style.display =\n",
              "          google.colab.kernel.accessAllowed ? 'block' : 'none';\n",
              "\n",
              "        async function convertToInteractive(key) {\n",
              "          const element = document.querySelector('#df-a810e1ff-61a8-4755-82ce-01821ed3fc01');\n",
              "          const dataTable =\n",
              "            await google.colab.kernel.invokeFunction('convertToInteractive',\n",
              "                                                     [key], {});\n",
              "          if (!dataTable) return;\n",
              "\n",
              "          const docLinkHtml = 'Like what you see? Visit the ' +\n",
              "            '<a target=\"_blank\" href=https://colab.research.google.com/notebooks/data_table.ipynb>data table notebook</a>'\n",
              "            + ' to learn more about interactive tables.';\n",
              "          element.innerHTML = '';\n",
              "          dataTable['output_type'] = 'display_data';\n",
              "          await google.colab.output.renderOutput(dataTable, element);\n",
              "          const docLink = document.createElement('div');\n",
              "          docLink.innerHTML = docLinkHtml;\n",
              "          element.appendChild(docLink);\n",
              "        }\n",
              "      </script>\n",
              "    </div>\n",
              "  </div>\n",
              "  "
            ]
          },
          "metadata": {},
          "execution_count": 163
        }
      ]
    },
    {
      "cell_type": "code",
      "source": [
        "grupo0.shape"
      ],
      "metadata": {
        "id": "1wwQ6CVmLPR0",
        "outputId": "799e6b20-87f3-4c25-c864-dccbde441108",
        "colab": {
          "base_uri": "https://localhost:8080/"
        }
      },
      "execution_count": 164,
      "outputs": [
        {
          "output_type": "execute_result",
          "data": {
            "text/plain": [
              "(2615, 5)"
            ]
          },
          "metadata": {},
          "execution_count": 164
        }
      ]
    },
    {
      "cell_type": "markdown",
      "source": [
        "## **Agrupamento Hierárquico com PCA**\n"
      ],
      "metadata": {
        "id": "T7W8zqGpMKpg"
      }
    },
    {
      "cell_type": "code",
      "source": [
        "df2_esc"
      ],
      "metadata": {
        "colab": {
          "base_uri": "https://localhost:8080/"
        },
        "id": "zQDQcy_5MNvn",
        "outputId": "e3810076-cde6-46b1-cd0b-71e4c3638d72"
      },
      "execution_count": 165,
      "outputs": [
        {
          "output_type": "execute_result",
          "data": {
            "text/plain": [
              "array([[ 0.58345885,  1.05128818, -0.53038764, -0.22356702],\n",
              "       [-1.62596867,  1.05128818, -0.53038764, -0.22356702],\n",
              "       [-0.03971301,  1.05128818, -0.53038764, -0.22356702],\n",
              "       ...,\n",
              "       [-0.5495809 , -0.95121396, -0.53038764, -0.22356702],\n",
              "       [ 1.48989065,  1.05128818, -0.53038764, -0.22356702],\n",
              "       [ 1.31993469,  1.05128818, -0.53038764, -0.22356702]])"
            ]
          },
          "metadata": {},
          "execution_count": 165
        }
      ]
    },
    {
      "cell_type": "code",
      "source": [
        "df2_esc.shape"
      ],
      "metadata": {
        "colab": {
          "base_uri": "https://localhost:8080/"
        },
        "id": "p9wPmw2eMQFX",
        "outputId": "245db6eb-c208-49ff-b369-ccfab5119a5a"
      },
      "execution_count": 166,
      "outputs": [
        {
          "output_type": "execute_result",
          "data": {
            "text/plain": [
              "(5903, 4)"
            ]
          },
          "metadata": {},
          "execution_count": 166
        }
      ]
    },
    {
      "cell_type": "markdown",
      "source": [
        "**Componentes Principais**"
      ],
      "metadata": {
        "id": "EgXgd6xQMSgP"
      }
    },
    {
      "cell_type": "code",
      "source": [
        "from sklearn.decomposition import PCA"
      ],
      "metadata": {
        "id": "4iSLpG8aMUwk"
      },
      "execution_count": 167,
      "outputs": []
    },
    {
      "cell_type": "code",
      "source": [
        "pca = PCA(n_components = 2)"
      ],
      "metadata": {
        "id": "dccxe3GAMYgn"
      },
      "execution_count": 168,
      "outputs": []
    },
    {
      "cell_type": "code",
      "source": [
        "df2_pca = pca.fit_transform(df2_esc)"
      ],
      "metadata": {
        "id": "T9j8ZcO4MaDG"
      },
      "execution_count": 169,
      "outputs": []
    },
    {
      "cell_type": "code",
      "source": [
        "df2_pca"
      ],
      "metadata": {
        "colab": {
          "base_uri": "https://localhost:8080/"
        },
        "id": "pkXBW_AbMbfO",
        "outputId": "e0a2f2b1-66a3-4a45-fca8-c5d410c1cc9a"
      },
      "execution_count": 170,
      "outputs": [
        {
          "output_type": "execute_result",
          "data": {
            "text/plain": [
              "array([[ 0.03064365, -0.94281916],\n",
              "       [-1.19271952, -1.3261931 ],\n",
              "       [-0.3144075 , -1.05095027],\n",
              "       ...,\n",
              "       [-0.88365326,  0.82343125],\n",
              "       [ 0.53253623, -0.78553755],\n",
              "       [ 0.43843137, -0.81502785]])"
            ]
          },
          "metadata": {},
          "execution_count": 170
        }
      ]
    },
    {
      "cell_type": "code",
      "source": [
        "pca.explained_variance_ratio_"
      ],
      "metadata": {
        "colab": {
          "base_uri": "https://localhost:8080/"
        },
        "id": "Su6LBM7rMdwe",
        "outputId": "52706768-1916-41fe-d06b-8d15178d18a8"
      },
      "execution_count": 171,
      "outputs": [
        {
          "output_type": "execute_result",
          "data": {
            "text/plain": [
              "array([0.44305785, 0.247892  ])"
            ]
          },
          "metadata": {},
          "execution_count": 171
        }
      ]
    },
    {
      "cell_type": "code",
      "source": [
        "pca.explained_variance_ratio_.sum()"
      ],
      "metadata": {
        "colab": {
          "base_uri": "https://localhost:8080/"
        },
        "id": "QpQA3x8nMfW-",
        "outputId": "6b2c521f-ac3a-4e6d-8df9-88e9e5e88aa9"
      },
      "execution_count": 172,
      "outputs": [
        {
          "output_type": "execute_result",
          "data": {
            "text/plain": [
              "0.6909498554548061"
            ]
          },
          "metadata": {},
          "execution_count": 172
        }
      ]
    },
    {
      "cell_type": "markdown",
      "source": [
        "**Dendograma**"
      ],
      "metadata": {
        "id": "WB1NE-6eMhka"
      }
    },
    {
      "cell_type": "code",
      "source": [
        "import matplotlib.pyplot as plt\n",
        "from scipy.cluster.hierarchy import dendrogram, linkage"
      ],
      "metadata": {
        "id": "n4RCdGs8Mi-F"
      },
      "execution_count": 173,
      "outputs": []
    },
    {
      "cell_type": "code",
      "source": [
        "plt.figure(figsize=(10, 10))\n",
        "dendrograma = dendrogram(linkage(df2_pca, method = 'ward')) #complete, single e ward (dados dispersos)"
      ],
      "metadata": {
        "id": "ssvPfHieOWrI"
      },
      "execution_count": null,
      "outputs": []
    },
    {
      "cell_type": "code",
      "source": [
        "from sklearn.cluster import AgglomerativeClustering"
      ],
      "metadata": {
        "id": "z0_C1ifkPCEZ"
      },
      "execution_count": null,
      "outputs": []
    },
    {
      "cell_type": "code",
      "source": [
        "hier = AgglomerativeClustering(n_clusters=3, affinity='euclidean', linkage = 'complete')\n",
        "classificacao = hier.fit_predict(df2_pca)"
      ],
      "metadata": {
        "id": "WTADh-4sPFsO"
      },
      "execution_count": null,
      "outputs": []
    },
    {
      "cell_type": "code",
      "source": [
        "classificacao"
      ],
      "metadata": {
        "id": "N_hUOg1uPI_0"
      },
      "execution_count": null,
      "outputs": []
    },
    {
      "cell_type": "code",
      "source": [
        "import plotly.express as px"
      ],
      "metadata": {
        "id": "ai57PchlPRH4"
      },
      "execution_count": null,
      "outputs": []
    },
    {
      "cell_type": "code",
      "source": [
        "graf = px.scatter(x = df2_pca[:,0], y = df2_pca[:,1], color=classificacao)\n",
        "graf.update_layout(width=800,height=500,title_text='Agrupamento Hierárquico')\n",
        "graf.show()"
      ],
      "metadata": {
        "id": "V3DkPh7FPUWF"
      },
      "execution_count": null,
      "outputs": []
    },
    {
      "cell_type": "markdown",
      "source": [
        "**Agrupamento**"
      ],
      "metadata": {
        "id": "1hIOXXiSPbKd"
      }
    },
    {
      "cell_type": "code",
      "source": [
        "agrupamento = pd.DataFrame(classificacao, columns = ['Grupo2'])\n",
        "agrupamento"
      ],
      "metadata": {
        "id": "hjI5bz5kSbpo"
      },
      "execution_count": null,
      "outputs": []
    },
    {
      "cell_type": "code",
      "source": [
        "df_hc = pd.concat([df2, agrupamento],axis=1)\n",
        "df_hc"
      ],
      "metadata": {
        "id": "NQtAYBeoSfdK"
      },
      "execution_count": null,
      "outputs": []
    }
  ]
}